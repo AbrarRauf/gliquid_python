{
 "cells": [
  {
   "cell_type": "markdown",
   "metadata": {},
   "source": [
    "This Jupyter notebook demonstrates how the Gliquid binary fitting code works, and how it can be used to fit the liquid non-ideal mixing parameters for a user-input system"
   ]
  },
  {
   "cell_type": "code",
   "execution_count": 9,
   "metadata": {},
   "outputs": [],
   "source": [
    "import os\n",
    "\n",
    "# Set the environmental variables for cache directory (where data files are stored) and Materials Project API keys.\n",
    "# The legacy Materials Project API key is only necessary if 'dft_type' is set to 'GGA' or if the element 'Yb' is used.\n",
    "os.environ[\"CACHE_DIRECTORY\"] = \"data\"\n",
    "os.environ[\"LEGACY_MP_API_KEY\"] = \"2d5wyVmhDCpPMAkq\"\n",
    "os.environ[\"NEW_MP_API_KEY\"] = \"Jcw46im7UV1xOfHzbZZ8nkq8BH00Pf6s\"\n",
    "\n",
    "# Cache directory must be set before anything from gliquid_binary can be imported. Otherwise, it will create a new one\n",
    "from gliquid_binary import BinaryLiquid, BLPlotter"
   ]
  },
  {
   "cell_type": "code",
   "execution_count": 10,
   "metadata": {},
   "outputs": [
    {
     "name": "stdout",
     "output_type": "stream",
     "text": [
      "Cu: H_fusion = 13260.0 J/mol, T_fusion = 1357.77 K, T_vaporization = 2835.15 K\n",
      "Mg: H_fusion = 8480.0 J/mol, T_fusion = 923.0 K, T_vaporization = 1363.15 K\n",
      "\n",
      "Loading JSON from cache.\n",
      "reading MPDS liquidus from entry at https://mpds.io/entry/C906729...\n",
      "\n",
      "--- Low temperature phases including component solid solutions ---\n",
      "{'type': 'ss', 'name': '(Cu)', 'comp': 0.000381243, 'cbounds': [[0.000381243, 673.505], [0.0669068, 994.389]], 'tbounds': [[0.000381243, 673.505], [0.000381243, 1352.52]]}\n",
      "{'type': 'lc', 'name': 'MgCu2', 'comp': 0.332825, 'tbounds': [[0.332825, 673.15], [0.332825, 1086.657]]}\n",
      "{'type': 'lc', 'name': 'Mg2Cu', 'comp': 0.6666030000000001, 'tbounds': [[0.6666030000000001, 673.15], [0.6666030000000001, 838.482]]}\n",
      "--- Identified invariant points ---\n",
      "{'type': 'eut', 'comp': 0.22010100000000002, 'temp': 994.1469999999999, 'phases': ['(Cu)', 'MgCu2'], 'phase_comps': [0.000381243, 0.332825]}\n",
      "{'type': 'cmp', 'comp': 0.332825, 'temp': 1086.657, 'phases': ['MgCu2'], 'phase_comps': [0.332825]}\n",
      "{'type': 'eut', 'comp': 0.574707, 'temp': 822.939, 'phases': ['MgCu2', 'Mg2Cu'], 'phase_comps': [0.332825, 0.6666030000000001]}\n",
      "{'type': 'cmp', 'comp': 0.6666030000000001, 'temp': 838.482, 'phases': ['Mg2Cu'], 'phase_comps': [0.6666030000000001]}\n",
      "{'type': 'eut', 'comp': 0.858082, 'temp': 756.712, 'phases': ['Mg2Cu', 'Mg'], 'phase_comps': [0.6666030000000001, 1]}\n",
      "\n",
      "--- Initial constraints ---\n",
      "Invariant: cmp, Type: 0.67 - 0th order, Temperature: 838.5, Equation: Eq(0.222222222222222*a + 186.329333333333*b - 0.0740740740740741*c - 62.1097777777778*d - 2229.68439445835, -10222.8218970375)\n",
      "Invariant: cmp, Type: 0.33 - 0th order, Temperature: 1086.7, Equation: Eq(0.222222222222222*a + 241.479333333333*b + 0.0740740740740741*c + 80.4931111111111*d - 4490.9210220711, -13762.8384561)\n",
      "Maximum composition range fitted: [0, 100]\n",
      "Ignored composition ranges: []\n",
      "\n",
      "--- Beginning Nelder-Mead optimization ---\n",
      "Iteration # 0\n",
      "Best guess: [-20.  20.] 19.700771308046146\n",
      "Height of triangle = 40.0\n",
      "--- 0.6222851276397705 seconds elapsed ---\n",
      "Iteration # 1\n",
      "Best guess: [-20.  20.] 19.700771308046146\n",
      "Height of triangle = 40.0\n",
      "--- 0.5141463279724121 seconds elapsed ---\n",
      "Iteration # 2\n",
      "Best guess: [10. 10.] 16.901818104689912\n",
      "Height of triangle = 35.0\n",
      "--- 0.5758388042449951 seconds elapsed ---\n",
      "Iteration # 3\n",
      "Best guess: [10. 10.] 16.901818104689912\n",
      "Height of triangle = 27.5\n",
      "--- 0.6445930004119873 seconds elapsed ---\n",
      "Iteration # 4\n",
      "Best guess: [10. 10.] 16.901818104689912\n",
      "Height of triangle = 27.5\n",
      "--- 0.5521214008331299 seconds elapsed ---\n",
      "Iteration # 5\n",
      "Best guess: [ 4.375 21.875] 15.000742068940367\n",
      "Height of triangle = 24.6875\n",
      "--- 0.6506083011627197 seconds elapsed ---\n",
      "Iteration # 6\n",
      "Best guess: [ 4.375 21.875] 15.000742068940367\n",
      "Height of triangle = 13.046875\n",
      "--- 0.6683366298675537 seconds elapsed ---\n",
      "Iteration # 7\n",
      "Best guess: [ 4.375 21.875] 15.000742068940367\n",
      "Height of triangle = 9.9609375\n",
      "--- 0.5680699348449707 seconds elapsed ---\n",
      "Iteration # 8\n",
      "Best guess: [ 3.9453125 27.2265625] 14.988622810745392\n",
      "Height of triangle = 9.74609375\n",
      "--- 0.68843674659729 seconds elapsed ---\n",
      "Iteration # 9\n",
      "Best guess: [-0.71289062 27.06054688] 14.821078303604388\n",
      "Height of triangle = 21.07421875\n",
      "--- 0.5757606029510498 seconds elapsed ---\n",
      "Iteration # 10\n",
      "Best guess: [-3.90136719 37.68066406] 13.896804234626813\n",
      "Height of triangle = 10.6201171875\n",
      "--- 0.681847333908081 seconds elapsed ---\n",
      "Iteration # 11\n",
      "Best guess: [-3.90136719 37.68066406] 13.896804234626813\n",
      "Height of triangle = 37.00439453125\n",
      "--- 0.6050362586975098 seconds elapsed ---\n",
      "Iteration # 12\n",
      "Best guess: [-12.57629395  54.81384277] 12.918679864463146\n",
      "Height of triangle = 22.6092529296875\n",
      "--- 0.5634286403656006 seconds elapsed ---\n",
      "Iteration # 13\n",
      "Best guess: [-11.04431152  57.55187988] 12.133478111333535\n",
      "Height of triangle = 18.502197265625\n",
      "--- 0.6991045475006104 seconds elapsed ---\n",
      "Iteration # 14\n",
      "Best guess: [-11.04431152  57.55187988] 12.133478111333535\n",
      "Height of triangle = 9.2510986328125\n",
      "--- 0.6633532047271729 seconds elapsed ---\n",
      "Iteration # 15\n",
      "Best guess: [-11.04431152  57.55187988] 12.133478111333535\n",
      "Height of triangle = 5.99456787109375\n",
      "--- 0.5253913402557373 seconds elapsed ---\n",
      "Iteration # 16\n",
      "Best guess: [-8.30108643 54.29534912] 12.006834219893205\n",
      "Height of triangle = 17.4652099609375\n",
      "--- 0.5736377239227295 seconds elapsed ---\n",
      "Iteration # 17\n",
      "Best guess: [-9.35195923 64.65621948] 11.559231490380656\n",
      "Height of triangle = 10.360870361328125\n",
      "--- 0.6458263397216797 seconds elapsed ---\n",
      "Iteration # 18\n",
      "Best guess: [-9.35195923 64.65621948] 11.559231490380656\n",
      "Height of triangle = 8.251628875732422\n",
      "--- 0.638970136642456 seconds elapsed ---\n",
      "Iteration # 19\n",
      "Best guess: [-9.35195923 64.65621948] 11.559231490380656\n",
      "Height of triangle = 6.235055923461914\n",
      "--- 0.5563161373138428 seconds elapsed ---\n",
      "Iteration # 20\n",
      "Best guess: [-10.05227089  62.63964653] 11.513411996211062\n",
      "Height of triangle = 5.22676944732666\n",
      "--- 0.6205253601074219 seconds elapsed ---\n",
      "Iteration # 21\n",
      "Best guess: [-10.05227089  62.63964653] 11.513411996211062\n",
      "Height of triangle = 2.819122076034546\n",
      "--- 0.6235275268554688 seconds elapsed ---\n",
      "Iteration # 22\n",
      "Best guess: [-9.45405424 63.24665844] 11.497162670431408\n",
      "Height of triangle = 1.9086042046546936\n",
      "--- 0.6212918758392334 seconds elapsed ---\n",
      "Iteration # 23\n",
      "Best guess: [-9.40659508 61.98885038] 11.493118291446892\n",
      "Height of triangle = 1.2578080594539642\n",
      "--- 0.623499870300293 seconds elapsed ---\n",
      "Iteration # 24\n",
      "Best guess: [-9.74129777 62.62870047] 11.46521090241371\n",
      "Height of triangle = 0.9378830157220364\n",
      "--- 0.6190729141235352 seconds elapsed ---\n",
      "--- Nelder-Mead converged in 15.426973342895508 seconds ---\n",
      "Mean temperature deviation per point between liquidus curves = 11.46521090241371 \n",
      "\n",
      "--- Cu-Mg non-ideal mixing parameter fitting results: ---\n",
      "MAE: 11.465\n",
      "RMSE: 17.745\n",
      "NORM_MAE: 0.008\n",
      "NORM_RMSE: 0.013\n",
      "L0_A: -32060.177\n",
      "L0_B: -9.741\n",
      "L1_A: -65289.922\n",
      "L1_B: 62.629\n",
      "L0: -42354.206\n",
      "L1: 892.394\n"
     ]
    },
    {
     "data": {
      "application/vnd.plotly.v1+json": {
       "config": {
        "plotlyServerURL": "https://plot.ly"
       },
       "data": [
        {
         "line": {
          "color": "#B82E2E",
          "dash": "dash",
          "width": 4
         },
         "mode": "lines",
         "showlegend": false,
         "type": "scatter",
         "x": [
          0.0381243,
          1.44819,
          2.85028,
          4.23608,
          5.60578,
          6.959569999999999,
          8.29764,
          9.62018,
          10.9274,
          12.2194,
          13.496500000000001,
          14.758799999999999,
          16.0065,
          17.2398,
          18.4588,
          19.6639,
          20.8551,
          22.0101,
          22.944,
          23.8676,
          24.7438,
          25.5749,
          26.3629,
          27.11,
          27.8186,
          28.4908,
          29.1288,
          29.734899999999996,
          30.311299999999996,
          30.860299999999995,
          31.3843,
          31.885600000000004,
          32.3668,
          32.8304,
          33.2787,
          34.7719,
          36.2493,
          37.7116,
          39.1603,
          40.597,
          42.0234,
          43.4413,
          44.8521,
          46.2576,
          47.6591,
          49.0583,
          50.4567,
          51.8556,
          53.25650000000001,
          54.6609,
          56.0703,
          57.470699999999994,
          58.0299,
          58.6103,
          59.1833,
          59.74929999999999,
          60.3087,
          60.861900000000006,
          61.409400000000005,
          61.9516,
          62.4888,
          63.02150000000001,
          63.550200000000004,
          64.0751,
          64.5969,
          65.1158,
          65.6323,
          66.1469,
          66.6598,
          67.9417,
          69.2016,
          70.4395,
          71.6561,
          72.8519,
          74.0278,
          75.1844,
          76.3223,
          77.4424,
          78.5452,
          79.6315,
          80.7021,
          81.7575,
          82.7985,
          83.8259,
          84.8403,
          85.8082,
          86.5344,
          87.2957,
          88.0684,
          88.8524,
          89.6474,
          90.4533,
          91.2698,
          92.0968,
          92.934,
          93.7811,
          94.6381,
          95.5047,
          96.3807,
          97.2659,
          98.1601,
          99.063,
          99.9619
         ],
         "y": [
          1083.62,
          1066.63,
          1048.94,
          1030.6599999999999,
          1011.8100000000001,
          992.39,
          972.426,
          951.928,
          930.909,
          909.3829999999999,
          887.362,
          864.861,
          841.8939999999999,
          818.4719999999999,
          794.61,
          770.321,
          745.619,
          720.997,
          729.788,
          738.662,
          747.213,
          755.408,
          763.2120000000001,
          770.59,
          777.5079999999999,
          783.9319999999999,
          789.8280000000001,
          795.161,
          799.899,
          804.005,
          807.447,
          810.1900000000002,
          812.198,
          813.4339999999999,
          813.86,
          812.4530000000001,
          808.341,
          801.715,
          792.765,
          781.68,
          768.6459999999998,
          753.849,
          737.473,
          719.704,
          700.725,
          680.722,
          659.88,
          638.383,
          616.417,
          594.165,
          571.814,
          549.789,
          551.417,
          553.047,
          554.59,
          556.045,
          557.408,
          558.677,
          559.85,
          560.923,
          561.895,
          562.762,
          563.522,
          564.173,
          564.711,
          565.134,
          565.439,
          565.624,
          565.687,
          565.309,
          564.199,
          562.391,
          559.92,
          556.82,
          553.127,
          548.875,
          544.1,
          538.835,
          533.117,
          526.979,
          520.456,
          513.584,
          506.3960000000001,
          498.929,
          491.21500000000003,
          483.562,
          494.827,
          506.279,
          517.545,
          528.616,
          539.481,
          550.131,
          560.556,
          570.745,
          580.689,
          590.378,
          599.801,
          608.949,
          617.812,
          626.38,
          634.643,
          642.591,
          650.107
         ]
        },
        {
         "hovertemplate": "label=MgCu2<br>x=%{x}<br>t=%{y}<extra></extra>",
         "legendgroup": "MgCu2",
         "line": {
          "color": "rgb(246, 207, 113)",
          "dash": "solid",
          "width": 4
         },
         "marker": {
          "symbol": "circle"
         },
         "mode": "lines",
         "name": "MgCu2",
         "orientation": "v",
         "showlegend": false,
         "type": "scatter",
         "x": [
          33,
          33,
          33,
          33,
          33,
          33,
          33,
          33,
          33,
          33,
          33,
          33,
          33,
          33,
          33,
          33,
          33,
          33,
          33,
          33,
          33,
          33,
          33,
          33,
          33,
          33,
          33,
          33,
          33,
          33,
          33,
          33,
          33,
          33,
          33,
          33,
          33,
          33,
          33,
          33,
          33,
          33
         ],
         "xaxis": "x",
         "y": [
          550.00503931885,
          554.0582739336311,
          714.3649049625697,
          717.3853622269104,
          776.3283464215882,
          749.0411472955456,
          734.2278690855187,
          755.7042328403921,
          766.4943049879661,
          703.6637887026693,
          717.9135656615038,
          743.985045648175,
          731.3728177478091,
          571.3121376349458,
          588.6781058699033,
          623.2700419791619,
          606.0370718264303,
          688.6907160789244,
          673.0722164295954,
          640.260454527409,
          656.8963369044953,
          799.9411354104205,
          810.724397493385,
          805.8283901191979,
          820.4843291390524,
          820.4843291390524,
          819.5096248722565,
          762.0546553078756,
          773.4539330393337,
          783.3889052580543,
          814.5661188063926,
          805.4998416142884,
          810.5648086466457,
          785.1876264501517,
          793.0604866186567,
          814.6333559607907,
          817.5602532998145,
          799.3250717063444,
          791.980362926253,
          819.5054607687401,
          817.5381607624416,
          -273.15
         ],
         "yaxis": "y"
        },
        {
         "hovertemplate": "label=Mg2Cu<br>x=%{x}<br>t=%{y}<extra></extra>",
         "legendgroup": "Mg2Cu",
         "line": {
          "color": "rgb(248, 156, 116)",
          "dash": "solid",
          "width": 4
         },
         "marker": {
          "symbol": "circle"
         },
         "mode": "lines",
         "name": "Mg2Cu",
         "orientation": "v",
         "showlegend": false,
         "type": "scatter",
         "x": [
          67,
          67,
          67,
          67,
          67,
          67,
          67,
          67,
          67,
          67,
          67,
          67,
          67,
          67,
          67,
          67,
          67,
          67,
          67,
          67,
          67,
          67,
          67,
          67,
          67,
          67,
          67,
          67,
          67
         ],
         "xaxis": "x",
         "y": [
          550.00503931885,
          521.1144091828862,
          555.0312490017536,
          567.7699352285324,
          552.9803343086976,
          551.9969103286661,
          548.7219249787782,
          557.8025703845484,
          537.6777973399882,
          533.6615136690156,
          525.2373739672315,
          529.5096202077126,
          541.5403451003674,
          545.2289316680648,
          567.7794817419932,
          566.9969089514841,
          568.1763071684334,
          568.1763071684334,
          559.3931223372173,
          556.4102322067273,
          561.9336901188627,
          564.0365616396276,
          566.9490194340553,
          565.7065703720957,
          562.4704851895077,
          560.2891949312259,
          564.3271229644623,
          565.8413121977923,
          -273.15
         ],
         "yaxis": "y"
        },
        {
         "hovertemplate": "x=%{x}<br>y=%{y}<extra></extra>",
         "legendgroup": "",
         "line": {
          "color": "Silver",
          "dash": "solid",
          "width": 4
         },
         "marker": {
          "symbol": "circle"
         },
         "mode": "lines",
         "name": "",
         "orientation": "v",
         "showlegend": false,
         "type": "scatter",
         "x": [
          33,
          57.99999999999999,
          67
         ],
         "xaxis": "x",
         "y": [
          550.00503931885,
          550.00503931885,
          550.00503931885
         ],
         "yaxis": "y"
        },
        {
         "hovertemplate": "x=%{x}<br>y=%{y}<extra></extra>",
         "legendgroup": "",
         "line": {
          "color": "Silver",
          "dash": "solid",
          "width": 4
         },
         "marker": {
          "symbol": "circle"
         },
         "mode": "lines",
         "name": "",
         "orientation": "v",
         "showlegend": false,
         "type": "scatter",
         "x": [
          0,
          19,
          33
         ],
         "xaxis": "x",
         "y": [
          714.3649049625697,
          714.3649049625697,
          714.3649049625697
         ],
         "yaxis": "y"
        },
        {
         "hovertemplate": "x=%{x}<br>y=%{y}<extra></extra>",
         "legendgroup": "",
         "line": {
          "color": "Silver",
          "dash": "solid",
          "width": 4
         },
         "marker": {
          "symbol": "circle"
         },
         "mode": "lines",
         "name": "",
         "orientation": "v",
         "showlegend": false,
         "type": "scatter",
         "x": [
          67,
          84,
          100
         ],
         "xaxis": "x",
         "y": [
          521.1144091828862,
          521.1144091828862,
          521.1144091828862
         ],
         "yaxis": "y"
        },
        {
         "hovertemplate": "label=L<br>x=%{x}<br>t=%{y}<extra></extra>",
         "legendgroup": "L",
         "line": {
          "color": "cornflowerblue",
          "dash": "solid",
          "width": 4
         },
         "marker": {
          "symbol": "circle"
         },
         "mode": "lines",
         "name": "L",
         "orientation": "v",
         "showlegend": false,
         "type": "scatter",
         "x": [
          0,
          0,
          1,
          2,
          3,
          4,
          5,
          6,
          7.000000000000001,
          8,
          9,
          10,
          11,
          12,
          13,
          14.000000000000002,
          15,
          16,
          17,
          18,
          19,
          20,
          21,
          22,
          23,
          24,
          25,
          26,
          27,
          28.000000000000004,
          28.999999999999996,
          30,
          31,
          32,
          33,
          34,
          35,
          36,
          37,
          38,
          39,
          40,
          41,
          42,
          43,
          44,
          45,
          46,
          47,
          48,
          49,
          50,
          51,
          52,
          53,
          54,
          55.00000000000001,
          56.00000000000001,
          57.00000000000001,
          57.99999999999999,
          59,
          60,
          61,
          62,
          63,
          64,
          65,
          66,
          67,
          68,
          69,
          70,
          71,
          72,
          73,
          74,
          75,
          76,
          77,
          78,
          79,
          80,
          81,
          82,
          83,
          84,
          85,
          86,
          87,
          88,
          89,
          90,
          91,
          92,
          93,
          94,
          95,
          96,
          97,
          98,
          99,
          100,
          100
         ],
         "xaxis": "x",
         "y": [
          1083.62,
          1083.62,
          1067.8912481458,
          1056.1986189696945,
          1044.77181193562,
          1033.2493835231949,
          1021.4285963182887,
          1009.1388905687187,
          996.2150428876176,
          982.4868678143495,
          967.7730423804763,
          951.8760584358812,
          934.577296272901,
          915.6317518356694,
          894.7621123589278,
          871.6519161237444,
          845.9375236926852,
          817.198593827684,
          784.9467052896952,
          748.6116987922873,
          714.3649049625697,
          717.3853622269104,
          734.2278690855187,
          749.0411472955456,
          762.0546553078756,
          773.4539330393337,
          783.3889052580543,
          791.980362926253,
          799.3250717063444,
          805.4998416142884,
          810.5648086466457,
          814.5661188063926,
          817.5381607624416,
          819.5054607687401,
          820.4843291390524,
          819.5096248722565,
          817.5602532998145,
          814.6333559607907,
          810.724397493385,
          805.8283901191979,
          799.9411354104205,
          793.0604866186567,
          785.1876264501517,
          776.3283464215882,
          766.4943049879661,
          755.7042328403921,
          743.985045648175,
          731.3728177478091,
          717.9135656615038,
          703.6637887026693,
          688.6907160789244,
          673.0722164295954,
          656.8963369044953,
          640.260454527409,
          623.2700419791619,
          606.0370718264303,
          588.6781058699033,
          571.3121376349458,
          554.0582739336311,
          550.00503931885,
          552.9803343086976,
          556.4102322067273,
          559.3931223372173,
          561.9336901188627,
          564.0365616396276,
          565.7065703720957,
          566.9490194340553,
          567.7699352285324,
          568.1763071684334,
          567.7794817419932,
          566.9969089514841,
          565.8413121977923,
          564.3271229644623,
          562.4704851895077,
          560.2891949312259,
          557.8025703845484,
          555.0312490017536,
          551.9969103286661,
          548.7219249787782,
          545.2289316680648,
          541.5403451003674,
          537.6777973399882,
          533.6615136690156,
          529.5096202077126,
          525.2373739672315,
          521.1144091828862,
          521.5512865691617,
          528.7171872506142,
          536.0521009946441,
          543.5717381447664,
          551.2889491155115,
          559.2127175670888,
          567.347008319008,
          575.6895135338474,
          584.2303878728919,
          592.9511463723937,
          601.8240687309457,
          610.8128905706914,
          619.8770363978224,
          628.988487079206,
          638.2215992041419,
          650.107,
          650.107
         ],
         "yaxis": "y"
        },
        {
         "line": {
          "color": "#B82E2E",
          "dash": "dash"
         },
         "mode": "lines",
         "name": "Digitized Liquidus",
         "showlegend": true,
         "type": "scatter",
         "x": [
          null
         ],
         "y": [
          null
         ]
        },
        {
         "marker": {
          "color": "cornflowerblue"
         },
         "mode": "lines",
         "name": "Fitted Liquidus",
         "showlegend": true,
         "type": "scatter",
         "x": [
          null
         ],
         "y": [
          null
         ]
        }
       ],
       "layout": {
        "annotations": [
         {
          "borderpad": 5,
          "font": {
           "color": "black",
           "size": 18
          },
          "showarrow": false,
          "text": "MgCu2",
          "textangle": -90,
          "x": 30.5,
          "y": 400,
          "yanchor": "bottom"
         },
         {
          "borderpad": 5,
          "font": {
           "color": "black",
           "size": 18
          },
          "showarrow": false,
          "text": "Mg2Cu",
          "textangle": -90,
          "x": 64.5,
          "y": 400,
          "yanchor": "bottom"
         },
         {
          "font": {
           "color": "black",
           "size": 18
          },
          "showarrow": false,
          "text": "L",
          "x": 50,
          "y": 1114
         }
        ],
        "font": {
         "size": 22
        },
        "height": 700,
        "legend": {
         "font": {
          "size": 18
         },
         "x": 0.99,
         "xanchor": "right",
         "y": 0.99,
         "yanchor": "top"
        },
        "plot_bgcolor": "white",
        "showlegend": true,
        "template": {
         "data": {
          "bar": [
           {
            "error_x": {
             "color": "#2a3f5f"
            },
            "error_y": {
             "color": "#2a3f5f"
            },
            "marker": {
             "line": {
              "color": "#E5ECF6",
              "width": 0.5
             },
             "pattern": {
              "fillmode": "overlay",
              "size": 10,
              "solidity": 0.2
             }
            },
            "type": "bar"
           }
          ],
          "barpolar": [
           {
            "marker": {
             "line": {
              "color": "#E5ECF6",
              "width": 0.5
             },
             "pattern": {
              "fillmode": "overlay",
              "size": 10,
              "solidity": 0.2
             }
            },
            "type": "barpolar"
           }
          ],
          "carpet": [
           {
            "aaxis": {
             "endlinecolor": "#2a3f5f",
             "gridcolor": "white",
             "linecolor": "white",
             "minorgridcolor": "white",
             "startlinecolor": "#2a3f5f"
            },
            "baxis": {
             "endlinecolor": "#2a3f5f",
             "gridcolor": "white",
             "linecolor": "white",
             "minorgridcolor": "white",
             "startlinecolor": "#2a3f5f"
            },
            "type": "carpet"
           }
          ],
          "choropleth": [
           {
            "colorbar": {
             "outlinewidth": 0,
             "ticks": ""
            },
            "type": "choropleth"
           }
          ],
          "contour": [
           {
            "colorbar": {
             "outlinewidth": 0,
             "ticks": ""
            },
            "colorscale": [
             [
              0,
              "#0d0887"
             ],
             [
              0.1111111111111111,
              "#46039f"
             ],
             [
              0.2222222222222222,
              "#7201a8"
             ],
             [
              0.3333333333333333,
              "#9c179e"
             ],
             [
              0.4444444444444444,
              "#bd3786"
             ],
             [
              0.5555555555555556,
              "#d8576b"
             ],
             [
              0.6666666666666666,
              "#ed7953"
             ],
             [
              0.7777777777777778,
              "#fb9f3a"
             ],
             [
              0.8888888888888888,
              "#fdca26"
             ],
             [
              1,
              "#f0f921"
             ]
            ],
            "type": "contour"
           }
          ],
          "contourcarpet": [
           {
            "colorbar": {
             "outlinewidth": 0,
             "ticks": ""
            },
            "type": "contourcarpet"
           }
          ],
          "heatmap": [
           {
            "colorbar": {
             "outlinewidth": 0,
             "ticks": ""
            },
            "colorscale": [
             [
              0,
              "#0d0887"
             ],
             [
              0.1111111111111111,
              "#46039f"
             ],
             [
              0.2222222222222222,
              "#7201a8"
             ],
             [
              0.3333333333333333,
              "#9c179e"
             ],
             [
              0.4444444444444444,
              "#bd3786"
             ],
             [
              0.5555555555555556,
              "#d8576b"
             ],
             [
              0.6666666666666666,
              "#ed7953"
             ],
             [
              0.7777777777777778,
              "#fb9f3a"
             ],
             [
              0.8888888888888888,
              "#fdca26"
             ],
             [
              1,
              "#f0f921"
             ]
            ],
            "type": "heatmap"
           }
          ],
          "heatmapgl": [
           {
            "colorbar": {
             "outlinewidth": 0,
             "ticks": ""
            },
            "colorscale": [
             [
              0,
              "#0d0887"
             ],
             [
              0.1111111111111111,
              "#46039f"
             ],
             [
              0.2222222222222222,
              "#7201a8"
             ],
             [
              0.3333333333333333,
              "#9c179e"
             ],
             [
              0.4444444444444444,
              "#bd3786"
             ],
             [
              0.5555555555555556,
              "#d8576b"
             ],
             [
              0.6666666666666666,
              "#ed7953"
             ],
             [
              0.7777777777777778,
              "#fb9f3a"
             ],
             [
              0.8888888888888888,
              "#fdca26"
             ],
             [
              1,
              "#f0f921"
             ]
            ],
            "type": "heatmapgl"
           }
          ],
          "histogram": [
           {
            "marker": {
             "pattern": {
              "fillmode": "overlay",
              "size": 10,
              "solidity": 0.2
             }
            },
            "type": "histogram"
           }
          ],
          "histogram2d": [
           {
            "colorbar": {
             "outlinewidth": 0,
             "ticks": ""
            },
            "colorscale": [
             [
              0,
              "#0d0887"
             ],
             [
              0.1111111111111111,
              "#46039f"
             ],
             [
              0.2222222222222222,
              "#7201a8"
             ],
             [
              0.3333333333333333,
              "#9c179e"
             ],
             [
              0.4444444444444444,
              "#bd3786"
             ],
             [
              0.5555555555555556,
              "#d8576b"
             ],
             [
              0.6666666666666666,
              "#ed7953"
             ],
             [
              0.7777777777777778,
              "#fb9f3a"
             ],
             [
              0.8888888888888888,
              "#fdca26"
             ],
             [
              1,
              "#f0f921"
             ]
            ],
            "type": "histogram2d"
           }
          ],
          "histogram2dcontour": [
           {
            "colorbar": {
             "outlinewidth": 0,
             "ticks": ""
            },
            "colorscale": [
             [
              0,
              "#0d0887"
             ],
             [
              0.1111111111111111,
              "#46039f"
             ],
             [
              0.2222222222222222,
              "#7201a8"
             ],
             [
              0.3333333333333333,
              "#9c179e"
             ],
             [
              0.4444444444444444,
              "#bd3786"
             ],
             [
              0.5555555555555556,
              "#d8576b"
             ],
             [
              0.6666666666666666,
              "#ed7953"
             ],
             [
              0.7777777777777778,
              "#fb9f3a"
             ],
             [
              0.8888888888888888,
              "#fdca26"
             ],
             [
              1,
              "#f0f921"
             ]
            ],
            "type": "histogram2dcontour"
           }
          ],
          "mesh3d": [
           {
            "colorbar": {
             "outlinewidth": 0,
             "ticks": ""
            },
            "type": "mesh3d"
           }
          ],
          "parcoords": [
           {
            "line": {
             "colorbar": {
              "outlinewidth": 0,
              "ticks": ""
             }
            },
            "type": "parcoords"
           }
          ],
          "pie": [
           {
            "automargin": true,
            "type": "pie"
           }
          ],
          "scatter": [
           {
            "fillpattern": {
             "fillmode": "overlay",
             "size": 10,
             "solidity": 0.2
            },
            "type": "scatter"
           }
          ],
          "scatter3d": [
           {
            "line": {
             "colorbar": {
              "outlinewidth": 0,
              "ticks": ""
             }
            },
            "marker": {
             "colorbar": {
              "outlinewidth": 0,
              "ticks": ""
             }
            },
            "type": "scatter3d"
           }
          ],
          "scattercarpet": [
           {
            "marker": {
             "colorbar": {
              "outlinewidth": 0,
              "ticks": ""
             }
            },
            "type": "scattercarpet"
           }
          ],
          "scattergeo": [
           {
            "marker": {
             "colorbar": {
              "outlinewidth": 0,
              "ticks": ""
             }
            },
            "type": "scattergeo"
           }
          ],
          "scattergl": [
           {
            "marker": {
             "colorbar": {
              "outlinewidth": 0,
              "ticks": ""
             }
            },
            "type": "scattergl"
           }
          ],
          "scattermapbox": [
           {
            "marker": {
             "colorbar": {
              "outlinewidth": 0,
              "ticks": ""
             }
            },
            "type": "scattermapbox"
           }
          ],
          "scatterpolar": [
           {
            "marker": {
             "colorbar": {
              "outlinewidth": 0,
              "ticks": ""
             }
            },
            "type": "scatterpolar"
           }
          ],
          "scatterpolargl": [
           {
            "marker": {
             "colorbar": {
              "outlinewidth": 0,
              "ticks": ""
             }
            },
            "type": "scatterpolargl"
           }
          ],
          "scatterternary": [
           {
            "marker": {
             "colorbar": {
              "outlinewidth": 0,
              "ticks": ""
             }
            },
            "type": "scatterternary"
           }
          ],
          "surface": [
           {
            "colorbar": {
             "outlinewidth": 0,
             "ticks": ""
            },
            "colorscale": [
             [
              0,
              "#0d0887"
             ],
             [
              0.1111111111111111,
              "#46039f"
             ],
             [
              0.2222222222222222,
              "#7201a8"
             ],
             [
              0.3333333333333333,
              "#9c179e"
             ],
             [
              0.4444444444444444,
              "#bd3786"
             ],
             [
              0.5555555555555556,
              "#d8576b"
             ],
             [
              0.6666666666666666,
              "#ed7953"
             ],
             [
              0.7777777777777778,
              "#fb9f3a"
             ],
             [
              0.8888888888888888,
              "#fdca26"
             ],
             [
              1,
              "#f0f921"
             ]
            ],
            "type": "surface"
           }
          ],
          "table": [
           {
            "cells": {
             "fill": {
              "color": "#EBF0F8"
             },
             "line": {
              "color": "white"
             }
            },
            "header": {
             "fill": {
              "color": "#C8D4E3"
             },
             "line": {
              "color": "white"
             }
            },
            "type": "table"
           }
          ]
         },
         "layout": {
          "annotationdefaults": {
           "arrowcolor": "#2a3f5f",
           "arrowhead": 0,
           "arrowwidth": 1
          },
          "autotypenumbers": "strict",
          "coloraxis": {
           "colorbar": {
            "outlinewidth": 0,
            "ticks": ""
           }
          },
          "colorscale": {
           "diverging": [
            [
             0,
             "#8e0152"
            ],
            [
             0.1,
             "#c51b7d"
            ],
            [
             0.2,
             "#de77ae"
            ],
            [
             0.3,
             "#f1b6da"
            ],
            [
             0.4,
             "#fde0ef"
            ],
            [
             0.5,
             "#f7f7f7"
            ],
            [
             0.6,
             "#e6f5d0"
            ],
            [
             0.7,
             "#b8e186"
            ],
            [
             0.8,
             "#7fbc41"
            ],
            [
             0.9,
             "#4d9221"
            ],
            [
             1,
             "#276419"
            ]
           ],
           "sequential": [
            [
             0,
             "#0d0887"
            ],
            [
             0.1111111111111111,
             "#46039f"
            ],
            [
             0.2222222222222222,
             "#7201a8"
            ],
            [
             0.3333333333333333,
             "#9c179e"
            ],
            [
             0.4444444444444444,
             "#bd3786"
            ],
            [
             0.5555555555555556,
             "#d8576b"
            ],
            [
             0.6666666666666666,
             "#ed7953"
            ],
            [
             0.7777777777777778,
             "#fb9f3a"
            ],
            [
             0.8888888888888888,
             "#fdca26"
            ],
            [
             1,
             "#f0f921"
            ]
           ],
           "sequentialminus": [
            [
             0,
             "#0d0887"
            ],
            [
             0.1111111111111111,
             "#46039f"
            ],
            [
             0.2222222222222222,
             "#7201a8"
            ],
            [
             0.3333333333333333,
             "#9c179e"
            ],
            [
             0.4444444444444444,
             "#bd3786"
            ],
            [
             0.5555555555555556,
             "#d8576b"
            ],
            [
             0.6666666666666666,
             "#ed7953"
            ],
            [
             0.7777777777777778,
             "#fb9f3a"
            ],
            [
             0.8888888888888888,
             "#fdca26"
            ],
            [
             1,
             "#f0f921"
            ]
           ]
          },
          "colorway": [
           "#636efa",
           "#EF553B",
           "#00cc96",
           "#ab63fa",
           "#FFA15A",
           "#19d3f3",
           "#FF6692",
           "#B6E880",
           "#FF97FF",
           "#FECB52"
          ],
          "font": {
           "color": "#2a3f5f"
          },
          "geo": {
           "bgcolor": "white",
           "lakecolor": "white",
           "landcolor": "#E5ECF6",
           "showlakes": true,
           "showland": true,
           "subunitcolor": "white"
          },
          "hoverlabel": {
           "align": "left"
          },
          "hovermode": "closest",
          "mapbox": {
           "style": "light"
          },
          "paper_bgcolor": "white",
          "plot_bgcolor": "#E5ECF6",
          "polar": {
           "angularaxis": {
            "gridcolor": "white",
            "linecolor": "white",
            "ticks": ""
           },
           "bgcolor": "#E5ECF6",
           "radialaxis": {
            "gridcolor": "white",
            "linecolor": "white",
            "ticks": ""
           }
          },
          "scene": {
           "xaxis": {
            "backgroundcolor": "#E5ECF6",
            "gridcolor": "white",
            "gridwidth": 2,
            "linecolor": "white",
            "showbackground": true,
            "ticks": "",
            "zerolinecolor": "white"
           },
           "yaxis": {
            "backgroundcolor": "#E5ECF6",
            "gridcolor": "white",
            "gridwidth": 2,
            "linecolor": "white",
            "showbackground": true,
            "ticks": "",
            "zerolinecolor": "white"
           },
           "zaxis": {
            "backgroundcolor": "#E5ECF6",
            "gridcolor": "white",
            "gridwidth": 2,
            "linecolor": "white",
            "showbackground": true,
            "ticks": "",
            "zerolinecolor": "white"
           }
          },
          "shapedefaults": {
           "line": {
            "color": "#2a3f5f"
           }
          },
          "ternary": {
           "aaxis": {
            "gridcolor": "white",
            "linecolor": "white",
            "ticks": ""
           },
           "baxis": {
            "gridcolor": "white",
            "linecolor": "white",
            "ticks": ""
           },
           "bgcolor": "#E5ECF6",
           "caxis": {
            "gridcolor": "white",
            "linecolor": "white",
            "ticks": ""
           }
          },
          "title": {
           "x": 0.05
          },
          "xaxis": {
           "automargin": true,
           "gridcolor": "white",
           "linecolor": "white",
           "ticks": "",
           "title": {
            "standoff": 15
           },
           "zerolinecolor": "white",
           "zerolinewidth": 2
          },
          "yaxis": {
           "automargin": true,
           "gridcolor": "white",
           "linecolor": "white",
           "ticks": "",
           "title": {
            "standoff": 15
           },
           "zerolinecolor": "white",
           "zerolinewidth": 2
          }
         }
        },
        "title": {
         "text": "Cu-Mg Fitted Binary Phase Diagram"
        },
        "width": 960,
        "xaxis": {
         "linecolor": "black",
         "linewidth": 2,
         "mirror": true,
         "range": [
          0,
          100
         ],
         "showline": true,
         "tickcolor": "black",
         "tickformat": ".0f",
         "ticks": "outside",
         "title": {
          "text": "Mg (at. %)"
         }
        },
        "yaxis": {
         "linecolor": "black",
         "linewidth": 2,
         "mirror": true,
         "range": [
          400,
          1170
         ],
         "showline": true,
         "tickcolor": "black",
         "ticks": "outside",
         "ticksuffix": " ",
         "title": {
          "text": "T (°C)"
         }
        }
       }
      }
     },
     "metadata": {},
     "output_type": "display_data"
    },
    {
     "data": {
      "image/png": "[encoded data removed]",
      "text/plain": [
       "<Figure size 800x500 with 3 Axes>"
      ]
     },
     "metadata": {},
     "output_type": "display_data"
    }
   ],
   "source": [
    "cu_mg_system = BinaryLiquid.from_cache('Cu-Mg')\n",
    "fit_results = cu_mg_system.fit_parameters(verbose=True)[0]\n",
    "\n",
    "print(\"--- Cu-Mg non-ideal mixing parameter fitting results: ---\")\n",
    "for field, value in fit_results.items():\n",
    "    if isinstance(value, float):\n",
    "        print(f'{field.upper()}: {value:.3f}')   \n",
    "\n",
    "cu_mg_plotter = BLPlotter(cu_mg_system)\n",
    "cu_mg_plotter.show('fit+liq')\n",
    "cu_mg_plotter.show('nmp')"
   ]
  },
  {
   "cell_type": "code",
   "execution_count": 3,
   "metadata": {},
   "outputs": [
    {
     "name": "stdout",
     "output_type": "stream",
     "text": [
      "Loading fitting results from cache\n"
     ]
    }
   ],
   "source": [
    "import json\n",
    "import numpy as np\n",
    "\n",
    "other_systems_to_fit = ['C-Nb', 'Cr-Eu', 'B-Dy', 'Ag-V', 'Al-Cu']\n",
    "\n",
    "cache_file = os.path.join(os.getenv(\"CACHE_DIRECTORY\", \"\"), \"fit_results_cache\")\n",
    "\n",
    "# If results are already cached, skip the fitting of the systems. If you wish to re-run the fitting, delete the cache\n",
    "if os.path.exists(cache_file):\n",
    "    with open(cache_file, \"r\") as f:\n",
    "        print(\"Loading fitting results from cache\")\n",
    "        fitting_results = json.load(f)\n",
    "        for sys_results in fitting_results.values():\n",
    "            sys_results['nmpath'] = np.array(sys_results.get('nmpath', []))\n",
    "else:\n",
    "    fitting_results = {}\n",
    "\n",
    "    # Iterate through systems and fit non-ideal mixing parameters\n",
    "    for sys_name in other_systems_to_fit:\n",
    "        bl = BinaryLiquid.from_cache(sys_name)\n",
    "        fitting_attempts_data = bl.fit_parameters(verbose=False, n_opts=3)\n",
    "        best_fit_data = min(fitting_attempts_data, key=lambda x: x['mae'], default={})\n",
    "        fitting_results[sys_name] = best_fit_data\n",
    "\n",
    "    # Cache the results\n",
    "    with open(cache_file, \"w\") as f:\n",
    "        print(\"Saving fitting results to cache\")\n",
    "        for sys_results in fitting_results.values():\n",
    "            sys_results['nmpath'] = sys_results.get('nmpath', []).tolist() # Numpy ndarray is not JSON serializable\n",
    "        json.dump(fitting_results, f)"
   ]
  },
  {
   "cell_type": "code",
   "execution_count": null,
   "metadata": {},
   "outputs": [
    {
     "name": "stdout",
     "output_type": "stream",
     "text": [
      "C-Nb: MAE = 37.979053807322046\n",
      "C: H_fusion = 117400.0 J/mol, T_fusion = 4762.0 K, T_vaporization = 5100.15 K\n",
      "Nb: H_fusion = 30000.0 J/mol, T_fusion = 2750.0 K, T_vaporization = 5017.15 K\n",
      "\n",
      "Loading JSON from cache.\n",
      "reading MPDS liquidus from entry at https://mpds.io/entry/C905339...\n",
      "\n"
     ]
    },
    {
     "data": {
      "application/vnd.plotly.v1+json": {
       "config": {
        "plotlyServerURL": "https://plot.ly"
       },
       "data": [
        {
         "line": {
          "color": "#B82E2E",
          "dash": "dash",
          "width": 4
         },
         "mode": "lines",
         "showlegend": false,
         "type": "scatter",
         "x": [
          0.0381243,
          1.87686,
          3.8245800000000005,
          5.85123,
          7.95269,
          10.1245,
          12.3627,
          14.6634,
          17.0223,
          19.4354,
          21.8983,
          24.4067,
          26.9564,
          29.5431,
          32.1626,
          34.8108,
          37.4837,
          40.155,
          41.0198,
          41.9189,
          42.8172,
          43.7143,
          44.6095,
          45.5022,
          46.3919,
          47.278,
          48.1599,
          49.037,
          49.9087,
          50.7744,
          51.63369999999999,
          52.48579999999999,
          53.3301,
          54.16620000000001,
          54.9934,
          56.4637,
          57.9009,
          59.3201,
          60.73660000000001,
          62.16579999999999,
          63.6229,
          65.1232,
          66.6821,
          68.3151,
          70.0377,
          71.8652,
          73.8132,
          75.8972,
          78.1325,
          80.5348,
          83.1194,
          85.9007,
          86.1348,
          86.3697,
          86.6043,
          86.8386,
          87.0726,
          87.3063,
          87.5398,
          87.7731,
          88.0062,
          88.2391,
          88.4719,
          88.7046,
          88.9371,
          89.1696,
          89.402,
          89.6344,
          89.8468,
          90.2825,
          90.7631,
          91.2623,
          91.7798,
          92.3151,
          92.868,
          93.4379,
          94.0246,
          94.6276,
          95.2467,
          95.8814,
          96.5313,
          97.1962,
          97.8755,
          98.569,
          99.2763,
          99.9619
         ],
         "y": [
          4492.74,
          4466.89,
          4449.81,
          4438.95,
          4431.4,
          4424.24,
          4414.53,
          4399.34,
          4375.73,
          4340.78,
          4291.55,
          4225.1,
          4138.51,
          4028.86,
          3893.22,
          3728.67,
          3532.3,
          3303.08,
          3338.75,
          3373.38,
          3405.57,
          3435.37,
          3462.79,
          3487.86,
          3510.61,
          3531.07,
          3549.26,
          3565.21,
          3578.94,
          3590.49,
          3599.88,
          3607.13,
          3612.28,
          3615.35,
          3616.37,
          3613.99,
          3606.49,
          3593.35,
          3574.05,
          3548.06,
          3514.86,
          3473.95,
          3424.8,
          3366.9,
          3299.72,
          3222.75,
          3135.47,
          3037.35,
          2927.87,
          2806.51,
          2672.75,
          2526.13,
          2515.64,
          2505.1,
          2494.55,
          2483.97,
          2473.36,
          2462.69,
          2451.95,
          2441.13,
          2430.21,
          2419.18,
          2408.02,
          2396.72,
          2385.25,
          2373.62,
          2361.8,
          2349.77,
          2338.58,
          2350.81,
          2363.17,
          2374.9,
          2386.02,
          2396.52,
          2406.4,
          2415.67,
          2424.31,
          2432.32,
          2439.72,
          2446.49,
          2452.63,
          2458.15,
          2463.04,
          2467.31,
          2470.94,
          2473.8
         ]
        },
        {
         "hovertemplate": "label=Nb6C5<br>x=%{x}<br>t=%{y}<extra></extra>",
         "legendgroup": "Nb6C5",
         "line": {
          "color": "rgb(246, 207, 113)",
          "dash": "solid",
          "width": 4
         },
         "marker": {
          "symbol": "circle"
         },
         "mode": "lines",
         "name": "Nb6C5",
         "orientation": "v",
         "showlegend": false,
         "type": "scatter",
         "x": [
          55.00000000000001,
          55.00000000000001,
          55.00000000000001,
          55.00000000000001,
          55.00000000000001,
          55.00000000000001,
          55.00000000000001,
          55.00000000000001,
          55.00000000000001,
          55.00000000000001,
          55.00000000000001,
          55.00000000000001,
          55.00000000000001,
          55.00000000000001,
          55.00000000000001,
          55.00000000000001,
          55.00000000000001,
          55.00000000000001,
          55.00000000000001,
          55.00000000000001,
          55.00000000000001,
          55.00000000000001,
          55.00000000000001,
          55.00000000000001,
          55.00000000000001,
          55.00000000000001,
          55.00000000000001,
          55.00000000000001,
          55.00000000000001,
          55.00000000000001,
          55.00000000000001,
          55.00000000000001,
          55.00000000000001,
          55.00000000000001,
          55.00000000000001,
          55.00000000000001,
          55.00000000000001,
          55.00000000000001,
          55.00000000000001
         ],
         "xaxis": "x",
         "y": [
          2951.8667962006093,
          3498.95082832074,
          3408.3077444639057,
          3141.886639316303,
          3288.6652772287302,
          2971.822620489341,
          3594.7828496490056,
          3602.4845058172505,
          3560.535169897947,
          3574.8009328700955,
          3586.047151449498,
          3543.1778004428015,
          3522.6664423483444,
          3471.99522634093,
          3441.7807862424206,
          3242.6047548909723,
          3193.630715486767,
          3371.597412239385,
          3331.693868402333,
          3087.5402218271747,
          3030.781880763129,
          3577.3402308251934,
          3587.2425081295073,
          3599.8895824358688,
          3602.4845058172505,
          3599.803277206218,
          3594.3531676406574,
          3340.4847962783324,
          3356.5095443187115,
          3418.357334205011,
          3388.603906057469,
          3565.1396355147863,
          3534.0489144546896,
          3550.694818031371,
          3515.2326551420033,
          3494.2628676228724,
          3445.85075781344,
          3471.140878676927,
          -273.15
         ],
         "yaxis": "y"
        },
        {
         "hovertemplate": "label=Nb2C<br>x=%{x}<br>t=%{y}<extra></extra>",
         "legendgroup": "Nb2C",
         "line": {
          "color": "rgb(248, 156, 116)",
          "dash": "solid",
          "width": 4
         },
         "marker": {
          "symbol": "circle"
         },
         "mode": "lines",
         "name": "Nb2C",
         "orientation": "v",
         "showlegend": false,
         "type": "scatter",
         "x": [
          67,
          67,
          67,
          67,
          67,
          67,
          67,
          67,
          67,
          67,
          67,
          67,
          67,
          67,
          67,
          67,
          67,
          67,
          67
         ],
         "xaxis": "x",
         "y": [
          2224.5319263262677,
          2951.8667962006093,
          2872.257112513876,
          2671.3953547221913,
          2716.422015428505,
          2759.1535508671545,
          2624.216782481072,
          2575.0304007427926,
          2471.175820059171,
          2523.974923929423,
          2243.9245241314597,
          2303.138646369901,
          2416.735295839373,
          2360.719135659239,
          2933.985133002442,
          2904.548938034566,
          2837.1919825777222,
          2799.452667125814,
          -273.15
         ],
         "yaxis": "y"
        },
        {
         "hovertemplate": "x=%{x}<br>y=%{y}<extra></extra>",
         "legendgroup": "",
         "line": {
          "color": "Silver",
          "dash": "solid",
          "width": 4
         },
         "marker": {
          "symbol": "circle"
         },
         "mode": "lines",
         "name": "",
         "orientation": "v",
         "showlegend": false,
         "type": "scatter",
         "x": [
          67,
          92,
          100
         ],
         "xaxis": "x",
         "y": [
          2224.5319263262677,
          2224.5319263262677,
          2224.5319263262677
         ],
         "yaxis": "y"
        },
        {
         "hovertemplate": "x=%{x}<br>y=%{y}<extra></extra>",
         "legendgroup": "",
         "line": {
          "color": "Silver",
          "dash": "solid",
          "width": 4
         },
         "marker": {
          "symbol": "circle"
         },
         "mode": "lines",
         "name": "",
         "orientation": "v",
         "showlegend": false,
         "type": "scatter",
         "x": [
          0,
          40,
          55.00000000000001
         ],
         "xaxis": "x",
         "y": [
          3340.4847962783324,
          3340.4847962783324,
          3340.4847962783324
         ],
         "yaxis": "y"
        },
        {
         "hovertemplate": "x=%{x}<br>y=%{y}<extra></extra>",
         "legendgroup": "",
         "line": {
          "color": "Silver",
          "dash": "solid",
          "width": 4
         },
         "marker": {
          "symbol": "circle"
         },
         "mode": "lines",
         "name": "",
         "orientation": "v",
         "showlegend": false,
         "type": "scatter",
         "x": [
          55.00000000000001,
          67,
          76
         ],
         "xaxis": "x",
         "y": [
          2951.8667962006093,
          2951.8667962006093,
          2951.8667962006093
         ],
         "yaxis": "y"
        },
        {
         "hovertemplate": "label=L<br>x=%{x}<br>t=%{y}<extra></extra>",
         "legendgroup": "L",
         "line": {
          "color": "cornflowerblue",
          "dash": "solid",
          "width": 4
         },
         "marker": {
          "symbol": "circle"
         },
         "mode": "lines",
         "name": "L",
         "orientation": "v",
         "showlegend": false,
         "type": "scatter",
         "x": [
          0,
          0,
          1,
          2,
          3,
          4,
          5,
          6,
          7.000000000000001,
          8,
          9,
          10,
          11,
          12,
          13,
          14.000000000000002,
          15,
          16,
          17,
          18,
          19,
          20,
          21,
          22,
          23,
          24,
          25,
          26,
          27,
          28.000000000000004,
          28.999999999999996,
          30,
          31,
          32,
          33,
          34,
          35,
          36,
          37,
          38,
          39,
          40,
          41,
          42,
          43,
          44,
          45,
          46,
          47,
          48,
          49,
          50,
          51,
          52,
          53,
          54,
          55.00000000000001,
          56.00000000000001,
          57.00000000000001,
          57.99999999999999,
          59,
          60,
          61,
          62,
          63,
          64,
          65,
          66,
          67,
          68,
          69,
          70,
          71,
          72,
          73,
          74,
          75,
          76,
          77,
          78,
          79,
          80,
          81,
          82,
          83,
          84,
          85,
          86,
          87,
          88,
          89,
          90,
          91,
          92,
          93,
          94,
          95,
          96,
          97,
          98,
          99,
          100,
          100
         ],
         "xaxis": "x",
         "y": [
          4492.74,
          4492.74,
          4471.805837350537,
          4457.544554241664,
          4444.773686987682,
          4433.058336760491,
          4422.19056489675,
          4412.016690986246,
          4402.403327849643,
          4393.226554688468,
          4384.367114962959,
          4375.707647007177,
          4367.130731836292,
          4358.517310843379,
          4349.745281627061,
          4340.688177891334,
          4331.213881233118,
          4321.183332521665,
          4310.449221069174,
          4298.854636051613,
          4286.231668988156,
          4272.399959685749,
          4257.165181563925,
          4240.317466137963,
          4221.629771013876,
          4200.856201372581,
          4177.730301937252,
          4151.963345203399,
          4123.242652666643,
          4091.229999357071,
          4055.5601686263776,
          4015.8397442969404,
          3971.6462513475904,
          3922.5277845599344,
          3868.0032969964855,
          3807.563756479426,
          3740.674417438574,
          3666.7784958050192,
          3585.3025731035277,
          3495.664088040877,
          3397.2812933899904,
          3340.4847962783324,
          3356.5095443187115,
          3388.603906057469,
          3418.357334205011,
          3445.85075781344,
          3471.140878676927,
          3494.2628676228724,
          3515.2326551420033,
          3534.0489144546896,
          3550.694818031371,
          3565.1396355147863,
          3577.3402308251934,
          3587.2425081295073,
          3594.7828496490056,
          3599.8895824358688,
          3602.4845058172505,
          3599.803277206218,
          3594.3531676406574,
          3586.047151449498,
          3574.8009328700955,
          3560.535169897947,
          3543.1778004428015,
          3522.6664423483444,
          3498.95082832074,
          3471.99522634093,
          3441.7807862424206,
          3408.3077444639057,
          3371.597412239385,
          3331.693868402333,
          3288.6652772287302,
          3242.6047548909723,
          3193.630715486767,
          3141.886639316303,
          3087.5402218271747,
          3030.781880763129,
          2971.822620489341,
          2933.985133002442,
          2904.548938034566,
          2872.257112513876,
          2837.1919825777222,
          2799.452667125814,
          2759.1535508671545,
          2716.422015428505,
          2671.3953547221913,
          2624.216782481072,
          2575.0304007427926,
          2523.974923929423,
          2471.175820059171,
          2416.735295839373,
          2360.719135659239,
          2303.138646369901,
          2243.9245241314597,
          2224.5319263262677,
          2250.5180510979617,
          2286.695720516635,
          2321.373379167552,
          2354.365915804286,
          2385.4967720449836,
          2414.644095225471,
          2441.9681925411664,
          2473.8,
          2473.8
         ],
         "yaxis": "y"
        },
        {
         "line": {
          "color": "#B82E2E",
          "dash": "dash"
         },
         "mode": "lines",
         "name": "Digitized Liquidus",
         "showlegend": true,
         "type": "scatter",
         "x": [
          null
         ],
         "y": [
          null
         ]
        },
        {
         "marker": {
          "color": "cornflowerblue"
         },
         "mode": "lines",
         "name": "Fitted Liquidus",
         "showlegend": true,
         "type": "scatter",
         "x": [
          null
         ],
         "y": [
          null
         ]
        }
       ],
       "layout": {
        "annotations": [
         {
          "borderpad": 5,
          "font": {
           "color": "black",
           "size": 18
          },
          "showarrow": false,
          "text": "Nb6C5",
          "textangle": -90,
          "x": 52.50000000000001,
          "y": 700,
          "yanchor": "bottom"
         },
         {
          "borderpad": 5,
          "font": {
           "color": "black",
           "size": 18
          },
          "showarrow": false,
          "text": "Nb2C",
          "textangle": -90,
          "x": 64.5,
          "y": 700,
          "yanchor": "bottom"
         },
         {
          "font": {
           "color": "black",
           "size": 18
          },
          "showarrow": false,
          "text": "L",
          "x": 50,
          "y": 4780
         }
        ],
        "font": {
         "size": 22
        },
        "height": 700,
        "legend": {
         "font": {
          "size": 18
         },
         "x": 0.99,
         "xanchor": "right",
         "y": 0.99,
         "yanchor": "top"
        },
        "plot_bgcolor": "white",
        "showlegend": true,
        "template": {
         "data": {
          "bar": [
           {
            "error_x": {
             "color": "#2a3f5f"
            },
            "error_y": {
             "color": "#2a3f5f"
            },
            "marker": {
             "line": {
              "color": "#E5ECF6",
              "width": 0.5
             },
             "pattern": {
              "fillmode": "overlay",
              "size": 10,
              "solidity": 0.2
             }
            },
            "type": "bar"
           }
          ],
          "barpolar": [
           {
            "marker": {
             "line": {
              "color": "#E5ECF6",
              "width": 0.5
             },
             "pattern": {
              "fillmode": "overlay",
              "size": 10,
              "solidity": 0.2
             }
            },
            "type": "barpolar"
           }
          ],
          "carpet": [
           {
            "aaxis": {
             "endlinecolor": "#2a3f5f",
             "gridcolor": "white",
             "linecolor": "white",
             "minorgridcolor": "white",
             "startlinecolor": "#2a3f5f"
            },
            "baxis": {
             "endlinecolor": "#2a3f5f",
             "gridcolor": "white",
             "linecolor": "white",
             "minorgridcolor": "white",
             "startlinecolor": "#2a3f5f"
            },
            "type": "carpet"
           }
          ],
          "choropleth": [
           {
            "colorbar": {
             "outlinewidth": 0,
             "ticks": ""
            },
            "type": "choropleth"
           }
          ],
          "contour": [
           {
            "colorbar": {
             "outlinewidth": 0,
             "ticks": ""
            },
            "colorscale": [
             [
              0,
              "#0d0887"
             ],
             [
              0.1111111111111111,
              "#46039f"
             ],
             [
              0.2222222222222222,
              "#7201a8"
             ],
             [
              0.3333333333333333,
              "#9c179e"
             ],
             [
              0.4444444444444444,
              "#bd3786"
             ],
             [
              0.5555555555555556,
              "#d8576b"
             ],
             [
              0.6666666666666666,
              "#ed7953"
             ],
             [
              0.7777777777777778,
              "#fb9f3a"
             ],
             [
              0.8888888888888888,
              "#fdca26"
             ],
             [
              1,
              "#f0f921"
             ]
            ],
            "type": "contour"
           }
          ],
          "contourcarpet": [
           {
            "colorbar": {
             "outlinewidth": 0,
             "ticks": ""
            },
            "type": "contourcarpet"
           }
          ],
          "heatmap": [
           {
            "colorbar": {
             "outlinewidth": 0,
             "ticks": ""
            },
            "colorscale": [
             [
              0,
              "#0d0887"
             ],
             [
              0.1111111111111111,
              "#46039f"
             ],
             [
              0.2222222222222222,
              "#7201a8"
             ],
             [
              0.3333333333333333,
              "#9c179e"
             ],
             [
              0.4444444444444444,
              "#bd3786"
             ],
             [
              0.5555555555555556,
              "#d8576b"
             ],
             [
              0.6666666666666666,
              "#ed7953"
             ],
             [
              0.7777777777777778,
              "#fb9f3a"
             ],
             [
              0.8888888888888888,
              "#fdca26"
             ],
             [
              1,
              "#f0f921"
             ]
            ],
            "type": "heatmap"
           }
          ],
          "heatmapgl": [
           {
            "colorbar": {
             "outlinewidth": 0,
             "ticks": ""
            },
            "colorscale": [
             [
              0,
              "#0d0887"
             ],
             [
              0.1111111111111111,
              "#46039f"
             ],
             [
              0.2222222222222222,
              "#7201a8"
             ],
             [
              0.3333333333333333,
              "#9c179e"
             ],
             [
              0.4444444444444444,
              "#bd3786"
             ],
             [
              0.5555555555555556,
              "#d8576b"
             ],
             [
              0.6666666666666666,
              "#ed7953"
             ],
             [
              0.7777777777777778,
              "#fb9f3a"
             ],
             [
              0.8888888888888888,
              "#fdca26"
             ],
             [
              1,
              "#f0f921"
             ]
            ],
            "type": "heatmapgl"
           }
          ],
          "histogram": [
           {
            "marker": {
             "pattern": {
              "fillmode": "overlay",
              "size": 10,
              "solidity": 0.2
             }
            },
            "type": "histogram"
           }
          ],
          "histogram2d": [
           {
            "colorbar": {
             "outlinewidth": 0,
             "ticks": ""
            },
            "colorscale": [
             [
              0,
              "#0d0887"
             ],
             [
              0.1111111111111111,
              "#46039f"
             ],
             [
              0.2222222222222222,
              "#7201a8"
             ],
             [
              0.3333333333333333,
              "#9c179e"
             ],
             [
              0.4444444444444444,
              "#bd3786"
             ],
             [
              0.5555555555555556,
              "#d8576b"
             ],
             [
              0.6666666666666666,
              "#ed7953"
             ],
             [
              0.7777777777777778,
              "#fb9f3a"
             ],
             [
              0.8888888888888888,
              "#fdca26"
             ],
             [
              1,
              "#f0f921"
             ]
            ],
            "type": "histogram2d"
           }
          ],
          "histogram2dcontour": [
           {
            "colorbar": {
             "outlinewidth": 0,
             "ticks": ""
            },
            "colorscale": [
             [
              0,
              "#0d0887"
             ],
             [
              0.1111111111111111,
              "#46039f"
             ],
             [
              0.2222222222222222,
              "#7201a8"
             ],
             [
              0.3333333333333333,
              "#9c179e"
             ],
             [
              0.4444444444444444,
              "#bd3786"
             ],
             [
              0.5555555555555556,
              "#d8576b"
             ],
             [
              0.6666666666666666,
              "#ed7953"
             ],
             [
              0.7777777777777778,
              "#fb9f3a"
             ],
             [
              0.8888888888888888,
              "#fdca26"
             ],
             [
              1,
              "#f0f921"
             ]
            ],
            "type": "histogram2dcontour"
           }
          ],
          "mesh3d": [
           {
            "colorbar": {
             "outlinewidth": 0,
             "ticks": ""
            },
            "type": "mesh3d"
           }
          ],
          "parcoords": [
           {
            "line": {
             "colorbar": {
              "outlinewidth": 0,
              "ticks": ""
             }
            },
            "type": "parcoords"
           }
          ],
          "pie": [
           {
            "automargin": true,
            "type": "pie"
           }
          ],
          "scatter": [
           {
            "fillpattern": {
             "fillmode": "overlay",
             "size": 10,
             "solidity": 0.2
            },
            "type": "scatter"
           }
          ],
          "scatter3d": [
           {
            "line": {
             "colorbar": {
              "outlinewidth": 0,
              "ticks": ""
             }
            },
            "marker": {
             "colorbar": {
              "outlinewidth": 0,
              "ticks": ""
             }
            },
            "type": "scatter3d"
           }
          ],
          "scattercarpet": [
           {
            "marker": {
             "colorbar": {
              "outlinewidth": 0,
              "ticks": ""
             }
            },
            "type": "scattercarpet"
           }
          ],
          "scattergeo": [
           {
            "marker": {
             "colorbar": {
              "outlinewidth": 0,
              "ticks": ""
             }
            },
            "type": "scattergeo"
           }
          ],
          "scattergl": [
           {
            "marker": {
             "colorbar": {
              "outlinewidth": 0,
              "ticks": ""
             }
            },
            "type": "scattergl"
           }
          ],
          "scattermapbox": [
           {
            "marker": {
             "colorbar": {
              "outlinewidth": 0,
              "ticks": ""
             }
            },
            "type": "scattermapbox"
           }
          ],
          "scatterpolar": [
           {
            "marker": {
             "colorbar": {
              "outlinewidth": 0,
              "ticks": ""
             }
            },
            "type": "scatterpolar"
           }
          ],
          "scatterpolargl": [
           {
            "marker": {
             "colorbar": {
              "outlinewidth": 0,
              "ticks": ""
             }
            },
            "type": "scatterpolargl"
           }
          ],
          "scatterternary": [
           {
            "marker": {
             "colorbar": {
              "outlinewidth": 0,
              "ticks": ""
             }
            },
            "type": "scatterternary"
           }
          ],
          "surface": [
           {
            "colorbar": {
             "outlinewidth": 0,
             "ticks": ""
            },
            "colorscale": [
             [
              0,
              "#0d0887"
             ],
             [
              0.1111111111111111,
              "#46039f"
             ],
             [
              0.2222222222222222,
              "#7201a8"
             ],
             [
              0.3333333333333333,
              "#9c179e"
             ],
             [
              0.4444444444444444,
              "#bd3786"
             ],
             [
              0.5555555555555556,
              "#d8576b"
             ],
             [
              0.6666666666666666,
              "#ed7953"
             ],
             [
              0.7777777777777778,
              "#fb9f3a"
             ],
             [
              0.8888888888888888,
              "#fdca26"
             ],
             [
              1,
              "#f0f921"
             ]
            ],
            "type": "surface"
           }
          ],
          "table": [
           {
            "cells": {
             "fill": {
              "color": "#EBF0F8"
             },
             "line": {
              "color": "white"
             }
            },
            "header": {
             "fill": {
              "color": "#C8D4E3"
             },
             "line": {
              "color": "white"
             }
            },
            "type": "table"
           }
          ]
         },
         "layout": {
          "annotationdefaults": {
           "arrowcolor": "#2a3f5f",
           "arrowhead": 0,
           "arrowwidth": 1
          },
          "autotypenumbers": "strict",
          "coloraxis": {
           "colorbar": {
            "outlinewidth": 0,
            "ticks": ""
           }
          },
          "colorscale": {
           "diverging": [
            [
             0,
             "#8e0152"
            ],
            [
             0.1,
             "#c51b7d"
            ],
            [
             0.2,
             "#de77ae"
            ],
            [
             0.3,
             "#f1b6da"
            ],
            [
             0.4,
             "#fde0ef"
            ],
            [
             0.5,
             "#f7f7f7"
            ],
            [
             0.6,
             "#e6f5d0"
            ],
            [
             0.7,
             "#b8e186"
            ],
            [
             0.8,
             "#7fbc41"
            ],
            [
             0.9,
             "#4d9221"
            ],
            [
             1,
             "#276419"
            ]
           ],
           "sequential": [
            [
             0,
             "#0d0887"
            ],
            [
             0.1111111111111111,
             "#46039f"
            ],
            [
             0.2222222222222222,
             "#7201a8"
            ],
            [
             0.3333333333333333,
             "#9c179e"
            ],
            [
             0.4444444444444444,
             "#bd3786"
            ],
            [
             0.5555555555555556,
             "#d8576b"
            ],
            [
             0.6666666666666666,
             "#ed7953"
            ],
            [
             0.7777777777777778,
             "#fb9f3a"
            ],
            [
             0.8888888888888888,
             "#fdca26"
            ],
            [
             1,
             "#f0f921"
            ]
           ],
           "sequentialminus": [
            [
             0,
             "#0d0887"
            ],
            [
             0.1111111111111111,
             "#46039f"
            ],
            [
             0.2222222222222222,
             "#7201a8"
            ],
            [
             0.3333333333333333,
             "#9c179e"
            ],
            [
             0.4444444444444444,
             "#bd3786"
            ],
            [
             0.5555555555555556,
             "#d8576b"
            ],
            [
             0.6666666666666666,
             "#ed7953"
            ],
            [
             0.7777777777777778,
             "#fb9f3a"
            ],
            [
             0.8888888888888888,
             "#fdca26"
            ],
            [
             1,
             "#f0f921"
            ]
           ]
          },
          "colorway": [
           "#636efa",
           "#EF553B",
           "#00cc96",
           "#ab63fa",
           "#FFA15A",
           "#19d3f3",
           "#FF6692",
           "#B6E880",
           "#FF97FF",
           "#FECB52"
          ],
          "font": {
           "color": "#2a3f5f"
          },
          "geo": {
           "bgcolor": "white",
           "lakecolor": "white",
           "landcolor": "#E5ECF6",
           "showlakes": true,
           "showland": true,
           "subunitcolor": "white"
          },
          "hoverlabel": {
           "align": "left"
          },
          "hovermode": "closest",
          "mapbox": {
           "style": "light"
          },
          "paper_bgcolor": "white",
          "plot_bgcolor": "#E5ECF6",
          "polar": {
           "angularaxis": {
            "gridcolor": "white",
            "linecolor": "white",
            "ticks": ""
           },
           "bgcolor": "#E5ECF6",
           "radialaxis": {
            "gridcolor": "white",
            "linecolor": "white",
            "ticks": ""
           }
          },
          "scene": {
           "xaxis": {
            "backgroundcolor": "#E5ECF6",
            "gridcolor": "white",
            "gridwidth": 2,
            "linecolor": "white",
            "showbackground": true,
            "ticks": "",
            "zerolinecolor": "white"
           },
           "yaxis": {
            "backgroundcolor": "#E5ECF6",
            "gridcolor": "white",
            "gridwidth": 2,
            "linecolor": "white",
            "showbackground": true,
            "ticks": "",
            "zerolinecolor": "white"
           },
           "zaxis": {
            "backgroundcolor": "#E5ECF6",
            "gridcolor": "white",
            "gridwidth": 2,
            "linecolor": "white",
            "showbackground": true,
            "ticks": "",
            "zerolinecolor": "white"
           }
          },
          "shapedefaults": {
           "line": {
            "color": "#2a3f5f"
           }
          },
          "ternary": {
           "aaxis": {
            "gridcolor": "white",
            "linecolor": "white",
            "ticks": ""
           },
           "baxis": {
            "gridcolor": "white",
            "linecolor": "white",
            "ticks": ""
           },
           "bgcolor": "#E5ECF6",
           "caxis": {
            "gridcolor": "white",
            "linecolor": "white",
            "ticks": ""
           }
          },
          "title": {
           "x": 0.05
          },
          "xaxis": {
           "automargin": true,
           "gridcolor": "white",
           "linecolor": "white",
           "ticks": "",
           "title": {
            "standoff": 15
           },
           "zerolinecolor": "white",
           "zerolinewidth": 2
          },
          "yaxis": {
           "automargin": true,
           "gridcolor": "white",
           "linecolor": "white",
           "ticks": "",
           "title": {
            "standoff": 15
           },
           "zerolinecolor": "white",
           "zerolinewidth": 2
          }
         }
        },
        "title": {
         "text": "C-Nb Fitted Binary Phase Diagram"
        },
        "width": 960,
        "xaxis": {
         "linecolor": "black",
         "linewidth": 2,
         "mirror": true,
         "range": [
          0,
          100
         ],
         "showline": true,
         "tickcolor": "black",
         "tickformat": ".0f",
         "ticks": "outside",
         "title": {
          "text": "Nb (at. %)"
         }
        },
        "yaxis": {
         "linecolor": "black",
         "linewidth": 2,
         "mirror": true,
         "range": [
          700,
          5100
         ],
         "showline": true,
         "tickcolor": "black",
         "ticks": "outside",
         "ticksuffix": " ",
         "title": {
          "text": "T (°C)"
         }
        }
       }
      }
     },
     "metadata": {},
     "output_type": "display_data"
    },
    {
     "name": "stdout",
     "output_type": "stream",
     "text": [
      "No arguments specified for 't_vals', setting 't_units' to 'K'\n"
     ]
    },
    {
     "data": {
      "application/vnd.plotly.v1+json": {
       "config": {
        "plotlyServerURL": "https://plot.ly"
       },
       "data": [
        {
         "mode": "lines",
         "name": "Liquid T=3887K",
         "type": "scatter",
         "x": [
          0,
          0.01,
          0.02,
          0.03,
          0.04,
          0.05,
          0.06,
          0.07,
          0.08,
          0.09,
          0.1,
          0.11,
          0.12,
          0.13,
          0.14,
          0.15,
          0.16,
          0.17,
          0.18,
          0.19,
          0.2,
          0.21,
          0.22,
          0.23,
          0.24,
          0.25,
          0.26,
          0.27,
          0.28,
          0.29,
          0.3,
          0.31,
          0.32,
          0.33,
          0.34,
          0.35000000000000003,
          0.36,
          0.37,
          0.38,
          0.39,
          0.4,
          0.41000000000000003,
          0.42,
          0.43,
          0.44,
          0.45,
          0.46,
          0.47000000000000003,
          0.48,
          0.49,
          0.5,
          0.51,
          0.52,
          0.53,
          0.54,
          0.55,
          0.56,
          0.5700000000000001,
          0.58,
          0.59,
          0.6,
          0.61,
          0.62,
          0.63,
          0.64,
          0.65,
          0.66,
          0.67,
          0.68,
          0.6900000000000001,
          0.7000000000000001,
          0.71,
          0.72,
          0.73,
          0.74,
          0.75,
          0.76,
          0.77,
          0.78,
          0.79,
          0.8,
          0.81,
          0.8200000000000001,
          0.8300000000000001,
          0.84,
          0.85,
          0.86,
          0.87,
          0.88,
          0.89,
          0.9,
          0.91,
          0.92,
          0.93,
          0.9400000000000001,
          0.9500000000000001,
          0.96,
          0.97,
          0.98,
          0.99,
          1
         ],
         "y": [
          0.22426247382774012,
          0.1940948308306622,
          0.16854526882276955,
          0.14472979021632298,
          0.12204091899658585,
          0.10019385153606766,
          0.07902374872987306,
          0.058424093505417364,
          0.038321232574223596,
          0.018661889210174382,
          -0.0005936956534303706,
          -0.01947584863090996,
          -0.03800805044944079,
          -0.056208654035859,
          -0.07409207068961644,
          -0.09166961552230757,
          -0.10895012635743223,
          -0.1259404272132347,
          -0.14264568226248156,
          -0.15906967079700093,
          -0.17521500404624737,
          -0.19108329842207789,
          -0.2066753155849192,
          -0.2219910768829457,
          -0.23702995774034,
          -0.25179076617289364,
          -0.26627180860372623,
          -0.28047094541769496,
          -0.29438563814956814,
          -0.30801298979361263,
          -0.3213497794132977,
          -0.33439249199299154,
          -0.34713734429021553,
          -0.3595803073037683,
          -0.37171712586013717,
          -0.38354333573089705,
          -0.3950542786219428,
          -0.40624511531742763,
          -0.41711083721416653,
          -0.42764627644370273,
          -0.43784611474746127,
          -0.4477048912440404,
          -0.4572170092056477,
          -0.4663767419421261,
          -0.4751782378752536,
          -0.48361552487250026,
          -0.491682513897762,
          -0.49937300202637613,
          -0.5066806748627007,
          -0.5135991083904252,
          -0.520121770278387,
          -0.5262420206577976,
          -0.5319531123802816,
          -0.5372481907598392,
          -0.542120292795617,
          -0.5465623458660938,
          -0.5505671658787685,
          -0.5541274548525825,
          -0.5572357979029018,
          -0.5598846595907851,
          -0.5620663795892265,
          -0.5637731676088543,
          -0.5649970975139078,
          -0.5657301005457979,
          -0.5659639575558181,
          -0.5656902901299901,
          -0.5649005504669973,
          -0.5635860098437818,
          -0.5617377454716049,
          -0.5593466255068159,
          -0.556403291933453,
          -0.5528981409768315,
          -0.5488213006354196,
          -0.5441626048285849,
          -0.5389115635448966,
          -0.5330573282324239,
          -0.5265886514891456,
          -0.5194938398747789,
          -0.5117606983563687,
          -0.5033764644925695,
          -0.494327729918043,
          -0.48460034595519946,
          -0.47417930917501827,
          -0.46304862133088154,
          -0.45119111611379814,
          -0.43858824233383764,
          -0.4252197889555923,
          -0.41106353113839933,
          -0.3960947667535008,
          -0.38028569748428137,
          -0.36360458338674145,
          -0.3460145567165414,
          -0.32747190384219854,
          -0.30792347867984926,
          -0.28730261748621316,
          -0.2655222799556495,
          -0.24246256199841063,
          -0.21794523749243733,
          -0.19167211579307605,
          -0.16302233386842657,
          -0.12909850711358617
         ]
        },
        {
         "mode": "lines",
         "name": "Liquid T=0K",
         "type": "scatter",
         "x": [
          0,
          0.01,
          0.02,
          0.03,
          0.04,
          0.05,
          0.06,
          0.07,
          0.08,
          0.09,
          0.1,
          0.11,
          0.12,
          0.13,
          0.14,
          0.15,
          0.16,
          0.17,
          0.18,
          0.19,
          0.2,
          0.21,
          0.22,
          0.23,
          0.24,
          0.25,
          0.26,
          0.27,
          0.28,
          0.29,
          0.3,
          0.31,
          0.32,
          0.33,
          0.34,
          0.35000000000000003,
          0.36,
          0.37,
          0.38,
          0.39,
          0.4,
          0.41000000000000003,
          0.42,
          0.43,
          0.44,
          0.45,
          0.46,
          0.47000000000000003,
          0.48,
          0.49,
          0.5,
          0.51,
          0.52,
          0.53,
          0.54,
          0.55,
          0.56,
          0.5700000000000001,
          0.58,
          0.59,
          0.6,
          0.61,
          0.62,
          0.63,
          0.64,
          0.65,
          0.66,
          0.67,
          0.68,
          0.6900000000000001,
          0.7000000000000001,
          0.71,
          0.72,
          0.73,
          0.74,
          0.75,
          0.76,
          0.77,
          0.78,
          0.79,
          0.8,
          0.81,
          0.8200000000000001,
          0.8300000000000001,
          0.84,
          0.85,
          0.86,
          0.87,
          0.88,
          0.89,
          0.9,
          0.91,
          0.92,
          0.93,
          0.9400000000000001,
          0.9500000000000001,
          0.96,
          0.97,
          0.98,
          0.99,
          1
         ],
         "y": [
          1.21676944602788,
          1.1684209837245312,
          1.1213965251432882,
          1.0756798376775951,
          1.0312546887208953,
          0.9881048456666331,
          0.9462140759082518,
          0.9055661468391952,
          0.8661448258529073,
          0.8279338803428318,
          0.790917077702412,
          0.7550781853250923,
          0.720400970604316,
          0.6868692009335273,
          0.6544666437061692,
          0.6231770663156865,
          0.592984236155522,
          0.56387192061912,
          0.5358238870999239,
          0.5088239029913779,
          0.4828557356869252,
          0.4579031525800102,
          0.43394992106407626,
          0.41097980853256705,
          0.3889765823789266,
          0.3679240099965987,
          0.3478058587790267,
          0.3286058961196547,
          0.31030788941192616,
          0.29289560604928533,
          0.27635281342517565,
          0.26066327893304064,
          0.24581076996632448,
          0.23177905391847078,
          0.2185518981829233,
          0.20611307015312574,
          0.19444633722252178,
          0.1835354667845554,
          0.17336422623267017,
          0.16391638296031005,
          0.15517570436091851,
          0.14712595782793944,
          0.1397509107548166,
          0.13303433053499397,
          0.12695998456191485,
          0.12151164022902326,
          0.11667306492976316,
          0.11242802605757789,
          0.10876029100591147,
          0.10565362716820771,
          0.10309180193791007,
          0.1010585827084626,
          0.09953773687330879,
          0.09851303182589241,
          0.09796823495965767,
          0.09788711366804775,
          0.09825343534450673,
          0.09905096738247834,
          0.10026347717540625,
          0.10187473211673419,
          0.1038684995999061,
          0.10622854701836561,
          0.10893864176555645,
          0.11198255123492243,
          0.11534404281990716,
          0.1190068839139547,
          0.12295484191050852,
          0.12717168420301242,
          0.13164117818491025,
          0.13634709124964572,
          0.1412731907906627,
          0.14640324420140463,
          0.1517210188753155,
          0.15721028220583935,
          0.16285480158641932,
          0.16863834441049969,
          0.17454467807152402,
          0.18055756996293582,
          0.18666078747817927,
          0.1928380980106979,
          0.19907326895393543,
          0.2053500677013358,
          0.21165226164634246,
          0.21796361818239934,
          0.22426790470295024,
          0.2305488886014389,
          0.2367903372713091,
          0.2429760181060046,
          0.24908969849896903,
          0.2551151458436463,
          0.26103612753348004,
          0.2668364109619142,
          0.2724997635223923,
          0.2780099526083581,
          0.2833507456132555,
          0.2885059099305283,
          0.2934592129536199,
          0.2981944220759746,
          0.3026953046910358,
          0.3069456281922472,
          0.3109291599730528
         ]
        },
        {
         "hoverinfo": "none",
         "line": {
          "color": "black",
          "width": 4
         },
         "mode": "lines",
         "showlegend": false,
         "type": "scatter",
         "x": [
          0.6666666666666666,
          1,
          null,
          0.6666666666666666,
          0.5454545454545454,
          null,
          0.5454545454545454,
          0,
          null
         ],
         "y": [
          -0.4660315325000006,
          0,
          null,
          -0.4660315325000006,
          -0.5445969988636367,
          null,
          -0.5445969988636367,
          0,
          null
         ]
        },
        {
         "hoverinfo": "skip",
         "mode": "text",
         "name": "Labels (stable)",
         "opacity": 1,
         "showlegend": true,
         "text": [
          "Nb<sub>2</sub>C",
          "Nb<sub>6</sub>C<sub>5</sub>"
         ],
         "textposition": [
          "bottom right",
          "bottom right"
         ],
         "type": "scatter",
         "visible": true,
         "x": [
          0.6746666666666666,
          0.5534545454545454
         ],
         "y": [
          -0.47903153250000063,
          -0.5575969988636367
         ]
        },
        {
         "error_y": {
          "array": [
           0,
           0,
           0,
           0
          ],
          "color": "gray",
          "thickness": 2.5,
          "type": "data",
          "width": 5
         },
         "hoverinfo": "text",
         "hoverlabel": {
          "font": {
           "size": 14
          }
         },
         "hovertext": [
          "Nb<sub>2</sub>C (mp-569989-GGA) <br> -0.466 eV/atom (Stable)",
          "Nb (mp-75-GGA) <br> 0.0 eV/atom (Stable)",
          "Nb<sub>6</sub>C<sub>5</sub> (mp-2760-GGA) <br> -0.545 eV/atom (Stable)",
          "C (mp-2516584-GGA) <br> 0.0 eV/atom (Stable)"
         ],
         "marker": {
          "color": "darkgreen",
          "line": {
           "color": "black",
           "width": 2
          },
          "size": 16
         },
         "mode": "markers",
         "name": "Stable",
         "opacity": 0.99,
         "showlegend": true,
         "type": "scatter",
         "x": [
          0.6666666666666666,
          1,
          0.5454545454545454,
          0
         ],
         "y": [
          -0.4660315325000006,
          0,
          -0.5445969988636367,
          0
         ]
        },
        {
         "hoverinfo": "text",
         "hoverlabel": {
          "font": {
           "size": 14
          }
         },
         "hovertext": [
          "C (mp-2647017-GGA) <br> 0.178 eV/atom (+0.178 eV/atom)",
          "C (mp-632329-GGA) <br> 0.014 eV/atom (+0.014 eV/atom)",
          "C (mp-990424-GGA) <br> 0.01 eV/atom (+0.01 eV/atom)",
          "C (mp-569517-GGA) <br> 0.147 eV/atom (+0.147 eV/atom)",
          "C (mp-569304-GGA) <br> 0.002 eV/atom (+0.002 eV/atom)",
          "C (mp-569416-GGA) <br> 0.03 eV/atom (+0.03 eV/atom)",
          "C (mp-569567-GGA) <br> 0.146 eV/atom (+0.146 eV/atom)",
          "C (mp-169-GGA) <br> 0.003 eV/atom (+0.003 eV/atom)",
          "C (mp-1040425-GGA) <br> 0.009 eV/atom (+0.009 eV/atom)",
          "C (mp-990448-GGA) <br> 0.009 eV/atom (+0.009 eV/atom)",
          "C (mp-568806-GGA) <br> 0.012 eV/atom (+0.012 eV/atom)",
          "C (mp-47-GGA) <br> 0.163 eV/atom (+0.163 eV/atom)",
          "C (mp-606949-GGA) <br> 0.01 eV/atom (+0.01 eV/atom)",
          "C (mp-48-GGA) <br> 0.008 eV/atom (+0.008 eV/atom)",
          "C (mp-616440-GGA) <br> 0.143 eV/atom (+0.143 eV/atom)",
          "C (mp-611426-GGA) <br> 0.148 eV/atom (+0.148 eV/atom)",
          "C (mp-611448-GGA) <br> 0.144 eV/atom (+0.144 eV/atom)",
          "C (mp-997182-GGA) <br> 0.01 eV/atom (+0.01 eV/atom)",
          "C (mp-66-GGA) <br> 0.138 eV/atom (+0.138 eV/atom)",
          "C (mp-568286-GGA) <br> 0.008 eV/atom (+0.008 eV/atom)",
          "C (mp-568363-GGA) <br> 0.008 eV/atom (+0.008 eV/atom)",
          "C (mp-937760-GGA) <br> 0.006 eV/atom (+0.006 eV/atom)",
          "C (mp-1096869-GGA) <br> 0.118 eV/atom (+0.118 eV/atom)",
          "Nb (mp-1094120-GGA) <br> 0.19 eV/atom (+0.19 eV/atom)",
          "Nb (mp-1104341-GGA) <br> 0.023 eV/atom (+0.023 eV/atom)",
          "NbC (mp-1094093-GGA) <br> -0.354 eV/atom (+0.146 eV/atom)",
          "NbC (mp-999388-GGA) <br> -0.331 eV/atom (+0.169 eV/atom)",
          "NbC (mp-910-GGA) <br> -0.458 eV/atom (+0.041 eV/atom)",
          "Nb<sub>2</sub>C (mp-2318-GGA) <br> -0.448 eV/atom (+0.018 eV/atom)",
          "Nb<sub>4</sub>C<sub>3</sub> (mp-1220501-GGA) <br> -0.439 eV/atom (+0.088 eV/atom)",
          "Nb<sub>4</sub>C<sub>3</sub> (mp-1220515-GGA) <br> -0.474 eV/atom (+0.054 eV/atom)",
          "Nb<sub>4</sub>C<sub>3</sub> (mp-15660-GGA) <br> -0.361 eV/atom (+0.167 eV/atom)",
          "Nb<sub>10</sub>C<sub>7</sub> (mp-32679-GGA) <br> -0.477 eV/atom (+0.04 eV/atom)",
          "Nb<sub>39</sub>C<sub>34</sub> (mp-1173628-GGA) <br> -0.445 eV/atom (+0.088 eV/atom)"
         ],
         "marker": {
          "color": [
           0.178,
           0.014,
           0.01,
           0.147,
           0.002,
           0.03,
           0.146,
           0.003,
           0.009,
           0.009,
           0.012,
           0.163,
           0.01,
           0.008,
           0.143,
           0.148,
           0.144,
           0.01,
           0.138,
           0.008,
           0.008,
           0.006,
           0.118,
           0.19,
           0.023,
           0.146,
           0.169,
           0.041,
           0.018,
           0.088,
           0.054,
           0.167,
           0.04,
           0.088
          ],
          "colorscale": [
           [
            0,
            "#fff5e3"
           ],
           [
            0.5,
            "#f24324"
           ],
           [
            1,
            "#c40000"
           ]
          ],
          "line": {
           "color": "black",
           "width": 1
          },
          "opacity": 0.8,
          "size": 7,
          "symbol": "diamond"
         },
         "mode": "markers",
         "name": "Above Hull",
         "showlegend": true,
         "type": "scatter",
         "x": [
          0,
          0,
          0,
          0,
          0,
          0,
          0,
          0,
          0,
          0,
          0,
          0,
          0,
          0,
          0,
          0,
          0,
          0,
          0,
          0,
          0,
          0,
          0,
          1,
          1,
          0.5,
          0.5,
          0.5,
          0.6666666666666666,
          0.5714285714285714,
          0.5714285714285714,
          0.5714285714285714,
          0.5882352941176471,
          0.5342465753424658
         ],
         "y": [
          0.1775720039999996,
          0.014112057500000219,
          0.009772577499999713,
          0.14660233549999901,
          0.001884792499998511,
          0.030187767499999296,
          0.14624580607142793,
          0.003222027499999669,
          0.009480437499998828,
          0.009136742499999073,
          0.011936282499998896,
          0.16340130499999894,
          0.010240093333332348,
          0.008368335000000116,
          0.14304164124999907,
          0.1477018512499999,
          0.14449249916666554,
          0.00964061999999899,
          0.13829732750000012,
          0.008188829999999925,
          0.008253912499998961,
          0.006056227500000233,
          0.11787022052816878,
          0.1897482850000003,
          0.023213351428570457,
          -0.3535574012500007,
          -0.3306534237500003,
          -0.458181798750001,
          -0.4479173091666671,
          -0.4393443603571439,
          -0.4736514703571442,
          -0.3611307103571428,
          -0.4770707507352938,
          -0.4454049510273974
         ]
        }
       ],
       "layout": {
        "annotations": [
         {
          "align": "center",
          "font": {
           "color": "#000000",
           "size": 24
          },
          "opacity": 1,
          "showarrow": false,
          "text": "Nb",
          "x": 1.03,
          "xref": "x",
          "y": -0.03,
          "yref": "y"
         },
         {
          "align": "center",
          "font": {
           "color": "#000000",
           "size": 24
          },
          "opacity": 1,
          "showarrow": false,
          "text": "C",
          "x": -0.03,
          "xref": "x",
          "y": -0.03,
          "yref": "y"
         }
        ],
        "autosize": true,
        "coloraxis": {
         "colorbar": {
          "x": 1,
          "y": 0.05,
          "yanchor": "top"
         }
        },
        "hovermode": "closest",
        "legend": {
         "orientation": "h",
         "tracegroupgap": 7,
         "traceorder": "reversed",
         "x": 0,
         "xanchor": "left",
         "y": 1.05
        },
        "margin": {
         "b": 10,
         "l": 10,
         "pad": 0,
         "r": 10,
         "t": 0
        },
        "paper_bgcolor": "white",
        "plot_bgcolor": "white",
        "showlegend": true,
        "template": {
         "data": {
          "bar": [
           {
            "error_x": {
             "color": "#2a3f5f"
            },
            "error_y": {
             "color": "#2a3f5f"
            },
            "marker": {
             "line": {
              "color": "#E5ECF6",
              "width": 0.5
             },
             "pattern": {
              "fillmode": "overlay",
              "size": 10,
              "solidity": 0.2
             }
            },
            "type": "bar"
           }
          ],
          "barpolar": [
           {
            "marker": {
             "line": {
              "color": "#E5ECF6",
              "width": 0.5
             },
             "pattern": {
              "fillmode": "overlay",
              "size": 10,
              "solidity": 0.2
             }
            },
            "type": "barpolar"
           }
          ],
          "carpet": [
           {
            "aaxis": {
             "endlinecolor": "#2a3f5f",
             "gridcolor": "white",
             "linecolor": "white",
             "minorgridcolor": "white",
             "startlinecolor": "#2a3f5f"
            },
            "baxis": {
             "endlinecolor": "#2a3f5f",
             "gridcolor": "white",
             "linecolor": "white",
             "minorgridcolor": "white",
             "startlinecolor": "#2a3f5f"
            },
            "type": "carpet"
           }
          ],
          "choropleth": [
           {
            "colorbar": {
             "outlinewidth": 0,
             "ticks": ""
            },
            "type": "choropleth"
           }
          ],
          "contour": [
           {
            "colorbar": {
             "outlinewidth": 0,
             "ticks": ""
            },
            "colorscale": [
             [
              0,
              "#0d0887"
             ],
             [
              0.1111111111111111,
              "#46039f"
             ],
             [
              0.2222222222222222,
              "#7201a8"
             ],
             [
              0.3333333333333333,
              "#9c179e"
             ],
             [
              0.4444444444444444,
              "#bd3786"
             ],
             [
              0.5555555555555556,
              "#d8576b"
             ],
             [
              0.6666666666666666,
              "#ed7953"
             ],
             [
              0.7777777777777778,
              "#fb9f3a"
             ],
             [
              0.8888888888888888,
              "#fdca26"
             ],
             [
              1,
              "#f0f921"
             ]
            ],
            "type": "contour"
           }
          ],
          "contourcarpet": [
           {
            "colorbar": {
             "outlinewidth": 0,
             "ticks": ""
            },
            "type": "contourcarpet"
           }
          ],
          "heatmap": [
           {
            "colorbar": {
             "outlinewidth": 0,
             "ticks": ""
            },
            "colorscale": [
             [
              0,
              "#0d0887"
             ],
             [
              0.1111111111111111,
              "#46039f"
             ],
             [
              0.2222222222222222,
              "#7201a8"
             ],
             [
              0.3333333333333333,
              "#9c179e"
             ],
             [
              0.4444444444444444,
              "#bd3786"
             ],
             [
              0.5555555555555556,
              "#d8576b"
             ],
             [
              0.6666666666666666,
              "#ed7953"
             ],
             [
              0.7777777777777778,
              "#fb9f3a"
             ],
             [
              0.8888888888888888,
              "#fdca26"
             ],
             [
              1,
              "#f0f921"
             ]
            ],
            "type": "heatmap"
           }
          ],
          "heatmapgl": [
           {
            "colorbar": {
             "outlinewidth": 0,
             "ticks": ""
            },
            "colorscale": [
             [
              0,
              "#0d0887"
             ],
             [
              0.1111111111111111,
              "#46039f"
             ],
             [
              0.2222222222222222,
              "#7201a8"
             ],
             [
              0.3333333333333333,
              "#9c179e"
             ],
             [
              0.4444444444444444,
              "#bd3786"
             ],
             [
              0.5555555555555556,
              "#d8576b"
             ],
             [
              0.6666666666666666,
              "#ed7953"
             ],
             [
              0.7777777777777778,
              "#fb9f3a"
             ],
             [
              0.8888888888888888,
              "#fdca26"
             ],
             [
              1,
              "#f0f921"
             ]
            ],
            "type": "heatmapgl"
           }
          ],
          "histogram": [
           {
            "marker": {
             "pattern": {
              "fillmode": "overlay",
              "size": 10,
              "solidity": 0.2
             }
            },
            "type": "histogram"
           }
          ],
          "histogram2d": [
           {
            "colorbar": {
             "outlinewidth": 0,
             "ticks": ""
            },
            "colorscale": [
             [
              0,
              "#0d0887"
             ],
             [
              0.1111111111111111,
              "#46039f"
             ],
             [
              0.2222222222222222,
              "#7201a8"
             ],
             [
              0.3333333333333333,
              "#9c179e"
             ],
             [
              0.4444444444444444,
              "#bd3786"
             ],
             [
              0.5555555555555556,
              "#d8576b"
             ],
             [
              0.6666666666666666,
              "#ed7953"
             ],
             [
              0.7777777777777778,
              "#fb9f3a"
             ],
             [
              0.8888888888888888,
              "#fdca26"
             ],
             [
              1,
              "#f0f921"
             ]
            ],
            "type": "histogram2d"
           }
          ],
          "histogram2dcontour": [
           {
            "colorbar": {
             "outlinewidth": 0,
             "ticks": ""
            },
            "colorscale": [
             [
              0,
              "#0d0887"
             ],
             [
              0.1111111111111111,
              "#46039f"
             ],
             [
              0.2222222222222222,
              "#7201a8"
             ],
             [
              0.3333333333333333,
              "#9c179e"
             ],
             [
              0.4444444444444444,
              "#bd3786"
             ],
             [
              0.5555555555555556,
              "#d8576b"
             ],
             [
              0.6666666666666666,
              "#ed7953"
             ],
             [
              0.7777777777777778,
              "#fb9f3a"
             ],
             [
              0.8888888888888888,
              "#fdca26"
             ],
             [
              1,
              "#f0f921"
             ]
            ],
            "type": "histogram2dcontour"
           }
          ],
          "mesh3d": [
           {
            "colorbar": {
             "outlinewidth": 0,
             "ticks": ""
            },
            "type": "mesh3d"
           }
          ],
          "parcoords": [
           {
            "line": {
             "colorbar": {
              "outlinewidth": 0,
              "ticks": ""
             }
            },
            "type": "parcoords"
           }
          ],
          "pie": [
           {
            "automargin": true,
            "type": "pie"
           }
          ],
          "scatter": [
           {
            "fillpattern": {
             "fillmode": "overlay",
             "size": 10,
             "solidity": 0.2
            },
            "type": "scatter"
           }
          ],
          "scatter3d": [
           {
            "line": {
             "colorbar": {
              "outlinewidth": 0,
              "ticks": ""
             }
            },
            "marker": {
             "colorbar": {
              "outlinewidth": 0,
              "ticks": ""
             }
            },
            "type": "scatter3d"
           }
          ],
          "scattercarpet": [
           {
            "marker": {
             "colorbar": {
              "outlinewidth": 0,
              "ticks": ""
             }
            },
            "type": "scattercarpet"
           }
          ],
          "scattergeo": [
           {
            "marker": {
             "colorbar": {
              "outlinewidth": 0,
              "ticks": ""
             }
            },
            "type": "scattergeo"
           }
          ],
          "scattergl": [
           {
            "marker": {
             "colorbar": {
              "outlinewidth": 0,
              "ticks": ""
             }
            },
            "type": "scattergl"
           }
          ],
          "scattermapbox": [
           {
            "marker": {
             "colorbar": {
              "outlinewidth": 0,
              "ticks": ""
             }
            },
            "type": "scattermapbox"
           }
          ],
          "scatterpolar": [
           {
            "marker": {
             "colorbar": {
              "outlinewidth": 0,
              "ticks": ""
             }
            },
            "type": "scatterpolar"
           }
          ],
          "scatterpolargl": [
           {
            "marker": {
             "colorbar": {
              "outlinewidth": 0,
              "ticks": ""
             }
            },
            "type": "scatterpolargl"
           }
          ],
          "scatterternary": [
           {
            "marker": {
             "colorbar": {
              "outlinewidth": 0,
              "ticks": ""
             }
            },
            "type": "scatterternary"
           }
          ],
          "surface": [
           {
            "colorbar": {
             "outlinewidth": 0,
             "ticks": ""
            },
            "colorscale": [
             [
              0,
              "#0d0887"
             ],
             [
              0.1111111111111111,
              "#46039f"
             ],
             [
              0.2222222222222222,
              "#7201a8"
             ],
             [
              0.3333333333333333,
              "#9c179e"
             ],
             [
              0.4444444444444444,
              "#bd3786"
             ],
             [
              0.5555555555555556,
              "#d8576b"
             ],
             [
              0.6666666666666666,
              "#ed7953"
             ],
             [
              0.7777777777777778,
              "#fb9f3a"
             ],
             [
              0.8888888888888888,
              "#fdca26"
             ],
             [
              1,
              "#f0f921"
             ]
            ],
            "type": "surface"
           }
          ],
          "table": [
           {
            "cells": {
             "fill": {
              "color": "#EBF0F8"
             },
             "line": {
              "color": "white"
             }
            },
            "header": {
             "fill": {
              "color": "#C8D4E3"
             },
             "line": {
              "color": "white"
             }
            },
            "type": "table"
           }
          ]
         },
         "layout": {
          "annotationdefaults": {
           "arrowcolor": "#2a3f5f",
           "arrowhead": 0,
           "arrowwidth": 1
          },
          "autotypenumbers": "strict",
          "coloraxis": {
           "colorbar": {
            "outlinewidth": 0,
            "ticks": ""
           }
          },
          "colorscale": {
           "diverging": [
            [
             0,
             "#8e0152"
            ],
            [
             0.1,
             "#c51b7d"
            ],
            [
             0.2,
             "#de77ae"
            ],
            [
             0.3,
             "#f1b6da"
            ],
            [
             0.4,
             "#fde0ef"
            ],
            [
             0.5,
             "#f7f7f7"
            ],
            [
             0.6,
             "#e6f5d0"
            ],
            [
             0.7,
             "#b8e186"
            ],
            [
             0.8,
             "#7fbc41"
            ],
            [
             0.9,
             "#4d9221"
            ],
            [
             1,
             "#276419"
            ]
           ],
           "sequential": [
            [
             0,
             "#0d0887"
            ],
            [
             0.1111111111111111,
             "#46039f"
            ],
            [
             0.2222222222222222,
             "#7201a8"
            ],
            [
             0.3333333333333333,
             "#9c179e"
            ],
            [
             0.4444444444444444,
             "#bd3786"
            ],
            [
             0.5555555555555556,
             "#d8576b"
            ],
            [
             0.6666666666666666,
             "#ed7953"
            ],
            [
             0.7777777777777778,
             "#fb9f3a"
            ],
            [
             0.8888888888888888,
             "#fdca26"
            ],
            [
             1,
             "#f0f921"
            ]
           ],
           "sequentialminus": [
            [
             0,
             "#0d0887"
            ],
            [
             0.1111111111111111,
             "#46039f"
            ],
            [
             0.2222222222222222,
             "#7201a8"
            ],
            [
             0.3333333333333333,
             "#9c179e"
            ],
            [
             0.4444444444444444,
             "#bd3786"
            ],
            [
             0.5555555555555556,
             "#d8576b"
            ],
            [
             0.6666666666666666,
             "#ed7953"
            ],
            [
             0.7777777777777778,
             "#fb9f3a"
            ],
            [
             0.8888888888888888,
             "#fdca26"
            ],
            [
             1,
             "#f0f921"
            ]
           ]
          },
          "colorway": [
           "#636efa",
           "#EF553B",
           "#00cc96",
           "#ab63fa",
           "#FFA15A",
           "#19d3f3",
           "#FF6692",
           "#B6E880",
           "#FF97FF",
           "#FECB52"
          ],
          "font": {
           "color": "#2a3f5f"
          },
          "geo": {
           "bgcolor": "white",
           "lakecolor": "white",
           "landcolor": "#E5ECF6",
           "showlakes": true,
           "showland": true,
           "subunitcolor": "white"
          },
          "hoverlabel": {
           "align": "left"
          },
          "hovermode": "closest",
          "mapbox": {
           "style": "light"
          },
          "paper_bgcolor": "white",
          "plot_bgcolor": "#E5ECF6",
          "polar": {
           "angularaxis": {
            "gridcolor": "white",
            "linecolor": "white",
            "ticks": ""
           },
           "bgcolor": "#E5ECF6",
           "radialaxis": {
            "gridcolor": "white",
            "linecolor": "white",
            "ticks": ""
           }
          },
          "scene": {
           "xaxis": {
            "backgroundcolor": "#E5ECF6",
            "gridcolor": "white",
            "gridwidth": 2,
            "linecolor": "white",
            "showbackground": true,
            "ticks": "",
            "zerolinecolor": "white"
           },
           "yaxis": {
            "backgroundcolor": "#E5ECF6",
            "gridcolor": "white",
            "gridwidth": 2,
            "linecolor": "white",
            "showbackground": true,
            "ticks": "",
            "zerolinecolor": "white"
           },
           "zaxis": {
            "backgroundcolor": "#E5ECF6",
            "gridcolor": "white",
            "gridwidth": 2,
            "linecolor": "white",
            "showbackground": true,
            "ticks": "",
            "zerolinecolor": "white"
           }
          },
          "shapedefaults": {
           "line": {
            "color": "#2a3f5f"
           }
          },
          "ternary": {
           "aaxis": {
            "gridcolor": "white",
            "linecolor": "white",
            "ticks": ""
           },
           "baxis": {
            "gridcolor": "white",
            "linecolor": "white",
            "ticks": ""
           },
           "bgcolor": "#E5ECF6",
           "caxis": {
            "gridcolor": "white",
            "linecolor": "white",
            "ticks": ""
           }
          },
          "title": {
           "x": 0.05
          },
          "xaxis": {
           "automargin": true,
           "gridcolor": "white",
           "linecolor": "white",
           "ticks": "",
           "title": {
            "standoff": 15
           },
           "zerolinecolor": "white",
           "zerolinewidth": 2
          },
          "yaxis": {
           "automargin": true,
           "gridcolor": "white",
           "linecolor": "white",
           "ticks": "",
           "title": {
            "standoff": 15
           },
           "zerolinecolor": "white",
           "zerolinewidth": 2
          }
         }
        },
        "xaxis": {
         "anchor": "y",
         "gridcolor": "rgba(0,0,0,0.1)",
         "mirror": "ticks",
         "nticks": 8,
         "showgrid": true,
         "showline": true,
         "side": "bottom",
         "tickfont": {
          "size": 16
         },
         "ticks": "inside",
         "title": {
          "font": {
           "color": "#000000",
           "size": 20
          },
          "text": "Composition (fraction)"
         },
         "type": "linear",
         "zeroline": false
        },
        "yaxis": {
         "anchor": "x",
         "gridcolor": "rgba(0,0,0,0.1)",
         "mirror": "ticks",
         "showgrid": true,
         "showline": true,
         "side": "left",
         "tickfont": {
          "size": 16
         },
         "ticks": "inside",
         "title": {
          "font": {
           "color": "#000000",
           "size": 20
          },
          "text": "Formation energy (eV/atom)"
         },
         "type": "linear"
        }
       }
      }
     },
     "metadata": {},
     "output_type": "display_data"
    },
    {
     "name": "stdout",
     "output_type": "stream",
     "text": [
      "Cr-Eu: MAE = 15.531783625335637\n",
      "Cr: H_fusion = 21000.0 J/mol, T_fusion = 2180.0 K, T_vaporization = 2944.15 K\n",
      "Eu: H_fusion = 9210.0 J/mol, T_fusion = 1095.0 K, T_vaporization = 1800.15 K\n",
      "\n",
      "Loading JSON from cache.\n",
      "reading MPDS liquidus from entry at https://mpds.io/entry/C907707...\n",
      "\n"
     ]
    },
    {
     "data": {
      "application/vnd.plotly.v1+json": {
       "config": {
        "plotlyServerURL": "https://plot.ly"
       },
       "data": [
        {
         "line": {
          "color": "#B82E2E",
          "dash": "dash",
          "width": 4
         },
         "mode": "lines",
         "showlegend": false,
         "type": "scatter",
         "x": [
          0,
          1.06108,
          2.1748,
          3.3451099999999996,
          4.57597,
          5.87134,
          7.23517,
          8.67143,
          10.1841,
          11.777,
          13.4543,
          15.2198,
          17.0776,
          19.0315,
          21.0855,
          23.2436,
          25.5098,
          27.8879,
          32.6969,
          37.4574,
          42.1612,
          46.8001,
          51.366,
          55.85059999999999,
          60.2458,
          64.5435,
          68.7354,
          72.8134,
          76.7694,
          80.5951,
          84.2823,
          87.823,
          91.2089,
          94.4319,
          97.4838,
          100
         ],
         "y": [
          1912.37,
          1889.7999999999997,
          1868.69,
          1849.0099999999998,
          1830.7599999999998,
          1813.92,
          1798.48,
          1784.44,
          1771.79,
          1760.5,
          1750.5699999999997,
          1742,
          1734.7599999999998,
          1728.8599999999997,
          1724.27,
          1720.9899999999998,
          1719,
          1718.2999999999997,
          1717.4099999999999,
          1714.52,
          1708.67,
          1698.9299999999998,
          1684.35,
          1664.0099999999998,
          1636.96,
          1602.2599999999998,
          1558.9699999999998,
          1506.1599999999999,
          1442.88,
          1368.1999999999998,
          1281.1799999999998,
          1180.87,
          1066.35,
          936.66,
          790.8770000000001,
          843.3860000000001
         ]
        },
        {
         "hovertemplate": "x=%{x}<br>y=%{y}<extra></extra>",
         "legendgroup": "",
         "line": {
          "color": "Silver",
          "dash": "solid",
          "width": 4
         },
         "marker": {
          "symbol": "circle"
         },
         "mode": "lines",
         "name": "",
         "orientation": "v",
         "showlegend": false,
         "type": "scatter",
         "x": [
          0,
          97,
          100
         ],
         "xaxis": "x",
         "y": [
          791.8303330661998,
          791.8303330661998,
          791.8303330661998
         ],
         "yaxis": "y"
        },
        {
         "hovertemplate": "label=L<br>x=%{x}<br>t=%{y}<extra></extra>",
         "legendgroup": "L",
         "line": {
          "color": "cornflowerblue",
          "dash": "solid",
          "width": 4
         },
         "marker": {
          "symbol": "circle"
         },
         "mode": "lines",
         "name": "L",
         "orientation": "v",
         "showlegend": false,
         "type": "scatter",
         "x": [
          0,
          0,
          1,
          2,
          3,
          4,
          5,
          6,
          7.000000000000001,
          8,
          9,
          10,
          11,
          12,
          13,
          14.000000000000002,
          15,
          16,
          17,
          18,
          19,
          20,
          21,
          22,
          23,
          24,
          25,
          26,
          27,
          28.000000000000004,
          28.999999999999996,
          30,
          31,
          32,
          33,
          34,
          35,
          36,
          37,
          38,
          39,
          40,
          41,
          42,
          43,
          44,
          45,
          46,
          47,
          48,
          49,
          50,
          51,
          52,
          53,
          54,
          55.00000000000001,
          56.00000000000001,
          57.00000000000001,
          57.99999999999999,
          59,
          60,
          61,
          62,
          63,
          64,
          65,
          66,
          67,
          68,
          69,
          70,
          71,
          72,
          73,
          74,
          75,
          76,
          77,
          78,
          79,
          80,
          81,
          82,
          83,
          84,
          85,
          86,
          87,
          88,
          89,
          90,
          91,
          92,
          93,
          94,
          95,
          96,
          97,
          98,
          99,
          100,
          100
         ],
         "xaxis": "x",
         "y": [
          1912.3699999999994,
          1912.3699999999994,
          1886.2530954359586,
          1867.3629324797275,
          1850.2661790263655,
          1834.9377226497913,
          1821.440762716185,
          1809.7540624565167,
          1799.7727392913207,
          1791.3358037779963,
          1784.2542017899832,
          1778.3325550457944,
          1773.3836158477316,
          1769.2365365070432,
          1765.7406097666103,
          1762.7660307660685,
          1760.2028943032224,
          1757.9592807162521,
          1755.9589827144296,
          1754.1392034934397,
          1752.4484055923713,
          1750.8443938453634,
          1749.2926582396872,
          1747.764970445563,
          1746.238211751158,
          1744.6934036802945,
          1743.1149115185158,
          1741.489792746078,
          1739.8072654215675,
          1738.0582750042722,
          1736.2351414698096,
          1734.3312716370483,
          1732.3409242968987,
          1730.2590180009452,
          1728.0809732568368,
          1725.8025824373772,
          1723.4199019748544,
          1720.929162447675,
          1718.3266929933711,
          1715.6088571539804,
          1712.7719977963657,
          1709.812389178806,
          1706.7261945819341,
          1703.5094281934444,
          1700.1579201560821,
          1696.6672838596742,
          1693.0328846936927,
          1689.2498095820638,
          1685.312836701728,
          1681.2164048469604,
          1676.9545819416853,
          1672.5210322314738,
          1667.9089816981968,
          1663.1111812442105,
          1658.119867182535,
          1652.9267185505992,
          1647.5228107335488,
          1641.8985648434614,
          1636.0436922459094,
          1629.9471335616026,
          1623.5969913901172,
          1616.980455907813,
          1610.083722377361,
          1602.8918994728283,
          1595.3889071609442,
          1587.5573626925802,
          1579.378453028441,
          1570.8317917580703,
          1561.8952582468987,
          1552.5448163646852,
          1542.7543096851432,
          1532.4952294905552,
          1521.736451239096,
          1510.4439343289832,
          1498.5803789832253,
          1486.1048328325433,
          1472.9722382240157,
          1459.1329093412246,
          1444.531925767159,
          1429.1084259865997,
          1412.7947802772524,
          1395.5156171444933,
          1377.1866704279987,
          1357.7134047241489,
          1336.9893637205996,
          1314.8941676867698,
          1291.29105988848,
          1266.0238623715582,
          1238.913141173864,
          1209.7512846967124,
          1178.2960384763164,
          1144.2617586239053,
          1107.3071255576847,
          1067.0170293551205,
          1022.8741351199602,
          974.2104637952988,
          920.1156555077374,
          859.2363236444947,
          791.8303330661998,
          793.0744691621129,
          820.0114120820268,
          843.3860000000001,
          843.3860000000001
         ],
         "yaxis": "y"
        },
        {
         "line": {
          "color": "#B82E2E",
          "dash": "dash"
         },
         "mode": "lines",
         "name": "Digitized Liquidus",
         "showlegend": true,
         "type": "scatter",
         "x": [
          null
         ],
         "y": [
          null
         ]
        },
        {
         "marker": {
          "color": "cornflowerblue"
         },
         "mode": "lines",
         "name": "Fitted Liquidus",
         "showlegend": true,
         "type": "scatter",
         "x": [
          null
         ],
         "y": [
          null
         ]
        }
       ],
       "layout": {
        "annotations": [
         {
          "font": {
           "color": "black",
           "size": 18
          },
          "showarrow": false,
          "text": "L",
          "x": 50,
          "y": 2028
         }
        ],
        "font": {
         "size": 22
        },
        "height": 700,
        "legend": {
         "font": {
          "size": 18
         },
         "x": 0.99,
         "xanchor": "right",
         "y": 0.99,
         "yanchor": "top"
        },
        "plot_bgcolor": "white",
        "showlegend": true,
        "template": {
         "data": {
          "bar": [
           {
            "error_x": {
             "color": "#2a3f5f"
            },
            "error_y": {
             "color": "#2a3f5f"
            },
            "marker": {
             "line": {
              "color": "#E5ECF6",
              "width": 0.5
             },
             "pattern": {
              "fillmode": "overlay",
              "size": 10,
              "solidity": 0.2
             }
            },
            "type": "bar"
           }
          ],
          "barpolar": [
           {
            "marker": {
             "line": {
              "color": "#E5ECF6",
              "width": 0.5
             },
             "pattern": {
              "fillmode": "overlay",
              "size": 10,
              "solidity": 0.2
             }
            },
            "type": "barpolar"
           }
          ],
          "carpet": [
           {
            "aaxis": {
             "endlinecolor": "#2a3f5f",
             "gridcolor": "white",
             "linecolor": "white",
             "minorgridcolor": "white",
             "startlinecolor": "#2a3f5f"
            },
            "baxis": {
             "endlinecolor": "#2a3f5f",
             "gridcolor": "white",
             "linecolor": "white",
             "minorgridcolor": "white",
             "startlinecolor": "#2a3f5f"
            },
            "type": "carpet"
           }
          ],
          "choropleth": [
           {
            "colorbar": {
             "outlinewidth": 0,
             "ticks": ""
            },
            "type": "choropleth"
           }
          ],
          "contour": [
           {
            "colorbar": {
             "outlinewidth": 0,
             "ticks": ""
            },
            "colorscale": [
             [
              0,
              "#0d0887"
             ],
             [
              0.1111111111111111,
              "#46039f"
             ],
             [
              0.2222222222222222,
              "#7201a8"
             ],
             [
              0.3333333333333333,
              "#9c179e"
             ],
             [
              0.4444444444444444,
              "#bd3786"
             ],
             [
              0.5555555555555556,
              "#d8576b"
             ],
             [
              0.6666666666666666,
              "#ed7953"
             ],
             [
              0.7777777777777778,
              "#fb9f3a"
             ],
             [
              0.8888888888888888,
              "#fdca26"
             ],
             [
              1,
              "#f0f921"
             ]
            ],
            "type": "contour"
           }
          ],
          "contourcarpet": [
           {
            "colorbar": {
             "outlinewidth": 0,
             "ticks": ""
            },
            "type": "contourcarpet"
           }
          ],
          "heatmap": [
           {
            "colorbar": {
             "outlinewidth": 0,
             "ticks": ""
            },
            "colorscale": [
             [
              0,
              "#0d0887"
             ],
             [
              0.1111111111111111,
              "#46039f"
             ],
             [
              0.2222222222222222,
              "#7201a8"
             ],
             [
              0.3333333333333333,
              "#9c179e"
             ],
             [
              0.4444444444444444,
              "#bd3786"
             ],
             [
              0.5555555555555556,
              "#d8576b"
             ],
             [
              0.6666666666666666,
              "#ed7953"
             ],
             [
              0.7777777777777778,
              "#fb9f3a"
             ],
             [
              0.8888888888888888,
              "#fdca26"
             ],
             [
              1,
              "#f0f921"
             ]
            ],
            "type": "heatmap"
           }
          ],
          "heatmapgl": [
           {
            "colorbar": {
             "outlinewidth": 0,
             "ticks": ""
            },
            "colorscale": [
             [
              0,
              "#0d0887"
             ],
             [
              0.1111111111111111,
              "#46039f"
             ],
             [
              0.2222222222222222,
              "#7201a8"
             ],
             [
              0.3333333333333333,
              "#9c179e"
             ],
             [
              0.4444444444444444,
              "#bd3786"
             ],
             [
              0.5555555555555556,
              "#d8576b"
             ],
             [
              0.6666666666666666,
              "#ed7953"
             ],
             [
              0.7777777777777778,
              "#fb9f3a"
             ],
             [
              0.8888888888888888,
              "#fdca26"
             ],
             [
              1,
              "#f0f921"
             ]
            ],
            "type": "heatmapgl"
           }
          ],
          "histogram": [
           {
            "marker": {
             "pattern": {
              "fillmode": "overlay",
              "size": 10,
              "solidity": 0.2
             }
            },
            "type": "histogram"
           }
          ],
          "histogram2d": [
           {
            "colorbar": {
             "outlinewidth": 0,
             "ticks": ""
            },
            "colorscale": [
             [
              0,
              "#0d0887"
             ],
             [
              0.1111111111111111,
              "#46039f"
             ],
             [
              0.2222222222222222,
              "#7201a8"
             ],
             [
              0.3333333333333333,
              "#9c179e"
             ],
             [
              0.4444444444444444,
              "#bd3786"
             ],
             [
              0.5555555555555556,
              "#d8576b"
             ],
             [
              0.6666666666666666,
              "#ed7953"
             ],
             [
              0.7777777777777778,
              "#fb9f3a"
             ],
             [
              0.8888888888888888,
              "#fdca26"
             ],
             [
              1,
              "#f0f921"
             ]
            ],
            "type": "histogram2d"
           }
          ],
          "histogram2dcontour": [
           {
            "colorbar": {
             "outlinewidth": 0,
             "ticks": ""
            },
            "colorscale": [
             [
              0,
              "#0d0887"
             ],
             [
              0.1111111111111111,
              "#46039f"
             ],
             [
              0.2222222222222222,
              "#7201a8"
             ],
             [
              0.3333333333333333,
              "#9c179e"
             ],
             [
              0.4444444444444444,
              "#bd3786"
             ],
             [
              0.5555555555555556,
              "#d8576b"
             ],
             [
              0.6666666666666666,
              "#ed7953"
             ],
             [
              0.7777777777777778,
              "#fb9f3a"
             ],
             [
              0.8888888888888888,
              "#fdca26"
             ],
             [
              1,
              "#f0f921"
             ]
            ],
            "type": "histogram2dcontour"
           }
          ],
          "mesh3d": [
           {
            "colorbar": {
             "outlinewidth": 0,
             "ticks": ""
            },
            "type": "mesh3d"
           }
          ],
          "parcoords": [
           {
            "line": {
             "colorbar": {
              "outlinewidth": 0,
              "ticks": ""
             }
            },
            "type": "parcoords"
           }
          ],
          "pie": [
           {
            "automargin": true,
            "type": "pie"
           }
          ],
          "scatter": [
           {
            "fillpattern": {
             "fillmode": "overlay",
             "size": 10,
             "solidity": 0.2
            },
            "type": "scatter"
           }
          ],
          "scatter3d": [
           {
            "line": {
             "colorbar": {
              "outlinewidth": 0,
              "ticks": ""
             }
            },
            "marker": {
             "colorbar": {
              "outlinewidth": 0,
              "ticks": ""
             }
            },
            "type": "scatter3d"
           }
          ],
          "scattercarpet": [
           {
            "marker": {
             "colorbar": {
              "outlinewidth": 0,
              "ticks": ""
             }
            },
            "type": "scattercarpet"
           }
          ],
          "scattergeo": [
           {
            "marker": {
             "colorbar": {
              "outlinewidth": 0,
              "ticks": ""
             }
            },
            "type": "scattergeo"
           }
          ],
          "scattergl": [
           {
            "marker": {
             "colorbar": {
              "outlinewidth": 0,
              "ticks": ""
             }
            },
            "type": "scattergl"
           }
          ],
          "scattermapbox": [
           {
            "marker": {
             "colorbar": {
              "outlinewidth": 0,
              "ticks": ""
             }
            },
            "type": "scattermapbox"
           }
          ],
          "scatterpolar": [
           {
            "marker": {
             "colorbar": {
              "outlinewidth": 0,
              "ticks": ""
             }
            },
            "type": "scatterpolar"
           }
          ],
          "scatterpolargl": [
           {
            "marker": {
             "colorbar": {
              "outlinewidth": 0,
              "ticks": ""
             }
            },
            "type": "scatterpolargl"
           }
          ],
          "scatterternary": [
           {
            "marker": {
             "colorbar": {
              "outlinewidth": 0,
              "ticks": ""
             }
            },
            "type": "scatterternary"
           }
          ],
          "surface": [
           {
            "colorbar": {
             "outlinewidth": 0,
             "ticks": ""
            },
            "colorscale": [
             [
              0,
              "#0d0887"
             ],
             [
              0.1111111111111111,
              "#46039f"
             ],
             [
              0.2222222222222222,
              "#7201a8"
             ],
             [
              0.3333333333333333,
              "#9c179e"
             ],
             [
              0.4444444444444444,
              "#bd3786"
             ],
             [
              0.5555555555555556,
              "#d8576b"
             ],
             [
              0.6666666666666666,
              "#ed7953"
             ],
             [
              0.7777777777777778,
              "#fb9f3a"
             ],
             [
              0.8888888888888888,
              "#fdca26"
             ],
             [
              1,
              "#f0f921"
             ]
            ],
            "type": "surface"
           }
          ],
          "table": [
           {
            "cells": {
             "fill": {
              "color": "#EBF0F8"
             },
             "line": {
              "color": "white"
             }
            },
            "header": {
             "fill": {
              "color": "#C8D4E3"
             },
             "line": {
              "color": "white"
             }
            },
            "type": "table"
           }
          ]
         },
         "layout": {
          "annotationdefaults": {
           "arrowcolor": "#2a3f5f",
           "arrowhead": 0,
           "arrowwidth": 1
          },
          "autotypenumbers": "strict",
          "coloraxis": {
           "colorbar": {
            "outlinewidth": 0,
            "ticks": ""
           }
          },
          "colorscale": {
           "diverging": [
            [
             0,
             "#8e0152"
            ],
            [
             0.1,
             "#c51b7d"
            ],
            [
             0.2,
             "#de77ae"
            ],
            [
             0.3,
             "#f1b6da"
            ],
            [
             0.4,
             "#fde0ef"
            ],
            [
             0.5,
             "#f7f7f7"
            ],
            [
             0.6,
             "#e6f5d0"
            ],
            [
             0.7,
             "#b8e186"
            ],
            [
             0.8,
             "#7fbc41"
            ],
            [
             0.9,
             "#4d9221"
            ],
            [
             1,
             "#276419"
            ]
           ],
           "sequential": [
            [
             0,
             "#0d0887"
            ],
            [
             0.1111111111111111,
             "#46039f"
            ],
            [
             0.2222222222222222,
             "#7201a8"
            ],
            [
             0.3333333333333333,
             "#9c179e"
            ],
            [
             0.4444444444444444,
             "#bd3786"
            ],
            [
             0.5555555555555556,
             "#d8576b"
            ],
            [
             0.6666666666666666,
             "#ed7953"
            ],
            [
             0.7777777777777778,
             "#fb9f3a"
            ],
            [
             0.8888888888888888,
             "#fdca26"
            ],
            [
             1,
             "#f0f921"
            ]
           ],
           "sequentialminus": [
            [
             0,
             "#0d0887"
            ],
            [
             0.1111111111111111,
             "#46039f"
            ],
            [
             0.2222222222222222,
             "#7201a8"
            ],
            [
             0.3333333333333333,
             "#9c179e"
            ],
            [
             0.4444444444444444,
             "#bd3786"
            ],
            [
             0.5555555555555556,
             "#d8576b"
            ],
            [
             0.6666666666666666,
             "#ed7953"
            ],
            [
             0.7777777777777778,
             "#fb9f3a"
            ],
            [
             0.8888888888888888,
             "#fdca26"
            ],
            [
             1,
             "#f0f921"
            ]
           ]
          },
          "colorway": [
           "#636efa",
           "#EF553B",
           "#00cc96",
           "#ab63fa",
           "#FFA15A",
           "#19d3f3",
           "#FF6692",
           "#B6E880",
           "#FF97FF",
           "#FECB52"
          ],
          "font": {
           "color": "#2a3f5f"
          },
          "geo": {
           "bgcolor": "white",
           "lakecolor": "white",
           "landcolor": "#E5ECF6",
           "showlakes": true,
           "showland": true,
           "subunitcolor": "white"
          },
          "hoverlabel": {
           "align": "left"
          },
          "hovermode": "closest",
          "mapbox": {
           "style": "light"
          },
          "paper_bgcolor": "white",
          "plot_bgcolor": "#E5ECF6",
          "polar": {
           "angularaxis": {
            "gridcolor": "white",
            "linecolor": "white",
            "ticks": ""
           },
           "bgcolor": "#E5ECF6",
           "radialaxis": {
            "gridcolor": "white",
            "linecolor": "white",
            "ticks": ""
           }
          },
          "scene": {
           "xaxis": {
            "backgroundcolor": "#E5ECF6",
            "gridcolor": "white",
            "gridwidth": 2,
            "linecolor": "white",
            "showbackground": true,
            "ticks": "",
            "zerolinecolor": "white"
           },
           "yaxis": {
            "backgroundcolor": "#E5ECF6",
            "gridcolor": "white",
            "gridwidth": 2,
            "linecolor": "white",
            "showbackground": true,
            "ticks": "",
            "zerolinecolor": "white"
           },
           "zaxis": {
            "backgroundcolor": "#E5ECF6",
            "gridcolor": "white",
            "gridwidth": 2,
            "linecolor": "white",
            "showbackground": true,
            "ticks": "",
            "zerolinecolor": "white"
           }
          },
          "shapedefaults": {
           "line": {
            "color": "#2a3f5f"
           }
          },
          "ternary": {
           "aaxis": {
            "gridcolor": "white",
            "linecolor": "white",
            "ticks": ""
           },
           "baxis": {
            "gridcolor": "white",
            "linecolor": "white",
            "ticks": ""
           },
           "bgcolor": "#E5ECF6",
           "caxis": {
            "gridcolor": "white",
            "linecolor": "white",
            "ticks": ""
           }
          },
          "title": {
           "x": 0.05
          },
          "xaxis": {
           "automargin": true,
           "gridcolor": "white",
           "linecolor": "white",
           "ticks": "",
           "title": {
            "standoff": 15
           },
           "zerolinecolor": "white",
           "zerolinewidth": 2
          },
          "yaxis": {
           "automargin": true,
           "gridcolor": "white",
           "linecolor": "white",
           "ticks": "",
           "title": {
            "standoff": 15
           },
           "zerolinecolor": "white",
           "zerolinewidth": 2
          }
         }
        },
        "title": {
         "text": "Cr-Eu Fitted Binary Phase Diagram"
        },
        "width": 960,
        "xaxis": {
         "linecolor": "black",
         "linewidth": 2,
         "mirror": true,
         "range": [
          0,
          100
         ],
         "showline": true,
         "tickcolor": "black",
         "tickformat": ".0f",
         "ticks": "outside",
         "title": {
          "text": "Eu (at. %)"
         }
        },
        "yaxis": {
         "linecolor": "black",
         "linewidth": 2,
         "mirror": true,
         "range": [
          600,
          2140
         ],
         "showline": true,
         "tickcolor": "black",
         "ticks": "outside",
         "ticksuffix": " ",
         "title": {
          "text": "T (°C)"
         }
        }
       }
      }
     },
     "metadata": {},
     "output_type": "display_data"
    },
    {
     "name": "stdout",
     "output_type": "stream",
     "text": [
      "No arguments specified for 't_vals', setting 't_units' to 'K'\n"
     ]
    },
    {
     "data": {
      "application/vnd.plotly.v1+json": {
       "config": {
        "plotlyServerURL": "https://plot.ly"
       },
       "data": [
        {
         "mode": "lines",
         "name": "Liquid T=1064K",
         "type": "scatter",
         "x": [
          0,
          0.01,
          0.02,
          0.03,
          0.04,
          0.05,
          0.06,
          0.07,
          0.08,
          0.09,
          0.1,
          0.11,
          0.12,
          0.13,
          0.14,
          0.15,
          0.16,
          0.17,
          0.18,
          0.19,
          0.2,
          0.21,
          0.22,
          0.23,
          0.24,
          0.25,
          0.26,
          0.27,
          0.28,
          0.29,
          0.3,
          0.31,
          0.32,
          0.33,
          0.34,
          0.35000000000000003,
          0.36,
          0.37,
          0.38,
          0.39,
          0.4,
          0.41000000000000003,
          0.42,
          0.43,
          0.44,
          0.45,
          0.46,
          0.47000000000000003,
          0.48,
          0.49,
          0.5,
          0.51,
          0.52,
          0.53,
          0.54,
          0.55,
          0.56,
          0.5700000000000001,
          0.58,
          0.59,
          0.6,
          0.61,
          0.62,
          0.63,
          0.64,
          0.65,
          0.66,
          0.67,
          0.68,
          0.6900000000000001,
          0.7000000000000001,
          0.71,
          0.72,
          0.73,
          0.74,
          0.75,
          0.76,
          0.77,
          0.78,
          0.79,
          0.8,
          0.81,
          0.8200000000000001,
          0.8300000000000001,
          0.84,
          0.85,
          0.86,
          0.87,
          0.88,
          0.89,
          0.9,
          0.91,
          0.92,
          0.93,
          0.9400000000000001,
          0.9500000000000001,
          0.96,
          0.97,
          0.98,
          0.99,
          1
         ],
         "y": [
          0.11168665282585435,
          0.1416746252738763,
          0.1714987057891762,
          0.20038952279493066,
          0.22820080095887413,
          0.25487458212310904,
          0.28038574306721237,
          0.30472512362586224,
          0.3278925586288649,
          0.3498934600811496,
          0.3707369398440046,
          0.3904346914918564,
          0.4090002823554015,
          0.4264486832719715,
          0.4427959439235931,
          0.45805896143562425,
          0.47225531098054846,
          0.48540311892021926,
          0.49752096592515854,
          0.5086278117152772,
          0.5187429357154637,
          0.5278858896375537,
          0.5360764591434636,
          0.5433346325225702,
          0.5496805748571337,
          0.5551346065321543,
          0.5597171852212544,
          0.5634488906811362,
          0.5663504118359259,
          0.5684425357442187,
          0.5697461381262194,
          0.5702821751931699,
          0.5700716765714476,
          0.5691357391529199,
          0.5674955217340362,
          0.5651722403307041,
          0.5621871640756562,
          0.5585616116208812,
          0.5543169479805983,
          0.54947458176079,
          0.5440559627300269,
          0.5380825796935167,
          0.5315759586383584,
          0.5245576611230509,
          0.5170492828886315,
          0.5090724526725013,
          0.5006488312092023,
          0.49180011040518856,
          0.48254801267712344,
          0.47291429044543914,
          0.4629207257769274,
          0.452589130172009,
          0.4419413444941065,
          0.430999239040271,
          0.4197847137539138,
          0.4083196985822147,
          0.39662615398256235,
          0.384726071584259,
          0.37264147501374606,
          0.36039442089382934,
          0.34800700002985324,
          0.3355013387985621,
          0.32289960075859125,
          0.3102239885052136,
          0.2974967457962893,
          0.2847401599814429,
          0.2719765647725286,
          0.2592283434006571,
          0.246517932213764,
          0.2338678247792428,
          0.22130057656906993,
          0.20883881032071064,
          0.1965052221867662,
          0.18432258881087554,
          0.172313775498286,
          0.16050174568871517,
          0.14890957198930363,
          0.13756044909027237,
          0.12647770897046437,
          0.11568483891146251,
          0.10520550298773347,
          0.09506356790120378,
          0.0852831343038811,
          0.07588857513472012,
          0.0669045830376531,
          0.058356229706001364,
          0.05026904114175459,
          0.04266909453627252,
          0.035583145128040276,
          0.029038795598874675,
          0.02306472747528679,
          0.01769102579042383,
          0.012949649333702162,
          0.008875138607676933,
          0.005505733971262038,
          0.0028852529584942046,
          0.0010665080985388005,
          0.00011827497566191999,
          0.00014216411160426176,
          0.0013281032024747253,
          0.004489116188940329
         ]
        },
        {
         "mode": "lines",
         "name": "Liquid T=0K",
         "type": "scatter",
         "x": [
          0,
          0.01,
          0.02,
          0.03,
          0.04,
          0.05,
          0.06,
          0.07,
          0.08,
          0.09,
          0.1,
          0.11,
          0.12,
          0.13,
          0.14,
          0.15,
          0.16,
          0.17,
          0.18,
          0.19,
          0.2,
          0.21,
          0.22,
          0.23,
          0.24,
          0.25,
          0.26,
          0.27,
          0.28,
          0.29,
          0.3,
          0.31,
          0.32,
          0.33,
          0.34,
          0.35000000000000003,
          0.36,
          0.37,
          0.38,
          0.39,
          0.4,
          0.41000000000000003,
          0.42,
          0.43,
          0.44,
          0.45,
          0.46,
          0.47000000000000003,
          0.48,
          0.49,
          0.5,
          0.51,
          0.52,
          0.53,
          0.54,
          0.55,
          0.56,
          0.5700000000000001,
          0.58,
          0.59,
          0.6,
          0.61,
          0.62,
          0.63,
          0.64,
          0.65,
          0.66,
          0.67,
          0.68,
          0.6900000000000001,
          0.7000000000000001,
          0.71,
          0.72,
          0.73,
          0.74,
          0.75,
          0.76,
          0.77,
          0.78,
          0.79,
          0.8,
          0.81,
          0.8200000000000001,
          0.8300000000000001,
          0.84,
          0.85,
          0.86,
          0.87,
          0.88,
          0.89,
          0.9,
          0.91,
          0.92,
          0.93,
          0.9400000000000001,
          0.9500000000000001,
          0.96,
          0.97,
          0.98,
          0.99,
          1
         ],
         "y": [
          0.21765041198113697,
          0.29190050214205193,
          0.36330101931616626,
          0.4318925212159641,
          0.49771556555393004,
          0.5608107100425478,
          0.621218512394302,
          0.6789795303216769,
          0.7341343215371566,
          0.7867234437532253,
          0.8367874546823674,
          0.8843669120370669,
          0.9295023735298082,
          0.9722343968730758,
          1.0126035397793534,
          1.0506503599611257,
          1.0864154151308767,
          1.119939263001091,
          1.1512624612842521,
          1.1804255676928452,
          1.2074691399393538,
          1.2324337357362625,
          1.255359912796055,
          1.2762882288312165,
          1.2952592415542306,
          1.3123135086775817,
          1.3274915879137539,
          1.3408340369752316,
          1.3523814135744991,
          1.36217427542404,
          1.3702531802363398,
          1.376658685723882,
          1.3814313495991506,
          1.3846117295746303,
          1.386240383362805,
          1.3863578686761595,
          1.3850047432271775,
          1.3822215647283433,
          1.3780488908921413,
          1.3725272794310552,
          1.3656972880575706,
          1.35759947448417,
          1.3482743964233392,
          1.3377626115875616,
          1.3261046776893213,
          1.3133411524411032,
          1.2995125935553908,
          1.2846595587446692,
          1.2688226057214218,
          1.2520422921981333,
          1.234359175887288,
          1.2158138145013702,
          1.1964467657528637,
          1.176298587354253,
          1.1554098370180224,
          1.1338210724566562,
          1.1115728513826384,
          1.0887057315084532,
          1.0652602705465855,
          1.0412770262095188,
          1.0167965562097376,
          0.9918594182597262,
          0.9665061700719685,
          0.9407773693589493,
          0.9147135738331525,
          0.8883553412070627,
          0.8617432291931636,
          0.8349177955039399,
          0.8079195978518755,
          0.7807891939494547,
          0.753567141509162,
          0.7262939982434818,
          0.6990103218648976,
          0.6717566700858945,
          0.6445736006189559,
          0.6175016711765666,
          0.5905814394712108,
          0.5638534632153724,
          0.5373583001215362,
          0.511136507902186,
          0.48522864426980616,
          0.45967526693688093,
          0.43451693361589455,
          0.4097942020193315,
          0.3855476298596759,
          0.3618177748494116,
          0.33864519470102333,
          0.316070447126995,
          0.2941340898398111,
          0.2728766805519558,
          0.2523387769759133,
          0.2325609368241678,
          0.2135837178092036,
          0.19544767764350504,
          0.17819337403955626,
          0.16186136470984153,
          0.14649220736684526,
          0.13212645972305131,
          0.11880467949094418,
          0.10656742438300806,
          0.09545525211172722
         ]
        },
        {
         "hoverinfo": "none",
         "line": {
          "color": "black",
          "width": 4
         },
         "mode": "lines",
         "showlegend": false,
         "type": "scatter",
         "x": [
          0,
          1,
          null
         ],
         "y": [
          0,
          0,
          null
         ]
        },
        {
         "hoverinfo": "skip",
         "mode": "text",
         "name": "Labels (stable)",
         "opacity": 1,
         "showlegend": true,
         "text": [],
         "textposition": [],
         "type": "scatter",
         "visible": true,
         "x": [],
         "y": []
        },
        {
         "error_y": {
          "array": [
           0,
           0
          ],
          "color": "gray",
          "thickness": 2.5,
          "type": "data",
          "width": 5
         },
         "hoverinfo": "text",
         "hoverlabel": {
          "font": {
           "size": 14
          }
         },
         "hovertext": [
          "Cr (mp-90-GGA) <br> 0.0 eV/atom (Stable)",
          "Eu (mp-623532-GGA) <br> 0.0 eV/atom (Stable)"
         ],
         "marker": {
          "color": "darkgreen",
          "line": {
           "color": "black",
           "width": 2
          },
          "size": 16
         },
         "mode": "markers",
         "name": "Stable",
         "opacity": 0.99,
         "showlegend": true,
         "type": "scatter",
         "x": [
          0,
          1
         ],
         "y": [
          0,
          0
         ]
        },
        {
         "hoverinfo": "text",
         "hoverlabel": {
          "font": {
           "size": 14
          }
         },
         "hovertext": [
          "Cr (mp-17-GGA) <br> 0.081 eV/atom (+0.081 eV/atom)",
          "Eu (mp-1077457-GGA) <br> 0.088 eV/atom (+0.088 eV/atom)",
          "Eu (mp-1184367-GGA) <br> 0.004 eV/atom (+0.004 eV/atom)",
          "Eu (mp-21462-GGA) <br> 0.011 eV/atom (+0.011 eV/atom)",
          "Eu (mp-20071-GGA) <br> 0.048 eV/atom (+0.048 eV/atom)",
          "Eu (mp-1057315-GGA) <br> 0.016 eV/atom (+0.016 eV/atom)"
         ],
         "marker": {
          "color": [
           0.081,
           0.088,
           0.004,
           0.011,
           0.048,
           0.016
          ],
          "colorscale": [
           [
            0,
            "#fff5e3"
           ],
           [
            0.5,
            "#f24324"
           ],
           [
            1,
            "#c40000"
           ]
          ],
          "line": {
           "color": "black",
           "width": 1
          },
          "opacity": 0.8,
          "size": 7,
          "symbol": "diamond"
         },
         "mode": "markers",
         "name": "Above Hull",
         "showlegend": true,
         "type": "scatter",
         "x": [
          0,
          1,
          1,
          1,
          1,
          1
         ],
         "y": [
          0.08112848250000049,
          0.08784678333333318,
          0.004487059999998877,
          0.010549655000000158,
          0.04829949999999883,
          0.015575354999999291
         ]
        }
       ],
       "layout": {
        "annotations": [
         {
          "align": "center",
          "font": {
           "color": "#000000",
           "size": 24
          },
          "opacity": 1,
          "showarrow": false,
          "text": "Cr",
          "x": -0.03,
          "xref": "x",
          "y": -0.03,
          "yref": "y"
         },
         {
          "align": "center",
          "font": {
           "color": "#000000",
           "size": 24
          },
          "opacity": 1,
          "showarrow": false,
          "text": "Eu",
          "x": 1.03,
          "xref": "x",
          "y": -0.03,
          "yref": "y"
         }
        ],
        "autosize": true,
        "coloraxis": {
         "colorbar": {
          "x": 1,
          "y": 0.05,
          "yanchor": "top"
         }
        },
        "hovermode": "closest",
        "legend": {
         "orientation": "h",
         "tracegroupgap": 7,
         "traceorder": "reversed",
         "x": 0,
         "xanchor": "left",
         "y": 1.05
        },
        "margin": {
         "b": 10,
         "l": 10,
         "pad": 0,
         "r": 10,
         "t": 0
        },
        "paper_bgcolor": "white",
        "plot_bgcolor": "white",
        "showlegend": true,
        "template": {
         "data": {
          "bar": [
           {
            "error_x": {
             "color": "#2a3f5f"
            },
            "error_y": {
             "color": "#2a3f5f"
            },
            "marker": {
             "line": {
              "color": "#E5ECF6",
              "width": 0.5
             },
             "pattern": {
              "fillmode": "overlay",
              "size": 10,
              "solidity": 0.2
             }
            },
            "type": "bar"
           }
          ],
          "barpolar": [
           {
            "marker": {
             "line": {
              "color": "#E5ECF6",
              "width": 0.5
             },
             "pattern": {
              "fillmode": "overlay",
              "size": 10,
              "solidity": 0.2
             }
            },
            "type": "barpolar"
           }
          ],
          "carpet": [
           {
            "aaxis": {
             "endlinecolor": "#2a3f5f",
             "gridcolor": "white",
             "linecolor": "white",
             "minorgridcolor": "white",
             "startlinecolor": "#2a3f5f"
            },
            "baxis": {
             "endlinecolor": "#2a3f5f",
             "gridcolor": "white",
             "linecolor": "white",
             "minorgridcolor": "white",
             "startlinecolor": "#2a3f5f"
            },
            "type": "carpet"
           }
          ],
          "choropleth": [
           {
            "colorbar": {
             "outlinewidth": 0,
             "ticks": ""
            },
            "type": "choropleth"
           }
          ],
          "contour": [
           {
            "colorbar": {
             "outlinewidth": 0,
             "ticks": ""
            },
            "colorscale": [
             [
              0,
              "#0d0887"
             ],
             [
              0.1111111111111111,
              "#46039f"
             ],
             [
              0.2222222222222222,
              "#7201a8"
             ],
             [
              0.3333333333333333,
              "#9c179e"
             ],
             [
              0.4444444444444444,
              "#bd3786"
             ],
             [
              0.5555555555555556,
              "#d8576b"
             ],
             [
              0.6666666666666666,
              "#ed7953"
             ],
             [
              0.7777777777777778,
              "#fb9f3a"
             ],
             [
              0.8888888888888888,
              "#fdca26"
             ],
             [
              1,
              "#f0f921"
             ]
            ],
            "type": "contour"
           }
          ],
          "contourcarpet": [
           {
            "colorbar": {
             "outlinewidth": 0,
             "ticks": ""
            },
            "type": "contourcarpet"
           }
          ],
          "heatmap": [
           {
            "colorbar": {
             "outlinewidth": 0,
             "ticks": ""
            },
            "colorscale": [
             [
              0,
              "#0d0887"
             ],
             [
              0.1111111111111111,
              "#46039f"
             ],
             [
              0.2222222222222222,
              "#7201a8"
             ],
             [
              0.3333333333333333,
              "#9c179e"
             ],
             [
              0.4444444444444444,
              "#bd3786"
             ],
             [
              0.5555555555555556,
              "#d8576b"
             ],
             [
              0.6666666666666666,
              "#ed7953"
             ],
             [
              0.7777777777777778,
              "#fb9f3a"
             ],
             [
              0.8888888888888888,
              "#fdca26"
             ],
             [
              1,
              "#f0f921"
             ]
            ],
            "type": "heatmap"
           }
          ],
          "heatmapgl": [
           {
            "colorbar": {
             "outlinewidth": 0,
             "ticks": ""
            },
            "colorscale": [
             [
              0,
              "#0d0887"
             ],
             [
              0.1111111111111111,
              "#46039f"
             ],
             [
              0.2222222222222222,
              "#7201a8"
             ],
             [
              0.3333333333333333,
              "#9c179e"
             ],
             [
              0.4444444444444444,
              "#bd3786"
             ],
             [
              0.5555555555555556,
              "#d8576b"
             ],
             [
              0.6666666666666666,
              "#ed7953"
             ],
             [
              0.7777777777777778,
              "#fb9f3a"
             ],
             [
              0.8888888888888888,
              "#fdca26"
             ],
             [
              1,
              "#f0f921"
             ]
            ],
            "type": "heatmapgl"
           }
          ],
          "histogram": [
           {
            "marker": {
             "pattern": {
              "fillmode": "overlay",
              "size": 10,
              "solidity": 0.2
             }
            },
            "type": "histogram"
           }
          ],
          "histogram2d": [
           {
            "colorbar": {
             "outlinewidth": 0,
             "ticks": ""
            },
            "colorscale": [
             [
              0,
              "#0d0887"
             ],
             [
              0.1111111111111111,
              "#46039f"
             ],
             [
              0.2222222222222222,
              "#7201a8"
             ],
             [
              0.3333333333333333,
              "#9c179e"
             ],
             [
              0.4444444444444444,
              "#bd3786"
             ],
             [
              0.5555555555555556,
              "#d8576b"
             ],
             [
              0.6666666666666666,
              "#ed7953"
             ],
             [
              0.7777777777777778,
              "#fb9f3a"
             ],
             [
              0.8888888888888888,
              "#fdca26"
             ],
             [
              1,
              "#f0f921"
             ]
            ],
            "type": "histogram2d"
           }
          ],
          "histogram2dcontour": [
           {
            "colorbar": {
             "outlinewidth": 0,
             "ticks": ""
            },
            "colorscale": [
             [
              0,
              "#0d0887"
             ],
             [
              0.1111111111111111,
              "#46039f"
             ],
             [
              0.2222222222222222,
              "#7201a8"
             ],
             [
              0.3333333333333333,
              "#9c179e"
             ],
             [
              0.4444444444444444,
              "#bd3786"
             ],
             [
              0.5555555555555556,
              "#d8576b"
             ],
             [
              0.6666666666666666,
              "#ed7953"
             ],
             [
              0.7777777777777778,
              "#fb9f3a"
             ],
             [
              0.8888888888888888,
              "#fdca26"
             ],
             [
              1,
              "#f0f921"
             ]
            ],
            "type": "histogram2dcontour"
           }
          ],
          "mesh3d": [
           {
            "colorbar": {
             "outlinewidth": 0,
             "ticks": ""
            },
            "type": "mesh3d"
           }
          ],
          "parcoords": [
           {
            "line": {
             "colorbar": {
              "outlinewidth": 0,
              "ticks": ""
             }
            },
            "type": "parcoords"
           }
          ],
          "pie": [
           {
            "automargin": true,
            "type": "pie"
           }
          ],
          "scatter": [
           {
            "fillpattern": {
             "fillmode": "overlay",
             "size": 10,
             "solidity": 0.2
            },
            "type": "scatter"
           }
          ],
          "scatter3d": [
           {
            "line": {
             "colorbar": {
              "outlinewidth": 0,
              "ticks": ""
             }
            },
            "marker": {
             "colorbar": {
              "outlinewidth": 0,
              "ticks": ""
             }
            },
            "type": "scatter3d"
           }
          ],
          "scattercarpet": [
           {
            "marker": {
             "colorbar": {
              "outlinewidth": 0,
              "ticks": ""
             }
            },
            "type": "scattercarpet"
           }
          ],
          "scattergeo": [
           {
            "marker": {
             "colorbar": {
              "outlinewidth": 0,
              "ticks": ""
             }
            },
            "type": "scattergeo"
           }
          ],
          "scattergl": [
           {
            "marker": {
             "colorbar": {
              "outlinewidth": 0,
              "ticks": ""
             }
            },
            "type": "scattergl"
           }
          ],
          "scattermapbox": [
           {
            "marker": {
             "colorbar": {
              "outlinewidth": 0,
              "ticks": ""
             }
            },
            "type": "scattermapbox"
           }
          ],
          "scatterpolar": [
           {
            "marker": {
             "colorbar": {
              "outlinewidth": 0,
              "ticks": ""
             }
            },
            "type": "scatterpolar"
           }
          ],
          "scatterpolargl": [
           {
            "marker": {
             "colorbar": {
              "outlinewidth": 0,
              "ticks": ""
             }
            },
            "type": "scatterpolargl"
           }
          ],
          "scatterternary": [
           {
            "marker": {
             "colorbar": {
              "outlinewidth": 0,
              "ticks": ""
             }
            },
            "type": "scatterternary"
           }
          ],
          "surface": [
           {
            "colorbar": {
             "outlinewidth": 0,
             "ticks": ""
            },
            "colorscale": [
             [
              0,
              "#0d0887"
             ],
             [
              0.1111111111111111,
              "#46039f"
             ],
             [
              0.2222222222222222,
              "#7201a8"
             ],
             [
              0.3333333333333333,
              "#9c179e"
             ],
             [
              0.4444444444444444,
              "#bd3786"
             ],
             [
              0.5555555555555556,
              "#d8576b"
             ],
             [
              0.6666666666666666,
              "#ed7953"
             ],
             [
              0.7777777777777778,
              "#fb9f3a"
             ],
             [
              0.8888888888888888,
              "#fdca26"
             ],
             [
              1,
              "#f0f921"
             ]
            ],
            "type": "surface"
           }
          ],
          "table": [
           {
            "cells": {
             "fill": {
              "color": "#EBF0F8"
             },
             "line": {
              "color": "white"
             }
            },
            "header": {
             "fill": {
              "color": "#C8D4E3"
             },
             "line": {
              "color": "white"
             }
            },
            "type": "table"
           }
          ]
         },
         "layout": {
          "annotationdefaults": {
           "arrowcolor": "#2a3f5f",
           "arrowhead": 0,
           "arrowwidth": 1
          },
          "autotypenumbers": "strict",
          "coloraxis": {
           "colorbar": {
            "outlinewidth": 0,
            "ticks": ""
           }
          },
          "colorscale": {
           "diverging": [
            [
             0,
             "#8e0152"
            ],
            [
             0.1,
             "#c51b7d"
            ],
            [
             0.2,
             "#de77ae"
            ],
            [
             0.3,
             "#f1b6da"
            ],
            [
             0.4,
             "#fde0ef"
            ],
            [
             0.5,
             "#f7f7f7"
            ],
            [
             0.6,
             "#e6f5d0"
            ],
            [
             0.7,
             "#b8e186"
            ],
            [
             0.8,
             "#7fbc41"
            ],
            [
             0.9,
             "#4d9221"
            ],
            [
             1,
             "#276419"
            ]
           ],
           "sequential": [
            [
             0,
             "#0d0887"
            ],
            [
             0.1111111111111111,
             "#46039f"
            ],
            [
             0.2222222222222222,
             "#7201a8"
            ],
            [
             0.3333333333333333,
             "#9c179e"
            ],
            [
             0.4444444444444444,
             "#bd3786"
            ],
            [
             0.5555555555555556,
             "#d8576b"
            ],
            [
             0.6666666666666666,
             "#ed7953"
            ],
            [
             0.7777777777777778,
             "#fb9f3a"
            ],
            [
             0.8888888888888888,
             "#fdca26"
            ],
            [
             1,
             "#f0f921"
            ]
           ],
           "sequentialminus": [
            [
             0,
             "#0d0887"
            ],
            [
             0.1111111111111111,
             "#46039f"
            ],
            [
             0.2222222222222222,
             "#7201a8"
            ],
            [
             0.3333333333333333,
             "#9c179e"
            ],
            [
             0.4444444444444444,
             "#bd3786"
            ],
            [
             0.5555555555555556,
             "#d8576b"
            ],
            [
             0.6666666666666666,
             "#ed7953"
            ],
            [
             0.7777777777777778,
             "#fb9f3a"
            ],
            [
             0.8888888888888888,
             "#fdca26"
            ],
            [
             1,
             "#f0f921"
            ]
           ]
          },
          "colorway": [
           "#636efa",
           "#EF553B",
           "#00cc96",
           "#ab63fa",
           "#FFA15A",
           "#19d3f3",
           "#FF6692",
           "#B6E880",
           "#FF97FF",
           "#FECB52"
          ],
          "font": {
           "color": "#2a3f5f"
          },
          "geo": {
           "bgcolor": "white",
           "lakecolor": "white",
           "landcolor": "#E5ECF6",
           "showlakes": true,
           "showland": true,
           "subunitcolor": "white"
          },
          "hoverlabel": {
           "align": "left"
          },
          "hovermode": "closest",
          "mapbox": {
           "style": "light"
          },
          "paper_bgcolor": "white",
          "plot_bgcolor": "#E5ECF6",
          "polar": {
           "angularaxis": {
            "gridcolor": "white",
            "linecolor": "white",
            "ticks": ""
           },
           "bgcolor": "#E5ECF6",
           "radialaxis": {
            "gridcolor": "white",
            "linecolor": "white",
            "ticks": ""
           }
          },
          "scene": {
           "xaxis": {
            "backgroundcolor": "#E5ECF6",
            "gridcolor": "white",
            "gridwidth": 2,
            "linecolor": "white",
            "showbackground": true,
            "ticks": "",
            "zerolinecolor": "white"
           },
           "yaxis": {
            "backgroundcolor": "#E5ECF6",
            "gridcolor": "white",
            "gridwidth": 2,
            "linecolor": "white",
            "showbackground": true,
            "ticks": "",
            "zerolinecolor": "white"
           },
           "zaxis": {
            "backgroundcolor": "#E5ECF6",
            "gridcolor": "white",
            "gridwidth": 2,
            "linecolor": "white",
            "showbackground": true,
            "ticks": "",
            "zerolinecolor": "white"
           }
          },
          "shapedefaults": {
           "line": {
            "color": "#2a3f5f"
           }
          },
          "ternary": {
           "aaxis": {
            "gridcolor": "white",
            "linecolor": "white",
            "ticks": ""
           },
           "baxis": {
            "gridcolor": "white",
            "linecolor": "white",
            "ticks": ""
           },
           "bgcolor": "#E5ECF6",
           "caxis": {
            "gridcolor": "white",
            "linecolor": "white",
            "ticks": ""
           }
          },
          "title": {
           "x": 0.05
          },
          "xaxis": {
           "automargin": true,
           "gridcolor": "white",
           "linecolor": "white",
           "ticks": "",
           "title": {
            "standoff": 15
           },
           "zerolinecolor": "white",
           "zerolinewidth": 2
          },
          "yaxis": {
           "automargin": true,
           "gridcolor": "white",
           "linecolor": "white",
           "ticks": "",
           "title": {
            "standoff": 15
           },
           "zerolinecolor": "white",
           "zerolinewidth": 2
          }
         }
        },
        "xaxis": {
         "anchor": "y",
         "gridcolor": "rgba(0,0,0,0.1)",
         "mirror": "ticks",
         "nticks": 8,
         "showgrid": true,
         "showline": true,
         "side": "bottom",
         "tickfont": {
          "size": 16
         },
         "ticks": "inside",
         "title": {
          "font": {
           "color": "#000000",
           "size": 20
          },
          "text": "Composition (fraction)"
         },
         "type": "linear",
         "zeroline": false
        },
        "yaxis": {
         "anchor": "x",
         "gridcolor": "rgba(0,0,0,0.1)",
         "mirror": "ticks",
         "showgrid": true,
         "showline": true,
         "side": "left",
         "tickfont": {
          "size": 16
         },
         "ticks": "inside",
         "title": {
          "font": {
           "color": "#000000",
           "size": 20
          },
          "text": "Formation energy (eV/atom)"
         },
         "type": "linear"
        }
       }
      }
     },
     "metadata": {},
     "output_type": "display_data"
    },
    {
     "name": "stdout",
     "output_type": "stream",
     "text": [
      "B-Dy: MAE = 53.234081113203615\n",
      "B: H_fusion = 50200.0 J/mol, T_fusion = 2350.0 K, T_vaporization = 4273.15 K\n",
      "Dy: H_fusion = 11060.0 J/mol, T_fusion = 1685.0 K, T_vaporization = 2840.15 K\n",
      "\n",
      "Loading JSON from cache.\n",
      "reading MPDS liquidus from entry at https://mpds.io/entry/C900285...\n",
      "\n"
     ]
    },
    {
     "data": {
      "application/vnd.plotly.v1+json": {
       "config": {
        "plotlyServerURL": "https://plot.ly"
       },
       "data": [
        {
         "line": {
          "color": "#B82E2E",
          "dash": "dash",
          "width": 4
         },
         "mode": "lines",
         "showlegend": false,
         "type": "scatter",
         "x": [
          0.0381243,
          0.825169,
          0.831658,
          0.871746,
          0.913822,
          0.95764,
          1.00297,
          1.0495,
          1.09709,
          1.14547,
          1.19442,
          1.24369,
          1.29307,
          1.34232,
          1.39121,
          1.43952,
          1.48704,
          1.53353,
          1.53431,
          1.5705299999999998,
          1.9848500000000002,
          2.3767,
          2.74156,
          3.08212,
          3.40111,
          3.70123,
          3.9852,
          4.25572,
          4.5155,
          4.76723,
          5.01362,
          5.25733,
          5.50105,
          5.74744,
          5.99917,
          6.258910000000001,
          6.521159999999999,
          6.82615,
          7.117899999999999,
          7.394289999999999,
          7.659690000000001,
          7.918450000000001,
          8.17492,
          8.43341,
          8.69824,
          8.9737,
          9.26407,
          9.57364,
          9.90666,
          10.2674,
          10.6603,
          11.0895,
          11.5594,
          12.0606,
          12.5962,
          13.129299999999999,
          13.6522,
          14.1651,
          14.6681,
          15.1612,
          15.6446,
          16.1182,
          16.5823,
          17.037,
          17.4823,
          17.9186,
          18.3459,
          18.7647,
          19.1753,
          19.578,
          19.9731,
          20.4527,
          21.0957,
          21.888,
          22.8148,
          23.861,
          25.0108,
          26.248699999999996,
          27.5589,
          28.9259,
          30.334,
          31.7673,
          33.2103,
          34.6473,
          36.0625,
          37.4401,
          38.7646,
          40.012,
          45.4629,
          50.6467,
          55.5565,
          60.19760000000001,
          64.5755,
          68.6956,
          72.5633,
          76.1841,
          79.5633,
          82.7065,
          85.619,
          88.3062,
          90.7737,
          93.0267,
          95.0708,
          96.9113,
          98.5394,
          99.9428
         ],
         "y": [
          2091.71,
          2021.33,
          2021.37,
          2021.63,
          2021.9099999999999,
          2022.1999999999998,
          2022.5,
          2022.81,
          2023.13,
          2023.44,
          2023.75,
          2024.0499999999997,
          2024.33,
          2024.6099999999997,
          2024.8599999999997,
          2025.0899999999997,
          2025.29,
          2025.46,
          2025.46,
          2025.5699999999997,
          2033.3899999999999,
          2040.7599999999998,
          2047.56,
          2053.82,
          2059.58,
          2064.87,
          2069.71,
          2074.16,
          2078.22,
          2081.94,
          2085.35,
          2088.47,
          2091.34,
          2094,
          2096.46,
          2098.77,
          2100.89,
          2108.95,
          2116.68,
          2123.96,
          2130.83,
          2137.33,
          2143.5,
          2149.38,
          2155.01,
          2160.43,
          2165.68,
          2170.79,
          2175.82,
          2180.8,
          2185.77,
          2190.77,
          2195.85,
          2200.9,
          2229.53,
          2257.75,
          2285.03,
          2311.26,
          2336.3,
          2360.05,
          2382.37,
          2403.15,
          2422.26,
          2439.6,
          2455.02,
          2468.43,
          2479.68,
          2488.67,
          2495.27,
          2499.34,
          2500.75,
          2499.3,
          2494.93,
          2487.69,
          2477.62,
          2464.73,
          2449.05,
          2430.61,
          2409.44,
          2385.55,
          2358.98,
          2329.75,
          2297.88,
          2263.41,
          2226.36,
          2186.74,
          2144.6,
          2100.25,
          2062.41,
          2023.2199999999998,
          1982.9499999999998,
          1941.75,
          1899.81,
          1857.29,
          1814.37,
          1771.21,
          1728,
          1684.9,
          1642.0699999999997,
          1599.71,
          1557.9699999999998,
          1517.02,
          1477.0499999999997,
          1438.21,
          1401.02,
          1413.29
         ]
        },
        {
         "hovertemplate": "label=DyB12<br>x=%{x}<br>t=%{y}<extra></extra>",
         "legendgroup": "DyB12",
         "line": {
          "color": "rgb(246, 207, 113)",
          "dash": "solid",
          "width": 4
         },
         "marker": {
          "symbol": "circle"
         },
         "mode": "lines",
         "name": "DyB12",
         "orientation": "v",
         "showlegend": false,
         "type": "scatter",
         "x": [
          8,
          8,
          8,
          8,
          8
         ],
         "xaxis": "x",
         "y": [
          2078.2412873544013,
          2134.7825029247792,
          2091.5346658039116,
          2124.413861436107,
          -273.15
         ],
         "yaxis": "y"
        },
        {
         "hovertemplate": "label=DyB4<br>x=%{x}<br>t=%{y}<extra></extra>",
         "legendgroup": "DyB4",
         "line": {
          "color": "rgb(248, 156, 116)",
          "dash": "solid",
          "width": 4
         },
         "marker": {
          "symbol": "circle"
         },
         "mode": "lines",
         "name": "DyB4",
         "orientation": "v",
         "showlegend": false,
         "type": "scatter",
         "x": [
          20,
          20,
          20,
          20,
          20,
          20,
          20,
          20,
          20,
          20,
          20,
          20,
          20,
          20,
          20,
          20,
          20,
          20,
          20,
          20,
          20,
          20,
          20,
          20,
          20,
          20,
          20,
          20,
          20,
          20,
          20,
          20,
          20,
          20,
          20,
          20,
          20,
          20,
          20,
          20,
          20,
          20,
          20,
          20,
          20,
          20,
          20
         ],
         "xaxis": "x",
         "y": [
          2081.8218607374697,
          2087.277014628407,
          2350.13987146153,
          2291.9840576583765,
          2230.847061978266,
          2134.7825029247792,
          2451.331661400177,
          2486.1204267432963,
          2492.880694268097,
          2499.489999999999,
          2497.3137700314,
          2499.49,
          2497.4038977828777,
          2311.815481237382,
          2331.2318835564156,
          2251.420958028746,
          2271.8252756754564,
          2107.380642128538,
          2127.6925621647338,
          2168.780907117169,
          2148.17383104372,
          2189.4653818987117,
          2210.173726683379,
          2476.9732810975033,
          2465.390130613777,
          2415.6697383635824,
          2434.766762845896,
          2433.4190057786736,
          2418.6338658001127,
          2402.798547022413,
          2447.034576911088,
          2459.359425774023,
          2245.250401889108,
          2206.0295176650698,
          2162.2027198457877,
          2342.89733124463,
          2368.440527405829,
          2386.029722542059,
          2479.6501179291886,
          2470.27171521611,
          2313.302501589716,
          2280.8425193552675,
          2394.015839066497,
          2369.774289508712,
          2487.375105275642,
          2493.330305512124,
          -273.15
         ],
         "yaxis": "y"
        },
        {
         "hovertemplate": "label=DyB2<br>x=%{x}<br>t=%{y}<extra></extra>",
         "legendgroup": "DyB2",
         "line": {
          "color": "rgb(220, 176, 242)",
          "dash": "solid",
          "width": 4
         },
         "marker": {
          "symbol": "circle"
         },
         "mode": "lines",
         "name": "DyB2",
         "orientation": "v",
         "showlegend": false,
         "type": "scatter",
         "x": [
          33,
          33,
          33,
          33,
          33,
          33,
          33,
          33,
          33,
          33,
          33,
          33,
          33,
          33,
          33,
          33,
          33,
          33,
          33,
          33,
          33,
          33,
          33,
          33,
          33,
          33,
          33,
          33,
          33,
          33,
          33,
          33,
          33,
          33,
          33,
          33,
          33,
          33,
          33,
          33,
          33,
          33,
          33,
          33,
          33,
          33,
          33,
          33,
          33,
          33,
          33,
          33,
          33,
          33,
          33
         ],
         "xaxis": "x",
         "y": [
          2081.8218607374697,
          1386.5420902230503,
          1395.2468341443941,
          1471.8939775331423,
          1519.9655261104504,
          1553.7373793260153,
          1578.9837223030645,
          1717.8704713185061,
          1639.204930647079,
          2000.0722784174036,
          2073.5358985240346,
          2037.5733791051675,
          1912.7189818907805,
          1900.705726019958,
          1877.2524152117567,
          1888.8777841032747,
          1843.7338865567544,
          1865.8448160501885,
          1854.6682038134209,
          1740.8186812217245,
          1765.7327841583206,
          1812.4701760243656,
          1802.5814612441218,
          1792.9641636656315,
          1681.6945617846786,
          1924.8981375005164,
          1937.2215233034308,
          1962.2023981354723,
          1949.6651093732153,
          1974.8043176906922,
          1987.4391187451874,
          2049.796598971883,
          2061.8015444328275,
          2012.6664144620418,
          2025.1812137465367,
          1822.628136342701,
          1833.0513183654466,
          1725.3364232407744,
          1732.9771630974838,
          1748.8816157711794,
          1757.1821636287477,
          1774.5427423582337,
          1783.618526110637,
          1666.4352662592783,
          1674.2257855009761,
          1688.9702479509656,
          1696.153731801338,
          1710.5467836296298,
          1703.324764852151,
          1598.6878002380317,
          1649.175841904516,
          1658.1573015082672,
          1627.8589738169053,
          1614.6056942321434,
          -273.15
         ],
         "yaxis": "y"
        },
        {
         "hovertemplate": "x=%{x}<br>y=%{y}<extra></extra>",
         "legendgroup": "",
         "line": {
          "color": "Silver",
          "dash": "solid",
          "width": 4
         },
         "marker": {
          "symbol": "circle"
         },
         "mode": "lines",
         "name": "",
         "orientation": "v",
         "showlegend": false,
         "type": "scatter",
         "x": [
          0,
          1,
          8
         ],
         "xaxis": "x",
         "y": [
          2078.2412873544013,
          2078.2412873544013,
          2078.2412873544013
         ],
         "yaxis": "y"
        },
        {
         "hovertemplate": "x=%{x}<br>y=%{y}<extra></extra>",
         "legendgroup": "",
         "line": {
          "color": "Silver",
          "dash": "solid",
          "width": 4
         },
         "marker": {
          "symbol": "circle"
         },
         "mode": "lines",
         "name": "",
         "orientation": "v",
         "showlegend": false,
         "type": "scatter",
         "x": [
          33,
          99,
          100
         ],
         "xaxis": "x",
         "y": [
          1386.5420902230503,
          1386.5420902230503,
          1386.5420902230503
         ],
         "yaxis": "y"
        },
        {
         "hovertemplate": "x=%{x}<br>y=%{y}<extra></extra>",
         "legendgroup": "",
         "line": {
          "color": "Silver",
          "dash": "solid",
          "width": 4
         },
         "marker": {
          "symbol": "circle"
         },
         "mode": "lines",
         "name": "",
         "orientation": "v",
         "showlegend": false,
         "type": "scatter",
         "x": [
          20,
          33,
          47
         ],
         "xaxis": "x",
         "y": [
          2081.8218607374697,
          2081.8218607374697,
          2081.8218607374697
         ],
         "yaxis": "y"
        },
        {
         "hovertemplate": "x=%{x}<br>y=%{y}<extra></extra>",
         "legendgroup": "",
         "line": {
          "color": "Silver",
          "dash": "solid",
          "width": 4
         },
         "marker": {
          "symbol": "circle"
         },
         "mode": "lines",
         "name": "",
         "orientation": "v",
         "showlegend": false,
         "type": "scatter",
         "x": [
          3,
          8,
          20
         ],
         "xaxis": "x",
         "y": [
          2134.7825029247792,
          2134.7825029247792,
          2134.7825029247792
         ],
         "yaxis": "y"
        },
        {
         "hovertemplate": "label=L<br>x=%{x}<br>t=%{y}<extra></extra>",
         "legendgroup": "L",
         "line": {
          "color": "cornflowerblue",
          "dash": "solid",
          "width": 4
         },
         "marker": {
          "symbol": "circle"
         },
         "mode": "lines",
         "name": "L",
         "orientation": "v",
         "showlegend": false,
         "type": "scatter",
         "x": [
          0,
          0,
          1,
          2,
          3,
          4,
          5,
          6,
          7.000000000000001,
          8,
          9,
          10,
          11,
          12,
          13,
          14.000000000000002,
          15,
          16,
          17,
          18,
          19,
          20,
          21,
          22,
          23,
          24,
          25,
          26,
          27,
          28.000000000000004,
          28.999999999999996,
          30,
          31,
          32,
          33,
          34,
          35,
          36,
          37,
          38,
          39,
          40,
          41,
          42,
          43,
          44,
          45,
          46,
          47,
          48,
          49,
          50,
          51,
          52,
          53,
          54,
          55.00000000000001,
          56.00000000000001,
          57.00000000000001,
          57.99999999999999,
          59,
          60,
          61,
          62,
          63,
          64,
          65,
          66,
          67,
          68,
          69,
          70,
          71,
          72,
          73,
          74,
          75,
          76,
          77,
          78,
          79,
          80,
          81,
          82,
          83,
          84,
          85,
          86,
          87,
          88,
          89,
          90,
          91,
          92,
          93,
          94,
          95,
          96,
          97,
          98,
          99,
          100,
          100
         ],
         "xaxis": "x",
         "y": [
          2091.71,
          2091.71,
          2078.2412873544013,
          2091.5346658039116,
          2124.413861436107,
          2162.2027198457877,
          2206.0295176650698,
          2245.250401889108,
          2280.8425193552675,
          2313.302501589716,
          2342.89733124463,
          2369.774289508712,
          2394.015839066497,
          2415.6697383635824,
          2434.766762845896,
          2451.331661400177,
          2465.390130613777,
          2476.9732810975033,
          2486.1204267432963,
          2492.880694268097,
          2497.3137700314,
          2499.489999999999,
          2497.4038977828777,
          2493.330305512124,
          2487.375105275642,
          2479.6501179291886,
          2470.27171521611,
          2459.359425774023,
          2447.034576911088,
          2433.4190057786736,
          2418.6338658001127,
          2402.798547022413,
          2386.029722542059,
          2368.440527405829,
          2350.13987146153,
          2331.2318835564156,
          2311.815481237382,
          2291.9840576583765,
          2271.8252756754564,
          2251.420958028746,
          2230.847061978266,
          2210.173726683379,
          2189.4653818987117,
          2168.780907117169,
          2148.17383104372,
          2127.6925621647338,
          2107.380642128538,
          2087.277014628407,
          2073.5358985240346,
          2061.8015444328275,
          2049.796598971883,
          2037.5733791051675,
          2025.1812137465367,
          2012.6664144620418,
          2000.0722784174036,
          1987.4391187451874,
          1974.8043176906922,
          1962.2023981354723,
          1949.6651093732153,
          1937.2215233034308,
          1924.8981375005164,
          1912.7189818907805,
          1900.705726019958,
          1888.8777841032747,
          1877.2524152117567,
          1865.8448160501885,
          1854.6682038134209,
          1843.7338865567544,
          1833.0513183654466,
          1822.628136342701,
          1812.4701760243656,
          1802.5814612441218,
          1792.9641636656315,
          1783.618526110637,
          1774.5427423582337,
          1765.7327841583206,
          1757.1821636287477,
          1748.8816157711794,
          1740.8186812217245,
          1732.9771630974838,
          1725.3364232407744,
          1717.8704713185061,
          1710.5467836296298,
          1703.324764852151,
          1696.153731801338,
          1688.9702479509656,
          1681.6945617846786,
          1674.2257855009761,
          1666.4352662592783,
          1658.1573015082672,
          1649.175841904516,
          1639.204930647079,
          1627.8589738169053,
          1614.6056942321434,
          1598.6878002380317,
          1578.9837223030645,
          1553.7373793260153,
          1519.9655261104504,
          1471.8939775331423,
          1395.2468341443941,
          1386.5420902230503,
          1413.29,
          1413.29
         ],
         "yaxis": "y"
        },
        {
         "line": {
          "color": "#B82E2E",
          "dash": "dash"
         },
         "mode": "lines",
         "name": "Digitized Liquidus",
         "showlegend": true,
         "type": "scatter",
         "x": [
          null
         ],
         "y": [
          null
         ]
        },
        {
         "marker": {
          "color": "cornflowerblue"
         },
         "mode": "lines",
         "name": "Fitted Liquidus",
         "showlegend": true,
         "type": "scatter",
         "x": [
          null
         ],
         "y": [
          null
         ]
        }
       ],
       "layout": {
        "annotations": [
         {
          "borderpad": 5,
          "font": {
           "color": "black",
           "size": 18
          },
          "showarrow": false,
          "text": "DyB12",
          "textangle": -90,
          "x": 5.5,
          "y": 500,
          "yanchor": "bottom"
         },
         {
          "borderpad": 5,
          "font": {
           "color": "black",
           "size": 18
          },
          "showarrow": false,
          "text": "DyB4",
          "textangle": -90,
          "x": 17.5,
          "y": 500,
          "yanchor": "bottom"
         },
         {
          "borderpad": 5,
          "font": {
           "color": "black",
           "size": 18
          },
          "showarrow": false,
          "text": "DyB2",
          "textangle": -90,
          "x": 30.5,
          "y": 500,
          "yanchor": "bottom"
         },
         {
          "font": {
           "color": "black",
           "size": 18
          },
          "showarrow": false,
          "text": "L",
          "x": 50,
          "y": 3050
         }
        ],
        "font": {
         "size": 22
        },
        "height": 700,
        "legend": {
         "font": {
          "size": 18
         },
         "x": 0.99,
         "xanchor": "right",
         "y": 0.99,
         "yanchor": "top"
        },
        "plot_bgcolor": "white",
        "showlegend": true,
        "template": {
         "data": {
          "bar": [
           {
            "error_x": {
             "color": "#2a3f5f"
            },
            "error_y": {
             "color": "#2a3f5f"
            },
            "marker": {
             "line": {
              "color": "#E5ECF6",
              "width": 0.5
             },
             "pattern": {
              "fillmode": "overlay",
              "size": 10,
              "solidity": 0.2
             }
            },
            "type": "bar"
           }
          ],
          "barpolar": [
           {
            "marker": {
             "line": {
              "color": "#E5ECF6",
              "width": 0.5
             },
             "pattern": {
              "fillmode": "overlay",
              "size": 10,
              "solidity": 0.2
             }
            },
            "type": "barpolar"
           }
          ],
          "carpet": [
           {
            "aaxis": {
             "endlinecolor": "#2a3f5f",
             "gridcolor": "white",
             "linecolor": "white",
             "minorgridcolor": "white",
             "startlinecolor": "#2a3f5f"
            },
            "baxis": {
             "endlinecolor": "#2a3f5f",
             "gridcolor": "white",
             "linecolor": "white",
             "minorgridcolor": "white",
             "startlinecolor": "#2a3f5f"
            },
            "type": "carpet"
           }
          ],
          "choropleth": [
           {
            "colorbar": {
             "outlinewidth": 0,
             "ticks": ""
            },
            "type": "choropleth"
           }
          ],
          "contour": [
           {
            "colorbar": {
             "outlinewidth": 0,
             "ticks": ""
            },
            "colorscale": [
             [
              0,
              "#0d0887"
             ],
             [
              0.1111111111111111,
              "#46039f"
             ],
             [
              0.2222222222222222,
              "#7201a8"
             ],
             [
              0.3333333333333333,
              "#9c179e"
             ],
             [
              0.4444444444444444,
              "#bd3786"
             ],
             [
              0.5555555555555556,
              "#d8576b"
             ],
             [
              0.6666666666666666,
              "#ed7953"
             ],
             [
              0.7777777777777778,
              "#fb9f3a"
             ],
             [
              0.8888888888888888,
              "#fdca26"
             ],
             [
              1,
              "#f0f921"
             ]
            ],
            "type": "contour"
           }
          ],
          "contourcarpet": [
           {
            "colorbar": {
             "outlinewidth": 0,
             "ticks": ""
            },
            "type": "contourcarpet"
           }
          ],
          "heatmap": [
           {
            "colorbar": {
             "outlinewidth": 0,
             "ticks": ""
            },
            "colorscale": [
             [
              0,
              "#0d0887"
             ],
             [
              0.1111111111111111,
              "#46039f"
             ],
             [
              0.2222222222222222,
              "#7201a8"
             ],
             [
              0.3333333333333333,
              "#9c179e"
             ],
             [
              0.4444444444444444,
              "#bd3786"
             ],
             [
              0.5555555555555556,
              "#d8576b"
             ],
             [
              0.6666666666666666,
              "#ed7953"
             ],
             [
              0.7777777777777778,
              "#fb9f3a"
             ],
             [
              0.8888888888888888,
              "#fdca26"
             ],
             [
              1,
              "#f0f921"
             ]
            ],
            "type": "heatmap"
           }
          ],
          "heatmapgl": [
           {
            "colorbar": {
             "outlinewidth": 0,
             "ticks": ""
            },
            "colorscale": [
             [
              0,
              "#0d0887"
             ],
             [
              0.1111111111111111,
              "#46039f"
             ],
             [
              0.2222222222222222,
              "#7201a8"
             ],
             [
              0.3333333333333333,
              "#9c179e"
             ],
             [
              0.4444444444444444,
              "#bd3786"
             ],
             [
              0.5555555555555556,
              "#d8576b"
             ],
             [
              0.6666666666666666,
              "#ed7953"
             ],
             [
              0.7777777777777778,
              "#fb9f3a"
             ],
             [
              0.8888888888888888,
              "#fdca26"
             ],
             [
              1,
              "#f0f921"
             ]
            ],
            "type": "heatmapgl"
           }
          ],
          "histogram": [
           {
            "marker": {
             "pattern": {
              "fillmode": "overlay",
              "size": 10,
              "solidity": 0.2
             }
            },
            "type": "histogram"
           }
          ],
          "histogram2d": [
           {
            "colorbar": {
             "outlinewidth": 0,
             "ticks": ""
            },
            "colorscale": [
             [
              0,
              "#0d0887"
             ],
             [
              0.1111111111111111,
              "#46039f"
             ],
             [
              0.2222222222222222,
              "#7201a8"
             ],
             [
              0.3333333333333333,
              "#9c179e"
             ],
             [
              0.4444444444444444,
              "#bd3786"
             ],
             [
              0.5555555555555556,
              "#d8576b"
             ],
             [
              0.6666666666666666,
              "#ed7953"
             ],
             [
              0.7777777777777778,
              "#fb9f3a"
             ],
             [
              0.8888888888888888,
              "#fdca26"
             ],
             [
              1,
              "#f0f921"
             ]
            ],
            "type": "histogram2d"
           }
          ],
          "histogram2dcontour": [
           {
            "colorbar": {
             "outlinewidth": 0,
             "ticks": ""
            },
            "colorscale": [
             [
              0,
              "#0d0887"
             ],
             [
              0.1111111111111111,
              "#46039f"
             ],
             [
              0.2222222222222222,
              "#7201a8"
             ],
             [
              0.3333333333333333,
              "#9c179e"
             ],
             [
              0.4444444444444444,
              "#bd3786"
             ],
             [
              0.5555555555555556,
              "#d8576b"
             ],
             [
              0.6666666666666666,
              "#ed7953"
             ],
             [
              0.7777777777777778,
              "#fb9f3a"
             ],
             [
              0.8888888888888888,
              "#fdca26"
             ],
             [
              1,
              "#f0f921"
             ]
            ],
            "type": "histogram2dcontour"
           }
          ],
          "mesh3d": [
           {
            "colorbar": {
             "outlinewidth": 0,
             "ticks": ""
            },
            "type": "mesh3d"
           }
          ],
          "parcoords": [
           {
            "line": {
             "colorbar": {
              "outlinewidth": 0,
              "ticks": ""
             }
            },
            "type": "parcoords"
           }
          ],
          "pie": [
           {
            "automargin": true,
            "type": "pie"
           }
          ],
          "scatter": [
           {
            "fillpattern": {
             "fillmode": "overlay",
             "size": 10,
             "solidity": 0.2
            },
            "type": "scatter"
           }
          ],
          "scatter3d": [
           {
            "line": {
             "colorbar": {
              "outlinewidth": 0,
              "ticks": ""
             }
            },
            "marker": {
             "colorbar": {
              "outlinewidth": 0,
              "ticks": ""
             }
            },
            "type": "scatter3d"
           }
          ],
          "scattercarpet": [
           {
            "marker": {
             "colorbar": {
              "outlinewidth": 0,
              "ticks": ""
             }
            },
            "type": "scattercarpet"
           }
          ],
          "scattergeo": [
           {
            "marker": {
             "colorbar": {
              "outlinewidth": 0,
              "ticks": ""
             }
            },
            "type": "scattergeo"
           }
          ],
          "scattergl": [
           {
            "marker": {
             "colorbar": {
              "outlinewidth": 0,
              "ticks": ""
             }
            },
            "type": "scattergl"
           }
          ],
          "scattermapbox": [
           {
            "marker": {
             "colorbar": {
              "outlinewidth": 0,
              "ticks": ""
             }
            },
            "type": "scattermapbox"
           }
          ],
          "scatterpolar": [
           {
            "marker": {
             "colorbar": {
              "outlinewidth": 0,
              "ticks": ""
             }
            },
            "type": "scatterpolar"
           }
          ],
          "scatterpolargl": [
           {
            "marker": {
             "colorbar": {
              "outlinewidth": 0,
              "ticks": ""
             }
            },
            "type": "scatterpolargl"
           }
          ],
          "scatterternary": [
           {
            "marker": {
             "colorbar": {
              "outlinewidth": 0,
              "ticks": ""
             }
            },
            "type": "scatterternary"
           }
          ],
          "surface": [
           {
            "colorbar": {
             "outlinewidth": 0,
             "ticks": ""
            },
            "colorscale": [
             [
              0,
              "#0d0887"
             ],
             [
              0.1111111111111111,
              "#46039f"
             ],
             [
              0.2222222222222222,
              "#7201a8"
             ],
             [
              0.3333333333333333,
              "#9c179e"
             ],
             [
              0.4444444444444444,
              "#bd3786"
             ],
             [
              0.5555555555555556,
              "#d8576b"
             ],
             [
              0.6666666666666666,
              "#ed7953"
             ],
             [
              0.7777777777777778,
              "#fb9f3a"
             ],
             [
              0.8888888888888888,
              "#fdca26"
             ],
             [
              1,
              "#f0f921"
             ]
            ],
            "type": "surface"
           }
          ],
          "table": [
           {
            "cells": {
             "fill": {
              "color": "#EBF0F8"
             },
             "line": {
              "color": "white"
             }
            },
            "header": {
             "fill": {
              "color": "#C8D4E3"
             },
             "line": {
              "color": "white"
             }
            },
            "type": "table"
           }
          ]
         },
         "layout": {
          "annotationdefaults": {
           "arrowcolor": "#2a3f5f",
           "arrowhead": 0,
           "arrowwidth": 1
          },
          "autotypenumbers": "strict",
          "coloraxis": {
           "colorbar": {
            "outlinewidth": 0,
            "ticks": ""
           }
          },
          "colorscale": {
           "diverging": [
            [
             0,
             "#8e0152"
            ],
            [
             0.1,
             "#c51b7d"
            ],
            [
             0.2,
             "#de77ae"
            ],
            [
             0.3,
             "#f1b6da"
            ],
            [
             0.4,
             "#fde0ef"
            ],
            [
             0.5,
             "#f7f7f7"
            ],
            [
             0.6,
             "#e6f5d0"
            ],
            [
             0.7,
             "#b8e186"
            ],
            [
             0.8,
             "#7fbc41"
            ],
            [
             0.9,
             "#4d9221"
            ],
            [
             1,
             "#276419"
            ]
           ],
           "sequential": [
            [
             0,
             "#0d0887"
            ],
            [
             0.1111111111111111,
             "#46039f"
            ],
            [
             0.2222222222222222,
             "#7201a8"
            ],
            [
             0.3333333333333333,
             "#9c179e"
            ],
            [
             0.4444444444444444,
             "#bd3786"
            ],
            [
             0.5555555555555556,
             "#d8576b"
            ],
            [
             0.6666666666666666,
             "#ed7953"
            ],
            [
             0.7777777777777778,
             "#fb9f3a"
            ],
            [
             0.8888888888888888,
             "#fdca26"
            ],
            [
             1,
             "#f0f921"
            ]
           ],
           "sequentialminus": [
            [
             0,
             "#0d0887"
            ],
            [
             0.1111111111111111,
             "#46039f"
            ],
            [
             0.2222222222222222,
             "#7201a8"
            ],
            [
             0.3333333333333333,
             "#9c179e"
            ],
            [
             0.4444444444444444,
             "#bd3786"
            ],
            [
             0.5555555555555556,
             "#d8576b"
            ],
            [
             0.6666666666666666,
             "#ed7953"
            ],
            [
             0.7777777777777778,
             "#fb9f3a"
            ],
            [
             0.8888888888888888,
             "#fdca26"
            ],
            [
             1,
             "#f0f921"
            ]
           ]
          },
          "colorway": [
           "#636efa",
           "#EF553B",
           "#00cc96",
           "#ab63fa",
           "#FFA15A",
           "#19d3f3",
           "#FF6692",
           "#B6E880",
           "#FF97FF",
           "#FECB52"
          ],
          "font": {
           "color": "#2a3f5f"
          },
          "geo": {
           "bgcolor": "white",
           "lakecolor": "white",
           "landcolor": "#E5ECF6",
           "showlakes": true,
           "showland": true,
           "subunitcolor": "white"
          },
          "hoverlabel": {
           "align": "left"
          },
          "hovermode": "closest",
          "mapbox": {
           "style": "light"
          },
          "paper_bgcolor": "white",
          "plot_bgcolor": "#E5ECF6",
          "polar": {
           "angularaxis": {
            "gridcolor": "white",
            "linecolor": "white",
            "ticks": ""
           },
           "bgcolor": "#E5ECF6",
           "radialaxis": {
            "gridcolor": "white",
            "linecolor": "white",
            "ticks": ""
           }
          },
          "scene": {
           "xaxis": {
            "backgroundcolor": "#E5ECF6",
            "gridcolor": "white",
            "gridwidth": 2,
            "linecolor": "white",
            "showbackground": true,
            "ticks": "",
            "zerolinecolor": "white"
           },
           "yaxis": {
            "backgroundcolor": "#E5ECF6",
            "gridcolor": "white",
            "gridwidth": 2,
            "linecolor": "white",
            "showbackground": true,
            "ticks": "",
            "zerolinecolor": "white"
           },
           "zaxis": {
            "backgroundcolor": "#E5ECF6",
            "gridcolor": "white",
            "gridwidth": 2,
            "linecolor": "white",
            "showbackground": true,
            "ticks": "",
            "zerolinecolor": "white"
           }
          },
          "shapedefaults": {
           "line": {
            "color": "#2a3f5f"
           }
          },
          "ternary": {
           "aaxis": {
            "gridcolor": "white",
            "linecolor": "white",
            "ticks": ""
           },
           "baxis": {
            "gridcolor": "white",
            "linecolor": "white",
            "ticks": ""
           },
           "bgcolor": "#E5ECF6",
           "caxis": {
            "gridcolor": "white",
            "linecolor": "white",
            "ticks": ""
           }
          },
          "title": {
           "x": 0.05
          },
          "xaxis": {
           "automargin": true,
           "gridcolor": "white",
           "linecolor": "white",
           "ticks": "",
           "title": {
            "standoff": 15
           },
           "zerolinecolor": "white",
           "zerolinewidth": 2
          },
          "yaxis": {
           "automargin": true,
           "gridcolor": "white",
           "linecolor": "white",
           "ticks": "",
           "title": {
            "standoff": 15
           },
           "zerolinecolor": "white",
           "zerolinewidth": 2
          }
         }
        },
        "title": {
         "text": "B-Dy Fitted Binary Phase Diagram"
        },
        "width": 960,
        "xaxis": {
         "linecolor": "black",
         "linewidth": 2,
         "mirror": true,
         "range": [
          0,
          100
         ],
         "showline": true,
         "tickcolor": "black",
         "tickformat": ".0f",
         "ticks": "outside",
         "title": {
          "text": "Dy (at. %)"
         }
        },
        "yaxis": {
         "linecolor": "black",
         "linewidth": 2,
         "mirror": true,
         "range": [
          500,
          3250
         ],
         "showline": true,
         "tickcolor": "black",
         "ticks": "outside",
         "ticksuffix": " ",
         "title": {
          "text": "T (°C)"
         }
        }
       }
      }
     },
     "metadata": {},
     "output_type": "display_data"
    },
    {
     "name": "stdout",
     "output_type": "stream",
     "text": [
      "No arguments specified for 't_vals', setting 't_units' to 'K'\n"
     ]
    },
    {
     "data": {
      "application/vnd.plotly.v1+json": {
       "config": {
        "plotlyServerURL": "https://plot.ly"
       },
       "data": [
        {
         "mode": "lines",
         "name": "Liquid T=2772K",
         "type": "scatter",
         "x": [
          0,
          0.01,
          0.02,
          0.03,
          0.04,
          0.05,
          0.06,
          0.07,
          0.08,
          0.09,
          0.1,
          0.11,
          0.12,
          0.13,
          0.14,
          0.15,
          0.16,
          0.17,
          0.18,
          0.19,
          0.2,
          0.21,
          0.22,
          0.23,
          0.24,
          0.25,
          0.26,
          0.27,
          0.28,
          0.29,
          0.3,
          0.31,
          0.32,
          0.33,
          0.34,
          0.35000000000000003,
          0.36,
          0.37,
          0.38,
          0.39,
          0.4,
          0.41000000000000003,
          0.42,
          0.43,
          0.44,
          0.45,
          0.46,
          0.47000000000000003,
          0.48,
          0.49,
          0.5,
          0.51,
          0.52,
          0.53,
          0.54,
          0.55,
          0.56,
          0.5700000000000001,
          0.58,
          0.59,
          0.6,
          0.61,
          0.62,
          0.63,
          0.64,
          0.65,
          0.66,
          0.67,
          0.68,
          0.6900000000000001,
          0.7000000000000001,
          0.71,
          0.72,
          0.73,
          0.74,
          0.75,
          0.76,
          0.77,
          0.78,
          0.79,
          0.8,
          0.81,
          0.8200000000000001,
          0.8300000000000001,
          0.84,
          0.85,
          0.86,
          0.87,
          0.88,
          0.89,
          0.9,
          0.91,
          0.92,
          0.93,
          0.9400000000000001,
          0.9500000000000001,
          0.96,
          0.97,
          0.98,
          0.99,
          1
         ],
         "y": [
          -0.08971486375883182,
          -0.13136881964921146,
          -0.16866610039742694,
          -0.20368206306937223,
          -0.23686840144841984,
          -0.2684466725541757,
          -0.2985528721742099,
          -0.3272813995904635,
          -0.35470321493973095,
          -0.3808747453640306,
          -0.4058427769250933,
          -0.4296473682603302,
          -0.4523236953758073,
          -0.47390327702205154,
          -0.4944148206976637,
          -0.5138848256346505,
          -0.5323380242108116,
          -0.5497977125154917,
          -0.5662860028011737,
          -0.5818240195939954,
          -0.5964320543333326,
          -0.6101296889336324,
          -0.6229358956825631,
          -0.6348691188614546,
          -0.6459473420649984,
          -0.6561881442002343,
          -0.6656087464277111,
          -0.6742260517840647,
          -0.6820566788376219,
          -0.6891169904380484,
          -0.6954231184007212,
          -0.7009909847975896,
          -0.7058363203955487,
          -0.7099746806811803,
          -0.7134214598301956,
          -0.7161919029159252,
          -0.7183011165999569,
          -0.7197640785066695,
          -0.720595645449814,
          -0.7208105606517847,
          -0.7204234600735663,
          -0.7194488779545294,
          -0.7179012516455301,
          -0.7157949258055192,
          -0.7131441560206411,
          -0.7099631118951616,
          -0.7062658796552468,
          -0.7020664642993371,
          -0.6973787913224149,
          -0.6922167080356865,
          -0.6865939844979164,
          -0.6805243140697631,
          -0.6740213135978175,
          -0.6670985232305632,
          -0.6597694058640436,
          -0.652047346210525,
          -0.6439456494788156,
          -0.635477539649999,
          -0.626656157327058,
          -0.6174945571310972,
          -0.6080057046104145,
          -0.5982024726214031,
          -0.5880976371319413,
          -0.5777038723882931,
          -0.5670337453753135,
          -0.5560997094865006,
          -0.5449140973047243,
          -0.5334891123756458,
          -0.5218368198331834,
          -0.5099691357088749,
          -0.49789781472338773,
          -0.4856344363170756,
          -0.4731903886252381,
          -0.46057685003974724,
          -0.4478047679181861,
          -0.43488483389947735,
          -0.4218274551542336,
          -0.4086427207291551,
          -0.3953403619244512,
          -0.3819297053526791,
          -0.36841961693975833,
          -0.3548184346052692,
          -0.34113388664201355,
          -0.32737299181786483,
          -0.3135419358139339,
          -0.29964591658498707,
          -0.28568894824892827,
          -0.2716736086352072,
          -0.25760070871906593,
          -0.24346885120915257,
          -0.22927382756218936,
          -0.2150077719793591,
          -0.20065793603049978,
          -0.18620484386112926,
          -0.17161937853647838,
          -0.1568578901270017,
          -0.14185328955800705,
          -0.12649689124917324,
          -0.11059444838814325,
          -0.09372157739879372,
          -0.07383023142247952
         ]
        },
        {
         "mode": "lines",
         "name": "Liquid T=0K",
         "type": "scatter",
         "x": [
          0,
          0.01,
          0.02,
          0.03,
          0.04,
          0.05,
          0.06,
          0.07,
          0.08,
          0.09,
          0.1,
          0.11,
          0.12,
          0.13,
          0.14,
          0.15,
          0.16,
          0.17,
          0.18,
          0.19,
          0.2,
          0.21,
          0.22,
          0.23,
          0.24,
          0.25,
          0.26,
          0.27,
          0.28,
          0.29,
          0.3,
          0.31,
          0.32,
          0.33,
          0.34,
          0.35000000000000003,
          0.36,
          0.37,
          0.38,
          0.39,
          0.4,
          0.41000000000000003,
          0.42,
          0.43,
          0.44,
          0.45,
          0.46,
          0.47000000000000003,
          0.48,
          0.49,
          0.5,
          0.51,
          0.52,
          0.53,
          0.54,
          0.55,
          0.56,
          0.5700000000000001,
          0.58,
          0.59,
          0.6,
          0.61,
          0.62,
          0.63,
          0.64,
          0.65,
          0.66,
          0.67,
          0.68,
          0.6900000000000001,
          0.7000000000000001,
          0.71,
          0.72,
          0.73,
          0.74,
          0.75,
          0.76,
          0.77,
          0.78,
          0.79,
          0.8,
          0.81,
          0.8200000000000001,
          0.8300000000000001,
          0.84,
          0.85,
          0.86,
          0.87,
          0.88,
          0.89,
          0.9,
          0.91,
          0.92,
          0.93,
          0.9400000000000001,
          0.9500000000000001,
          0.96,
          0.97,
          0.98,
          0.99,
          1
         ],
         "y": [
          0.5202881276882417,
          0.5275423096743078,
          0.5343436341091392,
          0.5406989690679943,
          0.5466151826261317,
          0.5520991428588097,
          0.5571577178412869,
          0.5617977756488217,
          0.5660261843566726,
          0.5698498120400981,
          0.5732755267743566,
          0.5763101966347064,
          0.5789606896964062,
          0.5812338740347145,
          0.5831366177248897,
          0.5846757888421901,
          0.5858582554618743,
          0.5866908856592007,
          0.587180547509428,
          0.5873341090878144,
          0.5871584384696185,
          0.5866604037300986,
          0.5858468729445133,
          0.5847247141881211,
          0.5833007955361804,
          0.5815819850639496,
          0.5795751508466873,
          0.5772871609596519,
          0.5747248834781019,
          0.5718951864772958,
          0.5688049380324918,
          0.5654610062189486,
          0.5618702591119247,
          0.5580395647866785,
          0.5539757913184683,
          0.5496858067825529,
          0.5451764792541904,
          0.5404546768086397,
          0.5355272675211588,
          0.5304011194670063,
          0.5250831007214409,
          0.519580079359721,
          0.5138989234571049,
          0.508046501088851,
          0.5020296803302179,
          0.49585532925646403,
          0.489530315942848,
          0.48306150846462814,
          0.476455774897063,
          0.46971998331541087,
          0.46286100179493034,
          0.45588569841087984,
          0.4488009412385179,
          0.4416135983531029,
          0.4343305378298933,
          0.42695862774414767,
          0.4195047361711243,
          0.4119757311860819,
          0.4043784808642788,
          0.39671985328097337,
          0.3890067165114242,
          0.3812459386308898,
          0.37344438771462835,
          0.36560893183789867,
          0.35774643907595904,
          0.3498637775040679,
          0.3419678151974838,
          0.3340654202314652,
          0.32616346068127056,
          0.3182688046221583,
          0.3103883201293869,
          0.3025288752782149,
          0.2946973381439007,
          0.28690057680170267,
          0.2791454593268794,
          0.27143885379468924,
          0.2637876282803908,
          0.25619865085924254,
          0.2486787896065028,
          0.2412349125974301,
          0.23387388790728295,
          0.2266025836113197,
          0.21942786778479895,
          0.21235660850297908,
          0.2053956738411187,
          0.19855193187447603,
          0.19183225067830967,
          0.1852434983278781,
          0.17879254289843977,
          0.1724862524652531,
          0.16633149510357656,
          0.16033513888866865,
          0.1545040518957878,
          0.14884510220019256,
          0.14336515787714132,
          0.13807108700189258,
          0.1329697576497047,
          0.12806803789583637,
          0.12337279581554582,
          0.11889089948409154,
          0.11462921697673213
         ]
        },
        {
         "hoverinfo": "none",
         "line": {
          "color": "black",
          "width": 4
         },
         "mode": "lines",
         "showlegend": false,
         "type": "scatter",
         "x": [
          0.3333333333333333,
          0.2,
          null,
          0.2,
          0.07692307692307693,
          null,
          0.07692307692307693,
          0,
          null,
          0.3333333333333333,
          1,
          null
         ],
         "y": [
          -0.5613357794444447,
          -0.5964320543333329,
          null,
          -0.5964320543333329,
          -0.25008072923076863,
          null,
          -0.25008072923076863,
          0,
          null,
          -0.5613357794444447,
          0,
          null
         ]
        },
        {
         "hoverinfo": "skip",
         "mode": "text",
         "name": "Labels (stable)",
         "opacity": 1,
         "showlegend": true,
         "text": [
          "DyB<sub>2</sub>",
          "DyB<sub>4</sub>",
          "DyB<sub>12</sub>"
         ],
         "textposition": [
          "bottom right",
          "bottom right",
          "bottom left"
         ],
         "type": "scatter",
         "visible": true,
         "x": [
          0.3413333333333333,
          0.20800000000000002,
          0.06892307692307692
         ],
         "y": [
          -0.5743357794444447,
          -0.6094320543333329,
          -0.26308072923076864
         ]
        },
        {
         "error_y": {
          "array": [
           0,
           0,
           0,
           0,
           0
          ],
          "color": "gray",
          "thickness": 2.5,
          "type": "data",
          "width": 5
         },
         "hoverinfo": "text",
         "hoverlabel": {
          "font": {
           "size": 14
          }
         },
         "hovertext": [
          "DyB<sub>2</sub> (mp-2057-GGA) <br> -0.561 eV/atom (Stable)",
          "DyB<sub>4</sub> (mp-2719-GGA) <br> -0.596 eV/atom (Stable)",
          "DyB<sub>12</sub> (mp-1103476-GGA) <br> -0.25 eV/atom (Stable)",
          "B (mp-160-GGA) <br> 0.0 eV/atom (Stable)",
          "Dy (mp-10658-GGA) <br> 0.0 eV/atom (Stable)"
         ],
         "marker": {
          "color": "darkgreen",
          "line": {
           "color": "black",
           "width": 2
          },
          "size": 16
         },
         "mode": "markers",
         "name": "Stable",
         "opacity": 0.99,
         "showlegend": true,
         "type": "scatter",
         "x": [
          0.3333333333333333,
          0.2,
          0.07692307692307693,
          0,
          1
         ],
         "y": [
          -0.5613357794444447,
          -0.5964320543333329,
          -0.25008072923076863,
          0,
          0
         ]
        },
        {
         "hoverinfo": "text",
         "hoverlabel": {
          "font": {
           "size": 14
          }
         },
         "hovertext": [
          "B (mp-22046-GGA) <br> 0.098 eV/atom (+0.098 eV/atom)",
          "B (mp-570316-GGA) <br> 0.155 eV/atom (+0.155 eV/atom)",
          "B (mp-161-GGA) <br> 0.027 eV/atom (+0.027 eV/atom)",
          "B (mp-1228790-GGA) <br> 0.191 eV/atom (+0.191 eV/atom)",
          "B (mp-1193675-GGA) <br> 0.027 eV/atom (+0.027 eV/atom)",
          "Dy (mp-1184067-GGA) <br> 0.004 eV/atom (+0.004 eV/atom)",
          "Dy (mp-88-GGA) <br> 0.017 eV/atom (+0.017 eV/atom)",
          "Dy (mp-10750-GGA) <br> 0.021 eV/atom (+0.021 eV/atom)",
          "Dy (mp-10751-GGA) <br> 0.147 eV/atom (+0.147 eV/atom)",
          "DyB<sub>6</sub> (mp-568319-GGA) <br> -0.4 eV/atom (+0.036 eV/atom)"
         ],
         "marker": {
          "color": [
           0.098,
           0.155,
           0.027,
           0.191,
           0.027,
           0.004,
           0.017,
           0.021,
           0.147,
           0.036
          ],
          "colorscale": [
           [
            0,
            "#fff5e3"
           ],
           [
            0.5,
            "#f24324"
           ],
           [
            1,
            "#c40000"
           ]
          ],
          "line": {
           "color": "black",
           "width": 1
          },
          "opacity": 0.8,
          "size": 7,
          "symbol": "diamond"
         },
         "mode": "markers",
         "name": "Above Hull",
         "showlegend": true,
         "type": "scatter",
         "x": [
          0,
          0,
          0,
          0,
          0,
          1,
          1,
          1,
          1,
          0.14285714285714285
         ],
         "y": [
          0.09835179263333316,
          0.1552666991666669,
          0.02697622816666743,
          0.19068457950000137,
          0.02743610940476263,
          0.004164762499999419,
          0.017375770000000124,
          0.02132332999999953,
          0.1468159499999997,
          -0.40010284071428565
         ]
        }
       ],
       "layout": {
        "annotations": [
         {
          "align": "center",
          "font": {
           "color": "#000000",
           "size": 24
          },
          "opacity": 1,
          "showarrow": false,
          "text": "B",
          "x": -0.03,
          "xref": "x",
          "y": -0.03,
          "yref": "y"
         },
         {
          "align": "center",
          "font": {
           "color": "#000000",
           "size": 24
          },
          "opacity": 1,
          "showarrow": false,
          "text": "Dy",
          "x": 1.03,
          "xref": "x",
          "y": -0.03,
          "yref": "y"
         }
        ],
        "autosize": true,
        "coloraxis": {
         "colorbar": {
          "x": 1,
          "y": 0.05,
          "yanchor": "top"
         }
        },
        "hovermode": "closest",
        "legend": {
         "orientation": "h",
         "tracegroupgap": 7,
         "traceorder": "reversed",
         "x": 0,
         "xanchor": "left",
         "y": 1.05
        },
        "margin": {
         "b": 10,
         "l": 10,
         "pad": 0,
         "r": 10,
         "t": 0
        },
        "paper_bgcolor": "white",
        "plot_bgcolor": "white",
        "showlegend": true,
        "template": {
         "data": {
          "bar": [
           {
            "error_x": {
             "color": "#2a3f5f"
            },
            "error_y": {
             "color": "#2a3f5f"
            },
            "marker": {
             "line": {
              "color": "#E5ECF6",
              "width": 0.5
             },
             "pattern": {
              "fillmode": "overlay",
              "size": 10,
              "solidity": 0.2
             }
            },
            "type": "bar"
           }
          ],
          "barpolar": [
           {
            "marker": {
             "line": {
              "color": "#E5ECF6",
              "width": 0.5
             },
             "pattern": {
              "fillmode": "overlay",
              "size": 10,
              "solidity": 0.2
             }
            },
            "type": "barpolar"
           }
          ],
          "carpet": [
           {
            "aaxis": {
             "endlinecolor": "#2a3f5f",
             "gridcolor": "white",
             "linecolor": "white",
             "minorgridcolor": "white",
             "startlinecolor": "#2a3f5f"
            },
            "baxis": {
             "endlinecolor": "#2a3f5f",
             "gridcolor": "white",
             "linecolor": "white",
             "minorgridcolor": "white",
             "startlinecolor": "#2a3f5f"
            },
            "type": "carpet"
           }
          ],
          "choropleth": [
           {
            "colorbar": {
             "outlinewidth": 0,
             "ticks": ""
            },
            "type": "choropleth"
           }
          ],
          "contour": [
           {
            "colorbar": {
             "outlinewidth": 0,
             "ticks": ""
            },
            "colorscale": [
             [
              0,
              "#0d0887"
             ],
             [
              0.1111111111111111,
              "#46039f"
             ],
             [
              0.2222222222222222,
              "#7201a8"
             ],
             [
              0.3333333333333333,
              "#9c179e"
             ],
             [
              0.4444444444444444,
              "#bd3786"
             ],
             [
              0.5555555555555556,
              "#d8576b"
             ],
             [
              0.6666666666666666,
              "#ed7953"
             ],
             [
              0.7777777777777778,
              "#fb9f3a"
             ],
             [
              0.8888888888888888,
              "#fdca26"
             ],
             [
              1,
              "#f0f921"
             ]
            ],
            "type": "contour"
           }
          ],
          "contourcarpet": [
           {
            "colorbar": {
             "outlinewidth": 0,
             "ticks": ""
            },
            "type": "contourcarpet"
           }
          ],
          "heatmap": [
           {
            "colorbar": {
             "outlinewidth": 0,
             "ticks": ""
            },
            "colorscale": [
             [
              0,
              "#0d0887"
             ],
             [
              0.1111111111111111,
              "#46039f"
             ],
             [
              0.2222222222222222,
              "#7201a8"
             ],
             [
              0.3333333333333333,
              "#9c179e"
             ],
             [
              0.4444444444444444,
              "#bd3786"
             ],
             [
              0.5555555555555556,
              "#d8576b"
             ],
             [
              0.6666666666666666,
              "#ed7953"
             ],
             [
              0.7777777777777778,
              "#fb9f3a"
             ],
             [
              0.8888888888888888,
              "#fdca26"
             ],
             [
              1,
              "#f0f921"
             ]
            ],
            "type": "heatmap"
           }
          ],
          "heatmapgl": [
           {
            "colorbar": {
             "outlinewidth": 0,
             "ticks": ""
            },
            "colorscale": [
             [
              0,
              "#0d0887"
             ],
             [
              0.1111111111111111,
              "#46039f"
             ],
             [
              0.2222222222222222,
              "#7201a8"
             ],
             [
              0.3333333333333333,
              "#9c179e"
             ],
             [
              0.4444444444444444,
              "#bd3786"
             ],
             [
              0.5555555555555556,
              "#d8576b"
             ],
             [
              0.6666666666666666,
              "#ed7953"
             ],
             [
              0.7777777777777778,
              "#fb9f3a"
             ],
             [
              0.8888888888888888,
              "#fdca26"
             ],
             [
              1,
              "#f0f921"
             ]
            ],
            "type": "heatmapgl"
           }
          ],
          "histogram": [
           {
            "marker": {
             "pattern": {
              "fillmode": "overlay",
              "size": 10,
              "solidity": 0.2
             }
            },
            "type": "histogram"
           }
          ],
          "histogram2d": [
           {
            "colorbar": {
             "outlinewidth": 0,
             "ticks": ""
            },
            "colorscale": [
             [
              0,
              "#0d0887"
             ],
             [
              0.1111111111111111,
              "#46039f"
             ],
             [
              0.2222222222222222,
              "#7201a8"
             ],
             [
              0.3333333333333333,
              "#9c179e"
             ],
             [
              0.4444444444444444,
              "#bd3786"
             ],
             [
              0.5555555555555556,
              "#d8576b"
             ],
             [
              0.6666666666666666,
              "#ed7953"
             ],
             [
              0.7777777777777778,
              "#fb9f3a"
             ],
             [
              0.8888888888888888,
              "#fdca26"
             ],
             [
              1,
              "#f0f921"
             ]
            ],
            "type": "histogram2d"
           }
          ],
          "histogram2dcontour": [
           {
            "colorbar": {
             "outlinewidth": 0,
             "ticks": ""
            },
            "colorscale": [
             [
              0,
              "#0d0887"
             ],
             [
              0.1111111111111111,
              "#46039f"
             ],
             [
              0.2222222222222222,
              "#7201a8"
             ],
             [
              0.3333333333333333,
              "#9c179e"
             ],
             [
              0.4444444444444444,
              "#bd3786"
             ],
             [
              0.5555555555555556,
              "#d8576b"
             ],
             [
              0.6666666666666666,
              "#ed7953"
             ],
             [
              0.7777777777777778,
              "#fb9f3a"
             ],
             [
              0.8888888888888888,
              "#fdca26"
             ],
             [
              1,
              "#f0f921"
             ]
            ],
            "type": "histogram2dcontour"
           }
          ],
          "mesh3d": [
           {
            "colorbar": {
             "outlinewidth": 0,
             "ticks": ""
            },
            "type": "mesh3d"
           }
          ],
          "parcoords": [
           {
            "line": {
             "colorbar": {
              "outlinewidth": 0,
              "ticks": ""
             }
            },
            "type": "parcoords"
           }
          ],
          "pie": [
           {
            "automargin": true,
            "type": "pie"
           }
          ],
          "scatter": [
           {
            "fillpattern": {
             "fillmode": "overlay",
             "size": 10,
             "solidity": 0.2
            },
            "type": "scatter"
           }
          ],
          "scatter3d": [
           {
            "line": {
             "colorbar": {
              "outlinewidth": 0,
              "ticks": ""
             }
            },
            "marker": {
             "colorbar": {
              "outlinewidth": 0,
              "ticks": ""
             }
            },
            "type": "scatter3d"
           }
          ],
          "scattercarpet": [
           {
            "marker": {
             "colorbar": {
              "outlinewidth": 0,
              "ticks": ""
             }
            },
            "type": "scattercarpet"
           }
          ],
          "scattergeo": [
           {
            "marker": {
             "colorbar": {
              "outlinewidth": 0,
              "ticks": ""
             }
            },
            "type": "scattergeo"
           }
          ],
          "scattergl": [
           {
            "marker": {
             "colorbar": {
              "outlinewidth": 0,
              "ticks": ""
             }
            },
            "type": "scattergl"
           }
          ],
          "scattermapbox": [
           {
            "marker": {
             "colorbar": {
              "outlinewidth": 0,
              "ticks": ""
             }
            },
            "type": "scattermapbox"
           }
          ],
          "scatterpolar": [
           {
            "marker": {
             "colorbar": {
              "outlinewidth": 0,
              "ticks": ""
             }
            },
            "type": "scatterpolar"
           }
          ],
          "scatterpolargl": [
           {
            "marker": {
             "colorbar": {
              "outlinewidth": 0,
              "ticks": ""
             }
            },
            "type": "scatterpolargl"
           }
          ],
          "scatterternary": [
           {
            "marker": {
             "colorbar": {
              "outlinewidth": 0,
              "ticks": ""
             }
            },
            "type": "scatterternary"
           }
          ],
          "surface": [
           {
            "colorbar": {
             "outlinewidth": 0,
             "ticks": ""
            },
            "colorscale": [
             [
              0,
              "#0d0887"
             ],
             [
              0.1111111111111111,
              "#46039f"
             ],
             [
              0.2222222222222222,
              "#7201a8"
             ],
             [
              0.3333333333333333,
              "#9c179e"
             ],
             [
              0.4444444444444444,
              "#bd3786"
             ],
             [
              0.5555555555555556,
              "#d8576b"
             ],
             [
              0.6666666666666666,
              "#ed7953"
             ],
             [
              0.7777777777777778,
              "#fb9f3a"
             ],
             [
              0.8888888888888888,
              "#fdca26"
             ],
             [
              1,
              "#f0f921"
             ]
            ],
            "type": "surface"
           }
          ],
          "table": [
           {
            "cells": {
             "fill": {
              "color": "#EBF0F8"
             },
             "line": {
              "color": "white"
             }
            },
            "header": {
             "fill": {
              "color": "#C8D4E3"
             },
             "line": {
              "color": "white"
             }
            },
            "type": "table"
           }
          ]
         },
         "layout": {
          "annotationdefaults": {
           "arrowcolor": "#2a3f5f",
           "arrowhead": 0,
           "arrowwidth": 1
          },
          "autotypenumbers": "strict",
          "coloraxis": {
           "colorbar": {
            "outlinewidth": 0,
            "ticks": ""
           }
          },
          "colorscale": {
           "diverging": [
            [
             0,
             "#8e0152"
            ],
            [
             0.1,
             "#c51b7d"
            ],
            [
             0.2,
             "#de77ae"
            ],
            [
             0.3,
             "#f1b6da"
            ],
            [
             0.4,
             "#fde0ef"
            ],
            [
             0.5,
             "#f7f7f7"
            ],
            [
             0.6,
             "#e6f5d0"
            ],
            [
             0.7,
             "#b8e186"
            ],
            [
             0.8,
             "#7fbc41"
            ],
            [
             0.9,
             "#4d9221"
            ],
            [
             1,
             "#276419"
            ]
           ],
           "sequential": [
            [
             0,
             "#0d0887"
            ],
            [
             0.1111111111111111,
             "#46039f"
            ],
            [
             0.2222222222222222,
             "#7201a8"
            ],
            [
             0.3333333333333333,
             "#9c179e"
            ],
            [
             0.4444444444444444,
             "#bd3786"
            ],
            [
             0.5555555555555556,
             "#d8576b"
            ],
            [
             0.6666666666666666,
             "#ed7953"
            ],
            [
             0.7777777777777778,
             "#fb9f3a"
            ],
            [
             0.8888888888888888,
             "#fdca26"
            ],
            [
             1,
             "#f0f921"
            ]
           ],
           "sequentialminus": [
            [
             0,
             "#0d0887"
            ],
            [
             0.1111111111111111,
             "#46039f"
            ],
            [
             0.2222222222222222,
             "#7201a8"
            ],
            [
             0.3333333333333333,
             "#9c179e"
            ],
            [
             0.4444444444444444,
             "#bd3786"
            ],
            [
             0.5555555555555556,
             "#d8576b"
            ],
            [
             0.6666666666666666,
             "#ed7953"
            ],
            [
             0.7777777777777778,
             "#fb9f3a"
            ],
            [
             0.8888888888888888,
             "#fdca26"
            ],
            [
             1,
             "#f0f921"
            ]
           ]
          },
          "colorway": [
           "#636efa",
           "#EF553B",
           "#00cc96",
           "#ab63fa",
           "#FFA15A",
           "#19d3f3",
           "#FF6692",
           "#B6E880",
           "#FF97FF",
           "#FECB52"
          ],
          "font": {
           "color": "#2a3f5f"
          },
          "geo": {
           "bgcolor": "white",
           "lakecolor": "white",
           "landcolor": "#E5ECF6",
           "showlakes": true,
           "showland": true,
           "subunitcolor": "white"
          },
          "hoverlabel": {
           "align": "left"
          },
          "hovermode": "closest",
          "mapbox": {
           "style": "light"
          },
          "paper_bgcolor": "white",
          "plot_bgcolor": "#E5ECF6",
          "polar": {
           "angularaxis": {
            "gridcolor": "white",
            "linecolor": "white",
            "ticks": ""
           },
           "bgcolor": "#E5ECF6",
           "radialaxis": {
            "gridcolor": "white",
            "linecolor": "white",
            "ticks": ""
           }
          },
          "scene": {
           "xaxis": {
            "backgroundcolor": "#E5ECF6",
            "gridcolor": "white",
            "gridwidth": 2,
            "linecolor": "white",
            "showbackground": true,
            "ticks": "",
            "zerolinecolor": "white"
           },
           "yaxis": {
            "backgroundcolor": "#E5ECF6",
            "gridcolor": "white",
            "gridwidth": 2,
            "linecolor": "white",
            "showbackground": true,
            "ticks": "",
            "zerolinecolor": "white"
           },
           "zaxis": {
            "backgroundcolor": "#E5ECF6",
            "gridcolor": "white",
            "gridwidth": 2,
            "linecolor": "white",
            "showbackground": true,
            "ticks": "",
            "zerolinecolor": "white"
           }
          },
          "shapedefaults": {
           "line": {
            "color": "#2a3f5f"
           }
          },
          "ternary": {
           "aaxis": {
            "gridcolor": "white",
            "linecolor": "white",
            "ticks": ""
           },
           "baxis": {
            "gridcolor": "white",
            "linecolor": "white",
            "ticks": ""
           },
           "bgcolor": "#E5ECF6",
           "caxis": {
            "gridcolor": "white",
            "linecolor": "white",
            "ticks": ""
           }
          },
          "title": {
           "x": 0.05
          },
          "xaxis": {
           "automargin": true,
           "gridcolor": "white",
           "linecolor": "white",
           "ticks": "",
           "title": {
            "standoff": 15
           },
           "zerolinecolor": "white",
           "zerolinewidth": 2
          },
          "yaxis": {
           "automargin": true,
           "gridcolor": "white",
           "linecolor": "white",
           "ticks": "",
           "title": {
            "standoff": 15
           },
           "zerolinecolor": "white",
           "zerolinewidth": 2
          }
         }
        },
        "xaxis": {
         "anchor": "y",
         "gridcolor": "rgba(0,0,0,0.1)",
         "mirror": "ticks",
         "nticks": 8,
         "showgrid": true,
         "showline": true,
         "side": "bottom",
         "tickfont": {
          "size": 16
         },
         "ticks": "inside",
         "title": {
          "font": {
           "color": "#000000",
           "size": 20
          },
          "text": "Composition (fraction)"
         },
         "type": "linear",
         "zeroline": false
        },
        "yaxis": {
         "anchor": "x",
         "gridcolor": "rgba(0,0,0,0.1)",
         "mirror": "ticks",
         "showgrid": true,
         "showline": true,
         "side": "left",
         "tickfont": {
          "size": 16
         },
         "ticks": "inside",
         "title": {
          "font": {
           "color": "#000000",
           "size": 20
          },
          "text": "Formation energy (eV/atom)"
         },
         "type": "linear"
        }
       }
      }
     },
     "metadata": {},
     "output_type": "display_data"
    },
    {
     "name": "stdout",
     "output_type": "stream",
     "text": [
      "Ag-V: MAE = 14.816633624675644\n",
      "Ag: H_fusion = 11300.0 J/mol, T_fusion = 1234.93 K, T_vaporization = 2435.15 K\n",
      "V: H_fusion = 21500.0 J/mol, T_fusion = 2183.0 K, T_vaporization = 3680.15 K\n",
      "\n",
      "Loading JSON from cache.\n",
      "reading MPDS liquidus from entry at https://mpds.io/entry/C900067...\n",
      "\n"
     ]
    },
    {
     "data": {
      "application/vnd.plotly.v1+json": {
       "config": {
        "plotlyServerURL": "https://plot.ly"
       },
       "data": [
        {
         "line": {
          "color": "#B82E2E",
          "dash": "dash",
          "width": 4
         },
         "mode": "lines",
         "showlegend": false,
         "type": "scatter",
         "x": [
          0.0381243,
          0.0793239,
          0.145998,
          0.146087,
          0.273136,
          0.455633,
          0.691462,
          0.9785969999999999,
          1.31501,
          1.69868,
          2.12759,
          2.59972,
          3.11305,
          3.6655699999999998,
          4.25527,
          4.88013,
          5.53818,
          6.2274,
          6.94583,
          7.68929,
          9.41835,
          11.3074,
          13.3412,
          15.5078,
          17.7949,
          20.1904,
          22.6822,
          25.2582,
          27.9062,
          30.6141,
          33.3698,
          36.1611,
          38.976,
          41.8022,
          44.6278,
          47.4404,
          50.2281,
          52.99470000000001,
          55.7549,
          58.502900000000004,
          61.2328,
          63.938300000000005,
          66.6135,
          69.2522,
          71.8483,
          74.3957,
          76.8884,
          79.3203,
          81.6852,
          83.9771,
          86.1899,
          88.3175,
          90.3538,
          92.2788,
          92.7337,
          93.2178,
          93.7046,
          94.1924,
          94.6798,
          95.1654,
          95.6475,
          96.1248,
          96.5958,
          97.0589,
          97.5127,
          97.9557,
          98.3864,
          98.8033,
          99.205,
          99.5899,
          99.9238
         ],
         "y": [
          964.8280000000001,
          963.7320000000001,
          1022.8100000000001,
          1022.87,
          1084.6,
          1146.13,
          1207.1599999999999,
          1267.46,
          1326.8199999999997,
          1385,
          1441.79,
          1496.94,
          1550.23,
          1601.44,
          1650.3399999999997,
          1696.71,
          1740.2999999999997,
          1780.9099999999999,
          1818.2999999999997,
          1852.1399999999999,
          1965.9299999999998,
          2073.68,
          2175.08,
          2270.02,
          2358.41,
          2440.15,
          2515.13,
          2583.24,
          2644.4,
          2698.49,
          2745.42,
          2785.08,
          2817.36,
          2842.18,
          2859.41,
          2868.98,
          2870.76,
          2865.41,
          2853.84,
          2835.93,
          2811.57,
          2780.62,
          2742.97,
          2698.5,
          2647.09,
          2588.61,
          2522.95,
          2449.98,
          2369.59,
          2281.66,
          2186.06,
          2082.67,
          1971.38,
          1852.9299999999998,
          1856.42,
          1860.1999999999998,
          1864.0499999999997,
          1867.9499999999998,
          1871.8599999999997,
          1875.77,
          1879.6399999999999,
          1883.46,
          1887.1799999999998,
          1890.7799999999997,
          1894.25,
          1897.54,
          1900.6399999999999,
          1903.5099999999998,
          1906.1399999999999,
          1908.4899999999998,
          1910.3399999999997
         ]
        },
        {
         "hovertemplate": "x=%{x}<br>y=%{y}<extra></extra>",
         "legendgroup": "",
         "line": {
          "color": "Silver",
          "dash": "solid",
          "width": 4
         },
         "marker": {
          "symbol": "circle"
         },
         "mode": "lines",
         "name": "",
         "orientation": "v",
         "showlegend": false,
         "type": "scatter",
         "x": [
          7.000000000000001,
          93,
          100
         ],
         "xaxis": "x",
         "y": [
          1803.603584629072,
          1803.603584629072,
          1803.603584629072
         ],
         "yaxis": "y"
        },
        {
         "hovertemplate": "label=L<br>x=%{x}<br>t=%{y}<extra></extra>",
         "legendgroup": "L",
         "line": {
          "color": "cornflowerblue",
          "dash": "solid",
          "width": 4
         },
         "marker": {
          "symbol": "circle"
         },
         "mode": "lines",
         "name": "L",
         "orientation": "v",
         "showlegend": false,
         "type": "scatter",
         "x": [
          0,
          0,
          1,
          2,
          3,
          4,
          5,
          6,
          7.000000000000001,
          8,
          9,
          10,
          11,
          12,
          13,
          14.000000000000002,
          15,
          16,
          17,
          18,
          19,
          20,
          21,
          22,
          23,
          24,
          25,
          26,
          27,
          28.000000000000004,
          28.999999999999996,
          30,
          31,
          32,
          33,
          34,
          35,
          36,
          37,
          38,
          39,
          40,
          41,
          42,
          43,
          44,
          45,
          46,
          47,
          48,
          49,
          50,
          51,
          52,
          53,
          54,
          55.00000000000001,
          56.00000000000001,
          57.00000000000001,
          57.99999999999999,
          59,
          60,
          61,
          62,
          63,
          64,
          65,
          66,
          67,
          68,
          69,
          70,
          71,
          72,
          73,
          74,
          75,
          76,
          77,
          78,
          79,
          80,
          81,
          82,
          83,
          84,
          85,
          86,
          87,
          88,
          89,
          90,
          91,
          92,
          93,
          94,
          95,
          96,
          97,
          98,
          99,
          100,
          100
         ],
         "xaxis": "x",
         "y": [
          964.8279999999999,
          964.8279999999999,
          1023.8013619566783,
          1333.260124372698,
          1480.1599935246059,
          1584.3553295991005,
          1665.4595227764298,
          1731.516360484275,
          1786.7533827691655,
          1852.8144168116087,
          1921.9034552912935,
          1985.3867170365397,
          2044.1212377181323,
          2098.7548870905803,
          2149.791215253381,
          2197.630562337617,
          2242.5972462218847,
          2284.9581836128395,
          2324.9360253076024,
          2362.718657972435,
          2398.4662286836224,
          2432.3164376094005,
          2464.3885930112615,
          2494.7867643653153,
          2523.602266819062,
          2550.9156421301805,
          2576.798255096533,
          2601.313592592271,
          2624.518329912232,
          2646.4632130893497,
          2667.1937942408263,
          2686.7510484672353,
          2705.1718944708414,
          2722.489636297297,
          2738.7343399637284,
          2753.9331559556954,
          2768.110596418095,
          2781.2887741676545,
          2793.4876093383864,
          2804.725008399632,
          2815.0170194594,
          2824.3779670627982,
          2832.820569162318,
          2840.3560384680777,
          2846.9941700263826,
          2852.7434165420486,
          2857.6109527481067,
          2861.6027298327526,
          2864.7235208229163,
          2866.9769576132067,
          2868.3655601849296,
          2868.5529072369154,
          2867.351293920931,
          2865.284140064554,
          2862.3485957353337,
          2858.540727322411,
          2853.855498265037,
          2848.286742526735,
          2841.827130353327,
          2834.4681258260557,
          2826.199935509163,
          2817.0114473561357,
          2806.8901588937656,
          2795.8220934096935,
          2783.7917026973482,
          2770.7817545494813,
          2756.773202860801,
          2741.7450377482887,
          2725.6741125539033,
          2708.534943943388,
          2690.299480476354,
          2670.936834006364,
          2650.4129669681206,
          2628.690326965439,
          2605.7274179727956,
          2581.478294748467,
          2555.8919635224297,
          2528.9116673685444,
          2500.4740284933423,
          2470.508011359203,
          2438.9336592427744,
          2405.660541226521,
          2370.5858247773676,
          2333.5918580054895,
          2294.5431007534685,
          2253.282177372753,
          2209.62472410955,
          2163.3525497695646,
          2114.204383652169,
          2061.863084561893,
          2005.9375067376473,
          1945.936022073271,
          1881.2264828558832,
          1810.97306658456,
          1803.603584629072,
          1813.7550819554763,
          1825.8991569449972,
          1839.0794811987416,
          1853.3550134020757,
          1868.8401865425303,
          1885.9008468347315,
          1910.3400000000001,
          1910.3400000000001
         ],
         "yaxis": "y"
        },
        {
         "line": {
          "color": "#B82E2E",
          "dash": "dash"
         },
         "mode": "lines",
         "name": "Digitized Liquidus",
         "showlegend": true,
         "type": "scatter",
         "x": [
          null
         ],
         "y": [
          null
         ]
        },
        {
         "marker": {
          "color": "cornflowerblue"
         },
         "mode": "lines",
         "name": "Fitted Liquidus",
         "showlegend": true,
         "type": "scatter",
         "x": [
          null
         ],
         "y": [
          null
         ]
        }
       ],
       "layout": {
        "annotations": [
         {
          "font": {
           "color": "black",
           "size": 18
          },
          "showarrow": false,
          "text": "L",
          "x": 50,
          "y": 3060
         }
        ],
        "font": {
         "size": 22
        },
        "height": 700,
        "legend": {
         "font": {
          "size": 18
         },
         "x": 0.01,
         "xanchor": "left",
         "y": 0.99,
         "yanchor": "top"
        },
        "plot_bgcolor": "white",
        "showlegend": true,
        "template": {
         "data": {
          "bar": [
           {
            "error_x": {
             "color": "#2a3f5f"
            },
            "error_y": {
             "color": "#2a3f5f"
            },
            "marker": {
             "line": {
              "color": "#E5ECF6",
              "width": 0.5
             },
             "pattern": {
              "fillmode": "overlay",
              "size": 10,
              "solidity": 0.2
             }
            },
            "type": "bar"
           }
          ],
          "barpolar": [
           {
            "marker": {
             "line": {
              "color": "#E5ECF6",
              "width": 0.5
             },
             "pattern": {
              "fillmode": "overlay",
              "size": 10,
              "solidity": 0.2
             }
            },
            "type": "barpolar"
           }
          ],
          "carpet": [
           {
            "aaxis": {
             "endlinecolor": "#2a3f5f",
             "gridcolor": "white",
             "linecolor": "white",
             "minorgridcolor": "white",
             "startlinecolor": "#2a3f5f"
            },
            "baxis": {
             "endlinecolor": "#2a3f5f",
             "gridcolor": "white",
             "linecolor": "white",
             "minorgridcolor": "white",
             "startlinecolor": "#2a3f5f"
            },
            "type": "carpet"
           }
          ],
          "choropleth": [
           {
            "colorbar": {
             "outlinewidth": 0,
             "ticks": ""
            },
            "type": "choropleth"
           }
          ],
          "contour": [
           {
            "colorbar": {
             "outlinewidth": 0,
             "ticks": ""
            },
            "colorscale": [
             [
              0,
              "#0d0887"
             ],
             [
              0.1111111111111111,
              "#46039f"
             ],
             [
              0.2222222222222222,
              "#7201a8"
             ],
             [
              0.3333333333333333,
              "#9c179e"
             ],
             [
              0.4444444444444444,
              "#bd3786"
             ],
             [
              0.5555555555555556,
              "#d8576b"
             ],
             [
              0.6666666666666666,
              "#ed7953"
             ],
             [
              0.7777777777777778,
              "#fb9f3a"
             ],
             [
              0.8888888888888888,
              "#fdca26"
             ],
             [
              1,
              "#f0f921"
             ]
            ],
            "type": "contour"
           }
          ],
          "contourcarpet": [
           {
            "colorbar": {
             "outlinewidth": 0,
             "ticks": ""
            },
            "type": "contourcarpet"
           }
          ],
          "heatmap": [
           {
            "colorbar": {
             "outlinewidth": 0,
             "ticks": ""
            },
            "colorscale": [
             [
              0,
              "#0d0887"
             ],
             [
              0.1111111111111111,
              "#46039f"
             ],
             [
              0.2222222222222222,
              "#7201a8"
             ],
             [
              0.3333333333333333,
              "#9c179e"
             ],
             [
              0.4444444444444444,
              "#bd3786"
             ],
             [
              0.5555555555555556,
              "#d8576b"
             ],
             [
              0.6666666666666666,
              "#ed7953"
             ],
             [
              0.7777777777777778,
              "#fb9f3a"
             ],
             [
              0.8888888888888888,
              "#fdca26"
             ],
             [
              1,
              "#f0f921"
             ]
            ],
            "type": "heatmap"
           }
          ],
          "heatmapgl": [
           {
            "colorbar": {
             "outlinewidth": 0,
             "ticks": ""
            },
            "colorscale": [
             [
              0,
              "#0d0887"
             ],
             [
              0.1111111111111111,
              "#46039f"
             ],
             [
              0.2222222222222222,
              "#7201a8"
             ],
             [
              0.3333333333333333,
              "#9c179e"
             ],
             [
              0.4444444444444444,
              "#bd3786"
             ],
             [
              0.5555555555555556,
              "#d8576b"
             ],
             [
              0.6666666666666666,
              "#ed7953"
             ],
             [
              0.7777777777777778,
              "#fb9f3a"
             ],
             [
              0.8888888888888888,
              "#fdca26"
             ],
             [
              1,
              "#f0f921"
             ]
            ],
            "type": "heatmapgl"
           }
          ],
          "histogram": [
           {
            "marker": {
             "pattern": {
              "fillmode": "overlay",
              "size": 10,
              "solidity": 0.2
             }
            },
            "type": "histogram"
           }
          ],
          "histogram2d": [
           {
            "colorbar": {
             "outlinewidth": 0,
             "ticks": ""
            },
            "colorscale": [
             [
              0,
              "#0d0887"
             ],
             [
              0.1111111111111111,
              "#46039f"
             ],
             [
              0.2222222222222222,
              "#7201a8"
             ],
             [
              0.3333333333333333,
              "#9c179e"
             ],
             [
              0.4444444444444444,
              "#bd3786"
             ],
             [
              0.5555555555555556,
              "#d8576b"
             ],
             [
              0.6666666666666666,
              "#ed7953"
             ],
             [
              0.7777777777777778,
              "#fb9f3a"
             ],
             [
              0.8888888888888888,
              "#fdca26"
             ],
             [
              1,
              "#f0f921"
             ]
            ],
            "type": "histogram2d"
           }
          ],
          "histogram2dcontour": [
           {
            "colorbar": {
             "outlinewidth": 0,
             "ticks": ""
            },
            "colorscale": [
             [
              0,
              "#0d0887"
             ],
             [
              0.1111111111111111,
              "#46039f"
             ],
             [
              0.2222222222222222,
              "#7201a8"
             ],
             [
              0.3333333333333333,
              "#9c179e"
             ],
             [
              0.4444444444444444,
              "#bd3786"
             ],
             [
              0.5555555555555556,
              "#d8576b"
             ],
             [
              0.6666666666666666,
              "#ed7953"
             ],
             [
              0.7777777777777778,
              "#fb9f3a"
             ],
             [
              0.8888888888888888,
              "#fdca26"
             ],
             [
              1,
              "#f0f921"
             ]
            ],
            "type": "histogram2dcontour"
           }
          ],
          "mesh3d": [
           {
            "colorbar": {
             "outlinewidth": 0,
             "ticks": ""
            },
            "type": "mesh3d"
           }
          ],
          "parcoords": [
           {
            "line": {
             "colorbar": {
              "outlinewidth": 0,
              "ticks": ""
             }
            },
            "type": "parcoords"
           }
          ],
          "pie": [
           {
            "automargin": true,
            "type": "pie"
           }
          ],
          "scatter": [
           {
            "fillpattern": {
             "fillmode": "overlay",
             "size": 10,
             "solidity": 0.2
            },
            "type": "scatter"
           }
          ],
          "scatter3d": [
           {
            "line": {
             "colorbar": {
              "outlinewidth": 0,
              "ticks": ""
             }
            },
            "marker": {
             "colorbar": {
              "outlinewidth": 0,
              "ticks": ""
             }
            },
            "type": "scatter3d"
           }
          ],
          "scattercarpet": [
           {
            "marker": {
             "colorbar": {
              "outlinewidth": 0,
              "ticks": ""
             }
            },
            "type": "scattercarpet"
           }
          ],
          "scattergeo": [
           {
            "marker": {
             "colorbar": {
              "outlinewidth": 0,
              "ticks": ""
             }
            },
            "type": "scattergeo"
           }
          ],
          "scattergl": [
           {
            "marker": {
             "colorbar": {
              "outlinewidth": 0,
              "ticks": ""
             }
            },
            "type": "scattergl"
           }
          ],
          "scattermapbox": [
           {
            "marker": {
             "colorbar": {
              "outlinewidth": 0,
              "ticks": ""
             }
            },
            "type": "scattermapbox"
           }
          ],
          "scatterpolar": [
           {
            "marker": {
             "colorbar": {
              "outlinewidth": 0,
              "ticks": ""
             }
            },
            "type": "scatterpolar"
           }
          ],
          "scatterpolargl": [
           {
            "marker": {
             "colorbar": {
              "outlinewidth": 0,
              "ticks": ""
             }
            },
            "type": "scatterpolargl"
           }
          ],
          "scatterternary": [
           {
            "marker": {
             "colorbar": {
              "outlinewidth": 0,
              "ticks": ""
             }
            },
            "type": "scatterternary"
           }
          ],
          "surface": [
           {
            "colorbar": {
             "outlinewidth": 0,
             "ticks": ""
            },
            "colorscale": [
             [
              0,
              "#0d0887"
             ],
             [
              0.1111111111111111,
              "#46039f"
             ],
             [
              0.2222222222222222,
              "#7201a8"
             ],
             [
              0.3333333333333333,
              "#9c179e"
             ],
             [
              0.4444444444444444,
              "#bd3786"
             ],
             [
              0.5555555555555556,
              "#d8576b"
             ],
             [
              0.6666666666666666,
              "#ed7953"
             ],
             [
              0.7777777777777778,
              "#fb9f3a"
             ],
             [
              0.8888888888888888,
              "#fdca26"
             ],
             [
              1,
              "#f0f921"
             ]
            ],
            "type": "surface"
           }
          ],
          "table": [
           {
            "cells": {
             "fill": {
              "color": "#EBF0F8"
             },
             "line": {
              "color": "white"
             }
            },
            "header": {
             "fill": {
              "color": "#C8D4E3"
             },
             "line": {
              "color": "white"
             }
            },
            "type": "table"
           }
          ]
         },
         "layout": {
          "annotationdefaults": {
           "arrowcolor": "#2a3f5f",
           "arrowhead": 0,
           "arrowwidth": 1
          },
          "autotypenumbers": "strict",
          "coloraxis": {
           "colorbar": {
            "outlinewidth": 0,
            "ticks": ""
           }
          },
          "colorscale": {
           "diverging": [
            [
             0,
             "#8e0152"
            ],
            [
             0.1,
             "#c51b7d"
            ],
            [
             0.2,
             "#de77ae"
            ],
            [
             0.3,
             "#f1b6da"
            ],
            [
             0.4,
             "#fde0ef"
            ],
            [
             0.5,
             "#f7f7f7"
            ],
            [
             0.6,
             "#e6f5d0"
            ],
            [
             0.7,
             "#b8e186"
            ],
            [
             0.8,
             "#7fbc41"
            ],
            [
             0.9,
             "#4d9221"
            ],
            [
             1,
             "#276419"
            ]
           ],
           "sequential": [
            [
             0,
             "#0d0887"
            ],
            [
             0.1111111111111111,
             "#46039f"
            ],
            [
             0.2222222222222222,
             "#7201a8"
            ],
            [
             0.3333333333333333,
             "#9c179e"
            ],
            [
             0.4444444444444444,
             "#bd3786"
            ],
            [
             0.5555555555555556,
             "#d8576b"
            ],
            [
             0.6666666666666666,
             "#ed7953"
            ],
            [
             0.7777777777777778,
             "#fb9f3a"
            ],
            [
             0.8888888888888888,
             "#fdca26"
            ],
            [
             1,
             "#f0f921"
            ]
           ],
           "sequentialminus": [
            [
             0,
             "#0d0887"
            ],
            [
             0.1111111111111111,
             "#46039f"
            ],
            [
             0.2222222222222222,
             "#7201a8"
            ],
            [
             0.3333333333333333,
             "#9c179e"
            ],
            [
             0.4444444444444444,
             "#bd3786"
            ],
            [
             0.5555555555555556,
             "#d8576b"
            ],
            [
             0.6666666666666666,
             "#ed7953"
            ],
            [
             0.7777777777777778,
             "#fb9f3a"
            ],
            [
             0.8888888888888888,
             "#fdca26"
            ],
            [
             1,
             "#f0f921"
            ]
           ]
          },
          "colorway": [
           "#636efa",
           "#EF553B",
           "#00cc96",
           "#ab63fa",
           "#FFA15A",
           "#19d3f3",
           "#FF6692",
           "#B6E880",
           "#FF97FF",
           "#FECB52"
          ],
          "font": {
           "color": "#2a3f5f"
          },
          "geo": {
           "bgcolor": "white",
           "lakecolor": "white",
           "landcolor": "#E5ECF6",
           "showlakes": true,
           "showland": true,
           "subunitcolor": "white"
          },
          "hoverlabel": {
           "align": "left"
          },
          "hovermode": "closest",
          "mapbox": {
           "style": "light"
          },
          "paper_bgcolor": "white",
          "plot_bgcolor": "#E5ECF6",
          "polar": {
           "angularaxis": {
            "gridcolor": "white",
            "linecolor": "white",
            "ticks": ""
           },
           "bgcolor": "#E5ECF6",
           "radialaxis": {
            "gridcolor": "white",
            "linecolor": "white",
            "ticks": ""
           }
          },
          "scene": {
           "xaxis": {
            "backgroundcolor": "#E5ECF6",
            "gridcolor": "white",
            "gridwidth": 2,
            "linecolor": "white",
            "showbackground": true,
            "ticks": "",
            "zerolinecolor": "white"
           },
           "yaxis": {
            "backgroundcolor": "#E5ECF6",
            "gridcolor": "white",
            "gridwidth": 2,
            "linecolor": "white",
            "showbackground": true,
            "ticks": "",
            "zerolinecolor": "white"
           },
           "zaxis": {
            "backgroundcolor": "#E5ECF6",
            "gridcolor": "white",
            "gridwidth": 2,
            "linecolor": "white",
            "showbackground": true,
            "ticks": "",
            "zerolinecolor": "white"
           }
          },
          "shapedefaults": {
           "line": {
            "color": "#2a3f5f"
           }
          },
          "ternary": {
           "aaxis": {
            "gridcolor": "white",
            "linecolor": "white",
            "ticks": ""
           },
           "baxis": {
            "gridcolor": "white",
            "linecolor": "white",
            "ticks": ""
           },
           "bgcolor": "#E5ECF6",
           "caxis": {
            "gridcolor": "white",
            "linecolor": "white",
            "ticks": ""
           }
          },
          "title": {
           "x": 0.05
          },
          "xaxis": {
           "automargin": true,
           "gridcolor": "white",
           "linecolor": "white",
           "ticks": "",
           "title": {
            "standoff": 15
           },
           "zerolinecolor": "white",
           "zerolinewidth": 2
          },
          "yaxis": {
           "automargin": true,
           "gridcolor": "white",
           "linecolor": "white",
           "ticks": "",
           "title": {
            "standoff": 15
           },
           "zerolinecolor": "white",
           "zerolinewidth": 2
          }
         }
        },
        "title": {
         "text": "Ag-V Fitted Binary Phase Diagram"
        },
        "width": 960,
        "xaxis": {
         "linecolor": "black",
         "linewidth": 2,
         "mirror": true,
         "range": [
          0,
          100
         ],
         "showline": true,
         "tickcolor": "black",
         "tickformat": ".0f",
         "ticks": "outside",
         "title": {
          "text": "V (at. %)"
         }
        },
        "yaxis": {
         "linecolor": "black",
         "linewidth": 2,
         "mirror": true,
         "range": [
          0,
          3300
         ],
         "showline": true,
         "tickcolor": "black",
         "ticks": "outside",
         "ticksuffix": " ",
         "title": {
          "text": "T (°C)"
         }
        }
       }
      }
     },
     "metadata": {},
     "output_type": "display_data"
    },
    {
     "name": "stdout",
     "output_type": "stream",
     "text": [
      "No arguments specified for 't_vals', setting 't_units' to 'K'\n"
     ]
    },
    {
     "data": {
      "application/vnd.plotly.v1+json": {
       "config": {
        "plotlyServerURL": "https://plot.ly"
       },
       "data": [
        {
         "mode": "lines",
         "name": "Liquid T=2180K",
         "type": "scatter",
         "x": [
          0,
          0.01,
          0.02,
          0.03,
          0.04,
          0.05,
          0.06,
          0.07,
          0.08,
          0.09,
          0.1,
          0.11,
          0.12,
          0.13,
          0.14,
          0.15,
          0.16,
          0.17,
          0.18,
          0.19,
          0.2,
          0.21,
          0.22,
          0.23,
          0.24,
          0.25,
          0.26,
          0.27,
          0.28,
          0.29,
          0.3,
          0.31,
          0.32,
          0.33,
          0.34,
          0.35000000000000003,
          0.36,
          0.37,
          0.38,
          0.39,
          0.4,
          0.41000000000000003,
          0.42,
          0.43,
          0.44,
          0.45,
          0.46,
          0.47000000000000003,
          0.48,
          0.49,
          0.5,
          0.51,
          0.52,
          0.53,
          0.54,
          0.55,
          0.56,
          0.5700000000000001,
          0.58,
          0.59,
          0.6,
          0.61,
          0.62,
          0.63,
          0.64,
          0.65,
          0.66,
          0.67,
          0.68,
          0.6900000000000001,
          0.7000000000000001,
          0.71,
          0.72,
          0.73,
          0.74,
          0.75,
          0.76,
          0.77,
          0.78,
          0.79,
          0.8,
          0.81,
          0.8200000000000001,
          0.8300000000000001,
          0.84,
          0.85,
          0.86,
          0.87,
          0.88,
          0.89,
          0.9,
          0.91,
          0.92,
          0.93,
          0.9400000000000001,
          0.9500000000000001,
          0.96,
          0.97,
          0.98,
          0.99,
          1
         ],
         "y": [
          -0.08912584104076549,
          -0.09338109716504914,
          -0.09512395913370696,
          -0.09597543748630309,
          -0.09627988374826375,
          -0.09620069679485073,
          -0.09583400014977014,
          -0.09524321070694895,
          -0.09447331555639006,
          -0.09355787473977731,
          -0.09252286768020984,
          -0.0913889841406754,
          -0.09017307475360639,
          -0.08888911451317869,
          -0.08754886797366283,
          -0.08616236336660593,
          -0.08473823967593512,
          -0.08328400655622605,
          -0.08180624283112516,
          -0.08031075069173779,
          -0.07880267728711934,
          -0.07728661187885857,
          -0.07576666438930495,
          -0.07424652957834225,
          -0.0727295399757323,
          -0.07121870991217143,
          -0.06971677242833282,
          -0.06822621042943092,
          -0.06674928314805241,
          -0.06528804874952117,
          -0.06384438374080145,
          -0.062419999711143447,
          -0.06101645782986446,
          -0.05963518144633193,
          -0.058277467073900385,
          -0.05694449398924127,
          -0.05563733263821002,
          -0.05435695200688489,
          -0.05310422608998733,
          -0.051879939567273985,
          -0.0506847927806668,
          -0.049519406090101206,
          -0.048384323673709116,
          -0.04728001682754402,
          -0.046206886811215805,
          -0.04516526727823541,
          -0.04415542632332242,
          -0.043177568173207594,
          -0.042231834542395943,
          -0.04131830567080927,
          -0.040437001056079815,
          -0.03958787988941429,
          -0.03877084120030018,
          -0.03798572371179946,
          -0.03723230540468442,
          -0.03651030278514427,
          -0.0358193698471425,
          -0.035159096716653626,
          -0.03452900796086095,
          -0.03392856054084872,
          -0.033357141381257685,
          -0.03281406452465008,
          -0.03229856783178466,
          -0.03180980918143369,
          -0.03134686211453476,
          -0.030908710857060456,
          -0.03049424464362685,
          -0.03010225124907262,
          -0.0297314096174205,
          -0.029380281456010217,
          -0.029047301636168397,
          -0.028730767209272062,
          -0.028428824806765174,
          -0.028139456142377565,
          -0.02786046127147964,
          -0.027589439182178817,
          -0.027323765189954927,
          -0.027060564474828942,
          -0.02679668092679869,
          -0.02652864023679657,
          -0.02625260586563294,
          -0.02596432611165256,
          -0.025659069933960825,
          -0.025331548404196547,
          -0.02497581755194857,
          -0.02458515677426464,
          -0.024151914637263263,
          -0.02366731037771153,
          -0.02312117398475647,
          -0.022501599124821785,
          -0.021794469024425726,
          -0.020982791271830153,
          -0.02004573432474141,
          -0.018957176980754605,
          -0.01768341741888004,
          -0.01617932676980904,
          -0.014381346360308847,
          -0.012193210887367438,
          -0.009451379696417279,
          -0.005811359482726352,
          0.00034800207257531634
         ]
        },
        {
         "mode": "lines",
         "name": "Liquid T=0K",
         "type": "scatter",
         "x": [
          0,
          0.01,
          0.02,
          0.03,
          0.04,
          0.05,
          0.06,
          0.07,
          0.08,
          0.09,
          0.1,
          0.11,
          0.12,
          0.13,
          0.14,
          0.15,
          0.16,
          0.17,
          0.18,
          0.19,
          0.2,
          0.21,
          0.22,
          0.23,
          0.24,
          0.25,
          0.26,
          0.27,
          0.28,
          0.29,
          0.3,
          0.31,
          0.32,
          0.33,
          0.34,
          0.35000000000000003,
          0.36,
          0.37,
          0.38,
          0.39,
          0.4,
          0.41000000000000003,
          0.42,
          0.43,
          0.44,
          0.45,
          0.46,
          0.47000000000000003,
          0.48,
          0.49,
          0.5,
          0.51,
          0.52,
          0.53,
          0.54,
          0.55,
          0.56,
          0.5700000000000001,
          0.58,
          0.59,
          0.6,
          0.61,
          0.62,
          0.63,
          0.64,
          0.65,
          0.66,
          0.67,
          0.68,
          0.6900000000000001,
          0.7000000000000001,
          0.71,
          0.72,
          0.73,
          0.74,
          0.75,
          0.76,
          0.77,
          0.78,
          0.79,
          0.8,
          0.81,
          0.8200000000000001,
          0.8300000000000001,
          0.84,
          0.85,
          0.86,
          0.87,
          0.88,
          0.89,
          0.9,
          0.91,
          0.92,
          0.93,
          0.9400000000000001,
          0.9500000000000001,
          0.96,
          0.97,
          0.98,
          0.99,
          1
         ],
         "y": [
          0.11711665025651656,
          0.12350358882218533,
          0.1297778025158942,
          0.13593944600785973,
          0.14198867396829862,
          0.14792564106742742,
          0.15375050197546275,
          0.15946341136262124,
          0.16506452389911944,
          0.170553994255174,
          0.17593197710100156,
          0.18119862710681867,
          0.1863540989428419,
          0.19139854727928798,
          0.19633212678637343,
          0.20115499213431492,
          0.20586729799332898,
          0.21046919903363223,
          0.21496084992544137,
          0.21934240533897287,
          0.22361401994444344,
          0.2277758484120697,
          0.2318280454120681,
          0.2357707656146555,
          0.23960416369004825,
          0.24332839430846312,
          0.2469436121401167,
          0.25044997185522555,
          0.25384762812400635,
          0.25713673561667555,
          0.26031744900344994,
          0.263389922954546,
          0.26635431214018046,
          0.2692107712305698,
          0.2719594548959308,
          0.2746005178064798,
          0.2771341146324337,
          0.2795604000440089,
          0.2818795287114221,
          0.28409165530488983,
          0.2861969344946288,
          0.2881955209508556,
          0.2900875693437868,
          0.29187323434363893,
          0.2935526706206288,
          0.2951260328449728,
          0.2965934756868877,
          0.29795515381659005,
          0.2992112219042964,
          0.3003618346202235,
          0.3014071466345878,
          0.30234731261760595,
          0.30318248723949465,
          0.3039128251704704,
          0.30453848108074993,
          0.3050596096405497,
          0.3054763655200864,
          0.30578890338957665,
          0.305997377919237,
          0.3061019437792841,
          0.30610275563993455,
          0.30599996817140496,
          0.3057937360439119,
          0.305484213927672,
          0.30507155649290196,
          0.3045559184098183,
          0.30393745434863756,
          0.30321631897957646,
          0.30239266697285155,
          0.30146665299867953,
          0.30043843172727686,
          0.2993081578288603,
          0.2980759859736463,
          0.29674207083185156,
          0.2953065670736927,
          0.29376962936938633,
          0.2921314123891489,
          0.29039207080319734,
          0.2885517592817479,
          0.28661063249501745,
          0.28456884511322245,
          0.2824265518065796,
          0.28018390724530545,
          0.2778410660996167,
          0.2753981830397298,
          0.27285541273586145,
          0.27021290985822827,
          0.2674708290770468,
          0.2646293250625338,
          0.26168855248490563,
          0.2586486660143791,
          0.25550982032117076,
          0.25227217007549724,
          0.2489358699475751,
          0.24550107460762097,
          0.24196793872585146,
          0.23833661697248323,
          0.23460726401773277,
          0.23078003453181675,
          0.22685508318495182,
          0.22283256464735451
         ]
        },
        {
         "hoverinfo": "none",
         "line": {
          "color": "black",
          "width": 4
         },
         "mode": "lines",
         "showlegend": false,
         "type": "scatter",
         "x": [
          0,
          1,
          null
         ],
         "y": [
          0,
          0,
          null
         ]
        },
        {
         "hoverinfo": "skip",
         "mode": "text",
         "name": "Labels (stable)",
         "opacity": 1,
         "showlegend": true,
         "text": [],
         "textposition": [],
         "type": "scatter",
         "visible": true,
         "x": [],
         "y": []
        },
        {
         "error_y": {
          "array": [
           0,
           0
          ],
          "color": "gray",
          "thickness": 2.5,
          "type": "data",
          "width": 5
         },
         "hoverinfo": "text",
         "hoverlabel": {
          "font": {
           "size": 14
          }
         },
         "hovertext": [
          "Ag (mp-989737-GGA) <br> 0.0 eV/atom (Stable)",
          "V (mp-146-GGA) <br> 0.0 eV/atom (Stable)"
         ],
         "marker": {
          "color": "darkgreen",
          "line": {
           "color": "black",
           "width": 2
          },
          "size": 16
         },
         "mode": "markers",
         "name": "Stable",
         "opacity": 0.99,
         "showlegend": true,
         "type": "scatter",
         "x": [
          0,
          1
         ],
         "y": [
          0,
          0
         ]
        },
        {
         "hoverinfo": "text",
         "hoverlabel": {
          "font": {
           "size": 14
          }
         },
         "hovertext": [
          "Ag (mp-10597-GGA) <br> 0.008 eV/atom (+0.008 eV/atom)",
          "Ag (mp-8566-GGA) <br> 0.007 eV/atom (+0.007 eV/atom)",
          "Ag (mp-124-GGA) <br> 0.004 eV/atom (+0.004 eV/atom)",
          "Ag (mp-2646971-GGA) <br> 0.034 eV/atom (+0.034 eV/atom)"
         ],
         "marker": {
          "color": [
           0.008,
           0.007,
           0.004,
           0.034
          ],
          "colorscale": [
           [
            0,
            "#fff5e3"
           ],
           [
            0.5,
            "#f24324"
           ],
           [
            1,
            "#c40000"
           ]
          ],
          "line": {
           "color": "black",
           "width": 1
          },
          "opacity": 0.8,
          "size": 7,
          "symbol": "diamond"
         },
         "mode": "markers",
         "name": "Above Hull",
         "showlegend": true,
         "type": "scatter",
         "x": [
          0,
          0,
          0,
          0
         ],
         "y": [
          0.0075411533333333836,
          0.007226485833333296,
          0.0036091633333334983,
          0.034337163333333365
         ]
        }
       ],
       "layout": {
        "annotations": [
         {
          "align": "center",
          "font": {
           "color": "#000000",
           "size": 24
          },
          "opacity": 1,
          "showarrow": false,
          "text": "Ag",
          "x": -0.03,
          "xref": "x",
          "y": -0.03,
          "yref": "y"
         },
         {
          "align": "center",
          "font": {
           "color": "#000000",
           "size": 24
          },
          "opacity": 1,
          "showarrow": false,
          "text": "V",
          "x": 1.03,
          "xref": "x",
          "y": -0.03,
          "yref": "y"
         }
        ],
        "autosize": true,
        "coloraxis": {
         "colorbar": {
          "x": 1,
          "y": 0.05,
          "yanchor": "top"
         }
        },
        "hovermode": "closest",
        "legend": {
         "orientation": "h",
         "tracegroupgap": 7,
         "traceorder": "reversed",
         "x": 0,
         "xanchor": "left",
         "y": 1.05
        },
        "margin": {
         "b": 10,
         "l": 10,
         "pad": 0,
         "r": 10,
         "t": 0
        },
        "paper_bgcolor": "white",
        "plot_bgcolor": "white",
        "showlegend": true,
        "template": {
         "data": {
          "bar": [
           {
            "error_x": {
             "color": "#2a3f5f"
            },
            "error_y": {
             "color": "#2a3f5f"
            },
            "marker": {
             "line": {
              "color": "#E5ECF6",
              "width": 0.5
             },
             "pattern": {
              "fillmode": "overlay",
              "size": 10,
              "solidity": 0.2
             }
            },
            "type": "bar"
           }
          ],
          "barpolar": [
           {
            "marker": {
             "line": {
              "color": "#E5ECF6",
              "width": 0.5
             },
             "pattern": {
              "fillmode": "overlay",
              "size": 10,
              "solidity": 0.2
             }
            },
            "type": "barpolar"
           }
          ],
          "carpet": [
           {
            "aaxis": {
             "endlinecolor": "#2a3f5f",
             "gridcolor": "white",
             "linecolor": "white",
             "minorgridcolor": "white",
             "startlinecolor": "#2a3f5f"
            },
            "baxis": {
             "endlinecolor": "#2a3f5f",
             "gridcolor": "white",
             "linecolor": "white",
             "minorgridcolor": "white",
             "startlinecolor": "#2a3f5f"
            },
            "type": "carpet"
           }
          ],
          "choropleth": [
           {
            "colorbar": {
             "outlinewidth": 0,
             "ticks": ""
            },
            "type": "choropleth"
           }
          ],
          "contour": [
           {
            "colorbar": {
             "outlinewidth": 0,
             "ticks": ""
            },
            "colorscale": [
             [
              0,
              "#0d0887"
             ],
             [
              0.1111111111111111,
              "#46039f"
             ],
             [
              0.2222222222222222,
              "#7201a8"
             ],
             [
              0.3333333333333333,
              "#9c179e"
             ],
             [
              0.4444444444444444,
              "#bd3786"
             ],
             [
              0.5555555555555556,
              "#d8576b"
             ],
             [
              0.6666666666666666,
              "#ed7953"
             ],
             [
              0.7777777777777778,
              "#fb9f3a"
             ],
             [
              0.8888888888888888,
              "#fdca26"
             ],
             [
              1,
              "#f0f921"
             ]
            ],
            "type": "contour"
           }
          ],
          "contourcarpet": [
           {
            "colorbar": {
             "outlinewidth": 0,
             "ticks": ""
            },
            "type": "contourcarpet"
           }
          ],
          "heatmap": [
           {
            "colorbar": {
             "outlinewidth": 0,
             "ticks": ""
            },
            "colorscale": [
             [
              0,
              "#0d0887"
             ],
             [
              0.1111111111111111,
              "#46039f"
             ],
             [
              0.2222222222222222,
              "#7201a8"
             ],
             [
              0.3333333333333333,
              "#9c179e"
             ],
             [
              0.4444444444444444,
              "#bd3786"
             ],
             [
              0.5555555555555556,
              "#d8576b"
             ],
             [
              0.6666666666666666,
              "#ed7953"
             ],
             [
              0.7777777777777778,
              "#fb9f3a"
             ],
             [
              0.8888888888888888,
              "#fdca26"
             ],
             [
              1,
              "#f0f921"
             ]
            ],
            "type": "heatmap"
           }
          ],
          "heatmapgl": [
           {
            "colorbar": {
             "outlinewidth": 0,
             "ticks": ""
            },
            "colorscale": [
             [
              0,
              "#0d0887"
             ],
             [
              0.1111111111111111,
              "#46039f"
             ],
             [
              0.2222222222222222,
              "#7201a8"
             ],
             [
              0.3333333333333333,
              "#9c179e"
             ],
             [
              0.4444444444444444,
              "#bd3786"
             ],
             [
              0.5555555555555556,
              "#d8576b"
             ],
             [
              0.6666666666666666,
              "#ed7953"
             ],
             [
              0.7777777777777778,
              "#fb9f3a"
             ],
             [
              0.8888888888888888,
              "#fdca26"
             ],
             [
              1,
              "#f0f921"
             ]
            ],
            "type": "heatmapgl"
           }
          ],
          "histogram": [
           {
            "marker": {
             "pattern": {
              "fillmode": "overlay",
              "size": 10,
              "solidity": 0.2
             }
            },
            "type": "histogram"
           }
          ],
          "histogram2d": [
           {
            "colorbar": {
             "outlinewidth": 0,
             "ticks": ""
            },
            "colorscale": [
             [
              0,
              "#0d0887"
             ],
             [
              0.1111111111111111,
              "#46039f"
             ],
             [
              0.2222222222222222,
              "#7201a8"
             ],
             [
              0.3333333333333333,
              "#9c179e"
             ],
             [
              0.4444444444444444,
              "#bd3786"
             ],
             [
              0.5555555555555556,
              "#d8576b"
             ],
             [
              0.6666666666666666,
              "#ed7953"
             ],
             [
              0.7777777777777778,
              "#fb9f3a"
             ],
             [
              0.8888888888888888,
              "#fdca26"
             ],
             [
              1,
              "#f0f921"
             ]
            ],
            "type": "histogram2d"
           }
          ],
          "histogram2dcontour": [
           {
            "colorbar": {
             "outlinewidth": 0,
             "ticks": ""
            },
            "colorscale": [
             [
              0,
              "#0d0887"
             ],
             [
              0.1111111111111111,
              "#46039f"
             ],
             [
              0.2222222222222222,
              "#7201a8"
             ],
             [
              0.3333333333333333,
              "#9c179e"
             ],
             [
              0.4444444444444444,
              "#bd3786"
             ],
             [
              0.5555555555555556,
              "#d8576b"
             ],
             [
              0.6666666666666666,
              "#ed7953"
             ],
             [
              0.7777777777777778,
              "#fb9f3a"
             ],
             [
              0.8888888888888888,
              "#fdca26"
             ],
             [
              1,
              "#f0f921"
             ]
            ],
            "type": "histogram2dcontour"
           }
          ],
          "mesh3d": [
           {
            "colorbar": {
             "outlinewidth": 0,
             "ticks": ""
            },
            "type": "mesh3d"
           }
          ],
          "parcoords": [
           {
            "line": {
             "colorbar": {
              "outlinewidth": 0,
              "ticks": ""
             }
            },
            "type": "parcoords"
           }
          ],
          "pie": [
           {
            "automargin": true,
            "type": "pie"
           }
          ],
          "scatter": [
           {
            "fillpattern": {
             "fillmode": "overlay",
             "size": 10,
             "solidity": 0.2
            },
            "type": "scatter"
           }
          ],
          "scatter3d": [
           {
            "line": {
             "colorbar": {
              "outlinewidth": 0,
              "ticks": ""
             }
            },
            "marker": {
             "colorbar": {
              "outlinewidth": 0,
              "ticks": ""
             }
            },
            "type": "scatter3d"
           }
          ],
          "scattercarpet": [
           {
            "marker": {
             "colorbar": {
              "outlinewidth": 0,
              "ticks": ""
             }
            },
            "type": "scattercarpet"
           }
          ],
          "scattergeo": [
           {
            "marker": {
             "colorbar": {
              "outlinewidth": 0,
              "ticks": ""
             }
            },
            "type": "scattergeo"
           }
          ],
          "scattergl": [
           {
            "marker": {
             "colorbar": {
              "outlinewidth": 0,
              "ticks": ""
             }
            },
            "type": "scattergl"
           }
          ],
          "scattermapbox": [
           {
            "marker": {
             "colorbar": {
              "outlinewidth": 0,
              "ticks": ""
             }
            },
            "type": "scattermapbox"
           }
          ],
          "scatterpolar": [
           {
            "marker": {
             "colorbar": {
              "outlinewidth": 0,
              "ticks": ""
             }
            },
            "type": "scatterpolar"
           }
          ],
          "scatterpolargl": [
           {
            "marker": {
             "colorbar": {
              "outlinewidth": 0,
              "ticks": ""
             }
            },
            "type": "scatterpolargl"
           }
          ],
          "scatterternary": [
           {
            "marker": {
             "colorbar": {
              "outlinewidth": 0,
              "ticks": ""
             }
            },
            "type": "scatterternary"
           }
          ],
          "surface": [
           {
            "colorbar": {
             "outlinewidth": 0,
             "ticks": ""
            },
            "colorscale": [
             [
              0,
              "#0d0887"
             ],
             [
              0.1111111111111111,
              "#46039f"
             ],
             [
              0.2222222222222222,
              "#7201a8"
             ],
             [
              0.3333333333333333,
              "#9c179e"
             ],
             [
              0.4444444444444444,
              "#bd3786"
             ],
             [
              0.5555555555555556,
              "#d8576b"
             ],
             [
              0.6666666666666666,
              "#ed7953"
             ],
             [
              0.7777777777777778,
              "#fb9f3a"
             ],
             [
              0.8888888888888888,
              "#fdca26"
             ],
             [
              1,
              "#f0f921"
             ]
            ],
            "type": "surface"
           }
          ],
          "table": [
           {
            "cells": {
             "fill": {
              "color": "#EBF0F8"
             },
             "line": {
              "color": "white"
             }
            },
            "header": {
             "fill": {
              "color": "#C8D4E3"
             },
             "line": {
              "color": "white"
             }
            },
            "type": "table"
           }
          ]
         },
         "layout": {
          "annotationdefaults": {
           "arrowcolor": "#2a3f5f",
           "arrowhead": 0,
           "arrowwidth": 1
          },
          "autotypenumbers": "strict",
          "coloraxis": {
           "colorbar": {
            "outlinewidth": 0,
            "ticks": ""
           }
          },
          "colorscale": {
           "diverging": [
            [
             0,
             "#8e0152"
            ],
            [
             0.1,
             "#c51b7d"
            ],
            [
             0.2,
             "#de77ae"
            ],
            [
             0.3,
             "#f1b6da"
            ],
            [
             0.4,
             "#fde0ef"
            ],
            [
             0.5,
             "#f7f7f7"
            ],
            [
             0.6,
             "#e6f5d0"
            ],
            [
             0.7,
             "#b8e186"
            ],
            [
             0.8,
             "#7fbc41"
            ],
            [
             0.9,
             "#4d9221"
            ],
            [
             1,
             "#276419"
            ]
           ],
           "sequential": [
            [
             0,
             "#0d0887"
            ],
            [
             0.1111111111111111,
             "#46039f"
            ],
            [
             0.2222222222222222,
             "#7201a8"
            ],
            [
             0.3333333333333333,
             "#9c179e"
            ],
            [
             0.4444444444444444,
             "#bd3786"
            ],
            [
             0.5555555555555556,
             "#d8576b"
            ],
            [
             0.6666666666666666,
             "#ed7953"
            ],
            [
             0.7777777777777778,
             "#fb9f3a"
            ],
            [
             0.8888888888888888,
             "#fdca26"
            ],
            [
             1,
             "#f0f921"
            ]
           ],
           "sequentialminus": [
            [
             0,
             "#0d0887"
            ],
            [
             0.1111111111111111,
             "#46039f"
            ],
            [
             0.2222222222222222,
             "#7201a8"
            ],
            [
             0.3333333333333333,
             "#9c179e"
            ],
            [
             0.4444444444444444,
             "#bd3786"
            ],
            [
             0.5555555555555556,
             "#d8576b"
            ],
            [
             0.6666666666666666,
             "#ed7953"
            ],
            [
             0.7777777777777778,
             "#fb9f3a"
            ],
            [
             0.8888888888888888,
             "#fdca26"
            ],
            [
             1,
             "#f0f921"
            ]
           ]
          },
          "colorway": [
           "#636efa",
           "#EF553B",
           "#00cc96",
           "#ab63fa",
           "#FFA15A",
           "#19d3f3",
           "#FF6692",
           "#B6E880",
           "#FF97FF",
           "#FECB52"
          ],
          "font": {
           "color": "#2a3f5f"
          },
          "geo": {
           "bgcolor": "white",
           "lakecolor": "white",
           "landcolor": "#E5ECF6",
           "showlakes": true,
           "showland": true,
           "subunitcolor": "white"
          },
          "hoverlabel": {
           "align": "left"
          },
          "hovermode": "closest",
          "mapbox": {
           "style": "light"
          },
          "paper_bgcolor": "white",
          "plot_bgcolor": "#E5ECF6",
          "polar": {
           "angularaxis": {
            "gridcolor": "white",
            "linecolor": "white",
            "ticks": ""
           },
           "bgcolor": "#E5ECF6",
           "radialaxis": {
            "gridcolor": "white",
            "linecolor": "white",
            "ticks": ""
           }
          },
          "scene": {
           "xaxis": {
            "backgroundcolor": "#E5ECF6",
            "gridcolor": "white",
            "gridwidth": 2,
            "linecolor": "white",
            "showbackground": true,
            "ticks": "",
            "zerolinecolor": "white"
           },
           "yaxis": {
            "backgroundcolor": "#E5ECF6",
            "gridcolor": "white",
            "gridwidth": 2,
            "linecolor": "white",
            "showbackground": true,
            "ticks": "",
            "zerolinecolor": "white"
           },
           "zaxis": {
            "backgroundcolor": "#E5ECF6",
            "gridcolor": "white",
            "gridwidth": 2,
            "linecolor": "white",
            "showbackground": true,
            "ticks": "",
            "zerolinecolor": "white"
           }
          },
          "shapedefaults": {
           "line": {
            "color": "#2a3f5f"
           }
          },
          "ternary": {
           "aaxis": {
            "gridcolor": "white",
            "linecolor": "white",
            "ticks": ""
           },
           "baxis": {
            "gridcolor": "white",
            "linecolor": "white",
            "ticks": ""
           },
           "bgcolor": "#E5ECF6",
           "caxis": {
            "gridcolor": "white",
            "linecolor": "white",
            "ticks": ""
           }
          },
          "title": {
           "x": 0.05
          },
          "xaxis": {
           "automargin": true,
           "gridcolor": "white",
           "linecolor": "white",
           "ticks": "",
           "title": {
            "standoff": 15
           },
           "zerolinecolor": "white",
           "zerolinewidth": 2
          },
          "yaxis": {
           "automargin": true,
           "gridcolor": "white",
           "linecolor": "white",
           "ticks": "",
           "title": {
            "standoff": 15
           },
           "zerolinecolor": "white",
           "zerolinewidth": 2
          }
         }
        },
        "xaxis": {
         "anchor": "y",
         "gridcolor": "rgba(0,0,0,0.1)",
         "mirror": "ticks",
         "nticks": 8,
         "showgrid": true,
         "showline": true,
         "side": "bottom",
         "tickfont": {
          "size": 16
         },
         "ticks": "inside",
         "title": {
          "font": {
           "color": "#000000",
           "size": 20
          },
          "text": "Composition (fraction)"
         },
         "type": "linear",
         "zeroline": false
        },
        "yaxis": {
         "anchor": "x",
         "gridcolor": "rgba(0,0,0,0.1)",
         "mirror": "ticks",
         "showgrid": true,
         "showline": true,
         "side": "left",
         "tickfont": {
          "size": 16
         },
         "ticks": "inside",
         "title": {
          "font": {
           "color": "#000000",
           "size": 20
          },
          "text": "Formation energy (eV/atom)"
         },
         "type": "linear"
        }
       }
      }
     },
     "metadata": {},
     "output_type": "display_data"
    },
    {
     "name": "stdout",
     "output_type": "stream",
     "text": [
      "Al-Cu: MAE = 23.600196630926895\n",
      "Al: H_fusion = 10710.0 J/mol, T_fusion = 933.5 K, T_vaporization = 2792.15 K\n",
      "Cu: H_fusion = 13260.0 J/mol, T_fusion = 1357.77 K, T_vaporization = 2835.15 K\n",
      "\n",
      "Loading JSON from cache.\n",
      "reading MPDS liquidus from entry at https://mpds.io/entry/C903362...\n",
      "\n"
     ]
    },
    {
     "data": {
      "application/vnd.plotly.v1+json": {
       "config": {
        "plotlyServerURL": "https://plot.ly"
       },
       "data": [
        {
         "line": {
          "color": "#B82E2E",
          "dash": "dash",
          "width": 4
         },
         "mode": "lines",
         "showlegend": false,
         "type": "scatter",
         "x": [
          0.0381243,
          2.89787025,
          5.757616200000001,
          8.61736215,
          11.4771081,
          14.33685405,
          17.1966,
          17.9851,
          18.8,
          19.6233,
          20.4563,
          21.3002,
          22.1563,
          23.0258,
          23.91,
          24.8099,
          25.727,
          26.6624,
          27.617399999999996,
          28.5931,
          29.5908,
          30.6117,
          31.6571,
          32.7125,
          32.889,
          33.0812,
          33.278,
          33.4795,
          33.6858,
          33.897,
          34.1134,
          34.3348,
          34.5616,
          34.7938,
          35.0315,
          35.2748,
          35.5239,
          35.7789,
          36.0398,
          36.3068,
          36.5733,
          37.4717,
          38.3839,
          39.3036,
          40.2298,
          41.161,
          42.096,
          43.0335,
          43.9721,
          44.9106,
          45.8476,
          46.7819,
          47.7121,
          48.637,
          49.5552,
          50.4655,
          51.3665,
          52.2562,
          52.7497,
          53.23709999999999,
          53.7181,
          54.19350000000001,
          54.66380000000001,
          55.1296,
          55.5916,
          56.0503,
          56.5064,
          56.9605,
          57.41309999999999,
          57.865,
          58.316599999999994,
          58.76870000000001,
          59.2218,
          59.6766,
          60.1318,
          60.45120000000001,
          60.775400000000005,
          61.1027,
          61.4333,
          61.767300000000006,
          62.104899999999994,
          62.4463,
          62.7916,
          63.141000000000005,
          63.4947,
          63.8528,
          64.2155,
          64.583,
          64.9554,
          65.3328,
          65.7156,
          66.1034,
          66.2601,
          66.429,
          66.6075,
          66.7947,
          66.9896,
          67.1914,
          67.3992,
          67.612,
          67.829,
          68.0493,
          68.272,
          68.4961,
          68.7208,
          68.9452,
          69.1684,
          69.3894,
          69.606,
          69.9556,
          70.3091,
          70.6641,
          71.0203,
          71.3771,
          71.7342,
          72.0912,
          72.4476,
          72.8031,
          73.1572,
          73.5095,
          73.8595,
          74.2069,
          74.5513,
          74.8922,
          75.2292,
          75.5619,
          76.0193,
          76.4749,
          76.9287,
          77.3808,
          77.8312,
          78.28,
          78.7274,
          79.1735,
          79.6182,
          80.0618,
          80.5043,
          80.9458,
          81.3864,
          81.8263,
          82.2653,
          82.7038,
          83.1257,
          83.9345,
          84.7778,
          85.6406,
          86.5233,
          87.4262,
          88.3499,
          89.2948,
          90.2612,
          91.2496,
          92.2603,
          93.2939,
          94.3508,
          95.4312,
          96.5358,
          97.6647,
          98.8186,
          99.9619
         ],
         "y": [
          661.098,
          642.2486666666666,
          623.3993333333333,
          604.55,
          585.7006666666666,
          566.8513333333333,
          548.002,
          551.897,
          555.769,
          559.508,
          563.102,
          566.536,
          569.796,
          572.87,
          575.743,
          578.402,
          580.832,
          583.022,
          584.956,
          586.621,
          588.003,
          589.09,
          589.866,
          590.312,
          592.323,
          594.431,
          596.51,
          598.56,
          600.582,
          602.575,
          604.541,
          606.478,
          608.388,
          610.271,
          612.126,
          613.954,
          615.756,
          617.532,
          619.281,
          621.004,
          622.66,
          635.6,
          648.71,
          661.905,
          675.17,
          688.488,
          701.844,
          715.221,
          728.603,
          741.974,
          755.3179999999999,
          768.619,
          781.861,
          795.0270000000002,
          808.102,
          821.07,
          833.9139999999999,
          846.6079999999998,
          854.648,
          862.552,
          870.301,
          877.8860000000001,
          885.2979999999999,
          892.5299999999999,
          899.574,
          906.42,
          913.0600000000001,
          919.486,
          925.689,
          931.6619999999999,
          937.3950000000001,
          942.881,
          948.111,
          953.0760000000001,
          957.7489999999999,
          962.0310000000001,
          966.284,
          970.4809999999999,
          974.619,
          978.6940000000001,
          982.7039999999998,
          986.647,
          990.5169999999999,
          994.314,
          998.034,
          1001.67,
          1005.2300000000001,
          1008.6999999999999,
          1012.08,
          1015.37,
          1018.57,
          1021.66,
          1022.9600000000002,
          1024.2399999999998,
          1025.4699999999998,
          1026.6599999999999,
          1027.7999999999997,
          1028.9,
          1029.94,
          1030.94,
          1031.88,
          1032.77,
          1033.6099999999997,
          1034.38,
          1035.1,
          1035.7599999999998,
          1036.35,
          1036.88,
          1037.3399999999997,
          1038.3899999999999,
          1039.38,
          1040.31,
          1041.19,
          1042.0099999999998,
          1042.77,
          1043.46,
          1044.1,
          1044.67,
          1045.1799999999998,
          1045.63,
          1046.0099999999998,
          1046.3199999999997,
          1046.56,
          1046.7399999999998,
          1046.85,
          1046.88,
          1046.8199999999997,
          1046.6399999999999,
          1046.33,
          1045.92,
          1045.3899999999999,
          1044.7599999999998,
          1044.0299999999997,
          1043.1999999999998,
          1042.27,
          1041.2599999999998,
          1040.17,
          1038.9899999999998,
          1037.7399999999998,
          1036.42,
          1035.0299999999997,
          1033.58,
          1032.12,
          1037.0299999999997,
          1041.85,
          1046.4899999999998,
          1050.92,
          1055.15,
          1059.1399999999999,
          1062.9,
          1066.42,
          1069.67,
          1072.6399999999999,
          1075.33,
          1077.73,
          1079.81,
          1081.5699999999997,
          1082.9899999999998,
          1084.0699999999997,
          1084.77
         ]
        },
        {
         "hovertemplate": "label=Al2Cu<br>x=%{x}<br>t=%{y}<extra></extra>",
         "legendgroup": "Al2Cu",
         "line": {
          "color": "rgb(246, 207, 113)",
          "dash": "solid",
          "width": 4
         },
         "marker": {
          "symbol": "circle"
         },
         "mode": "lines",
         "name": "Al2Cu",
         "orientation": "v",
         "showlegend": false,
         "type": "scatter",
         "x": [
          33,
          33,
          33,
          33,
          33,
          33,
          33,
          33,
          33,
          33,
          33,
          33,
          33,
          33,
          33,
          33,
          33,
          33,
          33,
          33,
          33,
          33,
          33,
          33,
          33
         ],
         "xaxis": "x",
         "y": [
          600.9808808227107,
          529.9580964242751,
          535.8827919742888,
          522.8449121301652,
          523.9536671983072,
          598.4210661938005,
          599.7329401340442,
          600.6063924269882,
          552.9872076637167,
          558.3829589239629,
          568.5441440578414,
          563.5786309476861,
          585.5170161388808,
          581.7628245033633,
          596.6738840964617,
          594.4979635556481,
          588.9040570893234,
          591.9034456062726,
          601.0415619781932,
          601.0415619781932,
          547.4206294235224,
          541.7108120090194,
          573.2493841431661,
          577.6649471438373,
          -273.15
         ],
         "yaxis": "y"
        },
        {
         "hovertemplate": "label=AlCu<br>x=%{x}<br>t=%{y}<extra></extra>",
         "legendgroup": "AlCu",
         "line": {
          "color": "rgb(248, 156, 116)",
          "dash": "solid",
          "width": 4
         },
         "marker": {
          "symbol": "circle"
         },
         "mode": "lines",
         "name": "AlCu",
         "orientation": "v",
         "showlegend": false,
         "type": "scatter",
         "x": [
          50,
          50,
          50,
          50,
          50,
          50,
          50,
          50,
          50,
          50,
          50,
          50,
          50,
          50
         ],
         "xaxis": "x",
         "y": [
          640.6708220501017,
          600.9808808227107,
          664.2159522277391,
          621.911999843468,
          607.5398167796666,
          614.8850360538378,
          646.0316518315317,
          650.8986360135318,
          655.2503839281657,
          634.8424651378822,
          628.5776712289988,
          662.3471858115258,
          659.0704450128025,
          -273.15
         ],
         "yaxis": "y"
        },
        {
         "hovertemplate": "label=Al4Cu9<br>x=%{x}<br>t=%{y}<extra></extra>",
         "legendgroup": "Al4Cu9",
         "line": {
          "color": "rgb(220, 176, 242)",
          "dash": "solid",
          "width": 4
         },
         "marker": {
          "symbol": "circle"
         },
         "mode": "lines",
         "name": "Al4Cu9",
         "orientation": "v",
         "showlegend": false,
         "type": "scatter",
         "x": [
          69,
          69,
          69,
          69,
          69,
          69,
          69,
          69,
          69,
          69,
          69,
          69
         ],
         "xaxis": "x",
         "y": [
          826.9832270022738,
          664.2159522277391,
          670.496813311886,
          798.7753382114864,
          814.1847740346606,
          747.2183589091621,
          690.1136092569363,
          782.412641841945,
          765.1901885410247,
          728.6222488734867,
          709.5388370061581,
          -273.15
         ],
         "yaxis": "y"
        },
        {
         "hovertemplate": "label=AlCu3<br>x=%{x}<br>t=%{y}<extra></extra>",
         "legendgroup": "AlCu3",
         "line": {
          "color": "rgb(135, 197, 95)",
          "dash": "solid",
          "width": 4
         },
         "marker": {
          "symbol": "circle"
         },
         "mode": "lines",
         "name": "AlCu3",
         "orientation": "v",
         "showlegend": false,
         "type": "scatter",
         "x": [
          75,
          75,
          75,
          75,
          75,
          75,
          75,
          75,
          75,
          75,
          75,
          75,
          75,
          75,
          75,
          75,
          75,
          75,
          75,
          75,
          75,
          75,
          75,
          75,
          75,
          75,
          75,
          75,
          75,
          75,
          75,
          75,
          75,
          75,
          75,
          75,
          75,
          75
         ],
         "xaxis": "x",
         "y": [
          826.9832270022738,
          1040.3190426668584,
          829.8911563374503,
          972.4399405921371,
          1044.4484551800574,
          1042.2620882402798,
          1035.355901285202,
          1039.269404674414,
          1045.9382731016867,
          1046.8356710695748,
          1047.238603251601,
          878.671257709765,
          854.9724758746275,
          900.8343343620587,
          921.347954266572,
          957.1689315857515,
          940.1380877644152,
          1008.1280716535531,
          1016.9063197184988,
          1030.4036848607352,
          1024.2933316305625,
          997.8516098597032,
          985.9817805214458,
          1046.9207558193584,
          1047.238603251601,
          1040.5248961517232,
          1041.1175242404556,
          1040.7407673255138,
          1046.3638155538292,
          1043.9551098230882,
          1043.1091226119133,
          1040.4243159665507,
          1040.4434716593464,
          1041.65330253728,
          1042.3280020822008,
          1044.817207840113,
          1045.6404033053182,
          -273.15
         ],
         "yaxis": "y"
        },
        {
         "hovertemplate": "x=%{x}<br>y=%{y}<extra></extra>",
         "legendgroup": "",
         "line": {
          "color": "Silver",
          "dash": "solid",
          "width": 4
         },
         "marker": {
          "symbol": "circle"
         },
         "mode": "lines",
         "name": "",
         "orientation": "v",
         "showlegend": false,
         "type": "scatter",
         "x": [
          33,
          34,
          50
         ],
         "xaxis": "x",
         "y": [
          600.9808808227107,
          600.9808808227107,
          600.9808808227107
         ],
         "yaxis": "y"
        },
        {
         "hovertemplate": "x=%{x}<br>y=%{y}<extra></extra>",
         "legendgroup": "",
         "line": {
          "color": "Silver",
          "dash": "solid",
          "width": 4
         },
         "marker": {
          "symbol": "circle"
         },
         "mode": "lines",
         "name": "",
         "orientation": "v",
         "showlegend": false,
         "type": "scatter",
         "x": [
          0,
          12,
          33
         ],
         "xaxis": "x",
         "y": [
          522.8449121301652,
          522.8449121301652,
          522.8449121301652
         ],
         "yaxis": "y"
        },
        {
         "hovertemplate": "x=%{x}<br>y=%{y}<extra></extra>",
         "legendgroup": "",
         "line": {
          "color": "Silver",
          "dash": "solid",
          "width": 4
         },
         "marker": {
          "symbol": "circle"
         },
         "mode": "lines",
         "name": "",
         "orientation": "v",
         "showlegend": false,
         "type": "scatter",
         "x": [
          75,
          89,
          100
         ],
         "xaxis": "x",
         "y": [
          1040.3190426668584,
          1040.3190426668584,
          1040.3190426668584
         ],
         "yaxis": "y"
        },
        {
         "hovertemplate": "x=%{x}<br>y=%{y}<extra></extra>",
         "legendgroup": "",
         "line": {
          "color": "Silver",
          "dash": "solid",
          "width": 4
         },
         "marker": {
          "symbol": "circle"
         },
         "mode": "lines",
         "name": "",
         "orientation": "v",
         "showlegend": false,
         "type": "scatter",
         "x": [
          54,
          69,
          75
         ],
         "xaxis": "x",
         "y": [
          826.9832270022738,
          826.9832270022738,
          826.9832270022738
         ],
         "yaxis": "y"
        },
        {
         "hovertemplate": "x=%{x}<br>y=%{y}<extra></extra>",
         "legendgroup": "",
         "line": {
          "color": "Silver",
          "dash": "solid",
          "width": 4
         },
         "marker": {
          "symbol": "circle"
         },
         "mode": "lines",
         "name": "",
         "orientation": "v",
         "showlegend": false,
         "type": "scatter",
         "x": [
          45,
          50,
          69
         ],
         "xaxis": "x",
         "y": [
          664.2159522277391,
          664.2159522277391,
          664.2159522277391
         ],
         "yaxis": "y"
        },
        {
         "hovertemplate": "label=L<br>x=%{x}<br>t=%{y}<extra></extra>",
         "legendgroup": "L",
         "line": {
          "color": "cornflowerblue",
          "dash": "solid",
          "width": 4
         },
         "marker": {
          "symbol": "circle"
         },
         "mode": "lines",
         "name": "L",
         "orientation": "v",
         "showlegend": false,
         "type": "scatter",
         "x": [
          0,
          0,
          1,
          2,
          3,
          4,
          5,
          6,
          7.000000000000001,
          8,
          9,
          10,
          11,
          12,
          13,
          14.000000000000002,
          15,
          16,
          17,
          18,
          19,
          20,
          21,
          22,
          23,
          24,
          25,
          26,
          27,
          28.000000000000004,
          28.999999999999996,
          30,
          31,
          32,
          33,
          34,
          35,
          36,
          37,
          38,
          39,
          40,
          41,
          42,
          43,
          44,
          45,
          46,
          47,
          48,
          49,
          50,
          51,
          52,
          53,
          54,
          55.00000000000001,
          56.00000000000001,
          57.00000000000001,
          57.99999999999999,
          59,
          60,
          61,
          62,
          63,
          64,
          65,
          66,
          67,
          68,
          69,
          70,
          71,
          72,
          73,
          74,
          75,
          76,
          77,
          78,
          79,
          80,
          81,
          82,
          83,
          84,
          85,
          86,
          87,
          88,
          89,
          90,
          91,
          92,
          93,
          94,
          95,
          96,
          97,
          98,
          99,
          100,
          100
         ],
         "xaxis": "x",
         "y": [
          661.0979999999998,
          661.0979999999998,
          649.9723287976115,
          639.7202842629348,
          628.5366466146137,
          616.6188570234866,
          604.2375171742956,
          591.6483798559457,
          579.0699021263538,
          566.6766220000906,
          554.5995672429957,
          542.9303501849428,
          531.7270056663425,
          522.8449121301652,
          523.9536671983072,
          529.9580964242751,
          535.8827919742888,
          541.7108120090194,
          547.4206294235224,
          552.9872076637167,
          558.3829589239629,
          563.5786309476861,
          568.5441440578414,
          573.2493841431661,
          577.6649471438373,
          581.7628245033633,
          585.5170161388808,
          588.9040570893234,
          591.9034456062726,
          594.4979635556481,
          596.6738840964617,
          598.4210661938005,
          599.7329401340442,
          600.6063924269882,
          601.0415619781932,
          600.9808808227107,
          607.5398167796666,
          614.8850360538378,
          621.911999843468,
          628.5776712289988,
          634.8424651378822,
          640.6708220501017,
          646.0316518315317,
          650.8986360135318,
          655.2503839281657,
          659.0704450128025,
          662.3471858115258,
          670.496813311886,
          690.1136092569363,
          709.5388370061581,
          728.6222488734867,
          747.2183589091621,
          765.1901885410247,
          782.412641841945,
          798.7753382114864,
          814.1847740346606,
          829.8911563374503,
          854.9724758746275,
          878.671257709765,
          900.8343343620587,
          921.347954266572,
          940.1380877644152,
          957.1689315857515,
          972.4399405921371,
          985.9817805214458,
          997.8516098597032,
          1008.1280716535531,
          1016.9063197184988,
          1024.2933316305625,
          1030.4036848607352,
          1035.355901285202,
          1039.269404674414,
          1042.2620882402798,
          1044.4484551800574,
          1045.9382731016867,
          1046.8356710695748,
          1047.238603251601,
          1046.9207558193584,
          1046.3638155538292,
          1045.6404033053182,
          1044.817207840113,
          1043.9551098230882,
          1043.1091226119133,
          1042.3280020822008,
          1041.65330253728,
          1041.1175242404556,
          1040.7407673255138,
          1040.5248961517232,
          1040.4434716593464,
          1040.4243159665507,
          1040.3190426668584,
          1040.3192071629264,
          1040.708176064105,
          1041.5081671458433,
          1042.8538982104242,
          1044.875464996067,
          1047.707883710465,
          1051.5013897016365,
          1056.436281804758,
          1062.7555065355705,
          1070.8991253765412,
          1084.77,
          1084.77
         ],
         "yaxis": "y"
        },
        {
         "line": {
          "color": "#B82E2E",
          "dash": "dash"
         },
         "mode": "lines",
         "name": "Digitized Liquidus",
         "showlegend": true,
         "type": "scatter",
         "x": [
          null
         ],
         "y": [
          null
         ]
        },
        {
         "marker": {
          "color": "cornflowerblue"
         },
         "mode": "lines",
         "name": "Fitted Liquidus",
         "showlegend": true,
         "type": "scatter",
         "x": [
          null
         ],
         "y": [
          null
         ]
        }
       ],
       "layout": {
        "annotations": [
         {
          "borderpad": 5,
          "font": {
           "color": "black",
           "size": 18
          },
          "showarrow": false,
          "text": "Al2Cu",
          "textangle": -90,
          "x": 30.5,
          "y": 300,
          "yanchor": "bottom"
         },
         {
          "borderpad": 5,
          "font": {
           "color": "black",
           "size": 18
          },
          "showarrow": false,
          "text": "AlCu",
          "textangle": -90,
          "x": 47.5,
          "y": 300,
          "yanchor": "bottom"
         },
         {
          "borderpad": 5,
          "font": {
           "color": "black",
           "size": 18
          },
          "showarrow": false,
          "text": "Al4Cu9",
          "textangle": -90,
          "x": 66.5,
          "y": 300,
          "yanchor": "bottom"
         },
         {
          "borderpad": 5,
          "font": {
           "color": "black",
           "size": 18
          },
          "showarrow": false,
          "text": "AlCu3",
          "textangle": -90,
          "x": 72.5,
          "y": 300,
          "yanchor": "bottom"
         },
         {
          "font": {
           "color": "black",
           "size": 18
          },
          "showarrow": false,
          "text": "L",
          "x": 50,
          "y": 1116
         }
        ],
        "font": {
         "size": 22
        },
        "height": 700,
        "legend": {
         "font": {
          "size": 18
         },
         "x": 0.01,
         "xanchor": "left",
         "y": 0.99,
         "yanchor": "top"
        },
        "plot_bgcolor": "white",
        "showlegend": true,
        "template": {
         "data": {
          "bar": [
           {
            "error_x": {
             "color": "#2a3f5f"
            },
            "error_y": {
             "color": "#2a3f5f"
            },
            "marker": {
             "line": {
              "color": "#E5ECF6",
              "width": 0.5
             },
             "pattern": {
              "fillmode": "overlay",
              "size": 10,
              "solidity": 0.2
             }
            },
            "type": "bar"
           }
          ],
          "barpolar": [
           {
            "marker": {
             "line": {
              "color": "#E5ECF6",
              "width": 0.5
             },
             "pattern": {
              "fillmode": "overlay",
              "size": 10,
              "solidity": 0.2
             }
            },
            "type": "barpolar"
           }
          ],
          "carpet": [
           {
            "aaxis": {
             "endlinecolor": "#2a3f5f",
             "gridcolor": "white",
             "linecolor": "white",
             "minorgridcolor": "white",
             "startlinecolor": "#2a3f5f"
            },
            "baxis": {
             "endlinecolor": "#2a3f5f",
             "gridcolor": "white",
             "linecolor": "white",
             "minorgridcolor": "white",
             "startlinecolor": "#2a3f5f"
            },
            "type": "carpet"
           }
          ],
          "choropleth": [
           {
            "colorbar": {
             "outlinewidth": 0,
             "ticks": ""
            },
            "type": "choropleth"
           }
          ],
          "contour": [
           {
            "colorbar": {
             "outlinewidth": 0,
             "ticks": ""
            },
            "colorscale": [
             [
              0,
              "#0d0887"
             ],
             [
              0.1111111111111111,
              "#46039f"
             ],
             [
              0.2222222222222222,
              "#7201a8"
             ],
             [
              0.3333333333333333,
              "#9c179e"
             ],
             [
              0.4444444444444444,
              "#bd3786"
             ],
             [
              0.5555555555555556,
              "#d8576b"
             ],
             [
              0.6666666666666666,
              "#ed7953"
             ],
             [
              0.7777777777777778,
              "#fb9f3a"
             ],
             [
              0.8888888888888888,
              "#fdca26"
             ],
             [
              1,
              "#f0f921"
             ]
            ],
            "type": "contour"
           }
          ],
          "contourcarpet": [
           {
            "colorbar": {
             "outlinewidth": 0,
             "ticks": ""
            },
            "type": "contourcarpet"
           }
          ],
          "heatmap": [
           {
            "colorbar": {
             "outlinewidth": 0,
             "ticks": ""
            },
            "colorscale": [
             [
              0,
              "#0d0887"
             ],
             [
              0.1111111111111111,
              "#46039f"
             ],
             [
              0.2222222222222222,
              "#7201a8"
             ],
             [
              0.3333333333333333,
              "#9c179e"
             ],
             [
              0.4444444444444444,
              "#bd3786"
             ],
             [
              0.5555555555555556,
              "#d8576b"
             ],
             [
              0.6666666666666666,
              "#ed7953"
             ],
             [
              0.7777777777777778,
              "#fb9f3a"
             ],
             [
              0.8888888888888888,
              "#fdca26"
             ],
             [
              1,
              "#f0f921"
             ]
            ],
            "type": "heatmap"
           }
          ],
          "heatmapgl": [
           {
            "colorbar": {
             "outlinewidth": 0,
             "ticks": ""
            },
            "colorscale": [
             [
              0,
              "#0d0887"
             ],
             [
              0.1111111111111111,
              "#46039f"
             ],
             [
              0.2222222222222222,
              "#7201a8"
             ],
             [
              0.3333333333333333,
              "#9c179e"
             ],
             [
              0.4444444444444444,
              "#bd3786"
             ],
             [
              0.5555555555555556,
              "#d8576b"
             ],
             [
              0.6666666666666666,
              "#ed7953"
             ],
             [
              0.7777777777777778,
              "#fb9f3a"
             ],
             [
              0.8888888888888888,
              "#fdca26"
             ],
             [
              1,
              "#f0f921"
             ]
            ],
            "type": "heatmapgl"
           }
          ],
          "histogram": [
           {
            "marker": {
             "pattern": {
              "fillmode": "overlay",
              "size": 10,
              "solidity": 0.2
             }
            },
            "type": "histogram"
           }
          ],
          "histogram2d": [
           {
            "colorbar": {
             "outlinewidth": 0,
             "ticks": ""
            },
            "colorscale": [
             [
              0,
              "#0d0887"
             ],
             [
              0.1111111111111111,
              "#46039f"
             ],
             [
              0.2222222222222222,
              "#7201a8"
             ],
             [
              0.3333333333333333,
              "#9c179e"
             ],
             [
              0.4444444444444444,
              "#bd3786"
             ],
             [
              0.5555555555555556,
              "#d8576b"
             ],
             [
              0.6666666666666666,
              "#ed7953"
             ],
             [
              0.7777777777777778,
              "#fb9f3a"
             ],
             [
              0.8888888888888888,
              "#fdca26"
             ],
             [
              1,
              "#f0f921"
             ]
            ],
            "type": "histogram2d"
           }
          ],
          "histogram2dcontour": [
           {
            "colorbar": {
             "outlinewidth": 0,
             "ticks": ""
            },
            "colorscale": [
             [
              0,
              "#0d0887"
             ],
             [
              0.1111111111111111,
              "#46039f"
             ],
             [
              0.2222222222222222,
              "#7201a8"
             ],
             [
              0.3333333333333333,
              "#9c179e"
             ],
             [
              0.4444444444444444,
              "#bd3786"
             ],
             [
              0.5555555555555556,
              "#d8576b"
             ],
             [
              0.6666666666666666,
              "#ed7953"
             ],
             [
              0.7777777777777778,
              "#fb9f3a"
             ],
             [
              0.8888888888888888,
              "#fdca26"
             ],
             [
              1,
              "#f0f921"
             ]
            ],
            "type": "histogram2dcontour"
           }
          ],
          "mesh3d": [
           {
            "colorbar": {
             "outlinewidth": 0,
             "ticks": ""
            },
            "type": "mesh3d"
           }
          ],
          "parcoords": [
           {
            "line": {
             "colorbar": {
              "outlinewidth": 0,
              "ticks": ""
             }
            },
            "type": "parcoords"
           }
          ],
          "pie": [
           {
            "automargin": true,
            "type": "pie"
           }
          ],
          "scatter": [
           {
            "fillpattern": {
             "fillmode": "overlay",
             "size": 10,
             "solidity": 0.2
            },
            "type": "scatter"
           }
          ],
          "scatter3d": [
           {
            "line": {
             "colorbar": {
              "outlinewidth": 0,
              "ticks": ""
             }
            },
            "marker": {
             "colorbar": {
              "outlinewidth": 0,
              "ticks": ""
             }
            },
            "type": "scatter3d"
           }
          ],
          "scattercarpet": [
           {
            "marker": {
             "colorbar": {
              "outlinewidth": 0,
              "ticks": ""
             }
            },
            "type": "scattercarpet"
           }
          ],
          "scattergeo": [
           {
            "marker": {
             "colorbar": {
              "outlinewidth": 0,
              "ticks": ""
             }
            },
            "type": "scattergeo"
           }
          ],
          "scattergl": [
           {
            "marker": {
             "colorbar": {
              "outlinewidth": 0,
              "ticks": ""
             }
            },
            "type": "scattergl"
           }
          ],
          "scattermapbox": [
           {
            "marker": {
             "colorbar": {
              "outlinewidth": 0,
              "ticks": ""
             }
            },
            "type": "scattermapbox"
           }
          ],
          "scatterpolar": [
           {
            "marker": {
             "colorbar": {
              "outlinewidth": 0,
              "ticks": ""
             }
            },
            "type": "scatterpolar"
           }
          ],
          "scatterpolargl": [
           {
            "marker": {
             "colorbar": {
              "outlinewidth": 0,
              "ticks": ""
             }
            },
            "type": "scatterpolargl"
           }
          ],
          "scatterternary": [
           {
            "marker": {
             "colorbar": {
              "outlinewidth": 0,
              "ticks": ""
             }
            },
            "type": "scatterternary"
           }
          ],
          "surface": [
           {
            "colorbar": {
             "outlinewidth": 0,
             "ticks": ""
            },
            "colorscale": [
             [
              0,
              "#0d0887"
             ],
             [
              0.1111111111111111,
              "#46039f"
             ],
             [
              0.2222222222222222,
              "#7201a8"
             ],
             [
              0.3333333333333333,
              "#9c179e"
             ],
             [
              0.4444444444444444,
              "#bd3786"
             ],
             [
              0.5555555555555556,
              "#d8576b"
             ],
             [
              0.6666666666666666,
              "#ed7953"
             ],
             [
              0.7777777777777778,
              "#fb9f3a"
             ],
             [
              0.8888888888888888,
              "#fdca26"
             ],
             [
              1,
              "#f0f921"
             ]
            ],
            "type": "surface"
           }
          ],
          "table": [
           {
            "cells": {
             "fill": {
              "color": "#EBF0F8"
             },
             "line": {
              "color": "white"
             }
            },
            "header": {
             "fill": {
              "color": "#C8D4E3"
             },
             "line": {
              "color": "white"
             }
            },
            "type": "table"
           }
          ]
         },
         "layout": {
          "annotationdefaults": {
           "arrowcolor": "#2a3f5f",
           "arrowhead": 0,
           "arrowwidth": 1
          },
          "autotypenumbers": "strict",
          "coloraxis": {
           "colorbar": {
            "outlinewidth": 0,
            "ticks": ""
           }
          },
          "colorscale": {
           "diverging": [
            [
             0,
             "#8e0152"
            ],
            [
             0.1,
             "#c51b7d"
            ],
            [
             0.2,
             "#de77ae"
            ],
            [
             0.3,
             "#f1b6da"
            ],
            [
             0.4,
             "#fde0ef"
            ],
            [
             0.5,
             "#f7f7f7"
            ],
            [
             0.6,
             "#e6f5d0"
            ],
            [
             0.7,
             "#b8e186"
            ],
            [
             0.8,
             "#7fbc41"
            ],
            [
             0.9,
             "#4d9221"
            ],
            [
             1,
             "#276419"
            ]
           ],
           "sequential": [
            [
             0,
             "#0d0887"
            ],
            [
             0.1111111111111111,
             "#46039f"
            ],
            [
             0.2222222222222222,
             "#7201a8"
            ],
            [
             0.3333333333333333,
             "#9c179e"
            ],
            [
             0.4444444444444444,
             "#bd3786"
            ],
            [
             0.5555555555555556,
             "#d8576b"
            ],
            [
             0.6666666666666666,
             "#ed7953"
            ],
            [
             0.7777777777777778,
             "#fb9f3a"
            ],
            [
             0.8888888888888888,
             "#fdca26"
            ],
            [
             1,
             "#f0f921"
            ]
           ],
           "sequentialminus": [
            [
             0,
             "#0d0887"
            ],
            [
             0.1111111111111111,
             "#46039f"
            ],
            [
             0.2222222222222222,
             "#7201a8"
            ],
            [
             0.3333333333333333,
             "#9c179e"
            ],
            [
             0.4444444444444444,
             "#bd3786"
            ],
            [
             0.5555555555555556,
             "#d8576b"
            ],
            [
             0.6666666666666666,
             "#ed7953"
            ],
            [
             0.7777777777777778,
             "#fb9f3a"
            ],
            [
             0.8888888888888888,
             "#fdca26"
            ],
            [
             1,
             "#f0f921"
            ]
           ]
          },
          "colorway": [
           "#636efa",
           "#EF553B",
           "#00cc96",
           "#ab63fa",
           "#FFA15A",
           "#19d3f3",
           "#FF6692",
           "#B6E880",
           "#FF97FF",
           "#FECB52"
          ],
          "font": {
           "color": "#2a3f5f"
          },
          "geo": {
           "bgcolor": "white",
           "lakecolor": "white",
           "landcolor": "#E5ECF6",
           "showlakes": true,
           "showland": true,
           "subunitcolor": "white"
          },
          "hoverlabel": {
           "align": "left"
          },
          "hovermode": "closest",
          "mapbox": {
           "style": "light"
          },
          "paper_bgcolor": "white",
          "plot_bgcolor": "#E5ECF6",
          "polar": {
           "angularaxis": {
            "gridcolor": "white",
            "linecolor": "white",
            "ticks": ""
           },
           "bgcolor": "#E5ECF6",
           "radialaxis": {
            "gridcolor": "white",
            "linecolor": "white",
            "ticks": ""
           }
          },
          "scene": {
           "xaxis": {
            "backgroundcolor": "#E5ECF6",
            "gridcolor": "white",
            "gridwidth": 2,
            "linecolor": "white",
            "showbackground": true,
            "ticks": "",
            "zerolinecolor": "white"
           },
           "yaxis": {
            "backgroundcolor": "#E5ECF6",
            "gridcolor": "white",
            "gridwidth": 2,
            "linecolor": "white",
            "showbackground": true,
            "ticks": "",
            "zerolinecolor": "white"
           },
           "zaxis": {
            "backgroundcolor": "#E5ECF6",
            "gridcolor": "white",
            "gridwidth": 2,
            "linecolor": "white",
            "showbackground": true,
            "ticks": "",
            "zerolinecolor": "white"
           }
          },
          "shapedefaults": {
           "line": {
            "color": "#2a3f5f"
           }
          },
          "ternary": {
           "aaxis": {
            "gridcolor": "white",
            "linecolor": "white",
            "ticks": ""
           },
           "baxis": {
            "gridcolor": "white",
            "linecolor": "white",
            "ticks": ""
           },
           "bgcolor": "#E5ECF6",
           "caxis": {
            "gridcolor": "white",
            "linecolor": "white",
            "ticks": ""
           }
          },
          "title": {
           "x": 0.05
          },
          "xaxis": {
           "automargin": true,
           "gridcolor": "white",
           "linecolor": "white",
           "ticks": "",
           "title": {
            "standoff": 15
           },
           "zerolinecolor": "white",
           "zerolinewidth": 2
          },
          "yaxis": {
           "automargin": true,
           "gridcolor": "white",
           "linecolor": "white",
           "ticks": "",
           "title": {
            "standoff": 15
           },
           "zerolinecolor": "white",
           "zerolinewidth": 2
          }
         }
        },
        "title": {
         "text": "Al-Cu Fitted Binary Phase Diagram"
        },
        "width": 960,
        "xaxis": {
         "linecolor": "black",
         "linewidth": 2,
         "mirror": true,
         "range": [
          0,
          100
         ],
         "showline": true,
         "tickcolor": "black",
         "tickformat": ".0f",
         "ticks": "outside",
         "title": {
          "text": "Cu (at. %)"
         }
        },
        "yaxis": {
         "linecolor": "black",
         "linewidth": 2,
         "mirror": true,
         "range": [
          300,
          1180
         ],
         "showline": true,
         "tickcolor": "black",
         "ticks": "outside",
         "ticksuffix": " ",
         "title": {
          "text": "T (°C)"
         }
        }
       }
      }
     },
     "metadata": {},
     "output_type": "display_data"
    },
    {
     "name": "stdout",
     "output_type": "stream",
     "text": [
      "No arguments specified for 't_vals', setting 't_units' to 'K'\n"
     ]
    },
    {
     "data": {
      "application/vnd.plotly.v1+json": {
       "config": {
        "plotlyServerURL": "https://plot.ly"
       },
       "data": [
        {
         "mode": "lines",
         "name": "Liquid T=1357K",
         "type": "scatter",
         "x": [
          0,
          0.01,
          0.02,
          0.03,
          0.04,
          0.05,
          0.06,
          0.07,
          0.08,
          0.09,
          0.1,
          0.11,
          0.12,
          0.13,
          0.14,
          0.15,
          0.16,
          0.17,
          0.18,
          0.19,
          0.2,
          0.21,
          0.22,
          0.23,
          0.24,
          0.25,
          0.26,
          0.27,
          0.28,
          0.29,
          0.3,
          0.31,
          0.32,
          0.33,
          0.34,
          0.35000000000000003,
          0.36,
          0.37,
          0.38,
          0.39,
          0.4,
          0.41000000000000003,
          0.42,
          0.43,
          0.44,
          0.45,
          0.46,
          0.47000000000000003,
          0.48,
          0.49,
          0.5,
          0.51,
          0.52,
          0.53,
          0.54,
          0.55,
          0.56,
          0.5700000000000001,
          0.58,
          0.59,
          0.6,
          0.61,
          0.62,
          0.63,
          0.64,
          0.65,
          0.66,
          0.67,
          0.68,
          0.6900000000000001,
          0.7000000000000001,
          0.71,
          0.72,
          0.73,
          0.74,
          0.75,
          0.76,
          0.77,
          0.78,
          0.79,
          0.8,
          0.81,
          0.8200000000000001,
          0.8300000000000001,
          0.84,
          0.85,
          0.86,
          0.87,
          0.88,
          0.89,
          0.9,
          0.91,
          0.92,
          0.93,
          0.9400000000000001,
          0.9500000000000001,
          0.96,
          0.97,
          0.98,
          0.99,
          1
         ],
         "y": [
          -0.05023953501264467,
          -0.07284880580655621,
          -0.09321215813120291,
          -0.112347229363687,
          -0.13047694238370863,
          -0.14771157785966751,
          -0.16411953785603942,
          -0.17974886470728707,
          -0.1946361282777768,
          -0.20881078514566387,
          -0.22229757298811137,
          -0.23511793669264128,
          -0.24729093130526272,
          -0.25883382180009706,
          -0.2697624971623606,
          -0.2800917655241799,
          -0.28983557021728323,
          -0.29900715157095364,
          -0.30761917047640547,
          -0.3156838043745872,
          -0.32321282294571596,
          -0.33021764858756847,
          -0.3367094053114002,
          -0.3426989586916975,
          -0.3481969488163243,
          -0.3532138176956568,
          -0.357759832238296,
          -0.36184510364464445,
          -0.36547960387989936,
          -0.36867317974579056,
          -0.37143556496253555,
          -0.3737763905898167,
          -0.3757051940515836,
          -0.37723142697948714,
          -0.37836446205033003,
          -0.37911359896160685,
          -0.3794880696641186,
          -0.37949704295041065,
          -0.37914962848133626,
          -0.3784548803195843,
          -0.37742180002792075,
          -0.3760593393806845,
          -0.3743764027293842,
          -0.37238184905676236,
          -0.3700844937481901,
          -0.36749311010454583,
          -0.36461643061665516,
          -0.36146314801780777,
          -0.3580419161277136,
          -0.3543613504984312,
          -0.35043002887021657,
          -0.34625649144284726,
          -0.34184924096570074,
          -0.337216742647676,
          -0.33236742388586943,
          -0.327309673809726,
          -0.3220518426351111,
          -0.31660224082035415,
          -0.3109691380137318,
          -0.3051607617790277,
          -0.2991852960826544,
          -0.2930508795222582,
          -0.2867656032726554,
          -0.2803375087202348,
          -0.27377458475146255,
          -0.2670847646546405,
          -0.2602759225863781,
          -0.2533558695450295,
          -0.24633234878225493,
          -0.2392130305704068,
          -0.23200550622698923,
          -0.22471728127720741,
          -0.21735576761053418,
          -0.20992827445590695,
          -0.2024419979607508,
          -0.19490400910902356,
          -0.1873212396494777,
          -0.17970046562266717,
          -0.17204828796737084,
          -0.1643711095448797,
          -0.1566751077298623,
          -0.1489662014602183,
          -0.1412500112873259,
          -0.133531810480123,
          -0.12581646454681608,
          -0.11810835554534586,
          -0.11041128609558395,
          -0.10272835581495736,
          -0.09506179952049464,
          -0.08741277117613416,
          -0.0797810487569097,
          -0.07216462016596714,
          -0.06455908346493942,
          -0.05695674392581849,
          -0.04934518791960409,
          -0.041704888531084776,
          -0.034004846374952984,
          -0.026193702335887747,
          -0.018178218694644376,
          -0.009752515520677777,
          0.00008400161395937631
         ]
        },
        {
         "mode": "lines",
         "name": "Liquid T=0K",
         "type": "scatter",
         "x": [
          0,
          0.01,
          0.02,
          0.03,
          0.04,
          0.05,
          0.06,
          0.07,
          0.08,
          0.09,
          0.1,
          0.11,
          0.12,
          0.13,
          0.14,
          0.15,
          0.16,
          0.17,
          0.18,
          0.19,
          0.2,
          0.21,
          0.22,
          0.23,
          0.24,
          0.25,
          0.26,
          0.27,
          0.28,
          0.29,
          0.3,
          0.31,
          0.32,
          0.33,
          0.34,
          0.35000000000000003,
          0.36,
          0.37,
          0.38,
          0.39,
          0.4,
          0.41000000000000003,
          0.42,
          0.43,
          0.44,
          0.45,
          0.46,
          0.47000000000000003,
          0.48,
          0.49,
          0.5,
          0.51,
          0.52,
          0.53,
          0.54,
          0.55,
          0.56,
          0.5700000000000001,
          0.58,
          0.59,
          0.6,
          0.61,
          0.62,
          0.63,
          0.64,
          0.65,
          0.66,
          0.67,
          0.68,
          0.6900000000000001,
          0.7000000000000001,
          0.71,
          0.72,
          0.73,
          0.74,
          0.75,
          0.76,
          0.77,
          0.78,
          0.79,
          0.8,
          0.81,
          0.8200000000000001,
          0.8300000000000001,
          0.84,
          0.85,
          0.86,
          0.87,
          0.88,
          0.89,
          0.9,
          0.91,
          0.92,
          0.93,
          0.9400000000000001,
          0.9500000000000001,
          0.96,
          0.97,
          0.98,
          0.99,
          1
         ],
         "y": [
          0.11100171011037985,
          0.12122751045846396,
          0.13080962135991067,
          0.13976158710479203,
          0.14809695198318001,
          0.15582926028514665,
          0.16297205630076395,
          0.16953888432010392,
          0.17554328863323856,
          0.18099881353023994,
          0.18591900330118,
          0.19031740223613078,
          0.1942075546251643,
          0.1976030047583526,
          0.20051729692576767,
          0.20296397541748148,
          0.20495658452356602,
          0.20650866853409347,
          0.20763377173913566,
          0.2083454384287647,
          0.20865721289305253,
          0.20858263942207123,
          0.20813526230589277,
          0.20732862583458916,
          0.2061762742982325,
          0.20469175198689465,
          0.20288860319064775,
          0.20078037219956377,
          0.19838060330371474,
          0.1957028407931726,
          0.19276062895800944,
          0.18956751208829728,
          0.18613703447410804,
          0.18248274040551377,
          0.17861817417258655,
          0.17455688006539838,
          0.17031240237402118,
          0.16589828538852702,
          0.16132807339898794,
          0.1566153106954759,
          0.15177354156806291,
          0.14681631030682105,
          0.1417571612018223,
          0.13660963854313865,
          0.1313872866208421,
          0.12610364972500465,
          0.1207722721456984,
          0.1154066981729953,
          0.11002047209696739,
          0.10462713820768664,
          0.09924024079522509,
          0.09387332414965475,
          0.08853993256104761,
          0.08325361031947572,
          0.07802790171501106,
          0.07287635103772566,
          0.06781250257769153,
          0.06284990062498068,
          0.058002089469665195,
          0.053282613401816926,
          0.048705016711507995,
          0.044282843688810386,
          0.04002963862379614,
          0.03595894580653722,
          0.032084309527105656,
          0.028419274075573514,
          0.02497738374201274,
          0.021772182816495345,
          0.01881721558909338,
          0.016126026349878864,
          0.013712159388923726,
          0.011589158996300116,
          0.009770569462079931,
          0.008269935076335222,
          0.007100800129137982,
          0.006276708910560262,
          0.005811205710674036,
          0.005717834819551336,
          0.006010140527264175,
          0.006701667123884584,
          0.007805958899484518,
          0.009336560144136028,
          0.011307015147911147,
          0.013730868200881827,
          0.016621663593120103,
          0.019992945614698027,
          0.023858258555687586,
          0.028231146706160778,
          0.033125154356189616,
          0.038553825795846146,
          0.044530705315202354,
          0.05106933720433025,
          0.05818326575330185,
          0.06588603525218915,
          0.07419118999106421,
          0.083112274259999,
          0.09266283234906542,
          0.10285640854833572,
          0.1137065471478818,
          0.12522679243777568,
          0.13743068870808933
         ]
        },
        {
         "hoverinfo": "none",
         "line": {
          "color": "black",
          "width": 4
         },
         "mode": "lines",
         "showlegend": false,
         "type": "scatter",
         "x": [
          0.75,
          1,
          null,
          0.5,
          0.3333333333333333,
          null,
          0.5,
          0.6923076923076923,
          null,
          0.3333333333333333,
          0,
          null,
          0.75,
          0.6923076923076923,
          null
         ],
         "y": [
          -0.18946324000000025,
          0,
          null,
          -0.21342794800000037,
          -0.17806622999999946,
          null,
          -0.21342794800000037,
          -0.208091329807692,
          null,
          -0.17806622999999946,
          0,
          null,
          -0.18946324000000025,
          -0.208091329807692,
          null
         ]
        },
        {
         "hoverinfo": "skip",
         "mode": "text",
         "name": "Labels (stable)",
         "opacity": 1,
         "showlegend": true,
         "text": [
          "AlCu<sub>3</sub>",
          "AlCu",
          "Al<sub>2</sub>Cu",
          "Al<sub>4</sub>Cu<sub>9</sub>"
         ],
         "textposition": [
          "bottom right",
          "bottom right",
          "bottom left",
          "bottom right"
         ],
         "type": "scatter",
         "visible": true,
         "x": [
          0.758,
          0.508,
          0.3253333333333333,
          0.7003076923076923
         ],
         "y": [
          -0.20246324000000027,
          -0.22642794800000038,
          -0.19106622999999948,
          -0.221091329807692
         ]
        },
        {
         "error_y": {
          "array": [
           0,
           0,
           0,
           0,
           0,
           0
          ],
          "color": "gray",
          "thickness": 2.5,
          "type": "data",
          "width": 5
         },
         "hoverinfo": "text",
         "hoverlabel": {
          "font": {
           "size": 14
          }
         },
         "hovertext": [
          "AlCu<sub>3</sub> (mp-12802-GGA) <br> -0.189 eV/atom (Stable)",
          "Cu (mp-30-GGA) <br> 0.0 eV/atom (Stable)",
          "AlCu (mp-2500-GGA) <br> -0.213 eV/atom (Stable)",
          "Al<sub>2</sub>Cu (mp-985806-GGA) <br> -0.178 eV/atom (Stable)",
          "Al<sub>4</sub>Cu<sub>9</sub> (mp-593-GGA) <br> -0.208 eV/atom (Stable)",
          "Al (mp-134-GGA) <br> 0.0 eV/atom (Stable)"
         ],
         "marker": {
          "color": "darkgreen",
          "line": {
           "color": "black",
           "width": 2
          },
          "size": 16
         },
         "mode": "markers",
         "name": "Stable",
         "opacity": 0.99,
         "showlegend": true,
         "type": "scatter",
         "x": [
          0.75,
          1,
          0.5,
          0.3333333333333333,
          0.6923076923076923,
          0
         ],
         "y": [
          -0.18946324000000025,
          0,
          -0.21342794800000037,
          -0.17806622999999946,
          -0.208091329807692,
          0
         ]
        },
        {
         "hoverinfo": "text",
         "hoverlabel": {
          "font": {
           "size": 14
          }
         },
         "hovertext": [
          "Cu (mp-1010136-GGA) <br> 0.036 eV/atom (+0.036 eV/atom)",
          "Cu (mp-1120774-GGA) <br> 0.159 eV/atom (+0.159 eV/atom)",
          "Cu (mp-989695-GGA) <br> 0.006 eV/atom (+0.006 eV/atom)",
          "Cu (mp-989782-GGA) <br> 0.007 eV/atom (+0.007 eV/atom)",
          "Cu (mp-998890-GGA) <br> 0.037 eV/atom (+0.037 eV/atom)",
          "Cu (mp-1059259-GGA) <br> 0.143 eV/atom (+0.143 eV/atom)",
          "Al (mp-1245067-GGA) <br> 0.114 eV/atom (+0.114 eV/atom)",
          "Al (mp-1244953-GGA) <br> 0.096 eV/atom (+0.096 eV/atom)",
          "Al (mp-1245129-GGA) <br> 0.095 eV/atom (+0.095 eV/atom)",
          "Al (mp-1245307-GGA) <br> 0.108 eV/atom (+0.108 eV/atom)",
          "Al (mp-1245152-GGA) <br> 0.102 eV/atom (+0.102 eV/atom)",
          "Al (mp-2647008-GGA) <br> 0.032 eV/atom (+0.032 eV/atom)",
          "Al (mp-1183144-GGA) <br> 0.011 eV/atom (+0.011 eV/atom)",
          "Al (mp-998860-GGA) <br> 0.092 eV/atom (+0.092 eV/atom)",
          "AlCu (mp-1022721-GGA) <br> -0.139 eV/atom (+0.074 eV/atom)",
          "AlCu<sub>3</sub> (mp-1183216-GGA) <br> -0.183 eV/atom (+0.007 eV/atom)",
          "AlCu<sub>3</sub> (mp-1008555-GGA) <br> -0.181 eV/atom (+0.008 eV/atom)",
          "AlCu<sub>3</sub> (mp-12777-GGA) <br> -0.165 eV/atom (+0.025 eV/atom)",
          "AlCu<sub>4</sub> (mp-1182885-GGA) <br> -0.115 eV/atom (+0.036 eV/atom)",
          "Al<sub>2</sub>Cu (mp-12794-GGA) <br> -0.024 eV/atom (+0.154 eV/atom)",
          "Al<sub>2</sub>Cu (mp-998-GGA) <br> -0.166 eV/atom (+0.013 eV/atom)",
          "Al<sub>3</sub>Cu (mp-985825-GGA) <br> -0.09 eV/atom (+0.044 eV/atom)",
          "Al<sub>3</sub>Cu (mp-1183161-GGA) <br> -0.037 eV/atom (+0.096 eV/atom)",
          "Al<sub>3</sub>Cu<sub>2</sub> (mp-10886-GGA) <br> -0.158 eV/atom (+0.034 eV/atom)",
          "Al<sub>4</sub>Cu<sub>15</sub> (mp-1228752-GGA) <br> -0.098 eV/atom (+0.062 eV/atom)"
         ],
         "marker": {
          "color": [
           0.036,
           0.159,
           0.006,
           0.007,
           0.037,
           0.143,
           0.114,
           0.096,
           0.095,
           0.108,
           0.102,
           0.032,
           0.011,
           0.092,
           0.074,
           0.007,
           0.008,
           0.025,
           0.036,
           0.154,
           0.013,
           0.044,
           0.096,
           0.034,
           0.062
          ],
          "colorscale": [
           [
            0,
            "#fff5e3"
           ],
           [
            0.5,
            "#f24324"
           ],
           [
            1,
            "#c40000"
           ]
          ],
          "line": {
           "color": "black",
           "width": 1
          },
          "opacity": 0.8,
          "size": 7,
          "symbol": "diamond"
         },
         "mode": "markers",
         "name": "Above Hull",
         "showlegend": true,
         "type": "scatter",
         "x": [
          1,
          1,
          1,
          1,
          1,
          1,
          0,
          0,
          0,
          0,
          0,
          0,
          0,
          0,
          0.5,
          0.75,
          0.75,
          0.75,
          0.8,
          0.3333333333333333,
          0.3333333333333333,
          0.25,
          0.25,
          0.4,
          0.7894736842105263
         ],
         "y": [
          0.035708360000000106,
          0.15911679499999978,
          0.0057660850000003094,
          0.0074918249999997855,
          0.036640020000000106,
          0.14290572499999987,
          0.11430868650000037,
          0.09572362820000023,
          0.09475041080000039,
          0.10754954110000028,
          0.1020815508000004,
          0.032078224999999794,
          0.01144597249999979,
          0.09244398000000009,
          -0.13936670999999956,
          -0.18269156250000052,
          -0.18149385250000005,
          -0.164553905,
          -0.11525892450000015,
          -0.02356822666666621,
          -0.16553469833333287,
          -0.08998382249999981,
          -0.03730383749999966,
          -0.15831442399999957,
          -0.09778241578947407
         ]
        }
       ],
       "layout": {
        "annotations": [
         {
          "align": "center",
          "font": {
           "color": "#000000",
           "size": 24
          },
          "opacity": 1,
          "showarrow": false,
          "text": "Cu",
          "x": 1.03,
          "xref": "x",
          "y": -0.03,
          "yref": "y"
         },
         {
          "align": "center",
          "font": {
           "color": "#000000",
           "size": 24
          },
          "opacity": 1,
          "showarrow": false,
          "text": "Al",
          "x": -0.03,
          "xref": "x",
          "y": -0.03,
          "yref": "y"
         }
        ],
        "autosize": true,
        "coloraxis": {
         "colorbar": {
          "x": 1,
          "y": 0.05,
          "yanchor": "top"
         }
        },
        "hovermode": "closest",
        "legend": {
         "orientation": "h",
         "tracegroupgap": 7,
         "traceorder": "reversed",
         "x": 0,
         "xanchor": "left",
         "y": 1.05
        },
        "margin": {
         "b": 10,
         "l": 10,
         "pad": 0,
         "r": 10,
         "t": 0
        },
        "paper_bgcolor": "white",
        "plot_bgcolor": "white",
        "showlegend": true,
        "template": {
         "data": {
          "bar": [
           {
            "error_x": {
             "color": "#2a3f5f"
            },
            "error_y": {
             "color": "#2a3f5f"
            },
            "marker": {
             "line": {
              "color": "#E5ECF6",
              "width": 0.5
             },
             "pattern": {
              "fillmode": "overlay",
              "size": 10,
              "solidity": 0.2
             }
            },
            "type": "bar"
           }
          ],
          "barpolar": [
           {
            "marker": {
             "line": {
              "color": "#E5ECF6",
              "width": 0.5
             },
             "pattern": {
              "fillmode": "overlay",
              "size": 10,
              "solidity": 0.2
             }
            },
            "type": "barpolar"
           }
          ],
          "carpet": [
           {
            "aaxis": {
             "endlinecolor": "#2a3f5f",
             "gridcolor": "white",
             "linecolor": "white",
             "minorgridcolor": "white",
             "startlinecolor": "#2a3f5f"
            },
            "baxis": {
             "endlinecolor": "#2a3f5f",
             "gridcolor": "white",
             "linecolor": "white",
             "minorgridcolor": "white",
             "startlinecolor": "#2a3f5f"
            },
            "type": "carpet"
           }
          ],
          "choropleth": [
           {
            "colorbar": {
             "outlinewidth": 0,
             "ticks": ""
            },
            "type": "choropleth"
           }
          ],
          "contour": [
           {
            "colorbar": {
             "outlinewidth": 0,
             "ticks": ""
            },
            "colorscale": [
             [
              0,
              "#0d0887"
             ],
             [
              0.1111111111111111,
              "#46039f"
             ],
             [
              0.2222222222222222,
              "#7201a8"
             ],
             [
              0.3333333333333333,
              "#9c179e"
             ],
             [
              0.4444444444444444,
              "#bd3786"
             ],
             [
              0.5555555555555556,
              "#d8576b"
             ],
             [
              0.6666666666666666,
              "#ed7953"
             ],
             [
              0.7777777777777778,
              "#fb9f3a"
             ],
             [
              0.8888888888888888,
              "#fdca26"
             ],
             [
              1,
              "#f0f921"
             ]
            ],
            "type": "contour"
           }
          ],
          "contourcarpet": [
           {
            "colorbar": {
             "outlinewidth": 0,
             "ticks": ""
            },
            "type": "contourcarpet"
           }
          ],
          "heatmap": [
           {
            "colorbar": {
             "outlinewidth": 0,
             "ticks": ""
            },
            "colorscale": [
             [
              0,
              "#0d0887"
             ],
             [
              0.1111111111111111,
              "#46039f"
             ],
             [
              0.2222222222222222,
              "#7201a8"
             ],
             [
              0.3333333333333333,
              "#9c179e"
             ],
             [
              0.4444444444444444,
              "#bd3786"
             ],
             [
              0.5555555555555556,
              "#d8576b"
             ],
             [
              0.6666666666666666,
              "#ed7953"
             ],
             [
              0.7777777777777778,
              "#fb9f3a"
             ],
             [
              0.8888888888888888,
              "#fdca26"
             ],
             [
              1,
              "#f0f921"
             ]
            ],
            "type": "heatmap"
           }
          ],
          "heatmapgl": [
           {
            "colorbar": {
             "outlinewidth": 0,
             "ticks": ""
            },
            "colorscale": [
             [
              0,
              "#0d0887"
             ],
             [
              0.1111111111111111,
              "#46039f"
             ],
             [
              0.2222222222222222,
              "#7201a8"
             ],
             [
              0.3333333333333333,
              "#9c179e"
             ],
             [
              0.4444444444444444,
              "#bd3786"
             ],
             [
              0.5555555555555556,
              "#d8576b"
             ],
             [
              0.6666666666666666,
              "#ed7953"
             ],
             [
              0.7777777777777778,
              "#fb9f3a"
             ],
             [
              0.8888888888888888,
              "#fdca26"
             ],
             [
              1,
              "#f0f921"
             ]
            ],
            "type": "heatmapgl"
           }
          ],
          "histogram": [
           {
            "marker": {
             "pattern": {
              "fillmode": "overlay",
              "size": 10,
              "solidity": 0.2
             }
            },
            "type": "histogram"
           }
          ],
          "histogram2d": [
           {
            "colorbar": {
             "outlinewidth": 0,
             "ticks": ""
            },
            "colorscale": [
             [
              0,
              "#0d0887"
             ],
             [
              0.1111111111111111,
              "#46039f"
             ],
             [
              0.2222222222222222,
              "#7201a8"
             ],
             [
              0.3333333333333333,
              "#9c179e"
             ],
             [
              0.4444444444444444,
              "#bd3786"
             ],
             [
              0.5555555555555556,
              "#d8576b"
             ],
             [
              0.6666666666666666,
              "#ed7953"
             ],
             [
              0.7777777777777778,
              "#fb9f3a"
             ],
             [
              0.8888888888888888,
              "#fdca26"
             ],
             [
              1,
              "#f0f921"
             ]
            ],
            "type": "histogram2d"
           }
          ],
          "histogram2dcontour": [
           {
            "colorbar": {
             "outlinewidth": 0,
             "ticks": ""
            },
            "colorscale": [
             [
              0,
              "#0d0887"
             ],
             [
              0.1111111111111111,
              "#46039f"
             ],
             [
              0.2222222222222222,
              "#7201a8"
             ],
             [
              0.3333333333333333,
              "#9c179e"
             ],
             [
              0.4444444444444444,
              "#bd3786"
             ],
             [
              0.5555555555555556,
              "#d8576b"
             ],
             [
              0.6666666666666666,
              "#ed7953"
             ],
             [
              0.7777777777777778,
              "#fb9f3a"
             ],
             [
              0.8888888888888888,
              "#fdca26"
             ],
             [
              1,
              "#f0f921"
             ]
            ],
            "type": "histogram2dcontour"
           }
          ],
          "mesh3d": [
           {
            "colorbar": {
             "outlinewidth": 0,
             "ticks": ""
            },
            "type": "mesh3d"
           }
          ],
          "parcoords": [
           {
            "line": {
             "colorbar": {
              "outlinewidth": 0,
              "ticks": ""
             }
            },
            "type": "parcoords"
           }
          ],
          "pie": [
           {
            "automargin": true,
            "type": "pie"
           }
          ],
          "scatter": [
           {
            "fillpattern": {
             "fillmode": "overlay",
             "size": 10,
             "solidity": 0.2
            },
            "type": "scatter"
           }
          ],
          "scatter3d": [
           {
            "line": {
             "colorbar": {
              "outlinewidth": 0,
              "ticks": ""
             }
            },
            "marker": {
             "colorbar": {
              "outlinewidth": 0,
              "ticks": ""
             }
            },
            "type": "scatter3d"
           }
          ],
          "scattercarpet": [
           {
            "marker": {
             "colorbar": {
              "outlinewidth": 0,
              "ticks": ""
             }
            },
            "type": "scattercarpet"
           }
          ],
          "scattergeo": [
           {
            "marker": {
             "colorbar": {
              "outlinewidth": 0,
              "ticks": ""
             }
            },
            "type": "scattergeo"
           }
          ],
          "scattergl": [
           {
            "marker": {
             "colorbar": {
              "outlinewidth": 0,
              "ticks": ""
             }
            },
            "type": "scattergl"
           }
          ],
          "scattermapbox": [
           {
            "marker": {
             "colorbar": {
              "outlinewidth": 0,
              "ticks": ""
             }
            },
            "type": "scattermapbox"
           }
          ],
          "scatterpolar": [
           {
            "marker": {
             "colorbar": {
              "outlinewidth": 0,
              "ticks": ""
             }
            },
            "type": "scatterpolar"
           }
          ],
          "scatterpolargl": [
           {
            "marker": {
             "colorbar": {
              "outlinewidth": 0,
              "ticks": ""
             }
            },
            "type": "scatterpolargl"
           }
          ],
          "scatterternary": [
           {
            "marker": {
             "colorbar": {
              "outlinewidth": 0,
              "ticks": ""
             }
            },
            "type": "scatterternary"
           }
          ],
          "surface": [
           {
            "colorbar": {
             "outlinewidth": 0,
             "ticks": ""
            },
            "colorscale": [
             [
              0,
              "#0d0887"
             ],
             [
              0.1111111111111111,
              "#46039f"
             ],
             [
              0.2222222222222222,
              "#7201a8"
             ],
             [
              0.3333333333333333,
              "#9c179e"
             ],
             [
              0.4444444444444444,
              "#bd3786"
             ],
             [
              0.5555555555555556,
              "#d8576b"
             ],
             [
              0.6666666666666666,
              "#ed7953"
             ],
             [
              0.7777777777777778,
              "#fb9f3a"
             ],
             [
              0.8888888888888888,
              "#fdca26"
             ],
             [
              1,
              "#f0f921"
             ]
            ],
            "type": "surface"
           }
          ],
          "table": [
           {
            "cells": {
             "fill": {
              "color": "#EBF0F8"
             },
             "line": {
              "color": "white"
             }
            },
            "header": {
             "fill": {
              "color": "#C8D4E3"
             },
             "line": {
              "color": "white"
             }
            },
            "type": "table"
           }
          ]
         },
         "layout": {
          "annotationdefaults": {
           "arrowcolor": "#2a3f5f",
           "arrowhead": 0,
           "arrowwidth": 1
          },
          "autotypenumbers": "strict",
          "coloraxis": {
           "colorbar": {
            "outlinewidth": 0,
            "ticks": ""
           }
          },
          "colorscale": {
           "diverging": [
            [
             0,
             "#8e0152"
            ],
            [
             0.1,
             "#c51b7d"
            ],
            [
             0.2,
             "#de77ae"
            ],
            [
             0.3,
             "#f1b6da"
            ],
            [
             0.4,
             "#fde0ef"
            ],
            [
             0.5,
             "#f7f7f7"
            ],
            [
             0.6,
             "#e6f5d0"
            ],
            [
             0.7,
             "#b8e186"
            ],
            [
             0.8,
             "#7fbc41"
            ],
            [
             0.9,
             "#4d9221"
            ],
            [
             1,
             "#276419"
            ]
           ],
           "sequential": [
            [
             0,
             "#0d0887"
            ],
            [
             0.1111111111111111,
             "#46039f"
            ],
            [
             0.2222222222222222,
             "#7201a8"
            ],
            [
             0.3333333333333333,
             "#9c179e"
            ],
            [
             0.4444444444444444,
             "#bd3786"
            ],
            [
             0.5555555555555556,
             "#d8576b"
            ],
            [
             0.6666666666666666,
             "#ed7953"
            ],
            [
             0.7777777777777778,
             "#fb9f3a"
            ],
            [
             0.8888888888888888,
             "#fdca26"
            ],
            [
             1,
             "#f0f921"
            ]
           ],
           "sequentialminus": [
            [
             0,
             "#0d0887"
            ],
            [
             0.1111111111111111,
             "#46039f"
            ],
            [
             0.2222222222222222,
             "#7201a8"
            ],
            [
             0.3333333333333333,
             "#9c179e"
            ],
            [
             0.4444444444444444,
             "#bd3786"
            ],
            [
             0.5555555555555556,
             "#d8576b"
            ],
            [
             0.6666666666666666,
             "#ed7953"
            ],
            [
             0.7777777777777778,
             "#fb9f3a"
            ],
            [
             0.8888888888888888,
             "#fdca26"
            ],
            [
             1,
             "#f0f921"
            ]
           ]
          },
          "colorway": [
           "#636efa",
           "#EF553B",
           "#00cc96",
           "#ab63fa",
           "#FFA15A",
           "#19d3f3",
           "#FF6692",
           "#B6E880",
           "#FF97FF",
           "#FECB52"
          ],
          "font": {
           "color": "#2a3f5f"
          },
          "geo": {
           "bgcolor": "white",
           "lakecolor": "white",
           "landcolor": "#E5ECF6",
           "showlakes": true,
           "showland": true,
           "subunitcolor": "white"
          },
          "hoverlabel": {
           "align": "left"
          },
          "hovermode": "closest",
          "mapbox": {
           "style": "light"
          },
          "paper_bgcolor": "white",
          "plot_bgcolor": "#E5ECF6",
          "polar": {
           "angularaxis": {
            "gridcolor": "white",
            "linecolor": "white",
            "ticks": ""
           },
           "bgcolor": "#E5ECF6",
           "radialaxis": {
            "gridcolor": "white",
            "linecolor": "white",
            "ticks": ""
           }
          },
          "scene": {
           "xaxis": {
            "backgroundcolor": "#E5ECF6",
            "gridcolor": "white",
            "gridwidth": 2,
            "linecolor": "white",
            "showbackground": true,
            "ticks": "",
            "zerolinecolor": "white"
           },
           "yaxis": {
            "backgroundcolor": "#E5ECF6",
            "gridcolor": "white",
            "gridwidth": 2,
            "linecolor": "white",
            "showbackground": true,
            "ticks": "",
            "zerolinecolor": "white"
           },
           "zaxis": {
            "backgroundcolor": "#E5ECF6",
            "gridcolor": "white",
            "gridwidth": 2,
            "linecolor": "white",
            "showbackground": true,
            "ticks": "",
            "zerolinecolor": "white"
           }
          },
          "shapedefaults": {
           "line": {
            "color": "#2a3f5f"
           }
          },
          "ternary": {
           "aaxis": {
            "gridcolor": "white",
            "linecolor": "white",
            "ticks": ""
           },
           "baxis": {
            "gridcolor": "white",
            "linecolor": "white",
            "ticks": ""
           },
           "bgcolor": "#E5ECF6",
           "caxis": {
            "gridcolor": "white",
            "linecolor": "white",
            "ticks": ""
           }
          },
          "title": {
           "x": 0.05
          },
          "xaxis": {
           "automargin": true,
           "gridcolor": "white",
           "linecolor": "white",
           "ticks": "",
           "title": {
            "standoff": 15
           },
           "zerolinecolor": "white",
           "zerolinewidth": 2
          },
          "yaxis": {
           "automargin": true,
           "gridcolor": "white",
           "linecolor": "white",
           "ticks": "",
           "title": {
            "standoff": 15
           },
           "zerolinecolor": "white",
           "zerolinewidth": 2
          }
         }
        },
        "xaxis": {
         "anchor": "y",
         "gridcolor": "rgba(0,0,0,0.1)",
         "mirror": "ticks",
         "nticks": 8,
         "showgrid": true,
         "showline": true,
         "side": "bottom",
         "tickfont": {
          "size": 16
         },
         "ticks": "inside",
         "title": {
          "font": {
           "color": "#000000",
           "size": 20
          },
          "text": "Composition (fraction)"
         },
         "type": "linear",
         "zeroline": false
        },
        "yaxis": {
         "anchor": "x",
         "gridcolor": "rgba(0,0,0,0.1)",
         "mirror": "ticks",
         "showgrid": true,
         "showline": true,
         "side": "left",
         "tickfont": {
          "size": 16
         },
         "ticks": "inside",
         "title": {
          "font": {
           "color": "#000000",
           "size": 20
          },
          "text": "Formation energy (eV/atom)"
         },
         "type": "linear"
        }
       }
      }
     },
     "metadata": {},
     "output_type": "display_data"
    }
   ],
   "source": [
    "for sys_name, best_results in fitting_results.items():\n",
    "    print(f\"{sys_name}: MAE = {best_results['mae']}\")\n",
    "    bl = BinaryLiquid.from_cache(sys_name)\n",
    "    bl.update_params((best_results['L0_a'], best_results['L0_b'], best_results['L1_a'], best_results['L1_b']))\n",
    "    blp = BLPlotter(bl)\n",
    "    blp.show('fit+liq')\n",
    "    blp.show('ch+g') # Specify specific temperatures for plotted liquid energy with t_vals and t_units arguments"
   ]
  }
 ],
 "metadata": {
  "kernelspec": {
   "display_name": "matprojenv",
   "language": "python",
   "name": "python3"
  },
  "language_info": {
   "codemirror_mode": {
    "name": "ipython",
    "version": 3
   },
   "file_extension": ".py",
   "mimetype": "text/x-python",
   "name": "python",
   "nbconvert_exporter": "python",
   "pygments_lexer": "ipython3",
   "version": "3.9.18"
  }
 },
 "nbformat": 4,
 "nbformat_minor": 2
}
