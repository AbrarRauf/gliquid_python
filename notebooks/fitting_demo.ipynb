{
 "cells": [
  {
   "cell_type": "markdown",
   "metadata": {},
   "source": [
    "This Jupyter notebook demonstrates how the Gliquid binary fitting code works, and how it can be used to fit the liquid non-ideal mixing parameters for a user-input system"
   ]
  },
  {
   "cell_type": "code",
   "execution_count": 1,
   "metadata": {},
   "outputs": [],
   "source": [
    "import os\n",
    "from gliquid.binary import BinaryLiquid, BLPlotter\n",
    "from gliquid.config import data_dir\n",
    "import gliquid.load_binary_data as lbd\n",
    "\n",
    "# Set the environmental variables for Materials Project API keys.\n",
    "os.environ[\"NEW_MP_API_KEY\"] = \"Rtb4ppAs9rcNVzh10IVdBRh6HwlBymcJ\"\n",
    "param_format = 'linear'   "
   ]
  },
  {
   "cell_type": "markdown",
   "metadata": {},
   "source": [
    "Now that we have loaded in the required packages and set our API keys, lets look over some of the functionality\n",
    "The `load_binary_data` script is used as a backend for loading in the data used for the liquid energy fitting algorithm\n",
    "It can load in digitized experimental data or computed DFT phase data.\n",
    "\n",
    "We include JSON files for all elemental data of a type, since those can be used for multiple binary systems.\n",
    "For a digitized binary phase diagram, the data on MPDS is in the form of **svgpaths**, which are essentially collections\n",
    "of shapes as defined by their boundaries. You can see an example [here](../data/Cu-Mg.json)\n",
    "\n",
    "<img src=\"../figures/digitized_pd_anatomy.png\" width=\"700\" height=\"500\">"
   ]
  },
  {
   "cell_type": "code",
   "execution_count": 2,
   "metadata": {},
   "outputs": [
    {
     "name": "stdout",
     "output_type": "stream",
     "text": [
      "All cached melting temperatures (K): {'Al': 933.5, 'Ag': 1234.93, 'Fe': 1811.0, 'Ti': 1943.0, 'Ni': 1728.0, 'Cr': 2180.0, 'Cu': 1357.77, 'Zr': 2127.0, 'Nb': 2750.0, 'Zn': 692.7, 'Sn': 505.1, 'Si': 1687.0, 'Ca': 1115.0, 'Na': 370.9, 'Mg': 923.0, 'K': 336.7, 'Mn': 1519.0, 'Ba': 1000.0, 'Sr': 1050.0, 'V': 2183.0, 'Rb': 312.45, 'Ce': 1071.0, 'Nd': 1294.0, 'La': 1193.0, 'Y': 1795.0, 'Co': 1768.0, 'Sc': 1814.0, 'Li': 453.65, 'Ga': 302.9, 'Pb': 600.7, 'B': 2350.0, 'Th': 2023.0, 'Pr': 1204.0, 'Sm': 1347.0, 'Gd': 1586.0, 'Dy': 1685.0, 'Er': 1802.0, 'Yb': 1092.0, 'Hf': 2506.0, 'Cs': 301.7, 'Be': 1560.0, 'U': 1408.0, 'Ta': 3290.0, 'Eu': 1095.0, 'As': 1090.0, 'Ge': 1211.4, 'W': 3687.0, 'Ho': 1747.0, 'Mo': 2895.0, 'Tb': 1629.0, 'Tl': 577.0, 'Lu': 1936.0, 'Tm': 1818.0, 'In': 429.75, 'Sb': 903.778, 'Cd': 594.219, 'Hg': 234.321, 'Se': 494.0, 'Pd': 1828.0, 'Bi': 544.556, 'Pt': 2041.4, 'Au': 1337.33, 'Os': 3306.0, 'Te': 722.66, 'Ru': 2606.0, 'Ir': 2719.0, 'Rh': 2236.0, 'Re': 3458.0, 'Pu': 913.0, 'Pm': 1315.0}\n",
      "All cached melting enthalpies (J/mol): {'Al': 10710.0, 'Ag': 11300.0, 'Fe': 13810.0, 'Ti': 14150.0, 'Ni': 17480.0, 'Cr': 21000.0, 'Cu': 13260.0, 'Zr': 21000.0, 'Nb': 30000.0, 'Zn': 7068.0, 'Sn': 7150.0, 'Si': 50210.0, 'Ca': 8540.0, 'Na': 2600.0, 'Mg': 8480.0, 'K': 2335.0, 'Mn': 12910.0, 'Ba': 7120.0, 'Sr': 7430.0, 'V': 21500.0, 'Rb': 2190.0, 'Ce': 6200.0, 'Nd': 7140.0, 'La': 6200.0, 'Y': 11400.0, 'Co': 16200.0, 'Sc': 14100.0, 'Li': 3000.0, 'Ga': 5585.0, 'Pb': 4774.0, 'B': 50200.0, 'Th': 13810.0, 'Pr': 6890.0, 'Sm': 8620.0, 'Gd': 10000.0, 'Dy': 11060.0, 'Er': 19900.0, 'Yb': 7660.0, 'Hf': 27200.0, 'Cs': 2090.0, 'Be': 7895.0, 'U': 9140.0, 'Ta': 36570.0, 'Eu': 9210.0, 'As': 24440.0, 'Ge': 36940.0, 'W': 52310.0, 'Ho': 17000.0, 'Mo': 37480.0, 'Tb': 10790.0, 'Tl': 4150.0, 'Lu': 22000.0, 'Tm': 16800.0, 'In': 3291.0, 'Sb': 19790.0, 'Cd': 6210.0, 'Hg': 2295.0, 'Se': 6690.0, 'Pd': 16740.0, 'Bi': 11106.0, 'Pt': 22175.0, 'Au': 12550.0, 'Os': 57850.0, 'Te': 17380.0, 'Ru': 38590.0, 'Ir': 41120.0, 'Rh': 26590.0, 'Re': 34080.0, 'Pu': 2824.0, 'Pm': 7700.0}\n",
      "All cached boiling temperatures (K): {'Al': 2792.15, 'Cu': 2835.15, 'Sn': 2875.15, 'Si': 3173.15, 'Sb': 1860.15, 'Ni': 3186.15, 'Fe': 3134.15, 'Ag': 2435.15, 'Pb': 2022.15, 'Zn': 1180.15, 'Co': 3200.15, 'In': 2345.15, 'Bi': 1837.15, 'Mg': 1363.15, 'Au': 3129.15, 'Ge': 3093.15, 'Ti': 3560.15, 'Pd': 3236.15, 'Nb': 5017.15, 'Mo': 4912.15, 'Zr': 4682.15, 'Cr': 2944.15, 'Te': 1261.15, 'Cd': 1040.15, 'Y': 3618.15, 'Pt': 4098.15, 'B': 4273.15, 'Ce': 3633.15, 'V': 3680.15, 'Mn': 2334.15, 'Nd': 3373.15, 'W': 5828.15, 'Gd': 3523.15, 'Hf': 4876.15, 'U': 4200.15, 'Th': 5093.15, 'Tl': 1746.15, 'Ru': 4423.15, 'Ta': 5731.15, 'Pu': 3503.15, 'La': 3737.15, 'Sc': 3103.15, 'Hg': 629.88, 'Ca': 1757.15, 'Re': 5869.15, 'Pr': 3563.15, 'Rh': 3968.15, 'Er': 3141.15, 'Li': 1615.15, 'Sm': 2076.15, 'Dy': 2840.15, 'Ho': 2973.15, 'Na': 1156.15, 'Tb': 3503.15, 'Ir': 4701.15, 'As': 887.15, 'Se': 958.15, 'Sr': 1655.15, 'Ba': 2143.15, 'Yb': 1469.15, 'Be': 2743.15, 'Os': 5285.15, 'Lu': 3675.15, 'Cs': 944.15, 'Eu': 1800.15, 'K': 1032.15, 'Tm': 2223.15, 'Rb': 961.15, 'Pm': 3273.15, 'Ga': 2481.15, 'C': 5100.15}\n",
      "\n",
      "Cu: H_fusion = 13260.0 J/mol, T_fusion = 1357.77 K, T_vaporization = 2835.15 K\n",
      "Mg: H_fusion = 8480.0 J/mol, T_fusion = 923.0 K, T_vaporization = 1363.15 K\n",
      "\n",
      "Reading MPDS json from entry at https://mpds.io/entry/C906729...\n",
      "\n",
      "Cu-Mg component data (Elt: [Hmelt, Tmelt, Tvap]): {'Cu': [13260.0, 1357.77, 2835.15], 'Mg': [8480.0, 923.0, 1363.15]}\n",
      "Cu-Mg digitized liquidus ([X, T]): ([[0.000381243, 1356.77], [0.0144819, 1339.7800000000002], [0.028502800000000002, 1322.0900000000001], [0.042360800000000004, 1303.81], [0.056057800000000005, 1284.96], [0.0695957, 1265.54], [0.08297639999999999, 1245.576], [0.09620179999999999, 1225.078], [0.10927400000000001, 1204.059], [0.122194, 1182.533], [0.134965, 1160.512], [0.147588, 1138.011], [0.16006499999999999, 1115.0439999999999], [0.172398, 1091.6219999999998], [0.184588, 1067.76], [0.196639, 1043.471], [0.20855100000000001, 1018.769], [0.22010100000000002, 994.1469999999999], [0.22943999999999998, 1002.938], [0.238676, 1011.812], [0.247438, 1020.3629999999999], [0.255749, 1028.558], [0.263629, 1036.362], [0.2711, 1043.74], [0.278186, 1050.658], [0.284908, 1057.0819999999999], [0.291288, 1062.978], [0.297349, 1068.311], [0.30311299999999997, 1073.049], [0.30860299999999996, 1077.155], [0.313843, 1080.597], [0.31885600000000003, 1083.3400000000001], [0.32366799999999996, 1085.348], [0.328304, 1086.5839999999998], [0.332787, 1087.01], [0.347719, 1085.603], [0.36249299999999995, 1081.491], [0.37711599999999995, 1074.865], [0.391603, 1065.915], [0.40597, 1054.83], [0.420234, 1041.7959999999998], [0.434413, 1026.999], [0.448521, 1010.6229999999999], [0.462576, 992.8539999999999], [0.47659100000000004, 973.875], [0.49058300000000005, 953.872], [0.504567, 933.03], [0.518556, 911.533], [0.5325650000000001, 889.567], [0.546609, 867.3149999999999], [0.5607030000000001, 844.9639999999999], [0.574707, 822.939], [0.580299, 824.567], [0.586103, 826.197], [0.591833, 827.74], [0.5974929999999999, 829.1949999999999], [0.603087, 830.558], [0.608619, 831.827], [0.614094, 833.0], [0.619516, 834.073], [0.624888, 835.045], [0.6302150000000001, 835.9119999999999], [0.635502, 836.672], [0.6407510000000001, 837.323], [0.645969, 837.861], [0.6511579999999999, 838.284], [0.656323, 838.5889999999999], [0.661469, 838.774], [0.666598, 838.837], [0.6794169999999999, 838.459], [0.692016, 837.3489999999999], [0.704395, 835.5409999999999], [0.716561, 833.0699999999999], [0.728519, 829.97], [0.740278, 826.2769999999999], [0.751844, 822.025], [0.763223, 817.25], [0.7744240000000001, 811.985], [0.7854519999999999, 806.2669999999999], [0.796315, 800.129], [0.807021, 793.606], [0.8175749999999999, 786.7339999999999], [0.8279850000000001, 779.546], [0.8382590000000001, 772.079], [0.848403, 764.365], [0.858082, 756.712], [0.865344, 767.977], [0.872957, 779.429], [0.880684, 790.6949999999999], [0.888524, 801.766], [0.896474, 812.631], [0.904533, 823.281], [0.912698, 833.706], [0.920968, 843.895], [0.9293399999999999, 853.8389999999999], [0.937811, 863.528], [0.9463809999999999, 872.951], [0.955047, 882.0989999999999], [0.9638070000000001, 890.962], [0.972659, 899.53], [0.981601, 907.793], [0.99063, 915.741], [0.999619, 923.257]], False)\n",
      "\n",
      "Cu-Mg digitized solid phases:\n",
      "{'type': 'ss', 'name': '(Cu)', 'comp': 0.000381243, 'cbounds': [[0.000381243, 673.505], [0.0669068, 994.389]], 'tbounds': [[0.000381243, 673.505], [0.000381243, 1352.52]]}\n",
      "{'type': 'lc', 'name': 'MgCu2', 'comp': 0.332825, 'tbounds': [[0.332825, 673.15], [0.332825, 1086.657]]}\n",
      "{'type': 'lc', 'name': 'Mg2Cu', 'comp': 0.6666030000000001, 'tbounds': [[0.6666030000000001, 673.15], [0.6666030000000001, 838.482]]}\n"
     ]
    }
   ],
   "source": [
    "print(\"All cached melting temperatures (K):\", lbd.melt_temps) # File at ../data/fusion_temperatures.json\n",
    "print(\"All cached melting enthalpies (J/mol):\", lbd.melt_enthalpies) # File at ../data/fusion_enthalpies.json\n",
    "print(\"All cached boiling temperatures (K):\", lbd.boiling_temps) # File at ../data/vaporization_temperatures.json\n",
    "print()\n",
    "\n",
    "# Now, we load the Cu-Mg phase diagram JSON (../data/Cu-Mg.json) as well as lists of component data for Cu and Mg\n",
    "# This step will always print the link to the MPDS entry when it is called so the phase diagram can be viewed\n",
    "cu_mg_json, cu_mg_component_data, cu_mg_digitized_liquidus = lbd.load_mpds_data('Cu-Mg', verbose=True)\n",
    "\n",
    "print(\"Cu-Mg component data (Elt: [Hmelt, Tmelt, Tvap]):\", cu_mg_component_data)\n",
    "print(\"Cu-Mg digitized liquidus ([X, T]):\", cu_mg_digitized_liquidus)\n",
    "print()\n",
    "\n",
    "# The liquidus is parsed earlier since having a complete liquidus curve is vital for data selection. \n",
    "# Once we have identified a good phase diagram source, we also need to know the solid phases decomposition behavior\n",
    "identified_cu_mg_phases = lbd.identify_mpds_phases(cu_mg_json)\n",
    "\n",
    "# 'type'=='lc' refers to line compounds (no solid solubility) and 'type'=='ss' refers to solid solution phases\n",
    "print(\"Cu-Mg digitized solid phases:\")\n",
    "for phase in identified_cu_mg_phases:\n",
    "    print(phase)"
   ]
  },
  {
   "cell_type": "markdown",
   "metadata": {},
   "source": [
    "Next, we'll walk through how to get DFT-calculated phase data with the `load_binary_data` script"
   ]
  },
  {
   "cell_type": "code",
   "execution_count": 3,
   "metadata": {},
   "outputs": [
    {
     "name": "stdout",
     "output_type": "stream",
     "text": [
      "Using DFT entries solved with GGA/GGA+U functionals.\n",
      "Loading cached DFT entry data.\n",
      "2 stable line compound(s) on the DFT convex hull.\n"
     ]
    },
    {
     "data": {
      "application/vnd.plotly.v1+json": {
       "config": {
        "plotlyServerURL": "https://plot.ly"
       },
       "data": [
        {
         "hoverinfo": "none",
         "line": {
          "color": "black",
          "width": 4
         },
         "mode": "lines",
         "showlegend": false,
         "type": "scatter",
         "x": [
          0.3333333333333333,
          0,
          null,
          0.6666666666666666,
          1,
          null,
          0.3333333333333333,
          0.6666666666666666,
          null
         ],
         "y": [
          -0.14264226,
          0,
          null,
          -0.10595244749999999,
          0,
          null,
          -0.14264226,
          -0.10595244749999999,
          null
         ]
        },
        {
         "hoverinfo": "skip",
         "mode": "text",
         "name": "Labels (stable)",
         "opacity": 1,
         "showlegend": true,
         "text": [
          "MgCu<sub>2</sub>",
          "Mg<sub>2</sub>Cu"
         ],
         "textposition": [
          "bottom right",
          "bottom right"
         ],
         "type": "scatter",
         "visible": true,
         "x": [
          0.3413333333333333,
          0.6746666666666666
         ],
         "y": [
          -0.15564226,
          -0.11895244749999999
         ]
        },
        {
         "error_y": {
          "array": [
           0,
           0,
           0,
           0
          ],
          "color": "gray",
          "thickness": 2.5,
          "type": "data",
          "width": 5
         },
         "hoverinfo": "text",
         "hoverlabel": {
          "font": {
           "size": 14
          }
         },
         "hovertext": [
          "MgCu<sub>2</sub> (mp-1038-GGA) <br>  Formation energy: -0.143 eV/atom <br>  (Stable)",
          "Cu (mp-30-GGA) <br>  Formation energy: 0.0 eV/atom <br>  (Stable)",
          "Mg<sub>2</sub>Cu (mp-2481-GGA) <br>  Formation energy: -0.106 eV/atom <br>  (Stable)",
          "Mg (mp-1056702-GGA) <br>  Formation energy: 0.0 eV/atom <br>  (Stable)"
         ],
         "marker": {
          "color": "darkgreen",
          "line": {
           "color": "black",
           "width": 2
          },
          "size": 16
         },
         "mode": "markers",
         "name": "Stable",
         "opacity": 0.99,
         "showlegend": true,
         "type": "scatter",
         "x": [
          0.3333333333333333,
          0,
          0.6666666666666666,
          1
         ],
         "y": [
          -0.14264226,
          0,
          -0.10595244749999999,
          0
         ]
        },
        {
         "hoverinfo": "text",
         "hoverlabel": {
          "font": {
           "size": 14
          }
         },
         "hovertext": [
          "Cu (mp-1010136-GGA) <br>  Formation energy: 0.036 eV/atom <br>  Energy Above Hull: (+0.036 eV/atom)",
          "Cu (mp-1120774-GGA) <br>  Formation energy: 0.159 eV/atom <br>  Energy Above Hull: (+0.159 eV/atom)",
          "Cu (mp-989782-GGA) <br>  Formation energy: 0.007 eV/atom <br>  Energy Above Hull: (+0.007 eV/atom)",
          "Cu (mp-989695-GGA) <br>  Formation energy: 0.006 eV/atom <br>  Energy Above Hull: (+0.006 eV/atom)",
          "Cu (mp-998890-GGA) <br>  Formation energy: 0.037 eV/atom <br>  Energy Above Hull: (+0.037 eV/atom)",
          "Cu (mp-1059259-GGA) <br>  Formation energy: 0.143 eV/atom <br>  Energy Above Hull: (+0.143 eV/atom)",
          "Mg (mp-1056351-GGA) <br>  Formation energy: 0.029 eV/atom <br>  Energy Above Hull: (+0.029 eV/atom)",
          "Mg (mp-1094122-GGA) <br>  Formation energy: 0.003 eV/atom <br>  Energy Above Hull: (+0.003 eV/atom)",
          "Mg (mp-153-GGA) <br>  Formation energy: 0.009 eV/atom <br>  Energy Above Hull: (+0.009 eV/atom)",
          "Mg (mp-973364-GGA) <br>  Formation energy: 0.013 eV/atom <br>  Energy Above Hull: (+0.013 eV/atom)",
          "Mg (mp-110-GGA) <br>  Formation energy: 0.026 eV/atom <br>  Energy Above Hull: (+0.026 eV/atom)",
          "Mg (mp-1247180-GGA) <br>  Formation energy: 0.177 eV/atom <br>  Energy Above Hull: (+0.177 eV/atom)",
          "MgCu (mp-2672345-GGA) <br>  Formation energy: -0.093 eV/atom <br>  Energy Above Hull: (+0.031 eV/atom)",
          "MgCu (mp-972916-GGA) <br>  Formation energy: -0.089 eV/atom <br>  Energy Above Hull: (+0.035 eV/atom)",
          "MgCu<sub>3</sub> (mp-1185856-GGA) <br>  Formation energy: -0.053 eV/atom <br>  Energy Above Hull: (+0.054 eV/atom)",
          "MgCu<sub>5</sub> (mp-1185860-GGA) <br>  Formation energy: -0.023 eV/atom <br>  Energy Above Hull: (+0.049 eV/atom)",
          "Mg<sub>2</sub>Cu (mp-1052023-GGA) <br>  Formation energy: -0.103 eV/atom <br>  Energy Above Hull: (+0.003 eV/atom)",
          "Mg<sub>2</sub>Cu (mp-865014-GGA) <br>  Formation energy: -0.101 eV/atom <br>  Energy Above Hull: (+0.005 eV/atom)",
          "Mg<sub>3</sub>Cu (mp-1016224-GGA) <br>  Formation energy: 0.04 eV/atom <br>  Energy Above Hull: (+0.119 eV/atom)",
          "Mg<sub>3</sub>Cu (mp-978279-GGA) <br>  Formation energy: -0.007 eV/atom <br>  Energy Above Hull: (+0.072 eV/atom)",
          "Mg<sub>3</sub>Cu (mp-2479851-GGA) <br>  Formation energy: -0.012 eV/atom <br>  Energy Above Hull: (+0.068 eV/atom)",
          "Mg<sub>5</sub>Cu (mp-1185803-GGA) <br>  Formation energy: 0.019 eV/atom <br>  Energy Above Hull: (+0.072 eV/atom)",
          "Mg<sub>7</sub>Cu (mp-1016285-GGA) <br>  Formation energy: 0.027 eV/atom <br>  Energy Above Hull: (+0.067 eV/atom)",
          "Mg<sub>15</sub>Cu (mp-1023610-GGA) <br>  Formation energy: 0.02 eV/atom <br>  Energy Above Hull: (+0.04 eV/atom)"
         ],
         "marker": {
          "color": [
           0.036,
           0.159,
           0.007,
           0.006,
           0.037,
           0.143,
           0.029,
           0.003,
           0.009,
           0.013,
           0.026,
           0.177,
           0.031,
           0.035,
           0.054,
           0.049,
           0.003,
           0.005,
           0.119,
           0.072,
           0.068,
           0.072,
           0.067,
           0.04
          ],
          "colorscale": [
           [
            0,
            "#fff5e3"
           ],
           [
            0.5,
            "#f24324"
           ],
           [
            1,
            "#c40000"
           ]
          ],
          "line": {
           "color": "black",
           "width": 1
          },
          "opacity": 0.8,
          "size": 7,
          "symbol": "diamond"
         },
         "mode": "markers",
         "name": "Above Hull",
         "showlegend": true,
         "type": "scatter",
         "x": [
          0,
          0,
          0,
          0,
          0,
          0,
          1,
          1,
          1,
          1,
          1,
          1,
          0.5,
          0.5,
          0.25,
          0.16666666666666666,
          0.6666666666666666,
          0.6666666666666666,
          0.75,
          0.75,
          0.75,
          0.8333333333333334,
          0.875,
          0.9375
         ],
         "y": [
          0.035708360000000106,
          0.15911679499999978,
          0.0074918249999997855,
          0.0057660850000003094,
          0.036640020000000106,
          0.14290572499999987,
          0.028723309999999946,
          0.003384133333333317,
          0.009278714999999993,
          0.013327720000000154,
          0.025801890000000105,
          0.17737867099999996,
          -0.09334389750000005,
          -0.08933417750000006,
          -0.053184760000000164,
          -0.022558080000000185,
          -0.10293337166666679,
          -0.10132316999999998,
          0.03988038999999999,
          -0.007181777500000042,
          -0.011553945000000176,
          0.01947678333333336,
          0.027001126250000063,
          0.0201140162500002
         ]
        }
       ],
       "layout": {
        "annotations": [
         {
          "align": "center",
          "font": {
           "color": "#000000",
           "size": 24
          },
          "opacity": 1,
          "showarrow": false,
          "text": "Cu",
          "x": -0.03,
          "xref": "x",
          "y": -0.03,
          "yref": "y"
         },
         {
          "align": "center",
          "font": {
           "color": "#000000",
           "size": 24
          },
          "opacity": 1,
          "showarrow": false,
          "text": "Mg",
          "x": 1.03,
          "xref": "x",
          "y": -0.03,
          "yref": "y"
         }
        ],
        "autosize": true,
        "coloraxis": {
         "colorbar": {
          "x": 1,
          "y": 0.05,
          "yanchor": "top"
         }
        },
        "hovermode": "closest",
        "legend": {
         "orientation": "h",
         "tracegroupgap": 7,
         "traceorder": "reversed",
         "x": 0,
         "xanchor": "left",
         "y": 1.05
        },
        "margin": {
         "b": 10,
         "l": 10,
         "pad": 0,
         "r": 10,
         "t": 0
        },
        "paper_bgcolor": "white",
        "plot_bgcolor": "white",
        "showlegend": true,
        "template": {
         "data": {
          "bar": [
           {
            "error_x": {
             "color": "#2a3f5f"
            },
            "error_y": {
             "color": "#2a3f5f"
            },
            "marker": {
             "line": {
              "color": "#E5ECF6",
              "width": 0.5
             },
             "pattern": {
              "fillmode": "overlay",
              "size": 10,
              "solidity": 0.2
             }
            },
            "type": "bar"
           }
          ],
          "barpolar": [
           {
            "marker": {
             "line": {
              "color": "#E5ECF6",
              "width": 0.5
             },
             "pattern": {
              "fillmode": "overlay",
              "size": 10,
              "solidity": 0.2
             }
            },
            "type": "barpolar"
           }
          ],
          "carpet": [
           {
            "aaxis": {
             "endlinecolor": "#2a3f5f",
             "gridcolor": "white",
             "linecolor": "white",
             "minorgridcolor": "white",
             "startlinecolor": "#2a3f5f"
            },
            "baxis": {
             "endlinecolor": "#2a3f5f",
             "gridcolor": "white",
             "linecolor": "white",
             "minorgridcolor": "white",
             "startlinecolor": "#2a3f5f"
            },
            "type": "carpet"
           }
          ],
          "choropleth": [
           {
            "colorbar": {
             "outlinewidth": 0,
             "ticks": ""
            },
            "type": "choropleth"
           }
          ],
          "contour": [
           {
            "colorbar": {
             "outlinewidth": 0,
             "ticks": ""
            },
            "colorscale": [
             [
              0,
              "#0d0887"
             ],
             [
              0.1111111111111111,
              "#46039f"
             ],
             [
              0.2222222222222222,
              "#7201a8"
             ],
             [
              0.3333333333333333,
              "#9c179e"
             ],
             [
              0.4444444444444444,
              "#bd3786"
             ],
             [
              0.5555555555555556,
              "#d8576b"
             ],
             [
              0.6666666666666666,
              "#ed7953"
             ],
             [
              0.7777777777777778,
              "#fb9f3a"
             ],
             [
              0.8888888888888888,
              "#fdca26"
             ],
             [
              1,
              "#f0f921"
             ]
            ],
            "type": "contour"
           }
          ],
          "contourcarpet": [
           {
            "colorbar": {
             "outlinewidth": 0,
             "ticks": ""
            },
            "type": "contourcarpet"
           }
          ],
          "heatmap": [
           {
            "colorbar": {
             "outlinewidth": 0,
             "ticks": ""
            },
            "colorscale": [
             [
              0,
              "#0d0887"
             ],
             [
              0.1111111111111111,
              "#46039f"
             ],
             [
              0.2222222222222222,
              "#7201a8"
             ],
             [
              0.3333333333333333,
              "#9c179e"
             ],
             [
              0.4444444444444444,
              "#bd3786"
             ],
             [
              0.5555555555555556,
              "#d8576b"
             ],
             [
              0.6666666666666666,
              "#ed7953"
             ],
             [
              0.7777777777777778,
              "#fb9f3a"
             ],
             [
              0.8888888888888888,
              "#fdca26"
             ],
             [
              1,
              "#f0f921"
             ]
            ],
            "type": "heatmap"
           }
          ],
          "heatmapgl": [
           {
            "colorbar": {
             "outlinewidth": 0,
             "ticks": ""
            },
            "colorscale": [
             [
              0,
              "#0d0887"
             ],
             [
              0.1111111111111111,
              "#46039f"
             ],
             [
              0.2222222222222222,
              "#7201a8"
             ],
             [
              0.3333333333333333,
              "#9c179e"
             ],
             [
              0.4444444444444444,
              "#bd3786"
             ],
             [
              0.5555555555555556,
              "#d8576b"
             ],
             [
              0.6666666666666666,
              "#ed7953"
             ],
             [
              0.7777777777777778,
              "#fb9f3a"
             ],
             [
              0.8888888888888888,
              "#fdca26"
             ],
             [
              1,
              "#f0f921"
             ]
            ],
            "type": "heatmapgl"
           }
          ],
          "histogram": [
           {
            "marker": {
             "pattern": {
              "fillmode": "overlay",
              "size": 10,
              "solidity": 0.2
             }
            },
            "type": "histogram"
           }
          ],
          "histogram2d": [
           {
            "colorbar": {
             "outlinewidth": 0,
             "ticks": ""
            },
            "colorscale": [
             [
              0,
              "#0d0887"
             ],
             [
              0.1111111111111111,
              "#46039f"
             ],
             [
              0.2222222222222222,
              "#7201a8"
             ],
             [
              0.3333333333333333,
              "#9c179e"
             ],
             [
              0.4444444444444444,
              "#bd3786"
             ],
             [
              0.5555555555555556,
              "#d8576b"
             ],
             [
              0.6666666666666666,
              "#ed7953"
             ],
             [
              0.7777777777777778,
              "#fb9f3a"
             ],
             [
              0.8888888888888888,
              "#fdca26"
             ],
             [
              1,
              "#f0f921"
             ]
            ],
            "type": "histogram2d"
           }
          ],
          "histogram2dcontour": [
           {
            "colorbar": {
             "outlinewidth": 0,
             "ticks": ""
            },
            "colorscale": [
             [
              0,
              "#0d0887"
             ],
             [
              0.1111111111111111,
              "#46039f"
             ],
             [
              0.2222222222222222,
              "#7201a8"
             ],
             [
              0.3333333333333333,
              "#9c179e"
             ],
             [
              0.4444444444444444,
              "#bd3786"
             ],
             [
              0.5555555555555556,
              "#d8576b"
             ],
             [
              0.6666666666666666,
              "#ed7953"
             ],
             [
              0.7777777777777778,
              "#fb9f3a"
             ],
             [
              0.8888888888888888,
              "#fdca26"
             ],
             [
              1,
              "#f0f921"
             ]
            ],
            "type": "histogram2dcontour"
           }
          ],
          "mesh3d": [
           {
            "colorbar": {
             "outlinewidth": 0,
             "ticks": ""
            },
            "type": "mesh3d"
           }
          ],
          "parcoords": [
           {
            "line": {
             "colorbar": {
              "outlinewidth": 0,
              "ticks": ""
             }
            },
            "type": "parcoords"
           }
          ],
          "pie": [
           {
            "automargin": true,
            "type": "pie"
           }
          ],
          "scatter": [
           {
            "fillpattern": {
             "fillmode": "overlay",
             "size": 10,
             "solidity": 0.2
            },
            "type": "scatter"
           }
          ],
          "scatter3d": [
           {
            "line": {
             "colorbar": {
              "outlinewidth": 0,
              "ticks": ""
             }
            },
            "marker": {
             "colorbar": {
              "outlinewidth": 0,
              "ticks": ""
             }
            },
            "type": "scatter3d"
           }
          ],
          "scattercarpet": [
           {
            "marker": {
             "colorbar": {
              "outlinewidth": 0,
              "ticks": ""
             }
            },
            "type": "scattercarpet"
           }
          ],
          "scattergeo": [
           {
            "marker": {
             "colorbar": {
              "outlinewidth": 0,
              "ticks": ""
             }
            },
            "type": "scattergeo"
           }
          ],
          "scattergl": [
           {
            "marker": {
             "colorbar": {
              "outlinewidth": 0,
              "ticks": ""
             }
            },
            "type": "scattergl"
           }
          ],
          "scattermapbox": [
           {
            "marker": {
             "colorbar": {
              "outlinewidth": 0,
              "ticks": ""
             }
            },
            "type": "scattermapbox"
           }
          ],
          "scatterpolar": [
           {
            "marker": {
             "colorbar": {
              "outlinewidth": 0,
              "ticks": ""
             }
            },
            "type": "scatterpolar"
           }
          ],
          "scatterpolargl": [
           {
            "marker": {
             "colorbar": {
              "outlinewidth": 0,
              "ticks": ""
             }
            },
            "type": "scatterpolargl"
           }
          ],
          "scatterternary": [
           {
            "marker": {
             "colorbar": {
              "outlinewidth": 0,
              "ticks": ""
             }
            },
            "type": "scatterternary"
           }
          ],
          "surface": [
           {
            "colorbar": {
             "outlinewidth": 0,
             "ticks": ""
            },
            "colorscale": [
             [
              0,
              "#0d0887"
             ],
             [
              0.1111111111111111,
              "#46039f"
             ],
             [
              0.2222222222222222,
              "#7201a8"
             ],
             [
              0.3333333333333333,
              "#9c179e"
             ],
             [
              0.4444444444444444,
              "#bd3786"
             ],
             [
              0.5555555555555556,
              "#d8576b"
             ],
             [
              0.6666666666666666,
              "#ed7953"
             ],
             [
              0.7777777777777778,
              "#fb9f3a"
             ],
             [
              0.8888888888888888,
              "#fdca26"
             ],
             [
              1,
              "#f0f921"
             ]
            ],
            "type": "surface"
           }
          ],
          "table": [
           {
            "cells": {
             "fill": {
              "color": "#EBF0F8"
             },
             "line": {
              "color": "white"
             }
            },
            "header": {
             "fill": {
              "color": "#C8D4E3"
             },
             "line": {
              "color": "white"
             }
            },
            "type": "table"
           }
          ]
         },
         "layout": {
          "annotationdefaults": {
           "arrowcolor": "#2a3f5f",
           "arrowhead": 0,
           "arrowwidth": 1
          },
          "autotypenumbers": "strict",
          "coloraxis": {
           "colorbar": {
            "outlinewidth": 0,
            "ticks": ""
           }
          },
          "colorscale": {
           "diverging": [
            [
             0,
             "#8e0152"
            ],
            [
             0.1,
             "#c51b7d"
            ],
            [
             0.2,
             "#de77ae"
            ],
            [
             0.3,
             "#f1b6da"
            ],
            [
             0.4,
             "#fde0ef"
            ],
            [
             0.5,
             "#f7f7f7"
            ],
            [
             0.6,
             "#e6f5d0"
            ],
            [
             0.7,
             "#b8e186"
            ],
            [
             0.8,
             "#7fbc41"
            ],
            [
             0.9,
             "#4d9221"
            ],
            [
             1,
             "#276419"
            ]
           ],
           "sequential": [
            [
             0,
             "#0d0887"
            ],
            [
             0.1111111111111111,
             "#46039f"
            ],
            [
             0.2222222222222222,
             "#7201a8"
            ],
            [
             0.3333333333333333,
             "#9c179e"
            ],
            [
             0.4444444444444444,
             "#bd3786"
            ],
            [
             0.5555555555555556,
             "#d8576b"
            ],
            [
             0.6666666666666666,
             "#ed7953"
            ],
            [
             0.7777777777777778,
             "#fb9f3a"
            ],
            [
             0.8888888888888888,
             "#fdca26"
            ],
            [
             1,
             "#f0f921"
            ]
           ],
           "sequentialminus": [
            [
             0,
             "#0d0887"
            ],
            [
             0.1111111111111111,
             "#46039f"
            ],
            [
             0.2222222222222222,
             "#7201a8"
            ],
            [
             0.3333333333333333,
             "#9c179e"
            ],
            [
             0.4444444444444444,
             "#bd3786"
            ],
            [
             0.5555555555555556,
             "#d8576b"
            ],
            [
             0.6666666666666666,
             "#ed7953"
            ],
            [
             0.7777777777777778,
             "#fb9f3a"
            ],
            [
             0.8888888888888888,
             "#fdca26"
            ],
            [
             1,
             "#f0f921"
            ]
           ]
          },
          "colorway": [
           "#636efa",
           "#EF553B",
           "#00cc96",
           "#ab63fa",
           "#FFA15A",
           "#19d3f3",
           "#FF6692",
           "#B6E880",
           "#FF97FF",
           "#FECB52"
          ],
          "font": {
           "color": "#2a3f5f"
          },
          "geo": {
           "bgcolor": "white",
           "lakecolor": "white",
           "landcolor": "#E5ECF6",
           "showlakes": true,
           "showland": true,
           "subunitcolor": "white"
          },
          "hoverlabel": {
           "align": "left"
          },
          "hovermode": "closest",
          "mapbox": {
           "style": "light"
          },
          "paper_bgcolor": "white",
          "plot_bgcolor": "#E5ECF6",
          "polar": {
           "angularaxis": {
            "gridcolor": "white",
            "linecolor": "white",
            "ticks": ""
           },
           "bgcolor": "#E5ECF6",
           "radialaxis": {
            "gridcolor": "white",
            "linecolor": "white",
            "ticks": ""
           }
          },
          "scene": {
           "xaxis": {
            "backgroundcolor": "#E5ECF6",
            "gridcolor": "white",
            "gridwidth": 2,
            "linecolor": "white",
            "showbackground": true,
            "ticks": "",
            "zerolinecolor": "white"
           },
           "yaxis": {
            "backgroundcolor": "#E5ECF6",
            "gridcolor": "white",
            "gridwidth": 2,
            "linecolor": "white",
            "showbackground": true,
            "ticks": "",
            "zerolinecolor": "white"
           },
           "zaxis": {
            "backgroundcolor": "#E5ECF6",
            "gridcolor": "white",
            "gridwidth": 2,
            "linecolor": "white",
            "showbackground": true,
            "ticks": "",
            "zerolinecolor": "white"
           }
          },
          "shapedefaults": {
           "line": {
            "color": "#2a3f5f"
           }
          },
          "ternary": {
           "aaxis": {
            "gridcolor": "white",
            "linecolor": "white",
            "ticks": ""
           },
           "baxis": {
            "gridcolor": "white",
            "linecolor": "white",
            "ticks": ""
           },
           "bgcolor": "#E5ECF6",
           "caxis": {
            "gridcolor": "white",
            "linecolor": "white",
            "ticks": ""
           }
          },
          "title": {
           "x": 0.05
          },
          "xaxis": {
           "automargin": true,
           "gridcolor": "white",
           "linecolor": "white",
           "ticks": "",
           "title": {
            "standoff": 15
           },
           "zerolinecolor": "white",
           "zerolinewidth": 2
          },
          "yaxis": {
           "automargin": true,
           "gridcolor": "white",
           "linecolor": "white",
           "ticks": "",
           "title": {
            "standoff": 15
           },
           "zerolinecolor": "white",
           "zerolinewidth": 2
          }
         }
        },
        "xaxis": {
         "anchor": "y",
         "gridcolor": "rgba(0,0,0,0.1)",
         "mirror": "ticks",
         "nticks": 8,
         "showgrid": true,
         "showline": true,
         "side": "bottom",
         "tickfont": {
          "size": 16
         },
         "ticks": "inside",
         "title": {
          "font": {
           "color": "#000000",
           "size": 20
          },
          "text": "Composition (Fraction Mg)"
         },
         "type": "linear",
         "zeroline": false
        },
        "yaxis": {
         "anchor": "x",
         "gridcolor": "rgba(0,0,0,0.1)",
         "mirror": "ticks",
         "showgrid": true,
         "showline": true,
         "side": "left",
         "tickfont": {
          "size": 16
         },
         "ticks": "inside",
         "title": {
          "font": {
           "color": "#000000",
           "size": 20
          },
          "text": "Formation energy (eV/atom)"
         },
         "type": "linear"
        }
       }
      }
     },
     "metadata": {},
     "output_type": "display_data"
    }
   ],
   "source": [
    "cu_mg_dft_ch, _ = lbd.get_dft_convexhull('Cu-Mg', verbose=True) # This returns and caches a pymatgen PhaseDiagram object\n",
    "\n",
    "# We can visualize this PhaseDiagram (convex hull of DFT T=0K compounds) using pymatgen's PDPlotter library\n",
    "from pymatgen.analysis.phase_diagram import PDPlotter\n",
    "cu_mg_pdp = PDPlotter(cu_mg_dft_ch)\n",
    "fig = cu_mg_pdp.get_plot()\n",
    "fig.update_layout(plot_bgcolor=\"white\", paper_bgcolor=\"white\") # Set a white figure background its visible in dark mode\n",
    "fig.show()"
   ]
  },
  {
   "cell_type": "markdown",
   "metadata": {},
   "source": [
    "To compare the data from both sources, we create a `BinaryLiquid` object to store all of the information.\n",
    "The `from_cache()` method auto-populates the object using the cached MPDS data and DFT-calculated data from the MP API\n",
    "\n",
    "In the event the digitized equilibrium phase data you have is not in the MPDS format, you can manually initialize \n",
    "`BinaryLiquid` objects, which is demonstrated in `adjustment_demo.ipynb`"
   ]
  },
  {
   "cell_type": "code",
   "execution_count": 4,
   "metadata": {},
   "outputs": [
    {
     "name": "stdout",
     "output_type": "stream",
     "text": [
      "Cu: H_fusion = 13260.0 J/mol, T_fusion = 1357.77 K, T_vaporization = 2835.15 K\n",
      "Mg: H_fusion = 8480.0 J/mol, T_fusion = 923.0 K, T_vaporization = 1363.15 K\n",
      "\n",
      "Reading MPDS json from entry at https://mpds.io/entry/C906729...\n",
      "\n"
     ]
    },
    {
     "name": "stderr",
     "output_type": "stream",
     "text": [
      "c:\\Users\\AbrarRauf\\miniconda3\\envs\\gliquid-env\\lib\\site-packages\\gliquid\\binary.py:1382: UserWarning:\n",
      "\n",
      "set_ticklabels() should only be used with a fixed number of ticks, i.e. after set_ticks() or using a FixedLocator.\n",
      "\n"
     ]
    },
    {
     "data": {
      "image/png": "[encoded data removed]",
      "text/plain": [
       "<Figure size 800x200 with 2 Axes>"
      ]
     },
     "metadata": {},
     "output_type": "display_data"
    }
   ],
   "source": [
    "cu_mg_system = BinaryLiquid.from_cache('Cu-Mg', param_format=param_format)\n",
    "cu_mg_plotter = BLPlotter(cu_mg_system)\n",
    "cu_mg_plotter.show('pc') # Plot a 'phase comparison' figure to display how well the calculated & digitized phases match\n",
    "\n",
    "# x-axis: Compostion of component B (Cu, atomic %)\n",
    "# y-axis: Temperature (MPDS, Kelvin) and Energy (Materials Project, eV/atom)\n",
    "# colors: Blue -> congruent melting phase, Purple -> incongruently melting phase, \n",
    "#         Yellow -> formation energy, Orange -> energy below convex hull"
   ]
  },
  {
   "cell_type": "markdown",
   "metadata": {},
   "source": [
    "Now, we have enough information to fit the **DFT-referenced liquid free energy**. \n",
    "\n",
    "When `fit_parameters()` is called, the code will identify all invariant points using the liquidus and solid phase data\n",
    "Only considering invariant points with matching DFT phases, the algorithm will narrow down the list of constraints and \n",
    "rank them in order of viability. The 'n_opts' parameter can be used to specify the maximum number of constraint \n",
    "combinations to try (default = 1).\n",
    "\n",
    "Example invariant points on a phase diagram (left) and resulting constraints obtained from the points (right)\n",
    "\n",
    "<img src=\"../figures/annotated_multi_invariant_points.png\" width=\"900\" height=\"700\"> <img src=\"../figures/invariant_reactions.png\" width=\"750\" height=\"700\">\n"
   ]
  },
  {
   "cell_type": "code",
   "execution_count": 5,
   "metadata": {},
   "outputs": [
    {
     "name": "stdout",
     "output_type": "stream",
     "text": [
      "--- Low temperature phases including component solid solutions ---\n",
      "{'type': 'ss', 'name': '(Cu)', 'comp': 0.000381243, 'cbounds': [[0.000381243, 673.505], [0.0669068, 994.389]], 'tbounds': [[0.000381243, 673.505], [0.000381243, 1352.52]]}\n",
      "{'type': 'lc', 'name': 'MgCu2', 'comp': 0.332825, 'tbounds': [[0.332825, 673.15], [0.332825, 1086.657]]}\n",
      "{'type': 'lc', 'name': 'Mg2Cu', 'comp': 0.6666030000000001, 'tbounds': [[0.6666030000000001, 673.15], [0.6666030000000001, 838.482]]}\n",
      "--- Identified invariant points ---\n",
      "{'type': 'eut', 'comp': 0.22010100000000002, 'temp': 994.1469999999999, 'phases': ['(Cu)', 'MgCu2'], 'phase_comps': [0.000381243, 0.332825]}\n",
      "{'type': 'cmp', 'comp': 0.332825, 'temp': 1086.657, 'phases': ['MgCu2'], 'phase_comps': [0.332825]}\n",
      "{'type': 'eut', 'comp': 0.574707, 'temp': 822.939, 'phases': ['MgCu2', 'Mg2Cu'], 'phase_comps': [0.332825, 0.6666030000000001]}\n",
      "{'type': 'cmp', 'comp': 0.6666030000000001, 'temp': 838.482, 'phases': ['Mg2Cu'], 'phase_comps': [0.6666030000000001]}\n",
      "{'type': 'eut', 'comp': 0.858082, 'temp': 756.712, 'phases': ['Mg2Cu', 'Mg'], 'phase_comps': [0.6666030000000001, 1]}\n",
      "\n",
      "Maximum composition range fitted: [0.000381243, 0.999619]\n",
      "Ignored composition ranges: []\n",
      "\n",
      "Success: [['eut', '0.57 - 1st order', 822.939, Eq(-0.149414*a - 122.958607746*b - 0.466513184906*c - 383.911893873359*d - 2235.85750420313, 10620.0496771875)], ['cmp', '0.33 - 0th order', 1086.657, Eq(0.222222222222222*a + 241.479333333333*b + 0.0740740740740741*c + 80.4931111111111*d - 4490.9210220711, -13762.8384561)], 45.674352543106686]\n",
      "Success: [['eut', '0.57 - 0th order lhs', 822.939, Eq(0.185422586708371*a + 152.5914780832*b - 0.0277047303704446*c - 22.7993031063233*d - 1454.58948388797, -13762.8384561)], ['cmp', '0.33 - 0th order', 1086.657, Eq(0.222222222222222*a + 241.479333333333*b + 0.0740740740740741*c + 80.4931111111111*d - 4490.9210220711, -13762.8384561)], 237.87559592493102]\n",
      "Success: [['cmp', '0.67 - 0th order', 838.482, Eq(0.222222222222222*a + 186.329333333333*b - 0.0740740740740741*c - 62.1097777777778*d - 2229.68439445835, -10222.8218970375)], ['cmp', '0.33 - 0th order', 1086.657, Eq(0.222222222222222*a + 241.479333333333*b + 0.0740740740740741*c + 80.4931111111111*d - 4490.9210220711, -13762.8384561)], 20.998642669706598]\n",
      "Success: [['eut', '0.86 - 1st order', 756.712, Eq(-0.716164*a - 541.929892768*b + 0.269336312344*c + 203.810019586453*d + 6986.08902489098, 30668.4656911125)], ['cmp', '0.33 - 0th order', 1086.657, Eq(0.222222222222222*a + 241.479333333333*b + 0.0740740740740741*c + 80.4931111111111*d - 4490.9210220711, -13762.8384561)], 31.039405081164936]\n",
      "Success: [['eut', '0.86 - 0th order lhs', 756.712, Eq(0.0984672423881273*a + 74.5113439220046*b - 0.0705186941776508*c - 53.3623421085585*d - 343.386602312291, -10222.8218970375)], ['cmp', '0.33 - 0th order', 1086.657, Eq(0.222222222222222*a + 241.479333333333*b + 0.0740740740740741*c + 80.4931111111111*d - 4490.9210220711, -13762.8384561)], 309.55497790427415]\n",
      "--- Beginning Nelder-Mead optimization ---\n",
      "Iteration # 0\n",
      "T=0K enthalpy constraint violated for guess {a: np.float64(-100000.0), c: np.float64(0.0)}\n",
      "Best guess: {a: np.float64(-20000.0), c: np.float64(-20000.0)} f=243.8206496002977\n",
      "Height of triangle = 80000.0\n",
      "--- 0.39548397064208984 seconds elapsed ---\n",
      "Iteration # 1\n",
      "Best guess: {a: np.float64(-60000.0), c: np.float64(0.0)} f=201.34612063431362\n",
      "Height of triangle = 40000.0\n",
      "--- 0.5907480716705322 seconds elapsed ---\n",
      "Iteration # 2\n",
      "T=0K enthalpy constraint violated for guess {a: np.float64(-90000.0), c: np.float64(-5000.0)}\n",
      "Best guess: {a: np.float64(-50000.0), c: np.float64(-25000.0)} f=133.9441069447045\n",
      "Height of triangle = 35000.0\n",
      "--- 0.5219516754150391 seconds elapsed ---\n",
      "Iteration # 3\n",
      "Best guess: {a: np.float64(-37500.0), c: np.float64(-16250.0)} f=38.94908514161974\n",
      "Height of triangle = 20625.0\n",
      "--- 0.5912821292877197 seconds elapsed ---\n",
      "Iteration # 4\n",
      "Best guess: {a: np.float64(-37500.0), c: np.float64(-16250.0)} f=38.94908514161974\n",
      "Height of triangle = 12500.0\n",
      "--- 0.5470578670501709 seconds elapsed ---\n",
      "Iteration # 5\n",
      "Best guess: {a: np.float64(-37500.0), c: np.float64(-16250.0)} f=38.94908514161974\n",
      "Height of triangle = 10312.5\n",
      "--- 0.608302116394043 seconds elapsed ---\n",
      "Iteration # 6\n",
      "Best guess: {a: np.float64(-37500.0), c: np.float64(-16250.0)} f=38.94908514161974\n",
      "Height of triangle = 8828.125\n",
      "--- 0.5946991443634033 seconds elapsed ---\n",
      "Iteration # 7\n",
      "Best guess: {a: np.float64(-37500.0), c: np.float64(-16250.0)} f=38.94908514161974\n",
      "Height of triangle = 7363.28125\n",
      "--- 0.5869309902191162 seconds elapsed ---\n",
      "Iteration # 8\n",
      "Best guess: {a: np.float64(-37500.0), c: np.float64(-16250.0)} f=38.94908514161974\n",
      "Height of triangle = 6254.8828125\n",
      "--- 0.5643453598022461 seconds elapsed ---\n",
      "Iteration # 9\n",
      "Best guess: {a: np.float64(-37500.0), c: np.float64(-16250.0)} f=38.94908514161974\n",
      "Height of triangle = 5245.361328125\n",
      "--- 0.586639404296875 seconds elapsed ---\n",
      "Iteration # 10\n",
      "Best guess: {a: np.float64(-37500.0), c: np.float64(-16250.0)} f=38.94908514161974\n",
      "Height of triangle = 4438.78173828125\n",
      "--- 0.5694353580474854 seconds elapsed ---\n",
      "Iteration # 11\n",
      "Best guess: {a: np.float64(-37500.0), c: np.float64(-16250.0)} f=38.94908514161974\n",
      "Height of triangle = 3732.3760986328125\n",
      "--- 0.5908441543579102 seconds elapsed ---\n",
      "Iteration # 12\n",
      "Best guess: {a: np.float64(-37500.0), c: np.float64(-16250.0)} f=38.94908514161974\n",
      "Height of triangle = 3152.484893798828\n",
      "--- 0.619025468826294 seconds elapsed ---\n",
      "Iteration # 13\n",
      "Best guess: {a: np.float64(-37500.0), c: np.float64(-16250.0)} f=38.94908514161974\n",
      "Height of triangle = 2654.3092727661133\n",
      "--- 0.610325813293457 seconds elapsed ---\n",
      "Iteration # 14\n",
      "Best guess: {a: np.float64(-37500.0), c: np.float64(-16250.0)} f=38.94908514161974\n",
      "Height of triangle = 2239.8197650909424\n",
      "--- 0.5700180530548096 seconds elapsed ---\n",
      "Iteration # 15\n",
      "Best guess: {a: np.float64(-37500.0), c: np.float64(-16250.0)} f=38.94908514161974\n",
      "Height of triangle = 1887.1095776557922\n",
      "--- 0.6266276836395264 seconds elapsed ---\n",
      "Iteration # 16\n",
      "Best guess: {a: np.float64(-39091.68727695942), c: np.float64(-16656.507067382336)} f=38.48615084340971\n",
      "Height of triangle = 1591.6872769594193\n",
      "--- 0.6635830402374268 seconds elapsed ---\n",
      "Iteration # 17\n",
      "Best guess: {a: np.float64(-38841.47660806775), c: np.float64(-16577.26633362472)} f=37.73206063407215\n",
      "Height of triangle = 1466.581942513585\n",
      "--- 0.6692638397216797 seconds elapsed ---\n",
      "Iteration # 18\n",
      "Best guess: {a: np.float64(-38233.29097125679), c: np.float64(-16433.443350251764)} f=37.27093256354542\n",
      "Height of triangle = 608.1856368109584\n",
      "--- 0.6589710712432861 seconds elapsed ---\n",
      "Iteration # 19\n",
      "Best guess: {a: np.float64(-38233.29097125679), c: np.float64(-16433.443350251764)} f=37.27093256354542\n",
      "Height of triangle = 581.244562054053\n",
      "--- 0.6750493049621582 seconds elapsed ---\n",
      "Iteration # 20\n",
      "Best guess: {a: np.float64(-38233.29097125679), c: np.float64(-16433.443350251764)} f=37.27093256354542\n",
      "Height of triangle = 449.40395891899243\n",
      "--- 0.6951272487640381 seconds elapsed ---\n",
      "Iteration # 21\n",
      "Best guess: {a: np.float64(-38636.26424201357), c: np.float64(-16534.38300065318)} f=37.26932241734376\n",
      "Height of triangle = 402.9732707567746\n",
      "--- 0.6464898586273193 seconds elapsed ---\n",
      "Iteration # 22\n",
      "Best guess: {a: np.float64(-38558.73626840548), c: np.float64(-16513.069959246423)} f=37.15901595774465\n",
      "Height of triangle = 364.2092839527322\n",
      "--- 0.6463415622711182 seconds elapsed ---\n",
      "Iteration # 23\n",
      "Best guess: {a: np.float64(-38415.39561323316), c: np.float64(-16478.584915100782)} f=37.09994479881281\n",
      "Height of triangle = 298.39660238850047\n",
      "--- 0.7333469390869141 seconds elapsed ---\n",
      "Iteration # 24\n",
      "Best guess: {a: np.float64(-38337.86763962507), c: np.float64(-16457.27187369403)} f=37.06912397791978\n",
      "Height of triangle = 182.1046419763734\n",
      "--- 0.7030360698699951 seconds elapsed ---\n",
      "Iteration # 25\n",
      "Best guess: {a: np.float64(-38337.86763962507), c: np.float64(-16457.27187369403)} f=37.06912397791978\n",
      "Height of triangle = 91.05232098817942\n",
      "--- 0.6682910919189453 seconds elapsed ---\n",
      "Iteration # 26\n",
      "Best guess: {a: np.float64(-38337.86763962507), c: np.float64(-16457.27187369403)} f=37.06912397791978\n",
      "Height of triangle = 84.29014729813207\n",
      "--- 0.5531089305877686 seconds elapsed ---\n",
      "Iteration # 27\n",
      "Best guess: {a: np.float64(-38344.62981331511), c: np.float64(-16457.900744202907)} f=37.057704123166076\n",
      "Height of triangle = 80.9090604531084\n",
      "--- 0.7682394981384277 seconds elapsed ---\n",
      "Iteration # 28\n",
      "Best guess: {a: np.float64(-38344.62981331511), c: np.float64(-16457.900744202907)} f=37.057704123166076\n",
      "Height of triangle = 40.454530226561474\n",
      "--- 0.7630667686462402 seconds elapsed ---\n",
      "Iteration # 29\n",
      "Best guess: {a: np.float64(-38344.62981331511), c: np.float64(-16457.900744202907)} f=37.057704123166076\n",
      "Height of triangle = 16.846178268271615\n",
      "--- 0.6628918647766113 seconds elapsed ---\n",
      "--- Nelder-Mead converged in 18.806383848190308 seconds ---\n",
      "Mean temperature deviation per point between liquidus curves = 37.057704123166076 \n",
      "\n",
      "--- Selected constraints ---\n",
      "Invariant: cmp, Type: 0.67 - 0th order, Temperature: 838.5, Equation: Eq(0.222222222222222*a + 186.329333333333*b - 0.0740740740740741*c - 62.1097777777778*d - 2229.68439445835, -10222.8218970375)\n",
      "Invariant: cmp, Type: 0.33 - 0th order, Temperature: 1086.7, Equation: Eq(0.222222222222222*a + 241.479333333333*b + 0.0740740740740741*c + 80.4931111111111*d - 4490.9210220711, -13762.8384561)\n",
      "--- Beginning Nelder-Mead optimization ---\n",
      "Iteration # 0\n",
      "Best guess: {b: np.float64(-5.0), d: np.float64(5.0)} f=20.703849307521686\n",
      "Height of triangle = 20.0\n",
      "--- 0.568976640701294 seconds elapsed ---\n",
      "Iteration # 1\n",
      "Best guess: {b: np.float64(10.0), d: np.float64(10.0)} f=18.226996930314325\n",
      "Height of triangle = 50.0\n",
      "--- 0.5708982944488525 seconds elapsed ---\n",
      "Iteration # 2\n",
      "Best guess: {b: np.float64(-2.5), d: np.float64(32.5)} f=14.838456345036885\n",
      "Height of triangle = 22.5\n",
      "--- 0.6369795799255371 seconds elapsed ---\n",
      "Iteration # 3\n",
      "Best guess: {b: np.float64(-2.5), d: np.float64(32.5)} f=14.838456345036885\n",
      "Height of triangle = 19.375\n",
      "--- 0.6909055709838867 seconds elapsed ---\n",
      "Iteration # 4\n",
      "Best guess: {b: np.float64(-2.5), d: np.float64(32.5)} f=14.838456345036885\n",
      "Height of triangle = 16.09375\n",
      "--- 0.672081708908081 seconds elapsed ---\n",
      "Iteration # 5\n",
      "Best guess: {b: np.float64(-2.5), d: np.float64(32.5)} f=14.838456345036885\n",
      "Height of triangle = 16.09375\n",
      "--- 0.7209556102752686 seconds elapsed ---\n",
      "Iteration # 6\n",
      "Best guess: {b: np.float64(-2.5), d: np.float64(32.5)} f=14.838456345036885\n",
      "Height of triangle = 42.6171875\n",
      "--- 0.6440675258636475 seconds elapsed ---\n",
      "Iteration # 7\n",
      "Best guess: {b: np.float64(-11.455078125), d: np.float64(48.369140625)} f=14.600299686303385\n",
      "Height of triangle = 37.626953125\n",
      "--- 0.8093323707580566 seconds elapsed ---\n",
      "Iteration # 8\n",
      "Best guess: {b: np.float64(-14.443359375), d: np.float64(59.248046875)} f=13.758120179868376\n",
      "Height of triangle = 21.30859375\n",
      "--- 0.72930908203125 seconds elapsed ---\n",
      "Iteration # 9\n",
      "Best guess: {b: np.float64(-14.443359375), d: np.float64(59.248046875)} f=13.758120179868376\n",
      "Height of triangle = 16.09375\n",
      "--- 0.5548577308654785 seconds elapsed ---\n",
      "Iteration # 10\n",
      "Best guess: {b: np.float64(-10.341796875), d: np.float64(56.865234375)} f=13.10644180376056\n",
      "Height of triangle = 29.8046875\n",
      "--- 0.5446681976318359 seconds elapsed ---\n",
      "Iteration # 11\n",
      "Best guess: {b: np.float64(-17.060546875), d: np.float64(72.958984375)} f=12.97087219115775\n",
      "Height of triangle = 16.09375\n",
      "--- 0.587944507598877 seconds elapsed ---\n",
      "Iteration # 12\n",
      "Best guess: {b: np.float64(-12.958984375), d: np.float64(70.576171875)} f=11.983785369978193\n",
      "Height of triangle = 14.90234375\n",
      "--- 0.737267017364502 seconds elapsed ---\n",
      "Iteration # 13\n",
      "Best guess: {b: np.float64(-12.958984375), d: np.float64(70.576171875)} f=11.983785369978193\n",
      "Height of triangle = 6.259765625\n",
      "--- 0.7010371685028076 seconds elapsed ---\n",
      "Iteration # 14\n",
      "Best guess: {b: np.float64(-12.958984375), d: np.float64(70.576171875)} f=11.983785369978193\n",
      "Height of triangle = 6.072998046875\n",
      "--- 0.6884689331054688 seconds elapsed ---\n",
      "Iteration # 15\n",
      "Best guess: {b: np.float64(-12.958984375), d: np.float64(70.576171875)} f=11.983785369978193\n",
      "Height of triangle = 6.072998046875\n",
      "--- 0.6168463230133057 seconds elapsed ---\n",
      "Iteration # 16\n",
      "Best guess: {b: np.float64(-14.5855712890625), d: np.float64(73.4259033203125)} f=11.938581170223786\n",
      "Height of triangle = 2.8497314453125\n",
      "--- 0.8151500225067139 seconds elapsed ---\n",
      "Iteration # 17\n",
      "Best guess: {b: np.float64(-14.5855712890625), d: np.float64(73.4259033203125)} f=11.938581170223786\n",
      "Height of triangle = 2.5868988037109375\n",
      "--- 0.7094228267669678 seconds elapsed ---\n",
      "Iteration # 18\n",
      "Best guess: {b: np.float64(-13.423118591308594), d: np.float64(71.86962127685547)} f=11.923536328629265\n",
      "Height of triangle = 1.5562820434570312\n",
      "--- 0.6828780174255371 seconds elapsed ---\n",
      "Iteration # 19\n",
      "Best guess: {b: np.float64(-13.423118591308594), d: np.float64(71.86962127685547)} f=11.923536328629265\n",
      "Height of triangle = 1.5562820434570312\n",
      "--- 0.8815212249755859 seconds elapsed ---\n",
      "Iteration # 20\n",
      "Best guess: {b: np.float64(-14.412050247192383), d: np.float64(72.52152442932129)} f=11.92349614446456\n",
      "Height of triangle = 2.460660934448242\n",
      "--- 0.5414769649505615 seconds elapsed ---\n",
      "--- Nelder-Mead stopped after 14.105605602264404 seconds ---\n",
      "Mean temperature deviation per point between liquidus curves = 11.92349614446456 \n",
      "\n",
      "--- Selected constraints ---\n",
      "Invariant: eut, Type: 0.86 - 1st order, Temperature: 756.7, Equation: Eq(-0.716164*a - 541.929892768*b + 0.269336312344*c + 203.810019586453*d + 6986.08902489098, 30668.4656911125)\n",
      "Invariant: cmp, Type: 0.33 - 0th order, Temperature: 1086.7, Equation: Eq(0.222222222222222*a + 241.479333333333*b + 0.0740740740740741*c + 80.4931111111111*d - 4490.9210220711, -13762.8384561)\n",
      "--- Beginning Nelder-Mead optimization ---\n",
      "Iteration # 0\n",
      "Best guess: {b: np.float64(-5.0), d: np.float64(5.0)} f=28.08911366479105\n",
      "Height of triangle = 40.0\n",
      "--- 0.6325762271881104 seconds elapsed ---\n",
      "Iteration # 1\n",
      "Best guess: {b: np.float64(-25.0), d: np.float64(10.0)} f=24.625784798558225\n",
      "Height of triangle = 25.0\n",
      "--- 0.7087888717651367 seconds elapsed ---\n",
      "Iteration # 2\n",
      "Best guess: {b: np.float64(-25.0), d: np.float64(20.0)} f=21.86360957643386\n",
      "Height of triangle = 20.0\n",
      "--- 0.7510335445404053 seconds elapsed ---\n",
      "Iteration # 3\n",
      "Best guess: {b: np.float64(-25.0), d: np.float64(20.0)} f=21.86360957643386\n",
      "Height of triangle = 10.0\n",
      "--- 0.7369997501373291 seconds elapsed ---\n",
      "Iteration # 4\n",
      "Best guess: {b: np.float64(-25.0), d: np.float64(20.0)} f=21.86360957643386\n",
      "Height of triangle = 25.0\n",
      "--- 0.6387605667114258 seconds elapsed ---\n",
      "Iteration # 5\n",
      "Best guess: {b: np.float64(-17.5), d: np.float64(28.75)} f=19.305456935322592\n",
      "Height of triangle = 47.5\n",
      "--- 0.6949112415313721 seconds elapsed ---\n",
      "Iteration # 6\n",
      "Best guess: {b: np.float64(-23.75), d: np.float64(48.125)} f=16.031911968393292\n",
      "Height of triangle = 73.75\n",
      "--- 0.8610954284667969 seconds elapsed ---\n",
      "Iteration # 7\n",
      "Best guess: {b: np.float64(-11.875), d: np.float64(75.3125)} f=12.203315501609682\n",
      "Height of triangle = 32.96875\n",
      "--- 0.7154076099395752 seconds elapsed ---\n",
      "Iteration # 8\n",
      "Best guess: {b: np.float64(-11.875), d: np.float64(75.3125)} f=12.203315501609682\n",
      "Height of triangle = 30.078125\n",
      "--- 0.7051501274108887 seconds elapsed ---\n",
      "Iteration # 9\n",
      "Best guess: {b: np.float64(-10.2734375), d: np.float64(66.34765625)} f=11.616774307134687\n",
      "Height of triangle = 25.595703125\n",
      "--- 0.691788911819458 seconds elapsed ---\n",
      "Iteration # 10\n",
      "Best guess: {b: np.float64(-10.2734375), d: np.float64(66.34765625)} f=11.616774307134687\n",
      "Height of triangle = 12.7978515625\n",
      "--- 0.712548017501831 seconds elapsed ---\n",
      "Iteration # 11\n",
      "Best guess: {b: np.float64(-12.7197265625), d: np.float64(64.43115234375)} f=11.414152247461175\n",
      "Height of triangle = 9.923095703125\n",
      "--- 0.9495911598205566 seconds elapsed ---\n",
      "Iteration # 12\n",
      "Best guess: {b: np.float64(-11.685791015625), d: np.float64(70.3509521484375)} f=11.258091576490786\n",
      "Height of triangle = 5.9197998046875\n",
      "--- 0.7830214500427246 seconds elapsed ---\n",
      "Iteration # 13\n",
      "Best guess: {b: np.float64(-13.16741943359375), d: np.float64(67.91275024414062)} f=11.108398348100748\n",
      "Height of triangle = 4.7006988525390625\n",
      "--- 0.7571554183959961 seconds elapsed ---\n",
      "Iteration # 14\n",
      "Best guess: {b: np.float64(-12.573165893554688), d: np.float64(66.78150177001953)} f=11.099570166200518\n",
      "Height of triangle = 3.003826141357422\n",
      "--- 0.7445352077484131 seconds elapsed ---\n",
      "Iteration # 15\n",
      "Best guess: {b: np.float64(-12.573165893554688), d: np.float64(66.78150177001953)} f=11.099570166200518\n",
      "Height of triangle = 1.501913070678711\n",
      "--- 0.6539759635925293 seconds elapsed ---\n",
      "Iteration # 16\n",
      "Best guess: {b: np.float64(-12.574167251586914), d: np.float64(68.09808254241943)} f=11.088179075198195\n",
      "Height of triangle = 1.3165807723999023\n",
      "--- 0.7207169532775879 seconds elapsed ---\n",
      "Iteration # 17\n",
      "Best guess: {b: np.float64(-12.870543003082275), d: np.float64(67.67627120018005)} f=11.059752803596606\n",
      "Height of triangle = 1.1056751012802124\n",
      "--- 0.7031917572021484 seconds elapsed ---\n",
      "Iteration # 18\n",
      "Best guess: {b: np.float64(-12.870543003082275), d: np.float64(67.67627120018005)} f=11.059752803596606\n",
      "Height of triangle = 0.592777281999588\n",
      "--- 0.7637591361999512 seconds elapsed ---\n",
      "--- Nelder-Mead converged in 14.068853855133057 seconds ---\n",
      "Mean temperature deviation per point between liquidus curves = 11.059752803596606 \n",
      "\n",
      "--- Selected constraints ---\n",
      "Invariant: pseudo, Type: -, Temperature: 1056.7, Equation: Eq(a + 1056.741*b, -38344.6298133151)\n",
      "Invariant: pseudo, Type: -, Temperature: 1056.7, Equation: Eq(c + 1056.741*d, -16457.9007442029)\n",
      "--- Beginning Nelder-Mead optimization ---\n",
      "Iteration # 0\n",
      "Best guess: {b: np.float64(5.0), d: np.float64(-5.0)} f=30.582275303381564\n",
      "Height of triangle = 20.0\n",
      "--- 0.6082122325897217 seconds elapsed ---\n",
      "Iteration # 1\n",
      "Best guess: {b: np.float64(5.0), d: np.float64(-15.0)} f=24.850300919182718\n",
      "Height of triangle = 10.0\n",
      "--- 0.8135232925415039 seconds elapsed ---\n",
      "Iteration # 2\n",
      "Best guess: {b: np.float64(5.0), d: np.float64(-15.0)} f=24.850300919182718\n",
      "Height of triangle = 10.0\n",
      "--- 0.5999965667724609 seconds elapsed ---\n",
      "Iteration # 3\n",
      "Best guess: {b: np.float64(5.0), d: np.float64(-15.0)} f=24.850300919182718\n",
      "Height of triangle = 16.25\n",
      "--- 0.4922051429748535 seconds elapsed ---\n",
      "Iteration # 4\n",
      "Best guess: {b: np.float64(7.5), d: np.float64(-21.25)} f=23.87754734681395\n",
      "Height of triangle = 6.875\n",
      "--- 0.6511805057525635 seconds elapsed ---\n",
      "Iteration # 5\n",
      "Best guess: {b: np.float64(7.5), d: np.float64(-21.25)} f=23.87754734681395\n",
      "Height of triangle = 6.5625\n",
      "--- 0.5801076889038086 seconds elapsed ---\n",
      "Iteration # 6\n",
      "Best guess: {b: np.float64(6.09375), d: np.float64(-16.484375)} f=23.809555382623383\n",
      "Height of triangle = 4.765625\n",
      "--- 0.5812458992004395 seconds elapsed ---\n",
      "Iteration # 7\n",
      "Best guess: {b: np.float64(6.09375), d: np.float64(-16.484375)} f=23.809555382623383\n",
      "Height of triangle = 4.619140625\n",
      "--- 0.6246356964111328 seconds elapsed ---\n",
      "Iteration # 8\n",
      "Best guess: {b: np.float64(6.982421875), d: np.float64(-18.9404296875)} f=23.58361903212035\n",
      "Height of triangle = 2.4560546875\n",
      "--- 0.5228509902954102 seconds elapsed ---\n",
      "Iteration # 9\n",
      "Best guess: {b: np.float64(6.240234375), d: np.float64(-18.6474609375)} f=23.569194625725103\n",
      "Height of triangle = 2.3095703125\n",
      "--- 0.741626501083374 seconds elapsed ---\n",
      "Iteration # 10\n",
      "Best guess: {b: np.float64(6.240234375), d: np.float64(-18.6474609375)} f=23.569194625725103\n",
      "Height of triangle = 2.3095703125\n",
      "--- 0.5278646945953369 seconds elapsed ---\n",
      "Iteration # 11\n",
      "Best guess: {b: np.float64(6.8701171875), d: np.float64(-19.94873046875)} f=23.5189451666797\n",
      "Height of triangle = 1.30126953125\n",
      "--- 0.5741493701934814 seconds elapsed ---\n",
      "Iteration # 12\n",
      "Best guess: {b: np.float64(6.8701171875), d: np.float64(-19.94873046875)} f=23.5189451666797\n",
      "Height of triangle = 0.88653564453125\n",
      "--- 0.635714054107666 seconds elapsed ---\n",
      "--- Nelder-Mead converged in 8.042219877243042 seconds ---\n",
      "Mean temperature deviation per point between liquidus curves = 23.5189451666797 \n",
      "\n",
      "--- Cu-Mg non-ideal mixing parameter fitting results: ---\n",
      "MAE: 11.923\n",
      "RMSE: 16.826\n",
      "NORM_MAE: 0.009\n",
      "NORM_RMSE: 0.012\n",
      "L0_A: -27973.445\n",
      "L0_B: -14.412\n",
      "L1_A: -73073.706\n",
      "L1_B: 72.522\n",
      "L0: -43203.250\n",
      "L1: 3562.762\n"
     ]
    },
    {
     "data": {
      "application/vnd.plotly.v1+json": {
       "config": {
        "plotlyServerURL": "https://plot.ly"
       },
       "data": [
        {
         "line": {
          "color": "#B82E2E",
          "dash": "dash",
          "width": 4
         },
         "mode": "lines",
         "showlegend": false,
         "type": "scatter",
         "x": [
          0.0381243,
          1.44819,
          2.85028,
          4.23608,
          5.60578,
          6.959569999999999,
          8.29764,
          9.62018,
          10.9274,
          12.2194,
          13.496500000000001,
          14.758799999999999,
          16.0065,
          17.2398,
          18.4588,
          19.6639,
          20.8551,
          22.0101,
          22.944,
          23.8676,
          24.7438,
          25.5749,
          26.3629,
          27.11,
          27.8186,
          28.4908,
          29.1288,
          29.734899999999996,
          30.311299999999996,
          30.860299999999995,
          31.3843,
          31.885600000000004,
          32.3668,
          32.8304,
          33.2787,
          34.7719,
          36.2493,
          37.7116,
          39.1603,
          40.597,
          42.0234,
          43.4413,
          44.8521,
          46.2576,
          47.6591,
          49.0583,
          50.4567,
          51.8556,
          53.25650000000001,
          54.6609,
          56.0703,
          57.470699999999994,
          58.0299,
          58.6103,
          59.1833,
          59.74929999999999,
          60.3087,
          60.861900000000006,
          61.409400000000005,
          61.9516,
          62.4888,
          63.02150000000001,
          63.550200000000004,
          64.0751,
          64.5969,
          65.1158,
          65.6323,
          66.1469,
          66.6598,
          67.9417,
          69.2016,
          70.4395,
          71.6561,
          72.8519,
          74.0278,
          75.1844,
          76.3223,
          77.4424,
          78.5452,
          79.6315,
          80.7021,
          81.7575,
          82.7985,
          83.8259,
          84.8403,
          85.8082,
          86.5344,
          87.2957,
          88.0684,
          88.8524,
          89.6474,
          90.4533,
          91.2698,
          92.0968,
          92.934,
          93.7811,
          94.6381,
          95.5047,
          96.3807,
          97.2659,
          98.1601,
          99.063,
          99.9619
         ],
         "y": [
          1083.62,
          1066.63,
          1048.94,
          1030.6599999999999,
          1011.8100000000001,
          992.39,
          972.426,
          951.928,
          930.909,
          909.3829999999999,
          887.362,
          864.861,
          841.8939999999999,
          818.4719999999999,
          794.61,
          770.321,
          745.619,
          720.997,
          729.788,
          738.662,
          747.213,
          755.408,
          763.2120000000001,
          770.59,
          777.5079999999999,
          783.9319999999999,
          789.8280000000001,
          795.161,
          799.899,
          804.005,
          807.447,
          810.1900000000002,
          812.198,
          813.4339999999999,
          813.86,
          812.4530000000001,
          808.341,
          801.715,
          792.765,
          781.68,
          768.6459999999998,
          753.849,
          737.473,
          719.704,
          700.725,
          680.722,
          659.88,
          638.383,
          616.417,
          594.165,
          571.814,
          549.789,
          551.417,
          553.047,
          554.59,
          556.045,
          557.408,
          558.677,
          559.85,
          560.923,
          561.895,
          562.762,
          563.522,
          564.173,
          564.711,
          565.134,
          565.439,
          565.624,
          565.687,
          565.309,
          564.199,
          562.391,
          559.92,
          556.82,
          553.127,
          548.875,
          544.1,
          538.835,
          533.117,
          526.979,
          520.456,
          513.584,
          506.3960000000001,
          498.929,
          491.21500000000003,
          483.562,
          494.827,
          506.279,
          517.545,
          528.616,
          539.481,
          550.131,
          560.556,
          570.745,
          580.689,
          590.378,
          599.801,
          608.949,
          617.812,
          626.38,
          634.643,
          642.591,
          650.107
         ]
        },
        {
         "hovertemplate": "label=MgCu2<br>x=%{x}<br>t=%{y}<extra></extra>",
         "legendgroup": "MgCu2",
         "line": {
          "color": "rgb(246, 207, 113)",
          "dash": "solid",
          "width": 4
         },
         "marker": {
          "symbol": "circle"
         },
         "mode": "lines",
         "name": "MgCu2",
         "orientation": "v",
         "showlegend": false,
         "type": "scatter",
         "x": [
          33,
          33,
          33,
          33,
          33,
          33,
          33,
          33,
          33,
          33,
          33,
          33,
          33,
          33,
          33,
          33,
          33,
          33,
          33,
          33,
          33,
          33,
          33,
          33,
          33,
          33,
          33,
          33,
          33,
          33,
          33,
          33,
          33,
          33,
          33,
          33,
          33,
          33,
          33,
          33,
          33
         ],
         "xaxis": "x",
         "y": [
          545.6602829672969,
          559.718879453649,
          727.7888431870052,
          740.8246791178273,
          746.7622340346084,
          677.2269528568297,
          766.4781770893657,
          754.4794679453979,
          768.6815832008339,
          758.1866641098546,
          692.5886460316376,
          707.2943525057425,
          734.4412510050921,
          721.2671376327719,
          576.7856800710036,
          593.9560867380461,
          628.1295388164834,
          611.1105662962383,
          644.895815798228,
          661.2968859985559,
          778.2236665413876,
          786.7981897800486,
          794.3978514100585,
          817.8742942662506,
          811.359008415233,
          815.0894134368706,
          776.995717213044,
          786.1720567077574,
          794.1187331349021,
          820.6454135316663,
          811.369207917459,
          815.1012126856346,
          806.6728263654685,
          801.021502263843,
          820.6454135316663,
          819.7235330079271,
          806.656518139701,
          800.9239357245757,
          817.8803754502102,
          819.7249964601284,
          -273.15
         ],
         "yaxis": "y"
        },
        {
         "hovertemplate": "label=Mg2Cu<br>x=%{x}<br>t=%{y}<extra></extra>",
         "legendgroup": "Mg2Cu",
         "line": {
          "color": "rgb(248, 156, 116)",
          "dash": "solid",
          "width": 4
         },
         "marker": {
          "symbol": "circle"
         },
         "mode": "lines",
         "name": "Mg2Cu",
         "orientation": "v",
         "showlegend": false,
         "type": "scatter",
         "x": [
          67,
          67,
          67,
          67,
          67,
          67,
          67,
          67,
          67,
          67,
          67,
          67,
          67,
          67,
          67,
          67,
          67,
          67,
          67,
          67,
          67,
          67,
          67,
          67,
          67,
          67,
          67,
          67,
          67
         ],
         "xaxis": "x",
         "y": [
          545.6602829672969,
          514.8196429752492,
          548.0222847478402,
          560.584863081377,
          546.2911304868778,
          545.0171723017625,
          541.7701938686869,
          550.7636445108294,
          530.8006264089558,
          526.8062750806728,
          518.4241957014655,
          522.6754763659641,
          534.6399257424829,
          538.303681267001,
          560.592793220266,
          559.8255244115587,
          560.9811937444017,
          560.9811937444017,
          552.4686358225661,
          549.5922451975135,
          554.9232001788984,
          556.9587810074739,
          559.7857019920725,
          558.5784353309269,
          555.3722092099774,
          553.2202262421632,
          557.2012452527207,
          558.690650804104,
          -273.15
         ],
         "yaxis": "y"
        },
        {
         "hovertemplate": "x=%{x}<br>y=%{y}<extra></extra>",
         "legendgroup": "",
         "line": {
          "color": "Silver",
          "dash": "solid",
          "width": 4
         },
         "marker": {
          "symbol": "circle"
         },
         "mode": "lines",
         "name": "",
         "orientation": "v",
         "showlegend": false,
         "type": "scatter",
         "x": [
          33,
          57.99999999999999,
          67
         ],
         "xaxis": "x",
         "y": [
          545.6602829672969,
          545.6602829672969,
          545.6602829672969
         ],
         "yaxis": "y"
        },
        {
         "hovertemplate": "x=%{x}<br>y=%{y}<extra></extra>",
         "legendgroup": "",
         "line": {
          "color": "Silver",
          "dash": "solid",
          "width": 4
         },
         "marker": {
          "symbol": "circle"
         },
         "mode": "lines",
         "name": "",
         "orientation": "v",
         "showlegend": false,
         "type": "scatter",
         "x": [
          0,
          20,
          33
         ],
         "xaxis": "x",
         "y": [
          727.7888431870052,
          727.7888431870052,
          727.7888431870052
         ],
         "yaxis": "y"
        },
        {
         "hovertemplate": "x=%{x}<br>y=%{y}<extra></extra>",
         "legendgroup": "",
         "line": {
          "color": "Silver",
          "dash": "solid",
          "width": 4
         },
         "marker": {
          "symbol": "circle"
         },
         "mode": "lines",
         "name": "",
         "orientation": "v",
         "showlegend": false,
         "type": "scatter",
         "x": [
          67,
          84,
          100
         ],
         "xaxis": "x",
         "y": [
          514.8196429752492,
          514.8196429752492,
          514.8196429752492
         ],
         "yaxis": "y"
        },
        {
         "hovertemplate": "label=L<br>x=%{x}<br>t=%{y}<extra></extra>",
         "legendgroup": "L",
         "line": {
          "color": "cornflowerblue",
          "dash": "solid",
          "width": 4
         },
         "marker": {
          "symbol": "circle"
         },
         "mode": "lines",
         "name": "L",
         "orientation": "v",
         "showlegend": false,
         "type": "scatter",
         "x": [
          0,
          1,
          2,
          3,
          4,
          5,
          6,
          7.000000000000001,
          8,
          9,
          10,
          11,
          12,
          13,
          14.000000000000002,
          15,
          16,
          17,
          18,
          19,
          20,
          21,
          22,
          23,
          24,
          25,
          26,
          27,
          28.000000000000004,
          28.999999999999996,
          30,
          31,
          32,
          33,
          34,
          35,
          36,
          37,
          38,
          39,
          40,
          41,
          42,
          43,
          44,
          45,
          46,
          47,
          48,
          49,
          50,
          51,
          52,
          53,
          54,
          55.00000000000001,
          56.00000000000001,
          57.00000000000001,
          57.99999999999999,
          59,
          60,
          61,
          62,
          63,
          64,
          65,
          66,
          67,
          68,
          69,
          70,
          71,
          72,
          73,
          74,
          75,
          76,
          77,
          78,
          79,
          80,
          81,
          82,
          83,
          84,
          85,
          86,
          87,
          88,
          89,
          90,
          91,
          92,
          93,
          94,
          95,
          96,
          97,
          98,
          99,
          100
         ],
         "xaxis": "x",
         "y": [
          1083.62,
          1068.1029018846002,
          1056.8143044984258,
          1045.9699789629908,
          1035.197871078528,
          1024.287141754984,
          1013.0609002700184,
          1001.348708079532,
          988.9756527990183,
          975.7555191301864,
          961.4850069033849,
          945.9379284118203,
          928.8588429671742,
          909.9557286498974,
          888.8913018233217,
          865.2725432515673,
          838.6378938637644,
          808.4414439342953,
          774.0332489057681,
          734.6346495415783,
          727.7888431870052,
          740.8246791178273,
          754.4794679453979,
          766.4781770893657,
          776.995717213044,
          786.1720567077574,
          794.1187331349021,
          800.9239357245757,
          806.656518139701,
          811.369207917459,
          815.1012126856346,
          817.8803754502102,
          819.7249964601284,
          820.6454135316663,
          819.7235330079271,
          817.8742942662506,
          815.0894134368706,
          811.359008415233,
          806.6728263654685,
          801.021502263843,
          794.3978514100585,
          786.7981897800486,
          778.2236665413876,
          768.6815832008339,
          758.1866641098546,
          746.7622340346084,
          734.4412510050921,
          721.2671376327719,
          707.2943525057425,
          692.5886460316376,
          677.2269528568297,
          661.2968859985559,
          644.895815798228,
          628.1295388164834,
          611.1105662962383,
          593.9560867380461,
          576.7856800710036,
          559.718879453649,
          545.6602829672969,
          546.2911304868778,
          549.5922451975135,
          552.4686358225661,
          554.9232001788984,
          556.9587810074739,
          558.5784353309269,
          559.7857019920725,
          560.584863081377,
          560.9811937444017,
          560.592793220266,
          559.8255244115587,
          558.690650804104,
          557.2012452527207,
          555.3722092099774,
          553.2202262421632,
          550.7636445108294,
          548.0222847478402,
          545.0171723017625,
          541.7701938686869,
          538.303681267001,
          534.6399257424829,
          530.8006264089558,
          526.8062750806728,
          522.6754763659641,
          518.4241957014655,
          514.8196429752492,
          516.134574349341,
          523.5451316396261,
          531.1640039918749,
          539.0062891263399,
          547.0833341735568,
          555.4014479648608,
          563.9604285672649,
          572.7519616622915,
          581.7580033182861,
          590.9493573496811,
          600.2848426565573,
          609.7118971838344,
          619.1709486357623,
          628.6127190826121,
          638.0888397177964,
          650.107
         ],
         "yaxis": "y"
        },
        {
         "line": {
          "color": "#B82E2E",
          "dash": "dash"
         },
         "mode": "lines",
         "name": "Digitized Liquidus",
         "showlegend": true,
         "type": "scatter",
         "x": [
          null
         ],
         "y": [
          null
         ]
        },
        {
         "marker": {
          "color": "cornflowerblue"
         },
         "mode": "lines",
         "name": "Fitted Liquidus",
         "showlegend": true,
         "type": "scatter",
         "x": [
          null
         ],
         "y": [
          null
         ]
        }
       ],
       "layout": {
        "annotations": [
         {
          "borderpad": 5,
          "font": {
           "color": "black",
           "size": 18
          },
          "showarrow": false,
          "text": "MgCu2",
          "textangle": -90,
          "x": 30.5,
          "y": 400,
          "yanchor": "bottom"
         },
         {
          "borderpad": 5,
          "font": {
           "color": "black",
           "size": 18
          },
          "showarrow": false,
          "text": "Mg2Cu",
          "textangle": -90,
          "x": 64.5,
          "y": 400,
          "yanchor": "bottom"
         },
         {
          "font": {
           "color": "black",
           "size": 18
          },
          "showarrow": false,
          "text": "L",
          "x": 50,
          "y": 1114
         }
        ],
        "font": {
         "size": 22
        },
        "height": 700,
        "legend": {
         "font": {
          "size": 18
         },
         "x": 0.99,
         "xanchor": "right",
         "y": 0.99,
         "yanchor": "top"
        },
        "plot_bgcolor": "white",
        "showlegend": true,
        "template": {
         "data": {
          "bar": [
           {
            "error_x": {
             "color": "#2a3f5f"
            },
            "error_y": {
             "color": "#2a3f5f"
            },
            "marker": {
             "line": {
              "color": "#E5ECF6",
              "width": 0.5
             },
             "pattern": {
              "fillmode": "overlay",
              "size": 10,
              "solidity": 0.2
             }
            },
            "type": "bar"
           }
          ],
          "barpolar": [
           {
            "marker": {
             "line": {
              "color": "#E5ECF6",
              "width": 0.5
             },
             "pattern": {
              "fillmode": "overlay",
              "size": 10,
              "solidity": 0.2
             }
            },
            "type": "barpolar"
           }
          ],
          "carpet": [
           {
            "aaxis": {
             "endlinecolor": "#2a3f5f",
             "gridcolor": "white",
             "linecolor": "white",
             "minorgridcolor": "white",
             "startlinecolor": "#2a3f5f"
            },
            "baxis": {
             "endlinecolor": "#2a3f5f",
             "gridcolor": "white",
             "linecolor": "white",
             "minorgridcolor": "white",
             "startlinecolor": "#2a3f5f"
            },
            "type": "carpet"
           }
          ],
          "choropleth": [
           {
            "colorbar": {
             "outlinewidth": 0,
             "ticks": ""
            },
            "type": "choropleth"
           }
          ],
          "contour": [
           {
            "colorbar": {
             "outlinewidth": 0,
             "ticks": ""
            },
            "colorscale": [
             [
              0,
              "#0d0887"
             ],
             [
              0.1111111111111111,
              "#46039f"
             ],
             [
              0.2222222222222222,
              "#7201a8"
             ],
             [
              0.3333333333333333,
              "#9c179e"
             ],
             [
              0.4444444444444444,
              "#bd3786"
             ],
             [
              0.5555555555555556,
              "#d8576b"
             ],
             [
              0.6666666666666666,
              "#ed7953"
             ],
             [
              0.7777777777777778,
              "#fb9f3a"
             ],
             [
              0.8888888888888888,
              "#fdca26"
             ],
             [
              1,
              "#f0f921"
             ]
            ],
            "type": "contour"
           }
          ],
          "contourcarpet": [
           {
            "colorbar": {
             "outlinewidth": 0,
             "ticks": ""
            },
            "type": "contourcarpet"
           }
          ],
          "heatmap": [
           {
            "colorbar": {
             "outlinewidth": 0,
             "ticks": ""
            },
            "colorscale": [
             [
              0,
              "#0d0887"
             ],
             [
              0.1111111111111111,
              "#46039f"
             ],
             [
              0.2222222222222222,
              "#7201a8"
             ],
             [
              0.3333333333333333,
              "#9c179e"
             ],
             [
              0.4444444444444444,
              "#bd3786"
             ],
             [
              0.5555555555555556,
              "#d8576b"
             ],
             [
              0.6666666666666666,
              "#ed7953"
             ],
             [
              0.7777777777777778,
              "#fb9f3a"
             ],
             [
              0.8888888888888888,
              "#fdca26"
             ],
             [
              1,
              "#f0f921"
             ]
            ],
            "type": "heatmap"
           }
          ],
          "heatmapgl": [
           {
            "colorbar": {
             "outlinewidth": 0,
             "ticks": ""
            },
            "colorscale": [
             [
              0,
              "#0d0887"
             ],
             [
              0.1111111111111111,
              "#46039f"
             ],
             [
              0.2222222222222222,
              "#7201a8"
             ],
             [
              0.3333333333333333,
              "#9c179e"
             ],
             [
              0.4444444444444444,
              "#bd3786"
             ],
             [
              0.5555555555555556,
              "#d8576b"
             ],
             [
              0.6666666666666666,
              "#ed7953"
             ],
             [
              0.7777777777777778,
              "#fb9f3a"
             ],
             [
              0.8888888888888888,
              "#fdca26"
             ],
             [
              1,
              "#f0f921"
             ]
            ],
            "type": "heatmapgl"
           }
          ],
          "histogram": [
           {
            "marker": {
             "pattern": {
              "fillmode": "overlay",
              "size": 10,
              "solidity": 0.2
             }
            },
            "type": "histogram"
           }
          ],
          "histogram2d": [
           {
            "colorbar": {
             "outlinewidth": 0,
             "ticks": ""
            },
            "colorscale": [
             [
              0,
              "#0d0887"
             ],
             [
              0.1111111111111111,
              "#46039f"
             ],
             [
              0.2222222222222222,
              "#7201a8"
             ],
             [
              0.3333333333333333,
              "#9c179e"
             ],
             [
              0.4444444444444444,
              "#bd3786"
             ],
             [
              0.5555555555555556,
              "#d8576b"
             ],
             [
              0.6666666666666666,
              "#ed7953"
             ],
             [
              0.7777777777777778,
              "#fb9f3a"
             ],
             [
              0.8888888888888888,
              "#fdca26"
             ],
             [
              1,
              "#f0f921"
             ]
            ],
            "type": "histogram2d"
           }
          ],
          "histogram2dcontour": [
           {
            "colorbar": {
             "outlinewidth": 0,
             "ticks": ""
            },
            "colorscale": [
             [
              0,
              "#0d0887"
             ],
             [
              0.1111111111111111,
              "#46039f"
             ],
             [
              0.2222222222222222,
              "#7201a8"
             ],
             [
              0.3333333333333333,
              "#9c179e"
             ],
             [
              0.4444444444444444,
              "#bd3786"
             ],
             [
              0.5555555555555556,
              "#d8576b"
             ],
             [
              0.6666666666666666,
              "#ed7953"
             ],
             [
              0.7777777777777778,
              "#fb9f3a"
             ],
             [
              0.8888888888888888,
              "#fdca26"
             ],
             [
              1,
              "#f0f921"
             ]
            ],
            "type": "histogram2dcontour"
           }
          ],
          "mesh3d": [
           {
            "colorbar": {
             "outlinewidth": 0,
             "ticks": ""
            },
            "type": "mesh3d"
           }
          ],
          "parcoords": [
           {
            "line": {
             "colorbar": {
              "outlinewidth": 0,
              "ticks": ""
             }
            },
            "type": "parcoords"
           }
          ],
          "pie": [
           {
            "automargin": true,
            "type": "pie"
           }
          ],
          "scatter": [
           {
            "fillpattern": {
             "fillmode": "overlay",
             "size": 10,
             "solidity": 0.2
            },
            "type": "scatter"
           }
          ],
          "scatter3d": [
           {
            "line": {
             "colorbar": {
              "outlinewidth": 0,
              "ticks": ""
             }
            },
            "marker": {
             "colorbar": {
              "outlinewidth": 0,
              "ticks": ""
             }
            },
            "type": "scatter3d"
           }
          ],
          "scattercarpet": [
           {
            "marker": {
             "colorbar": {
              "outlinewidth": 0,
              "ticks": ""
             }
            },
            "type": "scattercarpet"
           }
          ],
          "scattergeo": [
           {
            "marker": {
             "colorbar": {
              "outlinewidth": 0,
              "ticks": ""
             }
            },
            "type": "scattergeo"
           }
          ],
          "scattergl": [
           {
            "marker": {
             "colorbar": {
              "outlinewidth": 0,
              "ticks": ""
             }
            },
            "type": "scattergl"
           }
          ],
          "scattermapbox": [
           {
            "marker": {
             "colorbar": {
              "outlinewidth": 0,
              "ticks": ""
             }
            },
            "type": "scattermapbox"
           }
          ],
          "scatterpolar": [
           {
            "marker": {
             "colorbar": {
              "outlinewidth": 0,
              "ticks": ""
             }
            },
            "type": "scatterpolar"
           }
          ],
          "scatterpolargl": [
           {
            "marker": {
             "colorbar": {
              "outlinewidth": 0,
              "ticks": ""
             }
            },
            "type": "scatterpolargl"
           }
          ],
          "scatterternary": [
           {
            "marker": {
             "colorbar": {
              "outlinewidth": 0,
              "ticks": ""
             }
            },
            "type": "scatterternary"
           }
          ],
          "surface": [
           {
            "colorbar": {
             "outlinewidth": 0,
             "ticks": ""
            },
            "colorscale": [
             [
              0,
              "#0d0887"
             ],
             [
              0.1111111111111111,
              "#46039f"
             ],
             [
              0.2222222222222222,
              "#7201a8"
             ],
             [
              0.3333333333333333,
              "#9c179e"
             ],
             [
              0.4444444444444444,
              "#bd3786"
             ],
             [
              0.5555555555555556,
              "#d8576b"
             ],
             [
              0.6666666666666666,
              "#ed7953"
             ],
             [
              0.7777777777777778,
              "#fb9f3a"
             ],
             [
              0.8888888888888888,
              "#fdca26"
             ],
             [
              1,
              "#f0f921"
             ]
            ],
            "type": "surface"
           }
          ],
          "table": [
           {
            "cells": {
             "fill": {
              "color": "#EBF0F8"
             },
             "line": {
              "color": "white"
             }
            },
            "header": {
             "fill": {
              "color": "#C8D4E3"
             },
             "line": {
              "color": "white"
             }
            },
            "type": "table"
           }
          ]
         },
         "layout": {
          "annotationdefaults": {
           "arrowcolor": "#2a3f5f",
           "arrowhead": 0,
           "arrowwidth": 1
          },
          "autotypenumbers": "strict",
          "coloraxis": {
           "colorbar": {
            "outlinewidth": 0,
            "ticks": ""
           }
          },
          "colorscale": {
           "diverging": [
            [
             0,
             "#8e0152"
            ],
            [
             0.1,
             "#c51b7d"
            ],
            [
             0.2,
             "#de77ae"
            ],
            [
             0.3,
             "#f1b6da"
            ],
            [
             0.4,
             "#fde0ef"
            ],
            [
             0.5,
             "#f7f7f7"
            ],
            [
             0.6,
             "#e6f5d0"
            ],
            [
             0.7,
             "#b8e186"
            ],
            [
             0.8,
             "#7fbc41"
            ],
            [
             0.9,
             "#4d9221"
            ],
            [
             1,
             "#276419"
            ]
           ],
           "sequential": [
            [
             0,
             "#0d0887"
            ],
            [
             0.1111111111111111,
             "#46039f"
            ],
            [
             0.2222222222222222,
             "#7201a8"
            ],
            [
             0.3333333333333333,
             "#9c179e"
            ],
            [
             0.4444444444444444,
             "#bd3786"
            ],
            [
             0.5555555555555556,
             "#d8576b"
            ],
            [
             0.6666666666666666,
             "#ed7953"
            ],
            [
             0.7777777777777778,
             "#fb9f3a"
            ],
            [
             0.8888888888888888,
             "#fdca26"
            ],
            [
             1,
             "#f0f921"
            ]
           ],
           "sequentialminus": [
            [
             0,
             "#0d0887"
            ],
            [
             0.1111111111111111,
             "#46039f"
            ],
            [
             0.2222222222222222,
             "#7201a8"
            ],
            [
             0.3333333333333333,
             "#9c179e"
            ],
            [
             0.4444444444444444,
             "#bd3786"
            ],
            [
             0.5555555555555556,
             "#d8576b"
            ],
            [
             0.6666666666666666,
             "#ed7953"
            ],
            [
             0.7777777777777778,
             "#fb9f3a"
            ],
            [
             0.8888888888888888,
             "#fdca26"
            ],
            [
             1,
             "#f0f921"
            ]
           ]
          },
          "colorway": [
           "#636efa",
           "#EF553B",
           "#00cc96",
           "#ab63fa",
           "#FFA15A",
           "#19d3f3",
           "#FF6692",
           "#B6E880",
           "#FF97FF",
           "#FECB52"
          ],
          "font": {
           "color": "#2a3f5f"
          },
          "geo": {
           "bgcolor": "white",
           "lakecolor": "white",
           "landcolor": "#E5ECF6",
           "showlakes": true,
           "showland": true,
           "subunitcolor": "white"
          },
          "hoverlabel": {
           "align": "left"
          },
          "hovermode": "closest",
          "mapbox": {
           "style": "light"
          },
          "paper_bgcolor": "white",
          "plot_bgcolor": "#E5ECF6",
          "polar": {
           "angularaxis": {
            "gridcolor": "white",
            "linecolor": "white",
            "ticks": ""
           },
           "bgcolor": "#E5ECF6",
           "radialaxis": {
            "gridcolor": "white",
            "linecolor": "white",
            "ticks": ""
           }
          },
          "scene": {
           "xaxis": {
            "backgroundcolor": "#E5ECF6",
            "gridcolor": "white",
            "gridwidth": 2,
            "linecolor": "white",
            "showbackground": true,
            "ticks": "",
            "zerolinecolor": "white"
           },
           "yaxis": {
            "backgroundcolor": "#E5ECF6",
            "gridcolor": "white",
            "gridwidth": 2,
            "linecolor": "white",
            "showbackground": true,
            "ticks": "",
            "zerolinecolor": "white"
           },
           "zaxis": {
            "backgroundcolor": "#E5ECF6",
            "gridcolor": "white",
            "gridwidth": 2,
            "linecolor": "white",
            "showbackground": true,
            "ticks": "",
            "zerolinecolor": "white"
           }
          },
          "shapedefaults": {
           "line": {
            "color": "#2a3f5f"
           }
          },
          "ternary": {
           "aaxis": {
            "gridcolor": "white",
            "linecolor": "white",
            "ticks": ""
           },
           "baxis": {
            "gridcolor": "white",
            "linecolor": "white",
            "ticks": ""
           },
           "bgcolor": "#E5ECF6",
           "caxis": {
            "gridcolor": "white",
            "linecolor": "white",
            "ticks": ""
           }
          },
          "title": {
           "x": 0.05
          },
          "xaxis": {
           "automargin": true,
           "gridcolor": "white",
           "linecolor": "white",
           "ticks": "",
           "title": {
            "standoff": 15
           },
           "zerolinecolor": "white",
           "zerolinewidth": 2
          },
          "yaxis": {
           "automargin": true,
           "gridcolor": "white",
           "linecolor": "white",
           "ticks": "",
           "title": {
            "standoff": 15
           },
           "zerolinecolor": "white",
           "zerolinewidth": 2
          }
         }
        },
        "title": {
         "text": "Cu-Mg DFT-Referenced Binary Phase Diagram"
        },
        "width": 960,
        "xaxis": {
         "linecolor": "black",
         "linewidth": 2,
         "mirror": true,
         "range": [
          0,
          100
         ],
         "showline": true,
         "tickcolor": "black",
         "tickformat": ".0f",
         "ticks": "outside",
         "title": {
          "text": "Mg (at. %)"
         }
        },
        "yaxis": {
         "linecolor": "black",
         "linewidth": 2,
         "mirror": true,
         "range": [
          400,
          1170
         ],
         "showline": true,
         "tickcolor": "black",
         "ticks": "outside",
         "ticksuffix": " ",
         "title": {
          "text": "T (°C)"
         }
        }
       }
      }
     },
     "metadata": {},
     "output_type": "display_data"
    },
    {
     "data": {
      "image/png": "[encoded data removed]",
      "text/plain": [
       "<Figure size 800x500 with 3 Axes>"
      ]
     },
     "metadata": {},
     "output_type": "display_data"
    }
   ],
   "source": [
    "fit_results = cu_mg_system.fit_parameters(verbose=True, n_opts=3)[0]\n",
    "\n",
    "print(\"--- Cu-Mg non-ideal mixing parameter fitting results: ---\")\n",
    "for field, value in fit_results.items():\n",
    "    if isinstance(value, float):\n",
    "        print(f'{field.upper()}: {value:.3f}')   \n",
    "\n",
    "cu_mg_plotter.show('fit+liq')\n",
    "cu_mg_plotter.show('nmp')"
   ]
  },
  {
   "cell_type": "markdown",
   "metadata": {},
   "source": [
    "The Copper-Magnesium system is our 'model system' for testing this method. Let's see how it performs on other systems"
   ]
  },
  {
   "cell_type": "code",
   "execution_count": 6,
   "metadata": {},
   "outputs": [
    {
     "data": {
      "application/vnd.jupyter.widget-view+json": {
       "model_id": "5b524976a984463dbc3bb49a3fe4b699",
       "version_major": 2,
       "version_minor": 0
      },
      "text/plain": [
       "Retrieving ThermoDoc documents:   0%|          | 0/81 [00:00<?, ?it/s]"
      ]
     },
     "metadata": {},
     "output_type": "display_data"
    },
    {
     "name": "stdout",
     "output_type": "stream",
     "text": [
      "C: H_fusion = 0 J/mol, T_fusion = 0 K, T_vaporization = 5100.15 K\n",
      "Nb: H_fusion = 30000.0 J/mol, T_fusion = 2750.0 K, T_vaporization = 5017.15 K\n",
      "\n",
      "Reading MPDS json from entry at https://mpds.io/entry/C905339...\n",
      "\n",
      "Maximum composition range fitted: [0.0187686, 0.999619]\n",
      "Ignored composition ranges: []\n",
      "\n",
      "Success: [['eut', '0.4 - 1st order', 3576.23, Eq(0.1969*a + 704.159687*b - 0.441845585*c - 1580.14143644455*d - 20920.4380663294, -96333.3092981563)], ['cmp', '0.55 - 0th order', 3887.4900000000002, Eq(0.247933884297521*a + 963.840495867769*b - 0.0225394440270473*c - 87.6218632607062*d - 29063.4060894031, -52545.441435358)], 597.229748847317]\n",
      "Success: [['eut', '0.4 - 0th order rhs', 3576.23, Eq(0.274888953087511*a + 983.066120700151*b + 0.054125634862931*c + 193.56571916586*d - 27071.3875026955, -52545.441435358)], ['cmp', '0.55 - 0th order', 3887.4900000000002, Eq(0.247933884297521*a + 963.840495867769*b - 0.0225394440270473*c - 87.6218632607062*d - 29063.4060894031, -52545.441435358)], 842.5804230551406]\n",
      "Success: [['per', '0.86 - 0th order', 2808.9300000000003, Eq(0.259217026049*a + 728.122480979818*b - 0.139531249499427*c - 391.933512656425*d - 18067.5566990928, -44965.0524132626)], ['cmp', '0.55 - 0th order', 3887.4900000000002, Eq(0.247933884297521*a + 963.840495867769*b - 0.0225394440270473*c - 87.6218632607062*d - 29063.4060894031, -52545.441435358)], 781.8099180489328]\n",
      "--- Beginning Nelder-Mead optimization ---\n",
      "T=0K enthalpy constraint violated for guess {a: np.float64(-180000.0), c: np.float64(20000.0)}\n",
      "--- Nelder-Mead converged in 19.283544778823853 seconds ---\n",
      "Mean temperature deviation per point between liquidus curves = 248.74736803281067 \n",
      "\n",
      "--- Beginning Nelder-Mead optimization ---\n",
      "--- Nelder-Mead converged in 8.06683611869812 seconds ---\n",
      "Mean temperature deviation per point between liquidus curves = 140.28076209128142 \n",
      "\n",
      "--- Beginning Nelder-Mead optimization ---\n",
      "--- Nelder-Mead converged in 10.269524812698364 seconds ---\n",
      "Mean temperature deviation per point between liquidus curves = 106.86539751883419 \n",
      "\n",
      "--- Beginning Nelder-Mead optimization ---\n",
      "Liquidus continuity constraint violated for guess {b: np.float64(-35.0), d: np.float64(32.5)}\n",
      "Liquidus continuity constraint violated for guess {b: np.float64(-30.0), d: np.float64(27.5)}\n",
      "--- Nelder-Mead converged in 12.79942512512207 seconds ---\n",
      "Mean temperature deviation per point between liquidus curves = 90.97750360161432 \n",
      "\n",
      "--- Beginning Nelder-Mead optimization ---\n",
      "--- Nelder-Mead converged in 12.068105697631836 seconds ---\n",
      "Mean temperature deviation per point between liquidus curves = 580.9709685102473 \n",
      "\n"
     ]
    },
    {
     "data": {
      "application/vnd.jupyter.widget-view+json": {
       "model_id": "fbfa923dca1644b6a64c0171cf878113",
       "version_major": 2,
       "version_minor": 0
      },
      "text/plain": [
       "Retrieving ThermoDoc documents:   0%|          | 0/15 [00:00<?, ?it/s]"
      ]
     },
     "metadata": {},
     "output_type": "display_data"
    },
    {
     "name": "stdout",
     "output_type": "stream",
     "text": [
      "Cr: H_fusion = 21000.0 J/mol, T_fusion = 2180.0 K, T_vaporization = 2944.15 K\n",
      "Eu: H_fusion = 9210.0 J/mol, T_fusion = 1095.0 K, T_vaporization = 1800.15 K\n",
      "\n",
      "Reading MPDS json from entry at https://mpds.io/entry/C907707...\n",
      "\n",
      "No phase data found in JSON!\n",
      "Maximum composition range fitted: [0.0, 1.0]\n",
      "Ignored composition ranges: []\n",
      "\n",
      "Success: [['eut', '0.97 - 0th order lhs', 1064.027, Eq(0.000617195521448472*a + 0.656712699100254*b - 0.000586135774027101*c - 0.623664289230732*d - 8.70754092652817, 0.0)], ['eut', '0.97 - 1st order', 1064.027, Eq(-0.949676*a - 1010.480905252*b + 0.852826757464*c + 907.430696264147*d + 22007.4768929584, 0.0)], 11611.800943277292]\n",
      "--- Beginning Nelder-Mead optimization ---\n",
      "--- Nelder-Mead converged in 16.722137212753296 seconds ---\n",
      "Mean temperature deviation per point between liquidus curves = 8.209803233008158 \n",
      "\n",
      "--- Beginning Nelder-Mead optimization ---\n",
      "--- Nelder-Mead converged in 4.625972032546997 seconds ---\n",
      "Mean temperature deviation per point between liquidus curves = 8.159195207192571 \n",
      "\n",
      "--- Beginning Nelder-Mead optimization ---\n",
      "Liquidus continuity constraint violated for guess {b: np.float64(-57.265625), d: np.float64(-83.4765625)}\n",
      "Liquidus continuity constraint violated for guess {b: np.float64(-104.453125), d: np.float64(-135.1953125)}\n",
      "--- Nelder-Mead converged in 18.959700107574463 seconds ---\n",
      "Mean temperature deviation per point between liquidus curves = 17.201010331403676 \n",
      "\n"
     ]
    },
    {
     "data": {
      "application/vnd.jupyter.widget-view+json": {
       "model_id": "6581828da77740adafaee6d95fbd37d4",
       "version_major": 2,
       "version_minor": 0
      },
      "text/plain": [
       "Retrieving ThermoDoc documents:   0%|          | 0/24 [00:00<?, ?it/s]"
      ]
     },
     "metadata": {},
     "output_type": "display_data"
    },
    {
     "name": "stdout",
     "output_type": "stream",
     "text": [
      "B: H_fusion = 50200.0 J/mol, T_fusion = 2350.0 K, T_vaporization = 4273.15 K\n",
      "Dy: H_fusion = 11060.0 J/mol, T_fusion = 1685.0 K, T_vaporization = 2840.15 K\n",
      "\n",
      "Reading MPDS json from entry at https://mpds.io/entry/C900285...\n",
      "\n",
      "Maximum composition range fitted: [0.000381243, 0.9994280000000001]\n",
      "Ignored composition ranges: [[0.00825169, 0.0200152]]\n",
      "\n",
      "Liquidus continuity constraint violated for guess {b: 0, d: 0}\n",
      "Failed: [['per', '0.01 - 0th order', 2298.11, Eq(0.00019354652641*a + 0.444791207808084*b + 0.000569869024709724*c + 1.30962170437567*d + 1149.25609363116, 0.0)], ['cmp', '0.2 - 0th order', 2772.64, Eq(0.16*a + 443.6224*b + 0.096*c + 266.17344*d - 19884.7539179057, -57546.7467623516)], inf]\n",
      "Success: [['per', '0.4 - 0th order', 2372.87, Eq(0.226682681066667*a + 537.888533422661*b + 0.0773429362064214*c + 183.524733036131*d - 14358.5261957365, -54160.4826796972)], ['cmp', '0.2 - 0th order', 2772.64, Eq(0.16*a + 443.6224*b + 0.096*c + 266.17344*d - 19884.7539179057, -57546.7467623516)], 4257.14566065803]\n",
      "Success: [['eut', '0.99 - 1st order', 1674.17, Eq(-0.970788*a - 1625.26414596*b + 0.913644011416*c + 1529.59539459232*d + 44040.4620737525, 81240.7240195459)], ['cmp', '0.2 - 0th order', 2772.64, Eq(0.16*a + 443.6224*b + 0.096*c + 266.17344*d - 19884.7539179057, -57546.7467623516)], 474.6682021404283]\n",
      "T=0K enthalpy constraint violated for guess {b: 0, d: 0}\n",
      "Failed: [['eut', '0.99 - 0th order lhs', 1674.17, Eq(0.00500777418287632*a + 8.38386530374605*b - 0.00486148708344614*c - 8.13895583049302*d - 267.073680576285, -54160.4826796972)], ['cmp', '0.2 - 0th order', 2772.64, Eq(0.16*a + 443.6224*b + 0.096*c + 266.17344*d - 19884.7539179057, -57546.7467623516)], inf]\n",
      "--- Beginning Nelder-Mead optimization ---\n",
      "--- Nelder-Mead converged in 13.263796329498291 seconds ---\n",
      "Mean temperature deviation per point between liquidus curves = 228.85592632610525 \n",
      "\n",
      "--- Beginning Nelder-Mead optimization ---\n",
      "--- Nelder-Mead converged in 9.7812979221344 seconds ---\n",
      "Mean temperature deviation per point between liquidus curves = 76.67078057905636 \n",
      "\n",
      "--- Beginning Nelder-Mead optimization ---\n",
      "Liquidus continuity constraint violated for guess {b: np.float64(-51.19697570800781), d: np.float64(-97.35799789428711)}\n",
      "--- Nelder-Mead converged in 12.309472560882568 seconds ---\n",
      "Mean temperature deviation per point between liquidus curves = 53.10530497095707 \n",
      "\n",
      "--- Beginning Nelder-Mead optimization ---\n",
      "Liquidus continuity constraint violated for guess {b: np.float64(5.0), d: np.float64(-5.0)}\n",
      "--- Nelder-Mead converged in 16.099735260009766 seconds ---\n",
      "Mean temperature deviation per point between liquidus curves = 70.98178584572658 \n",
      "\n"
     ]
    },
    {
     "data": {
      "application/vnd.jupyter.widget-view+json": {
       "model_id": "3abc6102a49f49ecae0b935b8f6329b6",
       "version_major": 2,
       "version_minor": 0
      },
      "text/plain": [
       "Retrieving ThermoDoc documents:   0%|          | 0/10 [00:00<?, ?it/s]"
      ]
     },
     "metadata": {},
     "output_type": "display_data"
    },
    {
     "name": "stdout",
     "output_type": "stream",
     "text": [
      "Ag: H_fusion = 11300.0 J/mol, T_fusion = 1234.93 K, T_vaporization = 2435.15 K\n",
      "V: H_fusion = 21500.0 J/mol, T_fusion = 2183.0 K, T_vaporization = 3680.15 K\n",
      "\n",
      "Reading MPDS json from entry at https://mpds.io/entry/C900067...\n",
      "\n",
      "Maximum composition range fitted: [0.000381243, 0.999238]\n",
      "Ignored composition ranges: []\n",
      "\n",
      "Success: [['mig', '0.08-0.92 - 1st order', 2126.08, Eq(0.8450328*a + 1796.607335424*b + 0.57112064961376*c + 1214.24819073082*d - 35113.0054912686, -0.843608*a - 1793.57809664*b + 0.567511686496*c + 1206.57524642542*d + 52280.9753298599)], ['mig', '0.5 - 2nd order', 3141.62, Eq(-2*a - 6283.24*b + 0.0273719999999997*c + 85.9924226399989*d + 104479.889139154, 0)], 900.2856304940304]\n",
      "--- Beginning Nelder-Mead optimization ---\n",
      "--- Nelder-Mead converged in 22.234785795211792 seconds ---\n",
      "Mean temperature deviation per point between liquidus curves = 20.909230546150457 \n",
      "\n",
      "--- Beginning Nelder-Mead optimization ---\n",
      "--- Nelder-Mead converged in 6.324456453323364 seconds ---\n",
      "Mean temperature deviation per point between liquidus curves = 21.781174197188808 \n",
      "\n",
      "--- Beginning Nelder-Mead optimization ---\n",
      "T=0K enthalpy constraint violated for guess {b: np.float64(-5.0), d: np.float64(-5.0)}\n",
      "T=0K enthalpy constraint violated for guess {b: np.float64(-5.0), d: np.float64(5.0)}\n",
      "T=0K enthalpy constraint violated for guess {b: np.float64(5.0), d: np.float64(-5.0)}\n",
      "Nelder-Mead process encountered a fatal error:  Nelder-Mead algorithm is unable to find physical parameter values.\n"
     ]
    },
    {
     "data": {
      "application/vnd.jupyter.widget-view+json": {
       "model_id": "db40f189c89d402181a0240bcef6e509",
       "version_major": 2,
       "version_minor": 0
      },
      "text/plain": [
       "Retrieving ThermoDoc documents:   0%|          | 0/33 [00:00<?, ?it/s]"
      ]
     },
     "metadata": {},
     "output_type": "display_data"
    },
    {
     "name": "stdout",
     "output_type": "stream",
     "text": [
      "Al: H_fusion = 10710.0 J/mol, T_fusion = 933.5 K, T_vaporization = 2792.15 K\n",
      "Cu: H_fusion = 13260.0 J/mol, T_fusion = 1357.77 K, T_vaporization = 2835.15 K\n",
      "\n",
      "Reading MPDS json from entry at https://mpds.io/entry/C903362...\n",
      "\n",
      "Maximum composition range fitted: [0.000381243, 0.999619]\n",
      "Ignored composition ranges: []\n",
      "\n",
      "Success: [['eut', '0.17 - 1st order', 821.1519999999999, Eq(0.656068*a + 538.731550336*b + 0.145637830936*c + 119.590796148758*d - 6785.48033841955, -51542.1606046498)], ['per', '0.37 - 0th order', 895.502, Eq(0.268027627289*a + 240.019276292554*b + 0.00968206173284865*c + 8.67030564588943*d - 2959.40294306908, -20592.59556278)], 46.43508606430336]\n",
      "Success: [['eut', '0.17 - 0th order rhs', 821.1519999999999, Eq(0.165371385664457*a + 135.79504408114*b + 0.108494874250109*c + 89.0907829802253*d - 1345.60541110215, -17180.7202015499)], ['per', '0.37 - 0th order', 895.502, Eq(0.268027627289*a + 240.019276292554*b + 0.00968206173284865*c + 8.67030564588943*d - 2959.40294306908, -20592.59556278)], 203.07660123314332]\n",
      "Success: [['per', '0.32 - pseudo CMP 0th order', 863.064, Eq(0.216353801959*a + 186.727177733942*b + 0.0793711230790748*c + 68.5023589691186*d - 2391.9208924994, -17180.7202015499)], ['per', '0.37 - 0th order', 895.502, Eq(0.268027627289*a + 240.019276292554*b + 0.00968206173284865*c + 8.67030564588943*d - 2959.40294306908, -20592.59556278)], 52.345184800482905]\n",
      "--- Beginning Nelder-Mead optimization ---\n",
      "--- Nelder-Mead converged in 18.02242088317871 seconds ---\n",
      "Mean temperature deviation per point between liquidus curves = 34.42268687032402 \n",
      "\n",
      "--- Beginning Nelder-Mead optimization ---\n",
      "--- Nelder-Mead converged in 6.086262226104736 seconds ---\n",
      "Mean temperature deviation per point between liquidus curves = 32.61135117661053 \n",
      "\n",
      "--- Beginning Nelder-Mead optimization ---\n",
      "Liquidus continuity constraint violated for guess {b: np.float64(-67.882080078125), d: np.float64(-49.76806640625)}\n",
      "--- Nelder-Mead converged in 10.71015739440918 seconds ---\n",
      "Mean temperature deviation per point between liquidus curves = 38.912500879004725 \n",
      "\n",
      "--- Beginning Nelder-Mead optimization ---\n",
      "Liquidus continuity constraint violated for guess {b: np.float64(-67.833251953125), d: np.float64(-119.74853515625)}\n",
      "Liquidus continuity constraint violated for guess {b: np.float64(-67.833251953125), d: np.float64(-119.74853515625)}\n",
      "Liquidus continuity constraint violated for guess {b: np.float64(-67.42889404296875), d: np.float64(-115.2825927734375)}\n",
      "Liquidus continuity constraint violated for guess {b: np.float64(-67.42889404296875), d: np.float64(-115.2825927734375)}\n",
      "Liquidus continuity constraint violated for guess {b: np.float64(-66.15791320800781), d: np.float64(-116.70181274414062)}\n",
      "Liquidus continuity constraint violated for guess {b: np.float64(-61.65182113647461), d: np.float64(-109.43981170654297)}\n",
      "Liquidus continuity constraint violated for guess {b: np.float64(-66.41793727874756), d: np.float64(-110.87931632995605)}\n",
      "Liquidus continuity constraint violated for guess {b: np.float64(-63.53662371635437), d: np.float64(-107.79618978500366)}\n",
      "Liquidus continuity constraint violated for guess {b: np.float64(-63.548299642279744), d: np.float64(-108.0628807283938)}\n",
      "Liquidus continuity constraint violated for guess {b: np.float64(-64.26091938046739), d: np.float64(-108.13484468962997)}\n",
      "Liquidus continuity constraint violated for guess {b: np.float64(-63.76941690163221), d: np.float64(-108.01669108564965)}\n",
      "Liquidus continuity constraint violated for guess {b: np.float64(-63.76941690163221), d: np.float64(-108.01669108564965)}\n",
      "Liquidus continuity constraint violated for guess {b: np.float64(-64.66679149030824), d: np.float64(-108.87815338239307)}\n",
      "Liquidus continuity constraint violated for guess {b: np.float64(-64.12279466352629), d: np.float64(-108.28791167201416)}\n",
      "--- Nelder-Mead converged in 15.869364976882935 seconds ---\n",
      "Mean temperature deviation per point between liquidus curves = 22.226177297738655 \n",
      "\n",
      "--- Beginning Nelder-Mead optimization ---\n",
      "--- Nelder-Mead converged in 20.46310830116272 seconds ---\n",
      "Mean temperature deviation per point between liquidus curves = 50.390141888476734 \n",
      "\n",
      "Saving fitting results to cache\n"
     ]
    }
   ],
   "source": [
    "import json\n",
    "import numpy as np\n",
    "\n",
    "other_systems_to_fit = ['C-Nb', 'Cr-Eu', 'B-Dy', 'Ag-V', 'Al-Cu']\n",
    "cache_file = os.path.join(data_dir, f\"fit_results_cache_{param_format}\")\n",
    "\n",
    "# If results are already cached, skip the fitting of the systems. If you wish to re-run the fitting, delete the cache\n",
    "if os.path.exists(cache_file):\n",
    "    with open(cache_file, \"r\") as f:\n",
    "        print(\"Loading fitting results from cache\")\n",
    "        fitting_results = json.load(f)\n",
    "        for sys_results in fitting_results.values():\n",
    "            sys_results['nmpath'] = np.array(sys_results.get('nmpath', []))\n",
    "else:\n",
    "    fitting_results = {}\n",
    "\n",
    "    # Iterate through systems and fit non-ideal mixing parameters\n",
    "    for sys_name in other_systems_to_fit:\n",
    "        bl = BinaryLiquid.from_cache(sys_name, param_format=param_format)\n",
    "        fitting_attempts_data = bl.fit_parameters(verbose=False, n_opts=5)\n",
    "        best_fit_data = min(fitting_attempts_data, key=lambda x: x['mae'], default={})\n",
    "        fitting_results[sys_name] = best_fit_data\n",
    "\n",
    "    with open(cache_file, \"w\") as f:\n",
    "        print(\"Saving fitting results to cache\")\n",
    "        for sys_results in fitting_results.values():\n",
    "            sys_results['nmpath'] = sys_results.get('nmpath', np.array([])).tolist() # Numpy ndarray is not JSON serializable\n",
    "        json.dump(fitting_results, f)"
   ]
  },
  {
   "cell_type": "markdown",
   "metadata": {},
   "source": [
    "Once the systems are fit, display the results with the plotting code"
   ]
  },
  {
   "cell_type": "code",
   "execution_count": 7,
   "metadata": {},
   "outputs": [
    {
     "name": "stdout",
     "output_type": "stream",
     "text": [
      "C: H_fusion = 0 J/mol, T_fusion = 0 K, T_vaporization = 5100.15 K\n",
      "Nb: H_fusion = 30000.0 J/mol, T_fusion = 2750.0 K, T_vaporization = 5017.15 K\n",
      "\n",
      "Reading MPDS json from entry at https://mpds.io/entry/C905339...\n",
      "\n",
      "Best fitted parameters for C-Nb: [81466.23, -42.39, 116623.4, 2.24]\n",
      "MAE = 90.98\n",
      "L0 = 81466 - 42.39*t\n",
      "L1 = 2.24*t + 116623\n"
     ]
    },
    {
     "data": {
      "image/png": "[encoded data removed]",
      "text/plain": [
       "<Figure size 800x500 with 3 Axes>"
      ]
     },
     "metadata": {},
     "output_type": "display_data"
    },
    {
     "data": {
      "application/vnd.plotly.v1+json": {
       "config": {
        "plotlyServerURL": "https://plot.ly"
       },
       "data": [
        {
         "line": {
          "color": "#B82E2E",
          "dash": "dash",
          "width": 4
         },
         "mode": "lines",
         "showlegend": false,
         "type": "scatter",
         "x": [
          1.87686,
          3.8245800000000005,
          5.85123,
          7.95269,
          10.1245,
          12.3627,
          14.6634,
          17.0223,
          19.4354,
          21.8983,
          24.4067,
          26.9564,
          29.5431,
          32.1626,
          34.8108,
          37.4837,
          40.155,
          41.0198,
          41.9189,
          42.8172,
          43.7143,
          44.6095,
          45.5022,
          46.3919,
          47.278,
          48.1599,
          49.037,
          49.9087,
          50.7744,
          51.63369999999999,
          52.48579999999999,
          53.3301,
          54.16620000000001,
          54.9934,
          56.4637,
          57.9009,
          59.3201,
          60.73660000000001,
          62.16579999999999,
          63.6229,
          65.1232,
          66.6821,
          68.3151,
          70.0377,
          71.8652,
          73.8132,
          75.8972,
          78.1325,
          80.5348,
          83.1194,
          85.9007,
          86.1348,
          86.3697,
          86.6043,
          86.8386,
          87.0726,
          87.3063,
          87.5398,
          87.7731,
          88.0062,
          88.2391,
          88.4719,
          88.7046,
          88.9371,
          89.1696,
          89.402,
          89.6344,
          89.8468,
          90.2825,
          90.7631,
          91.2623,
          91.7798,
          92.3151,
          92.868,
          93.4379,
          94.0246,
          94.6276,
          95.2467,
          95.8814,
          96.5313,
          97.1962,
          97.8755,
          98.569,
          99.2763,
          99.9619
         ],
         "y": [
          4466.89,
          4449.81,
          4438.95,
          4431.4,
          4424.24,
          4414.53,
          4399.34,
          4375.73,
          4340.78,
          4291.55,
          4225.1,
          4138.51,
          4028.86,
          3893.22,
          3728.67,
          3532.3,
          3303.08,
          3338.75,
          3373.38,
          3405.57,
          3435.37,
          3462.79,
          3487.86,
          3510.61,
          3531.07,
          3549.26,
          3565.21,
          3578.94,
          3590.49,
          3599.88,
          3607.13,
          3612.28,
          3615.35,
          3616.37,
          3613.99,
          3606.49,
          3593.35,
          3574.05,
          3548.06,
          3514.86,
          3473.95,
          3424.8,
          3366.9,
          3299.72,
          3222.75,
          3135.47,
          3037.35,
          2927.87,
          2806.51,
          2672.75,
          2526.13,
          2515.64,
          2505.1,
          2494.55,
          2483.97,
          2473.36,
          2462.69,
          2451.95,
          2441.13,
          2430.21,
          2419.18,
          2408.02,
          2396.72,
          2385.25,
          2373.62,
          2361.8,
          2349.77,
          2338.58,
          2350.81,
          2363.17,
          2374.9,
          2386.02,
          2396.52,
          2406.4,
          2415.67,
          2424.31,
          2432.32,
          2439.72,
          2446.49,
          2452.63,
          2458.15,
          2463.04,
          2467.31,
          2470.94,
          2473.8
         ]
        },
        {
         "hovertemplate": "label=Nb6C5<br>x=%{x}<br>t=%{y}<extra></extra>",
         "legendgroup": "Nb6C5",
         "line": {
          "color": "rgb(246, 207, 113)",
          "dash": "solid",
          "width": 4
         },
         "marker": {
          "symbol": "circle"
         },
         "mode": "lines",
         "name": "Nb6C5",
         "orientation": "v",
         "showlegend": false,
         "type": "scatter",
         "x": [
          55.00000000000001,
          55.00000000000001,
          55.00000000000001,
          55.00000000000001,
          55.00000000000001,
          55.00000000000001,
          55.00000000000001,
          55.00000000000001,
          55.00000000000001,
          55.00000000000001,
          55.00000000000001,
          55.00000000000001,
          55.00000000000001,
          55.00000000000001,
          55.00000000000001,
          55.00000000000001,
          55.00000000000001,
          55.00000000000001,
          55.00000000000001,
          55.00000000000001,
          55.00000000000001,
          55.00000000000001,
          55.00000000000001,
          55.00000000000001,
          55.00000000000001,
          55.00000000000001,
          55.00000000000001,
          55.00000000000001,
          55.00000000000001,
          55.00000000000001,
          55.00000000000001,
          55.00000000000001,
          55.00000000000001,
          55.00000000000001,
          55.00000000000001,
          55.00000000000001,
          55.00000000000001,
          55.00000000000001,
          55.00000000000001,
          55.00000000000001,
          55.00000000000001,
          55.00000000000001,
          55.00000000000001,
          55.00000000000001
         ],
         "xaxis": "x",
         "y": [
          2872.375783600338,
          3546.4792900945254,
          3486.4485717162925,
          3289.8471677437237,
          3401.3623217665004,
          3151.2831384602046,
          3043.8973608814204,
          3099.0808394035557,
          2985.759214785659,
          2924.699347080545,
          3501.253175847216,
          3497.595178951817,
          3009.852597617413,
          3378.4951673455257,
          3573.595739046237,
          3561.266863564098,
          3529.137188120214,
          3509.153155760044,
          3367.1730762252546,
          3330.0089508035417,
          3460.9538737673597,
          3432.6087614963103,
          3246.6740610935717,
          3200.4848167990954,
          3583.5697534446813,
          3538.672243952842,
          3529.1886705209076,
          3510.3511282024806,
          3519.7047489368674,
          3548.020120186648,
          3557.0928717447528,
          3573.83889317816,
          3565.747652560152,
          3596.9055855909696,
          3591.3002614811826,
          3600.650077666614,
          3602.245123783854,
          3600.510409802963,
          3602.245123783854,
          3597.6031615242778,
          3593.2502755635223,
          3581.219027571091,
          3587.7392469954502,
          -273.15
         ],
         "yaxis": "y"
        },
        {
         "hovertemplate": "label=Nb2C<br>x=%{x}<br>t=%{y}<extra></extra>",
         "legendgroup": "Nb2C",
         "line": {
          "color": "rgb(248, 156, 116)",
          "dash": "solid",
          "width": 4
         },
         "marker": {
          "symbol": "circle"
         },
         "mode": "lines",
         "name": "Nb2C",
         "orientation": "v",
         "showlegend": false,
         "type": "scatter",
         "x": [
          67,
          67,
          67,
          67,
          67,
          67,
          67,
          67,
          67,
          67,
          67,
          67,
          67,
          67,
          67,
          67
         ],
         "xaxis": "x",
         "y": [
          2113.400488327926,
          2872.375783600338,
          2783.106848803416,
          2865.8025492434467,
          2826.249666667221,
          2631.8342904728065,
          2512.5647225723187,
          2574.0540921624884,
          2148.246477743025,
          2228.9096803044085,
          2305.5765514161108,
          2736.340456794636,
          2685.923532745266,
          2447.344666799708,
          2378.3639202619165,
          -273.15
         ],
         "yaxis": "y"
        },
        {
         "hovertemplate": "x=%{x}<br>y=%{y}<extra></extra>",
         "legendgroup": "",
         "line": {
          "color": "Silver",
          "dash": "solid",
          "width": 4
         },
         "marker": {
          "symbol": "circle"
         },
         "mode": "lines",
         "name": "",
         "orientation": "v",
         "showlegend": false,
         "type": "scatter",
         "x": [
          67,
          92,
          100
         ],
         "xaxis": "x",
         "y": [
          2113.400488327926,
          2113.400488327926,
          2113.400488327926
         ],
         "yaxis": "y"
        },
        {
         "hovertemplate": "x=%{x}<br>y=%{y}<extra></extra>",
         "legendgroup": "",
         "line": {
          "color": "Silver",
          "dash": "solid",
          "width": 4
         },
         "marker": {
          "symbol": "circle"
         },
         "mode": "lines",
         "name": "",
         "orientation": "v",
         "showlegend": false,
         "type": "scatter",
         "x": [
          55.00000000000001,
          67,
          79
         ],
         "xaxis": "x",
         "y": [
          2872.375783600338,
          2872.375783600338,
          2872.375783600338
         ],
         "yaxis": "y"
        },
        {
         "hovertemplate": "x=%{x}<br>y=%{y}<extra></extra>",
         "legendgroup": "",
         "line": {
          "color": "Silver",
          "dash": "solid",
          "width": 4
         },
         "marker": {
          "symbol": "circle"
         },
         "mode": "lines",
         "name": "",
         "orientation": "v",
         "showlegend": false,
         "type": "scatter",
         "x": [
          2,
          40,
          55.00000000000001
         ],
         "xaxis": "x",
         "y": [
          3497.595178951817,
          3497.595178951817,
          3497.595178951817
         ],
         "yaxis": "y"
        },
        {
         "hovertemplate": "label=L<br>x=%{x}<br>t=%{y}<extra></extra>",
         "legendgroup": "L",
         "line": {
          "color": "cornflowerblue",
          "dash": "solid",
          "width": 4
         },
         "marker": {
          "symbol": "circle"
         },
         "mode": "lines",
         "name": "L",
         "orientation": "v",
         "showlegend": false,
         "type": "scatter",
         "x": [
          0,
          1,
          2,
          3,
          4,
          5,
          6,
          7.000000000000001,
          8,
          9,
          10,
          11,
          12,
          13,
          14.000000000000002,
          15,
          16,
          17,
          18,
          19,
          20,
          21,
          22,
          23,
          24,
          25,
          26,
          27,
          28.000000000000004,
          28.999999999999996,
          30,
          31,
          32,
          33,
          34,
          35,
          36,
          37,
          38,
          39,
          40,
          41,
          42,
          43,
          44,
          45,
          46,
          47,
          48,
          49,
          50,
          51,
          52,
          53,
          54,
          55.00000000000001,
          56.00000000000001,
          57.00000000000001,
          57.99999999999999,
          59,
          60,
          61,
          62,
          63,
          64,
          65,
          66,
          67,
          68,
          69,
          70,
          71,
          72,
          73,
          74,
          75,
          76,
          77,
          78,
          79,
          80,
          81,
          82,
          83,
          84,
          85,
          86,
          87,
          88,
          89,
          90,
          91,
          92,
          93,
          94,
          95,
          96,
          97,
          98,
          99,
          100
         ],
         "xaxis": "x",
         "y": [
          3009.852597617413,
          3009.852597617413,
          3378.4951673455257,
          3515.172276374328,
          3714.4708080400283,
          3863.9055446777033,
          3980.683304122797,
          4073.6950131417093,
          4148.634647167141,
          4209.065837207831,
          4257.306529795627,
          4295.408773557677,
          4324.599319234932,
          4346.376384262608,
          4361.227350357216,
          4369.965148235963,
          4371.581762513999,
          4365.408352395293,
          4355.058159221999,
          4340.793318382759,
          4322.807754066748,
          4301.861151727191,
          4277.849325098903,
          4250.595032260424,
          4220.892663614906,
          4188.697193320919,
          4153.64975653873,
          4117.0330053447415,
          4077.4489423709397,
          4036.741973249888,
          3993.3052165665763,
          3948.6478924347125,
          3901.9520390355824,
          3853.250722473114,
          3803.8284384216704,
          3752.15333426124,
          3698.9869099138,
          3645.2677397565208,
          3589.608294024349,
          3532.132594889053,
          3497.595178951817,
          3501.253175847216,
          3510.3511282024806,
          3519.7047489368674,
          3529.1886705209076,
          3538.672243952842,
          3548.020120186648,
          3557.0928717447528,
          3565.747652560152,
          3573.83889317816,
          3581.219027571091,
          3587.7392469954502,
          3593.2502755635223,
          3597.6031615242778,
          3600.650077666614,
          3602.245123783854,
          3600.510409802963,
          3596.9055855909696,
          3591.3002614811826,
          3583.5697534446813,
          3573.595739046237,
          3561.266863564098,
          3546.4792900945254,
          3529.137188120214,
          3509.153155760044,
          3486.4485717162925,
          3460.9538737673597,
          3432.6087614963103,
          3401.3623217665004,
          3367.1730762252546,
          3330.0089508035417,
          3289.8471677437237,
          3246.6740610935717,
          3200.4848167990954,
          3151.2831384602046,
          3099.0808394035557,
          3043.8973608814204,
          2985.759214785659,
          2924.699347080545,
          2865.8025492434467,
          2826.249666667221,
          2783.106848803416,
          2736.340456794636,
          2685.923532745266,
          2631.8342904728065,
          2574.0540921624884,
          2512.5647225723187,
          2447.344666799708,
          2378.3639202619165,
          2305.5765514161108,
          2228.9096803044085,
          2148.246477743025,
          2113.400488327926,
          2150.5022640761413,
          2209.398977413295,
          2264.5498838613685,
          2315.423104456902,
          2361.502920646993,
          2402.336832646282,
          2437.763294986815,
          2473.7999999999997
         ],
         "yaxis": "y"
        },
        {
         "line": {
          "color": "#B82E2E",
          "dash": "dash"
         },
         "mode": "lines",
         "name": "Digitized Liquidus",
         "showlegend": true,
         "type": "scatter",
         "x": [
          null
         ],
         "y": [
          null
         ]
        },
        {
         "marker": {
          "color": "cornflowerblue"
         },
         "mode": "lines",
         "name": "Fitted Liquidus",
         "showlegend": true,
         "type": "scatter",
         "x": [
          null
         ],
         "y": [
          null
         ]
        }
       ],
       "layout": {
        "annotations": [
         {
          "borderpad": 5,
          "font": {
           "color": "black",
           "size": 18
          },
          "showarrow": false,
          "text": "Nb6C5",
          "textangle": -90,
          "x": 52.50000000000001,
          "y": 700,
          "yanchor": "bottom"
         },
         {
          "borderpad": 5,
          "font": {
           "color": "black",
           "size": 18
          },
          "showarrow": false,
          "text": "Nb2C",
          "textangle": -90,
          "x": 64.5,
          "y": 700,
          "yanchor": "bottom"
         },
         {
          "font": {
           "color": "black",
           "size": 18
          },
          "showarrow": false,
          "text": "L",
          "x": 50,
          "y": 4780
         }
        ],
        "font": {
         "size": 22
        },
        "height": 700,
        "legend": {
         "font": {
          "size": 18
         },
         "x": 0.99,
         "xanchor": "right",
         "y": 0.99,
         "yanchor": "top"
        },
        "plot_bgcolor": "white",
        "showlegend": true,
        "template": {
         "data": {
          "bar": [
           {
            "error_x": {
             "color": "#2a3f5f"
            },
            "error_y": {
             "color": "#2a3f5f"
            },
            "marker": {
             "line": {
              "color": "#E5ECF6",
              "width": 0.5
             },
             "pattern": {
              "fillmode": "overlay",
              "size": 10,
              "solidity": 0.2
             }
            },
            "type": "bar"
           }
          ],
          "barpolar": [
           {
            "marker": {
             "line": {
              "color": "#E5ECF6",
              "width": 0.5
             },
             "pattern": {
              "fillmode": "overlay",
              "size": 10,
              "solidity": 0.2
             }
            },
            "type": "barpolar"
           }
          ],
          "carpet": [
           {
            "aaxis": {
             "endlinecolor": "#2a3f5f",
             "gridcolor": "white",
             "linecolor": "white",
             "minorgridcolor": "white",
             "startlinecolor": "#2a3f5f"
            },
            "baxis": {
             "endlinecolor": "#2a3f5f",
             "gridcolor": "white",
             "linecolor": "white",
             "minorgridcolor": "white",
             "startlinecolor": "#2a3f5f"
            },
            "type": "carpet"
           }
          ],
          "choropleth": [
           {
            "colorbar": {
             "outlinewidth": 0,
             "ticks": ""
            },
            "type": "choropleth"
           }
          ],
          "contour": [
           {
            "colorbar": {
             "outlinewidth": 0,
             "ticks": ""
            },
            "colorscale": [
             [
              0,
              "#0d0887"
             ],
             [
              0.1111111111111111,
              "#46039f"
             ],
             [
              0.2222222222222222,
              "#7201a8"
             ],
             [
              0.3333333333333333,
              "#9c179e"
             ],
             [
              0.4444444444444444,
              "#bd3786"
             ],
             [
              0.5555555555555556,
              "#d8576b"
             ],
             [
              0.6666666666666666,
              "#ed7953"
             ],
             [
              0.7777777777777778,
              "#fb9f3a"
             ],
             [
              0.8888888888888888,
              "#fdca26"
             ],
             [
              1,
              "#f0f921"
             ]
            ],
            "type": "contour"
           }
          ],
          "contourcarpet": [
           {
            "colorbar": {
             "outlinewidth": 0,
             "ticks": ""
            },
            "type": "contourcarpet"
           }
          ],
          "heatmap": [
           {
            "colorbar": {
             "outlinewidth": 0,
             "ticks": ""
            },
            "colorscale": [
             [
              0,
              "#0d0887"
             ],
             [
              0.1111111111111111,
              "#46039f"
             ],
             [
              0.2222222222222222,
              "#7201a8"
             ],
             [
              0.3333333333333333,
              "#9c179e"
             ],
             [
              0.4444444444444444,
              "#bd3786"
             ],
             [
              0.5555555555555556,
              "#d8576b"
             ],
             [
              0.6666666666666666,
              "#ed7953"
             ],
             [
              0.7777777777777778,
              "#fb9f3a"
             ],
             [
              0.8888888888888888,
              "#fdca26"
             ],
             [
              1,
              "#f0f921"
             ]
            ],
            "type": "heatmap"
           }
          ],
          "heatmapgl": [
           {
            "colorbar": {
             "outlinewidth": 0,
             "ticks": ""
            },
            "colorscale": [
             [
              0,
              "#0d0887"
             ],
             [
              0.1111111111111111,
              "#46039f"
             ],
             [
              0.2222222222222222,
              "#7201a8"
             ],
             [
              0.3333333333333333,
              "#9c179e"
             ],
             [
              0.4444444444444444,
              "#bd3786"
             ],
             [
              0.5555555555555556,
              "#d8576b"
             ],
             [
              0.6666666666666666,
              "#ed7953"
             ],
             [
              0.7777777777777778,
              "#fb9f3a"
             ],
             [
              0.8888888888888888,
              "#fdca26"
             ],
             [
              1,
              "#f0f921"
             ]
            ],
            "type": "heatmapgl"
           }
          ],
          "histogram": [
           {
            "marker": {
             "pattern": {
              "fillmode": "overlay",
              "size": 10,
              "solidity": 0.2
             }
            },
            "type": "histogram"
           }
          ],
          "histogram2d": [
           {
            "colorbar": {
             "outlinewidth": 0,
             "ticks": ""
            },
            "colorscale": [
             [
              0,
              "#0d0887"
             ],
             [
              0.1111111111111111,
              "#46039f"
             ],
             [
              0.2222222222222222,
              "#7201a8"
             ],
             [
              0.3333333333333333,
              "#9c179e"
             ],
             [
              0.4444444444444444,
              "#bd3786"
             ],
             [
              0.5555555555555556,
              "#d8576b"
             ],
             [
              0.6666666666666666,
              "#ed7953"
             ],
             [
              0.7777777777777778,
              "#fb9f3a"
             ],
             [
              0.8888888888888888,
              "#fdca26"
             ],
             [
              1,
              "#f0f921"
             ]
            ],
            "type": "histogram2d"
           }
          ],
          "histogram2dcontour": [
           {
            "colorbar": {
             "outlinewidth": 0,
             "ticks": ""
            },
            "colorscale": [
             [
              0,
              "#0d0887"
             ],
             [
              0.1111111111111111,
              "#46039f"
             ],
             [
              0.2222222222222222,
              "#7201a8"
             ],
             [
              0.3333333333333333,
              "#9c179e"
             ],
             [
              0.4444444444444444,
              "#bd3786"
             ],
             [
              0.5555555555555556,
              "#d8576b"
             ],
             [
              0.6666666666666666,
              "#ed7953"
             ],
             [
              0.7777777777777778,
              "#fb9f3a"
             ],
             [
              0.8888888888888888,
              "#fdca26"
             ],
             [
              1,
              "#f0f921"
             ]
            ],
            "type": "histogram2dcontour"
           }
          ],
          "mesh3d": [
           {
            "colorbar": {
             "outlinewidth": 0,
             "ticks": ""
            },
            "type": "mesh3d"
           }
          ],
          "parcoords": [
           {
            "line": {
             "colorbar": {
              "outlinewidth": 0,
              "ticks": ""
             }
            },
            "type": "parcoords"
           }
          ],
          "pie": [
           {
            "automargin": true,
            "type": "pie"
           }
          ],
          "scatter": [
           {
            "fillpattern": {
             "fillmode": "overlay",
             "size": 10,
             "solidity": 0.2
            },
            "type": "scatter"
           }
          ],
          "scatter3d": [
           {
            "line": {
             "colorbar": {
              "outlinewidth": 0,
              "ticks": ""
             }
            },
            "marker": {
             "colorbar": {
              "outlinewidth": 0,
              "ticks": ""
             }
            },
            "type": "scatter3d"
           }
          ],
          "scattercarpet": [
           {
            "marker": {
             "colorbar": {
              "outlinewidth": 0,
              "ticks": ""
             }
            },
            "type": "scattercarpet"
           }
          ],
          "scattergeo": [
           {
            "marker": {
             "colorbar": {
              "outlinewidth": 0,
              "ticks": ""
             }
            },
            "type": "scattergeo"
           }
          ],
          "scattergl": [
           {
            "marker": {
             "colorbar": {
              "outlinewidth": 0,
              "ticks": ""
             }
            },
            "type": "scattergl"
           }
          ],
          "scattermapbox": [
           {
            "marker": {
             "colorbar": {
              "outlinewidth": 0,
              "ticks": ""
             }
            },
            "type": "scattermapbox"
           }
          ],
          "scatterpolar": [
           {
            "marker": {
             "colorbar": {
              "outlinewidth": 0,
              "ticks": ""
             }
            },
            "type": "scatterpolar"
           }
          ],
          "scatterpolargl": [
           {
            "marker": {
             "colorbar": {
              "outlinewidth": 0,
              "ticks": ""
             }
            },
            "type": "scatterpolargl"
           }
          ],
          "scatterternary": [
           {
            "marker": {
             "colorbar": {
              "outlinewidth": 0,
              "ticks": ""
             }
            },
            "type": "scatterternary"
           }
          ],
          "surface": [
           {
            "colorbar": {
             "outlinewidth": 0,
             "ticks": ""
            },
            "colorscale": [
             [
              0,
              "#0d0887"
             ],
             [
              0.1111111111111111,
              "#46039f"
             ],
             [
              0.2222222222222222,
              "#7201a8"
             ],
             [
              0.3333333333333333,
              "#9c179e"
             ],
             [
              0.4444444444444444,
              "#bd3786"
             ],
             [
              0.5555555555555556,
              "#d8576b"
             ],
             [
              0.6666666666666666,
              "#ed7953"
             ],
             [
              0.7777777777777778,
              "#fb9f3a"
             ],
             [
              0.8888888888888888,
              "#fdca26"
             ],
             [
              1,
              "#f0f921"
             ]
            ],
            "type": "surface"
           }
          ],
          "table": [
           {
            "cells": {
             "fill": {
              "color": "#EBF0F8"
             },
             "line": {
              "color": "white"
             }
            },
            "header": {
             "fill": {
              "color": "#C8D4E3"
             },
             "line": {
              "color": "white"
             }
            },
            "type": "table"
           }
          ]
         },
         "layout": {
          "annotationdefaults": {
           "arrowcolor": "#2a3f5f",
           "arrowhead": 0,
           "arrowwidth": 1
          },
          "autotypenumbers": "strict",
          "coloraxis": {
           "colorbar": {
            "outlinewidth": 0,
            "ticks": ""
           }
          },
          "colorscale": {
           "diverging": [
            [
             0,
             "#8e0152"
            ],
            [
             0.1,
             "#c51b7d"
            ],
            [
             0.2,
             "#de77ae"
            ],
            [
             0.3,
             "#f1b6da"
            ],
            [
             0.4,
             "#fde0ef"
            ],
            [
             0.5,
             "#f7f7f7"
            ],
            [
             0.6,
             "#e6f5d0"
            ],
            [
             0.7,
             "#b8e186"
            ],
            [
             0.8,
             "#7fbc41"
            ],
            [
             0.9,
             "#4d9221"
            ],
            [
             1,
             "#276419"
            ]
           ],
           "sequential": [
            [
             0,
             "#0d0887"
            ],
            [
             0.1111111111111111,
             "#46039f"
            ],
            [
             0.2222222222222222,
             "#7201a8"
            ],
            [
             0.3333333333333333,
             "#9c179e"
            ],
            [
             0.4444444444444444,
             "#bd3786"
            ],
            [
             0.5555555555555556,
             "#d8576b"
            ],
            [
             0.6666666666666666,
             "#ed7953"
            ],
            [
             0.7777777777777778,
             "#fb9f3a"
            ],
            [
             0.8888888888888888,
             "#fdca26"
            ],
            [
             1,
             "#f0f921"
            ]
           ],
           "sequentialminus": [
            [
             0,
             "#0d0887"
            ],
            [
             0.1111111111111111,
             "#46039f"
            ],
            [
             0.2222222222222222,
             "#7201a8"
            ],
            [
             0.3333333333333333,
             "#9c179e"
            ],
            [
             0.4444444444444444,
             "#bd3786"
            ],
            [
             0.5555555555555556,
             "#d8576b"
            ],
            [
             0.6666666666666666,
             "#ed7953"
            ],
            [
             0.7777777777777778,
             "#fb9f3a"
            ],
            [
             0.8888888888888888,
             "#fdca26"
            ],
            [
             1,
             "#f0f921"
            ]
           ]
          },
          "colorway": [
           "#636efa",
           "#EF553B",
           "#00cc96",
           "#ab63fa",
           "#FFA15A",
           "#19d3f3",
           "#FF6692",
           "#B6E880",
           "#FF97FF",
           "#FECB52"
          ],
          "font": {
           "color": "#2a3f5f"
          },
          "geo": {
           "bgcolor": "white",
           "lakecolor": "white",
           "landcolor": "#E5ECF6",
           "showlakes": true,
           "showland": true,
           "subunitcolor": "white"
          },
          "hoverlabel": {
           "align": "left"
          },
          "hovermode": "closest",
          "mapbox": {
           "style": "light"
          },
          "paper_bgcolor": "white",
          "plot_bgcolor": "#E5ECF6",
          "polar": {
           "angularaxis": {
            "gridcolor": "white",
            "linecolor": "white",
            "ticks": ""
           },
           "bgcolor": "#E5ECF6",
           "radialaxis": {
            "gridcolor": "white",
            "linecolor": "white",
            "ticks": ""
           }
          },
          "scene": {
           "xaxis": {
            "backgroundcolor": "#E5ECF6",
            "gridcolor": "white",
            "gridwidth": 2,
            "linecolor": "white",
            "showbackground": true,
            "ticks": "",
            "zerolinecolor": "white"
           },
           "yaxis": {
            "backgroundcolor": "#E5ECF6",
            "gridcolor": "white",
            "gridwidth": 2,
            "linecolor": "white",
            "showbackground": true,
            "ticks": "",
            "zerolinecolor": "white"
           },
           "zaxis": {
            "backgroundcolor": "#E5ECF6",
            "gridcolor": "white",
            "gridwidth": 2,
            "linecolor": "white",
            "showbackground": true,
            "ticks": "",
            "zerolinecolor": "white"
           }
          },
          "shapedefaults": {
           "line": {
            "color": "#2a3f5f"
           }
          },
          "ternary": {
           "aaxis": {
            "gridcolor": "white",
            "linecolor": "white",
            "ticks": ""
           },
           "baxis": {
            "gridcolor": "white",
            "linecolor": "white",
            "ticks": ""
           },
           "bgcolor": "#E5ECF6",
           "caxis": {
            "gridcolor": "white",
            "linecolor": "white",
            "ticks": ""
           }
          },
          "title": {
           "x": 0.05
          },
          "xaxis": {
           "automargin": true,
           "gridcolor": "white",
           "linecolor": "white",
           "ticks": "",
           "title": {
            "standoff": 15
           },
           "zerolinecolor": "white",
           "zerolinewidth": 2
          },
          "yaxis": {
           "automargin": true,
           "gridcolor": "white",
           "linecolor": "white",
           "ticks": "",
           "title": {
            "standoff": 15
           },
           "zerolinecolor": "white",
           "zerolinewidth": 2
          }
         }
        },
        "title": {
         "text": "C-Nb DFT-Referenced Binary Phase Diagram"
        },
        "width": 960,
        "xaxis": {
         "linecolor": "black",
         "linewidth": 2,
         "mirror": true,
         "range": [
          0,
          100
         ],
         "showline": true,
         "tickcolor": "black",
         "tickformat": ".0f",
         "ticks": "outside",
         "title": {
          "text": "Nb (at. %)"
         }
        },
        "yaxis": {
         "linecolor": "black",
         "linewidth": 2,
         "mirror": true,
         "range": [
          700,
          5100
         ],
         "showline": true,
         "tickcolor": "black",
         "ticks": "outside",
         "ticksuffix": " ",
         "title": {
          "text": "T (°C)"
         }
        }
       }
      }
     },
     "metadata": {},
     "output_type": "display_data"
    },
    {
     "name": "stdout",
     "output_type": "stream",
     "text": [
      "No arguments specified for 't_vals', setting 't_units' to 'K'\n"
     ]
    },
    {
     "data": {
      "application/vnd.plotly.v1+json": {
       "config": {
        "plotlyServerURL": "https://plot.ly"
       },
       "data": [
        {
         "mode": "lines",
         "name": "Liquid T=3887K",
         "type": "scatter",
         "x": [
          0,
          0.01,
          0.02,
          0.03,
          0.04,
          0.05,
          0.06,
          0.07,
          0.08,
          0.09,
          0.1,
          0.11,
          0.12,
          0.13,
          0.14,
          0.15,
          0.16,
          0.17,
          0.18,
          0.19,
          0.2,
          0.21,
          0.22,
          0.23,
          0.24,
          0.25,
          0.26,
          0.27,
          0.28,
          0.29,
          0.3,
          0.31,
          0.32,
          0.33,
          0.34,
          0.35000000000000003,
          0.36,
          0.37,
          0.38,
          0.39,
          0.4,
          0.41000000000000003,
          0.42,
          0.43,
          0.44,
          0.45,
          0.46,
          0.47000000000000003,
          0.48,
          0.49,
          0.5,
          0.51,
          0.52,
          0.53,
          0.54,
          0.55,
          0.56,
          0.5700000000000001,
          0.58,
          0.59,
          0.6,
          0.61,
          0.62,
          0.63,
          0.64,
          0.65,
          0.66,
          0.67,
          0.68,
          0.6900000000000001,
          0.7000000000000001,
          0.71,
          0.72,
          0.73,
          0.74,
          0.75,
          0.76,
          0.77,
          0.78,
          0.79,
          0.8,
          0.81,
          0.8200000000000001,
          0.8300000000000001,
          0.84,
          0.85,
          0.86,
          0.87,
          0.88,
          0.89,
          0.9,
          0.91,
          0.92,
          0.93,
          0.9400000000000001,
          0.9500000000000001,
          0.96,
          0.97,
          0.98,
          0.99,
          1
         ],
         "y": [
          0,
          -0.015995801324273164,
          -0.02790509039753007,
          -0.038602969671081414,
          -0.04868802002323536,
          -0.05843614994505391,
          -0.06800330340500403,
          -0.07748710233924179,
          -0.08695230489981583,
          -0.09644329267641501,
          -0.10599092959931088,
          -0.1156166471463944,
          -0.12533503090841341,
          -0.13515553867577557,
          -0.14508368661150425,
          -0.15512189469076562,
          -0.16527010560063077,
          -0.17552624822291563,
          -0.18588659159395846,
          -0.19634601986915878,
          -0.2068982491415425,
          -0.21753600068653856,
          -0.2282511410281448,
          -0.23903479637810743,
          -0.2498774470241804,
          -0.2607690058457269,
          -0.271698884129438,
          -0.28265604712374265,
          -0.2936290612269801,
          -0.30460613429698946,
          -0.31557515026081107,
          -0.3265236989663847,
          -0.3374391020348036,
          -0.3483084353284374,
          -0.3591185485373453,
          -0.3698560822966737,
          -0.38050748317588895,
          -0.39105901682271577,
          -0.40149677949754065,
          -0.4118067081954783,
          -0.4219745895215256,
          -0.43198606745785206,
          -0.4418266501402367,
          -0.45148171574209434,
          -0.46093651754877396,
          -0.47017618829131774,
          -0.4791857437971928,
          -0.48795008600530804,
          -0.4964540053835931,
          -0.504682182779309,
          -0.5126191907248644,
          -0.5202494942150426,
          -0.5275574509650398,
          -0.5345273111524274,
          -0.5411432166399237,
          -0.547389199669579,
          -0.5532491810124639,
          -0.5587069675510911,
          -0.5637462492643981,
          -0.5683505955770155,
          -0.5725034510255083,
          -0.5761881301840772,
          -0.5793878117805321,
          -0.5820855319198561,
          -0.584264176316914,
          -0.585906471421299,
          -0.5869949742952661,
          -0.5875120610793286,
          -0.58743991384832,
          -0.5867605056221605,
          -0.5854555832484601,
          -0.5835066478161057,
          -0.5808949321871367,
          -0.5776013751444927,
          -0.5736065915403142,
          -0.5688908376862417,
          -0.563433971043826,
          -0.5572154030363553,
          -0.5502140434944467,
          -0.5424082348403255,
          -0.5337756735722253,
          -0.5242933158761279,
          -0.5139372631865842,
          -0.5026826221205478,
          -0.49050333123259904,
          -0.4773719441963792,
          -0.463259354840052,
          -0.44813444318652607,
          -0.431963611970615,
          -0.4147101677392751,
          -0.3963334754120783,
          -0.3767877721082564,
          -0.3560204490598984,
          -0.3339694650467121,
          -0.3105592611889885,
          -0.2856939020446586,
          -0.25924458838754644,
          -0.23102419895916398,
          -0.20072564797842926,
          -0.1677191772770138,
          -0.12909850711358617
         ]
        },
        {
         "mode": "lines",
         "name": "Liquid T=0K",
         "type": "scatter",
         "x": [
          0,
          0.01,
          0.02,
          0.03,
          0.04,
          0.05,
          0.06,
          0.07,
          0.08,
          0.09,
          0.1,
          0.11,
          0.12,
          0.13,
          0.14,
          0.15,
          0.16,
          0.17,
          0.18,
          0.19,
          0.2,
          0.21,
          0.22,
          0.23,
          0.24,
          0.25,
          0.26,
          0.27,
          0.28,
          0.29,
          0.3,
          0.31,
          0.32,
          0.33,
          0.34,
          0.35000000000000003,
          0.36,
          0.37,
          0.38,
          0.39,
          0.4,
          0.41000000000000003,
          0.42,
          0.43,
          0.44,
          0.45,
          0.46,
          0.47000000000000003,
          0.48,
          0.49,
          0.5,
          0.51,
          0.52,
          0.53,
          0.54,
          0.55,
          0.56,
          0.5700000000000001,
          0.58,
          0.59,
          0.6,
          0.61,
          0.62,
          0.63,
          0.64,
          0.65,
          0.66,
          0.67,
          0.68,
          0.6900000000000001,
          0.7000000000000001,
          0.71,
          0.72,
          0.73,
          0.74,
          0.75,
          0.76,
          0.77,
          0.78,
          0.79,
          0.8,
          0.81,
          0.8200000000000001,
          0.8300000000000001,
          0.84,
          0.85,
          0.86,
          0.87,
          0.88,
          0.89,
          0.9,
          0.91,
          0.92,
          0.93,
          0.9400000000000001,
          0.9500000000000001,
          0.96,
          0.97,
          0.98,
          0.99,
          1
         ],
         "y": [
          0,
          0.02319527289549578,
          0.045510949937261555,
          0.0669615357718427,
          0.0875615350457846,
          0.10732545240563261,
          0.12626779249793213,
          0.1444030599692285,
          0.16174575946606712,
          0.1783103956349934,
          0.1941114731225526,
          0.2091634965752902,
          0.22348097063975156,
          0.23707839996248198,
          0.24997028919002695,
          0.2621711429689317,
          0.27369546594574173,
          0.2845577627670024,
          0.294772538079259,
          0.304354296529057,
          0.3133175427629417,
          0.3216767814274585,
          0.32944651716915285,
          0.33664125463457,
          0.3432754984702554,
          0.3493637533227543,
          0.3549205238386123,
          0.3599603146643746,
          0.3644976304465867,
          0.36854697583179374,
          0.3721228554665413,
          0.37523977399737474,
          0.37791223607083946,
          0.3801547463334807,
          0.3819818094318439,
          0.3834079300124745,
          0.3844476127219178,
          0.38511536220671916,
          0.385425683113424,
          0.3853930800885777,
          0.38503205777872557,
          0.38435712083041296,
          0.3833827738901855,
          0.3821235216045882,
          0.38059386862016675,
          0.3788083195834662,
          0.37678137914103227,
          0.37452755193941006,
          0.3720613426251452,
          0.3693972558447827,
          0.3665497962448684,
          0.3635334684719473,
          0.3603627771725648,
          0.3570522269932665,
          0.35361632258059766,
          0.35006956858110366,
          0.3464264696413297,
          0.3427015304078215,
          0.3389092555271242,
          0.33506414964578307,
          0.3311807174103438,
          0.3272734634673516,
          0.3233568924633517,
          0.3194455090448898,
          0.3155538178585109,
          0.31169632355076066,
          0.3078875307681843,
          0.30414194415732726,
          0.30047406836473495,
          0.29689840803695267,
          0.293429467820526,
          0.2900817523619999,
          0.2868697663079201,
          0.28380801430483177,
          0.28091100099928046,
          0.27819323103781135,
          0.27566920906697,
          0.2733534397333017,
          0.2712604276833518,
          0.26940467756366565,
          0.26780069402078877,
          0.26646298170126637,
          0.26540604525164396,
          0.26464438931846684,
          0.26419251854828035,
          0.2640649375876299,
          0.26427615108306085,
          0.2648406636811186,
          0.26577298002834854,
          0.267087604771296,
          0.2687990425565064,
          0.2709217980305251,
          0.2734703758398974,
          0.2764592806311688,
          0.27990301705088455,
          0.28381608974559014,
          0.2882130033618308,
          0.2931082625461521,
          0.2985163719450993,
          0.3044518362052177,
          0.3109291599730528
         ]
        },
        {
         "hoverinfo": "none",
         "line": {
          "color": "black",
          "width": 4
         },
         "mode": "lines",
         "showlegend": false,
         "type": "scatter",
         "x": [
          0.6666666666666666,
          1,
          null,
          0.6666666666666666,
          0.5454545454545454,
          null,
          0.5454545454545454,
          0,
          null
         ],
         "y": [
          -0.4660315325000006,
          0,
          null,
          -0.4660315325000006,
          -0.5445969988636367,
          null,
          -0.5445969988636367,
          0,
          null
         ]
        },
        {
         "hoverinfo": "skip",
         "mode": "text",
         "name": "Labels (stable)",
         "opacity": 1,
         "showlegend": true,
         "text": [
          "Nb<sub>2</sub>C",
          "Nb<sub>6</sub>C<sub>5</sub>"
         ],
         "textposition": [
          "bottom right",
          "bottom right"
         ],
         "type": "scatter",
         "visible": true,
         "x": [
          0.6746666666666666,
          0.5534545454545454
         ],
         "y": [
          -0.47903153250000063,
          -0.5575969988636367
         ]
        },
        {
         "error_y": {
          "array": [
           0,
           0,
           0,
           0
          ],
          "color": "gray",
          "thickness": 2.5,
          "type": "data",
          "width": 5
         },
         "hoverinfo": "text",
         "hoverlabel": {
          "font": {
           "size": 14
          }
         },
         "hovertext": [
          "Nb<sub>2</sub>C (mp-569989-GGA) <br> -0.466 eV/atom (Stable)",
          "Nb (mp-75-GGA) <br> 0.0 eV/atom (Stable)",
          "Nb<sub>6</sub>C<sub>5</sub> (mp-2760-GGA) <br> -0.545 eV/atom (Stable)",
          "C (mp-2516584-GGA) <br> 0.0 eV/atom (Stable)"
         ],
         "marker": {
          "color": "darkgreen",
          "line": {
           "color": "black",
           "width": 2
          },
          "size": 16
         },
         "mode": "markers",
         "name": "Stable",
         "opacity": 0.99,
         "showlegend": true,
         "type": "scatter",
         "x": [
          0.6666666666666666,
          1,
          0.5454545454545454,
          0
         ],
         "y": [
          -0.4660315325000006,
          0,
          -0.5445969988636367,
          0
         ]
        },
        {
         "hoverinfo": "text",
         "hoverlabel": {
          "font": {
           "size": 14
          }
         },
         "hovertext": [
          "C (mp-2647017-GGA) <br> 0.178 eV/atom (+0.178 eV/atom)",
          "C (mp-632329-GGA) <br> 0.014 eV/atom (+0.014 eV/atom)",
          "C (mp-990424-GGA) <br> 0.01 eV/atom (+0.01 eV/atom)",
          "C (mp-169-GGA) <br> 0.003 eV/atom (+0.003 eV/atom)",
          "C (mp-569567-GGA) <br> 0.146 eV/atom (+0.146 eV/atom)",
          "C (mp-569304-GGA) <br> 0.002 eV/atom (+0.002 eV/atom)",
          "C (mp-569517-GGA) <br> 0.147 eV/atom (+0.147 eV/atom)",
          "C (mp-569416-GGA) <br> 0.03 eV/atom (+0.03 eV/atom)",
          "C (mp-990448-GGA) <br> 0.009 eV/atom (+0.009 eV/atom)",
          "C (mp-568806-GGA) <br> 0.012 eV/atom (+0.012 eV/atom)",
          "C (mp-1040425-GGA) <br> 0.009 eV/atom (+0.009 eV/atom)",
          "C (mp-611448-GGA) <br> 0.144 eV/atom (+0.144 eV/atom)",
          "C (mp-997182-GGA) <br> 0.01 eV/atom (+0.01 eV/atom)",
          "C (mp-47-GGA) <br> 0.163 eV/atom (+0.163 eV/atom)",
          "C (mp-611426-GGA) <br> 0.148 eV/atom (+0.148 eV/atom)",
          "C (mp-606949-GGA) <br> 0.01 eV/atom (+0.01 eV/atom)",
          "C (mp-48-GGA) <br> 0.008 eV/atom (+0.008 eV/atom)",
          "C (mp-616440-GGA) <br> 0.143 eV/atom (+0.143 eV/atom)",
          "C (mp-66-GGA) <br> 0.138 eV/atom (+0.138 eV/atom)",
          "C (mp-568286-GGA) <br> 0.008 eV/atom (+0.008 eV/atom)",
          "C (mp-568363-GGA) <br> 0.008 eV/atom (+0.008 eV/atom)",
          "C (mp-937760-GGA) <br> 0.006 eV/atom (+0.006 eV/atom)",
          "C (mp-1096869-GGA) <br> 0.118 eV/atom (+0.118 eV/atom)",
          "Nb (mp-1094120-GGA) <br> 0.19 eV/atom (+0.19 eV/atom)",
          "Nb (mp-1104341-GGA) <br> 0.023 eV/atom (+0.023 eV/atom)",
          "NbC (mp-1094093-GGA) <br> -0.354 eV/atom (+0.146 eV/atom)",
          "NbC (mp-999388-GGA) <br> -0.331 eV/atom (+0.169 eV/atom)",
          "NbC (mp-910-GGA) <br> -0.458 eV/atom (+0.041 eV/atom)",
          "Nb<sub>2</sub>C (mp-2318-GGA) <br> -0.448 eV/atom (+0.018 eV/atom)",
          "Nb<sub>4</sub>C<sub>3</sub> (mp-1220501-GGA) <br> -0.439 eV/atom (+0.088 eV/atom)",
          "Nb<sub>4</sub>C<sub>3</sub> (mp-1220515-GGA) <br> -0.474 eV/atom (+0.054 eV/atom)",
          "Nb<sub>4</sub>C<sub>3</sub> (mp-15660-GGA) <br> -0.361 eV/atom (+0.167 eV/atom)",
          "Nb<sub>10</sub>C<sub>7</sub> (mp-32679-GGA) <br> -0.477 eV/atom (+0.04 eV/atom)",
          "Nb<sub>39</sub>C<sub>34</sub> (mp-1173628-GGA) <br> -0.445 eV/atom (+0.088 eV/atom)"
         ],
         "marker": {
          "color": [
           0.178,
           0.014,
           0.01,
           0.003,
           0.146,
           0.002,
           0.147,
           0.03,
           0.009,
           0.012,
           0.009,
           0.144,
           0.01,
           0.163,
           0.148,
           0.01,
           0.008,
           0.143,
           0.138,
           0.008,
           0.008,
           0.006,
           0.118,
           0.19,
           0.023,
           0.146,
           0.169,
           0.041,
           0.018,
           0.088,
           0.054,
           0.167,
           0.04,
           0.088
          ],
          "colorscale": [
           [
            0,
            "#fff5e3"
           ],
           [
            0.5,
            "#f24324"
           ],
           [
            1,
            "#c40000"
           ]
          ],
          "line": {
           "color": "black",
           "width": 1
          },
          "opacity": 0.8,
          "size": 7,
          "symbol": "diamond"
         },
         "mode": "markers",
         "name": "Above Hull",
         "showlegend": true,
         "type": "scatter",
         "x": [
          0,
          0,
          0,
          0,
          0,
          0,
          0,
          0,
          0,
          0,
          0,
          0,
          0,
          0,
          0,
          0,
          0,
          0,
          0,
          0,
          0,
          0,
          0,
          1,
          1,
          0.5,
          0.5,
          0.5,
          0.6666666666666666,
          0.5714285714285714,
          0.5714285714285714,
          0.5714285714285714,
          0.5882352941176471,
          0.5342465753424658
         ],
         "y": [
          0.1775720039999996,
          0.014112057500000219,
          0.009772577499999713,
          0.003222027499999669,
          0.14624580607142793,
          0.001884792499998511,
          0.14660233549999901,
          0.030187767499999296,
          0.009136742499999073,
          0.011936282499998896,
          0.009480437499998828,
          0.14449249916666554,
          0.00964061999999899,
          0.16340130499999894,
          0.1477018512499999,
          0.010240093333332348,
          0.008368335000000116,
          0.14304164124999907,
          0.13829732750000012,
          0.008188829999999925,
          0.008253912499998961,
          0.006056227500000233,
          0.11787022052816878,
          0.1897482850000003,
          0.023213351428570457,
          -0.3535574012500007,
          -0.3306534237500003,
          -0.458181798750001,
          -0.4479173091666671,
          -0.4393443603571439,
          -0.4736514703571442,
          -0.3611307103571428,
          -0.4770707507352938,
          -0.4454049510273974
         ]
        }
       ],
       "layout": {
        "annotations": [
         {
          "align": "center",
          "font": {
           "color": "#000000",
           "size": 24
          },
          "opacity": 1,
          "showarrow": false,
          "text": "Nb",
          "x": 1.03,
          "xref": "x",
          "y": -0.03,
          "yref": "y"
         },
         {
          "align": "center",
          "font": {
           "color": "#000000",
           "size": 24
          },
          "opacity": 1,
          "showarrow": false,
          "text": "C",
          "x": -0.03,
          "xref": "x",
          "y": -0.03,
          "yref": "y"
         }
        ],
        "autosize": true,
        "coloraxis": {
         "colorbar": {
          "x": 1,
          "y": 0.05,
          "yanchor": "top"
         }
        },
        "height": 700,
        "hovermode": "closest",
        "legend": {
         "orientation": "h",
         "tracegroupgap": 7,
         "traceorder": "reversed",
         "x": 0,
         "xanchor": "left",
         "y": 1.05
        },
        "margin": {
         "b": 10,
         "l": 10,
         "pad": 0,
         "r": 10,
         "t": 0
        },
        "paper_bgcolor": "white",
        "plot_bgcolor": "white",
        "showlegend": true,
        "template": {
         "data": {
          "bar": [
           {
            "error_x": {
             "color": "#2a3f5f"
            },
            "error_y": {
             "color": "#2a3f5f"
            },
            "marker": {
             "line": {
              "color": "#E5ECF6",
              "width": 0.5
             },
             "pattern": {
              "fillmode": "overlay",
              "size": 10,
              "solidity": 0.2
             }
            },
            "type": "bar"
           }
          ],
          "barpolar": [
           {
            "marker": {
             "line": {
              "color": "#E5ECF6",
              "width": 0.5
             },
             "pattern": {
              "fillmode": "overlay",
              "size": 10,
              "solidity": 0.2
             }
            },
            "type": "barpolar"
           }
          ],
          "carpet": [
           {
            "aaxis": {
             "endlinecolor": "#2a3f5f",
             "gridcolor": "white",
             "linecolor": "white",
             "minorgridcolor": "white",
             "startlinecolor": "#2a3f5f"
            },
            "baxis": {
             "endlinecolor": "#2a3f5f",
             "gridcolor": "white",
             "linecolor": "white",
             "minorgridcolor": "white",
             "startlinecolor": "#2a3f5f"
            },
            "type": "carpet"
           }
          ],
          "choropleth": [
           {
            "colorbar": {
             "outlinewidth": 0,
             "ticks": ""
            },
            "type": "choropleth"
           }
          ],
          "contour": [
           {
            "colorbar": {
             "outlinewidth": 0,
             "ticks": ""
            },
            "colorscale": [
             [
              0,
              "#0d0887"
             ],
             [
              0.1111111111111111,
              "#46039f"
             ],
             [
              0.2222222222222222,
              "#7201a8"
             ],
             [
              0.3333333333333333,
              "#9c179e"
             ],
             [
              0.4444444444444444,
              "#bd3786"
             ],
             [
              0.5555555555555556,
              "#d8576b"
             ],
             [
              0.6666666666666666,
              "#ed7953"
             ],
             [
              0.7777777777777778,
              "#fb9f3a"
             ],
             [
              0.8888888888888888,
              "#fdca26"
             ],
             [
              1,
              "#f0f921"
             ]
            ],
            "type": "contour"
           }
          ],
          "contourcarpet": [
           {
            "colorbar": {
             "outlinewidth": 0,
             "ticks": ""
            },
            "type": "contourcarpet"
           }
          ],
          "heatmap": [
           {
            "colorbar": {
             "outlinewidth": 0,
             "ticks": ""
            },
            "colorscale": [
             [
              0,
              "#0d0887"
             ],
             [
              0.1111111111111111,
              "#46039f"
             ],
             [
              0.2222222222222222,
              "#7201a8"
             ],
             [
              0.3333333333333333,
              "#9c179e"
             ],
             [
              0.4444444444444444,
              "#bd3786"
             ],
             [
              0.5555555555555556,
              "#d8576b"
             ],
             [
              0.6666666666666666,
              "#ed7953"
             ],
             [
              0.7777777777777778,
              "#fb9f3a"
             ],
             [
              0.8888888888888888,
              "#fdca26"
             ],
             [
              1,
              "#f0f921"
             ]
            ],
            "type": "heatmap"
           }
          ],
          "heatmapgl": [
           {
            "colorbar": {
             "outlinewidth": 0,
             "ticks": ""
            },
            "colorscale": [
             [
              0,
              "#0d0887"
             ],
             [
              0.1111111111111111,
              "#46039f"
             ],
             [
              0.2222222222222222,
              "#7201a8"
             ],
             [
              0.3333333333333333,
              "#9c179e"
             ],
             [
              0.4444444444444444,
              "#bd3786"
             ],
             [
              0.5555555555555556,
              "#d8576b"
             ],
             [
              0.6666666666666666,
              "#ed7953"
             ],
             [
              0.7777777777777778,
              "#fb9f3a"
             ],
             [
              0.8888888888888888,
              "#fdca26"
             ],
             [
              1,
              "#f0f921"
             ]
            ],
            "type": "heatmapgl"
           }
          ],
          "histogram": [
           {
            "marker": {
             "pattern": {
              "fillmode": "overlay",
              "size": 10,
              "solidity": 0.2
             }
            },
            "type": "histogram"
           }
          ],
          "histogram2d": [
           {
            "colorbar": {
             "outlinewidth": 0,
             "ticks": ""
            },
            "colorscale": [
             [
              0,
              "#0d0887"
             ],
             [
              0.1111111111111111,
              "#46039f"
             ],
             [
              0.2222222222222222,
              "#7201a8"
             ],
             [
              0.3333333333333333,
              "#9c179e"
             ],
             [
              0.4444444444444444,
              "#bd3786"
             ],
             [
              0.5555555555555556,
              "#d8576b"
             ],
             [
              0.6666666666666666,
              "#ed7953"
             ],
             [
              0.7777777777777778,
              "#fb9f3a"
             ],
             [
              0.8888888888888888,
              "#fdca26"
             ],
             [
              1,
              "#f0f921"
             ]
            ],
            "type": "histogram2d"
           }
          ],
          "histogram2dcontour": [
           {
            "colorbar": {
             "outlinewidth": 0,
             "ticks": ""
            },
            "colorscale": [
             [
              0,
              "#0d0887"
             ],
             [
              0.1111111111111111,
              "#46039f"
             ],
             [
              0.2222222222222222,
              "#7201a8"
             ],
             [
              0.3333333333333333,
              "#9c179e"
             ],
             [
              0.4444444444444444,
              "#bd3786"
             ],
             [
              0.5555555555555556,
              "#d8576b"
             ],
             [
              0.6666666666666666,
              "#ed7953"
             ],
             [
              0.7777777777777778,
              "#fb9f3a"
             ],
             [
              0.8888888888888888,
              "#fdca26"
             ],
             [
              1,
              "#f0f921"
             ]
            ],
            "type": "histogram2dcontour"
           }
          ],
          "mesh3d": [
           {
            "colorbar": {
             "outlinewidth": 0,
             "ticks": ""
            },
            "type": "mesh3d"
           }
          ],
          "parcoords": [
           {
            "line": {
             "colorbar": {
              "outlinewidth": 0,
              "ticks": ""
             }
            },
            "type": "parcoords"
           }
          ],
          "pie": [
           {
            "automargin": true,
            "type": "pie"
           }
          ],
          "scatter": [
           {
            "fillpattern": {
             "fillmode": "overlay",
             "size": 10,
             "solidity": 0.2
            },
            "type": "scatter"
           }
          ],
          "scatter3d": [
           {
            "line": {
             "colorbar": {
              "outlinewidth": 0,
              "ticks": ""
             }
            },
            "marker": {
             "colorbar": {
              "outlinewidth": 0,
              "ticks": ""
             }
            },
            "type": "scatter3d"
           }
          ],
          "scattercarpet": [
           {
            "marker": {
             "colorbar": {
              "outlinewidth": 0,
              "ticks": ""
             }
            },
            "type": "scattercarpet"
           }
          ],
          "scattergeo": [
           {
            "marker": {
             "colorbar": {
              "outlinewidth": 0,
              "ticks": ""
             }
            },
            "type": "scattergeo"
           }
          ],
          "scattergl": [
           {
            "marker": {
             "colorbar": {
              "outlinewidth": 0,
              "ticks": ""
             }
            },
            "type": "scattergl"
           }
          ],
          "scattermapbox": [
           {
            "marker": {
             "colorbar": {
              "outlinewidth": 0,
              "ticks": ""
             }
            },
            "type": "scattermapbox"
           }
          ],
          "scatterpolar": [
           {
            "marker": {
             "colorbar": {
              "outlinewidth": 0,
              "ticks": ""
             }
            },
            "type": "scatterpolar"
           }
          ],
          "scatterpolargl": [
           {
            "marker": {
             "colorbar": {
              "outlinewidth": 0,
              "ticks": ""
             }
            },
            "type": "scatterpolargl"
           }
          ],
          "scatterternary": [
           {
            "marker": {
             "colorbar": {
              "outlinewidth": 0,
              "ticks": ""
             }
            },
            "type": "scatterternary"
           }
          ],
          "surface": [
           {
            "colorbar": {
             "outlinewidth": 0,
             "ticks": ""
            },
            "colorscale": [
             [
              0,
              "#0d0887"
             ],
             [
              0.1111111111111111,
              "#46039f"
             ],
             [
              0.2222222222222222,
              "#7201a8"
             ],
             [
              0.3333333333333333,
              "#9c179e"
             ],
             [
              0.4444444444444444,
              "#bd3786"
             ],
             [
              0.5555555555555556,
              "#d8576b"
             ],
             [
              0.6666666666666666,
              "#ed7953"
             ],
             [
              0.7777777777777778,
              "#fb9f3a"
             ],
             [
              0.8888888888888888,
              "#fdca26"
             ],
             [
              1,
              "#f0f921"
             ]
            ],
            "type": "surface"
           }
          ],
          "table": [
           {
            "cells": {
             "fill": {
              "color": "#EBF0F8"
             },
             "line": {
              "color": "white"
             }
            },
            "header": {
             "fill": {
              "color": "#C8D4E3"
             },
             "line": {
              "color": "white"
             }
            },
            "type": "table"
           }
          ]
         },
         "layout": {
          "annotationdefaults": {
           "arrowcolor": "#2a3f5f",
           "arrowhead": 0,
           "arrowwidth": 1
          },
          "autotypenumbers": "strict",
          "coloraxis": {
           "colorbar": {
            "outlinewidth": 0,
            "ticks": ""
           }
          },
          "colorscale": {
           "diverging": [
            [
             0,
             "#8e0152"
            ],
            [
             0.1,
             "#c51b7d"
            ],
            [
             0.2,
             "#de77ae"
            ],
            [
             0.3,
             "#f1b6da"
            ],
            [
             0.4,
             "#fde0ef"
            ],
            [
             0.5,
             "#f7f7f7"
            ],
            [
             0.6,
             "#e6f5d0"
            ],
            [
             0.7,
             "#b8e186"
            ],
            [
             0.8,
             "#7fbc41"
            ],
            [
             0.9,
             "#4d9221"
            ],
            [
             1,
             "#276419"
            ]
           ],
           "sequential": [
            [
             0,
             "#0d0887"
            ],
            [
             0.1111111111111111,
             "#46039f"
            ],
            [
             0.2222222222222222,
             "#7201a8"
            ],
            [
             0.3333333333333333,
             "#9c179e"
            ],
            [
             0.4444444444444444,
             "#bd3786"
            ],
            [
             0.5555555555555556,
             "#d8576b"
            ],
            [
             0.6666666666666666,
             "#ed7953"
            ],
            [
             0.7777777777777778,
             "#fb9f3a"
            ],
            [
             0.8888888888888888,
             "#fdca26"
            ],
            [
             1,
             "#f0f921"
            ]
           ],
           "sequentialminus": [
            [
             0,
             "#0d0887"
            ],
            [
             0.1111111111111111,
             "#46039f"
            ],
            [
             0.2222222222222222,
             "#7201a8"
            ],
            [
             0.3333333333333333,
             "#9c179e"
            ],
            [
             0.4444444444444444,
             "#bd3786"
            ],
            [
             0.5555555555555556,
             "#d8576b"
            ],
            [
             0.6666666666666666,
             "#ed7953"
            ],
            [
             0.7777777777777778,
             "#fb9f3a"
            ],
            [
             0.8888888888888888,
             "#fdca26"
            ],
            [
             1,
             "#f0f921"
            ]
           ]
          },
          "colorway": [
           "#636efa",
           "#EF553B",
           "#00cc96",
           "#ab63fa",
           "#FFA15A",
           "#19d3f3",
           "#FF6692",
           "#B6E880",
           "#FF97FF",
           "#FECB52"
          ],
          "font": {
           "color": "#2a3f5f"
          },
          "geo": {
           "bgcolor": "white",
           "lakecolor": "white",
           "landcolor": "#E5ECF6",
           "showlakes": true,
           "showland": true,
           "subunitcolor": "white"
          },
          "hoverlabel": {
           "align": "left"
          },
          "hovermode": "closest",
          "mapbox": {
           "style": "light"
          },
          "paper_bgcolor": "white",
          "plot_bgcolor": "#E5ECF6",
          "polar": {
           "angularaxis": {
            "gridcolor": "white",
            "linecolor": "white",
            "ticks": ""
           },
           "bgcolor": "#E5ECF6",
           "radialaxis": {
            "gridcolor": "white",
            "linecolor": "white",
            "ticks": ""
           }
          },
          "scene": {
           "xaxis": {
            "backgroundcolor": "#E5ECF6",
            "gridcolor": "white",
            "gridwidth": 2,
            "linecolor": "white",
            "showbackground": true,
            "ticks": "",
            "zerolinecolor": "white"
           },
           "yaxis": {
            "backgroundcolor": "#E5ECF6",
            "gridcolor": "white",
            "gridwidth": 2,
            "linecolor": "white",
            "showbackground": true,
            "ticks": "",
            "zerolinecolor": "white"
           },
           "zaxis": {
            "backgroundcolor": "#E5ECF6",
            "gridcolor": "white",
            "gridwidth": 2,
            "linecolor": "white",
            "showbackground": true,
            "ticks": "",
            "zerolinecolor": "white"
           }
          },
          "shapedefaults": {
           "line": {
            "color": "#2a3f5f"
           }
          },
          "ternary": {
           "aaxis": {
            "gridcolor": "white",
            "linecolor": "white",
            "ticks": ""
           },
           "baxis": {
            "gridcolor": "white",
            "linecolor": "white",
            "ticks": ""
           },
           "bgcolor": "#E5ECF6",
           "caxis": {
            "gridcolor": "white",
            "linecolor": "white",
            "ticks": ""
           }
          },
          "title": {
           "x": 0.05
          },
          "xaxis": {
           "automargin": true,
           "gridcolor": "white",
           "linecolor": "white",
           "ticks": "",
           "title": {
            "standoff": 15
           },
           "zerolinecolor": "white",
           "zerolinewidth": 2
          },
          "yaxis": {
           "automargin": true,
           "gridcolor": "white",
           "linecolor": "white",
           "ticks": "",
           "title": {
            "standoff": 15
           },
           "zerolinecolor": "white",
           "zerolinewidth": 2
          }
         }
        },
        "width": 960,
        "xaxis": {
         "anchor": "y",
         "gridcolor": "rgba(0,0,0,0.1)",
         "mirror": "ticks",
         "nticks": 8,
         "showgrid": true,
         "showline": true,
         "side": "bottom",
         "tickfont": {
          "size": 16
         },
         "ticks": "inside",
         "title": {
          "font": {
           "color": "#000000",
           "size": 20
          },
          "text": "Composition (fraction)"
         },
         "type": "linear",
         "zeroline": false
        },
        "yaxis": {
         "anchor": "x",
         "gridcolor": "rgba(0,0,0,0.1)",
         "mirror": "ticks",
         "showgrid": true,
         "showline": true,
         "side": "left",
         "tickfont": {
          "size": 16
         },
         "ticks": "inside",
         "title": {
          "font": {
           "color": "#000000",
           "size": 20
          },
          "text": "Formation energy (eV/atom)"
         },
         "type": "linear"
        }
       }
      }
     },
     "metadata": {},
     "output_type": "display_data"
    },
    {
     "name": "stdout",
     "output_type": "stream",
     "text": [
      "Cr: H_fusion = 21000.0 J/mol, T_fusion = 2180.0 K, T_vaporization = 2944.15 K\n",
      "Eu: H_fusion = 9210.0 J/mol, T_fusion = 1095.0 K, T_vaporization = 1800.15 K\n",
      "\n",
      "Reading MPDS json from entry at https://mpds.io/entry/C907707...\n",
      "\n",
      "Best fitted parameters for Cr-Eu: [29909.42, -0.87, 7644.46, 0.54]\n",
      "MAE = 8.16\n",
      "L0 = 29909 - 0.87*t\n",
      "L1 = 0.54*t + 7644\n"
     ]
    },
    {
     "data": {
      "image/png": "[encoded data removed]",
      "text/plain": [
       "<Figure size 800x500 with 3 Axes>"
      ]
     },
     "metadata": {},
     "output_type": "display_data"
    },
    {
     "data": {
      "application/vnd.plotly.v1+json": {
       "config": {
        "plotlyServerURL": "https://plot.ly"
       },
       "data": [
        {
         "line": {
          "color": "#B82E2E",
          "dash": "dash",
          "width": 4
         },
         "mode": "lines",
         "showlegend": false,
         "type": "scatter",
         "x": [
          0,
          1.06108,
          2.1748,
          3.3451099999999996,
          4.57597,
          5.87134,
          7.23517,
          8.67143,
          10.1841,
          11.777,
          13.4543,
          15.2198,
          17.0776,
          19.0315,
          21.0855,
          23.2436,
          25.5098,
          27.8879,
          32.6969,
          37.4574,
          42.1612,
          46.8001,
          51.366,
          55.85059999999999,
          60.2458,
          64.5435,
          68.7354,
          72.8134,
          76.7694,
          80.5951,
          84.2823,
          87.823,
          91.2089,
          94.4319,
          97.4838,
          100
         ],
         "y": [
          1912.37,
          1889.7999999999997,
          1868.69,
          1849.0099999999998,
          1830.7599999999998,
          1813.92,
          1798.48,
          1784.44,
          1771.79,
          1760.5,
          1750.5699999999997,
          1742,
          1734.7599999999998,
          1728.8599999999997,
          1724.27,
          1720.9899999999998,
          1719,
          1718.2999999999997,
          1717.4099999999999,
          1714.52,
          1708.67,
          1698.9299999999998,
          1684.35,
          1664.0099999999998,
          1636.96,
          1602.2599999999998,
          1558.9699999999998,
          1506.1599999999999,
          1442.88,
          1368.1999999999998,
          1281.1799999999998,
          1180.87,
          1066.35,
          936.66,
          790.8770000000001,
          843.3860000000001
         ]
        },
        {
         "hovertemplate": "x=%{x}<br>y=%{y}<extra></extra>",
         "legendgroup": "",
         "line": {
          "color": "Silver",
          "dash": "solid",
          "width": 4
         },
         "marker": {
          "symbol": "circle"
         },
         "mode": "lines",
         "name": "",
         "orientation": "v",
         "showlegend": false,
         "type": "scatter",
         "x": [
          0,
          97,
          100
         ],
         "xaxis": "x",
         "y": [
          808.8529465033572,
          808.8529465033572,
          808.8529465033572
         ],
         "yaxis": "y"
        },
        {
         "hovertemplate": "label=L<br>x=%{x}<br>t=%{y}<extra></extra>",
         "legendgroup": "L",
         "line": {
          "color": "cornflowerblue",
          "dash": "solid",
          "width": 4
         },
         "marker": {
          "symbol": "circle"
         },
         "mode": "lines",
         "name": "L",
         "orientation": "v",
         "showlegend": false,
         "type": "scatter",
         "x": [
          0,
          1,
          2,
          3,
          4,
          5,
          6,
          7.000000000000001,
          8,
          9,
          10,
          11,
          12,
          13,
          14.000000000000002,
          15,
          16,
          17,
          18,
          19,
          20,
          21,
          22,
          23,
          24,
          25,
          26,
          27,
          28.000000000000004,
          28.999999999999996,
          30,
          31,
          32,
          33,
          34,
          35,
          36,
          37,
          38,
          39,
          40,
          41,
          42,
          43,
          44,
          45,
          46,
          47,
          48,
          49,
          50,
          51,
          52,
          53,
          54,
          55.00000000000001,
          56.00000000000001,
          57.00000000000001,
          57.99999999999999,
          59,
          60,
          61,
          62,
          63,
          64,
          65,
          66,
          67,
          68,
          69,
          70,
          71,
          72,
          73,
          74,
          75,
          76,
          77,
          78,
          79,
          80,
          81,
          82,
          83,
          84,
          85,
          86,
          87,
          88,
          89,
          90,
          91,
          92,
          93,
          94,
          95,
          96,
          97,
          98,
          99,
          100
         ],
         "xaxis": "x",
         "y": [
          1912.3699999999994,
          1887.3885970867132,
          1870.0369365670813,
          1854.3381735197268,
          1839.8934653182682,
          1826.5626047906458,
          1814.263021908469,
          1802.9317813346697,
          1792.5146141917926,
          1782.961896552878,
          1774.2269162935709,
          1766.2650300757232,
          1759.0332112577157,
          1752.4897864087725,
          1746.5942700152377,
          1741.307253693993,
          1736.590327401212,
          1732.4060203870308,
          1728.7177549075063,
          1725.4898085375999,
          1722.6872825161659,
          1720.2760744779412,
          1718.2228544837335,
          1716.4950436024142,
          1715.0607945180654,
          1713.8889737766212,
          1712.9491453813348,
          1712.2115555114137,
          1711.6471181809202,
          1711.2274016885144,
          1710.9246157294328,
          1710.7115990574653,
          1710.5618075984494,
          1710.449302922144,
          1710.3487409891886,
          1710.2353610922773,
          1710.0849749146082,
          1709.873955630797,
          1709.5792269765793,
          1709.178252213202,
          1708.6490229133383,
          1707.9700474917522,
          1707.1203394042527,
          1706.0794049334563,
          1704.8272304772172,
          1703.3442692499857,
          1701.6114273019512,
          1699.6100487528588,
          1697.3219001295702,
          1694.7291536851844,
          1691.8143695658964,
          1688.5604766772117,
          1684.9507520832894,
          1680.9687987542047,
          1676.598521450524,
          1671.8241005071868,
          1666.6299632448872,
          1661.0007526970558,
          1654.921293292577,
          1648.376553079835,
          1641.3516020055927,
          1633.8315656860723,
          1625.8015740034243,
          1617.2467037469878,
          1608.1519143696855,
          1598.5019757549799,
          1588.2813866720985,
          1577.474282328531,
          1566.0643290949647,
          1554.0346040633963,
          1541.3674565734132,
          1528.0443481808993,
          1514.0456666975942,
          1499.3505088439438,
          1483.9364246503037,
          1467.7791148990264,
          1450.8520704689454,
          1433.1261391960638,
          1414.5690014823294,
          1395.1445298947874,
          1374.8119997047565,
          1353.5251056588809,
          1331.230723636325,
          1307.8673316676914,
          1283.362968973644,
          1257.6325574694306,
          1230.574326119241,
          1202.0649446003176,
          1171.952752682655,
          1140.0480971595161,
          1106.1091238989634,
          1069.820136536966,
          1030.7571974094203,
          988.3304984797095,
          941.6811599654551,
          889.4794815261185,
          829.4795680951939,
          808.8529465033572,
          816.696153165003,
          828.0021422885587,
          843.3860000000001
         ],
         "yaxis": "y"
        },
        {
         "line": {
          "color": "#B82E2E",
          "dash": "dash"
         },
         "mode": "lines",
         "name": "Digitized Liquidus",
         "showlegend": true,
         "type": "scatter",
         "x": [
          null
         ],
         "y": [
          null
         ]
        },
        {
         "marker": {
          "color": "cornflowerblue"
         },
         "mode": "lines",
         "name": "Fitted Liquidus",
         "showlegend": true,
         "type": "scatter",
         "x": [
          null
         ],
         "y": [
          null
         ]
        }
       ],
       "layout": {
        "annotations": [
         {
          "font": {
           "color": "black",
           "size": 18
          },
          "showarrow": false,
          "text": "L",
          "x": 50,
          "y": 2028
         }
        ],
        "font": {
         "size": 22
        },
        "height": 700,
        "legend": {
         "font": {
          "size": 18
         },
         "x": 0.99,
         "xanchor": "right",
         "y": 0.99,
         "yanchor": "top"
        },
        "plot_bgcolor": "white",
        "showlegend": true,
        "template": {
         "data": {
          "bar": [
           {
            "error_x": {
             "color": "#2a3f5f"
            },
            "error_y": {
             "color": "#2a3f5f"
            },
            "marker": {
             "line": {
              "color": "#E5ECF6",
              "width": 0.5
             },
             "pattern": {
              "fillmode": "overlay",
              "size": 10,
              "solidity": 0.2
             }
            },
            "type": "bar"
           }
          ],
          "barpolar": [
           {
            "marker": {
             "line": {
              "color": "#E5ECF6",
              "width": 0.5
             },
             "pattern": {
              "fillmode": "overlay",
              "size": 10,
              "solidity": 0.2
             }
            },
            "type": "barpolar"
           }
          ],
          "carpet": [
           {
            "aaxis": {
             "endlinecolor": "#2a3f5f",
             "gridcolor": "white",
             "linecolor": "white",
             "minorgridcolor": "white",
             "startlinecolor": "#2a3f5f"
            },
            "baxis": {
             "endlinecolor": "#2a3f5f",
             "gridcolor": "white",
             "linecolor": "white",
             "minorgridcolor": "white",
             "startlinecolor": "#2a3f5f"
            },
            "type": "carpet"
           }
          ],
          "choropleth": [
           {
            "colorbar": {
             "outlinewidth": 0,
             "ticks": ""
            },
            "type": "choropleth"
           }
          ],
          "contour": [
           {
            "colorbar": {
             "outlinewidth": 0,
             "ticks": ""
            },
            "colorscale": [
             [
              0,
              "#0d0887"
             ],
             [
              0.1111111111111111,
              "#46039f"
             ],
             [
              0.2222222222222222,
              "#7201a8"
             ],
             [
              0.3333333333333333,
              "#9c179e"
             ],
             [
              0.4444444444444444,
              "#bd3786"
             ],
             [
              0.5555555555555556,
              "#d8576b"
             ],
             [
              0.6666666666666666,
              "#ed7953"
             ],
             [
              0.7777777777777778,
              "#fb9f3a"
             ],
             [
              0.8888888888888888,
              "#fdca26"
             ],
             [
              1,
              "#f0f921"
             ]
            ],
            "type": "contour"
           }
          ],
          "contourcarpet": [
           {
            "colorbar": {
             "outlinewidth": 0,
             "ticks": ""
            },
            "type": "contourcarpet"
           }
          ],
          "heatmap": [
           {
            "colorbar": {
             "outlinewidth": 0,
             "ticks": ""
            },
            "colorscale": [
             [
              0,
              "#0d0887"
             ],
             [
              0.1111111111111111,
              "#46039f"
             ],
             [
              0.2222222222222222,
              "#7201a8"
             ],
             [
              0.3333333333333333,
              "#9c179e"
             ],
             [
              0.4444444444444444,
              "#bd3786"
             ],
             [
              0.5555555555555556,
              "#d8576b"
             ],
             [
              0.6666666666666666,
              "#ed7953"
             ],
             [
              0.7777777777777778,
              "#fb9f3a"
             ],
             [
              0.8888888888888888,
              "#fdca26"
             ],
             [
              1,
              "#f0f921"
             ]
            ],
            "type": "heatmap"
           }
          ],
          "heatmapgl": [
           {
            "colorbar": {
             "outlinewidth": 0,
             "ticks": ""
            },
            "colorscale": [
             [
              0,
              "#0d0887"
             ],
             [
              0.1111111111111111,
              "#46039f"
             ],
             [
              0.2222222222222222,
              "#7201a8"
             ],
             [
              0.3333333333333333,
              "#9c179e"
             ],
             [
              0.4444444444444444,
              "#bd3786"
             ],
             [
              0.5555555555555556,
              "#d8576b"
             ],
             [
              0.6666666666666666,
              "#ed7953"
             ],
             [
              0.7777777777777778,
              "#fb9f3a"
             ],
             [
              0.8888888888888888,
              "#fdca26"
             ],
             [
              1,
              "#f0f921"
             ]
            ],
            "type": "heatmapgl"
           }
          ],
          "histogram": [
           {
            "marker": {
             "pattern": {
              "fillmode": "overlay",
              "size": 10,
              "solidity": 0.2
             }
            },
            "type": "histogram"
           }
          ],
          "histogram2d": [
           {
            "colorbar": {
             "outlinewidth": 0,
             "ticks": ""
            },
            "colorscale": [
             [
              0,
              "#0d0887"
             ],
             [
              0.1111111111111111,
              "#46039f"
             ],
             [
              0.2222222222222222,
              "#7201a8"
             ],
             [
              0.3333333333333333,
              "#9c179e"
             ],
             [
              0.4444444444444444,
              "#bd3786"
             ],
             [
              0.5555555555555556,
              "#d8576b"
             ],
             [
              0.6666666666666666,
              "#ed7953"
             ],
             [
              0.7777777777777778,
              "#fb9f3a"
             ],
             [
              0.8888888888888888,
              "#fdca26"
             ],
             [
              1,
              "#f0f921"
             ]
            ],
            "type": "histogram2d"
           }
          ],
          "histogram2dcontour": [
           {
            "colorbar": {
             "outlinewidth": 0,
             "ticks": ""
            },
            "colorscale": [
             [
              0,
              "#0d0887"
             ],
             [
              0.1111111111111111,
              "#46039f"
             ],
             [
              0.2222222222222222,
              "#7201a8"
             ],
             [
              0.3333333333333333,
              "#9c179e"
             ],
             [
              0.4444444444444444,
              "#bd3786"
             ],
             [
              0.5555555555555556,
              "#d8576b"
             ],
             [
              0.6666666666666666,
              "#ed7953"
             ],
             [
              0.7777777777777778,
              "#fb9f3a"
             ],
             [
              0.8888888888888888,
              "#fdca26"
             ],
             [
              1,
              "#f0f921"
             ]
            ],
            "type": "histogram2dcontour"
           }
          ],
          "mesh3d": [
           {
            "colorbar": {
             "outlinewidth": 0,
             "ticks": ""
            },
            "type": "mesh3d"
           }
          ],
          "parcoords": [
           {
            "line": {
             "colorbar": {
              "outlinewidth": 0,
              "ticks": ""
             }
            },
            "type": "parcoords"
           }
          ],
          "pie": [
           {
            "automargin": true,
            "type": "pie"
           }
          ],
          "scatter": [
           {
            "fillpattern": {
             "fillmode": "overlay",
             "size": 10,
             "solidity": 0.2
            },
            "type": "scatter"
           }
          ],
          "scatter3d": [
           {
            "line": {
             "colorbar": {
              "outlinewidth": 0,
              "ticks": ""
             }
            },
            "marker": {
             "colorbar": {
              "outlinewidth": 0,
              "ticks": ""
             }
            },
            "type": "scatter3d"
           }
          ],
          "scattercarpet": [
           {
            "marker": {
             "colorbar": {
              "outlinewidth": 0,
              "ticks": ""
             }
            },
            "type": "scattercarpet"
           }
          ],
          "scattergeo": [
           {
            "marker": {
             "colorbar": {
              "outlinewidth": 0,
              "ticks": ""
             }
            },
            "type": "scattergeo"
           }
          ],
          "scattergl": [
           {
            "marker": {
             "colorbar": {
              "outlinewidth": 0,
              "ticks": ""
             }
            },
            "type": "scattergl"
           }
          ],
          "scattermapbox": [
           {
            "marker": {
             "colorbar": {
              "outlinewidth": 0,
              "ticks": ""
             }
            },
            "type": "scattermapbox"
           }
          ],
          "scatterpolar": [
           {
            "marker": {
             "colorbar": {
              "outlinewidth": 0,
              "ticks": ""
             }
            },
            "type": "scatterpolar"
           }
          ],
          "scatterpolargl": [
           {
            "marker": {
             "colorbar": {
              "outlinewidth": 0,
              "ticks": ""
             }
            },
            "type": "scatterpolargl"
           }
          ],
          "scatterternary": [
           {
            "marker": {
             "colorbar": {
              "outlinewidth": 0,
              "ticks": ""
             }
            },
            "type": "scatterternary"
           }
          ],
          "surface": [
           {
            "colorbar": {
             "outlinewidth": 0,
             "ticks": ""
            },
            "colorscale": [
             [
              0,
              "#0d0887"
             ],
             [
              0.1111111111111111,
              "#46039f"
             ],
             [
              0.2222222222222222,
              "#7201a8"
             ],
             [
              0.3333333333333333,
              "#9c179e"
             ],
             [
              0.4444444444444444,
              "#bd3786"
             ],
             [
              0.5555555555555556,
              "#d8576b"
             ],
             [
              0.6666666666666666,
              "#ed7953"
             ],
             [
              0.7777777777777778,
              "#fb9f3a"
             ],
             [
              0.8888888888888888,
              "#fdca26"
             ],
             [
              1,
              "#f0f921"
             ]
            ],
            "type": "surface"
           }
          ],
          "table": [
           {
            "cells": {
             "fill": {
              "color": "#EBF0F8"
             },
             "line": {
              "color": "white"
             }
            },
            "header": {
             "fill": {
              "color": "#C8D4E3"
             },
             "line": {
              "color": "white"
             }
            },
            "type": "table"
           }
          ]
         },
         "layout": {
          "annotationdefaults": {
           "arrowcolor": "#2a3f5f",
           "arrowhead": 0,
           "arrowwidth": 1
          },
          "autotypenumbers": "strict",
          "coloraxis": {
           "colorbar": {
            "outlinewidth": 0,
            "ticks": ""
           }
          },
          "colorscale": {
           "diverging": [
            [
             0,
             "#8e0152"
            ],
            [
             0.1,
             "#c51b7d"
            ],
            [
             0.2,
             "#de77ae"
            ],
            [
             0.3,
             "#f1b6da"
            ],
            [
             0.4,
             "#fde0ef"
            ],
            [
             0.5,
             "#f7f7f7"
            ],
            [
             0.6,
             "#e6f5d0"
            ],
            [
             0.7,
             "#b8e186"
            ],
            [
             0.8,
             "#7fbc41"
            ],
            [
             0.9,
             "#4d9221"
            ],
            [
             1,
             "#276419"
            ]
           ],
           "sequential": [
            [
             0,
             "#0d0887"
            ],
            [
             0.1111111111111111,
             "#46039f"
            ],
            [
             0.2222222222222222,
             "#7201a8"
            ],
            [
             0.3333333333333333,
             "#9c179e"
            ],
            [
             0.4444444444444444,
             "#bd3786"
            ],
            [
             0.5555555555555556,
             "#d8576b"
            ],
            [
             0.6666666666666666,
             "#ed7953"
            ],
            [
             0.7777777777777778,
             "#fb9f3a"
            ],
            [
             0.8888888888888888,
             "#fdca26"
            ],
            [
             1,
             "#f0f921"
            ]
           ],
           "sequentialminus": [
            [
             0,
             "#0d0887"
            ],
            [
             0.1111111111111111,
             "#46039f"
            ],
            [
             0.2222222222222222,
             "#7201a8"
            ],
            [
             0.3333333333333333,
             "#9c179e"
            ],
            [
             0.4444444444444444,
             "#bd3786"
            ],
            [
             0.5555555555555556,
             "#d8576b"
            ],
            [
             0.6666666666666666,
             "#ed7953"
            ],
            [
             0.7777777777777778,
             "#fb9f3a"
            ],
            [
             0.8888888888888888,
             "#fdca26"
            ],
            [
             1,
             "#f0f921"
            ]
           ]
          },
          "colorway": [
           "#636efa",
           "#EF553B",
           "#00cc96",
           "#ab63fa",
           "#FFA15A",
           "#19d3f3",
           "#FF6692",
           "#B6E880",
           "#FF97FF",
           "#FECB52"
          ],
          "font": {
           "color": "#2a3f5f"
          },
          "geo": {
           "bgcolor": "white",
           "lakecolor": "white",
           "landcolor": "#E5ECF6",
           "showlakes": true,
           "showland": true,
           "subunitcolor": "white"
          },
          "hoverlabel": {
           "align": "left"
          },
          "hovermode": "closest",
          "mapbox": {
           "style": "light"
          },
          "paper_bgcolor": "white",
          "plot_bgcolor": "#E5ECF6",
          "polar": {
           "angularaxis": {
            "gridcolor": "white",
            "linecolor": "white",
            "ticks": ""
           },
           "bgcolor": "#E5ECF6",
           "radialaxis": {
            "gridcolor": "white",
            "linecolor": "white",
            "ticks": ""
           }
          },
          "scene": {
           "xaxis": {
            "backgroundcolor": "#E5ECF6",
            "gridcolor": "white",
            "gridwidth": 2,
            "linecolor": "white",
            "showbackground": true,
            "ticks": "",
            "zerolinecolor": "white"
           },
           "yaxis": {
            "backgroundcolor": "#E5ECF6",
            "gridcolor": "white",
            "gridwidth": 2,
            "linecolor": "white",
            "showbackground": true,
            "ticks": "",
            "zerolinecolor": "white"
           },
           "zaxis": {
            "backgroundcolor": "#E5ECF6",
            "gridcolor": "white",
            "gridwidth": 2,
            "linecolor": "white",
            "showbackground": true,
            "ticks": "",
            "zerolinecolor": "white"
           }
          },
          "shapedefaults": {
           "line": {
            "color": "#2a3f5f"
           }
          },
          "ternary": {
           "aaxis": {
            "gridcolor": "white",
            "linecolor": "white",
            "ticks": ""
           },
           "baxis": {
            "gridcolor": "white",
            "linecolor": "white",
            "ticks": ""
           },
           "bgcolor": "#E5ECF6",
           "caxis": {
            "gridcolor": "white",
            "linecolor": "white",
            "ticks": ""
           }
          },
          "title": {
           "x": 0.05
          },
          "xaxis": {
           "automargin": true,
           "gridcolor": "white",
           "linecolor": "white",
           "ticks": "",
           "title": {
            "standoff": 15
           },
           "zerolinecolor": "white",
           "zerolinewidth": 2
          },
          "yaxis": {
           "automargin": true,
           "gridcolor": "white",
           "linecolor": "white",
           "ticks": "",
           "title": {
            "standoff": 15
           },
           "zerolinecolor": "white",
           "zerolinewidth": 2
          }
         }
        },
        "title": {
         "text": "Cr-Eu DFT-Referenced Binary Phase Diagram"
        },
        "width": 960,
        "xaxis": {
         "linecolor": "black",
         "linewidth": 2,
         "mirror": true,
         "range": [
          0,
          100
         ],
         "showline": true,
         "tickcolor": "black",
         "tickformat": ".0f",
         "ticks": "outside",
         "title": {
          "text": "Eu (at. %)"
         }
        },
        "yaxis": {
         "linecolor": "black",
         "linewidth": 2,
         "mirror": true,
         "range": [
          600,
          2140
         ],
         "showline": true,
         "tickcolor": "black",
         "ticks": "outside",
         "ticksuffix": " ",
         "title": {
          "text": "T (°C)"
         }
        }
       }
      }
     },
     "metadata": {},
     "output_type": "display_data"
    },
    {
     "name": "stdout",
     "output_type": "stream",
     "text": [
      "No arguments specified for 't_vals', setting 't_units' to 'K'\n"
     ]
    },
    {
     "data": {
      "application/vnd.plotly.v1+json": {
       "config": {
        "plotlyServerURL": "https://plot.ly"
       },
       "data": [
        {
         "mode": "lines",
         "name": "Liquid T=1064K",
         "type": "scatter",
         "x": [
          0,
          0.01,
          0.02,
          0.03,
          0.04,
          0.05,
          0.06,
          0.07,
          0.08,
          0.09,
          0.1,
          0.11,
          0.12,
          0.13,
          0.14,
          0.15,
          0.16,
          0.17,
          0.18,
          0.19,
          0.2,
          0.21,
          0.22,
          0.23,
          0.24,
          0.25,
          0.26,
          0.27,
          0.28,
          0.29,
          0.3,
          0.31,
          0.32,
          0.33,
          0.34,
          0.35000000000000003,
          0.36,
          0.37,
          0.38,
          0.39,
          0.4,
          0.41000000000000003,
          0.42,
          0.43,
          0.44,
          0.45,
          0.46,
          0.47000000000000003,
          0.48,
          0.49,
          0.5,
          0.51,
          0.52,
          0.53,
          0.54,
          0.55,
          0.56,
          0.5700000000000001,
          0.58,
          0.59,
          0.6,
          0.61,
          0.62,
          0.63,
          0.64,
          0.65,
          0.66,
          0.67,
          0.68,
          0.6900000000000001,
          0.7000000000000001,
          0.71,
          0.72,
          0.73,
          0.74,
          0.75,
          0.76,
          0.77,
          0.78,
          0.79,
          0.8,
          0.81,
          0.8200000000000001,
          0.8300000000000001,
          0.84,
          0.85,
          0.86,
          0.87,
          0.88,
          0.89,
          0.9,
          0.91,
          0.92,
          0.93,
          0.9400000000000001,
          0.9500000000000001,
          0.96,
          0.97,
          0.98,
          0.99,
          1
         ],
         "y": [
          0.11168665282585435,
          0.10928080602046987,
          0.10804506496253209,
          0.10718925469493633,
          0.1065462965051356,
          0.10603742885495102,
          0.10561672514367831,
          0.105254221825714,
          0.1049289503505832,
          0.10462551934293374,
          0.10433223728377249,
          0.10403999436724483,
          0.10374155454376542,
          0.10343108527038503,
          0.10310383284884868,
          0.10275589102423308,
          0.10238403158874038,
          0.10198557752394283,
          0.10155830612008072,
          0.10110037371678374,
          0.10061025635865908,
          0.10008670237726094,
          0.09952869405422456,
          0.09893541629864515,
          0.0983062308125017,
          0.09764065460051294,
          0.09693834195601987,
          0.0961990692554438,
          0.0954227220426288,
          0.09460928399588953,
          0.09375882745514896,
          0.09287150525136752,
          0.09194754363064163,
          0.09098723610455704,
          0.08999093808928195,
          0.08895906222044273,
          0.08789207425049014,
          0.0867904894511323,
          0.08565486945630625,
          0.08448581949171373,
          0.08328398594564368,
          0.08205005424302275,
          0.08078474699066814,
          0.07948882236679773,
          0.07816307273216719,
          0.07680832344389685,
          0.0754254318562466,
          0.07401528649538956,
          0.07257880639770772,
          0.07111694060335179,
          0.0696306677988324,
          0.0681209961042887,
          0.066588963002862,
          0.0650356354113222,
          0.06346210989279909,
          0.06186951301419114,
          0.06025900185260576,
          0.05863176465706354,
          0.056989021673724626,
          0.05533202614511386,
          0.0536620654962938,
          0.05198046272372781,
          0.050288578005769684,
          0.04858781055741098,
          0.04687960075623048,
          0.04516543257157158,
          0.043446836335006705,
          0.04172539189736557,
          0.04000273222630231,
          0.038280547508929175,
          0.03656058983694095,
          0.0348446785675217,
          0.03313470647299147,
          0.03143264681670777,
          0.02974056152363646,
          0.028060610653213944,
          0.026395063432299425,
          0.02474631117083236,
          0.023116882467374537,
          0.021509461223227486,
          0.019926908132576433,
          0.018372286517066638,
          0.016848893648424394,
          0.015360299085323064,
          0.013910392091413402,
          0.012503440979735572,
          0.011144168371997873,
          0.00983784807927863,
          0.008590431959781614,
          0.0074087193150423,
          0.0063005882912904095,
          0.005275320541391785,
          0.004344071474481534,
          0.0035205782128333004,
          0.002822277735079688,
          0.002272184194976109,
          0.0019023067414065435,
          0.001760617578355754,
          0.0019279238472830697,
          0.002573349864016039,
          0.004489116188940329
         ]
        },
        {
         "mode": "lines",
         "name": "Liquid T=0K",
         "type": "scatter",
         "x": [
          0,
          0.01,
          0.02,
          0.03,
          0.04,
          0.05,
          0.06,
          0.07,
          0.08,
          0.09,
          0.1,
          0.11,
          0.12,
          0.13,
          0.14,
          0.15,
          0.16,
          0.17,
          0.18,
          0.19,
          0.2,
          0.21,
          0.22,
          0.23,
          0.24,
          0.25,
          0.26,
          0.27,
          0.28,
          0.29,
          0.3,
          0.31,
          0.32,
          0.33,
          0.34,
          0.35000000000000003,
          0.36,
          0.37,
          0.38,
          0.39,
          0.4,
          0.41000000000000003,
          0.42,
          0.43,
          0.44,
          0.45,
          0.46,
          0.47000000000000003,
          0.48,
          0.49,
          0.5,
          0.51,
          0.52,
          0.53,
          0.54,
          0.55,
          0.56,
          0.5700000000000001,
          0.58,
          0.59,
          0.6,
          0.61,
          0.62,
          0.63,
          0.64,
          0.65,
          0.66,
          0.67,
          0.68,
          0.6900000000000001,
          0.7000000000000001,
          0.71,
          0.72,
          0.73,
          0.74,
          0.75,
          0.76,
          0.77,
          0.78,
          0.79,
          0.8,
          0.81,
          0.8200000000000001,
          0.8300000000000001,
          0.84,
          0.85,
          0.86,
          0.87,
          0.88,
          0.89,
          0.9,
          0.91,
          0.92,
          0.93,
          0.9400000000000001,
          0.9500000000000001,
          0.96,
          0.97,
          0.98,
          0.99,
          1
         ],
         "y": [
          0.21765041198113697,
          0.22026604935919472,
          0.2227731017191381,
          0.22517251981509206,
          0.2274652544011814,
          0.22965225623153102,
          0.2317344760602658,
          0.23371286464151053,
          0.23558837272939018,
          0.2373619510780295,
          0.23903455044155347,
          0.24060712157408684,
          0.24208061522975458,
          0.24345598216268155,
          0.2447341731269925,
          0.2459161388768124,
          0.2470028301662661,
          0.24799519774947842,
          0.24889419238057434,
          0.2497007648136786,
          0.2504158658029161,
          0.2510404461024117,
          0.25157545646629026,
          0.25202184764867674,
          0.2523805704036959,
          0.25265257548547265,
          0.2528388136481318,
          0.2529402356457983,
          0.25295779223259696,
          0.25289243416265267,
          0.25274511219009027,
          0.25251677706903464,
          0.25220837955361064,
          0.25182087039794315,
          0.25135520035615705,
          0.25081232018237715,
          0.2501931806307284,
          0.2494987324553355,
          0.2487299264103235,
          0.24788771324981715,
          0.2469730437279414,
          0.24598686859882107,
          0.24493013861658103,
          0.24380380453534614,
          0.2426088171092413,
          0.24134612709239128,
          0.24001668523892106,
          0.23862144230295543,
          0.23716134903861927,
          0.23563735620003753,
          0.2340504145413349,
          0.23240147481663642,
          0.23069148778006687,
          0.2289214041857511,
          0.22709217478781404,
          0.22520475034038048,
          0.22326008159757538,
          0.22125911931352352,
          0.21920281424234977,
          0.21709211713817908,
          0.2149279787551362,
          0.21271134984734608,
          0.21044318116893354,
          0.2081244234740235,
          0.20575602751674077,
          0.2033389440512102,
          0.20087412383155673,
          0.19836251761190515,
          0.19580507614638035,
          0.19320275018910726,
          0.19055649049421064,
          0.18786724781581546,
          0.1851359729080465,
          0.18236361652502864,
          0.17955112942088677,
          0.1766994623497458,
          0.1738095660657305,
          0.17088239132296573,
          0.16791888887557646,
          0.1649200094776875,
          0.16188670388342372,
          0.15881992284690993,
          0.1557206171222711,
          0.152589737463632,
          0.1494282346251176,
          0.14623705936085266,
          0.1430171624249621,
          0.13976949457157076,
          0.13649500655480348,
          0.1331946491287852,
          0.12986937304764073,
          0.126520129065495,
          0.1231478679364728,
          0.11975354041469902,
          0.11633809725429854,
          0.1129024892093962,
          0.10944766703411692,
          0.10597458148258551,
          0.10248418330892684,
          0.09897742326726577,
          0.09545525211172722
         ]
        },
        {
         "hoverinfo": "none",
         "line": {
          "color": "black",
          "width": 4
         },
         "mode": "lines",
         "showlegend": false,
         "type": "scatter",
         "x": [
          0,
          1,
          null
         ],
         "y": [
          0,
          0,
          null
         ]
        },
        {
         "hoverinfo": "skip",
         "mode": "text",
         "name": "Labels (stable)",
         "opacity": 1,
         "showlegend": true,
         "text": [],
         "textposition": [],
         "type": "scatter",
         "visible": true,
         "x": [],
         "y": []
        },
        {
         "error_y": {
          "array": [
           0,
           0
          ],
          "color": "gray",
          "thickness": 2.5,
          "type": "data",
          "width": 5
         },
         "hoverinfo": "text",
         "hoverlabel": {
          "font": {
           "size": 14
          }
         },
         "hovertext": [
          "Cr (mp-90-GGA) <br> 0.0 eV/atom (Stable)",
          "Eu (mp-623532-GGA) <br> 0.0 eV/atom (Stable)"
         ],
         "marker": {
          "color": "darkgreen",
          "line": {
           "color": "black",
           "width": 2
          },
          "size": 16
         },
         "mode": "markers",
         "name": "Stable",
         "opacity": 0.99,
         "showlegend": true,
         "type": "scatter",
         "x": [
          0,
          1
         ],
         "y": [
          0,
          0
         ]
        },
        {
         "hoverinfo": "text",
         "hoverlabel": {
          "font": {
           "size": 14
          }
         },
         "hovertext": [
          "Cr (mp-17-GGA) <br> 0.081 eV/atom (+0.081 eV/atom)",
          "Eu (mp-1077457-GGA) <br> 0.088 eV/atom (+0.088 eV/atom)",
          "Eu (mp-1184367-GGA) <br> 0.004 eV/atom (+0.004 eV/atom)",
          "Eu (mp-21462-GGA) <br> 0.011 eV/atom (+0.011 eV/atom)",
          "Eu (mp-20071-GGA) <br> 0.048 eV/atom (+0.048 eV/atom)",
          "Eu (mp-1057315-GGA) <br> 0.016 eV/atom (+0.016 eV/atom)"
         ],
         "marker": {
          "color": [
           0.081,
           0.088,
           0.004,
           0.011,
           0.048,
           0.016
          ],
          "colorscale": [
           [
            0,
            "#fff5e3"
           ],
           [
            0.5,
            "#f24324"
           ],
           [
            1,
            "#c40000"
           ]
          ],
          "line": {
           "color": "black",
           "width": 1
          },
          "opacity": 0.8,
          "size": 7,
          "symbol": "diamond"
         },
         "mode": "markers",
         "name": "Above Hull",
         "showlegend": true,
         "type": "scatter",
         "x": [
          0,
          1,
          1,
          1,
          1,
          1
         ],
         "y": [
          0.08112848250000049,
          0.08784678333333318,
          0.004487059999998877,
          0.010549655000000158,
          0.04829949999999883,
          0.015575354999999291
         ]
        }
       ],
       "layout": {
        "annotations": [
         {
          "align": "center",
          "font": {
           "color": "#000000",
           "size": 24
          },
          "opacity": 1,
          "showarrow": false,
          "text": "Cr",
          "x": -0.03,
          "xref": "x",
          "y": -0.03,
          "yref": "y"
         },
         {
          "align": "center",
          "font": {
           "color": "#000000",
           "size": 24
          },
          "opacity": 1,
          "showarrow": false,
          "text": "Eu",
          "x": 1.03,
          "xref": "x",
          "y": -0.03,
          "yref": "y"
         }
        ],
        "autosize": true,
        "coloraxis": {
         "colorbar": {
          "x": 1,
          "y": 0.05,
          "yanchor": "top"
         }
        },
        "height": 700,
        "hovermode": "closest",
        "legend": {
         "orientation": "h",
         "tracegroupgap": 7,
         "traceorder": "reversed",
         "x": 0,
         "xanchor": "left",
         "y": 1.05
        },
        "margin": {
         "b": 10,
         "l": 10,
         "pad": 0,
         "r": 10,
         "t": 0
        },
        "paper_bgcolor": "white",
        "plot_bgcolor": "white",
        "showlegend": true,
        "template": {
         "data": {
          "bar": [
           {
            "error_x": {
             "color": "#2a3f5f"
            },
            "error_y": {
             "color": "#2a3f5f"
            },
            "marker": {
             "line": {
              "color": "#E5ECF6",
              "width": 0.5
             },
             "pattern": {
              "fillmode": "overlay",
              "size": 10,
              "solidity": 0.2
             }
            },
            "type": "bar"
           }
          ],
          "barpolar": [
           {
            "marker": {
             "line": {
              "color": "#E5ECF6",
              "width": 0.5
             },
             "pattern": {
              "fillmode": "overlay",
              "size": 10,
              "solidity": 0.2
             }
            },
            "type": "barpolar"
           }
          ],
          "carpet": [
           {
            "aaxis": {
             "endlinecolor": "#2a3f5f",
             "gridcolor": "white",
             "linecolor": "white",
             "minorgridcolor": "white",
             "startlinecolor": "#2a3f5f"
            },
            "baxis": {
             "endlinecolor": "#2a3f5f",
             "gridcolor": "white",
             "linecolor": "white",
             "minorgridcolor": "white",
             "startlinecolor": "#2a3f5f"
            },
            "type": "carpet"
           }
          ],
          "choropleth": [
           {
            "colorbar": {
             "outlinewidth": 0,
             "ticks": ""
            },
            "type": "choropleth"
           }
          ],
          "contour": [
           {
            "colorbar": {
             "outlinewidth": 0,
             "ticks": ""
            },
            "colorscale": [
             [
              0,
              "#0d0887"
             ],
             [
              0.1111111111111111,
              "#46039f"
             ],
             [
              0.2222222222222222,
              "#7201a8"
             ],
             [
              0.3333333333333333,
              "#9c179e"
             ],
             [
              0.4444444444444444,
              "#bd3786"
             ],
             [
              0.5555555555555556,
              "#d8576b"
             ],
             [
              0.6666666666666666,
              "#ed7953"
             ],
             [
              0.7777777777777778,
              "#fb9f3a"
             ],
             [
              0.8888888888888888,
              "#fdca26"
             ],
             [
              1,
              "#f0f921"
             ]
            ],
            "type": "contour"
           }
          ],
          "contourcarpet": [
           {
            "colorbar": {
             "outlinewidth": 0,
             "ticks": ""
            },
            "type": "contourcarpet"
           }
          ],
          "heatmap": [
           {
            "colorbar": {
             "outlinewidth": 0,
             "ticks": ""
            },
            "colorscale": [
             [
              0,
              "#0d0887"
             ],
             [
              0.1111111111111111,
              "#46039f"
             ],
             [
              0.2222222222222222,
              "#7201a8"
             ],
             [
              0.3333333333333333,
              "#9c179e"
             ],
             [
              0.4444444444444444,
              "#bd3786"
             ],
             [
              0.5555555555555556,
              "#d8576b"
             ],
             [
              0.6666666666666666,
              "#ed7953"
             ],
             [
              0.7777777777777778,
              "#fb9f3a"
             ],
             [
              0.8888888888888888,
              "#fdca26"
             ],
             [
              1,
              "#f0f921"
             ]
            ],
            "type": "heatmap"
           }
          ],
          "heatmapgl": [
           {
            "colorbar": {
             "outlinewidth": 0,
             "ticks": ""
            },
            "colorscale": [
             [
              0,
              "#0d0887"
             ],
             [
              0.1111111111111111,
              "#46039f"
             ],
             [
              0.2222222222222222,
              "#7201a8"
             ],
             [
              0.3333333333333333,
              "#9c179e"
             ],
             [
              0.4444444444444444,
              "#bd3786"
             ],
             [
              0.5555555555555556,
              "#d8576b"
             ],
             [
              0.6666666666666666,
              "#ed7953"
             ],
             [
              0.7777777777777778,
              "#fb9f3a"
             ],
             [
              0.8888888888888888,
              "#fdca26"
             ],
             [
              1,
              "#f0f921"
             ]
            ],
            "type": "heatmapgl"
           }
          ],
          "histogram": [
           {
            "marker": {
             "pattern": {
              "fillmode": "overlay",
              "size": 10,
              "solidity": 0.2
             }
            },
            "type": "histogram"
           }
          ],
          "histogram2d": [
           {
            "colorbar": {
             "outlinewidth": 0,
             "ticks": ""
            },
            "colorscale": [
             [
              0,
              "#0d0887"
             ],
             [
              0.1111111111111111,
              "#46039f"
             ],
             [
              0.2222222222222222,
              "#7201a8"
             ],
             [
              0.3333333333333333,
              "#9c179e"
             ],
             [
              0.4444444444444444,
              "#bd3786"
             ],
             [
              0.5555555555555556,
              "#d8576b"
             ],
             [
              0.6666666666666666,
              "#ed7953"
             ],
             [
              0.7777777777777778,
              "#fb9f3a"
             ],
             [
              0.8888888888888888,
              "#fdca26"
             ],
             [
              1,
              "#f0f921"
             ]
            ],
            "type": "histogram2d"
           }
          ],
          "histogram2dcontour": [
           {
            "colorbar": {
             "outlinewidth": 0,
             "ticks": ""
            },
            "colorscale": [
             [
              0,
              "#0d0887"
             ],
             [
              0.1111111111111111,
              "#46039f"
             ],
             [
              0.2222222222222222,
              "#7201a8"
             ],
             [
              0.3333333333333333,
              "#9c179e"
             ],
             [
              0.4444444444444444,
              "#bd3786"
             ],
             [
              0.5555555555555556,
              "#d8576b"
             ],
             [
              0.6666666666666666,
              "#ed7953"
             ],
             [
              0.7777777777777778,
              "#fb9f3a"
             ],
             [
              0.8888888888888888,
              "#fdca26"
             ],
             [
              1,
              "#f0f921"
             ]
            ],
            "type": "histogram2dcontour"
           }
          ],
          "mesh3d": [
           {
            "colorbar": {
             "outlinewidth": 0,
             "ticks": ""
            },
            "type": "mesh3d"
           }
          ],
          "parcoords": [
           {
            "line": {
             "colorbar": {
              "outlinewidth": 0,
              "ticks": ""
             }
            },
            "type": "parcoords"
           }
          ],
          "pie": [
           {
            "automargin": true,
            "type": "pie"
           }
          ],
          "scatter": [
           {
            "fillpattern": {
             "fillmode": "overlay",
             "size": 10,
             "solidity": 0.2
            },
            "type": "scatter"
           }
          ],
          "scatter3d": [
           {
            "line": {
             "colorbar": {
              "outlinewidth": 0,
              "ticks": ""
             }
            },
            "marker": {
             "colorbar": {
              "outlinewidth": 0,
              "ticks": ""
             }
            },
            "type": "scatter3d"
           }
          ],
          "scattercarpet": [
           {
            "marker": {
             "colorbar": {
              "outlinewidth": 0,
              "ticks": ""
             }
            },
            "type": "scattercarpet"
           }
          ],
          "scattergeo": [
           {
            "marker": {
             "colorbar": {
              "outlinewidth": 0,
              "ticks": ""
             }
            },
            "type": "scattergeo"
           }
          ],
          "scattergl": [
           {
            "marker": {
             "colorbar": {
              "outlinewidth": 0,
              "ticks": ""
             }
            },
            "type": "scattergl"
           }
          ],
          "scattermapbox": [
           {
            "marker": {
             "colorbar": {
              "outlinewidth": 0,
              "ticks": ""
             }
            },
            "type": "scattermapbox"
           }
          ],
          "scatterpolar": [
           {
            "marker": {
             "colorbar": {
              "outlinewidth": 0,
              "ticks": ""
             }
            },
            "type": "scatterpolar"
           }
          ],
          "scatterpolargl": [
           {
            "marker": {
             "colorbar": {
              "outlinewidth": 0,
              "ticks": ""
             }
            },
            "type": "scatterpolargl"
           }
          ],
          "scatterternary": [
           {
            "marker": {
             "colorbar": {
              "outlinewidth": 0,
              "ticks": ""
             }
            },
            "type": "scatterternary"
           }
          ],
          "surface": [
           {
            "colorbar": {
             "outlinewidth": 0,
             "ticks": ""
            },
            "colorscale": [
             [
              0,
              "#0d0887"
             ],
             [
              0.1111111111111111,
              "#46039f"
             ],
             [
              0.2222222222222222,
              "#7201a8"
             ],
             [
              0.3333333333333333,
              "#9c179e"
             ],
             [
              0.4444444444444444,
              "#bd3786"
             ],
             [
              0.5555555555555556,
              "#d8576b"
             ],
             [
              0.6666666666666666,
              "#ed7953"
             ],
             [
              0.7777777777777778,
              "#fb9f3a"
             ],
             [
              0.8888888888888888,
              "#fdca26"
             ],
             [
              1,
              "#f0f921"
             ]
            ],
            "type": "surface"
           }
          ],
          "table": [
           {
            "cells": {
             "fill": {
              "color": "#EBF0F8"
             },
             "line": {
              "color": "white"
             }
            },
            "header": {
             "fill": {
              "color": "#C8D4E3"
             },
             "line": {
              "color": "white"
             }
            },
            "type": "table"
           }
          ]
         },
         "layout": {
          "annotationdefaults": {
           "arrowcolor": "#2a3f5f",
           "arrowhead": 0,
           "arrowwidth": 1
          },
          "autotypenumbers": "strict",
          "coloraxis": {
           "colorbar": {
            "outlinewidth": 0,
            "ticks": ""
           }
          },
          "colorscale": {
           "diverging": [
            [
             0,
             "#8e0152"
            ],
            [
             0.1,
             "#c51b7d"
            ],
            [
             0.2,
             "#de77ae"
            ],
            [
             0.3,
             "#f1b6da"
            ],
            [
             0.4,
             "#fde0ef"
            ],
            [
             0.5,
             "#f7f7f7"
            ],
            [
             0.6,
             "#e6f5d0"
            ],
            [
             0.7,
             "#b8e186"
            ],
            [
             0.8,
             "#7fbc41"
            ],
            [
             0.9,
             "#4d9221"
            ],
            [
             1,
             "#276419"
            ]
           ],
           "sequential": [
            [
             0,
             "#0d0887"
            ],
            [
             0.1111111111111111,
             "#46039f"
            ],
            [
             0.2222222222222222,
             "#7201a8"
            ],
            [
             0.3333333333333333,
             "#9c179e"
            ],
            [
             0.4444444444444444,
             "#bd3786"
            ],
            [
             0.5555555555555556,
             "#d8576b"
            ],
            [
             0.6666666666666666,
             "#ed7953"
            ],
            [
             0.7777777777777778,
             "#fb9f3a"
            ],
            [
             0.8888888888888888,
             "#fdca26"
            ],
            [
             1,
             "#f0f921"
            ]
           ],
           "sequentialminus": [
            [
             0,
             "#0d0887"
            ],
            [
             0.1111111111111111,
             "#46039f"
            ],
            [
             0.2222222222222222,
             "#7201a8"
            ],
            [
             0.3333333333333333,
             "#9c179e"
            ],
            [
             0.4444444444444444,
             "#bd3786"
            ],
            [
             0.5555555555555556,
             "#d8576b"
            ],
            [
             0.6666666666666666,
             "#ed7953"
            ],
            [
             0.7777777777777778,
             "#fb9f3a"
            ],
            [
             0.8888888888888888,
             "#fdca26"
            ],
            [
             1,
             "#f0f921"
            ]
           ]
          },
          "colorway": [
           "#636efa",
           "#EF553B",
           "#00cc96",
           "#ab63fa",
           "#FFA15A",
           "#19d3f3",
           "#FF6692",
           "#B6E880",
           "#FF97FF",
           "#FECB52"
          ],
          "font": {
           "color": "#2a3f5f"
          },
          "geo": {
           "bgcolor": "white",
           "lakecolor": "white",
           "landcolor": "#E5ECF6",
           "showlakes": true,
           "showland": true,
           "subunitcolor": "white"
          },
          "hoverlabel": {
           "align": "left"
          },
          "hovermode": "closest",
          "mapbox": {
           "style": "light"
          },
          "paper_bgcolor": "white",
          "plot_bgcolor": "#E5ECF6",
          "polar": {
           "angularaxis": {
            "gridcolor": "white",
            "linecolor": "white",
            "ticks": ""
           },
           "bgcolor": "#E5ECF6",
           "radialaxis": {
            "gridcolor": "white",
            "linecolor": "white",
            "ticks": ""
           }
          },
          "scene": {
           "xaxis": {
            "backgroundcolor": "#E5ECF6",
            "gridcolor": "white",
            "gridwidth": 2,
            "linecolor": "white",
            "showbackground": true,
            "ticks": "",
            "zerolinecolor": "white"
           },
           "yaxis": {
            "backgroundcolor": "#E5ECF6",
            "gridcolor": "white",
            "gridwidth": 2,
            "linecolor": "white",
            "showbackground": true,
            "ticks": "",
            "zerolinecolor": "white"
           },
           "zaxis": {
            "backgroundcolor": "#E5ECF6",
            "gridcolor": "white",
            "gridwidth": 2,
            "linecolor": "white",
            "showbackground": true,
            "ticks": "",
            "zerolinecolor": "white"
           }
          },
          "shapedefaults": {
           "line": {
            "color": "#2a3f5f"
           }
          },
          "ternary": {
           "aaxis": {
            "gridcolor": "white",
            "linecolor": "white",
            "ticks": ""
           },
           "baxis": {
            "gridcolor": "white",
            "linecolor": "white",
            "ticks": ""
           },
           "bgcolor": "#E5ECF6",
           "caxis": {
            "gridcolor": "white",
            "linecolor": "white",
            "ticks": ""
           }
          },
          "title": {
           "x": 0.05
          },
          "xaxis": {
           "automargin": true,
           "gridcolor": "white",
           "linecolor": "white",
           "ticks": "",
           "title": {
            "standoff": 15
           },
           "zerolinecolor": "white",
           "zerolinewidth": 2
          },
          "yaxis": {
           "automargin": true,
           "gridcolor": "white",
           "linecolor": "white",
           "ticks": "",
           "title": {
            "standoff": 15
           },
           "zerolinecolor": "white",
           "zerolinewidth": 2
          }
         }
        },
        "width": 960,
        "xaxis": {
         "anchor": "y",
         "gridcolor": "rgba(0,0,0,0.1)",
         "mirror": "ticks",
         "nticks": 8,
         "showgrid": true,
         "showline": true,
         "side": "bottom",
         "tickfont": {
          "size": 16
         },
         "ticks": "inside",
         "title": {
          "font": {
           "color": "#000000",
           "size": 20
          },
          "text": "Composition (fraction)"
         },
         "type": "linear",
         "zeroline": false
        },
        "yaxis": {
         "anchor": "x",
         "gridcolor": "rgba(0,0,0,0.1)",
         "mirror": "ticks",
         "showgrid": true,
         "showline": true,
         "side": "left",
         "tickfont": {
          "size": 16
         },
         "ticks": "inside",
         "title": {
          "font": {
           "color": "#000000",
           "size": 20
          },
          "text": "Formation energy (eV/atom)"
         },
         "type": "linear"
        }
       }
      }
     },
     "metadata": {},
     "output_type": "display_data"
    },
    {
     "name": "stdout",
     "output_type": "stream",
     "text": [
      "B: H_fusion = 50200.0 J/mol, T_fusion = 2350.0 K, T_vaporization = 4273.15 K\n",
      "Dy: H_fusion = 11060.0 J/mol, T_fusion = 1685.0 K, T_vaporization = 2840.15 K\n",
      "\n",
      "Reading MPDS json from entry at https://mpds.io/entry/C900285...\n",
      "\n",
      "Best fitted parameters for B-Dy: [52512.32, -78.73, 66933.72, -65.99]\n",
      "MAE = 53.11\n",
      "L0 = 52512 - 78.73*t\n",
      "L1 = 66933 - 65.99*t\n"
     ]
    },
    {
     "data": {
      "image/png": "[encoded data removed]",
      "text/plain": [
       "<Figure size 800x500 with 3 Axes>"
      ]
     },
     "metadata": {},
     "output_type": "display_data"
    },
    {
     "data": {
      "application/vnd.plotly.v1+json": {
       "config": {
        "plotlyServerURL": "https://plot.ly"
       },
       "data": [
        {
         "line": {
          "color": "#B82E2E",
          "dash": "dash",
          "width": 4
         },
         "mode": "lines",
         "showlegend": false,
         "type": "scatter",
         "x": [
          0.0381243,
          0.825169,
          0.831658,
          0.871746,
          0.913822,
          0.95764,
          1.00297,
          1.0495,
          1.09709,
          1.14547,
          1.19442,
          1.24369,
          1.29307,
          1.34232,
          1.39121,
          1.43952,
          1.48704,
          1.53353,
          1.53431,
          1.5705299999999998,
          1.9848500000000002,
          2.3767,
          2.74156,
          3.08212,
          3.40111,
          3.70123,
          3.9852,
          4.25572,
          4.5155,
          4.76723,
          5.01362,
          5.25733,
          5.50105,
          5.74744,
          5.99917,
          6.258910000000001,
          6.521159999999999,
          6.82615,
          7.117899999999999,
          7.394289999999999,
          7.659690000000001,
          7.918450000000001,
          8.17492,
          8.43341,
          8.69824,
          8.9737,
          9.26407,
          9.57364,
          9.90666,
          10.2674,
          10.6603,
          11.0895,
          11.5594,
          12.0606,
          12.5962,
          13.129299999999999,
          13.6522,
          14.1651,
          14.6681,
          15.1612,
          15.6446,
          16.1182,
          16.5823,
          17.037,
          17.4823,
          17.9186,
          18.3459,
          18.7647,
          19.1753,
          19.578,
          19.9731,
          20.4527,
          21.0957,
          21.888,
          22.8148,
          23.861,
          25.0108,
          26.248699999999996,
          27.5589,
          28.9259,
          30.334,
          31.7673,
          33.2103,
          34.6473,
          36.0625,
          37.4401,
          38.7646,
          40.012,
          45.4629,
          50.6467,
          55.5565,
          60.19760000000001,
          64.5755,
          68.6956,
          72.5633,
          76.1841,
          79.5633,
          82.7065,
          85.619,
          88.3062,
          90.7737,
          93.0267,
          95.0708,
          96.9113,
          98.5394,
          99.9428
         ],
         "y": [
          2091.71,
          2021.33,
          2021.37,
          2021.63,
          2021.9099999999999,
          2022.1999999999998,
          2022.5,
          2022.81,
          2023.13,
          2023.44,
          2023.75,
          2024.0499999999997,
          2024.33,
          2024.6099999999997,
          2024.8599999999997,
          2025.0899999999997,
          2025.29,
          2025.46,
          2025.46,
          2025.5699999999997,
          2033.3899999999999,
          2040.7599999999998,
          2047.56,
          2053.82,
          2059.58,
          2064.87,
          2069.71,
          2074.16,
          2078.22,
          2081.94,
          2085.35,
          2088.47,
          2091.34,
          2094,
          2096.46,
          2098.77,
          2100.89,
          2108.95,
          2116.68,
          2123.96,
          2130.83,
          2137.33,
          2143.5,
          2149.38,
          2155.01,
          2160.43,
          2165.68,
          2170.79,
          2175.82,
          2180.8,
          2185.77,
          2190.77,
          2195.85,
          2200.9,
          2229.53,
          2257.75,
          2285.03,
          2311.26,
          2336.3,
          2360.05,
          2382.37,
          2403.15,
          2422.26,
          2439.6,
          2455.02,
          2468.43,
          2479.68,
          2488.67,
          2495.27,
          2499.34,
          2500.75,
          2499.3,
          2494.93,
          2487.69,
          2477.62,
          2464.73,
          2449.05,
          2430.61,
          2409.44,
          2385.55,
          2358.98,
          2329.75,
          2297.88,
          2263.41,
          2226.36,
          2186.74,
          2144.6,
          2100.25,
          2062.41,
          2023.2199999999998,
          1982.9499999999998,
          1941.75,
          1899.81,
          1857.29,
          1814.37,
          1771.21,
          1728,
          1684.9,
          1642.0699999999997,
          1599.71,
          1557.9699999999998,
          1517.02,
          1477.0499999999997,
          1438.21,
          1401.02,
          1413.29
         ]
        },
        {
         "hovertemplate": "label=DyB12<br>x=%{x}<br>t=%{y}<extra></extra>",
         "legendgroup": "DyB12",
         "line": {
          "color": "rgb(246, 207, 113)",
          "dash": "solid",
          "width": 4
         },
         "marker": {
          "symbol": "circle"
         },
         "mode": "lines",
         "name": "DyB12",
         "orientation": "v",
         "showlegend": false,
         "type": "scatter",
         "x": [
          8,
          8,
          8,
          8,
          8
         ],
         "xaxis": "x",
         "y": [
          2133.8148027687143,
          2077.891849337018,
          2122.732961459419,
          2089.8540641348977,
          -273.15
         ],
         "yaxis": "y"
        },
        {
         "hovertemplate": "label=DyB4<br>x=%{x}<br>t=%{y}<extra></extra>",
         "legendgroup": "DyB4",
         "line": {
          "color": "rgb(248, 156, 116)",
          "dash": "solid",
          "width": 4
         },
         "marker": {
          "symbol": "circle"
         },
         "mode": "lines",
         "name": "DyB4",
         "orientation": "v",
         "showlegend": false,
         "type": "scatter",
         "x": [
          20,
          20,
          20,
          20,
          20,
          20,
          20,
          20,
          20,
          20,
          20,
          20,
          20,
          20,
          20,
          20,
          20,
          20,
          20,
          20,
          20,
          20,
          20,
          20,
          20,
          20,
          20,
          20,
          20,
          20,
          20,
          20,
          20,
          20,
          20,
          20,
          20,
          20,
          20,
          20,
          20,
          20,
          20,
          20,
          20,
          20
         ],
         "xaxis": "x",
         "y": [
          2096.27356358875,
          2108.6686726038943,
          2133.8148027687143,
          2367.7553892298474,
          2311.220340354483,
          2251.139907674701,
          2476.6799010206514,
          2485.9473038718393,
          2497.2863675046797,
          2492.7960819932673,
          2499.4899999999984,
          2499.489999999999,
          2464.945465988125,
          2450.7066629507744,
          2414.6115214569536,
          2433.9356871079276,
          2311.2686400688563,
          2341.099358718186,
          2392.715500528244,
          2368.224364792931,
          2278.597469098797,
          2242.834004961866,
          2159.6480839677297,
          2203.5008909766807,
          2330.5827794040792,
          2349.4611789247247,
          2271.4139599687896,
          2291.468050256137,
          2128.6939389404374,
          2148.9070968550573,
          2189.723949529042,
          2169.266104891806,
          2210.228358067366,
          2230.7215317225155,
          2446.588725958128,
          2432.8986203134414,
          2418.0489757206215,
          2458.9942269456155,
          2469.989053865607,
          2487.2451726558543,
          2479.447411740527,
          2493.2613558902935,
          2497.3796597512974,
          2385.3595903173064,
          2402.162709417657,
          -273.15
         ],
         "yaxis": "y"
        },
        {
         "hovertemplate": "label=DyB2<br>x=%{x}<br>t=%{y}<extra></extra>",
         "legendgroup": "DyB2",
         "line": {
          "color": "rgb(220, 176, 242)",
          "dash": "solid",
          "width": 4
         },
         "marker": {
          "symbol": "circle"
         },
         "mode": "lines",
         "name": "DyB2",
         "orientation": "v",
         "showlegend": false,
         "type": "scatter",
         "x": [
          33,
          33,
          33,
          33,
          33,
          33,
          33,
          33,
          33,
          33,
          33,
          33,
          33,
          33,
          33,
          33,
          33,
          33,
          33,
          33,
          33,
          33,
          33,
          33,
          33,
          33,
          33,
          33,
          33,
          33,
          33,
          33,
          33,
          33,
          33,
          33,
          33,
          33,
          33,
          33,
          33,
          33,
          33,
          33,
          33,
          33,
          33,
          33,
          33,
          33,
          33,
          33,
          33,
          33,
          33,
          33
         ],
         "xaxis": "x",
         "y": [
          2096.27356358875,
          1386.3195391962008,
          1394.611946736104,
          1480.1107722632091,
          1533.360136661206,
          2020.4306162235598,
          2092.150561851667,
          2057.20438319269,
          1934.069093770624,
          1922.1490093102252,
          1898.863180911726,
          1910.4074420816664,
          1865.5709075976292,
          1887.5328931943832,
          1876.4312279804012,
          1763.8699905985586,
          1788.3106701454349,
          1834.5378449465238,
          1824.7339298119614,
          1815.2081242259615,
          1669.620797774572,
          1707.5367452877617,
          1727.7376245813398,
          1741.623689873833,
          1734.606456667992,
          1946.1466731805285,
          1958.35837340419,
          1983.078146943692,
          1970.6783463415518,
          1995.526612430146,
          2007.9897470711335,
          2069.1252275402626,
          2080.7925276510746,
          2032.809253661027,
          2045.0825866017008,
          1844.6160053872136,
          1854.9628051916702,
          1748.8231313624465,
          1756.2315441428245,
          1771.754862930693,
          1779.8986749782066,
          1796.9972860904545,
          1805.962506670834,
          1686.270799210387,
          1678.336465355157,
          1693.6664052111978,
          1700.7077515230499,
          1714.2636007320798,
          1720.9745831454638,
          1570.310669399435,
          1597.5095271986543,
          1618.371249820461,
          1634.9158212802954,
          1659.800153668422,
          1648.4351278146173,
          -273.15
         ],
         "yaxis": "y"
        },
        {
         "hovertemplate": "x=%{x}<br>y=%{y}<extra></extra>",
         "legendgroup": "",
         "line": {
          "color": "Silver",
          "dash": "solid",
          "width": 4
         },
         "marker": {
          "symbol": "circle"
         },
         "mode": "lines",
         "name": "",
         "orientation": "v",
         "showlegend": false,
         "type": "scatter",
         "x": [
          33,
          99,
          100
         ],
         "xaxis": "x",
         "y": [
          1386.3195391962008,
          1386.3195391962008,
          1386.3195391962008
         ],
         "yaxis": "y"
        },
        {
         "hovertemplate": "x=%{x}<br>y=%{y}<extra></extra>",
         "legendgroup": "",
         "line": {
          "color": "Silver",
          "dash": "solid",
          "width": 4
         },
         "marker": {
          "symbol": "circle"
         },
         "mode": "lines",
         "name": "",
         "orientation": "v",
         "showlegend": false,
         "type": "scatter",
         "x": [
          0,
          1,
          8
         ],
         "xaxis": "x",
         "y": [
          2077.891849337018,
          2077.891849337018,
          2077.891849337018
         ],
         "yaxis": "y"
        },
        {
         "hovertemplate": "x=%{x}<br>y=%{y}<extra></extra>",
         "legendgroup": "",
         "line": {
          "color": "Silver",
          "dash": "solid",
          "width": 4
         },
         "marker": {
          "symbol": "circle"
         },
         "mode": "lines",
         "name": "",
         "orientation": "v",
         "showlegend": false,
         "type": "scatter",
         "x": [
          20,
          33,
          46
         ],
         "xaxis": "x",
         "y": [
          2096.27356358875,
          2096.27356358875,
          2096.27356358875
         ],
         "yaxis": "y"
        },
        {
         "hovertemplate": "x=%{x}<br>y=%{y}<extra></extra>",
         "legendgroup": "",
         "line": {
          "color": "Silver",
          "dash": "solid",
          "width": 4
         },
         "marker": {
          "symbol": "circle"
         },
         "mode": "lines",
         "name": "",
         "orientation": "v",
         "showlegend": false,
         "type": "scatter",
         "x": [
          3,
          8,
          20
         ],
         "xaxis": "x",
         "y": [
          2133.8148027687143,
          2133.8148027687143,
          2133.8148027687143
         ],
         "yaxis": "y"
        },
        {
         "hovertemplate": "label=L<br>x=%{x}<br>t=%{y}<extra></extra>",
         "legendgroup": "L",
         "line": {
          "color": "cornflowerblue",
          "dash": "solid",
          "width": 4
         },
         "marker": {
          "symbol": "circle"
         },
         "mode": "lines",
         "name": "L",
         "orientation": "v",
         "showlegend": false,
         "type": "scatter",
         "x": [
          0,
          1,
          2,
          3,
          4,
          5,
          6,
          7.000000000000001,
          8,
          9,
          10,
          11,
          12,
          13,
          14.000000000000002,
          15,
          16,
          17,
          18,
          19,
          20,
          21,
          22,
          23,
          24,
          25,
          26,
          27,
          28.000000000000004,
          28.999999999999996,
          30,
          31,
          32,
          33,
          34,
          35,
          36,
          37,
          38,
          39,
          40,
          41,
          42,
          43,
          44,
          45,
          46,
          47,
          48,
          49,
          50,
          51,
          52,
          53,
          54,
          55.00000000000001,
          56.00000000000001,
          57.00000000000001,
          57.99999999999999,
          59,
          60,
          61,
          62,
          63,
          64,
          65,
          66,
          67,
          68,
          69,
          70,
          71,
          72,
          73,
          74,
          75,
          76,
          77,
          78,
          79,
          80,
          81,
          82,
          83,
          84,
          85,
          86,
          87,
          88,
          89,
          90,
          91,
          92,
          93,
          94,
          95,
          96,
          97,
          98,
          99,
          100
         ],
         "xaxis": "x",
         "y": [
          2091.71,
          2077.891849337018,
          2089.8540641348977,
          2122.732961459419,
          2159.6480839677297,
          2203.5008909766807,
          2242.834004961866,
          2278.597469098797,
          2311.2686400688563,
          2341.099358718186,
          2368.224364792931,
          2392.715500528244,
          2414.6115214569536,
          2433.9356871079276,
          2450.7066629507744,
          2464.945465988125,
          2476.6799010206514,
          2485.9473038718393,
          2492.7960819932673,
          2497.2863675046797,
          2499.4899999999984,
          2497.3796597512974,
          2493.2613558902935,
          2487.2451726558543,
          2479.447411740527,
          2469.989053865607,
          2458.9942269456155,
          2446.588725958128,
          2432.8986203134414,
          2418.0489757206215,
          2402.162709417657,
          2385.3595903173064,
          2367.7553892298474,
          2349.4611789247247,
          2330.5827794040792,
          2311.220340354483,
          2291.468050256137,
          2271.4139599687896,
          2251.139907674701,
          2230.7215317225155,
          2210.228358067366,
          2189.723949529042,
          2169.266104891806,
          2148.9070968550573,
          2128.6939389404374,
          2108.6686726038943,
          2092.150561851667,
          2080.7925276510746,
          2069.1252275402626,
          2057.20438319269,
          2045.0825866017008,
          2032.809253661027,
          2020.4306162235598,
          2007.9897470711335,
          1995.526612430146,
          1983.078146943692,
          1970.6783463415518,
          1958.35837340419,
          1946.1466731805285,
          1934.069093770624,
          1922.1490093102252,
          1910.4074420816664,
          1898.863180911726,
          1887.5328931943832,
          1876.4312279804012,
          1865.5709075976292,
          1854.9628051916702,
          1844.6160053872136,
          1834.5378449465238,
          1824.7339298119614,
          1815.2081242259615,
          1805.962506670834,
          1796.9972860904545,
          1788.3106701454349,
          1779.8986749782066,
          1771.754862930693,
          1763.8699905985586,
          1756.2315441428245,
          1748.8231313624465,
          1741.623689873833,
          1734.606456667992,
          1727.7376245813398,
          1720.9745831454638,
          1714.2636007320798,
          1707.5367452877617,
          1700.7077515230499,
          1693.6664052111978,
          1686.270799210387,
          1678.336465355157,
          1669.620797774572,
          1659.800153668422,
          1648.4351278146173,
          1634.9158212802954,
          1618.371249820461,
          1597.5095271986543,
          1570.310669399435,
          1533.360136661206,
          1480.1107722632091,
          1394.611946736104,
          1386.3195391962008,
          1413.2900000000004
         ],
         "yaxis": "y"
        },
        {
         "line": {
          "color": "#B82E2E",
          "dash": "dash"
         },
         "mode": "lines",
         "name": "Digitized Liquidus",
         "showlegend": true,
         "type": "scatter",
         "x": [
          null
         ],
         "y": [
          null
         ]
        },
        {
         "marker": {
          "color": "cornflowerblue"
         },
         "mode": "lines",
         "name": "Fitted Liquidus",
         "showlegend": true,
         "type": "scatter",
         "x": [
          null
         ],
         "y": [
          null
         ]
        }
       ],
       "layout": {
        "annotations": [
         {
          "borderpad": 5,
          "font": {
           "color": "black",
           "size": 18
          },
          "showarrow": false,
          "text": "DyB12",
          "textangle": -90,
          "x": 5.5,
          "y": 500,
          "yanchor": "bottom"
         },
         {
          "borderpad": 5,
          "font": {
           "color": "black",
           "size": 18
          },
          "showarrow": false,
          "text": "DyB4",
          "textangle": -90,
          "x": 17.5,
          "y": 500,
          "yanchor": "bottom"
         },
         {
          "borderpad": 5,
          "font": {
           "color": "black",
           "size": 18
          },
          "showarrow": false,
          "text": "DyB2",
          "textangle": -90,
          "x": 30.5,
          "y": 500,
          "yanchor": "bottom"
         },
         {
          "font": {
           "color": "black",
           "size": 18
          },
          "showarrow": false,
          "text": "L",
          "x": 50,
          "y": 3050
         }
        ],
        "font": {
         "size": 22
        },
        "height": 700,
        "legend": {
         "font": {
          "size": 18
         },
         "x": 0.99,
         "xanchor": "right",
         "y": 0.99,
         "yanchor": "top"
        },
        "plot_bgcolor": "white",
        "showlegend": true,
        "template": {
         "data": {
          "bar": [
           {
            "error_x": {
             "color": "#2a3f5f"
            },
            "error_y": {
             "color": "#2a3f5f"
            },
            "marker": {
             "line": {
              "color": "#E5ECF6",
              "width": 0.5
             },
             "pattern": {
              "fillmode": "overlay",
              "size": 10,
              "solidity": 0.2
             }
            },
            "type": "bar"
           }
          ],
          "barpolar": [
           {
            "marker": {
             "line": {
              "color": "#E5ECF6",
              "width": 0.5
             },
             "pattern": {
              "fillmode": "overlay",
              "size": 10,
              "solidity": 0.2
             }
            },
            "type": "barpolar"
           }
          ],
          "carpet": [
           {
            "aaxis": {
             "endlinecolor": "#2a3f5f",
             "gridcolor": "white",
             "linecolor": "white",
             "minorgridcolor": "white",
             "startlinecolor": "#2a3f5f"
            },
            "baxis": {
             "endlinecolor": "#2a3f5f",
             "gridcolor": "white",
             "linecolor": "white",
             "minorgridcolor": "white",
             "startlinecolor": "#2a3f5f"
            },
            "type": "carpet"
           }
          ],
          "choropleth": [
           {
            "colorbar": {
             "outlinewidth": 0,
             "ticks": ""
            },
            "type": "choropleth"
           }
          ],
          "contour": [
           {
            "colorbar": {
             "outlinewidth": 0,
             "ticks": ""
            },
            "colorscale": [
             [
              0,
              "#0d0887"
             ],
             [
              0.1111111111111111,
              "#46039f"
             ],
             [
              0.2222222222222222,
              "#7201a8"
             ],
             [
              0.3333333333333333,
              "#9c179e"
             ],
             [
              0.4444444444444444,
              "#bd3786"
             ],
             [
              0.5555555555555556,
              "#d8576b"
             ],
             [
              0.6666666666666666,
              "#ed7953"
             ],
             [
              0.7777777777777778,
              "#fb9f3a"
             ],
             [
              0.8888888888888888,
              "#fdca26"
             ],
             [
              1,
              "#f0f921"
             ]
            ],
            "type": "contour"
           }
          ],
          "contourcarpet": [
           {
            "colorbar": {
             "outlinewidth": 0,
             "ticks": ""
            },
            "type": "contourcarpet"
           }
          ],
          "heatmap": [
           {
            "colorbar": {
             "outlinewidth": 0,
             "ticks": ""
            },
            "colorscale": [
             [
              0,
              "#0d0887"
             ],
             [
              0.1111111111111111,
              "#46039f"
             ],
             [
              0.2222222222222222,
              "#7201a8"
             ],
             [
              0.3333333333333333,
              "#9c179e"
             ],
             [
              0.4444444444444444,
              "#bd3786"
             ],
             [
              0.5555555555555556,
              "#d8576b"
             ],
             [
              0.6666666666666666,
              "#ed7953"
             ],
             [
              0.7777777777777778,
              "#fb9f3a"
             ],
             [
              0.8888888888888888,
              "#fdca26"
             ],
             [
              1,
              "#f0f921"
             ]
            ],
            "type": "heatmap"
           }
          ],
          "heatmapgl": [
           {
            "colorbar": {
             "outlinewidth": 0,
             "ticks": ""
            },
            "colorscale": [
             [
              0,
              "#0d0887"
             ],
             [
              0.1111111111111111,
              "#46039f"
             ],
             [
              0.2222222222222222,
              "#7201a8"
             ],
             [
              0.3333333333333333,
              "#9c179e"
             ],
             [
              0.4444444444444444,
              "#bd3786"
             ],
             [
              0.5555555555555556,
              "#d8576b"
             ],
             [
              0.6666666666666666,
              "#ed7953"
             ],
             [
              0.7777777777777778,
              "#fb9f3a"
             ],
             [
              0.8888888888888888,
              "#fdca26"
             ],
             [
              1,
              "#f0f921"
             ]
            ],
            "type": "heatmapgl"
           }
          ],
          "histogram": [
           {
            "marker": {
             "pattern": {
              "fillmode": "overlay",
              "size": 10,
              "solidity": 0.2
             }
            },
            "type": "histogram"
           }
          ],
          "histogram2d": [
           {
            "colorbar": {
             "outlinewidth": 0,
             "ticks": ""
            },
            "colorscale": [
             [
              0,
              "#0d0887"
             ],
             [
              0.1111111111111111,
              "#46039f"
             ],
             [
              0.2222222222222222,
              "#7201a8"
             ],
             [
              0.3333333333333333,
              "#9c179e"
             ],
             [
              0.4444444444444444,
              "#bd3786"
             ],
             [
              0.5555555555555556,
              "#d8576b"
             ],
             [
              0.6666666666666666,
              "#ed7953"
             ],
             [
              0.7777777777777778,
              "#fb9f3a"
             ],
             [
              0.8888888888888888,
              "#fdca26"
             ],
             [
              1,
              "#f0f921"
             ]
            ],
            "type": "histogram2d"
           }
          ],
          "histogram2dcontour": [
           {
            "colorbar": {
             "outlinewidth": 0,
             "ticks": ""
            },
            "colorscale": [
             [
              0,
              "#0d0887"
             ],
             [
              0.1111111111111111,
              "#46039f"
             ],
             [
              0.2222222222222222,
              "#7201a8"
             ],
             [
              0.3333333333333333,
              "#9c179e"
             ],
             [
              0.4444444444444444,
              "#bd3786"
             ],
             [
              0.5555555555555556,
              "#d8576b"
             ],
             [
              0.6666666666666666,
              "#ed7953"
             ],
             [
              0.7777777777777778,
              "#fb9f3a"
             ],
             [
              0.8888888888888888,
              "#fdca26"
             ],
             [
              1,
              "#f0f921"
             ]
            ],
            "type": "histogram2dcontour"
           }
          ],
          "mesh3d": [
           {
            "colorbar": {
             "outlinewidth": 0,
             "ticks": ""
            },
            "type": "mesh3d"
           }
          ],
          "parcoords": [
           {
            "line": {
             "colorbar": {
              "outlinewidth": 0,
              "ticks": ""
             }
            },
            "type": "parcoords"
           }
          ],
          "pie": [
           {
            "automargin": true,
            "type": "pie"
           }
          ],
          "scatter": [
           {
            "fillpattern": {
             "fillmode": "overlay",
             "size": 10,
             "solidity": 0.2
            },
            "type": "scatter"
           }
          ],
          "scatter3d": [
           {
            "line": {
             "colorbar": {
              "outlinewidth": 0,
              "ticks": ""
             }
            },
            "marker": {
             "colorbar": {
              "outlinewidth": 0,
              "ticks": ""
             }
            },
            "type": "scatter3d"
           }
          ],
          "scattercarpet": [
           {
            "marker": {
             "colorbar": {
              "outlinewidth": 0,
              "ticks": ""
             }
            },
            "type": "scattercarpet"
           }
          ],
          "scattergeo": [
           {
            "marker": {
             "colorbar": {
              "outlinewidth": 0,
              "ticks": ""
             }
            },
            "type": "scattergeo"
           }
          ],
          "scattergl": [
           {
            "marker": {
             "colorbar": {
              "outlinewidth": 0,
              "ticks": ""
             }
            },
            "type": "scattergl"
           }
          ],
          "scattermapbox": [
           {
            "marker": {
             "colorbar": {
              "outlinewidth": 0,
              "ticks": ""
             }
            },
            "type": "scattermapbox"
           }
          ],
          "scatterpolar": [
           {
            "marker": {
             "colorbar": {
              "outlinewidth": 0,
              "ticks": ""
             }
            },
            "type": "scatterpolar"
           }
          ],
          "scatterpolargl": [
           {
            "marker": {
             "colorbar": {
              "outlinewidth": 0,
              "ticks": ""
             }
            },
            "type": "scatterpolargl"
           }
          ],
          "scatterternary": [
           {
            "marker": {
             "colorbar": {
              "outlinewidth": 0,
              "ticks": ""
             }
            },
            "type": "scatterternary"
           }
          ],
          "surface": [
           {
            "colorbar": {
             "outlinewidth": 0,
             "ticks": ""
            },
            "colorscale": [
             [
              0,
              "#0d0887"
             ],
             [
              0.1111111111111111,
              "#46039f"
             ],
             [
              0.2222222222222222,
              "#7201a8"
             ],
             [
              0.3333333333333333,
              "#9c179e"
             ],
             [
              0.4444444444444444,
              "#bd3786"
             ],
             [
              0.5555555555555556,
              "#d8576b"
             ],
             [
              0.6666666666666666,
              "#ed7953"
             ],
             [
              0.7777777777777778,
              "#fb9f3a"
             ],
             [
              0.8888888888888888,
              "#fdca26"
             ],
             [
              1,
              "#f0f921"
             ]
            ],
            "type": "surface"
           }
          ],
          "table": [
           {
            "cells": {
             "fill": {
              "color": "#EBF0F8"
             },
             "line": {
              "color": "white"
             }
            },
            "header": {
             "fill": {
              "color": "#C8D4E3"
             },
             "line": {
              "color": "white"
             }
            },
            "type": "table"
           }
          ]
         },
         "layout": {
          "annotationdefaults": {
           "arrowcolor": "#2a3f5f",
           "arrowhead": 0,
           "arrowwidth": 1
          },
          "autotypenumbers": "strict",
          "coloraxis": {
           "colorbar": {
            "outlinewidth": 0,
            "ticks": ""
           }
          },
          "colorscale": {
           "diverging": [
            [
             0,
             "#8e0152"
            ],
            [
             0.1,
             "#c51b7d"
            ],
            [
             0.2,
             "#de77ae"
            ],
            [
             0.3,
             "#f1b6da"
            ],
            [
             0.4,
             "#fde0ef"
            ],
            [
             0.5,
             "#f7f7f7"
            ],
            [
             0.6,
             "#e6f5d0"
            ],
            [
             0.7,
             "#b8e186"
            ],
            [
             0.8,
             "#7fbc41"
            ],
            [
             0.9,
             "#4d9221"
            ],
            [
             1,
             "#276419"
            ]
           ],
           "sequential": [
            [
             0,
             "#0d0887"
            ],
            [
             0.1111111111111111,
             "#46039f"
            ],
            [
             0.2222222222222222,
             "#7201a8"
            ],
            [
             0.3333333333333333,
             "#9c179e"
            ],
            [
             0.4444444444444444,
             "#bd3786"
            ],
            [
             0.5555555555555556,
             "#d8576b"
            ],
            [
             0.6666666666666666,
             "#ed7953"
            ],
            [
             0.7777777777777778,
             "#fb9f3a"
            ],
            [
             0.8888888888888888,
             "#fdca26"
            ],
            [
             1,
             "#f0f921"
            ]
           ],
           "sequentialminus": [
            [
             0,
             "#0d0887"
            ],
            [
             0.1111111111111111,
             "#46039f"
            ],
            [
             0.2222222222222222,
             "#7201a8"
            ],
            [
             0.3333333333333333,
             "#9c179e"
            ],
            [
             0.4444444444444444,
             "#bd3786"
            ],
            [
             0.5555555555555556,
             "#d8576b"
            ],
            [
             0.6666666666666666,
             "#ed7953"
            ],
            [
             0.7777777777777778,
             "#fb9f3a"
            ],
            [
             0.8888888888888888,
             "#fdca26"
            ],
            [
             1,
             "#f0f921"
            ]
           ]
          },
          "colorway": [
           "#636efa",
           "#EF553B",
           "#00cc96",
           "#ab63fa",
           "#FFA15A",
           "#19d3f3",
           "#FF6692",
           "#B6E880",
           "#FF97FF",
           "#FECB52"
          ],
          "font": {
           "color": "#2a3f5f"
          },
          "geo": {
           "bgcolor": "white",
           "lakecolor": "white",
           "landcolor": "#E5ECF6",
           "showlakes": true,
           "showland": true,
           "subunitcolor": "white"
          },
          "hoverlabel": {
           "align": "left"
          },
          "hovermode": "closest",
          "mapbox": {
           "style": "light"
          },
          "paper_bgcolor": "white",
          "plot_bgcolor": "#E5ECF6",
          "polar": {
           "angularaxis": {
            "gridcolor": "white",
            "linecolor": "white",
            "ticks": ""
           },
           "bgcolor": "#E5ECF6",
           "radialaxis": {
            "gridcolor": "white",
            "linecolor": "white",
            "ticks": ""
           }
          },
          "scene": {
           "xaxis": {
            "backgroundcolor": "#E5ECF6",
            "gridcolor": "white",
            "gridwidth": 2,
            "linecolor": "white",
            "showbackground": true,
            "ticks": "",
            "zerolinecolor": "white"
           },
           "yaxis": {
            "backgroundcolor": "#E5ECF6",
            "gridcolor": "white",
            "gridwidth": 2,
            "linecolor": "white",
            "showbackground": true,
            "ticks": "",
            "zerolinecolor": "white"
           },
           "zaxis": {
            "backgroundcolor": "#E5ECF6",
            "gridcolor": "white",
            "gridwidth": 2,
            "linecolor": "white",
            "showbackground": true,
            "ticks": "",
            "zerolinecolor": "white"
           }
          },
          "shapedefaults": {
           "line": {
            "color": "#2a3f5f"
           }
          },
          "ternary": {
           "aaxis": {
            "gridcolor": "white",
            "linecolor": "white",
            "ticks": ""
           },
           "baxis": {
            "gridcolor": "white",
            "linecolor": "white",
            "ticks": ""
           },
           "bgcolor": "#E5ECF6",
           "caxis": {
            "gridcolor": "white",
            "linecolor": "white",
            "ticks": ""
           }
          },
          "title": {
           "x": 0.05
          },
          "xaxis": {
           "automargin": true,
           "gridcolor": "white",
           "linecolor": "white",
           "ticks": "",
           "title": {
            "standoff": 15
           },
           "zerolinecolor": "white",
           "zerolinewidth": 2
          },
          "yaxis": {
           "automargin": true,
           "gridcolor": "white",
           "linecolor": "white",
           "ticks": "",
           "title": {
            "standoff": 15
           },
           "zerolinecolor": "white",
           "zerolinewidth": 2
          }
         }
        },
        "title": {
         "text": "B-Dy DFT-Referenced Binary Phase Diagram"
        },
        "width": 960,
        "xaxis": {
         "linecolor": "black",
         "linewidth": 2,
         "mirror": true,
         "range": [
          0,
          100
         ],
         "showline": true,
         "tickcolor": "black",
         "tickformat": ".0f",
         "ticks": "outside",
         "title": {
          "text": "Dy (at. %)"
         }
        },
        "yaxis": {
         "linecolor": "black",
         "linewidth": 2,
         "mirror": true,
         "range": [
          500,
          3250
         ],
         "showline": true,
         "tickcolor": "black",
         "ticks": "outside",
         "ticksuffix": " ",
         "title": {
          "text": "T (°C)"
         }
        }
       }
      }
     },
     "metadata": {},
     "output_type": "display_data"
    },
    {
     "name": "stdout",
     "output_type": "stream",
     "text": [
      "No arguments specified for 't_vals', setting 't_units' to 'K'\n"
     ]
    },
    {
     "data": {
      "application/vnd.plotly.v1+json": {
       "config": {
        "plotlyServerURL": "https://plot.ly"
       },
       "data": [
        {
         "mode": "lines",
         "name": "Liquid T=2772K",
         "type": "scatter",
         "x": [
          0,
          0.01,
          0.02,
          0.03,
          0.04,
          0.05,
          0.06,
          0.07,
          0.08,
          0.09,
          0.1,
          0.11,
          0.12,
          0.13,
          0.14,
          0.15,
          0.16,
          0.17,
          0.18,
          0.19,
          0.2,
          0.21,
          0.22,
          0.23,
          0.24,
          0.25,
          0.26,
          0.27,
          0.28,
          0.29,
          0.3,
          0.31,
          0.32,
          0.33,
          0.34,
          0.35000000000000003,
          0.36,
          0.37,
          0.38,
          0.39,
          0.4,
          0.41000000000000003,
          0.42,
          0.43,
          0.44,
          0.45,
          0.46,
          0.47000000000000003,
          0.48,
          0.49,
          0.5,
          0.51,
          0.52,
          0.53,
          0.54,
          0.55,
          0.56,
          0.5700000000000001,
          0.58,
          0.59,
          0.6,
          0.61,
          0.62,
          0.63,
          0.64,
          0.65,
          0.66,
          0.67,
          0.68,
          0.6900000000000001,
          0.7000000000000001,
          0.71,
          0.72,
          0.73,
          0.74,
          0.75,
          0.76,
          0.77,
          0.78,
          0.79,
          0.8,
          0.81,
          0.8200000000000001,
          0.8300000000000001,
          0.84,
          0.85,
          0.86,
          0.87,
          0.88,
          0.89,
          0.9,
          0.91,
          0.92,
          0.93,
          0.9400000000000001,
          0.9500000000000001,
          0.96,
          0.97,
          0.98,
          0.99,
          1
         ],
         "y": [
          -0.08971486375883182,
          -0.1316116171569371,
          -0.1691214909382329,
          -0.20432061664232212,
          -0.23766146252628598,
          -0.2693663600834394,
          -0.29957207957506127,
          -0.32837379475680156,
          -0.35584324023916347,
          -0.38203761763787425,
          -0.40700448748837365,
          -0.4307846829017816,
          -0.453414154357873,
          -0.47492519508088366,
          -0.4953472870431231,
          -0.5147077039503072,
          -0.533031952653944,
          -0.5503441037170874,
          -0.5666670438659291,
          -0.5820226721003158,
          -0.5964320543333319,
          -0.6099155469531334,
          -0.6224928967210979,
          -0.6341833223922637,
          -0.6450055820350313,
          -0.6549780290301493,
          -0.6641186590118753,
          -0.6724451494905543,
          -0.6799748935082219,
          -0.6867250283882524,
          -0.692712460419732,
          -0.6979538861483184,
          -0.7024658108146158,
          -0.706264564378915,
          -0.7093663154906359,
          -0.711787083696818,
          -0.7135427501327577,
          -0.7146490668965432,
          -0.7151216652756341,
          -0.7149760629661334,
          -0.7142276704027344,
          -0.7128917962985174,
          -0.7109836524780466,
          -0.7085183580739818,
          -0.7055109431461767,
          -0.7019763517726054,
          -0.697929444653143,
          -0.6933850012599388,
          -0.6883577215616843,
          -0.6828622273432943,
          -0.6769130631372423,
          -0.6705246967778958,
          -0.6637115195855541,
          -0.6564878461824102,
          -0.6488679139382161,
          -0.6408658820389467,
          -0.6324958301671195,
          -0.6237717567775266,
          -0.61470757694686,
          -0.6053171197699329,
          -0.595614125268752,
          -0.5856122407734197,
          -0.5753250167255226,
          -0.5647659018450343,
          -0.5539482375905181,
          -0.5428852518291811,
          -0.5315900516176019,
          -0.5200756149751509,
          -0.508354781509455,
          -0.49644024172576084,
          -0.48434452481844475,
          -0.4720799847015694,
          -0.45965878398414295,
          -0.44709287553174665,
          -0.43439398117567224,
          -0.4215735670285513,
          -0.4086428147347051,
          -0.39561258781454306,
          -0.38249339204198307,
          -0.36929532850329144,
          -0.3560280375980962,
          -0.342700631719687,
          -0.3293216136345743,
          -0.3158987765843402,
          -0.3024390807238047,
          -0.2889484984814429,
          -0.2754318184488676,
          -0.2618923929292372,
          -0.2483318073715028,
          -0.2347494389580213,
          -0.22114185361922367,
          -0.20750196003000182,
          -0.1938177842339024,
          -0.18007062485015224,
          -0.16623213941769086,
          -0.15225945248068185,
          -0.13808624943814185,
          -0.12360461918345847,
          -0.1086210893779836,
          -0.0927120509193027,
          -0.07383023142247952
         ]
        },
        {
         "mode": "lines",
         "name": "Liquid T=0K",
         "type": "scatter",
         "x": [
          0,
          0.01,
          0.02,
          0.03,
          0.04,
          0.05,
          0.06,
          0.07,
          0.08,
          0.09,
          0.1,
          0.11,
          0.12,
          0.13,
          0.14,
          0.15,
          0.16,
          0.17,
          0.18,
          0.19,
          0.2,
          0.21,
          0.22,
          0.23,
          0.24,
          0.25,
          0.26,
          0.27,
          0.28,
          0.29,
          0.3,
          0.31,
          0.32,
          0.33,
          0.34,
          0.35000000000000003,
          0.36,
          0.37,
          0.38,
          0.39,
          0.4,
          0.41000000000000003,
          0.42,
          0.43,
          0.44,
          0.45,
          0.46,
          0.47000000000000003,
          0.48,
          0.49,
          0.5,
          0.51,
          0.52,
          0.53,
          0.54,
          0.55,
          0.56,
          0.5700000000000001,
          0.58,
          0.59,
          0.6,
          0.61,
          0.62,
          0.63,
          0.64,
          0.65,
          0.66,
          0.67,
          0.68,
          0.6900000000000001,
          0.7000000000000001,
          0.71,
          0.72,
          0.73,
          0.74,
          0.75,
          0.76,
          0.77,
          0.78,
          0.79,
          0.8,
          0.81,
          0.8200000000000001,
          0.8300000000000001,
          0.84,
          0.85,
          0.86,
          0.87,
          0.88,
          0.89,
          0.9,
          0.91,
          0.92,
          0.93,
          0.9400000000000001,
          0.9500000000000001,
          0.96,
          0.97,
          0.98,
          0.99,
          1
         ],
         "y": [
          0.5202881276882417,
          0.5283501369913448,
          0.5358953872776706,
          0.5429322032057966,
          0.5494689094343008,
          0.5555138306217609,
          0.5610752914267545,
          0.5661616165078597,
          0.570781130523654,
          0.5749421581327152,
          0.5786530239936214,
          0.5819220527649499,
          0.5847575691052788,
          0.5871678976731858,
          0.5891613631272486,
          0.5907462901260452,
          0.5919310033281531,
          0.5927238273921503,
          0.5931330869766144,
          0.5931671067401233,
          0.5928342113412548,
          0.5921427254385865,
          0.5911009736906963,
          0.5897172807561619,
          0.5879999712935613,
          0.5859573699614721,
          0.583597801418472,
          0.5809295903231388,
          0.5779610613340506,
          0.5747005391097848,
          0.5711563483089193,
          0.5673368135900319,
          0.5632502596117003,
          0.5589050110325023,
          0.5543093925110157,
          0.5494717287058185,
          0.5444003442754881,
          0.5391035638786026,
          0.5335897121737395,
          0.5278671138194767,
          0.5219440934743921,
          0.5158289757970632,
          0.509530085446068,
          0.5030557470799842,
          0.4964142853573897,
          0.48961402493686207,
          0.4826632904769792,
          0.4755704066363187,
          0.4683436980734587,
          0.46099148944697677,
          0.45352210541545057,
          0.4459438706374581,
          0.43826510977157696,
          0.43049414747638504,
          0.4226393084104601,
          0.4147089172323798,
          0.40671129860072214,
          0.39865477717406467,
          0.3905476776109854,
          0.38239832457006195,
          0.374215042709872,
          0.3660061566889936,
          0.35777999116600423,
          0.34954487079948193,
          0.3413091202480043,
          0.3330810641701492,
          0.32486902722449434,
          0.31668133406961757,
          0.30852630936409675,
          0.3004122777665094,
          0.29234756393543354,
          0.28434049252944693,
          0.2763993882071272,
          0.2685325756270521,
          0.2607483794477996,
          0.25305512432794736,
          0.24546113492607316,
          0.23797473590075485,
          0.2306042519105701,
          0.22335800761409677,
          0.2162443276699126,
          0.20927153673659535,
          0.2024479594727229,
          0.19578192053687288,
          0.18928174458762329,
          0.1829557562835516,
          0.17681228028323578,
          0.1708596412452535,
          0.16510616382818274,
          0.15956017269060113,
          0.1542299924910864,
          0.14912394788821642,
          0.1442503635405689,
          0.13961756410672163,
          0.13523387424525243,
          0.13110761861473916,
          0.1272471218737594,
          0.12366070868089112,
          0.12035670369471198,
          0.11734343157379966,
          0.11462921697673213
         ]
        },
        {
         "hoverinfo": "none",
         "line": {
          "color": "black",
          "width": 4
         },
         "mode": "lines",
         "showlegend": false,
         "type": "scatter",
         "x": [
          0.3333333333333333,
          0.2,
          null,
          0.2,
          0.07692307692307693,
          null,
          0.07692307692307693,
          0,
          null,
          0.3333333333333333,
          1,
          null
         ],
         "y": [
          -0.5613357794444447,
          -0.5964320543333329,
          null,
          -0.5964320543333329,
          -0.25008072923076863,
          null,
          -0.25008072923076863,
          0,
          null,
          -0.5613357794444447,
          0,
          null
         ]
        },
        {
         "hoverinfo": "skip",
         "mode": "text",
         "name": "Labels (stable)",
         "opacity": 1,
         "showlegend": true,
         "text": [
          "DyB<sub>2</sub>",
          "DyB<sub>4</sub>",
          "DyB<sub>12</sub>"
         ],
         "textposition": [
          "bottom right",
          "bottom right",
          "bottom left"
         ],
         "type": "scatter",
         "visible": true,
         "x": [
          0.3413333333333333,
          0.20800000000000002,
          0.06892307692307692
         ],
         "y": [
          -0.5743357794444447,
          -0.6094320543333329,
          -0.26308072923076864
         ]
        },
        {
         "error_y": {
          "array": [
           0,
           0,
           0,
           0,
           0
          ],
          "color": "gray",
          "thickness": 2.5,
          "type": "data",
          "width": 5
         },
         "hoverinfo": "text",
         "hoverlabel": {
          "font": {
           "size": 14
          }
         },
         "hovertext": [
          "DyB<sub>2</sub> (mp-2057-GGA) <br> -0.561 eV/atom (Stable)",
          "DyB<sub>4</sub> (mp-2719-GGA) <br> -0.596 eV/atom (Stable)",
          "DyB<sub>12</sub> (mp-1103476-GGA) <br> -0.25 eV/atom (Stable)",
          "B (mp-160-GGA) <br> 0.0 eV/atom (Stable)",
          "Dy (mp-10658-GGA) <br> 0.0 eV/atom (Stable)"
         ],
         "marker": {
          "color": "darkgreen",
          "line": {
           "color": "black",
           "width": 2
          },
          "size": 16
         },
         "mode": "markers",
         "name": "Stable",
         "opacity": 0.99,
         "showlegend": true,
         "type": "scatter",
         "x": [
          0.3333333333333333,
          0.2,
          0.07692307692307693,
          0,
          1
         ],
         "y": [
          -0.5613357794444447,
          -0.5964320543333329,
          -0.25008072923076863,
          0,
          0
         ]
        },
        {
         "hoverinfo": "text",
         "hoverlabel": {
          "font": {
           "size": 14
          }
         },
         "hovertext": [
          "B (mp-22046-GGA) <br> 0.098 eV/atom (+0.098 eV/atom)",
          "B (mp-570316-GGA) <br> 0.155 eV/atom (+0.155 eV/atom)",
          "B (mp-1228790-GGA) <br> 0.191 eV/atom (+0.191 eV/atom)",
          "B (mp-161-GGA) <br> 0.027 eV/atom (+0.027 eV/atom)",
          "B (mp-1193675-GGA) <br> 0.027 eV/atom (+0.027 eV/atom)",
          "Dy (mp-1184067-GGA) <br> 0.004 eV/atom (+0.004 eV/atom)",
          "Dy (mp-88-GGA) <br> 0.017 eV/atom (+0.017 eV/atom)",
          "Dy (mp-10750-GGA) <br> 0.021 eV/atom (+0.021 eV/atom)",
          "Dy (mp-10751-GGA) <br> 0.147 eV/atom (+0.147 eV/atom)",
          "DyB<sub>6</sub> (mp-568319-GGA) <br> -0.4 eV/atom (+0.036 eV/atom)"
         ],
         "marker": {
          "color": [
           0.098,
           0.155,
           0.191,
           0.027,
           0.027,
           0.004,
           0.017,
           0.021,
           0.147,
           0.036
          ],
          "colorscale": [
           [
            0,
            "#fff5e3"
           ],
           [
            0.5,
            "#f24324"
           ],
           [
            1,
            "#c40000"
           ]
          ],
          "line": {
           "color": "black",
           "width": 1
          },
          "opacity": 0.8,
          "size": 7,
          "symbol": "diamond"
         },
         "mode": "markers",
         "name": "Above Hull",
         "showlegend": true,
         "type": "scatter",
         "x": [
          0,
          0,
          0,
          0,
          0,
          1,
          1,
          1,
          1,
          0.14285714285714285
         ],
         "y": [
          0.09835179263333316,
          0.1552666991666669,
          0.19068457950000137,
          0.02697622816666743,
          0.02743610940476263,
          0.004164762499999419,
          0.017375770000000124,
          0.02132332999999953,
          0.1468159499999997,
          -0.40010284071428565
         ]
        }
       ],
       "layout": {
        "annotations": [
         {
          "align": "center",
          "font": {
           "color": "#000000",
           "size": 24
          },
          "opacity": 1,
          "showarrow": false,
          "text": "B",
          "x": -0.03,
          "xref": "x",
          "y": -0.03,
          "yref": "y"
         },
         {
          "align": "center",
          "font": {
           "color": "#000000",
           "size": 24
          },
          "opacity": 1,
          "showarrow": false,
          "text": "Dy",
          "x": 1.03,
          "xref": "x",
          "y": -0.03,
          "yref": "y"
         }
        ],
        "autosize": true,
        "coloraxis": {
         "colorbar": {
          "x": 1,
          "y": 0.05,
          "yanchor": "top"
         }
        },
        "height": 700,
        "hovermode": "closest",
        "legend": {
         "orientation": "h",
         "tracegroupgap": 7,
         "traceorder": "reversed",
         "x": 0,
         "xanchor": "left",
         "y": 1.05
        },
        "margin": {
         "b": 10,
         "l": 10,
         "pad": 0,
         "r": 10,
         "t": 0
        },
        "paper_bgcolor": "white",
        "plot_bgcolor": "white",
        "showlegend": true,
        "template": {
         "data": {
          "bar": [
           {
            "error_x": {
             "color": "#2a3f5f"
            },
            "error_y": {
             "color": "#2a3f5f"
            },
            "marker": {
             "line": {
              "color": "#E5ECF6",
              "width": 0.5
             },
             "pattern": {
              "fillmode": "overlay",
              "size": 10,
              "solidity": 0.2
             }
            },
            "type": "bar"
           }
          ],
          "barpolar": [
           {
            "marker": {
             "line": {
              "color": "#E5ECF6",
              "width": 0.5
             },
             "pattern": {
              "fillmode": "overlay",
              "size": 10,
              "solidity": 0.2
             }
            },
            "type": "barpolar"
           }
          ],
          "carpet": [
           {
            "aaxis": {
             "endlinecolor": "#2a3f5f",
             "gridcolor": "white",
             "linecolor": "white",
             "minorgridcolor": "white",
             "startlinecolor": "#2a3f5f"
            },
            "baxis": {
             "endlinecolor": "#2a3f5f",
             "gridcolor": "white",
             "linecolor": "white",
             "minorgridcolor": "white",
             "startlinecolor": "#2a3f5f"
            },
            "type": "carpet"
           }
          ],
          "choropleth": [
           {
            "colorbar": {
             "outlinewidth": 0,
             "ticks": ""
            },
            "type": "choropleth"
           }
          ],
          "contour": [
           {
            "colorbar": {
             "outlinewidth": 0,
             "ticks": ""
            },
            "colorscale": [
             [
              0,
              "#0d0887"
             ],
             [
              0.1111111111111111,
              "#46039f"
             ],
             [
              0.2222222222222222,
              "#7201a8"
             ],
             [
              0.3333333333333333,
              "#9c179e"
             ],
             [
              0.4444444444444444,
              "#bd3786"
             ],
             [
              0.5555555555555556,
              "#d8576b"
             ],
             [
              0.6666666666666666,
              "#ed7953"
             ],
             [
              0.7777777777777778,
              "#fb9f3a"
             ],
             [
              0.8888888888888888,
              "#fdca26"
             ],
             [
              1,
              "#f0f921"
             ]
            ],
            "type": "contour"
           }
          ],
          "contourcarpet": [
           {
            "colorbar": {
             "outlinewidth": 0,
             "ticks": ""
            },
            "type": "contourcarpet"
           }
          ],
          "heatmap": [
           {
            "colorbar": {
             "outlinewidth": 0,
             "ticks": ""
            },
            "colorscale": [
             [
              0,
              "#0d0887"
             ],
             [
              0.1111111111111111,
              "#46039f"
             ],
             [
              0.2222222222222222,
              "#7201a8"
             ],
             [
              0.3333333333333333,
              "#9c179e"
             ],
             [
              0.4444444444444444,
              "#bd3786"
             ],
             [
              0.5555555555555556,
              "#d8576b"
             ],
             [
              0.6666666666666666,
              "#ed7953"
             ],
             [
              0.7777777777777778,
              "#fb9f3a"
             ],
             [
              0.8888888888888888,
              "#fdca26"
             ],
             [
              1,
              "#f0f921"
             ]
            ],
            "type": "heatmap"
           }
          ],
          "heatmapgl": [
           {
            "colorbar": {
             "outlinewidth": 0,
             "ticks": ""
            },
            "colorscale": [
             [
              0,
              "#0d0887"
             ],
             [
              0.1111111111111111,
              "#46039f"
             ],
             [
              0.2222222222222222,
              "#7201a8"
             ],
             [
              0.3333333333333333,
              "#9c179e"
             ],
             [
              0.4444444444444444,
              "#bd3786"
             ],
             [
              0.5555555555555556,
              "#d8576b"
             ],
             [
              0.6666666666666666,
              "#ed7953"
             ],
             [
              0.7777777777777778,
              "#fb9f3a"
             ],
             [
              0.8888888888888888,
              "#fdca26"
             ],
             [
              1,
              "#f0f921"
             ]
            ],
            "type": "heatmapgl"
           }
          ],
          "histogram": [
           {
            "marker": {
             "pattern": {
              "fillmode": "overlay",
              "size": 10,
              "solidity": 0.2
             }
            },
            "type": "histogram"
           }
          ],
          "histogram2d": [
           {
            "colorbar": {
             "outlinewidth": 0,
             "ticks": ""
            },
            "colorscale": [
             [
              0,
              "#0d0887"
             ],
             [
              0.1111111111111111,
              "#46039f"
             ],
             [
              0.2222222222222222,
              "#7201a8"
             ],
             [
              0.3333333333333333,
              "#9c179e"
             ],
             [
              0.4444444444444444,
              "#bd3786"
             ],
             [
              0.5555555555555556,
              "#d8576b"
             ],
             [
              0.6666666666666666,
              "#ed7953"
             ],
             [
              0.7777777777777778,
              "#fb9f3a"
             ],
             [
              0.8888888888888888,
              "#fdca26"
             ],
             [
              1,
              "#f0f921"
             ]
            ],
            "type": "histogram2d"
           }
          ],
          "histogram2dcontour": [
           {
            "colorbar": {
             "outlinewidth": 0,
             "ticks": ""
            },
            "colorscale": [
             [
              0,
              "#0d0887"
             ],
             [
              0.1111111111111111,
              "#46039f"
             ],
             [
              0.2222222222222222,
              "#7201a8"
             ],
             [
              0.3333333333333333,
              "#9c179e"
             ],
             [
              0.4444444444444444,
              "#bd3786"
             ],
             [
              0.5555555555555556,
              "#d8576b"
             ],
             [
              0.6666666666666666,
              "#ed7953"
             ],
             [
              0.7777777777777778,
              "#fb9f3a"
             ],
             [
              0.8888888888888888,
              "#fdca26"
             ],
             [
              1,
              "#f0f921"
             ]
            ],
            "type": "histogram2dcontour"
           }
          ],
          "mesh3d": [
           {
            "colorbar": {
             "outlinewidth": 0,
             "ticks": ""
            },
            "type": "mesh3d"
           }
          ],
          "parcoords": [
           {
            "line": {
             "colorbar": {
              "outlinewidth": 0,
              "ticks": ""
             }
            },
            "type": "parcoords"
           }
          ],
          "pie": [
           {
            "automargin": true,
            "type": "pie"
           }
          ],
          "scatter": [
           {
            "fillpattern": {
             "fillmode": "overlay",
             "size": 10,
             "solidity": 0.2
            },
            "type": "scatter"
           }
          ],
          "scatter3d": [
           {
            "line": {
             "colorbar": {
              "outlinewidth": 0,
              "ticks": ""
             }
            },
            "marker": {
             "colorbar": {
              "outlinewidth": 0,
              "ticks": ""
             }
            },
            "type": "scatter3d"
           }
          ],
          "scattercarpet": [
           {
            "marker": {
             "colorbar": {
              "outlinewidth": 0,
              "ticks": ""
             }
            },
            "type": "scattercarpet"
           }
          ],
          "scattergeo": [
           {
            "marker": {
             "colorbar": {
              "outlinewidth": 0,
              "ticks": ""
             }
            },
            "type": "scattergeo"
           }
          ],
          "scattergl": [
           {
            "marker": {
             "colorbar": {
              "outlinewidth": 0,
              "ticks": ""
             }
            },
            "type": "scattergl"
           }
          ],
          "scattermapbox": [
           {
            "marker": {
             "colorbar": {
              "outlinewidth": 0,
              "ticks": ""
             }
            },
            "type": "scattermapbox"
           }
          ],
          "scatterpolar": [
           {
            "marker": {
             "colorbar": {
              "outlinewidth": 0,
              "ticks": ""
             }
            },
            "type": "scatterpolar"
           }
          ],
          "scatterpolargl": [
           {
            "marker": {
             "colorbar": {
              "outlinewidth": 0,
              "ticks": ""
             }
            },
            "type": "scatterpolargl"
           }
          ],
          "scatterternary": [
           {
            "marker": {
             "colorbar": {
              "outlinewidth": 0,
              "ticks": ""
             }
            },
            "type": "scatterternary"
           }
          ],
          "surface": [
           {
            "colorbar": {
             "outlinewidth": 0,
             "ticks": ""
            },
            "colorscale": [
             [
              0,
              "#0d0887"
             ],
             [
              0.1111111111111111,
              "#46039f"
             ],
             [
              0.2222222222222222,
              "#7201a8"
             ],
             [
              0.3333333333333333,
              "#9c179e"
             ],
             [
              0.4444444444444444,
              "#bd3786"
             ],
             [
              0.5555555555555556,
              "#d8576b"
             ],
             [
              0.6666666666666666,
              "#ed7953"
             ],
             [
              0.7777777777777778,
              "#fb9f3a"
             ],
             [
              0.8888888888888888,
              "#fdca26"
             ],
             [
              1,
              "#f0f921"
             ]
            ],
            "type": "surface"
           }
          ],
          "table": [
           {
            "cells": {
             "fill": {
              "color": "#EBF0F8"
             },
             "line": {
              "color": "white"
             }
            },
            "header": {
             "fill": {
              "color": "#C8D4E3"
             },
             "line": {
              "color": "white"
             }
            },
            "type": "table"
           }
          ]
         },
         "layout": {
          "annotationdefaults": {
           "arrowcolor": "#2a3f5f",
           "arrowhead": 0,
           "arrowwidth": 1
          },
          "autotypenumbers": "strict",
          "coloraxis": {
           "colorbar": {
            "outlinewidth": 0,
            "ticks": ""
           }
          },
          "colorscale": {
           "diverging": [
            [
             0,
             "#8e0152"
            ],
            [
             0.1,
             "#c51b7d"
            ],
            [
             0.2,
             "#de77ae"
            ],
            [
             0.3,
             "#f1b6da"
            ],
            [
             0.4,
             "#fde0ef"
            ],
            [
             0.5,
             "#f7f7f7"
            ],
            [
             0.6,
             "#e6f5d0"
            ],
            [
             0.7,
             "#b8e186"
            ],
            [
             0.8,
             "#7fbc41"
            ],
            [
             0.9,
             "#4d9221"
            ],
            [
             1,
             "#276419"
            ]
           ],
           "sequential": [
            [
             0,
             "#0d0887"
            ],
            [
             0.1111111111111111,
             "#46039f"
            ],
            [
             0.2222222222222222,
             "#7201a8"
            ],
            [
             0.3333333333333333,
             "#9c179e"
            ],
            [
             0.4444444444444444,
             "#bd3786"
            ],
            [
             0.5555555555555556,
             "#d8576b"
            ],
            [
             0.6666666666666666,
             "#ed7953"
            ],
            [
             0.7777777777777778,
             "#fb9f3a"
            ],
            [
             0.8888888888888888,
             "#fdca26"
            ],
            [
             1,
             "#f0f921"
            ]
           ],
           "sequentialminus": [
            [
             0,
             "#0d0887"
            ],
            [
             0.1111111111111111,
             "#46039f"
            ],
            [
             0.2222222222222222,
             "#7201a8"
            ],
            [
             0.3333333333333333,
             "#9c179e"
            ],
            [
             0.4444444444444444,
             "#bd3786"
            ],
            [
             0.5555555555555556,
             "#d8576b"
            ],
            [
             0.6666666666666666,
             "#ed7953"
            ],
            [
             0.7777777777777778,
             "#fb9f3a"
            ],
            [
             0.8888888888888888,
             "#fdca26"
            ],
            [
             1,
             "#f0f921"
            ]
           ]
          },
          "colorway": [
           "#636efa",
           "#EF553B",
           "#00cc96",
           "#ab63fa",
           "#FFA15A",
           "#19d3f3",
           "#FF6692",
           "#B6E880",
           "#FF97FF",
           "#FECB52"
          ],
          "font": {
           "color": "#2a3f5f"
          },
          "geo": {
           "bgcolor": "white",
           "lakecolor": "white",
           "landcolor": "#E5ECF6",
           "showlakes": true,
           "showland": true,
           "subunitcolor": "white"
          },
          "hoverlabel": {
           "align": "left"
          },
          "hovermode": "closest",
          "mapbox": {
           "style": "light"
          },
          "paper_bgcolor": "white",
          "plot_bgcolor": "#E5ECF6",
          "polar": {
           "angularaxis": {
            "gridcolor": "white",
            "linecolor": "white",
            "ticks": ""
           },
           "bgcolor": "#E5ECF6",
           "radialaxis": {
            "gridcolor": "white",
            "linecolor": "white",
            "ticks": ""
           }
          },
          "scene": {
           "xaxis": {
            "backgroundcolor": "#E5ECF6",
            "gridcolor": "white",
            "gridwidth": 2,
            "linecolor": "white",
            "showbackground": true,
            "ticks": "",
            "zerolinecolor": "white"
           },
           "yaxis": {
            "backgroundcolor": "#E5ECF6",
            "gridcolor": "white",
            "gridwidth": 2,
            "linecolor": "white",
            "showbackground": true,
            "ticks": "",
            "zerolinecolor": "white"
           },
           "zaxis": {
            "backgroundcolor": "#E5ECF6",
            "gridcolor": "white",
            "gridwidth": 2,
            "linecolor": "white",
            "showbackground": true,
            "ticks": "",
            "zerolinecolor": "white"
           }
          },
          "shapedefaults": {
           "line": {
            "color": "#2a3f5f"
           }
          },
          "ternary": {
           "aaxis": {
            "gridcolor": "white",
            "linecolor": "white",
            "ticks": ""
           },
           "baxis": {
            "gridcolor": "white",
            "linecolor": "white",
            "ticks": ""
           },
           "bgcolor": "#E5ECF6",
           "caxis": {
            "gridcolor": "white",
            "linecolor": "white",
            "ticks": ""
           }
          },
          "title": {
           "x": 0.05
          },
          "xaxis": {
           "automargin": true,
           "gridcolor": "white",
           "linecolor": "white",
           "ticks": "",
           "title": {
            "standoff": 15
           },
           "zerolinecolor": "white",
           "zerolinewidth": 2
          },
          "yaxis": {
           "automargin": true,
           "gridcolor": "white",
           "linecolor": "white",
           "ticks": "",
           "title": {
            "standoff": 15
           },
           "zerolinecolor": "white",
           "zerolinewidth": 2
          }
         }
        },
        "width": 960,
        "xaxis": {
         "anchor": "y",
         "gridcolor": "rgba(0,0,0,0.1)",
         "mirror": "ticks",
         "nticks": 8,
         "showgrid": true,
         "showline": true,
         "side": "bottom",
         "tickfont": {
          "size": 16
         },
         "ticks": "inside",
         "title": {
          "font": {
           "color": "#000000",
           "size": 20
          },
          "text": "Composition (fraction)"
         },
         "type": "linear",
         "zeroline": false
        },
        "yaxis": {
         "anchor": "x",
         "gridcolor": "rgba(0,0,0,0.1)",
         "mirror": "ticks",
         "showgrid": true,
         "showline": true,
         "side": "left",
         "tickfont": {
          "size": 16
         },
         "ticks": "inside",
         "title": {
          "font": {
           "color": "#000000",
           "size": 20
          },
          "text": "Formation energy (eV/atom)"
         },
         "type": "linear"
        }
       }
      }
     },
     "metadata": {},
     "output_type": "display_data"
    },
    {
     "name": "stdout",
     "output_type": "stream",
     "text": [
      "Ag: H_fusion = 11300.0 J/mol, T_fusion = 1234.93 K, T_vaporization = 2435.15 K\n",
      "V: H_fusion = 21500.0 J/mol, T_fusion = 2183.0 K, T_vaporization = 3680.15 K\n",
      "\n",
      "Reading MPDS json from entry at https://mpds.io/entry/C900067...\n",
      "\n",
      "Best fitted parameters for Ag-V: [52618.11, -0.14, 1890.29, -0.57]\n",
      "MAE = 21.78\n",
      "L0 = 52618 - 0.14*t\n",
      "L1 = 1890 - 0.57*t\n"
     ]
    },
    {
     "data": {
      "image/png": "[encoded data removed]",
      "text/plain": [
       "<Figure size 800x500 with 3 Axes>"
      ]
     },
     "metadata": {},
     "output_type": "display_data"
    },
    {
     "data": {
      "application/vnd.plotly.v1+json": {
       "config": {
        "plotlyServerURL": "https://plot.ly"
       },
       "data": [
        {
         "line": {
          "color": "#B82E2E",
          "dash": "dash",
          "width": 4
         },
         "mode": "lines",
         "showlegend": false,
         "type": "scatter",
         "x": [
          0.0381243,
          0.0793239,
          0.145998,
          0.146087,
          0.273136,
          0.455633,
          0.691462,
          0.9785969999999999,
          1.31501,
          1.69868,
          2.12759,
          2.59972,
          3.11305,
          3.6655699999999998,
          4.25527,
          4.88013,
          5.53818,
          6.2274,
          6.94583,
          7.68929,
          9.41835,
          11.3074,
          13.3412,
          15.5078,
          17.7949,
          20.1904,
          22.6822,
          25.2582,
          27.9062,
          30.6141,
          33.3698,
          36.1611,
          38.976,
          41.8022,
          44.6278,
          47.4404,
          50.2281,
          52.99470000000001,
          55.7549,
          58.502900000000004,
          61.2328,
          63.938300000000005,
          66.6135,
          69.2522,
          71.8483,
          74.3957,
          76.8884,
          79.3203,
          81.6852,
          83.9771,
          86.1899,
          88.3175,
          90.3538,
          92.2788,
          92.7337,
          93.2178,
          93.7046,
          94.1924,
          94.6798,
          95.1654,
          95.6475,
          96.1248,
          96.5958,
          97.0589,
          97.5127,
          97.9557,
          98.3864,
          98.8033,
          99.205,
          99.5899,
          99.9238
         ],
         "y": [
          964.8280000000001,
          963.7320000000001,
          1022.8100000000001,
          1022.87,
          1084.6,
          1146.13,
          1207.1599999999999,
          1267.46,
          1326.8199999999997,
          1385,
          1441.79,
          1496.94,
          1550.23,
          1601.44,
          1650.3399999999997,
          1696.71,
          1740.2999999999997,
          1780.9099999999999,
          1818.2999999999997,
          1852.1399999999999,
          1965.9299999999998,
          2073.68,
          2175.08,
          2270.02,
          2358.41,
          2440.15,
          2515.13,
          2583.24,
          2644.4,
          2698.49,
          2745.42,
          2785.08,
          2817.36,
          2842.18,
          2859.41,
          2868.98,
          2870.76,
          2865.41,
          2853.84,
          2835.93,
          2811.57,
          2780.62,
          2742.97,
          2698.5,
          2647.09,
          2588.61,
          2522.95,
          2449.98,
          2369.59,
          2281.66,
          2186.06,
          2082.67,
          1971.38,
          1852.9299999999998,
          1856.42,
          1860.1999999999998,
          1864.0499999999997,
          1867.9499999999998,
          1871.8599999999997,
          1875.77,
          1879.6399999999999,
          1883.46,
          1887.1799999999998,
          1890.7799999999997,
          1894.25,
          1897.54,
          1900.6399999999999,
          1903.5099999999998,
          1906.1399999999999,
          1908.4899999999998,
          1910.3399999999997
         ]
        },
        {
         "hovertemplate": "x=%{x}<br>y=%{y}<extra></extra>",
         "legendgroup": "",
         "line": {
          "color": "Silver",
          "dash": "solid",
          "width": 4
         },
         "marker": {
          "symbol": "circle"
         },
         "mode": "lines",
         "name": "",
         "orientation": "v",
         "showlegend": false,
         "type": "scatter",
         "x": [
          7.000000000000001,
          93,
          100
         ],
         "xaxis": "x",
         "y": [
          1806.3090342908672,
          1806.3090342908672,
          1806.3090342908672
         ],
         "yaxis": "y"
        },
        {
         "hovertemplate": "label=L<br>x=%{x}<br>t=%{y}<extra></extra>",
         "legendgroup": "L",
         "line": {
          "color": "cornflowerblue",
          "dash": "solid",
          "width": 4
         },
         "marker": {
          "symbol": "circle"
         },
         "mode": "lines",
         "name": "L",
         "orientation": "v",
         "showlegend": false,
         "type": "scatter",
         "x": [
          0,
          1,
          2,
          3,
          4,
          5,
          6,
          7.000000000000001,
          8,
          9,
          10,
          11,
          12,
          13,
          14.000000000000002,
          15,
          16,
          17,
          18,
          19,
          20,
          21,
          22,
          23,
          24,
          25,
          26,
          27,
          28.000000000000004,
          28.999999999999996,
          30,
          31,
          32,
          33,
          34,
          35,
          36,
          37,
          38,
          39,
          40,
          41,
          42,
          43,
          44,
          45,
          46,
          47,
          48,
          49,
          50,
          51,
          52,
          53,
          54,
          55.00000000000001,
          56.00000000000001,
          57.00000000000001,
          57.99999999999999,
          59,
          60,
          61,
          62,
          63,
          64,
          65,
          66,
          67,
          68,
          69,
          70,
          71,
          72,
          73,
          74,
          75,
          76,
          77,
          78,
          79,
          80,
          81,
          82,
          83,
          84,
          85,
          86,
          87,
          88,
          89,
          90,
          91,
          92,
          93,
          94,
          95,
          96,
          97,
          98,
          99,
          100
         ],
         "xaxis": "x",
         "y": [
          964.8279999999999,
          1047.6383043460892,
          1356.492944247772,
          1502.2039117801123,
          1605.2169812506431,
          1685.2135710188313,
          1750.2519643620267,
          1804.5603039934144,
          1877.7571756136804,
          1945.1738006655414,
          2007.0100468099072,
          2064.1312213815136,
          2117.190987721159,
          2166.697033031555,
          2213.0526856315187,
          2256.5844300930858,
          2297.5607472248753,
          2336.2054001532892,
          2372.707042710318,
          2407.2263210134265,
          2439.9012228962897,
          2470.8511754220544,
          2500.180230323868,
          2527.979573355337,
          2554.3295246294088,
          2579.3011503188645,
          2602.957573831032,
          2625.3550518705915,
          2646.543864601167,
          2666.569057360884,
          2685.4710627590507,
          2703.286225561306,
          2720.047247941063,
          2735.783569009962,
          2750.5216897153127,
          2764.2854520212,
          2777.096279570055,
          2788.973385694246,
          2799.9339535639597,
          2809.9932924151635,
          2819.1649731076145,
          2827.46094570563,
          2834.8916413139127,
          2841.46606003225,
          2847.1918465684857,
          2852.075354793014,
          2856.121702302703,
          2859.3348158543636,
          2861.717468383588,
          2863.271308183954,
          2863.893642867256,
          2862.959971551109,
          2861.1931638497454,
          2858.5894316677427,
          2855.1438890300756,
          2850.850532389725,
          2845.7022136287624,
          2839.690605282065,
          2832.8061574770313,
          2825.0380459004714,
          2816.3741099564827,
          2806.800780084366,
          2796.3029930004445,
          2784.8640933638085,
          2772.4657200650126,
          2759.087674958709,
          2744.707771438997,
          2729.301659682381,
          2712.8426247340876,
          2695.3013527768962,
          2676.6456598736595,
          2656.840176180815,
          2635.845976958028,
          2613.6201495827977,
          2590.1152830307124,
          2565.2788627199143,
          2539.0525489097204,
          2511.3713106090386,
          2482.1623785433944,
          2451.3439693054634,
          2418.8237170412167,
          2384.4967269591652,
          2348.2431335595156,
          2309.9250010761566,
          2269.382336617717,
          2226.427885517684,
          2180.840222491915,
          2132.3544049089414,
          2080.64904997556,
          2025.3280123016425,
          1965.893628752553,
          1901.7062579114831,
          1831.9204505270786,
          1806.3090342908672,
          1813.8894164931949,
          1825.9952504869348,
          1839.143710843819,
          1853.3937024768352,
          1868.8596367352752,
          1885.907378648882,
          1910.3399999999992
         ],
         "yaxis": "y"
        },
        {
         "line": {
          "color": "#B82E2E",
          "dash": "dash"
         },
         "mode": "lines",
         "name": "Digitized Liquidus",
         "showlegend": true,
         "type": "scatter",
         "x": [
          null
         ],
         "y": [
          null
         ]
        },
        {
         "marker": {
          "color": "cornflowerblue"
         },
         "mode": "lines",
         "name": "Fitted Liquidus",
         "showlegend": true,
         "type": "scatter",
         "x": [
          null
         ],
         "y": [
          null
         ]
        }
       ],
       "layout": {
        "annotations": [
         {
          "font": {
           "color": "black",
           "size": 18
          },
          "showarrow": false,
          "text": "L",
          "x": 50,
          "y": 3060
         }
        ],
        "font": {
         "size": 22
        },
        "height": 700,
        "legend": {
         "font": {
          "size": 18
         },
         "x": 0.01,
         "xanchor": "left",
         "y": 0.99,
         "yanchor": "top"
        },
        "plot_bgcolor": "white",
        "showlegend": true,
        "template": {
         "data": {
          "bar": [
           {
            "error_x": {
             "color": "#2a3f5f"
            },
            "error_y": {
             "color": "#2a3f5f"
            },
            "marker": {
             "line": {
              "color": "#E5ECF6",
              "width": 0.5
             },
             "pattern": {
              "fillmode": "overlay",
              "size": 10,
              "solidity": 0.2
             }
            },
            "type": "bar"
           }
          ],
          "barpolar": [
           {
            "marker": {
             "line": {
              "color": "#E5ECF6",
              "width": 0.5
             },
             "pattern": {
              "fillmode": "overlay",
              "size": 10,
              "solidity": 0.2
             }
            },
            "type": "barpolar"
           }
          ],
          "carpet": [
           {
            "aaxis": {
             "endlinecolor": "#2a3f5f",
             "gridcolor": "white",
             "linecolor": "white",
             "minorgridcolor": "white",
             "startlinecolor": "#2a3f5f"
            },
            "baxis": {
             "endlinecolor": "#2a3f5f",
             "gridcolor": "white",
             "linecolor": "white",
             "minorgridcolor": "white",
             "startlinecolor": "#2a3f5f"
            },
            "type": "carpet"
           }
          ],
          "choropleth": [
           {
            "colorbar": {
             "outlinewidth": 0,
             "ticks": ""
            },
            "type": "choropleth"
           }
          ],
          "contour": [
           {
            "colorbar": {
             "outlinewidth": 0,
             "ticks": ""
            },
            "colorscale": [
             [
              0,
              "#0d0887"
             ],
             [
              0.1111111111111111,
              "#46039f"
             ],
             [
              0.2222222222222222,
              "#7201a8"
             ],
             [
              0.3333333333333333,
              "#9c179e"
             ],
             [
              0.4444444444444444,
              "#bd3786"
             ],
             [
              0.5555555555555556,
              "#d8576b"
             ],
             [
              0.6666666666666666,
              "#ed7953"
             ],
             [
              0.7777777777777778,
              "#fb9f3a"
             ],
             [
              0.8888888888888888,
              "#fdca26"
             ],
             [
              1,
              "#f0f921"
             ]
            ],
            "type": "contour"
           }
          ],
          "contourcarpet": [
           {
            "colorbar": {
             "outlinewidth": 0,
             "ticks": ""
            },
            "type": "contourcarpet"
           }
          ],
          "heatmap": [
           {
            "colorbar": {
             "outlinewidth": 0,
             "ticks": ""
            },
            "colorscale": [
             [
              0,
              "#0d0887"
             ],
             [
              0.1111111111111111,
              "#46039f"
             ],
             [
              0.2222222222222222,
              "#7201a8"
             ],
             [
              0.3333333333333333,
              "#9c179e"
             ],
             [
              0.4444444444444444,
              "#bd3786"
             ],
             [
              0.5555555555555556,
              "#d8576b"
             ],
             [
              0.6666666666666666,
              "#ed7953"
             ],
             [
              0.7777777777777778,
              "#fb9f3a"
             ],
             [
              0.8888888888888888,
              "#fdca26"
             ],
             [
              1,
              "#f0f921"
             ]
            ],
            "type": "heatmap"
           }
          ],
          "heatmapgl": [
           {
            "colorbar": {
             "outlinewidth": 0,
             "ticks": ""
            },
            "colorscale": [
             [
              0,
              "#0d0887"
             ],
             [
              0.1111111111111111,
              "#46039f"
             ],
             [
              0.2222222222222222,
              "#7201a8"
             ],
             [
              0.3333333333333333,
              "#9c179e"
             ],
             [
              0.4444444444444444,
              "#bd3786"
             ],
             [
              0.5555555555555556,
              "#d8576b"
             ],
             [
              0.6666666666666666,
              "#ed7953"
             ],
             [
              0.7777777777777778,
              "#fb9f3a"
             ],
             [
              0.8888888888888888,
              "#fdca26"
             ],
             [
              1,
              "#f0f921"
             ]
            ],
            "type": "heatmapgl"
           }
          ],
          "histogram": [
           {
            "marker": {
             "pattern": {
              "fillmode": "overlay",
              "size": 10,
              "solidity": 0.2
             }
            },
            "type": "histogram"
           }
          ],
          "histogram2d": [
           {
            "colorbar": {
             "outlinewidth": 0,
             "ticks": ""
            },
            "colorscale": [
             [
              0,
              "#0d0887"
             ],
             [
              0.1111111111111111,
              "#46039f"
             ],
             [
              0.2222222222222222,
              "#7201a8"
             ],
             [
              0.3333333333333333,
              "#9c179e"
             ],
             [
              0.4444444444444444,
              "#bd3786"
             ],
             [
              0.5555555555555556,
              "#d8576b"
             ],
             [
              0.6666666666666666,
              "#ed7953"
             ],
             [
              0.7777777777777778,
              "#fb9f3a"
             ],
             [
              0.8888888888888888,
              "#fdca26"
             ],
             [
              1,
              "#f0f921"
             ]
            ],
            "type": "histogram2d"
           }
          ],
          "histogram2dcontour": [
           {
            "colorbar": {
             "outlinewidth": 0,
             "ticks": ""
            },
            "colorscale": [
             [
              0,
              "#0d0887"
             ],
             [
              0.1111111111111111,
              "#46039f"
             ],
             [
              0.2222222222222222,
              "#7201a8"
             ],
             [
              0.3333333333333333,
              "#9c179e"
             ],
             [
              0.4444444444444444,
              "#bd3786"
             ],
             [
              0.5555555555555556,
              "#d8576b"
             ],
             [
              0.6666666666666666,
              "#ed7953"
             ],
             [
              0.7777777777777778,
              "#fb9f3a"
             ],
             [
              0.8888888888888888,
              "#fdca26"
             ],
             [
              1,
              "#f0f921"
             ]
            ],
            "type": "histogram2dcontour"
           }
          ],
          "mesh3d": [
           {
            "colorbar": {
             "outlinewidth": 0,
             "ticks": ""
            },
            "type": "mesh3d"
           }
          ],
          "parcoords": [
           {
            "line": {
             "colorbar": {
              "outlinewidth": 0,
              "ticks": ""
             }
            },
            "type": "parcoords"
           }
          ],
          "pie": [
           {
            "automargin": true,
            "type": "pie"
           }
          ],
          "scatter": [
           {
            "fillpattern": {
             "fillmode": "overlay",
             "size": 10,
             "solidity": 0.2
            },
            "type": "scatter"
           }
          ],
          "scatter3d": [
           {
            "line": {
             "colorbar": {
              "outlinewidth": 0,
              "ticks": ""
             }
            },
            "marker": {
             "colorbar": {
              "outlinewidth": 0,
              "ticks": ""
             }
            },
            "type": "scatter3d"
           }
          ],
          "scattercarpet": [
           {
            "marker": {
             "colorbar": {
              "outlinewidth": 0,
              "ticks": ""
             }
            },
            "type": "scattercarpet"
           }
          ],
          "scattergeo": [
           {
            "marker": {
             "colorbar": {
              "outlinewidth": 0,
              "ticks": ""
             }
            },
            "type": "scattergeo"
           }
          ],
          "scattergl": [
           {
            "marker": {
             "colorbar": {
              "outlinewidth": 0,
              "ticks": ""
             }
            },
            "type": "scattergl"
           }
          ],
          "scattermapbox": [
           {
            "marker": {
             "colorbar": {
              "outlinewidth": 0,
              "ticks": ""
             }
            },
            "type": "scattermapbox"
           }
          ],
          "scatterpolar": [
           {
            "marker": {
             "colorbar": {
              "outlinewidth": 0,
              "ticks": ""
             }
            },
            "type": "scatterpolar"
           }
          ],
          "scatterpolargl": [
           {
            "marker": {
             "colorbar": {
              "outlinewidth": 0,
              "ticks": ""
             }
            },
            "type": "scatterpolargl"
           }
          ],
          "scatterternary": [
           {
            "marker": {
             "colorbar": {
              "outlinewidth": 0,
              "ticks": ""
             }
            },
            "type": "scatterternary"
           }
          ],
          "surface": [
           {
            "colorbar": {
             "outlinewidth": 0,
             "ticks": ""
            },
            "colorscale": [
             [
              0,
              "#0d0887"
             ],
             [
              0.1111111111111111,
              "#46039f"
             ],
             [
              0.2222222222222222,
              "#7201a8"
             ],
             [
              0.3333333333333333,
              "#9c179e"
             ],
             [
              0.4444444444444444,
              "#bd3786"
             ],
             [
              0.5555555555555556,
              "#d8576b"
             ],
             [
              0.6666666666666666,
              "#ed7953"
             ],
             [
              0.7777777777777778,
              "#fb9f3a"
             ],
             [
              0.8888888888888888,
              "#fdca26"
             ],
             [
              1,
              "#f0f921"
             ]
            ],
            "type": "surface"
           }
          ],
          "table": [
           {
            "cells": {
             "fill": {
              "color": "#EBF0F8"
             },
             "line": {
              "color": "white"
             }
            },
            "header": {
             "fill": {
              "color": "#C8D4E3"
             },
             "line": {
              "color": "white"
             }
            },
            "type": "table"
           }
          ]
         },
         "layout": {
          "annotationdefaults": {
           "arrowcolor": "#2a3f5f",
           "arrowhead": 0,
           "arrowwidth": 1
          },
          "autotypenumbers": "strict",
          "coloraxis": {
           "colorbar": {
            "outlinewidth": 0,
            "ticks": ""
           }
          },
          "colorscale": {
           "diverging": [
            [
             0,
             "#8e0152"
            ],
            [
             0.1,
             "#c51b7d"
            ],
            [
             0.2,
             "#de77ae"
            ],
            [
             0.3,
             "#f1b6da"
            ],
            [
             0.4,
             "#fde0ef"
            ],
            [
             0.5,
             "#f7f7f7"
            ],
            [
             0.6,
             "#e6f5d0"
            ],
            [
             0.7,
             "#b8e186"
            ],
            [
             0.8,
             "#7fbc41"
            ],
            [
             0.9,
             "#4d9221"
            ],
            [
             1,
             "#276419"
            ]
           ],
           "sequential": [
            [
             0,
             "#0d0887"
            ],
            [
             0.1111111111111111,
             "#46039f"
            ],
            [
             0.2222222222222222,
             "#7201a8"
            ],
            [
             0.3333333333333333,
             "#9c179e"
            ],
            [
             0.4444444444444444,
             "#bd3786"
            ],
            [
             0.5555555555555556,
             "#d8576b"
            ],
            [
             0.6666666666666666,
             "#ed7953"
            ],
            [
             0.7777777777777778,
             "#fb9f3a"
            ],
            [
             0.8888888888888888,
             "#fdca26"
            ],
            [
             1,
             "#f0f921"
            ]
           ],
           "sequentialminus": [
            [
             0,
             "#0d0887"
            ],
            [
             0.1111111111111111,
             "#46039f"
            ],
            [
             0.2222222222222222,
             "#7201a8"
            ],
            [
             0.3333333333333333,
             "#9c179e"
            ],
            [
             0.4444444444444444,
             "#bd3786"
            ],
            [
             0.5555555555555556,
             "#d8576b"
            ],
            [
             0.6666666666666666,
             "#ed7953"
            ],
            [
             0.7777777777777778,
             "#fb9f3a"
            ],
            [
             0.8888888888888888,
             "#fdca26"
            ],
            [
             1,
             "#f0f921"
            ]
           ]
          },
          "colorway": [
           "#636efa",
           "#EF553B",
           "#00cc96",
           "#ab63fa",
           "#FFA15A",
           "#19d3f3",
           "#FF6692",
           "#B6E880",
           "#FF97FF",
           "#FECB52"
          ],
          "font": {
           "color": "#2a3f5f"
          },
          "geo": {
           "bgcolor": "white",
           "lakecolor": "white",
           "landcolor": "#E5ECF6",
           "showlakes": true,
           "showland": true,
           "subunitcolor": "white"
          },
          "hoverlabel": {
           "align": "left"
          },
          "hovermode": "closest",
          "mapbox": {
           "style": "light"
          },
          "paper_bgcolor": "white",
          "plot_bgcolor": "#E5ECF6",
          "polar": {
           "angularaxis": {
            "gridcolor": "white",
            "linecolor": "white",
            "ticks": ""
           },
           "bgcolor": "#E5ECF6",
           "radialaxis": {
            "gridcolor": "white",
            "linecolor": "white",
            "ticks": ""
           }
          },
          "scene": {
           "xaxis": {
            "backgroundcolor": "#E5ECF6",
            "gridcolor": "white",
            "gridwidth": 2,
            "linecolor": "white",
            "showbackground": true,
            "ticks": "",
            "zerolinecolor": "white"
           },
           "yaxis": {
            "backgroundcolor": "#E5ECF6",
            "gridcolor": "white",
            "gridwidth": 2,
            "linecolor": "white",
            "showbackground": true,
            "ticks": "",
            "zerolinecolor": "white"
           },
           "zaxis": {
            "backgroundcolor": "#E5ECF6",
            "gridcolor": "white",
            "gridwidth": 2,
            "linecolor": "white",
            "showbackground": true,
            "ticks": "",
            "zerolinecolor": "white"
           }
          },
          "shapedefaults": {
           "line": {
            "color": "#2a3f5f"
           }
          },
          "ternary": {
           "aaxis": {
            "gridcolor": "white",
            "linecolor": "white",
            "ticks": ""
           },
           "baxis": {
            "gridcolor": "white",
            "linecolor": "white",
            "ticks": ""
           },
           "bgcolor": "#E5ECF6",
           "caxis": {
            "gridcolor": "white",
            "linecolor": "white",
            "ticks": ""
           }
          },
          "title": {
           "x": 0.05
          },
          "xaxis": {
           "automargin": true,
           "gridcolor": "white",
           "linecolor": "white",
           "ticks": "",
           "title": {
            "standoff": 15
           },
           "zerolinecolor": "white",
           "zerolinewidth": 2
          },
          "yaxis": {
           "automargin": true,
           "gridcolor": "white",
           "linecolor": "white",
           "ticks": "",
           "title": {
            "standoff": 15
           },
           "zerolinecolor": "white",
           "zerolinewidth": 2
          }
         }
        },
        "title": {
         "text": "Ag-V DFT-Referenced Binary Phase Diagram"
        },
        "width": 960,
        "xaxis": {
         "linecolor": "black",
         "linewidth": 2,
         "mirror": true,
         "range": [
          0,
          100
         ],
         "showline": true,
         "tickcolor": "black",
         "tickformat": ".0f",
         "ticks": "outside",
         "title": {
          "text": "V (at. %)"
         }
        },
        "yaxis": {
         "linecolor": "black",
         "linewidth": 2,
         "mirror": true,
         "range": [
          0,
          3300
         ],
         "showline": true,
         "tickcolor": "black",
         "ticks": "outside",
         "ticksuffix": " ",
         "title": {
          "text": "T (°C)"
         }
        }
       }
      }
     },
     "metadata": {},
     "output_type": "display_data"
    },
    {
     "name": "stdout",
     "output_type": "stream",
     "text": [
      "No arguments specified for 't_vals', setting 't_units' to 'K'\n"
     ]
    },
    {
     "data": {
      "application/vnd.plotly.v1+json": {
       "config": {
        "plotlyServerURL": "https://plot.ly"
       },
       "data": [
        {
         "mode": "lines",
         "name": "Liquid T=2180K",
         "type": "scatter",
         "x": [
          0,
          0.01,
          0.02,
          0.03,
          0.04,
          0.05,
          0.06,
          0.07,
          0.08,
          0.09,
          0.1,
          0.11,
          0.12,
          0.13,
          0.14,
          0.15,
          0.16,
          0.17,
          0.18,
          0.19,
          0.2,
          0.21,
          0.22,
          0.23,
          0.24,
          0.25,
          0.26,
          0.27,
          0.28,
          0.29,
          0.3,
          0.31,
          0.32,
          0.33,
          0.34,
          0.35000000000000003,
          0.36,
          0.37,
          0.38,
          0.39,
          0.4,
          0.41000000000000003,
          0.42,
          0.43,
          0.44,
          0.45,
          0.46,
          0.47000000000000003,
          0.48,
          0.49,
          0.5,
          0.51,
          0.52,
          0.53,
          0.54,
          0.55,
          0.56,
          0.5700000000000001,
          0.58,
          0.59,
          0.6,
          0.61,
          0.62,
          0.63,
          0.64,
          0.65,
          0.66,
          0.67,
          0.68,
          0.6900000000000001,
          0.7000000000000001,
          0.71,
          0.72,
          0.73,
          0.74,
          0.75,
          0.76,
          0.77,
          0.78,
          0.79,
          0.8,
          0.81,
          0.8200000000000001,
          0.8300000000000001,
          0.84,
          0.85,
          0.86,
          0.87,
          0.88,
          0.89,
          0.9,
          0.91,
          0.92,
          0.93,
          0.9400000000000001,
          0.9500000000000001,
          0.96,
          0.97,
          0.98,
          0.99,
          1
         ],
         "y": [
          -0.08912584104076549,
          -0.09332048490866215,
          -0.09500423077267169,
          -0.09579808085618352,
          -0.09604637836844901,
          -0.09591251386855508,
          -0.09549260256403311,
          -0.09485005303263519,
          -0.0940298440481894,
          -0.09306552733620481,
          -0.09198307400360567,
          -0.09080316549720498,
          -0.08954264413326028,
          -0.08821547658977266,
          -0.0868334191048378,
          -0.08540649159382804,
          -0.08394332472449564,
          -0.08245141983524149,
          -0.08093734743353714,
          -0.0794069013943132,
          -0.07786522055045018,
          -0.07631688584736206,
          -0.07476599889122348,
          -0.07321624612574336,
          -0.07167095176450876,
          -0.07013312182204119,
          -0.06860548102283896,
          -0.06709050395594174,
          -0.06559044153776142,
          -0.06410734361744698,
          -0.06264307838578795,
          -0.06119934911585966,
          -0.059777708660804556,
          -0.05837957205381528,
          -0.0570062274920716,
          -0.05565884593607006,
          -0.054338489515491355,
          -0.05304611890023882,
          -0.05178259976885919,
          -0.05054870848493424,
          -0.049345137074211114,
          -0.04817249758045041,
          -0.04703132586560922,
          -0.04592208490956624,
          -0.04484516765575649,
          -0.04380089944151615,
          -0.04278954004538996,
          -0.041811285377933854,
          -0.04086626883747802,
          -0.03995456234776942,
          -0.03907617709026558,
          -0.03823106393999829,
          -0.037419113610280275,
          -0.0366401565079986,
          -0.035893962297750825,
          -0.03518023916955136,
          -0.03449863280118878,
          -0.03384872500246287,
          -0.03323003202438207,
          -0.03264200251185583,
          -0.03208401507335005,
          -0.03155537543525217,
          -0.031055313142146143,
          -0.030582977756629392,
          -0.030137434503464657,
          -0.029717659292449773,
          -0.02932253304202594,
          -0.02895083521085704,
          -0.028601236426791018,
          -0.028272290080992697,
          -0.027962422728613993,
          -0.027669923104857,
          -0.027392929524990985,
          -0.027129415386570863,
          -0.026877172428792222,
          -0.026633791323587733,
          -0.02639663907026232,
          -0.026162832532662248,
          -0.02592920728461043,
          -0.02569228070086443,
          -0.025448207926059896,
          -0.025192728942366686,
          -0.0249211043927154,
          -0.024628037032570004,
          -0.02430757457534458,
          -0.023952988101912025,
          -0.023556617862216026,
          -0.02310967477684884,
          -0.022601980518782705,
          -0.022021620438266498,
          -0.021354469445643644,
          -0.020583526813001185,
          -0.019687952681870645,
          -0.018641617533672307,
          -0.017410811231241694,
          -0.015950396589095264,
          -0.01419680661782546,
          -0.012053767698245444,
          -0.00935773085961287,
          -0.005764194481020878,
          0.00034800207257531634
         ]
        },
        {
         "mode": "lines",
         "name": "Liquid T=0K",
         "type": "scatter",
         "x": [
          0,
          0.01,
          0.02,
          0.03,
          0.04,
          0.05,
          0.06,
          0.07,
          0.08,
          0.09,
          0.1,
          0.11,
          0.12,
          0.13,
          0.14,
          0.15,
          0.16,
          0.17,
          0.18,
          0.19,
          0.2,
          0.21,
          0.22,
          0.23,
          0.24,
          0.25,
          0.26,
          0.27,
          0.28,
          0.29,
          0.3,
          0.31,
          0.32,
          0.33,
          0.34,
          0.35000000000000003,
          0.36,
          0.37,
          0.38,
          0.39,
          0.4,
          0.41000000000000003,
          0.42,
          0.43,
          0.44,
          0.45,
          0.46,
          0.47000000000000003,
          0.48,
          0.49,
          0.5,
          0.51,
          0.52,
          0.53,
          0.54,
          0.55,
          0.56,
          0.5700000000000001,
          0.58,
          0.59,
          0.6,
          0.61,
          0.62,
          0.63,
          0.64,
          0.65,
          0.66,
          0.67,
          0.68,
          0.6900000000000001,
          0.7000000000000001,
          0.71,
          0.72,
          0.73,
          0.74,
          0.75,
          0.76,
          0.77,
          0.78,
          0.79,
          0.8,
          0.81,
          0.8200000000000001,
          0.8300000000000001,
          0.84,
          0.85,
          0.86,
          0.87,
          0.88,
          0.89,
          0.9,
          0.91,
          0.92,
          0.93,
          0.9400000000000001,
          0.9500000000000001,
          0.96,
          0.97,
          0.98,
          0.99,
          1
         ],
         "y": [
          0.11711665025651656,
          0.12376285273378253,
          0.1302884653704994,
          0.13669372326485757,
          0.14297886151504738,
          0.1491441152192592,
          0.15518971947568333,
          0.16111590938251028,
          0.16692292003793027,
          0.17261098654013374,
          0.17818034398731106,
          0.1836312274776526,
          0.1889638721093487,
          0.19417851298058972,
          0.19927538518956608,
          0.20425472383446808,
          0.20911676401348614,
          0.21386174082481055,
          0.2184898893666318,
          0.22300144473714015,
          0.227396642034526,
          0.23167571635697976,
          0.23583890280269168,
          0.23988643646985225,
          0.2438185524566518,
          0.24763548586128065,
          0.2513374717819292,
          0.2549247453167878,
          0.2583975415640469,
          0.2617560956218967,
          0.2650006425885278,
          0.2681314175621303,
          0.2711486556408948,
          0.2740525919230115,
          0.2768434615066709,
          0.2795214994900633,
          0.282086940971379,
          0.28454002104880843,
          0.28688097482054203,
          0.28911003738477004,
          0.2912274438396829,
          0.29323342928347096,
          0.29512822881432454,
          0.29691207753043414,
          0.29858521052999,
          0.3001478629111825,
          0.301600269772202,
          0.30294266621123894,
          0.30417528732648363,
          0.3052983682161265,
          0.30631214397835776,
          0.307216849711368,
          0.3080127205133473,
          0.30869999148248634,
          0.30927889771697537,
          0.3097496743150046,
          0.3101125563747646,
          0.3103677789944457,
          0.31051557727223816,
          0.3105561863063324,
          0.31048984119491885,
          0.3103167770361878,
          0.3100372289283297,
          0.3096514319695348,
          0.3091596212579935,
          0.30856203189189624,
          0.30785889896943336,
          0.3070504575887951,
          0.30613694284817206,
          0.3051185898457544,
          0.3039956336797326,
          0.302768309448297,
          0.30143685224963795,
          0.3000014971819458,
          0.29846247934341097,
          0.2968200338322238,
          0.2950743957465747,
          0.29322580018465383,
          0.2912744822446518,
          0.28922067702475895,
          0.28706461962316554,
          0.2848065451380619,
          0.2824466886676386,
          0.2799852853100859,
          0.2774225701635941,
          0.27475877832635365,
          0.2719941448965549,
          0.26912890497238817,
          0.2661632936520439,
          0.2630975460337124,
          0.259931897215584,
          0.25666658229584915,
          0.2533018363726982,
          0.24983789454432148,
          0.2462749919089094,
          0.24261336356465232,
          0.2388532446097406,
          0.2349948701423646,
          0.23103847526071467,
          0.22698429506298118,
          0.22283256464735451
         ]
        },
        {
         "hoverinfo": "none",
         "line": {
          "color": "black",
          "width": 4
         },
         "mode": "lines",
         "showlegend": false,
         "type": "scatter",
         "x": [
          0,
          1,
          null
         ],
         "y": [
          0,
          0,
          null
         ]
        },
        {
         "hoverinfo": "skip",
         "mode": "text",
         "name": "Labels (stable)",
         "opacity": 1,
         "showlegend": true,
         "text": [],
         "textposition": [],
         "type": "scatter",
         "visible": true,
         "x": [],
         "y": []
        },
        {
         "error_y": {
          "array": [
           0,
           0
          ],
          "color": "gray",
          "thickness": 2.5,
          "type": "data",
          "width": 5
         },
         "hoverinfo": "text",
         "hoverlabel": {
          "font": {
           "size": 14
          }
         },
         "hovertext": [
          "Ag (mp-989737-GGA) <br> 0.0 eV/atom (Stable)",
          "V (mp-146-GGA) <br> 0.0 eV/atom (Stable)"
         ],
         "marker": {
          "color": "darkgreen",
          "line": {
           "color": "black",
           "width": 2
          },
          "size": 16
         },
         "mode": "markers",
         "name": "Stable",
         "opacity": 0.99,
         "showlegend": true,
         "type": "scatter",
         "x": [
          0,
          1
         ],
         "y": [
          0,
          0
         ]
        },
        {
         "hoverinfo": "text",
         "hoverlabel": {
          "font": {
           "size": 14
          }
         },
         "hovertext": [
          "Ag (mp-10597-GGA) <br> 0.008 eV/atom (+0.008 eV/atom)",
          "Ag (mp-8566-GGA) <br> 0.007 eV/atom (+0.007 eV/atom)",
          "Ag (mp-124-GGA) <br> 0.004 eV/atom (+0.004 eV/atom)",
          "Ag (mp-2646971-GGA) <br> 0.034 eV/atom (+0.034 eV/atom)"
         ],
         "marker": {
          "color": [
           0.008,
           0.007,
           0.004,
           0.034
          ],
          "colorscale": [
           [
            0,
            "#fff5e3"
           ],
           [
            0.5,
            "#f24324"
           ],
           [
            1,
            "#c40000"
           ]
          ],
          "line": {
           "color": "black",
           "width": 1
          },
          "opacity": 0.8,
          "size": 7,
          "symbol": "diamond"
         },
         "mode": "markers",
         "name": "Above Hull",
         "showlegend": true,
         "type": "scatter",
         "x": [
          0,
          0,
          0,
          0
         ],
         "y": [
          0.0075411533333333836,
          0.007226485833333296,
          0.0036091633333334983,
          0.034337163333333365
         ]
        }
       ],
       "layout": {
        "annotations": [
         {
          "align": "center",
          "font": {
           "color": "#000000",
           "size": 24
          },
          "opacity": 1,
          "showarrow": false,
          "text": "Ag",
          "x": -0.03,
          "xref": "x",
          "y": -0.03,
          "yref": "y"
         },
         {
          "align": "center",
          "font": {
           "color": "#000000",
           "size": 24
          },
          "opacity": 1,
          "showarrow": false,
          "text": "V",
          "x": 1.03,
          "xref": "x",
          "y": -0.03,
          "yref": "y"
         }
        ],
        "autosize": true,
        "coloraxis": {
         "colorbar": {
          "x": 1,
          "y": 0.05,
          "yanchor": "top"
         }
        },
        "height": 700,
        "hovermode": "closest",
        "legend": {
         "orientation": "h",
         "tracegroupgap": 7,
         "traceorder": "reversed",
         "x": 0,
         "xanchor": "left",
         "y": 1.05
        },
        "margin": {
         "b": 10,
         "l": 10,
         "pad": 0,
         "r": 10,
         "t": 0
        },
        "paper_bgcolor": "white",
        "plot_bgcolor": "white",
        "showlegend": true,
        "template": {
         "data": {
          "bar": [
           {
            "error_x": {
             "color": "#2a3f5f"
            },
            "error_y": {
             "color": "#2a3f5f"
            },
            "marker": {
             "line": {
              "color": "#E5ECF6",
              "width": 0.5
             },
             "pattern": {
              "fillmode": "overlay",
              "size": 10,
              "solidity": 0.2
             }
            },
            "type": "bar"
           }
          ],
          "barpolar": [
           {
            "marker": {
             "line": {
              "color": "#E5ECF6",
              "width": 0.5
             },
             "pattern": {
              "fillmode": "overlay",
              "size": 10,
              "solidity": 0.2
             }
            },
            "type": "barpolar"
           }
          ],
          "carpet": [
           {
            "aaxis": {
             "endlinecolor": "#2a3f5f",
             "gridcolor": "white",
             "linecolor": "white",
             "minorgridcolor": "white",
             "startlinecolor": "#2a3f5f"
            },
            "baxis": {
             "endlinecolor": "#2a3f5f",
             "gridcolor": "white",
             "linecolor": "white",
             "minorgridcolor": "white",
             "startlinecolor": "#2a3f5f"
            },
            "type": "carpet"
           }
          ],
          "choropleth": [
           {
            "colorbar": {
             "outlinewidth": 0,
             "ticks": ""
            },
            "type": "choropleth"
           }
          ],
          "contour": [
           {
            "colorbar": {
             "outlinewidth": 0,
             "ticks": ""
            },
            "colorscale": [
             [
              0,
              "#0d0887"
             ],
             [
              0.1111111111111111,
              "#46039f"
             ],
             [
              0.2222222222222222,
              "#7201a8"
             ],
             [
              0.3333333333333333,
              "#9c179e"
             ],
             [
              0.4444444444444444,
              "#bd3786"
             ],
             [
              0.5555555555555556,
              "#d8576b"
             ],
             [
              0.6666666666666666,
              "#ed7953"
             ],
             [
              0.7777777777777778,
              "#fb9f3a"
             ],
             [
              0.8888888888888888,
              "#fdca26"
             ],
             [
              1,
              "#f0f921"
             ]
            ],
            "type": "contour"
           }
          ],
          "contourcarpet": [
           {
            "colorbar": {
             "outlinewidth": 0,
             "ticks": ""
            },
            "type": "contourcarpet"
           }
          ],
          "heatmap": [
           {
            "colorbar": {
             "outlinewidth": 0,
             "ticks": ""
            },
            "colorscale": [
             [
              0,
              "#0d0887"
             ],
             [
              0.1111111111111111,
              "#46039f"
             ],
             [
              0.2222222222222222,
              "#7201a8"
             ],
             [
              0.3333333333333333,
              "#9c179e"
             ],
             [
              0.4444444444444444,
              "#bd3786"
             ],
             [
              0.5555555555555556,
              "#d8576b"
             ],
             [
              0.6666666666666666,
              "#ed7953"
             ],
             [
              0.7777777777777778,
              "#fb9f3a"
             ],
             [
              0.8888888888888888,
              "#fdca26"
             ],
             [
              1,
              "#f0f921"
             ]
            ],
            "type": "heatmap"
           }
          ],
          "heatmapgl": [
           {
            "colorbar": {
             "outlinewidth": 0,
             "ticks": ""
            },
            "colorscale": [
             [
              0,
              "#0d0887"
             ],
             [
              0.1111111111111111,
              "#46039f"
             ],
             [
              0.2222222222222222,
              "#7201a8"
             ],
             [
              0.3333333333333333,
              "#9c179e"
             ],
             [
              0.4444444444444444,
              "#bd3786"
             ],
             [
              0.5555555555555556,
              "#d8576b"
             ],
             [
              0.6666666666666666,
              "#ed7953"
             ],
             [
              0.7777777777777778,
              "#fb9f3a"
             ],
             [
              0.8888888888888888,
              "#fdca26"
             ],
             [
              1,
              "#f0f921"
             ]
            ],
            "type": "heatmapgl"
           }
          ],
          "histogram": [
           {
            "marker": {
             "pattern": {
              "fillmode": "overlay",
              "size": 10,
              "solidity": 0.2
             }
            },
            "type": "histogram"
           }
          ],
          "histogram2d": [
           {
            "colorbar": {
             "outlinewidth": 0,
             "ticks": ""
            },
            "colorscale": [
             [
              0,
              "#0d0887"
             ],
             [
              0.1111111111111111,
              "#46039f"
             ],
             [
              0.2222222222222222,
              "#7201a8"
             ],
             [
              0.3333333333333333,
              "#9c179e"
             ],
             [
              0.4444444444444444,
              "#bd3786"
             ],
             [
              0.5555555555555556,
              "#d8576b"
             ],
             [
              0.6666666666666666,
              "#ed7953"
             ],
             [
              0.7777777777777778,
              "#fb9f3a"
             ],
             [
              0.8888888888888888,
              "#fdca26"
             ],
             [
              1,
              "#f0f921"
             ]
            ],
            "type": "histogram2d"
           }
          ],
          "histogram2dcontour": [
           {
            "colorbar": {
             "outlinewidth": 0,
             "ticks": ""
            },
            "colorscale": [
             [
              0,
              "#0d0887"
             ],
             [
              0.1111111111111111,
              "#46039f"
             ],
             [
              0.2222222222222222,
              "#7201a8"
             ],
             [
              0.3333333333333333,
              "#9c179e"
             ],
             [
              0.4444444444444444,
              "#bd3786"
             ],
             [
              0.5555555555555556,
              "#d8576b"
             ],
             [
              0.6666666666666666,
              "#ed7953"
             ],
             [
              0.7777777777777778,
              "#fb9f3a"
             ],
             [
              0.8888888888888888,
              "#fdca26"
             ],
             [
              1,
              "#f0f921"
             ]
            ],
            "type": "histogram2dcontour"
           }
          ],
          "mesh3d": [
           {
            "colorbar": {
             "outlinewidth": 0,
             "ticks": ""
            },
            "type": "mesh3d"
           }
          ],
          "parcoords": [
           {
            "line": {
             "colorbar": {
              "outlinewidth": 0,
              "ticks": ""
             }
            },
            "type": "parcoords"
           }
          ],
          "pie": [
           {
            "automargin": true,
            "type": "pie"
           }
          ],
          "scatter": [
           {
            "fillpattern": {
             "fillmode": "overlay",
             "size": 10,
             "solidity": 0.2
            },
            "type": "scatter"
           }
          ],
          "scatter3d": [
           {
            "line": {
             "colorbar": {
              "outlinewidth": 0,
              "ticks": ""
             }
            },
            "marker": {
             "colorbar": {
              "outlinewidth": 0,
              "ticks": ""
             }
            },
            "type": "scatter3d"
           }
          ],
          "scattercarpet": [
           {
            "marker": {
             "colorbar": {
              "outlinewidth": 0,
              "ticks": ""
             }
            },
            "type": "scattercarpet"
           }
          ],
          "scattergeo": [
           {
            "marker": {
             "colorbar": {
              "outlinewidth": 0,
              "ticks": ""
             }
            },
            "type": "scattergeo"
           }
          ],
          "scattergl": [
           {
            "marker": {
             "colorbar": {
              "outlinewidth": 0,
              "ticks": ""
             }
            },
            "type": "scattergl"
           }
          ],
          "scattermapbox": [
           {
            "marker": {
             "colorbar": {
              "outlinewidth": 0,
              "ticks": ""
             }
            },
            "type": "scattermapbox"
           }
          ],
          "scatterpolar": [
           {
            "marker": {
             "colorbar": {
              "outlinewidth": 0,
              "ticks": ""
             }
            },
            "type": "scatterpolar"
           }
          ],
          "scatterpolargl": [
           {
            "marker": {
             "colorbar": {
              "outlinewidth": 0,
              "ticks": ""
             }
            },
            "type": "scatterpolargl"
           }
          ],
          "scatterternary": [
           {
            "marker": {
             "colorbar": {
              "outlinewidth": 0,
              "ticks": ""
             }
            },
            "type": "scatterternary"
           }
          ],
          "surface": [
           {
            "colorbar": {
             "outlinewidth": 0,
             "ticks": ""
            },
            "colorscale": [
             [
              0,
              "#0d0887"
             ],
             [
              0.1111111111111111,
              "#46039f"
             ],
             [
              0.2222222222222222,
              "#7201a8"
             ],
             [
              0.3333333333333333,
              "#9c179e"
             ],
             [
              0.4444444444444444,
              "#bd3786"
             ],
             [
              0.5555555555555556,
              "#d8576b"
             ],
             [
              0.6666666666666666,
              "#ed7953"
             ],
             [
              0.7777777777777778,
              "#fb9f3a"
             ],
             [
              0.8888888888888888,
              "#fdca26"
             ],
             [
              1,
              "#f0f921"
             ]
            ],
            "type": "surface"
           }
          ],
          "table": [
           {
            "cells": {
             "fill": {
              "color": "#EBF0F8"
             },
             "line": {
              "color": "white"
             }
            },
            "header": {
             "fill": {
              "color": "#C8D4E3"
             },
             "line": {
              "color": "white"
             }
            },
            "type": "table"
           }
          ]
         },
         "layout": {
          "annotationdefaults": {
           "arrowcolor": "#2a3f5f",
           "arrowhead": 0,
           "arrowwidth": 1
          },
          "autotypenumbers": "strict",
          "coloraxis": {
           "colorbar": {
            "outlinewidth": 0,
            "ticks": ""
           }
          },
          "colorscale": {
           "diverging": [
            [
             0,
             "#8e0152"
            ],
            [
             0.1,
             "#c51b7d"
            ],
            [
             0.2,
             "#de77ae"
            ],
            [
             0.3,
             "#f1b6da"
            ],
            [
             0.4,
             "#fde0ef"
            ],
            [
             0.5,
             "#f7f7f7"
            ],
            [
             0.6,
             "#e6f5d0"
            ],
            [
             0.7,
             "#b8e186"
            ],
            [
             0.8,
             "#7fbc41"
            ],
            [
             0.9,
             "#4d9221"
            ],
            [
             1,
             "#276419"
            ]
           ],
           "sequential": [
            [
             0,
             "#0d0887"
            ],
            [
             0.1111111111111111,
             "#46039f"
            ],
            [
             0.2222222222222222,
             "#7201a8"
            ],
            [
             0.3333333333333333,
             "#9c179e"
            ],
            [
             0.4444444444444444,
             "#bd3786"
            ],
            [
             0.5555555555555556,
             "#d8576b"
            ],
            [
             0.6666666666666666,
             "#ed7953"
            ],
            [
             0.7777777777777778,
             "#fb9f3a"
            ],
            [
             0.8888888888888888,
             "#fdca26"
            ],
            [
             1,
             "#f0f921"
            ]
           ],
           "sequentialminus": [
            [
             0,
             "#0d0887"
            ],
            [
             0.1111111111111111,
             "#46039f"
            ],
            [
             0.2222222222222222,
             "#7201a8"
            ],
            [
             0.3333333333333333,
             "#9c179e"
            ],
            [
             0.4444444444444444,
             "#bd3786"
            ],
            [
             0.5555555555555556,
             "#d8576b"
            ],
            [
             0.6666666666666666,
             "#ed7953"
            ],
            [
             0.7777777777777778,
             "#fb9f3a"
            ],
            [
             0.8888888888888888,
             "#fdca26"
            ],
            [
             1,
             "#f0f921"
            ]
           ]
          },
          "colorway": [
           "#636efa",
           "#EF553B",
           "#00cc96",
           "#ab63fa",
           "#FFA15A",
           "#19d3f3",
           "#FF6692",
           "#B6E880",
           "#FF97FF",
           "#FECB52"
          ],
          "font": {
           "color": "#2a3f5f"
          },
          "geo": {
           "bgcolor": "white",
           "lakecolor": "white",
           "landcolor": "#E5ECF6",
           "showlakes": true,
           "showland": true,
           "subunitcolor": "white"
          },
          "hoverlabel": {
           "align": "left"
          },
          "hovermode": "closest",
          "mapbox": {
           "style": "light"
          },
          "paper_bgcolor": "white",
          "plot_bgcolor": "#E5ECF6",
          "polar": {
           "angularaxis": {
            "gridcolor": "white",
            "linecolor": "white",
            "ticks": ""
           },
           "bgcolor": "#E5ECF6",
           "radialaxis": {
            "gridcolor": "white",
            "linecolor": "white",
            "ticks": ""
           }
          },
          "scene": {
           "xaxis": {
            "backgroundcolor": "#E5ECF6",
            "gridcolor": "white",
            "gridwidth": 2,
            "linecolor": "white",
            "showbackground": true,
            "ticks": "",
            "zerolinecolor": "white"
           },
           "yaxis": {
            "backgroundcolor": "#E5ECF6",
            "gridcolor": "white",
            "gridwidth": 2,
            "linecolor": "white",
            "showbackground": true,
            "ticks": "",
            "zerolinecolor": "white"
           },
           "zaxis": {
            "backgroundcolor": "#E5ECF6",
            "gridcolor": "white",
            "gridwidth": 2,
            "linecolor": "white",
            "showbackground": true,
            "ticks": "",
            "zerolinecolor": "white"
           }
          },
          "shapedefaults": {
           "line": {
            "color": "#2a3f5f"
           }
          },
          "ternary": {
           "aaxis": {
            "gridcolor": "white",
            "linecolor": "white",
            "ticks": ""
           },
           "baxis": {
            "gridcolor": "white",
            "linecolor": "white",
            "ticks": ""
           },
           "bgcolor": "#E5ECF6",
           "caxis": {
            "gridcolor": "white",
            "linecolor": "white",
            "ticks": ""
           }
          },
          "title": {
           "x": 0.05
          },
          "xaxis": {
           "automargin": true,
           "gridcolor": "white",
           "linecolor": "white",
           "ticks": "",
           "title": {
            "standoff": 15
           },
           "zerolinecolor": "white",
           "zerolinewidth": 2
          },
          "yaxis": {
           "automargin": true,
           "gridcolor": "white",
           "linecolor": "white",
           "ticks": "",
           "title": {
            "standoff": 15
           },
           "zerolinecolor": "white",
           "zerolinewidth": 2
          }
         }
        },
        "width": 960,
        "xaxis": {
         "anchor": "y",
         "gridcolor": "rgba(0,0,0,0.1)",
         "mirror": "ticks",
         "nticks": 8,
         "showgrid": true,
         "showline": true,
         "side": "bottom",
         "tickfont": {
          "size": 16
         },
         "ticks": "inside",
         "title": {
          "font": {
           "color": "#000000",
           "size": 20
          },
          "text": "Composition (fraction)"
         },
         "type": "linear",
         "zeroline": false
        },
        "yaxis": {
         "anchor": "x",
         "gridcolor": "rgba(0,0,0,0.1)",
         "mirror": "ticks",
         "showgrid": true,
         "showline": true,
         "side": "left",
         "tickfont": {
          "size": 16
         },
         "ticks": "inside",
         "title": {
          "font": {
           "color": "#000000",
           "size": 20
          },
          "text": "Formation energy (eV/atom)"
         },
         "type": "linear"
        }
       }
      }
     },
     "metadata": {},
     "output_type": "display_data"
    },
    {
     "name": "stdout",
     "output_type": "stream",
     "text": [
      "Al: H_fusion = 10710.0 J/mol, T_fusion = 933.5 K, T_vaporization = 2792.15 K\n",
      "Cu: H_fusion = 13260.0 J/mol, T_fusion = 1357.77 K, T_vaporization = 2835.15 K\n",
      "\n",
      "Reading MPDS json from entry at https://mpds.io/entry/C903362...\n",
      "\n",
      "Best fitted parameters for Al-Cu: [-8335.5, -63.44, 78494.86, -107.59]\n",
      "MAE = 22.23\n",
      "L0 = -63.44*t - 8335\n",
      "L1 = 78494 - 107.59*t\n"
     ]
    },
    {
     "data": {
      "image/png": "[encoded data removed]",
      "text/plain": [
       "<Figure size 800x500 with 3 Axes>"
      ]
     },
     "metadata": {},
     "output_type": "display_data"
    },
    {
     "data": {
      "application/vnd.plotly.v1+json": {
       "config": {
        "plotlyServerURL": "https://plot.ly"
       },
       "data": [
        {
         "line": {
          "color": "#B82E2E",
          "dash": "dash",
          "width": 4
         },
         "mode": "lines",
         "showlegend": false,
         "type": "scatter",
         "x": [
          0.0381243,
          2.89787025,
          5.757616200000001,
          8.61736215,
          11.4771081,
          14.33685405,
          17.1966,
          17.9851,
          18.8,
          19.6233,
          20.4563,
          21.3002,
          22.1563,
          23.0258,
          23.91,
          24.8099,
          25.727,
          26.6624,
          27.617399999999996,
          28.5931,
          29.5908,
          30.6117,
          31.6571,
          32.7125,
          32.889,
          33.0812,
          33.278,
          33.4795,
          33.6858,
          33.897,
          34.1134,
          34.3348,
          34.5616,
          34.7938,
          35.0315,
          35.2748,
          35.5239,
          35.7789,
          36.0398,
          36.3068,
          36.5733,
          37.4717,
          38.3839,
          39.3036,
          40.2298,
          41.161,
          42.096,
          43.0335,
          43.9721,
          44.9106,
          45.8476,
          46.7819,
          47.7121,
          48.637,
          49.5552,
          50.4655,
          51.3665,
          52.2562,
          52.7497,
          53.23709999999999,
          53.7181,
          54.19350000000001,
          54.66380000000001,
          55.1296,
          55.5916,
          56.0503,
          56.5064,
          56.9605,
          57.41309999999999,
          57.865,
          58.316599999999994,
          58.76870000000001,
          59.2218,
          59.6766,
          60.1318,
          60.45120000000001,
          60.775400000000005,
          61.1027,
          61.4333,
          61.767300000000006,
          62.104899999999994,
          62.4463,
          62.7916,
          63.141000000000005,
          63.4947,
          63.8528,
          64.2155,
          64.583,
          64.9554,
          65.3328,
          65.7156,
          66.1034,
          66.2601,
          66.429,
          66.6075,
          66.7947,
          66.9896,
          67.1914,
          67.3992,
          67.612,
          67.829,
          68.0493,
          68.272,
          68.4961,
          68.7208,
          68.9452,
          69.1684,
          69.3894,
          69.606,
          69.9556,
          70.3091,
          70.6641,
          71.0203,
          71.3771,
          71.7342,
          72.0912,
          72.4476,
          72.8031,
          73.1572,
          73.5095,
          73.8595,
          74.2069,
          74.5513,
          74.8922,
          75.2292,
          75.5619,
          76.0193,
          76.4749,
          76.9287,
          77.3808,
          77.8312,
          78.28,
          78.7274,
          79.1735,
          79.6182,
          80.0618,
          80.5043,
          80.9458,
          81.3864,
          81.8263,
          82.2653,
          82.7038,
          83.1257,
          83.9345,
          84.7778,
          85.6406,
          86.5233,
          87.4262,
          88.3499,
          89.2948,
          90.2612,
          91.2496,
          92.2603,
          93.2939,
          94.3508,
          95.4312,
          96.5358,
          97.6647,
          98.8186,
          99.9619
         ],
         "y": [
          661.098,
          642.2486666666666,
          623.3993333333333,
          604.55,
          585.7006666666666,
          566.8513333333333,
          548.002,
          551.897,
          555.769,
          559.508,
          563.102,
          566.536,
          569.796,
          572.87,
          575.743,
          578.402,
          580.832,
          583.022,
          584.956,
          586.621,
          588.003,
          589.09,
          589.866,
          590.312,
          592.323,
          594.431,
          596.51,
          598.56,
          600.582,
          602.575,
          604.541,
          606.478,
          608.388,
          610.271,
          612.126,
          613.954,
          615.756,
          617.532,
          619.281,
          621.004,
          622.66,
          635.6,
          648.71,
          661.905,
          675.17,
          688.488,
          701.844,
          715.221,
          728.603,
          741.974,
          755.3179999999999,
          768.619,
          781.861,
          795.0270000000002,
          808.102,
          821.07,
          833.9139999999999,
          846.6079999999998,
          854.648,
          862.552,
          870.301,
          877.8860000000001,
          885.2979999999999,
          892.5299999999999,
          899.574,
          906.42,
          913.0600000000001,
          919.486,
          925.689,
          931.6619999999999,
          937.3950000000001,
          942.881,
          948.111,
          953.0760000000001,
          957.7489999999999,
          962.0310000000001,
          966.284,
          970.4809999999999,
          974.619,
          978.6940000000001,
          982.7039999999998,
          986.647,
          990.5169999999999,
          994.314,
          998.034,
          1001.67,
          1005.2300000000001,
          1008.6999999999999,
          1012.08,
          1015.37,
          1018.57,
          1021.66,
          1022.9600000000002,
          1024.2399999999998,
          1025.4699999999998,
          1026.6599999999999,
          1027.7999999999997,
          1028.9,
          1029.94,
          1030.94,
          1031.88,
          1032.77,
          1033.6099999999997,
          1034.38,
          1035.1,
          1035.7599999999998,
          1036.35,
          1036.88,
          1037.3399999999997,
          1038.3899999999999,
          1039.38,
          1040.31,
          1041.19,
          1042.0099999999998,
          1042.77,
          1043.46,
          1044.1,
          1044.67,
          1045.1799999999998,
          1045.63,
          1046.0099999999998,
          1046.3199999999997,
          1046.56,
          1046.7399999999998,
          1046.85,
          1046.88,
          1046.8199999999997,
          1046.6399999999999,
          1046.33,
          1045.92,
          1045.3899999999999,
          1044.7599999999998,
          1044.0299999999997,
          1043.1999999999998,
          1042.27,
          1041.2599999999998,
          1040.17,
          1038.9899999999998,
          1037.7399999999998,
          1036.42,
          1035.0299999999997,
          1033.58,
          1032.12,
          1037.0299999999997,
          1041.85,
          1046.4899999999998,
          1050.92,
          1055.15,
          1059.1399999999999,
          1062.9,
          1066.42,
          1069.67,
          1072.6399999999999,
          1075.33,
          1077.73,
          1079.81,
          1081.5699999999997,
          1082.9899999999998,
          1084.0699999999997,
          1084.77
         ]
        },
        {
         "hovertemplate": "label=Al2Cu<br>x=%{x}<br>t=%{y}<extra></extra>",
         "legendgroup": "Al2Cu",
         "line": {
          "color": "rgb(246, 207, 113)",
          "dash": "solid",
          "width": 4
         },
         "marker": {
          "symbol": "circle"
         },
         "mode": "lines",
         "name": "Al2Cu",
         "orientation": "v",
         "showlegend": false,
         "type": "scatter",
         "x": [
          33,
          33,
          33,
          33,
          33,
          33,
          33,
          33,
          33,
          33,
          33,
          33,
          33,
          33,
          33,
          33,
          33,
          33,
          33,
          33,
          33,
          33
         ],
         "xaxis": "x",
         "y": [
          582.8912882117104,
          582.7285588038378,
          505.1813522270594,
          512.4408530385502,
          491.88055250293974,
          497.75498841878175,
          526.3486759383476,
          519.5065437655619,
          550.8443363813079,
          545.2154076772257,
          578.25842376431,
          572.7693552661121,
          575.7621122829206,
          532.9357389216846,
          539.235406052375,
          556.0923807801237,
          560.9319793656452,
          569.2901228984243,
          565.3383839886877,
          581.7418087212144,
          580.2523332753027,
          -273.15
         ],
         "yaxis": "y"
        },
        {
         "hovertemplate": "label=AlCu<br>x=%{x}<br>t=%{y}<extra></extra>",
         "legendgroup": "AlCu",
         "line": {
          "color": "rgb(248, 156, 116)",
          "dash": "solid",
          "width": 4
         },
         "marker": {
          "symbol": "circle"
         },
         "mode": "lines",
         "name": "AlCu",
         "orientation": "v",
         "showlegend": false,
         "type": "scatter",
         "x": [
          50,
          50,
          50,
          50,
          50,
          50,
          50,
          50,
          50,
          50,
          50,
          50,
          50,
          50
         ],
         "xaxis": "x",
         "y": [
          659.104546292697,
          582.8912882117104,
          647.6160266205491,
          629.0650353976571,
          606.1700991716397,
          588.9686445004071,
          597.7351635054303,
          657.2414343856608,
          652.7136920518759,
          641.9621104014041,
          635.7705856012088,
          621.8738310675142,
          614.2298543032665,
          -273.15
         ],
         "yaxis": "y"
        },
        {
         "hovertemplate": "label=Al4Cu9<br>x=%{x}<br>t=%{y}<extra></extra>",
         "legendgroup": "Al4Cu9",
         "line": {
          "color": "rgb(220, 176, 242)",
          "dash": "solid",
          "width": 4
         },
         "marker": {
          "symbol": "circle"
         },
         "mode": "lines",
         "name": "Al4Cu9",
         "orientation": "v",
         "showlegend": false,
         "type": "scatter",
         "x": [
          69,
          69,
          69,
          69,
          69,
          69,
          69,
          69,
          69,
          69,
          69,
          69,
          69
         ],
         "xaxis": "x",
         "y": [
          659.104546292697,
          779.2299187720618,
          830.9966108183299,
          825.7108988903636,
          669.381075335328,
          726.2198256347932,
          811.0787080992153,
          795.5617191628654,
          707.5496825988108,
          688.5647561032969,
          762.1654932384128,
          744.4614435737478,
          -273.15
         ],
         "yaxis": "y"
        },
        {
         "hovertemplate": "label=AlCu3<br>x=%{x}<br>t=%{y}<extra></extra>",
         "legendgroup": "AlCu3",
         "line": {
          "color": "rgb(135, 197, 95)",
          "dash": "solid",
          "width": 4
         },
         "marker": {
          "symbol": "circle"
         },
         "mode": "lines",
         "name": "AlCu3",
         "orientation": "v",
         "showlegend": false,
         "type": "scatter",
         "x": [
          75,
          75,
          75,
          75,
          75,
          75,
          75,
          75,
          75,
          75,
          75,
          75,
          75,
          75,
          75,
          75,
          75,
          75,
          75,
          75,
          75,
          75,
          75,
          75,
          75,
          75,
          75,
          75,
          75,
          75,
          75,
          75,
          75,
          75,
          75,
          75
         ],
         "xaxis": "x",
         "y": [
          830.9966108183299,
          887.2778639447805,
          866.6938106536383,
          844.9789306210324,
          1039.4164233250613,
          970.4637737580241,
          956.6061654950494,
          906.6288025871601,
          1043.8142571187063,
          1041.5864888154533,
          1039.8254553553052,
          1039.4813672220398,
          1038.3628343540536,
          1040.921754139143,
          1044.0882990227583,
          1042.8012386017654,
          1045.2180805798575,
          1044.8670448674852,
          1045.2180805798575,
          1019.5438522535554,
          1025.7147342557828,
          1035.0353837015746,
          1030.8492854434357,
          982.9204166665371,
          994.0050705723389,
          1012.2525886010218,
          1003.7628853119658,
          941.3372104670451,
          924.6672181629391,
          1042.331109438685,
          1043.0898761922626,
          1040.3027157949414,
          1040.8985511668543,
          1044.4503960265383,
          1044.939502607332,
          -273.15
         ],
         "yaxis": "y"
        },
        {
         "hovertemplate": "x=%{x}<br>y=%{y}<extra></extra>",
         "legendgroup": "",
         "line": {
          "color": "Silver",
          "dash": "solid",
          "width": 4
         },
         "marker": {
          "symbol": "circle"
         },
         "mode": "lines",
         "name": "",
         "orientation": "v",
         "showlegend": false,
         "type": "scatter",
         "x": [
          0,
          13,
          33
         ],
         "xaxis": "x",
         "y": [
          491.88055250293974,
          491.88055250293974,
          491.88055250293974
         ],
         "yaxis": "y"
        },
        {
         "hovertemplate": "x=%{x}<br>y=%{y}<extra></extra>",
         "legendgroup": "",
         "line": {
          "color": "Silver",
          "dash": "solid",
          "width": 4
         },
         "marker": {
          "symbol": "circle"
         },
         "mode": "lines",
         "name": "",
         "orientation": "v",
         "showlegend": false,
         "type": "scatter",
         "x": [
          75,
          86,
          100
         ],
         "xaxis": "x",
         "y": [
          1039.4164233250613,
          1039.4164233250613,
          1039.4164233250613
         ],
         "yaxis": "y"
        },
        {
         "hovertemplate": "x=%{x}<br>y=%{y}<extra></extra>",
         "legendgroup": "",
         "line": {
          "color": "Silver",
          "dash": "solid",
          "width": 4
         },
         "marker": {
          "symbol": "circle"
         },
         "mode": "lines",
         "name": "",
         "orientation": "v",
         "showlegend": false,
         "type": "scatter",
         "x": [
          43,
          50,
          69
         ],
         "xaxis": "x",
         "y": [
          659.104546292697,
          659.104546292697,
          659.104546292697
         ],
         "yaxis": "y"
        },
        {
         "hovertemplate": "x=%{x}<br>y=%{y}<extra></extra>",
         "legendgroup": "",
         "line": {
          "color": "Silver",
          "dash": "solid",
          "width": 4
         },
         "marker": {
          "symbol": "circle"
         },
         "mode": "lines",
         "name": "",
         "orientation": "v",
         "showlegend": false,
         "type": "scatter",
         "x": [
          32,
          33,
          50
         ],
         "xaxis": "x",
         "y": [
          582.8912882117104,
          582.8912882117104,
          582.8912882117104
         ],
         "yaxis": "y"
        },
        {
         "hovertemplate": "x=%{x}<br>y=%{y}<extra></extra>",
         "legendgroup": "",
         "line": {
          "color": "Silver",
          "dash": "solid",
          "width": 4
         },
         "marker": {
          "symbol": "circle"
         },
         "mode": "lines",
         "name": "",
         "orientation": "v",
         "showlegend": false,
         "type": "scatter",
         "x": [
          53,
          69,
          75
         ],
         "xaxis": "x",
         "y": [
          830.9966108183299,
          830.9966108183299,
          830.9966108183299
         ],
         "yaxis": "y"
        },
        {
         "hovertemplate": "label=L<br>x=%{x}<br>t=%{y}<extra></extra>",
         "legendgroup": "L",
         "line": {
          "color": "cornflowerblue",
          "dash": "solid",
          "width": 4
         },
         "marker": {
          "symbol": "circle"
         },
         "mode": "lines",
         "name": "L",
         "orientation": "v",
         "showlegend": false,
         "type": "scatter",
         "x": [
          0,
          1,
          2,
          3,
          4,
          5,
          6,
          7.000000000000001,
          8,
          9,
          10,
          11,
          12,
          13,
          14.000000000000002,
          15,
          16,
          17,
          18,
          19,
          20,
          21,
          22,
          23,
          24,
          25,
          26,
          27,
          28.000000000000004,
          28.999999999999996,
          30,
          31,
          32,
          33,
          34,
          35,
          36,
          37,
          38,
          39,
          40,
          41,
          42,
          43,
          44,
          45,
          46,
          47,
          48,
          49,
          50,
          51,
          52,
          53,
          54,
          55.00000000000001,
          56.00000000000001,
          57.00000000000001,
          57.99999999999999,
          59,
          60,
          61,
          62,
          63,
          64,
          65,
          66,
          67,
          68,
          69,
          70,
          71,
          72,
          73,
          74,
          75,
          76,
          77,
          78,
          79,
          80,
          81,
          82,
          83,
          84,
          85,
          86,
          87,
          88,
          89,
          90,
          91,
          92,
          93,
          94,
          95,
          96,
          97,
          98,
          99,
          100
         ],
         "xaxis": "x",
         "y": [
          661.0980000000001,
          649.5217192929875,
          638.3795904691139,
          625.8876856821934,
          612.2748290141161,
          597.8526172058168,
          582.9255121680968,
          567.7655942899197,
          552.6028160168056,
          537.6224859012606,
          522.9669904185101,
          508.7399712043717,
          495.0117092541012,
          491.88055250293974,
          497.75498841878175,
          505.1813522270594,
          512.4408530385502,
          519.5065437655619,
          526.3486759383476,
          532.9357389216846,
          539.235406052375,
          545.2154076772257,
          550.8443363813079,
          556.0923807801237,
          560.9319793656452,
          565.3383839886877,
          569.2901228984243,
          572.7693552661121,
          575.7621122829206,
          578.25842376431,
          580.2523332753027,
          581.7418087212144,
          582.7285588038378,
          588.9686445004071,
          597.7351635054303,
          606.1700991716397,
          614.2298543032665,
          621.8738310675142,
          629.0650353976571,
          635.7705856012088,
          641.9621104014041,
          647.6160266205491,
          652.7136920518759,
          657.2414343856608,
          669.381075335328,
          688.5647561032969,
          707.5496825988108,
          726.2198256347932,
          744.4614435737478,
          762.1654932384128,
          779.2299187720618,
          795.5617191628654,
          811.0787080992153,
          825.7108988903636,
          844.9789306210324,
          866.6938106536383,
          887.2778639447805,
          906.6288025871601,
          924.6672181629391,
          941.3372104670451,
          956.6061654950494,
          970.4637737580241,
          982.9204166665371,
          994.0050705723389,
          1003.7628853119658,
          1012.2525886010218,
          1019.5438522535554,
          1025.7147342557828,
          1030.8492854434357,
          1035.0353837015746,
          1038.3628343540536,
          1040.921754139143,
          1042.8012386017654,
          1044.0882990227583,
          1044.8670448674852,
          1045.2180805798575,
          1044.939502607332,
          1044.4503960265383,
          1043.8142571187063,
          1043.0898761922626,
          1042.331109438685,
          1041.5864888154533,
          1040.8985511668543,
          1040.3027157949414,
          1039.8254553553052,
          1039.4813672220398,
          1039.4164233250613,
          1039.805851375134,
          1040.0049812708467,
          1040.07439730461,
          1040.2159222063815,
          1040.601822383307,
          1041.3850560006472,
          1042.707762437702,
          1044.7088362191812,
          1047.5314703696968,
          1051.3320380060068,
          1056.2936717217044,
          1062.6573925687676,
          1070.8545859500741,
          1084.7700000000004
         ],
         "yaxis": "y"
        },
        {
         "line": {
          "color": "#B82E2E",
          "dash": "dash"
         },
         "mode": "lines",
         "name": "Digitized Liquidus",
         "showlegend": true,
         "type": "scatter",
         "x": [
          null
         ],
         "y": [
          null
         ]
        },
        {
         "marker": {
          "color": "cornflowerblue"
         },
         "mode": "lines",
         "name": "Fitted Liquidus",
         "showlegend": true,
         "type": "scatter",
         "x": [
          null
         ],
         "y": [
          null
         ]
        }
       ],
       "layout": {
        "annotations": [
         {
          "borderpad": 5,
          "font": {
           "color": "black",
           "size": 18
          },
          "showarrow": false,
          "text": "Al2Cu",
          "textangle": -90,
          "x": 30.5,
          "y": 300,
          "yanchor": "bottom"
         },
         {
          "borderpad": 5,
          "font": {
           "color": "black",
           "size": 18
          },
          "showarrow": false,
          "text": "AlCu",
          "textangle": -90,
          "x": 47.5,
          "y": 300,
          "yanchor": "bottom"
         },
         {
          "borderpad": 5,
          "font": {
           "color": "black",
           "size": 18
          },
          "showarrow": false,
          "text": "Al4Cu9",
          "textangle": -90,
          "x": 66.5,
          "y": 300,
          "yanchor": "bottom"
         },
         {
          "borderpad": 5,
          "font": {
           "color": "black",
           "size": 18
          },
          "showarrow": false,
          "text": "AlCu3",
          "textangle": -90,
          "x": 72.5,
          "y": 300,
          "yanchor": "bottom"
         },
         {
          "font": {
           "color": "black",
           "size": 18
          },
          "showarrow": false,
          "text": "L",
          "x": 50,
          "y": 1116
         }
        ],
        "font": {
         "size": 22
        },
        "height": 700,
        "legend": {
         "font": {
          "size": 18
         },
         "x": 0.01,
         "xanchor": "left",
         "y": 0.99,
         "yanchor": "top"
        },
        "plot_bgcolor": "white",
        "showlegend": true,
        "template": {
         "data": {
          "bar": [
           {
            "error_x": {
             "color": "#2a3f5f"
            },
            "error_y": {
             "color": "#2a3f5f"
            },
            "marker": {
             "line": {
              "color": "#E5ECF6",
              "width": 0.5
             },
             "pattern": {
              "fillmode": "overlay",
              "size": 10,
              "solidity": 0.2
             }
            },
            "type": "bar"
           }
          ],
          "barpolar": [
           {
            "marker": {
             "line": {
              "color": "#E5ECF6",
              "width": 0.5
             },
             "pattern": {
              "fillmode": "overlay",
              "size": 10,
              "solidity": 0.2
             }
            },
            "type": "barpolar"
           }
          ],
          "carpet": [
           {
            "aaxis": {
             "endlinecolor": "#2a3f5f",
             "gridcolor": "white",
             "linecolor": "white",
             "minorgridcolor": "white",
             "startlinecolor": "#2a3f5f"
            },
            "baxis": {
             "endlinecolor": "#2a3f5f",
             "gridcolor": "white",
             "linecolor": "white",
             "minorgridcolor": "white",
             "startlinecolor": "#2a3f5f"
            },
            "type": "carpet"
           }
          ],
          "choropleth": [
           {
            "colorbar": {
             "outlinewidth": 0,
             "ticks": ""
            },
            "type": "choropleth"
           }
          ],
          "contour": [
           {
            "colorbar": {
             "outlinewidth": 0,
             "ticks": ""
            },
            "colorscale": [
             [
              0,
              "#0d0887"
             ],
             [
              0.1111111111111111,
              "#46039f"
             ],
             [
              0.2222222222222222,
              "#7201a8"
             ],
             [
              0.3333333333333333,
              "#9c179e"
             ],
             [
              0.4444444444444444,
              "#bd3786"
             ],
             [
              0.5555555555555556,
              "#d8576b"
             ],
             [
              0.6666666666666666,
              "#ed7953"
             ],
             [
              0.7777777777777778,
              "#fb9f3a"
             ],
             [
              0.8888888888888888,
              "#fdca26"
             ],
             [
              1,
              "#f0f921"
             ]
            ],
            "type": "contour"
           }
          ],
          "contourcarpet": [
           {
            "colorbar": {
             "outlinewidth": 0,
             "ticks": ""
            },
            "type": "contourcarpet"
           }
          ],
          "heatmap": [
           {
            "colorbar": {
             "outlinewidth": 0,
             "ticks": ""
            },
            "colorscale": [
             [
              0,
              "#0d0887"
             ],
             [
              0.1111111111111111,
              "#46039f"
             ],
             [
              0.2222222222222222,
              "#7201a8"
             ],
             [
              0.3333333333333333,
              "#9c179e"
             ],
             [
              0.4444444444444444,
              "#bd3786"
             ],
             [
              0.5555555555555556,
              "#d8576b"
             ],
             [
              0.6666666666666666,
              "#ed7953"
             ],
             [
              0.7777777777777778,
              "#fb9f3a"
             ],
             [
              0.8888888888888888,
              "#fdca26"
             ],
             [
              1,
              "#f0f921"
             ]
            ],
            "type": "heatmap"
           }
          ],
          "heatmapgl": [
           {
            "colorbar": {
             "outlinewidth": 0,
             "ticks": ""
            },
            "colorscale": [
             [
              0,
              "#0d0887"
             ],
             [
              0.1111111111111111,
              "#46039f"
             ],
             [
              0.2222222222222222,
              "#7201a8"
             ],
             [
              0.3333333333333333,
              "#9c179e"
             ],
             [
              0.4444444444444444,
              "#bd3786"
             ],
             [
              0.5555555555555556,
              "#d8576b"
             ],
             [
              0.6666666666666666,
              "#ed7953"
             ],
             [
              0.7777777777777778,
              "#fb9f3a"
             ],
             [
              0.8888888888888888,
              "#fdca26"
             ],
             [
              1,
              "#f0f921"
             ]
            ],
            "type": "heatmapgl"
           }
          ],
          "histogram": [
           {
            "marker": {
             "pattern": {
              "fillmode": "overlay",
              "size": 10,
              "solidity": 0.2
             }
            },
            "type": "histogram"
           }
          ],
          "histogram2d": [
           {
            "colorbar": {
             "outlinewidth": 0,
             "ticks": ""
            },
            "colorscale": [
             [
              0,
              "#0d0887"
             ],
             [
              0.1111111111111111,
              "#46039f"
             ],
             [
              0.2222222222222222,
              "#7201a8"
             ],
             [
              0.3333333333333333,
              "#9c179e"
             ],
             [
              0.4444444444444444,
              "#bd3786"
             ],
             [
              0.5555555555555556,
              "#d8576b"
             ],
             [
              0.6666666666666666,
              "#ed7953"
             ],
             [
              0.7777777777777778,
              "#fb9f3a"
             ],
             [
              0.8888888888888888,
              "#fdca26"
             ],
             [
              1,
              "#f0f921"
             ]
            ],
            "type": "histogram2d"
           }
          ],
          "histogram2dcontour": [
           {
            "colorbar": {
             "outlinewidth": 0,
             "ticks": ""
            },
            "colorscale": [
             [
              0,
              "#0d0887"
             ],
             [
              0.1111111111111111,
              "#46039f"
             ],
             [
              0.2222222222222222,
              "#7201a8"
             ],
             [
              0.3333333333333333,
              "#9c179e"
             ],
             [
              0.4444444444444444,
              "#bd3786"
             ],
             [
              0.5555555555555556,
              "#d8576b"
             ],
             [
              0.6666666666666666,
              "#ed7953"
             ],
             [
              0.7777777777777778,
              "#fb9f3a"
             ],
             [
              0.8888888888888888,
              "#fdca26"
             ],
             [
              1,
              "#f0f921"
             ]
            ],
            "type": "histogram2dcontour"
           }
          ],
          "mesh3d": [
           {
            "colorbar": {
             "outlinewidth": 0,
             "ticks": ""
            },
            "type": "mesh3d"
           }
          ],
          "parcoords": [
           {
            "line": {
             "colorbar": {
              "outlinewidth": 0,
              "ticks": ""
             }
            },
            "type": "parcoords"
           }
          ],
          "pie": [
           {
            "automargin": true,
            "type": "pie"
           }
          ],
          "scatter": [
           {
            "fillpattern": {
             "fillmode": "overlay",
             "size": 10,
             "solidity": 0.2
            },
            "type": "scatter"
           }
          ],
          "scatter3d": [
           {
            "line": {
             "colorbar": {
              "outlinewidth": 0,
              "ticks": ""
             }
            },
            "marker": {
             "colorbar": {
              "outlinewidth": 0,
              "ticks": ""
             }
            },
            "type": "scatter3d"
           }
          ],
          "scattercarpet": [
           {
            "marker": {
             "colorbar": {
              "outlinewidth": 0,
              "ticks": ""
             }
            },
            "type": "scattercarpet"
           }
          ],
          "scattergeo": [
           {
            "marker": {
             "colorbar": {
              "outlinewidth": 0,
              "ticks": ""
             }
            },
            "type": "scattergeo"
           }
          ],
          "scattergl": [
           {
            "marker": {
             "colorbar": {
              "outlinewidth": 0,
              "ticks": ""
             }
            },
            "type": "scattergl"
           }
          ],
          "scattermapbox": [
           {
            "marker": {
             "colorbar": {
              "outlinewidth": 0,
              "ticks": ""
             }
            },
            "type": "scattermapbox"
           }
          ],
          "scatterpolar": [
           {
            "marker": {
             "colorbar": {
              "outlinewidth": 0,
              "ticks": ""
             }
            },
            "type": "scatterpolar"
           }
          ],
          "scatterpolargl": [
           {
            "marker": {
             "colorbar": {
              "outlinewidth": 0,
              "ticks": ""
             }
            },
            "type": "scatterpolargl"
           }
          ],
          "scatterternary": [
           {
            "marker": {
             "colorbar": {
              "outlinewidth": 0,
              "ticks": ""
             }
            },
            "type": "scatterternary"
           }
          ],
          "surface": [
           {
            "colorbar": {
             "outlinewidth": 0,
             "ticks": ""
            },
            "colorscale": [
             [
              0,
              "#0d0887"
             ],
             [
              0.1111111111111111,
              "#46039f"
             ],
             [
              0.2222222222222222,
              "#7201a8"
             ],
             [
              0.3333333333333333,
              "#9c179e"
             ],
             [
              0.4444444444444444,
              "#bd3786"
             ],
             [
              0.5555555555555556,
              "#d8576b"
             ],
             [
              0.6666666666666666,
              "#ed7953"
             ],
             [
              0.7777777777777778,
              "#fb9f3a"
             ],
             [
              0.8888888888888888,
              "#fdca26"
             ],
             [
              1,
              "#f0f921"
             ]
            ],
            "type": "surface"
           }
          ],
          "table": [
           {
            "cells": {
             "fill": {
              "color": "#EBF0F8"
             },
             "line": {
              "color": "white"
             }
            },
            "header": {
             "fill": {
              "color": "#C8D4E3"
             },
             "line": {
              "color": "white"
             }
            },
            "type": "table"
           }
          ]
         },
         "layout": {
          "annotationdefaults": {
           "arrowcolor": "#2a3f5f",
           "arrowhead": 0,
           "arrowwidth": 1
          },
          "autotypenumbers": "strict",
          "coloraxis": {
           "colorbar": {
            "outlinewidth": 0,
            "ticks": ""
           }
          },
          "colorscale": {
           "diverging": [
            [
             0,
             "#8e0152"
            ],
            [
             0.1,
             "#c51b7d"
            ],
            [
             0.2,
             "#de77ae"
            ],
            [
             0.3,
             "#f1b6da"
            ],
            [
             0.4,
             "#fde0ef"
            ],
            [
             0.5,
             "#f7f7f7"
            ],
            [
             0.6,
             "#e6f5d0"
            ],
            [
             0.7,
             "#b8e186"
            ],
            [
             0.8,
             "#7fbc41"
            ],
            [
             0.9,
             "#4d9221"
            ],
            [
             1,
             "#276419"
            ]
           ],
           "sequential": [
            [
             0,
             "#0d0887"
            ],
            [
             0.1111111111111111,
             "#46039f"
            ],
            [
             0.2222222222222222,
             "#7201a8"
            ],
            [
             0.3333333333333333,
             "#9c179e"
            ],
            [
             0.4444444444444444,
             "#bd3786"
            ],
            [
             0.5555555555555556,
             "#d8576b"
            ],
            [
             0.6666666666666666,
             "#ed7953"
            ],
            [
             0.7777777777777778,
             "#fb9f3a"
            ],
            [
             0.8888888888888888,
             "#fdca26"
            ],
            [
             1,
             "#f0f921"
            ]
           ],
           "sequentialminus": [
            [
             0,
             "#0d0887"
            ],
            [
             0.1111111111111111,
             "#46039f"
            ],
            [
             0.2222222222222222,
             "#7201a8"
            ],
            [
             0.3333333333333333,
             "#9c179e"
            ],
            [
             0.4444444444444444,
             "#bd3786"
            ],
            [
             0.5555555555555556,
             "#d8576b"
            ],
            [
             0.6666666666666666,
             "#ed7953"
            ],
            [
             0.7777777777777778,
             "#fb9f3a"
            ],
            [
             0.8888888888888888,
             "#fdca26"
            ],
            [
             1,
             "#f0f921"
            ]
           ]
          },
          "colorway": [
           "#636efa",
           "#EF553B",
           "#00cc96",
           "#ab63fa",
           "#FFA15A",
           "#19d3f3",
           "#FF6692",
           "#B6E880",
           "#FF97FF",
           "#FECB52"
          ],
          "font": {
           "color": "#2a3f5f"
          },
          "geo": {
           "bgcolor": "white",
           "lakecolor": "white",
           "landcolor": "#E5ECF6",
           "showlakes": true,
           "showland": true,
           "subunitcolor": "white"
          },
          "hoverlabel": {
           "align": "left"
          },
          "hovermode": "closest",
          "mapbox": {
           "style": "light"
          },
          "paper_bgcolor": "white",
          "plot_bgcolor": "#E5ECF6",
          "polar": {
           "angularaxis": {
            "gridcolor": "white",
            "linecolor": "white",
            "ticks": ""
           },
           "bgcolor": "#E5ECF6",
           "radialaxis": {
            "gridcolor": "white",
            "linecolor": "white",
            "ticks": ""
           }
          },
          "scene": {
           "xaxis": {
            "backgroundcolor": "#E5ECF6",
            "gridcolor": "white",
            "gridwidth": 2,
            "linecolor": "white",
            "showbackground": true,
            "ticks": "",
            "zerolinecolor": "white"
           },
           "yaxis": {
            "backgroundcolor": "#E5ECF6",
            "gridcolor": "white",
            "gridwidth": 2,
            "linecolor": "white",
            "showbackground": true,
            "ticks": "",
            "zerolinecolor": "white"
           },
           "zaxis": {
            "backgroundcolor": "#E5ECF6",
            "gridcolor": "white",
            "gridwidth": 2,
            "linecolor": "white",
            "showbackground": true,
            "ticks": "",
            "zerolinecolor": "white"
           }
          },
          "shapedefaults": {
           "line": {
            "color": "#2a3f5f"
           }
          },
          "ternary": {
           "aaxis": {
            "gridcolor": "white",
            "linecolor": "white",
            "ticks": ""
           },
           "baxis": {
            "gridcolor": "white",
            "linecolor": "white",
            "ticks": ""
           },
           "bgcolor": "#E5ECF6",
           "caxis": {
            "gridcolor": "white",
            "linecolor": "white",
            "ticks": ""
           }
          },
          "title": {
           "x": 0.05
          },
          "xaxis": {
           "automargin": true,
           "gridcolor": "white",
           "linecolor": "white",
           "ticks": "",
           "title": {
            "standoff": 15
           },
           "zerolinecolor": "white",
           "zerolinewidth": 2
          },
          "yaxis": {
           "automargin": true,
           "gridcolor": "white",
           "linecolor": "white",
           "ticks": "",
           "title": {
            "standoff": 15
           },
           "zerolinecolor": "white",
           "zerolinewidth": 2
          }
         }
        },
        "title": {
         "text": "Al-Cu DFT-Referenced Binary Phase Diagram"
        },
        "width": 960,
        "xaxis": {
         "linecolor": "black",
         "linewidth": 2,
         "mirror": true,
         "range": [
          0,
          100
         ],
         "showline": true,
         "tickcolor": "black",
         "tickformat": ".0f",
         "ticks": "outside",
         "title": {
          "text": "Cu (at. %)"
         }
        },
        "yaxis": {
         "linecolor": "black",
         "linewidth": 2,
         "mirror": true,
         "range": [
          300,
          1180
         ],
         "showline": true,
         "tickcolor": "black",
         "ticks": "outside",
         "ticksuffix": " ",
         "title": {
          "text": "T (°C)"
         }
        }
       }
      }
     },
     "metadata": {},
     "output_type": "display_data"
    },
    {
     "name": "stdout",
     "output_type": "stream",
     "text": [
      "No arguments specified for 't_vals', setting 't_units' to 'K'\n"
     ]
    },
    {
     "data": {
      "application/vnd.plotly.v1+json": {
       "config": {
        "plotlyServerURL": "https://plot.ly"
       },
       "data": [
        {
         "mode": "lines",
         "name": "Liquid T=1357K",
         "type": "scatter",
         "x": [
          0,
          0.01,
          0.02,
          0.03,
          0.04,
          0.05,
          0.06,
          0.07,
          0.08,
          0.09,
          0.1,
          0.11,
          0.12,
          0.13,
          0.14,
          0.15,
          0.16,
          0.17,
          0.18,
          0.19,
          0.2,
          0.21,
          0.22,
          0.23,
          0.24,
          0.25,
          0.26,
          0.27,
          0.28,
          0.29,
          0.3,
          0.31,
          0.32,
          0.33,
          0.34,
          0.35000000000000003,
          0.36,
          0.37,
          0.38,
          0.39,
          0.4,
          0.41000000000000003,
          0.42,
          0.43,
          0.44,
          0.45,
          0.46,
          0.47000000000000003,
          0.48,
          0.49,
          0.5,
          0.51,
          0.52,
          0.53,
          0.54,
          0.55,
          0.56,
          0.5700000000000001,
          0.58,
          0.59,
          0.6,
          0.61,
          0.62,
          0.63,
          0.64,
          0.65,
          0.66,
          0.67,
          0.68,
          0.6900000000000001,
          0.7000000000000001,
          0.71,
          0.72,
          0.73,
          0.74,
          0.75,
          0.76,
          0.77,
          0.78,
          0.79,
          0.8,
          0.81,
          0.8200000000000001,
          0.8300000000000001,
          0.84,
          0.85,
          0.86,
          0.87,
          0.88,
          0.89,
          0.9,
          0.91,
          0.92,
          0.93,
          0.9400000000000001,
          0.9500000000000001,
          0.96,
          0.97,
          0.98,
          0.99,
          1
         ],
         "y": [
          -0.05023953501264467,
          -0.07276253966251756,
          -0.09304544304456425,
          -0.11210575780779357,
          -0.1301662821038121,
          -0.14733717187292614,
          -0.16368670445151784,
          -0.17926279744595655,
          -0.1941018959925151,
          -0.20823333194125523,
          -0.22168171824124655,
          -0.2344683750519175,
          -0.24661223269118385,
          -0.25813043140507325,
          -0.2690387354507087,
          -0.2793518282321233,
          -0.28908352835295154,
          -0.29824695141438323,
          -0.3068546335795392,
          -0.31491862756127437,
          -0.3224505783117124,
          -0.3294617835005365,
          -0.33596324241090875,
          -0.3419656958892218,
          -0.3474796592952463,
          -0.3525154499112649,
          -0.35708320991778514,
          -0.3611929257871159,
          -0.36485444475636103,
          -0.3680774888991568,
          -0.3708716672076275,
          -0.3732464860133616,
          -0.37521135801221545,
          -0.37677561010774635,
          -0.37794849024866345,
          -0.378739173404368,
          -0.3791567667975675,
          -0.37921031449271375,
          -0.3789088014225665,
          -0.3782611569217212,
          -0.37727625782485036,
          -0.37596293117819923,
          -0.3743299566051832,
          -0.372386068360451,
          -0.3701399571012805,
          -0.3676002714004565,
          -0.36477561902071126,
          -0.3616745679672406,
          -0.3583056473316613,
          -0.3546773479379384,
          -0.3507981227982344,
          -0.34667638738423323,
          -0.342320519717219,
          -0.33773886027799704,
          -0.33293971173557046,
          -0.3279313384912906,
          -0.3227219660329294,
          -0.3173197800907228,
          -0.311732925584854,
          -0.30596950535101297,
          -0.300037578627519,
          -0.2939451592839248,
          -0.28770021376695304,
          -0.2813106587348993,
          -0.2747843583461361,
          -0.26812912116087173,
          -0.26135269660762234,
          -0.2544627709566483,
          -0.24746696273151664,
          -0.24037281747648603,
          -0.2331878017809673,
          -0.22591929644207207,
          -0.21857458862117965,
          -0.21116086281913404,
          -0.20368519045526676,
          -0.19615451778544218,
          -0.1885756518303193,
          -0.18095524390235845,
          -0.17329977021224516,
          -0.16561550889317692,
          -0.15790851259172864,
          -0.15018457551770667,
          -0.14244919349439564,
          -0.1347075150626399,
          -0.12696428100255255,
          -0.11922374864398075,
          -0.11148959587870261,
          -0.10376479759605171,
          -0.096051463884963,
          -0.08835062398128146,
          -0.08066193113194735,
          -0.07298324851201304,
          -0.06531004945501799,
          -0.05763451450486066,
          -0.04994410530444729,
          -0.042219170210472945,
          -0.03442858510953659,
          -0.026520866158223744,
          -0.018402650909196235,
          -0.009867934703815459,
          0.00008400161395937631
         ]
        },
        {
         "mode": "lines",
         "name": "Liquid T=0K",
         "type": "scatter",
         "x": [
          0,
          0.01,
          0.02,
          0.03,
          0.04,
          0.05,
          0.06,
          0.07,
          0.08,
          0.09,
          0.1,
          0.11,
          0.12,
          0.13,
          0.14,
          0.15,
          0.16,
          0.17,
          0.18,
          0.19,
          0.2,
          0.21,
          0.22,
          0.23,
          0.24,
          0.25,
          0.26,
          0.27,
          0.28,
          0.29,
          0.3,
          0.31,
          0.32,
          0.33,
          0.34,
          0.35000000000000003,
          0.36,
          0.37,
          0.38,
          0.39,
          0.4,
          0.41000000000000003,
          0.42,
          0.43,
          0.44,
          0.45,
          0.46,
          0.47000000000000003,
          0.48,
          0.49,
          0.5,
          0.51,
          0.52,
          0.53,
          0.54,
          0.55,
          0.56,
          0.5700000000000001,
          0.58,
          0.59,
          0.6,
          0.61,
          0.62,
          0.63,
          0.64,
          0.65,
          0.66,
          0.67,
          0.68,
          0.6900000000000001,
          0.7000000000000001,
          0.71,
          0.72,
          0.73,
          0.74,
          0.75,
          0.76,
          0.77,
          0.78,
          0.79,
          0.8,
          0.81,
          0.8200000000000001,
          0.8300000000000001,
          0.84,
          0.85,
          0.86,
          0.87,
          0.88,
          0.89,
          0.9,
          0.91,
          0.92,
          0.93,
          0.9400000000000001,
          0.9500000000000001,
          0.96,
          0.97,
          0.98,
          0.99,
          1
         ],
         "y": [
          0.11100171011037985,
          0.11830373353169582,
          0.1251446709859174,
          0.1315342850096777,
          0.13748233813960994,
          0.1429985929123473,
          0.1480928118645229,
          0.15277475753276995,
          0.1570541924537216,
          0.160940879164011,
          0.16444458020027136,
          0.16757505809913584,
          0.17034207539723759,
          0.17275539463120976,
          0.1748247783376856,
          0.1765599890532982,
          0.17797078931468074,
          0.17906694165846648,
          0.17985820862128846,
          0.18035435273977987,
          0.180565136550574,
          0.18050032259030382,
          0.1801696733956027,
          0.17958295150310366,
          0.17874991944943996,
          0.17768033977124476,
          0.17638397500515118,
          0.17487058768779243,
          0.17314994035580164,
          0.17123179554581205,
          0.16912591579445674,
          0.16684206363836895,
          0.1643900016141818,
          0.1617794922585285,
          0.1590202981080422,
          0.15612218169935604,
          0.15309490556910327,
          0.14994823225391699,
          0.14669192429043038,
          0.1433357442152766,
          0.13988945456508886,
          0.13636281787650031,
          0.1327655966861441,
          0.12910755353065342,
          0.12539845094666144,
          0.12164805147080128,
          0.11786611763970618,
          0.11406241199000926,
          0.11024669705834378,
          0.10642873538134276,
          0.10261828949563948,
          0.09882512193786706,
          0.09505899524465868,
          0.09132967195264753,
          0.08764691459846678,
          0.08402048571874954,
          0.08046014785012905,
          0.07697566352923846,
          0.07357679529271091,
          0.07027330567717961,
          0.06707495721927771,
          0.06399151245563833,
          0.06103273392289473,
          0.05820838415768004,
          0.055528225696627374,
          0.053002021076370004,
          0.050639532833541036,
          0.048450523504773614,
          0.04644475562670099,
          0.04463199173595624,
          0.04302199436917264,
          0.04162452606298327,
          0.040449349354021356,
          0.039506226778919976,
          0.0388049208743124,
          0.03835519417683174,
          0.038166809223111206,
          0.038249528549783966,
          0.03861311469348313,
          0.039267330190841894,
          0.04022193757849349,
          0.041486699393071,
          0.04307137817120766,
          0.044985736449536594,
          0.047239536764690934,
          0.049842541653303964,
          0.052804513652008764,
          0.05613521529743854,
          0.05984440912622646,
          0.06394185767500565,
          0.06843732348040935,
          0.07334056907907067,
          0.0786613570076228,
          0.08440944980269893,
          0.09059461000093219,
          0.09722660013895579,
          0.10431518275340279,
          0.11187012038090653,
          0.11990117555810006,
          0.12841811082161664,
          0.13743068870808933
         ]
        },
        {
         "hoverinfo": "none",
         "line": {
          "color": "black",
          "width": 4
         },
         "mode": "lines",
         "showlegend": false,
         "type": "scatter",
         "x": [
          0.75,
          1,
          null,
          0.5,
          0.3333333333333333,
          null,
          0.5,
          0.6923076923076923,
          null,
          0.3333333333333333,
          0,
          null,
          0.75,
          0.6923076923076923,
          null
         ],
         "y": [
          -0.18946324000000025,
          0,
          null,
          -0.21342794800000037,
          -0.17806622999999946,
          null,
          -0.21342794800000037,
          -0.208091329807692,
          null,
          -0.17806622999999946,
          0,
          null,
          -0.18946324000000025,
          -0.208091329807692,
          null
         ]
        },
        {
         "hoverinfo": "skip",
         "mode": "text",
         "name": "Labels (stable)",
         "opacity": 1,
         "showlegend": true,
         "text": [
          "AlCu<sub>3</sub>",
          "AlCu",
          "Al<sub>2</sub>Cu",
          "Al<sub>4</sub>Cu<sub>9</sub>"
         ],
         "textposition": [
          "bottom right",
          "bottom right",
          "bottom left",
          "bottom right"
         ],
         "type": "scatter",
         "visible": true,
         "x": [
          0.758,
          0.508,
          0.3253333333333333,
          0.7003076923076923
         ],
         "y": [
          -0.20246324000000027,
          -0.22642794800000038,
          -0.19106622999999948,
          -0.221091329807692
         ]
        },
        {
         "error_y": {
          "array": [
           0,
           0,
           0,
           0,
           0,
           0
          ],
          "color": "gray",
          "thickness": 2.5,
          "type": "data",
          "width": 5
         },
         "hoverinfo": "text",
         "hoverlabel": {
          "font": {
           "size": 14
          }
         },
         "hovertext": [
          "AlCu<sub>3</sub> (mp-12802-GGA) <br> -0.189 eV/atom (Stable)",
          "Cu (mp-30-GGA) <br> 0.0 eV/atom (Stable)",
          "AlCu (mp-2500-GGA) <br> -0.213 eV/atom (Stable)",
          "Al<sub>2</sub>Cu (mp-985806-GGA) <br> -0.178 eV/atom (Stable)",
          "Al<sub>4</sub>Cu<sub>9</sub> (mp-593-GGA) <br> -0.208 eV/atom (Stable)",
          "Al (mp-134-GGA) <br> 0.0 eV/atom (Stable)"
         ],
         "marker": {
          "color": "darkgreen",
          "line": {
           "color": "black",
           "width": 2
          },
          "size": 16
         },
         "mode": "markers",
         "name": "Stable",
         "opacity": 0.99,
         "showlegend": true,
         "type": "scatter",
         "x": [
          0.75,
          1,
          0.5,
          0.3333333333333333,
          0.6923076923076923,
          0
         ],
         "y": [
          -0.18946324000000025,
          0,
          -0.21342794800000037,
          -0.17806622999999946,
          -0.208091329807692,
          0
         ]
        },
        {
         "hoverinfo": "text",
         "hoverlabel": {
          "font": {
           "size": 14
          }
         },
         "hovertext": [
          "Cu (mp-1010136-GGA) <br> 0.036 eV/atom (+0.036 eV/atom)",
          "Cu (mp-1120774-GGA) <br> 0.159 eV/atom (+0.159 eV/atom)",
          "Cu (mp-989782-GGA) <br> 0.007 eV/atom (+0.007 eV/atom)",
          "Cu (mp-989695-GGA) <br> 0.006 eV/atom (+0.006 eV/atom)",
          "Cu (mp-998890-GGA) <br> 0.037 eV/atom (+0.037 eV/atom)",
          "Cu (mp-1059259-GGA) <br> 0.143 eV/atom (+0.143 eV/atom)",
          "Al (mp-1244953-GGA) <br> 0.096 eV/atom (+0.096 eV/atom)",
          "Al (mp-1245067-GGA) <br> 0.114 eV/atom (+0.114 eV/atom)",
          "Al (mp-1245152-GGA) <br> 0.102 eV/atom (+0.102 eV/atom)",
          "Al (mp-1245129-GGA) <br> 0.095 eV/atom (+0.095 eV/atom)",
          "Al (mp-1245307-GGA) <br> 0.108 eV/atom (+0.108 eV/atom)",
          "Al (mp-2647008-GGA) <br> 0.032 eV/atom (+0.032 eV/atom)",
          "Al (mp-1183144-GGA) <br> 0.011 eV/atom (+0.011 eV/atom)",
          "Al (mp-998860-GGA) <br> 0.092 eV/atom (+0.092 eV/atom)",
          "AlCu (mp-1022721-GGA) <br> -0.139 eV/atom (+0.074 eV/atom)",
          "AlCu<sub>3</sub> (mp-1183216-GGA) <br> -0.183 eV/atom (+0.007 eV/atom)",
          "AlCu<sub>3</sub> (mp-1008555-GGA) <br> -0.181 eV/atom (+0.008 eV/atom)",
          "AlCu<sub>3</sub> (mp-12777-GGA) <br> -0.165 eV/atom (+0.025 eV/atom)",
          "AlCu<sub>4</sub> (mp-1182885-GGA) <br> -0.115 eV/atom (+0.036 eV/atom)",
          "Al<sub>2</sub>Cu (mp-12794-GGA) <br> -0.024 eV/atom (+0.154 eV/atom)",
          "Al<sub>2</sub>Cu (mp-998-GGA) <br> -0.166 eV/atom (+0.013 eV/atom)",
          "Al<sub>3</sub>Cu (mp-985825-GGA) <br> -0.09 eV/atom (+0.044 eV/atom)",
          "Al<sub>3</sub>Cu (mp-1183161-GGA) <br> -0.037 eV/atom (+0.096 eV/atom)",
          "Al<sub>3</sub>Cu<sub>2</sub> (mp-10886-GGA) <br> -0.158 eV/atom (+0.034 eV/atom)",
          "Al<sub>4</sub>Cu<sub>15</sub> (mp-1228752-GGA) <br> -0.098 eV/atom (+0.062 eV/atom)"
         ],
         "marker": {
          "color": [
           0.036,
           0.159,
           0.007,
           0.006,
           0.037,
           0.143,
           0.096,
           0.114,
           0.102,
           0.095,
           0.108,
           0.032,
           0.011,
           0.092,
           0.074,
           0.007,
           0.008,
           0.025,
           0.036,
           0.154,
           0.013,
           0.044,
           0.096,
           0.034,
           0.062
          ],
          "colorscale": [
           [
            0,
            "#fff5e3"
           ],
           [
            0.5,
            "#f24324"
           ],
           [
            1,
            "#c40000"
           ]
          ],
          "line": {
           "color": "black",
           "width": 1
          },
          "opacity": 0.8,
          "size": 7,
          "symbol": "diamond"
         },
         "mode": "markers",
         "name": "Above Hull",
         "showlegend": true,
         "type": "scatter",
         "x": [
          1,
          1,
          1,
          1,
          1,
          1,
          0,
          0,
          0,
          0,
          0,
          0,
          0,
          0,
          0.5,
          0.75,
          0.75,
          0.75,
          0.8,
          0.3333333333333333,
          0.3333333333333333,
          0.25,
          0.25,
          0.4,
          0.7894736842105263
         ],
         "y": [
          0.035708360000000106,
          0.15911679499999978,
          0.0074918249999997855,
          0.0057660850000003094,
          0.036640020000000106,
          0.14290572499999987,
          0.09572362820000023,
          0.11430868650000037,
          0.1020815508000004,
          0.09475041080000039,
          0.10754954110000028,
          0.032078224999999794,
          0.01144597249999979,
          0.09244398000000009,
          -0.13936670999999956,
          -0.18269156250000052,
          -0.18149385250000005,
          -0.164553905,
          -0.11525892450000015,
          -0.02356822666666621,
          -0.16553469833333287,
          -0.08998382249999981,
          -0.03730383749999966,
          -0.15831442399999957,
          -0.09778241578947407
         ]
        }
       ],
       "layout": {
        "annotations": [
         {
          "align": "center",
          "font": {
           "color": "#000000",
           "size": 24
          },
          "opacity": 1,
          "showarrow": false,
          "text": "Cu",
          "x": 1.03,
          "xref": "x",
          "y": -0.03,
          "yref": "y"
         },
         {
          "align": "center",
          "font": {
           "color": "#000000",
           "size": 24
          },
          "opacity": 1,
          "showarrow": false,
          "text": "Al",
          "x": -0.03,
          "xref": "x",
          "y": -0.03,
          "yref": "y"
         }
        ],
        "autosize": true,
        "coloraxis": {
         "colorbar": {
          "x": 1,
          "y": 0.05,
          "yanchor": "top"
         }
        },
        "height": 700,
        "hovermode": "closest",
        "legend": {
         "orientation": "h",
         "tracegroupgap": 7,
         "traceorder": "reversed",
         "x": 0,
         "xanchor": "left",
         "y": 1.05
        },
        "margin": {
         "b": 10,
         "l": 10,
         "pad": 0,
         "r": 10,
         "t": 0
        },
        "paper_bgcolor": "white",
        "plot_bgcolor": "white",
        "showlegend": true,
        "template": {
         "data": {
          "bar": [
           {
            "error_x": {
             "color": "#2a3f5f"
            },
            "error_y": {
             "color": "#2a3f5f"
            },
            "marker": {
             "line": {
              "color": "#E5ECF6",
              "width": 0.5
             },
             "pattern": {
              "fillmode": "overlay",
              "size": 10,
              "solidity": 0.2
             }
            },
            "type": "bar"
           }
          ],
          "barpolar": [
           {
            "marker": {
             "line": {
              "color": "#E5ECF6",
              "width": 0.5
             },
             "pattern": {
              "fillmode": "overlay",
              "size": 10,
              "solidity": 0.2
             }
            },
            "type": "barpolar"
           }
          ],
          "carpet": [
           {
            "aaxis": {
             "endlinecolor": "#2a3f5f",
             "gridcolor": "white",
             "linecolor": "white",
             "minorgridcolor": "white",
             "startlinecolor": "#2a3f5f"
            },
            "baxis": {
             "endlinecolor": "#2a3f5f",
             "gridcolor": "white",
             "linecolor": "white",
             "minorgridcolor": "white",
             "startlinecolor": "#2a3f5f"
            },
            "type": "carpet"
           }
          ],
          "choropleth": [
           {
            "colorbar": {
             "outlinewidth": 0,
             "ticks": ""
            },
            "type": "choropleth"
           }
          ],
          "contour": [
           {
            "colorbar": {
             "outlinewidth": 0,
             "ticks": ""
            },
            "colorscale": [
             [
              0,
              "#0d0887"
             ],
             [
              0.1111111111111111,
              "#46039f"
             ],
             [
              0.2222222222222222,
              "#7201a8"
             ],
             [
              0.3333333333333333,
              "#9c179e"
             ],
             [
              0.4444444444444444,
              "#bd3786"
             ],
             [
              0.5555555555555556,
              "#d8576b"
             ],
             [
              0.6666666666666666,
              "#ed7953"
             ],
             [
              0.7777777777777778,
              "#fb9f3a"
             ],
             [
              0.8888888888888888,
              "#fdca26"
             ],
             [
              1,
              "#f0f921"
             ]
            ],
            "type": "contour"
           }
          ],
          "contourcarpet": [
           {
            "colorbar": {
             "outlinewidth": 0,
             "ticks": ""
            },
            "type": "contourcarpet"
           }
          ],
          "heatmap": [
           {
            "colorbar": {
             "outlinewidth": 0,
             "ticks": ""
            },
            "colorscale": [
             [
              0,
              "#0d0887"
             ],
             [
              0.1111111111111111,
              "#46039f"
             ],
             [
              0.2222222222222222,
              "#7201a8"
             ],
             [
              0.3333333333333333,
              "#9c179e"
             ],
             [
              0.4444444444444444,
              "#bd3786"
             ],
             [
              0.5555555555555556,
              "#d8576b"
             ],
             [
              0.6666666666666666,
              "#ed7953"
             ],
             [
              0.7777777777777778,
              "#fb9f3a"
             ],
             [
              0.8888888888888888,
              "#fdca26"
             ],
             [
              1,
              "#f0f921"
             ]
            ],
            "type": "heatmap"
           }
          ],
          "heatmapgl": [
           {
            "colorbar": {
             "outlinewidth": 0,
             "ticks": ""
            },
            "colorscale": [
             [
              0,
              "#0d0887"
             ],
             [
              0.1111111111111111,
              "#46039f"
             ],
             [
              0.2222222222222222,
              "#7201a8"
             ],
             [
              0.3333333333333333,
              "#9c179e"
             ],
             [
              0.4444444444444444,
              "#bd3786"
             ],
             [
              0.5555555555555556,
              "#d8576b"
             ],
             [
              0.6666666666666666,
              "#ed7953"
             ],
             [
              0.7777777777777778,
              "#fb9f3a"
             ],
             [
              0.8888888888888888,
              "#fdca26"
             ],
             [
              1,
              "#f0f921"
             ]
            ],
            "type": "heatmapgl"
           }
          ],
          "histogram": [
           {
            "marker": {
             "pattern": {
              "fillmode": "overlay",
              "size": 10,
              "solidity": 0.2
             }
            },
            "type": "histogram"
           }
          ],
          "histogram2d": [
           {
            "colorbar": {
             "outlinewidth": 0,
             "ticks": ""
            },
            "colorscale": [
             [
              0,
              "#0d0887"
             ],
             [
              0.1111111111111111,
              "#46039f"
             ],
             [
              0.2222222222222222,
              "#7201a8"
             ],
             [
              0.3333333333333333,
              "#9c179e"
             ],
             [
              0.4444444444444444,
              "#bd3786"
             ],
             [
              0.5555555555555556,
              "#d8576b"
             ],
             [
              0.6666666666666666,
              "#ed7953"
             ],
             [
              0.7777777777777778,
              "#fb9f3a"
             ],
             [
              0.8888888888888888,
              "#fdca26"
             ],
             [
              1,
              "#f0f921"
             ]
            ],
            "type": "histogram2d"
           }
          ],
          "histogram2dcontour": [
           {
            "colorbar": {
             "outlinewidth": 0,
             "ticks": ""
            },
            "colorscale": [
             [
              0,
              "#0d0887"
             ],
             [
              0.1111111111111111,
              "#46039f"
             ],
             [
              0.2222222222222222,
              "#7201a8"
             ],
             [
              0.3333333333333333,
              "#9c179e"
             ],
             [
              0.4444444444444444,
              "#bd3786"
             ],
             [
              0.5555555555555556,
              "#d8576b"
             ],
             [
              0.6666666666666666,
              "#ed7953"
             ],
             [
              0.7777777777777778,
              "#fb9f3a"
             ],
             [
              0.8888888888888888,
              "#fdca26"
             ],
             [
              1,
              "#f0f921"
             ]
            ],
            "type": "histogram2dcontour"
           }
          ],
          "mesh3d": [
           {
            "colorbar": {
             "outlinewidth": 0,
             "ticks": ""
            },
            "type": "mesh3d"
           }
          ],
          "parcoords": [
           {
            "line": {
             "colorbar": {
              "outlinewidth": 0,
              "ticks": ""
             }
            },
            "type": "parcoords"
           }
          ],
          "pie": [
           {
            "automargin": true,
            "type": "pie"
           }
          ],
          "scatter": [
           {
            "fillpattern": {
             "fillmode": "overlay",
             "size": 10,
             "solidity": 0.2
            },
            "type": "scatter"
           }
          ],
          "scatter3d": [
           {
            "line": {
             "colorbar": {
              "outlinewidth": 0,
              "ticks": ""
             }
            },
            "marker": {
             "colorbar": {
              "outlinewidth": 0,
              "ticks": ""
             }
            },
            "type": "scatter3d"
           }
          ],
          "scattercarpet": [
           {
            "marker": {
             "colorbar": {
              "outlinewidth": 0,
              "ticks": ""
             }
            },
            "type": "scattercarpet"
           }
          ],
          "scattergeo": [
           {
            "marker": {
             "colorbar": {
              "outlinewidth": 0,
              "ticks": ""
             }
            },
            "type": "scattergeo"
           }
          ],
          "scattergl": [
           {
            "marker": {
             "colorbar": {
              "outlinewidth": 0,
              "ticks": ""
             }
            },
            "type": "scattergl"
           }
          ],
          "scattermapbox": [
           {
            "marker": {
             "colorbar": {
              "outlinewidth": 0,
              "ticks": ""
             }
            },
            "type": "scattermapbox"
           }
          ],
          "scatterpolar": [
           {
            "marker": {
             "colorbar": {
              "outlinewidth": 0,
              "ticks": ""
             }
            },
            "type": "scatterpolar"
           }
          ],
          "scatterpolargl": [
           {
            "marker": {
             "colorbar": {
              "outlinewidth": 0,
              "ticks": ""
             }
            },
            "type": "scatterpolargl"
           }
          ],
          "scatterternary": [
           {
            "marker": {
             "colorbar": {
              "outlinewidth": 0,
              "ticks": ""
             }
            },
            "type": "scatterternary"
           }
          ],
          "surface": [
           {
            "colorbar": {
             "outlinewidth": 0,
             "ticks": ""
            },
            "colorscale": [
             [
              0,
              "#0d0887"
             ],
             [
              0.1111111111111111,
              "#46039f"
             ],
             [
              0.2222222222222222,
              "#7201a8"
             ],
             [
              0.3333333333333333,
              "#9c179e"
             ],
             [
              0.4444444444444444,
              "#bd3786"
             ],
             [
              0.5555555555555556,
              "#d8576b"
             ],
             [
              0.6666666666666666,
              "#ed7953"
             ],
             [
              0.7777777777777778,
              "#fb9f3a"
             ],
             [
              0.8888888888888888,
              "#fdca26"
             ],
             [
              1,
              "#f0f921"
             ]
            ],
            "type": "surface"
           }
          ],
          "table": [
           {
            "cells": {
             "fill": {
              "color": "#EBF0F8"
             },
             "line": {
              "color": "white"
             }
            },
            "header": {
             "fill": {
              "color": "#C8D4E3"
             },
             "line": {
              "color": "white"
             }
            },
            "type": "table"
           }
          ]
         },
         "layout": {
          "annotationdefaults": {
           "arrowcolor": "#2a3f5f",
           "arrowhead": 0,
           "arrowwidth": 1
          },
          "autotypenumbers": "strict",
          "coloraxis": {
           "colorbar": {
            "outlinewidth": 0,
            "ticks": ""
           }
          },
          "colorscale": {
           "diverging": [
            [
             0,
             "#8e0152"
            ],
            [
             0.1,
             "#c51b7d"
            ],
            [
             0.2,
             "#de77ae"
            ],
            [
             0.3,
             "#f1b6da"
            ],
            [
             0.4,
             "#fde0ef"
            ],
            [
             0.5,
             "#f7f7f7"
            ],
            [
             0.6,
             "#e6f5d0"
            ],
            [
             0.7,
             "#b8e186"
            ],
            [
             0.8,
             "#7fbc41"
            ],
            [
             0.9,
             "#4d9221"
            ],
            [
             1,
             "#276419"
            ]
           ],
           "sequential": [
            [
             0,
             "#0d0887"
            ],
            [
             0.1111111111111111,
             "#46039f"
            ],
            [
             0.2222222222222222,
             "#7201a8"
            ],
            [
             0.3333333333333333,
             "#9c179e"
            ],
            [
             0.4444444444444444,
             "#bd3786"
            ],
            [
             0.5555555555555556,
             "#d8576b"
            ],
            [
             0.6666666666666666,
             "#ed7953"
            ],
            [
             0.7777777777777778,
             "#fb9f3a"
            ],
            [
             0.8888888888888888,
             "#fdca26"
            ],
            [
             1,
             "#f0f921"
            ]
           ],
           "sequentialminus": [
            [
             0,
             "#0d0887"
            ],
            [
             0.1111111111111111,
             "#46039f"
            ],
            [
             0.2222222222222222,
             "#7201a8"
            ],
            [
             0.3333333333333333,
             "#9c179e"
            ],
            [
             0.4444444444444444,
             "#bd3786"
            ],
            [
             0.5555555555555556,
             "#d8576b"
            ],
            [
             0.6666666666666666,
             "#ed7953"
            ],
            [
             0.7777777777777778,
             "#fb9f3a"
            ],
            [
             0.8888888888888888,
             "#fdca26"
            ],
            [
             1,
             "#f0f921"
            ]
           ]
          },
          "colorway": [
           "#636efa",
           "#EF553B",
           "#00cc96",
           "#ab63fa",
           "#FFA15A",
           "#19d3f3",
           "#FF6692",
           "#B6E880",
           "#FF97FF",
           "#FECB52"
          ],
          "font": {
           "color": "#2a3f5f"
          },
          "geo": {
           "bgcolor": "white",
           "lakecolor": "white",
           "landcolor": "#E5ECF6",
           "showlakes": true,
           "showland": true,
           "subunitcolor": "white"
          },
          "hoverlabel": {
           "align": "left"
          },
          "hovermode": "closest",
          "mapbox": {
           "style": "light"
          },
          "paper_bgcolor": "white",
          "plot_bgcolor": "#E5ECF6",
          "polar": {
           "angularaxis": {
            "gridcolor": "white",
            "linecolor": "white",
            "ticks": ""
           },
           "bgcolor": "#E5ECF6",
           "radialaxis": {
            "gridcolor": "white",
            "linecolor": "white",
            "ticks": ""
           }
          },
          "scene": {
           "xaxis": {
            "backgroundcolor": "#E5ECF6",
            "gridcolor": "white",
            "gridwidth": 2,
            "linecolor": "white",
            "showbackground": true,
            "ticks": "",
            "zerolinecolor": "white"
           },
           "yaxis": {
            "backgroundcolor": "#E5ECF6",
            "gridcolor": "white",
            "gridwidth": 2,
            "linecolor": "white",
            "showbackground": true,
            "ticks": "",
            "zerolinecolor": "white"
           },
           "zaxis": {
            "backgroundcolor": "#E5ECF6",
            "gridcolor": "white",
            "gridwidth": 2,
            "linecolor": "white",
            "showbackground": true,
            "ticks": "",
            "zerolinecolor": "white"
           }
          },
          "shapedefaults": {
           "line": {
            "color": "#2a3f5f"
           }
          },
          "ternary": {
           "aaxis": {
            "gridcolor": "white",
            "linecolor": "white",
            "ticks": ""
           },
           "baxis": {
            "gridcolor": "white",
            "linecolor": "white",
            "ticks": ""
           },
           "bgcolor": "#E5ECF6",
           "caxis": {
            "gridcolor": "white",
            "linecolor": "white",
            "ticks": ""
           }
          },
          "title": {
           "x": 0.05
          },
          "xaxis": {
           "automargin": true,
           "gridcolor": "white",
           "linecolor": "white",
           "ticks": "",
           "title": {
            "standoff": 15
           },
           "zerolinecolor": "white",
           "zerolinewidth": 2
          },
          "yaxis": {
           "automargin": true,
           "gridcolor": "white",
           "linecolor": "white",
           "ticks": "",
           "title": {
            "standoff": 15
           },
           "zerolinecolor": "white",
           "zerolinewidth": 2
          }
         }
        },
        "width": 960,
        "xaxis": {
         "anchor": "y",
         "gridcolor": "rgba(0,0,0,0.1)",
         "mirror": "ticks",
         "nticks": 8,
         "showgrid": true,
         "showline": true,
         "side": "bottom",
         "tickfont": {
          "size": 16
         },
         "ticks": "inside",
         "title": {
          "font": {
           "color": "#000000",
           "size": 20
          },
          "text": "Composition (fraction)"
         },
         "type": "linear",
         "zeroline": false
        },
        "yaxis": {
         "anchor": "x",
         "gridcolor": "rgba(0,0,0,0.1)",
         "mirror": "ticks",
         "showgrid": true,
         "showline": true,
         "side": "left",
         "tickfont": {
          "size": 16
         },
         "ticks": "inside",
         "title": {
          "font": {
           "color": "#000000",
           "size": 20
          },
          "text": "Formation energy (eV/atom)"
         },
         "type": "linear"
        }
       }
      }
     },
     "metadata": {},
     "output_type": "display_data"
    }
   ],
   "source": [
    "from gliquid.binary import a_sym, b_sym, c_sym, d_sym\n",
    "import matplotlib.pyplot as plt\n",
    "\n",
    "for sys_name, best_results in fitting_results.items():\n",
    "    if not all(k in best_results for k in ['L0_a', 'L0_b', 'L1_a', 'L1_b']):\n",
    "        continue\n",
    "    bl = BinaryLiquid.from_cache(sys_name, param_format=param_format)\n",
    "    bl.update_params((best_results['L0_a'], best_results['L0_b'], best_results['L1_a'], best_results['L1_b']))\n",
    "    bl.nmpath = np.array(best_results.get('nmpath', []))\n",
    "    print(f\"Best fitted parameters for {sys_name}: {[float(f'{p:.2f}') for p in bl._params]}\")\n",
    "    print(f\"MAE = {best_results['mae']:.2f}\")\n",
    "    print(\"L0 =\", bl.eqs['l0'].subs({a_sym: int(bl.get_L0_a()), b_sym: round(bl.get_L0_b(), 2)}))\n",
    "    print(\"L1 =\", bl.eqs['l1'].subs({c_sym: int(bl.get_L1_a()), d_sym: round(bl.get_L1_b(), 2)}))\n",
    "    blp = BLPlotter(bl)\n",
    "    fig = blp.get_plot('nmp', plot_a_params=True) # If not specified or False, the default plot will show the Lb params\n",
    "    plt.show() # Usually blp.show('nmp') works fine, but this is used to ensure the plot is displayed inline properly\n",
    "    blp.show('fit+liq')\n",
    "    blp.show('ch+g') # Specify specific temperatures for plotted liquid energy with t_vals and t_units arguments\n",
    "  "
   ]
  }
 ],
 "metadata": {
  "kernelspec": {
   "display_name": "gliquid-env",
   "language": "python",
   "name": "python3"
  },
  "language_info": {
   "codemirror_mode": {
    "name": "ipython",
    "version": 3
   },
   "file_extension": ".py",
   "mimetype": "text/x-python",
   "name": "python",
   "nbconvert_exporter": "python",
   "pygments_lexer": "ipython3",
   "version": "3.10.0"
  }
 },
 "nbformat": 4,
 "nbformat_minor": 4
}
