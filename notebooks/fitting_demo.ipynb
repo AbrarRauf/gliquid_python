{
 "cells": [
  {
   "cell_type": "markdown",
   "metadata": {},
   "source": [
    "This Jupyter notebook demonstrates how the Gliquid binary fitting code works, and how it can be used to fit the liquid non-ideal mixing parameters for a user-input system"
   ]
  },
  {
   "cell_type": "code",
   "execution_count": null,
   "metadata": {},
   "outputs": [],
   "source": [
    "import os\n",
    "from gliquid.binary import BinaryLiquid, BLPlotter\n",
    "from gliquid.config import data_dir\n",
    "import gliquid.load_binary_data as lbd\n",
    "\n",
    "# Set the environmental variables for Materials Project API keys.\n",
    "os.environ[\"NEW_MP_API_KEY\"] = \"YOUR API KEY HERE\"\n",
    "param_format = 'linear'   "
   ]
  },
  {
   "cell_type": "markdown",
   "metadata": {},
   "source": [
    "Now that we have loaded in the required packages and set our API keys, lets look over some of the functionality\n",
    "The `load_binary_data` script is used as a backend for loading in the data used for the liquid energy fitting algorithm\n",
    "It can load in digitized experimental data or computed DFT phase data.\n",
    "\n",
    "We include JSON files for all elemental data of a type, since those can be used for multiple binary systems.\n",
    "For a digitized binary phase diagram, the data on MPDS is in the form of **svgpaths**, which are essentially collections\n",
    "of shapes as defined by their boundaries. You can see an example [here](../data/Cu-Mg.json)\n",
    "\n",
    "<img src=\"../figures/digitized_pd_anatomy.png\" width=\"700\" height=\"500\">"
   ]
  },
  {
   "cell_type": "code",
   "execution_count": 2,
   "metadata": {},
   "outputs": [
    {
     "name": "stdout",
     "output_type": "stream",
     "text": [
      "All cached melting temperatures (K): {'Al': 933.5, 'Ag': 1234.93, 'Fe': 1811.0, 'Ti': 1943.0, 'Ni': 1728.0, 'Cr': 2180.0, 'Cu': 1357.77, 'Zr': 2127.0, 'Nb': 2750.0, 'Zn': 692.7, 'Sn': 505.1, 'Si': 1687.0, 'Ca': 1115.0, 'Na': 370.9, 'Mg': 923.0, 'K': 336.7, 'Mn': 1519.0, 'Ba': 1000.0, 'Sr': 1050.0, 'V': 2183.0, 'Rb': 312.45, 'Ce': 1071.0, 'Nd': 1294.0, 'La': 1193.0, 'Y': 1795.0, 'Co': 1768.0, 'Sc': 1814.0, 'Li': 453.65, 'Ga': 302.9, 'Pb': 600.7, 'B': 2350.0, 'Th': 2023.0, 'Pr': 1204.0, 'Sm': 1347.0, 'Gd': 1586.0, 'Dy': 1685.0, 'Er': 1802.0, 'Yb': 1092.0, 'Hf': 2506.0, 'Cs': 301.7, 'Be': 1560.0, 'U': 1408.0, 'Ta': 3290.0, 'Eu': 1095.0, 'As': 1090.0, 'Ge': 1211.4, 'W': 3687.0, 'Ho': 1747.0, 'Mo': 2895.0, 'Tb': 1629.0, 'Tl': 577.0, 'Lu': 1936.0, 'Tm': 1818.0, 'In': 429.75, 'Sb': 903.778, 'Cd': 594.219, 'Hg': 234.321, 'Se': 494.0, 'Pd': 1828.0, 'Bi': 544.556, 'Pt': 2041.4, 'Au': 1337.33, 'Os': 3306.0, 'Te': 722.66, 'Ru': 2606.0, 'Ir': 2719.0, 'Rh': 2236.0, 'Re': 3458.0, 'Pu': 913.0, 'Pm': 1315.0, 'C': 4762.0}\n",
      "All cached melting enthalpies (J/mol): {'Al': 10710.0, 'Ag': 11300.0, 'Fe': 13810.0, 'Ti': 14150.0, 'Ni': 17480.0, 'Cr': 21000.0, 'Cu': 13260.0, 'Zr': 21000.0, 'Nb': 30000.0, 'Zn': 7068.0, 'Sn': 7150.0, 'Si': 50210.0, 'Ca': 8540.0, 'Na': 2600.0, 'Mg': 8480.0, 'K': 2335.0, 'Mn': 12910.0, 'Ba': 7120.0, 'Sr': 7430.0, 'V': 21500.0, 'Rb': 2190.0, 'Ce': 6200.0, 'Nd': 7140.0, 'La': 6200.0, 'Y': 11400.0, 'Co': 16200.0, 'Sc': 14100.0, 'Li': 3000.0, 'Ga': 5585.0, 'Pb': 4774.0, 'B': 50200.0, 'Th': 13810.0, 'Pr': 6890.0, 'Sm': 8620.0, 'Gd': 10000.0, 'Dy': 11060.0, 'Er': 19900.0, 'Yb': 7660.0, 'Hf': 27200.0, 'Cs': 2090.0, 'Be': 7895.0, 'U': 9140.0, 'Ta': 36570.0, 'Eu': 9210.0, 'As': 24440.0, 'Ge': 36940.0, 'W': 52310.0, 'Ho': 17000.0, 'Mo': 37480.0, 'Tb': 10790.0, 'Tl': 4150.0, 'Lu': 22000.0, 'Tm': 16800.0, 'In': 3291.0, 'Sb': 19790.0, 'Cd': 6210.0, 'Hg': 2295.0, 'Se': 6690.0, 'Pd': 16740.0, 'Bi': 11106.0, 'Pt': 22175.0, 'Au': 12550.0, 'Os': 57850.0, 'Te': 17380.0, 'Ru': 38590.0, 'Ir': 41120.0, 'Rh': 26590.0, 'Re': 34080.0, 'Pu': 2824.0, 'Pm': 7700.0, 'C': 117400.0}\n",
      "All cached boiling temperatures (K): {'Al': 2792.15, 'Cu': 2835.15, 'Sn': 2875.15, 'Si': 3173.15, 'Sb': 1860.15, 'Ni': 3186.15, 'Fe': 3134.15, 'Ag': 2435.15, 'Pb': 2022.15, 'Zn': 1180.15, 'Co': 3200.15, 'In': 2345.15, 'Bi': 1837.15, 'Mg': 1363.15, 'Au': 3129.15, 'Ge': 3093.15, 'Ti': 3560.15, 'Pd': 3236.15, 'Nb': 5017.15, 'Mo': 4912.15, 'Zr': 4682.15, 'Cr': 2944.15, 'Te': 1261.15, 'Cd': 1040.15, 'Y': 3618.15, 'Pt': 4098.15, 'B': 4273.15, 'Ce': 3633.15, 'V': 3680.15, 'Mn': 2334.15, 'Nd': 3373.15, 'W': 5828.15, 'Gd': 3523.15, 'Hf': 4876.15, 'U': 4200.15, 'Th': 5093.15, 'Tl': 1746.15, 'Ru': 4423.15, 'Ta': 5731.15, 'Pu': 3503.15, 'La': 3737.15, 'Sc': 3103.15, 'Hg': 629.88, 'Ca': 1757.15, 'Re': 5869.15, 'Pr': 3563.15, 'Rh': 3968.15, 'Er': 3141.15, 'Li': 1615.15, 'Sm': 2076.15, 'Dy': 2840.15, 'Ho': 2973.15, 'Na': 1156.15, 'Tb': 3503.15, 'Ir': 4701.15, 'As': 887.15, 'Se': 958.15, 'Sr': 1655.15, 'Ba': 2143.15, 'Yb': 1469.15, 'Be': 2743.15, 'Os': 5285.15, 'Lu': 3675.15, 'Cs': 944.15, 'Eu': 1800.15, 'K': 1032.15, 'Tm': 2223.15, 'Rb': 961.15, 'Pm': 3273.15, 'Ga': 2481.15, 'C': 5100.15}\n",
      "\n",
      "Cu: H_fusion = 13260.0 J/mol, T_fusion = 1357.77 K, T_vaporization = 2835.15 K\n",
      "Mg: H_fusion = 8480.0 J/mol, T_fusion = 923.0 K, T_vaporization = 1363.15 K\n",
      "\n",
      "Reading MPDS json from entry at https://mpds.io/entry/C906729...\n",
      "\n",
      "Cu-Mg component data (Elt: [Hmelt, Tmelt, Tvap]): {'Cu': [13260.0, 1357.77, 2835.15], 'Mg': [8480.0, 923.0, 1363.15]}\n",
      "Cu-Mg digitized liquidus ([X, T]): [[0.000381243, 1356.77], [0.0144819, 1339.7800000000002], [0.028502800000000002, 1322.0900000000001], [0.042360800000000004, 1303.81], [0.056057800000000005, 1284.96], [0.0695957, 1265.54], [0.08297639999999999, 1245.576], [0.09620179999999999, 1225.078], [0.10927400000000001, 1204.059], [0.122194, 1182.533], [0.134965, 1160.512], [0.147588, 1138.011], [0.16006499999999999, 1115.0439999999999], [0.172398, 1091.6219999999998], [0.184588, 1067.76], [0.196639, 1043.471], [0.20855100000000001, 1018.769], [0.22010100000000002, 994.1469999999999], [0.22943999999999998, 1002.938], [0.238676, 1011.812], [0.247438, 1020.3629999999999], [0.255749, 1028.558], [0.263629, 1036.362], [0.2711, 1043.74], [0.278186, 1050.658], [0.284908, 1057.0819999999999], [0.291288, 1062.978], [0.297349, 1068.311], [0.30311299999999997, 1073.049], [0.30860299999999996, 1077.155], [0.313843, 1080.597], [0.31885600000000003, 1083.3400000000001], [0.32366799999999996, 1085.348], [0.328304, 1086.5839999999998], [0.332787, 1087.01], [0.347719, 1085.603], [0.36249299999999995, 1081.491], [0.37711599999999995, 1074.865], [0.391603, 1065.915], [0.40597, 1054.83], [0.420234, 1041.7959999999998], [0.434413, 1026.999], [0.448521, 1010.6229999999999], [0.462576, 992.8539999999999], [0.47659100000000004, 973.875], [0.49058300000000005, 953.872], [0.504567, 933.03], [0.518556, 911.533], [0.5325650000000001, 889.567], [0.546609, 867.3149999999999], [0.5607030000000001, 844.9639999999999], [0.574707, 822.939], [0.580299, 824.567], [0.586103, 826.197], [0.591833, 827.74], [0.5974929999999999, 829.1949999999999], [0.603087, 830.558], [0.608619, 831.827], [0.614094, 833.0], [0.619516, 834.073], [0.624888, 835.045], [0.6302150000000001, 835.9119999999999], [0.635502, 836.672], [0.6407510000000001, 837.323], [0.645969, 837.861], [0.6511579999999999, 838.284], [0.656323, 838.5889999999999], [0.661469, 838.774], [0.666598, 838.837], [0.6794169999999999, 838.459], [0.692016, 837.3489999999999], [0.704395, 835.5409999999999], [0.716561, 833.0699999999999], [0.728519, 829.97], [0.740278, 826.2769999999999], [0.751844, 822.025], [0.763223, 817.25], [0.7744240000000001, 811.985], [0.7854519999999999, 806.2669999999999], [0.796315, 800.129], [0.807021, 793.606], [0.8175749999999999, 786.7339999999999], [0.8279850000000001, 779.546], [0.8382590000000001, 772.079], [0.848403, 764.365], [0.858082, 756.712], [0.865344, 767.977], [0.872957, 779.429], [0.880684, 790.6949999999999], [0.888524, 801.766], [0.896474, 812.631], [0.904533, 823.281], [0.912698, 833.706], [0.920968, 843.895], [0.9293399999999999, 853.8389999999999], [0.937811, 863.528], [0.9463809999999999, 872.951], [0.955047, 882.0989999999999], [0.9638070000000001, 890.962], [0.972659, 899.53], [0.981601, 907.793], [0.99063, 915.741], [0.999619, 923.257]]\n",
      "\n",
      "Cu-Mg digitized solid phases:\n",
      "{'type': 'ss', 'name': '(Cu)', 'comp': 0.000381243, 'cbounds': [[0.000381243, 673.505], [0.0669068, 994.389]], 'tbounds': [[0.000381243, 673.505], [0.000381243, 1352.52]]}\n",
      "{'type': 'lc', 'name': 'MgCu2', 'comp': 0.332825, 'tbounds': [[0.332825, 673.15], [0.332825, 1086.657]]}\n",
      "{'type': 'lc', 'name': 'Mg2Cu', 'comp': 0.6666030000000001, 'tbounds': [[0.6666030000000001, 673.15], [0.6666030000000001, 838.482]]}\n"
     ]
    }
   ],
   "source": [
    "print(\"All cached melting temperatures (K):\", lbd.melt_temps) # File at ../data/fusion_temperatures.json\n",
    "print(\"All cached melting enthalpies (J/mol):\", lbd.melt_enthalpies) # File at ../data/fusion_enthalpies.json\n",
    "print(\"All cached boiling temperatures (K):\", lbd.boiling_temps) # File at ../data/vaporization_temperatures.json\n",
    "print()\n",
    "\n",
    "# Now, we load the Cu-Mg phase diagram JSON (../data/Cu-Mg.json) as well as lists of component data for Cu and Mg\n",
    "# This step will always print the link to the MPDS entry when it is called so the phase diagram can be viewed\n",
    "cu_mg_json, cu_mg_component_data, cu_mg_digitized_liquidus = lbd.load_mpds_data('Cu-Mg', verbose=True)\n",
    "\n",
    "print(\"Cu-Mg component data (Elt: [Hmelt, Tmelt, Tvap]):\", cu_mg_component_data)\n",
    "print(\"Cu-Mg digitized liquidus ([X, T]):\", cu_mg_digitized_liquidus)\n",
    "print()\n",
    "\n",
    "# The liquidus is parsed earlier since having a complete liquidus curve is vital for data selection. \n",
    "# Once we have identified a good phase diagram source, we also need to know the solid phases decomposition behavior\n",
    "identified_cu_mg_phases = lbd.identify_mpds_phases(cu_mg_json)\n",
    "\n",
    "# 'type'=='lc' refers to line compounds (no solid solubility) and 'type'=='ss' refers to solid solution phases\n",
    "print(\"Cu-Mg digitized solid phases:\")\n",
    "for phase in identified_cu_mg_phases:\n",
    "    print(phase)"
   ]
  },
  {
   "cell_type": "markdown",
   "metadata": {},
   "source": [
    "Next, we'll walk through how to get DFT-calculated phase data with the `load_binary_data` script"
   ]
  },
  {
   "cell_type": "code",
   "execution_count": null,
   "metadata": {},
   "outputs": [],
   "source": [
    "cu_mg_dft_ch, _ = lbd.get_dft_convexhull('Cu-Mg', verbose=True) # This returns and caches a pymatgen PhaseDiagram object\n",
    "\n",
    "# We can visualize this PhaseDiagram (convex hull of DFT T=0K compounds) using pymatgen's PDPlotter library\n",
    "from pymatgen.analysis.phase_diagram import PDPlotter\n",
    "cu_mg_pdp = PDPlotter(cu_mg_dft_ch)\n",
    "fig = cu_mg_pdp.get_plot()\n",
    "fig.update_layout(plot_bgcolor=\"white\", paper_bgcolor=\"white\") # Set a white figure background its visible in dark mode\n",
    "fig.show()"
   ]
  },
  {
   "cell_type": "markdown",
   "metadata": {},
   "source": [
    "To compare the data from both sources, we create a `BinaryLiquid` object to store all of the information.\n",
    "The `from_cache()` method auto-populates the object using the cached MPDS data and DFT-calculated data from the MP API\n",
    "\n",
    "In the event the digitized equilibrium phase data you have is not in the MPDS format, you can manually initialize \n",
    "`BinaryLiquid` objects, which is demonstrated in `adjustment_demo.ipynb`"
   ]
  },
  {
   "cell_type": "code",
   "execution_count": null,
   "metadata": {},
   "outputs": [
    {
     "name": "stdout",
     "output_type": "stream",
     "text": [
      "Cu: H_fusion = 13260.0 J/mol, T_fusion = 1357.77 K, T_vaporization = 2835.15 K\n",
      "Mg: H_fusion = 8480.0 J/mol, T_fusion = 923.0 K, T_vaporization = 1363.15 K\n",
      "\n",
      "Reading MPDS json from entry at https://mpds.io/entry/C906729...\n",
      "\n"
     ]
    }
   ],
   "source": [
    "cu_mg_system = BinaryLiquid.from_cache('Cu-Mg', param_format=param_format)\n",
    "cu_mg_plotter = BLPlotter(cu_mg_system)\n",
    "cu_mg_plotter.show('pc') # Plot a 'phase comparison' figure to display how well the calculated & digitized phases match\n",
    "\n",
    "# x-axis: Compostion of component B (Cu, atomic %)\n",
    "# y-axis: Temperature (MPDS, Kelvin) and Energy (Materials Project, eV/atom)\n",
    "# colors: Blue -> congruent melting phase, Purple -> incongruently melting phase, \n",
    "#         Yellow -> formation energy, Orange -> energy below convex hull"
   ]
  },
  {
   "cell_type": "markdown",
   "metadata": {},
   "source": [
    "Now, we have enough information to fit the **DFT-referenced liquid free energy**. \n",
    "\n",
    "When `fit_parameters()` is called, the code will identify all invariant points using the liquidus and solid phase data\n",
    "Only considering invariant points with matching DFT phases, the algorithm will narrow down the list of constraints and \n",
    "rank them in order of viability. The 'n_opts' parameter can be used to specify the maximum number of constraint \n",
    "combinations to try (default = 1).\n",
    "\n",
    "Example invariant points on a phase diagram (left) and resulting constraints obtained from the points (right)\n",
    "\n",
    "<img src=\"../figures/annotated_multi_invariant_points.png\" width=\"900\" height=\"700\"> <img src=\"../figures/invariant_reactions.png\" width=\"750\" height=\"700\">\n"
   ]
  },
  {
   "cell_type": "code",
   "execution_count": null,
   "metadata": {},
   "outputs": [],
   "source": [
    "fit_results = cu_mg_system.fit_parameters(verbose=True, n_opts=3)[0]\n",
    "\n",
    "print(\"--- Cu-Mg non-ideal mixing parameter fitting results: ---\")\n",
    "for field, value in fit_results.items():\n",
    "    if isinstance(value, float):\n",
    "        print(f'{field.upper()}: {value:.3f}')   \n",
    "\n",
    "cu_mg_plotter.show('fit+liq')\n",
    "cu_mg_plotter.show('nmp')"
   ]
  },
  {
   "cell_type": "markdown",
   "metadata": {},
   "source": [
    "The Copper-Magnesium system is our 'model system' for testing this method. Let's see how it performs on other systems"
   ]
  },
  {
   "cell_type": "code",
   "execution_count": null,
   "metadata": {},
   "outputs": [
    {
     "name": "stdout",
     "output_type": "stream",
     "text": [
      "Loading fitting results from cache\n"
     ]
    }
   ],
   "source": [
    "import json\n",
    "import numpy as np\n",
    "\n",
    "other_systems_to_fit = ['C-Nb', 'Cr-Eu', 'B-Dy', 'Ag-V', 'Al-Cu']\n",
    "cache_file = os.path.join(data_dir, f\"fit_results_cache_{param_format}\")\n",
    "\n",
    "# If results are already cached, skip the fitting of the systems. If you wish to re-run the fitting, delete the cache\n",
    "if os.path.exists(cache_file):\n",
    "    with open(cache_file, \"r\") as f:\n",
    "        print(\"Loading fitting results from cache\")\n",
    "        fitting_results = json.load(f)\n",
    "        for sys_results in fitting_results.values():\n",
    "            sys_results['nmpath'] = np.array(sys_results.get('nmpath', []))\n",
    "else:\n",
    "    fitting_results = {}\n",
    "\n",
    "    # Iterate through systems and fit non-ideal mixing parameters\n",
    "    for sys_name in other_systems_to_fit:\n",
    "        bl = BinaryLiquid.from_cache(sys_name, param_format=param_format)\n",
    "        fitting_attempts_data = bl.fit_parameters(verbose=False, n_opts=5)\n",
    "        best_fit_data = min(fitting_attempts_data, key=lambda x: x['mae'], default={})\n",
    "        fitting_results[sys_name] = best_fit_data\n",
    "\n",
    "    with open(cache_file, \"w\") as f:\n",
    "        print(\"Saving fitting results to cache\")\n",
    "        for sys_results in fitting_results.values():\n",
    "            sys_results['nmpath'] = sys_results.get('nmpath', np.array([])).tolist() # Numpy ndarray is not JSON serializable\n",
    "        json.dump(fitting_results, f)"
   ]
  },
  {
   "cell_type": "markdown",
   "metadata": {},
   "source": [
    "Once the systems are fit, display the results with the plotting code"
   ]
  },
  {
   "cell_type": "code",
   "execution_count": null,
   "metadata": {},
   "outputs": [
    {
     "name": "stdout",
     "output_type": "stream",
     "text": [
      "C: H_fusion = 117400.0 J/mol, T_fusion = 4762.0 K, T_vaporization = 5100.15 K\n",
      "Nb: H_fusion = 30000.0 J/mol, T_fusion = 2750.0 K, T_vaporization = 5017.15 K\n",
      "\n",
      "Reading MPDS json from entry at https://mpds.io/entry/C905339...\n",
      "\n",
      "Best fitted parameters for C-Nb: [-221255.82, 23.67, -108413.32, 42.47]\n",
      "MAE = 34.26\n",
      "L0 = 23.67*t - 221255\n",
      "L1 = 42.47*t - 108413\n"
     ]
    },
    {
     "data": {
      "image/png": "[encoded data removed]",
      "text/plain": [
       "<Figure size 800x500 with 3 Axes>"
      ]
     },
     "metadata": {},
     "output_type": "display_data"
    },
    {
     "data": {
      "application/vnd.plotly.v1+json": {
       "config": {
        "plotlyServerURL": "https://plot.ly"
       },
       "data": [
        {
         "line": {
          "color": "#B82E2E",
          "dash": "dash",
          "width": 4
         },
         "mode": "lines",
         "showlegend": false,
         "type": "scatter",
         "x": [
          0.0381243,
          1.87686,
          3.8245800000000005,
          5.85123,
          7.95269,
          10.1245,
          12.3627,
          14.6634,
          17.0223,
          19.4354,
          21.8983,
          24.4067,
          26.9564,
          29.5431,
          32.1626,
          34.8108,
          37.4837,
          40.155,
          41.0198,
          41.9189,
          42.8172,
          43.7143,
          44.6095,
          45.5022,
          46.3919,
          47.278,
          48.1599,
          49.037,
          49.9087,
          50.7744,
          51.63369999999999,
          52.48579999999999,
          53.3301,
          54.16620000000001,
          54.9934,
          56.4637,
          57.9009,
          59.3201,
          60.73660000000001,
          62.16579999999999,
          63.6229,
          65.1232,
          66.6821,
          68.3151,
          70.0377,
          71.8652,
          73.8132,
          75.8972,
          78.1325,
          80.5348,
          83.1194,
          85.9007,
          86.1348,
          86.3697,
          86.6043,
          86.8386,
          87.0726,
          87.3063,
          87.5398,
          87.7731,
          88.0062,
          88.2391,
          88.4719,
          88.7046,
          88.9371,
          89.1696,
          89.402,
          89.6344,
          89.8468,
          90.2825,
          90.7631,
          91.2623,
          91.7798,
          92.3151,
          92.868,
          93.4379,
          94.0246,
          94.6276,
          95.2467,
          95.8814,
          96.5313,
          97.1962,
          97.8755,
          98.569,
          99.2763,
          99.9619
         ],
         "y": [
          4492.74,
          4466.89,
          4449.81,
          4438.95,
          4431.4,
          4424.24,
          4414.53,
          4399.34,
          4375.73,
          4340.78,
          4291.55,
          4225.1,
          4138.51,
          4028.86,
          3893.22,
          3728.67,
          3532.3,
          3303.08,
          3338.75,
          3373.38,
          3405.57,
          3435.37,
          3462.79,
          3487.86,
          3510.61,
          3531.07,
          3549.26,
          3565.21,
          3578.94,
          3590.49,
          3599.88,
          3607.13,
          3612.28,
          3615.35,
          3616.37,
          3613.99,
          3606.49,
          3593.35,
          3574.05,
          3548.06,
          3514.86,
          3473.95,
          3424.8,
          3366.9,
          3299.72,
          3222.75,
          3135.47,
          3037.35,
          2927.87,
          2806.51,
          2672.75,
          2526.13,
          2515.64,
          2505.1,
          2494.55,
          2483.97,
          2473.36,
          2462.69,
          2451.95,
          2441.13,
          2430.21,
          2419.18,
          2408.02,
          2396.72,
          2385.25,
          2373.62,
          2361.8,
          2349.77,
          2338.58,
          2350.81,
          2363.17,
          2374.9,
          2386.02,
          2396.52,
          2406.4,
          2415.67,
          2424.31,
          2432.32,
          2439.72,
          2446.49,
          2452.63,
          2458.15,
          2463.04,
          2467.31,
          2470.94,
          2473.8
         ]
        },
        {
         "hovertemplate": "label=Nb6C5<br>x=%{x}<br>t=%{y}<extra></extra>",
         "legendgroup": "Nb6C5",
         "line": {
          "color": "rgb(246, 207, 113)",
          "dash": "solid",
          "width": 4
         },
         "marker": {
          "symbol": "circle"
         },
         "mode": "lines",
         "name": "Nb6C5",
         "orientation": "v",
         "showlegend": false,
         "type": "scatter",
         "x": [
          55.00000000000001,
          55.00000000000001,
          55.00000000000001,
          55.00000000000001,
          55.00000000000001,
          55.00000000000001,
          55.00000000000001,
          55.00000000000001,
          55.00000000000001,
          55.00000000000001,
          55.00000000000001,
          55.00000000000001,
          55.00000000000001,
          55.00000000000001,
          55.00000000000001,
          55.00000000000001,
          55.00000000000001,
          55.00000000000001,
          55.00000000000001,
          55.00000000000001,
          55.00000000000001,
          55.00000000000001,
          55.00000000000001,
          55.00000000000001,
          55.00000000000001,
          55.00000000000001,
          55.00000000000001,
          55.00000000000001,
          55.00000000000001,
          55.00000000000001,
          55.00000000000001,
          55.00000000000001,
          55.00000000000001,
          55.00000000000001,
          55.00000000000001,
          55.00000000000001,
          55.00000000000001,
          55.00000000000001,
          55.00000000000001
         ],
         "xaxis": "x",
         "y": [
          3396.9256087078275,
          3140.297912113679,
          3280.8465312675285,
          2979.1472012579898,
          3596.6003638018915,
          3603.4478008682745,
          3566.0156528591565,
          3578.751513885027,
          3588.7884005518886,
          3486.8818615667838,
          3510.990451506377,
          3550.513988779328,
          3532.188378621189,
          3459.839167799255,
          3429.850865147836,
          3236.589727222254,
          3189.7009661634083,
          3361.085055119449,
          3322.3717322317393,
          3088.520090917404,
          3034.5180893812153,
          3570.3478641232687,
          3581.1352807568455,
          3589.9082083575217,
          3601.13891481566,
          3603.447800868275,
          3601.0581888225483,
          3596.198427341837,
          3389.392193303842,
          3389.917974355305,
          3442.557496235886,
          3417.138292147275,
          3542.9686432955723,
          3557.607771377101,
          3526.476335802167,
          3508.1677093999074,
          3466.1982690116392,
          3488.0696860217786,
          -273.15
         ],
         "yaxis": "y"
        },
        {
         "hovertemplate": "label=Nb2C<br>x=%{x}<br>t=%{y}<extra></extra>",
         "legendgroup": "Nb2C",
         "line": {
          "color": "rgb(248, 156, 116)",
          "dash": "solid",
          "width": 4
         },
         "marker": {
          "symbol": "circle"
         },
         "mode": "lines",
         "name": "Nb2C",
         "orientation": "v",
         "showlegend": false,
         "type": "scatter",
         "x": [
          67,
          67,
          67,
          67,
          67,
          67,
          67,
          67,
          67,
          67,
          67,
          67,
          67,
          67,
          67,
          67,
          67,
          67,
          67,
          67
         ],
         "xaxis": "x",
         "y": [
          2244.078372648761,
          2244.153511664736,
          2423.0051442683757,
          2305.86734562079,
          2365.4192758993336,
          2851.1319147102317,
          2979.1472012579898,
          2584.5010247212904,
          2728.075120164258,
          2532.560687796309,
          2478.716942888581,
          2920.4387994781137,
          2887.1159052049134,
          2951.0309929668647,
          2978.838785255963,
          2682.354708379473,
          2634.461615376006,
          2812.5675038007444,
          2771.514372675724,
          -273.15
         ],
         "yaxis": "y"
        },
        {
         "hovertemplate": "x=%{x}<br>y=%{y}<extra></extra>",
         "legendgroup": "",
         "line": {
          "color": "Silver",
          "dash": "solid",
          "width": 4
         },
         "marker": {
          "symbol": "circle"
         },
         "mode": "lines",
         "name": "",
         "orientation": "v",
         "showlegend": false,
         "type": "scatter",
         "x": [
          67,
          93,
          100
         ],
         "xaxis": "x",
         "y": [
          2244.078372648761,
          2244.078372648761,
          2244.078372648761
         ],
         "yaxis": "y"
        },
        {
         "hovertemplate": "x=%{x}<br>y=%{y}<extra></extra>",
         "legendgroup": "",
         "line": {
          "color": "Silver",
          "dash": "solid",
          "width": 4
         },
         "marker": {
          "symbol": "circle"
         },
         "mode": "lines",
         "name": "",
         "orientation": "v",
         "showlegend": false,
         "type": "scatter",
         "x": [
          0,
          40,
          55.00000000000001
         ],
         "xaxis": "x",
         "y": [
          3389.392193303842,
          3389.392193303842,
          3389.392193303842
         ],
         "yaxis": "y"
        },
        {
         "hovertemplate": "x=%{x}<br>y=%{y}<extra></extra>",
         "legendgroup": "",
         "line": {
          "color": "Silver",
          "dash": "solid",
          "width": 4
         },
         "marker": {
          "symbol": "circle"
         },
         "mode": "lines",
         "name": "",
         "orientation": "v",
         "showlegend": false,
         "type": "scatter",
         "x": [
          55.00000000000001,
          67,
          76
         ],
         "xaxis": "x",
         "y": [
          2979.1472012579898,
          2979.1472012579898,
          2979.1472012579898
         ],
         "yaxis": "y"
        },
        {
         "hovertemplate": "label=L<br>x=%{x}<br>t=%{y}<extra></extra>",
         "legendgroup": "L",
         "line": {
          "color": "cornflowerblue",
          "dash": "solid",
          "width": 4
         },
         "marker": {
          "symbol": "circle"
         },
         "mode": "lines",
         "name": "L",
         "orientation": "v",
         "showlegend": false,
         "type": "scatter",
         "x": [
          0,
          1,
          2,
          3,
          4,
          5,
          6,
          7.000000000000001,
          8,
          9,
          10,
          11,
          12,
          13,
          14.000000000000002,
          15,
          16,
          17,
          18,
          19,
          20,
          21,
          22,
          23,
          24,
          25,
          26,
          27,
          28.000000000000004,
          28.999999999999996,
          30,
          31,
          32,
          33,
          34,
          35,
          36,
          37,
          38,
          39,
          40,
          41,
          42,
          43,
          44,
          45,
          46,
          47,
          48,
          49,
          50,
          51,
          52,
          53,
          54,
          55.00000000000001,
          56.00000000000001,
          56.99999999999999,
          57.99999999999999,
          59,
          60,
          61,
          62,
          63,
          64,
          65,
          66,
          67,
          68,
          69,
          70,
          71,
          72,
          73,
          74,
          75,
          76,
          77,
          78,
          79,
          80,
          81,
          82,
          83,
          84,
          85,
          86,
          87,
          88,
          89,
          90,
          91,
          92,
          93,
          94,
          95,
          96,
          97,
          98,
          99,
          100
         ],
         "xaxis": "x",
         "y": [
          4492.74,
          4471.715889361513,
          4457.284375816538,
          4444.269986831381,
          4432.2433504429155,
          4421.000637624978,
          4410.3919752715,
          4400.286254744105,
          4390.562507026621,
          4381.103428459622,
          4371.7935728057,
          4362.5185553448055,
          4353.163082006926,
          4343.608173231806,
          4333.733173884343,
          4323.412798302322,
          4312.517435496196,
          4300.9094815853205,
          4288.44668774199,
          4274.978558432225,
          4260.346256638879,
          4244.381848571407,
          4226.907592935681,
          4207.735289556685,
          4186.665706795605,
          4163.488112360745,
          4137.978621134469,
          4109.905274477472,
          4079.0202551150846,
          4045.065401670095,
          4007.7699213240226,
          3966.857897639951,
          3922.040093755944,
          3873.0186220173523,
          3819.5050251724733,
          3761.1911715865726,
          3697.7861928141688,
          3629.0062338969474,
          3554.5751675887154,
          3474.244949178623,
          3389.392193303842,
          3389.917974355305,
          3417.138292147275,
          3442.557496235886,
          3466.1982690116392,
          3488.0696860217786,
          3508.1677093999074,
          3526.476335802167,
          3542.9686432955723,
          3557.607771377101,
          3570.3478641232687,
          3581.1352807568455,
          3589.9082083575217,
          3596.6003638018915,
          3601.13891481566,
          3603.4478008682745,
          3601.0581888225483,
          3596.198427341837,
          3588.7884005518886,
          3578.751513885027,
          3566.0156528591565,
          3550.513988779328,
          3532.188378621189,
          3510.990451506377,
          3486.8818615667838,
          3459.839167799255,
          3429.850865147836,
          3396.9256087078275,
          3361.085055119449,
          3322.3717322317393,
          3280.8465312675285,
          3236.589727222254,
          3189.7009661634083,
          3140.297912113679,
          3088.520090917404,
          3034.5180893812153,
          2978.838785255963,
          2951.0309929668647,
          2920.4387994781137,
          2887.1159052049134,
          2851.1319147102317,
          2812.5675038007444,
          2771.514372675724,
          2728.075120164258,
          2682.354708379473,
          2634.461615376006,
          2584.5010247212904,
          2532.560687796309,
          2478.716942888581,
          2423.0051442683757,
          2365.4192758993336,
          2305.86734562079,
          2244.153511664736,
          2244.078372648761,
          2281.6759351550572,
          2317.6761251915573,
          2351.828652860559,
          2383.932509561446,
          2413.84137899685,
          2441.6940096773506,
          2473.7999999999997
         ],
         "yaxis": "y"
        },
        {
         "line": {
          "color": "#B82E2E",
          "dash": "dash"
         },
         "mode": "lines",
         "name": "Digitized Liquidus",
         "showlegend": true,
         "type": "scatter",
         "x": [
          null
         ],
         "y": [
          null
         ]
        },
        {
         "marker": {
          "color": "cornflowerblue"
         },
         "mode": "lines",
         "name": "Fitted Liquidus",
         "showlegend": true,
         "type": "scatter",
         "x": [
          null
         ],
         "y": [
          null
         ]
        }
       ],
       "layout": {
        "annotations": [
         {
          "borderpad": 5,
          "font": {
           "color": "black",
           "size": 18
          },
          "showarrow": false,
          "text": "Nb6C5",
          "textangle": -90,
          "x": 52.50000000000001,
          "y": 700,
          "yanchor": "bottom"
         },
         {
          "borderpad": 5,
          "font": {
           "color": "black",
           "size": 18
          },
          "showarrow": false,
          "text": "Nb2C",
          "textangle": -90,
          "x": 64.5,
          "y": 700,
          "yanchor": "bottom"
         },
         {
          "font": {
           "color": "black",
           "size": 18
          },
          "showarrow": false,
          "text": "L",
          "x": 50,
          "y": 4780
         }
        ],
        "font": {
         "size": 22
        },
        "height": 700,
        "legend": {
         "font": {
          "size": 18
         },
         "x": 0.99,
         "xanchor": "right",
         "y": 0.99,
         "yanchor": "top"
        },
        "plot_bgcolor": "white",
        "showlegend": true,
        "template": {
         "data": {
          "bar": [
           {
            "error_x": {
             "color": "#2a3f5f"
            },
            "error_y": {
             "color": "#2a3f5f"
            },
            "marker": {
             "line": {
              "color": "#E5ECF6",
              "width": 0.5
             },
             "pattern": {
              "fillmode": "overlay",
              "size": 10,
              "solidity": 0.2
             }
            },
            "type": "bar"
           }
          ],
          "barpolar": [
           {
            "marker": {
             "line": {
              "color": "#E5ECF6",
              "width": 0.5
             },
             "pattern": {
              "fillmode": "overlay",
              "size": 10,
              "solidity": 0.2
             }
            },
            "type": "barpolar"
           }
          ],
          "carpet": [
           {
            "aaxis": {
             "endlinecolor": "#2a3f5f",
             "gridcolor": "white",
             "linecolor": "white",
             "minorgridcolor": "white",
             "startlinecolor": "#2a3f5f"
            },
            "baxis": {
             "endlinecolor": "#2a3f5f",
             "gridcolor": "white",
             "linecolor": "white",
             "minorgridcolor": "white",
             "startlinecolor": "#2a3f5f"
            },
            "type": "carpet"
           }
          ],
          "choropleth": [
           {
            "colorbar": {
             "outlinewidth": 0,
             "ticks": ""
            },
            "type": "choropleth"
           }
          ],
          "contour": [
           {
            "colorbar": {
             "outlinewidth": 0,
             "ticks": ""
            },
            "colorscale": [
             [
              0,
              "#0d0887"
             ],
             [
              0.1111111111111111,
              "#46039f"
             ],
             [
              0.2222222222222222,
              "#7201a8"
             ],
             [
              0.3333333333333333,
              "#9c179e"
             ],
             [
              0.4444444444444444,
              "#bd3786"
             ],
             [
              0.5555555555555556,
              "#d8576b"
             ],
             [
              0.6666666666666666,
              "#ed7953"
             ],
             [
              0.7777777777777778,
              "#fb9f3a"
             ],
             [
              0.8888888888888888,
              "#fdca26"
             ],
             [
              1,
              "#f0f921"
             ]
            ],
            "type": "contour"
           }
          ],
          "contourcarpet": [
           {
            "colorbar": {
             "outlinewidth": 0,
             "ticks": ""
            },
            "type": "contourcarpet"
           }
          ],
          "heatmap": [
           {
            "colorbar": {
             "outlinewidth": 0,
             "ticks": ""
            },
            "colorscale": [
             [
              0,
              "#0d0887"
             ],
             [
              0.1111111111111111,
              "#46039f"
             ],
             [
              0.2222222222222222,
              "#7201a8"
             ],
             [
              0.3333333333333333,
              "#9c179e"
             ],
             [
              0.4444444444444444,
              "#bd3786"
             ],
             [
              0.5555555555555556,
              "#d8576b"
             ],
             [
              0.6666666666666666,
              "#ed7953"
             ],
             [
              0.7777777777777778,
              "#fb9f3a"
             ],
             [
              0.8888888888888888,
              "#fdca26"
             ],
             [
              1,
              "#f0f921"
             ]
            ],
            "type": "heatmap"
           }
          ],
          "heatmapgl": [
           {
            "colorbar": {
             "outlinewidth": 0,
             "ticks": ""
            },
            "colorscale": [
             [
              0,
              "#0d0887"
             ],
             [
              0.1111111111111111,
              "#46039f"
             ],
             [
              0.2222222222222222,
              "#7201a8"
             ],
             [
              0.3333333333333333,
              "#9c179e"
             ],
             [
              0.4444444444444444,
              "#bd3786"
             ],
             [
              0.5555555555555556,
              "#d8576b"
             ],
             [
              0.6666666666666666,
              "#ed7953"
             ],
             [
              0.7777777777777778,
              "#fb9f3a"
             ],
             [
              0.8888888888888888,
              "#fdca26"
             ],
             [
              1,
              "#f0f921"
             ]
            ],
            "type": "heatmapgl"
           }
          ],
          "histogram": [
           {
            "marker": {
             "pattern": {
              "fillmode": "overlay",
              "size": 10,
              "solidity": 0.2
             }
            },
            "type": "histogram"
           }
          ],
          "histogram2d": [
           {
            "colorbar": {
             "outlinewidth": 0,
             "ticks": ""
            },
            "colorscale": [
             [
              0,
              "#0d0887"
             ],
             [
              0.1111111111111111,
              "#46039f"
             ],
             [
              0.2222222222222222,
              "#7201a8"
             ],
             [
              0.3333333333333333,
              "#9c179e"
             ],
             [
              0.4444444444444444,
              "#bd3786"
             ],
             [
              0.5555555555555556,
              "#d8576b"
             ],
             [
              0.6666666666666666,
              "#ed7953"
             ],
             [
              0.7777777777777778,
              "#fb9f3a"
             ],
             [
              0.8888888888888888,
              "#fdca26"
             ],
             [
              1,
              "#f0f921"
             ]
            ],
            "type": "histogram2d"
           }
          ],
          "histogram2dcontour": [
           {
            "colorbar": {
             "outlinewidth": 0,
             "ticks": ""
            },
            "colorscale": [
             [
              0,
              "#0d0887"
             ],
             [
              0.1111111111111111,
              "#46039f"
             ],
             [
              0.2222222222222222,
              "#7201a8"
             ],
             [
              0.3333333333333333,
              "#9c179e"
             ],
             [
              0.4444444444444444,
              "#bd3786"
             ],
             [
              0.5555555555555556,
              "#d8576b"
             ],
             [
              0.6666666666666666,
              "#ed7953"
             ],
             [
              0.7777777777777778,
              "#fb9f3a"
             ],
             [
              0.8888888888888888,
              "#fdca26"
             ],
             [
              1,
              "#f0f921"
             ]
            ],
            "type": "histogram2dcontour"
           }
          ],
          "mesh3d": [
           {
            "colorbar": {
             "outlinewidth": 0,
             "ticks": ""
            },
            "type": "mesh3d"
           }
          ],
          "parcoords": [
           {
            "line": {
             "colorbar": {
              "outlinewidth": 0,
              "ticks": ""
             }
            },
            "type": "parcoords"
           }
          ],
          "pie": [
           {
            "automargin": true,
            "type": "pie"
           }
          ],
          "scatter": [
           {
            "fillpattern": {
             "fillmode": "overlay",
             "size": 10,
             "solidity": 0.2
            },
            "type": "scatter"
           }
          ],
          "scatter3d": [
           {
            "line": {
             "colorbar": {
              "outlinewidth": 0,
              "ticks": ""
             }
            },
            "marker": {
             "colorbar": {
              "outlinewidth": 0,
              "ticks": ""
             }
            },
            "type": "scatter3d"
           }
          ],
          "scattercarpet": [
           {
            "marker": {
             "colorbar": {
              "outlinewidth": 0,
              "ticks": ""
             }
            },
            "type": "scattercarpet"
           }
          ],
          "scattergeo": [
           {
            "marker": {
             "colorbar": {
              "outlinewidth": 0,
              "ticks": ""
             }
            },
            "type": "scattergeo"
           }
          ],
          "scattergl": [
           {
            "marker": {
             "colorbar": {
              "outlinewidth": 0,
              "ticks": ""
             }
            },
            "type": "scattergl"
           }
          ],
          "scattermapbox": [
           {
            "marker": {
             "colorbar": {
              "outlinewidth": 0,
              "ticks": ""
             }
            },
            "type": "scattermapbox"
           }
          ],
          "scatterpolar": [
           {
            "marker": {
             "colorbar": {
              "outlinewidth": 0,
              "ticks": ""
             }
            },
            "type": "scatterpolar"
           }
          ],
          "scatterpolargl": [
           {
            "marker": {
             "colorbar": {
              "outlinewidth": 0,
              "ticks": ""
             }
            },
            "type": "scatterpolargl"
           }
          ],
          "scatterternary": [
           {
            "marker": {
             "colorbar": {
              "outlinewidth": 0,
              "ticks": ""
             }
            },
            "type": "scatterternary"
           }
          ],
          "surface": [
           {
            "colorbar": {
             "outlinewidth": 0,
             "ticks": ""
            },
            "colorscale": [
             [
              0,
              "#0d0887"
             ],
             [
              0.1111111111111111,
              "#46039f"
             ],
             [
              0.2222222222222222,
              "#7201a8"
             ],
             [
              0.3333333333333333,
              "#9c179e"
             ],
             [
              0.4444444444444444,
              "#bd3786"
             ],
             [
              0.5555555555555556,
              "#d8576b"
             ],
             [
              0.6666666666666666,
              "#ed7953"
             ],
             [
              0.7777777777777778,
              "#fb9f3a"
             ],
             [
              0.8888888888888888,
              "#fdca26"
             ],
             [
              1,
              "#f0f921"
             ]
            ],
            "type": "surface"
           }
          ],
          "table": [
           {
            "cells": {
             "fill": {
              "color": "#EBF0F8"
             },
             "line": {
              "color": "white"
             }
            },
            "header": {
             "fill": {
              "color": "#C8D4E3"
             },
             "line": {
              "color": "white"
             }
            },
            "type": "table"
           }
          ]
         },
         "layout": {
          "annotationdefaults": {
           "arrowcolor": "#2a3f5f",
           "arrowhead": 0,
           "arrowwidth": 1
          },
          "autotypenumbers": "strict",
          "coloraxis": {
           "colorbar": {
            "outlinewidth": 0,
            "ticks": ""
           }
          },
          "colorscale": {
           "diverging": [
            [
             0,
             "#8e0152"
            ],
            [
             0.1,
             "#c51b7d"
            ],
            [
             0.2,
             "#de77ae"
            ],
            [
             0.3,
             "#f1b6da"
            ],
            [
             0.4,
             "#fde0ef"
            ],
            [
             0.5,
             "#f7f7f7"
            ],
            [
             0.6,
             "#e6f5d0"
            ],
            [
             0.7,
             "#b8e186"
            ],
            [
             0.8,
             "#7fbc41"
            ],
            [
             0.9,
             "#4d9221"
            ],
            [
             1,
             "#276419"
            ]
           ],
           "sequential": [
            [
             0,
             "#0d0887"
            ],
            [
             0.1111111111111111,
             "#46039f"
            ],
            [
             0.2222222222222222,
             "#7201a8"
            ],
            [
             0.3333333333333333,
             "#9c179e"
            ],
            [
             0.4444444444444444,
             "#bd3786"
            ],
            [
             0.5555555555555556,
             "#d8576b"
            ],
            [
             0.6666666666666666,
             "#ed7953"
            ],
            [
             0.7777777777777778,
             "#fb9f3a"
            ],
            [
             0.8888888888888888,
             "#fdca26"
            ],
            [
             1,
             "#f0f921"
            ]
           ],
           "sequentialminus": [
            [
             0,
             "#0d0887"
            ],
            [
             0.1111111111111111,
             "#46039f"
            ],
            [
             0.2222222222222222,
             "#7201a8"
            ],
            [
             0.3333333333333333,
             "#9c179e"
            ],
            [
             0.4444444444444444,
             "#bd3786"
            ],
            [
             0.5555555555555556,
             "#d8576b"
            ],
            [
             0.6666666666666666,
             "#ed7953"
            ],
            [
             0.7777777777777778,
             "#fb9f3a"
            ],
            [
             0.8888888888888888,
             "#fdca26"
            ],
            [
             1,
             "#f0f921"
            ]
           ]
          },
          "colorway": [
           "#636efa",
           "#EF553B",
           "#00cc96",
           "#ab63fa",
           "#FFA15A",
           "#19d3f3",
           "#FF6692",
           "#B6E880",
           "#FF97FF",
           "#FECB52"
          ],
          "font": {
           "color": "#2a3f5f"
          },
          "geo": {
           "bgcolor": "white",
           "lakecolor": "white",
           "landcolor": "#E5ECF6",
           "showlakes": true,
           "showland": true,
           "subunitcolor": "white"
          },
          "hoverlabel": {
           "align": "left"
          },
          "hovermode": "closest",
          "mapbox": {
           "style": "light"
          },
          "paper_bgcolor": "white",
          "plot_bgcolor": "#E5ECF6",
          "polar": {
           "angularaxis": {
            "gridcolor": "white",
            "linecolor": "white",
            "ticks": ""
           },
           "bgcolor": "#E5ECF6",
           "radialaxis": {
            "gridcolor": "white",
            "linecolor": "white",
            "ticks": ""
           }
          },
          "scene": {
           "xaxis": {
            "backgroundcolor": "#E5ECF6",
            "gridcolor": "white",
            "gridwidth": 2,
            "linecolor": "white",
            "showbackground": true,
            "ticks": "",
            "zerolinecolor": "white"
           },
           "yaxis": {
            "backgroundcolor": "#E5ECF6",
            "gridcolor": "white",
            "gridwidth": 2,
            "linecolor": "white",
            "showbackground": true,
            "ticks": "",
            "zerolinecolor": "white"
           },
           "zaxis": {
            "backgroundcolor": "#E5ECF6",
            "gridcolor": "white",
            "gridwidth": 2,
            "linecolor": "white",
            "showbackground": true,
            "ticks": "",
            "zerolinecolor": "white"
           }
          },
          "shapedefaults": {
           "line": {
            "color": "#2a3f5f"
           }
          },
          "ternary": {
           "aaxis": {
            "gridcolor": "white",
            "linecolor": "white",
            "ticks": ""
           },
           "baxis": {
            "gridcolor": "white",
            "linecolor": "white",
            "ticks": ""
           },
           "bgcolor": "#E5ECF6",
           "caxis": {
            "gridcolor": "white",
            "linecolor": "white",
            "ticks": ""
           }
          },
          "title": {
           "x": 0.05
          },
          "xaxis": {
           "automargin": true,
           "gridcolor": "white",
           "linecolor": "white",
           "ticks": "",
           "title": {
            "standoff": 15
           },
           "zerolinecolor": "white",
           "zerolinewidth": 2
          },
          "yaxis": {
           "automargin": true,
           "gridcolor": "white",
           "linecolor": "white",
           "ticks": "",
           "title": {
            "standoff": 15
           },
           "zerolinecolor": "white",
           "zerolinewidth": 2
          }
         }
        },
        "title": {
         "text": "C-Nb DFT-Referenced Binary Phase Diagram"
        },
        "width": 960,
        "xaxis": {
         "linecolor": "black",
         "linewidth": 2,
         "mirror": true,
         "range": [
          0,
          100
         ],
         "showline": true,
         "tickcolor": "black",
         "tickformat": ".0f",
         "ticks": "outside",
         "title": {
          "text": "Nb (at. %)"
         }
        },
        "yaxis": {
         "linecolor": "black",
         "linewidth": 2,
         "mirror": true,
         "range": [
          700,
          5100
         ],
         "showline": true,
         "tickcolor": "black",
         "ticks": "outside",
         "ticksuffix": " ",
         "title": {
          "text": "T (°C)"
         }
        }
       }
      }
     },
     "metadata": {},
     "output_type": "display_data"
    },
    {
     "name": "stdout",
     "output_type": "stream",
     "text": [
      "No arguments specified for 't_vals', setting 't_units' to 'K'\n"
     ]
    },
    {
     "data": {
      "application/vnd.plotly.v1+json": {
       "config": {
        "plotlyServerURL": "https://plot.ly"
       },
       "data": [
        {
         "mode": "lines",
         "name": "Liquid T=3887K",
         "type": "scatter",
         "x": [
          0,
          0.01,
          0.02,
          0.03,
          0.04,
          0.05,
          0.06,
          0.07,
          0.08,
          0.09,
          0.1,
          0.11,
          0.12,
          0.13,
          0.14,
          0.15,
          0.16,
          0.17,
          0.18,
          0.19,
          0.2,
          0.21,
          0.22,
          0.23,
          0.24,
          0.25,
          0.26,
          0.27,
          0.28,
          0.29,
          0.3,
          0.31,
          0.32,
          0.33,
          0.34,
          0.35000000000000003,
          0.36,
          0.37,
          0.38,
          0.39,
          0.4,
          0.41000000000000003,
          0.42,
          0.43,
          0.44,
          0.45,
          0.46,
          0.47000000000000003,
          0.48,
          0.49,
          0.5,
          0.51,
          0.52,
          0.53,
          0.54,
          0.55,
          0.56,
          0.5700000000000001,
          0.58,
          0.59,
          0.6,
          0.61,
          0.62,
          0.63,
          0.64,
          0.65,
          0.66,
          0.67,
          0.68,
          0.6900000000000001,
          0.7000000000000001,
          0.71,
          0.72,
          0.73,
          0.74,
          0.75,
          0.76,
          0.77,
          0.78,
          0.79,
          0.8,
          0.81,
          0.8200000000000001,
          0.8300000000000001,
          0.84,
          0.85,
          0.86,
          0.87,
          0.88,
          0.89,
          0.9,
          0.91,
          0.92,
          0.93,
          0.9400000000000001,
          0.9500000000000001,
          0.96,
          0.97,
          0.98,
          0.99,
          1
         ],
         "y": [
          0.22426247382774012,
          0.1944116376100888,
          0.16916076858143747,
          0.14562622773557418,
          0.12320089763928971,
          0.10160033324662093,
          0.0806600540341998,
          0.06027390151096907,
          0.04036858096997909,
          0.02089117426663984,
          0.0018022809157786483,
          -0.016928067115396496,
          -0.03532299197253455,
          -0.05340048800094437,
          -0.07117460791855033,
          -0.08865630825541972,
          -0.10585406825352475,
          -0.12277435334958253,
          -0.1394219691348323,
          -0.15580033631957466,
          -0.17191170755173696,
          -0.1877573406616487,
          -0.20333763872820923,
          -0.2186522645180658,
          -0.23370023487387337,
          -0.24847999922989636,
          -0.26298950542772687,
          -0.27722625527069483,
          -0.29118735171204096,
          -0.3048695391645051,
          -0.3182692381100288,
          -0.33138257495145307,
          -0.344205407864772,
          -0.3567333492672567,
          -0.3689617854038672,
          -0.3808858934646512,
          -0.3925006565739759,
          -0.4038008769344672,
          -0.4147811873614128,
          -0.42543606140482865,
          -0.4357598222246124,
          -0.4457466503578348,
          -0.45539059049517605,
          -0.464685557364952,
          -0.47362534080741303,
          -0.4822036101085017,
          -0.4904139176505871,
          -0.49824970192747864,
          -0.5057042899620072,
          -0.5127708991563351,
          -0.5194426385977718,
          -0.525712509836002,
          -0.5315734071411228,
          -0.5370181172456069,
          -0.5420393185670737,
          -0.5466295799024743,
          -0.5507813585777808,
          -0.5544869980304065,
          -0.5577387247941906,
          -0.5605286448486645,
          -0.5628487392852943,
          -0.5646908592331816,
          -0.5660467199750381,
          -0.5669078941707472,
          -0.5672658040900752,
          -0.5671117127375164,
          -0.566436713730227,
          -0.5652317197636213,
          -0.5634874494674336,
          -0.5611944124164856,
          -0.5583428920132883,
          -0.55492292590163,
          -0.5509242834984506,
          -0.5463364401415911,
          -0.5411485472380934,
          -0.5353493976544984,
          -0.5289273854072586,
          -0.5218704584745634,
          -0.5141660632419303,
          -0.5058010786864863,
          -0.49676173786136607,
          -0.4870335335074523,
          -0.4766011036141972,
          -0.4654480913534552,
          -0.45355697183470817,
          -0.4409088352864981,
          -0.42748311209188994,
          -0.41325721882869354,
          -0.39820609478662344,
          -0.3823015830675371,
          -0.3655115851459076,
          -0.3477988746958679,
          -0.32911937950440784,
          -0.30941959490613663,
          -0.2886324985762463,
          -0.2666706916275689,
          -0.24341391138882953,
          -0.21868357315644135,
          -0.19218112770422352,
          -0.1632853534187485,
          -0.12909850711358617
         ]
        },
        {
         "mode": "lines",
         "name": "Liquid T=0K",
         "type": "scatter",
         "x": [
          0,
          0.01,
          0.02,
          0.03,
          0.04,
          0.05,
          0.06,
          0.07,
          0.08,
          0.09,
          0.1,
          0.11,
          0.12,
          0.13,
          0.14,
          0.15,
          0.16,
          0.17,
          0.18,
          0.19,
          0.2,
          0.21,
          0.22,
          0.23,
          0.24,
          0.25,
          0.26,
          0.27,
          0.28,
          0.29,
          0.3,
          0.31,
          0.32,
          0.33,
          0.34,
          0.35000000000000003,
          0.36,
          0.37,
          0.38,
          0.39,
          0.4,
          0.41000000000000003,
          0.42,
          0.43,
          0.44,
          0.45,
          0.46,
          0.47000000000000003,
          0.48,
          0.49,
          0.5,
          0.51,
          0.52,
          0.53,
          0.54,
          0.55,
          0.56,
          0.5700000000000001,
          0.58,
          0.59,
          0.6,
          0.61,
          0.62,
          0.63,
          0.64,
          0.65,
          0.66,
          0.67,
          0.68,
          0.6900000000000001,
          0.7000000000000001,
          0.71,
          0.72,
          0.73,
          0.74,
          0.75,
          0.76,
          0.77,
          0.78,
          0.79,
          0.8,
          0.81,
          0.8200000000000001,
          0.8300000000000001,
          0.84,
          0.85,
          0.86,
          0.87,
          0.88,
          0.89,
          0.9,
          0.91,
          0.92,
          0.93,
          0.9400000000000001,
          0.9500000000000001,
          0.96,
          0.97,
          0.98,
          0.99,
          1
         ],
         "y": [
          1.21676944602788,
          1.1741072845467506,
          1.1325644493537261,
          1.0921274569035742,
          1.0527828236510626,
          1.0145170660509586,
          0.9773167005580308,
          0.941168243627046,
          0.9060582117127726,
          0.871973121269978,
          0.8388994887534298,
          0.8068238306178959,
          0.7757326633181442,
          0.7456125033089419,
          0.7164498670450571,
          0.6882312709812574,
          0.6609432315723105,
          0.634572265272984,
          0.6091048885380459,
          0.5845276178222637,
          0.5608269695804052,
          0.5379894602672382,
          0.5160016063375302,
          0.494849924246049,
          0.4745209304475622,
          0.45500114139683795,
          0.43627707354864326,
          0.4183352433577467,
          0.4011621672789151,
          0.38474436176691684,
          0.3690683432765191,
          0.3541206282624901,
          0.3398877331795973,
          0.3263561744826084,
          0.313512468626291,
          0.3013431320654132,
          0.2898346812547423,
          0.27897363264904623,
          0.2687465027030928,
          0.25913980787164936,
          0.250140064609484,
          0.24173378937136414,
          0.23390749861205784,
          0.22664770878633242,
          0.21994093634895578,
          0.21377369775469576,
          0.20813250945831968,
          0.20300388791459587,
          0.19837434957829142,
          0.1942304109041744,
          0.1905585883470125,
          0.1873453983615732,
          0.18457735740262454,
          0.18224098192493388,
          0.18032278838326932,
          0.17880929323239825,
          0.17768701292708855,
          0.17694246392210783,
          0.17656216267222397,
          0.17653262563220437,
          0.17684036925681723,
          0.17747191000082985,
          0.17841376431901007,
          0.1796524486661255,
          0.18117447949694432,
          0.18296637326623347,
          0.1850146464287612,
          0.1873058154392952,
          0.18982639675260288,
          0.1925629068234523,
          0.19550186210661108,
          0.1986297790568466,
          0.20193317412892717,
          0.20539856377761997,
          0.209012464457693,
          0.21276139262391403,
          0.21663186473105045,
          0.2206103972338703,
          0.224683506587141,
          0.2288377092456305,
          0.23305952166410643,
          0.2373354602973366,
          0.24165204160008855,
          0.24599578202713002,
          0.2503531980332286,
          0.25471080607315244,
          0.25905512260166885,
          0.26337266407354587,
          0.26764994694355093,
          0.2718734876664517,
          0.27602980269701616,
          0.2801054084900118,
          0.2840868215002066,
          0.28796055818236804,
          0.2917131349912637,
          0.29533106838166173,
          0.2988008748083293,
          0.3021090707260345,
          0.3052421725895451,
          0.3081866968536286,
          0.3109291599730528
         ]
        },
        {
         "hoverinfo": "none",
         "line": {
          "color": "black",
          "width": 4
         },
         "mode": "lines",
         "showlegend": false,
         "type": "scatter",
         "x": [
          0.6666666666666666,
          1,
          null,
          0.6666666666666666,
          0.5454545454545454,
          null,
          0.5454545454545454,
          0,
          null
         ],
         "y": [
          -0.4660315325000006,
          0,
          null,
          -0.4660315325000006,
          -0.5445969988636367,
          null,
          -0.5445969988636367,
          0,
          null
         ]
        },
        {
         "hoverinfo": "skip",
         "mode": "text",
         "name": "Labels (stable)",
         "opacity": 1,
         "showlegend": true,
         "text": [
          "Nb<sub>2</sub>C",
          "Nb<sub>6</sub>C<sub>5</sub>"
         ],
         "textposition": [
          "bottom right",
          "bottom right"
         ],
         "type": "scatter",
         "visible": true,
         "x": [
          0.6746666666666666,
          0.5534545454545454
         ],
         "y": [
          -0.47903153250000063,
          -0.5575969988636367
         ]
        },
        {
         "error_y": {
          "array": [
           0,
           0,
           0,
           0
          ],
          "color": "gray",
          "thickness": 2.5,
          "type": "data",
          "width": 5
         },
         "hoverinfo": "text",
         "hoverlabel": {
          "font": {
           "size": 14
          }
         },
         "hovertext": [
          "Nb<sub>2</sub>C (mp-569989-GGA) <br> -0.466 eV/atom (Stable)",
          "Nb (mp-75-GGA) <br> 0.0 eV/atom (Stable)",
          "Nb<sub>6</sub>C<sub>5</sub> (mp-2760-GGA) <br> -0.545 eV/atom (Stable)",
          "C (mp-2516584-GGA) <br> 0.0 eV/atom (Stable)"
         ],
         "marker": {
          "color": "darkgreen",
          "line": {
           "color": "black",
           "width": 2
          },
          "size": 16
         },
         "mode": "markers",
         "name": "Stable",
         "opacity": 0.99,
         "showlegend": true,
         "type": "scatter",
         "x": [
          0.6666666666666666,
          1,
          0.5454545454545454,
          0
         ],
         "y": [
          -0.4660315325000006,
          0,
          -0.5445969988636367,
          0
         ]
        },
        {
         "hoverinfo": "text",
         "hoverlabel": {
          "font": {
           "size": 14
          }
         },
         "hovertext": [
          "C (mp-2647017-GGA) <br> 0.178 eV/atom (+0.178 eV/atom)",
          "C (mp-632329-GGA) <br> 0.014 eV/atom (+0.014 eV/atom)",
          "C (mp-990424-GGA) <br> 0.01 eV/atom (+0.01 eV/atom)",
          "C (mp-569416-GGA) <br> 0.03 eV/atom (+0.03 eV/atom)",
          "C (mp-569517-GGA) <br> 0.147 eV/atom (+0.147 eV/atom)",
          "C (mp-169-GGA) <br> 0.003 eV/atom (+0.003 eV/atom)",
          "C (mp-569304-GGA) <br> 0.002 eV/atom (+0.002 eV/atom)",
          "C (mp-569567-GGA) <br> 0.146 eV/atom (+0.146 eV/atom)",
          "C (mp-1040425-GGA) <br> 0.009 eV/atom (+0.009 eV/atom)",
          "C (mp-568806-GGA) <br> 0.012 eV/atom (+0.012 eV/atom)",
          "C (mp-990448-GGA) <br> 0.009 eV/atom (+0.009 eV/atom)",
          "C (mp-616440-GGA) <br> 0.143 eV/atom (+0.143 eV/atom)",
          "C (mp-997182-GGA) <br> 0.01 eV/atom (+0.01 eV/atom)",
          "C (mp-48-GGA) <br> 0.008 eV/atom (+0.008 eV/atom)",
          "C (mp-606949-GGA) <br> 0.01 eV/atom (+0.01 eV/atom)",
          "C (mp-611426-GGA) <br> 0.148 eV/atom (+0.148 eV/atom)",
          "C (mp-611448-GGA) <br> 0.144 eV/atom (+0.144 eV/atom)",
          "C (mp-47-GGA) <br> 0.163 eV/atom (+0.163 eV/atom)",
          "C (mp-66-GGA) <br> 0.138 eV/atom (+0.138 eV/atom)",
          "C (mp-568286-GGA) <br> 0.008 eV/atom (+0.008 eV/atom)",
          "C (mp-568363-GGA) <br> 0.008 eV/atom (+0.008 eV/atom)",
          "C (mp-937760-GGA) <br> 0.006 eV/atom (+0.006 eV/atom)",
          "C (mp-1096869-GGA) <br> 0.118 eV/atom (+0.118 eV/atom)",
          "Nb (mp-1094120-GGA) <br> 0.19 eV/atom (+0.19 eV/atom)",
          "Nb (mp-1104341-GGA) <br> 0.023 eV/atom (+0.023 eV/atom)",
          "NbC (mp-1094093-GGA) <br> -0.354 eV/atom (+0.146 eV/atom)",
          "NbC (mp-999388-GGA) <br> -0.331 eV/atom (+0.169 eV/atom)",
          "NbC (mp-910-GGA) <br> -0.458 eV/atom (+0.041 eV/atom)",
          "Nb<sub>2</sub>C (mp-2318-GGA) <br> -0.448 eV/atom (+0.018 eV/atom)",
          "Nb<sub>4</sub>C<sub>3</sub> (mp-1220501-GGA) <br> -0.439 eV/atom (+0.088 eV/atom)",
          "Nb<sub>4</sub>C<sub>3</sub> (mp-1220515-GGA) <br> -0.474 eV/atom (+0.054 eV/atom)",
          "Nb<sub>4</sub>C<sub>3</sub> (mp-15660-GGA) <br> -0.361 eV/atom (+0.167 eV/atom)",
          "Nb<sub>10</sub>C<sub>7</sub> (mp-32679-GGA) <br> -0.477 eV/atom (+0.04 eV/atom)",
          "Nb<sub>39</sub>C<sub>34</sub> (mp-1173628-GGA) <br> -0.445 eV/atom (+0.088 eV/atom)"
         ],
         "marker": {
          "color": [
           0.178,
           0.014,
           0.01,
           0.03,
           0.147,
           0.003,
           0.002,
           0.146,
           0.009,
           0.012,
           0.009,
           0.143,
           0.01,
           0.008,
           0.01,
           0.148,
           0.144,
           0.163,
           0.138,
           0.008,
           0.008,
           0.006,
           0.118,
           0.19,
           0.023,
           0.146,
           0.169,
           0.041,
           0.018,
           0.088,
           0.054,
           0.167,
           0.04,
           0.088
          ],
          "colorscale": [
           [
            0,
            "#fff5e3"
           ],
           [
            0.5,
            "#f24324"
           ],
           [
            1,
            "#c40000"
           ]
          ],
          "line": {
           "color": "black",
           "width": 1
          },
          "opacity": 0.8,
          "size": 7,
          "symbol": "diamond"
         },
         "mode": "markers",
         "name": "Above Hull",
         "showlegend": true,
         "type": "scatter",
         "x": [
          0,
          0,
          0,
          0,
          0,
          0,
          0,
          0,
          0,
          0,
          0,
          0,
          0,
          0,
          0,
          0,
          0,
          0,
          0,
          0,
          0,
          0,
          0,
          1,
          1,
          0.5,
          0.5,
          0.5,
          0.6666666666666666,
          0.5714285714285714,
          0.5714285714285714,
          0.5714285714285714,
          0.5882352941176471,
          0.5342465753424658
         ],
         "y": [
          0.1775720039999996,
          0.014112057500000219,
          0.009772577499999713,
          0.030187767499999296,
          0.14660233549999901,
          0.003222027499999669,
          0.001884792499998511,
          0.14624580607142793,
          0.009480437499998828,
          0.011936282499998896,
          0.009136742499999073,
          0.14304164124999907,
          0.00964061999999899,
          0.008368335000000116,
          0.010240093333332348,
          0.1477018512499999,
          0.14449249916666554,
          0.16340130499999894,
          0.13829732750000012,
          0.008188829999999925,
          0.008253912499998961,
          0.006056227500000233,
          0.11787022052816878,
          0.1897482850000003,
          0.023213351428570457,
          -0.3535574012500007,
          -0.3306534237500003,
          -0.458181798750001,
          -0.4479173091666671,
          -0.4393443603571439,
          -0.4736514703571442,
          -0.3611307103571428,
          -0.4770707507352938,
          -0.4454049510273974
         ]
        }
       ],
       "layout": {
        "annotations": [
         {
          "align": "center",
          "font": {
           "color": "#000000",
           "size": 24
          },
          "opacity": 1,
          "showarrow": false,
          "text": "Nb",
          "x": 1.03,
          "xref": "x",
          "y": -0.03,
          "yref": "y"
         },
         {
          "align": "center",
          "font": {
           "color": "#000000",
           "size": 24
          },
          "opacity": 1,
          "showarrow": false,
          "text": "C",
          "x": -0.03,
          "xref": "x",
          "y": -0.03,
          "yref": "y"
         }
        ],
        "autosize": true,
        "coloraxis": {
         "colorbar": {
          "x": 1,
          "y": 0.05,
          "yanchor": "top"
         }
        },
        "height": 700,
        "hovermode": "closest",
        "legend": {
         "orientation": "h",
         "tracegroupgap": 7,
         "traceorder": "reversed",
         "x": 0,
         "xanchor": "left",
         "y": 1.05
        },
        "margin": {
         "b": 10,
         "l": 10,
         "pad": 0,
         "r": 10,
         "t": 0
        },
        "paper_bgcolor": "white",
        "plot_bgcolor": "white",
        "showlegend": true,
        "template": {
         "data": {
          "bar": [
           {
            "error_x": {
             "color": "#2a3f5f"
            },
            "error_y": {
             "color": "#2a3f5f"
            },
            "marker": {
             "line": {
              "color": "#E5ECF6",
              "width": 0.5
             },
             "pattern": {
              "fillmode": "overlay",
              "size": 10,
              "solidity": 0.2
             }
            },
            "type": "bar"
           }
          ],
          "barpolar": [
           {
            "marker": {
             "line": {
              "color": "#E5ECF6",
              "width": 0.5
             },
             "pattern": {
              "fillmode": "overlay",
              "size": 10,
              "solidity": 0.2
             }
            },
            "type": "barpolar"
           }
          ],
          "carpet": [
           {
            "aaxis": {
             "endlinecolor": "#2a3f5f",
             "gridcolor": "white",
             "linecolor": "white",
             "minorgridcolor": "white",
             "startlinecolor": "#2a3f5f"
            },
            "baxis": {
             "endlinecolor": "#2a3f5f",
             "gridcolor": "white",
             "linecolor": "white",
             "minorgridcolor": "white",
             "startlinecolor": "#2a3f5f"
            },
            "type": "carpet"
           }
          ],
          "choropleth": [
           {
            "colorbar": {
             "outlinewidth": 0,
             "ticks": ""
            },
            "type": "choropleth"
           }
          ],
          "contour": [
           {
            "colorbar": {
             "outlinewidth": 0,
             "ticks": ""
            },
            "colorscale": [
             [
              0,
              "#0d0887"
             ],
             [
              0.1111111111111111,
              "#46039f"
             ],
             [
              0.2222222222222222,
              "#7201a8"
             ],
             [
              0.3333333333333333,
              "#9c179e"
             ],
             [
              0.4444444444444444,
              "#bd3786"
             ],
             [
              0.5555555555555556,
              "#d8576b"
             ],
             [
              0.6666666666666666,
              "#ed7953"
             ],
             [
              0.7777777777777778,
              "#fb9f3a"
             ],
             [
              0.8888888888888888,
              "#fdca26"
             ],
             [
              1,
              "#f0f921"
             ]
            ],
            "type": "contour"
           }
          ],
          "contourcarpet": [
           {
            "colorbar": {
             "outlinewidth": 0,
             "ticks": ""
            },
            "type": "contourcarpet"
           }
          ],
          "heatmap": [
           {
            "colorbar": {
             "outlinewidth": 0,
             "ticks": ""
            },
            "colorscale": [
             [
              0,
              "#0d0887"
             ],
             [
              0.1111111111111111,
              "#46039f"
             ],
             [
              0.2222222222222222,
              "#7201a8"
             ],
             [
              0.3333333333333333,
              "#9c179e"
             ],
             [
              0.4444444444444444,
              "#bd3786"
             ],
             [
              0.5555555555555556,
              "#d8576b"
             ],
             [
              0.6666666666666666,
              "#ed7953"
             ],
             [
              0.7777777777777778,
              "#fb9f3a"
             ],
             [
              0.8888888888888888,
              "#fdca26"
             ],
             [
              1,
              "#f0f921"
             ]
            ],
            "type": "heatmap"
           }
          ],
          "heatmapgl": [
           {
            "colorbar": {
             "outlinewidth": 0,
             "ticks": ""
            },
            "colorscale": [
             [
              0,
              "#0d0887"
             ],
             [
              0.1111111111111111,
              "#46039f"
             ],
             [
              0.2222222222222222,
              "#7201a8"
             ],
             [
              0.3333333333333333,
              "#9c179e"
             ],
             [
              0.4444444444444444,
              "#bd3786"
             ],
             [
              0.5555555555555556,
              "#d8576b"
             ],
             [
              0.6666666666666666,
              "#ed7953"
             ],
             [
              0.7777777777777778,
              "#fb9f3a"
             ],
             [
              0.8888888888888888,
              "#fdca26"
             ],
             [
              1,
              "#f0f921"
             ]
            ],
            "type": "heatmapgl"
           }
          ],
          "histogram": [
           {
            "marker": {
             "pattern": {
              "fillmode": "overlay",
              "size": 10,
              "solidity": 0.2
             }
            },
            "type": "histogram"
           }
          ],
          "histogram2d": [
           {
            "colorbar": {
             "outlinewidth": 0,
             "ticks": ""
            },
            "colorscale": [
             [
              0,
              "#0d0887"
             ],
             [
              0.1111111111111111,
              "#46039f"
             ],
             [
              0.2222222222222222,
              "#7201a8"
             ],
             [
              0.3333333333333333,
              "#9c179e"
             ],
             [
              0.4444444444444444,
              "#bd3786"
             ],
             [
              0.5555555555555556,
              "#d8576b"
             ],
             [
              0.6666666666666666,
              "#ed7953"
             ],
             [
              0.7777777777777778,
              "#fb9f3a"
             ],
             [
              0.8888888888888888,
              "#fdca26"
             ],
             [
              1,
              "#f0f921"
             ]
            ],
            "type": "histogram2d"
           }
          ],
          "histogram2dcontour": [
           {
            "colorbar": {
             "outlinewidth": 0,
             "ticks": ""
            },
            "colorscale": [
             [
              0,
              "#0d0887"
             ],
             [
              0.1111111111111111,
              "#46039f"
             ],
             [
              0.2222222222222222,
              "#7201a8"
             ],
             [
              0.3333333333333333,
              "#9c179e"
             ],
             [
              0.4444444444444444,
              "#bd3786"
             ],
             [
              0.5555555555555556,
              "#d8576b"
             ],
             [
              0.6666666666666666,
              "#ed7953"
             ],
             [
              0.7777777777777778,
              "#fb9f3a"
             ],
             [
              0.8888888888888888,
              "#fdca26"
             ],
             [
              1,
              "#f0f921"
             ]
            ],
            "type": "histogram2dcontour"
           }
          ],
          "mesh3d": [
           {
            "colorbar": {
             "outlinewidth": 0,
             "ticks": ""
            },
            "type": "mesh3d"
           }
          ],
          "parcoords": [
           {
            "line": {
             "colorbar": {
              "outlinewidth": 0,
              "ticks": ""
             }
            },
            "type": "parcoords"
           }
          ],
          "pie": [
           {
            "automargin": true,
            "type": "pie"
           }
          ],
          "scatter": [
           {
            "fillpattern": {
             "fillmode": "overlay",
             "size": 10,
             "solidity": 0.2
            },
            "type": "scatter"
           }
          ],
          "scatter3d": [
           {
            "line": {
             "colorbar": {
              "outlinewidth": 0,
              "ticks": ""
             }
            },
            "marker": {
             "colorbar": {
              "outlinewidth": 0,
              "ticks": ""
             }
            },
            "type": "scatter3d"
           }
          ],
          "scattercarpet": [
           {
            "marker": {
             "colorbar": {
              "outlinewidth": 0,
              "ticks": ""
             }
            },
            "type": "scattercarpet"
           }
          ],
          "scattergeo": [
           {
            "marker": {
             "colorbar": {
              "outlinewidth": 0,
              "ticks": ""
             }
            },
            "type": "scattergeo"
           }
          ],
          "scattergl": [
           {
            "marker": {
             "colorbar": {
              "outlinewidth": 0,
              "ticks": ""
             }
            },
            "type": "scattergl"
           }
          ],
          "scattermapbox": [
           {
            "marker": {
             "colorbar": {
              "outlinewidth": 0,
              "ticks": ""
             }
            },
            "type": "scattermapbox"
           }
          ],
          "scatterpolar": [
           {
            "marker": {
             "colorbar": {
              "outlinewidth": 0,
              "ticks": ""
             }
            },
            "type": "scatterpolar"
           }
          ],
          "scatterpolargl": [
           {
            "marker": {
             "colorbar": {
              "outlinewidth": 0,
              "ticks": ""
             }
            },
            "type": "scatterpolargl"
           }
          ],
          "scatterternary": [
           {
            "marker": {
             "colorbar": {
              "outlinewidth": 0,
              "ticks": ""
             }
            },
            "type": "scatterternary"
           }
          ],
          "surface": [
           {
            "colorbar": {
             "outlinewidth": 0,
             "ticks": ""
            },
            "colorscale": [
             [
              0,
              "#0d0887"
             ],
             [
              0.1111111111111111,
              "#46039f"
             ],
             [
              0.2222222222222222,
              "#7201a8"
             ],
             [
              0.3333333333333333,
              "#9c179e"
             ],
             [
              0.4444444444444444,
              "#bd3786"
             ],
             [
              0.5555555555555556,
              "#d8576b"
             ],
             [
              0.6666666666666666,
              "#ed7953"
             ],
             [
              0.7777777777777778,
              "#fb9f3a"
             ],
             [
              0.8888888888888888,
              "#fdca26"
             ],
             [
              1,
              "#f0f921"
             ]
            ],
            "type": "surface"
           }
          ],
          "table": [
           {
            "cells": {
             "fill": {
              "color": "#EBF0F8"
             },
             "line": {
              "color": "white"
             }
            },
            "header": {
             "fill": {
              "color": "#C8D4E3"
             },
             "line": {
              "color": "white"
             }
            },
            "type": "table"
           }
          ]
         },
         "layout": {
          "annotationdefaults": {
           "arrowcolor": "#2a3f5f",
           "arrowhead": 0,
           "arrowwidth": 1
          },
          "autotypenumbers": "strict",
          "coloraxis": {
           "colorbar": {
            "outlinewidth": 0,
            "ticks": ""
           }
          },
          "colorscale": {
           "diverging": [
            [
             0,
             "#8e0152"
            ],
            [
             0.1,
             "#c51b7d"
            ],
            [
             0.2,
             "#de77ae"
            ],
            [
             0.3,
             "#f1b6da"
            ],
            [
             0.4,
             "#fde0ef"
            ],
            [
             0.5,
             "#f7f7f7"
            ],
            [
             0.6,
             "#e6f5d0"
            ],
            [
             0.7,
             "#b8e186"
            ],
            [
             0.8,
             "#7fbc41"
            ],
            [
             0.9,
             "#4d9221"
            ],
            [
             1,
             "#276419"
            ]
           ],
           "sequential": [
            [
             0,
             "#0d0887"
            ],
            [
             0.1111111111111111,
             "#46039f"
            ],
            [
             0.2222222222222222,
             "#7201a8"
            ],
            [
             0.3333333333333333,
             "#9c179e"
            ],
            [
             0.4444444444444444,
             "#bd3786"
            ],
            [
             0.5555555555555556,
             "#d8576b"
            ],
            [
             0.6666666666666666,
             "#ed7953"
            ],
            [
             0.7777777777777778,
             "#fb9f3a"
            ],
            [
             0.8888888888888888,
             "#fdca26"
            ],
            [
             1,
             "#f0f921"
            ]
           ],
           "sequentialminus": [
            [
             0,
             "#0d0887"
            ],
            [
             0.1111111111111111,
             "#46039f"
            ],
            [
             0.2222222222222222,
             "#7201a8"
            ],
            [
             0.3333333333333333,
             "#9c179e"
            ],
            [
             0.4444444444444444,
             "#bd3786"
            ],
            [
             0.5555555555555556,
             "#d8576b"
            ],
            [
             0.6666666666666666,
             "#ed7953"
            ],
            [
             0.7777777777777778,
             "#fb9f3a"
            ],
            [
             0.8888888888888888,
             "#fdca26"
            ],
            [
             1,
             "#f0f921"
            ]
           ]
          },
          "colorway": [
           "#636efa",
           "#EF553B",
           "#00cc96",
           "#ab63fa",
           "#FFA15A",
           "#19d3f3",
           "#FF6692",
           "#B6E880",
           "#FF97FF",
           "#FECB52"
          ],
          "font": {
           "color": "#2a3f5f"
          },
          "geo": {
           "bgcolor": "white",
           "lakecolor": "white",
           "landcolor": "#E5ECF6",
           "showlakes": true,
           "showland": true,
           "subunitcolor": "white"
          },
          "hoverlabel": {
           "align": "left"
          },
          "hovermode": "closest",
          "mapbox": {
           "style": "light"
          },
          "paper_bgcolor": "white",
          "plot_bgcolor": "#E5ECF6",
          "polar": {
           "angularaxis": {
            "gridcolor": "white",
            "linecolor": "white",
            "ticks": ""
           },
           "bgcolor": "#E5ECF6",
           "radialaxis": {
            "gridcolor": "white",
            "linecolor": "white",
            "ticks": ""
           }
          },
          "scene": {
           "xaxis": {
            "backgroundcolor": "#E5ECF6",
            "gridcolor": "white",
            "gridwidth": 2,
            "linecolor": "white",
            "showbackground": true,
            "ticks": "",
            "zerolinecolor": "white"
           },
           "yaxis": {
            "backgroundcolor": "#E5ECF6",
            "gridcolor": "white",
            "gridwidth": 2,
            "linecolor": "white",
            "showbackground": true,
            "ticks": "",
            "zerolinecolor": "white"
           },
           "zaxis": {
            "backgroundcolor": "#E5ECF6",
            "gridcolor": "white",
            "gridwidth": 2,
            "linecolor": "white",
            "showbackground": true,
            "ticks": "",
            "zerolinecolor": "white"
           }
          },
          "shapedefaults": {
           "line": {
            "color": "#2a3f5f"
           }
          },
          "ternary": {
           "aaxis": {
            "gridcolor": "white",
            "linecolor": "white",
            "ticks": ""
           },
           "baxis": {
            "gridcolor": "white",
            "linecolor": "white",
            "ticks": ""
           },
           "bgcolor": "#E5ECF6",
           "caxis": {
            "gridcolor": "white",
            "linecolor": "white",
            "ticks": ""
           }
          },
          "title": {
           "x": 0.05
          },
          "xaxis": {
           "automargin": true,
           "gridcolor": "white",
           "linecolor": "white",
           "ticks": "",
           "title": {
            "standoff": 15
           },
           "zerolinecolor": "white",
           "zerolinewidth": 2
          },
          "yaxis": {
           "automargin": true,
           "gridcolor": "white",
           "linecolor": "white",
           "ticks": "",
           "title": {
            "standoff": 15
           },
           "zerolinecolor": "white",
           "zerolinewidth": 2
          }
         }
        },
        "width": 960,
        "xaxis": {
         "anchor": "y",
         "gridcolor": "rgba(0,0,0,0.1)",
         "mirror": "ticks",
         "nticks": 8,
         "showgrid": true,
         "showline": true,
         "side": "bottom",
         "tickfont": {
          "size": 16
         },
         "ticks": "inside",
         "title": {
          "font": {
           "color": "#000000",
           "size": 20
          },
          "text": "Composition (fraction)"
         },
         "type": "linear",
         "zeroline": false
        },
        "yaxis": {
         "anchor": "x",
         "gridcolor": "rgba(0,0,0,0.1)",
         "mirror": "ticks",
         "showgrid": true,
         "showline": true,
         "side": "left",
         "tickfont": {
          "size": 16
         },
         "ticks": "inside",
         "title": {
          "font": {
           "color": "#000000",
           "size": 20
          },
          "text": "Formation energy (eV/atom)"
         },
         "type": "linear"
        }
       }
      }
     },
     "metadata": {},
     "output_type": "display_data"
    },
    {
     "name": "stdout",
     "output_type": "stream",
     "text": [
      "Cr: H_fusion = 21000.0 J/mol, T_fusion = 2180.0 K, T_vaporization = 2944.15 K\n",
      "Eu: H_fusion = 9210.0 J/mol, T_fusion = 1095.0 K, T_vaporization = 1800.15 K\n",
      "\n",
      "Reading MPDS json from entry at https://mpds.io/entry/C907707...\n",
      "\n",
      "Best fitted parameters for Cr-Eu: [29909.42, -0.87, 7644.46, 0.54]\n",
      "MAE = 8.16\n",
      "L0 = 29909 - 0.87*t\n",
      "L1 = 0.54*t + 7644\n"
     ]
    },
    {
     "data": {
      "image/png": "[encoded data removed]",
      "text/plain": [
       "<Figure size 800x500 with 3 Axes>"
      ]
     },
     "metadata": {},
     "output_type": "display_data"
    },
    {
     "data": {
      "application/vnd.plotly.v1+json": {
       "config": {
        "plotlyServerURL": "https://plot.ly"
       },
       "data": [
        {
         "line": {
          "color": "#B82E2E",
          "dash": "dash",
          "width": 4
         },
         "mode": "lines",
         "showlegend": false,
         "type": "scatter",
         "x": [
          0,
          1.06108,
          2.1748,
          3.3451099999999996,
          4.57597,
          5.87134,
          7.23517,
          8.67143,
          10.1841,
          11.777,
          13.4543,
          15.2198,
          17.0776,
          19.0315,
          21.0855,
          23.2436,
          25.5098,
          27.8879,
          32.6969,
          37.4574,
          42.1612,
          46.8001,
          51.366,
          55.85059999999999,
          60.2458,
          64.5435,
          68.7354,
          72.8134,
          76.7694,
          80.5951,
          84.2823,
          87.823,
          91.2089,
          94.4319,
          97.4838,
          100
         ],
         "y": [
          1912.37,
          1889.7999999999997,
          1868.69,
          1849.0099999999998,
          1830.7599999999998,
          1813.92,
          1798.48,
          1784.44,
          1771.79,
          1760.5,
          1750.5699999999997,
          1742,
          1734.7599999999998,
          1728.8599999999997,
          1724.27,
          1720.9899999999998,
          1719,
          1718.2999999999997,
          1717.4099999999999,
          1714.52,
          1708.67,
          1698.9299999999998,
          1684.35,
          1664.0099999999998,
          1636.96,
          1602.2599999999998,
          1558.9699999999998,
          1506.1599999999999,
          1442.88,
          1368.1999999999998,
          1281.1799999999998,
          1180.87,
          1066.35,
          936.66,
          790.8770000000001,
          843.3860000000001
         ]
        },
        {
         "hovertemplate": "x=%{x}<br>y=%{y}<extra></extra>",
         "legendgroup": "",
         "line": {
          "color": "Silver",
          "dash": "solid",
          "width": 4
         },
         "marker": {
          "symbol": "circle"
         },
         "mode": "lines",
         "name": "",
         "orientation": "v",
         "showlegend": false,
         "type": "scatter",
         "x": [
          0,
          97,
          100
         ],
         "xaxis": "x",
         "y": [
          808.8528941916294,
          808.8528941916294,
          808.8528941916294
         ],
         "yaxis": "y"
        },
        {
         "hovertemplate": "label=L<br>x=%{x}<br>t=%{y}<extra></extra>",
         "legendgroup": "L",
         "line": {
          "color": "cornflowerblue",
          "dash": "solid",
          "width": 4
         },
         "marker": {
          "symbol": "circle"
         },
         "mode": "lines",
         "name": "L",
         "orientation": "v",
         "showlegend": false,
         "type": "scatter",
         "x": [
          0,
          1,
          2,
          3,
          4,
          5,
          6,
          7.000000000000001,
          8,
          9,
          10,
          11,
          12,
          13,
          14.000000000000002,
          15,
          16,
          17,
          18,
          19,
          20,
          21,
          22,
          23,
          24,
          25,
          26,
          27,
          28.000000000000004,
          28.999999999999996,
          30,
          31,
          32,
          33,
          34,
          35,
          36,
          37,
          38,
          39,
          40,
          41,
          42,
          43,
          44,
          45,
          46,
          47,
          48,
          49,
          50,
          51,
          52,
          53,
          54,
          55.00000000000001,
          56.00000000000001,
          56.99999999999999,
          57.99999999999999,
          59,
          60,
          61,
          62,
          63,
          64,
          65,
          66,
          67,
          68,
          69,
          70,
          71,
          72,
          73,
          74,
          75,
          76,
          77,
          78,
          79,
          80,
          81,
          82,
          83,
          84,
          85,
          86,
          87,
          88,
          89,
          90,
          91,
          92,
          93,
          94,
          95,
          96,
          97,
          98,
          99,
          100
         ],
         "xaxis": "x",
         "y": [
          1912.3699999999994,
          1887.388615033607,
          1870.0369356097049,
          1854.3383669801183,
          1839.8934067928117,
          1826.5626006592224,
          1814.262924580613,
          1802.9320778824422,
          1792.5143736962905,
          1782.9616949185597,
          1774.2274539256505,
          1766.2650549395157,
          1759.0335083476348,
          1752.4888496503709,
          1746.5942535980366,
          1741.3078425799572,
          1736.589724631874,
          1732.406805863929,
          1728.717966472284,
          1725.4889809651963,
          1722.6883946654698,
          1720.2750864448685,
          1718.222961537862,
          1716.4957562994018,
          1715.0595802024395,
          1713.8893875269873,
          1712.9485121133184,
          1712.2114691340475,
          1711.6469859190906,
          1711.2289239809675,
          1710.9248078776764,
          1710.7097947375296,
          1710.5622916984207,
          1710.4488857491942,
          1710.3493133699717,
          1710.2362286501752,
          1710.0854236325881,
          1709.873253350058,
          1709.5794064783781,
          1709.1785654513328,
          1708.6487061281673,
          1707.971232533017,
          1707.1192954022918,
          1706.078318188861,
          1704.8283198991571,
          1703.3436606299083,
          1701.611390269767,
          1699.6097496077386,
          1697.323656314361,
          1694.728923042951,
          1691.8145166685417,
          1688.5601358277227,
          1684.9490536632343,
          1680.971458727132,
          1676.5980014630318,
          1671.822866270807,
          1666.6304820158034,
          1660.9987372298083,
          1654.9226434806865,
          1648.3769260283257,
          1641.3500940956383,
          1633.8341474499953,
          1625.8003971971539,
          1617.247795579452,
          1608.150865044519,
          1598.5013544109843,
          1588.2802626818939,
          1577.4752120893531,
          1566.0663576614988,
          1554.0333113928796,
          1541.3689175127465,
          1528.0441218721612,
          1514.042857501563,
          1499.3511593638746,
          1483.9361016830076,
          1467.7803601527098,
          1450.8505118798498,
          1433.1277514710787,
          1414.5694136240531,
          1395.1428696321668,
          1374.814135017713,
          1353.5233864169022,
          1331.2309856930115,
          1307.868645213443,
          1283.3611903562178,
          1257.6333538841072,
          1230.5735902464526,
          1202.0650302332629,
          1171.9528053975841,
          1140.0503463274617,
          1106.106705576191,
          1069.8212727712985,
          1030.7580787158986,
          988.3303954511149,
          941.679420698909,
          889.4807424370123,
          829.4804077821233,
          808.8528941916294,
          816.6961187485566,
          828.0022688441339,
          843.3860000000001
         ],
         "yaxis": "y"
        },
        {
         "line": {
          "color": "#B82E2E",
          "dash": "dash"
         },
         "mode": "lines",
         "name": "Digitized Liquidus",
         "showlegend": true,
         "type": "scatter",
         "x": [
          null
         ],
         "y": [
          null
         ]
        },
        {
         "marker": {
          "color": "cornflowerblue"
         },
         "mode": "lines",
         "name": "Fitted Liquidus",
         "showlegend": true,
         "type": "scatter",
         "x": [
          null
         ],
         "y": [
          null
         ]
        }
       ],
       "layout": {
        "annotations": [
         {
          "font": {
           "color": "black",
           "size": 18
          },
          "showarrow": false,
          "text": "L",
          "x": 50,
          "y": 2028
         }
        ],
        "font": {
         "size": 22
        },
        "height": 700,
        "legend": {
         "font": {
          "size": 18
         },
         "x": 0.99,
         "xanchor": "right",
         "y": 0.99,
         "yanchor": "top"
        },
        "plot_bgcolor": "white",
        "showlegend": true,
        "template": {
         "data": {
          "bar": [
           {
            "error_x": {
             "color": "#2a3f5f"
            },
            "error_y": {
             "color": "#2a3f5f"
            },
            "marker": {
             "line": {
              "color": "#E5ECF6",
              "width": 0.5
             },
             "pattern": {
              "fillmode": "overlay",
              "size": 10,
              "solidity": 0.2
             }
            },
            "type": "bar"
           }
          ],
          "barpolar": [
           {
            "marker": {
             "line": {
              "color": "#E5ECF6",
              "width": 0.5
             },
             "pattern": {
              "fillmode": "overlay",
              "size": 10,
              "solidity": 0.2
             }
            },
            "type": "barpolar"
           }
          ],
          "carpet": [
           {
            "aaxis": {
             "endlinecolor": "#2a3f5f",
             "gridcolor": "white",
             "linecolor": "white",
             "minorgridcolor": "white",
             "startlinecolor": "#2a3f5f"
            },
            "baxis": {
             "endlinecolor": "#2a3f5f",
             "gridcolor": "white",
             "linecolor": "white",
             "minorgridcolor": "white",
             "startlinecolor": "#2a3f5f"
            },
            "type": "carpet"
           }
          ],
          "choropleth": [
           {
            "colorbar": {
             "outlinewidth": 0,
             "ticks": ""
            },
            "type": "choropleth"
           }
          ],
          "contour": [
           {
            "colorbar": {
             "outlinewidth": 0,
             "ticks": ""
            },
            "colorscale": [
             [
              0,
              "#0d0887"
             ],
             [
              0.1111111111111111,
              "#46039f"
             ],
             [
              0.2222222222222222,
              "#7201a8"
             ],
             [
              0.3333333333333333,
              "#9c179e"
             ],
             [
              0.4444444444444444,
              "#bd3786"
             ],
             [
              0.5555555555555556,
              "#d8576b"
             ],
             [
              0.6666666666666666,
              "#ed7953"
             ],
             [
              0.7777777777777778,
              "#fb9f3a"
             ],
             [
              0.8888888888888888,
              "#fdca26"
             ],
             [
              1,
              "#f0f921"
             ]
            ],
            "type": "contour"
           }
          ],
          "contourcarpet": [
           {
            "colorbar": {
             "outlinewidth": 0,
             "ticks": ""
            },
            "type": "contourcarpet"
           }
          ],
          "heatmap": [
           {
            "colorbar": {
             "outlinewidth": 0,
             "ticks": ""
            },
            "colorscale": [
             [
              0,
              "#0d0887"
             ],
             [
              0.1111111111111111,
              "#46039f"
             ],
             [
              0.2222222222222222,
              "#7201a8"
             ],
             [
              0.3333333333333333,
              "#9c179e"
             ],
             [
              0.4444444444444444,
              "#bd3786"
             ],
             [
              0.5555555555555556,
              "#d8576b"
             ],
             [
              0.6666666666666666,
              "#ed7953"
             ],
             [
              0.7777777777777778,
              "#fb9f3a"
             ],
             [
              0.8888888888888888,
              "#fdca26"
             ],
             [
              1,
              "#f0f921"
             ]
            ],
            "type": "heatmap"
           }
          ],
          "heatmapgl": [
           {
            "colorbar": {
             "outlinewidth": 0,
             "ticks": ""
            },
            "colorscale": [
             [
              0,
              "#0d0887"
             ],
             [
              0.1111111111111111,
              "#46039f"
             ],
             [
              0.2222222222222222,
              "#7201a8"
             ],
             [
              0.3333333333333333,
              "#9c179e"
             ],
             [
              0.4444444444444444,
              "#bd3786"
             ],
             [
              0.5555555555555556,
              "#d8576b"
             ],
             [
              0.6666666666666666,
              "#ed7953"
             ],
             [
              0.7777777777777778,
              "#fb9f3a"
             ],
             [
              0.8888888888888888,
              "#fdca26"
             ],
             [
              1,
              "#f0f921"
             ]
            ],
            "type": "heatmapgl"
           }
          ],
          "histogram": [
           {
            "marker": {
             "pattern": {
              "fillmode": "overlay",
              "size": 10,
              "solidity": 0.2
             }
            },
            "type": "histogram"
           }
          ],
          "histogram2d": [
           {
            "colorbar": {
             "outlinewidth": 0,
             "ticks": ""
            },
            "colorscale": [
             [
              0,
              "#0d0887"
             ],
             [
              0.1111111111111111,
              "#46039f"
             ],
             [
              0.2222222222222222,
              "#7201a8"
             ],
             [
              0.3333333333333333,
              "#9c179e"
             ],
             [
              0.4444444444444444,
              "#bd3786"
             ],
             [
              0.5555555555555556,
              "#d8576b"
             ],
             [
              0.6666666666666666,
              "#ed7953"
             ],
             [
              0.7777777777777778,
              "#fb9f3a"
             ],
             [
              0.8888888888888888,
              "#fdca26"
             ],
             [
              1,
              "#f0f921"
             ]
            ],
            "type": "histogram2d"
           }
          ],
          "histogram2dcontour": [
           {
            "colorbar": {
             "outlinewidth": 0,
             "ticks": ""
            },
            "colorscale": [
             [
              0,
              "#0d0887"
             ],
             [
              0.1111111111111111,
              "#46039f"
             ],
             [
              0.2222222222222222,
              "#7201a8"
             ],
             [
              0.3333333333333333,
              "#9c179e"
             ],
             [
              0.4444444444444444,
              "#bd3786"
             ],
             [
              0.5555555555555556,
              "#d8576b"
             ],
             [
              0.6666666666666666,
              "#ed7953"
             ],
             [
              0.7777777777777778,
              "#fb9f3a"
             ],
             [
              0.8888888888888888,
              "#fdca26"
             ],
             [
              1,
              "#f0f921"
             ]
            ],
            "type": "histogram2dcontour"
           }
          ],
          "mesh3d": [
           {
            "colorbar": {
             "outlinewidth": 0,
             "ticks": ""
            },
            "type": "mesh3d"
           }
          ],
          "parcoords": [
           {
            "line": {
             "colorbar": {
              "outlinewidth": 0,
              "ticks": ""
             }
            },
            "type": "parcoords"
           }
          ],
          "pie": [
           {
            "automargin": true,
            "type": "pie"
           }
          ],
          "scatter": [
           {
            "fillpattern": {
             "fillmode": "overlay",
             "size": 10,
             "solidity": 0.2
            },
            "type": "scatter"
           }
          ],
          "scatter3d": [
           {
            "line": {
             "colorbar": {
              "outlinewidth": 0,
              "ticks": ""
             }
            },
            "marker": {
             "colorbar": {
              "outlinewidth": 0,
              "ticks": ""
             }
            },
            "type": "scatter3d"
           }
          ],
          "scattercarpet": [
           {
            "marker": {
             "colorbar": {
              "outlinewidth": 0,
              "ticks": ""
             }
            },
            "type": "scattercarpet"
           }
          ],
          "scattergeo": [
           {
            "marker": {
             "colorbar": {
              "outlinewidth": 0,
              "ticks": ""
             }
            },
            "type": "scattergeo"
           }
          ],
          "scattergl": [
           {
            "marker": {
             "colorbar": {
              "outlinewidth": 0,
              "ticks": ""
             }
            },
            "type": "scattergl"
           }
          ],
          "scattermapbox": [
           {
            "marker": {
             "colorbar": {
              "outlinewidth": 0,
              "ticks": ""
             }
            },
            "type": "scattermapbox"
           }
          ],
          "scatterpolar": [
           {
            "marker": {
             "colorbar": {
              "outlinewidth": 0,
              "ticks": ""
             }
            },
            "type": "scatterpolar"
           }
          ],
          "scatterpolargl": [
           {
            "marker": {
             "colorbar": {
              "outlinewidth": 0,
              "ticks": ""
             }
            },
            "type": "scatterpolargl"
           }
          ],
          "scatterternary": [
           {
            "marker": {
             "colorbar": {
              "outlinewidth": 0,
              "ticks": ""
             }
            },
            "type": "scatterternary"
           }
          ],
          "surface": [
           {
            "colorbar": {
             "outlinewidth": 0,
             "ticks": ""
            },
            "colorscale": [
             [
              0,
              "#0d0887"
             ],
             [
              0.1111111111111111,
              "#46039f"
             ],
             [
              0.2222222222222222,
              "#7201a8"
             ],
             [
              0.3333333333333333,
              "#9c179e"
             ],
             [
              0.4444444444444444,
              "#bd3786"
             ],
             [
              0.5555555555555556,
              "#d8576b"
             ],
             [
              0.6666666666666666,
              "#ed7953"
             ],
             [
              0.7777777777777778,
              "#fb9f3a"
             ],
             [
              0.8888888888888888,
              "#fdca26"
             ],
             [
              1,
              "#f0f921"
             ]
            ],
            "type": "surface"
           }
          ],
          "table": [
           {
            "cells": {
             "fill": {
              "color": "#EBF0F8"
             },
             "line": {
              "color": "white"
             }
            },
            "header": {
             "fill": {
              "color": "#C8D4E3"
             },
             "line": {
              "color": "white"
             }
            },
            "type": "table"
           }
          ]
         },
         "layout": {
          "annotationdefaults": {
           "arrowcolor": "#2a3f5f",
           "arrowhead": 0,
           "arrowwidth": 1
          },
          "autotypenumbers": "strict",
          "coloraxis": {
           "colorbar": {
            "outlinewidth": 0,
            "ticks": ""
           }
          },
          "colorscale": {
           "diverging": [
            [
             0,
             "#8e0152"
            ],
            [
             0.1,
             "#c51b7d"
            ],
            [
             0.2,
             "#de77ae"
            ],
            [
             0.3,
             "#f1b6da"
            ],
            [
             0.4,
             "#fde0ef"
            ],
            [
             0.5,
             "#f7f7f7"
            ],
            [
             0.6,
             "#e6f5d0"
            ],
            [
             0.7,
             "#b8e186"
            ],
            [
             0.8,
             "#7fbc41"
            ],
            [
             0.9,
             "#4d9221"
            ],
            [
             1,
             "#276419"
            ]
           ],
           "sequential": [
            [
             0,
             "#0d0887"
            ],
            [
             0.1111111111111111,
             "#46039f"
            ],
            [
             0.2222222222222222,
             "#7201a8"
            ],
            [
             0.3333333333333333,
             "#9c179e"
            ],
            [
             0.4444444444444444,
             "#bd3786"
            ],
            [
             0.5555555555555556,
             "#d8576b"
            ],
            [
             0.6666666666666666,
             "#ed7953"
            ],
            [
             0.7777777777777778,
             "#fb9f3a"
            ],
            [
             0.8888888888888888,
             "#fdca26"
            ],
            [
             1,
             "#f0f921"
            ]
           ],
           "sequentialminus": [
            [
             0,
             "#0d0887"
            ],
            [
             0.1111111111111111,
             "#46039f"
            ],
            [
             0.2222222222222222,
             "#7201a8"
            ],
            [
             0.3333333333333333,
             "#9c179e"
            ],
            [
             0.4444444444444444,
             "#bd3786"
            ],
            [
             0.5555555555555556,
             "#d8576b"
            ],
            [
             0.6666666666666666,
             "#ed7953"
            ],
            [
             0.7777777777777778,
             "#fb9f3a"
            ],
            [
             0.8888888888888888,
             "#fdca26"
            ],
            [
             1,
             "#f0f921"
            ]
           ]
          },
          "colorway": [
           "#636efa",
           "#EF553B",
           "#00cc96",
           "#ab63fa",
           "#FFA15A",
           "#19d3f3",
           "#FF6692",
           "#B6E880",
           "#FF97FF",
           "#FECB52"
          ],
          "font": {
           "color": "#2a3f5f"
          },
          "geo": {
           "bgcolor": "white",
           "lakecolor": "white",
           "landcolor": "#E5ECF6",
           "showlakes": true,
           "showland": true,
           "subunitcolor": "white"
          },
          "hoverlabel": {
           "align": "left"
          },
          "hovermode": "closest",
          "mapbox": {
           "style": "light"
          },
          "paper_bgcolor": "white",
          "plot_bgcolor": "#E5ECF6",
          "polar": {
           "angularaxis": {
            "gridcolor": "white",
            "linecolor": "white",
            "ticks": ""
           },
           "bgcolor": "#E5ECF6",
           "radialaxis": {
            "gridcolor": "white",
            "linecolor": "white",
            "ticks": ""
           }
          },
          "scene": {
           "xaxis": {
            "backgroundcolor": "#E5ECF6",
            "gridcolor": "white",
            "gridwidth": 2,
            "linecolor": "white",
            "showbackground": true,
            "ticks": "",
            "zerolinecolor": "white"
           },
           "yaxis": {
            "backgroundcolor": "#E5ECF6",
            "gridcolor": "white",
            "gridwidth": 2,
            "linecolor": "white",
            "showbackground": true,
            "ticks": "",
            "zerolinecolor": "white"
           },
           "zaxis": {
            "backgroundcolor": "#E5ECF6",
            "gridcolor": "white",
            "gridwidth": 2,
            "linecolor": "white",
            "showbackground": true,
            "ticks": "",
            "zerolinecolor": "white"
           }
          },
          "shapedefaults": {
           "line": {
            "color": "#2a3f5f"
           }
          },
          "ternary": {
           "aaxis": {
            "gridcolor": "white",
            "linecolor": "white",
            "ticks": ""
           },
           "baxis": {
            "gridcolor": "white",
            "linecolor": "white",
            "ticks": ""
           },
           "bgcolor": "#E5ECF6",
           "caxis": {
            "gridcolor": "white",
            "linecolor": "white",
            "ticks": ""
           }
          },
          "title": {
           "x": 0.05
          },
          "xaxis": {
           "automargin": true,
           "gridcolor": "white",
           "linecolor": "white",
           "ticks": "",
           "title": {
            "standoff": 15
           },
           "zerolinecolor": "white",
           "zerolinewidth": 2
          },
          "yaxis": {
           "automargin": true,
           "gridcolor": "white",
           "linecolor": "white",
           "ticks": "",
           "title": {
            "standoff": 15
           },
           "zerolinecolor": "white",
           "zerolinewidth": 2
          }
         }
        },
        "title": {
         "text": "Cr-Eu DFT-Referenced Binary Phase Diagram"
        },
        "width": 960,
        "xaxis": {
         "linecolor": "black",
         "linewidth": 2,
         "mirror": true,
         "range": [
          0,
          100
         ],
         "showline": true,
         "tickcolor": "black",
         "tickformat": ".0f",
         "ticks": "outside",
         "title": {
          "text": "Eu (at. %)"
         }
        },
        "yaxis": {
         "linecolor": "black",
         "linewidth": 2,
         "mirror": true,
         "range": [
          600,
          2140
         ],
         "showline": true,
         "tickcolor": "black",
         "ticks": "outside",
         "ticksuffix": " ",
         "title": {
          "text": "T (°C)"
         }
        }
       }
      }
     },
     "metadata": {},
     "output_type": "display_data"
    },
    {
     "name": "stdout",
     "output_type": "stream",
     "text": [
      "No arguments specified for 't_vals', setting 't_units' to 'K'\n"
     ]
    },
    {
     "data": {
      "application/vnd.plotly.v1+json": {
       "config": {
        "plotlyServerURL": "https://plot.ly"
       },
       "data": [
        {
         "mode": "lines",
         "name": "Liquid T=1064K",
         "type": "scatter",
         "x": [
          0,
          0.01,
          0.02,
          0.03,
          0.04,
          0.05,
          0.06,
          0.07,
          0.08,
          0.09,
          0.1,
          0.11,
          0.12,
          0.13,
          0.14,
          0.15,
          0.16,
          0.17,
          0.18,
          0.19,
          0.2,
          0.21,
          0.22,
          0.23,
          0.24,
          0.25,
          0.26,
          0.27,
          0.28,
          0.29,
          0.3,
          0.31,
          0.32,
          0.33,
          0.34,
          0.35000000000000003,
          0.36,
          0.37,
          0.38,
          0.39,
          0.4,
          0.41000000000000003,
          0.42,
          0.43,
          0.44,
          0.45,
          0.46,
          0.47000000000000003,
          0.48,
          0.49,
          0.5,
          0.51,
          0.52,
          0.53,
          0.54,
          0.55,
          0.56,
          0.5700000000000001,
          0.58,
          0.59,
          0.6,
          0.61,
          0.62,
          0.63,
          0.64,
          0.65,
          0.66,
          0.67,
          0.68,
          0.6900000000000001,
          0.7000000000000001,
          0.71,
          0.72,
          0.73,
          0.74,
          0.75,
          0.76,
          0.77,
          0.78,
          0.79,
          0.8,
          0.81,
          0.8200000000000001,
          0.8300000000000001,
          0.84,
          0.85,
          0.86,
          0.87,
          0.88,
          0.89,
          0.9,
          0.91,
          0.92,
          0.93,
          0.9400000000000001,
          0.9500000000000001,
          0.96,
          0.97,
          0.98,
          0.99,
          1
         ],
         "y": [
          0.11168665282585435,
          0.10928080602046987,
          0.10804506496253209,
          0.10718925469493633,
          0.1065462965051356,
          0.10603742885495102,
          0.10561672514367831,
          0.105254221825714,
          0.1049289503505832,
          0.10462551934293374,
          0.10433223728377249,
          0.10403999436724483,
          0.10374155454376542,
          0.10343108527038503,
          0.10310383284884868,
          0.10275589102423308,
          0.10238403158874038,
          0.10198557752394283,
          0.10155830612008072,
          0.10110037371678374,
          0.10061025635865908,
          0.10008670237726094,
          0.09952869405422456,
          0.09893541629864515,
          0.0983062308125017,
          0.09764065460051294,
          0.09693834195601987,
          0.0961990692554438,
          0.0954227220426288,
          0.09460928399588953,
          0.09375882745514896,
          0.09287150525136752,
          0.09194754363064163,
          0.09098723610455704,
          0.08999093808928195,
          0.08895906222044273,
          0.08789207425049014,
          0.0867904894511323,
          0.08565486945630625,
          0.08448581949171373,
          0.08328398594564368,
          0.08205005424302275,
          0.08078474699066814,
          0.07948882236679773,
          0.07816307273216719,
          0.07680832344389685,
          0.0754254318562466,
          0.07401528649538956,
          0.07257880639770772,
          0.07111694060335179,
          0.0696306677988324,
          0.0681209961042887,
          0.066588963002862,
          0.0650356354113222,
          0.06346210989279909,
          0.06186951301419114,
          0.06025900185260576,
          0.05863176465706354,
          0.056989021673724626,
          0.05533202614511386,
          0.0536620654962938,
          0.05198046272372781,
          0.050288578005769684,
          0.04858781055741098,
          0.04687960075623048,
          0.04516543257157158,
          0.043446836335006705,
          0.04172539189736557,
          0.04000273222630231,
          0.038280547508929175,
          0.03656058983694095,
          0.0348446785675217,
          0.03313470647299147,
          0.03143264681670777,
          0.02974056152363646,
          0.028060610653213944,
          0.026395063432299425,
          0.02474631117083236,
          0.023116882467374537,
          0.021509461223227486,
          0.019926908132576433,
          0.018372286517066638,
          0.016848893648424394,
          0.015360299085323064,
          0.013910392091413402,
          0.012503440979735572,
          0.011144168371997873,
          0.00983784807927863,
          0.008590431959781614,
          0.0074087193150423,
          0.0063005882912904095,
          0.005275320541391785,
          0.004344071474481534,
          0.0035205782128333004,
          0.002822277735079688,
          0.002272184194976109,
          0.0019023067414065435,
          0.001760617578355754,
          0.0019279238472830697,
          0.002573349864016039,
          0.004489116188940329
         ]
        },
        {
         "mode": "lines",
         "name": "Liquid T=0K",
         "type": "scatter",
         "x": [
          0,
          0.01,
          0.02,
          0.03,
          0.04,
          0.05,
          0.06,
          0.07,
          0.08,
          0.09,
          0.1,
          0.11,
          0.12,
          0.13,
          0.14,
          0.15,
          0.16,
          0.17,
          0.18,
          0.19,
          0.2,
          0.21,
          0.22,
          0.23,
          0.24,
          0.25,
          0.26,
          0.27,
          0.28,
          0.29,
          0.3,
          0.31,
          0.32,
          0.33,
          0.34,
          0.35000000000000003,
          0.36,
          0.37,
          0.38,
          0.39,
          0.4,
          0.41000000000000003,
          0.42,
          0.43,
          0.44,
          0.45,
          0.46,
          0.47000000000000003,
          0.48,
          0.49,
          0.5,
          0.51,
          0.52,
          0.53,
          0.54,
          0.55,
          0.56,
          0.5700000000000001,
          0.58,
          0.59,
          0.6,
          0.61,
          0.62,
          0.63,
          0.64,
          0.65,
          0.66,
          0.67,
          0.68,
          0.6900000000000001,
          0.7000000000000001,
          0.71,
          0.72,
          0.73,
          0.74,
          0.75,
          0.76,
          0.77,
          0.78,
          0.79,
          0.8,
          0.81,
          0.8200000000000001,
          0.8300000000000001,
          0.84,
          0.85,
          0.86,
          0.87,
          0.88,
          0.89,
          0.9,
          0.91,
          0.92,
          0.93,
          0.9400000000000001,
          0.9500000000000001,
          0.96,
          0.97,
          0.98,
          0.99,
          1
         ],
         "y": [
          0.21765041198113697,
          0.22026604935919472,
          0.2227731017191381,
          0.22517251981509206,
          0.2274652544011814,
          0.22965225623153102,
          0.2317344760602658,
          0.23371286464151053,
          0.23558837272939018,
          0.2373619510780295,
          0.23903455044155347,
          0.24060712157408684,
          0.24208061522975458,
          0.24345598216268155,
          0.2447341731269925,
          0.2459161388768124,
          0.2470028301662661,
          0.24799519774947842,
          0.24889419238057434,
          0.2497007648136786,
          0.2504158658029161,
          0.2510404461024117,
          0.25157545646629026,
          0.25202184764867674,
          0.2523805704036959,
          0.25265257548547265,
          0.2528388136481318,
          0.2529402356457983,
          0.25295779223259696,
          0.25289243416265267,
          0.25274511219009027,
          0.25251677706903464,
          0.25220837955361064,
          0.25182087039794315,
          0.25135520035615705,
          0.25081232018237715,
          0.2501931806307284,
          0.2494987324553355,
          0.2487299264103235,
          0.24788771324981715,
          0.2469730437279414,
          0.24598686859882107,
          0.24493013861658103,
          0.24380380453534614,
          0.2426088171092413,
          0.24134612709239128,
          0.24001668523892106,
          0.23862144230295543,
          0.23716134903861927,
          0.23563735620003753,
          0.2340504145413349,
          0.23240147481663642,
          0.23069148778006687,
          0.2289214041857511,
          0.22709217478781404,
          0.22520475034038048,
          0.22326008159757538,
          0.22125911931352352,
          0.21920281424234977,
          0.21709211713817908,
          0.2149279787551362,
          0.21271134984734608,
          0.21044318116893354,
          0.2081244234740235,
          0.20575602751674077,
          0.2033389440512102,
          0.20087412383155673,
          0.19836251761190515,
          0.19580507614638035,
          0.19320275018910726,
          0.19055649049421064,
          0.18786724781581546,
          0.1851359729080465,
          0.18236361652502864,
          0.17955112942088677,
          0.1766994623497458,
          0.1738095660657305,
          0.17088239132296573,
          0.16791888887557646,
          0.1649200094776875,
          0.16188670388342372,
          0.15881992284690993,
          0.1557206171222711,
          0.152589737463632,
          0.1494282346251176,
          0.14623705936085266,
          0.1430171624249621,
          0.13976949457157076,
          0.13649500655480348,
          0.1331946491287852,
          0.12986937304764073,
          0.126520129065495,
          0.1231478679364728,
          0.11975354041469902,
          0.11633809725429854,
          0.1129024892093962,
          0.10944766703411692,
          0.10597458148258551,
          0.10248418330892684,
          0.09897742326726577,
          0.09545525211172722
         ]
        },
        {
         "hoverinfo": "none",
         "line": {
          "color": "black",
          "width": 4
         },
         "mode": "lines",
         "showlegend": false,
         "type": "scatter",
         "x": [
          0,
          1,
          null
         ],
         "y": [
          0,
          0,
          null
         ]
        },
        {
         "hoverinfo": "skip",
         "mode": "text",
         "name": "Labels (stable)",
         "opacity": 1,
         "showlegend": true,
         "text": [],
         "textposition": [],
         "type": "scatter",
         "visible": true,
         "x": [],
         "y": []
        },
        {
         "error_y": {
          "array": [
           0,
           0
          ],
          "color": "gray",
          "thickness": 2.5,
          "type": "data",
          "width": 5
         },
         "hoverinfo": "text",
         "hoverlabel": {
          "font": {
           "size": 14
          }
         },
         "hovertext": [
          "Cr (mp-90-GGA) <br> 0.0 eV/atom (Stable)",
          "Eu (mp-623532-GGA) <br> 0.0 eV/atom (Stable)"
         ],
         "marker": {
          "color": "darkgreen",
          "line": {
           "color": "black",
           "width": 2
          },
          "size": 16
         },
         "mode": "markers",
         "name": "Stable",
         "opacity": 0.99,
         "showlegend": true,
         "type": "scatter",
         "x": [
          0,
          1
         ],
         "y": [
          0,
          0
         ]
        },
        {
         "hoverinfo": "text",
         "hoverlabel": {
          "font": {
           "size": 14
          }
         },
         "hovertext": [
          "Cr (mp-17-GGA) <br> 0.081 eV/atom (+0.081 eV/atom)",
          "Eu (mp-1077457-GGA) <br> 0.088 eV/atom (+0.088 eV/atom)",
          "Eu (mp-21462-GGA) <br> 0.011 eV/atom (+0.011 eV/atom)",
          "Eu (mp-1184367-GGA) <br> 0.004 eV/atom (+0.004 eV/atom)",
          "Eu (mp-20071-GGA) <br> 0.048 eV/atom (+0.048 eV/atom)",
          "Eu (mp-1057315-GGA) <br> 0.016 eV/atom (+0.016 eV/atom)"
         ],
         "marker": {
          "color": [
           0.081,
           0.088,
           0.011,
           0.004,
           0.048,
           0.016
          ],
          "colorscale": [
           [
            0,
            "#fff5e3"
           ],
           [
            0.5,
            "#f24324"
           ],
           [
            1,
            "#c40000"
           ]
          ],
          "line": {
           "color": "black",
           "width": 1
          },
          "opacity": 0.8,
          "size": 7,
          "symbol": "diamond"
         },
         "mode": "markers",
         "name": "Above Hull",
         "showlegend": true,
         "type": "scatter",
         "x": [
          0,
          1,
          1,
          1,
          1,
          1
         ],
         "y": [
          0.08112848250000049,
          0.08784678333333318,
          0.010549655000000158,
          0.004487059999998877,
          0.04829949999999883,
          0.015575354999999291
         ]
        }
       ],
       "layout": {
        "annotations": [
         {
          "align": "center",
          "font": {
           "color": "#000000",
           "size": 24
          },
          "opacity": 1,
          "showarrow": false,
          "text": "Cr",
          "x": -0.03,
          "xref": "x",
          "y": -0.03,
          "yref": "y"
         },
         {
          "align": "center",
          "font": {
           "color": "#000000",
           "size": 24
          },
          "opacity": 1,
          "showarrow": false,
          "text": "Eu",
          "x": 1.03,
          "xref": "x",
          "y": -0.03,
          "yref": "y"
         }
        ],
        "autosize": true,
        "coloraxis": {
         "colorbar": {
          "x": 1,
          "y": 0.05,
          "yanchor": "top"
         }
        },
        "height": 700,
        "hovermode": "closest",
        "legend": {
         "orientation": "h",
         "tracegroupgap": 7,
         "traceorder": "reversed",
         "x": 0,
         "xanchor": "left",
         "y": 1.05
        },
        "margin": {
         "b": 10,
         "l": 10,
         "pad": 0,
         "r": 10,
         "t": 0
        },
        "paper_bgcolor": "white",
        "plot_bgcolor": "white",
        "showlegend": true,
        "template": {
         "data": {
          "bar": [
           {
            "error_x": {
             "color": "#2a3f5f"
            },
            "error_y": {
             "color": "#2a3f5f"
            },
            "marker": {
             "line": {
              "color": "#E5ECF6",
              "width": 0.5
             },
             "pattern": {
              "fillmode": "overlay",
              "size": 10,
              "solidity": 0.2
             }
            },
            "type": "bar"
           }
          ],
          "barpolar": [
           {
            "marker": {
             "line": {
              "color": "#E5ECF6",
              "width": 0.5
             },
             "pattern": {
              "fillmode": "overlay",
              "size": 10,
              "solidity": 0.2
             }
            },
            "type": "barpolar"
           }
          ],
          "carpet": [
           {
            "aaxis": {
             "endlinecolor": "#2a3f5f",
             "gridcolor": "white",
             "linecolor": "white",
             "minorgridcolor": "white",
             "startlinecolor": "#2a3f5f"
            },
            "baxis": {
             "endlinecolor": "#2a3f5f",
             "gridcolor": "white",
             "linecolor": "white",
             "minorgridcolor": "white",
             "startlinecolor": "#2a3f5f"
            },
            "type": "carpet"
           }
          ],
          "choropleth": [
           {
            "colorbar": {
             "outlinewidth": 0,
             "ticks": ""
            },
            "type": "choropleth"
           }
          ],
          "contour": [
           {
            "colorbar": {
             "outlinewidth": 0,
             "ticks": ""
            },
            "colorscale": [
             [
              0,
              "#0d0887"
             ],
             [
              0.1111111111111111,
              "#46039f"
             ],
             [
              0.2222222222222222,
              "#7201a8"
             ],
             [
              0.3333333333333333,
              "#9c179e"
             ],
             [
              0.4444444444444444,
              "#bd3786"
             ],
             [
              0.5555555555555556,
              "#d8576b"
             ],
             [
              0.6666666666666666,
              "#ed7953"
             ],
             [
              0.7777777777777778,
              "#fb9f3a"
             ],
             [
              0.8888888888888888,
              "#fdca26"
             ],
             [
              1,
              "#f0f921"
             ]
            ],
            "type": "contour"
           }
          ],
          "contourcarpet": [
           {
            "colorbar": {
             "outlinewidth": 0,
             "ticks": ""
            },
            "type": "contourcarpet"
           }
          ],
          "heatmap": [
           {
            "colorbar": {
             "outlinewidth": 0,
             "ticks": ""
            },
            "colorscale": [
             [
              0,
              "#0d0887"
             ],
             [
              0.1111111111111111,
              "#46039f"
             ],
             [
              0.2222222222222222,
              "#7201a8"
             ],
             [
              0.3333333333333333,
              "#9c179e"
             ],
             [
              0.4444444444444444,
              "#bd3786"
             ],
             [
              0.5555555555555556,
              "#d8576b"
             ],
             [
              0.6666666666666666,
              "#ed7953"
             ],
             [
              0.7777777777777778,
              "#fb9f3a"
             ],
             [
              0.8888888888888888,
              "#fdca26"
             ],
             [
              1,
              "#f0f921"
             ]
            ],
            "type": "heatmap"
           }
          ],
          "heatmapgl": [
           {
            "colorbar": {
             "outlinewidth": 0,
             "ticks": ""
            },
            "colorscale": [
             [
              0,
              "#0d0887"
             ],
             [
              0.1111111111111111,
              "#46039f"
             ],
             [
              0.2222222222222222,
              "#7201a8"
             ],
             [
              0.3333333333333333,
              "#9c179e"
             ],
             [
              0.4444444444444444,
              "#bd3786"
             ],
             [
              0.5555555555555556,
              "#d8576b"
             ],
             [
              0.6666666666666666,
              "#ed7953"
             ],
             [
              0.7777777777777778,
              "#fb9f3a"
             ],
             [
              0.8888888888888888,
              "#fdca26"
             ],
             [
              1,
              "#f0f921"
             ]
            ],
            "type": "heatmapgl"
           }
          ],
          "histogram": [
           {
            "marker": {
             "pattern": {
              "fillmode": "overlay",
              "size": 10,
              "solidity": 0.2
             }
            },
            "type": "histogram"
           }
          ],
          "histogram2d": [
           {
            "colorbar": {
             "outlinewidth": 0,
             "ticks": ""
            },
            "colorscale": [
             [
              0,
              "#0d0887"
             ],
             [
              0.1111111111111111,
              "#46039f"
             ],
             [
              0.2222222222222222,
              "#7201a8"
             ],
             [
              0.3333333333333333,
              "#9c179e"
             ],
             [
              0.4444444444444444,
              "#bd3786"
             ],
             [
              0.5555555555555556,
              "#d8576b"
             ],
             [
              0.6666666666666666,
              "#ed7953"
             ],
             [
              0.7777777777777778,
              "#fb9f3a"
             ],
             [
              0.8888888888888888,
              "#fdca26"
             ],
             [
              1,
              "#f0f921"
             ]
            ],
            "type": "histogram2d"
           }
          ],
          "histogram2dcontour": [
           {
            "colorbar": {
             "outlinewidth": 0,
             "ticks": ""
            },
            "colorscale": [
             [
              0,
              "#0d0887"
             ],
             [
              0.1111111111111111,
              "#46039f"
             ],
             [
              0.2222222222222222,
              "#7201a8"
             ],
             [
              0.3333333333333333,
              "#9c179e"
             ],
             [
              0.4444444444444444,
              "#bd3786"
             ],
             [
              0.5555555555555556,
              "#d8576b"
             ],
             [
              0.6666666666666666,
              "#ed7953"
             ],
             [
              0.7777777777777778,
              "#fb9f3a"
             ],
             [
              0.8888888888888888,
              "#fdca26"
             ],
             [
              1,
              "#f0f921"
             ]
            ],
            "type": "histogram2dcontour"
           }
          ],
          "mesh3d": [
           {
            "colorbar": {
             "outlinewidth": 0,
             "ticks": ""
            },
            "type": "mesh3d"
           }
          ],
          "parcoords": [
           {
            "line": {
             "colorbar": {
              "outlinewidth": 0,
              "ticks": ""
             }
            },
            "type": "parcoords"
           }
          ],
          "pie": [
           {
            "automargin": true,
            "type": "pie"
           }
          ],
          "scatter": [
           {
            "fillpattern": {
             "fillmode": "overlay",
             "size": 10,
             "solidity": 0.2
            },
            "type": "scatter"
           }
          ],
          "scatter3d": [
           {
            "line": {
             "colorbar": {
              "outlinewidth": 0,
              "ticks": ""
             }
            },
            "marker": {
             "colorbar": {
              "outlinewidth": 0,
              "ticks": ""
             }
            },
            "type": "scatter3d"
           }
          ],
          "scattercarpet": [
           {
            "marker": {
             "colorbar": {
              "outlinewidth": 0,
              "ticks": ""
             }
            },
            "type": "scattercarpet"
           }
          ],
          "scattergeo": [
           {
            "marker": {
             "colorbar": {
              "outlinewidth": 0,
              "ticks": ""
             }
            },
            "type": "scattergeo"
           }
          ],
          "scattergl": [
           {
            "marker": {
             "colorbar": {
              "outlinewidth": 0,
              "ticks": ""
             }
            },
            "type": "scattergl"
           }
          ],
          "scattermapbox": [
           {
            "marker": {
             "colorbar": {
              "outlinewidth": 0,
              "ticks": ""
             }
            },
            "type": "scattermapbox"
           }
          ],
          "scatterpolar": [
           {
            "marker": {
             "colorbar": {
              "outlinewidth": 0,
              "ticks": ""
             }
            },
            "type": "scatterpolar"
           }
          ],
          "scatterpolargl": [
           {
            "marker": {
             "colorbar": {
              "outlinewidth": 0,
              "ticks": ""
             }
            },
            "type": "scatterpolargl"
           }
          ],
          "scatterternary": [
           {
            "marker": {
             "colorbar": {
              "outlinewidth": 0,
              "ticks": ""
             }
            },
            "type": "scatterternary"
           }
          ],
          "surface": [
           {
            "colorbar": {
             "outlinewidth": 0,
             "ticks": ""
            },
            "colorscale": [
             [
              0,
              "#0d0887"
             ],
             [
              0.1111111111111111,
              "#46039f"
             ],
             [
              0.2222222222222222,
              "#7201a8"
             ],
             [
              0.3333333333333333,
              "#9c179e"
             ],
             [
              0.4444444444444444,
              "#bd3786"
             ],
             [
              0.5555555555555556,
              "#d8576b"
             ],
             [
              0.6666666666666666,
              "#ed7953"
             ],
             [
              0.7777777777777778,
              "#fb9f3a"
             ],
             [
              0.8888888888888888,
              "#fdca26"
             ],
             [
              1,
              "#f0f921"
             ]
            ],
            "type": "surface"
           }
          ],
          "table": [
           {
            "cells": {
             "fill": {
              "color": "#EBF0F8"
             },
             "line": {
              "color": "white"
             }
            },
            "header": {
             "fill": {
              "color": "#C8D4E3"
             },
             "line": {
              "color": "white"
             }
            },
            "type": "table"
           }
          ]
         },
         "layout": {
          "annotationdefaults": {
           "arrowcolor": "#2a3f5f",
           "arrowhead": 0,
           "arrowwidth": 1
          },
          "autotypenumbers": "strict",
          "coloraxis": {
           "colorbar": {
            "outlinewidth": 0,
            "ticks": ""
           }
          },
          "colorscale": {
           "diverging": [
            [
             0,
             "#8e0152"
            ],
            [
             0.1,
             "#c51b7d"
            ],
            [
             0.2,
             "#de77ae"
            ],
            [
             0.3,
             "#f1b6da"
            ],
            [
             0.4,
             "#fde0ef"
            ],
            [
             0.5,
             "#f7f7f7"
            ],
            [
             0.6,
             "#e6f5d0"
            ],
            [
             0.7,
             "#b8e186"
            ],
            [
             0.8,
             "#7fbc41"
            ],
            [
             0.9,
             "#4d9221"
            ],
            [
             1,
             "#276419"
            ]
           ],
           "sequential": [
            [
             0,
             "#0d0887"
            ],
            [
             0.1111111111111111,
             "#46039f"
            ],
            [
             0.2222222222222222,
             "#7201a8"
            ],
            [
             0.3333333333333333,
             "#9c179e"
            ],
            [
             0.4444444444444444,
             "#bd3786"
            ],
            [
             0.5555555555555556,
             "#d8576b"
            ],
            [
             0.6666666666666666,
             "#ed7953"
            ],
            [
             0.7777777777777778,
             "#fb9f3a"
            ],
            [
             0.8888888888888888,
             "#fdca26"
            ],
            [
             1,
             "#f0f921"
            ]
           ],
           "sequentialminus": [
            [
             0,
             "#0d0887"
            ],
            [
             0.1111111111111111,
             "#46039f"
            ],
            [
             0.2222222222222222,
             "#7201a8"
            ],
            [
             0.3333333333333333,
             "#9c179e"
            ],
            [
             0.4444444444444444,
             "#bd3786"
            ],
            [
             0.5555555555555556,
             "#d8576b"
            ],
            [
             0.6666666666666666,
             "#ed7953"
            ],
            [
             0.7777777777777778,
             "#fb9f3a"
            ],
            [
             0.8888888888888888,
             "#fdca26"
            ],
            [
             1,
             "#f0f921"
            ]
           ]
          },
          "colorway": [
           "#636efa",
           "#EF553B",
           "#00cc96",
           "#ab63fa",
           "#FFA15A",
           "#19d3f3",
           "#FF6692",
           "#B6E880",
           "#FF97FF",
           "#FECB52"
          ],
          "font": {
           "color": "#2a3f5f"
          },
          "geo": {
           "bgcolor": "white",
           "lakecolor": "white",
           "landcolor": "#E5ECF6",
           "showlakes": true,
           "showland": true,
           "subunitcolor": "white"
          },
          "hoverlabel": {
           "align": "left"
          },
          "hovermode": "closest",
          "mapbox": {
           "style": "light"
          },
          "paper_bgcolor": "white",
          "plot_bgcolor": "#E5ECF6",
          "polar": {
           "angularaxis": {
            "gridcolor": "white",
            "linecolor": "white",
            "ticks": ""
           },
           "bgcolor": "#E5ECF6",
           "radialaxis": {
            "gridcolor": "white",
            "linecolor": "white",
            "ticks": ""
           }
          },
          "scene": {
           "xaxis": {
            "backgroundcolor": "#E5ECF6",
            "gridcolor": "white",
            "gridwidth": 2,
            "linecolor": "white",
            "showbackground": true,
            "ticks": "",
            "zerolinecolor": "white"
           },
           "yaxis": {
            "backgroundcolor": "#E5ECF6",
            "gridcolor": "white",
            "gridwidth": 2,
            "linecolor": "white",
            "showbackground": true,
            "ticks": "",
            "zerolinecolor": "white"
           },
           "zaxis": {
            "backgroundcolor": "#E5ECF6",
            "gridcolor": "white",
            "gridwidth": 2,
            "linecolor": "white",
            "showbackground": true,
            "ticks": "",
            "zerolinecolor": "white"
           }
          },
          "shapedefaults": {
           "line": {
            "color": "#2a3f5f"
           }
          },
          "ternary": {
           "aaxis": {
            "gridcolor": "white",
            "linecolor": "white",
            "ticks": ""
           },
           "baxis": {
            "gridcolor": "white",
            "linecolor": "white",
            "ticks": ""
           },
           "bgcolor": "#E5ECF6",
           "caxis": {
            "gridcolor": "white",
            "linecolor": "white",
            "ticks": ""
           }
          },
          "title": {
           "x": 0.05
          },
          "xaxis": {
           "automargin": true,
           "gridcolor": "white",
           "linecolor": "white",
           "ticks": "",
           "title": {
            "standoff": 15
           },
           "zerolinecolor": "white",
           "zerolinewidth": 2
          },
          "yaxis": {
           "automargin": true,
           "gridcolor": "white",
           "linecolor": "white",
           "ticks": "",
           "title": {
            "standoff": 15
           },
           "zerolinecolor": "white",
           "zerolinewidth": 2
          }
         }
        },
        "width": 960,
        "xaxis": {
         "anchor": "y",
         "gridcolor": "rgba(0,0,0,0.1)",
         "mirror": "ticks",
         "nticks": 8,
         "showgrid": true,
         "showline": true,
         "side": "bottom",
         "tickfont": {
          "size": 16
         },
         "ticks": "inside",
         "title": {
          "font": {
           "color": "#000000",
           "size": 20
          },
          "text": "Composition (fraction)"
         },
         "type": "linear",
         "zeroline": false
        },
        "yaxis": {
         "anchor": "x",
         "gridcolor": "rgba(0,0,0,0.1)",
         "mirror": "ticks",
         "showgrid": true,
         "showline": true,
         "side": "left",
         "tickfont": {
          "size": 16
         },
         "ticks": "inside",
         "title": {
          "font": {
           "color": "#000000",
           "size": 20
          },
          "text": "Formation energy (eV/atom)"
         },
         "type": "linear"
        }
       }
      }
     },
     "metadata": {},
     "output_type": "display_data"
    },
    {
     "name": "stdout",
     "output_type": "stream",
     "text": [
      "B: H_fusion = 50200.0 J/mol, T_fusion = 2350.0 K, T_vaporization = 4273.15 K\n",
      "Dy: H_fusion = 11060.0 J/mol, T_fusion = 1685.0 K, T_vaporization = 2840.15 K\n",
      "\n",
      "Reading MPDS json from entry at https://mpds.io/entry/C900285...\n",
      "\n",
      "Best fitted parameters for B-Dy: [52512.32, -78.73, 66933.72, -65.99]\n",
      "MAE = 53.11\n",
      "L0 = 52512 - 78.73*t\n",
      "L1 = 66933 - 65.99*t\n"
     ]
    },
    {
     "data": {
      "image/png": "[encoded data removed]",
      "text/plain": [
       "<Figure size 800x500 with 3 Axes>"
      ]
     },
     "metadata": {},
     "output_type": "display_data"
    },
    {
     "data": {
      "application/vnd.plotly.v1+json": {
       "config": {
        "plotlyServerURL": "https://plot.ly"
       },
       "data": [
        {
         "line": {
          "color": "#B82E2E",
          "dash": "dash",
          "width": 4
         },
         "mode": "lines",
         "showlegend": false,
         "type": "scatter",
         "x": [
          0.0381243,
          0.825169,
          0.831658,
          0.871746,
          0.913822,
          0.95764,
          1.00297,
          1.0495,
          1.09709,
          1.14547,
          1.19442,
          1.24369,
          1.29307,
          1.34232,
          1.39121,
          1.43952,
          1.48704,
          1.53353,
          1.53431,
          1.5705299999999998,
          1.9848500000000002,
          2.3767,
          2.74156,
          3.08212,
          3.40111,
          3.70123,
          3.9852,
          4.25572,
          4.5155,
          4.76723,
          5.01362,
          5.25733,
          5.50105,
          5.74744,
          5.99917,
          6.258910000000001,
          6.521159999999999,
          6.82615,
          7.117899999999999,
          7.394289999999999,
          7.659690000000001,
          7.918450000000001,
          8.17492,
          8.43341,
          8.69824,
          8.9737,
          9.26407,
          9.57364,
          9.90666,
          10.2674,
          10.6603,
          11.0895,
          11.5594,
          12.0606,
          12.5962,
          13.129299999999999,
          13.6522,
          14.1651,
          14.6681,
          15.1612,
          15.6446,
          16.1182,
          16.5823,
          17.037,
          17.4823,
          17.9186,
          18.3459,
          18.7647,
          19.1753,
          19.578,
          19.9731,
          20.4527,
          21.0957,
          21.888,
          22.8148,
          23.861,
          25.0108,
          26.248699999999996,
          27.5589,
          28.9259,
          30.334,
          31.7673,
          33.2103,
          34.6473,
          36.0625,
          37.4401,
          38.7646,
          40.012,
          45.4629,
          50.6467,
          55.5565,
          60.19760000000001,
          64.5755,
          68.6956,
          72.5633,
          76.1841,
          79.5633,
          82.7065,
          85.619,
          88.3062,
          90.7737,
          93.0267,
          95.0708,
          96.9113,
          98.5394,
          99.9428
         ],
         "y": [
          2091.71,
          2021.33,
          2021.37,
          2021.63,
          2021.9099999999999,
          2022.1999999999998,
          2022.5,
          2022.81,
          2023.13,
          2023.44,
          2023.75,
          2024.0499999999997,
          2024.33,
          2024.6099999999997,
          2024.8599999999997,
          2025.0899999999997,
          2025.29,
          2025.46,
          2025.46,
          2025.5699999999997,
          2033.3899999999999,
          2040.7599999999998,
          2047.56,
          2053.82,
          2059.58,
          2064.87,
          2069.71,
          2074.16,
          2078.22,
          2081.94,
          2085.35,
          2088.47,
          2091.34,
          2094,
          2096.46,
          2098.77,
          2100.89,
          2108.95,
          2116.68,
          2123.96,
          2130.83,
          2137.33,
          2143.5,
          2149.38,
          2155.01,
          2160.43,
          2165.68,
          2170.79,
          2175.82,
          2180.8,
          2185.77,
          2190.77,
          2195.85,
          2200.9,
          2229.53,
          2257.75,
          2285.03,
          2311.26,
          2336.3,
          2360.05,
          2382.37,
          2403.15,
          2422.26,
          2439.6,
          2455.02,
          2468.43,
          2479.68,
          2488.67,
          2495.27,
          2499.34,
          2500.75,
          2499.3,
          2494.93,
          2487.69,
          2477.62,
          2464.73,
          2449.05,
          2430.61,
          2409.44,
          2385.55,
          2358.98,
          2329.75,
          2297.88,
          2263.41,
          2226.36,
          2186.74,
          2144.6,
          2100.25,
          2062.41,
          2023.2199999999998,
          1982.9499999999998,
          1941.75,
          1899.81,
          1857.29,
          1814.37,
          1771.21,
          1728,
          1684.9,
          1642.0699999999997,
          1599.71,
          1557.9699999999998,
          1517.02,
          1477.0499999999997,
          1438.21,
          1401.02,
          1413.29
         ]
        },
        {
         "hovertemplate": "label=DyB12<br>x=%{x}<br>t=%{y}<extra></extra>",
         "legendgroup": "DyB12",
         "line": {
          "color": "rgb(246, 207, 113)",
          "dash": "solid",
          "width": 4
         },
         "marker": {
          "symbol": "circle"
         },
         "mode": "lines",
         "name": "DyB12",
         "orientation": "v",
         "showlegend": false,
         "type": "scatter",
         "x": [
          8,
          8,
          8,
          8,
          8
         ],
         "xaxis": "x",
         "y": [
          2133.814817139353,
          2077.891850747369,
          2122.7330948697468,
          2089.8539673571195,
          -273.15
         ],
         "yaxis": "y"
        },
        {
         "hovertemplate": "label=DyB4<br>x=%{x}<br>t=%{y}<extra></extra>",
         "legendgroup": "DyB4",
         "line": {
          "color": "rgb(248, 156, 116)",
          "dash": "solid",
          "width": 4
         },
         "marker": {
          "symbol": "circle"
         },
         "mode": "lines",
         "name": "DyB4",
         "orientation": "v",
         "showlegend": false,
         "type": "scatter",
         "x": [
          20,
          20,
          20,
          20,
          20,
          20,
          20,
          20,
          20,
          20,
          20,
          20,
          20,
          20,
          20,
          20,
          20,
          20,
          20,
          20,
          20,
          20,
          20,
          20,
          20,
          20,
          20,
          20,
          20,
          20,
          20,
          20,
          20,
          20,
          20,
          20,
          20,
          20,
          20,
          20,
          20,
          20,
          20,
          20,
          20,
          20
         ],
         "xaxis": "x",
         "y": [
          2096.273573771174,
          2108.668367804218,
          2133.814817139353,
          2367.7552986887063,
          2311.2205015603327,
          2251.139936979391,
          2476.679899364337,
          2485.94724686421,
          2497.2863508334876,
          2492.7961128437596,
          2499.4900028691136,
          2499.4900028691136,
          2464.94550848789,
          2450.70658734154,
          2414.6115582971042,
          2433.935769607206,
          2311.2684188786525,
          2341.0994173781874,
          2392.715444937071,
          2368.2243885981306,
          2278.597737082969,
          2242.833833265676,
          2159.6480570678796,
          2203.5008236530794,
          2330.5827876462727,
          2349.4611055715136,
          2271.4139588860094,
          2291.4680953040656,
          2128.6938722918476,
          2148.907362549777,
          2189.7241982052205,
          2169.265859258488,
          2210.228307431378,
          2230.721275352039,
          2446.588816325873,
          2432.898529262654,
          2418.0491435623494,
          2458.9941806586535,
          2469.989061124799,
          2487.245205214605,
          2479.4473689602505,
          2493.2613156122075,
          2497.379677098168,
          2385.3595395780944,
          2402.162747588,
          -273.15
         ],
         "yaxis": "y"
        },
        {
         "hovertemplate": "label=DyB2<br>x=%{x}<br>t=%{y}<extra></extra>",
         "legendgroup": "DyB2",
         "line": {
          "color": "rgb(220, 176, 242)",
          "dash": "solid",
          "width": 4
         },
         "marker": {
          "symbol": "circle"
         },
         "mode": "lines",
         "name": "DyB2",
         "orientation": "v",
         "showlegend": false,
         "type": "scatter",
         "x": [
          33,
          33,
          33,
          33,
          33,
          33,
          33,
          33,
          33,
          33,
          33,
          33,
          33,
          33,
          33,
          33,
          33,
          33,
          33,
          33,
          33,
          33,
          33,
          33,
          33,
          33,
          33,
          33,
          33,
          33,
          33,
          33,
          33,
          33,
          33,
          33,
          33,
          33,
          33,
          33,
          33,
          33,
          33,
          33,
          33,
          33,
          33,
          33,
          33,
          33,
          33,
          33,
          33,
          33,
          33,
          33
         ],
         "xaxis": "x",
         "y": [
          2096.273573771174,
          1386.3195398257649,
          1394.6125180652093,
          1480.1095676639525,
          1533.3613363951267,
          2020.4304968684837,
          2092.1505996649507,
          2057.2045492002917,
          1934.069112494306,
          1922.1488063108582,
          1898.8628403829516,
          1910.407671158744,
          1865.570662662789,
          1887.5332486915463,
          1876.4312245558272,
          1763.8706334528247,
          1788.3113011787564,
          1834.5376212982246,
          1824.7339954145327,
          1815.20862796647,
          1669.6203097116327,
          1707.5367608963106,
          1727.7377542676904,
          1741.6233293438804,
          1734.6066935871472,
          1946.1470139750727,
          1958.3581288571568,
          1983.078045042395,
          1970.6785993541139,
          1995.5267080528452,
          2007.9896901780635,
          2069.1252818754747,
          2080.7925417152064,
          2032.8091552443161,
          2045.0825856681263,
          1844.6162996053117,
          1854.9624421235658,
          1748.8232271801462,
          1756.2314150499628,
          1771.7548161185173,
          1779.898115273988,
          1796.9969855738073,
          1805.9621772336736,
          1686.2705073261827,
          1678.3365097298433,
          1693.6670460819346,
          1700.7074668313776,
          1714.2641065621242,
          1720.9738640478572,
          1570.31064230541,
          1597.508553948372,
          1618.372090755919,
          1634.915035936583,
          1659.8004821439913,
          1648.4353747280475,
          -273.15
         ],
         "yaxis": "y"
        },
        {
         "hovertemplate": "x=%{x}<br>y=%{y}<extra></extra>",
         "legendgroup": "",
         "line": {
          "color": "Silver",
          "dash": "solid",
          "width": 4
         },
         "marker": {
          "symbol": "circle"
         },
         "mode": "lines",
         "name": "",
         "orientation": "v",
         "showlegend": false,
         "type": "scatter",
         "x": [
          33,
          99,
          100
         ],
         "xaxis": "x",
         "y": [
          1386.3195398257649,
          1386.3195398257649,
          1386.3195398257649
         ],
         "yaxis": "y"
        },
        {
         "hovertemplate": "x=%{x}<br>y=%{y}<extra></extra>",
         "legendgroup": "",
         "line": {
          "color": "Silver",
          "dash": "solid",
          "width": 4
         },
         "marker": {
          "symbol": "circle"
         },
         "mode": "lines",
         "name": "",
         "orientation": "v",
         "showlegend": false,
         "type": "scatter",
         "x": [
          0,
          1,
          8
         ],
         "xaxis": "x",
         "y": [
          2077.891850747369,
          2077.891850747369,
          2077.891850747369
         ],
         "yaxis": "y"
        },
        {
         "hovertemplate": "x=%{x}<br>y=%{y}<extra></extra>",
         "legendgroup": "",
         "line": {
          "color": "Silver",
          "dash": "solid",
          "width": 4
         },
         "marker": {
          "symbol": "circle"
         },
         "mode": "lines",
         "name": "",
         "orientation": "v",
         "showlegend": false,
         "type": "scatter",
         "x": [
          20,
          33,
          46
         ],
         "xaxis": "x",
         "y": [
          2096.273573771174,
          2096.273573771174,
          2096.273573771174
         ],
         "yaxis": "y"
        },
        {
         "hovertemplate": "x=%{x}<br>y=%{y}<extra></extra>",
         "legendgroup": "",
         "line": {
          "color": "Silver",
          "dash": "solid",
          "width": 4
         },
         "marker": {
          "symbol": "circle"
         },
         "mode": "lines",
         "name": "",
         "orientation": "v",
         "showlegend": false,
         "type": "scatter",
         "x": [
          3,
          8,
          20
         ],
         "xaxis": "x",
         "y": [
          2133.814817139353,
          2133.814817139353,
          2133.814817139353
         ],
         "yaxis": "y"
        },
        {
         "hovertemplate": "label=L<br>x=%{x}<br>t=%{y}<extra></extra>",
         "legendgroup": "L",
         "line": {
          "color": "cornflowerblue",
          "dash": "solid",
          "width": 4
         },
         "marker": {
          "symbol": "circle"
         },
         "mode": "lines",
         "name": "L",
         "orientation": "v",
         "showlegend": false,
         "type": "scatter",
         "x": [
          0,
          1,
          2,
          3,
          4,
          5,
          6,
          7.000000000000001,
          8,
          9,
          10,
          11,
          12,
          13,
          14.000000000000002,
          15,
          16,
          17,
          18,
          19,
          20,
          21,
          22,
          23,
          24,
          25,
          26,
          27,
          28.000000000000004,
          28.999999999999996,
          30,
          31,
          32,
          33,
          34,
          35,
          36,
          37,
          38,
          39,
          40,
          41,
          42,
          43,
          44,
          45,
          46,
          47,
          48,
          49,
          50,
          51,
          52,
          53,
          54,
          55.00000000000001,
          56.00000000000001,
          56.99999999999999,
          57.99999999999999,
          59,
          60,
          61,
          62,
          63,
          64,
          65,
          66,
          67,
          68,
          69,
          70,
          71,
          72,
          73,
          74,
          75,
          76,
          77,
          78,
          79,
          80,
          81,
          82,
          83,
          84,
          85,
          86,
          87,
          88,
          89,
          90,
          91,
          92,
          93,
          94,
          95,
          96,
          97,
          98,
          99,
          100
         ],
         "xaxis": "x",
         "y": [
          2091.7100000000005,
          2077.891850747369,
          2089.8539673571195,
          2122.7330948697468,
          2159.6480570678796,
          2203.5008236530794,
          2242.833833265676,
          2278.597737082969,
          2311.2684188786525,
          2341.0994173781874,
          2368.2243885981306,
          2392.715444937071,
          2414.6115582971042,
          2433.935769607206,
          2450.70658734154,
          2464.94550848789,
          2476.679899364337,
          2485.94724686421,
          2492.7961128437596,
          2497.2863508334876,
          2499.4900028691136,
          2497.379677098168,
          2493.2613156122075,
          2487.245205214605,
          2479.4473689602505,
          2469.989061124799,
          2458.9941806586535,
          2446.588816325873,
          2432.898529262654,
          2418.0491435623494,
          2402.162747588,
          2385.3595395780944,
          2367.7552986887063,
          2349.4611055715136,
          2330.5827876462727,
          2311.2205015603327,
          2291.4680953040656,
          2271.4139588860094,
          2251.139936979391,
          2230.721275352039,
          2210.228307431378,
          2189.7241982052205,
          2169.265859258488,
          2148.907362549777,
          2128.6938722918476,
          2108.668367804218,
          2092.1505996649507,
          2080.7925417152064,
          2069.1252818754747,
          2057.2045492002917,
          2045.0825856681263,
          2032.8091552443161,
          2020.4304968684837,
          2007.9896901780635,
          1995.5267080528452,
          1983.078045042395,
          1970.6785993541139,
          1958.3581288571568,
          1946.1470139750727,
          1934.069112494306,
          1922.1488063108582,
          1910.407671158744,
          1898.8628403829516,
          1887.5332486915463,
          1876.4312245558272,
          1865.570662662789,
          1854.9624421235658,
          1844.6162996053117,
          1834.5376212982246,
          1824.7339954145327,
          1815.20862796647,
          1805.9621772336736,
          1796.9969855738073,
          1788.3113011787564,
          1779.898115273988,
          1771.7548161185173,
          1763.8706334528247,
          1756.2314150499628,
          1748.8232271801462,
          1741.6233293438804,
          1734.6066935871472,
          1727.7377542676904,
          1720.9738640478572,
          1714.2641065621242,
          1707.5367608963106,
          1700.7074668313776,
          1693.6670460819346,
          1686.2705073261827,
          1678.3365097298433,
          1669.6203097116327,
          1659.8004821439913,
          1648.4353747280475,
          1634.915035936583,
          1618.372090755919,
          1597.508553948372,
          1570.31064230541,
          1533.3613363951267,
          1480.1095676639525,
          1394.6125180652093,
          1386.3195398257649,
          1413.2900000000004
         ],
         "yaxis": "y"
        },
        {
         "line": {
          "color": "#B82E2E",
          "dash": "dash"
         },
         "mode": "lines",
         "name": "Digitized Liquidus",
         "showlegend": true,
         "type": "scatter",
         "x": [
          null
         ],
         "y": [
          null
         ]
        },
        {
         "marker": {
          "color": "cornflowerblue"
         },
         "mode": "lines",
         "name": "Fitted Liquidus",
         "showlegend": true,
         "type": "scatter",
         "x": [
          null
         ],
         "y": [
          null
         ]
        }
       ],
       "layout": {
        "annotations": [
         {
          "borderpad": 5,
          "font": {
           "color": "black",
           "size": 18
          },
          "showarrow": false,
          "text": "DyB12",
          "textangle": -90,
          "x": 5.5,
          "y": 500,
          "yanchor": "bottom"
         },
         {
          "borderpad": 5,
          "font": {
           "color": "black",
           "size": 18
          },
          "showarrow": false,
          "text": "DyB4",
          "textangle": -90,
          "x": 17.5,
          "y": 500,
          "yanchor": "bottom"
         },
         {
          "borderpad": 5,
          "font": {
           "color": "black",
           "size": 18
          },
          "showarrow": false,
          "text": "DyB2",
          "textangle": -90,
          "x": 30.5,
          "y": 500,
          "yanchor": "bottom"
         },
         {
          "font": {
           "color": "black",
           "size": 18
          },
          "showarrow": false,
          "text": "L",
          "x": 50,
          "y": 3050
         }
        ],
        "font": {
         "size": 22
        },
        "height": 700,
        "legend": {
         "font": {
          "size": 18
         },
         "x": 0.99,
         "xanchor": "right",
         "y": 0.99,
         "yanchor": "top"
        },
        "plot_bgcolor": "white",
        "showlegend": true,
        "template": {
         "data": {
          "bar": [
           {
            "error_x": {
             "color": "#2a3f5f"
            },
            "error_y": {
             "color": "#2a3f5f"
            },
            "marker": {
             "line": {
              "color": "#E5ECF6",
              "width": 0.5
             },
             "pattern": {
              "fillmode": "overlay",
              "size": 10,
              "solidity": 0.2
             }
            },
            "type": "bar"
           }
          ],
          "barpolar": [
           {
            "marker": {
             "line": {
              "color": "#E5ECF6",
              "width": 0.5
             },
             "pattern": {
              "fillmode": "overlay",
              "size": 10,
              "solidity": 0.2
             }
            },
            "type": "barpolar"
           }
          ],
          "carpet": [
           {
            "aaxis": {
             "endlinecolor": "#2a3f5f",
             "gridcolor": "white",
             "linecolor": "white",
             "minorgridcolor": "white",
             "startlinecolor": "#2a3f5f"
            },
            "baxis": {
             "endlinecolor": "#2a3f5f",
             "gridcolor": "white",
             "linecolor": "white",
             "minorgridcolor": "white",
             "startlinecolor": "#2a3f5f"
            },
            "type": "carpet"
           }
          ],
          "choropleth": [
           {
            "colorbar": {
             "outlinewidth": 0,
             "ticks": ""
            },
            "type": "choropleth"
           }
          ],
          "contour": [
           {
            "colorbar": {
             "outlinewidth": 0,
             "ticks": ""
            },
            "colorscale": [
             [
              0,
              "#0d0887"
             ],
             [
              0.1111111111111111,
              "#46039f"
             ],
             [
              0.2222222222222222,
              "#7201a8"
             ],
             [
              0.3333333333333333,
              "#9c179e"
             ],
             [
              0.4444444444444444,
              "#bd3786"
             ],
             [
              0.5555555555555556,
              "#d8576b"
             ],
             [
              0.6666666666666666,
              "#ed7953"
             ],
             [
              0.7777777777777778,
              "#fb9f3a"
             ],
             [
              0.8888888888888888,
              "#fdca26"
             ],
             [
              1,
              "#f0f921"
             ]
            ],
            "type": "contour"
           }
          ],
          "contourcarpet": [
           {
            "colorbar": {
             "outlinewidth": 0,
             "ticks": ""
            },
            "type": "contourcarpet"
           }
          ],
          "heatmap": [
           {
            "colorbar": {
             "outlinewidth": 0,
             "ticks": ""
            },
            "colorscale": [
             [
              0,
              "#0d0887"
             ],
             [
              0.1111111111111111,
              "#46039f"
             ],
             [
              0.2222222222222222,
              "#7201a8"
             ],
             [
              0.3333333333333333,
              "#9c179e"
             ],
             [
              0.4444444444444444,
              "#bd3786"
             ],
             [
              0.5555555555555556,
              "#d8576b"
             ],
             [
              0.6666666666666666,
              "#ed7953"
             ],
             [
              0.7777777777777778,
              "#fb9f3a"
             ],
             [
              0.8888888888888888,
              "#fdca26"
             ],
             [
              1,
              "#f0f921"
             ]
            ],
            "type": "heatmap"
           }
          ],
          "heatmapgl": [
           {
            "colorbar": {
             "outlinewidth": 0,
             "ticks": ""
            },
            "colorscale": [
             [
              0,
              "#0d0887"
             ],
             [
              0.1111111111111111,
              "#46039f"
             ],
             [
              0.2222222222222222,
              "#7201a8"
             ],
             [
              0.3333333333333333,
              "#9c179e"
             ],
             [
              0.4444444444444444,
              "#bd3786"
             ],
             [
              0.5555555555555556,
              "#d8576b"
             ],
             [
              0.6666666666666666,
              "#ed7953"
             ],
             [
              0.7777777777777778,
              "#fb9f3a"
             ],
             [
              0.8888888888888888,
              "#fdca26"
             ],
             [
              1,
              "#f0f921"
             ]
            ],
            "type": "heatmapgl"
           }
          ],
          "histogram": [
           {
            "marker": {
             "pattern": {
              "fillmode": "overlay",
              "size": 10,
              "solidity": 0.2
             }
            },
            "type": "histogram"
           }
          ],
          "histogram2d": [
           {
            "colorbar": {
             "outlinewidth": 0,
             "ticks": ""
            },
            "colorscale": [
             [
              0,
              "#0d0887"
             ],
             [
              0.1111111111111111,
              "#46039f"
             ],
             [
              0.2222222222222222,
              "#7201a8"
             ],
             [
              0.3333333333333333,
              "#9c179e"
             ],
             [
              0.4444444444444444,
              "#bd3786"
             ],
             [
              0.5555555555555556,
              "#d8576b"
             ],
             [
              0.6666666666666666,
              "#ed7953"
             ],
             [
              0.7777777777777778,
              "#fb9f3a"
             ],
             [
              0.8888888888888888,
              "#fdca26"
             ],
             [
              1,
              "#f0f921"
             ]
            ],
            "type": "histogram2d"
           }
          ],
          "histogram2dcontour": [
           {
            "colorbar": {
             "outlinewidth": 0,
             "ticks": ""
            },
            "colorscale": [
             [
              0,
              "#0d0887"
             ],
             [
              0.1111111111111111,
              "#46039f"
             ],
             [
              0.2222222222222222,
              "#7201a8"
             ],
             [
              0.3333333333333333,
              "#9c179e"
             ],
             [
              0.4444444444444444,
              "#bd3786"
             ],
             [
              0.5555555555555556,
              "#d8576b"
             ],
             [
              0.6666666666666666,
              "#ed7953"
             ],
             [
              0.7777777777777778,
              "#fb9f3a"
             ],
             [
              0.8888888888888888,
              "#fdca26"
             ],
             [
              1,
              "#f0f921"
             ]
            ],
            "type": "histogram2dcontour"
           }
          ],
          "mesh3d": [
           {
            "colorbar": {
             "outlinewidth": 0,
             "ticks": ""
            },
            "type": "mesh3d"
           }
          ],
          "parcoords": [
           {
            "line": {
             "colorbar": {
              "outlinewidth": 0,
              "ticks": ""
             }
            },
            "type": "parcoords"
           }
          ],
          "pie": [
           {
            "automargin": true,
            "type": "pie"
           }
          ],
          "scatter": [
           {
            "fillpattern": {
             "fillmode": "overlay",
             "size": 10,
             "solidity": 0.2
            },
            "type": "scatter"
           }
          ],
          "scatter3d": [
           {
            "line": {
             "colorbar": {
              "outlinewidth": 0,
              "ticks": ""
             }
            },
            "marker": {
             "colorbar": {
              "outlinewidth": 0,
              "ticks": ""
             }
            },
            "type": "scatter3d"
           }
          ],
          "scattercarpet": [
           {
            "marker": {
             "colorbar": {
              "outlinewidth": 0,
              "ticks": ""
             }
            },
            "type": "scattercarpet"
           }
          ],
          "scattergeo": [
           {
            "marker": {
             "colorbar": {
              "outlinewidth": 0,
              "ticks": ""
             }
            },
            "type": "scattergeo"
           }
          ],
          "scattergl": [
           {
            "marker": {
             "colorbar": {
              "outlinewidth": 0,
              "ticks": ""
             }
            },
            "type": "scattergl"
           }
          ],
          "scattermapbox": [
           {
            "marker": {
             "colorbar": {
              "outlinewidth": 0,
              "ticks": ""
             }
            },
            "type": "scattermapbox"
           }
          ],
          "scatterpolar": [
           {
            "marker": {
             "colorbar": {
              "outlinewidth": 0,
              "ticks": ""
             }
            },
            "type": "scatterpolar"
           }
          ],
          "scatterpolargl": [
           {
            "marker": {
             "colorbar": {
              "outlinewidth": 0,
              "ticks": ""
             }
            },
            "type": "scatterpolargl"
           }
          ],
          "scatterternary": [
           {
            "marker": {
             "colorbar": {
              "outlinewidth": 0,
              "ticks": ""
             }
            },
            "type": "scatterternary"
           }
          ],
          "surface": [
           {
            "colorbar": {
             "outlinewidth": 0,
             "ticks": ""
            },
            "colorscale": [
             [
              0,
              "#0d0887"
             ],
             [
              0.1111111111111111,
              "#46039f"
             ],
             [
              0.2222222222222222,
              "#7201a8"
             ],
             [
              0.3333333333333333,
              "#9c179e"
             ],
             [
              0.4444444444444444,
              "#bd3786"
             ],
             [
              0.5555555555555556,
              "#d8576b"
             ],
             [
              0.6666666666666666,
              "#ed7953"
             ],
             [
              0.7777777777777778,
              "#fb9f3a"
             ],
             [
              0.8888888888888888,
              "#fdca26"
             ],
             [
              1,
              "#f0f921"
             ]
            ],
            "type": "surface"
           }
          ],
          "table": [
           {
            "cells": {
             "fill": {
              "color": "#EBF0F8"
             },
             "line": {
              "color": "white"
             }
            },
            "header": {
             "fill": {
              "color": "#C8D4E3"
             },
             "line": {
              "color": "white"
             }
            },
            "type": "table"
           }
          ]
         },
         "layout": {
          "annotationdefaults": {
           "arrowcolor": "#2a3f5f",
           "arrowhead": 0,
           "arrowwidth": 1
          },
          "autotypenumbers": "strict",
          "coloraxis": {
           "colorbar": {
            "outlinewidth": 0,
            "ticks": ""
           }
          },
          "colorscale": {
           "diverging": [
            [
             0,
             "#8e0152"
            ],
            [
             0.1,
             "#c51b7d"
            ],
            [
             0.2,
             "#de77ae"
            ],
            [
             0.3,
             "#f1b6da"
            ],
            [
             0.4,
             "#fde0ef"
            ],
            [
             0.5,
             "#f7f7f7"
            ],
            [
             0.6,
             "#e6f5d0"
            ],
            [
             0.7,
             "#b8e186"
            ],
            [
             0.8,
             "#7fbc41"
            ],
            [
             0.9,
             "#4d9221"
            ],
            [
             1,
             "#276419"
            ]
           ],
           "sequential": [
            [
             0,
             "#0d0887"
            ],
            [
             0.1111111111111111,
             "#46039f"
            ],
            [
             0.2222222222222222,
             "#7201a8"
            ],
            [
             0.3333333333333333,
             "#9c179e"
            ],
            [
             0.4444444444444444,
             "#bd3786"
            ],
            [
             0.5555555555555556,
             "#d8576b"
            ],
            [
             0.6666666666666666,
             "#ed7953"
            ],
            [
             0.7777777777777778,
             "#fb9f3a"
            ],
            [
             0.8888888888888888,
             "#fdca26"
            ],
            [
             1,
             "#f0f921"
            ]
           ],
           "sequentialminus": [
            [
             0,
             "#0d0887"
            ],
            [
             0.1111111111111111,
             "#46039f"
            ],
            [
             0.2222222222222222,
             "#7201a8"
            ],
            [
             0.3333333333333333,
             "#9c179e"
            ],
            [
             0.4444444444444444,
             "#bd3786"
            ],
            [
             0.5555555555555556,
             "#d8576b"
            ],
            [
             0.6666666666666666,
             "#ed7953"
            ],
            [
             0.7777777777777778,
             "#fb9f3a"
            ],
            [
             0.8888888888888888,
             "#fdca26"
            ],
            [
             1,
             "#f0f921"
            ]
           ]
          },
          "colorway": [
           "#636efa",
           "#EF553B",
           "#00cc96",
           "#ab63fa",
           "#FFA15A",
           "#19d3f3",
           "#FF6692",
           "#B6E880",
           "#FF97FF",
           "#FECB52"
          ],
          "font": {
           "color": "#2a3f5f"
          },
          "geo": {
           "bgcolor": "white",
           "lakecolor": "white",
           "landcolor": "#E5ECF6",
           "showlakes": true,
           "showland": true,
           "subunitcolor": "white"
          },
          "hoverlabel": {
           "align": "left"
          },
          "hovermode": "closest",
          "mapbox": {
           "style": "light"
          },
          "paper_bgcolor": "white",
          "plot_bgcolor": "#E5ECF6",
          "polar": {
           "angularaxis": {
            "gridcolor": "white",
            "linecolor": "white",
            "ticks": ""
           },
           "bgcolor": "#E5ECF6",
           "radialaxis": {
            "gridcolor": "white",
            "linecolor": "white",
            "ticks": ""
           }
          },
          "scene": {
           "xaxis": {
            "backgroundcolor": "#E5ECF6",
            "gridcolor": "white",
            "gridwidth": 2,
            "linecolor": "white",
            "showbackground": true,
            "ticks": "",
            "zerolinecolor": "white"
           },
           "yaxis": {
            "backgroundcolor": "#E5ECF6",
            "gridcolor": "white",
            "gridwidth": 2,
            "linecolor": "white",
            "showbackground": true,
            "ticks": "",
            "zerolinecolor": "white"
           },
           "zaxis": {
            "backgroundcolor": "#E5ECF6",
            "gridcolor": "white",
            "gridwidth": 2,
            "linecolor": "white",
            "showbackground": true,
            "ticks": "",
            "zerolinecolor": "white"
           }
          },
          "shapedefaults": {
           "line": {
            "color": "#2a3f5f"
           }
          },
          "ternary": {
           "aaxis": {
            "gridcolor": "white",
            "linecolor": "white",
            "ticks": ""
           },
           "baxis": {
            "gridcolor": "white",
            "linecolor": "white",
            "ticks": ""
           },
           "bgcolor": "#E5ECF6",
           "caxis": {
            "gridcolor": "white",
            "linecolor": "white",
            "ticks": ""
           }
          },
          "title": {
           "x": 0.05
          },
          "xaxis": {
           "automargin": true,
           "gridcolor": "white",
           "linecolor": "white",
           "ticks": "",
           "title": {
            "standoff": 15
           },
           "zerolinecolor": "white",
           "zerolinewidth": 2
          },
          "yaxis": {
           "automargin": true,
           "gridcolor": "white",
           "linecolor": "white",
           "ticks": "",
           "title": {
            "standoff": 15
           },
           "zerolinecolor": "white",
           "zerolinewidth": 2
          }
         }
        },
        "title": {
         "text": "B-Dy DFT-Referenced Binary Phase Diagram"
        },
        "width": 960,
        "xaxis": {
         "linecolor": "black",
         "linewidth": 2,
         "mirror": true,
         "range": [
          0,
          100
         ],
         "showline": true,
         "tickcolor": "black",
         "tickformat": ".0f",
         "ticks": "outside",
         "title": {
          "text": "Dy (at. %)"
         }
        },
        "yaxis": {
         "linecolor": "black",
         "linewidth": 2,
         "mirror": true,
         "range": [
          500,
          3250
         ],
         "showline": true,
         "tickcolor": "black",
         "ticks": "outside",
         "ticksuffix": " ",
         "title": {
          "text": "T (°C)"
         }
        }
       }
      }
     },
     "metadata": {},
     "output_type": "display_data"
    },
    {
     "name": "stdout",
     "output_type": "stream",
     "text": [
      "No arguments specified for 't_vals', setting 't_units' to 'K'\n"
     ]
    },
    {
     "data": {
      "application/vnd.plotly.v1+json": {
       "config": {
        "plotlyServerURL": "https://plot.ly"
       },
       "data": [
        {
         "mode": "lines",
         "name": "Liquid T=2772K",
         "type": "scatter",
         "x": [
          0,
          0.01,
          0.02,
          0.03,
          0.04,
          0.05,
          0.06,
          0.07,
          0.08,
          0.09,
          0.1,
          0.11,
          0.12,
          0.13,
          0.14,
          0.15,
          0.16,
          0.17,
          0.18,
          0.19,
          0.2,
          0.21,
          0.22,
          0.23,
          0.24,
          0.25,
          0.26,
          0.27,
          0.28,
          0.29,
          0.3,
          0.31,
          0.32,
          0.33,
          0.34,
          0.35000000000000003,
          0.36,
          0.37,
          0.38,
          0.39,
          0.4,
          0.41000000000000003,
          0.42,
          0.43,
          0.44,
          0.45,
          0.46,
          0.47000000000000003,
          0.48,
          0.49,
          0.5,
          0.51,
          0.52,
          0.53,
          0.54,
          0.55,
          0.56,
          0.5700000000000001,
          0.58,
          0.59,
          0.6,
          0.61,
          0.62,
          0.63,
          0.64,
          0.65,
          0.66,
          0.67,
          0.68,
          0.6900000000000001,
          0.7000000000000001,
          0.71,
          0.72,
          0.73,
          0.74,
          0.75,
          0.76,
          0.77,
          0.78,
          0.79,
          0.8,
          0.81,
          0.8200000000000001,
          0.8300000000000001,
          0.84,
          0.85,
          0.86,
          0.87,
          0.88,
          0.89,
          0.9,
          0.91,
          0.92,
          0.93,
          0.9400000000000001,
          0.9500000000000001,
          0.96,
          0.97,
          0.98,
          0.99,
          1
         ],
         "y": [
          -0.08971486375883182,
          -0.1316116171569371,
          -0.1691214909382329,
          -0.20432061664232212,
          -0.23766146252628598,
          -0.2693663600834394,
          -0.29957207957506127,
          -0.32837379475680156,
          -0.35584324023916347,
          -0.38203761763787425,
          -0.40700448748837365,
          -0.4307846829017816,
          -0.453414154357873,
          -0.47492519508088366,
          -0.4953472870431231,
          -0.5147077039503072,
          -0.533031952653944,
          -0.5503441037170874,
          -0.5666670438659291,
          -0.5820226721003158,
          -0.5964320543333319,
          -0.6099155469531334,
          -0.6224928967210979,
          -0.6341833223922637,
          -0.6450055820350313,
          -0.6549780290301493,
          -0.6641186590118753,
          -0.6724451494905543,
          -0.6799748935082219,
          -0.6867250283882524,
          -0.692712460419732,
          -0.6979538861483184,
          -0.7024658108146158,
          -0.706264564378915,
          -0.7093663154906359,
          -0.711787083696818,
          -0.7135427501327577,
          -0.7146490668965432,
          -0.7151216652756341,
          -0.7149760629661334,
          -0.7142276704027344,
          -0.7128917962985174,
          -0.7109836524780466,
          -0.7085183580739818,
          -0.7055109431461767,
          -0.7019763517726054,
          -0.697929444653143,
          -0.6933850012599388,
          -0.6883577215616843,
          -0.6828622273432943,
          -0.6769130631372423,
          -0.6705246967778958,
          -0.6637115195855541,
          -0.6564878461824102,
          -0.6488679139382161,
          -0.6408658820389467,
          -0.6324958301671195,
          -0.6237717567775266,
          -0.61470757694686,
          -0.6053171197699329,
          -0.595614125268752,
          -0.5856122407734197,
          -0.5753250167255226,
          -0.5647659018450343,
          -0.5539482375905181,
          -0.5428852518291811,
          -0.5315900516176019,
          -0.5200756149751509,
          -0.508354781509455,
          -0.49644024172576084,
          -0.48434452481844475,
          -0.4720799847015694,
          -0.45965878398414295,
          -0.44709287553174665,
          -0.43439398117567224,
          -0.4215735670285513,
          -0.4086428147347051,
          -0.39561258781454306,
          -0.38249339204198307,
          -0.36929532850329144,
          -0.3560280375980962,
          -0.342700631719687,
          -0.3293216136345743,
          -0.3158987765843402,
          -0.3024390807238047,
          -0.2889484984814429,
          -0.2754318184488676,
          -0.2618923929292372,
          -0.2483318073715028,
          -0.2347494389580213,
          -0.22114185361922367,
          -0.20750196003000182,
          -0.1938177842339024,
          -0.18007062485015224,
          -0.16623213941769086,
          -0.15225945248068185,
          -0.13808624943814185,
          -0.12360461918345847,
          -0.1086210893779836,
          -0.0927120509193027,
          -0.07383023142247952
         ]
        },
        {
         "mode": "lines",
         "name": "Liquid T=0K",
         "type": "scatter",
         "x": [
          0,
          0.01,
          0.02,
          0.03,
          0.04,
          0.05,
          0.06,
          0.07,
          0.08,
          0.09,
          0.1,
          0.11,
          0.12,
          0.13,
          0.14,
          0.15,
          0.16,
          0.17,
          0.18,
          0.19,
          0.2,
          0.21,
          0.22,
          0.23,
          0.24,
          0.25,
          0.26,
          0.27,
          0.28,
          0.29,
          0.3,
          0.31,
          0.32,
          0.33,
          0.34,
          0.35000000000000003,
          0.36,
          0.37,
          0.38,
          0.39,
          0.4,
          0.41000000000000003,
          0.42,
          0.43,
          0.44,
          0.45,
          0.46,
          0.47000000000000003,
          0.48,
          0.49,
          0.5,
          0.51,
          0.52,
          0.53,
          0.54,
          0.55,
          0.56,
          0.5700000000000001,
          0.58,
          0.59,
          0.6,
          0.61,
          0.62,
          0.63,
          0.64,
          0.65,
          0.66,
          0.67,
          0.68,
          0.6900000000000001,
          0.7000000000000001,
          0.71,
          0.72,
          0.73,
          0.74,
          0.75,
          0.76,
          0.77,
          0.78,
          0.79,
          0.8,
          0.81,
          0.8200000000000001,
          0.8300000000000001,
          0.84,
          0.85,
          0.86,
          0.87,
          0.88,
          0.89,
          0.9,
          0.91,
          0.92,
          0.93,
          0.9400000000000001,
          0.9500000000000001,
          0.96,
          0.97,
          0.98,
          0.99,
          1
         ],
         "y": [
          0.5202881276882417,
          0.5283501369913448,
          0.5358953872776706,
          0.5429322032057966,
          0.5494689094343008,
          0.5555138306217609,
          0.5610752914267545,
          0.5661616165078597,
          0.570781130523654,
          0.5749421581327152,
          0.5786530239936214,
          0.5819220527649499,
          0.5847575691052788,
          0.5871678976731858,
          0.5891613631272486,
          0.5907462901260452,
          0.5919310033281531,
          0.5927238273921503,
          0.5931330869766144,
          0.5931671067401233,
          0.5928342113412548,
          0.5921427254385865,
          0.5911009736906963,
          0.5897172807561619,
          0.5879999712935613,
          0.5859573699614721,
          0.583597801418472,
          0.5809295903231388,
          0.5779610613340506,
          0.5747005391097848,
          0.5711563483089193,
          0.5673368135900319,
          0.5632502596117003,
          0.5589050110325023,
          0.5543093925110157,
          0.5494717287058185,
          0.5444003442754881,
          0.5391035638786026,
          0.5335897121737395,
          0.5278671138194767,
          0.5219440934743921,
          0.5158289757970632,
          0.509530085446068,
          0.5030557470799842,
          0.4964142853573897,
          0.48961402493686207,
          0.4826632904769792,
          0.4755704066363187,
          0.4683436980734587,
          0.46099148944697677,
          0.45352210541545057,
          0.4459438706374581,
          0.43826510977157696,
          0.43049414747638504,
          0.4226393084104601,
          0.4147089172323798,
          0.40671129860072214,
          0.39865477717406467,
          0.3905476776109854,
          0.38239832457006195,
          0.374215042709872,
          0.3660061566889936,
          0.35777999116600423,
          0.34954487079948193,
          0.3413091202480043,
          0.3330810641701492,
          0.32486902722449434,
          0.31668133406961757,
          0.30852630936409675,
          0.3004122777665094,
          0.29234756393543354,
          0.28434049252944693,
          0.2763993882071272,
          0.2685325756270521,
          0.2607483794477996,
          0.25305512432794736,
          0.24546113492607316,
          0.23797473590075485,
          0.2306042519105701,
          0.22335800761409677,
          0.2162443276699126,
          0.20927153673659535,
          0.2024479594727229,
          0.19578192053687288,
          0.18928174458762329,
          0.1829557562835516,
          0.17681228028323578,
          0.1708596412452535,
          0.16510616382818274,
          0.15956017269060113,
          0.1542299924910864,
          0.14912394788821642,
          0.1442503635405689,
          0.13961756410672163,
          0.13523387424525243,
          0.13110761861473916,
          0.1272471218737594,
          0.12366070868089112,
          0.12035670369471198,
          0.11734343157379966,
          0.11462921697673213
         ]
        },
        {
         "hoverinfo": "none",
         "line": {
          "color": "black",
          "width": 4
         },
         "mode": "lines",
         "showlegend": false,
         "type": "scatter",
         "x": [
          0.3333333333333333,
          0.2,
          null,
          0.2,
          0.07692307692307693,
          null,
          0.07692307692307693,
          0,
          null,
          0.3333333333333333,
          1,
          null
         ],
         "y": [
          -0.5613357794444447,
          -0.5964320543333329,
          null,
          -0.5964320543333329,
          -0.25008072923076863,
          null,
          -0.25008072923076863,
          0,
          null,
          -0.5613357794444447,
          0,
          null
         ]
        },
        {
         "hoverinfo": "skip",
         "mode": "text",
         "name": "Labels (stable)",
         "opacity": 1,
         "showlegend": true,
         "text": [
          "DyB<sub>2</sub>",
          "DyB<sub>4</sub>",
          "DyB<sub>12</sub>"
         ],
         "textposition": [
          "bottom right",
          "bottom right",
          "bottom left"
         ],
         "type": "scatter",
         "visible": true,
         "x": [
          0.3413333333333333,
          0.20800000000000002,
          0.06892307692307692
         ],
         "y": [
          -0.5743357794444447,
          -0.6094320543333329,
          -0.26308072923076864
         ]
        },
        {
         "error_y": {
          "array": [
           0,
           0,
           0,
           0,
           0
          ],
          "color": "gray",
          "thickness": 2.5,
          "type": "data",
          "width": 5
         },
         "hoverinfo": "text",
         "hoverlabel": {
          "font": {
           "size": 14
          }
         },
         "hovertext": [
          "DyB<sub>2</sub> (mp-2057-GGA) <br> -0.561 eV/atom (Stable)",
          "DyB<sub>4</sub> (mp-2719-GGA) <br> -0.596 eV/atom (Stable)",
          "DyB<sub>12</sub> (mp-1103476-GGA) <br> -0.25 eV/atom (Stable)",
          "B (mp-160-GGA) <br> 0.0 eV/atom (Stable)",
          "Dy (mp-10658-GGA) <br> 0.0 eV/atom (Stable)"
         ],
         "marker": {
          "color": "darkgreen",
          "line": {
           "color": "black",
           "width": 2
          },
          "size": 16
         },
         "mode": "markers",
         "name": "Stable",
         "opacity": 0.99,
         "showlegend": true,
         "type": "scatter",
         "x": [
          0.3333333333333333,
          0.2,
          0.07692307692307693,
          0,
          1
         ],
         "y": [
          -0.5613357794444447,
          -0.5964320543333329,
          -0.25008072923076863,
          0,
          0
         ]
        },
        {
         "hoverinfo": "text",
         "hoverlabel": {
          "font": {
           "size": 14
          }
         },
         "hovertext": [
          "B (mp-22046-GGA) <br> 0.098 eV/atom (+0.098 eV/atom)",
          "B (mp-570316-GGA) <br> 0.155 eV/atom (+0.155 eV/atom)",
          "B (mp-161-GGA) <br> 0.027 eV/atom (+0.027 eV/atom)",
          "B (mp-1228790-GGA) <br> 0.191 eV/atom (+0.191 eV/atom)",
          "B (mp-1193675-GGA) <br> 0.027 eV/atom (+0.027 eV/atom)",
          "Dy (mp-1184067-GGA) <br> 0.004 eV/atom (+0.004 eV/atom)",
          "Dy (mp-88-GGA) <br> 0.017 eV/atom (+0.017 eV/atom)",
          "Dy (mp-10750-GGA) <br> 0.021 eV/atom (+0.021 eV/atom)",
          "Dy (mp-10751-GGA) <br> 0.147 eV/atom (+0.147 eV/atom)",
          "DyB<sub>6</sub> (mp-568319-GGA) <br> -0.4 eV/atom (+0.036 eV/atom)"
         ],
         "marker": {
          "color": [
           0.098,
           0.155,
           0.027,
           0.191,
           0.027,
           0.004,
           0.017,
           0.021,
           0.147,
           0.036
          ],
          "colorscale": [
           [
            0,
            "#fff5e3"
           ],
           [
            0.5,
            "#f24324"
           ],
           [
            1,
            "#c40000"
           ]
          ],
          "line": {
           "color": "black",
           "width": 1
          },
          "opacity": 0.8,
          "size": 7,
          "symbol": "diamond"
         },
         "mode": "markers",
         "name": "Above Hull",
         "showlegend": true,
         "type": "scatter",
         "x": [
          0,
          0,
          0,
          0,
          0,
          1,
          1,
          1,
          1,
          0.14285714285714285
         ],
         "y": [
          0.09835179263333316,
          0.1552666991666669,
          0.02697622816666743,
          0.19068457950000137,
          0.02743610940476263,
          0.004164762499999419,
          0.017375770000000124,
          0.02132332999999953,
          0.1468159499999997,
          -0.40010284071428565
         ]
        }
       ],
       "layout": {
        "annotations": [
         {
          "align": "center",
          "font": {
           "color": "#000000",
           "size": 24
          },
          "opacity": 1,
          "showarrow": false,
          "text": "B",
          "x": -0.03,
          "xref": "x",
          "y": -0.03,
          "yref": "y"
         },
         {
          "align": "center",
          "font": {
           "color": "#000000",
           "size": 24
          },
          "opacity": 1,
          "showarrow": false,
          "text": "Dy",
          "x": 1.03,
          "xref": "x",
          "y": -0.03,
          "yref": "y"
         }
        ],
        "autosize": true,
        "coloraxis": {
         "colorbar": {
          "x": 1,
          "y": 0.05,
          "yanchor": "top"
         }
        },
        "height": 700,
        "hovermode": "closest",
        "legend": {
         "orientation": "h",
         "tracegroupgap": 7,
         "traceorder": "reversed",
         "x": 0,
         "xanchor": "left",
         "y": 1.05
        },
        "margin": {
         "b": 10,
         "l": 10,
         "pad": 0,
         "r": 10,
         "t": 0
        },
        "paper_bgcolor": "white",
        "plot_bgcolor": "white",
        "showlegend": true,
        "template": {
         "data": {
          "bar": [
           {
            "error_x": {
             "color": "#2a3f5f"
            },
            "error_y": {
             "color": "#2a3f5f"
            },
            "marker": {
             "line": {
              "color": "#E5ECF6",
              "width": 0.5
             },
             "pattern": {
              "fillmode": "overlay",
              "size": 10,
              "solidity": 0.2
             }
            },
            "type": "bar"
           }
          ],
          "barpolar": [
           {
            "marker": {
             "line": {
              "color": "#E5ECF6",
              "width": 0.5
             },
             "pattern": {
              "fillmode": "overlay",
              "size": 10,
              "solidity": 0.2
             }
            },
            "type": "barpolar"
           }
          ],
          "carpet": [
           {
            "aaxis": {
             "endlinecolor": "#2a3f5f",
             "gridcolor": "white",
             "linecolor": "white",
             "minorgridcolor": "white",
             "startlinecolor": "#2a3f5f"
            },
            "baxis": {
             "endlinecolor": "#2a3f5f",
             "gridcolor": "white",
             "linecolor": "white",
             "minorgridcolor": "white",
             "startlinecolor": "#2a3f5f"
            },
            "type": "carpet"
           }
          ],
          "choropleth": [
           {
            "colorbar": {
             "outlinewidth": 0,
             "ticks": ""
            },
            "type": "choropleth"
           }
          ],
          "contour": [
           {
            "colorbar": {
             "outlinewidth": 0,
             "ticks": ""
            },
            "colorscale": [
             [
              0,
              "#0d0887"
             ],
             [
              0.1111111111111111,
              "#46039f"
             ],
             [
              0.2222222222222222,
              "#7201a8"
             ],
             [
              0.3333333333333333,
              "#9c179e"
             ],
             [
              0.4444444444444444,
              "#bd3786"
             ],
             [
              0.5555555555555556,
              "#d8576b"
             ],
             [
              0.6666666666666666,
              "#ed7953"
             ],
             [
              0.7777777777777778,
              "#fb9f3a"
             ],
             [
              0.8888888888888888,
              "#fdca26"
             ],
             [
              1,
              "#f0f921"
             ]
            ],
            "type": "contour"
           }
          ],
          "contourcarpet": [
           {
            "colorbar": {
             "outlinewidth": 0,
             "ticks": ""
            },
            "type": "contourcarpet"
           }
          ],
          "heatmap": [
           {
            "colorbar": {
             "outlinewidth": 0,
             "ticks": ""
            },
            "colorscale": [
             [
              0,
              "#0d0887"
             ],
             [
              0.1111111111111111,
              "#46039f"
             ],
             [
              0.2222222222222222,
              "#7201a8"
             ],
             [
              0.3333333333333333,
              "#9c179e"
             ],
             [
              0.4444444444444444,
              "#bd3786"
             ],
             [
              0.5555555555555556,
              "#d8576b"
             ],
             [
              0.6666666666666666,
              "#ed7953"
             ],
             [
              0.7777777777777778,
              "#fb9f3a"
             ],
             [
              0.8888888888888888,
              "#fdca26"
             ],
             [
              1,
              "#f0f921"
             ]
            ],
            "type": "heatmap"
           }
          ],
          "heatmapgl": [
           {
            "colorbar": {
             "outlinewidth": 0,
             "ticks": ""
            },
            "colorscale": [
             [
              0,
              "#0d0887"
             ],
             [
              0.1111111111111111,
              "#46039f"
             ],
             [
              0.2222222222222222,
              "#7201a8"
             ],
             [
              0.3333333333333333,
              "#9c179e"
             ],
             [
              0.4444444444444444,
              "#bd3786"
             ],
             [
              0.5555555555555556,
              "#d8576b"
             ],
             [
              0.6666666666666666,
              "#ed7953"
             ],
             [
              0.7777777777777778,
              "#fb9f3a"
             ],
             [
              0.8888888888888888,
              "#fdca26"
             ],
             [
              1,
              "#f0f921"
             ]
            ],
            "type": "heatmapgl"
           }
          ],
          "histogram": [
           {
            "marker": {
             "pattern": {
              "fillmode": "overlay",
              "size": 10,
              "solidity": 0.2
             }
            },
            "type": "histogram"
           }
          ],
          "histogram2d": [
           {
            "colorbar": {
             "outlinewidth": 0,
             "ticks": ""
            },
            "colorscale": [
             [
              0,
              "#0d0887"
             ],
             [
              0.1111111111111111,
              "#46039f"
             ],
             [
              0.2222222222222222,
              "#7201a8"
             ],
             [
              0.3333333333333333,
              "#9c179e"
             ],
             [
              0.4444444444444444,
              "#bd3786"
             ],
             [
              0.5555555555555556,
              "#d8576b"
             ],
             [
              0.6666666666666666,
              "#ed7953"
             ],
             [
              0.7777777777777778,
              "#fb9f3a"
             ],
             [
              0.8888888888888888,
              "#fdca26"
             ],
             [
              1,
              "#f0f921"
             ]
            ],
            "type": "histogram2d"
           }
          ],
          "histogram2dcontour": [
           {
            "colorbar": {
             "outlinewidth": 0,
             "ticks": ""
            },
            "colorscale": [
             [
              0,
              "#0d0887"
             ],
             [
              0.1111111111111111,
              "#46039f"
             ],
             [
              0.2222222222222222,
              "#7201a8"
             ],
             [
              0.3333333333333333,
              "#9c179e"
             ],
             [
              0.4444444444444444,
              "#bd3786"
             ],
             [
              0.5555555555555556,
              "#d8576b"
             ],
             [
              0.6666666666666666,
              "#ed7953"
             ],
             [
              0.7777777777777778,
              "#fb9f3a"
             ],
             [
              0.8888888888888888,
              "#fdca26"
             ],
             [
              1,
              "#f0f921"
             ]
            ],
            "type": "histogram2dcontour"
           }
          ],
          "mesh3d": [
           {
            "colorbar": {
             "outlinewidth": 0,
             "ticks": ""
            },
            "type": "mesh3d"
           }
          ],
          "parcoords": [
           {
            "line": {
             "colorbar": {
              "outlinewidth": 0,
              "ticks": ""
             }
            },
            "type": "parcoords"
           }
          ],
          "pie": [
           {
            "automargin": true,
            "type": "pie"
           }
          ],
          "scatter": [
           {
            "fillpattern": {
             "fillmode": "overlay",
             "size": 10,
             "solidity": 0.2
            },
            "type": "scatter"
           }
          ],
          "scatter3d": [
           {
            "line": {
             "colorbar": {
              "outlinewidth": 0,
              "ticks": ""
             }
            },
            "marker": {
             "colorbar": {
              "outlinewidth": 0,
              "ticks": ""
             }
            },
            "type": "scatter3d"
           }
          ],
          "scattercarpet": [
           {
            "marker": {
             "colorbar": {
              "outlinewidth": 0,
              "ticks": ""
             }
            },
            "type": "scattercarpet"
           }
          ],
          "scattergeo": [
           {
            "marker": {
             "colorbar": {
              "outlinewidth": 0,
              "ticks": ""
             }
            },
            "type": "scattergeo"
           }
          ],
          "scattergl": [
           {
            "marker": {
             "colorbar": {
              "outlinewidth": 0,
              "ticks": ""
             }
            },
            "type": "scattergl"
           }
          ],
          "scattermapbox": [
           {
            "marker": {
             "colorbar": {
              "outlinewidth": 0,
              "ticks": ""
             }
            },
            "type": "scattermapbox"
           }
          ],
          "scatterpolar": [
           {
            "marker": {
             "colorbar": {
              "outlinewidth": 0,
              "ticks": ""
             }
            },
            "type": "scatterpolar"
           }
          ],
          "scatterpolargl": [
           {
            "marker": {
             "colorbar": {
              "outlinewidth": 0,
              "ticks": ""
             }
            },
            "type": "scatterpolargl"
           }
          ],
          "scatterternary": [
           {
            "marker": {
             "colorbar": {
              "outlinewidth": 0,
              "ticks": ""
             }
            },
            "type": "scatterternary"
           }
          ],
          "surface": [
           {
            "colorbar": {
             "outlinewidth": 0,
             "ticks": ""
            },
            "colorscale": [
             [
              0,
              "#0d0887"
             ],
             [
              0.1111111111111111,
              "#46039f"
             ],
             [
              0.2222222222222222,
              "#7201a8"
             ],
             [
              0.3333333333333333,
              "#9c179e"
             ],
             [
              0.4444444444444444,
              "#bd3786"
             ],
             [
              0.5555555555555556,
              "#d8576b"
             ],
             [
              0.6666666666666666,
              "#ed7953"
             ],
             [
              0.7777777777777778,
              "#fb9f3a"
             ],
             [
              0.8888888888888888,
              "#fdca26"
             ],
             [
              1,
              "#f0f921"
             ]
            ],
            "type": "surface"
           }
          ],
          "table": [
           {
            "cells": {
             "fill": {
              "color": "#EBF0F8"
             },
             "line": {
              "color": "white"
             }
            },
            "header": {
             "fill": {
              "color": "#C8D4E3"
             },
             "line": {
              "color": "white"
             }
            },
            "type": "table"
           }
          ]
         },
         "layout": {
          "annotationdefaults": {
           "arrowcolor": "#2a3f5f",
           "arrowhead": 0,
           "arrowwidth": 1
          },
          "autotypenumbers": "strict",
          "coloraxis": {
           "colorbar": {
            "outlinewidth": 0,
            "ticks": ""
           }
          },
          "colorscale": {
           "diverging": [
            [
             0,
             "#8e0152"
            ],
            [
             0.1,
             "#c51b7d"
            ],
            [
             0.2,
             "#de77ae"
            ],
            [
             0.3,
             "#f1b6da"
            ],
            [
             0.4,
             "#fde0ef"
            ],
            [
             0.5,
             "#f7f7f7"
            ],
            [
             0.6,
             "#e6f5d0"
            ],
            [
             0.7,
             "#b8e186"
            ],
            [
             0.8,
             "#7fbc41"
            ],
            [
             0.9,
             "#4d9221"
            ],
            [
             1,
             "#276419"
            ]
           ],
           "sequential": [
            [
             0,
             "#0d0887"
            ],
            [
             0.1111111111111111,
             "#46039f"
            ],
            [
             0.2222222222222222,
             "#7201a8"
            ],
            [
             0.3333333333333333,
             "#9c179e"
            ],
            [
             0.4444444444444444,
             "#bd3786"
            ],
            [
             0.5555555555555556,
             "#d8576b"
            ],
            [
             0.6666666666666666,
             "#ed7953"
            ],
            [
             0.7777777777777778,
             "#fb9f3a"
            ],
            [
             0.8888888888888888,
             "#fdca26"
            ],
            [
             1,
             "#f0f921"
            ]
           ],
           "sequentialminus": [
            [
             0,
             "#0d0887"
            ],
            [
             0.1111111111111111,
             "#46039f"
            ],
            [
             0.2222222222222222,
             "#7201a8"
            ],
            [
             0.3333333333333333,
             "#9c179e"
            ],
            [
             0.4444444444444444,
             "#bd3786"
            ],
            [
             0.5555555555555556,
             "#d8576b"
            ],
            [
             0.6666666666666666,
             "#ed7953"
            ],
            [
             0.7777777777777778,
             "#fb9f3a"
            ],
            [
             0.8888888888888888,
             "#fdca26"
            ],
            [
             1,
             "#f0f921"
            ]
           ]
          },
          "colorway": [
           "#636efa",
           "#EF553B",
           "#00cc96",
           "#ab63fa",
           "#FFA15A",
           "#19d3f3",
           "#FF6692",
           "#B6E880",
           "#FF97FF",
           "#FECB52"
          ],
          "font": {
           "color": "#2a3f5f"
          },
          "geo": {
           "bgcolor": "white",
           "lakecolor": "white",
           "landcolor": "#E5ECF6",
           "showlakes": true,
           "showland": true,
           "subunitcolor": "white"
          },
          "hoverlabel": {
           "align": "left"
          },
          "hovermode": "closest",
          "mapbox": {
           "style": "light"
          },
          "paper_bgcolor": "white",
          "plot_bgcolor": "#E5ECF6",
          "polar": {
           "angularaxis": {
            "gridcolor": "white",
            "linecolor": "white",
            "ticks": ""
           },
           "bgcolor": "#E5ECF6",
           "radialaxis": {
            "gridcolor": "white",
            "linecolor": "white",
            "ticks": ""
           }
          },
          "scene": {
           "xaxis": {
            "backgroundcolor": "#E5ECF6",
            "gridcolor": "white",
            "gridwidth": 2,
            "linecolor": "white",
            "showbackground": true,
            "ticks": "",
            "zerolinecolor": "white"
           },
           "yaxis": {
            "backgroundcolor": "#E5ECF6",
            "gridcolor": "white",
            "gridwidth": 2,
            "linecolor": "white",
            "showbackground": true,
            "ticks": "",
            "zerolinecolor": "white"
           },
           "zaxis": {
            "backgroundcolor": "#E5ECF6",
            "gridcolor": "white",
            "gridwidth": 2,
            "linecolor": "white",
            "showbackground": true,
            "ticks": "",
            "zerolinecolor": "white"
           }
          },
          "shapedefaults": {
           "line": {
            "color": "#2a3f5f"
           }
          },
          "ternary": {
           "aaxis": {
            "gridcolor": "white",
            "linecolor": "white",
            "ticks": ""
           },
           "baxis": {
            "gridcolor": "white",
            "linecolor": "white",
            "ticks": ""
           },
           "bgcolor": "#E5ECF6",
           "caxis": {
            "gridcolor": "white",
            "linecolor": "white",
            "ticks": ""
           }
          },
          "title": {
           "x": 0.05
          },
          "xaxis": {
           "automargin": true,
           "gridcolor": "white",
           "linecolor": "white",
           "ticks": "",
           "title": {
            "standoff": 15
           },
           "zerolinecolor": "white",
           "zerolinewidth": 2
          },
          "yaxis": {
           "automargin": true,
           "gridcolor": "white",
           "linecolor": "white",
           "ticks": "",
           "title": {
            "standoff": 15
           },
           "zerolinecolor": "white",
           "zerolinewidth": 2
          }
         }
        },
        "width": 960,
        "xaxis": {
         "anchor": "y",
         "gridcolor": "rgba(0,0,0,0.1)",
         "mirror": "ticks",
         "nticks": 8,
         "showgrid": true,
         "showline": true,
         "side": "bottom",
         "tickfont": {
          "size": 16
         },
         "ticks": "inside",
         "title": {
          "font": {
           "color": "#000000",
           "size": 20
          },
          "text": "Composition (fraction)"
         },
         "type": "linear",
         "zeroline": false
        },
        "yaxis": {
         "anchor": "x",
         "gridcolor": "rgba(0,0,0,0.1)",
         "mirror": "ticks",
         "showgrid": true,
         "showline": true,
         "side": "left",
         "tickfont": {
          "size": 16
         },
         "ticks": "inside",
         "title": {
          "font": {
           "color": "#000000",
           "size": 20
          },
          "text": "Formation energy (eV/atom)"
         },
         "type": "linear"
        }
       }
      }
     },
     "metadata": {},
     "output_type": "display_data"
    },
    {
     "name": "stdout",
     "output_type": "stream",
     "text": [
      "Ag: H_fusion = 11300.0 J/mol, T_fusion = 1234.93 K, T_vaporization = 2435.15 K\n",
      "V: H_fusion = 21500.0 J/mol, T_fusion = 2183.0 K, T_vaporization = 3680.15 K\n",
      "\n",
      "Reading MPDS json from entry at https://mpds.io/entry/C900067...\n",
      "\n",
      "Best fitted parameters for Ag-V: [52620.03, -0.14, 1886.5, -0.57]\n",
      "MAE = 21.75\n",
      "L0 = 52620 - 0.14*t\n",
      "L1 = 1886 - 0.57*t\n"
     ]
    },
    {
     "data": {
      "image/png": "[encoded data removed]",
      "text/plain": [
       "<Figure size 800x500 with 3 Axes>"
      ]
     },
     "metadata": {},
     "output_type": "display_data"
    },
    {
     "data": {
      "application/vnd.plotly.v1+json": {
       "config": {
        "plotlyServerURL": "https://plot.ly"
       },
       "data": [
        {
         "line": {
          "color": "#B82E2E",
          "dash": "dash",
          "width": 4
         },
         "mode": "lines",
         "showlegend": false,
         "type": "scatter",
         "x": [
          0.0381243,
          0.0793239,
          0.145998,
          0.146087,
          0.273136,
          0.455633,
          0.691462,
          0.9785969999999999,
          1.31501,
          1.69868,
          2.12759,
          2.59972,
          3.11305,
          3.6655699999999998,
          4.25527,
          4.88013,
          5.53818,
          6.2274,
          6.94583,
          7.68929,
          9.41835,
          11.3074,
          13.3412,
          15.5078,
          17.7949,
          20.1904,
          22.6822,
          25.2582,
          27.9062,
          30.6141,
          33.3698,
          36.1611,
          38.976,
          41.8022,
          44.6278,
          47.4404,
          50.2281,
          52.99470000000001,
          55.7549,
          58.502900000000004,
          61.2328,
          63.938300000000005,
          66.6135,
          69.2522,
          71.8483,
          74.3957,
          76.8884,
          79.3203,
          81.6852,
          83.9771,
          86.1899,
          88.3175,
          90.3538,
          92.2788,
          92.7337,
          93.2178,
          93.7046,
          94.1924,
          94.6798,
          95.1654,
          95.6475,
          96.1248,
          96.5958,
          97.0589,
          97.5127,
          97.9557,
          98.3864,
          98.8033,
          99.205,
          99.5899,
          99.9238
         ],
         "y": [
          964.8280000000001,
          963.7320000000001,
          1022.8100000000001,
          1022.87,
          1084.6,
          1146.13,
          1207.1599999999999,
          1267.46,
          1326.8199999999997,
          1385,
          1441.79,
          1496.94,
          1550.23,
          1601.44,
          1650.3399999999997,
          1696.71,
          1740.2999999999997,
          1780.9099999999999,
          1818.2999999999997,
          1852.1399999999999,
          1965.9299999999998,
          2073.68,
          2175.08,
          2270.02,
          2358.41,
          2440.15,
          2515.13,
          2583.24,
          2644.4,
          2698.49,
          2745.42,
          2785.08,
          2817.36,
          2842.18,
          2859.41,
          2868.98,
          2870.76,
          2865.41,
          2853.84,
          2835.93,
          2811.57,
          2780.62,
          2742.97,
          2698.5,
          2647.09,
          2588.61,
          2522.95,
          2449.98,
          2369.59,
          2281.66,
          2186.06,
          2082.67,
          1971.38,
          1852.9299999999998,
          1856.42,
          1860.1999999999998,
          1864.0499999999997,
          1867.9499999999998,
          1871.8599999999997,
          1875.77,
          1879.6399999999999,
          1883.46,
          1887.1799999999998,
          1890.7799999999997,
          1894.25,
          1897.54,
          1900.6399999999999,
          1903.5099999999998,
          1906.1399999999999,
          1908.4899999999998,
          1910.3399999999997
         ]
        },
        {
         "hovertemplate": "x=%{x}<br>y=%{y}<extra></extra>",
         "legendgroup": "",
         "line": {
          "color": "Silver",
          "dash": "solid",
          "width": 4
         },
         "marker": {
          "symbol": "circle"
         },
         "mode": "lines",
         "name": "",
         "orientation": "v",
         "showlegend": false,
         "type": "scatter",
         "x": [
          7.000000000000001,
          93,
          100
         ],
         "xaxis": "x",
         "y": [
          1806.3402532985497,
          1806.3402532985497,
          1806.3402532985497
         ],
         "yaxis": "y"
        },
        {
         "hovertemplate": "label=L<br>x=%{x}<br>t=%{y}<extra></extra>",
         "legendgroup": "L",
         "line": {
          "color": "cornflowerblue",
          "dash": "solid",
          "width": 4
         },
         "marker": {
          "symbol": "circle"
         },
         "mode": "lines",
         "name": "L",
         "orientation": "v",
         "showlegend": false,
         "type": "scatter",
         "x": [
          0,
          1,
          2,
          3,
          4,
          5,
          6,
          7.000000000000001,
          8,
          9,
          10,
          11,
          12,
          13,
          14.000000000000002,
          15,
          16,
          17,
          18,
          19,
          20,
          21,
          22,
          23,
          24,
          25,
          26,
          27,
          28.000000000000004,
          28.999999999999996,
          30,
          31,
          32,
          33,
          34,
          35,
          36,
          37,
          38,
          39,
          40,
          41,
          42,
          43,
          44,
          45,
          46,
          47,
          48,
          49,
          50,
          51,
          52,
          53,
          54,
          55.00000000000001,
          56.00000000000001,
          56.99999999999999,
          57.99999999999999,
          59,
          60,
          61,
          62,
          63,
          64,
          65,
          66,
          67,
          68,
          69,
          70,
          71,
          72,
          73,
          74,
          75,
          76,
          77,
          78,
          79,
          80,
          81,
          82,
          83,
          84,
          85,
          86,
          87,
          88,
          89,
          90,
          91,
          92,
          93,
          94,
          95,
          96,
          97,
          98,
          99,
          100
         ],
         "xaxis": "x",
         "y": [
          964.8279999999999,
          1047.6070540487835,
          1356.4583732808037,
          1502.1690591647211,
          1605.1839429495894,
          1685.1840496286222,
          1750.2247751331888,
          1804.5367579417302,
          1877.7058162015683,
          1945.123006233603,
          2006.956607420078,
          2064.088003919082,
          2117.1437678270736,
          2166.6537149948826,
          2213.0095179031005,
          2256.55043236086,
          2297.525230836947,
          2336.170742350357,
          2372.6759189873824,
          2407.201853865569,
          2439.878504318127,
          2470.8331757826377,
          2500.1705909979987,
          2527.9729088826384,
          2554.319209305364,
          2579.3007608371404,
          2602.9609982885263,
          2625.3546514198665,
          2646.5554631370624,
          2666.585728885302,
          2685.483949066659,
          2703.314458714972,
          2720.0666765307305,
          2735.8149436493377,
          2750.55492800949,
          2764.326520290135,
          2777.153602989776,
          2789.013823080703,
          2799.98505207446,
          2810.0656709743403,
          2819.2151914184487,
          2827.5261435817297,
          2834.9900138908893,
          2841.5371017523444,
          2847.237667237501,
          2852.1647270176973,
          2856.233712122327,
          2859.416880400205,
          2861.7753668440246,
          2863.3474755597463,
          2864.3044871247885,
          2863.0910039578152,
          2861.3424556063874,
          2858.724990060416,
          2855.2566933707394,
          2850.9820831003913,
          2845.871667010247,
          2839.838639643822,
          2832.929778863085,
          2825.1915544244484,
          2816.541326292359,
          2806.971840408779,
          2796.469025293955,
          2785.0188733564637,
          2772.644443360998,
          2759.280031689037,
          2744.8887981696657,
          2729.483761560455,
          2713.0354980858715,
          2695.4847670782574,
          2676.8430651866784,
          2657.03279824087,
          2636.0546164173657,
          2613.827143377053,
          2590.317133602886,
          2565.4935818740923,
          2539.264992662984,
          2511.578428736315,
          2482.3798645024976,
          2451.567483222932,
          2419.041087188083,
          2384.713653071484,
          2348.4644080642174,
          2310.147332338285,
          2269.609932949649,
          2226.650772081382,
          2181.062546497639,
          2132.5735893339893,
          2080.874544052365,
          2025.545345332669,
          1966.1115812801659,
          1901.9170193576142,
          1832.1316460572884,
          1806.3402532985497,
          1813.8940687659997,
          1825.999098267996,
          1839.1460587480437,
          1853.395353444661,
          1868.8602570803228,
          1885.9077668307636,
          1910.3399999999997
         ],
         "yaxis": "y"
        },
        {
         "line": {
          "color": "#B82E2E",
          "dash": "dash"
         },
         "mode": "lines",
         "name": "Digitized Liquidus",
         "showlegend": true,
         "type": "scatter",
         "x": [
          null
         ],
         "y": [
          null
         ]
        },
        {
         "marker": {
          "color": "cornflowerblue"
         },
         "mode": "lines",
         "name": "Fitted Liquidus",
         "showlegend": true,
         "type": "scatter",
         "x": [
          null
         ],
         "y": [
          null
         ]
        }
       ],
       "layout": {
        "annotations": [
         {
          "font": {
           "color": "black",
           "size": 18
          },
          "showarrow": false,
          "text": "L",
          "x": 50,
          "y": 3060
         }
        ],
        "font": {
         "size": 22
        },
        "height": 700,
        "legend": {
         "font": {
          "size": 18
         },
         "x": 0.01,
         "xanchor": "left",
         "y": 0.99,
         "yanchor": "top"
        },
        "plot_bgcolor": "white",
        "showlegend": true,
        "template": {
         "data": {
          "bar": [
           {
            "error_x": {
             "color": "#2a3f5f"
            },
            "error_y": {
             "color": "#2a3f5f"
            },
            "marker": {
             "line": {
              "color": "#E5ECF6",
              "width": 0.5
             },
             "pattern": {
              "fillmode": "overlay",
              "size": 10,
              "solidity": 0.2
             }
            },
            "type": "bar"
           }
          ],
          "barpolar": [
           {
            "marker": {
             "line": {
              "color": "#E5ECF6",
              "width": 0.5
             },
             "pattern": {
              "fillmode": "overlay",
              "size": 10,
              "solidity": 0.2
             }
            },
            "type": "barpolar"
           }
          ],
          "carpet": [
           {
            "aaxis": {
             "endlinecolor": "#2a3f5f",
             "gridcolor": "white",
             "linecolor": "white",
             "minorgridcolor": "white",
             "startlinecolor": "#2a3f5f"
            },
            "baxis": {
             "endlinecolor": "#2a3f5f",
             "gridcolor": "white",
             "linecolor": "white",
             "minorgridcolor": "white",
             "startlinecolor": "#2a3f5f"
            },
            "type": "carpet"
           }
          ],
          "choropleth": [
           {
            "colorbar": {
             "outlinewidth": 0,
             "ticks": ""
            },
            "type": "choropleth"
           }
          ],
          "contour": [
           {
            "colorbar": {
             "outlinewidth": 0,
             "ticks": ""
            },
            "colorscale": [
             [
              0,
              "#0d0887"
             ],
             [
              0.1111111111111111,
              "#46039f"
             ],
             [
              0.2222222222222222,
              "#7201a8"
             ],
             [
              0.3333333333333333,
              "#9c179e"
             ],
             [
              0.4444444444444444,
              "#bd3786"
             ],
             [
              0.5555555555555556,
              "#d8576b"
             ],
             [
              0.6666666666666666,
              "#ed7953"
             ],
             [
              0.7777777777777778,
              "#fb9f3a"
             ],
             [
              0.8888888888888888,
              "#fdca26"
             ],
             [
              1,
              "#f0f921"
             ]
            ],
            "type": "contour"
           }
          ],
          "contourcarpet": [
           {
            "colorbar": {
             "outlinewidth": 0,
             "ticks": ""
            },
            "type": "contourcarpet"
           }
          ],
          "heatmap": [
           {
            "colorbar": {
             "outlinewidth": 0,
             "ticks": ""
            },
            "colorscale": [
             [
              0,
              "#0d0887"
             ],
             [
              0.1111111111111111,
              "#46039f"
             ],
             [
              0.2222222222222222,
              "#7201a8"
             ],
             [
              0.3333333333333333,
              "#9c179e"
             ],
             [
              0.4444444444444444,
              "#bd3786"
             ],
             [
              0.5555555555555556,
              "#d8576b"
             ],
             [
              0.6666666666666666,
              "#ed7953"
             ],
             [
              0.7777777777777778,
              "#fb9f3a"
             ],
             [
              0.8888888888888888,
              "#fdca26"
             ],
             [
              1,
              "#f0f921"
             ]
            ],
            "type": "heatmap"
           }
          ],
          "heatmapgl": [
           {
            "colorbar": {
             "outlinewidth": 0,
             "ticks": ""
            },
            "colorscale": [
             [
              0,
              "#0d0887"
             ],
             [
              0.1111111111111111,
              "#46039f"
             ],
             [
              0.2222222222222222,
              "#7201a8"
             ],
             [
              0.3333333333333333,
              "#9c179e"
             ],
             [
              0.4444444444444444,
              "#bd3786"
             ],
             [
              0.5555555555555556,
              "#d8576b"
             ],
             [
              0.6666666666666666,
              "#ed7953"
             ],
             [
              0.7777777777777778,
              "#fb9f3a"
             ],
             [
              0.8888888888888888,
              "#fdca26"
             ],
             [
              1,
              "#f0f921"
             ]
            ],
            "type": "heatmapgl"
           }
          ],
          "histogram": [
           {
            "marker": {
             "pattern": {
              "fillmode": "overlay",
              "size": 10,
              "solidity": 0.2
             }
            },
            "type": "histogram"
           }
          ],
          "histogram2d": [
           {
            "colorbar": {
             "outlinewidth": 0,
             "ticks": ""
            },
            "colorscale": [
             [
              0,
              "#0d0887"
             ],
             [
              0.1111111111111111,
              "#46039f"
             ],
             [
              0.2222222222222222,
              "#7201a8"
             ],
             [
              0.3333333333333333,
              "#9c179e"
             ],
             [
              0.4444444444444444,
              "#bd3786"
             ],
             [
              0.5555555555555556,
              "#d8576b"
             ],
             [
              0.6666666666666666,
              "#ed7953"
             ],
             [
              0.7777777777777778,
              "#fb9f3a"
             ],
             [
              0.8888888888888888,
              "#fdca26"
             ],
             [
              1,
              "#f0f921"
             ]
            ],
            "type": "histogram2d"
           }
          ],
          "histogram2dcontour": [
           {
            "colorbar": {
             "outlinewidth": 0,
             "ticks": ""
            },
            "colorscale": [
             [
              0,
              "#0d0887"
             ],
             [
              0.1111111111111111,
              "#46039f"
             ],
             [
              0.2222222222222222,
              "#7201a8"
             ],
             [
              0.3333333333333333,
              "#9c179e"
             ],
             [
              0.4444444444444444,
              "#bd3786"
             ],
             [
              0.5555555555555556,
              "#d8576b"
             ],
             [
              0.6666666666666666,
              "#ed7953"
             ],
             [
              0.7777777777777778,
              "#fb9f3a"
             ],
             [
              0.8888888888888888,
              "#fdca26"
             ],
             [
              1,
              "#f0f921"
             ]
            ],
            "type": "histogram2dcontour"
           }
          ],
          "mesh3d": [
           {
            "colorbar": {
             "outlinewidth": 0,
             "ticks": ""
            },
            "type": "mesh3d"
           }
          ],
          "parcoords": [
           {
            "line": {
             "colorbar": {
              "outlinewidth": 0,
              "ticks": ""
             }
            },
            "type": "parcoords"
           }
          ],
          "pie": [
           {
            "automargin": true,
            "type": "pie"
           }
          ],
          "scatter": [
           {
            "fillpattern": {
             "fillmode": "overlay",
             "size": 10,
             "solidity": 0.2
            },
            "type": "scatter"
           }
          ],
          "scatter3d": [
           {
            "line": {
             "colorbar": {
              "outlinewidth": 0,
              "ticks": ""
             }
            },
            "marker": {
             "colorbar": {
              "outlinewidth": 0,
              "ticks": ""
             }
            },
            "type": "scatter3d"
           }
          ],
          "scattercarpet": [
           {
            "marker": {
             "colorbar": {
              "outlinewidth": 0,
              "ticks": ""
             }
            },
            "type": "scattercarpet"
           }
          ],
          "scattergeo": [
           {
            "marker": {
             "colorbar": {
              "outlinewidth": 0,
              "ticks": ""
             }
            },
            "type": "scattergeo"
           }
          ],
          "scattergl": [
           {
            "marker": {
             "colorbar": {
              "outlinewidth": 0,
              "ticks": ""
             }
            },
            "type": "scattergl"
           }
          ],
          "scattermapbox": [
           {
            "marker": {
             "colorbar": {
              "outlinewidth": 0,
              "ticks": ""
             }
            },
            "type": "scattermapbox"
           }
          ],
          "scatterpolar": [
           {
            "marker": {
             "colorbar": {
              "outlinewidth": 0,
              "ticks": ""
             }
            },
            "type": "scatterpolar"
           }
          ],
          "scatterpolargl": [
           {
            "marker": {
             "colorbar": {
              "outlinewidth": 0,
              "ticks": ""
             }
            },
            "type": "scatterpolargl"
           }
          ],
          "scatterternary": [
           {
            "marker": {
             "colorbar": {
              "outlinewidth": 0,
              "ticks": ""
             }
            },
            "type": "scatterternary"
           }
          ],
          "surface": [
           {
            "colorbar": {
             "outlinewidth": 0,
             "ticks": ""
            },
            "colorscale": [
             [
              0,
              "#0d0887"
             ],
             [
              0.1111111111111111,
              "#46039f"
             ],
             [
              0.2222222222222222,
              "#7201a8"
             ],
             [
              0.3333333333333333,
              "#9c179e"
             ],
             [
              0.4444444444444444,
              "#bd3786"
             ],
             [
              0.5555555555555556,
              "#d8576b"
             ],
             [
              0.6666666666666666,
              "#ed7953"
             ],
             [
              0.7777777777777778,
              "#fb9f3a"
             ],
             [
              0.8888888888888888,
              "#fdca26"
             ],
             [
              1,
              "#f0f921"
             ]
            ],
            "type": "surface"
           }
          ],
          "table": [
           {
            "cells": {
             "fill": {
              "color": "#EBF0F8"
             },
             "line": {
              "color": "white"
             }
            },
            "header": {
             "fill": {
              "color": "#C8D4E3"
             },
             "line": {
              "color": "white"
             }
            },
            "type": "table"
           }
          ]
         },
         "layout": {
          "annotationdefaults": {
           "arrowcolor": "#2a3f5f",
           "arrowhead": 0,
           "arrowwidth": 1
          },
          "autotypenumbers": "strict",
          "coloraxis": {
           "colorbar": {
            "outlinewidth": 0,
            "ticks": ""
           }
          },
          "colorscale": {
           "diverging": [
            [
             0,
             "#8e0152"
            ],
            [
             0.1,
             "#c51b7d"
            ],
            [
             0.2,
             "#de77ae"
            ],
            [
             0.3,
             "#f1b6da"
            ],
            [
             0.4,
             "#fde0ef"
            ],
            [
             0.5,
             "#f7f7f7"
            ],
            [
             0.6,
             "#e6f5d0"
            ],
            [
             0.7,
             "#b8e186"
            ],
            [
             0.8,
             "#7fbc41"
            ],
            [
             0.9,
             "#4d9221"
            ],
            [
             1,
             "#276419"
            ]
           ],
           "sequential": [
            [
             0,
             "#0d0887"
            ],
            [
             0.1111111111111111,
             "#46039f"
            ],
            [
             0.2222222222222222,
             "#7201a8"
            ],
            [
             0.3333333333333333,
             "#9c179e"
            ],
            [
             0.4444444444444444,
             "#bd3786"
            ],
            [
             0.5555555555555556,
             "#d8576b"
            ],
            [
             0.6666666666666666,
             "#ed7953"
            ],
            [
             0.7777777777777778,
             "#fb9f3a"
            ],
            [
             0.8888888888888888,
             "#fdca26"
            ],
            [
             1,
             "#f0f921"
            ]
           ],
           "sequentialminus": [
            [
             0,
             "#0d0887"
            ],
            [
             0.1111111111111111,
             "#46039f"
            ],
            [
             0.2222222222222222,
             "#7201a8"
            ],
            [
             0.3333333333333333,
             "#9c179e"
            ],
            [
             0.4444444444444444,
             "#bd3786"
            ],
            [
             0.5555555555555556,
             "#d8576b"
            ],
            [
             0.6666666666666666,
             "#ed7953"
            ],
            [
             0.7777777777777778,
             "#fb9f3a"
            ],
            [
             0.8888888888888888,
             "#fdca26"
            ],
            [
             1,
             "#f0f921"
            ]
           ]
          },
          "colorway": [
           "#636efa",
           "#EF553B",
           "#00cc96",
           "#ab63fa",
           "#FFA15A",
           "#19d3f3",
           "#FF6692",
           "#B6E880",
           "#FF97FF",
           "#FECB52"
          ],
          "font": {
           "color": "#2a3f5f"
          },
          "geo": {
           "bgcolor": "white",
           "lakecolor": "white",
           "landcolor": "#E5ECF6",
           "showlakes": true,
           "showland": true,
           "subunitcolor": "white"
          },
          "hoverlabel": {
           "align": "left"
          },
          "hovermode": "closest",
          "mapbox": {
           "style": "light"
          },
          "paper_bgcolor": "white",
          "plot_bgcolor": "#E5ECF6",
          "polar": {
           "angularaxis": {
            "gridcolor": "white",
            "linecolor": "white",
            "ticks": ""
           },
           "bgcolor": "#E5ECF6",
           "radialaxis": {
            "gridcolor": "white",
            "linecolor": "white",
            "ticks": ""
           }
          },
          "scene": {
           "xaxis": {
            "backgroundcolor": "#E5ECF6",
            "gridcolor": "white",
            "gridwidth": 2,
            "linecolor": "white",
            "showbackground": true,
            "ticks": "",
            "zerolinecolor": "white"
           },
           "yaxis": {
            "backgroundcolor": "#E5ECF6",
            "gridcolor": "white",
            "gridwidth": 2,
            "linecolor": "white",
            "showbackground": true,
            "ticks": "",
            "zerolinecolor": "white"
           },
           "zaxis": {
            "backgroundcolor": "#E5ECF6",
            "gridcolor": "white",
            "gridwidth": 2,
            "linecolor": "white",
            "showbackground": true,
            "ticks": "",
            "zerolinecolor": "white"
           }
          },
          "shapedefaults": {
           "line": {
            "color": "#2a3f5f"
           }
          },
          "ternary": {
           "aaxis": {
            "gridcolor": "white",
            "linecolor": "white",
            "ticks": ""
           },
           "baxis": {
            "gridcolor": "white",
            "linecolor": "white",
            "ticks": ""
           },
           "bgcolor": "#E5ECF6",
           "caxis": {
            "gridcolor": "white",
            "linecolor": "white",
            "ticks": ""
           }
          },
          "title": {
           "x": 0.05
          },
          "xaxis": {
           "automargin": true,
           "gridcolor": "white",
           "linecolor": "white",
           "ticks": "",
           "title": {
            "standoff": 15
           },
           "zerolinecolor": "white",
           "zerolinewidth": 2
          },
          "yaxis": {
           "automargin": true,
           "gridcolor": "white",
           "linecolor": "white",
           "ticks": "",
           "title": {
            "standoff": 15
           },
           "zerolinecolor": "white",
           "zerolinewidth": 2
          }
         }
        },
        "title": {
         "text": "Ag-V DFT-Referenced Binary Phase Diagram"
        },
        "width": 960,
        "xaxis": {
         "linecolor": "black",
         "linewidth": 2,
         "mirror": true,
         "range": [
          0,
          100
         ],
         "showline": true,
         "tickcolor": "black",
         "tickformat": ".0f",
         "ticks": "outside",
         "title": {
          "text": "V (at. %)"
         }
        },
        "yaxis": {
         "linecolor": "black",
         "linewidth": 2,
         "mirror": true,
         "range": [
          0,
          3300
         ],
         "showline": true,
         "tickcolor": "black",
         "ticks": "outside",
         "ticksuffix": " ",
         "title": {
          "text": "T (°C)"
         }
        }
       }
      }
     },
     "metadata": {},
     "output_type": "display_data"
    },
    {
     "name": "stdout",
     "output_type": "stream",
     "text": [
      "No arguments specified for 't_vals', setting 't_units' to 'K'\n"
     ]
    },
    {
     "data": {
      "application/vnd.plotly.v1+json": {
       "config": {
        "plotlyServerURL": "https://plot.ly"
       },
       "data": [
        {
         "mode": "lines",
         "name": "Liquid T=2180K",
         "type": "scatter",
         "x": [
          0,
          0.01,
          0.02,
          0.03,
          0.04,
          0.05,
          0.06,
          0.07,
          0.08,
          0.09,
          0.1,
          0.11,
          0.12,
          0.13,
          0.14,
          0.15,
          0.16,
          0.17,
          0.18,
          0.19,
          0.2,
          0.21,
          0.22,
          0.23,
          0.24,
          0.25,
          0.26,
          0.27,
          0.28,
          0.29,
          0.3,
          0.31,
          0.32,
          0.33,
          0.34,
          0.35000000000000003,
          0.36,
          0.37,
          0.38,
          0.39,
          0.4,
          0.41000000000000003,
          0.42,
          0.43,
          0.44,
          0.45,
          0.46,
          0.47000000000000003,
          0.48,
          0.49,
          0.5,
          0.51,
          0.52,
          0.53,
          0.54,
          0.55,
          0.56,
          0.5700000000000001,
          0.58,
          0.59,
          0.6,
          0.61,
          0.62,
          0.63,
          0.64,
          0.65,
          0.66,
          0.67,
          0.68,
          0.6900000000000001,
          0.7000000000000001,
          0.71,
          0.72,
          0.73,
          0.74,
          0.75,
          0.76,
          0.77,
          0.78,
          0.79,
          0.8,
          0.81,
          0.8200000000000001,
          0.8300000000000001,
          0.84,
          0.85,
          0.86,
          0.87,
          0.88,
          0.89,
          0.9,
          0.91,
          0.92,
          0.93,
          0.9400000000000001,
          0.9500000000000001,
          0.96,
          0.97,
          0.98,
          0.99,
          1
         ],
         "y": [
          -0.08912584104076549,
          -0.0933206690116055,
          -0.09500457985283185,
          -0.09579857625946073,
          -0.09604700191237026,
          -0.09591324784227423,
          -0.09549342972833075,
          -0.09485095661991871,
          -0.09403080776249297,
          -0.09306653535318944,
          -0.09198411097055914,
          -0.09080421653304185,
          -0.0895436948285219,
          -0.08821651300662715,
          -0.08683442777708013,
          -0.08540745952687992,
          -0.08394423939540561,
          -0.08245226919268484,
          -0.08093811989781598,
          -0.07940758585735641,
          -0.07786580637581345,
          -0.07631736287022785,
          -0.07476635741840106,
          -0.07321647693566884,
          -0.0716710461072449,
          -0.07013307141927766,
          -0.06860527806789224,
          -0.06709014111375501,
          -0.06558991194490471,
          -0.06410664088211707,
          -0.06264219658780842,
          -0.0611982828066809,
          -0.05977645286350377,
          -0.058378122263096445,
          -0.05700457967426544,
          -0.05565699652913414,
          -0.05433643542901001,
          -0.05304385751542318,
          -0.05178012893854718,
          -0.05054602653359058,
          -0.0493422427979273,
          -0.048169390246944735,
          -0.0470280052142268,
          -0.045918551151278915,
          -0.04484142147316295,
          -0.04379694198884184,
          -0.04278537294848716,
          -0.04180691073428159,
          -0.04086168921618213,
          -0.03994978078956253,
          -0.039071197107507075,
          -0.0382258895166744,
          -0.03741374920200397,
          -0.03663460704200973,
          -0.03588823317291594,
          -0.03517433625636382,
          -0.03449256244176875,
          -0.03384249401055732,
          -0.03322364768536471,
          -0.03263547258272722,
          -0.03207734778273755,
          -0.03154857948340984,
          -0.031048397700954918,
          -0.030575952469596945,
          -0.030130309485725523,
          -0.029710445130765213,
          -0.029315240794784023,
          -0.028943476408072637,
          -0.02859382307010576,
          -0.028264834643675102,
          -0.02795493815555922,
          -0.02766242281258714,
          -0.027385427401654772,
          -0.02712192579194398,
          -0.026869710194277058,
          -0.026626371752213468,
          -0.026389277936684958,
          -0.02615554608316454,
          -0.025922012237101957,
          -0.025685194244881526,
          -0.025441247722765764,
          -0.025185913124551196,
          -0.024914451564795326,
          -0.02462156627058887,
          -0.024301305426972657,
          -0.02394694058644647,
          -0.023550812470580693,
          -0.02310413247159444,
          -0.02259672273408671,
          -0.022016669079933174,
          -0.02134984689110405,
          -0.020579255911313175,
          -0.01968405675371885,
          -0.01863812037136818,
          -0.017407737098723418,
          -0.015947770221927886,
          -0.014194653223200786,
          -0.012052112954982068,
          -0.00935660091815617,
          -0.005763615963443055,
          0.00034800207257531634
         ]
        },
        {
         "mode": "lines",
         "name": "Liquid T=0K",
         "type": "scatter",
         "x": [
          0,
          0.01,
          0.02,
          0.03,
          0.04,
          0.05,
          0.06,
          0.07,
          0.08,
          0.09,
          0.1,
          0.11,
          0.12,
          0.13,
          0.14,
          0.15,
          0.16,
          0.17,
          0.18,
          0.19,
          0.2,
          0.21,
          0.22,
          0.23,
          0.24,
          0.25,
          0.26,
          0.27,
          0.28,
          0.29,
          0.3,
          0.31,
          0.32,
          0.33,
          0.34,
          0.35000000000000003,
          0.36,
          0.37,
          0.38,
          0.39,
          0.4,
          0.41000000000000003,
          0.42,
          0.43,
          0.44,
          0.45,
          0.46,
          0.47000000000000003,
          0.48,
          0.49,
          0.5,
          0.51,
          0.52,
          0.53,
          0.54,
          0.55,
          0.56,
          0.5700000000000001,
          0.58,
          0.59,
          0.6,
          0.61,
          0.62,
          0.63,
          0.64,
          0.65,
          0.66,
          0.67,
          0.68,
          0.6900000000000001,
          0.7000000000000001,
          0.71,
          0.72,
          0.73,
          0.74,
          0.75,
          0.76,
          0.77,
          0.78,
          0.79,
          0.8,
          0.81,
          0.8200000000000001,
          0.8300000000000001,
          0.84,
          0.85,
          0.86,
          0.87,
          0.88,
          0.89,
          0.9,
          0.91,
          0.92,
          0.93,
          0.9400000000000001,
          0.9500000000000001,
          0.96,
          0.97,
          0.98,
          0.99,
          1
         ],
         "y": [
          0.11711665025651656,
          0.12376266863083916,
          0.13028811629033923,
          0.13669322786158034,
          0.14297823797112605,
          0.14914338124554,
          0.15518889231138563,
          0.1611150057952267,
          0.1669219563236266,
          0.17260997852314902,
          0.17817930702035753,
          0.18363017644181565,
          0.18896282141408696,
          0.19417747656373513,
          0.1992743765173236,
          0.20425375590141606,
          0.20911584934257604,
          0.2138608914673671,
          0.21848911690235281,
          0.22300076027409682,
          0.22739605620916262,
          0.23167523933411374,
          0.2358385442755139,
          0.2398862056599266,
          0.24381845811391542,
          0.24763553626404392,
          0.25133767473687574,
          0.25492510815897435,
          0.25839807115690344,
          0.26175679835722643,
          0.2650015243865071,
          0.2681324838713089,
          0.27114991143819533,
          0.27405404171373016,
          0.2768451093244768,
          0.2795233488969989,
          0.2820889950578601,
          0.2845422824336239,
          0.2868834456508538,
          0.28911271933611343,
          0.2912303381159665,
          0.29323653661697635,
          0.29513154946570674,
          0.2969156112887212,
          0.29858895671258323,
          0.3001518203638565,
          0.3016044368691046,
          0.30294704085489094,
          0.30417986694777926,
          0.3053031497743331,
          0.306317123961116,
          0.3072220241346916,
          0.30801808492162336,
          0.30870554094847497,
          0.30928462684180996,
          0.3097555772281919,
          0.3101186267341844,
          0.31037400998635095,
          0.3105219616112552,
          0.3105627162354608,
          0.3104965084855311,
          0.31032357298802987,
          0.31004414436952066,
          0.30965845725656693,
          0.30916674627573243,
          0.30856924605358055,
          0.307866191216675,
          0.3070578163915793,
          0.3061443562048571,
          0.30512604528307186,
          0.30400311825278714,
          0.30277580974056667,
          0.3014443543729739,
          0.30000898677657245,
          0.29846994157792595,
          0.29682745340359784,
          0.29508175688015176,
          0.2932330866341513,
          0.2912816772921601,
          0.28922776348074164,
          0.2870715798264595,
          0.2848133609558773,
          0.28245334149555856,
          0.2799917560720669,
          0.2774288393119659,
          0.2747648258418191,
          0.2719999502881901,
          0.26913444727764246,
          0.26616855143673973,
          0.26310249739204555,
          0.2599365197701235,
          0.2566708531975371,
          0.25330573230084996,
          0.2498413917066256,
          0.24627806604142763,
          0.24261598993181965,
          0.23885539800436525,
          0.23499652488562794,
          0.23103960520217132,
          0.22698487358055902,
          0.22283256464735451
         ]
        },
        {
         "hoverinfo": "none",
         "line": {
          "color": "black",
          "width": 4
         },
         "mode": "lines",
         "showlegend": false,
         "type": "scatter",
         "x": [
          0,
          1,
          null
         ],
         "y": [
          0,
          0,
          null
         ]
        },
        {
         "hoverinfo": "skip",
         "mode": "text",
         "name": "Labels (stable)",
         "opacity": 1,
         "showlegend": true,
         "text": [],
         "textposition": [],
         "type": "scatter",
         "visible": true,
         "x": [],
         "y": []
        },
        {
         "error_y": {
          "array": [
           0,
           0
          ],
          "color": "gray",
          "thickness": 2.5,
          "type": "data",
          "width": 5
         },
         "hoverinfo": "text",
         "hoverlabel": {
          "font": {
           "size": 14
          }
         },
         "hovertext": [
          "Ag (mp-989737-GGA) <br> 0.0 eV/atom (Stable)",
          "V (mp-146-GGA) <br> 0.0 eV/atom (Stable)"
         ],
         "marker": {
          "color": "darkgreen",
          "line": {
           "color": "black",
           "width": 2
          },
          "size": 16
         },
         "mode": "markers",
         "name": "Stable",
         "opacity": 0.99,
         "showlegend": true,
         "type": "scatter",
         "x": [
          0,
          1
         ],
         "y": [
          0,
          0
         ]
        },
        {
         "hoverinfo": "text",
         "hoverlabel": {
          "font": {
           "size": 14
          }
         },
         "hovertext": [
          "Ag (mp-10597-GGA) <br> 0.008 eV/atom (+0.008 eV/atom)",
          "Ag (mp-8566-GGA) <br> 0.007 eV/atom (+0.007 eV/atom)",
          "Ag (mp-124-GGA) <br> 0.004 eV/atom (+0.004 eV/atom)",
          "Ag (mp-2646971-GGA) <br> 0.034 eV/atom (+0.034 eV/atom)"
         ],
         "marker": {
          "color": [
           0.008,
           0.007,
           0.004,
           0.034
          ],
          "colorscale": [
           [
            0,
            "#fff5e3"
           ],
           [
            0.5,
            "#f24324"
           ],
           [
            1,
            "#c40000"
           ]
          ],
          "line": {
           "color": "black",
           "width": 1
          },
          "opacity": 0.8,
          "size": 7,
          "symbol": "diamond"
         },
         "mode": "markers",
         "name": "Above Hull",
         "showlegend": true,
         "type": "scatter",
         "x": [
          0,
          0,
          0,
          0
         ],
         "y": [
          0.0075411533333333836,
          0.007226485833333296,
          0.0036091633333334983,
          0.034337163333333365
         ]
        }
       ],
       "layout": {
        "annotations": [
         {
          "align": "center",
          "font": {
           "color": "#000000",
           "size": 24
          },
          "opacity": 1,
          "showarrow": false,
          "text": "Ag",
          "x": -0.03,
          "xref": "x",
          "y": -0.03,
          "yref": "y"
         },
         {
          "align": "center",
          "font": {
           "color": "#000000",
           "size": 24
          },
          "opacity": 1,
          "showarrow": false,
          "text": "V",
          "x": 1.03,
          "xref": "x",
          "y": -0.03,
          "yref": "y"
         }
        ],
        "autosize": true,
        "coloraxis": {
         "colorbar": {
          "x": 1,
          "y": 0.05,
          "yanchor": "top"
         }
        },
        "height": 700,
        "hovermode": "closest",
        "legend": {
         "orientation": "h",
         "tracegroupgap": 7,
         "traceorder": "reversed",
         "x": 0,
         "xanchor": "left",
         "y": 1.05
        },
        "margin": {
         "b": 10,
         "l": 10,
         "pad": 0,
         "r": 10,
         "t": 0
        },
        "paper_bgcolor": "white",
        "plot_bgcolor": "white",
        "showlegend": true,
        "template": {
         "data": {
          "bar": [
           {
            "error_x": {
             "color": "#2a3f5f"
            },
            "error_y": {
             "color": "#2a3f5f"
            },
            "marker": {
             "line": {
              "color": "#E5ECF6",
              "width": 0.5
             },
             "pattern": {
              "fillmode": "overlay",
              "size": 10,
              "solidity": 0.2
             }
            },
            "type": "bar"
           }
          ],
          "barpolar": [
           {
            "marker": {
             "line": {
              "color": "#E5ECF6",
              "width": 0.5
             },
             "pattern": {
              "fillmode": "overlay",
              "size": 10,
              "solidity": 0.2
             }
            },
            "type": "barpolar"
           }
          ],
          "carpet": [
           {
            "aaxis": {
             "endlinecolor": "#2a3f5f",
             "gridcolor": "white",
             "linecolor": "white",
             "minorgridcolor": "white",
             "startlinecolor": "#2a3f5f"
            },
            "baxis": {
             "endlinecolor": "#2a3f5f",
             "gridcolor": "white",
             "linecolor": "white",
             "minorgridcolor": "white",
             "startlinecolor": "#2a3f5f"
            },
            "type": "carpet"
           }
          ],
          "choropleth": [
           {
            "colorbar": {
             "outlinewidth": 0,
             "ticks": ""
            },
            "type": "choropleth"
           }
          ],
          "contour": [
           {
            "colorbar": {
             "outlinewidth": 0,
             "ticks": ""
            },
            "colorscale": [
             [
              0,
              "#0d0887"
             ],
             [
              0.1111111111111111,
              "#46039f"
             ],
             [
              0.2222222222222222,
              "#7201a8"
             ],
             [
              0.3333333333333333,
              "#9c179e"
             ],
             [
              0.4444444444444444,
              "#bd3786"
             ],
             [
              0.5555555555555556,
              "#d8576b"
             ],
             [
              0.6666666666666666,
              "#ed7953"
             ],
             [
              0.7777777777777778,
              "#fb9f3a"
             ],
             [
              0.8888888888888888,
              "#fdca26"
             ],
             [
              1,
              "#f0f921"
             ]
            ],
            "type": "contour"
           }
          ],
          "contourcarpet": [
           {
            "colorbar": {
             "outlinewidth": 0,
             "ticks": ""
            },
            "type": "contourcarpet"
           }
          ],
          "heatmap": [
           {
            "colorbar": {
             "outlinewidth": 0,
             "ticks": ""
            },
            "colorscale": [
             [
              0,
              "#0d0887"
             ],
             [
              0.1111111111111111,
              "#46039f"
             ],
             [
              0.2222222222222222,
              "#7201a8"
             ],
             [
              0.3333333333333333,
              "#9c179e"
             ],
             [
              0.4444444444444444,
              "#bd3786"
             ],
             [
              0.5555555555555556,
              "#d8576b"
             ],
             [
              0.6666666666666666,
              "#ed7953"
             ],
             [
              0.7777777777777778,
              "#fb9f3a"
             ],
             [
              0.8888888888888888,
              "#fdca26"
             ],
             [
              1,
              "#f0f921"
             ]
            ],
            "type": "heatmap"
           }
          ],
          "heatmapgl": [
           {
            "colorbar": {
             "outlinewidth": 0,
             "ticks": ""
            },
            "colorscale": [
             [
              0,
              "#0d0887"
             ],
             [
              0.1111111111111111,
              "#46039f"
             ],
             [
              0.2222222222222222,
              "#7201a8"
             ],
             [
              0.3333333333333333,
              "#9c179e"
             ],
             [
              0.4444444444444444,
              "#bd3786"
             ],
             [
              0.5555555555555556,
              "#d8576b"
             ],
             [
              0.6666666666666666,
              "#ed7953"
             ],
             [
              0.7777777777777778,
              "#fb9f3a"
             ],
             [
              0.8888888888888888,
              "#fdca26"
             ],
             [
              1,
              "#f0f921"
             ]
            ],
            "type": "heatmapgl"
           }
          ],
          "histogram": [
           {
            "marker": {
             "pattern": {
              "fillmode": "overlay",
              "size": 10,
              "solidity": 0.2
             }
            },
            "type": "histogram"
           }
          ],
          "histogram2d": [
           {
            "colorbar": {
             "outlinewidth": 0,
             "ticks": ""
            },
            "colorscale": [
             [
              0,
              "#0d0887"
             ],
             [
              0.1111111111111111,
              "#46039f"
             ],
             [
              0.2222222222222222,
              "#7201a8"
             ],
             [
              0.3333333333333333,
              "#9c179e"
             ],
             [
              0.4444444444444444,
              "#bd3786"
             ],
             [
              0.5555555555555556,
              "#d8576b"
             ],
             [
              0.6666666666666666,
              "#ed7953"
             ],
             [
              0.7777777777777778,
              "#fb9f3a"
             ],
             [
              0.8888888888888888,
              "#fdca26"
             ],
             [
              1,
              "#f0f921"
             ]
            ],
            "type": "histogram2d"
           }
          ],
          "histogram2dcontour": [
           {
            "colorbar": {
             "outlinewidth": 0,
             "ticks": ""
            },
            "colorscale": [
             [
              0,
              "#0d0887"
             ],
             [
              0.1111111111111111,
              "#46039f"
             ],
             [
              0.2222222222222222,
              "#7201a8"
             ],
             [
              0.3333333333333333,
              "#9c179e"
             ],
             [
              0.4444444444444444,
              "#bd3786"
             ],
             [
              0.5555555555555556,
              "#d8576b"
             ],
             [
              0.6666666666666666,
              "#ed7953"
             ],
             [
              0.7777777777777778,
              "#fb9f3a"
             ],
             [
              0.8888888888888888,
              "#fdca26"
             ],
             [
              1,
              "#f0f921"
             ]
            ],
            "type": "histogram2dcontour"
           }
          ],
          "mesh3d": [
           {
            "colorbar": {
             "outlinewidth": 0,
             "ticks": ""
            },
            "type": "mesh3d"
           }
          ],
          "parcoords": [
           {
            "line": {
             "colorbar": {
              "outlinewidth": 0,
              "ticks": ""
             }
            },
            "type": "parcoords"
           }
          ],
          "pie": [
           {
            "automargin": true,
            "type": "pie"
           }
          ],
          "scatter": [
           {
            "fillpattern": {
             "fillmode": "overlay",
             "size": 10,
             "solidity": 0.2
            },
            "type": "scatter"
           }
          ],
          "scatter3d": [
           {
            "line": {
             "colorbar": {
              "outlinewidth": 0,
              "ticks": ""
             }
            },
            "marker": {
             "colorbar": {
              "outlinewidth": 0,
              "ticks": ""
             }
            },
            "type": "scatter3d"
           }
          ],
          "scattercarpet": [
           {
            "marker": {
             "colorbar": {
              "outlinewidth": 0,
              "ticks": ""
             }
            },
            "type": "scattercarpet"
           }
          ],
          "scattergeo": [
           {
            "marker": {
             "colorbar": {
              "outlinewidth": 0,
              "ticks": ""
             }
            },
            "type": "scattergeo"
           }
          ],
          "scattergl": [
           {
            "marker": {
             "colorbar": {
              "outlinewidth": 0,
              "ticks": ""
             }
            },
            "type": "scattergl"
           }
          ],
          "scattermapbox": [
           {
            "marker": {
             "colorbar": {
              "outlinewidth": 0,
              "ticks": ""
             }
            },
            "type": "scattermapbox"
           }
          ],
          "scatterpolar": [
           {
            "marker": {
             "colorbar": {
              "outlinewidth": 0,
              "ticks": ""
             }
            },
            "type": "scatterpolar"
           }
          ],
          "scatterpolargl": [
           {
            "marker": {
             "colorbar": {
              "outlinewidth": 0,
              "ticks": ""
             }
            },
            "type": "scatterpolargl"
           }
          ],
          "scatterternary": [
           {
            "marker": {
             "colorbar": {
              "outlinewidth": 0,
              "ticks": ""
             }
            },
            "type": "scatterternary"
           }
          ],
          "surface": [
           {
            "colorbar": {
             "outlinewidth": 0,
             "ticks": ""
            },
            "colorscale": [
             [
              0,
              "#0d0887"
             ],
             [
              0.1111111111111111,
              "#46039f"
             ],
             [
              0.2222222222222222,
              "#7201a8"
             ],
             [
              0.3333333333333333,
              "#9c179e"
             ],
             [
              0.4444444444444444,
              "#bd3786"
             ],
             [
              0.5555555555555556,
              "#d8576b"
             ],
             [
              0.6666666666666666,
              "#ed7953"
             ],
             [
              0.7777777777777778,
              "#fb9f3a"
             ],
             [
              0.8888888888888888,
              "#fdca26"
             ],
             [
              1,
              "#f0f921"
             ]
            ],
            "type": "surface"
           }
          ],
          "table": [
           {
            "cells": {
             "fill": {
              "color": "#EBF0F8"
             },
             "line": {
              "color": "white"
             }
            },
            "header": {
             "fill": {
              "color": "#C8D4E3"
             },
             "line": {
              "color": "white"
             }
            },
            "type": "table"
           }
          ]
         },
         "layout": {
          "annotationdefaults": {
           "arrowcolor": "#2a3f5f",
           "arrowhead": 0,
           "arrowwidth": 1
          },
          "autotypenumbers": "strict",
          "coloraxis": {
           "colorbar": {
            "outlinewidth": 0,
            "ticks": ""
           }
          },
          "colorscale": {
           "diverging": [
            [
             0,
             "#8e0152"
            ],
            [
             0.1,
             "#c51b7d"
            ],
            [
             0.2,
             "#de77ae"
            ],
            [
             0.3,
             "#f1b6da"
            ],
            [
             0.4,
             "#fde0ef"
            ],
            [
             0.5,
             "#f7f7f7"
            ],
            [
             0.6,
             "#e6f5d0"
            ],
            [
             0.7,
             "#b8e186"
            ],
            [
             0.8,
             "#7fbc41"
            ],
            [
             0.9,
             "#4d9221"
            ],
            [
             1,
             "#276419"
            ]
           ],
           "sequential": [
            [
             0,
             "#0d0887"
            ],
            [
             0.1111111111111111,
             "#46039f"
            ],
            [
             0.2222222222222222,
             "#7201a8"
            ],
            [
             0.3333333333333333,
             "#9c179e"
            ],
            [
             0.4444444444444444,
             "#bd3786"
            ],
            [
             0.5555555555555556,
             "#d8576b"
            ],
            [
             0.6666666666666666,
             "#ed7953"
            ],
            [
             0.7777777777777778,
             "#fb9f3a"
            ],
            [
             0.8888888888888888,
             "#fdca26"
            ],
            [
             1,
             "#f0f921"
            ]
           ],
           "sequentialminus": [
            [
             0,
             "#0d0887"
            ],
            [
             0.1111111111111111,
             "#46039f"
            ],
            [
             0.2222222222222222,
             "#7201a8"
            ],
            [
             0.3333333333333333,
             "#9c179e"
            ],
            [
             0.4444444444444444,
             "#bd3786"
            ],
            [
             0.5555555555555556,
             "#d8576b"
            ],
            [
             0.6666666666666666,
             "#ed7953"
            ],
            [
             0.7777777777777778,
             "#fb9f3a"
            ],
            [
             0.8888888888888888,
             "#fdca26"
            ],
            [
             1,
             "#f0f921"
            ]
           ]
          },
          "colorway": [
           "#636efa",
           "#EF553B",
           "#00cc96",
           "#ab63fa",
           "#FFA15A",
           "#19d3f3",
           "#FF6692",
           "#B6E880",
           "#FF97FF",
           "#FECB52"
          ],
          "font": {
           "color": "#2a3f5f"
          },
          "geo": {
           "bgcolor": "white",
           "lakecolor": "white",
           "landcolor": "#E5ECF6",
           "showlakes": true,
           "showland": true,
           "subunitcolor": "white"
          },
          "hoverlabel": {
           "align": "left"
          },
          "hovermode": "closest",
          "mapbox": {
           "style": "light"
          },
          "paper_bgcolor": "white",
          "plot_bgcolor": "#E5ECF6",
          "polar": {
           "angularaxis": {
            "gridcolor": "white",
            "linecolor": "white",
            "ticks": ""
           },
           "bgcolor": "#E5ECF6",
           "radialaxis": {
            "gridcolor": "white",
            "linecolor": "white",
            "ticks": ""
           }
          },
          "scene": {
           "xaxis": {
            "backgroundcolor": "#E5ECF6",
            "gridcolor": "white",
            "gridwidth": 2,
            "linecolor": "white",
            "showbackground": true,
            "ticks": "",
            "zerolinecolor": "white"
           },
           "yaxis": {
            "backgroundcolor": "#E5ECF6",
            "gridcolor": "white",
            "gridwidth": 2,
            "linecolor": "white",
            "showbackground": true,
            "ticks": "",
            "zerolinecolor": "white"
           },
           "zaxis": {
            "backgroundcolor": "#E5ECF6",
            "gridcolor": "white",
            "gridwidth": 2,
            "linecolor": "white",
            "showbackground": true,
            "ticks": "",
            "zerolinecolor": "white"
           }
          },
          "shapedefaults": {
           "line": {
            "color": "#2a3f5f"
           }
          },
          "ternary": {
           "aaxis": {
            "gridcolor": "white",
            "linecolor": "white",
            "ticks": ""
           },
           "baxis": {
            "gridcolor": "white",
            "linecolor": "white",
            "ticks": ""
           },
           "bgcolor": "#E5ECF6",
           "caxis": {
            "gridcolor": "white",
            "linecolor": "white",
            "ticks": ""
           }
          },
          "title": {
           "x": 0.05
          },
          "xaxis": {
           "automargin": true,
           "gridcolor": "white",
           "linecolor": "white",
           "ticks": "",
           "title": {
            "standoff": 15
           },
           "zerolinecolor": "white",
           "zerolinewidth": 2
          },
          "yaxis": {
           "automargin": true,
           "gridcolor": "white",
           "linecolor": "white",
           "ticks": "",
           "title": {
            "standoff": 15
           },
           "zerolinecolor": "white",
           "zerolinewidth": 2
          }
         }
        },
        "width": 960,
        "xaxis": {
         "anchor": "y",
         "gridcolor": "rgba(0,0,0,0.1)",
         "mirror": "ticks",
         "nticks": 8,
         "showgrid": true,
         "showline": true,
         "side": "bottom",
         "tickfont": {
          "size": 16
         },
         "ticks": "inside",
         "title": {
          "font": {
           "color": "#000000",
           "size": 20
          },
          "text": "Composition (fraction)"
         },
         "type": "linear",
         "zeroline": false
        },
        "yaxis": {
         "anchor": "x",
         "gridcolor": "rgba(0,0,0,0.1)",
         "mirror": "ticks",
         "showgrid": true,
         "showline": true,
         "side": "left",
         "tickfont": {
          "size": 16
         },
         "ticks": "inside",
         "title": {
          "font": {
           "color": "#000000",
           "size": 20
          },
          "text": "Formation energy (eV/atom)"
         },
         "type": "linear"
        }
       }
      }
     },
     "metadata": {},
     "output_type": "display_data"
    },
    {
     "name": "stdout",
     "output_type": "stream",
     "text": [
      "Al: H_fusion = 10710.0 J/mol, T_fusion = 933.5 K, T_vaporization = 2792.15 K\n",
      "Cu: H_fusion = 13260.0 J/mol, T_fusion = 1357.77 K, T_vaporization = 2835.15 K\n",
      "\n",
      "Reading MPDS json from entry at https://mpds.io/entry/C903362...\n",
      "\n",
      "Best fitted parameters for Al-Cu: [-8550.08, -63.2, 78450.52, -107.51]\n",
      "MAE = 24.90\n",
      "L0 = -63.2*t - 8550\n",
      "L1 = 78450 - 107.51*t\n"
     ]
    },
    {
     "data": {
      "image/png": "[encoded data removed]",
      "text/plain": [
       "<Figure size 800x500 with 3 Axes>"
      ]
     },
     "metadata": {},
     "output_type": "display_data"
    },
    {
     "data": {
      "application/vnd.plotly.v1+json": {
       "config": {
        "plotlyServerURL": "https://plot.ly"
       },
       "data": [
        {
         "line": {
          "color": "#B82E2E",
          "dash": "dash",
          "width": 4
         },
         "mode": "lines",
         "showlegend": false,
         "type": "scatter",
         "x": [
          0.0381243,
          2.89787025,
          5.757616200000001,
          8.61736215,
          11.4771081,
          14.33685405,
          17.1966,
          17.9851,
          18.8,
          19.6233,
          20.4563,
          21.3002,
          22.1563,
          23.0258,
          23.91,
          24.8099,
          25.727,
          26.6624,
          27.617399999999996,
          28.5931,
          29.5908,
          30.6117,
          31.6571,
          32.7125,
          32.889,
          33.0812,
          33.278,
          33.4795,
          33.6858,
          33.897,
          34.1134,
          34.3348,
          34.5616,
          34.7938,
          35.0315,
          35.2748,
          35.5239,
          35.7789,
          36.0398,
          36.3068,
          36.5733,
          37.4717,
          38.3839,
          39.3036,
          40.2298,
          41.161,
          42.096,
          43.0335,
          43.9721,
          44.9106,
          45.8476,
          46.7819,
          47.7121,
          48.637,
          49.5552,
          50.4655,
          51.3665,
          52.2562,
          52.7497,
          53.23709999999999,
          53.7181,
          54.19350000000001,
          54.66380000000001,
          55.1296,
          55.5916,
          56.0503,
          56.5064,
          56.9605,
          57.41309999999999,
          57.865,
          58.316599999999994,
          58.76870000000001,
          59.2218,
          59.6766,
          60.1318,
          60.45120000000001,
          60.775400000000005,
          61.1027,
          61.4333,
          61.767300000000006,
          62.104899999999994,
          62.4463,
          62.7916,
          63.141000000000005,
          63.4947,
          63.8528,
          64.2155,
          64.583,
          64.9554,
          65.3328,
          65.7156,
          66.1034,
          66.2601,
          66.429,
          66.6075,
          66.7947,
          66.9896,
          67.1914,
          67.3992,
          67.612,
          67.829,
          68.0493,
          68.272,
          68.4961,
          68.7208,
          68.9452,
          69.1684,
          69.3894,
          69.606,
          69.9556,
          70.3091,
          70.6641,
          71.0203,
          71.3771,
          71.7342,
          72.0912,
          72.4476,
          72.8031,
          73.1572,
          73.5095,
          73.8595,
          74.2069,
          74.5513,
          74.8922,
          75.2292,
          75.5619,
          76.0193,
          76.4749,
          76.9287,
          77.3808,
          77.8312,
          78.28,
          78.7274,
          79.1735,
          79.6182,
          80.0618,
          80.5043,
          80.9458,
          81.3864,
          81.8263,
          82.2653,
          82.7038,
          83.1257,
          83.9345,
          84.7778,
          85.6406,
          86.5233,
          87.4262,
          88.3499,
          89.2948,
          90.2612,
          91.2496,
          92.2603,
          93.2939,
          94.3508,
          95.4312,
          96.5358,
          97.6647,
          98.8186,
          99.9619
         ],
         "y": [
          661.098,
          642.2486666666666,
          623.3993333333333,
          604.55,
          585.7006666666666,
          566.8513333333333,
          548.002,
          551.897,
          555.769,
          559.508,
          563.102,
          566.536,
          569.796,
          572.87,
          575.743,
          578.402,
          580.832,
          583.022,
          584.956,
          586.621,
          588.003,
          589.09,
          589.866,
          590.312,
          592.323,
          594.431,
          596.51,
          598.56,
          600.582,
          602.575,
          604.541,
          606.478,
          608.388,
          610.271,
          612.126,
          613.954,
          615.756,
          617.532,
          619.281,
          621.004,
          622.66,
          635.6,
          648.71,
          661.905,
          675.17,
          688.488,
          701.844,
          715.221,
          728.603,
          741.974,
          755.3179999999999,
          768.619,
          781.861,
          795.0270000000002,
          808.102,
          821.07,
          833.9139999999999,
          846.6079999999998,
          854.648,
          862.552,
          870.301,
          877.8860000000001,
          885.2979999999999,
          892.5299999999999,
          899.574,
          906.42,
          913.0600000000001,
          919.486,
          925.689,
          931.6619999999999,
          937.3950000000001,
          942.881,
          948.111,
          953.0760000000001,
          957.7489999999999,
          962.0310000000001,
          966.284,
          970.4809999999999,
          974.619,
          978.6940000000001,
          982.7039999999998,
          986.647,
          990.5169999999999,
          994.314,
          998.034,
          1001.67,
          1005.2300000000001,
          1008.6999999999999,
          1012.08,
          1015.37,
          1018.57,
          1021.66,
          1022.9600000000002,
          1024.2399999999998,
          1025.4699999999998,
          1026.6599999999999,
          1027.7999999999997,
          1028.9,
          1029.94,
          1030.94,
          1031.88,
          1032.77,
          1033.6099999999997,
          1034.38,
          1035.1,
          1035.7599999999998,
          1036.35,
          1036.88,
          1037.3399999999997,
          1038.3899999999999,
          1039.38,
          1040.31,
          1041.19,
          1042.0099999999998,
          1042.77,
          1043.46,
          1044.1,
          1044.67,
          1045.1799999999998,
          1045.63,
          1046.0099999999998,
          1046.3199999999997,
          1046.56,
          1046.7399999999998,
          1046.85,
          1046.88,
          1046.8199999999997,
          1046.6399999999999,
          1046.33,
          1045.92,
          1045.3899999999999,
          1044.7599999999998,
          1044.0299999999997,
          1043.1999999999998,
          1042.27,
          1041.2599999999998,
          1040.17,
          1038.9899999999998,
          1037.7399999999998,
          1036.42,
          1035.0299999999997,
          1033.58,
          1032.12,
          1037.0299999999997,
          1041.85,
          1046.4899999999998,
          1050.92,
          1055.15,
          1059.1399999999999,
          1062.9,
          1066.42,
          1069.67,
          1072.6399999999999,
          1075.33,
          1077.73,
          1079.81,
          1081.5699999999997,
          1082.9899999999998,
          1084.0699999999997,
          1084.77
         ]
        },
        {
         "hovertemplate": "label=Al2Cu<br>x=%{x}<br>t=%{y}<extra></extra>",
         "legendgroup": "Al2Cu",
         "line": {
          "color": "rgb(246, 207, 113)",
          "dash": "solid",
          "width": 4
         },
         "marker": {
          "symbol": "circle"
         },
         "mode": "lines",
         "name": "Al2Cu",
         "orientation": "v",
         "showlegend": false,
         "type": "scatter",
         "x": [
          33,
          33,
          33,
          33,
          33,
          33,
          33,
          33,
          33,
          33,
          33,
          33,
          33,
          33,
          33,
          33,
          33,
          33,
          33,
          33,
          33,
          33
         ],
         "xaxis": "x",
         "y": [
          582.8797177282655,
          582.7139341803892,
          505.0747957324659,
          512.3425113904048,
          491.8056510929322,
          497.64083590876805,
          526.2653855268657,
          519.415845736289,
          550.7896886761156,
          545.153827380611,
          578.2379353815714,
          572.7417779986375,
          575.7382703842355,
          532.8599208033446,
          539.1670550959692,
          556.0439099400597,
          560.8896754024122,
          569.258176291364,
          565.3014474032777,
          581.7259348084023,
          580.2344041625107,
          -273.15
         ],
         "yaxis": "y"
        },
        {
         "hovertemplate": "label=AlCu<br>x=%{x}<br>t=%{y}<extra></extra>",
         "legendgroup": "AlCu",
         "line": {
          "color": "rgb(248, 156, 116)",
          "dash": "solid",
          "width": 4
         },
         "marker": {
          "symbol": "circle"
         },
         "mode": "lines",
         "name": "AlCu",
         "orientation": "v",
         "showlegend": false,
         "type": "scatter",
         "x": [
          50,
          50,
          50,
          50,
          50,
          50,
          50,
          50,
          50,
          50,
          50,
          50,
          50,
          50,
          50,
          50,
          50
         ],
         "xaxis": "x",
         "y": [
          669.2541446109982,
          667.4167895482238,
          582.8797177282655,
          635.7930170739386,
          597.6949703572884,
          588.9145831080547,
          629.0762829850192,
          621.8730324227312,
          606.1436939438212,
          614.2166075075897,
          664.6282580849507,
          661.2563089011754,
          652.7649041066456,
          657.3004898095509,
          647.6583491905794,
          641.9948127967458,
          -273.15
         ],
         "yaxis": "y"
        },
        {
         "hovertemplate": "label=AlCu3<br>x=%{x}<br>t=%{y}<extra></extra>",
         "legendgroup": "AlCu3",
         "line": {
          "color": "rgb(135, 197, 95)",
          "dash": "solid",
          "width": 4
         },
         "marker": {
          "symbol": "circle"
         },
         "mode": "lines",
         "name": "AlCu3",
         "orientation": "v",
         "showlegend": false,
         "type": "scatter",
         "x": [
          75,
          75,
          75,
          75,
          75,
          75,
          75,
          75,
          75,
          75,
          75,
          75,
          75,
          75,
          75,
          75,
          75,
          75,
          75,
          75,
          75,
          75,
          75,
          75,
          75,
          75,
          75,
          75,
          75,
          75,
          75,
          75,
          75,
          75,
          75,
          75,
          75,
          75,
          75,
          75,
          75,
          75,
          75,
          75,
          75
         ],
         "xaxis": "x",
         "y": [
          669.2541446109982,
          971.1429194344001,
          1004.5032837383445,
          1039.9765921394878,
          1040.0174354020314,
          845.3742649903962,
          673.603705935541,
          994.7281402284547,
          983.6231411089922,
          1020.3082804195957,
          1013.0061922767685,
          1045.6577320037845,
          1044.8790417756172,
          1041.7108587985967,
          1043.5913084856434,
          1026.4878762426088,
          1031.6288093806088,
          1039.1500116175007,
          1035.8193417353928,
          1041.705439910923,
          1041.115818219626,
          1040.6470612518278,
          1046.0087945557902,
          1046.0087945557902,
          1045.2420271124915,
          1045.7304872235109,
          1042.3878028899376,
          1043.1290131466412,
          1044.6070059203557,
          1043.8845445855336,
          957.2574039624047,
          941.9559819167204,
          907.1705501156699,
          925.2498410960794,
          887.7740488391308,
          867.1410777288421,
          724.4551395350348,
          699.0267052163595,
          822.5964336107141,
          798.9506705782286,
          749.7045373505543,
          774.5959330048007,
          1040.1105925859151,
          1040.3121856024418,
          -273.15
         ],
         "yaxis": "y"
        },
        {
         "hovertemplate": "x=%{x}<br>y=%{y}<extra></extra>",
         "legendgroup": "",
         "line": {
          "color": "Silver",
          "dash": "solid",
          "width": 4
         },
         "marker": {
          "symbol": "circle"
         },
         "mode": "lines",
         "name": "",
         "orientation": "v",
         "showlegend": false,
         "type": "scatter",
         "x": [
          0,
          13,
          33
         ],
         "xaxis": "x",
         "y": [
          491.8056510929322,
          491.8056510929322,
          491.8056510929322
         ],
         "yaxis": "y"
        },
        {
         "hovertemplate": "x=%{x}<br>y=%{y}<extra></extra>",
         "legendgroup": "",
         "line": {
          "color": "Silver",
          "dash": "solid",
          "width": 4
         },
         "marker": {
          "symbol": "circle"
         },
         "mode": "lines",
         "name": "",
         "orientation": "v",
         "showlegend": false,
         "type": "scatter",
         "x": [
          75,
          88,
          100
         ],
         "xaxis": "x",
         "y": [
          1039.9765921394878,
          1039.9765921394878,
          1039.9765921394878
         ],
         "yaxis": "y"
        },
        {
         "hovertemplate": "x=%{x}<br>y=%{y}<extra></extra>",
         "legendgroup": "",
         "line": {
          "color": "Silver",
          "dash": "solid",
          "width": 4
         },
         "marker": {
          "symbol": "circle"
         },
         "mode": "lines",
         "name": "",
         "orientation": "v",
         "showlegend": false,
         "type": "scatter",
         "x": [
          46,
          50,
          75
         ],
         "xaxis": "x",
         "y": [
          669.2541446109982,
          669.2541446109982,
          669.2541446109982
         ],
         "yaxis": "y"
        },
        {
         "hovertemplate": "x=%{x}<br>y=%{y}<extra></extra>",
         "legendgroup": "",
         "line": {
          "color": "Silver",
          "dash": "solid",
          "width": 4
         },
         "marker": {
          "symbol": "circle"
         },
         "mode": "lines",
         "name": "",
         "orientation": "v",
         "showlegend": false,
         "type": "scatter",
         "x": [
          32,
          33,
          50
         ],
         "xaxis": "x",
         "y": [
          582.8797177282655,
          582.8797177282655,
          582.8797177282655
         ],
         "yaxis": "y"
        },
        {
         "hovertemplate": "label=L<br>x=%{x}<br>t=%{y}<extra></extra>",
         "legendgroup": "L",
         "line": {
          "color": "cornflowerblue",
          "dash": "solid",
          "width": 4
         },
         "marker": {
          "symbol": "circle"
         },
         "mode": "lines",
         "name": "L",
         "orientation": "v",
         "showlegend": false,
         "type": "scatter",
         "x": [
          0,
          1,
          2,
          3,
          4,
          5,
          6,
          7.000000000000001,
          8,
          9,
          10,
          11,
          12,
          13,
          14.000000000000002,
          15,
          16,
          17,
          18,
          19,
          20,
          21,
          22,
          23,
          24,
          25,
          26,
          27,
          28.000000000000004,
          28.999999999999996,
          30,
          31,
          32,
          33,
          34,
          35,
          36,
          37,
          38,
          39,
          40,
          41,
          42,
          43,
          44,
          45,
          46,
          47,
          48,
          49,
          50,
          51,
          52,
          53,
          54,
          55.00000000000001,
          56.00000000000001,
          56.99999999999999,
          57.99999999999999,
          59,
          60,
          61,
          62,
          63,
          64,
          65,
          66,
          67,
          68,
          69,
          70,
          71,
          72,
          73,
          74,
          75,
          76,
          77,
          78,
          79,
          80,
          81,
          82,
          83,
          84,
          85,
          86,
          87,
          88,
          89,
          90,
          91,
          92,
          93,
          94,
          95,
          96,
          97,
          98,
          99,
          100
         ],
         "xaxis": "x",
         "y": [
          661.0980000000001,
          649.5232551412663,
          638.3836862132549,
          625.895043954839,
          612.2857227874896,
          597.8665375504685,
          582.9424023252502,
          567.7832641270751,
          552.6214188978308,
          537.6399019795336,
          522.9822474179159,
          508.7528042452035,
          495.01925719888607,
          491.8056510929322,
          497.64083590876805,
          505.0747957324659,
          512.3425113904048,
          519.415845736289,
          526.2653855268657,
          532.8599208033446,
          539.1670550959692,
          545.153827380611,
          550.7896886761156,
          556.0439099400597,
          560.8896754024122,
          565.3014474032777,
          569.258176291364,
          572.7417779986375,
          575.7382703842355,
          578.2379353815714,
          580.2344041625107,
          581.7259348084023,
          582.7139341803892,
          588.9145831080547,
          597.6949703572884,
          606.1436939438212,
          614.2166075075897,
          621.8730324227312,
          629.0762829850192,
          635.7930170739386,
          641.9948127967458,
          647.6583491905794,
          652.7649041066456,
          657.3004898095509,
          661.2563089011754,
          664.6282580849507,
          667.4167895482238,
          673.603705935541,
          699.0267052163595,
          724.4551395350348,
          749.7045373505543,
          774.5959330048007,
          798.9506705782286,
          822.5964336107141,
          845.3742649903962,
          867.1410777288421,
          887.7740488391308,
          907.1705501156699,
          925.2498410960794,
          941.9559819167204,
          957.2574039624047,
          971.1429194344001,
          983.6231411089922,
          994.7281402284547,
          1004.5032837383445,
          1013.0061922767685,
          1020.3082804195957,
          1026.4878762426088,
          1031.6288093806088,
          1035.8193417353928,
          1039.1500116175007,
          1041.7108587985967,
          1043.5913084856434,
          1044.8790417756172,
          1045.6577320037845,
          1046.0087945557902,
          1045.7304872235109,
          1045.2420271124915,
          1044.6070059203557,
          1043.8845445855336,
          1043.1290131466412,
          1042.3878028899376,
          1041.705439910923,
          1041.115818219626,
          1040.6470612518278,
          1040.3121856024418,
          1040.1105925859151,
          1040.0174354020314,
          1039.9765921394878,
          1039.9894654071272,
          1040.1449417141316,
          1040.5430183406897,
          1041.3378556950552,
          1042.670569532284,
          1044.6801947176332,
          1047.5106640479457,
          1051.318199662242,
          1056.2849637745317,
          1062.652849919587,
          1070.8530523617683,
          1084.7700000000004
         ],
         "yaxis": "y"
        },
        {
         "line": {
          "color": "#B82E2E",
          "dash": "dash"
         },
         "mode": "lines",
         "name": "Digitized Liquidus",
         "showlegend": true,
         "type": "scatter",
         "x": [
          null
         ],
         "y": [
          null
         ]
        },
        {
         "marker": {
          "color": "cornflowerblue"
         },
         "mode": "lines",
         "name": "Fitted Liquidus",
         "showlegend": true,
         "type": "scatter",
         "x": [
          null
         ],
         "y": [
          null
         ]
        }
       ],
       "layout": {
        "annotations": [
         {
          "borderpad": 5,
          "font": {
           "color": "black",
           "size": 18
          },
          "showarrow": false,
          "text": "Al2Cu",
          "textangle": -90,
          "x": 30.5,
          "y": 300,
          "yanchor": "bottom"
         },
         {
          "borderpad": 5,
          "font": {
           "color": "black",
           "size": 18
          },
          "showarrow": false,
          "text": "AlCu",
          "textangle": -90,
          "x": 47.5,
          "y": 300,
          "yanchor": "bottom"
         },
         {
          "borderpad": 5,
          "font": {
           "color": "black",
           "size": 18
          },
          "showarrow": false,
          "text": "AlCu3",
          "textangle": -90,
          "x": 72.5,
          "y": 300,
          "yanchor": "bottom"
         },
         {
          "font": {
           "color": "black",
           "size": 18
          },
          "showarrow": false,
          "text": "L",
          "x": 50,
          "y": 1116
         }
        ],
        "font": {
         "size": 22
        },
        "height": 700,
        "legend": {
         "font": {
          "size": 18
         },
         "x": 0.01,
         "xanchor": "left",
         "y": 0.99,
         "yanchor": "top"
        },
        "plot_bgcolor": "white",
        "showlegend": true,
        "template": {
         "data": {
          "bar": [
           {
            "error_x": {
             "color": "#2a3f5f"
            },
            "error_y": {
             "color": "#2a3f5f"
            },
            "marker": {
             "line": {
              "color": "#E5ECF6",
              "width": 0.5
             },
             "pattern": {
              "fillmode": "overlay",
              "size": 10,
              "solidity": 0.2
             }
            },
            "type": "bar"
           }
          ],
          "barpolar": [
           {
            "marker": {
             "line": {
              "color": "#E5ECF6",
              "width": 0.5
             },
             "pattern": {
              "fillmode": "overlay",
              "size": 10,
              "solidity": 0.2
             }
            },
            "type": "barpolar"
           }
          ],
          "carpet": [
           {
            "aaxis": {
             "endlinecolor": "#2a3f5f",
             "gridcolor": "white",
             "linecolor": "white",
             "minorgridcolor": "white",
             "startlinecolor": "#2a3f5f"
            },
            "baxis": {
             "endlinecolor": "#2a3f5f",
             "gridcolor": "white",
             "linecolor": "white",
             "minorgridcolor": "white",
             "startlinecolor": "#2a3f5f"
            },
            "type": "carpet"
           }
          ],
          "choropleth": [
           {
            "colorbar": {
             "outlinewidth": 0,
             "ticks": ""
            },
            "type": "choropleth"
           }
          ],
          "contour": [
           {
            "colorbar": {
             "outlinewidth": 0,
             "ticks": ""
            },
            "colorscale": [
             [
              0,
              "#0d0887"
             ],
             [
              0.1111111111111111,
              "#46039f"
             ],
             [
              0.2222222222222222,
              "#7201a8"
             ],
             [
              0.3333333333333333,
              "#9c179e"
             ],
             [
              0.4444444444444444,
              "#bd3786"
             ],
             [
              0.5555555555555556,
              "#d8576b"
             ],
             [
              0.6666666666666666,
              "#ed7953"
             ],
             [
              0.7777777777777778,
              "#fb9f3a"
             ],
             [
              0.8888888888888888,
              "#fdca26"
             ],
             [
              1,
              "#f0f921"
             ]
            ],
            "type": "contour"
           }
          ],
          "contourcarpet": [
           {
            "colorbar": {
             "outlinewidth": 0,
             "ticks": ""
            },
            "type": "contourcarpet"
           }
          ],
          "heatmap": [
           {
            "colorbar": {
             "outlinewidth": 0,
             "ticks": ""
            },
            "colorscale": [
             [
              0,
              "#0d0887"
             ],
             [
              0.1111111111111111,
              "#46039f"
             ],
             [
              0.2222222222222222,
              "#7201a8"
             ],
             [
              0.3333333333333333,
              "#9c179e"
             ],
             [
              0.4444444444444444,
              "#bd3786"
             ],
             [
              0.5555555555555556,
              "#d8576b"
             ],
             [
              0.6666666666666666,
              "#ed7953"
             ],
             [
              0.7777777777777778,
              "#fb9f3a"
             ],
             [
              0.8888888888888888,
              "#fdca26"
             ],
             [
              1,
              "#f0f921"
             ]
            ],
            "type": "heatmap"
           }
          ],
          "heatmapgl": [
           {
            "colorbar": {
             "outlinewidth": 0,
             "ticks": ""
            },
            "colorscale": [
             [
              0,
              "#0d0887"
             ],
             [
              0.1111111111111111,
              "#46039f"
             ],
             [
              0.2222222222222222,
              "#7201a8"
             ],
             [
              0.3333333333333333,
              "#9c179e"
             ],
             [
              0.4444444444444444,
              "#bd3786"
             ],
             [
              0.5555555555555556,
              "#d8576b"
             ],
             [
              0.6666666666666666,
              "#ed7953"
             ],
             [
              0.7777777777777778,
              "#fb9f3a"
             ],
             [
              0.8888888888888888,
              "#fdca26"
             ],
             [
              1,
              "#f0f921"
             ]
            ],
            "type": "heatmapgl"
           }
          ],
          "histogram": [
           {
            "marker": {
             "pattern": {
              "fillmode": "overlay",
              "size": 10,
              "solidity": 0.2
             }
            },
            "type": "histogram"
           }
          ],
          "histogram2d": [
           {
            "colorbar": {
             "outlinewidth": 0,
             "ticks": ""
            },
            "colorscale": [
             [
              0,
              "#0d0887"
             ],
             [
              0.1111111111111111,
              "#46039f"
             ],
             [
              0.2222222222222222,
              "#7201a8"
             ],
             [
              0.3333333333333333,
              "#9c179e"
             ],
             [
              0.4444444444444444,
              "#bd3786"
             ],
             [
              0.5555555555555556,
              "#d8576b"
             ],
             [
              0.6666666666666666,
              "#ed7953"
             ],
             [
              0.7777777777777778,
              "#fb9f3a"
             ],
             [
              0.8888888888888888,
              "#fdca26"
             ],
             [
              1,
              "#f0f921"
             ]
            ],
            "type": "histogram2d"
           }
          ],
          "histogram2dcontour": [
           {
            "colorbar": {
             "outlinewidth": 0,
             "ticks": ""
            },
            "colorscale": [
             [
              0,
              "#0d0887"
             ],
             [
              0.1111111111111111,
              "#46039f"
             ],
             [
              0.2222222222222222,
              "#7201a8"
             ],
             [
              0.3333333333333333,
              "#9c179e"
             ],
             [
              0.4444444444444444,
              "#bd3786"
             ],
             [
              0.5555555555555556,
              "#d8576b"
             ],
             [
              0.6666666666666666,
              "#ed7953"
             ],
             [
              0.7777777777777778,
              "#fb9f3a"
             ],
             [
              0.8888888888888888,
              "#fdca26"
             ],
             [
              1,
              "#f0f921"
             ]
            ],
            "type": "histogram2dcontour"
           }
          ],
          "mesh3d": [
           {
            "colorbar": {
             "outlinewidth": 0,
             "ticks": ""
            },
            "type": "mesh3d"
           }
          ],
          "parcoords": [
           {
            "line": {
             "colorbar": {
              "outlinewidth": 0,
              "ticks": ""
             }
            },
            "type": "parcoords"
           }
          ],
          "pie": [
           {
            "automargin": true,
            "type": "pie"
           }
          ],
          "scatter": [
           {
            "fillpattern": {
             "fillmode": "overlay",
             "size": 10,
             "solidity": 0.2
            },
            "type": "scatter"
           }
          ],
          "scatter3d": [
           {
            "line": {
             "colorbar": {
              "outlinewidth": 0,
              "ticks": ""
             }
            },
            "marker": {
             "colorbar": {
              "outlinewidth": 0,
              "ticks": ""
             }
            },
            "type": "scatter3d"
           }
          ],
          "scattercarpet": [
           {
            "marker": {
             "colorbar": {
              "outlinewidth": 0,
              "ticks": ""
             }
            },
            "type": "scattercarpet"
           }
          ],
          "scattergeo": [
           {
            "marker": {
             "colorbar": {
              "outlinewidth": 0,
              "ticks": ""
             }
            },
            "type": "scattergeo"
           }
          ],
          "scattergl": [
           {
            "marker": {
             "colorbar": {
              "outlinewidth": 0,
              "ticks": ""
             }
            },
            "type": "scattergl"
           }
          ],
          "scattermapbox": [
           {
            "marker": {
             "colorbar": {
              "outlinewidth": 0,
              "ticks": ""
             }
            },
            "type": "scattermapbox"
           }
          ],
          "scatterpolar": [
           {
            "marker": {
             "colorbar": {
              "outlinewidth": 0,
              "ticks": ""
             }
            },
            "type": "scatterpolar"
           }
          ],
          "scatterpolargl": [
           {
            "marker": {
             "colorbar": {
              "outlinewidth": 0,
              "ticks": ""
             }
            },
            "type": "scatterpolargl"
           }
          ],
          "scatterternary": [
           {
            "marker": {
             "colorbar": {
              "outlinewidth": 0,
              "ticks": ""
             }
            },
            "type": "scatterternary"
           }
          ],
          "surface": [
           {
            "colorbar": {
             "outlinewidth": 0,
             "ticks": ""
            },
            "colorscale": [
             [
              0,
              "#0d0887"
             ],
             [
              0.1111111111111111,
              "#46039f"
             ],
             [
              0.2222222222222222,
              "#7201a8"
             ],
             [
              0.3333333333333333,
              "#9c179e"
             ],
             [
              0.4444444444444444,
              "#bd3786"
             ],
             [
              0.5555555555555556,
              "#d8576b"
             ],
             [
              0.6666666666666666,
              "#ed7953"
             ],
             [
              0.7777777777777778,
              "#fb9f3a"
             ],
             [
              0.8888888888888888,
              "#fdca26"
             ],
             [
              1,
              "#f0f921"
             ]
            ],
            "type": "surface"
           }
          ],
          "table": [
           {
            "cells": {
             "fill": {
              "color": "#EBF0F8"
             },
             "line": {
              "color": "white"
             }
            },
            "header": {
             "fill": {
              "color": "#C8D4E3"
             },
             "line": {
              "color": "white"
             }
            },
            "type": "table"
           }
          ]
         },
         "layout": {
          "annotationdefaults": {
           "arrowcolor": "#2a3f5f",
           "arrowhead": 0,
           "arrowwidth": 1
          },
          "autotypenumbers": "strict",
          "coloraxis": {
           "colorbar": {
            "outlinewidth": 0,
            "ticks": ""
           }
          },
          "colorscale": {
           "diverging": [
            [
             0,
             "#8e0152"
            ],
            [
             0.1,
             "#c51b7d"
            ],
            [
             0.2,
             "#de77ae"
            ],
            [
             0.3,
             "#f1b6da"
            ],
            [
             0.4,
             "#fde0ef"
            ],
            [
             0.5,
             "#f7f7f7"
            ],
            [
             0.6,
             "#e6f5d0"
            ],
            [
             0.7,
             "#b8e186"
            ],
            [
             0.8,
             "#7fbc41"
            ],
            [
             0.9,
             "#4d9221"
            ],
            [
             1,
             "#276419"
            ]
           ],
           "sequential": [
            [
             0,
             "#0d0887"
            ],
            [
             0.1111111111111111,
             "#46039f"
            ],
            [
             0.2222222222222222,
             "#7201a8"
            ],
            [
             0.3333333333333333,
             "#9c179e"
            ],
            [
             0.4444444444444444,
             "#bd3786"
            ],
            [
             0.5555555555555556,
             "#d8576b"
            ],
            [
             0.6666666666666666,
             "#ed7953"
            ],
            [
             0.7777777777777778,
             "#fb9f3a"
            ],
            [
             0.8888888888888888,
             "#fdca26"
            ],
            [
             1,
             "#f0f921"
            ]
           ],
           "sequentialminus": [
            [
             0,
             "#0d0887"
            ],
            [
             0.1111111111111111,
             "#46039f"
            ],
            [
             0.2222222222222222,
             "#7201a8"
            ],
            [
             0.3333333333333333,
             "#9c179e"
            ],
            [
             0.4444444444444444,
             "#bd3786"
            ],
            [
             0.5555555555555556,
             "#d8576b"
            ],
            [
             0.6666666666666666,
             "#ed7953"
            ],
            [
             0.7777777777777778,
             "#fb9f3a"
            ],
            [
             0.8888888888888888,
             "#fdca26"
            ],
            [
             1,
             "#f0f921"
            ]
           ]
          },
          "colorway": [
           "#636efa",
           "#EF553B",
           "#00cc96",
           "#ab63fa",
           "#FFA15A",
           "#19d3f3",
           "#FF6692",
           "#B6E880",
           "#FF97FF",
           "#FECB52"
          ],
          "font": {
           "color": "#2a3f5f"
          },
          "geo": {
           "bgcolor": "white",
           "lakecolor": "white",
           "landcolor": "#E5ECF6",
           "showlakes": true,
           "showland": true,
           "subunitcolor": "white"
          },
          "hoverlabel": {
           "align": "left"
          },
          "hovermode": "closest",
          "mapbox": {
           "style": "light"
          },
          "paper_bgcolor": "white",
          "plot_bgcolor": "#E5ECF6",
          "polar": {
           "angularaxis": {
            "gridcolor": "white",
            "linecolor": "white",
            "ticks": ""
           },
           "bgcolor": "#E5ECF6",
           "radialaxis": {
            "gridcolor": "white",
            "linecolor": "white",
            "ticks": ""
           }
          },
          "scene": {
           "xaxis": {
            "backgroundcolor": "#E5ECF6",
            "gridcolor": "white",
            "gridwidth": 2,
            "linecolor": "white",
            "showbackground": true,
            "ticks": "",
            "zerolinecolor": "white"
           },
           "yaxis": {
            "backgroundcolor": "#E5ECF6",
            "gridcolor": "white",
            "gridwidth": 2,
            "linecolor": "white",
            "showbackground": true,
            "ticks": "",
            "zerolinecolor": "white"
           },
           "zaxis": {
            "backgroundcolor": "#E5ECF6",
            "gridcolor": "white",
            "gridwidth": 2,
            "linecolor": "white",
            "showbackground": true,
            "ticks": "",
            "zerolinecolor": "white"
           }
          },
          "shapedefaults": {
           "line": {
            "color": "#2a3f5f"
           }
          },
          "ternary": {
           "aaxis": {
            "gridcolor": "white",
            "linecolor": "white",
            "ticks": ""
           },
           "baxis": {
            "gridcolor": "white",
            "linecolor": "white",
            "ticks": ""
           },
           "bgcolor": "#E5ECF6",
           "caxis": {
            "gridcolor": "white",
            "linecolor": "white",
            "ticks": ""
           }
          },
          "title": {
           "x": 0.05
          },
          "xaxis": {
           "automargin": true,
           "gridcolor": "white",
           "linecolor": "white",
           "ticks": "",
           "title": {
            "standoff": 15
           },
           "zerolinecolor": "white",
           "zerolinewidth": 2
          },
          "yaxis": {
           "automargin": true,
           "gridcolor": "white",
           "linecolor": "white",
           "ticks": "",
           "title": {
            "standoff": 15
           },
           "zerolinecolor": "white",
           "zerolinewidth": 2
          }
         }
        },
        "title": {
         "text": "Al-Cu DFT-Referenced Binary Phase Diagram"
        },
        "width": 960,
        "xaxis": {
         "linecolor": "black",
         "linewidth": 2,
         "mirror": true,
         "range": [
          0,
          100
         ],
         "showline": true,
         "tickcolor": "black",
         "tickformat": ".0f",
         "ticks": "outside",
         "title": {
          "text": "Cu (at. %)"
         }
        },
        "yaxis": {
         "linecolor": "black",
         "linewidth": 2,
         "mirror": true,
         "range": [
          300,
          1180
         ],
         "showline": true,
         "tickcolor": "black",
         "ticks": "outside",
         "ticksuffix": " ",
         "title": {
          "text": "T (°C)"
         }
        }
       }
      }
     },
     "metadata": {},
     "output_type": "display_data"
    },
    {
     "name": "stdout",
     "output_type": "stream",
     "text": [
      "No arguments specified for 't_vals', setting 't_units' to 'K'\n"
     ]
    },
    {
     "data": {
      "application/vnd.plotly.v1+json": {
       "config": {
        "plotlyServerURL": "https://plot.ly"
       },
       "data": [
        {
         "mode": "lines",
         "name": "Liquid T=1357K",
         "type": "scatter",
         "x": [
          0,
          0.01,
          0.02,
          0.03,
          0.04,
          0.05,
          0.06,
          0.07,
          0.08,
          0.09,
          0.1,
          0.11,
          0.12,
          0.13,
          0.14,
          0.15,
          0.16,
          0.17,
          0.18,
          0.19,
          0.2,
          0.21,
          0.22,
          0.23,
          0.24,
          0.25,
          0.26,
          0.27,
          0.28,
          0.29,
          0.3,
          0.31,
          0.32,
          0.33,
          0.34,
          0.35000000000000003,
          0.36,
          0.37,
          0.38,
          0.39,
          0.4,
          0.41000000000000003,
          0.42,
          0.43,
          0.44,
          0.45,
          0.46,
          0.47000000000000003,
          0.48,
          0.49,
          0.5,
          0.51,
          0.52,
          0.53,
          0.54,
          0.55,
          0.56,
          0.5700000000000001,
          0.58,
          0.59,
          0.6,
          0.61,
          0.62,
          0.63,
          0.64,
          0.65,
          0.66,
          0.67,
          0.68,
          0.6900000000000001,
          0.7000000000000001,
          0.71,
          0.72,
          0.73,
          0.74,
          0.75,
          0.76,
          0.77,
          0.78,
          0.79,
          0.8,
          0.81,
          0.8200000000000001,
          0.8300000000000001,
          0.84,
          0.85,
          0.86,
          0.87,
          0.88,
          0.89,
          0.9,
          0.91,
          0.92,
          0.93,
          0.9400000000000001,
          0.9500000000000001,
          0.96,
          0.97,
          0.98,
          0.99,
          1
         ],
         "y": [
          -0.05023953501264467,
          -0.07274504193234144,
          -0.09301105545386473,
          -0.1120550804390758,
          -0.13009990725243367,
          -0.14725568404709705,
          -0.16359068037230054,
          -0.17915280604726586,
          -0.19397849842111825,
          -0.20809708155677192,
          -0.2215331606161489,
          -0.23430804797153004,
          -0.24644066615368349,
          -0.2579481476214893,
          -0.26884624884492314,
          -0.27914964544087023,
          -0.28887214822581764,
          -0.29802686501380754,
          -0.3066263241808131,
          -0.3146825706525419,
          -0.32220724159396985,
          -0.3292116268876327,
          -0.3357067180295446,
          -0.3417032480789511,
          -0.3472117246084751,
          -0.3522424571132515,
          -0.3568055799866404,
          -0.3609110719138031,
          -0.3645687723446959,
          -0.3677883955658075,
          -0.3705795427821145,
          -0.37295171253805787,
          -0.37491430974234635,
          -0.3764766535113897,
          -0.37764798400674954,
          -0.37843746841067943,
          -0.3788542061587394,
          -0.3789072335282336,
          -0.3786055276647742,
          -0.37795801011580904,
          -0.3769735499288631,
          -0.3756609663630341,
          -0.3740290312545897,
          -0.37208647107103127,
          -0.3698419686824889,
          -0.3673041648745999,
          -0.3644816596229489,
          -0.3613830131455843,
          -0.3580167467469752,
          -0.35439134346393897,
          -0.35051524852149063,
          -0.34639686960416655,
          -0.34204457694610313,
          -0.33746670324095834,
          -0.3326715433705875,
          -0.32766735394919455,
          -0.32246235267740375,
          -0.31706471749830345,
          -0.31148258554492925,
          -0.30572405186582363,
          -0.2997971679121582,
          -0.29370993976633825,
          -0.2874703260879388,
          -0.2810862357481077,
          -0.2745655251180701,
          -0.26791599497088664,
          -0.2611453869479258,
          -0.2542613795323005,
          -0.2472715834604301,
          -0.2401835364894258,
          -0.23300469742155078,
          -0.22574243926676904,
          -0.2184040413993124,
          -0.2109966805328772,
          -0.20352742029964752,
          -0.19600319916833997,
          -0.18843081637246606,
          -0.1808169154373386,
          -0.17316796478649546,
          -0.1654902347659865,
          -0.1577897702352392,
          -0.1500723576169122,
          -0.14234348494714263,
          -0.1346082929796273,
          -0.1268715147073316,
          -0.11913739967295515,
          -0.1114096179811286,
          -0.10369113673403779,
          -0.09598405823347023,
          -0.0882894039281232,
          -0.0806068192777895,
          -0.07293415967037384,
          -0.06526689065226814,
          -0.057597184980223225,
          -0.04991249650999782,
          -0.042193165811139396,
          -0.03440806098309932,
          -0.026505690395315546,
          -0.018392683813302325,
          -0.00986302879127348,
          0.00008400161395937631
         ]
        },
        {
         "mode": "lines",
         "name": "Liquid T=0K",
         "type": "scatter",
         "x": [
          0,
          0.01,
          0.02,
          0.03,
          0.04,
          0.05,
          0.06,
          0.07,
          0.08,
          0.09,
          0.1,
          0.11,
          0.12,
          0.13,
          0.14,
          0.15,
          0.16,
          0.17,
          0.18,
          0.19,
          0.2,
          0.21,
          0.22,
          0.23,
          0.24,
          0.25,
          0.26,
          0.27,
          0.28,
          0.29,
          0.3,
          0.31,
          0.32,
          0.33,
          0.34,
          0.35000000000000003,
          0.36,
          0.37,
          0.38,
          0.39,
          0.4,
          0.41000000000000003,
          0.42,
          0.43,
          0.44,
          0.45,
          0.46,
          0.47000000000000003,
          0.48,
          0.49,
          0.5,
          0.51,
          0.52,
          0.53,
          0.54,
          0.55,
          0.56,
          0.5700000000000001,
          0.58,
          0.59,
          0.6,
          0.61,
          0.62,
          0.63,
          0.64,
          0.65,
          0.66,
          0.67,
          0.68,
          0.6900000000000001,
          0.7000000000000001,
          0.71,
          0.72,
          0.73,
          0.74,
          0.75,
          0.76,
          0.77,
          0.78,
          0.79,
          0.8,
          0.81,
          0.8200000000000001,
          0.8300000000000001,
          0.84,
          0.85,
          0.86,
          0.87,
          0.88,
          0.89,
          0.9,
          0.91,
          0.92,
          0.93,
          0.9400000000000001,
          0.9500000000000001,
          0.96,
          0.97,
          0.98,
          0.99,
          1
         ],
         "y": [
          0.11100171011037985,
          0.118277256960324,
          0.12509243287053248,
          0.13145699486293044,
          0.137380699959443,
          0.14287330518199529,
          0.14794456755251245,
          0.15260424409291964,
          0.156862091825142,
          0.16072786777110462,
          0.1642113289527327,
          0.16732223239195132,
          0.17007033511068567,
          0.17246539413086087,
          0.17451716647440205,
          0.17623540916323438,
          0.17762987921928294,
          0.17871033366447292,
          0.17948652952072944,
          0.17996822380997762,
          0.18016517355414266,
          0.18008713577514962,
          0.17974386749492371,
          0.17914512573539002,
          0.17830066751847365,
          0.17722024986609985,
          0.17591362980019368,
          0.17439056434268024,
          0.17266081051548476,
          0.17073412534053237,
          0.16862026583974818,
          0.16632898903505733,
          0.16387005194838494,
          0.16125321160165618,
          0.15848822501679616,
          0.15558484921573004,
          0.15255284122038296,
          0.14940195805268006,
          0.14614195673454644,
          0.14278259428790727,
          0.13933362773468772,
          0.13580481409681283,
          0.13220591039620785,
          0.12854667365479786,
          0.124836860894508,
          0.12108622913726343,
          0.11730453540498928,
          0.11350153671961068,
          0.10968699010305276,
          0.1058706525772407,
          0.10206228116409959,
          0.09827163288555457,
          0.09450846476353082,
          0.09078253381995346,
          0.08710359707674761,
          0.08348141155583842,
          0.079925734279151,
          0.07644632226861056,
          0.07305293254614223,
          0.06975532213367107,
          0.06656324805312226,
          0.06348646732642096,
          0.060534736975492276,
          0.05771781402226137,
          0.055045455488653375,
          0.052527418396593424,
          0.05017345976800665,
          0.0479933366248182,
          0.045996805988953185,
          0.04419362488233681,
          0.04259355032689415,
          0.04120633934455038,
          0.040041748957230644,
          0.03910953618686004,
          0.03841945805536372,
          0.037981271584666826,
          0.03780473379669452,
          0.03789960171337192,
          0.038275632356624165,
          0.038942582748376364,
          0.03991020991055372,
          0.04118827086508132,
          0.04278652263388432,
          0.04471472223888786,
          0.046982626702017055,
          0.04959999304519711,
          0.052576578290353074,
          0.055922139459410165,
          0.05964643357429345,
          0.06375921765692812,
          0.0682702487292393,
          0.07318928381315212,
          0.07852607993059174,
          0.08429039410348325,
          0.09049198335375187,
          0.09714060470332266,
          0.1042460151741207,
          0.11181797178807132,
          0.11986623156709951,
          0.12840055153313049,
          0.13743068870808933
         ]
        },
        {
         "hoverinfo": "none",
         "line": {
          "color": "black",
          "width": 4
         },
         "mode": "lines",
         "showlegend": false,
         "type": "scatter",
         "x": [
          0.75,
          1,
          null,
          0.5,
          0.3333333333333333,
          null,
          0.5,
          0.6923076923076923,
          null,
          0.3333333333333333,
          0,
          null,
          0.75,
          0.6923076923076923,
          null
         ],
         "y": [
          -0.18946324000000025,
          0,
          null,
          -0.21342794800000037,
          -0.17806622999999946,
          null,
          -0.21342794800000037,
          -0.208091329807692,
          null,
          -0.17806622999999946,
          0,
          null,
          -0.18946324000000025,
          -0.208091329807692,
          null
         ]
        },
        {
         "hoverinfo": "skip",
         "mode": "text",
         "name": "Labels (stable)",
         "opacity": 1,
         "showlegend": true,
         "text": [
          "AlCu<sub>3</sub>",
          "AlCu",
          "Al<sub>2</sub>Cu",
          "Al<sub>4</sub>Cu<sub>9</sub>"
         ],
         "textposition": [
          "bottom right",
          "bottom right",
          "bottom left",
          "bottom right"
         ],
         "type": "scatter",
         "visible": true,
         "x": [
          0.758,
          0.508,
          0.3253333333333333,
          0.7003076923076923
         ],
         "y": [
          -0.20246324000000027,
          -0.22642794800000038,
          -0.19106622999999948,
          -0.221091329807692
         ]
        },
        {
         "error_y": {
          "array": [
           0,
           0,
           0,
           0,
           0,
           0
          ],
          "color": "gray",
          "thickness": 2.5,
          "type": "data",
          "width": 5
         },
         "hoverinfo": "text",
         "hoverlabel": {
          "font": {
           "size": 14
          }
         },
         "hovertext": [
          "AlCu<sub>3</sub> (mp-12802-GGA) <br> -0.189 eV/atom (Stable)",
          "Cu (mp-30-GGA) <br> 0.0 eV/atom (Stable)",
          "AlCu (mp-2500-GGA) <br> -0.213 eV/atom (Stable)",
          "Al<sub>2</sub>Cu (mp-985806-GGA) <br> -0.178 eV/atom (Stable)",
          "Al<sub>4</sub>Cu<sub>9</sub> (mp-593-GGA) <br> -0.208 eV/atom (Stable)",
          "Al (mp-134-GGA) <br> 0.0 eV/atom (Stable)"
         ],
         "marker": {
          "color": "darkgreen",
          "line": {
           "color": "black",
           "width": 2
          },
          "size": 16
         },
         "mode": "markers",
         "name": "Stable",
         "opacity": 0.99,
         "showlegend": true,
         "type": "scatter",
         "x": [
          0.75,
          1,
          0.5,
          0.3333333333333333,
          0.6923076923076923,
          0
         ],
         "y": [
          -0.18946324000000025,
          0,
          -0.21342794800000037,
          -0.17806622999999946,
          -0.208091329807692,
          0
         ]
        },
        {
         "hoverinfo": "text",
         "hoverlabel": {
          "font": {
           "size": 14
          }
         },
         "hovertext": [
          "Cu (mp-1010136-GGA) <br> 0.036 eV/atom (+0.036 eV/atom)",
          "Cu (mp-1120774-GGA) <br> 0.159 eV/atom (+0.159 eV/atom)",
          "Cu (mp-989782-GGA) <br> 0.007 eV/atom (+0.007 eV/atom)",
          "Cu (mp-989695-GGA) <br> 0.006 eV/atom (+0.006 eV/atom)",
          "Cu (mp-998890-GGA) <br> 0.037 eV/atom (+0.037 eV/atom)",
          "Cu (mp-1059259-GGA) <br> 0.143 eV/atom (+0.143 eV/atom)",
          "Al (mp-1244953-GGA) <br> 0.096 eV/atom (+0.096 eV/atom)",
          "Al (mp-1245067-GGA) <br> 0.114 eV/atom (+0.114 eV/atom)",
          "Al (mp-1245129-GGA) <br> 0.095 eV/atom (+0.095 eV/atom)",
          "Al (mp-1245307-GGA) <br> 0.108 eV/atom (+0.108 eV/atom)",
          "Al (mp-1245152-GGA) <br> 0.102 eV/atom (+0.102 eV/atom)",
          "Al (mp-1183144-GGA) <br> 0.011 eV/atom (+0.011 eV/atom)",
          "Al (mp-2647008-GGA) <br> 0.032 eV/atom (+0.032 eV/atom)",
          "Al (mp-998860-GGA) <br> 0.092 eV/atom (+0.092 eV/atom)",
          "AlCu (mp-1022721-GGA) <br> -0.139 eV/atom (+0.074 eV/atom)",
          "AlCu<sub>3</sub> (mp-1183216-GGA) <br> -0.183 eV/atom (+0.007 eV/atom)",
          "AlCu<sub>3</sub> (mp-1008555-GGA) <br> -0.181 eV/atom (+0.008 eV/atom)",
          "AlCu<sub>3</sub> (mp-12777-GGA) <br> -0.165 eV/atom (+0.025 eV/atom)",
          "AlCu<sub>4</sub> (mp-1182885-GGA) <br> -0.115 eV/atom (+0.036 eV/atom)",
          "Al<sub>2</sub>Cu (mp-12794-GGA) <br> -0.024 eV/atom (+0.154 eV/atom)",
          "Al<sub>2</sub>Cu (mp-998-GGA) <br> -0.166 eV/atom (+0.013 eV/atom)",
          "Al<sub>3</sub>Cu (mp-985825-GGA) <br> -0.09 eV/atom (+0.044 eV/atom)",
          "Al<sub>3</sub>Cu (mp-1183161-GGA) <br> -0.037 eV/atom (+0.096 eV/atom)",
          "Al<sub>3</sub>Cu<sub>2</sub> (mp-10886-GGA) <br> -0.158 eV/atom (+0.034 eV/atom)",
          "Al<sub>4</sub>Cu<sub>15</sub> (mp-1228752-GGA) <br> -0.098 eV/atom (+0.062 eV/atom)"
         ],
         "marker": {
          "color": [
           0.036,
           0.159,
           0.007,
           0.006,
           0.037,
           0.143,
           0.096,
           0.114,
           0.095,
           0.108,
           0.102,
           0.011,
           0.032,
           0.092,
           0.074,
           0.007,
           0.008,
           0.025,
           0.036,
           0.154,
           0.013,
           0.044,
           0.096,
           0.034,
           0.062
          ],
          "colorscale": [
           [
            0,
            "#fff5e3"
           ],
           [
            0.5,
            "#f24324"
           ],
           [
            1,
            "#c40000"
           ]
          ],
          "line": {
           "color": "black",
           "width": 1
          },
          "opacity": 0.8,
          "size": 7,
          "symbol": "diamond"
         },
         "mode": "markers",
         "name": "Above Hull",
         "showlegend": true,
         "type": "scatter",
         "x": [
          1,
          1,
          1,
          1,
          1,
          1,
          0,
          0,
          0,
          0,
          0,
          0,
          0,
          0,
          0.5,
          0.75,
          0.75,
          0.75,
          0.8,
          0.3333333333333333,
          0.3333333333333333,
          0.25,
          0.25,
          0.4,
          0.7894736842105263
         ],
         "y": [
          0.035708360000000106,
          0.15911679499999978,
          0.0074918249999997855,
          0.0057660850000003094,
          0.036640020000000106,
          0.14290572499999987,
          0.09572362820000023,
          0.11430868650000037,
          0.09475041080000039,
          0.10754954110000028,
          0.1020815508000004,
          0.01144597249999979,
          0.032078224999999794,
          0.09244398000000009,
          -0.13936670999999956,
          -0.18269156250000052,
          -0.18149385250000005,
          -0.164553905,
          -0.11525892450000015,
          -0.02356822666666621,
          -0.16553469833333287,
          -0.08998382249999981,
          -0.03730383749999966,
          -0.15831442399999957,
          -0.09778241578947407
         ]
        }
       ],
       "layout": {
        "annotations": [
         {
          "align": "center",
          "font": {
           "color": "#000000",
           "size": 24
          },
          "opacity": 1,
          "showarrow": false,
          "text": "Cu",
          "x": 1.03,
          "xref": "x",
          "y": -0.03,
          "yref": "y"
         },
         {
          "align": "center",
          "font": {
           "color": "#000000",
           "size": 24
          },
          "opacity": 1,
          "showarrow": false,
          "text": "Al",
          "x": -0.03,
          "xref": "x",
          "y": -0.03,
          "yref": "y"
         }
        ],
        "autosize": true,
        "coloraxis": {
         "colorbar": {
          "x": 1,
          "y": 0.05,
          "yanchor": "top"
         }
        },
        "height": 700,
        "hovermode": "closest",
        "legend": {
         "orientation": "h",
         "tracegroupgap": 7,
         "traceorder": "reversed",
         "x": 0,
         "xanchor": "left",
         "y": 1.05
        },
        "margin": {
         "b": 10,
         "l": 10,
         "pad": 0,
         "r": 10,
         "t": 0
        },
        "paper_bgcolor": "white",
        "plot_bgcolor": "white",
        "showlegend": true,
        "template": {
         "data": {
          "bar": [
           {
            "error_x": {
             "color": "#2a3f5f"
            },
            "error_y": {
             "color": "#2a3f5f"
            },
            "marker": {
             "line": {
              "color": "#E5ECF6",
              "width": 0.5
             },
             "pattern": {
              "fillmode": "overlay",
              "size": 10,
              "solidity": 0.2
             }
            },
            "type": "bar"
           }
          ],
          "barpolar": [
           {
            "marker": {
             "line": {
              "color": "#E5ECF6",
              "width": 0.5
             },
             "pattern": {
              "fillmode": "overlay",
              "size": 10,
              "solidity": 0.2
             }
            },
            "type": "barpolar"
           }
          ],
          "carpet": [
           {
            "aaxis": {
             "endlinecolor": "#2a3f5f",
             "gridcolor": "white",
             "linecolor": "white",
             "minorgridcolor": "white",
             "startlinecolor": "#2a3f5f"
            },
            "baxis": {
             "endlinecolor": "#2a3f5f",
             "gridcolor": "white",
             "linecolor": "white",
             "minorgridcolor": "white",
             "startlinecolor": "#2a3f5f"
            },
            "type": "carpet"
           }
          ],
          "choropleth": [
           {
            "colorbar": {
             "outlinewidth": 0,
             "ticks": ""
            },
            "type": "choropleth"
           }
          ],
          "contour": [
           {
            "colorbar": {
             "outlinewidth": 0,
             "ticks": ""
            },
            "colorscale": [
             [
              0,
              "#0d0887"
             ],
             [
              0.1111111111111111,
              "#46039f"
             ],
             [
              0.2222222222222222,
              "#7201a8"
             ],
             [
              0.3333333333333333,
              "#9c179e"
             ],
             [
              0.4444444444444444,
              "#bd3786"
             ],
             [
              0.5555555555555556,
              "#d8576b"
             ],
             [
              0.6666666666666666,
              "#ed7953"
             ],
             [
              0.7777777777777778,
              "#fb9f3a"
             ],
             [
              0.8888888888888888,
              "#fdca26"
             ],
             [
              1,
              "#f0f921"
             ]
            ],
            "type": "contour"
           }
          ],
          "contourcarpet": [
           {
            "colorbar": {
             "outlinewidth": 0,
             "ticks": ""
            },
            "type": "contourcarpet"
           }
          ],
          "heatmap": [
           {
            "colorbar": {
             "outlinewidth": 0,
             "ticks": ""
            },
            "colorscale": [
             [
              0,
              "#0d0887"
             ],
             [
              0.1111111111111111,
              "#46039f"
             ],
             [
              0.2222222222222222,
              "#7201a8"
             ],
             [
              0.3333333333333333,
              "#9c179e"
             ],
             [
              0.4444444444444444,
              "#bd3786"
             ],
             [
              0.5555555555555556,
              "#d8576b"
             ],
             [
              0.6666666666666666,
              "#ed7953"
             ],
             [
              0.7777777777777778,
              "#fb9f3a"
             ],
             [
              0.8888888888888888,
              "#fdca26"
             ],
             [
              1,
              "#f0f921"
             ]
            ],
            "type": "heatmap"
           }
          ],
          "heatmapgl": [
           {
            "colorbar": {
             "outlinewidth": 0,
             "ticks": ""
            },
            "colorscale": [
             [
              0,
              "#0d0887"
             ],
             [
              0.1111111111111111,
              "#46039f"
             ],
             [
              0.2222222222222222,
              "#7201a8"
             ],
             [
              0.3333333333333333,
              "#9c179e"
             ],
             [
              0.4444444444444444,
              "#bd3786"
             ],
             [
              0.5555555555555556,
              "#d8576b"
             ],
             [
              0.6666666666666666,
              "#ed7953"
             ],
             [
              0.7777777777777778,
              "#fb9f3a"
             ],
             [
              0.8888888888888888,
              "#fdca26"
             ],
             [
              1,
              "#f0f921"
             ]
            ],
            "type": "heatmapgl"
           }
          ],
          "histogram": [
           {
            "marker": {
             "pattern": {
              "fillmode": "overlay",
              "size": 10,
              "solidity": 0.2
             }
            },
            "type": "histogram"
           }
          ],
          "histogram2d": [
           {
            "colorbar": {
             "outlinewidth": 0,
             "ticks": ""
            },
            "colorscale": [
             [
              0,
              "#0d0887"
             ],
             [
              0.1111111111111111,
              "#46039f"
             ],
             [
              0.2222222222222222,
              "#7201a8"
             ],
             [
              0.3333333333333333,
              "#9c179e"
             ],
             [
              0.4444444444444444,
              "#bd3786"
             ],
             [
              0.5555555555555556,
              "#d8576b"
             ],
             [
              0.6666666666666666,
              "#ed7953"
             ],
             [
              0.7777777777777778,
              "#fb9f3a"
             ],
             [
              0.8888888888888888,
              "#fdca26"
             ],
             [
              1,
              "#f0f921"
             ]
            ],
            "type": "histogram2d"
           }
          ],
          "histogram2dcontour": [
           {
            "colorbar": {
             "outlinewidth": 0,
             "ticks": ""
            },
            "colorscale": [
             [
              0,
              "#0d0887"
             ],
             [
              0.1111111111111111,
              "#46039f"
             ],
             [
              0.2222222222222222,
              "#7201a8"
             ],
             [
              0.3333333333333333,
              "#9c179e"
             ],
             [
              0.4444444444444444,
              "#bd3786"
             ],
             [
              0.5555555555555556,
              "#d8576b"
             ],
             [
              0.6666666666666666,
              "#ed7953"
             ],
             [
              0.7777777777777778,
              "#fb9f3a"
             ],
             [
              0.8888888888888888,
              "#fdca26"
             ],
             [
              1,
              "#f0f921"
             ]
            ],
            "type": "histogram2dcontour"
           }
          ],
          "mesh3d": [
           {
            "colorbar": {
             "outlinewidth": 0,
             "ticks": ""
            },
            "type": "mesh3d"
           }
          ],
          "parcoords": [
           {
            "line": {
             "colorbar": {
              "outlinewidth": 0,
              "ticks": ""
             }
            },
            "type": "parcoords"
           }
          ],
          "pie": [
           {
            "automargin": true,
            "type": "pie"
           }
          ],
          "scatter": [
           {
            "fillpattern": {
             "fillmode": "overlay",
             "size": 10,
             "solidity": 0.2
            },
            "type": "scatter"
           }
          ],
          "scatter3d": [
           {
            "line": {
             "colorbar": {
              "outlinewidth": 0,
              "ticks": ""
             }
            },
            "marker": {
             "colorbar": {
              "outlinewidth": 0,
              "ticks": ""
             }
            },
            "type": "scatter3d"
           }
          ],
          "scattercarpet": [
           {
            "marker": {
             "colorbar": {
              "outlinewidth": 0,
              "ticks": ""
             }
            },
            "type": "scattercarpet"
           }
          ],
          "scattergeo": [
           {
            "marker": {
             "colorbar": {
              "outlinewidth": 0,
              "ticks": ""
             }
            },
            "type": "scattergeo"
           }
          ],
          "scattergl": [
           {
            "marker": {
             "colorbar": {
              "outlinewidth": 0,
              "ticks": ""
             }
            },
            "type": "scattergl"
           }
          ],
          "scattermapbox": [
           {
            "marker": {
             "colorbar": {
              "outlinewidth": 0,
              "ticks": ""
             }
            },
            "type": "scattermapbox"
           }
          ],
          "scatterpolar": [
           {
            "marker": {
             "colorbar": {
              "outlinewidth": 0,
              "ticks": ""
             }
            },
            "type": "scatterpolar"
           }
          ],
          "scatterpolargl": [
           {
            "marker": {
             "colorbar": {
              "outlinewidth": 0,
              "ticks": ""
             }
            },
            "type": "scatterpolargl"
           }
          ],
          "scatterternary": [
           {
            "marker": {
             "colorbar": {
              "outlinewidth": 0,
              "ticks": ""
             }
            },
            "type": "scatterternary"
           }
          ],
          "surface": [
           {
            "colorbar": {
             "outlinewidth": 0,
             "ticks": ""
            },
            "colorscale": [
             [
              0,
              "#0d0887"
             ],
             [
              0.1111111111111111,
              "#46039f"
             ],
             [
              0.2222222222222222,
              "#7201a8"
             ],
             [
              0.3333333333333333,
              "#9c179e"
             ],
             [
              0.4444444444444444,
              "#bd3786"
             ],
             [
              0.5555555555555556,
              "#d8576b"
             ],
             [
              0.6666666666666666,
              "#ed7953"
             ],
             [
              0.7777777777777778,
              "#fb9f3a"
             ],
             [
              0.8888888888888888,
              "#fdca26"
             ],
             [
              1,
              "#f0f921"
             ]
            ],
            "type": "surface"
           }
          ],
          "table": [
           {
            "cells": {
             "fill": {
              "color": "#EBF0F8"
             },
             "line": {
              "color": "white"
             }
            },
            "header": {
             "fill": {
              "color": "#C8D4E3"
             },
             "line": {
              "color": "white"
             }
            },
            "type": "table"
           }
          ]
         },
         "layout": {
          "annotationdefaults": {
           "arrowcolor": "#2a3f5f",
           "arrowhead": 0,
           "arrowwidth": 1
          },
          "autotypenumbers": "strict",
          "coloraxis": {
           "colorbar": {
            "outlinewidth": 0,
            "ticks": ""
           }
          },
          "colorscale": {
           "diverging": [
            [
             0,
             "#8e0152"
            ],
            [
             0.1,
             "#c51b7d"
            ],
            [
             0.2,
             "#de77ae"
            ],
            [
             0.3,
             "#f1b6da"
            ],
            [
             0.4,
             "#fde0ef"
            ],
            [
             0.5,
             "#f7f7f7"
            ],
            [
             0.6,
             "#e6f5d0"
            ],
            [
             0.7,
             "#b8e186"
            ],
            [
             0.8,
             "#7fbc41"
            ],
            [
             0.9,
             "#4d9221"
            ],
            [
             1,
             "#276419"
            ]
           ],
           "sequential": [
            [
             0,
             "#0d0887"
            ],
            [
             0.1111111111111111,
             "#46039f"
            ],
            [
             0.2222222222222222,
             "#7201a8"
            ],
            [
             0.3333333333333333,
             "#9c179e"
            ],
            [
             0.4444444444444444,
             "#bd3786"
            ],
            [
             0.5555555555555556,
             "#d8576b"
            ],
            [
             0.6666666666666666,
             "#ed7953"
            ],
            [
             0.7777777777777778,
             "#fb9f3a"
            ],
            [
             0.8888888888888888,
             "#fdca26"
            ],
            [
             1,
             "#f0f921"
            ]
           ],
           "sequentialminus": [
            [
             0,
             "#0d0887"
            ],
            [
             0.1111111111111111,
             "#46039f"
            ],
            [
             0.2222222222222222,
             "#7201a8"
            ],
            [
             0.3333333333333333,
             "#9c179e"
            ],
            [
             0.4444444444444444,
             "#bd3786"
            ],
            [
             0.5555555555555556,
             "#d8576b"
            ],
            [
             0.6666666666666666,
             "#ed7953"
            ],
            [
             0.7777777777777778,
             "#fb9f3a"
            ],
            [
             0.8888888888888888,
             "#fdca26"
            ],
            [
             1,
             "#f0f921"
            ]
           ]
          },
          "colorway": [
           "#636efa",
           "#EF553B",
           "#00cc96",
           "#ab63fa",
           "#FFA15A",
           "#19d3f3",
           "#FF6692",
           "#B6E880",
           "#FF97FF",
           "#FECB52"
          ],
          "font": {
           "color": "#2a3f5f"
          },
          "geo": {
           "bgcolor": "white",
           "lakecolor": "white",
           "landcolor": "#E5ECF6",
           "showlakes": true,
           "showland": true,
           "subunitcolor": "white"
          },
          "hoverlabel": {
           "align": "left"
          },
          "hovermode": "closest",
          "mapbox": {
           "style": "light"
          },
          "paper_bgcolor": "white",
          "plot_bgcolor": "#E5ECF6",
          "polar": {
           "angularaxis": {
            "gridcolor": "white",
            "linecolor": "white",
            "ticks": ""
           },
           "bgcolor": "#E5ECF6",
           "radialaxis": {
            "gridcolor": "white",
            "linecolor": "white",
            "ticks": ""
           }
          },
          "scene": {
           "xaxis": {
            "backgroundcolor": "#E5ECF6",
            "gridcolor": "white",
            "gridwidth": 2,
            "linecolor": "white",
            "showbackground": true,
            "ticks": "",
            "zerolinecolor": "white"
           },
           "yaxis": {
            "backgroundcolor": "#E5ECF6",
            "gridcolor": "white",
            "gridwidth": 2,
            "linecolor": "white",
            "showbackground": true,
            "ticks": "",
            "zerolinecolor": "white"
           },
           "zaxis": {
            "backgroundcolor": "#E5ECF6",
            "gridcolor": "white",
            "gridwidth": 2,
            "linecolor": "white",
            "showbackground": true,
            "ticks": "",
            "zerolinecolor": "white"
           }
          },
          "shapedefaults": {
           "line": {
            "color": "#2a3f5f"
           }
          },
          "ternary": {
           "aaxis": {
            "gridcolor": "white",
            "linecolor": "white",
            "ticks": ""
           },
           "baxis": {
            "gridcolor": "white",
            "linecolor": "white",
            "ticks": ""
           },
           "bgcolor": "#E5ECF6",
           "caxis": {
            "gridcolor": "white",
            "linecolor": "white",
            "ticks": ""
           }
          },
          "title": {
           "x": 0.05
          },
          "xaxis": {
           "automargin": true,
           "gridcolor": "white",
           "linecolor": "white",
           "ticks": "",
           "title": {
            "standoff": 15
           },
           "zerolinecolor": "white",
           "zerolinewidth": 2
          },
          "yaxis": {
           "automargin": true,
           "gridcolor": "white",
           "linecolor": "white",
           "ticks": "",
           "title": {
            "standoff": 15
           },
           "zerolinecolor": "white",
           "zerolinewidth": 2
          }
         }
        },
        "width": 960,
        "xaxis": {
         "anchor": "y",
         "gridcolor": "rgba(0,0,0,0.1)",
         "mirror": "ticks",
         "nticks": 8,
         "showgrid": true,
         "showline": true,
         "side": "bottom",
         "tickfont": {
          "size": 16
         },
         "ticks": "inside",
         "title": {
          "font": {
           "color": "#000000",
           "size": 20
          },
          "text": "Composition (fraction)"
         },
         "type": "linear",
         "zeroline": false
        },
        "yaxis": {
         "anchor": "x",
         "gridcolor": "rgba(0,0,0,0.1)",
         "mirror": "ticks",
         "showgrid": true,
         "showline": true,
         "side": "left",
         "tickfont": {
          "size": 16
         },
         "ticks": "inside",
         "title": {
          "font": {
           "color": "#000000",
           "size": 20
          },
          "text": "Formation energy (eV/atom)"
         },
         "type": "linear"
        }
       }
      }
     },
     "metadata": {},
     "output_type": "display_data"
    }
   ],
   "source": [
    "from gliquid.binary import a_sym, b_sym, c_sym, d_sym\n",
    "import matplotlib.pyplot as plt\n",
    "\n",
    "for sys_name, best_results in fitting_results.items():\n",
    "    if not all(k in best_results for k in ['L0_a', 'L0_b', 'L1_a', 'L1_b']):\n",
    "        continue\n",
    "    bl = BinaryLiquid.from_cache(sys_name, param_format=param_format)\n",
    "    bl.update_params((best_results['L0_a'], best_results['L0_b'], best_results['L1_a'], best_results['L1_b']))\n",
    "    bl.nmpath = np.array(best_results.get('nmpath', []))\n",
    "    print(f\"Best fitted parameters for {sys_name}: {[float(f'{p:.2f}') for p in bl._params]}\")\n",
    "    print(f\"MAE = {best_results['mae']:.2f}\")\n",
    "    print(\"L0 =\", bl.eqs['l0'].subs({a_sym: int(bl.get_L0_a()), b_sym: round(bl.get_L0_b(), 2)}))\n",
    "    print(\"L1 =\", bl.eqs['l1'].subs({c_sym: int(bl.get_L1_a()), d_sym: round(bl.get_L1_b(), 2)}))\n",
    "    blp = BLPlotter(bl)\n",
    "    fig = blp.get_plot('nmp', plot_a_params=True) # If not specified or False, the default plot will show the Lb params\n",
    "    plt.show() # Usually blp.show('nmp') works fine, but this is used to ensure the plot is displayed inline properly\n",
    "    blp.show('fit+liq')\n",
    "    blp.show('ch+g') # Specify specific temperatures for plotted liquid energy with t_vals and t_units arguments\n",
    "  "
   ]
  }
 ],
 "metadata": {
  "kernelspec": {
   "display_name": "gliquidenv",
   "language": "python",
   "name": "python3"
  },
  "language_info": {
   "codemirror_mode": {
    "name": "ipython",
    "version": 3
   },
   "file_extension": ".py",
   "mimetype": "text/x-python",
   "name": "python",
   "nbconvert_exporter": "python",
   "pygments_lexer": "ipython3",
   "version": "3.10.0"
  }
 },
 "nbformat": 4,
 "nbformat_minor": 4
}
