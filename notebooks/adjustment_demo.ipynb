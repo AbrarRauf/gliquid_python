{
 "cells": [
  {
   "cell_type": "markdown",
   "metadata": {},
   "source": [
    "This notebook demonstrates how the Gliquid code can be used to adjust the prediction of a binary phase diagram with known datapoints taken from measurements.\n",
    "\n",
    "*WORK IN PROGRESS, WILL BE UPDATED IN NEXT (MAYBE?) VERSION*"
   ]
  },
  {
   "cell_type": "code",
   "execution_count": null,
   "metadata": {},
   "outputs": [],
   "source": [
    "import os\n",
    "import plotly.graph_objects as go\n",
    "import sympy as sp\n",
    "from gliquid.binary import BinaryLiquid, BLPlotter\n",
    "\n",
    "# Set the environmental variables for cache directory (where data files are stored) and Materials Project API keys.\n",
    "os.environ[\"NEW_MP_API_KEY\"] = \"YOUR API KEY HERE\""
   ]
  },
  {
   "cell_type": "code",
   "execution_count": 2,
   "metadata": {},
   "outputs": [
    {
     "data": {
      "application/vnd.jupyter.widget-view+json": {
       "model_id": "3020f4696f764abda8be8034234ebad7",
       "version_major": 2,
       "version_minor": 0
      },
      "text/plain": [
       "Retrieving ThermoDoc documents:   0%|          | 0/19 [00:00<?, ?it/s]"
      ]
     },
     "metadata": {},
     "output_type": "display_data"
    },
    {
     "name": "stdout",
     "output_type": "stream",
     "text": [
      "Ce: H_fusion = 6200.0 J/mol, T_fusion = 1071.0 K, T_vaporization = 3633.15 K\n",
      "Ir: H_fusion = 41120.0 J/mol, T_fusion = 2719.0 K, T_vaporization = 4701.15 K\n",
      "\n",
      "Reading MPDS json from entry at https://mpds.io/entry/C904533...\n",
      "\n"
     ]
    },
    {
     "data": {
      "application/vnd.plotly.v1+json": {
       "config": {
        "plotlyServerURL": "https://plot.ly"
       },
       "data": [
        {
         "hovertemplate": "label=Ce7Ir3<br>x=%{x}<br>t=%{y}<extra></extra>",
         "legendgroup": "Ce7Ir3",
         "line": {
          "color": "rgb(246, 207, 113)",
          "dash": "solid",
          "width": 4
         },
         "marker": {
          "symbol": "circle"
         },
         "mode": "lines",
         "name": "Ce7Ir3",
         "orientation": "v",
         "showlegend": false,
         "type": "scatter",
         "x": [
          30,
          30,
          30,
          30,
          30,
          30,
          30,
          30,
          30,
          30,
          30,
          30,
          30,
          30,
          30,
          30
         ],
         "xaxis": "x",
         "y": [
          1061.1041277263275,
          1018.739585488058,
          1101.8532066454222,
          974.8133295152378,
          1140.917098938623,
          929.353630408409,
          1178.2164957857312,
          882.348327975416,
          1213.6670059921958,
          833.7197384887355,
          1254.1901699875075,
          1247.182459719677,
          783.279162481667,
          699.0731874758952,
          730.6360668757981,
          -273.15
         ],
         "yaxis": "y"
        },
        {
         "hovertemplate": "label=Ce5Ir4<br>x=%{x}<br>t=%{y}<extra></extra>",
         "legendgroup": "Ce5Ir4",
         "line": {
          "color": "rgb(248, 156, 116)",
          "dash": "solid",
          "width": 4
         },
         "marker": {
          "symbol": "circle"
         },
         "mode": "lines",
         "name": "Ce5Ir4",
         "orientation": "v",
         "showlegend": false,
         "type": "scatter",
         "x": [
          44,
          44,
          44,
          44,
          44,
          44,
          44,
          44,
          44,
          44,
          44,
          44,
          44,
          44,
          44,
          44,
          44,
          44,
          44,
          44,
          44,
          44,
          44,
          44,
          44,
          44,
          44
         ],
         "xaxis": "x",
         "y": [
          1294.5828953031623,
          2061.503951597631,
          1921.5663336665662,
          1445.3037063679994,
          1586.276039899748,
          1827.0633027179888,
          1714.4739128161036,
          1395.9954049246453,
          1345.717637436574,
          1254.1901699875075,
          2071.6469551250384,
          2079.1079232237457,
          1973.5090621533286,
          1948.6866130171543,
          2048.8427775278346,
          2033.682997629407,
          1995.9795263933293,
          2016.0508723279472,
          1540.5573539376696,
          1493.5289326857692,
          1673.3415529059957,
          1630.5737149927768,
          1892.2093239888854,
          1860.6834846105526,
          1791.4295676944416,
          1753.8690169178572,
          -273.15
         ],
         "yaxis": "y"
        },
        {
         "hovertemplate": "label=CeIr2<br>x=%{x}<br>t=%{y}<extra></extra>",
         "legendgroup": "CeIr2",
         "line": {
          "color": "rgb(220, 176, 242)",
          "dash": "solid",
          "width": 4
         },
         "marker": {
          "symbol": "circle"
         },
         "mode": "lines",
         "name": "CeIr2",
         "orientation": "v",
         "showlegend": false,
         "type": "scatter",
         "x": [
          67,
          67,
          67,
          67,
          67,
          67,
          67,
          67,
          67,
          67,
          67,
          67,
          67,
          67,
          67,
          67,
          67,
          67,
          67,
          67,
          67,
          67,
          67,
          67,
          67,
          67,
          67,
          67,
          67,
          67,
          67,
          67,
          67,
          67,
          67,
          67,
          67,
          67,
          67,
          67,
          67,
          67,
          67,
          67,
          67
         ],
         "xaxis": "x",
         "y": [
          2567.3197752251904,
          2352.8902724503264,
          2655.049035739333,
          2841.201150680626,
          2841.3143791763027,
          2449.746753005789,
          2402.2876436204674,
          2618.5045341952086,
          2579.6326989137838,
          2495.1787103488036,
          2538.500007308948,
          2822.443756671623,
          2800.9384764373367,
          2750.140624674152,
          2776.8264605345043,
          2720.919118734255,
          2689.205528491526,
          2871.041276175504,
          2857.474066680331,
          2898.199708718917,
          2895.48213476325,
          2881.900313606,
          2890.0482305039955,
          2871.063240290616,
          2857.527139215908,
          2898.199708718917,
          2895.4824476504477,
          2881.9079553018223,
          2890.0502608876545,
          2301.648680322265,
          2248.6617789642937,
          2137.8700522731056,
          2194.033025254986,
          2079.1079232237457,
          2080.284260646706,
          2776.153489261706,
          2719.229339231821,
          2749.052258453485,
          2572.3555917190492,
          2613.2640395095505,
          2686.6709682227265,
          2651.3578510919906,
          2822.2239461808326,
          2800.542227517023,
          -273.15
         ],
         "yaxis": "y"
        },
        {
         "hovertemplate": "label=CeIr3<br>x=%{x}<br>t=%{y}<extra></extra>",
         "legendgroup": "CeIr3",
         "line": {
          "color": "rgb(135, 197, 95)",
          "dash": "solid",
          "width": 4
         },
         "marker": {
          "symbol": "circle"
         },
         "mode": "lines",
         "name": "CeIr3",
         "orientation": "v",
         "showlegend": false,
         "type": "scatter",
         "x": [
          75,
          75,
          75,
          75,
          75,
          75,
          75,
          75,
          75,
          75,
          75,
          75
         ],
         "xaxis": "x",
         "y": [
          2235.652813359267,
          2239.823459262065,
          2567.3197752251904,
          2291.5203448126354,
          2338.9164992266374,
          2422.031456174399,
          2382.3380998804237,
          2546.7667570365,
          2520.44747447245,
          2458.186563723712,
          2490.9524344339247,
          -273.15
         ],
         "yaxis": "y"
        },
        {
         "hovertemplate": "x=%{x}<br>y=%{y}<extra></extra>",
         "legendgroup": "",
         "line": {
          "color": "Silver",
          "dash": "solid",
          "width": 4
         },
         "marker": {
          "symbol": "circle"
         },
         "mode": "lines",
         "name": "",
         "orientation": "v",
         "showlegend": false,
         "type": "scatter",
         "x": [
          75,
          92,
          100
         ],
         "xaxis": "x",
         "y": [
          2235.652813359267,
          2235.652813359267,
          2235.652813359267
         ],
         "yaxis": "y"
        },
        {
         "hovertemplate": "x=%{x}<br>y=%{y}<extra></extra>",
         "legendgroup": "",
         "line": {
          "color": "Silver",
          "dash": "solid",
          "width": 4
         },
         "marker": {
          "symbol": "circle"
         },
         "mode": "lines",
         "name": "",
         "orientation": "v",
         "showlegend": false,
         "type": "scatter",
         "x": [
          0,
          4,
          30
         ],
         "xaxis": "x",
         "y": [
          699.0731874758952,
          699.0731874758952,
          699.0731874758952
         ],
         "yaxis": "y"
        },
        {
         "hovertemplate": "x=%{x}<br>y=%{y}<extra></extra>",
         "legendgroup": "",
         "line": {
          "color": "Silver",
          "dash": "solid",
          "width": 4
         },
         "marker": {
          "symbol": "circle"
         },
         "mode": "lines",
         "name": "",
         "orientation": "v",
         "showlegend": false,
         "type": "scatter",
         "x": [
          67,
          75,
          83
         ],
         "xaxis": "x",
         "y": [
          2567.3197752251904,
          2567.3197752251904,
          2567.3197752251904
         ],
         "yaxis": "y"
        },
        {
         "hovertemplate": "x=%{x}<br>y=%{y}<extra></extra>",
         "legendgroup": "",
         "line": {
          "color": "Silver",
          "dash": "solid",
          "width": 4
         },
         "marker": {
          "symbol": "circle"
         },
         "mode": "lines",
         "name": "",
         "orientation": "v",
         "showlegend": false,
         "type": "scatter",
         "x": [
          17,
          30,
          44
         ],
         "xaxis": "x",
         "y": [
          1254.1901699875075,
          1254.1901699875075,
          1254.1901699875075
         ],
         "yaxis": "y"
        },
        {
         "hovertemplate": "x=%{x}<br>y=%{y}<extra></extra>",
         "legendgroup": "",
         "line": {
          "color": "Silver",
          "dash": "solid",
          "width": 4
         },
         "marker": {
          "symbol": "circle"
         },
         "mode": "lines",
         "name": "",
         "orientation": "v",
         "showlegend": false,
         "type": "scatter",
         "x": [
          41,
          44,
          67
         ],
         "xaxis": "x",
         "y": [
          2079.1079232237457,
          2079.1079232237457,
          2079.1079232237457
         ],
         "yaxis": "y"
        },
        {
         "hovertemplate": "label=L<br>x=%{x}<br>t=%{y}<extra></extra>",
         "legendgroup": "L",
         "line": {
          "color": "#117733",
          "dash": "solid",
          "width": 4
         },
         "marker": {
          "symbol": "circle"
         },
         "mode": "lines",
         "name": "L",
         "orientation": "v",
         "showlegend": false,
         "type": "scatter",
         "x": [
          0,
          0,
          1,
          2,
          3,
          4,
          5,
          6,
          7.000000000000001,
          8,
          9,
          10,
          11,
          12,
          13,
          14.000000000000002,
          15,
          16,
          17,
          18,
          19,
          20,
          21,
          22,
          23,
          24,
          25,
          26,
          27,
          28.000000000000004,
          28.999999999999996,
          30,
          31,
          32,
          33,
          34,
          35,
          36,
          37,
          38,
          39,
          40,
          41,
          42,
          43,
          44,
          45,
          46,
          47,
          48,
          49,
          50,
          51,
          52,
          53,
          54,
          55.00000000000001,
          56.00000000000001,
          57.00000000000001,
          57.99999999999999,
          59,
          60,
          61,
          62,
          63,
          64,
          65,
          66,
          67,
          68,
          69,
          70,
          71,
          72,
          73,
          74,
          75,
          76,
          77,
          78,
          79,
          80,
          81,
          82,
          83,
          84,
          85,
          86,
          87,
          88,
          89,
          90,
          91,
          92,
          93,
          94,
          95,
          96,
          97,
          98,
          99,
          100,
          100
         ],
         "xaxis": "x",
         "y": [
          798.1749999999998,
          798.1749999999998,
          771.511595369347,
          745.1266554107752,
          714.5469145934396,
          699.0731874758952,
          730.6360668757981,
          783.279162481667,
          833.7197384887355,
          882.348327975416,
          929.353630408409,
          974.8133295152378,
          1018.739585488058,
          1061.1041277263275,
          1101.8532066454222,
          1140.917098938623,
          1178.2164957857312,
          1213.6670059921958,
          1247.182459719677,
          1294.5828953031623,
          1345.717637436574,
          1395.9954049246453,
          1445.3037063679994,
          1493.5289326857692,
          1540.5573539376696,
          1586.276039899748,
          1630.5737149927768,
          1673.3415529059957,
          1714.4739128161036,
          1753.8690169178572,
          1791.4295676944416,
          1827.0633027179888,
          1860.6834846105526,
          1892.2093239888854,
          1921.5663336665662,
          1948.6866130171543,
          1973.5090621533286,
          1995.9795263933293,
          2016.0508723279472,
          2033.682997629407,
          2048.8427775278346,
          2061.503951597631,
          2071.6469551250384,
          2080.284260646706,
          2137.8700522731056,
          2194.033025254986,
          2248.6617789642937,
          2301.648680322265,
          2352.8902724503264,
          2402.2876436204674,
          2449.746753005789,
          2495.1787103488036,
          2538.500007308948,
          2579.6326989137838,
          2618.5045341952086,
          2655.049035739333,
          2689.205528491526,
          2720.919118734255,
          2750.140624674152,
          2776.8264605345043,
          2800.9384764373367,
          2822.443756671623,
          2841.3143791763027,
          2857.527139215908,
          2871.063240290616,
          2881.9079553018223,
          2890.0502608876545,
          2895.4824476504477,
          2898.199708718917,
          2895.48213476325,
          2890.0482305039955,
          2881.900313606,
          2871.041276175504,
          2857.474066680331,
          2841.201150680626,
          2822.2239461808326,
          2800.542227517023,
          2776.153489261706,
          2749.052258453485,
          2719.229339231821,
          2686.6709682227265,
          2651.3578510919906,
          2613.2640395095505,
          2572.3555917190492,
          2546.7667570365,
          2520.44747447245,
          2490.9524344339247,
          2458.186563723712,
          2422.031456174399,
          2382.3380998804237,
          2338.9164992266374,
          2291.5203448126354,
          2239.823459262065,
          2235.652813359267,
          2268.7348054335466,
          2301.9201776294885,
          2332.588802873199,
          2360.7356845917548,
          2386.3717144182233,
          2409.5533553460973,
          2430.541883008687,
          2454.0299999999997,
          2454.0299999999997
         ],
         "yaxis": "y"
        },
        {
         "marker": {
          "color": "#117733"
         },
         "mode": "lines",
         "name": "Predicted Liquidus",
         "showlegend": true,
         "type": "scatter",
         "x": [
          null
         ],
         "y": [
          null
         ]
        }
       ],
       "layout": {
        "annotations": [
         {
          "borderpad": 5,
          "font": {
           "color": "black",
           "size": 18
          },
          "showarrow": false,
          "text": "Ce7Ir3",
          "textangle": -90,
          "x": 27.5,
          "y": 479.160535351593,
          "yanchor": "bottom"
         },
         {
          "borderpad": 5,
          "font": {
           "color": "black",
           "size": 18
          },
          "showarrow": false,
          "text": "Ce5Ir4",
          "textangle": -90,
          "x": 41.5,
          "y": 479.160535351593,
          "yanchor": "bottom"
         },
         {
          "borderpad": 5,
          "font": {
           "color": "black",
           "size": 18
          },
          "showarrow": false,
          "text": "CeIr2",
          "textangle": -90,
          "x": 64.5,
          "y": 479.160535351593,
          "yanchor": "bottom"
         },
         {
          "borderpad": 5,
          "font": {
           "color": "black",
           "size": 18
          },
          "showarrow": false,
          "text": "CeIr3",
          "textangle": -90,
          "x": 72.5,
          "y": 479.160535351593,
          "yanchor": "bottom"
         },
         {
          "font": {
           "color": "black",
           "size": 18
          },
          "showarrow": false,
          "text": "L",
          "x": 50,
          "y": 2946.580492186263
         }
        ],
        "font": {
         "size": 22
        },
        "height": 700,
        "legend": {
         "font": {
          "size": 18
         },
         "x": 0.01,
         "xanchor": "left",
         "y": 0.99,
         "yanchor": "top"
        },
        "plot_bgcolor": "white",
        "showlegend": true,
        "template": {
         "data": {
          "bar": [
           {
            "error_x": {
             "color": "#2a3f5f"
            },
            "error_y": {
             "color": "#2a3f5f"
            },
            "marker": {
             "line": {
              "color": "#E5ECF6",
              "width": 0.5
             },
             "pattern": {
              "fillmode": "overlay",
              "size": 10,
              "solidity": 0.2
             }
            },
            "type": "bar"
           }
          ],
          "barpolar": [
           {
            "marker": {
             "line": {
              "color": "#E5ECF6",
              "width": 0.5
             },
             "pattern": {
              "fillmode": "overlay",
              "size": 10,
              "solidity": 0.2
             }
            },
            "type": "barpolar"
           }
          ],
          "carpet": [
           {
            "aaxis": {
             "endlinecolor": "#2a3f5f",
             "gridcolor": "white",
             "linecolor": "white",
             "minorgridcolor": "white",
             "startlinecolor": "#2a3f5f"
            },
            "baxis": {
             "endlinecolor": "#2a3f5f",
             "gridcolor": "white",
             "linecolor": "white",
             "minorgridcolor": "white",
             "startlinecolor": "#2a3f5f"
            },
            "type": "carpet"
           }
          ],
          "choropleth": [
           {
            "colorbar": {
             "outlinewidth": 0,
             "ticks": ""
            },
            "type": "choropleth"
           }
          ],
          "contour": [
           {
            "colorbar": {
             "outlinewidth": 0,
             "ticks": ""
            },
            "colorscale": [
             [
              0,
              "#0d0887"
             ],
             [
              0.1111111111111111,
              "#46039f"
             ],
             [
              0.2222222222222222,
              "#7201a8"
             ],
             [
              0.3333333333333333,
              "#9c179e"
             ],
             [
              0.4444444444444444,
              "#bd3786"
             ],
             [
              0.5555555555555556,
              "#d8576b"
             ],
             [
              0.6666666666666666,
              "#ed7953"
             ],
             [
              0.7777777777777778,
              "#fb9f3a"
             ],
             [
              0.8888888888888888,
              "#fdca26"
             ],
             [
              1,
              "#f0f921"
             ]
            ],
            "type": "contour"
           }
          ],
          "contourcarpet": [
           {
            "colorbar": {
             "outlinewidth": 0,
             "ticks": ""
            },
            "type": "contourcarpet"
           }
          ],
          "heatmap": [
           {
            "colorbar": {
             "outlinewidth": 0,
             "ticks": ""
            },
            "colorscale": [
             [
              0,
              "#0d0887"
             ],
             [
              0.1111111111111111,
              "#46039f"
             ],
             [
              0.2222222222222222,
              "#7201a8"
             ],
             [
              0.3333333333333333,
              "#9c179e"
             ],
             [
              0.4444444444444444,
              "#bd3786"
             ],
             [
              0.5555555555555556,
              "#d8576b"
             ],
             [
              0.6666666666666666,
              "#ed7953"
             ],
             [
              0.7777777777777778,
              "#fb9f3a"
             ],
             [
              0.8888888888888888,
              "#fdca26"
             ],
             [
              1,
              "#f0f921"
             ]
            ],
            "type": "heatmap"
           }
          ],
          "heatmapgl": [
           {
            "colorbar": {
             "outlinewidth": 0,
             "ticks": ""
            },
            "colorscale": [
             [
              0,
              "#0d0887"
             ],
             [
              0.1111111111111111,
              "#46039f"
             ],
             [
              0.2222222222222222,
              "#7201a8"
             ],
             [
              0.3333333333333333,
              "#9c179e"
             ],
             [
              0.4444444444444444,
              "#bd3786"
             ],
             [
              0.5555555555555556,
              "#d8576b"
             ],
             [
              0.6666666666666666,
              "#ed7953"
             ],
             [
              0.7777777777777778,
              "#fb9f3a"
             ],
             [
              0.8888888888888888,
              "#fdca26"
             ],
             [
              1,
              "#f0f921"
             ]
            ],
            "type": "heatmapgl"
           }
          ],
          "histogram": [
           {
            "marker": {
             "pattern": {
              "fillmode": "overlay",
              "size": 10,
              "solidity": 0.2
             }
            },
            "type": "histogram"
           }
          ],
          "histogram2d": [
           {
            "colorbar": {
             "outlinewidth": 0,
             "ticks": ""
            },
            "colorscale": [
             [
              0,
              "#0d0887"
             ],
             [
              0.1111111111111111,
              "#46039f"
             ],
             [
              0.2222222222222222,
              "#7201a8"
             ],
             [
              0.3333333333333333,
              "#9c179e"
             ],
             [
              0.4444444444444444,
              "#bd3786"
             ],
             [
              0.5555555555555556,
              "#d8576b"
             ],
             [
              0.6666666666666666,
              "#ed7953"
             ],
             [
              0.7777777777777778,
              "#fb9f3a"
             ],
             [
              0.8888888888888888,
              "#fdca26"
             ],
             [
              1,
              "#f0f921"
             ]
            ],
            "type": "histogram2d"
           }
          ],
          "histogram2dcontour": [
           {
            "colorbar": {
             "outlinewidth": 0,
             "ticks": ""
            },
            "colorscale": [
             [
              0,
              "#0d0887"
             ],
             [
              0.1111111111111111,
              "#46039f"
             ],
             [
              0.2222222222222222,
              "#7201a8"
             ],
             [
              0.3333333333333333,
              "#9c179e"
             ],
             [
              0.4444444444444444,
              "#bd3786"
             ],
             [
              0.5555555555555556,
              "#d8576b"
             ],
             [
              0.6666666666666666,
              "#ed7953"
             ],
             [
              0.7777777777777778,
              "#fb9f3a"
             ],
             [
              0.8888888888888888,
              "#fdca26"
             ],
             [
              1,
              "#f0f921"
             ]
            ],
            "type": "histogram2dcontour"
           }
          ],
          "mesh3d": [
           {
            "colorbar": {
             "outlinewidth": 0,
             "ticks": ""
            },
            "type": "mesh3d"
           }
          ],
          "parcoords": [
           {
            "line": {
             "colorbar": {
              "outlinewidth": 0,
              "ticks": ""
             }
            },
            "type": "parcoords"
           }
          ],
          "pie": [
           {
            "automargin": true,
            "type": "pie"
           }
          ],
          "scatter": [
           {
            "fillpattern": {
             "fillmode": "overlay",
             "size": 10,
             "solidity": 0.2
            },
            "type": "scatter"
           }
          ],
          "scatter3d": [
           {
            "line": {
             "colorbar": {
              "outlinewidth": 0,
              "ticks": ""
             }
            },
            "marker": {
             "colorbar": {
              "outlinewidth": 0,
              "ticks": ""
             }
            },
            "type": "scatter3d"
           }
          ],
          "scattercarpet": [
           {
            "marker": {
             "colorbar": {
              "outlinewidth": 0,
              "ticks": ""
             }
            },
            "type": "scattercarpet"
           }
          ],
          "scattergeo": [
           {
            "marker": {
             "colorbar": {
              "outlinewidth": 0,
              "ticks": ""
             }
            },
            "type": "scattergeo"
           }
          ],
          "scattergl": [
           {
            "marker": {
             "colorbar": {
              "outlinewidth": 0,
              "ticks": ""
             }
            },
            "type": "scattergl"
           }
          ],
          "scattermapbox": [
           {
            "marker": {
             "colorbar": {
              "outlinewidth": 0,
              "ticks": ""
             }
            },
            "type": "scattermapbox"
           }
          ],
          "scatterpolar": [
           {
            "marker": {
             "colorbar": {
              "outlinewidth": 0,
              "ticks": ""
             }
            },
            "type": "scatterpolar"
           }
          ],
          "scatterpolargl": [
           {
            "marker": {
             "colorbar": {
              "outlinewidth": 0,
              "ticks": ""
             }
            },
            "type": "scatterpolargl"
           }
          ],
          "scatterternary": [
           {
            "marker": {
             "colorbar": {
              "outlinewidth": 0,
              "ticks": ""
             }
            },
            "type": "scatterternary"
           }
          ],
          "surface": [
           {
            "colorbar": {
             "outlinewidth": 0,
             "ticks": ""
            },
            "colorscale": [
             [
              0,
              "#0d0887"
             ],
             [
              0.1111111111111111,
              "#46039f"
             ],
             [
              0.2222222222222222,
              "#7201a8"
             ],
             [
              0.3333333333333333,
              "#9c179e"
             ],
             [
              0.4444444444444444,
              "#bd3786"
             ],
             [
              0.5555555555555556,
              "#d8576b"
             ],
             [
              0.6666666666666666,
              "#ed7953"
             ],
             [
              0.7777777777777778,
              "#fb9f3a"
             ],
             [
              0.8888888888888888,
              "#fdca26"
             ],
             [
              1,
              "#f0f921"
             ]
            ],
            "type": "surface"
           }
          ],
          "table": [
           {
            "cells": {
             "fill": {
              "color": "#EBF0F8"
             },
             "line": {
              "color": "white"
             }
            },
            "header": {
             "fill": {
              "color": "#C8D4E3"
             },
             "line": {
              "color": "white"
             }
            },
            "type": "table"
           }
          ]
         },
         "layout": {
          "annotationdefaults": {
           "arrowcolor": "#2a3f5f",
           "arrowhead": 0,
           "arrowwidth": 1
          },
          "autotypenumbers": "strict",
          "coloraxis": {
           "colorbar": {
            "outlinewidth": 0,
            "ticks": ""
           }
          },
          "colorscale": {
           "diverging": [
            [
             0,
             "#8e0152"
            ],
            [
             0.1,
             "#c51b7d"
            ],
            [
             0.2,
             "#de77ae"
            ],
            [
             0.3,
             "#f1b6da"
            ],
            [
             0.4,
             "#fde0ef"
            ],
            [
             0.5,
             "#f7f7f7"
            ],
            [
             0.6,
             "#e6f5d0"
            ],
            [
             0.7,
             "#b8e186"
            ],
            [
             0.8,
             "#7fbc41"
            ],
            [
             0.9,
             "#4d9221"
            ],
            [
             1,
             "#276419"
            ]
           ],
           "sequential": [
            [
             0,
             "#0d0887"
            ],
            [
             0.1111111111111111,
             "#46039f"
            ],
            [
             0.2222222222222222,
             "#7201a8"
            ],
            [
             0.3333333333333333,
             "#9c179e"
            ],
            [
             0.4444444444444444,
             "#bd3786"
            ],
            [
             0.5555555555555556,
             "#d8576b"
            ],
            [
             0.6666666666666666,
             "#ed7953"
            ],
            [
             0.7777777777777778,
             "#fb9f3a"
            ],
            [
             0.8888888888888888,
             "#fdca26"
            ],
            [
             1,
             "#f0f921"
            ]
           ],
           "sequentialminus": [
            [
             0,
             "#0d0887"
            ],
            [
             0.1111111111111111,
             "#46039f"
            ],
            [
             0.2222222222222222,
             "#7201a8"
            ],
            [
             0.3333333333333333,
             "#9c179e"
            ],
            [
             0.4444444444444444,
             "#bd3786"
            ],
            [
             0.5555555555555556,
             "#d8576b"
            ],
            [
             0.6666666666666666,
             "#ed7953"
            ],
            [
             0.7777777777777778,
             "#fb9f3a"
            ],
            [
             0.8888888888888888,
             "#fdca26"
            ],
            [
             1,
             "#f0f921"
            ]
           ]
          },
          "colorway": [
           "#636efa",
           "#EF553B",
           "#00cc96",
           "#ab63fa",
           "#FFA15A",
           "#19d3f3",
           "#FF6692",
           "#B6E880",
           "#FF97FF",
           "#FECB52"
          ],
          "font": {
           "color": "#2a3f5f"
          },
          "geo": {
           "bgcolor": "white",
           "lakecolor": "white",
           "landcolor": "#E5ECF6",
           "showlakes": true,
           "showland": true,
           "subunitcolor": "white"
          },
          "hoverlabel": {
           "align": "left"
          },
          "hovermode": "closest",
          "mapbox": {
           "style": "light"
          },
          "paper_bgcolor": "white",
          "plot_bgcolor": "#E5ECF6",
          "polar": {
           "angularaxis": {
            "gridcolor": "white",
            "linecolor": "white",
            "ticks": ""
           },
           "bgcolor": "#E5ECF6",
           "radialaxis": {
            "gridcolor": "white",
            "linecolor": "white",
            "ticks": ""
           }
          },
          "scene": {
           "xaxis": {
            "backgroundcolor": "#E5ECF6",
            "gridcolor": "white",
            "gridwidth": 2,
            "linecolor": "white",
            "showbackground": true,
            "ticks": "",
            "zerolinecolor": "white"
           },
           "yaxis": {
            "backgroundcolor": "#E5ECF6",
            "gridcolor": "white",
            "gridwidth": 2,
            "linecolor": "white",
            "showbackground": true,
            "ticks": "",
            "zerolinecolor": "white"
           },
           "zaxis": {
            "backgroundcolor": "#E5ECF6",
            "gridcolor": "white",
            "gridwidth": 2,
            "linecolor": "white",
            "showbackground": true,
            "ticks": "",
            "zerolinecolor": "white"
           }
          },
          "shapedefaults": {
           "line": {
            "color": "#2a3f5f"
           }
          },
          "ternary": {
           "aaxis": {
            "gridcolor": "white",
            "linecolor": "white",
            "ticks": ""
           },
           "baxis": {
            "gridcolor": "white",
            "linecolor": "white",
            "ticks": ""
           },
           "bgcolor": "#E5ECF6",
           "caxis": {
            "gridcolor": "white",
            "linecolor": "white",
            "ticks": ""
           }
          },
          "title": {
           "x": 0.05
          },
          "xaxis": {
           "automargin": true,
           "gridcolor": "white",
           "linecolor": "white",
           "ticks": "",
           "title": {
            "standoff": 15
           },
           "zerolinecolor": "white",
           "zerolinewidth": 2
          },
          "yaxis": {
           "automargin": true,
           "gridcolor": "white",
           "linecolor": "white",
           "ticks": "",
           "title": {
            "standoff": 15
           },
           "zerolinecolor": "white",
           "zerolinewidth": 2
          }
         }
        },
        "title": {
         "text": "Ce-Ir Predicted Binary Phase Diagram"
        },
        "width": 960,
        "xaxis": {
         "linecolor": "black",
         "linewidth": 2,
         "mirror": true,
         "range": [
          0,
          100
         ],
         "showline": true,
         "tickcolor": "black",
         "tickformat": ".0f",
         "ticks": "outside",
         "title": {
          "text": "Ir (at. %)"
         }
        },
        "yaxis": {
         "linecolor": "black",
         "linewidth": 2,
         "mirror": true,
         "range": [
          479.160535351593,
          3140.1036260556493
         ],
         "showline": true,
         "tickcolor": "black",
         "ticks": "outside",
         "ticksuffix": " ",
         "title": {
          "text": "T (°C)"
         }
        }
       }
      }
     },
     "metadata": {},
     "output_type": "display_data"
    }
   ],
   "source": [
    "# Instantiate a BinaryLiquid object with a guess for parameter values\n",
    "parameter_guesses = [-175000, -20, 23000, -12] # [Enthalpy of Mixing, Entropy of Mixing, Enthalpy Skew, Entropy Skew]\n",
    "ce_ir_system = BinaryLiquid.from_cache('Ce-Ir', params=parameter_guesses)\n",
    "blp = BLPlotter(ce_ir_system)\n",
    "blp.show('pred')"
   ]
  },
  {
   "cell_type": "code",
   "execution_count": 5,
   "metadata": {},
   "outputs": [],
   "source": [
    "def adjust_L0a_from_known_point(bl: BinaryLiquid, known_point: list, tol=10):\n",
    "    \"\"\"\n",
    "    From a known (measured) point, use a bisection algorithm to find the value of L0_a which will generate a liquidus \n",
    "    which intersects the known point. \n",
    "    \"\"\"\n",
    "    # Get present MAE and parameters\n",
    "    mae, _ = bl.calculate_deviation_metrics()\n",
    "    print(f\"Current complete liquidus MAE: {int(mae)}K\")\n",
    "    print(f\"Current parameters: {bl._params}\")\n",
    "\n",
    "    def get_temp_error():\n",
    "        bl.update_phase_points()\n",
    "        gen_liq = bl.phases[-1]['points']\n",
    "        gen_liq_point = min(gen_liq, key=lambda x: abs(x[0] - known_point_k[0]))\n",
    "        return gen_liq_point[1] - known_point_k[1]\n",
    "\n",
    "    # Find the temperature error of the generated liquidus to the known point\n",
    "    known_point_k = [known_point[0], known_point[1] + 273.15] # Assume that known_point is given in Celsius\n",
    "    temp_error = get_temp_error()\n",
    "    print(f\"The liquidus point generated from current parameter guesses is off by {int(temp_error)} K\")\n",
    "\n",
    "    # Find the values of L0_a that generate a liquidus above and below the known point (at the same composition).\n",
    "    # Note: this algorithm as-written will only work for L0_a < 0\n",
    "    ub, lb = None, None\n",
    "    while not (lb and ub):\n",
    "        if temp_error > 0:\n",
    "            ub = bl.get_L0_a()\n",
    "            bl._params[0] *= 2\n",
    "        else:\n",
    "            lb = bl.get_L0_a()\n",
    "            bl._params[0] /= 2\n",
    "        temp_error = get_temp_error()\n",
    "\n",
    "    # Search between the boundary L0_a values to find value that generates a liquidus with temperature error below 'tol'\n",
    "    # 'tol' is the temperature (Celsius / Kelvin) precision in which the generated liquidus point error must fall below\n",
    "    while abs(temp_error) > tol:\n",
    "        mid = 0.5 * (lb + ub)\n",
    "        bl._params[0] = mid\n",
    "        temp_error = get_temp_error()\n",
    "        if temp_error > 0:\n",
    "            ub = mid\n",
    "        else:\n",
    "            lb = mid\n",
    "                \n",
    "    mae, _ = bl.calculate_deviation_metrics()\n",
    "    print(f\"Adjusted complete liquidus MAE: {int(mae)}K\")\n",
    "    print(f\"Adjusted parameters: {bl._params}\")"
   ]
  },
  {
   "cell_type": "code",
   "execution_count": 6,
   "metadata": {},
   "outputs": [
    {
     "name": "stdout",
     "output_type": "stream",
     "text": [
      "Current complete liquidus MAE: 567K\n",
      "Current parameters: [-175000, -20, 23000, -12]\n",
      "The liquidus point generated from current parameter guesses is off by 221 K\n",
      "Adjusted complete liquidus MAE: 381K\n",
      "Adjusted parameters: [-194140.625, -20, 23000, -12]\n"
     ]
    },
    {
     "data": {
      "application/vnd.plotly.v1+json": {
       "config": {
        "plotlyServerURL": "https://plot.ly"
       },
       "data": [
        {
         "line": {
          "color": "#B82E2E",
          "dash": "dash",
          "width": 4
         },
         "mode": "lines",
         "showlegend": false,
         "type": "scatter",
         "x": [
          0,
          0.530217,
          1.0575,
          1.58129,
          2.10103,
          2.61617,
          3.12613,
          3.63037,
          4.12832,
          4.61942,
          5.10313,
          5.57887,
          6.04609,
          6.50424,
          6.95274,
          7.391050000000001,
          7.81861,
          8.23485,
          8.72499,
          9.21988,
          9.71952,
          10.2239,
          10.733,
          11.2469,
          11.7656,
          12.2889,
          12.8171,
          13.350000000000001,
          13.887599999999999,
          14.429999999999998,
          14.977099999999998,
          15.529000000000002,
          16.0856,
          16.647,
          17.2131,
          17.5129,
          17.8201,
          18.1347,
          18.4566,
          18.7858,
          19.1221,
          19.4655,
          19.816,
          20.1734,
          20.5377,
          20.9088,
          21.2867,
          21.6712,
          22.0624,
          22.4601,
          22.8643,
          23.2749,
          23.6744,
          24.0922,
          24.5272,
          24.9788,
          25.445899999999998,
          25.927900000000005,
          26.4239,
          26.9329,
          27.454299999999996,
          27.987100000000005,
          28.5306,
          29.0838,
          29.646,
          30.216199999999997,
          30.7937,
          31.377700000000004,
          31.967199999999995,
          32.6463,
          33.3312,
          34.0218,
          34.718,
          35.4197,
          36.1267,
          36.839,
          37.5564,
          38.2788,
          39.0061,
          39.7381,
          40.4748,
          41.2161,
          41.9618,
          42.7118,
          43.4659,
          44.2242,
          45.2385,
          46.2843,
          47.3627,
          48.4753,
          49.6232,
          50.8078,
          52.0305,
          53.2925,
          54.5952,
          55.94,
          57.328100000000006,
          58.76090000000001,
          60.2396,
          61.7657,
          63.3405,
          64.9652,
          66.6413,
          67.2036,
          67.7862,
          68.3875,
          69.0062,
          69.6407,
          70.2895,
          70.9511,
          71.6241,
          72.3069,
          72.9981,
          73.6961,
          74.3995,
          75.1068,
          75.8165,
          76.5271,
          77.2371,
          77.9451,
          78.2034,
          78.4534,
          78.6955,
          78.9296,
          79.156,
          79.3748,
          79.5862,
          79.7902,
          79.9869,
          80.1767,
          80.3595,
          80.5356,
          80.705,
          80.8679,
          81.0245,
          81.1748,
          81.3191,
          81.4082,
          81.4939,
          81.5764,
          81.6559,
          81.7326,
          81.8066,
          81.8783,
          81.9476,
          82.0149,
          82.0803,
          82.144,
          82.2062,
          82.2671,
          82.3268,
          82.3855,
          82.4435,
          82.501,
          82.5453,
          82.5906,
          82.6369,
          82.6839,
          82.7315,
          82.7797,
          82.8282,
          82.8769,
          82.9256,
          82.9743,
          83.0228,
          83.071,
          83.1186,
          83.1657,
          83.2119,
          83.2573,
          83.3016,
          83.4456,
          83.6013,
          83.7675,
          83.9431,
          84.1272,
          84.3185,
          84.5161,
          84.7188,
          84.9256,
          85.1355,
          85.3473,
          85.56,
          85.7725,
          85.9838,
          86.1927,
          86.3983,
          86.5993,
          86.922,
          87.3164,
          87.7798,
          88.3095,
          88.9027,
          89.5569,
          90.2693,
          91.0372,
          91.8579,
          92.7286,
          93.6468,
          94.6097,
          95.6146,
          96.6587,
          97.7395,
          98.8541,
          100
         ],
         "y": [
          798.1749999999998,
          791.0690000000001,
          783.868,
          776.551,
          769.0980000000001,
          761.486,
          753.696,
          745.706,
          737.495,
          729.041,
          720.325,
          711.325,
          702.019,
          692.387,
          682.408,
          672.061,
          661.324,
          650.177,
          656.225,
          662.191,
          668.059,
          673.809,
          679.425,
          684.887,
          690.179,
          695.282,
          700.178,
          704.85,
          709.279,
          713.447,
          717.337,
          720.93,
          724.209,
          727.156,
          729.752,
          744.117,
          758.243,
          772.14,
          785.822,
          799.301,
          812.59,
          825.6999999999999,
          838.6439999999999,
          851.4350000000001,
          864.0850000000002,
          876.6059999999999,
          889.0110000000001,
          901.311,
          913.5200000000001,
          925.65,
          937.7129999999999,
          949.7210000000001,
          964.102,
          977.42,
          989.7500000000001,
          1001.16,
          1011.7300000000001,
          1021.5400000000001,
          1030.65,
          1039.1399999999999,
          1047.08,
          1054.54,
          1061.6099999999997,
          1068.35,
          1074.8399999999997,
          1081.15,
          1087.3599999999997,
          1093.5299999999997,
          1099.75,
          1108.5299999999997,
          1116.6599999999999,
          1124.17,
          1131.08,
          1137.42,
          1143.2199999999998,
          1148.5099999999998,
          1153.33,
          1157.69,
          1161.63,
          1165.17,
          1168.3599999999997,
          1171.1999999999998,
          1173.75,
          1176.0099999999998,
          1178.0299999999997,
          1179.83,
          1277.9699999999998,
          1374.54,
          1468.98,
          1560.6999999999998,
          1649.1599999999999,
          1733.79,
          1814.02,
          1889.29,
          1959.0299999999997,
          2022.6799999999998,
          2079.68,
          2129.45,
          2171.45,
          2205.09,
          2229.82,
          2245.07,
          2250.28,
          2249.77,
          2248.25,
          2245.72,
          2242.19,
          2237.67,
          2232.17,
          2225.7,
          2218.25,
          2209.84,
          2200.48,
          2190.17,
          2178.93,
          2166.75,
          2153.65,
          2139.63,
          2124.7,
          2108.87,
          2103.07,
          2097.3,
          2091.54,
          2085.77,
          2079.97,
          2074.12,
          2068.21,
          2062.23,
          2056.14,
          2049.95,
          2043.62,
          2037.1399999999999,
          2030.5,
          2023.6799999999998,
          2016.65,
          2009.4099999999999,
          2001.9299999999998,
          1997.87,
          1993.7599999999998,
          1989.5899999999997,
          1985.35,
          1981.0299999999997,
          1976.63,
          1972.1399999999999,
          1967.5699999999997,
          1962.8899999999999,
          1958.12,
          1953.23,
          1948.23,
          1943.12,
          1937.87,
          1932.5,
          1926.9899999999998,
          1921.3399999999997,
          1926.0499999999997,
          1930.5099999999998,
          1934.7199999999998,
          1938.67,
          1942.3599999999997,
          1945.7799999999997,
          1948.9299999999998,
          1951.81,
          1954.4,
          1956.71,
          1958.73,
          1960.4499999999998,
          1961.8599999999997,
          1962.9699999999998,
          1963.77,
          1964.2599999999998,
          1964.42,
          1964.0299999999997,
          1962.8899999999999,
          1961.0299999999997,
          1958.4899999999998,
          1955.2999999999997,
          1951.5099999999998,
          1947.1399999999999,
          1942.23,
          1936.8199999999997,
          1930.94,
          1924.6399999999999,
          1917.94,
          1910.88,
          1903.5,
          1895.83,
          1887.9099999999999,
          1879.7799999999997,
          1911.71,
          1943.83,
          1976.15,
          2008.67,
          2041.4,
          2074.36,
          2107.55,
          2140.97,
          2174.65,
          2208.58,
          2242.78,
          2277.25,
          2312.01,
          2347.05,
          2382.4,
          2418.06,
          2454.03
         ]
        },
        {
         "hovertemplate": "label=Ce7Ir3<br>x=%{x}<br>t=%{y}<extra></extra>",
         "legendgroup": "Ce7Ir3",
         "line": {
          "color": "rgb(246, 207, 113)",
          "dash": "solid",
          "width": 4
         },
         "marker": {
          "symbol": "circle"
         },
         "mode": "lines",
         "name": "Ce7Ir3",
         "orientation": "v",
         "showlegend": false,
         "type": "scatter",
         "x": [
          30,
          30,
          30,
          30,
          30,
          30,
          30,
          30,
          30,
          30,
          30,
          30,
          30,
          30,
          30
         ],
         "xaxis": "x",
         "y": [
          601.6996691892583,
          1073.9222757892326,
          1061.456400051251,
          959.8826846772416,
          756.479594362888,
          800.1085259336447,
          842.354619472016,
          617.8339386867763,
          1029.542701074975,
          995.6510683655146,
          922.3412845129093,
          883.1311645845648,
          711.5374152566559,
          665.3236408576958,
          -273.15
         ],
         "yaxis": "y"
        },
        {
         "hovertemplate": "label=Ce5Ir4<br>x=%{x}<br>t=%{y}<extra></extra>",
         "legendgroup": "Ce5Ir4",
         "line": {
          "color": "rgb(248, 156, 116)",
          "dash": "solid",
          "width": 4
         },
         "marker": {
          "symbol": "circle"
         },
         "mode": "lines",
         "name": "Ce5Ir4",
         "orientation": "v",
         "showlegend": false,
         "type": "scatter",
         "x": [
          44,
          44,
          44,
          44,
          44,
          44,
          44,
          44,
          44,
          44,
          44,
          44,
          44,
          44,
          44,
          44,
          44,
          44,
          44,
          44,
          44,
          44,
          44,
          44,
          44,
          44,
          44
         ],
         "xaxis": "x",
         "y": [
          1073.9222757892326,
          1690.3771828455747,
          1853.7456477538326,
          1204.6489316087077,
          1347.6905288034136,
          1593.436843582927,
          1478.3096837148223,
          1154.7730661846977,
          1104.0058325064779,
          1743.7902010979656,
          1718.2527184830697,
          1766.9288937427682,
          1787.6153618694343,
          1821.4544561297835,
          1805.8034937116918,
          1834.536589292472,
          1301.2307462723243,
          1253.5093847941953,
          1436.3460587206291,
          1392.768225658746,
          1660.2315460408627,
          1627.8908185400792,
          1556.9580019853784,
          1518.5488487710472,
          1852.902568272687,
          1845.0252442779179,
          -273.15
         ],
         "yaxis": "y"
        },
        {
         "hovertemplate": "label=CeIr2<br>x=%{x}<br>t=%{y}<extra></extra>",
         "legendgroup": "CeIr2",
         "line": {
          "color": "rgb(220, 176, 242)",
          "dash": "solid",
          "width": 4
         },
         "marker": {
          "symbol": "circle"
         },
         "mode": "lines",
         "name": "CeIr2",
         "orientation": "v",
         "showlegend": false,
         "type": "scatter",
         "x": [
          67,
          67,
          67,
          67,
          67,
          67,
          67,
          67,
          67,
          67,
          67,
          67,
          67,
          67,
          67,
          67,
          67,
          67,
          67,
          67,
          67,
          67,
          67,
          67,
          67,
          67,
          67,
          67,
          67,
          67,
          67,
          67,
          67,
          67,
          67,
          67,
          67,
          67,
          67,
          67,
          67,
          67
         ],
         "xaxis": "x",
         "y": [
          2418.307227914645,
          2126.5789764556393,
          2440.770059075154,
          2634.9604762144313,
          2635.2251800625677,
          2435.7920067777127,
          2227.1420615398283,
          2177.8496798407655,
          2402.6944298550693,
          2362.2180825736937,
          2274.3602135467195,
          2319.4137642510195,
          2615.49101706203,
          2593.012320488787,
          2539.9556655833726,
          2567.821349758881,
          2509.4583625798764,
          2476.378261639384,
          2666.2834909039416,
          2652.042621620873,
          2694.781719336303,
          2691.9313029493032,
          2677.680343412591,
          2686.230389431982,
          2666.3557222029126,
          2652.1875816782954,
          2694.781719336303,
          2691.933299745884,
          2677.711496027124,
          2686.2408303558063,
          2615.0392158109944,
          2592.279869719235,
          2538.2418608755647,
          2566.681755225479,
          2506.954181292588,
          2472.808987042049,
          1853.7456477538326,
          2073.4311405077747,
          2018.512337614795,
          1903.809223409055,
          1961.9333584146639,
          -273.15
         ],
         "yaxis": "y"
        },
        {
         "hovertemplate": "label=CeIr3<br>x=%{x}<br>t=%{y}<extra></extra>",
         "legendgroup": "CeIr3",
         "line": {
          "color": "rgb(135, 197, 95)",
          "dash": "solid",
          "width": 4
         },
         "marker": {
          "symbol": "circle"
         },
         "mode": "lines",
         "name": "CeIr3",
         "orientation": "v",
         "showlegend": false,
         "type": "scatter",
         "x": [
          75,
          75,
          75,
          75,
          75,
          75,
          75,
          75,
          75,
          75,
          75,
          75
         ],
         "xaxis": "x",
         "y": [
          2418.307227914645,
          2232.1386125837475,
          2143.1526909732324,
          2190.7939012667666,
          2145.6714171299545,
          2269.8721063728403,
          2335.0025893443853,
          2304.1253196313996,
          2362.5879753648087,
          2408.144261239229,
          2386.949839263573,
          -273.15
         ],
         "yaxis": "y"
        },
        {
         "hovertemplate": "x=%{x}<br>y=%{y}<extra></extra>",
         "legendgroup": "",
         "line": {
          "color": "Silver",
          "dash": "solid",
          "width": 4
         },
         "marker": {
          "symbol": "circle"
         },
         "mode": "lines",
         "name": "",
         "orientation": "v",
         "showlegend": false,
         "type": "scatter",
         "x": [
          75,
          90,
          100
         ],
         "xaxis": "x",
         "y": [
          2143.1526909732324,
          2143.1526909732324,
          2143.1526909732324
         ],
         "yaxis": "y"
        },
        {
         "hovertemplate": "x=%{x}<br>y=%{y}<extra></extra>",
         "legendgroup": "",
         "line": {
          "color": "Silver",
          "dash": "solid",
          "width": 4
         },
         "marker": {
          "symbol": "circle"
         },
         "mode": "lines",
         "name": "",
         "orientation": "v",
         "showlegend": false,
         "type": "scatter",
         "x": [
          0,
          6,
          30
         ],
         "xaxis": "x",
         "y": [
          601.6996691892583,
          601.6996691892583,
          601.6996691892583
         ],
         "yaxis": "y"
        },
        {
         "hovertemplate": "x=%{x}<br>y=%{y}<extra></extra>",
         "legendgroup": "",
         "line": {
          "color": "Silver",
          "dash": "solid",
          "width": 4
         },
         "marker": {
          "symbol": "circle"
         },
         "mode": "lines",
         "name": "",
         "orientation": "v",
         "showlegend": false,
         "type": "scatter",
         "x": [
          67,
          75,
          81
         ],
         "xaxis": "x",
         "y": [
          2418.307227914645,
          2418.307227914645,
          2418.307227914645
         ],
         "yaxis": "y"
        },
        {
         "hovertemplate": "x=%{x}<br>y=%{y}<extra></extra>",
         "legendgroup": "",
         "line": {
          "color": "Silver",
          "dash": "solid",
          "width": 4
         },
         "marker": {
          "symbol": "circle"
         },
         "mode": "lines",
         "name": "",
         "orientation": "v",
         "showlegend": false,
         "type": "scatter",
         "x": [
          18,
          30,
          44
         ],
         "xaxis": "x",
         "y": [
          1073.9222757892326,
          1073.9222757892326,
          1073.9222757892326
         ],
         "yaxis": "y"
        },
        {
         "hovertemplate": "x=%{x}<br>y=%{y}<extra></extra>",
         "legendgroup": "",
         "line": {
          "color": "Silver",
          "dash": "solid",
          "width": 4
         },
         "marker": {
          "symbol": "circle"
         },
         "mode": "lines",
         "name": "",
         "orientation": "v",
         "showlegend": false,
         "type": "scatter",
         "x": [
          42,
          44,
          67
         ],
         "xaxis": "x",
         "y": [
          1853.7456477538326,
          1853.7456477538326,
          1853.7456477538326
         ],
         "yaxis": "y"
        },
        {
         "hovertemplate": "label=L<br>x=%{x}<br>t=%{y}<extra></extra>",
         "legendgroup": "L",
         "line": {
          "color": "#117733",
          "dash": "solid",
          "width": 4
         },
         "marker": {
          "symbol": "circle"
         },
         "mode": "lines",
         "name": "L",
         "orientation": "v",
         "showlegend": false,
         "type": "scatter",
         "x": [
          0,
          0,
          1,
          2,
          3,
          4,
          5,
          6,
          7.000000000000001,
          8,
          9,
          10,
          11,
          12,
          13,
          14.000000000000002,
          15,
          16,
          17,
          18,
          19,
          20,
          21,
          22,
          23,
          24,
          25,
          26,
          27,
          28.000000000000004,
          28.999999999999996,
          30,
          31,
          32,
          33,
          34,
          35,
          36,
          37,
          38,
          39,
          40,
          41,
          42,
          43,
          44,
          45,
          46,
          47,
          48,
          49,
          50,
          51,
          52,
          53,
          54,
          55.00000000000001,
          56.00000000000001,
          57.00000000000001,
          57.99999999999999,
          59,
          60,
          61,
          62,
          63,
          64,
          65,
          66,
          67,
          68,
          69,
          70,
          71,
          72,
          73,
          74,
          75,
          76,
          77,
          78,
          79,
          80,
          81,
          82,
          83,
          84,
          85,
          86,
          87,
          88,
          89,
          90,
          91,
          92,
          93,
          94,
          95,
          96,
          97,
          98,
          99,
          100,
          100
         ],
         "xaxis": "x",
         "y": [
          798.1749999999998,
          798.1749999999998,
          770.8643380033847,
          743.2205049883672,
          710.8088353803672,
          673.7650527073351,
          632.4458835852616,
          601.6996691892583,
          617.8339386867763,
          665.3236408576958,
          711.5374152566559,
          756.479594362888,
          800.1085259336447,
          842.354619472016,
          883.1311645845648,
          922.3412845129093,
          959.8826846772416,
          995.6510683655146,
          1029.542701074975,
          1061.456400051251,
          1104.0058325064779,
          1154.7730661846977,
          1204.6489316087077,
          1253.5093847941953,
          1301.2307462723243,
          1347.6905288034136,
          1392.768225658746,
          1436.3460587206291,
          1478.3096837148223,
          1518.5488487710472,
          1556.9580019853784,
          1593.436843582927,
          1627.8908185400792,
          1660.2315460408627,
          1690.3771828455747,
          1718.2527184830697,
          1743.7902010979656,
          1766.9288937427682,
          1787.6153618694343,
          1805.8034937116918,
          1821.4544561297835,
          1834.536589292472,
          1845.0252442779179,
          1852.902568272687,
          1903.809223409055,
          1961.9333584146639,
          2018.512337614795,
          2073.4311405077747,
          2126.5789764556393,
          2177.8496798407655,
          2227.1420615398283,
          2274.3602135467195,
          2319.4137642510195,
          2362.2180825736937,
          2402.6944298550693,
          2440.770059075154,
          2476.378261639384,
          2509.4583625798764,
          2539.9556655833726,
          2567.821349758881,
          2593.012320488787,
          2615.49101706203,
          2635.2251800625677,
          2652.1875816782954,
          2666.3557222029126,
          2677.711496027124,
          2686.2408303558063,
          2691.933299745884,
          2694.781719336303,
          2691.9313029493032,
          2686.230389431982,
          2677.680343412591,
          2666.2834909039416,
          2652.042621620873,
          2634.9604762144313,
          2615.0392158109944,
          2592.279869719235,
          2566.681755225479,
          2538.2418608755647,
          2506.954181292588,
          2472.808987042049,
          2435.7920067777127,
          2408.144261239229,
          2386.949839263573,
          2362.5879753648087,
          2335.0025893443853,
          2304.1253196313996,
          2269.8721063728403,
          2232.1386125837475,
          2190.7939012667666,
          2145.6714171299545,
          2143.1526909732324,
          2183.968827572329,
          2224.28358071326,
          2261.8877850702206,
          2296.760410169071,
          2328.8854704171586,
          2358.2546870109463,
          2384.8756503093377,
          2408.801453298883,
          2430.289881583424,
          2454.0300000000007,
          2454.0300000000007
         ],
         "yaxis": "y"
        },
        {
         "line": {
          "color": "#B82E2E",
          "dash": "dash"
         },
         "mode": "lines",
         "name": "Digitized Liquidus",
         "showlegend": true,
         "type": "scatter",
         "x": [
          null
         ],
         "y": [
          null
         ]
        },
        {
         "marker": {
          "color": "#117733"
         },
         "mode": "lines",
         "name": "Predicted Liquidus",
         "showlegend": true,
         "type": "scatter",
         "x": [
          null
         ],
         "y": [
          null
         ]
        },
        {
         "marker": {
          "color": "#9D3CFF",
          "size": 20,
          "symbol": "star"
         },
         "mode": "markers",
         "showlegend": false,
         "text": "known point #1",
         "type": "scatter",
         "x": [
          8
         ],
         "y": [
          661
         ]
        }
       ],
       "layout": {
        "annotations": [
         {
          "borderpad": 5,
          "font": {
           "color": "black",
           "size": 18
          },
          "showarrow": false,
          "text": "Ce7Ir3",
          "textangle": -90,
          "x": 27.5,
          "y": 600,
          "yanchor": "bottom"
         },
         {
          "borderpad": 5,
          "font": {
           "color": "black",
           "size": 18
          },
          "showarrow": false,
          "text": "Ce5Ir4",
          "textangle": -90,
          "x": 41.5,
          "y": 600,
          "yanchor": "bottom"
         },
         {
          "borderpad": 5,
          "font": {
           "color": "black",
           "size": 18
          },
          "showarrow": false,
          "text": "CeIr2",
          "textangle": -90,
          "x": 64.5,
          "y": 600,
          "yanchor": "bottom"
         },
         {
          "borderpad": 5,
          "font": {
           "color": "black",
           "size": 18
          },
          "showarrow": false,
          "text": "CeIr3",
          "textangle": -90,
          "x": 72.5,
          "y": 600,
          "yanchor": "bottom"
         },
         {
          "font": {
           "color": "black",
           "size": 18
          },
          "showarrow": false,
          "text": "L",
          "x": 50,
          "y": 2736.677353723029
         }
        ],
        "font": {
         "size": 22
        },
        "height": 700,
        "legend": {
         "font": {
          "size": 18
         },
         "x": 0.01,
         "xanchor": "left",
         "y": 0.99,
         "yanchor": "top"
        },
        "plot_bgcolor": "white",
        "showlegend": true,
        "template": {
         "data": {
          "bar": [
           {
            "error_x": {
             "color": "#2a3f5f"
            },
            "error_y": {
             "color": "#2a3f5f"
            },
            "marker": {
             "line": {
              "color": "#E5ECF6",
              "width": 0.5
             },
             "pattern": {
              "fillmode": "overlay",
              "size": 10,
              "solidity": 0.2
             }
            },
            "type": "bar"
           }
          ],
          "barpolar": [
           {
            "marker": {
             "line": {
              "color": "#E5ECF6",
              "width": 0.5
             },
             "pattern": {
              "fillmode": "overlay",
              "size": 10,
              "solidity": 0.2
             }
            },
            "type": "barpolar"
           }
          ],
          "carpet": [
           {
            "aaxis": {
             "endlinecolor": "#2a3f5f",
             "gridcolor": "white",
             "linecolor": "white",
             "minorgridcolor": "white",
             "startlinecolor": "#2a3f5f"
            },
            "baxis": {
             "endlinecolor": "#2a3f5f",
             "gridcolor": "white",
             "linecolor": "white",
             "minorgridcolor": "white",
             "startlinecolor": "#2a3f5f"
            },
            "type": "carpet"
           }
          ],
          "choropleth": [
           {
            "colorbar": {
             "outlinewidth": 0,
             "ticks": ""
            },
            "type": "choropleth"
           }
          ],
          "contour": [
           {
            "colorbar": {
             "outlinewidth": 0,
             "ticks": ""
            },
            "colorscale": [
             [
              0,
              "#0d0887"
             ],
             [
              0.1111111111111111,
              "#46039f"
             ],
             [
              0.2222222222222222,
              "#7201a8"
             ],
             [
              0.3333333333333333,
              "#9c179e"
             ],
             [
              0.4444444444444444,
              "#bd3786"
             ],
             [
              0.5555555555555556,
              "#d8576b"
             ],
             [
              0.6666666666666666,
              "#ed7953"
             ],
             [
              0.7777777777777778,
              "#fb9f3a"
             ],
             [
              0.8888888888888888,
              "#fdca26"
             ],
             [
              1,
              "#f0f921"
             ]
            ],
            "type": "contour"
           }
          ],
          "contourcarpet": [
           {
            "colorbar": {
             "outlinewidth": 0,
             "ticks": ""
            },
            "type": "contourcarpet"
           }
          ],
          "heatmap": [
           {
            "colorbar": {
             "outlinewidth": 0,
             "ticks": ""
            },
            "colorscale": [
             [
              0,
              "#0d0887"
             ],
             [
              0.1111111111111111,
              "#46039f"
             ],
             [
              0.2222222222222222,
              "#7201a8"
             ],
             [
              0.3333333333333333,
              "#9c179e"
             ],
             [
              0.4444444444444444,
              "#bd3786"
             ],
             [
              0.5555555555555556,
              "#d8576b"
             ],
             [
              0.6666666666666666,
              "#ed7953"
             ],
             [
              0.7777777777777778,
              "#fb9f3a"
             ],
             [
              0.8888888888888888,
              "#fdca26"
             ],
             [
              1,
              "#f0f921"
             ]
            ],
            "type": "heatmap"
           }
          ],
          "heatmapgl": [
           {
            "colorbar": {
             "outlinewidth": 0,
             "ticks": ""
            },
            "colorscale": [
             [
              0,
              "#0d0887"
             ],
             [
              0.1111111111111111,
              "#46039f"
             ],
             [
              0.2222222222222222,
              "#7201a8"
             ],
             [
              0.3333333333333333,
              "#9c179e"
             ],
             [
              0.4444444444444444,
              "#bd3786"
             ],
             [
              0.5555555555555556,
              "#d8576b"
             ],
             [
              0.6666666666666666,
              "#ed7953"
             ],
             [
              0.7777777777777778,
              "#fb9f3a"
             ],
             [
              0.8888888888888888,
              "#fdca26"
             ],
             [
              1,
              "#f0f921"
             ]
            ],
            "type": "heatmapgl"
           }
          ],
          "histogram": [
           {
            "marker": {
             "pattern": {
              "fillmode": "overlay",
              "size": 10,
              "solidity": 0.2
             }
            },
            "type": "histogram"
           }
          ],
          "histogram2d": [
           {
            "colorbar": {
             "outlinewidth": 0,
             "ticks": ""
            },
            "colorscale": [
             [
              0,
              "#0d0887"
             ],
             [
              0.1111111111111111,
              "#46039f"
             ],
             [
              0.2222222222222222,
              "#7201a8"
             ],
             [
              0.3333333333333333,
              "#9c179e"
             ],
             [
              0.4444444444444444,
              "#bd3786"
             ],
             [
              0.5555555555555556,
              "#d8576b"
             ],
             [
              0.6666666666666666,
              "#ed7953"
             ],
             [
              0.7777777777777778,
              "#fb9f3a"
             ],
             [
              0.8888888888888888,
              "#fdca26"
             ],
             [
              1,
              "#f0f921"
             ]
            ],
            "type": "histogram2d"
           }
          ],
          "histogram2dcontour": [
           {
            "colorbar": {
             "outlinewidth": 0,
             "ticks": ""
            },
            "colorscale": [
             [
              0,
              "#0d0887"
             ],
             [
              0.1111111111111111,
              "#46039f"
             ],
             [
              0.2222222222222222,
              "#7201a8"
             ],
             [
              0.3333333333333333,
              "#9c179e"
             ],
             [
              0.4444444444444444,
              "#bd3786"
             ],
             [
              0.5555555555555556,
              "#d8576b"
             ],
             [
              0.6666666666666666,
              "#ed7953"
             ],
             [
              0.7777777777777778,
              "#fb9f3a"
             ],
             [
              0.8888888888888888,
              "#fdca26"
             ],
             [
              1,
              "#f0f921"
             ]
            ],
            "type": "histogram2dcontour"
           }
          ],
          "mesh3d": [
           {
            "colorbar": {
             "outlinewidth": 0,
             "ticks": ""
            },
            "type": "mesh3d"
           }
          ],
          "parcoords": [
           {
            "line": {
             "colorbar": {
              "outlinewidth": 0,
              "ticks": ""
             }
            },
            "type": "parcoords"
           }
          ],
          "pie": [
           {
            "automargin": true,
            "type": "pie"
           }
          ],
          "scatter": [
           {
            "fillpattern": {
             "fillmode": "overlay",
             "size": 10,
             "solidity": 0.2
            },
            "type": "scatter"
           }
          ],
          "scatter3d": [
           {
            "line": {
             "colorbar": {
              "outlinewidth": 0,
              "ticks": ""
             }
            },
            "marker": {
             "colorbar": {
              "outlinewidth": 0,
              "ticks": ""
             }
            },
            "type": "scatter3d"
           }
          ],
          "scattercarpet": [
           {
            "marker": {
             "colorbar": {
              "outlinewidth": 0,
              "ticks": ""
             }
            },
            "type": "scattercarpet"
           }
          ],
          "scattergeo": [
           {
            "marker": {
             "colorbar": {
              "outlinewidth": 0,
              "ticks": ""
             }
            },
            "type": "scattergeo"
           }
          ],
          "scattergl": [
           {
            "marker": {
             "colorbar": {
              "outlinewidth": 0,
              "ticks": ""
             }
            },
            "type": "scattergl"
           }
          ],
          "scattermapbox": [
           {
            "marker": {
             "colorbar": {
              "outlinewidth": 0,
              "ticks": ""
             }
            },
            "type": "scattermapbox"
           }
          ],
          "scatterpolar": [
           {
            "marker": {
             "colorbar": {
              "outlinewidth": 0,
              "ticks": ""
             }
            },
            "type": "scatterpolar"
           }
          ],
          "scatterpolargl": [
           {
            "marker": {
             "colorbar": {
              "outlinewidth": 0,
              "ticks": ""
             }
            },
            "type": "scatterpolargl"
           }
          ],
          "scatterternary": [
           {
            "marker": {
             "colorbar": {
              "outlinewidth": 0,
              "ticks": ""
             }
            },
            "type": "scatterternary"
           }
          ],
          "surface": [
           {
            "colorbar": {
             "outlinewidth": 0,
             "ticks": ""
            },
            "colorscale": [
             [
              0,
              "#0d0887"
             ],
             [
              0.1111111111111111,
              "#46039f"
             ],
             [
              0.2222222222222222,
              "#7201a8"
             ],
             [
              0.3333333333333333,
              "#9c179e"
             ],
             [
              0.4444444444444444,
              "#bd3786"
             ],
             [
              0.5555555555555556,
              "#d8576b"
             ],
             [
              0.6666666666666666,
              "#ed7953"
             ],
             [
              0.7777777777777778,
              "#fb9f3a"
             ],
             [
              0.8888888888888888,
              "#fdca26"
             ],
             [
              1,
              "#f0f921"
             ]
            ],
            "type": "surface"
           }
          ],
          "table": [
           {
            "cells": {
             "fill": {
              "color": "#EBF0F8"
             },
             "line": {
              "color": "white"
             }
            },
            "header": {
             "fill": {
              "color": "#C8D4E3"
             },
             "line": {
              "color": "white"
             }
            },
            "type": "table"
           }
          ]
         },
         "layout": {
          "annotationdefaults": {
           "arrowcolor": "#2a3f5f",
           "arrowhead": 0,
           "arrowwidth": 1
          },
          "autotypenumbers": "strict",
          "coloraxis": {
           "colorbar": {
            "outlinewidth": 0,
            "ticks": ""
           }
          },
          "colorscale": {
           "diverging": [
            [
             0,
             "#8e0152"
            ],
            [
             0.1,
             "#c51b7d"
            ],
            [
             0.2,
             "#de77ae"
            ],
            [
             0.3,
             "#f1b6da"
            ],
            [
             0.4,
             "#fde0ef"
            ],
            [
             0.5,
             "#f7f7f7"
            ],
            [
             0.6,
             "#e6f5d0"
            ],
            [
             0.7,
             "#b8e186"
            ],
            [
             0.8,
             "#7fbc41"
            ],
            [
             0.9,
             "#4d9221"
            ],
            [
             1,
             "#276419"
            ]
           ],
           "sequential": [
            [
             0,
             "#0d0887"
            ],
            [
             0.1111111111111111,
             "#46039f"
            ],
            [
             0.2222222222222222,
             "#7201a8"
            ],
            [
             0.3333333333333333,
             "#9c179e"
            ],
            [
             0.4444444444444444,
             "#bd3786"
            ],
            [
             0.5555555555555556,
             "#d8576b"
            ],
            [
             0.6666666666666666,
             "#ed7953"
            ],
            [
             0.7777777777777778,
             "#fb9f3a"
            ],
            [
             0.8888888888888888,
             "#fdca26"
            ],
            [
             1,
             "#f0f921"
            ]
           ],
           "sequentialminus": [
            [
             0,
             "#0d0887"
            ],
            [
             0.1111111111111111,
             "#46039f"
            ],
            [
             0.2222222222222222,
             "#7201a8"
            ],
            [
             0.3333333333333333,
             "#9c179e"
            ],
            [
             0.4444444444444444,
             "#bd3786"
            ],
            [
             0.5555555555555556,
             "#d8576b"
            ],
            [
             0.6666666666666666,
             "#ed7953"
            ],
            [
             0.7777777777777778,
             "#fb9f3a"
            ],
            [
             0.8888888888888888,
             "#fdca26"
            ],
            [
             1,
             "#f0f921"
            ]
           ]
          },
          "colorway": [
           "#636efa",
           "#EF553B",
           "#00cc96",
           "#ab63fa",
           "#FFA15A",
           "#19d3f3",
           "#FF6692",
           "#B6E880",
           "#FF97FF",
           "#FECB52"
          ],
          "font": {
           "color": "#2a3f5f"
          },
          "geo": {
           "bgcolor": "white",
           "lakecolor": "white",
           "landcolor": "#E5ECF6",
           "showlakes": true,
           "showland": true,
           "subunitcolor": "white"
          },
          "hoverlabel": {
           "align": "left"
          },
          "hovermode": "closest",
          "mapbox": {
           "style": "light"
          },
          "paper_bgcolor": "white",
          "plot_bgcolor": "#E5ECF6",
          "polar": {
           "angularaxis": {
            "gridcolor": "white",
            "linecolor": "white",
            "ticks": ""
           },
           "bgcolor": "#E5ECF6",
           "radialaxis": {
            "gridcolor": "white",
            "linecolor": "white",
            "ticks": ""
           }
          },
          "scene": {
           "xaxis": {
            "backgroundcolor": "#E5ECF6",
            "gridcolor": "white",
            "gridwidth": 2,
            "linecolor": "white",
            "showbackground": true,
            "ticks": "",
            "zerolinecolor": "white"
           },
           "yaxis": {
            "backgroundcolor": "#E5ECF6",
            "gridcolor": "white",
            "gridwidth": 2,
            "linecolor": "white",
            "showbackground": true,
            "ticks": "",
            "zerolinecolor": "white"
           },
           "zaxis": {
            "backgroundcolor": "#E5ECF6",
            "gridcolor": "white",
            "gridwidth": 2,
            "linecolor": "white",
            "showbackground": true,
            "ticks": "",
            "zerolinecolor": "white"
           }
          },
          "shapedefaults": {
           "line": {
            "color": "#2a3f5f"
           }
          },
          "ternary": {
           "aaxis": {
            "gridcolor": "white",
            "linecolor": "white",
            "ticks": ""
           },
           "baxis": {
            "gridcolor": "white",
            "linecolor": "white",
            "ticks": ""
           },
           "bgcolor": "#E5ECF6",
           "caxis": {
            "gridcolor": "white",
            "linecolor": "white",
            "ticks": ""
           }
          },
          "title": {
           "x": 0.05
          },
          "xaxis": {
           "automargin": true,
           "gridcolor": "white",
           "linecolor": "white",
           "ticks": "",
           "title": {
            "standoff": 15
           },
           "zerolinecolor": "white",
           "zerolinewidth": 2
          },
          "yaxis": {
           "automargin": true,
           "gridcolor": "white",
           "linecolor": "white",
           "ticks": "",
           "title": {
            "standoff": 15
           },
           "zerolinecolor": "white",
           "zerolinewidth": 2
          }
         }
        },
        "title": {
         "text": "Ce-Ir Predicted Binary Phase Diagram"
        },
        "width": 960,
        "xaxis": {
         "linecolor": "black",
         "linewidth": 2,
         "mirror": true,
         "range": [
          0,
          100
         ],
         "showline": true,
         "tickcolor": "black",
         "tickformat": ".0f",
         "ticks": "outside",
         "title": {
          "text": "Ir (at. %)"
         }
        },
        "yaxis": {
         "linecolor": "black",
         "linewidth": 2,
         "mirror": true,
         "range": [
          600,
          2904.259891269933
         ],
         "showline": true,
         "tickcolor": "black",
         "ticks": "outside",
         "ticksuffix": " ",
         "title": {
          "text": "T (°C)"
         }
        }
       }
      },
      "image/png": "[encoded data removed]"
     },
     "metadata": {},
     "output_type": "display_data"
    },
    {
     "name": "stdout",
     "output_type": "stream",
     "text": [
      "Current complete liquidus MAE: 567K\n",
      "Current parameters: [-175000, -20, 23000, -12]\n",
      "The liquidus point generated from current parameter guesses is off by 792 K\n",
      "Adjusted complete liquidus MAE: 106K\n",
      "Adjusted parameters: [-240625.0, -20, 23000, -12]\n"
     ]
    },
    {
     "data": {
      "application/vnd.plotly.v1+json": {
       "config": {
        "plotlyServerURL": "https://plot.ly"
       },
       "data": [
        {
         "line": {
          "color": "#B82E2E",
          "dash": "dash",
          "width": 4
         },
         "mode": "lines",
         "showlegend": false,
         "type": "scatter",
         "x": [
          0,
          0.530217,
          1.0575,
          1.58129,
          2.10103,
          2.61617,
          3.12613,
          3.63037,
          4.12832,
          4.61942,
          5.10313,
          5.57887,
          6.04609,
          6.50424,
          6.95274,
          7.391050000000001,
          7.81861,
          8.23485,
          8.72499,
          9.21988,
          9.71952,
          10.2239,
          10.733,
          11.2469,
          11.7656,
          12.2889,
          12.8171,
          13.350000000000001,
          13.887599999999999,
          14.429999999999998,
          14.977099999999998,
          15.529000000000002,
          16.0856,
          16.647,
          17.2131,
          17.5129,
          17.8201,
          18.1347,
          18.4566,
          18.7858,
          19.1221,
          19.4655,
          19.816,
          20.1734,
          20.5377,
          20.9088,
          21.2867,
          21.6712,
          22.0624,
          22.4601,
          22.8643,
          23.2749,
          23.6744,
          24.0922,
          24.5272,
          24.9788,
          25.445899999999998,
          25.927900000000005,
          26.4239,
          26.9329,
          27.454299999999996,
          27.987100000000005,
          28.5306,
          29.0838,
          29.646,
          30.216199999999997,
          30.7937,
          31.377700000000004,
          31.967199999999995,
          32.6463,
          33.3312,
          34.0218,
          34.718,
          35.4197,
          36.1267,
          36.839,
          37.5564,
          38.2788,
          39.0061,
          39.7381,
          40.4748,
          41.2161,
          41.9618,
          42.7118,
          43.4659,
          44.2242,
          45.2385,
          46.2843,
          47.3627,
          48.4753,
          49.6232,
          50.8078,
          52.0305,
          53.2925,
          54.5952,
          55.94,
          57.328100000000006,
          58.76090000000001,
          60.2396,
          61.7657,
          63.3405,
          64.9652,
          66.6413,
          67.2036,
          67.7862,
          68.3875,
          69.0062,
          69.6407,
          70.2895,
          70.9511,
          71.6241,
          72.3069,
          72.9981,
          73.6961,
          74.3995,
          75.1068,
          75.8165,
          76.5271,
          77.2371,
          77.9451,
          78.2034,
          78.4534,
          78.6955,
          78.9296,
          79.156,
          79.3748,
          79.5862,
          79.7902,
          79.9869,
          80.1767,
          80.3595,
          80.5356,
          80.705,
          80.8679,
          81.0245,
          81.1748,
          81.3191,
          81.4082,
          81.4939,
          81.5764,
          81.6559,
          81.7326,
          81.8066,
          81.8783,
          81.9476,
          82.0149,
          82.0803,
          82.144,
          82.2062,
          82.2671,
          82.3268,
          82.3855,
          82.4435,
          82.501,
          82.5453,
          82.5906,
          82.6369,
          82.6839,
          82.7315,
          82.7797,
          82.8282,
          82.8769,
          82.9256,
          82.9743,
          83.0228,
          83.071,
          83.1186,
          83.1657,
          83.2119,
          83.2573,
          83.3016,
          83.4456,
          83.6013,
          83.7675,
          83.9431,
          84.1272,
          84.3185,
          84.5161,
          84.7188,
          84.9256,
          85.1355,
          85.3473,
          85.56,
          85.7725,
          85.9838,
          86.1927,
          86.3983,
          86.5993,
          86.922,
          87.3164,
          87.7798,
          88.3095,
          88.9027,
          89.5569,
          90.2693,
          91.0372,
          91.8579,
          92.7286,
          93.6468,
          94.6097,
          95.6146,
          96.6587,
          97.7395,
          98.8541,
          100
         ],
         "y": [
          798.1749999999998,
          791.0690000000001,
          783.868,
          776.551,
          769.0980000000001,
          761.486,
          753.696,
          745.706,
          737.495,
          729.041,
          720.325,
          711.325,
          702.019,
          692.387,
          682.408,
          672.061,
          661.324,
          650.177,
          656.225,
          662.191,
          668.059,
          673.809,
          679.425,
          684.887,
          690.179,
          695.282,
          700.178,
          704.85,
          709.279,
          713.447,
          717.337,
          720.93,
          724.209,
          727.156,
          729.752,
          744.117,
          758.243,
          772.14,
          785.822,
          799.301,
          812.59,
          825.6999999999999,
          838.6439999999999,
          851.4350000000001,
          864.0850000000002,
          876.6059999999999,
          889.0110000000001,
          901.311,
          913.5200000000001,
          925.65,
          937.7129999999999,
          949.7210000000001,
          964.102,
          977.42,
          989.7500000000001,
          1001.16,
          1011.7300000000001,
          1021.5400000000001,
          1030.65,
          1039.1399999999999,
          1047.08,
          1054.54,
          1061.6099999999997,
          1068.35,
          1074.8399999999997,
          1081.15,
          1087.3599999999997,
          1093.5299999999997,
          1099.75,
          1108.5299999999997,
          1116.6599999999999,
          1124.17,
          1131.08,
          1137.42,
          1143.2199999999998,
          1148.5099999999998,
          1153.33,
          1157.69,
          1161.63,
          1165.17,
          1168.3599999999997,
          1171.1999999999998,
          1173.75,
          1176.0099999999998,
          1178.0299999999997,
          1179.83,
          1277.9699999999998,
          1374.54,
          1468.98,
          1560.6999999999998,
          1649.1599999999999,
          1733.79,
          1814.02,
          1889.29,
          1959.0299999999997,
          2022.6799999999998,
          2079.68,
          2129.45,
          2171.45,
          2205.09,
          2229.82,
          2245.07,
          2250.28,
          2249.77,
          2248.25,
          2245.72,
          2242.19,
          2237.67,
          2232.17,
          2225.7,
          2218.25,
          2209.84,
          2200.48,
          2190.17,
          2178.93,
          2166.75,
          2153.65,
          2139.63,
          2124.7,
          2108.87,
          2103.07,
          2097.3,
          2091.54,
          2085.77,
          2079.97,
          2074.12,
          2068.21,
          2062.23,
          2056.14,
          2049.95,
          2043.62,
          2037.1399999999999,
          2030.5,
          2023.6799999999998,
          2016.65,
          2009.4099999999999,
          2001.9299999999998,
          1997.87,
          1993.7599999999998,
          1989.5899999999997,
          1985.35,
          1981.0299999999997,
          1976.63,
          1972.1399999999999,
          1967.5699999999997,
          1962.8899999999999,
          1958.12,
          1953.23,
          1948.23,
          1943.12,
          1937.87,
          1932.5,
          1926.9899999999998,
          1921.3399999999997,
          1926.0499999999997,
          1930.5099999999998,
          1934.7199999999998,
          1938.67,
          1942.3599999999997,
          1945.7799999999997,
          1948.9299999999998,
          1951.81,
          1954.4,
          1956.71,
          1958.73,
          1960.4499999999998,
          1961.8599999999997,
          1962.9699999999998,
          1963.77,
          1964.2599999999998,
          1964.42,
          1964.0299999999997,
          1962.8899999999999,
          1961.0299999999997,
          1958.4899999999998,
          1955.2999999999997,
          1951.5099999999998,
          1947.1399999999999,
          1942.23,
          1936.8199999999997,
          1930.94,
          1924.6399999999999,
          1917.94,
          1910.88,
          1903.5,
          1895.83,
          1887.9099999999999,
          1879.7799999999997,
          1911.71,
          1943.83,
          1976.15,
          2008.67,
          2041.4,
          2074.36,
          2107.55,
          2140.97,
          2174.65,
          2208.58,
          2242.78,
          2277.25,
          2312.01,
          2347.05,
          2382.4,
          2418.06,
          2454.03
         ]
        },
        {
         "hovertemplate": "label=Ce7Ir3<br>x=%{x}<br>t=%{y}<extra></extra>",
         "legendgroup": "Ce7Ir3",
         "line": {
          "color": "rgb(246, 207, 113)",
          "dash": "solid",
          "width": 4
         },
         "marker": {
          "symbol": "circle"
         },
         "mode": "lines",
         "name": "Ce7Ir3",
         "orientation": "v",
         "showlegend": false,
         "type": "scatter",
         "x": [
          30,
          30,
          30,
          30,
          30,
          30,
          30,
          30,
          30,
          30,
          30,
          30
         ],
         "xaxis": "x",
         "y": [
          282.4598405354202,
          311.10581371156536,
          429.64342912804545,
          533.9196601594191,
          620.1767450945609,
          593.6388426634395,
          564.8440623175413,
          500.98900150926863,
          466.1837912721455,
          391.51430662188545,
          351.9490624367479,
          -273.15
         ],
         "yaxis": "y"
        },
        {
         "hovertemplate": "label=Ce5Ir4<br>x=%{x}<br>t=%{y}<extra></extra>",
         "legendgroup": "Ce5Ir4",
         "line": {
          "color": "rgb(248, 156, 116)",
          "dash": "solid",
          "width": 4
         },
         "marker": {
          "symbol": "circle"
         },
         "mode": "lines",
         "name": "Ce5Ir4",
         "orientation": "v",
         "showlegend": false,
         "type": "scatter",
         "x": [
          44,
          44,
          44,
          44,
          44,
          44,
          44,
          44,
          44,
          44,
          44,
          44,
          44,
          44,
          44,
          44,
          44,
          44,
          44,
          44,
          44,
          44,
          44,
          44,
          44
         ],
         "xaxis": "x",
         "y": [
          1306.3140192523301,
          1283.3301379799427,
          1128.917816566031,
          620.2016214789917,
          768.2685732837473,
          1026.0582999692156,
          904.7679844688577,
          620.1767450945609,
          1303.1805344277936,
          1294.6582322206227,
          1269.225675591661,
          1252.3818413400977,
          1210.6630715914048,
          1232.8434078987589,
          1185.9015385349421,
          1158.6275460431384,
          1096.8569424528087,
          1062.5372009403436,
          987.5270566919377,
          947.0570118430793,
          860.7855728418839,
          815.2406087046796,
          720.0089847993333,
          670.6047684860871,
          -273.15
         ],
         "yaxis": "y"
        },
        {
         "hovertemplate": "label=CeIr2<br>x=%{x}<br>t=%{y}<extra></extra>",
         "legendgroup": "CeIr2",
         "line": {
          "color": "rgb(220, 176, 242)",
          "dash": "solid",
          "width": 4
         },
         "marker": {
          "symbol": "circle"
         },
         "mode": "lines",
         "name": "CeIr2",
         "orientation": "v",
         "showlegend": false,
         "type": "scatter",
         "x": [
          67,
          67,
          67,
          67,
          67,
          67,
          67,
          67,
          67,
          67,
          67,
          67,
          67,
          67,
          67,
          67,
          67,
          67,
          67,
          67,
          67,
          67,
          67,
          67,
          67,
          67,
          67,
          67,
          67,
          67,
          67,
          67,
          67,
          67,
          67,
          67,
          67,
          67
         ],
         "xaxis": "x",
         "y": [
          2026.444229811002,
          2057.9646868517843,
          1306.3140192523301,
          1576.9658290399589,
          1920.3782586050065,
          2134.0902667965283,
          2200.766602264242,
          1686.5306679796386,
          1632.786053518642,
          1878.5841764575875,
          1834.2111571763312,
          1738.0867213130814,
          1787.347173967476,
          2112.8915065815913,
          2088.048798899451,
          2029.5064792200515,
          2060.237509303792,
          1995.9108119192424,
          1959.5120421413271,
          2169.014583815859,
          2153.1376836193294,
          2200.7666022642416,
          2197.593568544005,
          2181.7175586571666,
          2191.2442039713783,
          2134.722839357785,
          2153.505799086951,
          2181.805809217143,
          2169.208892561349,
          2191.2750704927457,
          2197.599654834803,
          2111.87629919853,
          2086.4998579246044,
          1519.188543815454,
          1459.5779800517153,
          1335.375781882094,
          1398.262738945316,
          -273.15
         ],
         "yaxis": "y"
        },
        {
         "hovertemplate": "label=CeIr3<br>x=%{x}<br>t=%{y}<extra></extra>",
         "legendgroup": "CeIr3",
         "line": {
          "color": "rgb(135, 197, 95)",
          "dash": "solid",
          "width": 4
         },
         "marker": {
          "symbol": "circle"
         },
         "mode": "lines",
         "name": "CeIr3",
         "orientation": "v",
         "showlegend": false,
         "type": "scatter",
         "x": [
          75,
          75,
          75,
          75,
          75,
          75,
          75,
          75,
          75,
          75,
          75
         ],
         "xaxis": "x",
         "y": [
          2026.444229811002,
          1861.5187546711827,
          2026.408429137794,
          2016.4120020153173,
          1884.636439747656,
          1915.2966484478416,
          1966.077190595252,
          1942.4303398054053,
          1986.2709012834616,
          2003.0405981709177,
          -273.15
         ],
         "yaxis": "y"
        },
        {
         "hovertemplate": "x=%{x}<br>y=%{y}<extra></extra>",
         "legendgroup": "",
         "line": {
          "color": "Silver",
          "dash": "solid",
          "width": 4
         },
         "marker": {
          "symbol": "circle"
         },
         "mode": "lines",
         "name": "",
         "orientation": "v",
         "showlegend": false,
         "type": "scatter",
         "x": [
          75,
          85,
          100
         ],
         "xaxis": "x",
         "y": [
          1861.5187546711827,
          1861.5187546711827,
          1861.5187546711827
         ],
         "yaxis": "y"
        },
        {
         "hovertemplate": "x=%{x}<br>y=%{y}<extra></extra>",
         "legendgroup": "",
         "line": {
          "color": "Silver",
          "dash": "solid",
          "width": 4
         },
         "marker": {
          "symbol": "circle"
         },
         "mode": "lines",
         "name": "",
         "orientation": "v",
         "showlegend": false,
         "type": "scatter",
         "x": [
          0,
          11,
          30
         ],
         "xaxis": "x",
         "y": [
          282.4598405354202,
          282.4598405354202,
          282.4598405354202
         ],
         "yaxis": "y"
        },
        {
         "hovertemplate": "x=%{x}<br>y=%{y}<extra></extra>",
         "legendgroup": "",
         "line": {
          "color": "Silver",
          "dash": "solid",
          "width": 4
         },
         "marker": {
          "symbol": "circle"
         },
         "mode": "lines",
         "name": "",
         "orientation": "v",
         "showlegend": false,
         "type": "scatter",
         "x": [
          67,
          75,
          77
         ],
         "xaxis": "x",
         "y": [
          2026.444229811002,
          2026.444229811002,
          2026.444229811002
         ],
         "yaxis": "y"
        },
        {
         "hovertemplate": "x=%{x}<br>y=%{y}<extra></extra>",
         "legendgroup": "",
         "line": {
          "color": "Silver",
          "dash": "solid",
          "width": 4
         },
         "marker": {
          "symbol": "circle"
         },
         "mode": "lines",
         "name": "",
         "orientation": "v",
         "showlegend": false,
         "type": "scatter",
         "x": [
          42,
          44,
          67
         ],
         "xaxis": "x",
         "y": [
          1306.3140192523301,
          1306.3140192523301,
          1306.3140192523301
         ],
         "yaxis": "y"
        },
        {
         "hovertemplate": "x=%{x}<br>y=%{y}<extra></extra>",
         "legendgroup": "",
         "line": {
          "color": "Silver",
          "dash": "solid",
          "width": 4
         },
         "marker": {
          "symbol": "circle"
         },
         "mode": "lines",
         "name": "",
         "orientation": "v",
         "showlegend": false,
         "type": "scatter",
         "x": [
          20,
          30,
          44
         ],
         "xaxis": "x",
         "y": [
          620.1767450945609,
          620.1767450945609,
          620.1767450945609
         ],
         "yaxis": "y"
        },
        {
         "hovertemplate": "label=L<br>x=%{x}<br>t=%{y}<extra></extra>",
         "legendgroup": "L",
         "line": {
          "color": "#117733",
          "dash": "solid",
          "width": 4
         },
         "marker": {
          "symbol": "circle"
         },
         "mode": "lines",
         "name": "L",
         "orientation": "v",
         "showlegend": false,
         "type": "scatter",
         "x": [
          0,
          0,
          1,
          2,
          3,
          4,
          5,
          6,
          7.000000000000001,
          8,
          9,
          10,
          11,
          12,
          13,
          14.000000000000002,
          15,
          16,
          17,
          18,
          19,
          20,
          21,
          22,
          23,
          24,
          25,
          26,
          27,
          28.000000000000004,
          28.999999999999996,
          30,
          31,
          32,
          33,
          34,
          35,
          36,
          37,
          38,
          39,
          40,
          41,
          42,
          43,
          44,
          45,
          46,
          47,
          48,
          49,
          50,
          51,
          52,
          53,
          54,
          55.00000000000001,
          56.00000000000001,
          57.00000000000001,
          57.99999999999999,
          59,
          60,
          61,
          62,
          63,
          64,
          65,
          66,
          67,
          68,
          69,
          70,
          71,
          72,
          73,
          74,
          75,
          76,
          77,
          78,
          79,
          80,
          81,
          82,
          83,
          84,
          85,
          86,
          87,
          88,
          89,
          90,
          91,
          92,
          93,
          94,
          95,
          96,
          97,
          98,
          99,
          100,
          100
         ],
         "xaxis": "x",
         "y": [
          798.1750000000001,
          798.1750000000001,
          769.2924272574766,
          738.5912825339469,
          701.7306430057629,
          658.9481855290967,
          610.7072846399365,
          557.5203199128653,
          499.9067700394239,
          438.37532878999525,
          373.4136339033972,
          305.4816893227784,
          282.4598405354202,
          311.10581371156536,
          351.9490624367479,
          391.51430662188545,
          429.64342912804545,
          466.1837912721455,
          500.98900150926863,
          533.9196601594191,
          564.8440623175413,
          593.6388426634395,
          620.2016214789917,
          670.6047684860871,
          720.0089847993333,
          768.2685732837473,
          815.2406087046796,
          860.7855728418839,
          904.7679844688577,
          947.0570118430793,
          987.5270566919377,
          1026.0582999692156,
          1062.5372009403436,
          1096.8569424528087,
          1128.917816566031,
          1158.6275460431384,
          1185.9015385349421,
          1210.6630715914048,
          1232.8434078987589,
          1252.3818413400977,
          1269.225675591661,
          1283.3301379799427,
          1294.6582322206227,
          1303.1805344277936,
          1335.375781882094,
          1398.262738945316,
          1459.5779800517153,
          1519.188543815454,
          1576.9658290399589,
          1632.786053518642,
          1686.5306679796386,
          1738.0867213130814,
          1787.347173967476,
          1834.2111571763312,
          1878.5841764575875,
          1920.3782586050065,
          1959.5120421413271,
          1995.9108119192424,
          2029.5064792200515,
          2060.237509303792,
          2088.048798899451,
          2112.8915065815913,
          2134.722839357785,
          2153.505799086951,
          2169.208892561349,
          2181.805809217143,
          2191.2750704927457,
          2197.599654834803,
          2200.7666022642416,
          2197.593568544005,
          2191.2442039713783,
          2181.7175586571666,
          2169.014583815859,
          2153.1376836193294,
          2134.0902667965283,
          2111.87629919853,
          2086.4998579246044,
          2057.9646868517843,
          2026.408429137794,
          2016.4120020153173,
          2003.0405981709177,
          1986.2709012834616,
          1966.077190595252,
          1942.4303398054053,
          1915.2966484478416,
          1884.636439747656,
          1861.5187546711827,
          1882.4648796380843,
          1943.651629216501,
          2001.7982845358297,
          2056.8520727648843,
          2108.765457522522,
          2157.4957846493935,
          2203.004970510209,
          2245.2593070449984,
          2284.229546336625,
          2319.891663023918,
          2352.229407171849,
          2381.242351759184,
          2406.9754054699347,
          2429.6778781220723,
          2454.0300000000007,
          2454.0300000000007
         ],
         "yaxis": "y"
        },
        {
         "line": {
          "color": "#B82E2E",
          "dash": "dash"
         },
         "mode": "lines",
         "name": "Digitized Liquidus",
         "showlegend": true,
         "type": "scatter",
         "x": [
          null
         ],
         "y": [
          null
         ]
        },
        {
         "marker": {
          "color": "#117733"
         },
         "mode": "lines",
         "name": "Predicted Liquidus",
         "showlegend": true,
         "type": "scatter",
         "x": [
          null
         ],
         "y": [
          null
         ]
        },
        {
         "marker": {
          "color": "#9D3CFF",
          "size": 20,
          "symbol": "star"
         },
         "mode": "markers",
         "showlegend": false,
         "text": "known point #2",
         "type": "scatter",
         "x": [
          32
         ],
         "y": [
          1100
         ]
        }
       ],
       "layout": {
        "annotations": [
         {
          "borderpad": 5,
          "font": {
           "color": "black",
           "size": 18
          },
          "showarrow": false,
          "text": "Ce7Ir3",
          "textangle": -90,
          "x": 27.5,
          "y": 420.17674509456094,
          "yanchor": "bottom"
         },
         {
          "borderpad": 5,
          "font": {
           "color": "black",
           "size": 18
          },
          "showarrow": false,
          "text": "Ce5Ir4",
          "textangle": -90,
          "x": 41.5,
          "y": 420.17674509456094,
          "yanchor": "bottom"
         },
         {
          "borderpad": 5,
          "font": {
           "color": "black",
           "size": 18
          },
          "showarrow": false,
          "text": "CeIr2",
          "textangle": -90,
          "x": 64.5,
          "y": 420.17674509456094,
          "yanchor": "bottom"
         },
         {
          "borderpad": 5,
          "font": {
           "color": "black",
           "size": 18
          },
          "showarrow": false,
          "text": "CeIr3",
          "textangle": -90,
          "x": 72.5,
          "y": 420.17674509456094,
          "yanchor": "bottom"
         },
         {
          "font": {
           "color": "black",
           "size": 18
          },
          "showarrow": false,
          "text": "L",
          "x": 50,
          "y": 2640
         }
        ],
        "font": {
         "size": 22
        },
        "height": 700,
        "legend": {
         "font": {
          "size": 18
         },
         "x": 0.01,
         "xanchor": "left",
         "y": 0.99,
         "yanchor": "top"
        },
        "plot_bgcolor": "white",
        "showlegend": true,
        "template": {
         "data": {
          "bar": [
           {
            "error_x": {
             "color": "#2a3f5f"
            },
            "error_y": {
             "color": "#2a3f5f"
            },
            "marker": {
             "line": {
              "color": "#E5ECF6",
              "width": 0.5
             },
             "pattern": {
              "fillmode": "overlay",
              "size": 10,
              "solidity": 0.2
             }
            },
            "type": "bar"
           }
          ],
          "barpolar": [
           {
            "marker": {
             "line": {
              "color": "#E5ECF6",
              "width": 0.5
             },
             "pattern": {
              "fillmode": "overlay",
              "size": 10,
              "solidity": 0.2
             }
            },
            "type": "barpolar"
           }
          ],
          "carpet": [
           {
            "aaxis": {
             "endlinecolor": "#2a3f5f",
             "gridcolor": "white",
             "linecolor": "white",
             "minorgridcolor": "white",
             "startlinecolor": "#2a3f5f"
            },
            "baxis": {
             "endlinecolor": "#2a3f5f",
             "gridcolor": "white",
             "linecolor": "white",
             "minorgridcolor": "white",
             "startlinecolor": "#2a3f5f"
            },
            "type": "carpet"
           }
          ],
          "choropleth": [
           {
            "colorbar": {
             "outlinewidth": 0,
             "ticks": ""
            },
            "type": "choropleth"
           }
          ],
          "contour": [
           {
            "colorbar": {
             "outlinewidth": 0,
             "ticks": ""
            },
            "colorscale": [
             [
              0,
              "#0d0887"
             ],
             [
              0.1111111111111111,
              "#46039f"
             ],
             [
              0.2222222222222222,
              "#7201a8"
             ],
             [
              0.3333333333333333,
              "#9c179e"
             ],
             [
              0.4444444444444444,
              "#bd3786"
             ],
             [
              0.5555555555555556,
              "#d8576b"
             ],
             [
              0.6666666666666666,
              "#ed7953"
             ],
             [
              0.7777777777777778,
              "#fb9f3a"
             ],
             [
              0.8888888888888888,
              "#fdca26"
             ],
             [
              1,
              "#f0f921"
             ]
            ],
            "type": "contour"
           }
          ],
          "contourcarpet": [
           {
            "colorbar": {
             "outlinewidth": 0,
             "ticks": ""
            },
            "type": "contourcarpet"
           }
          ],
          "heatmap": [
           {
            "colorbar": {
             "outlinewidth": 0,
             "ticks": ""
            },
            "colorscale": [
             [
              0,
              "#0d0887"
             ],
             [
              0.1111111111111111,
              "#46039f"
             ],
             [
              0.2222222222222222,
              "#7201a8"
             ],
             [
              0.3333333333333333,
              "#9c179e"
             ],
             [
              0.4444444444444444,
              "#bd3786"
             ],
             [
              0.5555555555555556,
              "#d8576b"
             ],
             [
              0.6666666666666666,
              "#ed7953"
             ],
             [
              0.7777777777777778,
              "#fb9f3a"
             ],
             [
              0.8888888888888888,
              "#fdca26"
             ],
             [
              1,
              "#f0f921"
             ]
            ],
            "type": "heatmap"
           }
          ],
          "heatmapgl": [
           {
            "colorbar": {
             "outlinewidth": 0,
             "ticks": ""
            },
            "colorscale": [
             [
              0,
              "#0d0887"
             ],
             [
              0.1111111111111111,
              "#46039f"
             ],
             [
              0.2222222222222222,
              "#7201a8"
             ],
             [
              0.3333333333333333,
              "#9c179e"
             ],
             [
              0.4444444444444444,
              "#bd3786"
             ],
             [
              0.5555555555555556,
              "#d8576b"
             ],
             [
              0.6666666666666666,
              "#ed7953"
             ],
             [
              0.7777777777777778,
              "#fb9f3a"
             ],
             [
              0.8888888888888888,
              "#fdca26"
             ],
             [
              1,
              "#f0f921"
             ]
            ],
            "type": "heatmapgl"
           }
          ],
          "histogram": [
           {
            "marker": {
             "pattern": {
              "fillmode": "overlay",
              "size": 10,
              "solidity": 0.2
             }
            },
            "type": "histogram"
           }
          ],
          "histogram2d": [
           {
            "colorbar": {
             "outlinewidth": 0,
             "ticks": ""
            },
            "colorscale": [
             [
              0,
              "#0d0887"
             ],
             [
              0.1111111111111111,
              "#46039f"
             ],
             [
              0.2222222222222222,
              "#7201a8"
             ],
             [
              0.3333333333333333,
              "#9c179e"
             ],
             [
              0.4444444444444444,
              "#bd3786"
             ],
             [
              0.5555555555555556,
              "#d8576b"
             ],
             [
              0.6666666666666666,
              "#ed7953"
             ],
             [
              0.7777777777777778,
              "#fb9f3a"
             ],
             [
              0.8888888888888888,
              "#fdca26"
             ],
             [
              1,
              "#f0f921"
             ]
            ],
            "type": "histogram2d"
           }
          ],
          "histogram2dcontour": [
           {
            "colorbar": {
             "outlinewidth": 0,
             "ticks": ""
            },
            "colorscale": [
             [
              0,
              "#0d0887"
             ],
             [
              0.1111111111111111,
              "#46039f"
             ],
             [
              0.2222222222222222,
              "#7201a8"
             ],
             [
              0.3333333333333333,
              "#9c179e"
             ],
             [
              0.4444444444444444,
              "#bd3786"
             ],
             [
              0.5555555555555556,
              "#d8576b"
             ],
             [
              0.6666666666666666,
              "#ed7953"
             ],
             [
              0.7777777777777778,
              "#fb9f3a"
             ],
             [
              0.8888888888888888,
              "#fdca26"
             ],
             [
              1,
              "#f0f921"
             ]
            ],
            "type": "histogram2dcontour"
           }
          ],
          "mesh3d": [
           {
            "colorbar": {
             "outlinewidth": 0,
             "ticks": ""
            },
            "type": "mesh3d"
           }
          ],
          "parcoords": [
           {
            "line": {
             "colorbar": {
              "outlinewidth": 0,
              "ticks": ""
             }
            },
            "type": "parcoords"
           }
          ],
          "pie": [
           {
            "automargin": true,
            "type": "pie"
           }
          ],
          "scatter": [
           {
            "fillpattern": {
             "fillmode": "overlay",
             "size": 10,
             "solidity": 0.2
            },
            "type": "scatter"
           }
          ],
          "scatter3d": [
           {
            "line": {
             "colorbar": {
              "outlinewidth": 0,
              "ticks": ""
             }
            },
            "marker": {
             "colorbar": {
              "outlinewidth": 0,
              "ticks": ""
             }
            },
            "type": "scatter3d"
           }
          ],
          "scattercarpet": [
           {
            "marker": {
             "colorbar": {
              "outlinewidth": 0,
              "ticks": ""
             }
            },
            "type": "scattercarpet"
           }
          ],
          "scattergeo": [
           {
            "marker": {
             "colorbar": {
              "outlinewidth": 0,
              "ticks": ""
             }
            },
            "type": "scattergeo"
           }
          ],
          "scattergl": [
           {
            "marker": {
             "colorbar": {
              "outlinewidth": 0,
              "ticks": ""
             }
            },
            "type": "scattergl"
           }
          ],
          "scattermapbox": [
           {
            "marker": {
             "colorbar": {
              "outlinewidth": 0,
              "ticks": ""
             }
            },
            "type": "scattermapbox"
           }
          ],
          "scatterpolar": [
           {
            "marker": {
             "colorbar": {
              "outlinewidth": 0,
              "ticks": ""
             }
            },
            "type": "scatterpolar"
           }
          ],
          "scatterpolargl": [
           {
            "marker": {
             "colorbar": {
              "outlinewidth": 0,
              "ticks": ""
             }
            },
            "type": "scatterpolargl"
           }
          ],
          "scatterternary": [
           {
            "marker": {
             "colorbar": {
              "outlinewidth": 0,
              "ticks": ""
             }
            },
            "type": "scatterternary"
           }
          ],
          "surface": [
           {
            "colorbar": {
             "outlinewidth": 0,
             "ticks": ""
            },
            "colorscale": [
             [
              0,
              "#0d0887"
             ],
             [
              0.1111111111111111,
              "#46039f"
             ],
             [
              0.2222222222222222,
              "#7201a8"
             ],
             [
              0.3333333333333333,
              "#9c179e"
             ],
             [
              0.4444444444444444,
              "#bd3786"
             ],
             [
              0.5555555555555556,
              "#d8576b"
             ],
             [
              0.6666666666666666,
              "#ed7953"
             ],
             [
              0.7777777777777778,
              "#fb9f3a"
             ],
             [
              0.8888888888888888,
              "#fdca26"
             ],
             [
              1,
              "#f0f921"
             ]
            ],
            "type": "surface"
           }
          ],
          "table": [
           {
            "cells": {
             "fill": {
              "color": "#EBF0F8"
             },
             "line": {
              "color": "white"
             }
            },
            "header": {
             "fill": {
              "color": "#C8D4E3"
             },
             "line": {
              "color": "white"
             }
            },
            "type": "table"
           }
          ]
         },
         "layout": {
          "annotationdefaults": {
           "arrowcolor": "#2a3f5f",
           "arrowhead": 0,
           "arrowwidth": 1
          },
          "autotypenumbers": "strict",
          "coloraxis": {
           "colorbar": {
            "outlinewidth": 0,
            "ticks": ""
           }
          },
          "colorscale": {
           "diverging": [
            [
             0,
             "#8e0152"
            ],
            [
             0.1,
             "#c51b7d"
            ],
            [
             0.2,
             "#de77ae"
            ],
            [
             0.3,
             "#f1b6da"
            ],
            [
             0.4,
             "#fde0ef"
            ],
            [
             0.5,
             "#f7f7f7"
            ],
            [
             0.6,
             "#e6f5d0"
            ],
            [
             0.7,
             "#b8e186"
            ],
            [
             0.8,
             "#7fbc41"
            ],
            [
             0.9,
             "#4d9221"
            ],
            [
             1,
             "#276419"
            ]
           ],
           "sequential": [
            [
             0,
             "#0d0887"
            ],
            [
             0.1111111111111111,
             "#46039f"
            ],
            [
             0.2222222222222222,
             "#7201a8"
            ],
            [
             0.3333333333333333,
             "#9c179e"
            ],
            [
             0.4444444444444444,
             "#bd3786"
            ],
            [
             0.5555555555555556,
             "#d8576b"
            ],
            [
             0.6666666666666666,
             "#ed7953"
            ],
            [
             0.7777777777777778,
             "#fb9f3a"
            ],
            [
             0.8888888888888888,
             "#fdca26"
            ],
            [
             1,
             "#f0f921"
            ]
           ],
           "sequentialminus": [
            [
             0,
             "#0d0887"
            ],
            [
             0.1111111111111111,
             "#46039f"
            ],
            [
             0.2222222222222222,
             "#7201a8"
            ],
            [
             0.3333333333333333,
             "#9c179e"
            ],
            [
             0.4444444444444444,
             "#bd3786"
            ],
            [
             0.5555555555555556,
             "#d8576b"
            ],
            [
             0.6666666666666666,
             "#ed7953"
            ],
            [
             0.7777777777777778,
             "#fb9f3a"
            ],
            [
             0.8888888888888888,
             "#fdca26"
            ],
            [
             1,
             "#f0f921"
            ]
           ]
          },
          "colorway": [
           "#636efa",
           "#EF553B",
           "#00cc96",
           "#ab63fa",
           "#FFA15A",
           "#19d3f3",
           "#FF6692",
           "#B6E880",
           "#FF97FF",
           "#FECB52"
          ],
          "font": {
           "color": "#2a3f5f"
          },
          "geo": {
           "bgcolor": "white",
           "lakecolor": "white",
           "landcolor": "#E5ECF6",
           "showlakes": true,
           "showland": true,
           "subunitcolor": "white"
          },
          "hoverlabel": {
           "align": "left"
          },
          "hovermode": "closest",
          "mapbox": {
           "style": "light"
          },
          "paper_bgcolor": "white",
          "plot_bgcolor": "#E5ECF6",
          "polar": {
           "angularaxis": {
            "gridcolor": "white",
            "linecolor": "white",
            "ticks": ""
           },
           "bgcolor": "#E5ECF6",
           "radialaxis": {
            "gridcolor": "white",
            "linecolor": "white",
            "ticks": ""
           }
          },
          "scene": {
           "xaxis": {
            "backgroundcolor": "#E5ECF6",
            "gridcolor": "white",
            "gridwidth": 2,
            "linecolor": "white",
            "showbackground": true,
            "ticks": "",
            "zerolinecolor": "white"
           },
           "yaxis": {
            "backgroundcolor": "#E5ECF6",
            "gridcolor": "white",
            "gridwidth": 2,
            "linecolor": "white",
            "showbackground": true,
            "ticks": "",
            "zerolinecolor": "white"
           },
           "zaxis": {
            "backgroundcolor": "#E5ECF6",
            "gridcolor": "white",
            "gridwidth": 2,
            "linecolor": "white",
            "showbackground": true,
            "ticks": "",
            "zerolinecolor": "white"
           }
          },
          "shapedefaults": {
           "line": {
            "color": "#2a3f5f"
           }
          },
          "ternary": {
           "aaxis": {
            "gridcolor": "white",
            "linecolor": "white",
            "ticks": ""
           },
           "baxis": {
            "gridcolor": "white",
            "linecolor": "white",
            "ticks": ""
           },
           "bgcolor": "#E5ECF6",
           "caxis": {
            "gridcolor": "white",
            "linecolor": "white",
            "ticks": ""
           }
          },
          "title": {
           "x": 0.05
          },
          "xaxis": {
           "automargin": true,
           "gridcolor": "white",
           "linecolor": "white",
           "ticks": "",
           "title": {
            "standoff": 15
           },
           "zerolinecolor": "white",
           "zerolinewidth": 2
          },
          "yaxis": {
           "automargin": true,
           "gridcolor": "white",
           "linecolor": "white",
           "ticks": "",
           "title": {
            "standoff": 15
           },
           "zerolinecolor": "white",
           "zerolinewidth": 2
          }
         }
        },
        "title": {
         "text": "Ce-Ir Predicted Binary Phase Diagram"
        },
        "width": 960,
        "xaxis": {
         "linecolor": "black",
         "linewidth": 2,
         "mirror": true,
         "range": [
          0,
          100
         ],
         "showline": true,
         "tickcolor": "black",
         "tickformat": ".0f",
         "ticks": "outside",
         "title": {
          "text": "Ir (at. %)"
         }
        },
        "yaxis": {
         "linecolor": "black",
         "linewidth": 2,
         "mirror": true,
         "range": [
          420.17674509456094,
          2800
         ],
         "showline": true,
         "tickcolor": "black",
         "ticks": "outside",
         "ticksuffix": " ",
         "title": {
          "text": "T (°C)"
         }
        }
       }
      },
      "image/png": "[encoded data removed]"
     },
     "metadata": {},
     "output_type": "display_data"
    }
   ],
   "source": [
    "known_points = [[0.08, 661], [0.32, 1100]]\n",
    "\n",
    "ce_ir_system.update_params(parameter_guesses)\n",
    "adjust_L0a_from_known_point(ce_ir_system, known_points[0])\n",
    "\n",
    "fig = blp.get_plot('pred+liq')\n",
    "fig.add_trace(go.Scatter(\n",
    "    x=[known_points[0][0]*100], y=[known_points[0][1]],\n",
    "    mode='markers',\n",
    "    marker=dict(color='#9D3CFF', size=20, symbol='star'),\n",
    "    text='known point #1',\n",
    "    showlegend=False,\n",
    "))\n",
    "fig.show()\n",
    "\n",
    "ce_ir_system.update_params(parameter_guesses)\n",
    "adjust_L0a_from_known_point(ce_ir_system, known_points[1])\n",
    "\n",
    "fig = blp.get_plot('pred+liq')\n",
    "fig.add_trace(go.Scatter(\n",
    "    x=[known_points[1][0]*100], y=[known_points[1][1]],\n",
    "    mode='markers',\n",
    "    marker=dict(color='#9D3CFF', size=20, symbol='star'),\n",
    "    text='known point #2',\n",
    "    showlegend=False\n",
    "))\n",
    "fig.show()"
   ]
  },
  {
   "cell_type": "code",
   "execution_count": 2,
   "metadata": {},
   "outputs": [],
   "source": [
    "def adjust_liquidus_from_known_points(bl: BinaryLiquid, known_points: list):\n",
    "    # Get present MAE and parameters\n",
    "    original_liq = [p for p in bl.digitized_liq]\n",
    "    mae, _ = bl.calculate_deviation_metrics()\n",
    "    print(f\"Current complete liquidus MAE: {int(mae)}K\")\n",
    "    print(f\"Current parameters: {bl._params}\")\n",
    "\n",
    "    bl.digitized_liq = [[p[0], p[1] + 273.15] for p in known_points]\n",
    "    mae, _ = bl.calculate_deviation_metrics()\n",
    "    print(f\"Known points (Kelvin): {bl.digitized_liq}\")\n",
    "    print(f\"Liquidus MAE from known points: {int(mae)}K\")\n",
    "\n",
    "    a, c = sp.symbols('a c')\n",
    "    bl.guess_symbols = (a, c)\n",
    "    l0_a_itl = bl.get_L0_a()\n",
    "    l1_a_itl = bl.get_L1_a()\n",
    "\n",
    "    initial_guesses = [[l0_a_itl * 0.9, l1_a_itl * 0.9],\n",
    "                       [l0_a_itl * 1.1, l1_a_itl * 0.9],\n",
    "                       [l0_a_itl * 0.9, l1_a_itl * 1.1]]\n",
    "    mae, _, _ = bl.nelder_mead(tol=1, initial_guesses=initial_guesses, verbose=False)\n",
    "    print(f\"Liquidus MAE from known points: {int(mae)}K\")\n",
    "    bl.digitized_liq = original_liq\n",
    "    mae, _ = bl.calculate_deviation_metrics()\n",
    "    print(f\"Adjusted complete liquidus MAE: {int(mae)}K\")\n",
    "    print(f\"Adjusted parameters: {bl._params}\")"
   ]
  },
  {
   "cell_type": "code",
   "execution_count": 8,
   "metadata": {},
   "outputs": [
    {
     "name": "stdout",
     "output_type": "stream",
     "text": [
      "Current complete liquidus MAE: 567K\n",
      "Current parameters: [-175000, -20, 23000, -12]\n",
      "Known points (Kelvin): [[0.08, 934.15], [0.32, 1373.15]]\n",
      "Liquidus MAE from known points: 505K\n",
      "--- Beginning Nelder-Mead optimization ---\n",
      "--- Nelder-Mead converged in 32.43948984146118 seconds ---\n",
      "Mean temperature deviation per point between liquidus curves = 6.737362201842838 \n",
      "\n",
      "Liquidus MAE from known points: 6K\n",
      "Adjusted complete liquidus MAE: 215K\n",
      "Adjusted parameters: [-250768.45220453065, -20, 99848.73328456434, -12]\n"
     ]
    },
    {
     "data": {
      "application/vnd.plotly.v1+json": {
       "config": {
        "plotlyServerURL": "https://plot.ly"
       },
       "data": [
        {
         "line": {
          "color": "#B82E2E",
          "dash": "dash",
          "width": 4
         },
         "mode": "lines",
         "showlegend": false,
         "type": "scatter",
         "x": [
          0,
          0.530217,
          1.0575,
          1.58129,
          2.10103,
          2.61617,
          3.12613,
          3.63037,
          4.12832,
          4.61942,
          5.10313,
          5.57887,
          6.04609,
          6.50424,
          6.95274,
          7.391050000000001,
          7.81861,
          8.23485,
          8.72499,
          9.21988,
          9.71952,
          10.2239,
          10.733,
          11.2469,
          11.7656,
          12.2889,
          12.8171,
          13.350000000000001,
          13.887599999999999,
          14.429999999999998,
          14.977099999999998,
          15.529000000000002,
          16.0856,
          16.647,
          17.2131,
          17.5129,
          17.8201,
          18.1347,
          18.4566,
          18.7858,
          19.1221,
          19.4655,
          19.816,
          20.1734,
          20.5377,
          20.9088,
          21.2867,
          21.6712,
          22.0624,
          22.4601,
          22.8643,
          23.2749,
          23.6744,
          24.0922,
          24.5272,
          24.9788,
          25.445899999999998,
          25.927900000000005,
          26.4239,
          26.9329,
          27.454299999999996,
          27.987100000000005,
          28.5306,
          29.0838,
          29.646,
          30.216199999999997,
          30.7937,
          31.377700000000004,
          31.967199999999995,
          32.6463,
          33.3312,
          34.0218,
          34.718,
          35.4197,
          36.1267,
          36.839,
          37.5564,
          38.2788,
          39.0061,
          39.7381,
          40.4748,
          41.2161,
          41.9618,
          42.7118,
          43.4659,
          44.2242,
          45.2385,
          46.2843,
          47.3627,
          48.4753,
          49.6232,
          50.8078,
          52.0305,
          53.2925,
          54.5952,
          55.94,
          57.328100000000006,
          58.76090000000001,
          60.2396,
          61.7657,
          63.3405,
          64.9652,
          66.6413,
          67.2036,
          67.7862,
          68.3875,
          69.0062,
          69.6407,
          70.2895,
          70.9511,
          71.6241,
          72.3069,
          72.9981,
          73.6961,
          74.3995,
          75.1068,
          75.8165,
          76.5271,
          77.2371,
          77.9451,
          78.2034,
          78.4534,
          78.6955,
          78.9296,
          79.156,
          79.3748,
          79.5862,
          79.7902,
          79.9869,
          80.1767,
          80.3595,
          80.5356,
          80.705,
          80.8679,
          81.0245,
          81.1748,
          81.3191,
          81.4082,
          81.4939,
          81.5764,
          81.6559,
          81.7326,
          81.8066,
          81.8783,
          81.9476,
          82.0149,
          82.0803,
          82.144,
          82.2062,
          82.2671,
          82.3268,
          82.3855,
          82.4435,
          82.501,
          82.5453,
          82.5906,
          82.6369,
          82.6839,
          82.7315,
          82.7797,
          82.8282,
          82.8769,
          82.9256,
          82.9743,
          83.0228,
          83.071,
          83.1186,
          83.1657,
          83.2119,
          83.2573,
          83.3016,
          83.4456,
          83.6013,
          83.7675,
          83.9431,
          84.1272,
          84.3185,
          84.5161,
          84.7188,
          84.9256,
          85.1355,
          85.3473,
          85.56,
          85.7725,
          85.9838,
          86.1927,
          86.3983,
          86.5993,
          86.922,
          87.3164,
          87.7798,
          88.3095,
          88.9027,
          89.5569,
          90.2693,
          91.0372,
          91.8579,
          92.7286,
          93.6468,
          94.6097,
          95.6146,
          96.6587,
          97.7395,
          98.8541,
          100
         ],
         "y": [
          798.1749999999998,
          791.0690000000001,
          783.868,
          776.551,
          769.0980000000001,
          761.486,
          753.696,
          745.706,
          737.495,
          729.041,
          720.325,
          711.325,
          702.019,
          692.387,
          682.408,
          672.061,
          661.324,
          650.177,
          656.225,
          662.191,
          668.059,
          673.809,
          679.425,
          684.887,
          690.179,
          695.282,
          700.178,
          704.85,
          709.279,
          713.447,
          717.337,
          720.93,
          724.209,
          727.156,
          729.752,
          744.117,
          758.243,
          772.14,
          785.822,
          799.301,
          812.59,
          825.6999999999999,
          838.6439999999999,
          851.4350000000001,
          864.0850000000002,
          876.6059999999999,
          889.0110000000001,
          901.311,
          913.5200000000001,
          925.65,
          937.7129999999999,
          949.7210000000001,
          964.102,
          977.42,
          989.7500000000001,
          1001.16,
          1011.7300000000001,
          1021.5400000000001,
          1030.65,
          1039.1399999999999,
          1047.08,
          1054.54,
          1061.6099999999997,
          1068.35,
          1074.8399999999997,
          1081.15,
          1087.3599999999997,
          1093.5299999999997,
          1099.75,
          1108.5299999999997,
          1116.6599999999999,
          1124.17,
          1131.08,
          1137.42,
          1143.2199999999998,
          1148.5099999999998,
          1153.33,
          1157.69,
          1161.63,
          1165.17,
          1168.3599999999997,
          1171.1999999999998,
          1173.75,
          1176.0099999999998,
          1178.0299999999997,
          1179.83,
          1277.9699999999998,
          1374.54,
          1468.98,
          1560.6999999999998,
          1649.1599999999999,
          1733.79,
          1814.02,
          1889.29,
          1959.0299999999997,
          2022.6799999999998,
          2079.68,
          2129.45,
          2171.45,
          2205.09,
          2229.82,
          2245.07,
          2250.28,
          2249.77,
          2248.25,
          2245.72,
          2242.19,
          2237.67,
          2232.17,
          2225.7,
          2218.25,
          2209.84,
          2200.48,
          2190.17,
          2178.93,
          2166.75,
          2153.65,
          2139.63,
          2124.7,
          2108.87,
          2103.07,
          2097.3,
          2091.54,
          2085.77,
          2079.97,
          2074.12,
          2068.21,
          2062.23,
          2056.14,
          2049.95,
          2043.62,
          2037.1399999999999,
          2030.5,
          2023.6799999999998,
          2016.65,
          2009.4099999999999,
          2001.9299999999998,
          1997.87,
          1993.7599999999998,
          1989.5899999999997,
          1985.35,
          1981.0299999999997,
          1976.63,
          1972.1399999999999,
          1967.5699999999997,
          1962.8899999999999,
          1958.12,
          1953.23,
          1948.23,
          1943.12,
          1937.87,
          1932.5,
          1926.9899999999998,
          1921.3399999999997,
          1926.0499999999997,
          1930.5099999999998,
          1934.7199999999998,
          1938.67,
          1942.3599999999997,
          1945.7799999999997,
          1948.9299999999998,
          1951.81,
          1954.4,
          1956.71,
          1958.73,
          1960.4499999999998,
          1961.8599999999997,
          1962.9699999999998,
          1963.77,
          1964.2599999999998,
          1964.42,
          1964.0299999999997,
          1962.8899999999999,
          1961.0299999999997,
          1958.4899999999998,
          1955.2999999999997,
          1951.5099999999998,
          1947.1399999999999,
          1942.23,
          1936.8199999999997,
          1930.94,
          1924.6399999999999,
          1917.94,
          1910.88,
          1903.5,
          1895.83,
          1887.9099999999999,
          1879.7799999999997,
          1911.71,
          1943.83,
          1976.15,
          2008.67,
          2041.4,
          2074.36,
          2107.55,
          2140.97,
          2174.65,
          2208.58,
          2242.78,
          2277.25,
          2312.01,
          2347.05,
          2382.4,
          2418.06,
          2454.03
         ]
        },
        {
         "hovertemplate": "label=Ce7Ir3<br>x=%{x}<br>t=%{y}<extra></extra>",
         "legendgroup": "Ce7Ir3",
         "line": {
          "color": "rgb(246, 207, 113)",
          "dash": "solid",
          "width": 4
         },
         "marker": {
          "symbol": "circle"
         },
         "mode": "lines",
         "name": "Ce7Ir3",
         "orientation": "v",
         "showlegend": false,
         "type": "scatter",
         "x": [
          30,
          30,
          30,
          30,
          30,
          30,
          30,
          30,
          30,
          30,
          30,
          30,
          30,
          30,
          30,
          30,
          30,
          30,
          30,
          30
         ],
         "xaxis": "x",
         "y": [
          908.8373540239444,
          661.5426909582285,
          678.7169004773124,
          894.4730104111385,
          846.0568735578919,
          735.9099283039943,
          792.2478816811416,
          934.1296212989408,
          922.0993944713172,
          944.7998384447345,
          949.8390589231016,
          862.9552813401959,
          879.1360869234953,
          810.5906150677403,
          828.5631519071065,
          697.85792079176,
          716.9137462914341,
          754.8313892802199,
          773.6332003794149,
          -273.15
         ],
         "yaxis": "y"
        },
        {
         "hovertemplate": "label=Ce5Ir4<br>x=%{x}<br>t=%{y}<extra></extra>",
         "legendgroup": "Ce5Ir4",
         "line": {
          "color": "rgb(248, 156, 116)",
          "dash": "solid",
          "width": 4
         },
         "marker": {
          "symbol": "circle"
         },
         "mode": "lines",
         "name": "Ce5Ir4",
         "orientation": "v",
         "showlegend": false,
         "type": "scatter",
         "x": [
          44,
          44,
          44,
          44,
          44,
          44,
          44,
          44,
          44,
          44,
          44,
          44,
          44,
          44,
          44,
          44,
          44,
          44,
          44,
          44,
          44,
          44,
          44,
          44,
          44,
          44,
          44
         ],
         "xaxis": "x",
         "y": [
          1048.0952362919984,
          1272.5618250007838,
          1272.7626831588382,
          1292.5789188138983,
          1284.1527635507837,
          1214.7778836115835,
          1020.2612636922926,
          991.8578816720907,
          949.8390589231016,
          963.0285738600973,
          1194.9914975662346,
          1173.627221209234,
          1126.7250223070173,
          1150.8243832743929,
          1101.4732555802398,
          1075.2145980190485,
          1298.2057521070196,
          1300.840669308055,
          1298.1150851941256,
          1300.8406693080547,
          1249.0766200245303,
          1232.8503369907735,
          1263.328756834901,
          1275.4834273176557,
          1293.0322820607344,
          1285.4222969136035,
          -273.15
         ],
         "yaxis": "y"
        },
        {
         "hovertemplate": "label=CeIr2<br>x=%{x}<br>t=%{y}<extra></extra>",
         "legendgroup": "CeIr2",
         "line": {
          "color": "rgb(220, 176, 242)",
          "dash": "solid",
          "width": 4
         },
         "marker": {
          "symbol": "circle"
         },
         "mode": "lines",
         "name": "CeIr2",
         "orientation": "v",
         "showlegend": false,
         "type": "scatter",
         "x": [
          67,
          67,
          67,
          67,
          67,
          67,
          67,
          67,
          67,
          67,
          67,
          67,
          67,
          67,
          67,
          67,
          67,
          67,
          67,
          67,
          67,
          67,
          67,
          67,
          67,
          67,
          67,
          67,
          67,
          67,
          67,
          67
         ],
         "xaxis": "x",
         "y": [
          1563.0869428374126,
          1582.6573223020232,
          1620.8015251158672,
          1792.457973130333,
          1626.1410097105227,
          1728.748285361586,
          1791.085587361118,
          1370.2454346166237,
          1417.0758796352197,
          1505.1531328223668,
          1462.1021436265737,
          1546.0614626800802,
          1584.6638626909275,
          1759.3047704534856,
          1777.598441766654,
          1654.320396355799,
          1685.0714104914082,
          1737.6995420802396,
          1712.910665331748,
          1699.1181354705705,
          1664.9389601701823,
          1774.6548686711412,
          1753.902006695006,
          1803.7660264859578,
          1811.4103867486692,
          1815.2838038340878,
          1815.2838038340878,
          1811.3124750919292,
          1803.2762354329425,
          1321.785152820832,
          1272.5618250007838,
          -273.15
         ],
         "yaxis": "y"
        },
        {
         "hovertemplate": "label=CeIr3<br>x=%{x}<br>t=%{y}<extra></extra>",
         "legendgroup": "CeIr3",
         "line": {
          "color": "rgb(135, 197, 95)",
          "dash": "solid",
          "width": 4
         },
         "marker": {
          "symbol": "circle"
         },
         "mode": "lines",
         "name": "CeIr3",
         "orientation": "v",
         "showlegend": false,
         "type": "scatter",
         "x": [
          75,
          75,
          75,
          75,
          75,
          75,
          75,
          75
         ],
         "xaxis": "x",
         "y": [
          1563.0869428374126,
          1417.9237159251502,
          1512.6317458338585,
          1450.2816083104544,
          1484.021443390176,
          1554.8640385875765,
          1536.2120951577685,
          -273.15
         ],
         "yaxis": "y"
        },
        {
         "hovertemplate": "x=%{x}<br>y=%{y}<extra></extra>",
         "legendgroup": "",
         "line": {
          "color": "Silver",
          "dash": "solid",
          "width": 4
         },
         "marker": {
          "symbol": "circle"
         },
         "mode": "lines",
         "name": "",
         "orientation": "v",
         "showlegend": false,
         "type": "scatter",
         "x": [
          75,
          83,
          100
         ],
         "xaxis": "x",
         "y": [
          1417.9237159251502,
          1417.9237159251502,
          1417.9237159251502
         ],
         "yaxis": "y"
        },
        {
         "hovertemplate": "x=%{x}<br>y=%{y}<extra></extra>",
         "legendgroup": "",
         "line": {
          "color": "Silver",
          "dash": "solid",
          "width": 4
         },
         "marker": {
          "symbol": "circle"
         },
         "mode": "lines",
         "name": "",
         "orientation": "v",
         "showlegend": false,
         "type": "scatter",
         "x": [
          0,
          8,
          30
         ],
         "xaxis": "x",
         "y": [
          661.5426909582285,
          661.5426909582285,
          661.5426909582285
         ],
         "yaxis": "y"
        },
        {
         "hovertemplate": "x=%{x}<br>y=%{y}<extra></extra>",
         "legendgroup": "",
         "line": {
          "color": "Silver",
          "dash": "solid",
          "width": 4
         },
         "marker": {
          "symbol": "circle"
         },
         "mode": "lines",
         "name": "",
         "orientation": "v",
         "showlegend": false,
         "type": "scatter",
         "x": [
          44,
          49,
          67
         ],
         "xaxis": "x",
         "y": [
          1272.5618250007838,
          1272.5618250007838,
          1272.5618250007838
         ],
         "yaxis": "y"
        },
        {
         "hovertemplate": "x=%{x}<br>y=%{y}<extra></extra>",
         "legendgroup": "",
         "line": {
          "color": "Silver",
          "dash": "solid",
          "width": 4
         },
         "marker": {
          "symbol": "circle"
         },
         "mode": "lines",
         "name": "",
         "orientation": "v",
         "showlegend": false,
         "type": "scatter",
         "x": [
          67,
          75,
          78
         ],
         "xaxis": "x",
         "y": [
          1563.0869428374126,
          1563.0869428374126,
          1563.0869428374126
         ],
         "yaxis": "y"
        },
        {
         "hovertemplate": "x=%{x}<br>y=%{y}<extra></extra>",
         "legendgroup": "",
         "line": {
          "color": "Silver",
          "dash": "solid",
          "width": 4
         },
         "marker": {
          "symbol": "circle"
         },
         "mode": "lines",
         "name": "",
         "orientation": "v",
         "showlegend": false,
         "type": "scatter",
         "x": [
          25,
          30,
          44
         ],
         "xaxis": "x",
         "y": [
          949.8390589231016,
          949.8390589231016,
          949.8390589231016
         ],
         "yaxis": "y"
        },
        {
         "hovertemplate": "label=L<br>x=%{x}<br>t=%{y}<extra></extra>",
         "legendgroup": "L",
         "line": {
          "color": "#117733",
          "dash": "solid",
          "width": 4
         },
         "marker": {
          "symbol": "circle"
         },
         "mode": "lines",
         "name": "L",
         "orientation": "v",
         "showlegend": false,
         "type": "scatter",
         "x": [
          0,
          0,
          1,
          2,
          3,
          4,
          5,
          6,
          7.000000000000001,
          8,
          9,
          10,
          11,
          12,
          13,
          14.000000000000002,
          15,
          16,
          17,
          18,
          19,
          20,
          21,
          22,
          23,
          24,
          25,
          26,
          27,
          28.000000000000004,
          28.999999999999996,
          30,
          31,
          32,
          33,
          34,
          35,
          36,
          37,
          38,
          39,
          40,
          41,
          42,
          43,
          44,
          45,
          46,
          47,
          48,
          49,
          50,
          51,
          52,
          53,
          54,
          55.00000000000001,
          56.00000000000001,
          57.00000000000001,
          57.99999999999999,
          59,
          60,
          61,
          62,
          63,
          64,
          65,
          66,
          67,
          68,
          69,
          70,
          71,
          72,
          73,
          74,
          75,
          76,
          77,
          78,
          79,
          80,
          81,
          82,
          83,
          84,
          85,
          86,
          87,
          88,
          89,
          90,
          91,
          92,
          93,
          94,
          95,
          96,
          97,
          98,
          99,
          100,
          100
         ],
         "xaxis": "x",
         "y": [
          798.1749999999998,
          798.1749999999998,
          776.5896209161582,
          759.7751396958841,
          742.6731722152077,
          724.7922437171543,
          705.8729936180715,
          685.7249501568294,
          664.1953468437697,
          661.5426909582285,
          678.7169004773124,
          697.85792079176,
          716.9137462914341,
          735.9099283039943,
          754.8313892802199,
          773.6332003794149,
          792.2478816811416,
          810.5906150677403,
          828.5631519071065,
          846.0568735578919,
          862.9552813401959,
          879.1360869234953,
          894.4730104111385,
          908.8373540239444,
          922.0993944713172,
          934.1296212989408,
          944.7998384447345,
          963.0285738600973,
          991.8578816720907,
          1020.2612636922926,
          1048.0952362919984,
          1075.2145980190485,
          1101.4732555802398,
          1126.7250223070173,
          1150.8243832743929,
          1173.627221209234,
          1194.9914975662346,
          1214.7778836115835,
          1232.8503369907735,
          1249.0766200245303,
          1263.328756834901,
          1275.4834273176557,
          1285.4222969136035,
          1293.0322820607344,
          1298.2057521070196,
          1300.8406693080547,
          1298.1150851941256,
          1292.5789188138983,
          1284.1527635507837,
          1272.7626831588382,
          1272.5618250007838,
          1321.785152820832,
          1370.2454346166237,
          1417.0758796352197,
          1462.1021436265737,
          1505.1531328223668,
          1546.0614626800802,
          1584.6638626909275,
          1620.8015251158672,
          1654.320396355799,
          1685.0714104914082,
          1712.910665331748,
          1737.6995420802396,
          1759.3047704534856,
          1777.598441766654,
          1792.457973130333,
          1803.7660264859578,
          1811.4103867486692,
          1815.2838038340878,
          1811.3124750919292,
          1803.2762354329425,
          1791.085587361118,
          1774.6548686711412,
          1753.902006695006,
          1728.748285361586,
          1699.1181354705705,
          1664.9389601701823,
          1626.1410097105227,
          1582.6573223020232,
          1554.8640385875765,
          1536.2120951577685,
          1512.6317458338585,
          1484.021443390176,
          1450.2816083104544,
          1417.9237159251502,
          1435.297832000365,
          1533.5650788959701,
          1628.0714793871311,
          1718.6072107758168,
          1804.9685773271758,
          1886.9576316252965,
          1964.3817228832718,
          2037.0529915514167,
          2104.787846059246,
          2167.4064941730962,
          2224.732689756884,
          2276.5940909487613,
          2322.8243396447756,
          2363.270563409044,
          2397.82226809132,
          2426.569715460424,
          2454.0300000000007,
          2454.0300000000007
         ],
         "yaxis": "y"
        },
        {
         "line": {
          "color": "#B82E2E",
          "dash": "dash"
         },
         "mode": "lines",
         "name": "Digitized Liquidus",
         "showlegend": true,
         "type": "scatter",
         "x": [
          null
         ],
         "y": [
          null
         ]
        },
        {
         "marker": {
          "color": "#117733"
         },
         "mode": "lines",
         "name": "Predicted Liquidus",
         "showlegend": true,
         "type": "scatter",
         "x": [
          null
         ],
         "y": [
          null
         ]
        },
        {
         "marker": {
          "color": "#9D3CFF",
          "size": 20,
          "symbol": "star"
         },
         "mode": "markers",
         "showlegend": false,
         "text": "known point #1",
         "type": "scatter",
         "x": [
          8
         ],
         "y": [
          661
         ]
        },
        {
         "marker": {
          "color": "#9D3CFF",
          "size": 20,
          "symbol": "star"
         },
         "mode": "markers",
         "showlegend": false,
         "text": "known point #2",
         "type": "scatter",
         "x": [
          32
         ],
         "y": [
          1100
         ]
        }
       ],
       "layout": {
        "annotations": [
         {
          "borderpad": 5,
          "font": {
           "color": "black",
           "size": 18
          },
          "showarrow": false,
          "text": "Ce7Ir3",
          "textangle": -90,
          "x": 27.5,
          "y": 600,
          "yanchor": "bottom"
         },
         {
          "borderpad": 5,
          "font": {
           "color": "black",
           "size": 18
          },
          "showarrow": false,
          "text": "Ce5Ir4",
          "textangle": -90,
          "x": 41.5,
          "y": 600,
          "yanchor": "bottom"
         },
         {
          "borderpad": 5,
          "font": {
           "color": "black",
           "size": 18
          },
          "showarrow": false,
          "text": "CeIr2",
          "textangle": -90,
          "x": 64.5,
          "y": 600,
          "yanchor": "bottom"
         },
         {
          "borderpad": 5,
          "font": {
           "color": "black",
           "size": 18
          },
          "showarrow": false,
          "text": "CeIr3",
          "textangle": -90,
          "x": 72.5,
          "y": 600,
          "yanchor": "bottom"
         },
         {
          "font": {
           "color": "black",
           "size": 18
          },
          "showarrow": false,
          "text": "L",
          "x": 50,
          "y": 2640
         }
        ],
        "font": {
         "size": 22
        },
        "height": 700,
        "legend": {
         "font": {
          "size": 18
         },
         "x": 0.01,
         "xanchor": "left",
         "y": 0.99,
         "yanchor": "top"
        },
        "plot_bgcolor": "white",
        "showlegend": true,
        "template": {
         "data": {
          "bar": [
           {
            "error_x": {
             "color": "#2a3f5f"
            },
            "error_y": {
             "color": "#2a3f5f"
            },
            "marker": {
             "line": {
              "color": "#E5ECF6",
              "width": 0.5
             },
             "pattern": {
              "fillmode": "overlay",
              "size": 10,
              "solidity": 0.2
             }
            },
            "type": "bar"
           }
          ],
          "barpolar": [
           {
            "marker": {
             "line": {
              "color": "#E5ECF6",
              "width": 0.5
             },
             "pattern": {
              "fillmode": "overlay",
              "size": 10,
              "solidity": 0.2
             }
            },
            "type": "barpolar"
           }
          ],
          "carpet": [
           {
            "aaxis": {
             "endlinecolor": "#2a3f5f",
             "gridcolor": "white",
             "linecolor": "white",
             "minorgridcolor": "white",
             "startlinecolor": "#2a3f5f"
            },
            "baxis": {
             "endlinecolor": "#2a3f5f",
             "gridcolor": "white",
             "linecolor": "white",
             "minorgridcolor": "white",
             "startlinecolor": "#2a3f5f"
            },
            "type": "carpet"
           }
          ],
          "choropleth": [
           {
            "colorbar": {
             "outlinewidth": 0,
             "ticks": ""
            },
            "type": "choropleth"
           }
          ],
          "contour": [
           {
            "colorbar": {
             "outlinewidth": 0,
             "ticks": ""
            },
            "colorscale": [
             [
              0,
              "#0d0887"
             ],
             [
              0.1111111111111111,
              "#46039f"
             ],
             [
              0.2222222222222222,
              "#7201a8"
             ],
             [
              0.3333333333333333,
              "#9c179e"
             ],
             [
              0.4444444444444444,
              "#bd3786"
             ],
             [
              0.5555555555555556,
              "#d8576b"
             ],
             [
              0.6666666666666666,
              "#ed7953"
             ],
             [
              0.7777777777777778,
              "#fb9f3a"
             ],
             [
              0.8888888888888888,
              "#fdca26"
             ],
             [
              1,
              "#f0f921"
             ]
            ],
            "type": "contour"
           }
          ],
          "contourcarpet": [
           {
            "colorbar": {
             "outlinewidth": 0,
             "ticks": ""
            },
            "type": "contourcarpet"
           }
          ],
          "heatmap": [
           {
            "colorbar": {
             "outlinewidth": 0,
             "ticks": ""
            },
            "colorscale": [
             [
              0,
              "#0d0887"
             ],
             [
              0.1111111111111111,
              "#46039f"
             ],
             [
              0.2222222222222222,
              "#7201a8"
             ],
             [
              0.3333333333333333,
              "#9c179e"
             ],
             [
              0.4444444444444444,
              "#bd3786"
             ],
             [
              0.5555555555555556,
              "#d8576b"
             ],
             [
              0.6666666666666666,
              "#ed7953"
             ],
             [
              0.7777777777777778,
              "#fb9f3a"
             ],
             [
              0.8888888888888888,
              "#fdca26"
             ],
             [
              1,
              "#f0f921"
             ]
            ],
            "type": "heatmap"
           }
          ],
          "heatmapgl": [
           {
            "colorbar": {
             "outlinewidth": 0,
             "ticks": ""
            },
            "colorscale": [
             [
              0,
              "#0d0887"
             ],
             [
              0.1111111111111111,
              "#46039f"
             ],
             [
              0.2222222222222222,
              "#7201a8"
             ],
             [
              0.3333333333333333,
              "#9c179e"
             ],
             [
              0.4444444444444444,
              "#bd3786"
             ],
             [
              0.5555555555555556,
              "#d8576b"
             ],
             [
              0.6666666666666666,
              "#ed7953"
             ],
             [
              0.7777777777777778,
              "#fb9f3a"
             ],
             [
              0.8888888888888888,
              "#fdca26"
             ],
             [
              1,
              "#f0f921"
             ]
            ],
            "type": "heatmapgl"
           }
          ],
          "histogram": [
           {
            "marker": {
             "pattern": {
              "fillmode": "overlay",
              "size": 10,
              "solidity": 0.2
             }
            },
            "type": "histogram"
           }
          ],
          "histogram2d": [
           {
            "colorbar": {
             "outlinewidth": 0,
             "ticks": ""
            },
            "colorscale": [
             [
              0,
              "#0d0887"
             ],
             [
              0.1111111111111111,
              "#46039f"
             ],
             [
              0.2222222222222222,
              "#7201a8"
             ],
             [
              0.3333333333333333,
              "#9c179e"
             ],
             [
              0.4444444444444444,
              "#bd3786"
             ],
             [
              0.5555555555555556,
              "#d8576b"
             ],
             [
              0.6666666666666666,
              "#ed7953"
             ],
             [
              0.7777777777777778,
              "#fb9f3a"
             ],
             [
              0.8888888888888888,
              "#fdca26"
             ],
             [
              1,
              "#f0f921"
             ]
            ],
            "type": "histogram2d"
           }
          ],
          "histogram2dcontour": [
           {
            "colorbar": {
             "outlinewidth": 0,
             "ticks": ""
            },
            "colorscale": [
             [
              0,
              "#0d0887"
             ],
             [
              0.1111111111111111,
              "#46039f"
             ],
             [
              0.2222222222222222,
              "#7201a8"
             ],
             [
              0.3333333333333333,
              "#9c179e"
             ],
             [
              0.4444444444444444,
              "#bd3786"
             ],
             [
              0.5555555555555556,
              "#d8576b"
             ],
             [
              0.6666666666666666,
              "#ed7953"
             ],
             [
              0.7777777777777778,
              "#fb9f3a"
             ],
             [
              0.8888888888888888,
              "#fdca26"
             ],
             [
              1,
              "#f0f921"
             ]
            ],
            "type": "histogram2dcontour"
           }
          ],
          "mesh3d": [
           {
            "colorbar": {
             "outlinewidth": 0,
             "ticks": ""
            },
            "type": "mesh3d"
           }
          ],
          "parcoords": [
           {
            "line": {
             "colorbar": {
              "outlinewidth": 0,
              "ticks": ""
             }
            },
            "type": "parcoords"
           }
          ],
          "pie": [
           {
            "automargin": true,
            "type": "pie"
           }
          ],
          "scatter": [
           {
            "fillpattern": {
             "fillmode": "overlay",
             "size": 10,
             "solidity": 0.2
            },
            "type": "scatter"
           }
          ],
          "scatter3d": [
           {
            "line": {
             "colorbar": {
              "outlinewidth": 0,
              "ticks": ""
             }
            },
            "marker": {
             "colorbar": {
              "outlinewidth": 0,
              "ticks": ""
             }
            },
            "type": "scatter3d"
           }
          ],
          "scattercarpet": [
           {
            "marker": {
             "colorbar": {
              "outlinewidth": 0,
              "ticks": ""
             }
            },
            "type": "scattercarpet"
           }
          ],
          "scattergeo": [
           {
            "marker": {
             "colorbar": {
              "outlinewidth": 0,
              "ticks": ""
             }
            },
            "type": "scattergeo"
           }
          ],
          "scattergl": [
           {
            "marker": {
             "colorbar": {
              "outlinewidth": 0,
              "ticks": ""
             }
            },
            "type": "scattergl"
           }
          ],
          "scattermapbox": [
           {
            "marker": {
             "colorbar": {
              "outlinewidth": 0,
              "ticks": ""
             }
            },
            "type": "scattermapbox"
           }
          ],
          "scatterpolar": [
           {
            "marker": {
             "colorbar": {
              "outlinewidth": 0,
              "ticks": ""
             }
            },
            "type": "scatterpolar"
           }
          ],
          "scatterpolargl": [
           {
            "marker": {
             "colorbar": {
              "outlinewidth": 0,
              "ticks": ""
             }
            },
            "type": "scatterpolargl"
           }
          ],
          "scatterternary": [
           {
            "marker": {
             "colorbar": {
              "outlinewidth": 0,
              "ticks": ""
             }
            },
            "type": "scatterternary"
           }
          ],
          "surface": [
           {
            "colorbar": {
             "outlinewidth": 0,
             "ticks": ""
            },
            "colorscale": [
             [
              0,
              "#0d0887"
             ],
             [
              0.1111111111111111,
              "#46039f"
             ],
             [
              0.2222222222222222,
              "#7201a8"
             ],
             [
              0.3333333333333333,
              "#9c179e"
             ],
             [
              0.4444444444444444,
              "#bd3786"
             ],
             [
              0.5555555555555556,
              "#d8576b"
             ],
             [
              0.6666666666666666,
              "#ed7953"
             ],
             [
              0.7777777777777778,
              "#fb9f3a"
             ],
             [
              0.8888888888888888,
              "#fdca26"
             ],
             [
              1,
              "#f0f921"
             ]
            ],
            "type": "surface"
           }
          ],
          "table": [
           {
            "cells": {
             "fill": {
              "color": "#EBF0F8"
             },
             "line": {
              "color": "white"
             }
            },
            "header": {
             "fill": {
              "color": "#C8D4E3"
             },
             "line": {
              "color": "white"
             }
            },
            "type": "table"
           }
          ]
         },
         "layout": {
          "annotationdefaults": {
           "arrowcolor": "#2a3f5f",
           "arrowhead": 0,
           "arrowwidth": 1
          },
          "autotypenumbers": "strict",
          "coloraxis": {
           "colorbar": {
            "outlinewidth": 0,
            "ticks": ""
           }
          },
          "colorscale": {
           "diverging": [
            [
             0,
             "#8e0152"
            ],
            [
             0.1,
             "#c51b7d"
            ],
            [
             0.2,
             "#de77ae"
            ],
            [
             0.3,
             "#f1b6da"
            ],
            [
             0.4,
             "#fde0ef"
            ],
            [
             0.5,
             "#f7f7f7"
            ],
            [
             0.6,
             "#e6f5d0"
            ],
            [
             0.7,
             "#b8e186"
            ],
            [
             0.8,
             "#7fbc41"
            ],
            [
             0.9,
             "#4d9221"
            ],
            [
             1,
             "#276419"
            ]
           ],
           "sequential": [
            [
             0,
             "#0d0887"
            ],
            [
             0.1111111111111111,
             "#46039f"
            ],
            [
             0.2222222222222222,
             "#7201a8"
            ],
            [
             0.3333333333333333,
             "#9c179e"
            ],
            [
             0.4444444444444444,
             "#bd3786"
            ],
            [
             0.5555555555555556,
             "#d8576b"
            ],
            [
             0.6666666666666666,
             "#ed7953"
            ],
            [
             0.7777777777777778,
             "#fb9f3a"
            ],
            [
             0.8888888888888888,
             "#fdca26"
            ],
            [
             1,
             "#f0f921"
            ]
           ],
           "sequentialminus": [
            [
             0,
             "#0d0887"
            ],
            [
             0.1111111111111111,
             "#46039f"
            ],
            [
             0.2222222222222222,
             "#7201a8"
            ],
            [
             0.3333333333333333,
             "#9c179e"
            ],
            [
             0.4444444444444444,
             "#bd3786"
            ],
            [
             0.5555555555555556,
             "#d8576b"
            ],
            [
             0.6666666666666666,
             "#ed7953"
            ],
            [
             0.7777777777777778,
             "#fb9f3a"
            ],
            [
             0.8888888888888888,
             "#fdca26"
            ],
            [
             1,
             "#f0f921"
            ]
           ]
          },
          "colorway": [
           "#636efa",
           "#EF553B",
           "#00cc96",
           "#ab63fa",
           "#FFA15A",
           "#19d3f3",
           "#FF6692",
           "#B6E880",
           "#FF97FF",
           "#FECB52"
          ],
          "font": {
           "color": "#2a3f5f"
          },
          "geo": {
           "bgcolor": "white",
           "lakecolor": "white",
           "landcolor": "#E5ECF6",
           "showlakes": true,
           "showland": true,
           "subunitcolor": "white"
          },
          "hoverlabel": {
           "align": "left"
          },
          "hovermode": "closest",
          "mapbox": {
           "style": "light"
          },
          "paper_bgcolor": "white",
          "plot_bgcolor": "#E5ECF6",
          "polar": {
           "angularaxis": {
            "gridcolor": "white",
            "linecolor": "white",
            "ticks": ""
           },
           "bgcolor": "#E5ECF6",
           "radialaxis": {
            "gridcolor": "white",
            "linecolor": "white",
            "ticks": ""
           }
          },
          "scene": {
           "xaxis": {
            "backgroundcolor": "#E5ECF6",
            "gridcolor": "white",
            "gridwidth": 2,
            "linecolor": "white",
            "showbackground": true,
            "ticks": "",
            "zerolinecolor": "white"
           },
           "yaxis": {
            "backgroundcolor": "#E5ECF6",
            "gridcolor": "white",
            "gridwidth": 2,
            "linecolor": "white",
            "showbackground": true,
            "ticks": "",
            "zerolinecolor": "white"
           },
           "zaxis": {
            "backgroundcolor": "#E5ECF6",
            "gridcolor": "white",
            "gridwidth": 2,
            "linecolor": "white",
            "showbackground": true,
            "ticks": "",
            "zerolinecolor": "white"
           }
          },
          "shapedefaults": {
           "line": {
            "color": "#2a3f5f"
           }
          },
          "ternary": {
           "aaxis": {
            "gridcolor": "white",
            "linecolor": "white",
            "ticks": ""
           },
           "baxis": {
            "gridcolor": "white",
            "linecolor": "white",
            "ticks": ""
           },
           "bgcolor": "#E5ECF6",
           "caxis": {
            "gridcolor": "white",
            "linecolor": "white",
            "ticks": ""
           }
          },
          "title": {
           "x": 0.05
          },
          "xaxis": {
           "automargin": true,
           "gridcolor": "white",
           "linecolor": "white",
           "ticks": "",
           "title": {
            "standoff": 15
           },
           "zerolinecolor": "white",
           "zerolinewidth": 2
          },
          "yaxis": {
           "automargin": true,
           "gridcolor": "white",
           "linecolor": "white",
           "ticks": "",
           "title": {
            "standoff": 15
           },
           "zerolinecolor": "white",
           "zerolinewidth": 2
          }
         }
        },
        "title": {
         "text": "Ce-Ir Predicted Binary Phase Diagram"
        },
        "width": 960,
        "xaxis": {
         "linecolor": "black",
         "linewidth": 2,
         "mirror": true,
         "range": [
          0,
          100
         ],
         "showline": true,
         "tickcolor": "black",
         "tickformat": ".0f",
         "ticks": "outside",
         "title": {
          "text": "Ir (at. %)"
         }
        },
        "yaxis": {
         "linecolor": "black",
         "linewidth": 2,
         "mirror": true,
         "range": [
          600,
          2800
         ],
         "showline": true,
         "tickcolor": "black",
         "ticks": "outside",
         "ticksuffix": " ",
         "title": {
          "text": "T (°C)"
         }
        }
       }
      }
     },
     "metadata": {},
     "output_type": "display_data"
    }
   ],
   "source": [
    "known_points = [[0.08, 661], [0.32, 1100]]\n",
    "\n",
    "ce_ir_system.update_params(parameter_guesses)\n",
    "adjust_liquidus_from_known_points(ce_ir_system, known_points)\n",
    "fig = blp.get_plot('pred+liq')\n",
    "\n",
    "for i, point in enumerate(known_points):\n",
    "    fig.add_trace(go.Scatter(\n",
    "        x=[point[0]*100], y=[point[1]],\n",
    "        mode='markers',\n",
    "        marker=dict(color='#9D3CFF', size=20, symbol='star'),\n",
    "        text=f'known point #{i+1}',\n",
    "        showlegend=False,\n",
    "    ))\n",
    "fig.show()"
   ]
  },
  {
   "cell_type": "code",
   "execution_count": 2,
   "metadata": {},
   "outputs": [],
   "source": [
    "def adjust_liquidus_from_invariant_point(bl: BinaryLiquid, known_eutectic_point: list):\n",
    "    # Get present MAE and parameters\n",
    "    mae, _ = bl.calculate_deviation_metrics()\n",
    "    print(f\"Current complete liquidus MAE: {int(mae)}K\")\n",
    "    print(f\"Current parameters: {bl._params}\")\n",
    "\n",
    "    # Find the temperature error of the generated liquidus to the known eutectic point\n",
    "    known_eutectic_point[1] += 273.15 # Assume that known_point is given in Celsius\n",
    "    gen_liq = bl.phases[-1]['points']\n",
    "    gen_liq_point = min(gen_liq, key=lambda x: abs(x[0] - known_eutectic_point[0]))\n",
    "    temp_error = gen_liq_point[1] - known_eutectic_point[1]\n",
    "    print(f\"The liquidus point generated from current parameter guesses is off by {int(temp_error)} K\")\n",
    "\n",
    "    # Get the DFT phases adjacent to the eutectic point\n",
    "    lhs_phases = [phase for phase in bl.phases[:-1] if phase['comp'] < known_eutectic_point[0]]\n",
    "    adj_lhs_phase = min(lhs_phases, key=lambda x: abs(x['comp'] - known_eutectic_point[0]))\n",
    "    rhs_phases = [phase for phase in bl.phases[:-1] if phase['comp'] > known_eutectic_point[0]]\n",
    "    adj_rhs_phase = min(rhs_phases, key=lambda x: abs(x['comp'] - known_eutectic_point[0]))\n",
    " \n",
    "    # Set up the symbolic equation and first derivative of the liquid free energy\n",
    "    xb, t, a, b, c, d = sp.symbols('x t a b c d')\n",
    "    xa = 1 - xb\n",
    "\n",
    "    R = 8.314\n",
    "    Ga = (bl.component_data[bl.components[0]][0] -\n",
    "            t * bl.component_data[bl.components[0]][0] / bl.component_data[bl.components[0]][1])\n",
    "    Gb = (bl.component_data[bl.components[1]][0] -\n",
    "            t * bl.component_data[bl.components[1]][0] / bl.component_data[bl.components[1]][1])\n",
    "    L0 = a + b * t\n",
    "    L1 = c + d * t\n",
    "\n",
    "    G_ideal = R * t * (xa * sp.log(xa) + xb * sp.log(xb))\n",
    "    G_xs = L0 * (xa * xb) + L1 * (xa * xb * (xa - xb))\n",
    "    G_liq = Ga * xa + Gb * xb + G_ideal + G_xs\n",
    "    G_prime = sp.diff(G_liq, xb)\n",
    "\n",
    "    # Set up the invariant equation: dG/dx @ eutectic point = ΔG/ΔX from phases adjacent to eutectic point\n",
    "    x1, g1 = adj_lhs_phase['comp'], adj_lhs_phase['energy']\n",
    "    x2, t2 = known_eutectic_point[0], known_eutectic_point[1]\n",
    "    x3, g3 = adj_rhs_phase['comp'], adj_rhs_phase['energy']\n",
    "    inv_eqn = sp.Eq(G_prime.subs({xb: x2, t: t2}), (g3 - g1) / (x3 - x1))\n",
    "\n",
    "    # With one constraint, we can solve for the value of a single parameter with a 'guess' for the other three\n",
    "    # Here, the 'guessed' parameters are b=L0_b, c=L1_a, d=L1_b. We are solving for the value of a=L0_a\n",
    "    bl.guess_symbols = (b, c, d)\n",
    "    bl.constraints = sp.solve([inv_eqn], (a))\n",
    "    mae = bl.f([bl.get_L0_b(), bl.get_L1_a(), bl.get_L1_b()]) # This will update L0_a and return the liquidus MAE\n",
    "    print(f\"Adjusted complete liquidus MAE: {int(mae)}K\")\n",
    "    print(f\"Adjusted parameters: {bl._params}\")"
   ]
  },
  {
   "cell_type": "code",
   "execution_count": 3,
   "metadata": {},
   "outputs": [
    {
     "ename": "NameError",
     "evalue": "name 'ce_ir_system' is not defined",
     "output_type": "error",
     "traceback": [
      "\u001b[1;31m---------------------------------------------------------------------------\u001b[0m",
      "\u001b[1;31mNameError\u001b[0m                                 Traceback (most recent call last)",
      "Cell \u001b[1;32mIn[3], line 1\u001b[0m\n\u001b[1;32m----> 1\u001b[0m \u001b[43mce_ir_system\u001b[49m\u001b[38;5;241m.\u001b[39mupdate_params(parameter_guesses)\n\u001b[0;32m      2\u001b[0m adjust_liquidus_from_invariant_point(ce_ir_system, [\u001b[38;5;241m0.08\u001b[39m, \u001b[38;5;241m650\u001b[39m])\n\u001b[0;32m      4\u001b[0m blp \u001b[38;5;241m=\u001b[39m BLPlotter(ce_ir_system)\n",
      "\u001b[1;31mNameError\u001b[0m: name 'ce_ir_system' is not defined"
     ]
    }
   ],
   "source": [
    "ce_ir_system.update_params(parameter_guesses)\n",
    "adjust_liquidus_from_invariant_point(ce_ir_system, [0.08, 650])\n",
    "\n",
    "blp = BLPlotter(ce_ir_system)\n",
    "blp.show('pred+liq')"
   ]
  },
  {
   "cell_type": "code",
   "execution_count": 18,
   "metadata": {},
   "outputs": [
    {
     "name": "stdout",
     "output_type": "stream",
     "text": [
      "Ce: H_fusion = 6200.0 J/mol, T_fusion = 1071.0 K, T_vaporization = 3633.15 K\n",
      "Ir: H_fusion = 41120.0 J/mol, T_fusion = 2719.0 K, T_vaporization = 4701.15 K\n",
      "\n",
      "Reading MPDS json from entry at https://mpds.io/entry/C904533...\n",
      "\n",
      "--- Beginning Nelder-Mead optimization ---\n",
      "--- Nelder-Mead converged in 10.73818039894104 seconds ---\n",
      "Mean temperature deviation per point between liquidus curves = 58.07166060479998 \n",
      "\n",
      "--- Beginning Nelder-Mead optimization ---\n",
      "--- Nelder-Mead converged in 11.155130386352539 seconds ---\n",
      "Mean temperature deviation per point between liquidus curves = 39.33692188980147 \n",
      "\n",
      "--- Beginning Nelder-Mead optimization ---\n",
      "--- Nelder-Mead converged in 12.637938976287842 seconds ---\n",
      "Mean temperature deviation per point between liquidus curves = 100.78106040814693 \n",
      "\n",
      "Best fitted parameters: [-245103.11269772984, -19.839482307434082, 169977.6364387978, -82.8556227684021]\n",
      "Best fitted MAE: 39.33692188980147K\n"
     ]
    },
    {
     "data": {
      "application/vnd.plotly.v1+json": {
       "config": {
        "plotlyServerURL": "https://plot.ly"
       },
       "data": [
        {
         "line": {
          "color": "#B82E2E",
          "dash": "dash",
          "width": 4
         },
         "mode": "lines",
         "showlegend": false,
         "type": "scatter",
         "x": [
          0,
          0.530217,
          1.0575,
          1.58129,
          2.10103,
          2.61617,
          3.12613,
          3.63037,
          4.12832,
          4.61942,
          5.10313,
          5.57887,
          6.04609,
          6.50424,
          6.95274,
          7.391050000000001,
          7.81861,
          8.23485,
          8.72499,
          9.21988,
          9.71952,
          10.2239,
          10.733,
          11.2469,
          11.7656,
          12.2889,
          12.8171,
          13.350000000000001,
          13.887599999999999,
          14.429999999999998,
          14.977099999999998,
          15.529000000000002,
          16.0856,
          16.647,
          17.2131,
          17.5129,
          17.8201,
          18.1347,
          18.4566,
          18.7858,
          19.1221,
          19.4655,
          19.816,
          20.1734,
          20.5377,
          20.9088,
          21.2867,
          21.6712,
          22.0624,
          22.4601,
          22.8643,
          23.2749,
          23.6744,
          24.0922,
          24.5272,
          24.9788,
          25.445899999999998,
          25.927900000000005,
          26.4239,
          26.9329,
          27.454299999999996,
          27.987100000000005,
          28.5306,
          29.0838,
          29.646,
          30.216199999999997,
          30.7937,
          31.377700000000004,
          31.967199999999995,
          32.6463,
          33.3312,
          34.0218,
          34.718,
          35.4197,
          36.1267,
          36.839,
          37.5564,
          38.2788,
          39.0061,
          39.7381,
          40.4748,
          41.2161,
          41.9618,
          42.7118,
          43.4659,
          44.2242,
          45.2385,
          46.2843,
          47.3627,
          48.4753,
          49.6232,
          50.8078,
          52.0305,
          53.2925,
          54.5952,
          55.94,
          57.328100000000006,
          58.76090000000001,
          60.2396,
          61.7657,
          63.3405,
          64.9652,
          66.6413,
          67.2036,
          67.7862,
          68.3875,
          69.0062,
          69.6407,
          70.2895,
          70.9511,
          71.6241,
          72.3069,
          72.9981,
          73.6961,
          74.3995,
          75.1068,
          75.8165,
          76.5271,
          77.2371,
          77.9451,
          78.2034,
          78.4534,
          78.6955,
          78.9296,
          79.156,
          79.3748,
          79.5862,
          79.7902,
          79.9869,
          80.1767,
          80.3595,
          80.5356,
          80.705,
          80.8679,
          81.0245,
          81.1748,
          81.3191,
          81.4082,
          81.4939,
          81.5764,
          81.6559,
          81.7326,
          81.8066,
          81.8783,
          81.9476,
          82.0149,
          82.0803,
          82.144,
          82.2062,
          82.2671,
          82.3268,
          82.3855,
          82.4435,
          82.501,
          82.5453,
          82.5906,
          82.6369,
          82.6839,
          82.7315,
          82.7797,
          82.8282,
          82.8769,
          82.9256,
          82.9743,
          83.0228,
          83.071,
          83.1186,
          83.1657,
          83.2119,
          83.2573,
          83.3016,
          83.4456,
          83.6013,
          83.7675,
          83.9431,
          84.1272,
          84.3185,
          84.5161,
          84.7188,
          84.9256,
          85.1355,
          85.3473,
          85.56,
          85.7725,
          85.9838,
          86.1927,
          86.3983,
          86.5993,
          86.922,
          87.3164,
          87.7798,
          88.3095,
          88.9027,
          89.5569,
          90.2693,
          91.0372,
          91.8579,
          92.7286,
          93.6468,
          94.6097,
          95.6146,
          96.6587,
          97.7395,
          98.8541,
          100
         ],
         "y": [
          798.1749999999998,
          791.0690000000001,
          783.868,
          776.551,
          769.0980000000001,
          761.486,
          753.696,
          745.706,
          737.495,
          729.041,
          720.325,
          711.325,
          702.019,
          692.387,
          682.408,
          672.061,
          661.324,
          650.177,
          656.225,
          662.191,
          668.059,
          673.809,
          679.425,
          684.887,
          690.179,
          695.282,
          700.178,
          704.85,
          709.279,
          713.447,
          717.337,
          720.93,
          724.209,
          727.156,
          729.752,
          744.117,
          758.243,
          772.14,
          785.822,
          799.301,
          812.59,
          825.6999999999999,
          838.6439999999999,
          851.4350000000001,
          864.0850000000002,
          876.6059999999999,
          889.0110000000001,
          901.311,
          913.5200000000001,
          925.65,
          937.7129999999999,
          949.7210000000001,
          964.102,
          977.42,
          989.7500000000001,
          1001.16,
          1011.7300000000001,
          1021.5400000000001,
          1030.65,
          1039.1399999999999,
          1047.08,
          1054.54,
          1061.6099999999997,
          1068.35,
          1074.8399999999997,
          1081.15,
          1087.3599999999997,
          1093.5299999999997,
          1099.75,
          1108.5299999999997,
          1116.6599999999999,
          1124.17,
          1131.08,
          1137.42,
          1143.2199999999998,
          1148.5099999999998,
          1153.33,
          1157.69,
          1161.63,
          1165.17,
          1168.3599999999997,
          1171.1999999999998,
          1173.75,
          1176.0099999999998,
          1178.0299999999997,
          1179.83,
          1277.9699999999998,
          1374.54,
          1468.98,
          1560.6999999999998,
          1649.1599999999999,
          1733.79,
          1814.02,
          1889.29,
          1959.0299999999997,
          2022.6799999999998,
          2079.68,
          2129.45,
          2171.45,
          2205.09,
          2229.82,
          2245.07,
          2250.28,
          2249.77,
          2248.25,
          2245.72,
          2242.19,
          2237.67,
          2232.17,
          2225.7,
          2218.25,
          2209.84,
          2200.48,
          2190.17,
          2178.93,
          2166.75,
          2153.65,
          2139.63,
          2124.7,
          2108.87,
          2103.07,
          2097.3,
          2091.54,
          2085.77,
          2079.97,
          2074.12,
          2068.21,
          2062.23,
          2056.14,
          2049.95,
          2043.62,
          2037.1399999999999,
          2030.5,
          2023.6799999999998,
          2016.65,
          2009.4099999999999,
          2001.9299999999998,
          1997.87,
          1993.7599999999998,
          1989.5899999999997,
          1985.35,
          1981.0299999999997,
          1976.63,
          1972.1399999999999,
          1967.5699999999997,
          1962.8899999999999,
          1958.12,
          1953.23,
          1948.23,
          1943.12,
          1937.87,
          1932.5,
          1926.9899999999998,
          1921.3399999999997,
          1926.0499999999997,
          1930.5099999999998,
          1934.7199999999998,
          1938.67,
          1942.3599999999997,
          1945.7799999999997,
          1948.9299999999998,
          1951.81,
          1954.4,
          1956.71,
          1958.73,
          1960.4499999999998,
          1961.8599999999997,
          1962.9699999999998,
          1963.77,
          1964.2599999999998,
          1964.42,
          1964.0299999999997,
          1962.8899999999999,
          1961.0299999999997,
          1958.4899999999998,
          1955.2999999999997,
          1951.5099999999998,
          1947.1399999999999,
          1942.23,
          1936.8199999999997,
          1930.94,
          1924.6399999999999,
          1917.94,
          1910.88,
          1903.5,
          1895.83,
          1887.9099999999999,
          1879.7799999999997,
          1911.71,
          1943.83,
          1976.15,
          2008.67,
          2041.4,
          2074.36,
          2107.55,
          2140.97,
          2174.65,
          2208.58,
          2242.78,
          2277.25,
          2312.01,
          2347.05,
          2382.4,
          2418.06,
          2454.03
         ]
        },
        {
         "hovertemplate": "label=Ce7Ir3<br>x=%{x}<br>t=%{y}<extra></extra>",
         "legendgroup": "Ce7Ir3",
         "line": {
          "color": "rgb(246, 207, 113)",
          "dash": "solid",
          "width": 4
         },
         "marker": {
          "symbol": "circle"
         },
         "mode": "lines",
         "name": "Ce7Ir3",
         "orientation": "v",
         "showlegend": false,
         "type": "scatter",
         "x": [
          30,
          30,
          30,
          30,
          30,
          30,
          30,
          30,
          30,
          30,
          30,
          30,
          30,
          30,
          30,
          30,
          30,
          30,
          30,
          30,
          30
         ],
         "xaxis": "x",
         "y": [
          702.1118967571418,
          709.6620083852983,
          929.9363919511226,
          928.8576532022249,
          801.3738501665924,
          787.5666591528214,
          773.9712723587064,
          734.7756323839754,
          722.1791206254767,
          843.282866061358,
          870.5663183440512,
          857.0712483115163,
          918.8849608193401,
          907.9327103538093,
          883.6340599462366,
          896.1361484602129,
          747.5739622185846,
          760.6340747709318,
          815.3237083775506,
          829.3280544589499,
          -273.15
         ],
         "yaxis": "y"
        },
        {
         "hovertemplate": "label=Ce5Ir4<br>x=%{x}<br>t=%{y}<extra></extra>",
         "legendgroup": "Ce5Ir4",
         "line": {
          "color": "rgb(248, 156, 116)",
          "dash": "solid",
          "width": 4
         },
         "marker": {
          "symbol": "circle"
         },
         "mode": "lines",
         "name": "Ce5Ir4",
         "orientation": "v",
         "showlegend": false,
         "type": "scatter",
         "x": [
          44,
          44,
          44,
          44,
          44,
          44,
          44,
          44,
          44,
          44,
          44,
          44,
          44,
          44,
          44,
          44,
          44,
          44,
          44,
          44,
          44,
          44,
          44,
          44
         ],
         "xaxis": "x",
         "y": [
          1309.8819065021112,
          1260.5474185254484,
          1311.0588123457264,
          1113.6639570336715,
          1087.8279539002965,
          1034.4853307999865,
          1061.366312672415,
          953.3349056609417,
          929.9363919511226,
          1007.3889143597977,
          980.2754653887201,
          1308.5543585909431,
          1311.0588123457264,
          1274.6182184516283,
          1286.546904335627,
          1303.5930722032012,
          1296.2335374652034,
          1206.714780436651,
          1244.4499443915392,
          1226.4569065975802,
          1138.6687754611526,
          1185.3846033981818,
          1162.640674471178,
          -273.15
         ],
         "yaxis": "y"
        },
        {
         "hovertemplate": "label=CeIr2<br>x=%{x}<br>t=%{y}<extra></extra>",
         "legendgroup": "CeIr2",
         "line": {
          "color": "rgb(220, 176, 242)",
          "dash": "solid",
          "width": 4
         },
         "marker": {
          "symbol": "circle"
         },
         "mode": "lines",
         "name": "CeIr2",
         "orientation": "v",
         "showlegend": false,
         "type": "scatter",
         "x": [
          67,
          67,
          67,
          67,
          67,
          67,
          67,
          67,
          67,
          67,
          67,
          67,
          67,
          67,
          67,
          67,
          67,
          67,
          67,
          67,
          67,
          67,
          67,
          67,
          67,
          67,
          67,
          67,
          67,
          67,
          67,
          67,
          67,
          67,
          67
         ],
         "xaxis": "x",
         "y": [
          1309.8819065021112,
          1781.6586673009092,
          1503.032239787773,
          1716.1476479261155,
          2133.241597529092,
          2166.4901580915425,
          2195.380053638297,
          2276.237202063728,
          2256.3499474088717,
          2268.321511866582,
          2198.5917400389653,
          2087.820137369119,
          2102.159614843231,
          2276.2822207692916,
          2268.541855286491,
          2256.946828219899,
          2095.6205874528796,
          2053.642539394813,
          1956.8568524414231,
          2007.3577742233956,
          1902.275279746188,
          1843.7973233393695,
          1351.579133983922,
          1427.9154328824798,
          1576.4208667440034,
          1647.6048453006733,
          2240.249629360108,
          2219.9483762564464,
          2280.165481035246,
          2280.165481035246,
          2138.885038541857,
          2170.9378629261173,
          2222.052885490839,
          2241.4707623642007,
          -273.15
         ],
         "yaxis": "y"
        },
        {
         "hovertemplate": "label=CeIr3<br>x=%{x}<br>t=%{y}<extra></extra>",
         "legendgroup": "CeIr3",
         "line": {
          "color": "rgb(135, 197, 95)",
          "dash": "solid",
          "width": 4
         },
         "marker": {
          "symbol": "circle"
         },
         "mode": "lines",
         "name": "CeIr3",
         "orientation": "v",
         "showlegend": false,
         "type": "scatter",
         "x": [
          75,
          75,
          75,
          75,
          75,
          75,
          75,
          75,
          75,
          75,
          75
         ],
         "xaxis": "x",
         "y": [
          1849.7076925663582,
          2087.820137369119,
          1996.3394954192827,
          1871.9497372851183,
          2067.956901598239,
          2081.8198676048073,
          2049.2507239549914,
          2025.4803251144263,
          1961.4192882131106,
          1920.1855411496767,
          -273.15
         ],
         "yaxis": "y"
        },
        {
         "hovertemplate": "x=%{x}<br>y=%{y}<extra></extra>",
         "legendgroup": "",
         "line": {
          "color": "Silver",
          "dash": "solid",
          "width": 4
         },
         "marker": {
          "symbol": "circle"
         },
         "mode": "lines",
         "name": "",
         "orientation": "v",
         "showlegend": false,
         "type": "scatter",
         "x": [
          44,
          45,
          67
         ],
         "xaxis": "x",
         "y": [
          1309.8819065021112,
          1309.8819065021112,
          1309.8819065021112
         ],
         "yaxis": "y"
        },
        {
         "hovertemplate": "x=%{x}<br>y=%{y}<extra></extra>",
         "legendgroup": "",
         "line": {
          "color": "Silver",
          "dash": "solid",
          "width": 4
         },
         "marker": {
          "symbol": "circle"
         },
         "mode": "lines",
         "name": "",
         "orientation": "v",
         "showlegend": false,
         "type": "scatter",
         "x": [
          75,
          85,
          100
         ],
         "xaxis": "x",
         "y": [
          1849.7076925663582,
          1849.7076925663582,
          1849.7076925663582
         ],
         "yaxis": "y"
        },
        {
         "hovertemplate": "x=%{x}<br>y=%{y}<extra></extra>",
         "legendgroup": "",
         "line": {
          "color": "Silver",
          "dash": "solid",
          "width": 4
         },
         "marker": {
          "symbol": "circle"
         },
         "mode": "lines",
         "name": "",
         "orientation": "v",
         "showlegend": false,
         "type": "scatter",
         "x": [
          0,
          6,
          30
         ],
         "xaxis": "x",
         "y": [
          702.1118967571418,
          702.1118967571418,
          702.1118967571418
         ],
         "yaxis": "y"
        },
        {
         "hovertemplate": "x=%{x}<br>y=%{y}<extra></extra>",
         "legendgroup": "",
         "line": {
          "color": "Silver",
          "dash": "solid",
          "width": 4
         },
         "marker": {
          "symbol": "circle"
         },
         "mode": "lines",
         "name": "",
         "orientation": "v",
         "showlegend": false,
         "type": "scatter",
         "x": [
          67,
          75,
          77
         ],
         "xaxis": "x",
         "y": [
          2087.820137369119,
          2087.820137369119,
          2087.820137369119
         ],
         "yaxis": "y"
        },
        {
         "hovertemplate": "x=%{x}<br>y=%{y}<extra></extra>",
         "legendgroup": "",
         "line": {
          "color": "Silver",
          "dash": "solid",
          "width": 4
         },
         "marker": {
          "symbol": "circle"
         },
         "mode": "lines",
         "name": "",
         "orientation": "v",
         "showlegend": false,
         "type": "scatter",
         "x": [
          24,
          30,
          44
         ],
         "xaxis": "x",
         "y": [
          929.9363919511226,
          929.9363919511226,
          929.9363919511226
         ],
         "yaxis": "y"
        },
        {
         "hovertemplate": "label=L<br>x=%{x}<br>t=%{y}<extra></extra>",
         "legendgroup": "L",
         "line": {
          "color": "cornflowerblue",
          "dash": "solid",
          "width": 4
         },
         "marker": {
          "symbol": "circle"
         },
         "mode": "lines",
         "name": "L",
         "orientation": "v",
         "showlegend": false,
         "type": "scatter",
         "x": [
          0,
          0,
          1,
          2,
          3,
          4,
          5,
          6,
          7.000000000000001,
          8,
          9,
          10,
          11,
          12,
          13,
          14.000000000000002,
          15,
          16,
          17,
          18,
          19,
          20,
          21,
          22,
          23,
          24,
          25,
          26,
          27,
          28.000000000000004,
          28.999999999999996,
          30,
          31,
          32,
          33,
          34,
          35,
          36,
          37,
          38,
          39,
          40,
          41,
          42,
          43,
          44,
          45,
          46,
          47,
          48,
          49,
          50,
          51,
          52,
          53,
          54,
          55.00000000000001,
          56.00000000000001,
          57.00000000000001,
          57.99999999999999,
          59,
          60,
          61,
          62,
          63,
          64,
          65,
          66,
          67,
          68,
          69,
          70,
          71,
          72,
          73,
          74,
          75,
          76,
          77,
          78,
          79,
          80,
          81,
          82,
          83,
          84,
          85,
          86,
          87,
          88,
          89,
          90,
          91,
          92,
          93,
          94,
          95,
          96,
          97,
          98,
          99,
          100,
          100
         ],
         "xaxis": "x",
         "y": [
          798.1749999999996,
          798.1749999999996,
          776.3658385330347,
          759.4782824594921,
          742.7752699862798,
          726.0470992381473,
          709.2707307723069,
          702.1118967571418,
          709.6620083852983,
          722.1791206254767,
          734.7756323839754,
          747.5739622185846,
          760.6340747709318,
          773.9712723587064,
          787.5666591528214,
          801.3738501665924,
          815.3237083775506,
          829.3280544589499,
          843.282866061358,
          857.0712483115163,
          870.5663183440512,
          883.6340599462366,
          896.1361484602129,
          907.9327103538093,
          918.8849608193401,
          928.8576532022249,
          953.3349056609417,
          980.2754653887201,
          1007.3889143597977,
          1034.4853307999865,
          1061.366312672415,
          1087.8279539002965,
          1113.6639570336715,
          1138.6687754611526,
          1162.640674471178,
          1185.3846033981818,
          1206.714780436651,
          1226.4569065975802,
          1244.4499443915392,
          1260.5474185254484,
          1274.6182184516283,
          1286.546904335627,
          1296.2335374652034,
          1303.5930722032012,
          1308.5543585909431,
          1311.0588123457264,
          1309.8819065021112,
          1351.579133983922,
          1427.9154328824798,
          1503.032239787773,
          1576.4208667440034,
          1647.6048453006733,
          1716.1476479261155,
          1781.6586673009092,
          1843.7973233393695,
          1902.275279746188,
          1956.8568524414231,
          2007.3577742233956,
          2053.642539394813,
          2095.6205874528796,
          2133.241597529092,
          2166.4901580915425,
          2195.380053638297,
          2219.9483762564464,
          2240.249629360108,
          2256.3499474088717,
          2268.321511866582,
          2276.237202063728,
          2280.165481035246,
          2276.2822207692916,
          2268.541855286491,
          2256.946828219899,
          2241.4707623642007,
          2222.052885490839,
          2198.5917400389653,
          2170.9378629261173,
          2138.885038541857,
          2102.159614843231,
          2081.8198676048073,
          2067.956901598239,
          2049.2507239549914,
          2025.4803251144263,
          1996.3394954192827,
          1961.4192882131106,
          1920.1855411496767,
          1871.9497372851183,
          1849.7076925663582,
          1898.8285841787542,
          1972.7965457675205,
          2038.7553180727232,
          2097.6017469285684,
          2150.1252237534277,
          2197.0216027402294,
          2238.905424695668,
          2276.320731607043,
          2309.750829576219,
          2339.627575934898,
          2366.3414627923835,
          2390.2563433152536,
          2411.7448945671313,
          2431.3529842255207,
          2454.0300000000007,
          2454.0300000000007
         ],
         "yaxis": "y"
        },
        {
         "line": {
          "color": "#B82E2E",
          "dash": "dash"
         },
         "mode": "lines",
         "name": "Digitized Liquidus",
         "showlegend": true,
         "type": "scatter",
         "x": [
          null
         ],
         "y": [
          null
         ]
        },
        {
         "marker": {
          "color": "cornflowerblue"
         },
         "mode": "lines",
         "name": "Fitted Liquidus",
         "showlegend": true,
         "type": "scatter",
         "x": [
          null
         ],
         "y": [
          null
         ]
        }
       ],
       "layout": {
        "annotations": [
         {
          "borderpad": 5,
          "font": {
           "color": "black",
           "size": 18
          },
          "showarrow": false,
          "text": "Ce7Ir3",
          "textangle": -90,
          "x": 27.5,
          "y": 600,
          "yanchor": "bottom"
         },
         {
          "borderpad": 5,
          "font": {
           "color": "black",
           "size": 18
          },
          "showarrow": false,
          "text": "Ce5Ir4",
          "textangle": -90,
          "x": 41.5,
          "y": 600,
          "yanchor": "bottom"
         },
         {
          "borderpad": 5,
          "font": {
           "color": "black",
           "size": 18
          },
          "showarrow": false,
          "text": "CeIr2",
          "textangle": -90,
          "x": 64.5,
          "y": 600,
          "yanchor": "bottom"
         },
         {
          "borderpad": 5,
          "font": {
           "color": "black",
           "size": 18
          },
          "showarrow": false,
          "text": "CeIr3",
          "textangle": -90,
          "x": 72.5,
          "y": 600,
          "yanchor": "bottom"
         },
         {
          "font": {
           "color": "black",
           "size": 18
          },
          "showarrow": false,
          "text": "L",
          "x": 50,
          "y": 2640
         }
        ],
        "font": {
         "size": 22
        },
        "height": 700,
        "legend": {
         "font": {
          "size": 18
         },
         "x": 0.01,
         "xanchor": "left",
         "y": 0.99,
         "yanchor": "top"
        },
        "plot_bgcolor": "white",
        "showlegend": true,
        "template": {
         "data": {
          "bar": [
           {
            "error_x": {
             "color": "#2a3f5f"
            },
            "error_y": {
             "color": "#2a3f5f"
            },
            "marker": {
             "line": {
              "color": "#E5ECF6",
              "width": 0.5
             },
             "pattern": {
              "fillmode": "overlay",
              "size": 10,
              "solidity": 0.2
             }
            },
            "type": "bar"
           }
          ],
          "barpolar": [
           {
            "marker": {
             "line": {
              "color": "#E5ECF6",
              "width": 0.5
             },
             "pattern": {
              "fillmode": "overlay",
              "size": 10,
              "solidity": 0.2
             }
            },
            "type": "barpolar"
           }
          ],
          "carpet": [
           {
            "aaxis": {
             "endlinecolor": "#2a3f5f",
             "gridcolor": "white",
             "linecolor": "white",
             "minorgridcolor": "white",
             "startlinecolor": "#2a3f5f"
            },
            "baxis": {
             "endlinecolor": "#2a3f5f",
             "gridcolor": "white",
             "linecolor": "white",
             "minorgridcolor": "white",
             "startlinecolor": "#2a3f5f"
            },
            "type": "carpet"
           }
          ],
          "choropleth": [
           {
            "colorbar": {
             "outlinewidth": 0,
             "ticks": ""
            },
            "type": "choropleth"
           }
          ],
          "contour": [
           {
            "colorbar": {
             "outlinewidth": 0,
             "ticks": ""
            },
            "colorscale": [
             [
              0,
              "#0d0887"
             ],
             [
              0.1111111111111111,
              "#46039f"
             ],
             [
              0.2222222222222222,
              "#7201a8"
             ],
             [
              0.3333333333333333,
              "#9c179e"
             ],
             [
              0.4444444444444444,
              "#bd3786"
             ],
             [
              0.5555555555555556,
              "#d8576b"
             ],
             [
              0.6666666666666666,
              "#ed7953"
             ],
             [
              0.7777777777777778,
              "#fb9f3a"
             ],
             [
              0.8888888888888888,
              "#fdca26"
             ],
             [
              1,
              "#f0f921"
             ]
            ],
            "type": "contour"
           }
          ],
          "contourcarpet": [
           {
            "colorbar": {
             "outlinewidth": 0,
             "ticks": ""
            },
            "type": "contourcarpet"
           }
          ],
          "heatmap": [
           {
            "colorbar": {
             "outlinewidth": 0,
             "ticks": ""
            },
            "colorscale": [
             [
              0,
              "#0d0887"
             ],
             [
              0.1111111111111111,
              "#46039f"
             ],
             [
              0.2222222222222222,
              "#7201a8"
             ],
             [
              0.3333333333333333,
              "#9c179e"
             ],
             [
              0.4444444444444444,
              "#bd3786"
             ],
             [
              0.5555555555555556,
              "#d8576b"
             ],
             [
              0.6666666666666666,
              "#ed7953"
             ],
             [
              0.7777777777777778,
              "#fb9f3a"
             ],
             [
              0.8888888888888888,
              "#fdca26"
             ],
             [
              1,
              "#f0f921"
             ]
            ],
            "type": "heatmap"
           }
          ],
          "heatmapgl": [
           {
            "colorbar": {
             "outlinewidth": 0,
             "ticks": ""
            },
            "colorscale": [
             [
              0,
              "#0d0887"
             ],
             [
              0.1111111111111111,
              "#46039f"
             ],
             [
              0.2222222222222222,
              "#7201a8"
             ],
             [
              0.3333333333333333,
              "#9c179e"
             ],
             [
              0.4444444444444444,
              "#bd3786"
             ],
             [
              0.5555555555555556,
              "#d8576b"
             ],
             [
              0.6666666666666666,
              "#ed7953"
             ],
             [
              0.7777777777777778,
              "#fb9f3a"
             ],
             [
              0.8888888888888888,
              "#fdca26"
             ],
             [
              1,
              "#f0f921"
             ]
            ],
            "type": "heatmapgl"
           }
          ],
          "histogram": [
           {
            "marker": {
             "pattern": {
              "fillmode": "overlay",
              "size": 10,
              "solidity": 0.2
             }
            },
            "type": "histogram"
           }
          ],
          "histogram2d": [
           {
            "colorbar": {
             "outlinewidth": 0,
             "ticks": ""
            },
            "colorscale": [
             [
              0,
              "#0d0887"
             ],
             [
              0.1111111111111111,
              "#46039f"
             ],
             [
              0.2222222222222222,
              "#7201a8"
             ],
             [
              0.3333333333333333,
              "#9c179e"
             ],
             [
              0.4444444444444444,
              "#bd3786"
             ],
             [
              0.5555555555555556,
              "#d8576b"
             ],
             [
              0.6666666666666666,
              "#ed7953"
             ],
             [
              0.7777777777777778,
              "#fb9f3a"
             ],
             [
              0.8888888888888888,
              "#fdca26"
             ],
             [
              1,
              "#f0f921"
             ]
            ],
            "type": "histogram2d"
           }
          ],
          "histogram2dcontour": [
           {
            "colorbar": {
             "outlinewidth": 0,
             "ticks": ""
            },
            "colorscale": [
             [
              0,
              "#0d0887"
             ],
             [
              0.1111111111111111,
              "#46039f"
             ],
             [
              0.2222222222222222,
              "#7201a8"
             ],
             [
              0.3333333333333333,
              "#9c179e"
             ],
             [
              0.4444444444444444,
              "#bd3786"
             ],
             [
              0.5555555555555556,
              "#d8576b"
             ],
             [
              0.6666666666666666,
              "#ed7953"
             ],
             [
              0.7777777777777778,
              "#fb9f3a"
             ],
             [
              0.8888888888888888,
              "#fdca26"
             ],
             [
              1,
              "#f0f921"
             ]
            ],
            "type": "histogram2dcontour"
           }
          ],
          "mesh3d": [
           {
            "colorbar": {
             "outlinewidth": 0,
             "ticks": ""
            },
            "type": "mesh3d"
           }
          ],
          "parcoords": [
           {
            "line": {
             "colorbar": {
              "outlinewidth": 0,
              "ticks": ""
             }
            },
            "type": "parcoords"
           }
          ],
          "pie": [
           {
            "automargin": true,
            "type": "pie"
           }
          ],
          "scatter": [
           {
            "fillpattern": {
             "fillmode": "overlay",
             "size": 10,
             "solidity": 0.2
            },
            "type": "scatter"
           }
          ],
          "scatter3d": [
           {
            "line": {
             "colorbar": {
              "outlinewidth": 0,
              "ticks": ""
             }
            },
            "marker": {
             "colorbar": {
              "outlinewidth": 0,
              "ticks": ""
             }
            },
            "type": "scatter3d"
           }
          ],
          "scattercarpet": [
           {
            "marker": {
             "colorbar": {
              "outlinewidth": 0,
              "ticks": ""
             }
            },
            "type": "scattercarpet"
           }
          ],
          "scattergeo": [
           {
            "marker": {
             "colorbar": {
              "outlinewidth": 0,
              "ticks": ""
             }
            },
            "type": "scattergeo"
           }
          ],
          "scattergl": [
           {
            "marker": {
             "colorbar": {
              "outlinewidth": 0,
              "ticks": ""
             }
            },
            "type": "scattergl"
           }
          ],
          "scattermapbox": [
           {
            "marker": {
             "colorbar": {
              "outlinewidth": 0,
              "ticks": ""
             }
            },
            "type": "scattermapbox"
           }
          ],
          "scatterpolar": [
           {
            "marker": {
             "colorbar": {
              "outlinewidth": 0,
              "ticks": ""
             }
            },
            "type": "scatterpolar"
           }
          ],
          "scatterpolargl": [
           {
            "marker": {
             "colorbar": {
              "outlinewidth": 0,
              "ticks": ""
             }
            },
            "type": "scatterpolargl"
           }
          ],
          "scatterternary": [
           {
            "marker": {
             "colorbar": {
              "outlinewidth": 0,
              "ticks": ""
             }
            },
            "type": "scatterternary"
           }
          ],
          "surface": [
           {
            "colorbar": {
             "outlinewidth": 0,
             "ticks": ""
            },
            "colorscale": [
             [
              0,
              "#0d0887"
             ],
             [
              0.1111111111111111,
              "#46039f"
             ],
             [
              0.2222222222222222,
              "#7201a8"
             ],
             [
              0.3333333333333333,
              "#9c179e"
             ],
             [
              0.4444444444444444,
              "#bd3786"
             ],
             [
              0.5555555555555556,
              "#d8576b"
             ],
             [
              0.6666666666666666,
              "#ed7953"
             ],
             [
              0.7777777777777778,
              "#fb9f3a"
             ],
             [
              0.8888888888888888,
              "#fdca26"
             ],
             [
              1,
              "#f0f921"
             ]
            ],
            "type": "surface"
           }
          ],
          "table": [
           {
            "cells": {
             "fill": {
              "color": "#EBF0F8"
             },
             "line": {
              "color": "white"
             }
            },
            "header": {
             "fill": {
              "color": "#C8D4E3"
             },
             "line": {
              "color": "white"
             }
            },
            "type": "table"
           }
          ]
         },
         "layout": {
          "annotationdefaults": {
           "arrowcolor": "#2a3f5f",
           "arrowhead": 0,
           "arrowwidth": 1
          },
          "autotypenumbers": "strict",
          "coloraxis": {
           "colorbar": {
            "outlinewidth": 0,
            "ticks": ""
           }
          },
          "colorscale": {
           "diverging": [
            [
             0,
             "#8e0152"
            ],
            [
             0.1,
             "#c51b7d"
            ],
            [
             0.2,
             "#de77ae"
            ],
            [
             0.3,
             "#f1b6da"
            ],
            [
             0.4,
             "#fde0ef"
            ],
            [
             0.5,
             "#f7f7f7"
            ],
            [
             0.6,
             "#e6f5d0"
            ],
            [
             0.7,
             "#b8e186"
            ],
            [
             0.8,
             "#7fbc41"
            ],
            [
             0.9,
             "#4d9221"
            ],
            [
             1,
             "#276419"
            ]
           ],
           "sequential": [
            [
             0,
             "#0d0887"
            ],
            [
             0.1111111111111111,
             "#46039f"
            ],
            [
             0.2222222222222222,
             "#7201a8"
            ],
            [
             0.3333333333333333,
             "#9c179e"
            ],
            [
             0.4444444444444444,
             "#bd3786"
            ],
            [
             0.5555555555555556,
             "#d8576b"
            ],
            [
             0.6666666666666666,
             "#ed7953"
            ],
            [
             0.7777777777777778,
             "#fb9f3a"
            ],
            [
             0.8888888888888888,
             "#fdca26"
            ],
            [
             1,
             "#f0f921"
            ]
           ],
           "sequentialminus": [
            [
             0,
             "#0d0887"
            ],
            [
             0.1111111111111111,
             "#46039f"
            ],
            [
             0.2222222222222222,
             "#7201a8"
            ],
            [
             0.3333333333333333,
             "#9c179e"
            ],
            [
             0.4444444444444444,
             "#bd3786"
            ],
            [
             0.5555555555555556,
             "#d8576b"
            ],
            [
             0.6666666666666666,
             "#ed7953"
            ],
            [
             0.7777777777777778,
             "#fb9f3a"
            ],
            [
             0.8888888888888888,
             "#fdca26"
            ],
            [
             1,
             "#f0f921"
            ]
           ]
          },
          "colorway": [
           "#636efa",
           "#EF553B",
           "#00cc96",
           "#ab63fa",
           "#FFA15A",
           "#19d3f3",
           "#FF6692",
           "#B6E880",
           "#FF97FF",
           "#FECB52"
          ],
          "font": {
           "color": "#2a3f5f"
          },
          "geo": {
           "bgcolor": "white",
           "lakecolor": "white",
           "landcolor": "#E5ECF6",
           "showlakes": true,
           "showland": true,
           "subunitcolor": "white"
          },
          "hoverlabel": {
           "align": "left"
          },
          "hovermode": "closest",
          "mapbox": {
           "style": "light"
          },
          "paper_bgcolor": "white",
          "plot_bgcolor": "#E5ECF6",
          "polar": {
           "angularaxis": {
            "gridcolor": "white",
            "linecolor": "white",
            "ticks": ""
           },
           "bgcolor": "#E5ECF6",
           "radialaxis": {
            "gridcolor": "white",
            "linecolor": "white",
            "ticks": ""
           }
          },
          "scene": {
           "xaxis": {
            "backgroundcolor": "#E5ECF6",
            "gridcolor": "white",
            "gridwidth": 2,
            "linecolor": "white",
            "showbackground": true,
            "ticks": "",
            "zerolinecolor": "white"
           },
           "yaxis": {
            "backgroundcolor": "#E5ECF6",
            "gridcolor": "white",
            "gridwidth": 2,
            "linecolor": "white",
            "showbackground": true,
            "ticks": "",
            "zerolinecolor": "white"
           },
           "zaxis": {
            "backgroundcolor": "#E5ECF6",
            "gridcolor": "white",
            "gridwidth": 2,
            "linecolor": "white",
            "showbackground": true,
            "ticks": "",
            "zerolinecolor": "white"
           }
          },
          "shapedefaults": {
           "line": {
            "color": "#2a3f5f"
           }
          },
          "ternary": {
           "aaxis": {
            "gridcolor": "white",
            "linecolor": "white",
            "ticks": ""
           },
           "baxis": {
            "gridcolor": "white",
            "linecolor": "white",
            "ticks": ""
           },
           "bgcolor": "#E5ECF6",
           "caxis": {
            "gridcolor": "white",
            "linecolor": "white",
            "ticks": ""
           }
          },
          "title": {
           "x": 0.05
          },
          "xaxis": {
           "automargin": true,
           "gridcolor": "white",
           "linecolor": "white",
           "ticks": "",
           "title": {
            "standoff": 15
           },
           "zerolinecolor": "white",
           "zerolinewidth": 2
          },
          "yaxis": {
           "automargin": true,
           "gridcolor": "white",
           "linecolor": "white",
           "ticks": "",
           "title": {
            "standoff": 15
           },
           "zerolinecolor": "white",
           "zerolinewidth": 2
          }
         }
        },
        "title": {
         "text": "Ce-Ir Fitted Binary Phase Diagram"
        },
        "width": 960,
        "xaxis": {
         "linecolor": "black",
         "linewidth": 2,
         "mirror": true,
         "range": [
          0,
          100
         ],
         "showline": true,
         "tickcolor": "black",
         "tickformat": ".0f",
         "ticks": "outside",
         "title": {
          "text": "Ir (at. %)"
         }
        },
        "yaxis": {
         "linecolor": "black",
         "linewidth": 2,
         "mirror": true,
         "range": [
          600,
          2800
         ],
         "showline": true,
         "tickcolor": "black",
         "ticks": "outside",
         "ticksuffix": " ",
         "title": {
          "text": "T (°C)"
         }
        }
       }
      }
     },
     "metadata": {},
     "output_type": "display_data"
    }
   ],
   "source": [
    "parameter_guesses = [-175000, -20, 23000, -12] # [Enthalpy of Mixing, Entropy of Mixing, Enthalpy Skew, Entropy Skew]\n",
    "ce_ir_system = BinaryLiquid.from_cache('Ce-Ir', params=parameter_guesses)\n",
    "ce_ir_system.update_phase_points()\n",
    "\n",
    "fitting_data = ce_ir_system.fit_parameters(n_opts=3)\n",
    "print(f\"Best fitted parameters: {ce_ir_system._params}\")\n",
    "best_fit_mae = min(fitting_data, key=lambda x: x['mae'])['mae']\n",
    "print(f\"Best fitted MAE: {best_fit_mae}K\")\n",
    "blp = BLPlotter(ce_ir_system)\n",
    "blp.show('fit+liq')"
   ]
  },
  {
   "cell_type": "code",
   "execution_count": 2,
   "metadata": {},
   "outputs": [],
   "source": [
    "# Goal 1: Parameter values don't change much. Criteria for nelder-mead exit must be relaxed.\n",
    "# Goal 2: L_b params must have realistic values. Exit earlier if overfitting is likely to occur.\n",
    "# Testing suite: Sample liquidus 1. randomly, 2. by specified criteria. Plot final optimized MAE vs. number of points sampled.\n",
    "# Report normalized metrics + others and run on several systems. Compare for trend.\n",
    "\n",
    "\n",
    "# Method: constraintless optimization. L_a -> L_b. \n",
    "# guess symbols: a, c\n",
    "# L0_a_init = L0_a_pred + L0_b_pred * Tmean. \n",
    "# L1_a_init = L1_a_pred + L1_b_pred * Tmean.\n",
    "# Optimize with some criteria.\n",
    "# guess symbols: b, d\n",
    "# L0_b_init = L0_b_pred\n",
    "# L1_b_init = L1_b_pred\n",
    "# Disincentivize overfitting by penalizing large L0_b and L1_b values.\n",
    "\n",
    "def optimize_predicted_params(bl: BinaryLiquid, known_points: list):\n",
    "        # Get present MAE and parameters\n",
    "    original_liq = [p for p in bl.digitized_liq]\n",
    "    mae, _ = bl.calculate_deviation_metrics(ignored_ranges=False)\n",
    "    # print(f\"Current complete liquidus MAE: {int(mae)}K\")\n",
    "    # print(f\"Current parameters: {bl._params}\")\n",
    "\n",
    "    bl.digitized_liq = [[p[0], p[1]] for p in known_points]\n",
    "    mae, _ = bl.calculate_deviation_metrics(ignored_ranges=False)\n",
    "    # print(f\"Known points (Kelvin): {known_points}\")\n",
    "    # print(f\"Liquidus MAE from known points: {int(mae)}K\")\n",
    "\n",
    "    t_mean = sum([v[1] for v in bl.component_data.values()]) / 2\n",
    "    # print(t_mean)\n",
    "\n",
    "    pred_params = [bl.get_L0_a(), bl.get_L0_b(), bl.get_L1_a(), bl.get_L1_b()]\n",
    "\n",
    "    # print(f\"Original predicted parameters: {pred_params}\")\n",
    "\n",
    "    t, a, b, c, d = sp.symbols('t a b c d')\n",
    "    L0 = a + b * t\n",
    "    L1 = c + d * t\n",
    "\n",
    "    bl.guess_symbols = (a, c)\n",
    "    bl.constraints = None\n",
    "    bl.ignored_comp_ranges = []\n",
    "\n",
    "    # l0_a_itl = bl.get_L0_a()\n",
    "    # l1_a_itl = bl.get_L1_a()\n",
    "    l0_a_itl = bl.get_L0_a() + bl.get_L0_b() * t_mean\n",
    "    l1_a_itl = bl.get_L1_a() + bl.get_L1_b() * t_mean\n",
    "    bl.update_params([l0_a_itl, 0, l1_a_itl, 0])\n",
    "\n",
    "    initial_guesses = [[l0_a_itl * 0.9, l1_a_itl * 0.9],\n",
    "                       [l0_a_itl * 1.1, l1_a_itl * 0.9],\n",
    "                       [l0_a_itl * 0.9, l1_a_itl * 1.1]]\n",
    "    mae, _, _ = bl.nelder_mead(tol=10, initial_guesses=initial_guesses, verbose=False)\n",
    "    # print(f\"Post: L_a opt Liquidus MAE from known points: {int(mae)}K\")\n",
    "\n",
    "    updated_params = [bl.get_L0_a(), bl.get_L0_b(), bl.get_L1_a(), bl.get_L1_b()]\n",
    "\n",
    "    l0_b_itl = pred_params[1]\n",
    "    l1_b_itl = pred_params[3]\n",
    "    bl.update_params([updated_params[0], l0_b_itl, updated_params[2], l1_b_itl])\n",
    "\n",
    "    bl.guess_symbols = (b, d)\n",
    "    eqn1 = sp.Eq(L0.subs({t: t_mean}), updated_params[0])\n",
    "    eqn2 = sp.Eq(L1.subs({t: t_mean}), updated_params[2])\n",
    "\n",
    "    bl.constraints = sp.solve((eqn1, eqn2), (a, c))\n",
    "    # guess_dict = {symbol: guess for symbol, guess in zip(bl.guess_symbols, [0, 0])}\n",
    "    # self.solve_params_from_constraints(guess_dict)\n",
    "\n",
    "    initial_guesses = [[l0_b_itl * 0.9, l1_b_itl * 0.9],\n",
    "                       [l0_b_itl * 1.1, l1_b_itl * 0.9],\n",
    "                       [l0_b_itl * 0.9, l1_b_itl * 1.1]]\n",
    "\n",
    "    try:\n",
    "        perceived_mae, _, _ = bl.nelder_mead(tol=1, initial_guesses=initial_guesses, verbose=False)\n",
    "    except RuntimeError:\n",
    "        perceived_mae, _, _ = bl.nelder_mead(tol=1, verbose=False)\n",
    "    # print(f\"Post: L_b opt Liquidus MAE from known points: {int(mae)}K\")\n",
    "\n",
    "    updated_params[1] = bl.get_L0_b()\n",
    "    updated_params[3] = bl.get_L1_b()\n",
    "\n",
    "    # print(f\"Adjusted parameters: {updated_params}\")\n",
    "\n",
    "    bl.digitized_liq = original_liq\n",
    "    true_mae, _ = bl.calculate_deviation_metrics(ignored_ranges=False)\n",
    "    return updated_params, perceived_mae, true_mae\n",
    "    # mae, _ = bl.calculate_deviation_metrics()\n",
    "    # print(f\"Adjusted complete liquidus MAE: {int(mae)}K\")\n",
    "    # print(f\"Adjusted parameters: {bl._params}\")\n",
    "        "
   ]
  },
  {
   "cell_type": "code",
   "execution_count": 3,
   "metadata": {},
   "outputs": [],
   "source": [
    "import random\n",
    "\n",
    "def randomly_sample_points(points_list, n):\n",
    "    return random.sample(points_list[1:-1], n)\n",
    "\n",
    "def randomly_sample_points_below_1200C(points_list, n):\n",
    "    points_list = [p for p in points_list if p[1] < 1200 + 298.15]\n",
    "    if len(points_list) < n:\n",
    "        return []\n",
    "    return randomly_sample_points(points_list, n)\n",
    "\n",
    "def evenly_sample_points(points_list, n):\n",
    "    # Sort points by the first coordinate (x-value)\n",
    "    sorted_points = sorted(points_list, key=lambda p: p[0])\n",
    "    \n",
    "    # Calculate even spacing\n",
    "    total_items = len(sorted_points)\n",
    "    \n",
    "    # Return n points that divide the x-range evenly\n",
    "    indices = [int(i * (total_items - 1) / (n + 1)) for i in range(1, n+1)]\n",
    "    return [sorted_points[i] for i in indices]\n",
    "\n",
    "def evenly_sample_points_below_1200C(points_list, n):\n",
    "    points_list = [p for p in points_list if p[1] < 1200 + 298.15]\n",
    "    if len(points_list) < n:\n",
    "        return []\n",
    "    return evenly_sample_points(points_list, n)\n",
    "    \n",
    "\n",
    "sampling_methods = {\n",
    "    \"random\": randomly_sample_points,\n",
    "    \"random_below_1200C\": randomly_sample_points_below_1200C,\n",
    "    \"even\": evenly_sample_points,\n",
    "    \"even_below_1200C\": evenly_sample_points_below_1200C\n",
    "}"
   ]
  },
  {
   "cell_type": "code",
   "execution_count": 4,
   "metadata": {},
   "outputs": [
    {
     "name": "stdout",
     "output_type": "stream",
     "text": [
      "Loading fitting results from cache\n",
      "{'C-Nb': {'mae': 34.29930033890384, 'rmse': 46.28470846595482, 'norm_mae': 0.0071968300441058956, 'norm_rmse': 0.009711661088685392, 'nmpath': array([[[-20.        , -20.        ,  10.        ,  10.        ,\n",
      "          10.        ,  10.        ,  13.671875  ,  13.671875  ,\n",
      "          23.13476562,  23.13476562,  23.13476562,  23.13476562,\n",
      "          23.13476562,  23.13476562,  22.73684978,  22.73684978,\n",
      "          23.59638214,  23.59638214],\n",
      "        [-20.        , -20.        ,  55.        ,  55.        ,\n",
      "          55.        ,  55.        ,  46.3671875 ,  46.3671875 ,\n",
      "          39.43847656,  39.43847656,  39.43847656,  39.43847656,\n",
      "          39.43847656,  39.43847656,  41.20428801,  41.20428801,\n",
      "          43.28004837,  43.28004837],\n",
      "        [125.38125415, 125.38125415,  62.50861117,  62.50861117,\n",
      "          62.50861117,  62.50861117,  49.86679671,  49.86679671,\n",
      "          35.05471061,  35.05471061,  35.05471061,  35.05471061,\n",
      "          35.05471061,  35.05471061,  34.56223565,  34.56223565,\n",
      "          34.41929523,  34.41929523]],\n",
      "\n",
      "       [[-20.        , -20.        , -20.        ,  17.5       ,\n",
      "          17.5       ,  17.5       ,  17.5       ,  16.46484375,\n",
      "          16.46484375,  16.46484375,  22.9888916 ,  22.9888916 ,\n",
      "          22.9888916 ,  22.75808334,  22.75808334,  22.75808334,\n",
      "          22.75808334,  23.17192435],\n",
      "        [ 20.        ,  20.        ,  20.        ,  23.75      ,\n",
      "          23.75      ,  23.75      ,  23.75      ,  36.39648438,\n",
      "          36.39648438,  36.39648438,  44.99420166,  44.99420166,\n",
      "          44.99420166,  43.07341576,  43.07341576,  43.07341576,\n",
      "          43.07341576,  42.70945013],\n",
      "        [105.88913895, 105.88913895, 105.88913895,  53.7794435 ,\n",
      "          53.7794435 ,  53.7794435 ,  53.7794435 ,  42.00916738,\n",
      "          42.00916738,  42.00916738,  35.06846447,  35.06846447,\n",
      "          35.06846447,  34.4581213 ,  34.4581213 ,  34.4581213 ,\n",
      "          34.4581213 ,  34.29930034]],\n",
      "\n",
      "       [[ 20.        ,   0.        ,   0.        ,   0.        ,\n",
      "           6.875     ,  17.1875    ,  17.1875    ,  17.1875    ,\n",
      "          17.1875    ,  18.49365234,  18.49365234,  20.77774048,\n",
      "          21.91978455,  21.91978455,  21.91978455,  23.57514858,\n",
      "          23.57514858,  23.57514858],\n",
      "        [-20.        , -10.        , -10.        , -10.        ,\n",
      "          14.6875    ,  51.71875   ,  51.71875   ,  51.71875   ,\n",
      "          51.71875   ,  44.81811523,  44.81811523,  43.51722717,\n",
      "          42.86678314,  42.86678314,  42.86678314,  41.41092062,\n",
      "          41.41092062,  41.41092062],\n",
      "        [138.01001345,  97.95773889,  97.95773889,  97.95773889,\n",
      "          72.88288696,  47.94468198,  47.94468198,  47.94468198,\n",
      "          47.94468198,  40.73600465,  40.73600465,  36.10938041,\n",
      "          34.85078466,  34.85078466,  34.85078466,  34.44522661,\n",
      "          34.44522661,  34.44522661]]]), 'L0_a': -219292.8477898403, 'L0_b': 23.171924352645874, 'L1_a': -109181.76168023965, 'L1_b': 42.709450125694275, 'L0': -133816.0215185567, 'L1': 48365.28503792263, 'euts': [[2247.801740289426, 0.93, [0.67, 0.93, 1.0], ['Nb2C', 'L', 'Nb']], [3391.431061351339, 0.4, [0.0, 0.4, 0.55], ['C', 'L', 'Nb6C5']]], 'pers': [[2982.359312122672, 0.67, [0.55, 0.67, 0.77], ['Nb6C5', 'Nb2C', 'L']]], 'cmps': [[3601.214870350851, 0.53, [0.53, 0.54, 0.55], ['Nb6C5']]], 'migs': []}, 'Cr-Eu': {'mae': 17.2015249021195, 'rmse': 23.23024722627313, 'norm_mae': 0.007870678329239494, 'norm_rmse': 0.010629162499667414, 'nmpath': array([[[-2.00000000e+01, -2.00000000e+01, -2.00000000e+01,\n",
      "         -2.00000000e+01, -9.12500000e+01, -9.12500000e+01,\n",
      "         -9.12500000e+01, -1.90625000e+02, -1.90625000e+02,\n",
      "         -1.95625000e+02, -1.95625000e+02, -1.95625000e+02,\n",
      "         -1.95625000e+02, -2.04843750e+02, -2.04843750e+02,\n",
      "         -2.04843750e+02, -2.18769531e+02, -2.18769531e+02,\n",
      "         -2.18769531e+02, -2.18769531e+02, -2.18769531e+02,\n",
      "         -2.18706226e+02, -2.18706226e+02],\n",
      "        [-2.00000000e+01, -2.00000000e+01, -2.00000000e+01,\n",
      "         -2.00000000e+01, -6.31250000e+01, -6.31250000e+01,\n",
      "         -6.31250000e+01, -1.99062500e+02, -1.99062500e+02,\n",
      "         -1.51562500e+02, -1.51562500e+02, -1.51562500e+02,\n",
      "         -1.51562500e+02, -1.53984375e+02, -1.53984375e+02,\n",
      "         -1.53984375e+02, -1.45439453e+02, -1.45439453e+02,\n",
      "         -1.45439453e+02, -1.45439453e+02, -1.45439453e+02,\n",
      "         -1.44521074e+02, -1.44521074e+02],\n",
      "        [ 3.74338503e+03,  3.74338503e+03,  3.74338503e+03,\n",
      "          3.74338503e+03,  8.39802904e+02,  8.39802904e+02,\n",
      "          8.39802904e+02,  8.86513291e+01,  8.86513291e+01,\n",
      "          4.22734186e+01,  4.22734186e+01,  4.22734186e+01,\n",
      "          4.22734186e+01,  2.43990157e+01,  2.43990157e+01,\n",
      "          2.43990157e+01,  1.73176085e+01,  1.73176085e+01,\n",
      "          1.73176085e+01,  1.73176085e+01,  1.73176085e+01,\n",
      "          1.72828339e+01,  1.72828339e+01]],\n",
      "\n",
      "       [[-2.00000000e+01, -2.00000000e+01, -5.00000000e+01,\n",
      "         -5.00000000e+01, -5.00000000e+01, -5.00000000e+01,\n",
      "         -1.78125000e+02, -1.78125000e+02, -1.78125000e+02,\n",
      "         -1.78125000e+02, -1.78125000e+02, -2.15000000e+02,\n",
      "         -2.15000000e+02, -2.15000000e+02, -2.11992188e+02,\n",
      "         -2.10488281e+02, -2.10488281e+02, -2.18676758e+02,\n",
      "         -2.18676758e+02, -2.19411316e+02, -2.19411316e+02,\n",
      "         -2.19411316e+02, -2.18850846e+02],\n",
      "        [ 2.00000000e+01,  2.00000000e+01, -5.50000000e+01,\n",
      "         -5.50000000e+01, -5.50000000e+01, -5.50000000e+01,\n",
      "         -1.57812500e+02, -1.57812500e+02, -1.57812500e+02,\n",
      "         -1.57812500e+02, -1.57812500e+02, -1.67500000e+02,\n",
      "         -1.67500000e+02, -1.67500000e+02, -1.58574219e+02,\n",
      "         -1.54111328e+02, -1.54111328e+02, -1.41008301e+02,\n",
      "         -1.41008301e+02, -1.42408905e+02, -1.42408905e+02,\n",
      "         -1.42408905e+02, -1.43533843e+02],\n",
      "        [ 1.82943959e+04,  1.82943959e+04,  1.52756412e+03,\n",
      "          1.52756412e+03,  1.52756412e+03,  1.52756412e+03,\n",
      "          7.31696470e+01,  7.31696470e+01,  7.31696470e+01,\n",
      "          7.31696470e+01,  7.31696470e+01,  4.13182661e+01,\n",
      "          4.13182661e+01,  4.13182661e+01,  2.71563133e+01,\n",
      "          2.12169390e+01,  2.12169390e+01,  1.74983505e+01,\n",
      "          1.74983505e+01,  1.72866282e+01,  1.72866282e+01,\n",
      "          1.72866282e+01,  1.72659957e+01]],\n",
      "\n",
      "       [[ 2.00000000e+01, -4.00000000e+01, -4.00000000e+01,\n",
      "         -3.75000000e+01, -3.75000000e+01, -1.36875000e+02,\n",
      "         -1.36875000e+02, -1.36875000e+02, -2.08125000e+02,\n",
      "         -2.08125000e+02, -1.97500000e+02, -1.97500000e+02,\n",
      "         -2.13125000e+02, -2.13125000e+02, -2.13125000e+02,\n",
      "         -2.13125000e+02, -2.13125000e+02, -2.13125000e+02,\n",
      "         -2.21522217e+02, -2.21522217e+02, -2.17874527e+02,\n",
      "         -2.17874527e+02, -2.17874527e+02],\n",
      "        [-2.00000000e+01,  1.00000000e+01,  1.00000000e+01,\n",
      "         -1.37500000e+01, -1.37500000e+01, -1.49687500e+02,\n",
      "         -1.49687500e+02, -1.49687500e+02, -1.92812500e+02,\n",
      "         -1.92812500e+02, -1.73750000e+02, -1.73750000e+02,\n",
      "         -1.45312500e+02, -1.45312500e+02, -1.45312500e+02,\n",
      "         -1.45312500e+02, -1.45312500e+02, -1.45312500e+02,\n",
      "         -1.42179565e+02, -1.42179565e+02, -1.44796486e+02,\n",
      "         -1.44796486e+02, -1.44796486e+02],\n",
      "        [            inf,  4.93824014e+03,  4.93824014e+03,\n",
      "          3.00089653e+03,  3.00089653e+03,  2.18593276e+02,\n",
      "          2.18593276e+02,  2.18593276e+02,  7.60997049e+01,\n",
      "          7.60997049e+01,  4.90504842e+01,  4.90504842e+01,\n",
      "          1.90618854e+01,  1.90618854e+01,  1.90618854e+01,\n",
      "          1.90618854e+01,  1.90618854e+01,  1.90618854e+01,\n",
      "          1.74758292e+01,  1.74758292e+01,  1.72214493e+01,\n",
      "          1.72214493e+01,  1.72214493e+01]]]), 'L0_a': 412746.6539892222, 'L0_b': -218.0191469192505, 'L1_a': 328508.526178282, 'L1_b': -143.8092541694641, 'L0': 58514.92158221733, 'L1': 94851.06094897218, 'euts': [[791.8424317324492, 0.97, [0.0, 0.97, 1.0], ['Cr', 'L', 'Eu']]], 'pers': [], 'cmps': [], 'migs': []}, 'B-Dy': {'mae': 53.12611622821737, 'rmse': 72.59017615726894, 'norm_mae': 0.019152138227123316, 'norm_rmse': 0.026168995334103228, 'nmpath': array([[[ -20.        ,  -20.        ,  -40.        ,  -40.        ,\n",
      "         -182.5       , -182.5       , -201.875     , -201.875     ,\n",
      "         -201.875     ,  -88.125     ,  -88.125     ,  -88.125     ,\n",
      "          -88.125     ,  -88.125     ,  -91.69433594,  -91.69433594,\n",
      "          -91.69433594,  -91.69433594,  -91.69433594,  -77.41981506,\n",
      "          -77.41981506,  -77.41981506,  -77.41981506,  -78.7669915 ],\n",
      "        [ -20.        ,  -20.        ,    5.        ,    5.        ,\n",
      "           48.125     ,   48.125     ,   16.09375   ,   16.09375   ,\n",
      "           16.09375   ,  -43.59375   ,  -43.59375   ,  -43.59375   ,\n",
      "          -43.59375   ,  -43.59375   ,  -58.2043457 ,  -58.2043457 ,\n",
      "          -58.2043457 ,  -58.2043457 ,  -58.2043457 ,  -65.43699265,\n",
      "          -65.43699265,  -65.43699265,  -65.43699265,  -65.18540397],\n",
      "        [ 521.62296302,  521.62296302,  150.29451464,  150.29451464,\n",
      "           98.68727645,   98.68727645,   89.94773401,   89.94773401,\n",
      "           89.94773401,   59.68359096,   59.68359096,   59.68359096,\n",
      "           59.68359096,   59.68359096,   54.14598475,   54.14598475,\n",
      "           54.14598475,   54.14598475,   54.14598475,   53.20562413,\n",
      "           53.20562413,   53.20562413,   53.20562413,   53.15499857]],\n",
      "\n",
      "       [[ -20.        ,  -20.        ,  -20.        , -170.        ,\n",
      "         -170.        , -170.        , -170.        , -170.        ,\n",
      "         -160.9375    , -160.9375    , -160.9375    , -133.06640625,\n",
      "          -77.32421875,  -77.32421875,  -77.32421875,  -77.32421875,\n",
      "          -80.46478271,  -86.74591064,  -86.74591064,  -86.74591064,\n",
      "          -83.31996918,  -83.31996918,  -80.85761786,  -80.85761786],\n",
      "        [  20.        ,   20.        ,   20.        ,   27.5       ,\n",
      "           27.5       ,   27.5       ,   27.5       ,   27.5       ,\n",
      "          -19.453125  ,  -19.453125  ,  -19.453125  ,  -31.44042969,\n",
      "          -55.41503906,  -55.41503906,  -55.41503906,  -55.41503906,\n",
      "          -57.76435852,  -62.46299744,  -62.46299744,  -62.46299744,\n",
      "          -62.88533211,  -62.88533211,  -64.21505749,  -64.21505749],\n",
      "        [ 227.13793737,  227.13793737,  227.13793737,   90.00497408,\n",
      "           90.00497408,   90.00497408,   90.00497408,   90.00497408,\n",
      "           73.14558744,   73.14558744,   73.14558744,   64.79028187,\n",
      "           56.37178796,   56.37178796,   56.37178796,   56.37178796,\n",
      "           54.59442921,   53.74670357,   53.74670357,   53.74670357,\n",
      "           53.29029887,   53.29029887,   53.15531396,   53.15531396]],\n",
      "\n",
      "       [[  20.        , -100.        , -100.        , -100.        ,\n",
      "         -100.        , -214.375     , -214.375     , -129.0625    ,\n",
      "         -129.0625    , -129.0625    , -122.265625  , -122.265625  ,\n",
      "         -122.265625  , -102.49511719, -102.49511719,  -75.51635742,\n",
      "          -75.51635742,  -75.51635742,  -82.36824036,  -82.36824036,\n",
      "          -82.36824036,  -79.370718  ,  -79.370718  ,  -79.370718  ],\n",
      "        [ -20.        ,   40.        ,   40.        ,   40.        ,\n",
      "           40.        ,   36.71875   ,   36.71875   ,   -8.046875  ,\n",
      "           -8.046875  ,   -8.046875  ,  -43.26171875,  -43.26171875,\n",
      "          -43.26171875,  -46.38305664,  -46.38305664,  -62.02301025,\n",
      "          -62.02301025,  -62.02301025,  -61.17834091,  -61.17834091,\n",
      "          -61.17834091,  -65.65257311,  -65.65257311,  -65.65257311],\n",
      "        [          inf,  123.60537514,  123.60537514,  123.60537514,\n",
      "          123.60537514,   97.62427262,   97.62427262,   74.31951731,\n",
      "           74.31951731,   74.31951731,   61.32591621,   61.32591621,\n",
      "           61.32591621,   56.79231515,   56.79231515,   54.24808492,\n",
      "           54.24808492,   54.24808492,   53.37732804,   53.37732804,\n",
      "           53.37732804,   53.12611623,   53.12611623,   53.12611623]]]), 'L0_a': 53882.607842876045, 'L0_b': -79.37071800231934, 'L1_a': 66691.55770617764, 'L1_b': -65.6525731086731, 'L0': -122640.64696941222, 'L1': -79322.06272757013, 'euts': [[1386.3222240866426, 0.99, [0.33, 0.99, 1.0], ['DyB2', 'L', 'Dy']], [2078.0605993929576, 0.01, [0.0, 0.01, 0.08], ['B', 'L', 'DyB12']]], 'pers': [[2095.635607057018, 0.33, [0.2, 0.33, 0.46], ['DyB4', 'DyB2', 'L']], [2134.2080497234747, 0.08, [0.03, 0.08, 0.2], ['L', 'DyB12', 'DyB4']]], 'cmps': [[2497.3869933638607, 0.2, [0.2, 0.21, 0.22], ['DyB4']]], 'migs': []}, 'Ag-V': {'mae': 22.534269847206073, 'rmse': 35.71918042088494, 'norm_mae': 0.007167593807458251, 'norm_rmse': 0.011361387705400261, 'nmpath': array([[[-2.00000000e+01, -2.00000000e+01, -3.50000000e+01,\n",
      "         -3.50000000e+01, -2.31250000e+01, -2.31250000e+01,\n",
      "         -1.62890625e+01, -1.62890625e+01, -9.36523438e+00,\n",
      "         -5.90332031e+00, -4.17236328e+00, -7.10449219e-01,\n",
      "         -7.10449219e-01, -7.10449219e-01, -7.10449219e-01,\n",
      "          3.30810547e-01,  3.30810547e-01,  3.30810547e-01,\n",
      "          3.30810547e-01,  3.30810547e-01,  3.30810547e-01,\n",
      "          3.30810547e-01,  3.30810547e-01,  3.21938992e-01,\n",
      "          3.21938992e-01,  3.13548148e-01,  3.13548148e-01,\n",
      "          3.13548148e-01,  3.58845405e-01,  3.58845405e-01,\n",
      "          3.58845405e-01,  4.08463525e-01,  4.08463525e-01,\n",
      "          4.08463525e-01,  4.08463525e-01,  4.40006315e-01,\n",
      "          4.40006315e-01,  4.40006315e-01,  4.40006315e-01,\n",
      "          4.66874656e-01,  4.66874656e-01,  4.66874656e-01,\n",
      "          4.66874656e-01,  4.66874656e-01],\n",
      "        [-2.00000000e+01, -2.00000000e+01,  3.25000000e+01,\n",
      "          3.25000000e+01,  3.59375000e+01,  3.59375000e+01,\n",
      "          4.10742188e+01,  4.10742188e+01,  5.17626953e+01,\n",
      "          5.71069336e+01,  5.97790527e+01,  6.51232910e+01,\n",
      "          6.51232910e+01,  6.51232910e+01,  6.51232910e+01,\n",
      "          7.75628662e+01,  7.75628662e+01,  7.75628662e+01,\n",
      "          7.75628662e+01,  7.75628662e+01,  7.75628662e+01,\n",
      "          7.75628662e+01,  7.75628662e+01,  7.58566463e+01,\n",
      "          7.58566463e+01,  7.11469372e+01,  7.11469372e+01,\n",
      "          7.11469372e+01,  5.23822374e+01,  5.23822374e+01,\n",
      "          5.23822374e+01, -1.18293359e+01, -1.18293359e+01,\n",
      "         -1.18293359e+01, -1.18293359e+01, -2.46134383e+00,\n",
      "         -2.46134383e+00, -2.46134383e+00, -2.46134383e+00,\n",
      "         -3.18911095e+00, -3.18911095e+00, -3.18911095e+00,\n",
      "         -3.18911095e+00, -3.18911095e+00],\n",
      "        [ 8.83012127e+04,  8.83012127e+04,  2.13002398e+04,\n",
      "          2.13002398e+04,  1.52700347e+04,  1.52700347e+04,\n",
      "          1.09951136e+04,  1.09951136e+04,  6.27225203e+03,\n",
      "          4.10352255e+03,  3.05515237e+03,  1.01832707e+03,\n",
      "          1.01832707e+03,  1.01832707e+03,  1.01832707e+03,\n",
      "          5.08830507e+02,  5.08830507e+02,  5.08830507e+02,\n",
      "          5.08830507e+02,  5.08830507e+02,  5.08830507e+02,\n",
      "          5.08830507e+02,  5.08830507e+02,  5.05534203e+02,\n",
      "          5.05534203e+02,  4.92525537e+02,  4.92525537e+02,\n",
      "          4.92525537e+02,  4.02060436e+02,  4.02060436e+02,\n",
      "          4.02060436e+02,  8.98804228e+01,  8.98804228e+01,\n",
      "          8.98804228e+01,  8.98804228e+01,  5.13191050e+01,\n",
      "          5.13191050e+01,  5.13191050e+01,  5.13191050e+01,\n",
      "          2.30271352e+01,  2.30271352e+01,  2.30271352e+01,\n",
      "          2.30271352e+01,  2.30271352e+01]],\n",
      "\n",
      "       [[-2.00000000e+01, -2.00000000e+01, -2.00000000e+01,\n",
      "         -2.00000000e+01, -2.00000000e+01, -1.64062500e+01,\n",
      "         -1.64062500e+01, -2.38281250e+00, -2.38281250e+00,\n",
      "         -2.38281250e+00, -2.38281250e+00, -2.38281250e+00,\n",
      "         -2.38281250e+00, -1.51733398e+00,  2.13623047e-01,\n",
      "          2.13623047e-01,  2.13623047e-01,  2.13623047e-01,\n",
      "          2.13623047e-01,  2.13623047e-01,  2.13623047e-01,\n",
      "          2.71091461e-01,  2.99825668e-01,  2.99825668e-01,\n",
      "          3.11974883e-01,  3.11974883e-01,  3.35836262e-01,\n",
      "          3.35836262e-01,  3.35836262e-01,  3.48782893e-01,\n",
      "          3.48782893e-01,  3.48782893e-01,  3.81138837e-01,\n",
      "          4.29672753e-01,  4.29672753e-01,  4.29672753e-01,\n",
      "          4.29672753e-01,  4.53194320e-01,  4.53194320e-01,\n",
      "          4.53194320e-01,  4.54498458e-01,  4.55150527e-01,\n",
      "          4.55150527e-01,  4.80877747e-01],\n",
      "        [ 2.00000000e+01,  2.00000000e+01,  2.00000000e+01,\n",
      "          2.00000000e+01,  2.00000000e+01,  3.36718750e+01,\n",
      "          3.36718750e+01,  6.61523438e+01,  6.61523438e+01,\n",
      "          6.61523438e+01,  6.61523438e+01,  6.61523438e+01,\n",
      "          6.61523438e+01,  6.74884033e+01,  7.01605225e+01,\n",
      "          7.01605225e+01,  7.01605225e+01,  7.01605225e+01,\n",
      "          7.01605225e+01,  7.01605225e+01,  7.01605225e+01,\n",
      "          7.29572773e+01,  7.43556547e+01,  7.43556547e+01,\n",
      "          7.46282884e+01,  7.46282884e+01,  6.83816259e+01,\n",
      "          6.83816259e+01,  6.83816259e+01,  3.39137770e+01,\n",
      "          3.39137770e+01,  3.39137770e+01,  1.56593356e+01,\n",
      "         -1.17223264e+01, -1.17223264e+01, -1.17223264e+01,\n",
      "         -1.17223264e+01, -9.25934252e-02, -9.25934252e-02,\n",
      "         -9.25934252e-02, -2.17239253e+00, -3.21229208e+00,\n",
      "         -3.21229208e+00, -2.12023499e+00],\n",
      "        [ 1.72389322e+04,  1.72389322e+04,  1.72389322e+04,\n",
      "          1.72389322e+04,  1.72389322e+04,  1.21087838e+04,\n",
      "          1.21087838e+04,  1.95292306e+03,  1.95292306e+03,\n",
      "          1.95292306e+03,  1.95292306e+03,  1.95292306e+03,\n",
      "          1.95292306e+03,  1.46336953e+03,  5.27172965e+02,\n",
      "          5.27172965e+02,  5.27172965e+02,  5.27172965e+02,\n",
      "          5.27172965e+02,  5.27172965e+02,  5.27172965e+02,\n",
      "          5.13350839e+02,  5.08174067e+02,  5.08174067e+02,\n",
      "          5.04827974e+02,  5.04827974e+02,  4.75457610e+02,\n",
      "          4.75457610e+02,  4.75457610e+02,  3.43384298e+02,\n",
      "          3.43384298e+02,  3.43384298e+02,  2.39287166e+02,\n",
      "          7.42152669e+01,  7.42152669e+01,  7.42152669e+01,\n",
      "          7.42152669e+01,  4.75601227e+01,  4.75601227e+01,\n",
      "          4.75601227e+01,  3.55390436e+01,  3.10393770e+01,\n",
      "          3.10393770e+01,  2.25342698e+01]],\n",
      "\n",
      "       [[ 2.00000000e+01, -4.00000000e+01, -4.00000000e+01,\n",
      "         -2.50000000e+00, -2.50000000e+00, -2.50000000e+00,\n",
      "         -2.50000000e+00, -2.50000000e+00, -2.50000000e+00,\n",
      "         -2.50000000e+00, -2.50000000e+00, -2.50000000e+00,\n",
      "         -5.93261719e-01, -5.93261719e-01, -5.93261719e-01,\n",
      "         -5.93261719e-01, -1.60522461e-01,  5.58471680e-02,\n",
      "          1.64031982e-01,  2.18124390e-01,  3.26309204e-01,\n",
      "          3.26309204e-01,  3.26309204e-01,  3.26309204e-01,\n",
      "          3.26309204e-01,  3.26309204e-01,  3.26309204e-01,\n",
      "          3.21458206e-01,  3.21458206e-01,  3.21458206e-01,\n",
      "          4.18526037e-01,  4.18526037e-01,  4.18526037e-01,\n",
      "          4.18526037e-01,  4.18797088e-01,  4.18797088e-01,\n",
      "          4.42860757e-01,  4.42860757e-01,  4.44730537e-01,\n",
      "          4.44730537e-01,  4.44730537e-01,  4.44730537e-01,\n",
      "          4.69153618e-01,  4.69153618e-01],\n",
      "        [-2.00000000e+01,  1.00000000e+01,  1.00000000e+01,\n",
      "          5.87500000e+01,  5.87500000e+01,  5.87500000e+01,\n",
      "          5.87500000e+01,  5.87500000e+01,  5.87500000e+01,\n",
      "          5.87500000e+01,  5.87500000e+01,  5.87500000e+01,\n",
      "          7.25256348e+01,  7.25256348e+01,  7.25256348e+01,\n",
      "          7.25256348e+01,  7.31936646e+01,  7.35276794e+01,\n",
      "          7.36946869e+01,  7.37781906e+01,  7.39451981e+01,\n",
      "          7.39451981e+01,  7.39451981e+01,  7.39451981e+01,\n",
      "          7.39451981e+01,  7.39451981e+01,  7.39451981e+01,\n",
      "          6.14024485e+01,  6.14024485e+01,  6.14024485e+01,\n",
      "          6.63912447e+00,  6.63912447e+00,  6.63912447e+00,\n",
      "          6.63912447e+00, -2.56835335e+00, -2.56835335e+00,\n",
      "         -9.35357600e+00, -9.35357600e+00, -5.31527231e+00,\n",
      "         -5.31527231e+00, -5.31527231e+00, -5.31527231e+00,\n",
      "         -2.14341612e+00, -2.14341612e+00],\n",
      "        [            inf,  3.16427998e+04,  3.16427998e+04,\n",
      "          2.10871149e+03,  2.10871149e+03,  2.10871149e+03,\n",
      "          2.10871149e+03,  2.10871149e+03,  2.10871149e+03,\n",
      "          2.10871149e+03,  2.10871149e+03,  2.10871149e+03,\n",
      "          9.44781699e+02,  9.44781699e+02,  9.44781699e+02,\n",
      "          9.44781699e+02,  7.15924509e+02,  6.08470497e+02,\n",
      "          5.59151231e+02,  5.36073712e+02,  4.97146599e+02,\n",
      "          4.97146599e+02,  4.97146599e+02,  4.97146599e+02,\n",
      "          4.97146599e+02,  4.97146599e+02,  4.97146599e+02,\n",
      "          4.49643896e+02,  4.49643896e+02,  4.49643896e+02,\n",
      "          1.39857263e+02,  1.39857263e+02,  1.39857263e+02,\n",
      "          1.39857263e+02,  7.79558885e+01,  7.79558885e+01,\n",
      "          5.60334215e+01,  5.60334215e+01,  3.51540361e+01,\n",
      "          3.51540361e+01,  3.51540361e+01,  3.51540361e+01,\n",
      "          2.43414307e+01,  2.43414307e+01]]]), 'L0_a': 50727.343454333306, 'L0_b': 0.480877746532542, 'L1_a': 6524.631180641314, 'L1_b': -2.120234986331866, 'L0': 51780.6561468272, 'L1': 1880.47694751994, 'euts': [], 'pers': [], 'cmps': [], 'migs': [[1794.5457943064516, 0.92, [0.06, 0.92, 1.0], ['L', 'L', 'V']]]}, 'Al-Cu': {'mae': 23.562812948331036, 'rmse': 33.809732548158586, 'norm_mae': 0.017352136317552606, 'norm_rmse': 0.024898177026745745, 'nmpath': array([[[ -20.        ,  -20.        ,  -20.        ,   -2.5       ,\n",
      "            6.25      ,   19.375     ,   19.375     ,   -9.6875    ,\n",
      "           -9.6875    ,   -9.6875    ,   -9.6875    ,  -56.71875   ,\n",
      "          -56.71875   ,  -56.71875   ,  -56.71875   ,  -55.70861816,\n",
      "          -55.70861816,  -55.70861816,  -58.35857391,  -59.68355179,\n",
      "          -59.68355179,  -60.45782208,  -60.45782208,  -62.42349297],\n",
      "        [ -20.        ,  -20.        ,  -20.        ,  -25.        ,\n",
      "          -27.5       ,  -31.25      ,  -31.25      ,  -74.375     ,\n",
      "          -74.375     ,  -74.375     ,  -74.375     , -120.9375    ,\n",
      "         -120.9375    , -120.9375    , -120.9375    , -122.13012695,\n",
      "         -122.13012695, -122.13012695, -125.96214294, -127.87815094,\n",
      "         -127.87815094, -128.77668619, -128.77668619, -130.67945302],\n",
      "        [  97.74209112,   97.74209112,   97.74209112,   82.03791963,\n",
      "           69.94266262,   46.84532794,   46.84532794,   39.86785148,\n",
      "           39.86785148,   39.86785148,   39.86785148,   28.55869095,\n",
      "           28.55869095,   28.55869095,   28.55869095,   25.50752526,\n",
      "           25.50752526,   25.50752526,   24.54864768,   24.15472362,\n",
      "           24.15472362,   23.96529661,   23.96529661,   23.56281295]],\n",
      "\n",
      "       [[ -20.        ,  -10.        ,   10.        ,   10.        ,\n",
      "           10.        ,   10.        ,   10.        ,   10.        ,\n",
      "            4.921875  ,    4.921875  ,  -40.5078125 ,  -40.5078125 ,\n",
      "          -40.5078125 ,  -40.5078125 ,  -49.42626953,  -49.42626953,\n",
      "          -53.63296509,  -62.0463562 ,  -62.0463562 ,  -62.0463562 ,\n",
      "          -62.0463562 ,  -62.0463562 ,  -62.0463562 ,  -62.0463562 ],\n",
      "        [  20.        ,    0.        ,  -40.        ,  -40.        ,\n",
      "          -40.        ,  -40.        ,  -40.        ,  -40.        ,\n",
      "          -51.40625   ,  -51.40625   , -109.140625  , -109.140625  ,\n",
      "         -109.140625  , -109.140625  , -117.17285156, -117.17285156,\n",
      "         -121.48712158, -130.11566162, -130.11566162, -130.11566162,\n",
      "         -130.11566162, -130.11566162, -130.11566162, -130.11566162],\n",
      "        [ 121.4545641 ,  107.18989542,   46.62431264,   46.62431264,\n",
      "           46.62431264,   46.62431264,   46.62431264,   46.62431264,\n",
      "           42.36601064,   42.36601064,   30.44053269,   30.44053269,\n",
      "           30.44053269,   30.44053269,   27.22195229,   27.22195229,\n",
      "           25.91433419,   23.73188104,   23.73188104,   23.73188104,\n",
      "           23.73188104,   23.73188104,   23.73188104,   23.73188104]],\n",
      "\n",
      "       [[  20.        ,   20.        ,   20.        ,   20.        ,\n",
      "           20.        ,   20.        ,    9.375     ,    9.375     ,\n",
      "            9.375     ,  -25.8984375 ,  -25.8984375 ,  -25.8984375 ,\n",
      "          -37.25585938,  -59.97070312,  -59.97070312,  -59.97070312,\n",
      "          -59.97070312,  -59.97070312,  -59.97070312,  -59.97070312,\n",
      "          -60.41782856,  -60.41782856,  -60.83495885,  -60.83495885],\n",
      "        [ -20.        ,  -20.        ,  -20.        ,  -20.        ,\n",
      "          -20.        ,  -20.        ,  -51.25      ,  -51.25      ,\n",
      "          -51.25      ,  -86.171875  ,  -86.171875  ,  -86.171875  ,\n",
      "         -100.60546875, -129.47265625, -129.47265625, -129.47265625,\n",
      "         -129.47265625, -129.47265625, -129.47265625, -129.47265625,\n",
      "         -129.23478127, -129.23478127, -129.34047759, -129.34047759],\n",
      "        [  60.53500749,   60.53500749,   60.53500749,   60.53500749,\n",
      "           60.53500749,   60.53500749,   44.79092262,   44.79092262,\n",
      "           44.79092262,   34.07848054,   34.07848054,   34.07848054,\n",
      "           30.70460867,   24.20634501,   24.20634501,   24.20634501,\n",
      "           24.20634501,   24.20634501,   24.20634501,   24.20634501,\n",
      "           24.05604699,   24.05604699,   23.88278595,   23.88278595]]]), 'L0_a': -9593.030605728361, 'L0_b': -62.42349296808243, 'L1_a': 108848.40917825421, 'L1_b': -130.67945301532745, 'L0': -77605.67344020102, 'L1': -33531.55934225362, 'euts': [[600.9779291058624, 0.34, [0.33, 0.34, 0.5], ['Al2Cu', 'L', 'AlCu']], [522.837529400286, 0.12, [0.0, 0.12, 0.33], ['Al', 'L', 'Al2Cu']], [1039.9148938256144, 0.87, [0.75, 0.87, 1.0], ['AlCu3', 'L', 'Cu']]], 'pers': [[826.8904432411222, 0.69, [0.54, 0.69, 0.75], ['L', 'Al4Cu9', 'AlCu3']], [664.2004166225158, 0.5, [0.45, 0.5, 0.69], ['L', 'AlCu', 'Al4Cu9']]], 'cmps': [[600.6029292500281, 0.31, [0.31, 0.32, 0.33], ['Al2Cu']], [1046.512459894066, 0.75, [0.75, 0.76, 0.77], ['AlCu3']]], 'migs': []}}\n"
     ]
    }
   ],
   "source": [
    "import json\n",
    "import numpy as np\n",
    "import os\n",
    "\n",
    "investigation_systems = ['C-Nb', 'Cr-Eu', 'B-Dy', 'Ag-V', 'Al-Cu']\n",
    "data_dir = \"../data\"\n",
    "cache_file = \"../data/fit_results_cache\"\n",
    "\n",
    "# If results are already cached, skip the fitting of the systems. If you wish to re-run the fitting, delete the cache\n",
    "\n",
    "fitting_results = {}\n",
    "if os.path.exists(cache_file):\n",
    "    with open(cache_file, \"r\") as f:\n",
    "        print(\"Loading fitting results from cache\")\n",
    "        fitting_results = json.load(f)\n",
    "        for sys_results in fitting_results.values():\n",
    "            sys_results['nmpath'] = np.array(sys_results.get('nmpath', []))\n",
    "\n",
    "print(fitting_results)"
   ]
  },
  {
   "cell_type": "code",
   "execution_count": 6,
   "metadata": {},
   "outputs": [
    {
     "name": "stdout",
     "output_type": "stream",
     "text": [
      "Successfully loaded data with 4830 rows and 13 columns\n",
      "C: H_fusion = 117400.0 J/mol, T_fusion = 4762.0 K, T_vaporization = 5100.15 K\n",
      "Nb: H_fusion = 30000.0 J/mol, T_fusion = 2750.0 K, T_vaporization = 5017.15 K\n",
      "\n",
      "Reading MPDS json from entry at https://mpds.io/entry/C905339...\n",
      "\n",
      "\n",
      "--- Running random sampling method ---\n",
      "Running with seed 0\n",
      "Num sampled points: 1\n",
      "--- Beginning Nelder-Mead optimization ---\n",
      "--- Nelder-Mead converged in 8.19123101234436 seconds ---\n",
      "Mean temperature deviation per point between liquidus curves = 0.07890012839334304 \n",
      "\n",
      "--- Beginning Nelder-Mead optimization ---\n",
      "--- Nelder-Mead converged in 4.0945844650268555 seconds ---\n",
      "Mean temperature deviation per point between liquidus curves = 1.07691302111607 \n",
      "\n",
      "Perceived MAE: 1K, Actual MAE: 203K\n",
      "Num sampled points: 2\n",
      "--- Beginning Nelder-Mead optimization ---\n",
      "--- Nelder-Mead converged in 17.20001244544983 seconds ---\n",
      "Mean temperature deviation per point between liquidus curves = 367.2254640924753 \n",
      "\n",
      "--- Beginning Nelder-Mead optimization ---\n",
      "Liquidus not continuous for guess {b: 17.874714660644532, d: 43.974151612198746}\n",
      "Liquidus not continuous for guess {b: 21.846873474121097, d: 43.974151612198746}\n",
      "Liquidus not continuous for guess {b: 17.874714660644532, d: 53.74618530379847}\n",
      "Points cannot contain NaN\n",
      "--- Beginning Nelder-Mead optimization ---\n"
     ]
    },
    {
     "name": "stderr",
     "output_type": "stream",
     "text": [
      "c:\\Users\\willwerj\\miniforge3\\envs\\gliquidenv\\lib\\site-packages\\numpy\\core\\fromnumeric.py:3504: RuntimeWarning: Mean of empty slice.\n",
      "  return _methods._mean(a, axis=axis, dtype=dtype,\n",
      "c:\\Users\\willwerj\\miniforge3\\envs\\gliquidenv\\lib\\site-packages\\numpy\\core\\_methods.py:121: RuntimeWarning: invalid value encountered in divide\n",
      "  ret = um.true_divide(\n"
     ]
    },
    {
     "name": "stdout",
     "output_type": "stream",
     "text": [
      "--- Nelder-Mead converged in 7.105424404144287 seconds ---\n",
      "Mean temperature deviation per point between liquidus curves = 352.4059616128753 \n",
      "\n",
      "Perceived MAE: 352K, Actual MAE: 275K\n",
      "Num sampled points: 3\n",
      "--- Beginning Nelder-Mead optimization ---\n",
      "--- Nelder-Mead converged in 10.090213775634766 seconds ---\n",
      "Mean temperature deviation per point between liquidus curves = 235.01636738885037 \n",
      "\n",
      "--- Beginning Nelder-Mead optimization ---\n",
      "Liquidus not continuous for guess {b: 2.8924255371093928, d: 17.40493774414062}\n",
      "Liquidus not continuous for guess {b: 2.8924255371093945, d: 17.404937744140618}\n",
      "Liquidus not continuous for guess {b: 13.739021301269556, d: 13.66287612915038}\n",
      "Liquidus not continuous for guess {b: 19.388289928436308, d: 7.304634809494003}\n",
      "Liquidus not continuous for guess {b: 13.772916913032557, d: 8.812609493732438}\n",
      "Liquidus not continuous for guess {b: 5.844874553382415, d: 12.64501021429895}\n",
      "--- Nelder-Mead converged in 4.243350028991699 seconds ---\n",
      "Mean temperature deviation per point between liquidus curves = 230.56390018618046 \n",
      "\n",
      "Perceived MAE: 230K, Actual MAE: 171K\n",
      "Num sampled points: 4\n",
      "--- Beginning Nelder-Mead optimization ---\n",
      "--- Nelder-Mead converged in 11.452594518661499 seconds ---\n",
      "Mean temperature deviation per point between liquidus curves = 122.32941318023093 \n",
      "\n",
      "--- Beginning Nelder-Mead optimization ---\n",
      "--- Nelder-Mead converged in 1.0592331886291504 seconds ---\n",
      "Mean temperature deviation per point between liquidus curves = 121.50393820600466 \n",
      "\n",
      "Perceived MAE: 121K, Actual MAE: 75K\n",
      "Num sampled points: 5\n",
      "--- Beginning Nelder-Mead optimization ---\n",
      "--- Nelder-Mead converged in 14.599717378616333 seconds ---\n",
      "Mean temperature deviation per point between liquidus curves = 199.75686063292852 \n",
      "\n",
      "--- Beginning Nelder-Mead optimization ---\n",
      "--- Nelder-Mead converged in 2.4977505207061768 seconds ---\n",
      "Mean temperature deviation per point between liquidus curves = 194.47694611873462 \n",
      "\n",
      "Perceived MAE: 194K, Actual MAE: 77K\n",
      "Num sampled points: 6\n",
      "--- Beginning Nelder-Mead optimization ---\n",
      "--- Nelder-Mead converged in 13.334301710128784 seconds ---\n",
      "Mean temperature deviation per point between liquidus curves = 223.954514463904 \n",
      "\n",
      "--- Beginning Nelder-Mead optimization ---\n",
      "--- Nelder-Mead converged in 1.8575870990753174 seconds ---\n",
      "Mean temperature deviation per point between liquidus curves = 209.32642449069306 \n",
      "\n",
      "Perceived MAE: 209K, Actual MAE: 100K\n",
      "Num sampled points: 7\n",
      "--- Beginning Nelder-Mead optimization ---\n",
      "--- Nelder-Mead converged in 10.423038959503174 seconds ---\n",
      "Mean temperature deviation per point between liquidus curves = 152.30504083525395 \n",
      "\n",
      "--- Beginning Nelder-Mead optimization ---\n",
      "--- Nelder-Mead converged in 4.0224785804748535 seconds ---\n",
      "Mean temperature deviation per point between liquidus curves = 150.18628102681868 \n",
      "\n",
      "Perceived MAE: 150K, Actual MAE: 75K\n",
      "Num sampled points: 8\n",
      "--- Beginning Nelder-Mead optimization ---\n",
      "--- Nelder-Mead converged in 11.143928050994873 seconds ---\n",
      "Mean temperature deviation per point between liquidus curves = 110.47977142280901 \n",
      "\n",
      "--- Beginning Nelder-Mead optimization ---\n",
      "--- Nelder-Mead converged in 0.38580846786499023 seconds ---\n",
      "Mean temperature deviation per point between liquidus curves = 106.18576951511879 \n",
      "\n",
      "Perceived MAE: 106K, Actual MAE: 71K\n",
      "Num sampled points: 9\n",
      "--- Beginning Nelder-Mead optimization ---\n",
      "--- Nelder-Mead converged in 10.034424304962158 seconds ---\n",
      "Mean temperature deviation per point between liquidus curves = 131.83191066944545 \n",
      "\n",
      "--- Beginning Nelder-Mead optimization ---\n",
      "--- Nelder-Mead converged in 0.3605644702911377 seconds ---\n",
      "Mean temperature deviation per point between liquidus curves = 130.88367429607226 \n",
      "\n",
      "Perceived MAE: 130K, Actual MAE: 108K\n",
      "Num sampled points: 10\n",
      "--- Beginning Nelder-Mead optimization ---\n",
      "--- Nelder-Mead converged in 14.027237176895142 seconds ---\n",
      "Mean temperature deviation per point between liquidus curves = 161.858010584824 \n",
      "\n",
      "--- Beginning Nelder-Mead optimization ---\n",
      "--- Nelder-Mead converged in 0.3807649612426758 seconds ---\n",
      "Mean temperature deviation per point between liquidus curves = 160.77296404360897 \n",
      "\n",
      "Perceived MAE: 160K, Actual MAE: 64K\n",
      "Num sampled points: 11\n",
      "--- Beginning Nelder-Mead optimization ---\n",
      "--- Nelder-Mead converged in 12.761419773101807 seconds ---\n",
      "Mean temperature deviation per point between liquidus curves = 152.55996880063165 \n",
      "\n",
      "--- Beginning Nelder-Mead optimization ---\n",
      "--- Nelder-Mead converged in 0.6279902458190918 seconds ---\n",
      "Mean temperature deviation per point between liquidus curves = 151.1029487509624 \n",
      "\n",
      "Perceived MAE: 151K, Actual MAE: 65K\n",
      "Num sampled points: 12\n",
      "--- Beginning Nelder-Mead optimization ---\n",
      "--- Nelder-Mead converged in 10.00914740562439 seconds ---\n",
      "Mean temperature deviation per point between liquidus curves = 124.50330280107201 \n",
      "\n",
      "--- Beginning Nelder-Mead optimization ---\n",
      "--- Nelder-Mead converged in 0.3663780689239502 seconds ---\n",
      "Mean temperature deviation per point between liquidus curves = 124.5115979275908 \n",
      "\n",
      "Perceived MAE: 124K, Actual MAE: 62K\n",
      "Num sampled points: 13\n",
      "--- Beginning Nelder-Mead optimization ---\n",
      "--- Nelder-Mead converged in 11.232840538024902 seconds ---\n",
      "Mean temperature deviation per point between liquidus curves = 143.85274764626652 \n",
      "\n",
      "--- Beginning Nelder-Mead optimization ---\n",
      "--- Nelder-Mead converged in 0.3530290126800537 seconds ---\n",
      "Mean temperature deviation per point between liquidus curves = 144.68928562575448 \n",
      "\n",
      "Perceived MAE: 144K, Actual MAE: 64K\n",
      "Num sampled points: 14\n",
      "--- Beginning Nelder-Mead optimization ---\n",
      "--- Nelder-Mead converged in 9.978798151016235 seconds ---\n",
      "Mean temperature deviation per point between liquidus curves = 163.4139690563227 \n",
      "\n",
      "--- Beginning Nelder-Mead optimization ---\n",
      "--- Nelder-Mead converged in 0.33820295333862305 seconds ---\n",
      "Mean temperature deviation per point between liquidus curves = 163.9607935090323 \n",
      "\n",
      "Perceived MAE: 163K, Actual MAE: 72K\n",
      "Num sampled points: 15\n",
      "--- Beginning Nelder-Mead optimization ---\n",
      "--- Nelder-Mead converged in 9.09761357307434 seconds ---\n",
      "Mean temperature deviation per point between liquidus curves = 93.03474299439057 \n",
      "\n",
      "--- Beginning Nelder-Mead optimization ---\n",
      "--- Nelder-Mead converged in 0.38463425636291504 seconds ---\n",
      "Mean temperature deviation per point between liquidus curves = 92.7387083497248 \n",
      "\n",
      "Perceived MAE: 92K, Actual MAE: 62K\n",
      "Running with seed 42\n",
      "Num sampled points: 1\n",
      "--- Beginning Nelder-Mead optimization ---\n",
      "--- Nelder-Mead converged in 10.562328577041626 seconds ---\n",
      "Mean temperature deviation per point between liquidus curves = 0.05197867004881118 \n",
      "\n",
      "--- Beginning Nelder-Mead optimization ---\n",
      "--- Nelder-Mead converged in 0.3562140464782715 seconds ---\n",
      "Mean temperature deviation per point between liquidus curves = 19.30609307782015 \n",
      "\n",
      "Perceived MAE: 19K, Actual MAE: 333K\n",
      "Num sampled points: 2\n",
      "--- Beginning Nelder-Mead optimization ---\n",
      "--- Nelder-Mead converged in 13.134686708450317 seconds ---\n",
      "Mean temperature deviation per point between liquidus curves = 171.09159226160733 \n",
      "\n",
      "--- Beginning Nelder-Mead optimization ---\n",
      "--- Nelder-Mead converged in 0.35008978843688965 seconds ---\n",
      "Mean temperature deviation per point between liquidus curves = 171.1619995570963 \n",
      "\n",
      "Perceived MAE: 171K, Actual MAE: 390K\n",
      "Num sampled points: 3\n",
      "--- Beginning Nelder-Mead optimization ---\n",
      "--- Nelder-Mead converged in 22.28629994392395 seconds ---\n",
      "Mean temperature deviation per point between liquidus curves = 3.3967824756496157 \n",
      "\n",
      "--- Beginning Nelder-Mead optimization ---\n",
      "--- Nelder-Mead converged in 0.3829216957092285 seconds ---\n",
      "Mean temperature deviation per point between liquidus curves = 3.7599041091489767 \n",
      "\n",
      "Perceived MAE: 3K, Actual MAE: 614K\n",
      "Num sampled points: 4\n",
      "--- Beginning Nelder-Mead optimization ---\n",
      "--- Nelder-Mead converged in 14.299160957336426 seconds ---\n",
      "Mean temperature deviation per point between liquidus curves = 205.44209131710713 \n",
      "\n",
      "--- Beginning Nelder-Mead optimization ---\n",
      "--- Nelder-Mead converged in 0.3936042785644531 seconds ---\n",
      "Mean temperature deviation per point between liquidus curves = 205.5819150534361 \n",
      "\n",
      "Perceived MAE: 205K, Actual MAE: 184K\n",
      "Num sampled points: 5\n",
      "--- Beginning Nelder-Mead optimization ---\n",
      "--- Nelder-Mead converged in 20.605658531188965 seconds ---\n",
      "Mean temperature deviation per point between liquidus curves = 361.443074481507 \n",
      "\n",
      "--- Beginning Nelder-Mead optimization ---\n",
      "--- Nelder-Mead converged in 0.3415381908416748 seconds ---\n",
      "Mean temperature deviation per point between liquidus curves = 360.69890434091155 \n",
      "\n",
      "Perceived MAE: 360K, Actual MAE: 238K\n",
      "Num sampled points: 6\n",
      "--- Beginning Nelder-Mead optimization ---\n",
      "--- Nelder-Mead converged in 10.631524801254272 seconds ---\n",
      "Mean temperature deviation per point between liquidus curves = 224.70168510072799 \n",
      "\n",
      "--- Beginning Nelder-Mead optimization ---\n",
      "--- Nelder-Mead converged in 0.35209083557128906 seconds ---\n",
      "Mean temperature deviation per point between liquidus curves = 225.33167120089755 \n",
      "\n",
      "Perceived MAE: 225K, Actual MAE: 62K\n",
      "Num sampled points: 7\n",
      "--- Beginning Nelder-Mead optimization ---\n",
      "--- Nelder-Mead converged in 10.299994945526123 seconds ---\n",
      "Mean temperature deviation per point between liquidus curves = 184.8486041054328 \n",
      "\n",
      "--- Beginning Nelder-Mead optimization ---\n",
      "--- Nelder-Mead converged in 0.33619046211242676 seconds ---\n",
      "Mean temperature deviation per point between liquidus curves = 185.33639586257942 \n",
      "\n",
      "Perceived MAE: 185K, Actual MAE: 66K\n",
      "Num sampled points: 8\n",
      "--- Beginning Nelder-Mead optimization ---\n",
      "--- Nelder-Mead converged in 13.352225542068481 seconds ---\n",
      "Mean temperature deviation per point between liquidus curves = 163.80287637457974 \n",
      "\n",
      "--- Beginning Nelder-Mead optimization ---\n",
      "--- Nelder-Mead converged in 0.3538541793823242 seconds ---\n",
      "Mean temperature deviation per point between liquidus curves = 164.6411755610483 \n",
      "\n",
      "Perceived MAE: 164K, Actual MAE: 151K\n",
      "Num sampled points: 9\n",
      "--- Beginning Nelder-Mead optimization ---\n",
      "--- Nelder-Mead converged in 14.584059715270996 seconds ---\n",
      "Mean temperature deviation per point between liquidus curves = 111.31914275593981 \n",
      "\n",
      "--- Beginning Nelder-Mead optimization ---\n",
      "--- Nelder-Mead converged in 0.3716292381286621 seconds ---\n",
      "Mean temperature deviation per point between liquidus curves = 110.0572163203195 \n",
      "\n",
      "Perceived MAE: 110K, Actual MAE: 77K\n",
      "Num sampled points: 10\n",
      "--- Beginning Nelder-Mead optimization ---\n",
      "--- Nelder-Mead converged in 9.458903789520264 seconds ---\n",
      "Mean temperature deviation per point between liquidus curves = 112.36584339046703 \n",
      "\n",
      "--- Beginning Nelder-Mead optimization ---\n",
      "--- Nelder-Mead converged in 0.36392974853515625 seconds ---\n",
      "Mean temperature deviation per point between liquidus curves = 112.15924239906816 \n",
      "\n",
      "Perceived MAE: 112K, Actual MAE: 67K\n",
      "Num sampled points: 11\n",
      "--- Beginning Nelder-Mead optimization ---\n",
      "--- Nelder-Mead converged in 10.386916399002075 seconds ---\n",
      "Mean temperature deviation per point between liquidus curves = 91.69653372888824 \n",
      "\n",
      "--- Beginning Nelder-Mead optimization ---\n",
      "--- Nelder-Mead converged in 0.3387284278869629 seconds ---\n",
      "Mean temperature deviation per point between liquidus curves = 90.95645395106297 \n",
      "\n",
      "Perceived MAE: 90K, Actual MAE: 92K\n",
      "Num sampled points: 12\n",
      "--- Beginning Nelder-Mead optimization ---\n",
      "--- Nelder-Mead converged in 14.564660787582397 seconds ---\n",
      "Mean temperature deviation per point between liquidus curves = 141.83814679400064 \n",
      "\n",
      "--- Beginning Nelder-Mead optimization ---\n",
      "--- Nelder-Mead converged in 0.34643983840942383 seconds ---\n",
      "Mean temperature deviation per point between liquidus curves = 141.67051956857807 \n",
      "\n",
      "Perceived MAE: 141K, Actual MAE: 60K\n",
      "Num sampled points: 13\n",
      "--- Beginning Nelder-Mead optimization ---\n",
      "--- Nelder-Mead converged in 10.691919803619385 seconds ---\n",
      "Mean temperature deviation per point between liquidus curves = 123.9588352859749 \n",
      "\n",
      "--- Beginning Nelder-Mead optimization ---\n",
      "--- Nelder-Mead converged in 0.3602328300476074 seconds ---\n",
      "Mean temperature deviation per point between liquidus curves = 123.18009622622078 \n",
      "\n",
      "Perceived MAE: 123K, Actual MAE: 83K\n",
      "Num sampled points: 14\n",
      "--- Beginning Nelder-Mead optimization ---\n",
      "--- Nelder-Mead converged in 18.94812273979187 seconds ---\n",
      "Mean temperature deviation per point between liquidus curves = 136.73963710383043 \n",
      "\n",
      "--- Beginning Nelder-Mead optimization ---\n",
      "--- Nelder-Mead converged in 0.3752918243408203 seconds ---\n",
      "Mean temperature deviation per point between liquidus curves = 137.1036844761587 \n",
      "\n",
      "Perceived MAE: 137K, Actual MAE: 67K\n",
      "Num sampled points: 15\n",
      "--- Beginning Nelder-Mead optimization ---\n",
      "--- Nelder-Mead converged in 13.976434230804443 seconds ---\n",
      "Mean temperature deviation per point between liquidus curves = 121.61005494453717 \n",
      "\n",
      "--- Beginning Nelder-Mead optimization ---\n",
      "--- Nelder-Mead converged in 0.35559725761413574 seconds ---\n",
      "Mean temperature deviation per point between liquidus curves = 121.52636476768264 \n",
      "\n",
      "Perceived MAE: 121K, Actual MAE: 60K\n",
      "Running with seed 123\n",
      "Num sampled points: 1\n",
      "--- Beginning Nelder-Mead optimization ---\n",
      "--- Nelder-Mead converged in 9.273883819580078 seconds ---\n",
      "Mean temperature deviation per point between liquidus curves = 0.009460193692575558 \n",
      "\n",
      "--- Beginning Nelder-Mead optimization ---\n",
      "--- Nelder-Mead converged in 0.35244274139404297 seconds ---\n",
      "Mean temperature deviation per point between liquidus curves = 0.454567507840693 \n",
      "\n",
      "Perceived MAE: 0K, Actual MAE: 517K\n",
      "Num sampled points: 2\n",
      "--- Beginning Nelder-Mead optimization ---\n",
      "--- Nelder-Mead converged in 13.048064947128296 seconds ---\n",
      "Mean temperature deviation per point between liquidus curves = 76.38274198559182 \n",
      "\n",
      "--- Beginning Nelder-Mead optimization ---\n",
      "--- Nelder-Mead converged in 0.3449718952178955 seconds ---\n",
      "Mean temperature deviation per point between liquidus curves = 76.40281948067441 \n",
      "\n",
      "Perceived MAE: 76K, Actual MAE: 122K\n",
      "Num sampled points: 3\n",
      "--- Beginning Nelder-Mead optimization ---\n",
      "--- Nelder-Mead converged in 12.47597360610962 seconds ---\n",
      "Mean temperature deviation per point between liquidus curves = 149.6521381437768 \n",
      "\n",
      "--- Beginning Nelder-Mead optimization ---\n",
      "--- Nelder-Mead converged in 0.36226630210876465 seconds ---\n",
      "Mean temperature deviation per point between liquidus curves = 149.86613630856135 \n",
      "\n",
      "Perceived MAE: 149K, Actual MAE: 102K\n",
      "Num sampled points: 4\n",
      "--- Beginning Nelder-Mead optimization ---\n",
      "--- Nelder-Mead converged in 12.149160623550415 seconds ---\n",
      "Mean temperature deviation per point between liquidus curves = 330.02984120563764 \n",
      "\n",
      "--- Beginning Nelder-Mead optimization ---\n",
      "--- Nelder-Mead converged in 0.4061129093170166 seconds ---\n",
      "Mean temperature deviation per point between liquidus curves = 328.7787852760432 \n",
      "\n",
      "Perceived MAE: 328K, Actual MAE: 324K\n",
      "Num sampled points: 5\n",
      "--- Beginning Nelder-Mead optimization ---\n",
      "--- Nelder-Mead converged in 13.807620763778687 seconds ---\n",
      "Mean temperature deviation per point between liquidus curves = 161.28741629595024 \n",
      "\n",
      "--- Beginning Nelder-Mead optimization ---\n",
      "--- Nelder-Mead converged in 0.36248326301574707 seconds ---\n",
      "Mean temperature deviation per point between liquidus curves = 161.07758918044448 \n",
      "\n",
      "Perceived MAE: 161K, Actual MAE: 137K\n",
      "Num sampled points: 6\n",
      "--- Beginning Nelder-Mead optimization ---\n",
      "--- Nelder-Mead converged in 12.081907987594604 seconds ---\n",
      "Mean temperature deviation per point between liquidus curves = 170.29048422830022 \n",
      "\n",
      "--- Beginning Nelder-Mead optimization ---\n",
      "--- Nelder-Mead converged in 0.3375430107116699 seconds ---\n",
      "Mean temperature deviation per point between liquidus curves = 170.87853750324436 \n",
      "\n",
      "Perceived MAE: 170K, Actual MAE: 149K\n",
      "Num sampled points: 7\n",
      "--- Beginning Nelder-Mead optimization ---\n",
      "--- Nelder-Mead converged in 13.691642045974731 seconds ---\n",
      "Mean temperature deviation per point between liquidus curves = 128.48482206061135 \n",
      "\n",
      "--- Beginning Nelder-Mead optimization ---\n",
      "--- Nelder-Mead converged in 0.3511655330657959 seconds ---\n",
      "Mean temperature deviation per point between liquidus curves = 127.61439338918471 \n",
      "\n",
      "Perceived MAE: 127K, Actual MAE: 114K\n",
      "Num sampled points: 8\n",
      "--- Beginning Nelder-Mead optimization ---\n",
      "--- Nelder-Mead converged in 11.07689642906189 seconds ---\n",
      "Mean temperature deviation per point between liquidus curves = 157.34924359833445 \n",
      "\n",
      "--- Beginning Nelder-Mead optimization ---\n",
      "--- Nelder-Mead converged in 0.3523843288421631 seconds ---\n",
      "Mean temperature deviation per point between liquidus curves = 157.4806844833022 \n",
      "\n",
      "Perceived MAE: 157K, Actual MAE: 69K\n",
      "Num sampled points: 9\n",
      "--- Beginning Nelder-Mead optimization ---\n",
      "--- Nelder-Mead converged in 10.780908346176147 seconds ---\n",
      "Mean temperature deviation per point between liquidus curves = 150.0110053880913 \n",
      "\n",
      "--- Beginning Nelder-Mead optimization ---\n",
      "--- Nelder-Mead converged in 0.36161017417907715 seconds ---\n",
      "Mean temperature deviation per point between liquidus curves = 149.64113921872547 \n",
      "\n",
      "Perceived MAE: 149K, Actual MAE: 90K\n",
      "Num sampled points: 10\n",
      "--- Beginning Nelder-Mead optimization ---\n",
      "--- Nelder-Mead converged in 11.562147617340088 seconds ---\n",
      "Mean temperature deviation per point between liquidus curves = 164.8890393765465 \n",
      "\n",
      "--- Beginning Nelder-Mead optimization ---\n",
      "--- Nelder-Mead converged in 0.34400153160095215 seconds ---\n",
      "Mean temperature deviation per point between liquidus curves = 164.78674627695497 \n",
      "\n",
      "Perceived MAE: 164K, Actual MAE: 62K\n",
      "Num sampled points: 11\n",
      "--- Beginning Nelder-Mead optimization ---\n",
      "--- Nelder-Mead converged in 11.81145429611206 seconds ---\n",
      "Mean temperature deviation per point between liquidus curves = 151.09786652607792 \n",
      "\n",
      "--- Beginning Nelder-Mead optimization ---\n",
      "--- Nelder-Mead converged in 0.3614363670349121 seconds ---\n",
      "Mean temperature deviation per point between liquidus curves = 150.0791720424121 \n",
      "\n",
      "Perceived MAE: 150K, Actual MAE: 87K\n",
      "Num sampled points: 12\n",
      "--- Beginning Nelder-Mead optimization ---\n",
      "--- Nelder-Mead converged in 12.989697694778442 seconds ---\n",
      "Mean temperature deviation per point between liquidus curves = 131.6292214677073 \n",
      "\n",
      "--- Beginning Nelder-Mead optimization ---\n",
      "--- Nelder-Mead converged in 0.34027838706970215 seconds ---\n",
      "Mean temperature deviation per point between liquidus curves = 131.33731927517968 \n",
      "\n",
      "Perceived MAE: 131K, Actual MAE: 63K\n",
      "Num sampled points: 13\n",
      "--- Beginning Nelder-Mead optimization ---\n",
      "--- Nelder-Mead converged in 12.302394151687622 seconds ---\n",
      "Mean temperature deviation per point between liquidus curves = 96.60520742399905 \n",
      "\n",
      "--- Beginning Nelder-Mead optimization ---\n",
      "--- Nelder-Mead converged in 0.3422996997833252 seconds ---\n",
      "Mean temperature deviation per point between liquidus curves = 96.14459814864989 \n",
      "\n",
      "Perceived MAE: 96K, Actual MAE: 75K\n",
      "Num sampled points: 14\n",
      "--- Beginning Nelder-Mead optimization ---\n",
      "--- Nelder-Mead converged in 11.396021842956543 seconds ---\n",
      "Mean temperature deviation per point between liquidus curves = 184.19745326574733 \n",
      "\n",
      "--- Beginning Nelder-Mead optimization ---\n",
      "--- Nelder-Mead converged in 0.40412092208862305 seconds ---\n",
      "Mean temperature deviation per point between liquidus curves = 184.35129737999648 \n",
      "\n",
      "Perceived MAE: 184K, Actual MAE: 77K\n",
      "Num sampled points: 15\n",
      "--- Beginning Nelder-Mead optimization ---\n",
      "--- Nelder-Mead converged in 9.471883296966553 seconds ---\n",
      "Mean temperature deviation per point between liquidus curves = 89.72300510964061 \n",
      "\n",
      "--- Beginning Nelder-Mead optimization ---\n",
      "--- Nelder-Mead converged in 0.33521032333374023 seconds ---\n",
      "Mean temperature deviation per point between liquidus curves = 89.27000655250686 \n",
      "\n",
      "Perceived MAE: 89K, Actual MAE: 82K\n",
      "Saved results to ../data\\C-Nb_optimization_random.xlsx\n",
      "\n",
      "--- Running random_below_1200C sampling method ---\n",
      "Warning: Not enough points to sample for C-Nb using random_below_1200C method\n",
      "\n",
      "--- Running even sampling method ---\n",
      "Num sampled points: 1\n",
      "--- Beginning Nelder-Mead optimization ---\n",
      "--- Nelder-Mead converged in 8.454569578170776 seconds ---\n",
      "Mean temperature deviation per point between liquidus curves = 0.047061301667326916 \n",
      "\n",
      "--- Beginning Nelder-Mead optimization ---\n",
      "--- Nelder-Mead converged in 6.463581085205078 seconds ---\n",
      "Mean temperature deviation per point between liquidus curves = 0.04673936588869765 \n",
      "\n",
      "Perceived MAE: 0K, Actual MAE: 79K\n",
      "Num sampled points: 2\n",
      "--- Beginning Nelder-Mead optimization ---\n",
      "--- Nelder-Mead converged in 14.685092210769653 seconds ---\n",
      "Mean temperature deviation per point between liquidus curves = 222.00870568120237 \n",
      "\n",
      "--- Beginning Nelder-Mead optimization ---\n",
      "Liquidus not continuous for guess {b: 6.869059610366812, d: 61.84437453869237}\n",
      "Liquidus not continuous for guess {b: 8.395517301559437, d: 61.84437453869237}\n",
      "Liquidus not continuous for guess {b: 6.869059610366812, d: 75.58756888062402}\n",
      "Points cannot contain NaN\n",
      "--- Beginning Nelder-Mead optimization ---\n"
     ]
    },
    {
     "name": "stderr",
     "output_type": "stream",
     "text": [
      "c:\\Users\\willwerj\\miniforge3\\envs\\gliquidenv\\lib\\site-packages\\numpy\\core\\fromnumeric.py:3504: RuntimeWarning: Mean of empty slice.\n",
      "  return _methods._mean(a, axis=axis, dtype=dtype,\n",
      "c:\\Users\\willwerj\\miniforge3\\envs\\gliquidenv\\lib\\site-packages\\numpy\\core\\_methods.py:121: RuntimeWarning: invalid value encountered in divide\n",
      "  ret = um.true_divide(\n"
     ]
    },
    {
     "name": "stdout",
     "output_type": "stream",
     "text": [
      "Liquidus not continuous for guess {b: 5.0, d: 12.5}\n",
      "Liquidus not continuous for guess {b: 10.8203125, d: 10.56640625}\n",
      "Liquidus not continuous for guess {b: 8.92578125, d: 9.853515625}\n",
      "Liquidus not continuous for guess {b: 8.92578125, d: 9.853515625}\n",
      "Liquidus not continuous for guess {b: 7.313957214355469, d: 10.78695297241211}\n",
      "--- Nelder-Mead converged in 5.412707805633545 seconds ---\n",
      "Mean temperature deviation per point between liquidus curves = 217.4986765368349 \n",
      "\n",
      "Perceived MAE: 217K, Actual MAE: 480K\n",
      "Num sampled points: 3\n",
      "--- Beginning Nelder-Mead optimization ---\n",
      "--- Nelder-Mead converged in 10.410111904144287 seconds ---\n",
      "Mean temperature deviation per point between liquidus curves = 146.62330243080902 \n",
      "\n",
      "--- Beginning Nelder-Mead optimization ---\n",
      "--- Nelder-Mead converged in 1.4899961948394775 seconds ---\n",
      "Mean temperature deviation per point between liquidus curves = 148.21370152385796 \n",
      "\n",
      "Perceived MAE: 148K, Actual MAE: 93K\n",
      "Num sampled points: 4\n",
      "--- Beginning Nelder-Mead optimization ---\n",
      "--- Nelder-Mead converged in 11.760992765426636 seconds ---\n",
      "Mean temperature deviation per point between liquidus curves = 206.04673553386976 \n",
      "\n",
      "--- Beginning Nelder-Mead optimization ---\n",
      "--- Nelder-Mead converged in 8.775813579559326 seconds ---\n",
      "Mean temperature deviation per point between liquidus curves = 197.49554810441677 \n",
      "\n",
      "Perceived MAE: 197K, Actual MAE: 85K\n",
      "Num sampled points: 5\n",
      "--- Beginning Nelder-Mead optimization ---\n",
      "--- Nelder-Mead converged in 9.866434812545776 seconds ---\n",
      "Mean temperature deviation per point between liquidus curves = 132.7763205496995 \n",
      "\n",
      "--- Beginning Nelder-Mead optimization ---\n",
      "--- Nelder-Mead converged in 6.808413028717041 seconds ---\n",
      "Mean temperature deviation per point between liquidus curves = 126.03433555820207 \n",
      "\n",
      "Perceived MAE: 126K, Actual MAE: 70K\n",
      "Num sampled points: 6\n",
      "--- Beginning Nelder-Mead optimization ---\n",
      "--- Nelder-Mead converged in 8.729343175888062 seconds ---\n",
      "Mean temperature deviation per point between liquidus curves = 136.79823592962666 \n",
      "\n",
      "--- Beginning Nelder-Mead optimization ---\n",
      "--- Nelder-Mead converged in 8.892388820648193 seconds ---\n",
      "Mean temperature deviation per point between liquidus curves = 117.3828955724208 \n",
      "\n",
      "Perceived MAE: 117K, Actual MAE: 72K\n",
      "Num sampled points: 7\n",
      "--- Beginning Nelder-Mead optimization ---\n",
      "--- Nelder-Mead converged in 10.855986595153809 seconds ---\n",
      "Mean temperature deviation per point between liquidus curves = 163.48821076727958 \n",
      "\n",
      "--- Beginning Nelder-Mead optimization ---\n",
      "--- Nelder-Mead converged in 7.095916748046875 seconds ---\n",
      "Mean temperature deviation per point between liquidus curves = 149.1243360087075 \n",
      "\n",
      "Perceived MAE: 149K, Actual MAE: 61K\n",
      "Num sampled points: 8\n",
      "--- Beginning Nelder-Mead optimization ---\n",
      "--- Nelder-Mead converged in 10.30322813987732 seconds ---\n",
      "Mean temperature deviation per point between liquidus curves = 178.26242346138767 \n",
      "\n",
      "--- Beginning Nelder-Mead optimization ---\n",
      "--- Nelder-Mead converged in 5.082674503326416 seconds ---\n",
      "Mean temperature deviation per point between liquidus curves = 141.10046088155346 \n",
      "\n",
      "Perceived MAE: 141K, Actual MAE: 59K\n",
      "Num sampled points: 9\n",
      "--- Beginning Nelder-Mead optimization ---\n",
      "--- Nelder-Mead converged in 12.94265866279602 seconds ---\n",
      "Mean temperature deviation per point between liquidus curves = 190.8316620101333 \n",
      "\n",
      "--- Beginning Nelder-Mead optimization ---\n",
      "--- Nelder-Mead converged in 5.727540731430054 seconds ---\n",
      "Mean temperature deviation per point between liquidus curves = 153.4148338883635 \n",
      "\n",
      "Perceived MAE: 153K, Actual MAE: 48K\n",
      "Num sampled points: 10\n",
      "--- Beginning Nelder-Mead optimization ---\n",
      "--- Nelder-Mead converged in 12.636523008346558 seconds ---\n",
      "Mean temperature deviation per point between liquidus curves = 121.85727917824354 \n",
      "\n",
      "--- Beginning Nelder-Mead optimization ---\n",
      "Liquidus not continuous for guess {b: 39.6748767014532, d: 61.22760630615043}\n",
      "Liquidus not continuous for guess {b: 48.491515968442805, d: 61.22760630615043}\n",
      "Liquidus not continuous for guess {b: 39.6748767014532, d: 74.83374104085053}\n",
      "Points cannot contain NaN\n",
      "--- Beginning Nelder-Mead optimization ---\n"
     ]
    },
    {
     "name": "stderr",
     "output_type": "stream",
     "text": [
      "c:\\Users\\willwerj\\miniforge3\\envs\\gliquidenv\\lib\\site-packages\\numpy\\core\\fromnumeric.py:3504: RuntimeWarning: Mean of empty slice.\n",
      "  return _methods._mean(a, axis=axis, dtype=dtype,\n",
      "c:\\Users\\willwerj\\miniforge3\\envs\\gliquidenv\\lib\\site-packages\\numpy\\core\\_methods.py:121: RuntimeWarning: invalid value encountered in divide\n",
      "  ret = um.true_divide(\n"
     ]
    },
    {
     "name": "stdout",
     "output_type": "stream",
     "text": [
      "--- Nelder-Mead converged in 4.321804523468018 seconds ---\n",
      "Mean temperature deviation per point between liquidus curves = 120.00227746879861 \n",
      "\n",
      "Perceived MAE: 120K, Actual MAE: 55K\n",
      "Num sampled points: 11\n",
      "--- Beginning Nelder-Mead optimization ---\n",
      "--- Nelder-Mead converged in 9.203972101211548 seconds ---\n",
      "Mean temperature deviation per point between liquidus curves = 111.10862980000663 \n",
      "\n",
      "--- Beginning Nelder-Mead optimization ---\n",
      "--- Nelder-Mead converged in 5.307582855224609 seconds ---\n",
      "Mean temperature deviation per point between liquidus curves = 103.8724869037263 \n",
      "\n",
      "Perceived MAE: 103K, Actual MAE: 53K\n",
      "Num sampled points: 12\n",
      "--- Beginning Nelder-Mead optimization ---\n",
      "--- Nelder-Mead converged in 12.913602828979492 seconds ---\n",
      "Mean temperature deviation per point between liquidus curves = 123.55515799544254 \n",
      "\n",
      "--- Beginning Nelder-Mead optimization ---\n",
      "--- Nelder-Mead converged in 2.4974656105041504 seconds ---\n",
      "Mean temperature deviation per point between liquidus curves = 108.92699847013895 \n",
      "\n",
      "Perceived MAE: 108K, Actual MAE: 55K\n",
      "Num sampled points: 13\n",
      "--- Beginning Nelder-Mead optimization ---\n",
      "--- Nelder-Mead converged in 18.120493412017822 seconds ---\n",
      "Mean temperature deviation per point between liquidus curves = 117.48856831061433 \n",
      "\n",
      "--- Beginning Nelder-Mead optimization ---\n",
      "--- Nelder-Mead converged in 3.717658042907715 seconds ---\n",
      "Mean temperature deviation per point between liquidus curves = 102.45022914277125 \n",
      "\n",
      "Perceived MAE: 102K, Actual MAE: 50K\n",
      "Num sampled points: 14\n",
      "--- Beginning Nelder-Mead optimization ---\n",
      "--- Nelder-Mead converged in 16.93966293334961 seconds ---\n",
      "Mean temperature deviation per point between liquidus curves = 137.25575809114525 \n",
      "\n",
      "--- Beginning Nelder-Mead optimization ---\n",
      "--- Nelder-Mead converged in 2.1285507678985596 seconds ---\n",
      "Mean temperature deviation per point between liquidus curves = 125.44766028928738 \n",
      "\n",
      "Perceived MAE: 125K, Actual MAE: 55K\n",
      "Num sampled points: 15\n",
      "--- Beginning Nelder-Mead optimization ---\n",
      "--- Nelder-Mead converged in 12.125300884246826 seconds ---\n",
      "Mean temperature deviation per point between liquidus curves = 103.08854634234353 \n",
      "\n",
      "--- Beginning Nelder-Mead optimization ---\n",
      "--- Nelder-Mead converged in 5.02868914604187 seconds ---\n",
      "Mean temperature deviation per point between liquidus curves = 87.63678227004256 \n",
      "\n",
      "Perceived MAE: 87K, Actual MAE: 47K\n",
      "Saved results to ../data\\C-Nb_optimization_even.xlsx\n",
      "\n",
      "--- Running even_below_1200C sampling method ---\n",
      "Warning: Not enough points to sample for C-Nb using even_below_1200C method\n",
      "Cr: H_fusion = 21000.0 J/mol, T_fusion = 2180.0 K, T_vaporization = 2944.15 K\n",
      "Eu: H_fusion = 9210.0 J/mol, T_fusion = 1095.0 K, T_vaporization = 1800.15 K\n",
      "\n",
      "Reading MPDS json from entry at https://mpds.io/entry/C907707...\n",
      "\n",
      "\n",
      "--- Running random sampling method ---\n",
      "Running with seed 0\n",
      "Num sampled points: 1\n",
      "--- Beginning Nelder-Mead optimization ---\n",
      "--- Nelder-Mead converged in 8.58693242073059 seconds ---\n",
      "Mean temperature deviation per point between liquidus curves = 0.06644394256045416 \n",
      "\n",
      "--- Beginning Nelder-Mead optimization ---\n",
      "--- Nelder-Mead converged in 0.619642972946167 seconds ---\n",
      "Mean temperature deviation per point between liquidus curves = 0.31195792681955936 \n",
      "\n",
      "Perceived MAE: 0K, Actual MAE: 25K\n",
      "Num sampled points: 2\n",
      "--- Beginning Nelder-Mead optimization ---\n",
      "--- Nelder-Mead converged in 16.855186700820923 seconds ---\n",
      "Mean temperature deviation per point between liquidus curves = 101.75553459860537 \n",
      "\n",
      "--- Beginning Nelder-Mead optimization ---\n",
      "--- Nelder-Mead converged in 0.6133251190185547 seconds ---\n",
      "Mean temperature deviation per point between liquidus curves = 101.38964586375393 \n",
      "\n",
      "Perceived MAE: 101K, Actual MAE: 120K\n",
      "Num sampled points: 3\n",
      "--- Beginning Nelder-Mead optimization ---\n",
      "--- Nelder-Mead converged in 24.761897087097168 seconds ---\n",
      "Mean temperature deviation per point between liquidus curves = 151.30897369966326 \n",
      "\n",
      "--- Beginning Nelder-Mead optimization ---\n",
      "--- Nelder-Mead converged in 0.5501546859741211 seconds ---\n",
      "Mean temperature deviation per point between liquidus curves = 148.43524765350932 \n",
      "\n",
      "Perceived MAE: 148K, Actual MAE: 95K\n",
      "Num sampled points: 4\n",
      "--- Beginning Nelder-Mead optimization ---\n",
      "--- Nelder-Mead converged in 12.077781438827515 seconds ---\n",
      "Mean temperature deviation per point between liquidus curves = 47.74432922920368 \n",
      "\n",
      "--- Beginning Nelder-Mead optimization ---\n",
      "--- Nelder-Mead converged in 0.5736172199249268 seconds ---\n",
      "Mean temperature deviation per point between liquidus curves = 48.97979403926026 \n",
      "\n",
      "Perceived MAE: 48K, Actual MAE: 15K\n",
      "Num sampled points: 5\n",
      "--- Beginning Nelder-Mead optimization ---\n",
      "--- Nelder-Mead converged in 16.504850387573242 seconds ---\n",
      "Mean temperature deviation per point between liquidus curves = 109.59393406344398 \n",
      "\n",
      "--- Beginning Nelder-Mead optimization ---\n",
      "--- Nelder-Mead converged in 0.5878372192382812 seconds ---\n",
      "Mean temperature deviation per point between liquidus curves = 110.01077401903854 \n",
      "\n",
      "Perceived MAE: 110K, Actual MAE: 84K\n",
      "Num sampled points: 6\n",
      "--- Beginning Nelder-Mead optimization ---\n",
      "--- Nelder-Mead converged in 12.705112218856812 seconds ---\n",
      "Mean temperature deviation per point between liquidus curves = 10.703311599721784 \n",
      "\n",
      "--- Beginning Nelder-Mead optimization ---\n",
      "--- Nelder-Mead converged in 0.5748546123504639 seconds ---\n",
      "Mean temperature deviation per point between liquidus curves = 11.606358807793109 \n",
      "\n",
      "Perceived MAE: 11K, Actual MAE: 26K\n",
      "Num sampled points: 7\n",
      "--- Beginning Nelder-Mead optimization ---\n",
      "--- Nelder-Mead converged in 9.376175880432129 seconds ---\n",
      "Mean temperature deviation per point between liquidus curves = 55.97513872819896 \n",
      "\n",
      "--- Beginning Nelder-Mead optimization ---\n",
      "--- Nelder-Mead converged in 0.5336127281188965 seconds ---\n",
      "Mean temperature deviation per point between liquidus curves = 56.646712913628676 \n",
      "\n",
      "Perceived MAE: 56K, Actual MAE: 22K\n",
      "Num sampled points: 8\n",
      "--- Beginning Nelder-Mead optimization ---\n",
      "--- Nelder-Mead converged in 11.74726390838623 seconds ---\n",
      "Mean temperature deviation per point between liquidus curves = 32.58283004431931 \n",
      "\n",
      "--- Beginning Nelder-Mead optimization ---\n",
      "--- Nelder-Mead converged in 0.564288854598999 seconds ---\n",
      "Mean temperature deviation per point between liquidus curves = 31.994014818121393 \n",
      "\n",
      "Perceived MAE: 31K, Actual MAE: 12K\n",
      "Num sampled points: 9\n",
      "--- Beginning Nelder-Mead optimization ---\n",
      "--- Nelder-Mead converged in 9.269180536270142 seconds ---\n",
      "Mean temperature deviation per point between liquidus curves = 44.903487952305724 \n",
      "\n",
      "--- Beginning Nelder-Mead optimization ---\n",
      "--- Nelder-Mead converged in 0.5539989471435547 seconds ---\n",
      "Mean temperature deviation per point between liquidus curves = 45.13705480173416 \n",
      "\n",
      "Perceived MAE: 45K, Actual MAE: 9K\n",
      "Num sampled points: 10\n",
      "--- Beginning Nelder-Mead optimization ---\n",
      "--- Nelder-Mead converged in 10.45646858215332 seconds ---\n",
      "Mean temperature deviation per point between liquidus curves = 28.144322598451875 \n",
      "\n",
      "--- Beginning Nelder-Mead optimization ---\n",
      "--- Nelder-Mead converged in 0.6474261283874512 seconds ---\n",
      "Mean temperature deviation per point between liquidus curves = 28.166266241346968 \n",
      "\n",
      "Perceived MAE: 28K, Actual MAE: 8K\n",
      "Num sampled points: 11\n",
      "--- Beginning Nelder-Mead optimization ---\n",
      "--- Nelder-Mead converged in 11.390575170516968 seconds ---\n",
      "Mean temperature deviation per point between liquidus curves = 45.808895783796366 \n",
      "\n",
      "--- Beginning Nelder-Mead optimization ---\n",
      "--- Nelder-Mead converged in 0.6017789840698242 seconds ---\n",
      "Mean temperature deviation per point between liquidus curves = 45.488366498951976 \n",
      "\n",
      "Perceived MAE: 45K, Actual MAE: 11K\n",
      "Num sampled points: 12\n",
      "--- Beginning Nelder-Mead optimization ---\n",
      "--- Nelder-Mead converged in 12.160918712615967 seconds ---\n",
      "Mean temperature deviation per point between liquidus curves = 26.226389219510885 \n",
      "\n",
      "--- Beginning Nelder-Mead optimization ---\n",
      "--- Nelder-Mead converged in 0.5562739372253418 seconds ---\n",
      "Mean temperature deviation per point between liquidus curves = 26.683107608440597 \n",
      "\n",
      "Perceived MAE: 26K, Actual MAE: 9K\n",
      "Num sampled points: 13\n",
      "--- Beginning Nelder-Mead optimization ---\n",
      "--- Nelder-Mead converged in 11.11229681968689 seconds ---\n",
      "Mean temperature deviation per point between liquidus curves = 27.178211846362 \n",
      "\n",
      "--- Beginning Nelder-Mead optimization ---\n",
      "--- Nelder-Mead converged in 0.6383011341094971 seconds ---\n",
      "Mean temperature deviation per point between liquidus curves = 26.61165822985952 \n",
      "\n",
      "Perceived MAE: 26K, Actual MAE: 9K\n",
      "Num sampled points: 14\n",
      "--- Beginning Nelder-Mead optimization ---\n",
      "--- Nelder-Mead converged in 9.163145780563354 seconds ---\n",
      "Mean temperature deviation per point between liquidus curves = 20.798055582879268 \n",
      "\n",
      "--- Beginning Nelder-Mead optimization ---\n",
      "--- Nelder-Mead converged in 0.6526937484741211 seconds ---\n",
      "Mean temperature deviation per point between liquidus curves = 20.27678796290464 \n",
      "\n",
      "Perceived MAE: 20K, Actual MAE: 8K\n",
      "Num sampled points: 15\n",
      "--- Beginning Nelder-Mead optimization ---\n",
      "--- Nelder-Mead converged in 10.880268573760986 seconds ---\n",
      "Mean temperature deviation per point between liquidus curves = 27.144805748276813 \n",
      "\n",
      "--- Beginning Nelder-Mead optimization ---\n",
      "--- Nelder-Mead converged in 0.6701242923736572 seconds ---\n",
      "Mean temperature deviation per point between liquidus curves = 26.53142312674613 \n",
      "\n",
      "Perceived MAE: 26K, Actual MAE: 8K\n",
      "Running with seed 42\n",
      "Num sampled points: 1\n",
      "--- Beginning Nelder-Mead optimization ---\n",
      "--- Nelder-Mead converged in 20.61695098876953 seconds ---\n",
      "Mean temperature deviation per point between liquidus curves = 0.001696108156693299 \n",
      "\n",
      "--- Beginning Nelder-Mead optimization ---\n",
      "--- Nelder-Mead converged in 0.5506577491760254 seconds ---\n",
      "Mean temperature deviation per point between liquidus curves = 0.14885293429188096 \n",
      "\n",
      "Perceived MAE: 0K, Actual MAE: 1706K\n",
      "Num sampled points: 2\n",
      "--- Beginning Nelder-Mead optimization ---\n",
      "--- Nelder-Mead converged in 14.734386205673218 seconds ---\n",
      "Mean temperature deviation per point between liquidus curves = 46.008537682935234 \n",
      "\n",
      "--- Beginning Nelder-Mead optimization ---\n",
      "--- Nelder-Mead converged in 0.5108218193054199 seconds ---\n",
      "Mean temperature deviation per point between liquidus curves = 46.0284278733226 \n",
      "\n",
      "Perceived MAE: 46K, Actual MAE: 358K\n",
      "Num sampled points: 3\n",
      "--- Beginning Nelder-Mead optimization ---\n",
      "--- Nelder-Mead converged in 27.00733470916748 seconds ---\n",
      "Mean temperature deviation per point between liquidus curves = 7.519624418279091 \n",
      "\n",
      "--- Beginning Nelder-Mead optimization ---\n",
      "--- Nelder-Mead converged in 0.52968430519104 seconds ---\n",
      "Mean temperature deviation per point between liquidus curves = 7.583060366863402 \n",
      "\n",
      "Perceived MAE: 7K, Actual MAE: 12K\n",
      "Num sampled points: 4\n",
      "--- Beginning Nelder-Mead optimization ---\n",
      "--- Nelder-Mead converged in 18.13347625732422 seconds ---\n",
      "Mean temperature deviation per point between liquidus curves = 87.08673677436447 \n",
      "\n",
      "--- Beginning Nelder-Mead optimization ---\n",
      "--- Nelder-Mead converged in 0.6487183570861816 seconds ---\n",
      "Mean temperature deviation per point between liquidus curves = 86.3169459183911 \n",
      "\n",
      "Perceived MAE: 86K, Actual MAE: 89K\n",
      "Num sampled points: 5\n",
      "--- Beginning Nelder-Mead optimization ---\n",
      "--- Nelder-Mead converged in 11.109545230865479 seconds ---\n",
      "Mean temperature deviation per point between liquidus curves = 128.223994607438 \n",
      "\n",
      "--- Beginning Nelder-Mead optimization ---\n",
      "--- Nelder-Mead converged in 0.5313858985900879 seconds ---\n",
      "Mean temperature deviation per point between liquidus curves = 127.81632852802817 \n",
      "\n",
      "Perceived MAE: 127K, Actual MAE: 155K\n",
      "Num sampled points: 6\n",
      "--- Beginning Nelder-Mead optimization ---\n",
      "--- Nelder-Mead converged in 14.095109701156616 seconds ---\n",
      "Mean temperature deviation per point between liquidus curves = 28.860950295793987 \n",
      "\n",
      "--- Beginning Nelder-Mead optimization ---\n",
      "--- Nelder-Mead converged in 0.6189498901367188 seconds ---\n",
      "Mean temperature deviation per point between liquidus curves = 28.948022629099878 \n",
      "\n",
      "Perceived MAE: 28K, Actual MAE: 38K\n",
      "Num sampled points: 7\n",
      "--- Beginning Nelder-Mead optimization ---\n",
      "--- Nelder-Mead converged in 12.795825719833374 seconds ---\n",
      "Mean temperature deviation per point between liquidus curves = 63.37649765378342 \n",
      "\n",
      "--- Beginning Nelder-Mead optimization ---\n",
      "--- Nelder-Mead converged in 0.646550178527832 seconds ---\n",
      "Mean temperature deviation per point between liquidus curves = 64.0799164744458 \n",
      "\n",
      "Perceived MAE: 64K, Actual MAE: 28K\n",
      "Num sampled points: 8\n",
      "--- Beginning Nelder-Mead optimization ---\n",
      "--- Nelder-Mead converged in 12.59217882156372 seconds ---\n",
      "Mean temperature deviation per point between liquidus curves = 58.696707356289984 \n",
      "\n",
      "--- Beginning Nelder-Mead optimization ---\n",
      "--- Nelder-Mead converged in 0.5823202133178711 seconds ---\n",
      "Mean temperature deviation per point between liquidus curves = 58.88378696540124 \n",
      "\n",
      "Perceived MAE: 58K, Actual MAE: 23K\n",
      "Num sampled points: 9\n",
      "--- Beginning Nelder-Mead optimization ---\n",
      "--- Nelder-Mead converged in 10.25445818901062 seconds ---\n",
      "Mean temperature deviation per point between liquidus curves = 57.9511222111648 \n",
      "\n",
      "--- Beginning Nelder-Mead optimization ---\n",
      "--- Nelder-Mead converged in 0.5283942222595215 seconds ---\n",
      "Mean temperature deviation per point between liquidus curves = 58.635150126667625 \n",
      "\n",
      "Perceived MAE: 58K, Actual MAE: 28K\n",
      "Num sampled points: 10\n",
      "--- Beginning Nelder-Mead optimization ---\n",
      "--- Nelder-Mead converged in 10.630725145339966 seconds ---\n",
      "Mean temperature deviation per point between liquidus curves = 7.880968557363735 \n",
      "\n",
      "--- Beginning Nelder-Mead optimization ---\n",
      "--- Nelder-Mead converged in 0.6764521598815918 seconds ---\n",
      "Mean temperature deviation per point between liquidus curves = 7.897140401051153 \n",
      "\n",
      "Perceived MAE: 7K, Actual MAE: 23K\n",
      "Num sampled points: 11\n",
      "--- Beginning Nelder-Mead optimization ---\n",
      "--- Nelder-Mead converged in 11.333919763565063 seconds ---\n",
      "Mean temperature deviation per point between liquidus curves = 44.87259570595291 \n",
      "\n",
      "--- Beginning Nelder-Mead optimization ---\n",
      "--- Nelder-Mead converged in 0.6390295028686523 seconds ---\n",
      "Mean temperature deviation per point between liquidus curves = 45.07931943141638 \n",
      "\n",
      "Perceived MAE: 45K, Actual MAE: 10K\n",
      "Num sampled points: 12\n",
      "--- Beginning Nelder-Mead optimization ---\n",
      "--- Nelder-Mead converged in 10.321690082550049 seconds ---\n",
      "Mean temperature deviation per point between liquidus curves = 28.152362085132168 \n",
      "\n",
      "--- Beginning Nelder-Mead optimization ---\n",
      "--- Nelder-Mead converged in 0.6682689189910889 seconds ---\n",
      "Mean temperature deviation per point between liquidus curves = 28.03623652676525 \n",
      "\n",
      "Perceived MAE: 28K, Actual MAE: 8K\n",
      "Num sampled points: 13\n",
      "--- Beginning Nelder-Mead optimization ---\n",
      "--- Nelder-Mead converged in 12.008098602294922 seconds ---\n",
      "Mean temperature deviation per point between liquidus curves = 28.853211121445074 \n",
      "\n",
      "--- Beginning Nelder-Mead optimization ---\n",
      "--- Nelder-Mead converged in 0.5577993392944336 seconds ---\n",
      "Mean temperature deviation per point between liquidus curves = 28.516456262421933 \n",
      "\n",
      "Perceived MAE: 28K, Actual MAE: 7K\n",
      "Num sampled points: 14\n",
      "--- Beginning Nelder-Mead optimization ---\n",
      "--- Nelder-Mead converged in 11.804844856262207 seconds ---\n",
      "Mean temperature deviation per point between liquidus curves = 25.328773808045565 \n",
      "\n",
      "--- Beginning Nelder-Mead optimization ---\n",
      "--- Nelder-Mead converged in 0.6622023582458496 seconds ---\n",
      "Mean temperature deviation per point between liquidus curves = 25.409410748737255 \n",
      "\n",
      "Perceived MAE: 25K, Actual MAE: 8K\n",
      "Num sampled points: 15\n",
      "--- Beginning Nelder-Mead optimization ---\n",
      "--- Nelder-Mead converged in 11.41454529762268 seconds ---\n",
      "Mean temperature deviation per point between liquidus curves = 17.004768259675757 \n",
      "\n",
      "--- Beginning Nelder-Mead optimization ---\n",
      "--- Nelder-Mead converged in 0.6479213237762451 seconds ---\n",
      "Mean temperature deviation per point between liquidus curves = 16.75469122346229 \n",
      "\n",
      "Perceived MAE: 16K, Actual MAE: 11K\n",
      "Running with seed 123\n",
      "Num sampled points: 1\n",
      "--- Beginning Nelder-Mead optimization ---\n",
      "--- Nelder-Mead converged in 19.67327618598938 seconds ---\n",
      "Mean temperature deviation per point between liquidus curves = 0.0005288497040965012 \n",
      "\n",
      "--- Beginning Nelder-Mead optimization ---\n",
      "--- Nelder-Mead converged in 0.5616278648376465 seconds ---\n",
      "Mean temperature deviation per point between liquidus curves = 0.022585209343560564 \n",
      "\n",
      "Perceived MAE: 0K, Actual MAE: 1825K\n",
      "Num sampled points: 2\n",
      "--- Beginning Nelder-Mead optimization ---\n",
      "--- Nelder-Mead converged in 24.23373770713806 seconds ---\n",
      "Mean temperature deviation per point between liquidus curves = 20.023462262589156 \n",
      "\n",
      "--- Beginning Nelder-Mead optimization ---\n",
      "--- Nelder-Mead converged in 0.5705909729003906 seconds ---\n",
      "Mean temperature deviation per point between liquidus curves = 20.025407456713513 \n",
      "\n",
      "Perceived MAE: 20K, Actual MAE: 322K\n",
      "Num sampled points: 3\n",
      "--- Beginning Nelder-Mead optimization ---\n",
      "--- Nelder-Mead converged in 19.95289397239685 seconds ---\n",
      "Mean temperature deviation per point between liquidus curves = 38.593189209727136 \n",
      "\n",
      "--- Beginning Nelder-Mead optimization ---\n",
      "--- Nelder-Mead converged in 0.5640990734100342 seconds ---\n",
      "Mean temperature deviation per point between liquidus curves = 38.504979551107375 \n",
      "\n",
      "Perceived MAE: 38K, Actual MAE: 39K\n",
      "Num sampled points: 4\n",
      "--- Beginning Nelder-Mead optimization ---\n",
      "--- Nelder-Mead converged in 17.14241337776184 seconds ---\n",
      "Mean temperature deviation per point between liquidus curves = 40.95689446991771 \n",
      "\n",
      "--- Beginning Nelder-Mead optimization ---\n",
      "--- Nelder-Mead converged in 0.5543859004974365 seconds ---\n",
      "Mean temperature deviation per point between liquidus curves = 40.97261092545598 \n",
      "\n",
      "Perceived MAE: 40K, Actual MAE: 18K\n",
      "Num sampled points: 5\n",
      "--- Beginning Nelder-Mead optimization ---\n",
      "--- Nelder-Mead converged in 18.1000816822052 seconds ---\n",
      "Mean temperature deviation per point between liquidus curves = 13.583035988583152 \n",
      "\n",
      "--- Beginning Nelder-Mead optimization ---\n",
      "--- Nelder-Mead converged in 0.5670101642608643 seconds ---\n",
      "Mean temperature deviation per point between liquidus curves = 13.617255585840386 \n",
      "\n",
      "Perceived MAE: 13K, Actual MAE: 44K\n",
      "Num sampled points: 6\n",
      "--- Beginning Nelder-Mead optimization ---\n",
      "--- Nelder-Mead converged in 12.021246910095215 seconds ---\n",
      "Mean temperature deviation per point between liquidus curves = 38.45482057634493 \n",
      "\n",
      "--- Beginning Nelder-Mead optimization ---\n",
      "--- Nelder-Mead converged in 0.5599286556243896 seconds ---\n",
      "Mean temperature deviation per point between liquidus curves = 38.386129153939876 \n",
      "\n",
      "Perceived MAE: 38K, Actual MAE: 22K\n",
      "Num sampled points: 7\n",
      "--- Beginning Nelder-Mead optimization ---\n",
      "--- Nelder-Mead converged in 11.000741958618164 seconds ---\n",
      "Mean temperature deviation per point between liquidus curves = 53.1045702768512 \n",
      "\n",
      "--- Beginning Nelder-Mead optimization ---\n",
      "--- Nelder-Mead converged in 0.5272490978240967 seconds ---\n",
      "Mean temperature deviation per point between liquidus curves = 53.069903695155446 \n",
      "\n",
      "Perceived MAE: 53K, Actual MAE: 9K\n",
      "Num sampled points: 8\n",
      "--- Beginning Nelder-Mead optimization ---\n",
      "--- Nelder-Mead converged in 10.631762027740479 seconds ---\n",
      "Mean temperature deviation per point between liquidus curves = 38.035547849253284 \n",
      "\n",
      "--- Beginning Nelder-Mead optimization ---\n",
      "--- Nelder-Mead converged in 0.5525186061859131 seconds ---\n",
      "Mean temperature deviation per point between liquidus curves = 37.66317586357527 \n",
      "\n",
      "Perceived MAE: 37K, Actual MAE: 9K\n",
      "Num sampled points: 9\n",
      "--- Beginning Nelder-Mead optimization ---\n",
      "--- Nelder-Mead converged in 10.548640012741089 seconds ---\n",
      "Mean temperature deviation per point between liquidus curves = 45.61769203975352 \n",
      "\n",
      "--- Beginning Nelder-Mead optimization ---\n",
      "--- Nelder-Mead converged in 0.6455097198486328 seconds ---\n",
      "Mean temperature deviation per point between liquidus curves = 45.712919884790864 \n",
      "\n",
      "Perceived MAE: 45K, Actual MAE: 10K\n",
      "Num sampled points: 10\n",
      "--- Beginning Nelder-Mead optimization ---\n",
      "--- Nelder-Mead converged in 9.25880217552185 seconds ---\n",
      "Mean temperature deviation per point between liquidus curves = 36.61009697700974 \n",
      "\n",
      "--- Beginning Nelder-Mead optimization ---\n",
      "--- Nelder-Mead converged in 0.526447057723999 seconds ---\n",
      "Mean temperature deviation per point between liquidus curves = 36.74725625423096 \n",
      "\n",
      "Perceived MAE: 36K, Actual MAE: 8K\n",
      "Num sampled points: 11\n",
      "--- Beginning Nelder-Mead optimization ---\n",
      "--- Nelder-Mead converged in 9.635668992996216 seconds ---\n",
      "Mean temperature deviation per point between liquidus curves = 32.374880005898376 \n",
      "\n",
      "--- Beginning Nelder-Mead optimization ---\n",
      "--- Nelder-Mead converged in 0.5910835266113281 seconds ---\n",
      "Mean temperature deviation per point between liquidus curves = 32.34425515035237 \n",
      "\n",
      "Perceived MAE: 32K, Actual MAE: 8K\n",
      "Num sampled points: 12\n",
      "--- Beginning Nelder-Mead optimization ---\n",
      "--- Nelder-Mead converged in 11.692985773086548 seconds ---\n",
      "Mean temperature deviation per point between liquidus curves = 29.69807420970256 \n",
      "\n",
      "--- Beginning Nelder-Mead optimization ---\n",
      "--- Nelder-Mead converged in 0.645749568939209 seconds ---\n",
      "Mean temperature deviation per point between liquidus curves = 29.373221852034316 \n",
      "\n",
      "Perceived MAE: 29K, Actual MAE: 8K\n",
      "Num sampled points: 13\n",
      "--- Beginning Nelder-Mead optimization ---\n",
      "--- Nelder-Mead converged in 11.39169955253601 seconds ---\n",
      "Mean temperature deviation per point between liquidus curves = 25.49857723642609 \n",
      "\n",
      "--- Beginning Nelder-Mead optimization ---\n",
      "--- Nelder-Mead converged in 0.5240416526794434 seconds ---\n",
      "Mean temperature deviation per point between liquidus curves = 25.454164599591113 \n",
      "\n",
      "Perceived MAE: 25K, Actual MAE: 8K\n",
      "Num sampled points: 14\n",
      "--- Beginning Nelder-Mead optimization ---\n",
      "--- Nelder-Mead converged in 10.754760026931763 seconds ---\n",
      "Mean temperature deviation per point between liquidus curves = 31.89806859662643 \n",
      "\n",
      "--- Beginning Nelder-Mead optimization ---\n",
      "--- Nelder-Mead converged in 0.6177797317504883 seconds ---\n",
      "Mean temperature deviation per point between liquidus curves = 31.87793782733495 \n",
      "\n",
      "Perceived MAE: 31K, Actual MAE: 13K\n",
      "Num sampled points: 15\n",
      "--- Beginning Nelder-Mead optimization ---\n",
      "--- Nelder-Mead converged in 10.791687726974487 seconds ---\n",
      "Mean temperature deviation per point between liquidus curves = 17.913860474474486 \n",
      "\n",
      "--- Beginning Nelder-Mead optimization ---\n",
      "--- Nelder-Mead converged in 0.5310764312744141 seconds ---\n",
      "Mean temperature deviation per point between liquidus curves = 17.937652983609905 \n",
      "\n",
      "Perceived MAE: 17K, Actual MAE: 9K\n",
      "Saved results to ../data\\Cr-Eu_optimization_random.xlsx\n",
      "\n",
      "--- Running random_below_1200C sampling method ---\n",
      "Warning: Not enough points to sample for Cr-Eu using random_below_1200C method\n",
      "\n",
      "--- Running even sampling method ---\n",
      "Num sampled points: 1\n",
      "--- Beginning Nelder-Mead optimization ---\n",
      "--- Nelder-Mead converged in 10.990023851394653 seconds ---\n",
      "Mean temperature deviation per point between liquidus curves = 0.014242644138676042 \n",
      "\n",
      "--- Beginning Nelder-Mead optimization ---\n",
      "--- Nelder-Mead converged in 0.53470778465271 seconds ---\n",
      "Mean temperature deviation per point between liquidus curves = 2.4678083458193214 \n",
      "\n",
      "Perceived MAE: 2K, Actual MAE: 26K\n",
      "Num sampled points: 2\n",
      "--- Beginning Nelder-Mead optimization ---\n",
      "--- Nelder-Mead converged in 20.02748990058899 seconds ---\n",
      "Mean temperature deviation per point between liquidus curves = 21.565045052169726 \n",
      "\n",
      "--- Beginning Nelder-Mead optimization ---\n",
      "--- Nelder-Mead converged in 0.6007473468780518 seconds ---\n",
      "Mean temperature deviation per point between liquidus curves = 21.517165604957107 \n",
      "\n",
      "Perceived MAE: 21K, Actual MAE: 81K\n",
      "Num sampled points: 3\n",
      "--- Beginning Nelder-Mead optimization ---\n",
      "--- Nelder-Mead converged in 12.181013345718384 seconds ---\n",
      "Mean temperature deviation per point between liquidus curves = 30.973834937557278 \n",
      "\n",
      "--- Beginning Nelder-Mead optimization ---\n",
      "--- Nelder-Mead converged in 0.6641216278076172 seconds ---\n",
      "Mean temperature deviation per point between liquidus curves = 30.891130117689695 \n",
      "\n",
      "Perceived MAE: 30K, Actual MAE: 47K\n",
      "Num sampled points: 4\n",
      "--- Beginning Nelder-Mead optimization ---\n",
      "--- Nelder-Mead converged in 13.350440979003906 seconds ---\n",
      "Mean temperature deviation per point between liquidus curves = 31.21304575079479 \n",
      "\n",
      "--- Beginning Nelder-Mead optimization ---\n",
      "--- Nelder-Mead converged in 0.6610796451568604 seconds ---\n",
      "Mean temperature deviation per point between liquidus curves = 31.194334970534815 \n",
      "\n",
      "Perceived MAE: 31K, Actual MAE: 32K\n",
      "Num sampled points: 5\n",
      "--- Beginning Nelder-Mead optimization ---\n",
      "--- Nelder-Mead converged in 13.7580087184906 seconds ---\n",
      "Mean temperature deviation per point between liquidus curves = 31.923245480429106 \n",
      "\n",
      "--- Beginning Nelder-Mead optimization ---\n",
      "--- Nelder-Mead converged in 0.660106897354126 seconds ---\n",
      "Mean temperature deviation per point between liquidus curves = 31.91220542366221 \n",
      "\n",
      "Perceived MAE: 31K, Actual MAE: 18K\n",
      "Num sampled points: 6\n",
      "--- Beginning Nelder-Mead optimization ---\n",
      "--- Nelder-Mead converged in 12.46422553062439 seconds ---\n",
      "Mean temperature deviation per point between liquidus curves = 28.994208583956926 \n",
      "\n",
      "--- Beginning Nelder-Mead optimization ---\n",
      "--- Nelder-Mead converged in 0.5930187702178955 seconds ---\n",
      "Mean temperature deviation per point between liquidus curves = 29.22234249599294 \n",
      "\n",
      "Perceived MAE: 29K, Actual MAE: 16K\n",
      "Num sampled points: 7\n",
      "--- Beginning Nelder-Mead optimization ---\n",
      "--- Nelder-Mead converged in 14.163817167282104 seconds ---\n",
      "Mean temperature deviation per point between liquidus curves = 25.18880364136138 \n",
      "\n",
      "--- Beginning Nelder-Mead optimization ---\n",
      "--- Nelder-Mead converged in 0.6026675701141357 seconds ---\n",
      "Mean temperature deviation per point between liquidus curves = 25.154008079000203 \n",
      "\n",
      "Perceived MAE: 25K, Actual MAE: 7K\n",
      "Num sampled points: 8\n",
      "--- Beginning Nelder-Mead optimization ---\n",
      "--- Nelder-Mead converged in 10.747478723526001 seconds ---\n",
      "Mean temperature deviation per point between liquidus curves = 28.51757421101154 \n",
      "\n",
      "--- Beginning Nelder-Mead optimization ---\n",
      "--- Nelder-Mead converged in 0.5401394367218018 seconds ---\n",
      "Mean temperature deviation per point between liquidus curves = 28.40167704604893 \n",
      "\n",
      "Perceived MAE: 28K, Actual MAE: 12K\n",
      "Num sampled points: 9\n",
      "--- Beginning Nelder-Mead optimization ---\n",
      "--- Nelder-Mead converged in 11.587578535079956 seconds ---\n",
      "Mean temperature deviation per point between liquidus curves = 23.322073778187793 \n",
      "\n",
      "--- Beginning Nelder-Mead optimization ---\n",
      "--- Nelder-Mead converged in 0.5478677749633789 seconds ---\n",
      "Mean temperature deviation per point between liquidus curves = 23.7294051785576 \n",
      "\n",
      "Perceived MAE: 23K, Actual MAE: 10K\n",
      "Num sampled points: 10\n",
      "--- Beginning Nelder-Mead optimization ---\n",
      "--- Nelder-Mead converged in 10.614559650421143 seconds ---\n",
      "Mean temperature deviation per point between liquidus curves = 20.225502919314536 \n",
      "\n",
      "--- Beginning Nelder-Mead optimization ---\n",
      "--- Nelder-Mead converged in 0.6405997276306152 seconds ---\n",
      "Mean temperature deviation per point between liquidus curves = 19.83913988589496 \n",
      "\n",
      "Perceived MAE: 19K, Actual MAE: 7K\n",
      "Num sampled points: 11\n",
      "--- Beginning Nelder-Mead optimization ---\n",
      "--- Nelder-Mead converged in 10.539410591125488 seconds ---\n",
      "Mean temperature deviation per point between liquidus curves = 22.367964187389287 \n",
      "\n",
      "--- Beginning Nelder-Mead optimization ---\n",
      "--- Nelder-Mead converged in 0.618023157119751 seconds ---\n",
      "Mean temperature deviation per point between liquidus curves = 22.633987540888786 \n",
      "\n",
      "Perceived MAE: 22K, Actual MAE: 9K\n",
      "Num sampled points: 12\n",
      "--- Beginning Nelder-Mead optimization ---\n",
      "--- Nelder-Mead converged in 9.459042310714722 seconds ---\n",
      "Mean temperature deviation per point between liquidus curves = 21.61727869944848 \n",
      "\n",
      "--- Beginning Nelder-Mead optimization ---\n",
      "--- Nelder-Mead converged in 0.5880722999572754 seconds ---\n",
      "Mean temperature deviation per point between liquidus curves = 21.89506640934782 \n",
      "\n",
      "Perceived MAE: 21K, Actual MAE: 9K\n",
      "Num sampled points: 13\n",
      "--- Beginning Nelder-Mead optimization ---\n",
      "--- Nelder-Mead converged in 10.442072629928589 seconds ---\n",
      "Mean temperature deviation per point between liquidus curves = 19.36341625326294 \n",
      "\n",
      "--- Beginning Nelder-Mead optimization ---\n",
      "--- Nelder-Mead converged in 0.549767255783081 seconds ---\n",
      "Mean temperature deviation per point between liquidus curves = 19.185620786263705 \n",
      "\n",
      "Perceived MAE: 19K, Actual MAE: 10K\n",
      "Num sampled points: 14\n",
      "--- Beginning Nelder-Mead optimization ---\n",
      "--- Nelder-Mead converged in 10.610184669494629 seconds ---\n",
      "Mean temperature deviation per point between liquidus curves = 18.08238489020285 \n",
      "\n",
      "--- Beginning Nelder-Mead optimization ---\n",
      "--- Nelder-Mead converged in 0.5670211315155029 seconds ---\n",
      "Mean temperature deviation per point between liquidus curves = 17.856813013571106 \n",
      "\n",
      "Perceived MAE: 17K, Actual MAE: 9K\n",
      "Num sampled points: 15\n",
      "--- Beginning Nelder-Mead optimization ---\n",
      "--- Nelder-Mead converged in 13.483452081680298 seconds ---\n",
      "Mean temperature deviation per point between liquidus curves = 17.488379622041762 \n",
      "\n",
      "--- Beginning Nelder-Mead optimization ---\n",
      "--- Nelder-Mead converged in 0.6219253540039062 seconds ---\n",
      "Mean temperature deviation per point between liquidus curves = 17.34201399739186 \n",
      "\n",
      "Perceived MAE: 17K, Actual MAE: 8K\n",
      "Saved results to ../data\\Cr-Eu_optimization_even.xlsx\n",
      "\n",
      "--- Running even_below_1200C sampling method ---\n",
      "Warning: Not enough points to sample for Cr-Eu using even_below_1200C method\n",
      "B: H_fusion = 50200.0 J/mol, T_fusion = 2350.0 K, T_vaporization = 4273.15 K\n",
      "Dy: H_fusion = 11060.0 J/mol, T_fusion = 1685.0 K, T_vaporization = 2840.15 K\n",
      "\n",
      "Reading MPDS json from entry at https://mpds.io/entry/C900285...\n",
      "\n",
      "\n",
      "--- Running random sampling method ---\n",
      "Running with seed 0\n",
      "Num sampled points: 1\n",
      "--- Beginning Nelder-Mead optimization ---\n",
      "--- Nelder-Mead converged in 9.915127992630005 seconds ---\n",
      "Mean temperature deviation per point between liquidus curves = 0.03840787720218941 \n",
      "\n",
      "--- Beginning Nelder-Mead optimization ---\n",
      "Liquidus not continuous for guess {b: 111.7967812739127, d: -89.80363658384722}\n",
      "Liquidus not continuous for guess {b: 131.07208839010454, d: -127.46322611900902}\n",
      "Liquidus not continuous for guess {b: 131.07208839010454, d: -127.46322611900902}\n",
      "--- Nelder-Mead converged in 12.623298406600952 seconds ---\n",
      "Mean temperature deviation per point between liquidus curves = 0.3605730888252765 \n",
      "\n",
      "Perceived MAE: 0K, Actual MAE: 696K\n",
      "Num sampled points: 2\n",
      "--- Beginning Nelder-Mead optimization ---\n",
      "--- Nelder-Mead converged in 12.238298654556274 seconds ---\n",
      "Mean temperature deviation per point between liquidus curves = 240.98579550926212 \n",
      "\n",
      "--- Beginning Nelder-Mead optimization ---\n",
      "Liquidus not continuous for guess {b: 100.55830532603687, d: -101.9047992974957}\n",
      "Liquidus not continuous for guess {b: 100.55830532603687, d: -101.9047992974957}\n",
      "--- Nelder-Mead converged in 6.284359931945801 seconds ---\n",
      "Mean temperature deviation per point between liquidus curves = 527.8254472471077 \n",
      "\n",
      "Perceived MAE: 527K, Actual MAE: 484K\n",
      "Num sampled points: 3\n",
      "--- Beginning Nelder-Mead optimization ---\n",
      "--- Nelder-Mead converged in 13.8805570602417 seconds ---\n",
      "Mean temperature deviation per point between liquidus curves = 70.00573914860564 \n",
      "\n",
      "--- Beginning Nelder-Mead optimization ---\n",
      "Liquidus not continuous for guess {b: 69.18951960886898, d: -112.43798884890616}\n",
      "Liquidus not continuous for guess {b: 69.14893195257726, d: -112.89454704812015}\n",
      "Liquidus not continuous for guess {b: 68.87080093214978, d: -111.58196605409628}\n",
      "Liquidus not continuous for guess {b: 68.81273477647215, d: -111.98238379833376}\n",
      "Liquidus not continuous for guess {b: 70.69695220186931, d: -115.14173794243459}\n",
      "Liquidus not continuous for guess {b: 70.69695220186932, d: -115.14173794243457}\n",
      "Liquidus not continuous for guess {b: 70.17813989879227, d: -113.87359750381435}\n",
      "Liquidus not continuous for guess {b: 70.44038016627829, d: -115.11908912016781}\n",
      "--- Nelder-Mead converged in 10.306985855102539 seconds ---\n",
      "Mean temperature deviation per point between liquidus curves = 73.51511995763703 \n",
      "\n",
      "Perceived MAE: 73K, Actual MAE: 1125K\n",
      "Num sampled points: 4\n",
      "--- Beginning Nelder-Mead optimization ---\n",
      "--- Nelder-Mead converged in 13.378010511398315 seconds ---\n",
      "Mean temperature deviation per point between liquidus curves = 226.4478011263811 \n",
      "\n",
      "--- Beginning Nelder-Mead optimization ---\n",
      "--- Nelder-Mead converged in 3.9630730152130127 seconds ---\n",
      "Mean temperature deviation per point between liquidus curves = 476.1975653363791 \n",
      "\n",
      "Perceived MAE: 476K, Actual MAE: 1228K\n",
      "Num sampled points: 5\n",
      "--- Beginning Nelder-Mead optimization ---\n",
      "--- Nelder-Mead converged in 29.5059757232666 seconds ---\n",
      "Mean temperature deviation per point between liquidus curves = 41.648137539226084 \n",
      "\n",
      "--- Beginning Nelder-Mead optimization ---\n",
      "--- Nelder-Mead converged in 4.508250713348389 seconds ---\n",
      "Mean temperature deviation per point between liquidus curves = 42.78548924313113 \n",
      "\n",
      "Perceived MAE: 42K, Actual MAE: 1276K\n",
      "Num sampled points: 6\n",
      "--- Beginning Nelder-Mead optimization ---\n",
      "--- Nelder-Mead converged in 9.553296327590942 seconds ---\n",
      "Mean temperature deviation per point between liquidus curves = 249.19723464207672 \n",
      "\n",
      "--- Beginning Nelder-Mead optimization ---\n",
      "Liquidus not continuous for guess {b: 74.51393212605745, d: -79.45574911446467}\n",
      "--- Nelder-Mead converged in 8.512032508850098 seconds ---\n",
      "Mean temperature deviation per point between liquidus curves = 491.48787665571695 \n",
      "\n",
      "Perceived MAE: 491K, Actual MAE: 499K\n",
      "Num sampled points: 7\n",
      "--- Beginning Nelder-Mead optimization ---\n",
      "--- Nelder-Mead converged in 8.337552070617676 seconds ---\n",
      "Mean temperature deviation per point between liquidus curves = 231.84977697083943 \n",
      "\n",
      "--- Beginning Nelder-Mead optimization ---\n",
      "--- Nelder-Mead converged in 3.3478405475616455 seconds ---\n",
      "Mean temperature deviation per point between liquidus curves = 533.0472809644814 \n",
      "\n",
      "Perceived MAE: 533K, Actual MAE: 557K\n",
      "Num sampled points: 8\n",
      "--- Beginning Nelder-Mead optimization ---\n",
      "--- Nelder-Mead converged in 11.65056037902832 seconds ---\n",
      "Mean temperature deviation per point between liquidus curves = 203.71342689692463 \n",
      "\n",
      "--- Beginning Nelder-Mead optimization ---\n",
      "Liquidus not continuous for guess {b: 2.447018770795177, d: -56.42590564246791}\n",
      "Liquidus not continuous for guess {b: -6.201513257358397, d: -57.41786063434691}\n",
      "Liquidus not continuous for guess {b: -19.88165266302174, d: -64.28274192415427}\n",
      "Liquidus not continuous for guess {b: -13.329654946304668, d: -65.11547120887802}\n",
      "Liquidus not continuous for guess {b: -17.3327216329879, d: -68.66949418861404}\n",
      "Liquidus not continuous for guess {b: -14.661015615703446, d: -71.57817609308066}\n",
      "Liquidus not continuous for guess {b: -13.105515331783142, d: -67.99687664639555}\n",
      "Liquidus not continuous for guess {b: -12.492500646281547, d: -69.98295722224181}\n",
      "--- Nelder-Mead converged in 9.581305265426636 seconds ---\n",
      "Mean temperature deviation per point between liquidus curves = 156.40672282326804 \n",
      "\n",
      "Perceived MAE: 156K, Actual MAE: 171K\n",
      "Num sampled points: 9\n",
      "--- Beginning Nelder-Mead optimization ---\n",
      "--- Nelder-Mead converged in 13.146942138671875 seconds ---\n",
      "Mean temperature deviation per point between liquidus curves = 45.92229901904712 \n",
      "\n",
      "--- Beginning Nelder-Mead optimization ---\n",
      "--- Nelder-Mead converged in 5.9939799308776855 seconds ---\n",
      "Mean temperature deviation per point between liquidus curves = 46.57337298816606 \n",
      "\n",
      "Perceived MAE: 46K, Actual MAE: 454K\n",
      "Num sampled points: 10\n",
      "--- Beginning Nelder-Mead optimization ---\n",
      "--- Nelder-Mead converged in 13.491429090499878 seconds ---\n",
      "Mean temperature deviation per point between liquidus curves = 235.17089802225235 \n",
      "\n",
      "--- Beginning Nelder-Mead optimization ---\n",
      "--- Nelder-Mead converged in 6.495641708374023 seconds ---\n",
      "Mean temperature deviation per point between liquidus curves = 124.00538427855703 \n",
      "\n",
      "Perceived MAE: 124K, Actual MAE: 87K\n",
      "Num sampled points: 11\n",
      "--- Beginning Nelder-Mead optimization ---\n",
      "--- Nelder-Mead converged in 17.304973363876343 seconds ---\n",
      "Mean temperature deviation per point between liquidus curves = 210.15381394560472 \n",
      "\n",
      "--- Beginning Nelder-Mead optimization ---\n",
      "Liquidus not continuous for guess {b: -40.93088417840865, d: -41.05940153898582}\n",
      "Liquidus not continuous for guess {b: -50.02663621805501, d: -41.05940153898582}\n",
      "Liquidus not continuous for guess {b: -40.93088417840865, d: -50.183712992093774}\n",
      "Points cannot contain NaN\n",
      "--- Beginning Nelder-Mead optimization ---\n",
      "Liquidus not continuous for guess {b: 20.0, d: -20.0}\n"
     ]
    },
    {
     "name": "stderr",
     "output_type": "stream",
     "text": [
      "c:\\Users\\willwerj\\miniforge3\\envs\\gliquidenv\\lib\\site-packages\\numpy\\core\\fromnumeric.py:3504: RuntimeWarning: Mean of empty slice.\n",
      "  return _methods._mean(a, axis=axis, dtype=dtype,\n",
      "c:\\Users\\willwerj\\miniforge3\\envs\\gliquidenv\\lib\\site-packages\\numpy\\core\\_methods.py:121: RuntimeWarning: invalid value encountered in divide\n",
      "  ret = um.true_divide(\n"
     ]
    },
    {
     "name": "stdout",
     "output_type": "stream",
     "text": [
      "--- Nelder-Mead converged in 11.835207462310791 seconds ---\n",
      "Mean temperature deviation per point between liquidus curves = 122.9250965485496 \n",
      "\n",
      "Perceived MAE: 122K, Actual MAE: 131K\n",
      "Num sampled points: 12\n",
      "--- Beginning Nelder-Mead optimization ---\n",
      "--- Nelder-Mead converged in 10.07148265838623 seconds ---\n",
      "Mean temperature deviation per point between liquidus curves = 232.61153320651272 \n",
      "\n",
      "--- Beginning Nelder-Mead optimization ---\n",
      "--- Nelder-Mead converged in 15.23004937171936 seconds ---\n",
      "Mean temperature deviation per point between liquidus curves = 193.21365605946846 \n",
      "\n",
      "Perceived MAE: 193K, Actual MAE: 151K\n",
      "Num sampled points: 13\n",
      "--- Beginning Nelder-Mead optimization ---\n",
      "--- Nelder-Mead converged in 8.256218194961548 seconds ---\n",
      "Mean temperature deviation per point between liquidus curves = 231.10684511680418 \n",
      "\n",
      "--- Beginning Nelder-Mead optimization ---\n",
      "--- Nelder-Mead converged in 8.405251741409302 seconds ---\n",
      "Mean temperature deviation per point between liquidus curves = 127.3061470541645 \n",
      "\n",
      "Perceived MAE: 127K, Actual MAE: 110K\n",
      "Num sampled points: 14\n",
      "--- Beginning Nelder-Mead optimization ---\n",
      "--- Nelder-Mead converged in 12.75832986831665 seconds ---\n",
      "Mean temperature deviation per point between liquidus curves = 238.55409728803758 \n",
      "\n",
      "--- Beginning Nelder-Mead optimization ---\n",
      "--- Nelder-Mead converged in 3.513120174407959 seconds ---\n",
      "Mean temperature deviation per point between liquidus curves = 178.76286930810437 \n",
      "\n",
      "Perceived MAE: 178K, Actual MAE: 121K\n",
      "Num sampled points: 15\n",
      "--- Beginning Nelder-Mead optimization ---\n",
      "--- Nelder-Mead converged in 15.000787734985352 seconds ---\n",
      "Mean temperature deviation per point between liquidus curves = 249.06060077165225 \n",
      "\n",
      "--- Beginning Nelder-Mead optimization ---\n",
      "Liquidus not continuous for guess {b: -36.66035438203889, d: -43.532758214079514}\n",
      "Liquidus not continuous for guess {b: -44.80709980026976, d: -43.532758214079514}\n",
      "Liquidus not continuous for guess {b: -36.66035438203889, d: -48.36973134897724}\n",
      "Liquidus not continuous for guess {b: -36.66035438203889, d: -43.532758214079514}\n",
      "Liquidus not continuous for guess {b: -36.66035438203889, d: -48.36973134897724}\n",
      "Liquidus not continuous for guess {b: -40.73372709115432, d: -48.36973134897724}\n",
      "Liquidus not continuous for guess {b: -36.66035438203889, d: -50.788217916426106}\n",
      "Liquidus not continuous for guess {b: -36.66035438203889, d: -48.36973134897724}\n",
      "Liquidus not continuous for guess {b: -36.66035438203889, d: -50.788217916426106}\n",
      "Liquidus not continuous for guess {b: -38.697040736596605, d: -50.788217916426106}\n",
      "Liquidus not continuous for guess {b: -36.66035438203889, d: -50.788217916426106}\n",
      "Liquidus not continuous for guess {b: -38.697040736596605, d: -50.788217916426106}\n",
      "Liquidus not continuous for guess {b: -38.697040736596605, d: -50.788217916426106}\n",
      "Liquidus not continuous for guess {b: -37.678697559317754, d: -50.485907095495}\n",
      "--- Nelder-Mead converged in 2.6084394454956055 seconds ---\n",
      "Mean temperature deviation per point between liquidus curves = 188.75380519036256 \n",
      "\n",
      "Perceived MAE: 188K, Actual MAE: 185K\n",
      "Running with seed 42\n",
      "Num sampled points: 1\n",
      "--- Beginning Nelder-Mead optimization ---\n",
      "--- Nelder-Mead converged in 10.379482984542847 seconds ---\n",
      "Mean temperature deviation per point between liquidus curves = 0.010189367474595201 \n",
      "\n",
      "--- Beginning Nelder-Mead optimization ---\n",
      "--- Nelder-Mead converged in 10.576712846755981 seconds ---\n",
      "Mean temperature deviation per point between liquidus curves = 0.015183239372618118 \n",
      "\n",
      "Perceived MAE: 0K, Actual MAE: 9237K\n",
      "Num sampled points: 2\n",
      "--- Beginning Nelder-Mead optimization ---\n",
      "Liquidus not continuous for guess {a: -209654.59735026758, c: -348030.0670147613}\n",
      "Liquidus not continuous for guess {a: -360696.08146282606, c: -393069.2521578481}\n",
      "Liquidus not continuous for guess {a: -252487.2570239782, c: -371232.07148241217}\n",
      "Liquidus not continuous for guess {a: -1249403.3212389103, c: -789422.6115657138}\n",
      "Liquidus not continuous for guess {a: -2206656.9061836144, c: -1170037.846619603}\n"
     ]
    },
    {
     "name": "stderr",
     "output_type": "stream",
     "text": [
      "c:\\Users\\willwerj\\miniforge3\\envs\\gliquidenv\\lib\\site-packages\\numpy\\core\\fromnumeric.py:3504: RuntimeWarning: Mean of empty slice.\n",
      "  return _methods._mean(a, axis=axis, dtype=dtype,\n",
      "c:\\Users\\willwerj\\miniforge3\\envs\\gliquidenv\\lib\\site-packages\\numpy\\core\\_methods.py:121: RuntimeWarning: invalid value encountered in divide\n",
      "  ret = um.true_divide(\n"
     ]
    },
    {
     "name": "stdout",
     "output_type": "stream",
     "text": [
      "Points cannot contain NaN\n"
     ]
    },
    {
     "ename": "RuntimeError",
     "evalue": "Nelder-Mead algorithm is unable to find physical parameter values.",
     "output_type": "error",
     "traceback": [
      "\u001b[1;31m---------------------------------------------------------------------------\u001b[0m",
      "\u001b[1;31mRuntimeError\u001b[0m                              Traceback (most recent call last)",
      "Cell \u001b[1;32mIn[6], line 73\u001b[0m\n\u001b[0;32m     71\u001b[0m known_points \u001b[38;5;241m=\u001b[39m sampling_function(system\u001b[38;5;241m.\u001b[39mdigitized_liq, i)\n\u001b[0;32m     72\u001b[0m \u001b[38;5;28mprint\u001b[39m(\u001b[38;5;124mf\u001b[39m\u001b[38;5;124m\"\u001b[39m\u001b[38;5;124mNum sampled points: \u001b[39m\u001b[38;5;132;01m{\u001b[39;00mi\u001b[38;5;132;01m}\u001b[39;00m\u001b[38;5;124m\"\u001b[39m)\n\u001b[1;32m---> 73\u001b[0m adjusted_params, perceived_mae, actual_mae \u001b[38;5;241m=\u001b[39m \u001b[43moptimize_predicted_params\u001b[49m\u001b[43m(\u001b[49m\u001b[43msystem\u001b[49m\u001b[43m,\u001b[49m\u001b[43m \u001b[49m\u001b[43mknown_points\u001b[49m\u001b[43m)\u001b[49m\n\u001b[0;32m     75\u001b[0m \u001b[38;5;66;03m# Store results in dataframe\u001b[39;00m\n\u001b[0;32m     76\u001b[0m temp_df\u001b[38;5;241m.\u001b[39mloc[i] \u001b[38;5;241m=\u001b[39m [i, perceived_mae, actual_mae]\n",
      "Cell \u001b[1;32mIn[2], line 53\u001b[0m, in \u001b[0;36moptimize_predicted_params\u001b[1;34m(bl, known_points)\u001b[0m\n\u001b[0;32m     48\u001b[0m bl\u001b[38;5;241m.\u001b[39mupdate_params([l0_a_itl, \u001b[38;5;241m0\u001b[39m, l1_a_itl, \u001b[38;5;241m0\u001b[39m])\n\u001b[0;32m     50\u001b[0m initial_guesses \u001b[38;5;241m=\u001b[39m [[l0_a_itl \u001b[38;5;241m*\u001b[39m \u001b[38;5;241m0.9\u001b[39m, l1_a_itl \u001b[38;5;241m*\u001b[39m \u001b[38;5;241m0.9\u001b[39m],\n\u001b[0;32m     51\u001b[0m                    [l0_a_itl \u001b[38;5;241m*\u001b[39m \u001b[38;5;241m1.1\u001b[39m, l1_a_itl \u001b[38;5;241m*\u001b[39m \u001b[38;5;241m0.9\u001b[39m],\n\u001b[0;32m     52\u001b[0m                    [l0_a_itl \u001b[38;5;241m*\u001b[39m \u001b[38;5;241m0.9\u001b[39m, l1_a_itl \u001b[38;5;241m*\u001b[39m \u001b[38;5;241m1.1\u001b[39m]]\n\u001b[1;32m---> 53\u001b[0m mae, _, _ \u001b[38;5;241m=\u001b[39m \u001b[43mbl\u001b[49m\u001b[38;5;241;43m.\u001b[39;49m\u001b[43mnelder_mead\u001b[49m\u001b[43m(\u001b[49m\u001b[43mtol\u001b[49m\u001b[38;5;241;43m=\u001b[39;49m\u001b[38;5;241;43m10\u001b[39;49m\u001b[43m,\u001b[49m\u001b[43m \u001b[49m\u001b[43minitial_guesses\u001b[49m\u001b[38;5;241;43m=\u001b[39;49m\u001b[43minitial_guesses\u001b[49m\u001b[43m,\u001b[49m\u001b[43m \u001b[49m\u001b[43mverbose\u001b[49m\u001b[38;5;241;43m=\u001b[39;49m\u001b[38;5;28;43;01mFalse\u001b[39;49;00m\u001b[43m)\u001b[49m\n\u001b[0;32m     54\u001b[0m \u001b[38;5;66;03m# print(f\"Post: L_a opt Liquidus MAE from known points: {int(mae)}K\")\u001b[39;00m\n\u001b[0;32m     56\u001b[0m updated_params \u001b[38;5;241m=\u001b[39m [bl\u001b[38;5;241m.\u001b[39mget_L0_a(), bl\u001b[38;5;241m.\u001b[39mget_L0_b(), bl\u001b[38;5;241m.\u001b[39mget_L1_a(), bl\u001b[38;5;241m.\u001b[39mget_L1_b()]\n",
      "File \u001b[1;32mc:\\Users\\willwerj\\University of Michigan Dropbox\\Joshua Willwerth\\Lab Work\\Sun Group\\GLiquid Project\\gliquid_testing\\GLiquid\\src\\gliquid_binary.py:739\u001b[0m, in \u001b[0;36mBinaryLiquid.nelder_mead\u001b[1;34m(self, max_iter, tol, verbose, initial_guesses)\u001b[0m\n\u001b[0;32m    737\u001b[0m \u001b[38;5;28;01mif\u001b[39;00m iworst \u001b[38;5;241m==\u001b[39m ibest:\n\u001b[0;32m    738\u001b[0m     \u001b[38;5;28mself\u001b[39m\u001b[38;5;241m.\u001b[39mnmpath \u001b[38;5;241m=\u001b[39m \u001b[38;5;28mself\u001b[39m\u001b[38;5;241m.\u001b[39mnmpath[:, :, :i]\n\u001b[1;32m--> 739\u001b[0m     \u001b[38;5;28;01mraise\u001b[39;00m \u001b[38;5;167;01mRuntimeError\u001b[39;00m(\u001b[38;5;124m\"\u001b[39m\u001b[38;5;124mNelder-Mead algorithm is unable to find physical parameter values.\u001b[39m\u001b[38;5;124m\"\u001b[39m)\n\u001b[0;32m    741\u001b[0m \u001b[38;5;66;03m# Simplex reflection step\u001b[39;00m\n\u001b[0;32m    742\u001b[0m \u001b[38;5;28;01mif\u001b[39;00m f_vals[iworst] \u001b[38;5;241m<\u001b[39m\u001b[38;5;241m=\u001b[39m f_xreflect \u001b[38;5;241m<\u001b[39m f_vals[\u001b[38;5;241m2\u001b[39m]:\n",
      "\u001b[1;31mRuntimeError\u001b[0m: Nelder-Mead algorithm is unable to find physical parameter values."
     ]
    },
    {
     "data": {
      "image/png": "[encoded data removed]",
      "text/plain": [
       "<Figure size 1000x600 with 1 Axes>"
      ]
     },
     "metadata": {},
     "output_type": "display_data"
    },
    {
     "data": {
      "image/png": "[encoded data removed]",
      "text/plain": [
       "<Figure size 1000x600 with 1 Axes>"
      ]
     },
     "metadata": {},
     "output_type": "display_data"
    }
   ],
   "source": [
    "import pandas as pd\n",
    "import numpy as np\n",
    "import matplotlib.pyplot as plt\n",
    "from pathlib import Path\n",
    "\n",
    "max_points = 15\n",
    "\n",
    "\n",
    "# Define the file path\n",
    "excel_file_path = r\"C:\\Users\\willwerj\\University of Michigan Dropbox\\Joshua Willwerth\\WHSun_Lab\\G_liquid\\matrix_data\\predicted_system_data-AML8.xlsx\"\n",
    "\n",
    "# Check if file exists\n",
    "if Path(excel_file_path).exists():\n",
    "    # Load the Excel file into a DataFrame\n",
    "    predicted_data_df = pd.read_excel(excel_file_path)\n",
    "    print(f\"Successfully loaded data with {predicted_data_df.shape[0]} rows and {predicted_data_df.shape[1]} columns\")\n",
    "else:\n",
    "    print(f\"Error: File not found at {excel_file_path}\")\n",
    "\n",
    "\n",
    "for sys_name in investigation_systems:\n",
    "    # Find the row matching the system name\n",
    "    system_row = predicted_data_df[predicted_data_df['system'] == sys_name]\n",
    "    \n",
    "    # Check if the system exists in the dataframe\n",
    "    if system_row.empty:\n",
    "        print(f\"Warning: System {sys_name} not found in the predicted data\")\n",
    "        continue\n",
    "    \n",
    "    # Extract parameter values\n",
    "    parameter_guesses = [\n",
    "        system_row['L0_a'].values[0],\n",
    "        system_row['L0_b'].values[0],\n",
    "        system_row['L1_a'].values[0],\n",
    "        system_row['L1_b'].values[0]\n",
    "    ]\n",
    "    \n",
    "    # Initialize system with extracted parameters\n",
    "    system = BinaryLiquid.from_cache(sys_name, params=parameter_guesses)\n",
    "\n",
    "    # Dictionary to store results for each sampling method\n",
    "    results = {}\n",
    "\n",
    "    # Run optimization for each sampling method\n",
    "    for method_name, sampling_function in sampling_methods.items():\n",
    "        print(f\"\\n--- Running {method_name} sampling method ---\")\n",
    "        \n",
    "\n",
    "        if len(sampling_function(system.digitized_liq, max_points)) == 0:\n",
    "            print(f\"Warning: Not enough points to sample for {sys_name} using {method_name} method\")\n",
    "            continue\n",
    "\n",
    "        # Initialize dataframe to store results\n",
    "        df = pd.DataFrame(columns=['num_points', 'perceived_mae', 'actual_mae'])\n",
    "        \n",
    "        # Reset parameters before each method\n",
    "        system.update_params(parameter_guesses)\n",
    "        \n",
    "        # Run optimization for various numbers of points\n",
    "        if \"random\" in method_name:\n",
    "            # For random methods, run 3 times with different seeds\n",
    "            sampling_function\n",
    "\n",
    "            iterations_df = []\n",
    "            for seed_value in [0, 42, 123]:\n",
    "                print(f\"Running with seed {seed_value}\")\n",
    "                random.seed(seed_value)\n",
    "                temp_df = pd.DataFrame(columns=['num_points', 'perceived_mae', 'actual_mae'])\n",
    "                \n",
    "                for i in range(1, max_points + 1):\n",
    "                    known_points = sampling_function(system.digitized_liq, i)\n",
    "                    print(f\"Num sampled points: {i}\")\n",
    "                    adjusted_params, perceived_mae, actual_mae = optimize_predicted_params(system, known_points)\n",
    "                    \n",
    "                    # Store results in dataframe\n",
    "                    temp_df.loc[i] = [i, perceived_mae, actual_mae]\n",
    "                    \n",
    "                    print(f\"Perceived MAE: {int(perceived_mae)}K, Actual MAE: {int(actual_mae)}K\")\n",
    "                iterations_df.append(temp_df)\n",
    "            \n",
    "            # Average the results from the 3 iterations\n",
    "            df = pd.DataFrame(columns=['num_points', 'perceived_mae', 'actual_mae'])\n",
    "            for i in range(1, max_points + 1):\n",
    "                avg_perceived = sum(df.loc[i, 'perceived_mae'] for df in iterations_df) / 3\n",
    "                avg_actual = sum(df.loc[i, 'actual_mae'] for df in iterations_df) / 3\n",
    "                df.loc[i] = [i, avg_perceived, avg_actual]\n",
    "        else:\n",
    "            # For deterministic methods, run once\n",
    "            for i in range(1, max_points + 1):\n",
    "                known_points = sampling_function(system.digitized_liq, i)\n",
    "                print(f\"Num sampled points: {i}\")\n",
    "\n",
    "                adjusted_params, perceived_mae, actual_mae = optimize_predicted_params(system, known_points)\n",
    "                \n",
    "                # Store results in dataframe\n",
    "                df.loc[i] = [i, perceived_mae, actual_mae]\n",
    "                \n",
    "                print(f\"Perceived MAE: {int(perceived_mae)}K, Actual MAE: {int(actual_mae)}K\")\n",
    "        \n",
    "        # Store dataframe in results dictionary\n",
    "        results[method_name] = df\n",
    "        \n",
    "        # Save to Excel file\n",
    "        excel_path = os.path.join(data_dir, f\"{sys_name}_optimization_{method_name}.xlsx\")\n",
    "        df.to_excel(excel_path, index=False)\n",
    "        print(f\"Saved results to {excel_path}\")\n",
    "\n",
    "    # Create comparison plot\n",
    "    plt.figure(figsize=(10, 6))\n",
    "\n",
    "    for method_name, df in results.items():\n",
    "        plt.plot(df['num_points'], df['actual_mae'], marker='o', label=f\"{method_name}\")\n",
    "\n",
    "    if sys_name in fitting_results:\n",
    "        mae_value = fitting_results[sys_name]['mae']\n",
    "        plt.axhline(y=mae_value, color='red', linestyle='--', label=f\"{sys_name} Fitted MAE\")\n",
    "\n",
    "    plt.xlabel('Number of Sampled Points')\n",
    "    plt.xticks(range(1, 13))  # Set x-ticks to integers 1 through 12\n",
    "    plt.ylabel('Actual MAE (K)')\n",
    "    plt.title('Optimization Performance by Sampling Method')\n",
    "    plt.legend()\n",
    "    plt.grid(True, alpha=0.3)\n",
    "    plt.tight_layout()\n",
    "\n",
    "    # Save the plot\n",
    "    plt.savefig(os.path.join(data_dir, f\"{sys_name}_optimization_comparison.png\"))\n",
    "\n",
    "\n"
   ]
  }
 ],
 "metadata": {
  "kernelspec": {
   "display_name": "gliquidenv",
   "language": "python",
   "name": "python3"
  },
  "language_info": {
   "codemirror_mode": {
    "name": "ipython",
    "version": 3
   },
   "file_extension": ".py",
   "mimetype": "text/x-python",
   "name": "python",
   "nbconvert_exporter": "python",
   "pygments_lexer": "ipython3",
   "version": "3.10.0"
  }
 },
 "nbformat": 4,
 "nbformat_minor": 4
}
