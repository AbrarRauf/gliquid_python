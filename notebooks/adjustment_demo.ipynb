{
 "cells": [
  {
   "cell_type": "markdown",
   "metadata": {},
   "source": [
    "This notebook demonstrates how the Gliquid code can be used to adjust the prediction of a binary phase diagram with known datapoints taken from measurements.\n",
    "\n",
    "*WORK IN PROGRESS, WILL BE UPDATED IN NEXT VERSION*"
   ]
  },
  {
   "cell_type": "code",
   "execution_count": 32,
   "metadata": {},
   "outputs": [],
   "source": [
    "import os\n",
    "import sys\n",
    "import plotly.graph_objects as go\n",
    "import sympy as sp\n",
    "\n",
    "# Navigate to the folder with gliquid source code\n",
    "project_root = os.path.abspath(os.path.join(os.getcwd(), \"..\"))\n",
    "sys.path.append(os.path.join(project_root, \"src\"))\n",
    "\n",
    "from gliquid_binary import BinaryLiquid, BLPlotter\n",
    "\n",
    "# Set the environmental variables for cache directory (where data files are stored) and Materials Project API keys.\n",
    "# The legacy Materials Project API key is only necessary if 'dft_type' is set to 'GGA' or if the element 'Yb' is used.\n",
    "os.environ[\"LEGACY_MP_API_KEY\"] = \"YOUR_API_KEY_HERE\"\n",
    "os.environ[\"NEW_MP_API_KEY\"] = \"YOUR_API_KEY_HERE\""
   ]
  },
  {
   "cell_type": "code",
   "execution_count": 45,
   "metadata": {},
   "outputs": [
    {
     "name": "stdout",
     "output_type": "stream",
     "text": [
      "Ce: H_fusion = 6200.0 J/mol, T_fusion = 1071.0 K, T_vaporization = 3633.15 K\n",
      "Ir: H_fusion = 41120.0 J/mol, T_fusion = 2719.0 K, T_vaporization = 4701.15 K\n",
      "\n",
      "Loading JSON from cache.\n",
      "reading MPDS liquidus from entry at https://mpds.io/entry/C904533...\n",
      "\n"
     ]
    },
    {
     "data": {
      "application/vnd.plotly.v1+json": {
       "config": {
        "plotlyServerURL": "https://plot.ly"
       },
       "data": [
        {
         "hovertemplate": "label=Ce7Ir3<br>x=%{x}<br>t=%{y}<extra></extra>",
         "legendgroup": "Ce7Ir3",
         "line": {
          "color": "rgb(246, 207, 113)",
          "dash": "solid",
          "width": 4
         },
         "marker": {
          "symbol": "circle"
         },
         "mode": "lines",
         "name": "Ce7Ir3",
         "orientation": "v",
         "showlegend": false,
         "type": "scatter",
         "x": [
          30,
          30,
          30,
          30,
          30,
          30,
          30,
          30,
          30,
          30,
          30,
          30,
          30,
          30,
          30,
          30
         ],
         "xaxis": "x",
         "y": [
          1061.1041277263275,
          1018.739585488058,
          1101.8532066454222,
          974.8133295152378,
          1140.917098938623,
          929.353630408409,
          1178.2164957857312,
          882.348327975416,
          1213.6670059921958,
          833.7197384887355,
          1254.1901699875075,
          1247.182459719677,
          783.279162481667,
          699.0731874758952,
          730.6360668757981,
          -273.15
         ],
         "yaxis": "y"
        },
        {
         "hovertemplate": "label=Ce5Ir4<br>x=%{x}<br>t=%{y}<extra></extra>",
         "legendgroup": "Ce5Ir4",
         "line": {
          "color": "rgb(248, 156, 116)",
          "dash": "solid",
          "width": 4
         },
         "marker": {
          "symbol": "circle"
         },
         "mode": "lines",
         "name": "Ce5Ir4",
         "orientation": "v",
         "showlegend": false,
         "type": "scatter",
         "x": [
          44,
          44,
          44,
          44,
          44,
          44,
          44,
          44,
          44,
          44,
          44,
          44,
          44,
          44,
          44,
          44,
          44,
          44,
          44,
          44,
          44,
          44,
          44,
          44,
          44,
          44,
          44
         ],
         "xaxis": "x",
         "y": [
          1294.5828953031623,
          2061.503951597631,
          1921.5663336665662,
          1445.3037063679994,
          1586.276039899748,
          1827.0633027179888,
          1714.4739128161036,
          1395.9954049246453,
          1345.717637436574,
          1254.1901699875075,
          2071.6469551250384,
          2079.1079232237457,
          1973.5090621533286,
          1948.6866130171543,
          2048.8427775278346,
          2033.682997629407,
          1995.9795263933293,
          2016.0508723279472,
          1540.5573539376696,
          1493.5289326857692,
          1673.3415529059957,
          1630.5737149927768,
          1892.2093239888854,
          1860.6834846105526,
          1791.4295676944416,
          1753.8690169178572,
          -273.15
         ],
         "yaxis": "y"
        },
        {
         "hovertemplate": "label=CeIr2<br>x=%{x}<br>t=%{y}<extra></extra>",
         "legendgroup": "CeIr2",
         "line": {
          "color": "rgb(220, 176, 242)",
          "dash": "solid",
          "width": 4
         },
         "marker": {
          "symbol": "circle"
         },
         "mode": "lines",
         "name": "CeIr2",
         "orientation": "v",
         "showlegend": false,
         "type": "scatter",
         "x": [
          67,
          67,
          67,
          67,
          67,
          67,
          67,
          67,
          67,
          67,
          67,
          67,
          67,
          67,
          67,
          67,
          67,
          67,
          67,
          67,
          67,
          67,
          67,
          67,
          67,
          67,
          67,
          67,
          67,
          67,
          67,
          67,
          67,
          67,
          67,
          67,
          67,
          67,
          67,
          67,
          67,
          67,
          67,
          67,
          67
         ],
         "xaxis": "x",
         "y": [
          2567.3197752251904,
          2352.8902724503264,
          2655.049035739333,
          2841.201150680626,
          2841.3143791763027,
          2449.746753005789,
          2402.2876436204674,
          2618.5045341952086,
          2579.6326989137838,
          2495.1787103488036,
          2538.500007308948,
          2822.443756671623,
          2800.9384764373367,
          2750.140624674152,
          2776.8264605345043,
          2720.919118734255,
          2689.205528491526,
          2871.041276175504,
          2857.474066680331,
          2898.199708718917,
          2895.48213476325,
          2881.900313606,
          2890.0482305039955,
          2871.063240290616,
          2857.527139215908,
          2898.199708718917,
          2895.4824476504477,
          2881.9079553018223,
          2890.0502608876545,
          2301.648680322265,
          2248.6617789642937,
          2137.8700522731056,
          2194.033025254986,
          2079.1079232237457,
          2080.284260646706,
          2776.153489261706,
          2719.229339231821,
          2749.052258453485,
          2572.3555917190492,
          2613.2640395095505,
          2686.6709682227265,
          2651.3578510919906,
          2822.2239461808326,
          2800.542227517023,
          -273.15
         ],
         "yaxis": "y"
        },
        {
         "hovertemplate": "label=CeIr3<br>x=%{x}<br>t=%{y}<extra></extra>",
         "legendgroup": "CeIr3",
         "line": {
          "color": "rgb(135, 197, 95)",
          "dash": "solid",
          "width": 4
         },
         "marker": {
          "symbol": "circle"
         },
         "mode": "lines",
         "name": "CeIr3",
         "orientation": "v",
         "showlegend": false,
         "type": "scatter",
         "x": [
          75,
          75,
          75,
          75,
          75,
          75,
          75,
          75,
          75,
          75,
          75,
          75
         ],
         "xaxis": "x",
         "y": [
          2235.652813359267,
          2239.823459262065,
          2567.3197752251904,
          2291.5203448126354,
          2338.9164992266374,
          2422.031456174399,
          2382.3380998804237,
          2546.7667570365,
          2520.44747447245,
          2458.186563723712,
          2490.9524344339247,
          -273.15
         ],
         "yaxis": "y"
        },
        {
         "hovertemplate": "x=%{x}<br>y=%{y}<extra></extra>",
         "legendgroup": "",
         "line": {
          "color": "Silver",
          "dash": "solid",
          "width": 4
         },
         "marker": {
          "symbol": "circle"
         },
         "mode": "lines",
         "name": "",
         "orientation": "v",
         "showlegend": false,
         "type": "scatter",
         "x": [
          75,
          92,
          100
         ],
         "xaxis": "x",
         "y": [
          2235.652813359267,
          2235.652813359267,
          2235.652813359267
         ],
         "yaxis": "y"
        },
        {
         "hovertemplate": "x=%{x}<br>y=%{y}<extra></extra>",
         "legendgroup": "",
         "line": {
          "color": "Silver",
          "dash": "solid",
          "width": 4
         },
         "marker": {
          "symbol": "circle"
         },
         "mode": "lines",
         "name": "",
         "orientation": "v",
         "showlegend": false,
         "type": "scatter",
         "x": [
          0,
          4,
          30
         ],
         "xaxis": "x",
         "y": [
          699.0731874758952,
          699.0731874758952,
          699.0731874758952
         ],
         "yaxis": "y"
        },
        {
         "hovertemplate": "x=%{x}<br>y=%{y}<extra></extra>",
         "legendgroup": "",
         "line": {
          "color": "Silver",
          "dash": "solid",
          "width": 4
         },
         "marker": {
          "symbol": "circle"
         },
         "mode": "lines",
         "name": "",
         "orientation": "v",
         "showlegend": false,
         "type": "scatter",
         "x": [
          67,
          75,
          83
         ],
         "xaxis": "x",
         "y": [
          2567.3197752251904,
          2567.3197752251904,
          2567.3197752251904
         ],
         "yaxis": "y"
        },
        {
         "hovertemplate": "x=%{x}<br>y=%{y}<extra></extra>",
         "legendgroup": "",
         "line": {
          "color": "Silver",
          "dash": "solid",
          "width": 4
         },
         "marker": {
          "symbol": "circle"
         },
         "mode": "lines",
         "name": "",
         "orientation": "v",
         "showlegend": false,
         "type": "scatter",
         "x": [
          17,
          30,
          44
         ],
         "xaxis": "x",
         "y": [
          1254.1901699875075,
          1254.1901699875075,
          1254.1901699875075
         ],
         "yaxis": "y"
        },
        {
         "hovertemplate": "x=%{x}<br>y=%{y}<extra></extra>",
         "legendgroup": "",
         "line": {
          "color": "Silver",
          "dash": "solid",
          "width": 4
         },
         "marker": {
          "symbol": "circle"
         },
         "mode": "lines",
         "name": "",
         "orientation": "v",
         "showlegend": false,
         "type": "scatter",
         "x": [
          41,
          44,
          67
         ],
         "xaxis": "x",
         "y": [
          2079.1079232237457,
          2079.1079232237457,
          2079.1079232237457
         ],
         "yaxis": "y"
        },
        {
         "hovertemplate": "label=L<br>x=%{x}<br>t=%{y}<extra></extra>",
         "legendgroup": "L",
         "line": {
          "color": "#117733",
          "dash": "solid",
          "width": 4
         },
         "marker": {
          "symbol": "circle"
         },
         "mode": "lines",
         "name": "L",
         "orientation": "v",
         "showlegend": false,
         "type": "scatter",
         "x": [
          0,
          0,
          1,
          2,
          3,
          4,
          5,
          6,
          7.000000000000001,
          8,
          9,
          10,
          11,
          12,
          13,
          14.000000000000002,
          15,
          16,
          17,
          18,
          19,
          20,
          21,
          22,
          23,
          24,
          25,
          26,
          27,
          28.000000000000004,
          28.999999999999996,
          30,
          31,
          32,
          33,
          34,
          35,
          36,
          37,
          38,
          39,
          40,
          41,
          42,
          43,
          44,
          45,
          46,
          47,
          48,
          49,
          50,
          51,
          52,
          53,
          54,
          55.00000000000001,
          56.00000000000001,
          57.00000000000001,
          57.99999999999999,
          59,
          60,
          61,
          62,
          63,
          64,
          65,
          66,
          67,
          68,
          69,
          70,
          71,
          72,
          73,
          74,
          75,
          76,
          77,
          78,
          79,
          80,
          81,
          82,
          83,
          84,
          85,
          86,
          87,
          88,
          89,
          90,
          91,
          92,
          93,
          94,
          95,
          96,
          97,
          98,
          99,
          100,
          100
         ],
         "xaxis": "x",
         "y": [
          798.1749999999998,
          798.1749999999998,
          771.511595369347,
          745.1266554107752,
          714.5469145934396,
          699.0731874758952,
          730.6360668757981,
          783.279162481667,
          833.7197384887355,
          882.348327975416,
          929.353630408409,
          974.8133295152378,
          1018.739585488058,
          1061.1041277263275,
          1101.8532066454222,
          1140.917098938623,
          1178.2164957857312,
          1213.6670059921958,
          1247.182459719677,
          1294.5828953031623,
          1345.717637436574,
          1395.9954049246453,
          1445.3037063679994,
          1493.5289326857692,
          1540.5573539376696,
          1586.276039899748,
          1630.5737149927768,
          1673.3415529059957,
          1714.4739128161036,
          1753.8690169178572,
          1791.4295676944416,
          1827.0633027179888,
          1860.6834846105526,
          1892.2093239888854,
          1921.5663336665662,
          1948.6866130171543,
          1973.5090621533286,
          1995.9795263933293,
          2016.0508723279472,
          2033.682997629407,
          2048.8427775278346,
          2061.503951597631,
          2071.6469551250384,
          2080.284260646706,
          2137.8700522731056,
          2194.033025254986,
          2248.6617789642937,
          2301.648680322265,
          2352.8902724503264,
          2402.2876436204674,
          2449.746753005789,
          2495.1787103488036,
          2538.500007308948,
          2579.6326989137838,
          2618.5045341952086,
          2655.049035739333,
          2689.205528491526,
          2720.919118734255,
          2750.140624674152,
          2776.8264605345043,
          2800.9384764373367,
          2822.443756671623,
          2841.3143791763027,
          2857.527139215908,
          2871.063240290616,
          2881.9079553018223,
          2890.0502608876545,
          2895.4824476504477,
          2898.199708718917,
          2895.48213476325,
          2890.0482305039955,
          2881.900313606,
          2871.041276175504,
          2857.474066680331,
          2841.201150680626,
          2822.2239461808326,
          2800.542227517023,
          2776.153489261706,
          2749.052258453485,
          2719.229339231821,
          2686.6709682227265,
          2651.3578510919906,
          2613.2640395095505,
          2572.3555917190492,
          2546.7667570365,
          2520.44747447245,
          2490.9524344339247,
          2458.186563723712,
          2422.031456174399,
          2382.3380998804237,
          2338.9164992266374,
          2291.5203448126354,
          2239.823459262065,
          2235.652813359267,
          2268.7348054335466,
          2301.9201776294885,
          2332.588802873199,
          2360.7356845917548,
          2386.3717144182233,
          2409.5533553460973,
          2430.541883008687,
          2454.0299999999997,
          2454.0299999999997
         ],
         "yaxis": "y"
        },
        {
         "marker": {
          "color": "#117733"
         },
         "mode": "lines",
         "name": "Predicted Liquidus",
         "showlegend": true,
         "type": "scatter",
         "x": [
          null
         ],
         "y": [
          null
         ]
        }
       ],
       "layout": {
        "annotations": [
         {
          "borderpad": 5,
          "font": {
           "color": "black",
           "size": 18
          },
          "showarrow": false,
          "text": "Ce7Ir3",
          "textangle": -90,
          "x": 27.5,
          "y": 479.160535351593,
          "yanchor": "bottom"
         },
         {
          "borderpad": 5,
          "font": {
           "color": "black",
           "size": 18
          },
          "showarrow": false,
          "text": "Ce5Ir4",
          "textangle": -90,
          "x": 41.5,
          "y": 479.160535351593,
          "yanchor": "bottom"
         },
         {
          "borderpad": 5,
          "font": {
           "color": "black",
           "size": 18
          },
          "showarrow": false,
          "text": "CeIr2",
          "textangle": -90,
          "x": 64.5,
          "y": 479.160535351593,
          "yanchor": "bottom"
         },
         {
          "borderpad": 5,
          "font": {
           "color": "black",
           "size": 18
          },
          "showarrow": false,
          "text": "CeIr3",
          "textangle": -90,
          "x": 72.5,
          "y": 479.160535351593,
          "yanchor": "bottom"
         },
         {
          "font": {
           "color": "black",
           "size": 18
          },
          "showarrow": false,
          "text": "L",
          "x": 50,
          "y": 2946.580492186263
         }
        ],
        "font": {
         "size": 22
        },
        "height": 700,
        "legend": {
         "font": {
          "size": 18
         },
         "x": 0.01,
         "xanchor": "left",
         "y": 0.99,
         "yanchor": "top"
        },
        "plot_bgcolor": "white",
        "showlegend": true,
        "template": {
         "data": {
          "bar": [
           {
            "error_x": {
             "color": "#2a3f5f"
            },
            "error_y": {
             "color": "#2a3f5f"
            },
            "marker": {
             "line": {
              "color": "#E5ECF6",
              "width": 0.5
             },
             "pattern": {
              "fillmode": "overlay",
              "size": 10,
              "solidity": 0.2
             }
            },
            "type": "bar"
           }
          ],
          "barpolar": [
           {
            "marker": {
             "line": {
              "color": "#E5ECF6",
              "width": 0.5
             },
             "pattern": {
              "fillmode": "overlay",
              "size": 10,
              "solidity": 0.2
             }
            },
            "type": "barpolar"
           }
          ],
          "carpet": [
           {
            "aaxis": {
             "endlinecolor": "#2a3f5f",
             "gridcolor": "white",
             "linecolor": "white",
             "minorgridcolor": "white",
             "startlinecolor": "#2a3f5f"
            },
            "baxis": {
             "endlinecolor": "#2a3f5f",
             "gridcolor": "white",
             "linecolor": "white",
             "minorgridcolor": "white",
             "startlinecolor": "#2a3f5f"
            },
            "type": "carpet"
           }
          ],
          "choropleth": [
           {
            "colorbar": {
             "outlinewidth": 0,
             "ticks": ""
            },
            "type": "choropleth"
           }
          ],
          "contour": [
           {
            "colorbar": {
             "outlinewidth": 0,
             "ticks": ""
            },
            "colorscale": [
             [
              0,
              "#0d0887"
             ],
             [
              0.1111111111111111,
              "#46039f"
             ],
             [
              0.2222222222222222,
              "#7201a8"
             ],
             [
              0.3333333333333333,
              "#9c179e"
             ],
             [
              0.4444444444444444,
              "#bd3786"
             ],
             [
              0.5555555555555556,
              "#d8576b"
             ],
             [
              0.6666666666666666,
              "#ed7953"
             ],
             [
              0.7777777777777778,
              "#fb9f3a"
             ],
             [
              0.8888888888888888,
              "#fdca26"
             ],
             [
              1,
              "#f0f921"
             ]
            ],
            "type": "contour"
           }
          ],
          "contourcarpet": [
           {
            "colorbar": {
             "outlinewidth": 0,
             "ticks": ""
            },
            "type": "contourcarpet"
           }
          ],
          "heatmap": [
           {
            "colorbar": {
             "outlinewidth": 0,
             "ticks": ""
            },
            "colorscale": [
             [
              0,
              "#0d0887"
             ],
             [
              0.1111111111111111,
              "#46039f"
             ],
             [
              0.2222222222222222,
              "#7201a8"
             ],
             [
              0.3333333333333333,
              "#9c179e"
             ],
             [
              0.4444444444444444,
              "#bd3786"
             ],
             [
              0.5555555555555556,
              "#d8576b"
             ],
             [
              0.6666666666666666,
              "#ed7953"
             ],
             [
              0.7777777777777778,
              "#fb9f3a"
             ],
             [
              0.8888888888888888,
              "#fdca26"
             ],
             [
              1,
              "#f0f921"
             ]
            ],
            "type": "heatmap"
           }
          ],
          "heatmapgl": [
           {
            "colorbar": {
             "outlinewidth": 0,
             "ticks": ""
            },
            "colorscale": [
             [
              0,
              "#0d0887"
             ],
             [
              0.1111111111111111,
              "#46039f"
             ],
             [
              0.2222222222222222,
              "#7201a8"
             ],
             [
              0.3333333333333333,
              "#9c179e"
             ],
             [
              0.4444444444444444,
              "#bd3786"
             ],
             [
              0.5555555555555556,
              "#d8576b"
             ],
             [
              0.6666666666666666,
              "#ed7953"
             ],
             [
              0.7777777777777778,
              "#fb9f3a"
             ],
             [
              0.8888888888888888,
              "#fdca26"
             ],
             [
              1,
              "#f0f921"
             ]
            ],
            "type": "heatmapgl"
           }
          ],
          "histogram": [
           {
            "marker": {
             "pattern": {
              "fillmode": "overlay",
              "size": 10,
              "solidity": 0.2
             }
            },
            "type": "histogram"
           }
          ],
          "histogram2d": [
           {
            "colorbar": {
             "outlinewidth": 0,
             "ticks": ""
            },
            "colorscale": [
             [
              0,
              "#0d0887"
             ],
             [
              0.1111111111111111,
              "#46039f"
             ],
             [
              0.2222222222222222,
              "#7201a8"
             ],
             [
              0.3333333333333333,
              "#9c179e"
             ],
             [
              0.4444444444444444,
              "#bd3786"
             ],
             [
              0.5555555555555556,
              "#d8576b"
             ],
             [
              0.6666666666666666,
              "#ed7953"
             ],
             [
              0.7777777777777778,
              "#fb9f3a"
             ],
             [
              0.8888888888888888,
              "#fdca26"
             ],
             [
              1,
              "#f0f921"
             ]
            ],
            "type": "histogram2d"
           }
          ],
          "histogram2dcontour": [
           {
            "colorbar": {
             "outlinewidth": 0,
             "ticks": ""
            },
            "colorscale": [
             [
              0,
              "#0d0887"
             ],
             [
              0.1111111111111111,
              "#46039f"
             ],
             [
              0.2222222222222222,
              "#7201a8"
             ],
             [
              0.3333333333333333,
              "#9c179e"
             ],
             [
              0.4444444444444444,
              "#bd3786"
             ],
             [
              0.5555555555555556,
              "#d8576b"
             ],
             [
              0.6666666666666666,
              "#ed7953"
             ],
             [
              0.7777777777777778,
              "#fb9f3a"
             ],
             [
              0.8888888888888888,
              "#fdca26"
             ],
             [
              1,
              "#f0f921"
             ]
            ],
            "type": "histogram2dcontour"
           }
          ],
          "mesh3d": [
           {
            "colorbar": {
             "outlinewidth": 0,
             "ticks": ""
            },
            "type": "mesh3d"
           }
          ],
          "parcoords": [
           {
            "line": {
             "colorbar": {
              "outlinewidth": 0,
              "ticks": ""
             }
            },
            "type": "parcoords"
           }
          ],
          "pie": [
           {
            "automargin": true,
            "type": "pie"
           }
          ],
          "scatter": [
           {
            "fillpattern": {
             "fillmode": "overlay",
             "size": 10,
             "solidity": 0.2
            },
            "type": "scatter"
           }
          ],
          "scatter3d": [
           {
            "line": {
             "colorbar": {
              "outlinewidth": 0,
              "ticks": ""
             }
            },
            "marker": {
             "colorbar": {
              "outlinewidth": 0,
              "ticks": ""
             }
            },
            "type": "scatter3d"
           }
          ],
          "scattercarpet": [
           {
            "marker": {
             "colorbar": {
              "outlinewidth": 0,
              "ticks": ""
             }
            },
            "type": "scattercarpet"
           }
          ],
          "scattergeo": [
           {
            "marker": {
             "colorbar": {
              "outlinewidth": 0,
              "ticks": ""
             }
            },
            "type": "scattergeo"
           }
          ],
          "scattergl": [
           {
            "marker": {
             "colorbar": {
              "outlinewidth": 0,
              "ticks": ""
             }
            },
            "type": "scattergl"
           }
          ],
          "scattermapbox": [
           {
            "marker": {
             "colorbar": {
              "outlinewidth": 0,
              "ticks": ""
             }
            },
            "type": "scattermapbox"
           }
          ],
          "scatterpolar": [
           {
            "marker": {
             "colorbar": {
              "outlinewidth": 0,
              "ticks": ""
             }
            },
            "type": "scatterpolar"
           }
          ],
          "scatterpolargl": [
           {
            "marker": {
             "colorbar": {
              "outlinewidth": 0,
              "ticks": ""
             }
            },
            "type": "scatterpolargl"
           }
          ],
          "scatterternary": [
           {
            "marker": {
             "colorbar": {
              "outlinewidth": 0,
              "ticks": ""
             }
            },
            "type": "scatterternary"
           }
          ],
          "surface": [
           {
            "colorbar": {
             "outlinewidth": 0,
             "ticks": ""
            },
            "colorscale": [
             [
              0,
              "#0d0887"
             ],
             [
              0.1111111111111111,
              "#46039f"
             ],
             [
              0.2222222222222222,
              "#7201a8"
             ],
             [
              0.3333333333333333,
              "#9c179e"
             ],
             [
              0.4444444444444444,
              "#bd3786"
             ],
             [
              0.5555555555555556,
              "#d8576b"
             ],
             [
              0.6666666666666666,
              "#ed7953"
             ],
             [
              0.7777777777777778,
              "#fb9f3a"
             ],
             [
              0.8888888888888888,
              "#fdca26"
             ],
             [
              1,
              "#f0f921"
             ]
            ],
            "type": "surface"
           }
          ],
          "table": [
           {
            "cells": {
             "fill": {
              "color": "#EBF0F8"
             },
             "line": {
              "color": "white"
             }
            },
            "header": {
             "fill": {
              "color": "#C8D4E3"
             },
             "line": {
              "color": "white"
             }
            },
            "type": "table"
           }
          ]
         },
         "layout": {
          "annotationdefaults": {
           "arrowcolor": "#2a3f5f",
           "arrowhead": 0,
           "arrowwidth": 1
          },
          "autotypenumbers": "strict",
          "coloraxis": {
           "colorbar": {
            "outlinewidth": 0,
            "ticks": ""
           }
          },
          "colorscale": {
           "diverging": [
            [
             0,
             "#8e0152"
            ],
            [
             0.1,
             "#c51b7d"
            ],
            [
             0.2,
             "#de77ae"
            ],
            [
             0.3,
             "#f1b6da"
            ],
            [
             0.4,
             "#fde0ef"
            ],
            [
             0.5,
             "#f7f7f7"
            ],
            [
             0.6,
             "#e6f5d0"
            ],
            [
             0.7,
             "#b8e186"
            ],
            [
             0.8,
             "#7fbc41"
            ],
            [
             0.9,
             "#4d9221"
            ],
            [
             1,
             "#276419"
            ]
           ],
           "sequential": [
            [
             0,
             "#0d0887"
            ],
            [
             0.1111111111111111,
             "#46039f"
            ],
            [
             0.2222222222222222,
             "#7201a8"
            ],
            [
             0.3333333333333333,
             "#9c179e"
            ],
            [
             0.4444444444444444,
             "#bd3786"
            ],
            [
             0.5555555555555556,
             "#d8576b"
            ],
            [
             0.6666666666666666,
             "#ed7953"
            ],
            [
             0.7777777777777778,
             "#fb9f3a"
            ],
            [
             0.8888888888888888,
             "#fdca26"
            ],
            [
             1,
             "#f0f921"
            ]
           ],
           "sequentialminus": [
            [
             0,
             "#0d0887"
            ],
            [
             0.1111111111111111,
             "#46039f"
            ],
            [
             0.2222222222222222,
             "#7201a8"
            ],
            [
             0.3333333333333333,
             "#9c179e"
            ],
            [
             0.4444444444444444,
             "#bd3786"
            ],
            [
             0.5555555555555556,
             "#d8576b"
            ],
            [
             0.6666666666666666,
             "#ed7953"
            ],
            [
             0.7777777777777778,
             "#fb9f3a"
            ],
            [
             0.8888888888888888,
             "#fdca26"
            ],
            [
             1,
             "#f0f921"
            ]
           ]
          },
          "colorway": [
           "#636efa",
           "#EF553B",
           "#00cc96",
           "#ab63fa",
           "#FFA15A",
           "#19d3f3",
           "#FF6692",
           "#B6E880",
           "#FF97FF",
           "#FECB52"
          ],
          "font": {
           "color": "#2a3f5f"
          },
          "geo": {
           "bgcolor": "white",
           "lakecolor": "white",
           "landcolor": "#E5ECF6",
           "showlakes": true,
           "showland": true,
           "subunitcolor": "white"
          },
          "hoverlabel": {
           "align": "left"
          },
          "hovermode": "closest",
          "mapbox": {
           "style": "light"
          },
          "paper_bgcolor": "white",
          "plot_bgcolor": "#E5ECF6",
          "polar": {
           "angularaxis": {
            "gridcolor": "white",
            "linecolor": "white",
            "ticks": ""
           },
           "bgcolor": "#E5ECF6",
           "radialaxis": {
            "gridcolor": "white",
            "linecolor": "white",
            "ticks": ""
           }
          },
          "scene": {
           "xaxis": {
            "backgroundcolor": "#E5ECF6",
            "gridcolor": "white",
            "gridwidth": 2,
            "linecolor": "white",
            "showbackground": true,
            "ticks": "",
            "zerolinecolor": "white"
           },
           "yaxis": {
            "backgroundcolor": "#E5ECF6",
            "gridcolor": "white",
            "gridwidth": 2,
            "linecolor": "white",
            "showbackground": true,
            "ticks": "",
            "zerolinecolor": "white"
           },
           "zaxis": {
            "backgroundcolor": "#E5ECF6",
            "gridcolor": "white",
            "gridwidth": 2,
            "linecolor": "white",
            "showbackground": true,
            "ticks": "",
            "zerolinecolor": "white"
           }
          },
          "shapedefaults": {
           "line": {
            "color": "#2a3f5f"
           }
          },
          "ternary": {
           "aaxis": {
            "gridcolor": "white",
            "linecolor": "white",
            "ticks": ""
           },
           "baxis": {
            "gridcolor": "white",
            "linecolor": "white",
            "ticks": ""
           },
           "bgcolor": "#E5ECF6",
           "caxis": {
            "gridcolor": "white",
            "linecolor": "white",
            "ticks": ""
           }
          },
          "title": {
           "x": 0.05
          },
          "xaxis": {
           "automargin": true,
           "gridcolor": "white",
           "linecolor": "white",
           "ticks": "",
           "title": {
            "standoff": 15
           },
           "zerolinecolor": "white",
           "zerolinewidth": 2
          },
          "yaxis": {
           "automargin": true,
           "gridcolor": "white",
           "linecolor": "white",
           "ticks": "",
           "title": {
            "standoff": 15
           },
           "zerolinecolor": "white",
           "zerolinewidth": 2
          }
         }
        },
        "title": {
         "text": "Ce-Ir Predicted Binary Phase Diagram"
        },
        "width": 960,
        "xaxis": {
         "linecolor": "black",
         "linewidth": 2,
         "mirror": true,
         "range": [
          0,
          100
         ],
         "showline": true,
         "tickcolor": "black",
         "tickformat": ".0f",
         "ticks": "outside",
         "title": {
          "text": "Ir (at. %)"
         }
        },
        "yaxis": {
         "linecolor": "black",
         "linewidth": 2,
         "mirror": true,
         "range": [
          479.160535351593,
          3140.1036260556493
         ],
         "showline": true,
         "tickcolor": "black",
         "ticks": "outside",
         "ticksuffix": " ",
         "title": {
          "text": "T (°C)"
         }
        }
       }
      }
     },
     "metadata": {},
     "output_type": "display_data"
    }
   ],
   "source": [
    "# Instantiate a BinaryLiquid object with a guess for parameter values\n",
    "parameter_guesses = [-175000, -20, 23000, -12] # [Enthalpy of Mixing, Entropy of Mixing, Enthalpy Skew, Entropy Skew]\n",
    "ce_ir_system = BinaryLiquid.from_cache('Ce-Ir', params=parameter_guesses)\n",
    "blp = BLPlotter(ce_ir_system)\n",
    "blp.show('pred')"
   ]
  },
  {
   "cell_type": "code",
   "execution_count": 43,
   "metadata": {},
   "outputs": [],
   "source": [
    "def adjust_L0a_from_known_point(bl: BinaryLiquid, known_point: list, tol=10):\n",
    "    \"\"\"\n",
    "    From a known (measured) point, use a bisection algorithm to find the value of L0_a which will generate a liquidus \n",
    "    which intersects the known point. \n",
    "    \"\"\"\n",
    "    # Get present MAE and parameters\n",
    "    mae, _ = bl.calculate_deviation_metrics()\n",
    "    print(f\"Current complete liquidus MAE: {int(mae)}K\")\n",
    "    print(f\"Current parameters: {bl._params}\")\n",
    "\n",
    "    def get_temp_error():\n",
    "        bl.update_phase_points()\n",
    "        gen_liq = bl.phases[-1]['points']\n",
    "        gen_liq_point = min(gen_liq, key=lambda x: abs(x[0] - known_point_k[0]))\n",
    "        return gen_liq_point[1] - known_point_k[1]\n",
    "\n",
    "    # Find the temperature error of the generated liquidus to the known point\n",
    "    known_point_k = [known_point[0], known_point[1] + 273.15] # Assume that known_point is given in Celsius\n",
    "    temp_error = get_temp_error()\n",
    "    print(f\"The liquidus point generated from current parameter guesses is off by {int(temp_error)} K\")\n",
    "\n",
    "    # Find the values of L0_a that generate a liquidus above and below the known point (at the same composition).\n",
    "    # Note: this algorithm as-written will only work for L0_a < 0\n",
    "    ub, lb = None, None\n",
    "    while not (lb and ub):\n",
    "        if temp_error > 0:\n",
    "            ub = bl.get_L0_a()\n",
    "            bl._params[0] *= 2\n",
    "        else:\n",
    "            lb = bl.get_L0_a()\n",
    "            bl._params[0] /= 2\n",
    "        temp_error = get_temp_error()\n",
    "\n",
    "    # Search between the boundary L0_a values to find value that generates a liquidus with temperature error below 'tol'\n",
    "    # 'tol' is the temperature (Celsius / Kelvin) precision in which the generated liquidus point error must fall below\n",
    "    while abs(temp_error) > tol:\n",
    "        mid = 0.5 * (lb + ub)\n",
    "        bl._params[0] = mid\n",
    "        temp_error = get_temp_error()\n",
    "        if temp_error > 0:\n",
    "            ub = mid\n",
    "        else:\n",
    "            lb = mid\n",
    "                \n",
    "    mae, _ = bl.calculate_deviation_metrics()\n",
    "    print(f\"Adjusted complete liquidus MAE: {int(mae)}K\")\n",
    "    print(f\"Adjusted parameters: {bl._params}\")"
   ]
  },
  {
   "cell_type": "code",
   "execution_count": 44,
   "metadata": {},
   "outputs": [
    {
     "name": "stdout",
     "output_type": "stream",
     "text": [
      "Current complete liquidus MAE: 567K\n",
      "Current parameters: [-175000, -20, 23000, -12]\n",
      "The liquidus point generated from current parameter guesses is off by 221 K\n",
      "Adjusted complete liquidus MAE: 381K\n",
      "Adjusted parameters: [-194140.625, -20, 23000, -12]\n"
     ]
    },
    {
     "data": {
      "application/vnd.plotly.v1+json": {
       "config": {
        "plotlyServerURL": "https://plot.ly"
       },
       "data": [
        {
         "line": {
          "color": "#B82E2E",
          "dash": "dash",
          "width": 4
         },
         "mode": "lines",
         "showlegend": false,
         "type": "scatter",
         "x": [
          0,
          0.530217,
          1.0575,
          1.58129,
          2.10103,
          2.61617,
          3.12613,
          3.63037,
          4.12832,
          4.61942,
          5.10313,
          5.57887,
          6.04609,
          6.50424,
          6.95274,
          7.391050000000001,
          7.81861,
          8.23485,
          8.72499,
          9.21988,
          9.71952,
          10.2239,
          10.733,
          11.2469,
          11.7656,
          12.2889,
          12.8171,
          13.350000000000001,
          13.887599999999999,
          14.429999999999998,
          14.977099999999998,
          15.529000000000002,
          16.0856,
          16.647,
          17.2131,
          17.5129,
          17.8201,
          18.1347,
          18.4566,
          18.7858,
          19.1221,
          19.4655,
          19.816,
          20.1734,
          20.5377,
          20.9088,
          21.2867,
          21.6712,
          22.0624,
          22.4601,
          22.8643,
          23.2749,
          23.6744,
          24.0922,
          24.5272,
          24.9788,
          25.445899999999998,
          25.927900000000005,
          26.4239,
          26.9329,
          27.454299999999996,
          27.987100000000005,
          28.5306,
          29.0838,
          29.646,
          30.216199999999997,
          30.7937,
          31.377700000000004,
          31.967199999999995,
          32.6463,
          33.3312,
          34.0218,
          34.718,
          35.4197,
          36.1267,
          36.839,
          37.5564,
          38.2788,
          39.0061,
          39.7381,
          40.4748,
          41.2161,
          41.9618,
          42.7118,
          43.4659,
          44.2242,
          45.2385,
          46.2843,
          47.3627,
          48.4753,
          49.6232,
          50.8078,
          52.0305,
          53.2925,
          54.5952,
          55.94,
          57.328100000000006,
          58.76090000000001,
          60.2396,
          61.7657,
          63.3405,
          64.9652,
          66.6413,
          67.2036,
          67.7862,
          68.3875,
          69.0062,
          69.6407,
          70.2895,
          70.9511,
          71.6241,
          72.3069,
          72.9981,
          73.6961,
          74.3995,
          75.1068,
          75.8165,
          76.5271,
          77.2371,
          77.9451,
          78.2034,
          78.4534,
          78.6955,
          78.9296,
          79.156,
          79.3748,
          79.5862,
          79.7902,
          79.9869,
          80.1767,
          80.3595,
          80.5356,
          80.705,
          80.8679,
          81.0245,
          81.1748,
          81.3191,
          81.4082,
          81.4939,
          81.5764,
          81.6559,
          81.7326,
          81.8066,
          81.8783,
          81.9476,
          82.0149,
          82.0803,
          82.144,
          82.2062,
          82.2671,
          82.3268,
          82.3855,
          82.4435,
          82.501,
          82.5453,
          82.5906,
          82.6369,
          82.6839,
          82.7315,
          82.7797,
          82.8282,
          82.8769,
          82.9256,
          82.9743,
          83.0228,
          83.071,
          83.1186,
          83.1657,
          83.2119,
          83.2573,
          83.3016,
          83.4456,
          83.6013,
          83.7675,
          83.9431,
          84.1272,
          84.3185,
          84.5161,
          84.7188,
          84.9256,
          85.1355,
          85.3473,
          85.56,
          85.7725,
          85.9838,
          86.1927,
          86.3983,
          86.5993,
          86.922,
          87.3164,
          87.7798,
          88.3095,
          88.9027,
          89.5569,
          90.2693,
          91.0372,
          91.8579,
          92.7286,
          93.6468,
          94.6097,
          95.6146,
          96.6587,
          97.7395,
          98.8541,
          100
         ],
         "y": [
          798.1749999999998,
          791.0690000000001,
          783.868,
          776.551,
          769.0980000000001,
          761.486,
          753.696,
          745.706,
          737.495,
          729.041,
          720.325,
          711.325,
          702.019,
          692.387,
          682.408,
          672.061,
          661.324,
          650.177,
          656.225,
          662.191,
          668.059,
          673.809,
          679.425,
          684.887,
          690.179,
          695.282,
          700.178,
          704.85,
          709.279,
          713.447,
          717.337,
          720.93,
          724.209,
          727.156,
          729.752,
          744.117,
          758.243,
          772.14,
          785.822,
          799.301,
          812.59,
          825.6999999999999,
          838.6439999999999,
          851.4350000000001,
          864.0850000000002,
          876.6059999999999,
          889.0110000000001,
          901.311,
          913.5200000000001,
          925.65,
          937.7129999999999,
          949.7210000000001,
          964.102,
          977.42,
          989.7500000000001,
          1001.16,
          1011.7300000000001,
          1021.5400000000001,
          1030.65,
          1039.1399999999999,
          1047.08,
          1054.54,
          1061.6099999999997,
          1068.35,
          1074.8399999999997,
          1081.15,
          1087.3599999999997,
          1093.5299999999997,
          1099.75,
          1108.5299999999997,
          1116.6599999999999,
          1124.17,
          1131.08,
          1137.42,
          1143.2199999999998,
          1148.5099999999998,
          1153.33,
          1157.69,
          1161.63,
          1165.17,
          1168.3599999999997,
          1171.1999999999998,
          1173.75,
          1176.0099999999998,
          1178.0299999999997,
          1179.83,
          1277.9699999999998,
          1374.54,
          1468.98,
          1560.6999999999998,
          1649.1599999999999,
          1733.79,
          1814.02,
          1889.29,
          1959.0299999999997,
          2022.6799999999998,
          2079.68,
          2129.45,
          2171.45,
          2205.09,
          2229.82,
          2245.07,
          2250.28,
          2249.77,
          2248.25,
          2245.72,
          2242.19,
          2237.67,
          2232.17,
          2225.7,
          2218.25,
          2209.84,
          2200.48,
          2190.17,
          2178.93,
          2166.75,
          2153.65,
          2139.63,
          2124.7,
          2108.87,
          2103.07,
          2097.3,
          2091.54,
          2085.77,
          2079.97,
          2074.12,
          2068.21,
          2062.23,
          2056.14,
          2049.95,
          2043.62,
          2037.1399999999999,
          2030.5,
          2023.6799999999998,
          2016.65,
          2009.4099999999999,
          2001.9299999999998,
          1997.87,
          1993.7599999999998,
          1989.5899999999997,
          1985.35,
          1981.0299999999997,
          1976.63,
          1972.1399999999999,
          1967.5699999999997,
          1962.8899999999999,
          1958.12,
          1953.23,
          1948.23,
          1943.12,
          1937.87,
          1932.5,
          1926.9899999999998,
          1921.3399999999997,
          1926.0499999999997,
          1930.5099999999998,
          1934.7199999999998,
          1938.67,
          1942.3599999999997,
          1945.7799999999997,
          1948.9299999999998,
          1951.81,
          1954.4,
          1956.71,
          1958.73,
          1960.4499999999998,
          1961.8599999999997,
          1962.9699999999998,
          1963.77,
          1964.2599999999998,
          1964.42,
          1964.0299999999997,
          1962.8899999999999,
          1961.0299999999997,
          1958.4899999999998,
          1955.2999999999997,
          1951.5099999999998,
          1947.1399999999999,
          1942.23,
          1936.8199999999997,
          1930.94,
          1924.6399999999999,
          1917.94,
          1910.88,
          1903.5,
          1895.83,
          1887.9099999999999,
          1879.7799999999997,
          1911.71,
          1943.83,
          1976.15,
          2008.67,
          2041.4,
          2074.36,
          2107.55,
          2140.97,
          2174.65,
          2208.58,
          2242.78,
          2277.25,
          2312.01,
          2347.05,
          2382.4,
          2418.06,
          2454.03
         ]
        },
        {
         "hovertemplate": "label=Ce7Ir3<br>x=%{x}<br>t=%{y}<extra></extra>",
         "legendgroup": "Ce7Ir3",
         "line": {
          "color": "rgb(246, 207, 113)",
          "dash": "solid",
          "width": 4
         },
         "marker": {
          "symbol": "circle"
         },
         "mode": "lines",
         "name": "Ce7Ir3",
         "orientation": "v",
         "showlegend": false,
         "type": "scatter",
         "x": [
          30,
          30,
          30,
          30,
          30,
          30,
          30,
          30,
          30,
          30,
          30,
          30,
          30,
          30,
          30
         ],
         "xaxis": "x",
         "y": [
          601.6996691892583,
          1073.9222757892326,
          1061.456400051251,
          959.8826846772416,
          756.479594362888,
          800.1085259336447,
          842.354619472016,
          617.8339386867763,
          1029.542701074975,
          995.6510683655146,
          922.3412845129093,
          883.1311645845648,
          711.5374152566559,
          665.3236408576958,
          -273.15
         ],
         "yaxis": "y"
        },
        {
         "hovertemplate": "label=Ce5Ir4<br>x=%{x}<br>t=%{y}<extra></extra>",
         "legendgroup": "Ce5Ir4",
         "line": {
          "color": "rgb(248, 156, 116)",
          "dash": "solid",
          "width": 4
         },
         "marker": {
          "symbol": "circle"
         },
         "mode": "lines",
         "name": "Ce5Ir4",
         "orientation": "v",
         "showlegend": false,
         "type": "scatter",
         "x": [
          44,
          44,
          44,
          44,
          44,
          44,
          44,
          44,
          44,
          44,
          44,
          44,
          44,
          44,
          44,
          44,
          44,
          44,
          44,
          44,
          44,
          44,
          44,
          44,
          44,
          44,
          44
         ],
         "xaxis": "x",
         "y": [
          1073.9222757892326,
          1690.3771828455747,
          1853.7456477538326,
          1204.6489316087077,
          1347.6905288034136,
          1593.436843582927,
          1478.3096837148223,
          1154.7730661846977,
          1104.0058325064779,
          1743.7902010979656,
          1718.2527184830697,
          1766.9288937427682,
          1787.6153618694343,
          1821.4544561297835,
          1805.8034937116918,
          1834.536589292472,
          1301.2307462723243,
          1253.5093847941953,
          1436.3460587206291,
          1392.768225658746,
          1660.2315460408627,
          1627.8908185400792,
          1556.9580019853784,
          1518.5488487710472,
          1852.902568272687,
          1845.0252442779179,
          -273.15
         ],
         "yaxis": "y"
        },
        {
         "hovertemplate": "label=CeIr2<br>x=%{x}<br>t=%{y}<extra></extra>",
         "legendgroup": "CeIr2",
         "line": {
          "color": "rgb(220, 176, 242)",
          "dash": "solid",
          "width": 4
         },
         "marker": {
          "symbol": "circle"
         },
         "mode": "lines",
         "name": "CeIr2",
         "orientation": "v",
         "showlegend": false,
         "type": "scatter",
         "x": [
          67,
          67,
          67,
          67,
          67,
          67,
          67,
          67,
          67,
          67,
          67,
          67,
          67,
          67,
          67,
          67,
          67,
          67,
          67,
          67,
          67,
          67,
          67,
          67,
          67,
          67,
          67,
          67,
          67,
          67,
          67,
          67,
          67,
          67,
          67,
          67,
          67,
          67,
          67,
          67,
          67,
          67
         ],
         "xaxis": "x",
         "y": [
          2418.307227914645,
          2126.5789764556393,
          2440.770059075154,
          2634.9604762144313,
          2635.2251800625677,
          2435.7920067777127,
          2227.1420615398283,
          2177.8496798407655,
          2402.6944298550693,
          2362.2180825736937,
          2274.3602135467195,
          2319.4137642510195,
          2615.49101706203,
          2593.012320488787,
          2539.9556655833726,
          2567.821349758881,
          2509.4583625798764,
          2476.378261639384,
          2666.2834909039416,
          2652.042621620873,
          2694.781719336303,
          2691.9313029493032,
          2677.680343412591,
          2686.230389431982,
          2666.3557222029126,
          2652.1875816782954,
          2694.781719336303,
          2691.933299745884,
          2677.711496027124,
          2686.2408303558063,
          2615.0392158109944,
          2592.279869719235,
          2538.2418608755647,
          2566.681755225479,
          2506.954181292588,
          2472.808987042049,
          1853.7456477538326,
          2073.4311405077747,
          2018.512337614795,
          1903.809223409055,
          1961.9333584146639,
          -273.15
         ],
         "yaxis": "y"
        },
        {
         "hovertemplate": "label=CeIr3<br>x=%{x}<br>t=%{y}<extra></extra>",
         "legendgroup": "CeIr3",
         "line": {
          "color": "rgb(135, 197, 95)",
          "dash": "solid",
          "width": 4
         },
         "marker": {
          "symbol": "circle"
         },
         "mode": "lines",
         "name": "CeIr3",
         "orientation": "v",
         "showlegend": false,
         "type": "scatter",
         "x": [
          75,
          75,
          75,
          75,
          75,
          75,
          75,
          75,
          75,
          75,
          75,
          75
         ],
         "xaxis": "x",
         "y": [
          2418.307227914645,
          2232.1386125837475,
          2143.1526909732324,
          2190.7939012667666,
          2145.6714171299545,
          2269.8721063728403,
          2335.0025893443853,
          2304.1253196313996,
          2362.5879753648087,
          2408.144261239229,
          2386.949839263573,
          -273.15
         ],
         "yaxis": "y"
        },
        {
         "hovertemplate": "x=%{x}<br>y=%{y}<extra></extra>",
         "legendgroup": "",
         "line": {
          "color": "Silver",
          "dash": "solid",
          "width": 4
         },
         "marker": {
          "symbol": "circle"
         },
         "mode": "lines",
         "name": "",
         "orientation": "v",
         "showlegend": false,
         "type": "scatter",
         "x": [
          75,
          90,
          100
         ],
         "xaxis": "x",
         "y": [
          2143.1526909732324,
          2143.1526909732324,
          2143.1526909732324
         ],
         "yaxis": "y"
        },
        {
         "hovertemplate": "x=%{x}<br>y=%{y}<extra></extra>",
         "legendgroup": "",
         "line": {
          "color": "Silver",
          "dash": "solid",
          "width": 4
         },
         "marker": {
          "symbol": "circle"
         },
         "mode": "lines",
         "name": "",
         "orientation": "v",
         "showlegend": false,
         "type": "scatter",
         "x": [
          0,
          6,
          30
         ],
         "xaxis": "x",
         "y": [
          601.6996691892583,
          601.6996691892583,
          601.6996691892583
         ],
         "yaxis": "y"
        },
        {
         "hovertemplate": "x=%{x}<br>y=%{y}<extra></extra>",
         "legendgroup": "",
         "line": {
          "color": "Silver",
          "dash": "solid",
          "width": 4
         },
         "marker": {
          "symbol": "circle"
         },
         "mode": "lines",
         "name": "",
         "orientation": "v",
         "showlegend": false,
         "type": "scatter",
         "x": [
          67,
          75,
          81
         ],
         "xaxis": "x",
         "y": [
          2418.307227914645,
          2418.307227914645,
          2418.307227914645
         ],
         "yaxis": "y"
        },
        {
         "hovertemplate": "x=%{x}<br>y=%{y}<extra></extra>",
         "legendgroup": "",
         "line": {
          "color": "Silver",
          "dash": "solid",
          "width": 4
         },
         "marker": {
          "symbol": "circle"
         },
         "mode": "lines",
         "name": "",
         "orientation": "v",
         "showlegend": false,
         "type": "scatter",
         "x": [
          18,
          30,
          44
         ],
         "xaxis": "x",
         "y": [
          1073.9222757892326,
          1073.9222757892326,
          1073.9222757892326
         ],
         "yaxis": "y"
        },
        {
         "hovertemplate": "x=%{x}<br>y=%{y}<extra></extra>",
         "legendgroup": "",
         "line": {
          "color": "Silver",
          "dash": "solid",
          "width": 4
         },
         "marker": {
          "symbol": "circle"
         },
         "mode": "lines",
         "name": "",
         "orientation": "v",
         "showlegend": false,
         "type": "scatter",
         "x": [
          42,
          44,
          67
         ],
         "xaxis": "x",
         "y": [
          1853.7456477538326,
          1853.7456477538326,
          1853.7456477538326
         ],
         "yaxis": "y"
        },
        {
         "hovertemplate": "label=L<br>x=%{x}<br>t=%{y}<extra></extra>",
         "legendgroup": "L",
         "line": {
          "color": "#117733",
          "dash": "solid",
          "width": 4
         },
         "marker": {
          "symbol": "circle"
         },
         "mode": "lines",
         "name": "L",
         "orientation": "v",
         "showlegend": false,
         "type": "scatter",
         "x": [
          0,
          0,
          1,
          2,
          3,
          4,
          5,
          6,
          7.000000000000001,
          8,
          9,
          10,
          11,
          12,
          13,
          14.000000000000002,
          15,
          16,
          17,
          18,
          19,
          20,
          21,
          22,
          23,
          24,
          25,
          26,
          27,
          28.000000000000004,
          28.999999999999996,
          30,
          31,
          32,
          33,
          34,
          35,
          36,
          37,
          38,
          39,
          40,
          41,
          42,
          43,
          44,
          45,
          46,
          47,
          48,
          49,
          50,
          51,
          52,
          53,
          54,
          55.00000000000001,
          56.00000000000001,
          57.00000000000001,
          57.99999999999999,
          59,
          60,
          61,
          62,
          63,
          64,
          65,
          66,
          67,
          68,
          69,
          70,
          71,
          72,
          73,
          74,
          75,
          76,
          77,
          78,
          79,
          80,
          81,
          82,
          83,
          84,
          85,
          86,
          87,
          88,
          89,
          90,
          91,
          92,
          93,
          94,
          95,
          96,
          97,
          98,
          99,
          100,
          100
         ],
         "xaxis": "x",
         "y": [
          798.1749999999998,
          798.1749999999998,
          770.8643380033847,
          743.2205049883672,
          710.8088353803672,
          673.7650527073351,
          632.4458835852616,
          601.6996691892583,
          617.8339386867763,
          665.3236408576958,
          711.5374152566559,
          756.479594362888,
          800.1085259336447,
          842.354619472016,
          883.1311645845648,
          922.3412845129093,
          959.8826846772416,
          995.6510683655146,
          1029.542701074975,
          1061.456400051251,
          1104.0058325064779,
          1154.7730661846977,
          1204.6489316087077,
          1253.5093847941953,
          1301.2307462723243,
          1347.6905288034136,
          1392.768225658746,
          1436.3460587206291,
          1478.3096837148223,
          1518.5488487710472,
          1556.9580019853784,
          1593.436843582927,
          1627.8908185400792,
          1660.2315460408627,
          1690.3771828455747,
          1718.2527184830697,
          1743.7902010979656,
          1766.9288937427682,
          1787.6153618694343,
          1805.8034937116918,
          1821.4544561297835,
          1834.536589292472,
          1845.0252442779179,
          1852.902568272687,
          1903.809223409055,
          1961.9333584146639,
          2018.512337614795,
          2073.4311405077747,
          2126.5789764556393,
          2177.8496798407655,
          2227.1420615398283,
          2274.3602135467195,
          2319.4137642510195,
          2362.2180825736937,
          2402.6944298550693,
          2440.770059075154,
          2476.378261639384,
          2509.4583625798764,
          2539.9556655833726,
          2567.821349758881,
          2593.012320488787,
          2615.49101706203,
          2635.2251800625677,
          2652.1875816782954,
          2666.3557222029126,
          2677.711496027124,
          2686.2408303558063,
          2691.933299745884,
          2694.781719336303,
          2691.9313029493032,
          2686.230389431982,
          2677.680343412591,
          2666.2834909039416,
          2652.042621620873,
          2634.9604762144313,
          2615.0392158109944,
          2592.279869719235,
          2566.681755225479,
          2538.2418608755647,
          2506.954181292588,
          2472.808987042049,
          2435.7920067777127,
          2408.144261239229,
          2386.949839263573,
          2362.5879753648087,
          2335.0025893443853,
          2304.1253196313996,
          2269.8721063728403,
          2232.1386125837475,
          2190.7939012667666,
          2145.6714171299545,
          2143.1526909732324,
          2183.968827572329,
          2224.28358071326,
          2261.8877850702206,
          2296.760410169071,
          2328.8854704171586,
          2358.2546870109463,
          2384.8756503093377,
          2408.801453298883,
          2430.289881583424,
          2454.0300000000007,
          2454.0300000000007
         ],
         "yaxis": "y"
        },
        {
         "line": {
          "color": "#B82E2E",
          "dash": "dash"
         },
         "mode": "lines",
         "name": "Digitized Liquidus",
         "showlegend": true,
         "type": "scatter",
         "x": [
          null
         ],
         "y": [
          null
         ]
        },
        {
         "marker": {
          "color": "#117733"
         },
         "mode": "lines",
         "name": "Predicted Liquidus",
         "showlegend": true,
         "type": "scatter",
         "x": [
          null
         ],
         "y": [
          null
         ]
        },
        {
         "marker": {
          "color": "#9D3CFF",
          "size": 20,
          "symbol": "star"
         },
         "mode": "markers",
         "showlegend": false,
         "text": "known point #1",
         "type": "scatter",
         "x": [
          8
         ],
         "y": [
          661
         ]
        }
       ],
       "layout": {
        "annotations": [
         {
          "borderpad": 5,
          "font": {
           "color": "black",
           "size": 18
          },
          "showarrow": false,
          "text": "Ce7Ir3",
          "textangle": -90,
          "x": 27.5,
          "y": 600,
          "yanchor": "bottom"
         },
         {
          "borderpad": 5,
          "font": {
           "color": "black",
           "size": 18
          },
          "showarrow": false,
          "text": "Ce5Ir4",
          "textangle": -90,
          "x": 41.5,
          "y": 600,
          "yanchor": "bottom"
         },
         {
          "borderpad": 5,
          "font": {
           "color": "black",
           "size": 18
          },
          "showarrow": false,
          "text": "CeIr2",
          "textangle": -90,
          "x": 64.5,
          "y": 600,
          "yanchor": "bottom"
         },
         {
          "borderpad": 5,
          "font": {
           "color": "black",
           "size": 18
          },
          "showarrow": false,
          "text": "CeIr3",
          "textangle": -90,
          "x": 72.5,
          "y": 600,
          "yanchor": "bottom"
         },
         {
          "font": {
           "color": "black",
           "size": 18
          },
          "showarrow": false,
          "text": "L",
          "x": 50,
          "y": 2736.677353723029
         }
        ],
        "font": {
         "size": 22
        },
        "height": 700,
        "legend": {
         "font": {
          "size": 18
         },
         "x": 0.01,
         "xanchor": "left",
         "y": 0.99,
         "yanchor": "top"
        },
        "plot_bgcolor": "white",
        "showlegend": true,
        "template": {
         "data": {
          "bar": [
           {
            "error_x": {
             "color": "#2a3f5f"
            },
            "error_y": {
             "color": "#2a3f5f"
            },
            "marker": {
             "line": {
              "color": "#E5ECF6",
              "width": 0.5
             },
             "pattern": {
              "fillmode": "overlay",
              "size": 10,
              "solidity": 0.2
             }
            },
            "type": "bar"
           }
          ],
          "barpolar": [
           {
            "marker": {
             "line": {
              "color": "#E5ECF6",
              "width": 0.5
             },
             "pattern": {
              "fillmode": "overlay",
              "size": 10,
              "solidity": 0.2
             }
            },
            "type": "barpolar"
           }
          ],
          "carpet": [
           {
            "aaxis": {
             "endlinecolor": "#2a3f5f",
             "gridcolor": "white",
             "linecolor": "white",
             "minorgridcolor": "white",
             "startlinecolor": "#2a3f5f"
            },
            "baxis": {
             "endlinecolor": "#2a3f5f",
             "gridcolor": "white",
             "linecolor": "white",
             "minorgridcolor": "white",
             "startlinecolor": "#2a3f5f"
            },
            "type": "carpet"
           }
          ],
          "choropleth": [
           {
            "colorbar": {
             "outlinewidth": 0,
             "ticks": ""
            },
            "type": "choropleth"
           }
          ],
          "contour": [
           {
            "colorbar": {
             "outlinewidth": 0,
             "ticks": ""
            },
            "colorscale": [
             [
              0,
              "#0d0887"
             ],
             [
              0.1111111111111111,
              "#46039f"
             ],
             [
              0.2222222222222222,
              "#7201a8"
             ],
             [
              0.3333333333333333,
              "#9c179e"
             ],
             [
              0.4444444444444444,
              "#bd3786"
             ],
             [
              0.5555555555555556,
              "#d8576b"
             ],
             [
              0.6666666666666666,
              "#ed7953"
             ],
             [
              0.7777777777777778,
              "#fb9f3a"
             ],
             [
              0.8888888888888888,
              "#fdca26"
             ],
             [
              1,
              "#f0f921"
             ]
            ],
            "type": "contour"
           }
          ],
          "contourcarpet": [
           {
            "colorbar": {
             "outlinewidth": 0,
             "ticks": ""
            },
            "type": "contourcarpet"
           }
          ],
          "heatmap": [
           {
            "colorbar": {
             "outlinewidth": 0,
             "ticks": ""
            },
            "colorscale": [
             [
              0,
              "#0d0887"
             ],
             [
              0.1111111111111111,
              "#46039f"
             ],
             [
              0.2222222222222222,
              "#7201a8"
             ],
             [
              0.3333333333333333,
              "#9c179e"
             ],
             [
              0.4444444444444444,
              "#bd3786"
             ],
             [
              0.5555555555555556,
              "#d8576b"
             ],
             [
              0.6666666666666666,
              "#ed7953"
             ],
             [
              0.7777777777777778,
              "#fb9f3a"
             ],
             [
              0.8888888888888888,
              "#fdca26"
             ],
             [
              1,
              "#f0f921"
             ]
            ],
            "type": "heatmap"
           }
          ],
          "heatmapgl": [
           {
            "colorbar": {
             "outlinewidth": 0,
             "ticks": ""
            },
            "colorscale": [
             [
              0,
              "#0d0887"
             ],
             [
              0.1111111111111111,
              "#46039f"
             ],
             [
              0.2222222222222222,
              "#7201a8"
             ],
             [
              0.3333333333333333,
              "#9c179e"
             ],
             [
              0.4444444444444444,
              "#bd3786"
             ],
             [
              0.5555555555555556,
              "#d8576b"
             ],
             [
              0.6666666666666666,
              "#ed7953"
             ],
             [
              0.7777777777777778,
              "#fb9f3a"
             ],
             [
              0.8888888888888888,
              "#fdca26"
             ],
             [
              1,
              "#f0f921"
             ]
            ],
            "type": "heatmapgl"
           }
          ],
          "histogram": [
           {
            "marker": {
             "pattern": {
              "fillmode": "overlay",
              "size": 10,
              "solidity": 0.2
             }
            },
            "type": "histogram"
           }
          ],
          "histogram2d": [
           {
            "colorbar": {
             "outlinewidth": 0,
             "ticks": ""
            },
            "colorscale": [
             [
              0,
              "#0d0887"
             ],
             [
              0.1111111111111111,
              "#46039f"
             ],
             [
              0.2222222222222222,
              "#7201a8"
             ],
             [
              0.3333333333333333,
              "#9c179e"
             ],
             [
              0.4444444444444444,
              "#bd3786"
             ],
             [
              0.5555555555555556,
              "#d8576b"
             ],
             [
              0.6666666666666666,
              "#ed7953"
             ],
             [
              0.7777777777777778,
              "#fb9f3a"
             ],
             [
              0.8888888888888888,
              "#fdca26"
             ],
             [
              1,
              "#f0f921"
             ]
            ],
            "type": "histogram2d"
           }
          ],
          "histogram2dcontour": [
           {
            "colorbar": {
             "outlinewidth": 0,
             "ticks": ""
            },
            "colorscale": [
             [
              0,
              "#0d0887"
             ],
             [
              0.1111111111111111,
              "#46039f"
             ],
             [
              0.2222222222222222,
              "#7201a8"
             ],
             [
              0.3333333333333333,
              "#9c179e"
             ],
             [
              0.4444444444444444,
              "#bd3786"
             ],
             [
              0.5555555555555556,
              "#d8576b"
             ],
             [
              0.6666666666666666,
              "#ed7953"
             ],
             [
              0.7777777777777778,
              "#fb9f3a"
             ],
             [
              0.8888888888888888,
              "#fdca26"
             ],
             [
              1,
              "#f0f921"
             ]
            ],
            "type": "histogram2dcontour"
           }
          ],
          "mesh3d": [
           {
            "colorbar": {
             "outlinewidth": 0,
             "ticks": ""
            },
            "type": "mesh3d"
           }
          ],
          "parcoords": [
           {
            "line": {
             "colorbar": {
              "outlinewidth": 0,
              "ticks": ""
             }
            },
            "type": "parcoords"
           }
          ],
          "pie": [
           {
            "automargin": true,
            "type": "pie"
           }
          ],
          "scatter": [
           {
            "fillpattern": {
             "fillmode": "overlay",
             "size": 10,
             "solidity": 0.2
            },
            "type": "scatter"
           }
          ],
          "scatter3d": [
           {
            "line": {
             "colorbar": {
              "outlinewidth": 0,
              "ticks": ""
             }
            },
            "marker": {
             "colorbar": {
              "outlinewidth": 0,
              "ticks": ""
             }
            },
            "type": "scatter3d"
           }
          ],
          "scattercarpet": [
           {
            "marker": {
             "colorbar": {
              "outlinewidth": 0,
              "ticks": ""
             }
            },
            "type": "scattercarpet"
           }
          ],
          "scattergeo": [
           {
            "marker": {
             "colorbar": {
              "outlinewidth": 0,
              "ticks": ""
             }
            },
            "type": "scattergeo"
           }
          ],
          "scattergl": [
           {
            "marker": {
             "colorbar": {
              "outlinewidth": 0,
              "ticks": ""
             }
            },
            "type": "scattergl"
           }
          ],
          "scattermapbox": [
           {
            "marker": {
             "colorbar": {
              "outlinewidth": 0,
              "ticks": ""
             }
            },
            "type": "scattermapbox"
           }
          ],
          "scatterpolar": [
           {
            "marker": {
             "colorbar": {
              "outlinewidth": 0,
              "ticks": ""
             }
            },
            "type": "scatterpolar"
           }
          ],
          "scatterpolargl": [
           {
            "marker": {
             "colorbar": {
              "outlinewidth": 0,
              "ticks": ""
             }
            },
            "type": "scatterpolargl"
           }
          ],
          "scatterternary": [
           {
            "marker": {
             "colorbar": {
              "outlinewidth": 0,
              "ticks": ""
             }
            },
            "type": "scatterternary"
           }
          ],
          "surface": [
           {
            "colorbar": {
             "outlinewidth": 0,
             "ticks": ""
            },
            "colorscale": [
             [
              0,
              "#0d0887"
             ],
             [
              0.1111111111111111,
              "#46039f"
             ],
             [
              0.2222222222222222,
              "#7201a8"
             ],
             [
              0.3333333333333333,
              "#9c179e"
             ],
             [
              0.4444444444444444,
              "#bd3786"
             ],
             [
              0.5555555555555556,
              "#d8576b"
             ],
             [
              0.6666666666666666,
              "#ed7953"
             ],
             [
              0.7777777777777778,
              "#fb9f3a"
             ],
             [
              0.8888888888888888,
              "#fdca26"
             ],
             [
              1,
              "#f0f921"
             ]
            ],
            "type": "surface"
           }
          ],
          "table": [
           {
            "cells": {
             "fill": {
              "color": "#EBF0F8"
             },
             "line": {
              "color": "white"
             }
            },
            "header": {
             "fill": {
              "color": "#C8D4E3"
             },
             "line": {
              "color": "white"
             }
            },
            "type": "table"
           }
          ]
         },
         "layout": {
          "annotationdefaults": {
           "arrowcolor": "#2a3f5f",
           "arrowhead": 0,
           "arrowwidth": 1
          },
          "autotypenumbers": "strict",
          "coloraxis": {
           "colorbar": {
            "outlinewidth": 0,
            "ticks": ""
           }
          },
          "colorscale": {
           "diverging": [
            [
             0,
             "#8e0152"
            ],
            [
             0.1,
             "#c51b7d"
            ],
            [
             0.2,
             "#de77ae"
            ],
            [
             0.3,
             "#f1b6da"
            ],
            [
             0.4,
             "#fde0ef"
            ],
            [
             0.5,
             "#f7f7f7"
            ],
            [
             0.6,
             "#e6f5d0"
            ],
            [
             0.7,
             "#b8e186"
            ],
            [
             0.8,
             "#7fbc41"
            ],
            [
             0.9,
             "#4d9221"
            ],
            [
             1,
             "#276419"
            ]
           ],
           "sequential": [
            [
             0,
             "#0d0887"
            ],
            [
             0.1111111111111111,
             "#46039f"
            ],
            [
             0.2222222222222222,
             "#7201a8"
            ],
            [
             0.3333333333333333,
             "#9c179e"
            ],
            [
             0.4444444444444444,
             "#bd3786"
            ],
            [
             0.5555555555555556,
             "#d8576b"
            ],
            [
             0.6666666666666666,
             "#ed7953"
            ],
            [
             0.7777777777777778,
             "#fb9f3a"
            ],
            [
             0.8888888888888888,
             "#fdca26"
            ],
            [
             1,
             "#f0f921"
            ]
           ],
           "sequentialminus": [
            [
             0,
             "#0d0887"
            ],
            [
             0.1111111111111111,
             "#46039f"
            ],
            [
             0.2222222222222222,
             "#7201a8"
            ],
            [
             0.3333333333333333,
             "#9c179e"
            ],
            [
             0.4444444444444444,
             "#bd3786"
            ],
            [
             0.5555555555555556,
             "#d8576b"
            ],
            [
             0.6666666666666666,
             "#ed7953"
            ],
            [
             0.7777777777777778,
             "#fb9f3a"
            ],
            [
             0.8888888888888888,
             "#fdca26"
            ],
            [
             1,
             "#f0f921"
            ]
           ]
          },
          "colorway": [
           "#636efa",
           "#EF553B",
           "#00cc96",
           "#ab63fa",
           "#FFA15A",
           "#19d3f3",
           "#FF6692",
           "#B6E880",
           "#FF97FF",
           "#FECB52"
          ],
          "font": {
           "color": "#2a3f5f"
          },
          "geo": {
           "bgcolor": "white",
           "lakecolor": "white",
           "landcolor": "#E5ECF6",
           "showlakes": true,
           "showland": true,
           "subunitcolor": "white"
          },
          "hoverlabel": {
           "align": "left"
          },
          "hovermode": "closest",
          "mapbox": {
           "style": "light"
          },
          "paper_bgcolor": "white",
          "plot_bgcolor": "#E5ECF6",
          "polar": {
           "angularaxis": {
            "gridcolor": "white",
            "linecolor": "white",
            "ticks": ""
           },
           "bgcolor": "#E5ECF6",
           "radialaxis": {
            "gridcolor": "white",
            "linecolor": "white",
            "ticks": ""
           }
          },
          "scene": {
           "xaxis": {
            "backgroundcolor": "#E5ECF6",
            "gridcolor": "white",
            "gridwidth": 2,
            "linecolor": "white",
            "showbackground": true,
            "ticks": "",
            "zerolinecolor": "white"
           },
           "yaxis": {
            "backgroundcolor": "#E5ECF6",
            "gridcolor": "white",
            "gridwidth": 2,
            "linecolor": "white",
            "showbackground": true,
            "ticks": "",
            "zerolinecolor": "white"
           },
           "zaxis": {
            "backgroundcolor": "#E5ECF6",
            "gridcolor": "white",
            "gridwidth": 2,
            "linecolor": "white",
            "showbackground": true,
            "ticks": "",
            "zerolinecolor": "white"
           }
          },
          "shapedefaults": {
           "line": {
            "color": "#2a3f5f"
           }
          },
          "ternary": {
           "aaxis": {
            "gridcolor": "white",
            "linecolor": "white",
            "ticks": ""
           },
           "baxis": {
            "gridcolor": "white",
            "linecolor": "white",
            "ticks": ""
           },
           "bgcolor": "#E5ECF6",
           "caxis": {
            "gridcolor": "white",
            "linecolor": "white",
            "ticks": ""
           }
          },
          "title": {
           "x": 0.05
          },
          "xaxis": {
           "automargin": true,
           "gridcolor": "white",
           "linecolor": "white",
           "ticks": "",
           "title": {
            "standoff": 15
           },
           "zerolinecolor": "white",
           "zerolinewidth": 2
          },
          "yaxis": {
           "automargin": true,
           "gridcolor": "white",
           "linecolor": "white",
           "ticks": "",
           "title": {
            "standoff": 15
           },
           "zerolinecolor": "white",
           "zerolinewidth": 2
          }
         }
        },
        "title": {
         "text": "Ce-Ir Predicted Binary Phase Diagram"
        },
        "width": 960,
        "xaxis": {
         "linecolor": "black",
         "linewidth": 2,
         "mirror": true,
         "range": [
          0,
          100
         ],
         "showline": true,
         "tickcolor": "black",
         "tickformat": ".0f",
         "ticks": "outside",
         "title": {
          "text": "Ir (at. %)"
         }
        },
        "yaxis": {
         "linecolor": "black",
         "linewidth": 2,
         "mirror": true,
         "range": [
          600,
          2904.259891269933
         ],
         "showline": true,
         "tickcolor": "black",
         "ticks": "outside",
         "ticksuffix": " ",
         "title": {
          "text": "T (°C)"
         }
        }
       }
      }
     },
     "metadata": {},
     "output_type": "display_data"
    },
    {
     "name": "stdout",
     "output_type": "stream",
     "text": [
      "Current complete liquidus MAE: 567K\n",
      "Current parameters: [-175000, -20, 23000, -12]\n",
      "The liquidus point generated from current parameter guesses is off by 792 K\n",
      "Adjusted complete liquidus MAE: 106K\n",
      "Adjusted parameters: [-240625.0, -20, 23000, -12]\n"
     ]
    },
    {
     "data": {
      "application/vnd.plotly.v1+json": {
       "config": {
        "plotlyServerURL": "https://plot.ly"
       },
       "data": [
        {
         "line": {
          "color": "#B82E2E",
          "dash": "dash",
          "width": 4
         },
         "mode": "lines",
         "showlegend": false,
         "type": "scatter",
         "x": [
          0,
          0.530217,
          1.0575,
          1.58129,
          2.10103,
          2.61617,
          3.12613,
          3.63037,
          4.12832,
          4.61942,
          5.10313,
          5.57887,
          6.04609,
          6.50424,
          6.95274,
          7.391050000000001,
          7.81861,
          8.23485,
          8.72499,
          9.21988,
          9.71952,
          10.2239,
          10.733,
          11.2469,
          11.7656,
          12.2889,
          12.8171,
          13.350000000000001,
          13.887599999999999,
          14.429999999999998,
          14.977099999999998,
          15.529000000000002,
          16.0856,
          16.647,
          17.2131,
          17.5129,
          17.8201,
          18.1347,
          18.4566,
          18.7858,
          19.1221,
          19.4655,
          19.816,
          20.1734,
          20.5377,
          20.9088,
          21.2867,
          21.6712,
          22.0624,
          22.4601,
          22.8643,
          23.2749,
          23.6744,
          24.0922,
          24.5272,
          24.9788,
          25.445899999999998,
          25.927900000000005,
          26.4239,
          26.9329,
          27.454299999999996,
          27.987100000000005,
          28.5306,
          29.0838,
          29.646,
          30.216199999999997,
          30.7937,
          31.377700000000004,
          31.967199999999995,
          32.6463,
          33.3312,
          34.0218,
          34.718,
          35.4197,
          36.1267,
          36.839,
          37.5564,
          38.2788,
          39.0061,
          39.7381,
          40.4748,
          41.2161,
          41.9618,
          42.7118,
          43.4659,
          44.2242,
          45.2385,
          46.2843,
          47.3627,
          48.4753,
          49.6232,
          50.8078,
          52.0305,
          53.2925,
          54.5952,
          55.94,
          57.328100000000006,
          58.76090000000001,
          60.2396,
          61.7657,
          63.3405,
          64.9652,
          66.6413,
          67.2036,
          67.7862,
          68.3875,
          69.0062,
          69.6407,
          70.2895,
          70.9511,
          71.6241,
          72.3069,
          72.9981,
          73.6961,
          74.3995,
          75.1068,
          75.8165,
          76.5271,
          77.2371,
          77.9451,
          78.2034,
          78.4534,
          78.6955,
          78.9296,
          79.156,
          79.3748,
          79.5862,
          79.7902,
          79.9869,
          80.1767,
          80.3595,
          80.5356,
          80.705,
          80.8679,
          81.0245,
          81.1748,
          81.3191,
          81.4082,
          81.4939,
          81.5764,
          81.6559,
          81.7326,
          81.8066,
          81.8783,
          81.9476,
          82.0149,
          82.0803,
          82.144,
          82.2062,
          82.2671,
          82.3268,
          82.3855,
          82.4435,
          82.501,
          82.5453,
          82.5906,
          82.6369,
          82.6839,
          82.7315,
          82.7797,
          82.8282,
          82.8769,
          82.9256,
          82.9743,
          83.0228,
          83.071,
          83.1186,
          83.1657,
          83.2119,
          83.2573,
          83.3016,
          83.4456,
          83.6013,
          83.7675,
          83.9431,
          84.1272,
          84.3185,
          84.5161,
          84.7188,
          84.9256,
          85.1355,
          85.3473,
          85.56,
          85.7725,
          85.9838,
          86.1927,
          86.3983,
          86.5993,
          86.922,
          87.3164,
          87.7798,
          88.3095,
          88.9027,
          89.5569,
          90.2693,
          91.0372,
          91.8579,
          92.7286,
          93.6468,
          94.6097,
          95.6146,
          96.6587,
          97.7395,
          98.8541,
          100
         ],
         "y": [
          798.1749999999998,
          791.0690000000001,
          783.868,
          776.551,
          769.0980000000001,
          761.486,
          753.696,
          745.706,
          737.495,
          729.041,
          720.325,
          711.325,
          702.019,
          692.387,
          682.408,
          672.061,
          661.324,
          650.177,
          656.225,
          662.191,
          668.059,
          673.809,
          679.425,
          684.887,
          690.179,
          695.282,
          700.178,
          704.85,
          709.279,
          713.447,
          717.337,
          720.93,
          724.209,
          727.156,
          729.752,
          744.117,
          758.243,
          772.14,
          785.822,
          799.301,
          812.59,
          825.6999999999999,
          838.6439999999999,
          851.4350000000001,
          864.0850000000002,
          876.6059999999999,
          889.0110000000001,
          901.311,
          913.5200000000001,
          925.65,
          937.7129999999999,
          949.7210000000001,
          964.102,
          977.42,
          989.7500000000001,
          1001.16,
          1011.7300000000001,
          1021.5400000000001,
          1030.65,
          1039.1399999999999,
          1047.08,
          1054.54,
          1061.6099999999997,
          1068.35,
          1074.8399999999997,
          1081.15,
          1087.3599999999997,
          1093.5299999999997,
          1099.75,
          1108.5299999999997,
          1116.6599999999999,
          1124.17,
          1131.08,
          1137.42,
          1143.2199999999998,
          1148.5099999999998,
          1153.33,
          1157.69,
          1161.63,
          1165.17,
          1168.3599999999997,
          1171.1999999999998,
          1173.75,
          1176.0099999999998,
          1178.0299999999997,
          1179.83,
          1277.9699999999998,
          1374.54,
          1468.98,
          1560.6999999999998,
          1649.1599999999999,
          1733.79,
          1814.02,
          1889.29,
          1959.0299999999997,
          2022.6799999999998,
          2079.68,
          2129.45,
          2171.45,
          2205.09,
          2229.82,
          2245.07,
          2250.28,
          2249.77,
          2248.25,
          2245.72,
          2242.19,
          2237.67,
          2232.17,
          2225.7,
          2218.25,
          2209.84,
          2200.48,
          2190.17,
          2178.93,
          2166.75,
          2153.65,
          2139.63,
          2124.7,
          2108.87,
          2103.07,
          2097.3,
          2091.54,
          2085.77,
          2079.97,
          2074.12,
          2068.21,
          2062.23,
          2056.14,
          2049.95,
          2043.62,
          2037.1399999999999,
          2030.5,
          2023.6799999999998,
          2016.65,
          2009.4099999999999,
          2001.9299999999998,
          1997.87,
          1993.7599999999998,
          1989.5899999999997,
          1985.35,
          1981.0299999999997,
          1976.63,
          1972.1399999999999,
          1967.5699999999997,
          1962.8899999999999,
          1958.12,
          1953.23,
          1948.23,
          1943.12,
          1937.87,
          1932.5,
          1926.9899999999998,
          1921.3399999999997,
          1926.0499999999997,
          1930.5099999999998,
          1934.7199999999998,
          1938.67,
          1942.3599999999997,
          1945.7799999999997,
          1948.9299999999998,
          1951.81,
          1954.4,
          1956.71,
          1958.73,
          1960.4499999999998,
          1961.8599999999997,
          1962.9699999999998,
          1963.77,
          1964.2599999999998,
          1964.42,
          1964.0299999999997,
          1962.8899999999999,
          1961.0299999999997,
          1958.4899999999998,
          1955.2999999999997,
          1951.5099999999998,
          1947.1399999999999,
          1942.23,
          1936.8199999999997,
          1930.94,
          1924.6399999999999,
          1917.94,
          1910.88,
          1903.5,
          1895.83,
          1887.9099999999999,
          1879.7799999999997,
          1911.71,
          1943.83,
          1976.15,
          2008.67,
          2041.4,
          2074.36,
          2107.55,
          2140.97,
          2174.65,
          2208.58,
          2242.78,
          2277.25,
          2312.01,
          2347.05,
          2382.4,
          2418.06,
          2454.03
         ]
        },
        {
         "hovertemplate": "label=Ce7Ir3<br>x=%{x}<br>t=%{y}<extra></extra>",
         "legendgroup": "Ce7Ir3",
         "line": {
          "color": "rgb(246, 207, 113)",
          "dash": "solid",
          "width": 4
         },
         "marker": {
          "symbol": "circle"
         },
         "mode": "lines",
         "name": "Ce7Ir3",
         "orientation": "v",
         "showlegend": false,
         "type": "scatter",
         "x": [
          30,
          30,
          30,
          30,
          30,
          30,
          30,
          30,
          30,
          30,
          30,
          30
         ],
         "xaxis": "x",
         "y": [
          282.4598405354202,
          311.10581371156536,
          429.64342912804545,
          533.9196601594191,
          620.1767450945609,
          593.6388426634395,
          564.8440623175413,
          500.98900150926863,
          466.1837912721455,
          391.51430662188545,
          351.9490624367479,
          -273.15
         ],
         "yaxis": "y"
        },
        {
         "hovertemplate": "label=Ce5Ir4<br>x=%{x}<br>t=%{y}<extra></extra>",
         "legendgroup": "Ce5Ir4",
         "line": {
          "color": "rgb(248, 156, 116)",
          "dash": "solid",
          "width": 4
         },
         "marker": {
          "symbol": "circle"
         },
         "mode": "lines",
         "name": "Ce5Ir4",
         "orientation": "v",
         "showlegend": false,
         "type": "scatter",
         "x": [
          44,
          44,
          44,
          44,
          44,
          44,
          44,
          44,
          44,
          44,
          44,
          44,
          44,
          44,
          44,
          44,
          44,
          44,
          44,
          44,
          44,
          44,
          44,
          44,
          44
         ],
         "xaxis": "x",
         "y": [
          1306.3140192523301,
          1283.3301379799427,
          1128.917816566031,
          620.2016214789917,
          768.2685732837473,
          1026.0582999692156,
          904.7679844688577,
          620.1767450945609,
          1303.1805344277936,
          1294.6582322206227,
          1269.225675591661,
          1252.3818413400977,
          1210.6630715914048,
          1232.8434078987589,
          1185.9015385349421,
          1158.6275460431384,
          1096.8569424528087,
          1062.5372009403436,
          987.5270566919377,
          947.0570118430793,
          860.7855728418839,
          815.2406087046796,
          720.0089847993333,
          670.6047684860871,
          -273.15
         ],
         "yaxis": "y"
        },
        {
         "hovertemplate": "label=CeIr2<br>x=%{x}<br>t=%{y}<extra></extra>",
         "legendgroup": "CeIr2",
         "line": {
          "color": "rgb(220, 176, 242)",
          "dash": "solid",
          "width": 4
         },
         "marker": {
          "symbol": "circle"
         },
         "mode": "lines",
         "name": "CeIr2",
         "orientation": "v",
         "showlegend": false,
         "type": "scatter",
         "x": [
          67,
          67,
          67,
          67,
          67,
          67,
          67,
          67,
          67,
          67,
          67,
          67,
          67,
          67,
          67,
          67,
          67,
          67,
          67,
          67,
          67,
          67,
          67,
          67,
          67,
          67,
          67,
          67,
          67,
          67,
          67,
          67,
          67,
          67,
          67,
          67,
          67,
          67
         ],
         "xaxis": "x",
         "y": [
          2026.444229811002,
          2057.9646868517843,
          1306.3140192523301,
          1576.9658290399589,
          1920.3782586050065,
          2134.0902667965283,
          2200.766602264242,
          1686.5306679796386,
          1632.786053518642,
          1878.5841764575875,
          1834.2111571763312,
          1738.0867213130814,
          1787.347173967476,
          2112.8915065815913,
          2088.048798899451,
          2029.5064792200515,
          2060.237509303792,
          1995.9108119192424,
          1959.5120421413271,
          2169.014583815859,
          2153.1376836193294,
          2200.7666022642416,
          2197.593568544005,
          2181.7175586571666,
          2191.2442039713783,
          2134.722839357785,
          2153.505799086951,
          2181.805809217143,
          2169.208892561349,
          2191.2750704927457,
          2197.599654834803,
          2111.87629919853,
          2086.4998579246044,
          1519.188543815454,
          1459.5779800517153,
          1335.375781882094,
          1398.262738945316,
          -273.15
         ],
         "yaxis": "y"
        },
        {
         "hovertemplate": "label=CeIr3<br>x=%{x}<br>t=%{y}<extra></extra>",
         "legendgroup": "CeIr3",
         "line": {
          "color": "rgb(135, 197, 95)",
          "dash": "solid",
          "width": 4
         },
         "marker": {
          "symbol": "circle"
         },
         "mode": "lines",
         "name": "CeIr3",
         "orientation": "v",
         "showlegend": false,
         "type": "scatter",
         "x": [
          75,
          75,
          75,
          75,
          75,
          75,
          75,
          75,
          75,
          75,
          75
         ],
         "xaxis": "x",
         "y": [
          2026.444229811002,
          1861.5187546711827,
          2026.408429137794,
          2016.4120020153173,
          1884.636439747656,
          1915.2966484478416,
          1966.077190595252,
          1942.4303398054053,
          1986.2709012834616,
          2003.0405981709177,
          -273.15
         ],
         "yaxis": "y"
        },
        {
         "hovertemplate": "x=%{x}<br>y=%{y}<extra></extra>",
         "legendgroup": "",
         "line": {
          "color": "Silver",
          "dash": "solid",
          "width": 4
         },
         "marker": {
          "symbol": "circle"
         },
         "mode": "lines",
         "name": "",
         "orientation": "v",
         "showlegend": false,
         "type": "scatter",
         "x": [
          75,
          85,
          100
         ],
         "xaxis": "x",
         "y": [
          1861.5187546711827,
          1861.5187546711827,
          1861.5187546711827
         ],
         "yaxis": "y"
        },
        {
         "hovertemplate": "x=%{x}<br>y=%{y}<extra></extra>",
         "legendgroup": "",
         "line": {
          "color": "Silver",
          "dash": "solid",
          "width": 4
         },
         "marker": {
          "symbol": "circle"
         },
         "mode": "lines",
         "name": "",
         "orientation": "v",
         "showlegend": false,
         "type": "scatter",
         "x": [
          0,
          11,
          30
         ],
         "xaxis": "x",
         "y": [
          282.4598405354202,
          282.4598405354202,
          282.4598405354202
         ],
         "yaxis": "y"
        },
        {
         "hovertemplate": "x=%{x}<br>y=%{y}<extra></extra>",
         "legendgroup": "",
         "line": {
          "color": "Silver",
          "dash": "solid",
          "width": 4
         },
         "marker": {
          "symbol": "circle"
         },
         "mode": "lines",
         "name": "",
         "orientation": "v",
         "showlegend": false,
         "type": "scatter",
         "x": [
          67,
          75,
          77
         ],
         "xaxis": "x",
         "y": [
          2026.444229811002,
          2026.444229811002,
          2026.444229811002
         ],
         "yaxis": "y"
        },
        {
         "hovertemplate": "x=%{x}<br>y=%{y}<extra></extra>",
         "legendgroup": "",
         "line": {
          "color": "Silver",
          "dash": "solid",
          "width": 4
         },
         "marker": {
          "symbol": "circle"
         },
         "mode": "lines",
         "name": "",
         "orientation": "v",
         "showlegend": false,
         "type": "scatter",
         "x": [
          42,
          44,
          67
         ],
         "xaxis": "x",
         "y": [
          1306.3140192523301,
          1306.3140192523301,
          1306.3140192523301
         ],
         "yaxis": "y"
        },
        {
         "hovertemplate": "x=%{x}<br>y=%{y}<extra></extra>",
         "legendgroup": "",
         "line": {
          "color": "Silver",
          "dash": "solid",
          "width": 4
         },
         "marker": {
          "symbol": "circle"
         },
         "mode": "lines",
         "name": "",
         "orientation": "v",
         "showlegend": false,
         "type": "scatter",
         "x": [
          20,
          30,
          44
         ],
         "xaxis": "x",
         "y": [
          620.1767450945609,
          620.1767450945609,
          620.1767450945609
         ],
         "yaxis": "y"
        },
        {
         "hovertemplate": "label=L<br>x=%{x}<br>t=%{y}<extra></extra>",
         "legendgroup": "L",
         "line": {
          "color": "#117733",
          "dash": "solid",
          "width": 4
         },
         "marker": {
          "symbol": "circle"
         },
         "mode": "lines",
         "name": "L",
         "orientation": "v",
         "showlegend": false,
         "type": "scatter",
         "x": [
          0,
          0,
          1,
          2,
          3,
          4,
          5,
          6,
          7.000000000000001,
          8,
          9,
          10,
          11,
          12,
          13,
          14.000000000000002,
          15,
          16,
          17,
          18,
          19,
          20,
          21,
          22,
          23,
          24,
          25,
          26,
          27,
          28.000000000000004,
          28.999999999999996,
          30,
          31,
          32,
          33,
          34,
          35,
          36,
          37,
          38,
          39,
          40,
          41,
          42,
          43,
          44,
          45,
          46,
          47,
          48,
          49,
          50,
          51,
          52,
          53,
          54,
          55.00000000000001,
          56.00000000000001,
          57.00000000000001,
          57.99999999999999,
          59,
          60,
          61,
          62,
          63,
          64,
          65,
          66,
          67,
          68,
          69,
          70,
          71,
          72,
          73,
          74,
          75,
          76,
          77,
          78,
          79,
          80,
          81,
          82,
          83,
          84,
          85,
          86,
          87,
          88,
          89,
          90,
          91,
          92,
          93,
          94,
          95,
          96,
          97,
          98,
          99,
          100,
          100
         ],
         "xaxis": "x",
         "y": [
          798.1750000000001,
          798.1750000000001,
          769.2924272574766,
          738.5912825339469,
          701.7306430057629,
          658.9481855290967,
          610.7072846399365,
          557.5203199128653,
          499.9067700394239,
          438.37532878999525,
          373.4136339033972,
          305.4816893227784,
          282.4598405354202,
          311.10581371156536,
          351.9490624367479,
          391.51430662188545,
          429.64342912804545,
          466.1837912721455,
          500.98900150926863,
          533.9196601594191,
          564.8440623175413,
          593.6388426634395,
          620.2016214789917,
          670.6047684860871,
          720.0089847993333,
          768.2685732837473,
          815.2406087046796,
          860.7855728418839,
          904.7679844688577,
          947.0570118430793,
          987.5270566919377,
          1026.0582999692156,
          1062.5372009403436,
          1096.8569424528087,
          1128.917816566031,
          1158.6275460431384,
          1185.9015385349421,
          1210.6630715914048,
          1232.8434078987589,
          1252.3818413400977,
          1269.225675591661,
          1283.3301379799427,
          1294.6582322206227,
          1303.1805344277936,
          1335.375781882094,
          1398.262738945316,
          1459.5779800517153,
          1519.188543815454,
          1576.9658290399589,
          1632.786053518642,
          1686.5306679796386,
          1738.0867213130814,
          1787.347173967476,
          1834.2111571763312,
          1878.5841764575875,
          1920.3782586050065,
          1959.5120421413271,
          1995.9108119192424,
          2029.5064792200515,
          2060.237509303792,
          2088.048798899451,
          2112.8915065815913,
          2134.722839357785,
          2153.505799086951,
          2169.208892561349,
          2181.805809217143,
          2191.2750704927457,
          2197.599654834803,
          2200.7666022642416,
          2197.593568544005,
          2191.2442039713783,
          2181.7175586571666,
          2169.014583815859,
          2153.1376836193294,
          2134.0902667965283,
          2111.87629919853,
          2086.4998579246044,
          2057.9646868517843,
          2026.408429137794,
          2016.4120020153173,
          2003.0405981709177,
          1986.2709012834616,
          1966.077190595252,
          1942.4303398054053,
          1915.2966484478416,
          1884.636439747656,
          1861.5187546711827,
          1882.4648796380843,
          1943.651629216501,
          2001.7982845358297,
          2056.8520727648843,
          2108.765457522522,
          2157.4957846493935,
          2203.004970510209,
          2245.2593070449984,
          2284.229546336625,
          2319.891663023918,
          2352.229407171849,
          2381.242351759184,
          2406.9754054699347,
          2429.6778781220723,
          2454.0300000000007,
          2454.0300000000007
         ],
         "yaxis": "y"
        },
        {
         "line": {
          "color": "#B82E2E",
          "dash": "dash"
         },
         "mode": "lines",
         "name": "Digitized Liquidus",
         "showlegend": true,
         "type": "scatter",
         "x": [
          null
         ],
         "y": [
          null
         ]
        },
        {
         "marker": {
          "color": "#117733"
         },
         "mode": "lines",
         "name": "Predicted Liquidus",
         "showlegend": true,
         "type": "scatter",
         "x": [
          null
         ],
         "y": [
          null
         ]
        },
        {
         "marker": {
          "color": "#9D3CFF",
          "size": 20,
          "symbol": "star"
         },
         "mode": "markers",
         "showlegend": false,
         "text": "known point #2",
         "type": "scatter",
         "x": [
          32
         ],
         "y": [
          1100
         ]
        }
       ],
       "layout": {
        "annotations": [
         {
          "borderpad": 5,
          "font": {
           "color": "black",
           "size": 18
          },
          "showarrow": false,
          "text": "Ce7Ir3",
          "textangle": -90,
          "x": 27.5,
          "y": 420.17674509456094,
          "yanchor": "bottom"
         },
         {
          "borderpad": 5,
          "font": {
           "color": "black",
           "size": 18
          },
          "showarrow": false,
          "text": "Ce5Ir4",
          "textangle": -90,
          "x": 41.5,
          "y": 420.17674509456094,
          "yanchor": "bottom"
         },
         {
          "borderpad": 5,
          "font": {
           "color": "black",
           "size": 18
          },
          "showarrow": false,
          "text": "CeIr2",
          "textangle": -90,
          "x": 64.5,
          "y": 420.17674509456094,
          "yanchor": "bottom"
         },
         {
          "borderpad": 5,
          "font": {
           "color": "black",
           "size": 18
          },
          "showarrow": false,
          "text": "CeIr3",
          "textangle": -90,
          "x": 72.5,
          "y": 420.17674509456094,
          "yanchor": "bottom"
         },
         {
          "font": {
           "color": "black",
           "size": 18
          },
          "showarrow": false,
          "text": "L",
          "x": 50,
          "y": 2640
         }
        ],
        "font": {
         "size": 22
        },
        "height": 700,
        "legend": {
         "font": {
          "size": 18
         },
         "x": 0.01,
         "xanchor": "left",
         "y": 0.99,
         "yanchor": "top"
        },
        "plot_bgcolor": "white",
        "showlegend": true,
        "template": {
         "data": {
          "bar": [
           {
            "error_x": {
             "color": "#2a3f5f"
            },
            "error_y": {
             "color": "#2a3f5f"
            },
            "marker": {
             "line": {
              "color": "#E5ECF6",
              "width": 0.5
             },
             "pattern": {
              "fillmode": "overlay",
              "size": 10,
              "solidity": 0.2
             }
            },
            "type": "bar"
           }
          ],
          "barpolar": [
           {
            "marker": {
             "line": {
              "color": "#E5ECF6",
              "width": 0.5
             },
             "pattern": {
              "fillmode": "overlay",
              "size": 10,
              "solidity": 0.2
             }
            },
            "type": "barpolar"
           }
          ],
          "carpet": [
           {
            "aaxis": {
             "endlinecolor": "#2a3f5f",
             "gridcolor": "white",
             "linecolor": "white",
             "minorgridcolor": "white",
             "startlinecolor": "#2a3f5f"
            },
            "baxis": {
             "endlinecolor": "#2a3f5f",
             "gridcolor": "white",
             "linecolor": "white",
             "minorgridcolor": "white",
             "startlinecolor": "#2a3f5f"
            },
            "type": "carpet"
           }
          ],
          "choropleth": [
           {
            "colorbar": {
             "outlinewidth": 0,
             "ticks": ""
            },
            "type": "choropleth"
           }
          ],
          "contour": [
           {
            "colorbar": {
             "outlinewidth": 0,
             "ticks": ""
            },
            "colorscale": [
             [
              0,
              "#0d0887"
             ],
             [
              0.1111111111111111,
              "#46039f"
             ],
             [
              0.2222222222222222,
              "#7201a8"
             ],
             [
              0.3333333333333333,
              "#9c179e"
             ],
             [
              0.4444444444444444,
              "#bd3786"
             ],
             [
              0.5555555555555556,
              "#d8576b"
             ],
             [
              0.6666666666666666,
              "#ed7953"
             ],
             [
              0.7777777777777778,
              "#fb9f3a"
             ],
             [
              0.8888888888888888,
              "#fdca26"
             ],
             [
              1,
              "#f0f921"
             ]
            ],
            "type": "contour"
           }
          ],
          "contourcarpet": [
           {
            "colorbar": {
             "outlinewidth": 0,
             "ticks": ""
            },
            "type": "contourcarpet"
           }
          ],
          "heatmap": [
           {
            "colorbar": {
             "outlinewidth": 0,
             "ticks": ""
            },
            "colorscale": [
             [
              0,
              "#0d0887"
             ],
             [
              0.1111111111111111,
              "#46039f"
             ],
             [
              0.2222222222222222,
              "#7201a8"
             ],
             [
              0.3333333333333333,
              "#9c179e"
             ],
             [
              0.4444444444444444,
              "#bd3786"
             ],
             [
              0.5555555555555556,
              "#d8576b"
             ],
             [
              0.6666666666666666,
              "#ed7953"
             ],
             [
              0.7777777777777778,
              "#fb9f3a"
             ],
             [
              0.8888888888888888,
              "#fdca26"
             ],
             [
              1,
              "#f0f921"
             ]
            ],
            "type": "heatmap"
           }
          ],
          "heatmapgl": [
           {
            "colorbar": {
             "outlinewidth": 0,
             "ticks": ""
            },
            "colorscale": [
             [
              0,
              "#0d0887"
             ],
             [
              0.1111111111111111,
              "#46039f"
             ],
             [
              0.2222222222222222,
              "#7201a8"
             ],
             [
              0.3333333333333333,
              "#9c179e"
             ],
             [
              0.4444444444444444,
              "#bd3786"
             ],
             [
              0.5555555555555556,
              "#d8576b"
             ],
             [
              0.6666666666666666,
              "#ed7953"
             ],
             [
              0.7777777777777778,
              "#fb9f3a"
             ],
             [
              0.8888888888888888,
              "#fdca26"
             ],
             [
              1,
              "#f0f921"
             ]
            ],
            "type": "heatmapgl"
           }
          ],
          "histogram": [
           {
            "marker": {
             "pattern": {
              "fillmode": "overlay",
              "size": 10,
              "solidity": 0.2
             }
            },
            "type": "histogram"
           }
          ],
          "histogram2d": [
           {
            "colorbar": {
             "outlinewidth": 0,
             "ticks": ""
            },
            "colorscale": [
             [
              0,
              "#0d0887"
             ],
             [
              0.1111111111111111,
              "#46039f"
             ],
             [
              0.2222222222222222,
              "#7201a8"
             ],
             [
              0.3333333333333333,
              "#9c179e"
             ],
             [
              0.4444444444444444,
              "#bd3786"
             ],
             [
              0.5555555555555556,
              "#d8576b"
             ],
             [
              0.6666666666666666,
              "#ed7953"
             ],
             [
              0.7777777777777778,
              "#fb9f3a"
             ],
             [
              0.8888888888888888,
              "#fdca26"
             ],
             [
              1,
              "#f0f921"
             ]
            ],
            "type": "histogram2d"
           }
          ],
          "histogram2dcontour": [
           {
            "colorbar": {
             "outlinewidth": 0,
             "ticks": ""
            },
            "colorscale": [
             [
              0,
              "#0d0887"
             ],
             [
              0.1111111111111111,
              "#46039f"
             ],
             [
              0.2222222222222222,
              "#7201a8"
             ],
             [
              0.3333333333333333,
              "#9c179e"
             ],
             [
              0.4444444444444444,
              "#bd3786"
             ],
             [
              0.5555555555555556,
              "#d8576b"
             ],
             [
              0.6666666666666666,
              "#ed7953"
             ],
             [
              0.7777777777777778,
              "#fb9f3a"
             ],
             [
              0.8888888888888888,
              "#fdca26"
             ],
             [
              1,
              "#f0f921"
             ]
            ],
            "type": "histogram2dcontour"
           }
          ],
          "mesh3d": [
           {
            "colorbar": {
             "outlinewidth": 0,
             "ticks": ""
            },
            "type": "mesh3d"
           }
          ],
          "parcoords": [
           {
            "line": {
             "colorbar": {
              "outlinewidth": 0,
              "ticks": ""
             }
            },
            "type": "parcoords"
           }
          ],
          "pie": [
           {
            "automargin": true,
            "type": "pie"
           }
          ],
          "scatter": [
           {
            "fillpattern": {
             "fillmode": "overlay",
             "size": 10,
             "solidity": 0.2
            },
            "type": "scatter"
           }
          ],
          "scatter3d": [
           {
            "line": {
             "colorbar": {
              "outlinewidth": 0,
              "ticks": ""
             }
            },
            "marker": {
             "colorbar": {
              "outlinewidth": 0,
              "ticks": ""
             }
            },
            "type": "scatter3d"
           }
          ],
          "scattercarpet": [
           {
            "marker": {
             "colorbar": {
              "outlinewidth": 0,
              "ticks": ""
             }
            },
            "type": "scattercarpet"
           }
          ],
          "scattergeo": [
           {
            "marker": {
             "colorbar": {
              "outlinewidth": 0,
              "ticks": ""
             }
            },
            "type": "scattergeo"
           }
          ],
          "scattergl": [
           {
            "marker": {
             "colorbar": {
              "outlinewidth": 0,
              "ticks": ""
             }
            },
            "type": "scattergl"
           }
          ],
          "scattermapbox": [
           {
            "marker": {
             "colorbar": {
              "outlinewidth": 0,
              "ticks": ""
             }
            },
            "type": "scattermapbox"
           }
          ],
          "scatterpolar": [
           {
            "marker": {
             "colorbar": {
              "outlinewidth": 0,
              "ticks": ""
             }
            },
            "type": "scatterpolar"
           }
          ],
          "scatterpolargl": [
           {
            "marker": {
             "colorbar": {
              "outlinewidth": 0,
              "ticks": ""
             }
            },
            "type": "scatterpolargl"
           }
          ],
          "scatterternary": [
           {
            "marker": {
             "colorbar": {
              "outlinewidth": 0,
              "ticks": ""
             }
            },
            "type": "scatterternary"
           }
          ],
          "surface": [
           {
            "colorbar": {
             "outlinewidth": 0,
             "ticks": ""
            },
            "colorscale": [
             [
              0,
              "#0d0887"
             ],
             [
              0.1111111111111111,
              "#46039f"
             ],
             [
              0.2222222222222222,
              "#7201a8"
             ],
             [
              0.3333333333333333,
              "#9c179e"
             ],
             [
              0.4444444444444444,
              "#bd3786"
             ],
             [
              0.5555555555555556,
              "#d8576b"
             ],
             [
              0.6666666666666666,
              "#ed7953"
             ],
             [
              0.7777777777777778,
              "#fb9f3a"
             ],
             [
              0.8888888888888888,
              "#fdca26"
             ],
             [
              1,
              "#f0f921"
             ]
            ],
            "type": "surface"
           }
          ],
          "table": [
           {
            "cells": {
             "fill": {
              "color": "#EBF0F8"
             },
             "line": {
              "color": "white"
             }
            },
            "header": {
             "fill": {
              "color": "#C8D4E3"
             },
             "line": {
              "color": "white"
             }
            },
            "type": "table"
           }
          ]
         },
         "layout": {
          "annotationdefaults": {
           "arrowcolor": "#2a3f5f",
           "arrowhead": 0,
           "arrowwidth": 1
          },
          "autotypenumbers": "strict",
          "coloraxis": {
           "colorbar": {
            "outlinewidth": 0,
            "ticks": ""
           }
          },
          "colorscale": {
           "diverging": [
            [
             0,
             "#8e0152"
            ],
            [
             0.1,
             "#c51b7d"
            ],
            [
             0.2,
             "#de77ae"
            ],
            [
             0.3,
             "#f1b6da"
            ],
            [
             0.4,
             "#fde0ef"
            ],
            [
             0.5,
             "#f7f7f7"
            ],
            [
             0.6,
             "#e6f5d0"
            ],
            [
             0.7,
             "#b8e186"
            ],
            [
             0.8,
             "#7fbc41"
            ],
            [
             0.9,
             "#4d9221"
            ],
            [
             1,
             "#276419"
            ]
           ],
           "sequential": [
            [
             0,
             "#0d0887"
            ],
            [
             0.1111111111111111,
             "#46039f"
            ],
            [
             0.2222222222222222,
             "#7201a8"
            ],
            [
             0.3333333333333333,
             "#9c179e"
            ],
            [
             0.4444444444444444,
             "#bd3786"
            ],
            [
             0.5555555555555556,
             "#d8576b"
            ],
            [
             0.6666666666666666,
             "#ed7953"
            ],
            [
             0.7777777777777778,
             "#fb9f3a"
            ],
            [
             0.8888888888888888,
             "#fdca26"
            ],
            [
             1,
             "#f0f921"
            ]
           ],
           "sequentialminus": [
            [
             0,
             "#0d0887"
            ],
            [
             0.1111111111111111,
             "#46039f"
            ],
            [
             0.2222222222222222,
             "#7201a8"
            ],
            [
             0.3333333333333333,
             "#9c179e"
            ],
            [
             0.4444444444444444,
             "#bd3786"
            ],
            [
             0.5555555555555556,
             "#d8576b"
            ],
            [
             0.6666666666666666,
             "#ed7953"
            ],
            [
             0.7777777777777778,
             "#fb9f3a"
            ],
            [
             0.8888888888888888,
             "#fdca26"
            ],
            [
             1,
             "#f0f921"
            ]
           ]
          },
          "colorway": [
           "#636efa",
           "#EF553B",
           "#00cc96",
           "#ab63fa",
           "#FFA15A",
           "#19d3f3",
           "#FF6692",
           "#B6E880",
           "#FF97FF",
           "#FECB52"
          ],
          "font": {
           "color": "#2a3f5f"
          },
          "geo": {
           "bgcolor": "white",
           "lakecolor": "white",
           "landcolor": "#E5ECF6",
           "showlakes": true,
           "showland": true,
           "subunitcolor": "white"
          },
          "hoverlabel": {
           "align": "left"
          },
          "hovermode": "closest",
          "mapbox": {
           "style": "light"
          },
          "paper_bgcolor": "white",
          "plot_bgcolor": "#E5ECF6",
          "polar": {
           "angularaxis": {
            "gridcolor": "white",
            "linecolor": "white",
            "ticks": ""
           },
           "bgcolor": "#E5ECF6",
           "radialaxis": {
            "gridcolor": "white",
            "linecolor": "white",
            "ticks": ""
           }
          },
          "scene": {
           "xaxis": {
            "backgroundcolor": "#E5ECF6",
            "gridcolor": "white",
            "gridwidth": 2,
            "linecolor": "white",
            "showbackground": true,
            "ticks": "",
            "zerolinecolor": "white"
           },
           "yaxis": {
            "backgroundcolor": "#E5ECF6",
            "gridcolor": "white",
            "gridwidth": 2,
            "linecolor": "white",
            "showbackground": true,
            "ticks": "",
            "zerolinecolor": "white"
           },
           "zaxis": {
            "backgroundcolor": "#E5ECF6",
            "gridcolor": "white",
            "gridwidth": 2,
            "linecolor": "white",
            "showbackground": true,
            "ticks": "",
            "zerolinecolor": "white"
           }
          },
          "shapedefaults": {
           "line": {
            "color": "#2a3f5f"
           }
          },
          "ternary": {
           "aaxis": {
            "gridcolor": "white",
            "linecolor": "white",
            "ticks": ""
           },
           "baxis": {
            "gridcolor": "white",
            "linecolor": "white",
            "ticks": ""
           },
           "bgcolor": "#E5ECF6",
           "caxis": {
            "gridcolor": "white",
            "linecolor": "white",
            "ticks": ""
           }
          },
          "title": {
           "x": 0.05
          },
          "xaxis": {
           "automargin": true,
           "gridcolor": "white",
           "linecolor": "white",
           "ticks": "",
           "title": {
            "standoff": 15
           },
           "zerolinecolor": "white",
           "zerolinewidth": 2
          },
          "yaxis": {
           "automargin": true,
           "gridcolor": "white",
           "linecolor": "white",
           "ticks": "",
           "title": {
            "standoff": 15
           },
           "zerolinecolor": "white",
           "zerolinewidth": 2
          }
         }
        },
        "title": {
         "text": "Ce-Ir Predicted Binary Phase Diagram"
        },
        "width": 960,
        "xaxis": {
         "linecolor": "black",
         "linewidth": 2,
         "mirror": true,
         "range": [
          0,
          100
         ],
         "showline": true,
         "tickcolor": "black",
         "tickformat": ".0f",
         "ticks": "outside",
         "title": {
          "text": "Ir (at. %)"
         }
        },
        "yaxis": {
         "linecolor": "black",
         "linewidth": 2,
         "mirror": true,
         "range": [
          420.17674509456094,
          2800
         ],
         "showline": true,
         "tickcolor": "black",
         "ticks": "outside",
         "ticksuffix": " ",
         "title": {
          "text": "T (°C)"
         }
        }
       }
      }
     },
     "metadata": {},
     "output_type": "display_data"
    }
   ],
   "source": [
    "known_points = [[0.08, 661], [0.32, 1100]]\n",
    "\n",
    "ce_ir_system.update_params(parameter_guesses)\n",
    "adjust_L0a_from_known_point(ce_ir_system, known_points[0])\n",
    "\n",
    "fig = blp.get_plot('pred+liq')\n",
    "fig.add_trace(go.Scatter(\n",
    "    x=[known_points[0][0]*100], y=[known_points[0][1]],\n",
    "    mode='markers',\n",
    "    marker=dict(color='#9D3CFF', size=20, symbol='star'),\n",
    "    text='known point #1',\n",
    "    showlegend=False,\n",
    "))\n",
    "fig.show()\n",
    "\n",
    "ce_ir_system.update_params(parameter_guesses)\n",
    "adjust_L0a_from_known_point(ce_ir_system, known_points[1])\n",
    "\n",
    "fig = blp.get_plot('pred+liq')\n",
    "fig.add_trace(go.Scatter(\n",
    "    x=[known_points[1][0]*100], y=[known_points[1][1]],\n",
    "    mode='markers',\n",
    "    marker=dict(color='#9D3CFF', size=20, symbol='star'),\n",
    "    text='known point #2',\n",
    "    showlegend=False\n",
    "))\n",
    "fig.show()"
   ]
  },
  {
   "cell_type": "code",
   "execution_count": 27,
   "metadata": {},
   "outputs": [],
   "source": [
    "def adjust_liquidus_from_known_points(bl: BinaryLiquid, known_points: list):\n",
    "    # Get present MAE and parameters\n",
    "    original_liq = [p for p in bl.digitized_liq]\n",
    "    mae, _ = bl.calculate_deviation_metrics()\n",
    "    print(f\"Current complete liquidus MAE: {int(mae)}K\")\n",
    "    print(f\"Current parameters: {bl._params}\")\n",
    "\n",
    "    bl.digitized_liq = [[p[0], p[1] + 273.15] for p in known_points]\n",
    "    mae, _ = bl.calculate_deviation_metrics()\n",
    "    print(f\"Known points (Kelvin): {bl.digitized_liq}\")\n",
    "    print(f\"Liquidus MAE from known points: {int(mae)}K\")\n",
    "\n",
    "    a, c = sp.symbols('a c')\n",
    "    bl.guess_symbols = (a, c)\n",
    "    l0_a_itl = bl.get_L0_a()\n",
    "    l1_a_itl = bl.get_L1_a()\n",
    "\n",
    "    initial_guesses = [[l0_a_itl * 0.9, l1_a_itl * 0.9],\n",
    "                       [l0_a_itl * 1.1, l1_a_itl * 0.9],\n",
    "                       [l0_a_itl * 0.9, l1_a_itl * 1.1]]\n",
    "    mae, _, _ = bl.nelder_mead(tol=1, initial_guesses=initial_guesses, verbose=False)\n",
    "    print(f\"Liquidus MAE from known points: {int(mae)}K\")\n",
    "    bl.digitized_liq = original_liq\n",
    "    mae, _ = bl.calculate_deviation_metrics()\n",
    "    print(f\"Adjusted complete liquidus MAE: {int(mae)}K\")\n",
    "    print(f\"Adjusted parameters: {bl._params}\")"
   ]
  },
  {
   "cell_type": "code",
   "execution_count": 28,
   "metadata": {},
   "outputs": [
    {
     "name": "stdout",
     "output_type": "stream",
     "text": [
      "Current complete liquidus MAE: 567K\n",
      "Current parameters: [-175000, -20, 23000, -12]\n",
      "Known points (Kelvin): [[0.08, 934.15], [0.32, 1373.15]]\n",
      "Liquidus MAE from known points: 505K\n",
      "--- Beginning Nelder-Mead optimization ---\n",
      "--- Nelder-Mead converged in 29.90217900276184 seconds ---\n",
      "Mean temperature deviation per point between liquidus curves = 6.737362201842838 \n",
      "\n",
      "Liquidus MAE from known points: 6K\n",
      "Adjusted complete liquidus MAE: 215K\n",
      "Adjusted parameters: [-250768.45220453065, -20, 99848.73328456434, -12]\n"
     ]
    },
    {
     "data": {
      "application/vnd.plotly.v1+json": {
       "config": {
        "plotlyServerURL": "https://plot.ly"
       },
       "data": [
        {
         "line": {
          "color": "#B82E2E",
          "dash": "dash",
          "width": 4
         },
         "mode": "lines",
         "showlegend": false,
         "type": "scatter",
         "x": [
          0,
          0.530217,
          1.0575,
          1.58129,
          2.10103,
          2.61617,
          3.12613,
          3.63037,
          4.12832,
          4.61942,
          5.10313,
          5.57887,
          6.04609,
          6.50424,
          6.95274,
          7.391050000000001,
          7.81861,
          8.23485,
          8.72499,
          9.21988,
          9.71952,
          10.2239,
          10.733,
          11.2469,
          11.7656,
          12.2889,
          12.8171,
          13.350000000000001,
          13.887599999999999,
          14.429999999999998,
          14.977099999999998,
          15.529000000000002,
          16.0856,
          16.647,
          17.2131,
          17.5129,
          17.8201,
          18.1347,
          18.4566,
          18.7858,
          19.1221,
          19.4655,
          19.816,
          20.1734,
          20.5377,
          20.9088,
          21.2867,
          21.6712,
          22.0624,
          22.4601,
          22.8643,
          23.2749,
          23.6744,
          24.0922,
          24.5272,
          24.9788,
          25.445899999999998,
          25.927900000000005,
          26.4239,
          26.9329,
          27.454299999999996,
          27.987100000000005,
          28.5306,
          29.0838,
          29.646,
          30.216199999999997,
          30.7937,
          31.377700000000004,
          31.967199999999995,
          32.6463,
          33.3312,
          34.0218,
          34.718,
          35.4197,
          36.1267,
          36.839,
          37.5564,
          38.2788,
          39.0061,
          39.7381,
          40.4748,
          41.2161,
          41.9618,
          42.7118,
          43.4659,
          44.2242,
          45.2385,
          46.2843,
          47.3627,
          48.4753,
          49.6232,
          50.8078,
          52.0305,
          53.2925,
          54.5952,
          55.94,
          57.328100000000006,
          58.76090000000001,
          60.2396,
          61.7657,
          63.3405,
          64.9652,
          66.6413,
          67.2036,
          67.7862,
          68.3875,
          69.0062,
          69.6407,
          70.2895,
          70.9511,
          71.6241,
          72.3069,
          72.9981,
          73.6961,
          74.3995,
          75.1068,
          75.8165,
          76.5271,
          77.2371,
          77.9451,
          78.2034,
          78.4534,
          78.6955,
          78.9296,
          79.156,
          79.3748,
          79.5862,
          79.7902,
          79.9869,
          80.1767,
          80.3595,
          80.5356,
          80.705,
          80.8679,
          81.0245,
          81.1748,
          81.3191,
          81.4082,
          81.4939,
          81.5764,
          81.6559,
          81.7326,
          81.8066,
          81.8783,
          81.9476,
          82.0149,
          82.0803,
          82.144,
          82.2062,
          82.2671,
          82.3268,
          82.3855,
          82.4435,
          82.501,
          82.5453,
          82.5906,
          82.6369,
          82.6839,
          82.7315,
          82.7797,
          82.8282,
          82.8769,
          82.9256,
          82.9743,
          83.0228,
          83.071,
          83.1186,
          83.1657,
          83.2119,
          83.2573,
          83.3016,
          83.4456,
          83.6013,
          83.7675,
          83.9431,
          84.1272,
          84.3185,
          84.5161,
          84.7188,
          84.9256,
          85.1355,
          85.3473,
          85.56,
          85.7725,
          85.9838,
          86.1927,
          86.3983,
          86.5993,
          86.922,
          87.3164,
          87.7798,
          88.3095,
          88.9027,
          89.5569,
          90.2693,
          91.0372,
          91.8579,
          92.7286,
          93.6468,
          94.6097,
          95.6146,
          96.6587,
          97.7395,
          98.8541,
          100
         ],
         "y": [
          798.1749999999998,
          791.0690000000001,
          783.868,
          776.551,
          769.0980000000001,
          761.486,
          753.696,
          745.706,
          737.495,
          729.041,
          720.325,
          711.325,
          702.019,
          692.387,
          682.408,
          672.061,
          661.324,
          650.177,
          656.225,
          662.191,
          668.059,
          673.809,
          679.425,
          684.887,
          690.179,
          695.282,
          700.178,
          704.85,
          709.279,
          713.447,
          717.337,
          720.93,
          724.209,
          727.156,
          729.752,
          744.117,
          758.243,
          772.14,
          785.822,
          799.301,
          812.59,
          825.6999999999999,
          838.6439999999999,
          851.4350000000001,
          864.0850000000002,
          876.6059999999999,
          889.0110000000001,
          901.311,
          913.5200000000001,
          925.65,
          937.7129999999999,
          949.7210000000001,
          964.102,
          977.42,
          989.7500000000001,
          1001.16,
          1011.7300000000001,
          1021.5400000000001,
          1030.65,
          1039.1399999999999,
          1047.08,
          1054.54,
          1061.6099999999997,
          1068.35,
          1074.8399999999997,
          1081.15,
          1087.3599999999997,
          1093.5299999999997,
          1099.75,
          1108.5299999999997,
          1116.6599999999999,
          1124.17,
          1131.08,
          1137.42,
          1143.2199999999998,
          1148.5099999999998,
          1153.33,
          1157.69,
          1161.63,
          1165.17,
          1168.3599999999997,
          1171.1999999999998,
          1173.75,
          1176.0099999999998,
          1178.0299999999997,
          1179.83,
          1277.9699999999998,
          1374.54,
          1468.98,
          1560.6999999999998,
          1649.1599999999999,
          1733.79,
          1814.02,
          1889.29,
          1959.0299999999997,
          2022.6799999999998,
          2079.68,
          2129.45,
          2171.45,
          2205.09,
          2229.82,
          2245.07,
          2250.28,
          2249.77,
          2248.25,
          2245.72,
          2242.19,
          2237.67,
          2232.17,
          2225.7,
          2218.25,
          2209.84,
          2200.48,
          2190.17,
          2178.93,
          2166.75,
          2153.65,
          2139.63,
          2124.7,
          2108.87,
          2103.07,
          2097.3,
          2091.54,
          2085.77,
          2079.97,
          2074.12,
          2068.21,
          2062.23,
          2056.14,
          2049.95,
          2043.62,
          2037.1399999999999,
          2030.5,
          2023.6799999999998,
          2016.65,
          2009.4099999999999,
          2001.9299999999998,
          1997.87,
          1993.7599999999998,
          1989.5899999999997,
          1985.35,
          1981.0299999999997,
          1976.63,
          1972.1399999999999,
          1967.5699999999997,
          1962.8899999999999,
          1958.12,
          1953.23,
          1948.23,
          1943.12,
          1937.87,
          1932.5,
          1926.9899999999998,
          1921.3399999999997,
          1926.0499999999997,
          1930.5099999999998,
          1934.7199999999998,
          1938.67,
          1942.3599999999997,
          1945.7799999999997,
          1948.9299999999998,
          1951.81,
          1954.4,
          1956.71,
          1958.73,
          1960.4499999999998,
          1961.8599999999997,
          1962.9699999999998,
          1963.77,
          1964.2599999999998,
          1964.42,
          1964.0299999999997,
          1962.8899999999999,
          1961.0299999999997,
          1958.4899999999998,
          1955.2999999999997,
          1951.5099999999998,
          1947.1399999999999,
          1942.23,
          1936.8199999999997,
          1930.94,
          1924.6399999999999,
          1917.94,
          1910.88,
          1903.5,
          1895.83,
          1887.9099999999999,
          1879.7799999999997,
          1911.71,
          1943.83,
          1976.15,
          2008.67,
          2041.4,
          2074.36,
          2107.55,
          2140.97,
          2174.65,
          2208.58,
          2242.78,
          2277.25,
          2312.01,
          2347.05,
          2382.4,
          2418.06,
          2454.03
         ]
        },
        {
         "hovertemplate": "label=Ce7Ir3<br>x=%{x}<br>t=%{y}<extra></extra>",
         "legendgroup": "Ce7Ir3",
         "line": {
          "color": "rgb(246, 207, 113)",
          "dash": "solid",
          "width": 4
         },
         "marker": {
          "symbol": "circle"
         },
         "mode": "lines",
         "name": "Ce7Ir3",
         "orientation": "v",
         "showlegend": false,
         "type": "scatter",
         "x": [
          30,
          30,
          30,
          30,
          30,
          30,
          30,
          30,
          30,
          30,
          30,
          30,
          30,
          30,
          30,
          30,
          30,
          30,
          30,
          30
         ],
         "xaxis": "x",
         "y": [
          908.8373540239444,
          661.5426909582285,
          678.7169004773124,
          894.4730104111385,
          846.0568735578919,
          735.9099283039943,
          792.2478816811416,
          934.1296212989408,
          922.0993944713172,
          944.7998384447345,
          949.8390589231016,
          862.9552813401959,
          879.1360869234953,
          810.5906150677403,
          828.5631519071065,
          697.85792079176,
          716.9137462914341,
          754.8313892802199,
          773.6332003794149,
          -273.15
         ],
         "yaxis": "y"
        },
        {
         "hovertemplate": "label=Ce5Ir4<br>x=%{x}<br>t=%{y}<extra></extra>",
         "legendgroup": "Ce5Ir4",
         "line": {
          "color": "rgb(248, 156, 116)",
          "dash": "solid",
          "width": 4
         },
         "marker": {
          "symbol": "circle"
         },
         "mode": "lines",
         "name": "Ce5Ir4",
         "orientation": "v",
         "showlegend": false,
         "type": "scatter",
         "x": [
          44,
          44,
          44,
          44,
          44,
          44,
          44,
          44,
          44,
          44,
          44,
          44,
          44,
          44,
          44,
          44,
          44,
          44,
          44,
          44,
          44,
          44,
          44,
          44,
          44,
          44,
          44
         ],
         "xaxis": "x",
         "y": [
          1048.0952362919984,
          1272.5618250007838,
          1272.7626831588382,
          1292.5789188138983,
          1284.1527635507837,
          1214.7778836115835,
          1020.2612636922926,
          991.8578816720907,
          949.8390589231016,
          963.0285738600973,
          1194.9914975662346,
          1173.627221209234,
          1126.7250223070173,
          1150.8243832743929,
          1101.4732555802398,
          1075.2145980190485,
          1298.2057521070196,
          1300.840669308055,
          1298.1150851941256,
          1300.8406693080547,
          1249.0766200245303,
          1232.8503369907735,
          1263.328756834901,
          1275.4834273176557,
          1293.0322820607344,
          1285.4222969136035,
          -273.15
         ],
         "yaxis": "y"
        },
        {
         "hovertemplate": "label=CeIr2<br>x=%{x}<br>t=%{y}<extra></extra>",
         "legendgroup": "CeIr2",
         "line": {
          "color": "rgb(220, 176, 242)",
          "dash": "solid",
          "width": 4
         },
         "marker": {
          "symbol": "circle"
         },
         "mode": "lines",
         "name": "CeIr2",
         "orientation": "v",
         "showlegend": false,
         "type": "scatter",
         "x": [
          67,
          67,
          67,
          67,
          67,
          67,
          67,
          67,
          67,
          67,
          67,
          67,
          67,
          67,
          67,
          67,
          67,
          67,
          67,
          67,
          67,
          67,
          67,
          67,
          67,
          67,
          67,
          67,
          67,
          67,
          67,
          67
         ],
         "xaxis": "x",
         "y": [
          1563.0869428374126,
          1582.6573223020232,
          1620.8015251158672,
          1792.457973130333,
          1626.1410097105227,
          1728.748285361586,
          1791.085587361118,
          1370.2454346166237,
          1417.0758796352197,
          1505.1531328223668,
          1462.1021436265737,
          1546.0614626800802,
          1584.6638626909275,
          1759.3047704534856,
          1777.598441766654,
          1654.320396355799,
          1685.0714104914082,
          1737.6995420802396,
          1712.910665331748,
          1699.1181354705705,
          1664.9389601701823,
          1774.6548686711412,
          1753.902006695006,
          1803.7660264859578,
          1811.4103867486692,
          1815.2838038340878,
          1815.2838038340878,
          1811.3124750919292,
          1803.2762354329425,
          1321.785152820832,
          1272.5618250007838,
          -273.15
         ],
         "yaxis": "y"
        },
        {
         "hovertemplate": "label=CeIr3<br>x=%{x}<br>t=%{y}<extra></extra>",
         "legendgroup": "CeIr3",
         "line": {
          "color": "rgb(135, 197, 95)",
          "dash": "solid",
          "width": 4
         },
         "marker": {
          "symbol": "circle"
         },
         "mode": "lines",
         "name": "CeIr3",
         "orientation": "v",
         "showlegend": false,
         "type": "scatter",
         "x": [
          75,
          75,
          75,
          75,
          75,
          75,
          75,
          75
         ],
         "xaxis": "x",
         "y": [
          1563.0869428374126,
          1417.9237159251502,
          1512.6317458338585,
          1450.2816083104544,
          1484.021443390176,
          1554.8640385875765,
          1536.2120951577685,
          -273.15
         ],
         "yaxis": "y"
        },
        {
         "hovertemplate": "x=%{x}<br>y=%{y}<extra></extra>",
         "legendgroup": "",
         "line": {
          "color": "Silver",
          "dash": "solid",
          "width": 4
         },
         "marker": {
          "symbol": "circle"
         },
         "mode": "lines",
         "name": "",
         "orientation": "v",
         "showlegend": false,
         "type": "scatter",
         "x": [
          75,
          83,
          100
         ],
         "xaxis": "x",
         "y": [
          1417.9237159251502,
          1417.9237159251502,
          1417.9237159251502
         ],
         "yaxis": "y"
        },
        {
         "hovertemplate": "x=%{x}<br>y=%{y}<extra></extra>",
         "legendgroup": "",
         "line": {
          "color": "Silver",
          "dash": "solid",
          "width": 4
         },
         "marker": {
          "symbol": "circle"
         },
         "mode": "lines",
         "name": "",
         "orientation": "v",
         "showlegend": false,
         "type": "scatter",
         "x": [
          0,
          8,
          30
         ],
         "xaxis": "x",
         "y": [
          661.5426909582285,
          661.5426909582285,
          661.5426909582285
         ],
         "yaxis": "y"
        },
        {
         "hovertemplate": "x=%{x}<br>y=%{y}<extra></extra>",
         "legendgroup": "",
         "line": {
          "color": "Silver",
          "dash": "solid",
          "width": 4
         },
         "marker": {
          "symbol": "circle"
         },
         "mode": "lines",
         "name": "",
         "orientation": "v",
         "showlegend": false,
         "type": "scatter",
         "x": [
          44,
          49,
          67
         ],
         "xaxis": "x",
         "y": [
          1272.5618250007838,
          1272.5618250007838,
          1272.5618250007838
         ],
         "yaxis": "y"
        },
        {
         "hovertemplate": "x=%{x}<br>y=%{y}<extra></extra>",
         "legendgroup": "",
         "line": {
          "color": "Silver",
          "dash": "solid",
          "width": 4
         },
         "marker": {
          "symbol": "circle"
         },
         "mode": "lines",
         "name": "",
         "orientation": "v",
         "showlegend": false,
         "type": "scatter",
         "x": [
          67,
          75,
          78
         ],
         "xaxis": "x",
         "y": [
          1563.0869428374126,
          1563.0869428374126,
          1563.0869428374126
         ],
         "yaxis": "y"
        },
        {
         "hovertemplate": "x=%{x}<br>y=%{y}<extra></extra>",
         "legendgroup": "",
         "line": {
          "color": "Silver",
          "dash": "solid",
          "width": 4
         },
         "marker": {
          "symbol": "circle"
         },
         "mode": "lines",
         "name": "",
         "orientation": "v",
         "showlegend": false,
         "type": "scatter",
         "x": [
          25,
          30,
          44
         ],
         "xaxis": "x",
         "y": [
          949.8390589231016,
          949.8390589231016,
          949.8390589231016
         ],
         "yaxis": "y"
        },
        {
         "hovertemplate": "label=L<br>x=%{x}<br>t=%{y}<extra></extra>",
         "legendgroup": "L",
         "line": {
          "color": "#117733",
          "dash": "solid",
          "width": 4
         },
         "marker": {
          "symbol": "circle"
         },
         "mode": "lines",
         "name": "L",
         "orientation": "v",
         "showlegend": false,
         "type": "scatter",
         "x": [
          0,
          0,
          1,
          2,
          3,
          4,
          5,
          6,
          7.000000000000001,
          8,
          9,
          10,
          11,
          12,
          13,
          14.000000000000002,
          15,
          16,
          17,
          18,
          19,
          20,
          21,
          22,
          23,
          24,
          25,
          26,
          27,
          28.000000000000004,
          28.999999999999996,
          30,
          31,
          32,
          33,
          34,
          35,
          36,
          37,
          38,
          39,
          40,
          41,
          42,
          43,
          44,
          45,
          46,
          47,
          48,
          49,
          50,
          51,
          52,
          53,
          54,
          55.00000000000001,
          56.00000000000001,
          57.00000000000001,
          57.99999999999999,
          59,
          60,
          61,
          62,
          63,
          64,
          65,
          66,
          67,
          68,
          69,
          70,
          71,
          72,
          73,
          74,
          75,
          76,
          77,
          78,
          79,
          80,
          81,
          82,
          83,
          84,
          85,
          86,
          87,
          88,
          89,
          90,
          91,
          92,
          93,
          94,
          95,
          96,
          97,
          98,
          99,
          100,
          100
         ],
         "xaxis": "x",
         "y": [
          798.1749999999998,
          798.1749999999998,
          776.5896209161582,
          759.7751396958841,
          742.6731722152077,
          724.7922437171543,
          705.8729936180715,
          685.7249501568294,
          664.1953468437697,
          661.5426909582285,
          678.7169004773124,
          697.85792079176,
          716.9137462914341,
          735.9099283039943,
          754.8313892802199,
          773.6332003794149,
          792.2478816811416,
          810.5906150677403,
          828.5631519071065,
          846.0568735578919,
          862.9552813401959,
          879.1360869234953,
          894.4730104111385,
          908.8373540239444,
          922.0993944713172,
          934.1296212989408,
          944.7998384447345,
          963.0285738600973,
          991.8578816720907,
          1020.2612636922926,
          1048.0952362919984,
          1075.2145980190485,
          1101.4732555802398,
          1126.7250223070173,
          1150.8243832743929,
          1173.627221209234,
          1194.9914975662346,
          1214.7778836115835,
          1232.8503369907735,
          1249.0766200245303,
          1263.328756834901,
          1275.4834273176557,
          1285.4222969136035,
          1293.0322820607344,
          1298.2057521070196,
          1300.8406693080547,
          1298.1150851941256,
          1292.5789188138983,
          1284.1527635507837,
          1272.7626831588382,
          1272.5618250007838,
          1321.785152820832,
          1370.2454346166237,
          1417.0758796352197,
          1462.1021436265737,
          1505.1531328223668,
          1546.0614626800802,
          1584.6638626909275,
          1620.8015251158672,
          1654.320396355799,
          1685.0714104914082,
          1712.910665331748,
          1737.6995420802396,
          1759.3047704534856,
          1777.598441766654,
          1792.457973130333,
          1803.7660264859578,
          1811.4103867486692,
          1815.2838038340878,
          1811.3124750919292,
          1803.2762354329425,
          1791.085587361118,
          1774.6548686711412,
          1753.902006695006,
          1728.748285361586,
          1699.1181354705705,
          1664.9389601701823,
          1626.1410097105227,
          1582.6573223020232,
          1554.8640385875765,
          1536.2120951577685,
          1512.6317458338585,
          1484.021443390176,
          1450.2816083104544,
          1417.9237159251502,
          1435.297832000365,
          1533.5650788959701,
          1628.0714793871311,
          1718.6072107758168,
          1804.9685773271758,
          1886.9576316252965,
          1964.3817228832718,
          2037.0529915514167,
          2104.787846059246,
          2167.4064941730962,
          2224.732689756884,
          2276.5940909487613,
          2322.8243396447756,
          2363.270563409044,
          2397.82226809132,
          2426.569715460424,
          2454.0300000000007,
          2454.0300000000007
         ],
         "yaxis": "y"
        },
        {
         "line": {
          "color": "#B82E2E",
          "dash": "dash"
         },
         "mode": "lines",
         "name": "Digitized Liquidus",
         "showlegend": true,
         "type": "scatter",
         "x": [
          null
         ],
         "y": [
          null
         ]
        },
        {
         "marker": {
          "color": "#117733"
         },
         "mode": "lines",
         "name": "Predicted Liquidus",
         "showlegend": true,
         "type": "scatter",
         "x": [
          null
         ],
         "y": [
          null
         ]
        },
        {
         "marker": {
          "color": "#9D3CFF",
          "size": 20,
          "symbol": "star"
         },
         "mode": "markers",
         "showlegend": false,
         "text": "known point #1",
         "type": "scatter",
         "x": [
          8
         ],
         "y": [
          661
         ]
        },
        {
         "marker": {
          "color": "#9D3CFF",
          "size": 20,
          "symbol": "star"
         },
         "mode": "markers",
         "showlegend": false,
         "text": "known point #2",
         "type": "scatter",
         "x": [
          32
         ],
         "y": [
          1100
         ]
        }
       ],
       "layout": {
        "annotations": [
         {
          "borderpad": 5,
          "font": {
           "color": "black",
           "size": 18
          },
          "showarrow": false,
          "text": "Ce7Ir3",
          "textangle": -90,
          "x": 27.5,
          "y": 600,
          "yanchor": "bottom"
         },
         {
          "borderpad": 5,
          "font": {
           "color": "black",
           "size": 18
          },
          "showarrow": false,
          "text": "Ce5Ir4",
          "textangle": -90,
          "x": 41.5,
          "y": 600,
          "yanchor": "bottom"
         },
         {
          "borderpad": 5,
          "font": {
           "color": "black",
           "size": 18
          },
          "showarrow": false,
          "text": "CeIr2",
          "textangle": -90,
          "x": 64.5,
          "y": 600,
          "yanchor": "bottom"
         },
         {
          "borderpad": 5,
          "font": {
           "color": "black",
           "size": 18
          },
          "showarrow": false,
          "text": "CeIr3",
          "textangle": -90,
          "x": 72.5,
          "y": 600,
          "yanchor": "bottom"
         },
         {
          "font": {
           "color": "black",
           "size": 18
          },
          "showarrow": false,
          "text": "L",
          "x": 50,
          "y": 2640
         }
        ],
        "font": {
         "size": 22
        },
        "height": 700,
        "legend": {
         "font": {
          "size": 18
         },
         "x": 0.01,
         "xanchor": "left",
         "y": 0.99,
         "yanchor": "top"
        },
        "plot_bgcolor": "white",
        "showlegend": true,
        "template": {
         "data": {
          "bar": [
           {
            "error_x": {
             "color": "#2a3f5f"
            },
            "error_y": {
             "color": "#2a3f5f"
            },
            "marker": {
             "line": {
              "color": "#E5ECF6",
              "width": 0.5
             },
             "pattern": {
              "fillmode": "overlay",
              "size": 10,
              "solidity": 0.2
             }
            },
            "type": "bar"
           }
          ],
          "barpolar": [
           {
            "marker": {
             "line": {
              "color": "#E5ECF6",
              "width": 0.5
             },
             "pattern": {
              "fillmode": "overlay",
              "size": 10,
              "solidity": 0.2
             }
            },
            "type": "barpolar"
           }
          ],
          "carpet": [
           {
            "aaxis": {
             "endlinecolor": "#2a3f5f",
             "gridcolor": "white",
             "linecolor": "white",
             "minorgridcolor": "white",
             "startlinecolor": "#2a3f5f"
            },
            "baxis": {
             "endlinecolor": "#2a3f5f",
             "gridcolor": "white",
             "linecolor": "white",
             "minorgridcolor": "white",
             "startlinecolor": "#2a3f5f"
            },
            "type": "carpet"
           }
          ],
          "choropleth": [
           {
            "colorbar": {
             "outlinewidth": 0,
             "ticks": ""
            },
            "type": "choropleth"
           }
          ],
          "contour": [
           {
            "colorbar": {
             "outlinewidth": 0,
             "ticks": ""
            },
            "colorscale": [
             [
              0,
              "#0d0887"
             ],
             [
              0.1111111111111111,
              "#46039f"
             ],
             [
              0.2222222222222222,
              "#7201a8"
             ],
             [
              0.3333333333333333,
              "#9c179e"
             ],
             [
              0.4444444444444444,
              "#bd3786"
             ],
             [
              0.5555555555555556,
              "#d8576b"
             ],
             [
              0.6666666666666666,
              "#ed7953"
             ],
             [
              0.7777777777777778,
              "#fb9f3a"
             ],
             [
              0.8888888888888888,
              "#fdca26"
             ],
             [
              1,
              "#f0f921"
             ]
            ],
            "type": "contour"
           }
          ],
          "contourcarpet": [
           {
            "colorbar": {
             "outlinewidth": 0,
             "ticks": ""
            },
            "type": "contourcarpet"
           }
          ],
          "heatmap": [
           {
            "colorbar": {
             "outlinewidth": 0,
             "ticks": ""
            },
            "colorscale": [
             [
              0,
              "#0d0887"
             ],
             [
              0.1111111111111111,
              "#46039f"
             ],
             [
              0.2222222222222222,
              "#7201a8"
             ],
             [
              0.3333333333333333,
              "#9c179e"
             ],
             [
              0.4444444444444444,
              "#bd3786"
             ],
             [
              0.5555555555555556,
              "#d8576b"
             ],
             [
              0.6666666666666666,
              "#ed7953"
             ],
             [
              0.7777777777777778,
              "#fb9f3a"
             ],
             [
              0.8888888888888888,
              "#fdca26"
             ],
             [
              1,
              "#f0f921"
             ]
            ],
            "type": "heatmap"
           }
          ],
          "heatmapgl": [
           {
            "colorbar": {
             "outlinewidth": 0,
             "ticks": ""
            },
            "colorscale": [
             [
              0,
              "#0d0887"
             ],
             [
              0.1111111111111111,
              "#46039f"
             ],
             [
              0.2222222222222222,
              "#7201a8"
             ],
             [
              0.3333333333333333,
              "#9c179e"
             ],
             [
              0.4444444444444444,
              "#bd3786"
             ],
             [
              0.5555555555555556,
              "#d8576b"
             ],
             [
              0.6666666666666666,
              "#ed7953"
             ],
             [
              0.7777777777777778,
              "#fb9f3a"
             ],
             [
              0.8888888888888888,
              "#fdca26"
             ],
             [
              1,
              "#f0f921"
             ]
            ],
            "type": "heatmapgl"
           }
          ],
          "histogram": [
           {
            "marker": {
             "pattern": {
              "fillmode": "overlay",
              "size": 10,
              "solidity": 0.2
             }
            },
            "type": "histogram"
           }
          ],
          "histogram2d": [
           {
            "colorbar": {
             "outlinewidth": 0,
             "ticks": ""
            },
            "colorscale": [
             [
              0,
              "#0d0887"
             ],
             [
              0.1111111111111111,
              "#46039f"
             ],
             [
              0.2222222222222222,
              "#7201a8"
             ],
             [
              0.3333333333333333,
              "#9c179e"
             ],
             [
              0.4444444444444444,
              "#bd3786"
             ],
             [
              0.5555555555555556,
              "#d8576b"
             ],
             [
              0.6666666666666666,
              "#ed7953"
             ],
             [
              0.7777777777777778,
              "#fb9f3a"
             ],
             [
              0.8888888888888888,
              "#fdca26"
             ],
             [
              1,
              "#f0f921"
             ]
            ],
            "type": "histogram2d"
           }
          ],
          "histogram2dcontour": [
           {
            "colorbar": {
             "outlinewidth": 0,
             "ticks": ""
            },
            "colorscale": [
             [
              0,
              "#0d0887"
             ],
             [
              0.1111111111111111,
              "#46039f"
             ],
             [
              0.2222222222222222,
              "#7201a8"
             ],
             [
              0.3333333333333333,
              "#9c179e"
             ],
             [
              0.4444444444444444,
              "#bd3786"
             ],
             [
              0.5555555555555556,
              "#d8576b"
             ],
             [
              0.6666666666666666,
              "#ed7953"
             ],
             [
              0.7777777777777778,
              "#fb9f3a"
             ],
             [
              0.8888888888888888,
              "#fdca26"
             ],
             [
              1,
              "#f0f921"
             ]
            ],
            "type": "histogram2dcontour"
           }
          ],
          "mesh3d": [
           {
            "colorbar": {
             "outlinewidth": 0,
             "ticks": ""
            },
            "type": "mesh3d"
           }
          ],
          "parcoords": [
           {
            "line": {
             "colorbar": {
              "outlinewidth": 0,
              "ticks": ""
             }
            },
            "type": "parcoords"
           }
          ],
          "pie": [
           {
            "automargin": true,
            "type": "pie"
           }
          ],
          "scatter": [
           {
            "fillpattern": {
             "fillmode": "overlay",
             "size": 10,
             "solidity": 0.2
            },
            "type": "scatter"
           }
          ],
          "scatter3d": [
           {
            "line": {
             "colorbar": {
              "outlinewidth": 0,
              "ticks": ""
             }
            },
            "marker": {
             "colorbar": {
              "outlinewidth": 0,
              "ticks": ""
             }
            },
            "type": "scatter3d"
           }
          ],
          "scattercarpet": [
           {
            "marker": {
             "colorbar": {
              "outlinewidth": 0,
              "ticks": ""
             }
            },
            "type": "scattercarpet"
           }
          ],
          "scattergeo": [
           {
            "marker": {
             "colorbar": {
              "outlinewidth": 0,
              "ticks": ""
             }
            },
            "type": "scattergeo"
           }
          ],
          "scattergl": [
           {
            "marker": {
             "colorbar": {
              "outlinewidth": 0,
              "ticks": ""
             }
            },
            "type": "scattergl"
           }
          ],
          "scattermapbox": [
           {
            "marker": {
             "colorbar": {
              "outlinewidth": 0,
              "ticks": ""
             }
            },
            "type": "scattermapbox"
           }
          ],
          "scatterpolar": [
           {
            "marker": {
             "colorbar": {
              "outlinewidth": 0,
              "ticks": ""
             }
            },
            "type": "scatterpolar"
           }
          ],
          "scatterpolargl": [
           {
            "marker": {
             "colorbar": {
              "outlinewidth": 0,
              "ticks": ""
             }
            },
            "type": "scatterpolargl"
           }
          ],
          "scatterternary": [
           {
            "marker": {
             "colorbar": {
              "outlinewidth": 0,
              "ticks": ""
             }
            },
            "type": "scatterternary"
           }
          ],
          "surface": [
           {
            "colorbar": {
             "outlinewidth": 0,
             "ticks": ""
            },
            "colorscale": [
             [
              0,
              "#0d0887"
             ],
             [
              0.1111111111111111,
              "#46039f"
             ],
             [
              0.2222222222222222,
              "#7201a8"
             ],
             [
              0.3333333333333333,
              "#9c179e"
             ],
             [
              0.4444444444444444,
              "#bd3786"
             ],
             [
              0.5555555555555556,
              "#d8576b"
             ],
             [
              0.6666666666666666,
              "#ed7953"
             ],
             [
              0.7777777777777778,
              "#fb9f3a"
             ],
             [
              0.8888888888888888,
              "#fdca26"
             ],
             [
              1,
              "#f0f921"
             ]
            ],
            "type": "surface"
           }
          ],
          "table": [
           {
            "cells": {
             "fill": {
              "color": "#EBF0F8"
             },
             "line": {
              "color": "white"
             }
            },
            "header": {
             "fill": {
              "color": "#C8D4E3"
             },
             "line": {
              "color": "white"
             }
            },
            "type": "table"
           }
          ]
         },
         "layout": {
          "annotationdefaults": {
           "arrowcolor": "#2a3f5f",
           "arrowhead": 0,
           "arrowwidth": 1
          },
          "autotypenumbers": "strict",
          "coloraxis": {
           "colorbar": {
            "outlinewidth": 0,
            "ticks": ""
           }
          },
          "colorscale": {
           "diverging": [
            [
             0,
             "#8e0152"
            ],
            [
             0.1,
             "#c51b7d"
            ],
            [
             0.2,
             "#de77ae"
            ],
            [
             0.3,
             "#f1b6da"
            ],
            [
             0.4,
             "#fde0ef"
            ],
            [
             0.5,
             "#f7f7f7"
            ],
            [
             0.6,
             "#e6f5d0"
            ],
            [
             0.7,
             "#b8e186"
            ],
            [
             0.8,
             "#7fbc41"
            ],
            [
             0.9,
             "#4d9221"
            ],
            [
             1,
             "#276419"
            ]
           ],
           "sequential": [
            [
             0,
             "#0d0887"
            ],
            [
             0.1111111111111111,
             "#46039f"
            ],
            [
             0.2222222222222222,
             "#7201a8"
            ],
            [
             0.3333333333333333,
             "#9c179e"
            ],
            [
             0.4444444444444444,
             "#bd3786"
            ],
            [
             0.5555555555555556,
             "#d8576b"
            ],
            [
             0.6666666666666666,
             "#ed7953"
            ],
            [
             0.7777777777777778,
             "#fb9f3a"
            ],
            [
             0.8888888888888888,
             "#fdca26"
            ],
            [
             1,
             "#f0f921"
            ]
           ],
           "sequentialminus": [
            [
             0,
             "#0d0887"
            ],
            [
             0.1111111111111111,
             "#46039f"
            ],
            [
             0.2222222222222222,
             "#7201a8"
            ],
            [
             0.3333333333333333,
             "#9c179e"
            ],
            [
             0.4444444444444444,
             "#bd3786"
            ],
            [
             0.5555555555555556,
             "#d8576b"
            ],
            [
             0.6666666666666666,
             "#ed7953"
            ],
            [
             0.7777777777777778,
             "#fb9f3a"
            ],
            [
             0.8888888888888888,
             "#fdca26"
            ],
            [
             1,
             "#f0f921"
            ]
           ]
          },
          "colorway": [
           "#636efa",
           "#EF553B",
           "#00cc96",
           "#ab63fa",
           "#FFA15A",
           "#19d3f3",
           "#FF6692",
           "#B6E880",
           "#FF97FF",
           "#FECB52"
          ],
          "font": {
           "color": "#2a3f5f"
          },
          "geo": {
           "bgcolor": "white",
           "lakecolor": "white",
           "landcolor": "#E5ECF6",
           "showlakes": true,
           "showland": true,
           "subunitcolor": "white"
          },
          "hoverlabel": {
           "align": "left"
          },
          "hovermode": "closest",
          "mapbox": {
           "style": "light"
          },
          "paper_bgcolor": "white",
          "plot_bgcolor": "#E5ECF6",
          "polar": {
           "angularaxis": {
            "gridcolor": "white",
            "linecolor": "white",
            "ticks": ""
           },
           "bgcolor": "#E5ECF6",
           "radialaxis": {
            "gridcolor": "white",
            "linecolor": "white",
            "ticks": ""
           }
          },
          "scene": {
           "xaxis": {
            "backgroundcolor": "#E5ECF6",
            "gridcolor": "white",
            "gridwidth": 2,
            "linecolor": "white",
            "showbackground": true,
            "ticks": "",
            "zerolinecolor": "white"
           },
           "yaxis": {
            "backgroundcolor": "#E5ECF6",
            "gridcolor": "white",
            "gridwidth": 2,
            "linecolor": "white",
            "showbackground": true,
            "ticks": "",
            "zerolinecolor": "white"
           },
           "zaxis": {
            "backgroundcolor": "#E5ECF6",
            "gridcolor": "white",
            "gridwidth": 2,
            "linecolor": "white",
            "showbackground": true,
            "ticks": "",
            "zerolinecolor": "white"
           }
          },
          "shapedefaults": {
           "line": {
            "color": "#2a3f5f"
           }
          },
          "ternary": {
           "aaxis": {
            "gridcolor": "white",
            "linecolor": "white",
            "ticks": ""
           },
           "baxis": {
            "gridcolor": "white",
            "linecolor": "white",
            "ticks": ""
           },
           "bgcolor": "#E5ECF6",
           "caxis": {
            "gridcolor": "white",
            "linecolor": "white",
            "ticks": ""
           }
          },
          "title": {
           "x": 0.05
          },
          "xaxis": {
           "automargin": true,
           "gridcolor": "white",
           "linecolor": "white",
           "ticks": "",
           "title": {
            "standoff": 15
           },
           "zerolinecolor": "white",
           "zerolinewidth": 2
          },
          "yaxis": {
           "automargin": true,
           "gridcolor": "white",
           "linecolor": "white",
           "ticks": "",
           "title": {
            "standoff": 15
           },
           "zerolinecolor": "white",
           "zerolinewidth": 2
          }
         }
        },
        "title": {
         "text": "Ce-Ir Predicted Binary Phase Diagram"
        },
        "width": 960,
        "xaxis": {
         "linecolor": "black",
         "linewidth": 2,
         "mirror": true,
         "range": [
          0,
          100
         ],
         "showline": true,
         "tickcolor": "black",
         "tickformat": ".0f",
         "ticks": "outside",
         "title": {
          "text": "Ir (at. %)"
         }
        },
        "yaxis": {
         "linecolor": "black",
         "linewidth": 2,
         "mirror": true,
         "range": [
          600,
          2800
         ],
         "showline": true,
         "tickcolor": "black",
         "ticks": "outside",
         "ticksuffix": " ",
         "title": {
          "text": "T (°C)"
         }
        }
       }
      }
     },
     "metadata": {},
     "output_type": "display_data"
    }
   ],
   "source": [
    "known_points = [[0.08, 661], [0.32, 1100]]\n",
    "\n",
    "ce_ir_system.update_params(parameter_guesses)\n",
    "adjust_liquidus_from_known_points(ce_ir_system, known_points)\n",
    "fig = blp.get_plot('pred+liq')\n",
    "\n",
    "for i, point in enumerate(known_points):\n",
    "    fig.add_trace(go.Scatter(\n",
    "        x=[point[0]*100], y=[point[1]],\n",
    "        mode='markers',\n",
    "        marker=dict(color='#9D3CFF', size=20, symbol='star'),\n",
    "        text=f'known point #{i+1}',\n",
    "        showlegend=False,\n",
    "    ))\n",
    "fig.show()"
   ]
  },
  {
   "cell_type": "code",
   "execution_count": 46,
   "metadata": {},
   "outputs": [],
   "source": [
    "def adjust_liquidus_from_invariant_point(bl: BinaryLiquid, known_eutectic_point: list):\n",
    "    # Get present MAE and parameters\n",
    "    mae, _ = bl.calculate_deviation_metrics()\n",
    "    print(f\"Current complete liquidus MAE: {int(mae)}K\")\n",
    "    print(f\"Current parameters: {bl._params}\")\n",
    "\n",
    "    # Find the temperature error of the generated liquidus to the known eutectic point\n",
    "    known_eutectic_point[1] += 273.15 # Assume that known_point is given in Celsius\n",
    "    gen_liq = bl.phases[-1]['points']\n",
    "    gen_liq_point = min(gen_liq, key=lambda x: abs(x[0] - known_eutectic_point[0]))\n",
    "    temp_error = gen_liq_point[1] - known_eutectic_point[1]\n",
    "    print(f\"The liquidus point generated from current parameter guesses is off by {int(temp_error)} K\")\n",
    "\n",
    "    # Get the DFT phases adjacent to the eutectic point\n",
    "    lhs_phases = [phase for phase in bl.phases[:-1] if phase['comp'] < known_eutectic_point[0]]\n",
    "    adj_lhs_phase = min(lhs_phases, key=lambda x: abs(x['comp'] - known_eutectic_point[0]))\n",
    "    rhs_phases = [phase for phase in bl.phases[:-1] if phase['comp'] > known_eutectic_point[0]]\n",
    "    adj_rhs_phase = min(rhs_phases, key=lambda x: abs(x['comp'] - known_eutectic_point[0]))\n",
    " \n",
    "    # Set up the symbolic equation and first derivative of the liquid free energy\n",
    "    xb, t, a, b, c, d = sp.symbols('x t a b c d')\n",
    "    xa = 1 - xb\n",
    "\n",
    "    R = 8.314\n",
    "    Ga = (bl.component_data[bl.components[0]][0] -\n",
    "            t * bl.component_data[bl.components[0]][0] / bl.component_data[bl.components[0]][1])\n",
    "    Gb = (bl.component_data[bl.components[1]][0] -\n",
    "            t * bl.component_data[bl.components[1]][0] / bl.component_data[bl.components[1]][1])\n",
    "    L0 = a + b * t\n",
    "    L1 = c + d * t\n",
    "\n",
    "    G_ideal = R * t * (xa * sp.log(xa) + xb * sp.log(xb))\n",
    "    G_xs = L0 * (xa * xb) + L1 * (xa * xb * (xa - xb))\n",
    "    G_liq = Ga * xa + Gb * xb + G_ideal + G_xs\n",
    "    G_prime = sp.diff(G_liq, xb)\n",
    "\n",
    "    # Set up the invariant equation: dG/dx @ eutectic point = ΔG/ΔX from phases adjacent to eutectic point\n",
    "    x1, g1 = adj_lhs_phase['comp'], adj_lhs_phase['energy']\n",
    "    x2, t2 = known_eutectic_point[0], known_eutectic_point[1]\n",
    "    x3, g3 = adj_rhs_phase['comp'], adj_rhs_phase['energy']\n",
    "    inv_eqn = sp.Eq(G_prime.subs({xb: x2, t: t2}), (g3 - g1) / (x3 - x1))\n",
    "\n",
    "    # With one constraint, we can solve for the value of a single parameter with a 'guess' for the other three\n",
    "    # Here, the 'guessed' parameters are b=L0_b, c=L1_a, d=L1_b. We are solving for the value of a=L0_a\n",
    "    bl.guess_symbols = (b, c, d)\n",
    "    bl.constraints = sp.solve([inv_eqn], (a))\n",
    "    mae = bl.f([bl.get_L0_b(), bl.get_L1_a(), bl.get_L1_b()]) # This will update L0_a and return the liquidus MAE\n",
    "    print(f\"Adjusted complete liquidus MAE: {int(mae)}K\")\n",
    "    print(f\"Adjusted parameters: {bl._params}\")"
   ]
  },
  {
   "cell_type": "code",
   "execution_count": 16,
   "metadata": {},
   "outputs": [
    {
     "name": "stdout",
     "output_type": "stream",
     "text": [
      "Current complete liquidus MAE: 567K\n",
      "Current parameters: [-175000, -20, 23000, -12]\n",
      "The liquidus point generated from current parameter guesses is off by 231 K\n",
      "Adjusted complete liquidus MAE: 315K\n",
      "Adjusted parameters: [-201287.420504350, -20, 23000, -12]\n"
     ]
    },
    {
     "data": {
      "application/vnd.plotly.v1+json": {
       "config": {
        "plotlyServerURL": "https://plot.ly"
       },
       "data": [
        {
         "line": {
          "color": "#B82E2E",
          "dash": "dash",
          "width": 4
         },
         "mode": "lines",
         "showlegend": false,
         "type": "scatter",
         "x": [
          0,
          0.256468,
          0.520571,
          0.7912399999999999,
          1.0674,
          1.34799,
          1.63193,
          1.91815,
          2.20557,
          2.49314,
          2.77978,
          3.06442,
          3.34598,
          3.6234,
          3.89561,
          4.16153,
          4.42009,
          4.67022,
          4.8959,
          5.1158,
          5.33048,
          5.54051,
          5.74644,
          5.94884,
          6.14825,
          6.34524,
          6.540370000000001,
          6.7341999999999995,
          6.92728,
          7.120169999999999,
          7.31344,
          7.50764,
          7.70333,
          7.901070000000001,
          8.10141,
          8.91761,
          9.72287,
          10.5146,
          11.29,
          12.0467,
          12.781900000000002,
          13.492999999999999,
          14.1773,
          14.832300000000002,
          15.4554,
          16.0438,
          16.5949,
          17.1062,
          17.575,
          17.9986,
          18.3745,
          18.7,
          18.8112,
          18.9301,
          19.0568,
          19.192,
          19.336,
          19.4891,
          19.652,
          19.8248,
          20.0082,
          20.2024,
          20.408,
          20.6253,
          20.8547,
          21.0967,
          21.3517,
          21.6202,
          21.9024,
          22.0341,
          22.1668,
          22.3001,
          22.4337,
          22.5674,
          22.7009,
          22.8339,
          22.9661,
          23.0973,
          23.2271,
          23.3554,
          23.4817,
          23.6059,
          23.7277,
          23.8467,
          23.9627,
          24.0755,
          24.5895,
          25.1018,
          25.6119,
          26.1192,
          26.623400000000004,
          27.1237,
          27.6199,
          28.111200000000004,
          28.597300000000004,
          29.0775,
          29.551500000000004,
          30.0186,
          30.4784,
          30.930399999999995,
          31.373999999999995,
          31.8087,
          32.2341,
          32.9148,
          33.5902,
          34.2592,
          34.9205,
          35.5728,
          36.2148,
          36.8454,
          37.4632,
          38.0669,
          38.6554,
          39.2274,
          39.7816,
          40.3167,
          40.8316,
          41.3248,
          41.7953,
          42.2417,
          44.5097,
          46.6776,
          48.7448,
          50.7105,
          52.5741,
          54.3349,
          55.99219999999999,
          57.5453,
          58.993399999999994,
          60.335899999999995,
          61.5721,
          62.7013,
          63.7228,
          64.6358,
          65.4397,
          66.1339,
          66.7175,
          67.2384,
          67.7538,
          68.2666,
          68.78,
          69.297,
          69.8209,
          70.3546,
          70.9013,
          71.464,
          72.0459,
          72.6501,
          73.2796,
          73.9375,
          74.627,
          75.3512,
          76.113,
          76.9157,
          77.0915,
          77.2686,
          77.4462,
          77.6236,
          77.8001,
          77.9749,
          78.1474,
          78.3169,
          78.4825,
          78.6436,
          78.7995,
          78.9495,
          79.0927,
          79.2285,
          79.3563,
          79.4751,
          79.5844,
          79.7512,
          79.9151,
          80.0759,
          80.2336,
          80.3879,
          80.5387,
          80.686,
          80.8294,
          80.969,
          81.1046,
          81.236,
          81.3631,
          81.4858,
          81.6038,
          81.7172,
          81.8256,
          81.9291,
          81.962,
          82.0001,
          82.0438,
          82.0931,
          82.1482,
          82.2092,
          82.2764,
          82.3498,
          82.4297,
          82.5162,
          82.6095,
          82.7097,
          82.8171,
          82.9317,
          83.0537,
          83.1833,
          83.3206,
          83.4619,
          83.5967,
          83.7249,
          83.8469,
          83.9627,
          84.0724,
          84.1763,
          84.2744,
          84.367,
          84.454,
          84.5357,
          84.6122,
          84.6837,
          84.7503,
          84.812,
          84.8692,
          84.9218,
          85.6319,
          86.3864,
          87.1811,
          88.0112,
          88.8724,
          89.76,
          90.6696,
          91.5967,
          92.5367,
          93.4852,
          94.4375,
          95.3893,
          96.3359,
          97.2729,
          98.1958,
          99.1,
          99.9809
         ],
         "y": [
          797.871,
          795.776,
          793.4229999999999,
          790.8100000000001,
          787.9339999999999,
          784.793,
          781.3829999999999,
          777.7019999999999,
          773.7480000000002,
          769.5169999999999,
          765.007,
          760.216,
          755.139,
          749.776,
          744.122,
          738.175,
          731.933,
          725.393,
          722.79,
          720.082,
          717.244,
          714.251,
          711.079,
          707.704,
          704.1,
          700.244,
          696.111,
          691.676,
          686.915,
          681.803,
          676.316,
          670.43,
          664.119,
          657.359,
          650.127,
          657.825,
          664.809,
          671.119,
          676.793,
          681.869,
          686.388,
          690.386,
          693.905,
          696.981,
          699.654,
          701.963,
          703.946,
          705.643,
          707.092,
          708.332,
          709.401,
          710.34,
          725.446,
          739.53,
          752.668,
          764.937,
          776.4150000000001,
          787.177,
          797.302,
          806.8660000000001,
          815.945,
          824.6169999999998,
          832.959,
          841.0479999999999,
          848.9600000000002,
          856.773,
          864.564,
          872.409,
          880.3849999999999,
          886.2599999999999,
          891.8849999999999,
          897.266,
          902.4049999999999,
          907.3089999999999,
          911.9829999999998,
          916.43,
          920.6560000000001,
          924.666,
          928.4629999999999,
          932.054,
          935.4420000000001,
          938.6340000000001,
          941.632,
          944.4420000000001,
          947.07,
          949.5180000000001,
          963.2100000000002,
          976.1650000000001,
          988.408,
          999.968,
          1010.87,
          1021.14,
          1030.81,
          1039.8899999999999,
          1048.4299999999998,
          1056.44,
          1063.9499999999998,
          1070.9899999999998,
          1077.5899999999997,
          1083.77,
          1089.5499999999997,
          1094.9699999999998,
          1100.0499999999997,
          1107.4,
          1114.33,
          1120.8399999999997,
          1126.9499999999998,
          1132.6999999999998,
          1138.0899999999997,
          1143.15,
          1147.9,
          1152.35,
          1156.5299999999997,
          1160.4499999999998,
          1164.1399999999999,
          1167.62,
          1170.9,
          1174.0099999999998,
          1176.96,
          1179.7799999999997,
          1345.3899999999999,
          1493.06,
          1623.7999999999997,
          1738.6399999999999,
          1838.5899999999997,
          1924.6799999999998,
          1997.9299999999998,
          2059.36,
          2110,
          2150.87,
          2182.98,
          2207.36,
          2225.04,
          2237.03,
          2244.36,
          2248.05,
          2249.11,
          2248.67,
          2247.34,
          2245.07,
          2241.86,
          2237.65,
          2232.43,
          2226.17,
          2218.83,
          2210.4,
          2200.83,
          2190.1,
          2178.18,
          2165.04,
          2150.65,
          2134.98,
          2118.01,
          2099.7,
          2096.37,
          2092.69,
          2088.67,
          2084.31,
          2079.62,
          2074.62,
          2069.29,
          2063.67,
          2057.74,
          2051.52,
          2045.02,
          2038.2399999999998,
          2031.19,
          2023.88,
          2016.3199999999997,
          2008.5099999999998,
          2000.46,
          1994.7399999999998,
          1988.81,
          1982.69,
          1976.4099999999999,
          1969.9899999999998,
          1963.4499999999998,
          1956.81,
          1950.1,
          1943.3399999999997,
          1936.5499999999997,
          1929.75,
          1922.96,
          1916.2199999999998,
          1909.5299999999997,
          1902.9299999999998,
          1896.4299999999998,
          1890.0699999999997,
          1895.63,
          1901.08,
          1906.3899999999999,
          1911.54,
          1916.48,
          1921.1999999999998,
          1925.6599999999999,
          1929.8399999999997,
          1933.6999999999998,
          1937.2199999999998,
          1940.3599999999997,
          1943.1,
          1945.4,
          1947.25,
          1948.6,
          1949.44,
          1949.7199999999998,
          1949.2799999999997,
          1948.0099999999998,
          1945.9899999999998,
          1943.29,
          1939.98,
          1936.1399999999999,
          1931.8399999999997,
          1927.1599999999999,
          1922.17,
          1916.9499999999998,
          1911.56,
          1906.0899999999997,
          1900.6099999999997,
          1895.1799999999998,
          1889.9,
          1884.8199999999997,
          1880.0299999999997,
          1921.7199999999998,
          1962.71,
          2002.94,
          2042.33,
          2080.83,
          2118.35,
          2154.83,
          2190.19,
          2224.38,
          2257.32,
          2288.93,
          2319.16,
          2347.93,
          2375.17,
          2400.82,
          2424.79,
          2447.03
         ]
        },
        {
         "hovertemplate": "label=Ce7Ir3<br>x=%{x}<br>t=%{y}<extra></extra>",
         "legendgroup": "Ce7Ir3",
         "line": {
          "color": "rgb(246, 207, 113)",
          "dash": "solid",
          "width": 4
         },
         "marker": {
          "symbol": "circle"
         },
         "mode": "lines",
         "name": "Ce7Ir3",
         "orientation": "v",
         "showlegend": false,
         "type": "scatter",
         "x": [
          30,
          30,
          30,
          30,
          30,
          30,
          30,
          30,
          30,
          30,
          30,
          30,
          30,
          30
         ],
         "xaxis": "x",
         "y": [
          558.641419783448,
          1005.0205099294627,
          979.5436563609791,
          877.642924388415,
          674.4087736992058,
          717.8914670286249,
          760.0586877040138,
          629.6955020539175,
          583.8132963348024,
          947.5016707794738,
          913.4991239134005,
          840.043211153819,
          800.8115578886117,
          -273.15
         ],
         "yaxis": "y"
        },
        {
         "hovertemplate": "label=Ce5Ir4<br>x=%{x}<br>t=%{y}<extra></extra>",
         "legendgroup": "Ce5Ir4",
         "line": {
          "color": "rgb(248, 156, 116)",
          "dash": "solid",
          "width": 4
         },
         "marker": {
          "symbol": "circle"
         },
         "mode": "lines",
         "name": "Ce5Ir4",
         "orientation": "v",
         "showlegend": false,
         "type": "scatter",
         "x": [
          44,
          44,
          44,
          44,
          44,
          44,
          44,
          44,
          44,
          44,
          44,
          44,
          44,
          44,
          44,
          44,
          44,
          44,
          44,
          44,
          44,
          44,
          44,
          44,
          44,
          44,
          44
         ],
         "xaxis": "x",
         "y": [
          1767.8781214153432,
          1005.0205099294627,
          1748.0546958826085,
          1602.484802065405,
          1113.7521364801396,
          1257.4163861576576,
          1504.744413986572,
          1388.7979078229746,
          1063.7152628235094,
          1012.816318375444,
          1766.6277607907673,
          1758.6603300838797,
          1656.3855594825159,
          1630.6104228705626,
          1734.8304709953577,
          1719.0141695326956,
          1679.7471235430417,
          1700.639419678142,
          1210.7292265579285,
          1162.7991907085548,
          1346.5698881365588,
          1302.7369144328864,
          1572.0790871282493,
          1539.4708097715525,
          1467.9909578061192,
          1429.3077476680678,
          -273.15
         ],
         "yaxis": "y"
        },
        {
         "hovertemplate": "label=CeIr2<br>x=%{x}<br>t=%{y}<extra></extra>",
         "legendgroup": "CeIr2",
         "line": {
          "color": "rgb(220, 176, 242)",
          "dash": "solid",
          "width": 4
         },
         "marker": {
          "symbol": "circle"
         },
         "mode": "lines",
         "name": "CeIr2",
         "orientation": "v",
         "showlegend": false,
         "type": "scatter",
         "x": [
          67,
          67,
          67,
          67,
          67,
          67,
          67,
          67,
          67,
          67,
          67,
          67,
          67,
          67,
          67,
          67,
          67,
          67,
          67,
          67,
          67,
          67,
          67,
          67,
          67,
          67,
          67,
          67,
          67,
          67,
          67,
          67,
          67,
          67,
          67,
          67,
          67,
          67,
          67,
          67,
          67
         ],
         "xaxis": "x",
         "y": [
          2356.569628076999,
          1767.8781214153432,
          2039.3201234196836,
          2357.4957715094356,
          2554.3648738225907,
          2554.6883615760594,
          2141.1064297088387,
          2091.2085839358115,
          2318.9108387709152,
          2277.901515243959,
          2188.915372580242,
          2234.5427057502343,
          2534.664325263238,
          2511.8592766207894,
          2458.0467869291388,
          2486.3070267214257,
          2427.123398077012,
          2393.5875190148126,
          2586.1917440734446,
          2571.7220510245234,
          2615.144408093771,
          2612.249008868285,
          2597.771155967485,
          2606.4576015266316,
          2586.2835208044935,
          2571.902708192568,
          2615.144408093771,
          2612.2516614675615,
          2597.811456837442,
          2606.4713167916448,
          2389.6207053287403,
          2534.122605003999,
          1985.5446547668726,
          1929.9907905437444,
          1814.0051547357143,
          1872.7717897824905,
          2484.9871099205557,
          2510.9966981338735,
          2456.0917115141438,
          2424.3056585392737,
          -273.15
         ],
         "yaxis": "y"
        },
        {
         "hovertemplate": "label=CeIr3<br>x=%{x}<br>t=%{y}<extra></extra>",
         "legendgroup": "CeIr3",
         "line": {
          "color": "rgb(135, 197, 95)",
          "dash": "solid",
          "width": 4
         },
         "marker": {
          "symbol": "circle"
         },
         "mode": "lines",
         "name": "CeIr3",
         "orientation": "v",
         "showlegend": false,
         "type": "scatter",
         "x": [
          75,
          75,
          75,
          75,
          75,
          75,
          75,
          75,
          75,
          75,
          75,
          75
         ],
         "xaxis": "x",
         "y": [
          2356.569628076999,
          2099.84653087941,
          2195.986570462091,
          2157.7315039799564,
          2115.8445453225804,
          2262.071592615299,
          2230.733646139565,
          2354.7246082959036,
          2336.357772098326,
          2290.080185050766,
          2314.8244265530307,
          -273.15
         ],
         "yaxis": "y"
        },
        {
         "hovertemplate": "x=%{x}<br>y=%{y}<extra></extra>",
         "legendgroup": "",
         "line": {
          "color": "Silver",
          "dash": "solid",
          "width": 4
         },
         "marker": {
          "symbol": "circle"
         },
         "mode": "lines",
         "name": "",
         "orientation": "v",
         "showlegend": false,
         "type": "scatter",
         "x": [
          75,
          89,
          100
         ],
         "xaxis": "x",
         "y": [
          2099.84653087941,
          2099.84653087941,
          2099.84653087941
         ],
         "yaxis": "y"
        },
        {
         "hovertemplate": "x=%{x}<br>y=%{y}<extra></extra>",
         "legendgroup": "",
         "line": {
          "color": "Silver",
          "dash": "solid",
          "width": 4
         },
         "marker": {
          "symbol": "circle"
         },
         "mode": "lines",
         "name": "",
         "orientation": "v",
         "showlegend": false,
         "type": "scatter",
         "x": [
          0,
          7.000000000000001,
          30
         ],
         "xaxis": "x",
         "y": [
          558.641419783448,
          558.641419783448,
          558.641419783448
         ],
         "yaxis": "y"
        },
        {
         "hovertemplate": "x=%{x}<br>y=%{y}<extra></extra>",
         "legendgroup": "",
         "line": {
          "color": "Silver",
          "dash": "solid",
          "width": 4
         },
         "marker": {
          "symbol": "circle"
         },
         "mode": "lines",
         "name": "",
         "orientation": "v",
         "showlegend": false,
         "type": "scatter",
         "x": [
          67,
          75,
          80
         ],
         "xaxis": "x",
         "y": [
          2356.569628076999,
          2356.569628076999,
          2356.569628076999
         ],
         "yaxis": "y"
        },
        {
         "hovertemplate": "x=%{x}<br>y=%{y}<extra></extra>",
         "legendgroup": "",
         "line": {
          "color": "Silver",
          "dash": "solid",
          "width": 4
         },
         "marker": {
          "symbol": "circle"
         },
         "mode": "lines",
         "name": "",
         "orientation": "v",
         "showlegend": false,
         "type": "scatter",
         "x": [
          42,
          44,
          67
         ],
         "xaxis": "x",
         "y": [
          1767.8781214153432,
          1767.8781214153432,
          1767.8781214153432
         ],
         "yaxis": "y"
        },
        {
         "hovertemplate": "x=%{x}<br>y=%{y}<extra></extra>",
         "legendgroup": "",
         "line": {
          "color": "Silver",
          "dash": "solid",
          "width": 4
         },
         "marker": {
          "symbol": "circle"
         },
         "mode": "lines",
         "name": "",
         "orientation": "v",
         "showlegend": false,
         "type": "scatter",
         "x": [
          18,
          30,
          44
         ],
         "xaxis": "x",
         "y": [
          1005.0205099294627,
          1005.0205099294627,
          1005.0205099294627
         ],
         "yaxis": "y"
        },
        {
         "hovertemplate": "label=L<br>x=%{x}<br>t=%{y}<extra></extra>",
         "legendgroup": "L",
         "line": {
          "color": "#117733",
          "dash": "solid",
          "width": 4
         },
         "marker": {
          "symbol": "circle"
         },
         "mode": "lines",
         "name": "L",
         "orientation": "v",
         "showlegend": false,
         "type": "scatter",
         "x": [
          0,
          0,
          1,
          2,
          3,
          4,
          5,
          6,
          7.000000000000001,
          8,
          9,
          10,
          11,
          12,
          13,
          14.000000000000002,
          15,
          16,
          17,
          18,
          19,
          20,
          21,
          22,
          23,
          24,
          25,
          26,
          27,
          28.000000000000004,
          28.999999999999996,
          30,
          31,
          32,
          33,
          34,
          35,
          36,
          37,
          38,
          39,
          40,
          41,
          42,
          43,
          44,
          45,
          46,
          47,
          48,
          49,
          50,
          51,
          52,
          53,
          54,
          55.00000000000001,
          56.00000000000001,
          57.00000000000001,
          57.99999999999999,
          59,
          60,
          61,
          62,
          63,
          64,
          65,
          66,
          67,
          68,
          69,
          70,
          71,
          72,
          73,
          74,
          75,
          76,
          77,
          78,
          79,
          80,
          81,
          82,
          83,
          84,
          85,
          86,
          87,
          88,
          89,
          90,
          91,
          92,
          93,
          94,
          95,
          96,
          97,
          98,
          99,
          100,
          100
         ],
         "xaxis": "x",
         "y": [
          797.8710000000002,
          797.8710000000002,
          770.3328467870657,
          742.2319419430182,
          709.1504937715455,
          671.2397769925492,
          628.872680870584,
          582.4694550344675,
          558.641419783448,
          583.8132963348024,
          629.6955020539175,
          674.4087736992058,
          717.8914670286249,
          760.0586877040138,
          800.8115578886117,
          840.043211153819,
          877.642924388415,
          913.4991239134005,
          947.5016707794738,
          979.5436563609791,
          1012.816318375444,
          1063.7152628235094,
          1113.7521364801396,
          1162.7991907085548,
          1210.7292265579285,
          1257.4163861576576,
          1302.7369144328864,
          1346.5698881365588,
          1388.7979078229746,
          1429.3077476680678,
          1467.9909578061192,
          1504.744413986572,
          1539.4708097715525,
          1572.0790871282493,
          1602.484802065405,
          1630.6104228705626,
          1656.3855594825159,
          1679.7471235430417,
          1700.639419678142,
          1719.0141695326956,
          1734.8304709953577,
          1748.0546958826085,
          1758.6603300838797,
          1766.6277607907673,
          1814.0051547357143,
          1872.7717897824905,
          1929.9907905437444,
          1985.5446547668726,
          2039.3201234196836,
          2091.2085839358115,
          2141.1064297088387,
          2188.915372580242,
          2234.5427057502343,
          2277.901515243959,
          2318.9108387709152,
          2357.4957715094356,
          2393.5875190148126,
          2427.123398077012,
          2458.0467869291388,
          2486.3070267214257,
          2511.8592766207894,
          2534.664325263238,
          2554.6883615760594,
          2571.902708192568,
          2586.2835208044935,
          2597.811456837442,
          2606.4713167916448,
          2612.2516614675615,
          2615.144408093771,
          2612.249008868285,
          2606.4576015266316,
          2597.771155967485,
          2586.1917440734446,
          2571.7220510245234,
          2554.3648738225907,
          2534.122605003999,
          2510.9966981338735,
          2484.9871099205557,
          2456.0917115141438,
          2424.3056585392737,
          2389.6207053287403,
          2354.7246082959036,
          2336.357772098326,
          2314.8244265530307,
          2290.080185050766,
          2262.071592615299,
          2230.733646139565,
          2195.986570462091,
          2157.7315039799564,
          2115.8445453225804,
          2099.84653087941,
          2130.144778011399,
          2173.8906246088304,
          2214.87448206901,
          2253.0698650093786,
          2288.4544865985636,
          2321.011103470241,
          2350.7301467768193,
          2377.617824607332,
          2401.7255845011655,
          2423.308467433807,
          2447.03,
          2447.03
         ],
         "yaxis": "y"
        },
        {
         "line": {
          "color": "#B82E2E",
          "dash": "dash"
         },
         "mode": "lines",
         "name": "Digitized Liquidus",
         "showlegend": true,
         "type": "scatter",
         "x": [
          null
         ],
         "y": [
          null
         ]
        },
        {
         "marker": {
          "color": "#117733"
         },
         "mode": "lines",
         "name": "Predicted Liquidus",
         "showlegend": true,
         "type": "scatter",
         "x": [
          null
         ],
         "y": [
          null
         ]
        }
       ],
       "layout": {
        "annotations": [
         {
          "borderpad": 5,
          "font": {
           "color": "black",
           "size": 18
          },
          "showarrow": false,
          "text": "Ce7Ir3",
          "textangle": -90,
          "x": 27.5,
          "y": 300,
          "yanchor": "bottom"
         },
         {
          "borderpad": 5,
          "font": {
           "color": "black",
           "size": 18
          },
          "showarrow": false,
          "text": "Ce5Ir4",
          "textangle": -90,
          "x": 41.5,
          "y": 300,
          "yanchor": "bottom"
         },
         {
          "borderpad": 5,
          "font": {
           "color": "black",
           "size": 18
          },
          "showarrow": false,
          "text": "CeIr2",
          "textangle": -90,
          "x": 64.5,
          "y": 300,
          "yanchor": "bottom"
         },
         {
          "borderpad": 5,
          "font": {
           "color": "black",
           "size": 18
          },
          "showarrow": false,
          "text": "CeIr3",
          "textangle": -90,
          "x": 72.5,
          "y": 300,
          "yanchor": "bottom"
         },
         {
          "font": {
           "color": "black",
           "size": 18
          },
          "showarrow": false,
          "text": "L",
          "x": 50,
          "y": 2661.447296255646
         }
        ],
        "font": {
         "size": 22
        },
        "height": 700,
        "legend": {
         "font": {
          "size": 18
         },
         "x": 0.01,
         "xanchor": "left",
         "y": 0.99,
         "yanchor": "top"
        },
        "plot_bgcolor": "white",
        "showlegend": true,
        "template": {
         "data": {
          "bar": [
           {
            "error_x": {
             "color": "#2a3f5f"
            },
            "error_y": {
             "color": "#2a3f5f"
            },
            "marker": {
             "line": {
              "color": "#E5ECF6",
              "width": 0.5
             },
             "pattern": {
              "fillmode": "overlay",
              "size": 10,
              "solidity": 0.2
             }
            },
            "type": "bar"
           }
          ],
          "barpolar": [
           {
            "marker": {
             "line": {
              "color": "#E5ECF6",
              "width": 0.5
             },
             "pattern": {
              "fillmode": "overlay",
              "size": 10,
              "solidity": 0.2
             }
            },
            "type": "barpolar"
           }
          ],
          "carpet": [
           {
            "aaxis": {
             "endlinecolor": "#2a3f5f",
             "gridcolor": "white",
             "linecolor": "white",
             "minorgridcolor": "white",
             "startlinecolor": "#2a3f5f"
            },
            "baxis": {
             "endlinecolor": "#2a3f5f",
             "gridcolor": "white",
             "linecolor": "white",
             "minorgridcolor": "white",
             "startlinecolor": "#2a3f5f"
            },
            "type": "carpet"
           }
          ],
          "choropleth": [
           {
            "colorbar": {
             "outlinewidth": 0,
             "ticks": ""
            },
            "type": "choropleth"
           }
          ],
          "contour": [
           {
            "colorbar": {
             "outlinewidth": 0,
             "ticks": ""
            },
            "colorscale": [
             [
              0,
              "#0d0887"
             ],
             [
              0.1111111111111111,
              "#46039f"
             ],
             [
              0.2222222222222222,
              "#7201a8"
             ],
             [
              0.3333333333333333,
              "#9c179e"
             ],
             [
              0.4444444444444444,
              "#bd3786"
             ],
             [
              0.5555555555555556,
              "#d8576b"
             ],
             [
              0.6666666666666666,
              "#ed7953"
             ],
             [
              0.7777777777777778,
              "#fb9f3a"
             ],
             [
              0.8888888888888888,
              "#fdca26"
             ],
             [
              1,
              "#f0f921"
             ]
            ],
            "type": "contour"
           }
          ],
          "contourcarpet": [
           {
            "colorbar": {
             "outlinewidth": 0,
             "ticks": ""
            },
            "type": "contourcarpet"
           }
          ],
          "heatmap": [
           {
            "colorbar": {
             "outlinewidth": 0,
             "ticks": ""
            },
            "colorscale": [
             [
              0,
              "#0d0887"
             ],
             [
              0.1111111111111111,
              "#46039f"
             ],
             [
              0.2222222222222222,
              "#7201a8"
             ],
             [
              0.3333333333333333,
              "#9c179e"
             ],
             [
              0.4444444444444444,
              "#bd3786"
             ],
             [
              0.5555555555555556,
              "#d8576b"
             ],
             [
              0.6666666666666666,
              "#ed7953"
             ],
             [
              0.7777777777777778,
              "#fb9f3a"
             ],
             [
              0.8888888888888888,
              "#fdca26"
             ],
             [
              1,
              "#f0f921"
             ]
            ],
            "type": "heatmap"
           }
          ],
          "heatmapgl": [
           {
            "colorbar": {
             "outlinewidth": 0,
             "ticks": ""
            },
            "colorscale": [
             [
              0,
              "#0d0887"
             ],
             [
              0.1111111111111111,
              "#46039f"
             ],
             [
              0.2222222222222222,
              "#7201a8"
             ],
             [
              0.3333333333333333,
              "#9c179e"
             ],
             [
              0.4444444444444444,
              "#bd3786"
             ],
             [
              0.5555555555555556,
              "#d8576b"
             ],
             [
              0.6666666666666666,
              "#ed7953"
             ],
             [
              0.7777777777777778,
              "#fb9f3a"
             ],
             [
              0.8888888888888888,
              "#fdca26"
             ],
             [
              1,
              "#f0f921"
             ]
            ],
            "type": "heatmapgl"
           }
          ],
          "histogram": [
           {
            "marker": {
             "pattern": {
              "fillmode": "overlay",
              "size": 10,
              "solidity": 0.2
             }
            },
            "type": "histogram"
           }
          ],
          "histogram2d": [
           {
            "colorbar": {
             "outlinewidth": 0,
             "ticks": ""
            },
            "colorscale": [
             [
              0,
              "#0d0887"
             ],
             [
              0.1111111111111111,
              "#46039f"
             ],
             [
              0.2222222222222222,
              "#7201a8"
             ],
             [
              0.3333333333333333,
              "#9c179e"
             ],
             [
              0.4444444444444444,
              "#bd3786"
             ],
             [
              0.5555555555555556,
              "#d8576b"
             ],
             [
              0.6666666666666666,
              "#ed7953"
             ],
             [
              0.7777777777777778,
              "#fb9f3a"
             ],
             [
              0.8888888888888888,
              "#fdca26"
             ],
             [
              1,
              "#f0f921"
             ]
            ],
            "type": "histogram2d"
           }
          ],
          "histogram2dcontour": [
           {
            "colorbar": {
             "outlinewidth": 0,
             "ticks": ""
            },
            "colorscale": [
             [
              0,
              "#0d0887"
             ],
             [
              0.1111111111111111,
              "#46039f"
             ],
             [
              0.2222222222222222,
              "#7201a8"
             ],
             [
              0.3333333333333333,
              "#9c179e"
             ],
             [
              0.4444444444444444,
              "#bd3786"
             ],
             [
              0.5555555555555556,
              "#d8576b"
             ],
             [
              0.6666666666666666,
              "#ed7953"
             ],
             [
              0.7777777777777778,
              "#fb9f3a"
             ],
             [
              0.8888888888888888,
              "#fdca26"
             ],
             [
              1,
              "#f0f921"
             ]
            ],
            "type": "histogram2dcontour"
           }
          ],
          "mesh3d": [
           {
            "colorbar": {
             "outlinewidth": 0,
             "ticks": ""
            },
            "type": "mesh3d"
           }
          ],
          "parcoords": [
           {
            "line": {
             "colorbar": {
              "outlinewidth": 0,
              "ticks": ""
             }
            },
            "type": "parcoords"
           }
          ],
          "pie": [
           {
            "automargin": true,
            "type": "pie"
           }
          ],
          "scatter": [
           {
            "fillpattern": {
             "fillmode": "overlay",
             "size": 10,
             "solidity": 0.2
            },
            "type": "scatter"
           }
          ],
          "scatter3d": [
           {
            "line": {
             "colorbar": {
              "outlinewidth": 0,
              "ticks": ""
             }
            },
            "marker": {
             "colorbar": {
              "outlinewidth": 0,
              "ticks": ""
             }
            },
            "type": "scatter3d"
           }
          ],
          "scattercarpet": [
           {
            "marker": {
             "colorbar": {
              "outlinewidth": 0,
              "ticks": ""
             }
            },
            "type": "scattercarpet"
           }
          ],
          "scattergeo": [
           {
            "marker": {
             "colorbar": {
              "outlinewidth": 0,
              "ticks": ""
             }
            },
            "type": "scattergeo"
           }
          ],
          "scattergl": [
           {
            "marker": {
             "colorbar": {
              "outlinewidth": 0,
              "ticks": ""
             }
            },
            "type": "scattergl"
           }
          ],
          "scattermapbox": [
           {
            "marker": {
             "colorbar": {
              "outlinewidth": 0,
              "ticks": ""
             }
            },
            "type": "scattermapbox"
           }
          ],
          "scatterpolar": [
           {
            "marker": {
             "colorbar": {
              "outlinewidth": 0,
              "ticks": ""
             }
            },
            "type": "scatterpolar"
           }
          ],
          "scatterpolargl": [
           {
            "marker": {
             "colorbar": {
              "outlinewidth": 0,
              "ticks": ""
             }
            },
            "type": "scatterpolargl"
           }
          ],
          "scatterternary": [
           {
            "marker": {
             "colorbar": {
              "outlinewidth": 0,
              "ticks": ""
             }
            },
            "type": "scatterternary"
           }
          ],
          "surface": [
           {
            "colorbar": {
             "outlinewidth": 0,
             "ticks": ""
            },
            "colorscale": [
             [
              0,
              "#0d0887"
             ],
             [
              0.1111111111111111,
              "#46039f"
             ],
             [
              0.2222222222222222,
              "#7201a8"
             ],
             [
              0.3333333333333333,
              "#9c179e"
             ],
             [
              0.4444444444444444,
              "#bd3786"
             ],
             [
              0.5555555555555556,
              "#d8576b"
             ],
             [
              0.6666666666666666,
              "#ed7953"
             ],
             [
              0.7777777777777778,
              "#fb9f3a"
             ],
             [
              0.8888888888888888,
              "#fdca26"
             ],
             [
              1,
              "#f0f921"
             ]
            ],
            "type": "surface"
           }
          ],
          "table": [
           {
            "cells": {
             "fill": {
              "color": "#EBF0F8"
             },
             "line": {
              "color": "white"
             }
            },
            "header": {
             "fill": {
              "color": "#C8D4E3"
             },
             "line": {
              "color": "white"
             }
            },
            "type": "table"
           }
          ]
         },
         "layout": {
          "annotationdefaults": {
           "arrowcolor": "#2a3f5f",
           "arrowhead": 0,
           "arrowwidth": 1
          },
          "autotypenumbers": "strict",
          "coloraxis": {
           "colorbar": {
            "outlinewidth": 0,
            "ticks": ""
           }
          },
          "colorscale": {
           "diverging": [
            [
             0,
             "#8e0152"
            ],
            [
             0.1,
             "#c51b7d"
            ],
            [
             0.2,
             "#de77ae"
            ],
            [
             0.3,
             "#f1b6da"
            ],
            [
             0.4,
             "#fde0ef"
            ],
            [
             0.5,
             "#f7f7f7"
            ],
            [
             0.6,
             "#e6f5d0"
            ],
            [
             0.7,
             "#b8e186"
            ],
            [
             0.8,
             "#7fbc41"
            ],
            [
             0.9,
             "#4d9221"
            ],
            [
             1,
             "#276419"
            ]
           ],
           "sequential": [
            [
             0,
             "#0d0887"
            ],
            [
             0.1111111111111111,
             "#46039f"
            ],
            [
             0.2222222222222222,
             "#7201a8"
            ],
            [
             0.3333333333333333,
             "#9c179e"
            ],
            [
             0.4444444444444444,
             "#bd3786"
            ],
            [
             0.5555555555555556,
             "#d8576b"
            ],
            [
             0.6666666666666666,
             "#ed7953"
            ],
            [
             0.7777777777777778,
             "#fb9f3a"
            ],
            [
             0.8888888888888888,
             "#fdca26"
            ],
            [
             1,
             "#f0f921"
            ]
           ],
           "sequentialminus": [
            [
             0,
             "#0d0887"
            ],
            [
             0.1111111111111111,
             "#46039f"
            ],
            [
             0.2222222222222222,
             "#7201a8"
            ],
            [
             0.3333333333333333,
             "#9c179e"
            ],
            [
             0.4444444444444444,
             "#bd3786"
            ],
            [
             0.5555555555555556,
             "#d8576b"
            ],
            [
             0.6666666666666666,
             "#ed7953"
            ],
            [
             0.7777777777777778,
             "#fb9f3a"
            ],
            [
             0.8888888888888888,
             "#fdca26"
            ],
            [
             1,
             "#f0f921"
            ]
           ]
          },
          "colorway": [
           "#636efa",
           "#EF553B",
           "#00cc96",
           "#ab63fa",
           "#FFA15A",
           "#19d3f3",
           "#FF6692",
           "#B6E880",
           "#FF97FF",
           "#FECB52"
          ],
          "font": {
           "color": "#2a3f5f"
          },
          "geo": {
           "bgcolor": "white",
           "lakecolor": "white",
           "landcolor": "#E5ECF6",
           "showlakes": true,
           "showland": true,
           "subunitcolor": "white"
          },
          "hoverlabel": {
           "align": "left"
          },
          "hovermode": "closest",
          "mapbox": {
           "style": "light"
          },
          "paper_bgcolor": "white",
          "plot_bgcolor": "#E5ECF6",
          "polar": {
           "angularaxis": {
            "gridcolor": "white",
            "linecolor": "white",
            "ticks": ""
           },
           "bgcolor": "#E5ECF6",
           "radialaxis": {
            "gridcolor": "white",
            "linecolor": "white",
            "ticks": ""
           }
          },
          "scene": {
           "xaxis": {
            "backgroundcolor": "#E5ECF6",
            "gridcolor": "white",
            "gridwidth": 2,
            "linecolor": "white",
            "showbackground": true,
            "ticks": "",
            "zerolinecolor": "white"
           },
           "yaxis": {
            "backgroundcolor": "#E5ECF6",
            "gridcolor": "white",
            "gridwidth": 2,
            "linecolor": "white",
            "showbackground": true,
            "ticks": "",
            "zerolinecolor": "white"
           },
           "zaxis": {
            "backgroundcolor": "#E5ECF6",
            "gridcolor": "white",
            "gridwidth": 2,
            "linecolor": "white",
            "showbackground": true,
            "ticks": "",
            "zerolinecolor": "white"
           }
          },
          "shapedefaults": {
           "line": {
            "color": "#2a3f5f"
           }
          },
          "ternary": {
           "aaxis": {
            "gridcolor": "white",
            "linecolor": "white",
            "ticks": ""
           },
           "baxis": {
            "gridcolor": "white",
            "linecolor": "white",
            "ticks": ""
           },
           "bgcolor": "#E5ECF6",
           "caxis": {
            "gridcolor": "white",
            "linecolor": "white",
            "ticks": ""
           }
          },
          "title": {
           "x": 0.05
          },
          "xaxis": {
           "automargin": true,
           "gridcolor": "white",
           "linecolor": "white",
           "ticks": "",
           "title": {
            "standoff": 15
           },
           "zerolinecolor": "white",
           "zerolinewidth": 2
          },
          "yaxis": {
           "automargin": true,
           "gridcolor": "white",
           "linecolor": "white",
           "ticks": "",
           "title": {
            "standoff": 15
           },
           "zerolinecolor": "white",
           "zerolinewidth": 2
          }
         }
        },
        "title": {
         "text": "Ce-Ir Predicted Binary Phase Diagram"
        },
        "width": 960,
        "xaxis": {
         "linecolor": "black",
         "linewidth": 2,
         "mirror": true,
         "range": [
          0,
          100
         ],
         "showline": true,
         "tickcolor": "black",
         "tickformat": ".0f",
         "ticks": "outside",
         "title": {
          "text": "Ir (at. %)"
         }
        },
        "yaxis": {
         "linecolor": "black",
         "linewidth": 2,
         "mirror": true,
         "range": [
          300,
          2846.658848903148
         ],
         "showline": true,
         "tickcolor": "black",
         "ticks": "outside",
         "ticksuffix": "  ",
         "title": {
          "text": "T (°C)"
         }
        }
       }
      }
     },
     "metadata": {},
     "output_type": "display_data"
    }
   ],
   "source": [
    "ce_ir_system.update_params(parameter_guesses)\n",
    "adjust_liquidus_from_invariant_point(ce_ir_system, [0.08, 650])\n",
    "\n",
    "blp = BLPlotter(ce_ir_system)\n",
    "blp.show('pred+liq')"
   ]
  },
  {
   "cell_type": "code",
   "execution_count": 15,
   "metadata": {},
   "outputs": [],
   "source": [
    "def adjust_liquidus_from_invariant_point_2_constr(bl: BinaryLiquid, known_eutectic_point: list):\n",
    "    # Get present MAE and parameters\n",
    "    mae, _ = bl.calculate_deviation_metrics()\n",
    "    print(f\"Current complete liquidus MAE: {int(mae)}K\")\n",
    "    print(f\"Current parameters: {bl._params}\")\n",
    "\n",
    "    # Find the temperature error of the generated liquidus to the known eutectic point\n",
    "    known_eutectic_point[1] += 273.15 # Assume that known_point is given in Celsius\n",
    "    gen_liq = bl.phases[-1]['points']\n",
    "    gen_liq_point = min(gen_liq, key=lambda x: abs(x[0] - known_eutectic_point[0]))\n",
    "    temp_error = gen_liq_point[1] - known_eutectic_point[1]\n",
    "    print(f\"The liquidus point generated from current parameter guesses is off by {int(temp_error)} K\")\n",
    "\n",
    "    # Get the DFT phases adjacent to the eutectic point\n",
    "    lhs_phases = [phase for phase in bl.phases[:-1] if phase['comp'] < known_eutectic_point[0]]\n",
    "    adj_lhs_phase = min(lhs_phases, key=lambda x: abs(x['comp'] - known_eutectic_point[0]))\n",
    "    rhs_phases = [phase for phase in bl.phases[:-1] if phase['comp'] > known_eutectic_point[0]]\n",
    "    adj_rhs_phase = min(rhs_phases, key=lambda x: abs(x['comp'] - known_eutectic_point[0]))\n",
    " \n",
    "    # Set up the symbolic equation and first derivative of the liquid free energy\n",
    "    xb, t, a, b, c, d = sp.symbols('x t a b c d')\n",
    "    xa = 1 - xb\n",
    "\n",
    "    R = 8.314\n",
    "    Ga = (bl.component_data[bl.components[0]][0] -\n",
    "            t * bl.component_data[bl.components[0]][0] / bl.component_data[bl.components[0]][1])\n",
    "    Gb = (bl.component_data[bl.components[1]][0] -\n",
    "            t * bl.component_data[bl.components[1]][0] / bl.component_data[bl.components[1]][1])\n",
    "    L0 = a + b * t\n",
    "    L1 = c + d * t\n",
    "\n",
    "    G_ideal = R * t * (xa * sp.log(xa) + xb * sp.log(xb))\n",
    "    G_xs = L0 * (xa * xb) + L1 * (xa * xb * (xa - xb))\n",
    "    G_liq = Ga * xa + Gb * xb + G_ideal + G_xs\n",
    "    G_prime = sp.diff(G_liq, xb)\n",
    "\n",
    "    # Set up the invariant equation: dG/dx @ eutectic point = ΔG/ΔX from phases adjacent to eutectic point\n",
    "    x1, g1 = adj_lhs_phase['comp'], adj_lhs_phase['energy']\n",
    "    x2, t2 = known_eutectic_point[0], known_eutectic_point[1]\n",
    "    x3, g3 = adj_rhs_phase['comp'], adj_rhs_phase['energy']\n",
    "    inv_eqn1 = sp.Eq(G_prime.subs({xb: x2, t: t2}), (g3 - g1) / (x3 - x1))\n",
    "    inv_eqn2 = sp.Eq(G_liq.subs({xb: x2, t: t2}) + G_prime.subs({xb: x2, t: t2}) * (x1 - x2), g1)\n",
    "\n",
    "    # With one constraint, we can solve for the value of a single parameter with a 'guess' for the other three\n",
    "    # Here, the 'guessed' parameters are c=L1_a, d=L1_b. We are solving for the value of a=L0_a and b=L0_b\n",
    "    bl.guess_symbols = (c, d)\n",
    "    bl.constraints = sp.solve([inv_eqn1, inv_eqn2], (a, b))\n",
    "    mae = bl.f([bl.get_L1_a(), bl.get_L1_b()]) # This will update L0_a and L0_b, returning the liquidus MAE\n",
    "    print(f\"Adjusted complete liquidus MAE: {int(mae)}K\")\n",
    "    print(f\"Adjusted parameters: {bl._params}\")\n"
   ]
  }
 ],
 "metadata": {
  "kernelspec": {
   "display_name": "gliquidenv",
   "language": "python",
   "name": "python3"
  },
  "language_info": {
   "codemirror_mode": {
    "name": "ipython",
    "version": 3
   },
   "file_extension": ".py",
   "mimetype": "text/x-python",
   "name": "python",
   "nbconvert_exporter": "python",
   "pygments_lexer": "ipython3",
   "version": "3.9.21"
  }
 },
 "nbformat": 4,
 "nbformat_minor": 2
}
